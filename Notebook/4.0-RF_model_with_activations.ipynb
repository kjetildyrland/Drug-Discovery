{
 "cells": [
  {
   "cell_type": "markdown",
   "metadata": {},
   "source": [
    "# Drug Discovery Project"
   ]
  },
  {
   "cell_type": "markdown",
   "metadata": {},
   "source": [
    "## DATASETS:\n",
    "(a) Carbonic Anhydrase II (ChEMBL205), a protein lyase,  \n",
    "(b) Cyclin-dependent kinase 2 (CHEMBL301), a protein kinase,  \n",
    "(c) ether-a-go-go-related gene potassium channel 1 (HERG) (CHEMBL240), a voltage-gated ion channel,  \n",
    "(d) Dopamine D4 receptor (CHEMBL219), a monoamine GPCR,  \n",
    "(e) Coagulation factor X (CHEMBL244), a serine protease,  \n",
    "(f) Cannabinoid CB1 receptor (CHEMBL218), a lipid-like GPCR and  \n",
    "(g) Cytochrome P450 19A1 (CHEMBL1978), a cytochrome P450.  \n",
    "The activity classes were selected based on data availability and as representatives of therapeutically important target classes or as anti-targets."
   ]
  },
  {
   "cell_type": "code",
   "execution_count": 1,
   "metadata": {},
   "outputs": [],
   "source": [
    "top_mcc_scores = {\n",
    "    \n",
    "    'CHEMBL205': 0.862,\n",
    "    'CHEMBL301': 0.926,\n",
    "    'CHEMBL240': 0.884,\n",
    "    'CHEMBL219': 0.887,\n",
    "    'CHEMBL244': 0.983,\n",
    "    'CHEMBL218': 0.941,\n",
    "    'CHEMBL1978': 0.904}"
   ]
  },
  {
   "cell_type": "code",
   "execution_count": 2,
   "metadata": {},
   "outputs": [],
   "source": [
    "# Import\n",
    "import pandas as pd\n",
    "import numpy as np\n",
    "from pathlib import Path"
   ]
  },
  {
   "cell_type": "code",
   "execution_count": 3,
   "metadata": {},
   "outputs": [],
   "source": [
    "path = Path('../dataset/13321_2017_226_MOESM1_ESM/')\n",
    "#df = pd.read_csv('../dataset/13321_2017_226_MOESM1_ESM/CHEMBL205_cl.csv', index_col=0)"
   ]
  },
  {
   "cell_type": "code",
   "execution_count": 4,
   "metadata": {
    "scrolled": true
   },
   "outputs": [
    {
     "data": {
      "text/plain": [
       "[PosixPath('../dataset/13321_2017_226_MOESM1_ESM/RdkitDescriptors.py'),\n",
       " PosixPath('../dataset/13321_2017_226_MOESM1_ESM/CHEMBL205_cl_ecfp_1024.csv'),\n",
       " PosixPath('../dataset/13321_2017_226_MOESM1_ESM/CHEMBL218_cl.csv'),\n",
       " PosixPath('../dataset/13321_2017_226_MOESM1_ESM/CHEMBL205_cl.csv'),\n",
       " PosixPath('../dataset/13321_2017_226_MOESM1_ESM/CHEMBL1978_cl.csv'),\n",
       " PosixPath('../dataset/13321_2017_226_MOESM1_ESM/CHEMBL244_cl.csv'),\n",
       " PosixPath('../dataset/13321_2017_226_MOESM1_ESM/CHEMBL240_cl.csv'),\n",
       " PosixPath('../dataset/13321_2017_226_MOESM1_ESM/CHEMBL301_cl.csv'),\n",
       " PosixPath('../dataset/13321_2017_226_MOESM1_ESM/CHEMBL219_cl.csv'),\n",
       " PosixPath('../dataset/13321_2017_226_MOESM1_ESM/chembl205-data-with-ecfp-activations.csv'),\n",
       " PosixPath('../dataset/13321_2017_226_MOESM1_ESM/.ipynb_checkpoints'),\n",
       " PosixPath('../dataset/13321_2017_226_MOESM1_ESM/mol_images'),\n",
       " PosixPath('../dataset/13321_2017_226_MOESM1_ESM/CHEMBL218_cl_ecfp_1024.csv')]"
      ]
     },
     "execution_count": 4,
     "metadata": {},
     "output_type": "execute_result"
    }
   ],
   "source": [
    "#df.head()\n",
    "list(path.iterdir())"
   ]
  },
  {
   "cell_type": "markdown",
   "metadata": {},
   "source": [
    "# Run the functions on a file from dataset and store the results"
   ]
  },
  {
   "cell_type": "code",
   "execution_count": 5,
   "metadata": {},
   "outputs": [],
   "source": [
    "dataset='chembl205'"
   ]
  },
  {
   "cell_type": "code",
   "execution_count": 6,
   "metadata": {},
   "outputs": [],
   "source": [
    "df = pd.read_csv(path/f'{dataset}-data-with-ecfp-activations.csv')"
   ]
  },
  {
   "cell_type": "code",
   "execution_count": 7,
   "metadata": {},
   "outputs": [
    {
     "data": {
      "text/html": [
       "<div>\n",
       "<style scoped>\n",
       "    .dataframe tbody tr th:only-of-type {\n",
       "        vertical-align: middle;\n",
       "    }\n",
       "\n",
       "    .dataframe tbody tr th {\n",
       "        vertical-align: top;\n",
       "    }\n",
       "\n",
       "    .dataframe thead th {\n",
       "        text-align: right;\n",
       "    }\n",
       "</style>\n",
       "<table border=\"1\" class=\"dataframe\">\n",
       "  <thead>\n",
       "    <tr style=\"text-align: right;\">\n",
       "      <th></th>\n",
       "      <th>CID</th>\n",
       "      <th>SMILES</th>\n",
       "      <th>Activity</th>\n",
       "      <th>ECFP4_1</th>\n",
       "      <th>ECFP4_2</th>\n",
       "      <th>ECFP4_3</th>\n",
       "      <th>ECFP4_4</th>\n",
       "      <th>ECFP4_5</th>\n",
       "      <th>ECFP4_6</th>\n",
       "      <th>ECFP4_7</th>\n",
       "      <th>...</th>\n",
       "      <th>act_502</th>\n",
       "      <th>act_503</th>\n",
       "      <th>act_504</th>\n",
       "      <th>act_505</th>\n",
       "      <th>act_506</th>\n",
       "      <th>act_507</th>\n",
       "      <th>act_508</th>\n",
       "      <th>act_509</th>\n",
       "      <th>act_510</th>\n",
       "      <th>act_511</th>\n",
       "    </tr>\n",
       "  </thead>\n",
       "  <tbody>\n",
       "    <tr>\n",
       "      <th>0</th>\n",
       "      <td>CHEMBL188002</td>\n",
       "      <td>S(=O)(=O)(N)c1cc(N/C(/S)=N\\c2cc(C(=O)[O-])c(cc...</td>\n",
       "      <td>1</td>\n",
       "      <td>0</td>\n",
       "      <td>0</td>\n",
       "      <td>0</td>\n",
       "      <td>0</td>\n",
       "      <td>0</td>\n",
       "      <td>0</td>\n",
       "      <td>0</td>\n",
       "      <td>...</td>\n",
       "      <td>-20.266380</td>\n",
       "      <td>-58.616051</td>\n",
       "      <td>-36.874432</td>\n",
       "      <td>-84.006630</td>\n",
       "      <td>-28.130043</td>\n",
       "      <td>-14.237524</td>\n",
       "      <td>-30.243919</td>\n",
       "      <td>-89.924866</td>\n",
       "      <td>-25.477444</td>\n",
       "      <td>-13.185804</td>\n",
       "    </tr>\n",
       "    <tr>\n",
       "      <th>1</th>\n",
       "      <td>CHEMBL364127</td>\n",
       "      <td>Clc1ccc(cc1)C(=O)NC1Cc2cc(S(=O)(=O)N)ccc2C1</td>\n",
       "      <td>1</td>\n",
       "      <td>0</td>\n",
       "      <td>0</td>\n",
       "      <td>0</td>\n",
       "      <td>0</td>\n",
       "      <td>0</td>\n",
       "      <td>0</td>\n",
       "      <td>0</td>\n",
       "      <td>...</td>\n",
       "      <td>-27.719458</td>\n",
       "      <td>-79.247879</td>\n",
       "      <td>-71.388512</td>\n",
       "      <td>-117.074829</td>\n",
       "      <td>-87.031128</td>\n",
       "      <td>-25.362850</td>\n",
       "      <td>-91.691391</td>\n",
       "      <td>-97.514877</td>\n",
       "      <td>-159.834167</td>\n",
       "      <td>37.859943</td>\n",
       "    </tr>\n",
       "    <tr>\n",
       "      <th>2</th>\n",
       "      <td>CHEMBL1683469</td>\n",
       "      <td>S(=O)(=O)(N)c1ccc(cc1)CNS(=O)(=O)CC12CCC(CC1=O...</td>\n",
       "      <td>1</td>\n",
       "      <td>0</td>\n",
       "      <td>0</td>\n",
       "      <td>0</td>\n",
       "      <td>0</td>\n",
       "      <td>0</td>\n",
       "      <td>0</td>\n",
       "      <td>0</td>\n",
       "      <td>...</td>\n",
       "      <td>-27.371447</td>\n",
       "      <td>-91.037331</td>\n",
       "      <td>-82.402603</td>\n",
       "      <td>-140.058167</td>\n",
       "      <td>-110.499306</td>\n",
       "      <td>-35.576706</td>\n",
       "      <td>-118.137932</td>\n",
       "      <td>-114.797058</td>\n",
       "      <td>-210.545105</td>\n",
       "      <td>58.341396</td>\n",
       "    </tr>\n",
       "    <tr>\n",
       "      <th>3</th>\n",
       "      <td>CHEMBL52564</td>\n",
       "      <td>Oc1ccccc1\\C=C\\C(=O)[O-]</td>\n",
       "      <td>1</td>\n",
       "      <td>0</td>\n",
       "      <td>0</td>\n",
       "      <td>0</td>\n",
       "      <td>0</td>\n",
       "      <td>0</td>\n",
       "      <td>0</td>\n",
       "      <td>0</td>\n",
       "      <td>...</td>\n",
       "      <td>-12.962411</td>\n",
       "      <td>-65.378036</td>\n",
       "      <td>-52.445572</td>\n",
       "      <td>-105.202003</td>\n",
       "      <td>-54.042187</td>\n",
       "      <td>-23.038553</td>\n",
       "      <td>-45.937416</td>\n",
       "      <td>-107.758331</td>\n",
       "      <td>-74.264862</td>\n",
       "      <td>15.236348</td>\n",
       "    </tr>\n",
       "    <tr>\n",
       "      <th>4</th>\n",
       "      <td>CHEMBL21427</td>\n",
       "      <td>OB(O)c1ccc(OC)cc1</td>\n",
       "      <td>1</td>\n",
       "      <td>0</td>\n",
       "      <td>0</td>\n",
       "      <td>0</td>\n",
       "      <td>0</td>\n",
       "      <td>0</td>\n",
       "      <td>0</td>\n",
       "      <td>0</td>\n",
       "      <td>...</td>\n",
       "      <td>-14.881062</td>\n",
       "      <td>-61.484863</td>\n",
       "      <td>-52.275417</td>\n",
       "      <td>-100.329498</td>\n",
       "      <td>-55.440769</td>\n",
       "      <td>-24.665730</td>\n",
       "      <td>-48.966393</td>\n",
       "      <td>-98.103355</td>\n",
       "      <td>-83.055305</td>\n",
       "      <td>20.628500</td>\n",
       "    </tr>\n",
       "  </tbody>\n",
       "</table>\n",
       "<p>5 rows × 1541 columns</p>\n",
       "</div>"
      ],
      "text/plain": [
       "             CID                                             SMILES  Activity  \\\n",
       "0   CHEMBL188002  S(=O)(=O)(N)c1cc(N/C(/S)=N\\c2cc(C(=O)[O-])c(cc...         1   \n",
       "1   CHEMBL364127        Clc1ccc(cc1)C(=O)NC1Cc2cc(S(=O)(=O)N)ccc2C1         1   \n",
       "2  CHEMBL1683469  S(=O)(=O)(N)c1ccc(cc1)CNS(=O)(=O)CC12CCC(CC1=O...         1   \n",
       "3    CHEMBL52564                            Oc1ccccc1\\C=C\\C(=O)[O-]         1   \n",
       "4    CHEMBL21427                                  OB(O)c1ccc(OC)cc1         1   \n",
       "\n",
       "   ECFP4_1  ECFP4_2  ECFP4_3  ECFP4_4  ECFP4_5  ECFP4_6  ECFP4_7  ...  \\\n",
       "0        0        0        0        0        0        0        0  ...   \n",
       "1        0        0        0        0        0        0        0  ...   \n",
       "2        0        0        0        0        0        0        0  ...   \n",
       "3        0        0        0        0        0        0        0  ...   \n",
       "4        0        0        0        0        0        0        0  ...   \n",
       "\n",
       "     act_502    act_503    act_504     act_505     act_506    act_507  \\\n",
       "0 -20.266380 -58.616051 -36.874432  -84.006630  -28.130043 -14.237524   \n",
       "1 -27.719458 -79.247879 -71.388512 -117.074829  -87.031128 -25.362850   \n",
       "2 -27.371447 -91.037331 -82.402603 -140.058167 -110.499306 -35.576706   \n",
       "3 -12.962411 -65.378036 -52.445572 -105.202003  -54.042187 -23.038553   \n",
       "4 -14.881062 -61.484863 -52.275417 -100.329498  -55.440769 -24.665730   \n",
       "\n",
       "      act_508     act_509     act_510    act_511  \n",
       "0  -30.243919  -89.924866  -25.477444 -13.185804  \n",
       "1  -91.691391  -97.514877 -159.834167  37.859943  \n",
       "2 -118.137932 -114.797058 -210.545105  58.341396  \n",
       "3  -45.937416 -107.758331  -74.264862  15.236348  \n",
       "4  -48.966393  -98.103355  -83.055305  20.628500  \n",
       "\n",
       "[5 rows x 1541 columns]"
      ]
     },
     "execution_count": 7,
     "metadata": {},
     "output_type": "execute_result"
    }
   ],
   "source": [
    "df.head()"
   ]
  },
  {
   "cell_type": "markdown",
   "metadata": {},
   "source": [
    "# Train test split"
   ]
  },
  {
   "cell_type": "code",
   "execution_count": 8,
   "metadata": {},
   "outputs": [],
   "source": [
    "from sklearn.model_selection import train_test_split, KFold"
   ]
  },
  {
   "cell_type": "code",
   "execution_count": 22,
   "metadata": {},
   "outputs": [
    {
     "data": {
      "text/plain": [
       "False    13455\n",
       "True      4486\n",
       "Name: is_valid, dtype: int64"
      ]
     },
     "execution_count": 22,
     "metadata": {},
     "output_type": "execute_result"
    }
   ],
   "source": [
    "df.is_valid.value_counts()"
   ]
  },
  {
   "cell_type": "code",
   "execution_count": 21,
   "metadata": {},
   "outputs": [],
   "source": [
    "train = df.loc[df.is_valid==False]\n",
    "test = df.loc[df.is_valid==True]"
   ]
  },
  {
   "cell_type": "code",
   "execution_count": 28,
   "metadata": {},
   "outputs": [
    {
     "name": "stdout",
     "output_type": "stream",
     "text": [
      "<class 'pandas.core.frame.DataFrame'>\n",
      "Int64Index: 13455 entries, 1 to 17940\n",
      "Columns: 1541 entries, CID to act_511\n",
      "dtypes: bool(1), float64(512), int64(1025), object(3)\n",
      "memory usage: 158.2+ MB\n"
     ]
    }
   ],
   "source": [
    "train.info()"
   ]
  },
  {
   "cell_type": "code",
   "execution_count": 10,
   "metadata": {},
   "outputs": [],
   "source": [
    "X_train, y_train = train.drop([\"CID\", \"SMILES\", \"Activity\", \"Image\"], axis=1), train[\"Activity\"]\n",
    "X_test, y_test = test.drop([\"CID\", \"SMILES\", \"Activity\", \"Image\"], axis=1), test[\"Activity\"]"
   ]
  },
  {
   "cell_type": "code",
   "execution_count": 23,
   "metadata": {},
   "outputs": [
    {
     "data": {
      "text/plain": [
       "4486"
      ]
     },
     "execution_count": 23,
     "metadata": {},
     "output_type": "execute_result"
    }
   ],
   "source": [
    "y_test.count()"
   ]
  },
  {
   "cell_type": "code",
   "execution_count": 27,
   "metadata": {},
   "outputs": [
    {
     "name": "stdout",
     "output_type": "stream",
     "text": [
      "<class 'pandas.core.frame.DataFrame'>\n",
      "Int64Index: 10764 entries, 1 to 17938\n",
      "Columns: 1537 entries, ECFP4_1 to act_511\n",
      "dtypes: bool(1), float64(512), int64(1024)\n",
      "memory usage: 126.2 MB\n"
     ]
    },
    {
     "data": {
      "text/plain": [
       "(10764, None)"
      ]
     },
     "execution_count": 27,
     "metadata": {},
     "output_type": "execute_result"
    }
   ],
   "source": [
    "y_train.count(), X_train.info()"
   ]
  },
  {
   "cell_type": "markdown",
   "metadata": {},
   "source": [
    "# Random Forest"
   ]
  },
  {
   "cell_type": "code",
   "execution_count": 13,
   "metadata": {},
   "outputs": [],
   "source": [
    "from sklearn.ensemble import RandomForestClassifier"
   ]
  },
  {
   "cell_type": "code",
   "execution_count": 14,
   "metadata": {},
   "outputs": [],
   "source": [
    "from sklearn.metrics import auc,roc_auc_score,recall_score,precision_score,f1_score\n",
    "from  sklearn.metrics import matthews_corrcoef\n",
    "from sklearn.metrics import accuracy_score"
   ]
  },
  {
   "cell_type": "code",
   "execution_count": 55,
   "metadata": {},
   "outputs": [],
   "source": [
    "# train method for Random Forest\n",
    "def train_rf(X_train, X_test, y_train, y_test, n_estimators=5, criterion='gini', max_features='log2'):\n",
    "\n",
    "    \n",
    "    rf = RandomForestClassifier(n_estimators=n_estimators, criterion=criterion, min_samples_split=2, max_features=max_features, \n",
    "                               max_leaf_nodes=None,bootstrap=False,oob_score=False, n_jobs=-1, random_state=69)\n",
    "    \n",
    "    rf.fit(X_train,y_train)\n",
    "    y_pred= rf.predict(X_test)\n",
    "    y_pred_prob=rf.predict_proba(X_test)\n",
    "    \n",
    "    temp=[]\n",
    "    for j in range(len(y_pred_prob)):\n",
    "        temp.append(y_pred_prob[j][1])\n",
    "    auc=roc_auc_score(np.array(y_test),np.array(temp))\n",
    "    acc2=accuracy_score(y_test,y_pred)\n",
    "    mcc=matthews_corrcoef(y_test,y_pred)\n",
    "    Recall=recall_score(y_test, y_pred,pos_label=1)\n",
    "    Precision=precision_score(y_test, y_pred,pos_label=1)\n",
    "    F1_score=f1_score(y_test, y_pred,pos_label=1)\n",
    "\n",
    "    return auc,acc2,mcc,Recall,Precision,F1_score"
   ]
  },
  {
   "cell_type": "code",
   "execution_count": 62,
   "metadata": {},
   "outputs": [
    {
     "name": "stdout",
     "output_type": "stream",
     "text": [
      "Training on 512 feature\n",
      "\n",
      "AUC score:0.9529763965419419\n",
      "Accuracy: 0.9701292911279537\n",
      "Matthews: 0.8166717881926069\n",
      "Recall: 0.8186274509803921\n",
      "Precision: 0.8477157360406091\n",
      "F1 score: 0.8329177057356608\n",
      "\n"
     ]
    }
   ],
   "source": [
    "auc,acc2,mcc,Recall,Precision,F1_score, _ = train_rf(X_train, X_test, y_train, y_test,\n",
    "                                                      n_estimators=100, criterion='entropy', max_features='sqrt',\n",
    "                                                     features='act_')\n",
    "    \n",
    "print(f'AUC score:{auc}')\n",
    "print(f'Accuracy: {acc2}')\n",
    "print(f'Matthews: {mcc}')\n",
    "print(f'Recall: {Recall}')\n",
    "print(f'Precision: {Precision}')\n",
    "print(f'F1 score: {F1_score}')\n",
    "print()"
   ]
  },
  {
   "cell_type": "markdown",
   "metadata": {},
   "source": [
    "# Train RF with settings grid from paper"
   ]
  },
  {
   "cell_type": "code",
   "execution_count": 63,
   "metadata": {},
   "outputs": [],
   "source": [
    "from sklearn.model_selection import ParameterGrid"
   ]
  },
  {
   "cell_type": "code",
   "execution_count": 64,
   "metadata": {},
   "outputs": [],
   "source": [
    "param_grid = {\n",
    "    'n_estimators': [10,50,100,200,300,700], \n",
    "    'criterion': ['gini', 'entropy'],\n",
    "    'max_features': ['log2', 'sqrt']}\n",
    "\n",
    "param_grid = ParameterGrid(param_grid)"
   ]
  },
  {
   "cell_type": "code",
   "execution_count": 66,
   "metadata": {},
   "outputs": [
    {
     "name": "stdout",
     "output_type": "stream",
     "text": [
      "Testing combination: {'criterion': 'gini', 'max_features': 'log2', 'n_estimators': 10}\n",
      "Training on 1024 feature\n",
      "\n",
      "Average ROCAUC of the folds: 0.969287316446932\n",
      "Average accuracy of the folds: 0.9654480606330806\n",
      "Average Matthews correlation of the folds: 0.7758973576847494\n",
      "Average recall of the folds: 0.7083333333333334\n",
      "Average precision of the folds: 0.8892307692307693\n",
      "Average f1 score of the folds: 0.7885402455661664\n",
      "\n",
      "Testing combination: {'criterion': 'gini', 'max_features': 'log2', 'n_estimators': 50}\n",
      "Training on 1024 feature\n",
      "\n",
      "Average ROCAUC of the folds: 0.9824122022521613\n",
      "Average accuracy of the folds: 0.9707980383415069\n",
      "Average Matthews correlation of the folds: 0.8138302537014964\n",
      "Average recall of the folds: 0.7647058823529411\n",
      "Average precision of the folds: 0.899135446685879\n",
      "Average f1 score of the folds: 0.8264900662251655\n",
      "\n",
      "Testing combination: {'criterion': 'gini', 'max_features': 'log2', 'n_estimators': 100}\n",
      "Training on 1024 feature\n",
      "\n",
      "Average ROCAUC of the folds: 0.9849031508140285\n",
      "Average accuracy of the folds: 0.9707980383415069\n",
      "Average Matthews correlation of the folds: 0.8145363334143343\n",
      "Average recall of the folds: 0.7720588235294118\n",
      "Average precision of the folds: 0.8923512747875354\n",
      "Average f1 score of the folds: 0.8278580814717477\n",
      "\n",
      "Testing combination: {'criterion': 'gini', 'max_features': 'log2', 'n_estimators': 200}\n",
      "Training on 1024 feature\n",
      "\n",
      "Average ROCAUC of the folds: 0.9869180874900229\n",
      "Average accuracy of the folds: 0.9716897012929113\n",
      "Average Matthews correlation of the folds: 0.8207683870383751\n",
      "Average recall of the folds: 0.7818627450980392\n",
      "Average precision of the folds: 0.8935574229691877\n",
      "Average f1 score of the folds: 0.8339869281045752\n",
      "\n",
      "Testing combination: {'criterion': 'gini', 'max_features': 'log2', 'n_estimators': 300}\n",
      "Training on 1024 feature\n",
      "\n",
      "Average ROCAUC of the folds: 0.9878830333015993\n",
      "Average accuracy of the folds: 0.9705751226036559\n",
      "Average Matthews correlation of the folds: 0.813738649403107\n",
      "Average recall of the folds: 0.7769607843137255\n",
      "Average precision of the folds: 0.8854748603351955\n",
      "Average f1 score of the folds: 0.8276762402088773\n",
      "\n",
      "Testing combination: {'criterion': 'gini', 'max_features': 'log2', 'n_estimators': 700}\n",
      "Training on 1024 feature\n",
      "\n",
      "Average ROCAUC of the folds: 0.9874289588321842\n",
      "Average accuracy of the folds: 0.971020954079358\n",
      "Average Matthews correlation of the folds: 0.8168598577517443\n",
      "Average recall of the folds: 0.7818627450980392\n",
      "Average precision of the folds: 0.8861111111111111\n",
      "Average f1 score of the folds: 0.8307291666666667\n",
      "\n",
      "Testing combination: {'criterion': 'gini', 'max_features': 'sqrt', 'n_estimators': 10}\n",
      "Training on 1024 feature\n",
      "\n",
      "Average ROCAUC of the folds: 0.9693771697006415\n",
      "Average accuracy of the folds: 0.9667855550601873\n",
      "Average Matthews correlation of the folds: 0.7883133489239316\n",
      "Average recall of the folds: 0.7475490196078431\n",
      "Average precision of the folds: 0.8689458689458689\n",
      "Average f1 score of the folds: 0.8036890645586298\n",
      "\n",
      "Testing combination: {'criterion': 'gini', 'max_features': 'sqrt', 'n_estimators': 50}\n",
      "Training on 1024 feature\n",
      "\n",
      "Average ROCAUC of the folds: 0.979355388550712\n",
      "Average accuracy of the folds: 0.971020954079358\n",
      "Average Matthews correlation of the folds: 0.819467316637404\n",
      "Average recall of the folds: 0.803921568627451\n",
      "Average precision of the folds: 0.8677248677248677\n",
      "Average f1 score of the folds: 0.8346055979643766\n",
      "\n",
      "Testing combination: {'criterion': 'gini', 'max_features': 'sqrt', 'n_estimators': 100}\n",
      "Training on 1024 feature\n",
      "\n",
      "Average ROCAUC of the folds: 0.9788907961418998\n",
      "Average accuracy of the folds: 0.9712438698172091\n",
      "Average Matthews correlation of the folds: 0.8213359427559646\n",
      "Average recall of the folds: 0.8088235294117647\n",
      "Average precision of the folds: 0.8661417322834646\n",
      "Average f1 score of the folds: 0.8365019011406843\n",
      "\n",
      "Testing combination: {'criterion': 'gini', 'max_features': 'sqrt', 'n_estimators': 200}\n",
      "Training on 1024 feature\n",
      "\n",
      "Average ROCAUC of the folds: 0.9808979194914847\n",
      "Average accuracy of the folds: 0.9725813642443156\n",
      "Average Matthews correlation of the folds: 0.8302884421519848\n",
      "Average recall of the folds: 0.821078431372549\n",
      "Average precision of the folds: 0.8701298701298701\n",
      "Average f1 score of the folds: 0.8448928121059268\n",
      "\n",
      "Testing combination: {'criterion': 'gini', 'max_features': 'sqrt', 'n_estimators': 300}\n",
      "Training on 1024 feature\n",
      "\n",
      "Average ROCAUC of the folds: 0.9810433675677236\n",
      "Average accuracy of the folds: 0.9728042799821668\n",
      "Average Matthews correlation of the folds: 0.8315195254325867\n",
      "Average recall of the folds: 0.821078431372549\n",
      "Average precision of the folds: 0.8723958333333334\n",
      "Average f1 score of the folds: 0.845959595959596\n",
      "\n",
      "Testing combination: {'criterion': 'gini', 'max_features': 'sqrt', 'n_estimators': 700}\n",
      "Training on 1024 feature\n",
      "\n",
      "Average ROCAUC of the folds: 0.9809562189270018\n",
      "Average accuracy of the folds: 0.9728042799821668\n",
      "Average Matthews correlation of the folds: 0.8315195254325867\n",
      "Average recall of the folds: 0.821078431372549\n",
      "Average precision of the folds: 0.8723958333333334\n",
      "Average f1 score of the folds: 0.845959595959596\n",
      "\n",
      "Testing combination: {'criterion': 'entropy', 'max_features': 'log2', 'n_estimators': 10}\n",
      "Training on 1024 feature\n",
      "\n",
      "Average ROCAUC of the folds: 0.9703910990585543\n",
      "Average accuracy of the folds: 0.9676772180115916\n",
      "Average Matthews correlation of the folds: 0.7919589190669805\n",
      "Average recall of the folds: 0.7328431372549019\n",
      "Average precision of the folds: 0.8925373134328358\n",
      "Average f1 score of the folds: 0.8048452220726784\n",
      "\n",
      "Testing combination: {'criterion': 'entropy', 'max_features': 'log2', 'n_estimators': 50}\n",
      "Training on 1024 feature\n",
      "\n",
      "Average ROCAUC of the folds: 0.9832452230524382\n",
      "Average accuracy of the folds: 0.971020954079358\n",
      "Average Matthews correlation of the folds: 0.81712633693644\n",
      "Average recall of the folds: 0.7843137254901961\n",
      "Average precision of the folds: 0.8839779005524862\n",
      "Average f1 score of the folds: 0.8311688311688311\n",
      "\n",
      "Testing combination: {'criterion': 'entropy', 'max_features': 'log2', 'n_estimators': 100}\n",
      "Training on 1024 feature\n",
      "\n",
      "Average ROCAUC of the folds: 0.9870629345411535\n",
      "Average accuracy of the folds: 0.9714667855550602\n",
      "Average Matthews correlation of the folds: 0.8202380683239205\n",
      "Average recall of the folds: 0.7892156862745098\n",
      "Average precision of the folds: 0.8846153846153846\n",
      "Average f1 score of the folds: 0.8341968911917099\n",
      "\n",
      "Testing combination: {'criterion': 'entropy', 'max_features': 'log2', 'n_estimators': 200}\n",
      "Training on 1024 feature\n",
      "\n",
      "Average ROCAUC of the folds: 0.9888071094058025\n",
      "Average accuracy of the folds: 0.9716897012929113\n",
      "Average Matthews correlation of the folds: 0.8220616199764084\n",
      "Average recall of the folds: 0.7941176470588235\n",
      "Average precision of the folds: 0.8828337874659401\n",
      "Average f1 score of the folds: 0.8361290322580645\n",
      "\n",
      "Testing combination: {'criterion': 'entropy', 'max_features': 'log2', 'n_estimators': 300}\n",
      "Training on 1024 feature\n",
      "\n",
      "Average ROCAUC of the folds: 0.9886562521035879\n",
      "Average accuracy of the folds: 0.9714667855550602\n",
      "Average Matthews correlation of the folds: 0.8199727109343596\n",
      "Average recall of the folds: 0.7867647058823529\n",
      "Average precision of the folds: 0.8867403314917127\n",
      "Average f1 score of the folds: 0.8337662337662338\n",
      "\n",
      "Testing combination: {'criterion': 'entropy', 'max_features': 'log2', 'n_estimators': 700}\n",
      "Training on 1024 feature\n",
      "\n",
      "Average ROCAUC of the folds: 0.9891295593764726\n",
      "Average accuracy of the folds: 0.9719126170307624\n",
      "Average Matthews correlation of the folds: 0.8230773003911601\n",
      "Average recall of the folds: 0.7916666666666666\n",
      "Average precision of the folds: 0.8873626373626373\n",
      "Average f1 score of the folds: 0.8367875647668395\n",
      "\n",
      "Testing combination: {'criterion': 'entropy', 'max_features': 'sqrt', 'n_estimators': 10}\n",
      "Training on 1024 feature\n",
      "\n",
      "Average ROCAUC of the folds: 0.969766934483455\n",
      "Average accuracy of the folds: 0.9692376281765492\n",
      "Average Matthews correlation of the folds: 0.806348658128795\n",
      "Average recall of the folds: 0.7794117647058824\n",
      "Average precision of the folds: 0.8688524590163934\n",
      "Average f1 score of the folds: 0.8217054263565892\n",
      "\n",
      "Testing combination: {'criterion': 'entropy', 'max_features': 'sqrt', 'n_estimators': 50}\n",
      "Training on 1024 feature\n",
      "\n",
      "Average ROCAUC of the folds: 0.980438736308648\n",
      "Average accuracy of the folds: 0.971020954079358\n",
      "Average Matthews correlation of the folds: 0.8197847830610261\n",
      "Average recall of the folds: 0.8063725490196079\n",
      "Average precision of the folds: 0.8657894736842106\n",
      "Average f1 score of the folds: 0.8350253807106599\n",
      "\n",
      "Testing combination: {'criterion': 'entropy', 'max_features': 'sqrt', 'n_estimators': 100}\n",
      "Training on 1024 feature\n",
      "\n"
     ]
    },
    {
     "name": "stdout",
     "output_type": "stream",
     "text": [
      "Average ROCAUC of the folds: 0.9843129441575551\n",
      "Average accuracy of the folds: 0.9723584485064646\n",
      "Average Matthews correlation of the folds: 0.8281374576264476\n",
      "Average recall of the folds: 0.8137254901960784\n",
      "Average precision of the folds: 0.8736842105263158\n",
      "Average f1 score of the folds: 0.8426395939086295\n",
      "\n",
      "Testing combination: {'criterion': 'entropy', 'max_features': 'sqrt', 'n_estimators': 200}\n",
      "Training on 1024 feature\n",
      "\n",
      "Average ROCAUC of the folds: 0.983894029656983\n",
      "Average accuracy of the folds: 0.9728042799821668\n",
      "Average Matthews correlation of the folds: 0.8318264482528194\n",
      "Average recall of the folds: 0.8235294117647058\n",
      "Average precision of the folds: 0.8704663212435233\n",
      "Average f1 score of the folds: 0.8463476070528967\n",
      "\n",
      "Testing combination: {'criterion': 'entropy', 'max_features': 'sqrt', 'n_estimators': 300}\n",
      "Training on 1024 feature\n",
      "\n",
      "Average ROCAUC of the folds: 0.9859011530065681\n",
      "Average accuracy of the folds: 0.9725813642443156\n",
      "Average Matthews correlation of the folds: 0.8302884421519848\n",
      "Average recall of the folds: 0.821078431372549\n",
      "Average precision of the folds: 0.8701298701298701\n",
      "Average f1 score of the folds: 0.8448928121059268\n",
      "\n",
      "Testing combination: {'criterion': 'entropy', 'max_features': 'sqrt', 'n_estimators': 700}\n",
      "Training on 1024 feature\n",
      "\n",
      "Average ROCAUC of the folds: 0.9858735058515805\n",
      "Average accuracy of the folds: 0.9725813642443156\n",
      "Average Matthews correlation of the folds: 0.8299808932166253\n",
      "Average recall of the folds: 0.8186274509803921\n",
      "Average precision of the folds: 0.8720626631853786\n",
      "Average f1 score of the folds: 0.8445006321112516\n",
      "\n"
     ]
    }
   ],
   "source": [
    "for setting in param_grid:\n",
    "    print(f\"Testing combination: {setting}\")\n",
    "    # Crossval using split from earlier\n",
    "    \n",
    "    aucs, accs, mccs, recalls, precs, f1_scores = [], [], [], [], [], []\n",
    "   \n",
    "        \n",
    "    auc,acc2,mcc,recall,precision,F1_score, _ = train_rf(X_train, X_test, y_train, y_test, \n",
    "                                                             n_estimators=setting['n_estimators'], \n",
    "                                                             criterion=setting['criterion'],\n",
    "                                                             max_features=setting['max_features'])\n",
    "        \n",
    "    aucs.append(auc)\n",
    "    accs.append(acc2)\n",
    "    mccs.append(mcc)\n",
    "    recalls.append(recall)\n",
    "    precs.append(precision)\n",
    "    f1_scores.append(F1_score)\n",
    "        \n",
    "    print(f\"Average ROCAUC of the folds: {np.mean(aucs)}\")\n",
    "    print(f\"Average accuracy of the folds: {np.mean(accs)}\")\n",
    "    print(f\"Average Matthews correlation of the folds: {np.mean(mccs)}\")\n",
    "    print(f\"Average recall of the folds: {np.mean(recalls)}\")\n",
    "    print(f\"Average precision of the folds: {np.mean(precs)}\")\n",
    "    print(f\"Average f1 score of the folds: {np.mean(f1_scores)}\")\n",
    "    print()"
   ]
  },
  {
   "cell_type": "code",
   "execution_count": 67,
   "metadata": {},
   "outputs": [
    {
     "data": {
      "text/plain": [
       "0.8299808932166253"
      ]
     },
     "execution_count": 67,
     "metadata": {},
     "output_type": "execute_result"
    }
   ],
   "source": [
    "np.mean(mccs)"
   ]
  },
  {
   "cell_type": "code",
   "execution_count": null,
   "metadata": {},
   "outputs": [],
   "source": [
    "np.to"
   ]
  },
  {
   "cell_type": "code",
   "execution_count": null,
   "metadata": {},
   "outputs": [],
   "source": []
  },
  {
   "cell_type": "code",
   "execution_count": null,
   "metadata": {},
   "outputs": [],
   "source": []
  }
 ],
 "metadata": {
  "kernelspec": {
   "display_name": "Python 3",
   "language": "python",
   "name": "python3"
  },
  "language_info": {
   "codemirror_mode": {
    "name": "ipython",
    "version": 3
   },
   "file_extension": ".py",
   "mimetype": "text/x-python",
   "name": "python",
   "nbconvert_exporter": "python",
   "pygments_lexer": "ipython3",
   "version": "3.8.6"
  }
 },
 "nbformat": 4,
 "nbformat_minor": 4
}
