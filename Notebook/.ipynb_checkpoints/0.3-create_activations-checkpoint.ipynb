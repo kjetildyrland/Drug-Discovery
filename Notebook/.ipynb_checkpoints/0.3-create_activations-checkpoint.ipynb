{
 "cells": [
  {
   "cell_type": "markdown",
   "id": "32f7ac85",
   "metadata": {},
   "source": [
    "# Image Classification with DNN"
   ]
  },
  {
   "cell_type": "markdown",
   "id": "93d2e9c6",
   "metadata": {},
   "source": [
    "## DATASETS:\n",
    "(a) Carbonic Anhydrase II (ChEMBL205), a protein lyase,  \n",
    "(b) Cyclin-dependent kinase 2 (CHEMBL301), a protein kinase,  \n",
    "(c) ether-a-go-go-related gene potassium channel 1 (HERG) (CHEMBL240), a voltage-gated ion channel,  \n",
    "(d) Dopamine D4 receptor (CHEMBL219), a monoamine GPCR,  \n",
    "(e) Coagulation factor X (CHEMBL244), a serine protease,  \n",
    "(f) Cannabinoid CB1 receptor (CHEMBL218), a lipid-like GPCR and  \n",
    "(g) Cytochrome P450 19A1 (CHEMBL1978), a cytochrome P450.  \n",
    "The activity classes were selected based on data availability and as representatives of therapeutically important target classes or as anti-targets."
   ]
  },
  {
   "cell_type": "code",
   "execution_count": 1,
   "id": "c702e0a4",
   "metadata": {},
   "outputs": [],
   "source": [
    "top_mcc_scores = {\n",
    "    \n",
    "    'CHEMBL205': 0.862,\n",
    "    'CHEMBL301': 0.926,\n",
    "    'CHEMBL240': 0.884,\n",
    "    'CHEMBL219': 0.887,\n",
    "    'CHEMBL244': 0.983,\n",
    "    'CHEMBL218': 0.941,\n",
    "    'CHEMBL1978': 0.904}"
   ]
  },
  {
   "cell_type": "code",
   "execution_count": 2,
   "id": "65719434",
   "metadata": {
    "scrolled": true
   },
   "outputs": [
    {
     "name": "stdout",
     "output_type": "stream",
     "text": [
      "Tue Oct  5 15:03:11 2021       \r\n",
      "+-----------------------------------------------------------------------------+\r\n",
      "| NVIDIA-SMI 460.91.03    Driver Version: 460.91.03    CUDA Version: 11.2     |\r\n",
      "|-------------------------------+----------------------+----------------------+\r\n",
      "| GPU  Name        Persistence-M| Bus-Id        Disp.A | Volatile Uncorr. ECC |\r\n",
      "| Fan  Temp  Perf  Pwr:Usage/Cap|         Memory-Usage | GPU-Util  Compute M. |\r\n",
      "|                               |                      |               MIG M. |\r\n",
      "|===============================+======================+======================|\r\n",
      "|   0  GeForce GTX 1080    Off  | 00000000:01:00.0  On |                  N/A |\r\n",
      "|  0%   51C    P8    18W / 240W |   1463MiB /  8116MiB |      0%      Default |\r\n",
      "|                               |                      |                  N/A |\r\n",
      "+-------------------------------+----------------------+----------------------+\r\n",
      "                                                                               \r\n",
      "+-----------------------------------------------------------------------------+\r\n",
      "| Processes:                                                                  |\r\n",
      "|  GPU   GI   CI        PID   Type   Process name                  GPU Memory |\r\n",
      "|        ID   ID                                                   Usage      |\r\n",
      "|=============================================================================|\r\n",
      "|    0   N/A  N/A       917      G   /usr/lib/xorg/Xorg                281MiB |\r\n",
      "|    0   N/A  N/A      1235      G   /usr/bin/gnome-shell               57MiB |\r\n",
      "|    0   N/A  N/A      4888      G   /usr/lib/firefox/firefox          365MiB |\r\n",
      "|    0   N/A  N/A      4978      G   /usr/lib/firefox/firefox            1MiB |\r\n",
      "|    0   N/A  N/A      5130      G   /usr/lib/firefox/firefox            1MiB |\r\n",
      "|    0   N/A  N/A      8388      G   /usr/lib/firefox/firefox            1MiB |\r\n",
      "|    0   N/A  N/A      8425      G   /usr/lib/firefox/firefox            1MiB |\r\n",
      "|    0   N/A  N/A     10487      G   /usr/lib/firefox/firefox            1MiB |\r\n",
      "|    0   N/A  N/A     83274      C   ...vs/dat255-drug/bin/python      743MiB |\r\n",
      "+-----------------------------------------------------------------------------+\r\n"
     ]
    }
   ],
   "source": [
    "!nvidia-smi"
   ]
  },
  {
   "cell_type": "code",
   "execution_count": 3,
   "id": "1d8baf6d",
   "metadata": {},
   "outputs": [],
   "source": [
    "# Import\n",
    "import pandas as pd\n",
    "import numpy as np\n",
    "from pathlib import Path"
   ]
  },
  {
   "cell_type": "code",
   "execution_count": 4,
   "id": "c7930b20",
   "metadata": {},
   "outputs": [],
   "source": [
    "dataset='CHEMBL205_cl'"
   ]
  },
  {
   "cell_type": "code",
   "execution_count": 5,
   "id": "6fc54667",
   "metadata": {},
   "outputs": [],
   "source": [
    "path = Path('../dataset/13321_2017_226_MOESM1_ESM/')\n",
    "#df = pd.read_csv(path/f'{dataset}.csv')"
   ]
  },
  {
   "cell_type": "code",
   "execution_count": 6,
   "id": "a5be5afb",
   "metadata": {},
   "outputs": [
    {
     "data": {
      "text/plain": [
       "[PosixPath('../dataset/13321_2017_226_MOESM1_ESM/CHEMBL1978_cl_ecfp_1024.csv'),\n",
       " PosixPath('../dataset/13321_2017_226_MOESM1_ESM/CHEMBL244_cl_ecfp_512.csv'),\n",
       " PosixPath('../dataset/13321_2017_226_MOESM1_ESM/CHEMBL218_cl.csv'),\n",
       " PosixPath('../dataset/13321_2017_226_MOESM1_ESM/RdkitDescriptors.py'),\n",
       " PosixPath('../dataset/13321_2017_226_MOESM1_ESM/CHEMBL205_cl_ecfp_512.csv'),\n",
       " PosixPath('../dataset/13321_2017_226_MOESM1_ESM/CHEMBL301_cl.csv'),\n",
       " PosixPath('../dataset/13321_2017_226_MOESM1_ESM/CHEMBL205_cl_ecfp_1024.csv'),\n",
       " PosixPath('../dataset/13321_2017_226_MOESM1_ESM/CHEMBL1978_cl_ecfp_512.csv'),\n",
       " PosixPath('../dataset/13321_2017_226_MOESM1_ESM/CHEMBL240_cl.csv'),\n",
       " PosixPath('../dataset/13321_2017_226_MOESM1_ESM/CHEMBL301_cl_ecfp_512.csv'),\n",
       " PosixPath('../dataset/13321_2017_226_MOESM1_ESM/CHEMBL218_cl_ecfp_1024.csv'),\n",
       " PosixPath('../dataset/13321_2017_226_MOESM1_ESM/CHEMBL301_cl_ecfp_1024.csv'),\n",
       " PosixPath('../dataset/13321_2017_226_MOESM1_ESM/CHEMBL205_cl.csv'),\n",
       " PosixPath('../dataset/13321_2017_226_MOESM1_ESM/.ipynb_checkpoints'),\n",
       " PosixPath('../dataset/13321_2017_226_MOESM1_ESM/CHEMBL244_cl_ecfp_1024.csv'),\n",
       " PosixPath('../dataset/13321_2017_226_MOESM1_ESM/CHEMBL219_cl_ecfp_1024.csv'),\n",
       " PosixPath('../dataset/13321_2017_226_MOESM1_ESM/CHEMBL218_cl_ecfp_512.csv'),\n",
       " PosixPath('../dataset/13321_2017_226_MOESM1_ESM/CHEMBL244_cl.csv'),\n",
       " PosixPath('../dataset/13321_2017_226_MOESM1_ESM/CHEMBL240_cl_ecfp_512.csv'),\n",
       " PosixPath('../dataset/13321_2017_226_MOESM1_ESM/mol_images'),\n",
       " PosixPath('../dataset/13321_2017_226_MOESM1_ESM/CHEMBL219_cl.csv'),\n",
       " PosixPath('../dataset/13321_2017_226_MOESM1_ESM/CHEMBL219_cl_ecfp_512.csv'),\n",
       " PosixPath('../dataset/13321_2017_226_MOESM1_ESM/CHEMBL240_cl_ecfp_1024.csv'),\n",
       " PosixPath('../dataset/13321_2017_226_MOESM1_ESM/CHEMBL1978_cl.csv')]"
      ]
     },
     "execution_count": 6,
     "metadata": {},
     "output_type": "execute_result"
    }
   ],
   "source": [
    "list(path.iterdir())"
   ]
  },
  {
   "cell_type": "markdown",
   "id": "bfeed42e",
   "metadata": {},
   "source": [
    "# Generate activations"
   ]
  },
  {
   "cell_type": "code",
   "execution_count": 21,
   "id": "45d7b41a",
   "metadata": {},
   "outputs": [],
   "source": [
    "DATA = path/'mol_images'"
   ]
  },
  {
   "cell_type": "markdown",
   "id": "134b4759",
   "metadata": {},
   "source": [
    "# Create train validation split"
   ]
  },
  {
   "cell_type": "code",
   "execution_count": 8,
   "id": "979c1a3e",
   "metadata": {},
   "outputs": [],
   "source": [
    "from sklearn.model_selection import train_test_split"
   ]
  },
  {
   "cell_type": "code",
   "execution_count": 15,
   "id": "9a5ae19a",
   "metadata": {},
   "outputs": [],
   "source": [
    "def get_df(data):\n",
    "    \"\"\"\n",
    "    Construct a dataframe containing \n",
    "        CID, SMILES, Image, Activity\n",
    "    \"\"\"\n",
    "    \n",
    "    df = pd.read_csv(path/f'{dataset}.csv')\n",
    "    df['Image'] = df['CID'].apply(lambda x: f'{str(x)}.png')\n",
    "    \n",
    "    df = df[['CID', 'SMILES', 'Image', 'Activity']]\n",
    "    \n",
    "    return df"
   ]
  },
  {
   "cell_type": "code",
   "execution_count": 16,
   "id": "5bfcc362",
   "metadata": {},
   "outputs": [],
   "source": [
    "df = get_df(dataset)"
   ]
  },
  {
   "cell_type": "markdown",
   "id": "9a45020e",
   "metadata": {},
   "source": [
    "# Create dataloader"
   ]
  },
  {
   "cell_type": "code",
   "execution_count": 17,
   "id": "df4f945e",
   "metadata": {
    "scrolled": false
   },
   "outputs": [],
   "source": [
    "from fastai.vision.all import *"
   ]
  },
  {
   "cell_type": "code",
   "execution_count": 18,
   "id": "985a2039",
   "metadata": {},
   "outputs": [],
   "source": [
    "# No flips, some rotation and zoom. Normalize to imagenet_stats as\n",
    "# we're using pretrained models.\n",
    "batch_tfms = [*aug_transforms(mult=1.0, do_flip=False, flip_vert=False, \n",
    "               max_rotate=20.0, min_zoom=1.0, max_zoom=1.1, max_lighting=0., \n",
    "               max_warp=0., p_affine=0.75, p_lighting=0.75, xtra_tfms=None, \n",
    "               size=224, mode='bilinear', \n",
    "               pad_mode='border', align_corners=True, \n",
    "               batch=False, min_scale=1.0), \n",
    "              Normalize.from_stats(*imagenet_stats)]"
   ]
  },
  {
   "cell_type": "code",
   "execution_count": 19,
   "id": "fab9e9b3",
   "metadata": {},
   "outputs": [],
   "source": [
    "def get_dls(dataset, df, random_state=42, test_size=0.2, bs=64):\n",
    "    IMAGES = DATA/dataset\n",
    "    x_train, x_valid = train_test_split(df.index, test_size=0.2, random_state=random_state, stratify=df['Activity'])\n",
    "    df.loc[x_train, 'is_valid']=False\n",
    "    df.loc[x_valid, 'is_valid']=True\n",
    "    df['Image'] = df['CID'] + '.png'\n",
    "    images = df['CID'] + \".png\"\n",
    "    db = DataBlock(\n",
    "        blocks = (ImageBlock(), CategoryBlock()), \n",
    "        get_x=ColReader('Image', pref=IMAGES),\n",
    "        get_y=ColReader('Activity'), \n",
    "        splitter=ColSplitter('is_valid'),\n",
    "        item_tfms=None, \n",
    "        batch_tfms=batch_tfms,\n",
    "        )\n",
    "    dls = db.dataloaders(df, bs=bs, shuffle_train=True)\n",
    "    return dls"
   ]
  },
  {
   "cell_type": "code",
   "execution_count": 22,
   "id": "a17050ca",
   "metadata": {},
   "outputs": [],
   "source": [
    "dls = get_dls(dataset, df, random_state=42)"
   ]
  },
  {
   "cell_type": "code",
   "execution_count": 23,
   "id": "363fb173",
   "metadata": {
    "scrolled": true
   },
   "outputs": [
    {
     "data": {
      "image/png": "[encoded data removed]",
      "text/plain": [
       "<Figure size 648x648 with 9 Axes>"
      ]
     },
     "metadata": {
      "needs_background": "light"
     },
     "output_type": "display_data"
    }
   ],
   "source": [
    "dls.show_batch()"
   ]
  },
  {
   "cell_type": "code",
   "execution_count": 24,
   "id": "ae4afd95",
   "metadata": {},
   "outputs": [],
   "source": [
    "def get_loss_func(df):\n",
    "    TARGET = 'Activity'\n",
    "    class_count_df = df.groupby(TARGET).count()\n",
    "    n_0, n_1 = class_count_df.iloc[0, 0], class_count_df.iloc[1, 0]\n",
    "    w_0 = (n_0 + n_1) / (2.0 * n_0)\n",
    "    w_1 = (n_0 + n_1) / (2.0 * n_1)\n",
    "    class_weights=torch.FloatTensor([w_0, w_1]).cuda()\n",
    "    loss_func = CrossEntropyLossFlat(weight=class_weights)\n",
    "    return loss_func"
   ]
  },
  {
   "cell_type": "code",
   "execution_count": 26,
   "id": "c632d222",
   "metadata": {},
   "outputs": [],
   "source": [
    "loss_func = get_loss_func(df)"
   ]
  },
  {
   "cell_type": "code",
   "execution_count": null,
   "id": "0b1c3469",
   "metadata": {},
   "outputs": [],
   "source": []
  },
  {
   "cell_type": "markdown",
   "id": "8520b2bc",
   "metadata": {},
   "source": [
    "# Train CNN model"
   ]
  },
  {
   "cell_type": "code",
   "execution_count": 31,
   "id": "c7871c63",
   "metadata": {},
   "outputs": [],
   "source": [
    "from sklearn.metrics import auc,roc_auc_score,recall_score,precision_score,f1_score\n",
    "from sklearn.metrics import matthews_corrcoef\n",
    "from sklearn.metrics import accuracy_score"
   ]
  },
  {
   "cell_type": "code",
   "execution_count": 28,
   "id": "f6623712",
   "metadata": {},
   "outputs": [],
   "source": [
    "def train_model(dls, arch=resnet18, loss_func=loss_func, epochs=10, wd=None, lr=None):\n",
    "    \n",
    "    print(f'Training model on dataset: {dataset}')\n",
    "    print(f'Architechture: {arch}')\n",
    "    #print(f'Untrained epochs: freeze_epochs={freeze_epochs}')\n",
    "    print(f'Trained epochs: epochs={epochs}')\n",
    "    print(f'Weight decay: wd={wd}')\n",
    "    learn = cnn_learner(dls, arch=arch, pretrained=True, \n",
    "                            wd=wd,\n",
    "                            loss_func=loss_func,\n",
    "                            metrics=[accuracy, \n",
    "                            F1Score(), \n",
    "                            Precision(), \n",
    "                            Recall(), \n",
    "                            RocAucBinary(), \n",
    "                            MatthewsCorrCoef()])\n",
    "    \n",
    "    if lr == None: \n",
    "        print(f'Finding learning rate...')\n",
    "        lr_min, lr_steep = learn.lr_find(suggestions=True, show_plot=False)\n",
    "        print(f'Training model with learning rate: {lr_min}')\n",
    "        lr = lr_min\n",
    "    else: \n",
    "        print(f'Training model with learning rate: {lr}')\n",
    "    learn.fine_tune(epochs, lr)\n",
    "    \n",
    "    return learn"
   ]
  },
  {
   "cell_type": "code",
   "execution_count": 29,
   "id": "558b7928",
   "metadata": {},
   "outputs": [
    {
     "name": "stdout",
     "output_type": "stream",
     "text": [
      "Training model on dataset: CHEMBL205_cl\n",
      "Architechture: <function resnet18 at 0x7f72303e2730>\n",
      "Trained epochs: epochs=30\n",
      "Weight decay: wd=0.002\n",
      "Training model with learning rate: 0.003\n"
     ]
    },
    {
     "data": {
      "text/html": [
       "<table border=\"1\" class=\"dataframe\">\n",
       "  <thead>\n",
       "    <tr style=\"text-align: left;\">\n",
       "      <th>epoch</th>\n",
       "      <th>train_loss</th>\n",
       "      <th>valid_loss</th>\n",
       "      <th>accuracy</th>\n",
       "      <th>f1_score</th>\n",
       "      <th>precision_score</th>\n",
       "      <th>recall_score</th>\n",
       "      <th>roc_auc_score</th>\n",
       "      <th>matthews_corrcoef</th>\n",
       "      <th>time</th>\n",
       "    </tr>\n",
       "  </thead>\n",
       "  <tbody>\n",
       "    <tr>\n",
       "      <td>0</td>\n",
       "      <td>0.515321</td>\n",
       "      <td>0.492889</td>\n",
       "      <td>0.796601</td>\n",
       "      <td>0.449472</td>\n",
       "      <td>0.298000</td>\n",
       "      <td>0.914110</td>\n",
       "      <td>0.928735</td>\n",
       "      <td>0.448033</td>\n",
       "      <td>00:33</td>\n",
       "    </tr>\n",
       "  </tbody>\n",
       "</table>"
      ],
      "text/plain": [
       "<IPython.core.display.HTML object>"
      ]
     },
     "metadata": {},
     "output_type": "display_data"
    },
    {
     "data": {
      "text/html": [
       "<table border=\"1\" class=\"dataframe\">\n",
       "  <thead>\n",
       "    <tr style=\"text-align: left;\">\n",
       "      <th>epoch</th>\n",
       "      <th>train_loss</th>\n",
       "      <th>valid_loss</th>\n",
       "      <th>accuracy</th>\n",
       "      <th>f1_score</th>\n",
       "      <th>precision_score</th>\n",
       "      <th>recall_score</th>\n",
       "      <th>roc_auc_score</th>\n",
       "      <th>matthews_corrcoef</th>\n",
       "      <th>time</th>\n",
       "    </tr>\n",
       "  </thead>\n",
       "  <tbody>\n",
       "    <tr>\n",
       "      <td>0</td>\n",
       "      <td>0.265674</td>\n",
       "      <td>0.198814</td>\n",
       "      <td>0.938980</td>\n",
       "      <td>0.731946</td>\n",
       "      <td>0.608961</td>\n",
       "      <td>0.917178</td>\n",
       "      <td>0.976185</td>\n",
       "      <td>0.717783</td>\n",
       "      <td>00:41</td>\n",
       "    </tr>\n",
       "    <tr>\n",
       "      <td>1</td>\n",
       "      <td>0.226224</td>\n",
       "      <td>0.220844</td>\n",
       "      <td>0.929228</td>\n",
       "      <td>0.707373</td>\n",
       "      <td>0.566421</td>\n",
       "      <td>0.941718</td>\n",
       "      <td>0.978287</td>\n",
       "      <td>0.697991</td>\n",
       "      <td>00:40</td>\n",
       "    </tr>\n",
       "    <tr>\n",
       "      <td>2</td>\n",
       "      <td>0.196026</td>\n",
       "      <td>0.218889</td>\n",
       "      <td>0.929228</td>\n",
       "      <td>0.706697</td>\n",
       "      <td>0.566667</td>\n",
       "      <td>0.938650</td>\n",
       "      <td>0.976376</td>\n",
       "      <td>0.696834</td>\n",
       "      <td>00:41</td>\n",
       "    </tr>\n",
       "    <tr>\n",
       "      <td>3</td>\n",
       "      <td>0.190486</td>\n",
       "      <td>0.140745</td>\n",
       "      <td>0.951797</td>\n",
       "      <td>0.775616</td>\n",
       "      <td>0.671910</td>\n",
       "      <td>0.917178</td>\n",
       "      <td>0.981499</td>\n",
       "      <td>0.760727</td>\n",
       "      <td>00:40</td>\n",
       "    </tr>\n",
       "    <tr>\n",
       "      <td>4</td>\n",
       "      <td>0.193850</td>\n",
       "      <td>0.175725</td>\n",
       "      <td>0.939537</td>\n",
       "      <td>0.739496</td>\n",
       "      <td>0.607495</td>\n",
       "      <td>0.944785</td>\n",
       "      <td>0.982706</td>\n",
       "      <td>0.729206</td>\n",
       "      <td>00:40</td>\n",
       "    </tr>\n",
       "    <tr>\n",
       "      <td>5</td>\n",
       "      <td>0.180706</td>\n",
       "      <td>0.223515</td>\n",
       "      <td>0.928671</td>\n",
       "      <td>0.711061</td>\n",
       "      <td>0.562500</td>\n",
       "      <td>0.966258</td>\n",
       "      <td>0.980076</td>\n",
       "      <td>0.705726</td>\n",
       "      <td>00:41</td>\n",
       "    </tr>\n",
       "    <tr>\n",
       "      <td>6</td>\n",
       "      <td>0.172878</td>\n",
       "      <td>0.140971</td>\n",
       "      <td>0.957370</td>\n",
       "      <td>0.800000</td>\n",
       "      <td>0.697039</td>\n",
       "      <td>0.938650</td>\n",
       "      <td>0.978672</td>\n",
       "      <td>0.787505</td>\n",
       "      <td>00:41</td>\n",
       "    </tr>\n",
       "    <tr>\n",
       "      <td>7</td>\n",
       "      <td>0.158636</td>\n",
       "      <td>0.150796</td>\n",
       "      <td>0.956255</td>\n",
       "      <td>0.796368</td>\n",
       "      <td>0.689888</td>\n",
       "      <td>0.941718</td>\n",
       "      <td>0.982293</td>\n",
       "      <td>0.784262</td>\n",
       "      <td>00:41</td>\n",
       "    </tr>\n",
       "    <tr>\n",
       "      <td>8</td>\n",
       "      <td>0.159637</td>\n",
       "      <td>0.098262</td>\n",
       "      <td>0.966286</td>\n",
       "      <td>0.819672</td>\n",
       "      <td>0.797101</td>\n",
       "      <td>0.843558</td>\n",
       "      <td>0.976048</td>\n",
       "      <td>0.801484</td>\n",
       "      <td>00:41</td>\n",
       "    </tr>\n",
       "    <tr>\n",
       "      <td>9</td>\n",
       "      <td>0.162417</td>\n",
       "      <td>0.196130</td>\n",
       "      <td>0.923377</td>\n",
       "      <td>0.692049</td>\n",
       "      <td>0.544974</td>\n",
       "      <td>0.947853</td>\n",
       "      <td>0.979384</td>\n",
       "      <td>0.684527</td>\n",
       "      <td>00:41</td>\n",
       "    </tr>\n",
       "    <tr>\n",
       "      <td>10</td>\n",
       "      <td>0.145738</td>\n",
       "      <td>0.111558</td>\n",
       "      <td>0.965171</td>\n",
       "      <td>0.828061</td>\n",
       "      <td>0.750623</td>\n",
       "      <td>0.923313</td>\n",
       "      <td>0.980787</td>\n",
       "      <td>0.814283</td>\n",
       "      <td>00:41</td>\n",
       "    </tr>\n",
       "    <tr>\n",
       "      <td>11</td>\n",
       "      <td>0.129148</td>\n",
       "      <td>0.096046</td>\n",
       "      <td>0.969072</td>\n",
       "      <td>0.846047</td>\n",
       "      <td>0.772152</td>\n",
       "      <td>0.935583</td>\n",
       "      <td>0.980398</td>\n",
       "      <td>0.833753</td>\n",
       "      <td>00:41</td>\n",
       "    </tr>\n",
       "    <tr>\n",
       "      <td>12</td>\n",
       "      <td>0.107885</td>\n",
       "      <td>0.115995</td>\n",
       "      <td>0.964893</td>\n",
       "      <td>0.831099</td>\n",
       "      <td>0.738095</td>\n",
       "      <td>0.950920</td>\n",
       "      <td>0.983613</td>\n",
       "      <td>0.819974</td>\n",
       "      <td>00:41</td>\n",
       "    </tr>\n",
       "    <tr>\n",
       "      <td>13</td>\n",
       "      <td>0.098698</td>\n",
       "      <td>0.131758</td>\n",
       "      <td>0.961271</td>\n",
       "      <td>0.817824</td>\n",
       "      <td>0.713959</td>\n",
       "      <td>0.957055</td>\n",
       "      <td>0.984409</td>\n",
       "      <td>0.807383</td>\n",
       "      <td>00:41</td>\n",
       "    </tr>\n",
       "    <tr>\n",
       "      <td>14</td>\n",
       "      <td>0.109839</td>\n",
       "      <td>0.137945</td>\n",
       "      <td>0.960992</td>\n",
       "      <td>0.819121</td>\n",
       "      <td>0.707589</td>\n",
       "      <td>0.972393</td>\n",
       "      <td>0.986410</td>\n",
       "      <td>0.810540</td>\n",
       "      <td>00:41</td>\n",
       "    </tr>\n",
       "    <tr>\n",
       "      <td>15</td>\n",
       "      <td>0.088790</td>\n",
       "      <td>0.134741</td>\n",
       "      <td>0.961549</td>\n",
       "      <td>0.820779</td>\n",
       "      <td>0.711712</td>\n",
       "      <td>0.969325</td>\n",
       "      <td>0.986909</td>\n",
       "      <td>0.811791</td>\n",
       "      <td>00:41</td>\n",
       "    </tr>\n",
       "    <tr>\n",
       "      <td>16</td>\n",
       "      <td>0.078745</td>\n",
       "      <td>0.103129</td>\n",
       "      <td>0.973809</td>\n",
       "      <td>0.866856</td>\n",
       "      <td>0.805263</td>\n",
       "      <td>0.938650</td>\n",
       "      <td>0.980558</td>\n",
       "      <td>0.855505</td>\n",
       "      <td>00:42</td>\n",
       "    </tr>\n",
       "    <tr>\n",
       "      <td>17</td>\n",
       "      <td>0.080506</td>\n",
       "      <td>0.132476</td>\n",
       "      <td>0.964893</td>\n",
       "      <td>0.831099</td>\n",
       "      <td>0.738095</td>\n",
       "      <td>0.950920</td>\n",
       "      <td>0.982671</td>\n",
       "      <td>0.819974</td>\n",
       "      <td>00:41</td>\n",
       "    </tr>\n",
       "    <tr>\n",
       "      <td>18</td>\n",
       "      <td>0.070395</td>\n",
       "      <td>0.113214</td>\n",
       "      <td>0.969908</td>\n",
       "      <td>0.850829</td>\n",
       "      <td>0.773869</td>\n",
       "      <td>0.944785</td>\n",
       "      <td>0.981998</td>\n",
       "      <td>0.839417</td>\n",
       "      <td>00:41</td>\n",
       "    </tr>\n",
       "    <tr>\n",
       "      <td>19</td>\n",
       "      <td>0.048347</td>\n",
       "      <td>0.106737</td>\n",
       "      <td>0.971023</td>\n",
       "      <td>0.854749</td>\n",
       "      <td>0.784615</td>\n",
       "      <td>0.938650</td>\n",
       "      <td>0.981664</td>\n",
       "      <td>0.842955</td>\n",
       "      <td>00:41</td>\n",
       "    </tr>\n",
       "    <tr>\n",
       "      <td>20</td>\n",
       "      <td>0.051437</td>\n",
       "      <td>0.111729</td>\n",
       "      <td>0.974366</td>\n",
       "      <td>0.867816</td>\n",
       "      <td>0.816216</td>\n",
       "      <td>0.926380</td>\n",
       "      <td>0.981835</td>\n",
       "      <td>0.855784</td>\n",
       "      <td>00:41</td>\n",
       "    </tr>\n",
       "    <tr>\n",
       "      <td>21</td>\n",
       "      <td>0.033658</td>\n",
       "      <td>0.109937</td>\n",
       "      <td>0.975481</td>\n",
       "      <td>0.871345</td>\n",
       "      <td>0.832402</td>\n",
       "      <td>0.914110</td>\n",
       "      <td>0.981945</td>\n",
       "      <td>0.858976</td>\n",
       "      <td>00:41</td>\n",
       "    </tr>\n",
       "    <tr>\n",
       "      <td>22</td>\n",
       "      <td>0.034877</td>\n",
       "      <td>0.127016</td>\n",
       "      <td>0.977152</td>\n",
       "      <td>0.880466</td>\n",
       "      <td>0.838889</td>\n",
       "      <td>0.926380</td>\n",
       "      <td>0.981261</td>\n",
       "      <td>0.869175</td>\n",
       "      <td>00:41</td>\n",
       "    </tr>\n",
       "    <tr>\n",
       "      <td>23</td>\n",
       "      <td>0.029422</td>\n",
       "      <td>0.121309</td>\n",
       "      <td>0.976595</td>\n",
       "      <td>0.877193</td>\n",
       "      <td>0.837989</td>\n",
       "      <td>0.920245</td>\n",
       "      <td>0.982557</td>\n",
       "      <td>0.865447</td>\n",
       "      <td>00:41</td>\n",
       "    </tr>\n",
       "    <tr>\n",
       "      <td>24</td>\n",
       "      <td>0.027312</td>\n",
       "      <td>0.124830</td>\n",
       "      <td>0.975481</td>\n",
       "      <td>0.873563</td>\n",
       "      <td>0.821622</td>\n",
       "      <td>0.932515</td>\n",
       "      <td>0.984407</td>\n",
       "      <td>0.862161</td>\n",
       "      <td>00:41</td>\n",
       "    </tr>\n",
       "    <tr>\n",
       "      <td>25</td>\n",
       "      <td>0.024354</td>\n",
       "      <td>0.115697</td>\n",
       "      <td>0.977710</td>\n",
       "      <td>0.883382</td>\n",
       "      <td>0.841667</td>\n",
       "      <td>0.929448</td>\n",
       "      <td>0.983447</td>\n",
       "      <td>0.872403</td>\n",
       "      <td>00:41</td>\n",
       "    </tr>\n",
       "    <tr>\n",
       "      <td>26</td>\n",
       "      <td>0.022030</td>\n",
       "      <td>0.126003</td>\n",
       "      <td>0.976595</td>\n",
       "      <td>0.878613</td>\n",
       "      <td>0.830601</td>\n",
       "      <td>0.932515</td>\n",
       "      <td>0.984328</td>\n",
       "      <td>0.867485</td>\n",
       "      <td>00:41</td>\n",
       "    </tr>\n",
       "    <tr>\n",
       "      <td>27</td>\n",
       "      <td>0.021851</td>\n",
       "      <td>0.120873</td>\n",
       "      <td>0.978824</td>\n",
       "      <td>0.888889</td>\n",
       "      <td>0.849162</td>\n",
       "      <td>0.932515</td>\n",
       "      <td>0.983999</td>\n",
       "      <td>0.878389</td>\n",
       "      <td>00:41</td>\n",
       "    </tr>\n",
       "    <tr>\n",
       "      <td>28</td>\n",
       "      <td>0.023200</td>\n",
       "      <td>0.121432</td>\n",
       "      <td>0.977710</td>\n",
       "      <td>0.883721</td>\n",
       "      <td>0.839779</td>\n",
       "      <td>0.932515</td>\n",
       "      <td>0.983756</td>\n",
       "      <td>0.872894</td>\n",
       "      <td>00:40</td>\n",
       "    </tr>\n",
       "    <tr>\n",
       "      <td>29</td>\n",
       "      <td>0.019147</td>\n",
       "      <td>0.121019</td>\n",
       "      <td>0.977152</td>\n",
       "      <td>0.880814</td>\n",
       "      <td>0.837017</td>\n",
       "      <td>0.929448</td>\n",
       "      <td>0.984119</td>\n",
       "      <td>0.869674</td>\n",
       "      <td>00:41</td>\n",
       "    </tr>\n",
       "  </tbody>\n",
       "</table>"
      ],
      "text/plain": [
       "<IPython.core.display.HTML object>"
      ]
     },
     "metadata": {},
     "output_type": "display_data"
    }
   ],
   "source": [
    "# Train model on resnet18\n",
    "learn = train_model(dls, epochs=30, lr=3e-3, wd=0.002)"
   ]
  },
  {
   "cell_type": "code",
   "execution_count": 30,
   "id": "173e3215",
   "metadata": {
    "scrolled": true
   },
   "outputs": [
    {
     "data": {
      "text/html": [],
      "text/plain": [
       "<IPython.core.display.HTML object>"
      ]
     },
     "metadata": {},
     "output_type": "display_data"
    }
   ],
   "source": [
    "interp = ClassificationInterpretation.from_learner(learn)"
   ]
  },
  {
   "cell_type": "code",
   "execution_count": 31,
   "id": "aa843029",
   "metadata": {},
   "outputs": [
    {
     "data": {
      "image/png": "[encoded data removed]",
      "text/plain": [
       "<Figure size 432x288 with 1 Axes>"
      ]
     },
     "metadata": {
      "needs_background": "light"
     },
     "output_type": "display_data"
    }
   ],
   "source": [
    "interp.plot_confusion_matrix()"
   ]
  },
  {
   "cell_type": "code",
   "execution_count": 32,
   "id": "9bd8e04a",
   "metadata": {},
   "outputs": [
    {
     "data": {
      "image/png": "[encoded data removed]",
      "text/plain": [
       "<Figure size 648x432 with 6 Axes>"
      ]
     },
     "metadata": {
      "needs_background": "light"
     },
     "output_type": "display_data"
    }
   ],
   "source": [
    "interp.plot_top_losses(k=5)"
   ]
  },
  {
   "cell_type": "markdown",
   "id": "21e9f397",
   "metadata": {},
   "source": [
    "# Hook the activations from the second last layer"
   ]
  },
  {
   "cell_type": "code",
   "execution_count": 33,
   "id": "c25fb9da",
   "metadata": {},
   "outputs": [],
   "source": [
    "class Hook():\n",
    "    def hook_func(self, m, i, o): self.stored = o.detach().clone()"
   ]
  },
  {
   "cell_type": "code",
   "execution_count": 34,
   "id": "58b2653c",
   "metadata": {},
   "outputs": [
    {
     "data": {
      "text/plain": [
       "Linear(in_features=1024, out_features=512, bias=False)"
      ]
     },
     "execution_count": 34,
     "metadata": {},
     "output_type": "execute_result"
    }
   ],
   "source": [
    "learn.model[-1][-5]"
   ]
  },
  {
   "cell_type": "code",
   "execution_count": 35,
   "id": "983c4b9a",
   "metadata": {},
   "outputs": [],
   "source": [
    "hook_output = Hook()\n",
    "hook = learn.model[-1][-5].register_forward_hook(hook_output.hook_func)"
   ]
  },
  {
   "cell_type": "code",
   "execution_count": 36,
   "id": "b3a8432b",
   "metadata": {},
   "outputs": [],
   "source": [
    "df_nodupl=df"
   ]
  },
  {
   "cell_type": "code",
   "execution_count": 37,
   "id": "a3d5a7a6",
   "metadata": {},
   "outputs": [],
   "source": [
    "test_db = DataBlock(\n",
    "    blocks=(ImageBlock(), CategoryBlock()),\n",
    "    get_x=ColReader('Image', pref=IMAGES),\n",
    "    get_y=ColReader('Activity'),\n",
    "    splitter=RandomSplitter(valid_pct=0.),\n",
    "    item_tfms=None,\n",
    "    batch_tfms=None\n",
    "    )"
   ]
  },
  {
   "cell_type": "code",
   "execution_count": 38,
   "id": "ed01b9e0",
   "metadata": {},
   "outputs": [],
   "source": [
    "test_dls = test_db.dataloaders(df_nodupl, bs=1)"
   ]
  },
  {
   "cell_type": "code",
   "execution_count": 39,
   "id": "eba6f27e",
   "metadata": {},
   "outputs": [
    {
     "data": {
      "text/html": [
       "<div>\n",
       "<style scoped>\n",
       "    .dataframe tbody tr th:only-of-type {\n",
       "        vertical-align: middle;\n",
       "    }\n",
       "\n",
       "    .dataframe tbody tr th {\n",
       "        vertical-align: top;\n",
       "    }\n",
       "\n",
       "    .dataframe thead th {\n",
       "        text-align: right;\n",
       "    }\n",
       "</style>\n",
       "<table border=\"1\" class=\"dataframe\">\n",
       "  <thead>\n",
       "    <tr style=\"text-align: right;\">\n",
       "      <th></th>\n",
       "      <th>CID</th>\n",
       "      <th>SMILES</th>\n",
       "      <th>Image</th>\n",
       "      <th>Activity</th>\n",
       "      <th>is_valid</th>\n",
       "    </tr>\n",
       "  </thead>\n",
       "  <tbody>\n",
       "    <tr>\n",
       "      <th>4554</th>\n",
       "      <td>CHEMBL1258671</td>\n",
       "      <td>Fc1cc(c2OCCOc2c1N)C(OCC1CC[NH+](CC1)CCCC)=O</td>\n",
       "      <td>CHEMBL1258671.png</td>\n",
       "      <td>0</td>\n",
       "      <td>True</td>\n",
       "    </tr>\n",
       "    <tr>\n",
       "      <th>6090</th>\n",
       "      <td>CHEMBL120127</td>\n",
       "      <td>Fc1cc(F)ccc1Nc1ccc(cc1)C(=O)c1ccccc1OC</td>\n",
       "      <td>CHEMBL120127.png</td>\n",
       "      <td>0</td>\n",
       "      <td>False</td>\n",
       "    </tr>\n",
       "    <tr>\n",
       "      <th>16435</th>\n",
       "      <td>CHEMBL34062</td>\n",
       "      <td>Clc1cc(Cl)ccc1-c1nc(nc(N)c1C[NH3+])-c1cc(OC)cc(OC)c1</td>\n",
       "      <td>CHEMBL34062.png</td>\n",
       "      <td>0</td>\n",
       "      <td>False</td>\n",
       "    </tr>\n",
       "    <tr>\n",
       "      <th>11657</th>\n",
       "      <td>CHEMBL411718</td>\n",
       "      <td>Fc1cc2c(N(CC23CCN(CC3)C(=O)C)c2ncnc3[nH]ccc23)cc1</td>\n",
       "      <td>CHEMBL411718.png</td>\n",
       "      <td>0</td>\n",
       "      <td>True</td>\n",
       "    </tr>\n",
       "    <tr>\n",
       "      <th>2466</th>\n",
       "      <td>CHEMBL1161226</td>\n",
       "      <td>P(OCC1OC(N2C=C(F)C(=NC2=O)NO)CC1O)(=O)([O-])[O-]</td>\n",
       "      <td>CHEMBL1161226.png</td>\n",
       "      <td>0</td>\n",
       "      <td>False</td>\n",
       "    </tr>\n",
       "  </tbody>\n",
       "</table>\n",
       "</div>"
      ],
      "text/plain": [
       "                 CID                                                SMILES  \\\n",
       "4554   CHEMBL1258671           Fc1cc(c2OCCOc2c1N)C(OCC1CC[NH+](CC1)CCCC)=O   \n",
       "6090    CHEMBL120127                Fc1cc(F)ccc1Nc1ccc(cc1)C(=O)c1ccccc1OC   \n",
       "16435    CHEMBL34062  Clc1cc(Cl)ccc1-c1nc(nc(N)c1C[NH3+])-c1cc(OC)cc(OC)c1   \n",
       "11657   CHEMBL411718     Fc1cc2c(N(CC23CCN(CC3)C(=O)C)c2ncnc3[nH]ccc23)cc1   \n",
       "2466   CHEMBL1161226      P(OCC1OC(N2C=C(F)C(=NC2=O)NO)CC1O)(=O)([O-])[O-]   \n",
       "\n",
       "                   Image  Activity is_valid  \n",
       "4554   CHEMBL1258671.png         0     True  \n",
       "6090    CHEMBL120127.png         0    False  \n",
       "16435    CHEMBL34062.png         0    False  \n",
       "11657   CHEMBL411718.png         0     True  \n",
       "2466   CHEMBL1161226.png         0    False  "
      ]
     },
     "execution_count": 39,
     "metadata": {},
     "output_type": "execute_result"
    }
   ],
   "source": [
    "test_dls.items.head()"
   ]
  },
  {
   "cell_type": "code",
   "execution_count": 40,
   "id": "c2f41fac",
   "metadata": {},
   "outputs": [
    {
     "data": {
      "text/plain": [
       "(PILImage mode=RGB size=224x224, TensorCategory(0))"
      ]
     },
     "execution_count": 40,
     "metadata": {},
     "output_type": "execute_result"
    }
   ],
   "source": [
    "test_dls.dataset[0]"
   ]
  },
  {
   "cell_type": "code",
   "execution_count": 41,
   "id": "33428c27",
   "metadata": {},
   "outputs": [],
   "source": [
    "test_df = test_dls.items.reset_index()"
   ]
  },
  {
   "cell_type": "code",
   "execution_count": 42,
   "id": "4e0bc619",
   "metadata": {},
   "outputs": [
    {
     "name": "stdout",
     "output_type": "stream",
     "text": [
      "<class 'pandas.core.frame.DataFrame'>\n",
      "RangeIndex: 17941 entries, 0 to 17940\n",
      "Data columns (total 6 columns):\n",
      " #   Column    Non-Null Count  Dtype \n",
      "---  ------    --------------  ----- \n",
      " 0   index     17941 non-null  int64 \n",
      " 1   CID       17941 non-null  object\n",
      " 2   SMILES    17941 non-null  object\n",
      " 3   Image     17941 non-null  object\n",
      " 4   Activity  17941 non-null  int64 \n",
      " 5   is_valid  17941 non-null  object\n",
      "dtypes: int64(2), object(4)\n",
      "memory usage: 841.1+ KB\n"
     ]
    }
   ],
   "source": [
    "test_df.info()"
   ]
  },
  {
   "cell_type": "code",
   "execution_count": 43,
   "id": "ef559897",
   "metadata": {},
   "outputs": [
    {
     "name": "stdout",
     "output_type": "stream",
     "text": [
      "<class 'pandas.core.frame.DataFrame'>\n",
      "RangeIndex: 17941 entries, 0 to 17940\n",
      "Data columns (total 5 columns):\n",
      " #   Column    Non-Null Count  Dtype \n",
      "---  ------    --------------  ----- \n",
      " 0   CID       17941 non-null  object\n",
      " 1   SMILES    17941 non-null  object\n",
      " 2   Image     17941 non-null  object\n",
      " 3   Activity  17941 non-null  int64 \n",
      " 4   is_valid  17941 non-null  object\n",
      "dtypes: int64(1), object(4)\n",
      "memory usage: 700.9+ KB\n"
     ]
    }
   ],
   "source": [
    "df_nodupl.info()"
   ]
  },
  {
   "cell_type": "markdown",
   "id": "02b8d773",
   "metadata": {},
   "source": [
    "# Check"
   ]
  },
  {
   "cell_type": "code",
   "execution_count": 44,
   "id": "0151443d",
   "metadata": {},
   "outputs": [
    {
     "data": {
      "text/html": [
       "<div>\n",
       "<style scoped>\n",
       "    .dataframe tbody tr th:only-of-type {\n",
       "        vertical-align: middle;\n",
       "    }\n",
       "\n",
       "    .dataframe tbody tr th {\n",
       "        vertical-align: top;\n",
       "    }\n",
       "\n",
       "    .dataframe thead th {\n",
       "        text-align: right;\n",
       "    }\n",
       "</style>\n",
       "<table border=\"1\" class=\"dataframe\">\n",
       "  <thead>\n",
       "    <tr style=\"text-align: right;\">\n",
       "      <th></th>\n",
       "      <th>index</th>\n",
       "      <th>CID</th>\n",
       "      <th>SMILES</th>\n",
       "      <th>Image</th>\n",
       "      <th>Activity</th>\n",
       "      <th>is_valid</th>\n",
       "    </tr>\n",
       "  </thead>\n",
       "  <tbody>\n",
       "    <tr>\n",
       "      <th>9840</th>\n",
       "      <td>1403</td>\n",
       "      <td>CHEMBL1089637</td>\n",
       "      <td>S(=O)(=O)(N)c1ccc(NC2OCC(O)C(O)C2O)cc1</td>\n",
       "      <td>CHEMBL1089637.png</td>\n",
       "      <td>1</td>\n",
       "      <td>False</td>\n",
       "    </tr>\n",
       "  </tbody>\n",
       "</table>\n",
       "</div>"
      ],
      "text/plain": [
       "      index            CID                                  SMILES  \\\n",
       "9840   1403  CHEMBL1089637  S(=O)(=O)(N)c1ccc(NC2OCC(O)C(O)C2O)cc1   \n",
       "\n",
       "                  Image  Activity is_valid  \n",
       "9840  CHEMBL1089637.png         1    False  "
      ]
     },
     "execution_count": 44,
     "metadata": {},
     "output_type": "execute_result"
    }
   ],
   "source": [
    "test_df.loc[test_df.CID == 'CHEMBL1089637']"
   ]
  },
  {
   "cell_type": "code",
   "execution_count": 45,
   "id": "ac981de0",
   "metadata": {},
   "outputs": [
    {
     "data": {
      "text/html": [
       "<div>\n",
       "<style scoped>\n",
       "    .dataframe tbody tr th:only-of-type {\n",
       "        vertical-align: middle;\n",
       "    }\n",
       "\n",
       "    .dataframe tbody tr th {\n",
       "        vertical-align: top;\n",
       "    }\n",
       "\n",
       "    .dataframe thead th {\n",
       "        text-align: right;\n",
       "    }\n",
       "</style>\n",
       "<table border=\"1\" class=\"dataframe\">\n",
       "  <thead>\n",
       "    <tr style=\"text-align: right;\">\n",
       "      <th></th>\n",
       "      <th>CID</th>\n",
       "      <th>SMILES</th>\n",
       "      <th>Image</th>\n",
       "      <th>Activity</th>\n",
       "      <th>is_valid</th>\n",
       "    </tr>\n",
       "  </thead>\n",
       "  <tbody>\n",
       "    <tr>\n",
       "      <th>1403</th>\n",
       "      <td>CHEMBL1089637</td>\n",
       "      <td>S(=O)(=O)(N)c1ccc(NC2OCC(O)C(O)C2O)cc1</td>\n",
       "      <td>CHEMBL1089637.png</td>\n",
       "      <td>1</td>\n",
       "      <td>False</td>\n",
       "    </tr>\n",
       "  </tbody>\n",
       "</table>\n",
       "</div>"
      ],
      "text/plain": [
       "                CID                                  SMILES  \\\n",
       "1403  CHEMBL1089637  S(=O)(=O)(N)c1ccc(NC2OCC(O)C(O)C2O)cc1   \n",
       "\n",
       "                  Image  Activity is_valid  \n",
       "1403  CHEMBL1089637.png         1    False  "
      ]
     },
     "execution_count": 45,
     "metadata": {},
     "output_type": "execute_result"
    }
   ],
   "source": [
    "df_nodupl.loc[df_nodupl.CID == 'CHEMBL1089637']"
   ]
  },
  {
   "cell_type": "code",
   "execution_count": 46,
   "id": "5ddd5260",
   "metadata": {},
   "outputs": [
    {
     "data": {
      "text/plain": [
       "(#17941) [(PILImage mode=RGB size=224x224, TensorCategory(0)),(PILImage mode=RGB size=224x224, TensorCategory(0)),(PILImage mode=RGB size=224x224, TensorCategory(0)),(PILImage mode=RGB size=224x224, TensorCategory(0)),(PILImage mode=RGB size=224x224, TensorCategory(0)),(PILImage mode=RGB size=224x224, TensorCategory(0)),(PILImage mode=RGB size=224x224, TensorCategory(0)),(PILImage mode=RGB size=224x224, TensorCategory(0)),(PILImage mode=RGB size=224x224, TensorCategory(0)),(PILImage mode=RGB size=224x224, TensorCategory(0))...]"
      ]
     },
     "execution_count": 46,
     "metadata": {},
     "output_type": "execute_result"
    }
   ],
   "source": [
    "test_dls.dataset"
   ]
  },
  {
   "cell_type": "code",
   "execution_count": 47,
   "id": "2477038e",
   "metadata": {},
   "outputs": [
    {
     "data": {
      "image/png": "[encoded data removed]",
      "text/plain": [
       "PILImage mode=RGB size=224x224"
      ]
     },
     "execution_count": 47,
     "metadata": {},
     "output_type": "execute_result"
    }
   ],
   "source": [
    "test_dls.dataset[0][0]"
   ]
  },
  {
   "cell_type": "code",
   "execution_count": 48,
   "id": "af501a4d",
   "metadata": {},
   "outputs": [
    {
     "data": {
      "text/html": [
       "<div>\n",
       "<style scoped>\n",
       "    .dataframe tbody tr th:only-of-type {\n",
       "        vertical-align: middle;\n",
       "    }\n",
       "\n",
       "    .dataframe tbody tr th {\n",
       "        vertical-align: top;\n",
       "    }\n",
       "\n",
       "    .dataframe thead th {\n",
       "        text-align: right;\n",
       "    }\n",
       "</style>\n",
       "<table border=\"1\" class=\"dataframe\">\n",
       "  <thead>\n",
       "    <tr style=\"text-align: right;\">\n",
       "      <th></th>\n",
       "      <th>index</th>\n",
       "      <th>CID</th>\n",
       "      <th>SMILES</th>\n",
       "      <th>Image</th>\n",
       "      <th>Activity</th>\n",
       "      <th>is_valid</th>\n",
       "    </tr>\n",
       "  </thead>\n",
       "  <tbody>\n",
       "    <tr>\n",
       "      <th>9840</th>\n",
       "      <td>1403</td>\n",
       "      <td>CHEMBL1089637</td>\n",
       "      <td>S(=O)(=O)(N)c1ccc(NC2OCC(O)C(O)C2O)cc1</td>\n",
       "      <td>CHEMBL1089637.png</td>\n",
       "      <td>1</td>\n",
       "      <td>False</td>\n",
       "    </tr>\n",
       "  </tbody>\n",
       "</table>\n",
       "</div>"
      ],
      "text/plain": [
       "      index            CID                                  SMILES  \\\n",
       "9840   1403  CHEMBL1089637  S(=O)(=O)(N)c1ccc(NC2OCC(O)C(O)C2O)cc1   \n",
       "\n",
       "                  Image  Activity is_valid  \n",
       "9840  CHEMBL1089637.png         1    False  "
      ]
     },
     "execution_count": 48,
     "metadata": {},
     "output_type": "execute_result"
    }
   ],
   "source": [
    "test_df.loc[test_df.CID=='CHEMBL1089637']"
   ]
  },
  {
   "cell_type": "code",
   "execution_count": 49,
   "id": "97058d98",
   "metadata": {},
   "outputs": [],
   "source": [
    "def get_data(CID):\n",
    "    idx = test_df.loc[test_df.CID==CID].index[0]\n",
    "    print(idx)\n",
    "    return test_dls.dataset[idx]"
   ]
  },
  {
   "cell_type": "code",
   "execution_count": 50,
   "id": "fae77840",
   "metadata": {},
   "outputs": [
    {
     "name": "stdout",
     "output_type": "stream",
     "text": [
      "9840\n"
     ]
    }
   ],
   "source": [
    "t_img, t_cat = get_data('CHEMBL1089637')"
   ]
  },
  {
   "cell_type": "code",
   "execution_count": 51,
   "id": "d751018f",
   "metadata": {},
   "outputs": [
    {
     "data": {
      "text/plain": [
       "17941"
      ]
     },
     "execution_count": 51,
     "metadata": {},
     "output_type": "execute_result"
    }
   ],
   "source": [
    "len(test_dls.dataset)"
   ]
  },
  {
   "cell_type": "code",
   "execution_count": 52,
   "id": "654b6ecc",
   "metadata": {},
   "outputs": [
    {
     "data": {
      "text/plain": [
       "(PILImage mode=RGB size=224x224, TensorCategory(0))"
      ]
     },
     "execution_count": 52,
     "metadata": {},
     "output_type": "execute_result"
    }
   ],
   "source": [
    "test_dls.dataset[0]"
   ]
  },
  {
   "cell_type": "code",
   "execution_count": 53,
   "id": "c17c45a3",
   "metadata": {},
   "outputs": [
    {
     "data": {
      "image/png": "[encoded data removed]",
      "text/plain": [
       "PILImage mode=RGB size=224x224"
      ]
     },
     "execution_count": 53,
     "metadata": {},
     "output_type": "execute_result"
    }
   ],
   "source": [
    "t_img"
   ]
  },
  {
   "cell_type": "code",
   "execution_count": 54,
   "id": "6cde2254",
   "metadata": {},
   "outputs": [],
   "source": [
    "df_nodupl['activations'] = None"
   ]
  },
  {
   "cell_type": "code",
   "execution_count": 55,
   "id": "3a54445d",
   "metadata": {},
   "outputs": [],
   "source": [
    "def get_activations(CID, ret=False):\n",
    "    idx = df_nodupl.loc[df_nodupl.CID == CID].index[0]\n",
    "    print(idx)\n",
    "    data = get_data(CID)\n",
    "    img = data[0]\n",
    "    with torch.no_grad(): \n",
    "        output = learn.predict(img)\n",
    "    acts = np.array(hook_output.stored.cpu())[0]\n",
    "    #df_nodupl.iloc[idx]['acts'] = list(acts)\n",
    "    if not ret: \n",
    "        df_nodupl.at[idx, 'activations'] = list(acts)\n",
    "    if ret: \n",
    "        return list(acts)"
   ]
  },
  {
   "cell_type": "code",
   "execution_count": 56,
   "id": "1565ab39",
   "metadata": {},
   "outputs": [
    {
     "data": {
      "text/plain": [
       "'CHEMBL188002'"
      ]
     },
     "execution_count": 56,
     "metadata": {},
     "output_type": "execute_result"
    }
   ],
   "source": [
    "df_nodupl.CID.values[0]"
   ]
  },
  {
   "cell_type": "code",
   "execution_count": 57,
   "id": "abb3fcfa",
   "metadata": {},
   "outputs": [],
   "source": [
    "%%capture\n",
    "for CID in df_nodupl.CID.values:\n",
    "    get_activations(CID)"
   ]
  },
  {
   "cell_type": "code",
   "execution_count": 58,
   "id": "cee1b0b3",
   "metadata": {},
   "outputs": [
    {
     "data": {
      "text/html": [
       "<div>\n",
       "<style scoped>\n",
       "    .dataframe tbody tr th:only-of-type {\n",
       "        vertical-align: middle;\n",
       "    }\n",
       "\n",
       "    .dataframe tbody tr th {\n",
       "        vertical-align: top;\n",
       "    }\n",
       "\n",
       "    .dataframe thead th {\n",
       "        text-align: right;\n",
       "    }\n",
       "</style>\n",
       "<table border=\"1\" class=\"dataframe\">\n",
       "  <thead>\n",
       "    <tr style=\"text-align: right;\">\n",
       "      <th></th>\n",
       "      <th>CID</th>\n",
       "      <th>SMILES</th>\n",
       "      <th>Image</th>\n",
       "      <th>Activity</th>\n",
       "      <th>is_valid</th>\n",
       "      <th>activations</th>\n",
       "    </tr>\n",
       "  </thead>\n",
       "  <tbody>\n",
       "    <tr>\n",
       "      <th>0</th>\n",
       "      <td>CHEMBL188002</td>\n",
       "      <td>S(=O)(=O)(N)c1cc(N/C(/S)=N\\c2cc(C(=O)[O-])c(cc2)C=2c3c(OC4=CC(=O)C=CC=24)cc(O)cc3)ccc1</td>\n",
       "      <td>CHEMBL188002.png</td>\n",
       "      <td>1</td>\n",
       "      <td>True</td>\n",
       "      <td>[5.5032654, 10.048343, -17.31778, -14.053343, 13.984513, 4.864218, -4.7096953, 1.836919, -15.5555935, 6.2807765, 5.7451677, 0.8034812, 12.560091, -5.1671, -1.8028165, -5.6881456, -3.1621966, -8.89922, -16.253075, -7.7476587, -13.426832, 4.9690948, -7.7601714, 0.25577074, 9.635523, 12.561703, 13.205139, -1.8483839, -15.035667, -7.4885373, -7.072807, 18.87959, -6.307008, -1.296998, 17.30038, -2.2501817, -15.682232, -14.019539, -6.491146, 12.829754, 5.048673, 1.23248, -9.63915, 14.789265, 9.695179, 7.560721, -9.20873, -1.7431337, -8.2916975, -13.906799, -7.8764586, -4.8383646, -4.5161123, 15....</td>\n",
       "    </tr>\n",
       "    <tr>\n",
       "      <th>1</th>\n",
       "      <td>CHEMBL364127</td>\n",
       "      <td>Clc1ccc(cc1)C(=O)NC1Cc2cc(S(=O)(=O)N)ccc2C1</td>\n",
       "      <td>CHEMBL364127.png</td>\n",
       "      <td>1</td>\n",
       "      <td>False</td>\n",
       "      <td>[13.412004, 21.004574, -26.307978, -22.236359, 20.578459, 6.4365683, -5.299841, -8.453075, -21.468401, 10.683358, 10.043964, -4.7898626, 3.5844026, -7.1558247, -15.153251, -7.467156, -2.0861392, -11.127424, -28.78122, -15.189134, -31.221687, 15.231798, -19.508877, -7.5954494, 2.5442061, 13.130162, 21.339844, -16.230719, -32.418217, -22.592999, -13.521738, 7.4390984, -12.357201, 4.145323, 10.581945, -9.717069, -24.058784, -25.427433, -13.582835, 22.702097, 7.548565, -7.2093406, -15.496616, 8.820328, 16.459162, 1.7130489, -10.520281, 7.3964987, -10.056394, -21.24533, -9.718643, -4.8923907, -...</td>\n",
       "    </tr>\n",
       "    <tr>\n",
       "      <th>2</th>\n",
       "      <td>CHEMBL1683469</td>\n",
       "      <td>S(=O)(=O)(N)c1ccc(cc1)CNS(=O)(=O)CC12CCC(CC1=O)C2(C)C</td>\n",
       "      <td>CHEMBL1683469.png</td>\n",
       "      <td>1</td>\n",
       "      <td>False</td>\n",
       "      <td>[7.260055, 20.458094, -28.864317, -24.5189, 22.811634, 9.115006, -6.956635, -7.2079024, -22.600964, 3.7386644, 6.2413406, -0.6697803, 6.7333417, -6.1601934, -12.053221, -13.2139, 1.9089876, -11.963772, -25.752401, -14.5117855, -27.4222, 12.465033, -18.91936, -6.8257976, 4.745255, 15.958157, 21.13392, -12.881676, -31.549852, -19.583916, -13.471519, 15.807277, -15.616222, 3.1116667, 12.788715, -8.491629, -27.253677, -25.931664, -14.328401, 23.930843, 12.806551, -12.029712, -14.041521, 7.048623, 17.05812, 2.7910516, -8.270421, 9.1994915, -11.473135, -24.672031, -14.910112, -3.2941058, 4.33507...</td>\n",
       "    </tr>\n",
       "    <tr>\n",
       "      <th>3</th>\n",
       "      <td>CHEMBL52564</td>\n",
       "      <td>Oc1ccccc1\\C=C\\C(=O)[O-]</td>\n",
       "      <td>CHEMBL52564.png</td>\n",
       "      <td>1</td>\n",
       "      <td>False</td>\n",
       "      <td>[15.713152, 15.654962, -4.6545277, -17.273909, 18.88624, 19.301352, -9.815918, -0.3967973, -7.7238584, 28.23034, 11.614911, -16.304138, -21.660004, -9.709376, 3.0579772, 0.6376445, -15.95339, 3.1082299, -12.458321, -15.387527, -9.103682, 16.572865, -3.1611018, 0.7017946, -9.661053, 9.195507, 10.943926, -8.438613, -8.46086, -6.1330967, -9.144573, -11.432229, -7.3922324, -5.3393316, -10.342282, -15.602887, -12.366268, -11.887112, -12.918312, 25.326591, -0.971171, -2.9504485, -8.905463, 1.1315564, 22.04964, -19.635885, -15.583317, -6.3223896, -4.6011195, -11.559268, -4.231245, -6.353094, 5.69...</td>\n",
       "    </tr>\n",
       "    <tr>\n",
       "      <th>4</th>\n",
       "      <td>CHEMBL21427</td>\n",
       "      <td>OB(O)c1ccc(OC)cc1</td>\n",
       "      <td>CHEMBL21427.png</td>\n",
       "      <td>1</td>\n",
       "      <td>False</td>\n",
       "      <td>[16.638702, 15.134977, -11.745832, -13.253998, 12.95108, 14.469639, -6.4251757, -13.358403, -12.694237, 21.63414, 12.593674, -14.496461, -17.145859, -3.5394368, -7.515234, -0.09313595, -12.603117, 5.2110987, -13.509979, -15.546734, -16.165321, 17.46834, -6.8711896, -3.4305093, -4.647941, 7.500122, 13.596459, -15.267646, -16.344229, -6.344523, -1.9548573, -9.5225725, -11.47632, -1.4816285, -12.584953, -12.47004, -8.739759, -9.981955, -11.7105465, 19.124863, 3.4045951, -11.0921335, -9.501782, 8.389684, 15.099842, -15.853493, -9.479639, -5.5205817, -4.8707905, -7.604986, -1.3077168, -7.28832,...</td>\n",
       "    </tr>\n",
       "  </tbody>\n",
       "</table>\n",
       "</div>"
      ],
      "text/plain": [
       "             CID  \\\n",
       "0   CHEMBL188002   \n",
       "1   CHEMBL364127   \n",
       "2  CHEMBL1683469   \n",
       "3    CHEMBL52564   \n",
       "4    CHEMBL21427   \n",
       "\n",
       "                                                                                   SMILES  \\\n",
       "0  S(=O)(=O)(N)c1cc(N/C(/S)=N\\c2cc(C(=O)[O-])c(cc2)C=2c3c(OC4=CC(=O)C=CC=24)cc(O)cc3)ccc1   \n",
       "1                                             Clc1ccc(cc1)C(=O)NC1Cc2cc(S(=O)(=O)N)ccc2C1   \n",
       "2                                   S(=O)(=O)(N)c1ccc(cc1)CNS(=O)(=O)CC12CCC(CC1=O)C2(C)C   \n",
       "3                                                                 Oc1ccccc1\\C=C\\C(=O)[O-]   \n",
       "4                                                                       OB(O)c1ccc(OC)cc1   \n",
       "\n",
       "               Image  Activity is_valid  \\\n",
       "0   CHEMBL188002.png         1     True   \n",
       "1   CHEMBL364127.png         1    False   \n",
       "2  CHEMBL1683469.png         1    False   \n",
       "3    CHEMBL52564.png         1    False   \n",
       "4    CHEMBL21427.png         1    False   \n",
       "\n",
       "                                                                                                                                                                                                                                                                                                                                                                                                                                                                                                                                                                                                               activations  \n",
       "0  [5.5032654, 10.048343, -17.31778, -14.053343, 13.984513, 4.864218, -4.7096953, 1.836919, -15.5555935, 6.2807765, 5.7451677, 0.8034812, 12.560091, -5.1671, -1.8028165, -5.6881456, -3.1621966, -8.89922, -16.253075, -7.7476587, -13.426832, 4.9690948, -7.7601714, 0.25577074, 9.635523, 12.561703, 13.205139, -1.8483839, -15.035667, -7.4885373, -7.072807, 18.87959, -6.307008, -1.296998, 17.30038, -2.2501817, -15.682232, -14.019539, -6.491146, 12.829754, 5.048673, 1.23248, -9.63915, 14.789265, 9.695179, 7.560721, -9.20873, -1.7431337, -8.2916975, -13.906799, -7.8764586, -4.8383646, -4.5161123, 15....  \n",
       "1  [13.412004, 21.004574, -26.307978, -22.236359, 20.578459, 6.4365683, -5.299841, -8.453075, -21.468401, 10.683358, 10.043964, -4.7898626, 3.5844026, -7.1558247, -15.153251, -7.467156, -2.0861392, -11.127424, -28.78122, -15.189134, -31.221687, 15.231798, -19.508877, -7.5954494, 2.5442061, 13.130162, 21.339844, -16.230719, -32.418217, -22.592999, -13.521738, 7.4390984, -12.357201, 4.145323, 10.581945, -9.717069, -24.058784, -25.427433, -13.582835, 22.702097, 7.548565, -7.2093406, -15.496616, 8.820328, 16.459162, 1.7130489, -10.520281, 7.3964987, -10.056394, -21.24533, -9.718643, -4.8923907, -...  \n",
       "2  [7.260055, 20.458094, -28.864317, -24.5189, 22.811634, 9.115006, -6.956635, -7.2079024, -22.600964, 3.7386644, 6.2413406, -0.6697803, 6.7333417, -6.1601934, -12.053221, -13.2139, 1.9089876, -11.963772, -25.752401, -14.5117855, -27.4222, 12.465033, -18.91936, -6.8257976, 4.745255, 15.958157, 21.13392, -12.881676, -31.549852, -19.583916, -13.471519, 15.807277, -15.616222, 3.1116667, 12.788715, -8.491629, -27.253677, -25.931664, -14.328401, 23.930843, 12.806551, -12.029712, -14.041521, 7.048623, 17.05812, 2.7910516, -8.270421, 9.1994915, -11.473135, -24.672031, -14.910112, -3.2941058, 4.33507...  \n",
       "3  [15.713152, 15.654962, -4.6545277, -17.273909, 18.88624, 19.301352, -9.815918, -0.3967973, -7.7238584, 28.23034, 11.614911, -16.304138, -21.660004, -9.709376, 3.0579772, 0.6376445, -15.95339, 3.1082299, -12.458321, -15.387527, -9.103682, 16.572865, -3.1611018, 0.7017946, -9.661053, 9.195507, 10.943926, -8.438613, -8.46086, -6.1330967, -9.144573, -11.432229, -7.3922324, -5.3393316, -10.342282, -15.602887, -12.366268, -11.887112, -12.918312, 25.326591, -0.971171, -2.9504485, -8.905463, 1.1315564, 22.04964, -19.635885, -15.583317, -6.3223896, -4.6011195, -11.559268, -4.231245, -6.353094, 5.69...  \n",
       "4  [16.638702, 15.134977, -11.745832, -13.253998, 12.95108, 14.469639, -6.4251757, -13.358403, -12.694237, 21.63414, 12.593674, -14.496461, -17.145859, -3.5394368, -7.515234, -0.09313595, -12.603117, 5.2110987, -13.509979, -15.546734, -16.165321, 17.46834, -6.8711896, -3.4305093, -4.647941, 7.500122, 13.596459, -15.267646, -16.344229, -6.344523, -1.9548573, -9.5225725, -11.47632, -1.4816285, -12.584953, -12.47004, -8.739759, -9.981955, -11.7105465, 19.124863, 3.4045951, -11.0921335, -9.501782, 8.389684, 15.099842, -15.853493, -9.479639, -5.5205817, -4.8707905, -7.604986, -1.3077168, -7.28832,...  "
      ]
     },
     "execution_count": 58,
     "metadata": {},
     "output_type": "execute_result"
    }
   ],
   "source": [
    "df_nodupl.head()"
   ]
  },
  {
   "cell_type": "code",
   "execution_count": 59,
   "id": "079948fc",
   "metadata": {},
   "outputs": [
    {
     "name": "stdout",
     "output_type": "stream",
     "text": [
      "<class 'pandas.core.frame.DataFrame'>\n",
      "RangeIndex: 17941 entries, 0 to 17940\n",
      "Data columns (total 6 columns):\n",
      " #   Column       Non-Null Count  Dtype \n",
      "---  ------       --------------  ----- \n",
      " 0   CID          17941 non-null  object\n",
      " 1   SMILES       17941 non-null  object\n",
      " 2   Image        17941 non-null  object\n",
      " 3   Activity     17941 non-null  int64 \n",
      " 4   is_valid     17941 non-null  object\n",
      " 5   activations  17941 non-null  object\n",
      "dtypes: int64(1), object(5)\n",
      "memory usage: 841.1+ KB\n"
     ]
    }
   ],
   "source": [
    "df_nodupl.info()"
   ]
  },
  {
   "cell_type": "code",
   "execution_count": 60,
   "id": "268ff174",
   "metadata": {},
   "outputs": [],
   "source": [
    "df_acts = pd.concat([df_nodupl, pd.DataFrame(df_nodupl.activations.values.tolist()).add_prefix('act_')], axis=1)"
   ]
  },
  {
   "cell_type": "code",
   "execution_count": 61,
   "id": "6cf076f9",
   "metadata": {},
   "outputs": [],
   "source": [
    "df_acts.drop('activations', axis=1, inplace=True)"
   ]
  },
  {
   "cell_type": "code",
   "execution_count": 62,
   "id": "30c2c4e0",
   "metadata": {},
   "outputs": [
    {
     "data": {
      "text/html": [
       "<div>\n",
       "<style scoped>\n",
       "    .dataframe tbody tr th:only-of-type {\n",
       "        vertical-align: middle;\n",
       "    }\n",
       "\n",
       "    .dataframe tbody tr th {\n",
       "        vertical-align: top;\n",
       "    }\n",
       "\n",
       "    .dataframe thead th {\n",
       "        text-align: right;\n",
       "    }\n",
       "</style>\n",
       "<table border=\"1\" class=\"dataframe\">\n",
       "  <thead>\n",
       "    <tr style=\"text-align: right;\">\n",
       "      <th></th>\n",
       "      <th>CID</th>\n",
       "      <th>SMILES</th>\n",
       "      <th>Image</th>\n",
       "      <th>Activity</th>\n",
       "      <th>is_valid</th>\n",
       "      <th>act_0</th>\n",
       "      <th>act_1</th>\n",
       "      <th>act_2</th>\n",
       "      <th>act_3</th>\n",
       "      <th>act_4</th>\n",
       "      <th>...</th>\n",
       "      <th>act_502</th>\n",
       "      <th>act_503</th>\n",
       "      <th>act_504</th>\n",
       "      <th>act_505</th>\n",
       "      <th>act_506</th>\n",
       "      <th>act_507</th>\n",
       "      <th>act_508</th>\n",
       "      <th>act_509</th>\n",
       "      <th>act_510</th>\n",
       "      <th>act_511</th>\n",
       "    </tr>\n",
       "  </thead>\n",
       "  <tbody>\n",
       "    <tr>\n",
       "      <th>0</th>\n",
       "      <td>CHEMBL188002</td>\n",
       "      <td>S(=O)(=O)(N)c1cc(N/C(/S)=N\\c2cc(C(=O)[O-])c(cc2)C=2c3c(OC4=CC(=O)C=CC=24)cc(O)cc3)ccc1</td>\n",
       "      <td>CHEMBL188002.png</td>\n",
       "      <td>1</td>\n",
       "      <td>True</td>\n",
       "      <td>5.503265</td>\n",
       "      <td>10.048343</td>\n",
       "      <td>-17.317780</td>\n",
       "      <td>-14.053343</td>\n",
       "      <td>13.984513</td>\n",
       "      <td>...</td>\n",
       "      <td>-5.812351</td>\n",
       "      <td>12.728530</td>\n",
       "      <td>-7.898805</td>\n",
       "      <td>-6.179134</td>\n",
       "      <td>-6.257827</td>\n",
       "      <td>-15.549616</td>\n",
       "      <td>13.285661</td>\n",
       "      <td>10.505152</td>\n",
       "      <td>0.485632</td>\n",
       "      <td>-11.573029</td>\n",
       "    </tr>\n",
       "    <tr>\n",
       "      <th>1</th>\n",
       "      <td>CHEMBL364127</td>\n",
       "      <td>Clc1ccc(cc1)C(=O)NC1Cc2cc(S(=O)(=O)N)ccc2C1</td>\n",
       "      <td>CHEMBL364127.png</td>\n",
       "      <td>1</td>\n",
       "      <td>False</td>\n",
       "      <td>13.412004</td>\n",
       "      <td>21.004574</td>\n",
       "      <td>-26.307978</td>\n",
       "      <td>-22.236359</td>\n",
       "      <td>20.578459</td>\n",
       "      <td>...</td>\n",
       "      <td>-7.801254</td>\n",
       "      <td>12.942183</td>\n",
       "      <td>-7.314398</td>\n",
       "      <td>-12.933152</td>\n",
       "      <td>-6.403533</td>\n",
       "      <td>-31.702936</td>\n",
       "      <td>13.820628</td>\n",
       "      <td>23.262939</td>\n",
       "      <td>9.530989</td>\n",
       "      <td>-24.733044</td>\n",
       "    </tr>\n",
       "    <tr>\n",
       "      <th>2</th>\n",
       "      <td>CHEMBL1683469</td>\n",
       "      <td>S(=O)(=O)(N)c1ccc(cc1)CNS(=O)(=O)CC12CCC(CC1=O)C2(C)C</td>\n",
       "      <td>CHEMBL1683469.png</td>\n",
       "      <td>1</td>\n",
       "      <td>False</td>\n",
       "      <td>7.260055</td>\n",
       "      <td>20.458094</td>\n",
       "      <td>-28.864317</td>\n",
       "      <td>-24.518900</td>\n",
       "      <td>22.811634</td>\n",
       "      <td>...</td>\n",
       "      <td>-8.171293</td>\n",
       "      <td>12.266936</td>\n",
       "      <td>-3.845922</td>\n",
       "      <td>-13.375577</td>\n",
       "      <td>-5.168748</td>\n",
       "      <td>-35.100037</td>\n",
       "      <td>18.613527</td>\n",
       "      <td>21.361887</td>\n",
       "      <td>10.445678</td>\n",
       "      <td>-21.621212</td>\n",
       "    </tr>\n",
       "    <tr>\n",
       "      <th>3</th>\n",
       "      <td>CHEMBL52564</td>\n",
       "      <td>Oc1ccccc1\\C=C\\C(=O)[O-]</td>\n",
       "      <td>CHEMBL52564.png</td>\n",
       "      <td>1</td>\n",
       "      <td>False</td>\n",
       "      <td>15.713152</td>\n",
       "      <td>15.654962</td>\n",
       "      <td>-4.654528</td>\n",
       "      <td>-17.273909</td>\n",
       "      <td>18.886240</td>\n",
       "      <td>...</td>\n",
       "      <td>-14.237929</td>\n",
       "      <td>14.534154</td>\n",
       "      <td>-1.153313</td>\n",
       "      <td>-20.543133</td>\n",
       "      <td>-0.235949</td>\n",
       "      <td>-6.748789</td>\n",
       "      <td>-4.842742</td>\n",
       "      <td>15.326861</td>\n",
       "      <td>4.321653</td>\n",
       "      <td>-12.885104</td>\n",
       "    </tr>\n",
       "    <tr>\n",
       "      <th>4</th>\n",
       "      <td>CHEMBL21427</td>\n",
       "      <td>OB(O)c1ccc(OC)cc1</td>\n",
       "      <td>CHEMBL21427.png</td>\n",
       "      <td>1</td>\n",
       "      <td>False</td>\n",
       "      <td>16.638702</td>\n",
       "      <td>15.134977</td>\n",
       "      <td>-11.745832</td>\n",
       "      <td>-13.253998</td>\n",
       "      <td>12.951080</td>\n",
       "      <td>...</td>\n",
       "      <td>-9.017034</td>\n",
       "      <td>19.773624</td>\n",
       "      <td>-11.659730</td>\n",
       "      <td>-16.733728</td>\n",
       "      <td>1.383872</td>\n",
       "      <td>-11.880195</td>\n",
       "      <td>-9.137489</td>\n",
       "      <td>14.942449</td>\n",
       "      <td>4.191879</td>\n",
       "      <td>-12.029409</td>\n",
       "    </tr>\n",
       "  </tbody>\n",
       "</table>\n",
       "<p>5 rows × 517 columns</p>\n",
       "</div>"
      ],
      "text/plain": [
       "             CID  \\\n",
       "0   CHEMBL188002   \n",
       "1   CHEMBL364127   \n",
       "2  CHEMBL1683469   \n",
       "3    CHEMBL52564   \n",
       "4    CHEMBL21427   \n",
       "\n",
       "                                                                                   SMILES  \\\n",
       "0  S(=O)(=O)(N)c1cc(N/C(/S)=N\\c2cc(C(=O)[O-])c(cc2)C=2c3c(OC4=CC(=O)C=CC=24)cc(O)cc3)ccc1   \n",
       "1                                             Clc1ccc(cc1)C(=O)NC1Cc2cc(S(=O)(=O)N)ccc2C1   \n",
       "2                                   S(=O)(=O)(N)c1ccc(cc1)CNS(=O)(=O)CC12CCC(CC1=O)C2(C)C   \n",
       "3                                                                 Oc1ccccc1\\C=C\\C(=O)[O-]   \n",
       "4                                                                       OB(O)c1ccc(OC)cc1   \n",
       "\n",
       "               Image  Activity is_valid      act_0      act_1      act_2  \\\n",
       "0   CHEMBL188002.png         1     True   5.503265  10.048343 -17.317780   \n",
       "1   CHEMBL364127.png         1    False  13.412004  21.004574 -26.307978   \n",
       "2  CHEMBL1683469.png         1    False   7.260055  20.458094 -28.864317   \n",
       "3    CHEMBL52564.png         1    False  15.713152  15.654962  -4.654528   \n",
       "4    CHEMBL21427.png         1    False  16.638702  15.134977 -11.745832   \n",
       "\n",
       "       act_3      act_4  ...    act_502    act_503    act_504    act_505  \\\n",
       "0 -14.053343  13.984513  ...  -5.812351  12.728530  -7.898805  -6.179134   \n",
       "1 -22.236359  20.578459  ...  -7.801254  12.942183  -7.314398 -12.933152   \n",
       "2 -24.518900  22.811634  ...  -8.171293  12.266936  -3.845922 -13.375577   \n",
       "3 -17.273909  18.886240  ... -14.237929  14.534154  -1.153313 -20.543133   \n",
       "4 -13.253998  12.951080  ...  -9.017034  19.773624 -11.659730 -16.733728   \n",
       "\n",
       "    act_506    act_507    act_508    act_509    act_510    act_511  \n",
       "0 -6.257827 -15.549616  13.285661  10.505152   0.485632 -11.573029  \n",
       "1 -6.403533 -31.702936  13.820628  23.262939   9.530989 -24.733044  \n",
       "2 -5.168748 -35.100037  18.613527  21.361887  10.445678 -21.621212  \n",
       "3 -0.235949  -6.748789  -4.842742  15.326861   4.321653 -12.885104  \n",
       "4  1.383872 -11.880195  -9.137489  14.942449   4.191879 -12.029409  \n",
       "\n",
       "[5 rows x 517 columns]"
      ]
     },
     "execution_count": 62,
     "metadata": {},
     "output_type": "execute_result"
    }
   ],
   "source": [
    "df_acts.head()"
   ]
  },
  {
   "cell_type": "code",
   "execution_count": 63,
   "id": "c5832b49",
   "metadata": {},
   "outputs": [
    {
     "name": "stdout",
     "output_type": "stream",
     "text": [
      "<class 'pandas.core.frame.DataFrame'>\n",
      "RangeIndex: 17941 entries, 0 to 17940\n",
      "Columns: 517 entries, CID to act_511\n",
      "dtypes: float64(512), int64(1), object(4)\n",
      "memory usage: 70.8+ MB\n"
     ]
    }
   ],
   "source": [
    "df_acts.info()"
   ]
  },
  {
   "cell_type": "markdown",
   "id": "e0d37630",
   "metadata": {},
   "source": [
    "# Add ECFB to dataframe"
   ]
  },
  {
   "cell_type": "code",
   "execution_count": 65,
   "id": "5f0b84ad",
   "metadata": {},
   "outputs": [],
   "source": [
    "df_ecfp = pd.read_csv(path/f'{dataset}_ecfp_1024.csv')"
   ]
  },
  {
   "cell_type": "code",
   "execution_count": 66,
   "id": "1b2402c0",
   "metadata": {},
   "outputs": [
    {
     "data": {
      "text/html": [
       "<div>\n",
       "<style scoped>\n",
       "    .dataframe tbody tr th:only-of-type {\n",
       "        vertical-align: middle;\n",
       "    }\n",
       "\n",
       "    .dataframe tbody tr th {\n",
       "        vertical-align: top;\n",
       "    }\n",
       "\n",
       "    .dataframe thead th {\n",
       "        text-align: right;\n",
       "    }\n",
       "</style>\n",
       "<table border=\"1\" class=\"dataframe\">\n",
       "  <thead>\n",
       "    <tr style=\"text-align: right;\">\n",
       "      <th></th>\n",
       "      <th>CID</th>\n",
       "      <th>SMILES</th>\n",
       "      <th>ECFP4_1</th>\n",
       "      <th>ECFP4_2</th>\n",
       "      <th>ECFP4_3</th>\n",
       "      <th>ECFP4_4</th>\n",
       "      <th>ECFP4_5</th>\n",
       "      <th>ECFP4_6</th>\n",
       "      <th>ECFP4_7</th>\n",
       "      <th>ECFP4_8</th>\n",
       "      <th>...</th>\n",
       "      <th>ECFP4_1016</th>\n",
       "      <th>ECFP4_1017</th>\n",
       "      <th>ECFP4_1018</th>\n",
       "      <th>ECFP4_1019</th>\n",
       "      <th>ECFP4_1020</th>\n",
       "      <th>ECFP4_1021</th>\n",
       "      <th>ECFP4_1022</th>\n",
       "      <th>ECFP4_1023</th>\n",
       "      <th>ECFP4_1024</th>\n",
       "      <th>Activity</th>\n",
       "    </tr>\n",
       "  </thead>\n",
       "  <tbody>\n",
       "    <tr>\n",
       "      <th>0</th>\n",
       "      <td>CHEMBL188002</td>\n",
       "      <td>S(=O)(=O)(N)c1cc(N/C(/S)=N\\c2cc(C(=O)[O-])c(cc2)C=2c3c(OC4=CC(=O)C=CC=24)cc(O)cc3)ccc1</td>\n",
       "      <td>0</td>\n",
       "      <td>0</td>\n",
       "      <td>0</td>\n",
       "      <td>0</td>\n",
       "      <td>0</td>\n",
       "      <td>0</td>\n",
       "      <td>0</td>\n",
       "      <td>0</td>\n",
       "      <td>...</td>\n",
       "      <td>0</td>\n",
       "      <td>0</td>\n",
       "      <td>0</td>\n",
       "      <td>0</td>\n",
       "      <td>0</td>\n",
       "      <td>0</td>\n",
       "      <td>0</td>\n",
       "      <td>0</td>\n",
       "      <td>0</td>\n",
       "      <td>1</td>\n",
       "    </tr>\n",
       "    <tr>\n",
       "      <th>1</th>\n",
       "      <td>CHEMBL364127</td>\n",
       "      <td>Clc1ccc(cc1)C(=O)NC1Cc2cc(S(=O)(=O)N)ccc2C1</td>\n",
       "      <td>0</td>\n",
       "      <td>0</td>\n",
       "      <td>0</td>\n",
       "      <td>0</td>\n",
       "      <td>0</td>\n",
       "      <td>0</td>\n",
       "      <td>0</td>\n",
       "      <td>0</td>\n",
       "      <td>...</td>\n",
       "      <td>0</td>\n",
       "      <td>0</td>\n",
       "      <td>0</td>\n",
       "      <td>0</td>\n",
       "      <td>1</td>\n",
       "      <td>0</td>\n",
       "      <td>0</td>\n",
       "      <td>0</td>\n",
       "      <td>0</td>\n",
       "      <td>1</td>\n",
       "    </tr>\n",
       "    <tr>\n",
       "      <th>2</th>\n",
       "      <td>CHEMBL1683469</td>\n",
       "      <td>S(=O)(=O)(N)c1ccc(cc1)CNS(=O)(=O)CC12CCC(CC1=O)C2(C)C</td>\n",
       "      <td>0</td>\n",
       "      <td>0</td>\n",
       "      <td>0</td>\n",
       "      <td>0</td>\n",
       "      <td>0</td>\n",
       "      <td>0</td>\n",
       "      <td>0</td>\n",
       "      <td>0</td>\n",
       "      <td>...</td>\n",
       "      <td>0</td>\n",
       "      <td>0</td>\n",
       "      <td>0</td>\n",
       "      <td>0</td>\n",
       "      <td>1</td>\n",
       "      <td>0</td>\n",
       "      <td>0</td>\n",
       "      <td>0</td>\n",
       "      <td>0</td>\n",
       "      <td>1</td>\n",
       "    </tr>\n",
       "    <tr>\n",
       "      <th>3</th>\n",
       "      <td>CHEMBL52564</td>\n",
       "      <td>Oc1ccccc1\\C=C\\C(=O)[O-]</td>\n",
       "      <td>0</td>\n",
       "      <td>0</td>\n",
       "      <td>0</td>\n",
       "      <td>0</td>\n",
       "      <td>0</td>\n",
       "      <td>0</td>\n",
       "      <td>0</td>\n",
       "      <td>0</td>\n",
       "      <td>...</td>\n",
       "      <td>0</td>\n",
       "      <td>0</td>\n",
       "      <td>0</td>\n",
       "      <td>0</td>\n",
       "      <td>0</td>\n",
       "      <td>0</td>\n",
       "      <td>0</td>\n",
       "      <td>0</td>\n",
       "      <td>0</td>\n",
       "      <td>1</td>\n",
       "    </tr>\n",
       "    <tr>\n",
       "      <th>4</th>\n",
       "      <td>CHEMBL21427</td>\n",
       "      <td>OB(O)c1ccc(OC)cc1</td>\n",
       "      <td>0</td>\n",
       "      <td>0</td>\n",
       "      <td>0</td>\n",
       "      <td>0</td>\n",
       "      <td>0</td>\n",
       "      <td>0</td>\n",
       "      <td>0</td>\n",
       "      <td>0</td>\n",
       "      <td>...</td>\n",
       "      <td>0</td>\n",
       "      <td>0</td>\n",
       "      <td>0</td>\n",
       "      <td>0</td>\n",
       "      <td>0</td>\n",
       "      <td>0</td>\n",
       "      <td>0</td>\n",
       "      <td>0</td>\n",
       "      <td>0</td>\n",
       "      <td>1</td>\n",
       "    </tr>\n",
       "  </tbody>\n",
       "</table>\n",
       "<p>5 rows × 1027 columns</p>\n",
       "</div>"
      ],
      "text/plain": [
       "             CID  \\\n",
       "0   CHEMBL188002   \n",
       "1   CHEMBL364127   \n",
       "2  CHEMBL1683469   \n",
       "3    CHEMBL52564   \n",
       "4    CHEMBL21427   \n",
       "\n",
       "                                                                                   SMILES  \\\n",
       "0  S(=O)(=O)(N)c1cc(N/C(/S)=N\\c2cc(C(=O)[O-])c(cc2)C=2c3c(OC4=CC(=O)C=CC=24)cc(O)cc3)ccc1   \n",
       "1                                             Clc1ccc(cc1)C(=O)NC1Cc2cc(S(=O)(=O)N)ccc2C1   \n",
       "2                                   S(=O)(=O)(N)c1ccc(cc1)CNS(=O)(=O)CC12CCC(CC1=O)C2(C)C   \n",
       "3                                                                 Oc1ccccc1\\C=C\\C(=O)[O-]   \n",
       "4                                                                       OB(O)c1ccc(OC)cc1   \n",
       "\n",
       "   ECFP4_1  ECFP4_2  ECFP4_3  ECFP4_4  ECFP4_5  ECFP4_6  ECFP4_7  ECFP4_8  \\\n",
       "0        0        0        0        0        0        0        0        0   \n",
       "1        0        0        0        0        0        0        0        0   \n",
       "2        0        0        0        0        0        0        0        0   \n",
       "3        0        0        0        0        0        0        0        0   \n",
       "4        0        0        0        0        0        0        0        0   \n",
       "\n",
       "   ...  ECFP4_1016  ECFP4_1017  ECFP4_1018  ECFP4_1019  ECFP4_1020  \\\n",
       "0  ...           0           0           0           0           0   \n",
       "1  ...           0           0           0           0           1   \n",
       "2  ...           0           0           0           0           1   \n",
       "3  ...           0           0           0           0           0   \n",
       "4  ...           0           0           0           0           0   \n",
       "\n",
       "   ECFP4_1021  ECFP4_1022  ECFP4_1023  ECFP4_1024  Activity  \n",
       "0           0           0           0           0         1  \n",
       "1           0           0           0           0         1  \n",
       "2           0           0           0           0         1  \n",
       "3           0           0           0           0         1  \n",
       "4           0           0           0           0         1  \n",
       "\n",
       "[5 rows x 1027 columns]"
      ]
     },
     "execution_count": 66,
     "metadata": {},
     "output_type": "execute_result"
    }
   ],
   "source": [
    "df_ecfp.head()"
   ]
  },
  {
   "cell_type": "code",
   "execution_count": 67,
   "id": "f6fb8e74",
   "metadata": {},
   "outputs": [
    {
     "name": "stdout",
     "output_type": "stream",
     "text": [
      "<class 'pandas.core.frame.DataFrame'>\n",
      "RangeIndex: 17941 entries, 0 to 17940\n",
      "Columns: 1027 entries, CID to Activity\n",
      "dtypes: int64(1025), object(2)\n",
      "memory usage: 140.6+ MB\n"
     ]
    }
   ],
   "source": [
    "df_ecfp.info()"
   ]
  },
  {
   "cell_type": "code",
   "execution_count": 68,
   "id": "d98076bf",
   "metadata": {},
   "outputs": [
    {
     "name": "stdout",
     "output_type": "stream",
     "text": [
      "<class 'pandas.core.frame.DataFrame'>\n",
      "RangeIndex: 17941 entries, 0 to 17940\n",
      "Columns: 517 entries, CID to act_511\n",
      "dtypes: float64(512), int64(1), object(4)\n",
      "memory usage: 70.8+ MB\n"
     ]
    }
   ],
   "source": [
    "df_acts.info()"
   ]
  },
  {
   "cell_type": "code",
   "execution_count": 69,
   "id": "f9bbd803",
   "metadata": {},
   "outputs": [],
   "source": [
    "df = df_ecfp.merge(df_acts, on='CID')"
   ]
  },
  {
   "cell_type": "code",
   "execution_count": 70,
   "id": "185b6945",
   "metadata": {},
   "outputs": [
    {
     "data": {
      "text/html": [
       "<div>\n",
       "<style scoped>\n",
       "    .dataframe tbody tr th:only-of-type {\n",
       "        vertical-align: middle;\n",
       "    }\n",
       "\n",
       "    .dataframe tbody tr th {\n",
       "        vertical-align: top;\n",
       "    }\n",
       "\n",
       "    .dataframe thead th {\n",
       "        text-align: right;\n",
       "    }\n",
       "</style>\n",
       "<table border=\"1\" class=\"dataframe\">\n",
       "  <thead>\n",
       "    <tr style=\"text-align: right;\">\n",
       "      <th></th>\n",
       "      <th>CID</th>\n",
       "      <th>SMILES_x</th>\n",
       "      <th>ECFP4_1</th>\n",
       "      <th>ECFP4_2</th>\n",
       "      <th>ECFP4_3</th>\n",
       "      <th>ECFP4_4</th>\n",
       "      <th>ECFP4_5</th>\n",
       "      <th>ECFP4_6</th>\n",
       "      <th>ECFP4_7</th>\n",
       "      <th>ECFP4_8</th>\n",
       "      <th>...</th>\n",
       "      <th>act_502</th>\n",
       "      <th>act_503</th>\n",
       "      <th>act_504</th>\n",
       "      <th>act_505</th>\n",
       "      <th>act_506</th>\n",
       "      <th>act_507</th>\n",
       "      <th>act_508</th>\n",
       "      <th>act_509</th>\n",
       "      <th>act_510</th>\n",
       "      <th>act_511</th>\n",
       "    </tr>\n",
       "  </thead>\n",
       "  <tbody>\n",
       "    <tr>\n",
       "      <th>0</th>\n",
       "      <td>CHEMBL188002</td>\n",
       "      <td>S(=O)(=O)(N)c1cc(N/C(/S)=N\\c2cc(C(=O)[O-])c(cc2)C=2c3c(OC4=CC(=O)C=CC=24)cc(O)cc3)ccc1</td>\n",
       "      <td>0</td>\n",
       "      <td>0</td>\n",
       "      <td>0</td>\n",
       "      <td>0</td>\n",
       "      <td>0</td>\n",
       "      <td>0</td>\n",
       "      <td>0</td>\n",
       "      <td>0</td>\n",
       "      <td>...</td>\n",
       "      <td>-5.812351</td>\n",
       "      <td>12.728530</td>\n",
       "      <td>-7.898805</td>\n",
       "      <td>-6.179134</td>\n",
       "      <td>-6.257827</td>\n",
       "      <td>-15.549616</td>\n",
       "      <td>13.285661</td>\n",
       "      <td>10.505152</td>\n",
       "      <td>0.485632</td>\n",
       "      <td>-11.573029</td>\n",
       "    </tr>\n",
       "    <tr>\n",
       "      <th>1</th>\n",
       "      <td>CHEMBL364127</td>\n",
       "      <td>Clc1ccc(cc1)C(=O)NC1Cc2cc(S(=O)(=O)N)ccc2C1</td>\n",
       "      <td>0</td>\n",
       "      <td>0</td>\n",
       "      <td>0</td>\n",
       "      <td>0</td>\n",
       "      <td>0</td>\n",
       "      <td>0</td>\n",
       "      <td>0</td>\n",
       "      <td>0</td>\n",
       "      <td>...</td>\n",
       "      <td>-7.801254</td>\n",
       "      <td>12.942183</td>\n",
       "      <td>-7.314398</td>\n",
       "      <td>-12.933152</td>\n",
       "      <td>-6.403533</td>\n",
       "      <td>-31.702936</td>\n",
       "      <td>13.820628</td>\n",
       "      <td>23.262939</td>\n",
       "      <td>9.530989</td>\n",
       "      <td>-24.733044</td>\n",
       "    </tr>\n",
       "    <tr>\n",
       "      <th>2</th>\n",
       "      <td>CHEMBL1683469</td>\n",
       "      <td>S(=O)(=O)(N)c1ccc(cc1)CNS(=O)(=O)CC12CCC(CC1=O)C2(C)C</td>\n",
       "      <td>0</td>\n",
       "      <td>0</td>\n",
       "      <td>0</td>\n",
       "      <td>0</td>\n",
       "      <td>0</td>\n",
       "      <td>0</td>\n",
       "      <td>0</td>\n",
       "      <td>0</td>\n",
       "      <td>...</td>\n",
       "      <td>-8.171293</td>\n",
       "      <td>12.266936</td>\n",
       "      <td>-3.845922</td>\n",
       "      <td>-13.375577</td>\n",
       "      <td>-5.168748</td>\n",
       "      <td>-35.100037</td>\n",
       "      <td>18.613527</td>\n",
       "      <td>21.361887</td>\n",
       "      <td>10.445678</td>\n",
       "      <td>-21.621212</td>\n",
       "    </tr>\n",
       "    <tr>\n",
       "      <th>3</th>\n",
       "      <td>CHEMBL52564</td>\n",
       "      <td>Oc1ccccc1\\C=C\\C(=O)[O-]</td>\n",
       "      <td>0</td>\n",
       "      <td>0</td>\n",
       "      <td>0</td>\n",
       "      <td>0</td>\n",
       "      <td>0</td>\n",
       "      <td>0</td>\n",
       "      <td>0</td>\n",
       "      <td>0</td>\n",
       "      <td>...</td>\n",
       "      <td>-14.237929</td>\n",
       "      <td>14.534154</td>\n",
       "      <td>-1.153313</td>\n",
       "      <td>-20.543133</td>\n",
       "      <td>-0.235949</td>\n",
       "      <td>-6.748789</td>\n",
       "      <td>-4.842742</td>\n",
       "      <td>15.326861</td>\n",
       "      <td>4.321653</td>\n",
       "      <td>-12.885104</td>\n",
       "    </tr>\n",
       "    <tr>\n",
       "      <th>4</th>\n",
       "      <td>CHEMBL21427</td>\n",
       "      <td>OB(O)c1ccc(OC)cc1</td>\n",
       "      <td>0</td>\n",
       "      <td>0</td>\n",
       "      <td>0</td>\n",
       "      <td>0</td>\n",
       "      <td>0</td>\n",
       "      <td>0</td>\n",
       "      <td>0</td>\n",
       "      <td>0</td>\n",
       "      <td>...</td>\n",
       "      <td>-9.017034</td>\n",
       "      <td>19.773624</td>\n",
       "      <td>-11.659730</td>\n",
       "      <td>-16.733728</td>\n",
       "      <td>1.383872</td>\n",
       "      <td>-11.880195</td>\n",
       "      <td>-9.137489</td>\n",
       "      <td>14.942449</td>\n",
       "      <td>4.191879</td>\n",
       "      <td>-12.029409</td>\n",
       "    </tr>\n",
       "  </tbody>\n",
       "</table>\n",
       "<p>5 rows × 1543 columns</p>\n",
       "</div>"
      ],
      "text/plain": [
       "             CID  \\\n",
       "0   CHEMBL188002   \n",
       "1   CHEMBL364127   \n",
       "2  CHEMBL1683469   \n",
       "3    CHEMBL52564   \n",
       "4    CHEMBL21427   \n",
       "\n",
       "                                                                                 SMILES_x  \\\n",
       "0  S(=O)(=O)(N)c1cc(N/C(/S)=N\\c2cc(C(=O)[O-])c(cc2)C=2c3c(OC4=CC(=O)C=CC=24)cc(O)cc3)ccc1   \n",
       "1                                             Clc1ccc(cc1)C(=O)NC1Cc2cc(S(=O)(=O)N)ccc2C1   \n",
       "2                                   S(=O)(=O)(N)c1ccc(cc1)CNS(=O)(=O)CC12CCC(CC1=O)C2(C)C   \n",
       "3                                                                 Oc1ccccc1\\C=C\\C(=O)[O-]   \n",
       "4                                                                       OB(O)c1ccc(OC)cc1   \n",
       "\n",
       "   ECFP4_1  ECFP4_2  ECFP4_3  ECFP4_4  ECFP4_5  ECFP4_6  ECFP4_7  ECFP4_8  \\\n",
       "0        0        0        0        0        0        0        0        0   \n",
       "1        0        0        0        0        0        0        0        0   \n",
       "2        0        0        0        0        0        0        0        0   \n",
       "3        0        0        0        0        0        0        0        0   \n",
       "4        0        0        0        0        0        0        0        0   \n",
       "\n",
       "   ...    act_502    act_503    act_504    act_505   act_506    act_507  \\\n",
       "0  ...  -5.812351  12.728530  -7.898805  -6.179134 -6.257827 -15.549616   \n",
       "1  ...  -7.801254  12.942183  -7.314398 -12.933152 -6.403533 -31.702936   \n",
       "2  ...  -8.171293  12.266936  -3.845922 -13.375577 -5.168748 -35.100037   \n",
       "3  ... -14.237929  14.534154  -1.153313 -20.543133 -0.235949  -6.748789   \n",
       "4  ...  -9.017034  19.773624 -11.659730 -16.733728  1.383872 -11.880195   \n",
       "\n",
       "     act_508    act_509    act_510    act_511  \n",
       "0  13.285661  10.505152   0.485632 -11.573029  \n",
       "1  13.820628  23.262939   9.530989 -24.733044  \n",
       "2  18.613527  21.361887  10.445678 -21.621212  \n",
       "3  -4.842742  15.326861   4.321653 -12.885104  \n",
       "4  -9.137489  14.942449   4.191879 -12.029409  \n",
       "\n",
       "[5 rows x 1543 columns]"
      ]
     },
     "execution_count": 70,
     "metadata": {},
     "output_type": "execute_result"
    }
   ],
   "source": [
    "df.head()"
   ]
  },
  {
   "cell_type": "code",
   "execution_count": 71,
   "id": "1a0d1fd9",
   "metadata": {},
   "outputs": [],
   "source": [
    "df.drop(['SMILES_y', \"Activity_y\"], axis=1, inplace=True)"
   ]
  },
  {
   "cell_type": "code",
   "execution_count": 72,
   "id": "490edc3a",
   "metadata": {},
   "outputs": [
    {
     "data": {
      "text/html": [
       "<div>\n",
       "<style scoped>\n",
       "    .dataframe tbody tr th:only-of-type {\n",
       "        vertical-align: middle;\n",
       "    }\n",
       "\n",
       "    .dataframe tbody tr th {\n",
       "        vertical-align: top;\n",
       "    }\n",
       "\n",
       "    .dataframe thead th {\n",
       "        text-align: right;\n",
       "    }\n",
       "</style>\n",
       "<table border=\"1\" class=\"dataframe\">\n",
       "  <thead>\n",
       "    <tr style=\"text-align: right;\">\n",
       "      <th></th>\n",
       "      <th>CID</th>\n",
       "      <th>SMILES_x</th>\n",
       "      <th>ECFP4_1</th>\n",
       "      <th>ECFP4_2</th>\n",
       "      <th>ECFP4_3</th>\n",
       "      <th>ECFP4_4</th>\n",
       "      <th>ECFP4_5</th>\n",
       "      <th>ECFP4_6</th>\n",
       "      <th>ECFP4_7</th>\n",
       "      <th>ECFP4_8</th>\n",
       "      <th>...</th>\n",
       "      <th>act_502</th>\n",
       "      <th>act_503</th>\n",
       "      <th>act_504</th>\n",
       "      <th>act_505</th>\n",
       "      <th>act_506</th>\n",
       "      <th>act_507</th>\n",
       "      <th>act_508</th>\n",
       "      <th>act_509</th>\n",
       "      <th>act_510</th>\n",
       "      <th>act_511</th>\n",
       "    </tr>\n",
       "  </thead>\n",
       "  <tbody>\n",
       "    <tr>\n",
       "      <th>0</th>\n",
       "      <td>CHEMBL188002</td>\n",
       "      <td>S(=O)(=O)(N)c1cc(N/C(/S)=N\\c2cc(C(=O)[O-])c(cc2)C=2c3c(OC4=CC(=O)C=CC=24)cc(O)cc3)ccc1</td>\n",
       "      <td>0</td>\n",
       "      <td>0</td>\n",
       "      <td>0</td>\n",
       "      <td>0</td>\n",
       "      <td>0</td>\n",
       "      <td>0</td>\n",
       "      <td>0</td>\n",
       "      <td>0</td>\n",
       "      <td>...</td>\n",
       "      <td>-5.812351</td>\n",
       "      <td>12.728530</td>\n",
       "      <td>-7.898805</td>\n",
       "      <td>-6.179134</td>\n",
       "      <td>-6.257827</td>\n",
       "      <td>-15.549616</td>\n",
       "      <td>13.285661</td>\n",
       "      <td>10.505152</td>\n",
       "      <td>0.485632</td>\n",
       "      <td>-11.573029</td>\n",
       "    </tr>\n",
       "    <tr>\n",
       "      <th>1</th>\n",
       "      <td>CHEMBL364127</td>\n",
       "      <td>Clc1ccc(cc1)C(=O)NC1Cc2cc(S(=O)(=O)N)ccc2C1</td>\n",
       "      <td>0</td>\n",
       "      <td>0</td>\n",
       "      <td>0</td>\n",
       "      <td>0</td>\n",
       "      <td>0</td>\n",
       "      <td>0</td>\n",
       "      <td>0</td>\n",
       "      <td>0</td>\n",
       "      <td>...</td>\n",
       "      <td>-7.801254</td>\n",
       "      <td>12.942183</td>\n",
       "      <td>-7.314398</td>\n",
       "      <td>-12.933152</td>\n",
       "      <td>-6.403533</td>\n",
       "      <td>-31.702936</td>\n",
       "      <td>13.820628</td>\n",
       "      <td>23.262939</td>\n",
       "      <td>9.530989</td>\n",
       "      <td>-24.733044</td>\n",
       "    </tr>\n",
       "    <tr>\n",
       "      <th>2</th>\n",
       "      <td>CHEMBL1683469</td>\n",
       "      <td>S(=O)(=O)(N)c1ccc(cc1)CNS(=O)(=O)CC12CCC(CC1=O)C2(C)C</td>\n",
       "      <td>0</td>\n",
       "      <td>0</td>\n",
       "      <td>0</td>\n",
       "      <td>0</td>\n",
       "      <td>0</td>\n",
       "      <td>0</td>\n",
       "      <td>0</td>\n",
       "      <td>0</td>\n",
       "      <td>...</td>\n",
       "      <td>-8.171293</td>\n",
       "      <td>12.266936</td>\n",
       "      <td>-3.845922</td>\n",
       "      <td>-13.375577</td>\n",
       "      <td>-5.168748</td>\n",
       "      <td>-35.100037</td>\n",
       "      <td>18.613527</td>\n",
       "      <td>21.361887</td>\n",
       "      <td>10.445678</td>\n",
       "      <td>-21.621212</td>\n",
       "    </tr>\n",
       "    <tr>\n",
       "      <th>3</th>\n",
       "      <td>CHEMBL52564</td>\n",
       "      <td>Oc1ccccc1\\C=C\\C(=O)[O-]</td>\n",
       "      <td>0</td>\n",
       "      <td>0</td>\n",
       "      <td>0</td>\n",
       "      <td>0</td>\n",
       "      <td>0</td>\n",
       "      <td>0</td>\n",
       "      <td>0</td>\n",
       "      <td>0</td>\n",
       "      <td>...</td>\n",
       "      <td>-14.237929</td>\n",
       "      <td>14.534154</td>\n",
       "      <td>-1.153313</td>\n",
       "      <td>-20.543133</td>\n",
       "      <td>-0.235949</td>\n",
       "      <td>-6.748789</td>\n",
       "      <td>-4.842742</td>\n",
       "      <td>15.326861</td>\n",
       "      <td>4.321653</td>\n",
       "      <td>-12.885104</td>\n",
       "    </tr>\n",
       "    <tr>\n",
       "      <th>4</th>\n",
       "      <td>CHEMBL21427</td>\n",
       "      <td>OB(O)c1ccc(OC)cc1</td>\n",
       "      <td>0</td>\n",
       "      <td>0</td>\n",
       "      <td>0</td>\n",
       "      <td>0</td>\n",
       "      <td>0</td>\n",
       "      <td>0</td>\n",
       "      <td>0</td>\n",
       "      <td>0</td>\n",
       "      <td>...</td>\n",
       "      <td>-9.017034</td>\n",
       "      <td>19.773624</td>\n",
       "      <td>-11.659730</td>\n",
       "      <td>-16.733728</td>\n",
       "      <td>1.383872</td>\n",
       "      <td>-11.880195</td>\n",
       "      <td>-9.137489</td>\n",
       "      <td>14.942449</td>\n",
       "      <td>4.191879</td>\n",
       "      <td>-12.029409</td>\n",
       "    </tr>\n",
       "  </tbody>\n",
       "</table>\n",
       "<p>5 rows × 1541 columns</p>\n",
       "</div>"
      ],
      "text/plain": [
       "             CID  \\\n",
       "0   CHEMBL188002   \n",
       "1   CHEMBL364127   \n",
       "2  CHEMBL1683469   \n",
       "3    CHEMBL52564   \n",
       "4    CHEMBL21427   \n",
       "\n",
       "                                                                                 SMILES_x  \\\n",
       "0  S(=O)(=O)(N)c1cc(N/C(/S)=N\\c2cc(C(=O)[O-])c(cc2)C=2c3c(OC4=CC(=O)C=CC=24)cc(O)cc3)ccc1   \n",
       "1                                             Clc1ccc(cc1)C(=O)NC1Cc2cc(S(=O)(=O)N)ccc2C1   \n",
       "2                                   S(=O)(=O)(N)c1ccc(cc1)CNS(=O)(=O)CC12CCC(CC1=O)C2(C)C   \n",
       "3                                                                 Oc1ccccc1\\C=C\\C(=O)[O-]   \n",
       "4                                                                       OB(O)c1ccc(OC)cc1   \n",
       "\n",
       "   ECFP4_1  ECFP4_2  ECFP4_3  ECFP4_4  ECFP4_5  ECFP4_6  ECFP4_7  ECFP4_8  \\\n",
       "0        0        0        0        0        0        0        0        0   \n",
       "1        0        0        0        0        0        0        0        0   \n",
       "2        0        0        0        0        0        0        0        0   \n",
       "3        0        0        0        0        0        0        0        0   \n",
       "4        0        0        0        0        0        0        0        0   \n",
       "\n",
       "   ...    act_502    act_503    act_504    act_505   act_506    act_507  \\\n",
       "0  ...  -5.812351  12.728530  -7.898805  -6.179134 -6.257827 -15.549616   \n",
       "1  ...  -7.801254  12.942183  -7.314398 -12.933152 -6.403533 -31.702936   \n",
       "2  ...  -8.171293  12.266936  -3.845922 -13.375577 -5.168748 -35.100037   \n",
       "3  ... -14.237929  14.534154  -1.153313 -20.543133 -0.235949  -6.748789   \n",
       "4  ...  -9.017034  19.773624 -11.659730 -16.733728  1.383872 -11.880195   \n",
       "\n",
       "     act_508    act_509    act_510    act_511  \n",
       "0  13.285661  10.505152   0.485632 -11.573029  \n",
       "1  13.820628  23.262939   9.530989 -24.733044  \n",
       "2  18.613527  21.361887  10.445678 -21.621212  \n",
       "3  -4.842742  15.326861   4.321653 -12.885104  \n",
       "4  -9.137489  14.942449   4.191879 -12.029409  \n",
       "\n",
       "[5 rows x 1541 columns]"
      ]
     },
     "execution_count": 72,
     "metadata": {},
     "output_type": "execute_result"
    }
   ],
   "source": [
    "df.head()"
   ]
  },
  {
   "cell_type": "code",
   "execution_count": 73,
   "id": "9648eb1f",
   "metadata": {},
   "outputs": [],
   "source": [
    "df.rename(columns={'SMILES_x': 'SMILES', 'Activity_x': 'Activity'}, inplace=True)"
   ]
  },
  {
   "cell_type": "code",
   "execution_count": 74,
   "id": "a6b2a976",
   "metadata": {},
   "outputs": [
    {
     "data": {
      "text/plain": [
       "False    14352\n",
       "True      3589\n",
       "Name: is_valid, dtype: int64"
      ]
     },
     "execution_count": 74,
     "metadata": {},
     "output_type": "execute_result"
    }
   ],
   "source": [
    "df.is_valid.value_counts()"
   ]
  },
  {
   "cell_type": "code",
   "execution_count": 75,
   "id": "a2f7d4b5",
   "metadata": {},
   "outputs": [],
   "source": [
    "df.to_csv(path/f'{dataset}-data-with-ecfp-activations.csv', index=None)"
   ]
  },
  {
   "cell_type": "code",
   "execution_count": null,
   "id": "a12a1d03",
   "metadata": {},
   "outputs": [],
   "source": []
  }
 ],
 "metadata": {
  "kernelspec": {
   "display_name": "Python 3",
   "language": "python",
   "name": "python3"
  },
  "language_info": {
   "codemirror_mode": {
    "name": "ipython",
    "version": 3
   },
   "file_extension": ".py",
   "mimetype": "text/x-python",
   "name": "python",
   "nbconvert_exporter": "python",
   "pygments_lexer": "ipython3",
   "version": "3.6.13"
  }
 },
 "nbformat": 4,
 "nbformat_minor": 5
}
