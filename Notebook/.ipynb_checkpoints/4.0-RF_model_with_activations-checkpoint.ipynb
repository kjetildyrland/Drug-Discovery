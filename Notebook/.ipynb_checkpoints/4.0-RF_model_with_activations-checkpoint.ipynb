{
 "cells": [
  {
   "cell_type": "markdown",
   "metadata": {},
   "source": [
    "# Drug Discovery Project"
   ]
  },
  {
   "cell_type": "markdown",
   "metadata": {},
   "source": [
    "## DATASETS:\n",
    "(a) Carbonic Anhydrase II (ChEMBL205), a protein lyase,  \n",
    "(b) Cyclin-dependent kinase 2 (CHEMBL301), a protein kinase,  \n",
    "(c) ether-a-go-go-related gene potassium channel 1 (HERG) (CHEMBL240), a voltage-gated ion channel,  \n",
    "(d) Dopamine D4 receptor (CHEMBL219), a monoamine GPCR,  \n",
    "(e) Coagulation factor X (CHEMBL244), a serine protease,  \n",
    "(f) Cannabinoid CB1 receptor (CHEMBL218), a lipid-like GPCR and  \n",
    "(g) Cytochrome P450 19A1 (CHEMBL1978), a cytochrome P450.  \n",
    "The activity classes were selected based on data availability and as representatives of therapeutically important target classes or as anti-targets."
   ]
  },
  {
   "cell_type": "code",
   "execution_count": 1,
   "metadata": {},
   "outputs": [],
   "source": [
    "top_mcc_scores = {\n",
    "    \n",
    "    'CHEMBL205': 0.862,\n",
    "    'CHEMBL301': 0.926,\n",
    "    'CHEMBL240': 0.884,\n",
    "    'CHEMBL219': 0.887,\n",
    "    'CHEMBL244': 0.983,\n",
    "    'CHEMBL218': 0.941,\n",
    "    'CHEMBL1978': 0.904}"
   ]
  },
  {
   "cell_type": "code",
   "execution_count": 2,
   "metadata": {},
   "outputs": [],
   "source": [
    "# Import\n",
    "import pandas as pd\n",
    "import numpy as np\n",
    "from pathlib import Path"
   ]
  },
  {
   "cell_type": "code",
   "execution_count": 3,
   "metadata": {},
   "outputs": [],
   "source": [
    "path = Path('../dataset/13321_2017_226_MOESM1_ESM/')\n",
    "#df = pd.read_csv('../dataset/13321_2017_226_MOESM1_ESM/CHEMBL205_cl.csv', index_col=0)"
   ]
  },
  {
   "cell_type": "code",
   "execution_count": 4,
   "metadata": {
    "scrolled": true
   },
   "outputs": [
    {
     "data": {
      "text/plain": [
       "[PosixPath('../dataset/13321_2017_226_MOESM1_ESM/CHEMBL1978_cl_ecfp_1024.csv'),\n",
       " PosixPath('../dataset/13321_2017_226_MOESM1_ESM/CHEMBL205_cl-data-with-ecfp-activations.csv'),\n",
       " PosixPath('../dataset/13321_2017_226_MOESM1_ESM/CHEMBL244_cl_ecfp_512.csv'),\n",
       " PosixPath('../dataset/13321_2017_226_MOESM1_ESM/CHEMBL218_cl.csv'),\n",
       " PosixPath('../dataset/13321_2017_226_MOESM1_ESM/RdkitDescriptors.py'),\n",
       " PosixPath('../dataset/13321_2017_226_MOESM1_ESM/CHEMBL205_cl_ecfp_512.csv'),\n",
       " PosixPath('../dataset/13321_2017_226_MOESM1_ESM/CHEMBL301_cl.csv'),\n",
       " PosixPath('../dataset/13321_2017_226_MOESM1_ESM/CHEMBL205_cl_ecfp_1024.csv'),\n",
       " PosixPath('../dataset/13321_2017_226_MOESM1_ESM/CHEMBL1978_cl_ecfp_512.csv'),\n",
       " PosixPath('../dataset/13321_2017_226_MOESM1_ESM/CHEMBL240_cl.csv'),\n",
       " PosixPath('../dataset/13321_2017_226_MOESM1_ESM/CHEMBL301_cl_ecfp_512.csv'),\n",
       " PosixPath('../dataset/13321_2017_226_MOESM1_ESM/CHEMBL218_cl_ecfp_1024.csv'),\n",
       " PosixPath('../dataset/13321_2017_226_MOESM1_ESM/CHEMBL301_cl_ecfp_1024.csv'),\n",
       " PosixPath('../dataset/13321_2017_226_MOESM1_ESM/CHEMBL205_cl.csv'),\n",
       " PosixPath('../dataset/13321_2017_226_MOESM1_ESM/.ipynb_checkpoints'),\n",
       " PosixPath('../dataset/13321_2017_226_MOESM1_ESM/CHEMBL244_cl_ecfp_1024.csv'),\n",
       " PosixPath('../dataset/13321_2017_226_MOESM1_ESM/CHEMBL219_cl_ecfp_1024.csv'),\n",
       " PosixPath('../dataset/13321_2017_226_MOESM1_ESM/CHEMBL218_cl_ecfp_512.csv'),\n",
       " PosixPath('../dataset/13321_2017_226_MOESM1_ESM/CHEMBL244_cl.csv'),\n",
       " PosixPath('../dataset/13321_2017_226_MOESM1_ESM/CHEMBL240_cl_ecfp_512.csv'),\n",
       " PosixPath('../dataset/13321_2017_226_MOESM1_ESM/mol_images'),\n",
       " PosixPath('../dataset/13321_2017_226_MOESM1_ESM/CHEMBL219_cl.csv'),\n",
       " PosixPath('../dataset/13321_2017_226_MOESM1_ESM/CHEMBL219_cl_ecfp_512.csv'),\n",
       " PosixPath('../dataset/13321_2017_226_MOESM1_ESM/CHEMBL240_cl_ecfp_1024.csv'),\n",
       " PosixPath('../dataset/13321_2017_226_MOESM1_ESM/CHEMBL1978_cl.csv')]"
      ]
     },
     "execution_count": 4,
     "metadata": {},
     "output_type": "execute_result"
    }
   ],
   "source": [
    "#df.head()\n",
    "list(path.iterdir())"
   ]
  },
  {
   "cell_type": "markdown",
   "metadata": {},
   "source": [
    "# Run the functions on a file from dataset and store the results"
   ]
  },
  {
   "cell_type": "code",
   "execution_count": 5,
   "metadata": {},
   "outputs": [],
   "source": [
    "dataset='CHEMBL205_cl'"
   ]
  },
  {
   "cell_type": "code",
   "execution_count": 6,
   "metadata": {},
   "outputs": [],
   "source": [
    "df = pd.read_csv(path/f'{dataset}-data-with-ecfp-activations.csv')"
   ]
  },
  {
   "cell_type": "code",
   "execution_count": 7,
   "metadata": {},
   "outputs": [
    {
     "data": {
      "text/html": [
       "<div>\n",
       "<style scoped>\n",
       "    .dataframe tbody tr th:only-of-type {\n",
       "        vertical-align: middle;\n",
       "    }\n",
       "\n",
       "    .dataframe tbody tr th {\n",
       "        vertical-align: top;\n",
       "    }\n",
       "\n",
       "    .dataframe thead th {\n",
       "        text-align: right;\n",
       "    }\n",
       "</style>\n",
       "<table border=\"1\" class=\"dataframe\">\n",
       "  <thead>\n",
       "    <tr style=\"text-align: right;\">\n",
       "      <th></th>\n",
       "      <th>CID</th>\n",
       "      <th>SMILES</th>\n",
       "      <th>ECFP4_1</th>\n",
       "      <th>ECFP4_2</th>\n",
       "      <th>ECFP4_3</th>\n",
       "      <th>ECFP4_4</th>\n",
       "      <th>ECFP4_5</th>\n",
       "      <th>ECFP4_6</th>\n",
       "      <th>ECFP4_7</th>\n",
       "      <th>ECFP4_8</th>\n",
       "      <th>...</th>\n",
       "      <th>act_502</th>\n",
       "      <th>act_503</th>\n",
       "      <th>act_504</th>\n",
       "      <th>act_505</th>\n",
       "      <th>act_506</th>\n",
       "      <th>act_507</th>\n",
       "      <th>act_508</th>\n",
       "      <th>act_509</th>\n",
       "      <th>act_510</th>\n",
       "      <th>act_511</th>\n",
       "    </tr>\n",
       "  </thead>\n",
       "  <tbody>\n",
       "    <tr>\n",
       "      <th>0</th>\n",
       "      <td>CHEMBL188002</td>\n",
       "      <td>S(=O)(=O)(N)c1cc(N/C(/S)=N\\c2cc(C(=O)[O-])c(cc...</td>\n",
       "      <td>0</td>\n",
       "      <td>0</td>\n",
       "      <td>0</td>\n",
       "      <td>0</td>\n",
       "      <td>0</td>\n",
       "      <td>0</td>\n",
       "      <td>0</td>\n",
       "      <td>0</td>\n",
       "      <td>...</td>\n",
       "      <td>-5.812351</td>\n",
       "      <td>12.728530</td>\n",
       "      <td>-7.898805</td>\n",
       "      <td>-6.179134</td>\n",
       "      <td>-6.257827</td>\n",
       "      <td>-15.549616</td>\n",
       "      <td>13.285661</td>\n",
       "      <td>10.505152</td>\n",
       "      <td>0.485632</td>\n",
       "      <td>-11.573029</td>\n",
       "    </tr>\n",
       "    <tr>\n",
       "      <th>1</th>\n",
       "      <td>CHEMBL364127</td>\n",
       "      <td>Clc1ccc(cc1)C(=O)NC1Cc2cc(S(=O)(=O)N)ccc2C1</td>\n",
       "      <td>0</td>\n",
       "      <td>0</td>\n",
       "      <td>0</td>\n",
       "      <td>0</td>\n",
       "      <td>0</td>\n",
       "      <td>0</td>\n",
       "      <td>0</td>\n",
       "      <td>0</td>\n",
       "      <td>...</td>\n",
       "      <td>-7.801254</td>\n",
       "      <td>12.942183</td>\n",
       "      <td>-7.314398</td>\n",
       "      <td>-12.933152</td>\n",
       "      <td>-6.403533</td>\n",
       "      <td>-31.702936</td>\n",
       "      <td>13.820628</td>\n",
       "      <td>23.262939</td>\n",
       "      <td>9.530989</td>\n",
       "      <td>-24.733044</td>\n",
       "    </tr>\n",
       "    <tr>\n",
       "      <th>2</th>\n",
       "      <td>CHEMBL1683469</td>\n",
       "      <td>S(=O)(=O)(N)c1ccc(cc1)CNS(=O)(=O)CC12CCC(CC1=O...</td>\n",
       "      <td>0</td>\n",
       "      <td>0</td>\n",
       "      <td>0</td>\n",
       "      <td>0</td>\n",
       "      <td>0</td>\n",
       "      <td>0</td>\n",
       "      <td>0</td>\n",
       "      <td>0</td>\n",
       "      <td>...</td>\n",
       "      <td>-8.171293</td>\n",
       "      <td>12.266936</td>\n",
       "      <td>-3.845922</td>\n",
       "      <td>-13.375577</td>\n",
       "      <td>-5.168748</td>\n",
       "      <td>-35.100037</td>\n",
       "      <td>18.613527</td>\n",
       "      <td>21.361887</td>\n",
       "      <td>10.445678</td>\n",
       "      <td>-21.621212</td>\n",
       "    </tr>\n",
       "    <tr>\n",
       "      <th>3</th>\n",
       "      <td>CHEMBL52564</td>\n",
       "      <td>Oc1ccccc1\\C=C\\C(=O)[O-]</td>\n",
       "      <td>0</td>\n",
       "      <td>0</td>\n",
       "      <td>0</td>\n",
       "      <td>0</td>\n",
       "      <td>0</td>\n",
       "      <td>0</td>\n",
       "      <td>0</td>\n",
       "      <td>0</td>\n",
       "      <td>...</td>\n",
       "      <td>-14.237929</td>\n",
       "      <td>14.534154</td>\n",
       "      <td>-1.153313</td>\n",
       "      <td>-20.543133</td>\n",
       "      <td>-0.235949</td>\n",
       "      <td>-6.748789</td>\n",
       "      <td>-4.842742</td>\n",
       "      <td>15.326861</td>\n",
       "      <td>4.321653</td>\n",
       "      <td>-12.885104</td>\n",
       "    </tr>\n",
       "    <tr>\n",
       "      <th>4</th>\n",
       "      <td>CHEMBL21427</td>\n",
       "      <td>OB(O)c1ccc(OC)cc1</td>\n",
       "      <td>0</td>\n",
       "      <td>0</td>\n",
       "      <td>0</td>\n",
       "      <td>0</td>\n",
       "      <td>0</td>\n",
       "      <td>0</td>\n",
       "      <td>0</td>\n",
       "      <td>0</td>\n",
       "      <td>...</td>\n",
       "      <td>-9.017034</td>\n",
       "      <td>19.773624</td>\n",
       "      <td>-11.659730</td>\n",
       "      <td>-16.733728</td>\n",
       "      <td>1.383872</td>\n",
       "      <td>-11.880195</td>\n",
       "      <td>-9.137489</td>\n",
       "      <td>14.942449</td>\n",
       "      <td>4.191879</td>\n",
       "      <td>-12.029409</td>\n",
       "    </tr>\n",
       "  </tbody>\n",
       "</table>\n",
       "<p>5 rows × 1541 columns</p>\n",
       "</div>"
      ],
      "text/plain": [
       "             CID                                             SMILES  ECFP4_1  \\\n",
       "0   CHEMBL188002  S(=O)(=O)(N)c1cc(N/C(/S)=N\\c2cc(C(=O)[O-])c(cc...        0   \n",
       "1   CHEMBL364127        Clc1ccc(cc1)C(=O)NC1Cc2cc(S(=O)(=O)N)ccc2C1        0   \n",
       "2  CHEMBL1683469  S(=O)(=O)(N)c1ccc(cc1)CNS(=O)(=O)CC12CCC(CC1=O...        0   \n",
       "3    CHEMBL52564                            Oc1ccccc1\\C=C\\C(=O)[O-]        0   \n",
       "4    CHEMBL21427                                  OB(O)c1ccc(OC)cc1        0   \n",
       "\n",
       "   ECFP4_2  ECFP4_3  ECFP4_4  ECFP4_5  ECFP4_6  ECFP4_7  ECFP4_8  ...  \\\n",
       "0        0        0        0        0        0        0        0  ...   \n",
       "1        0        0        0        0        0        0        0  ...   \n",
       "2        0        0        0        0        0        0        0  ...   \n",
       "3        0        0        0        0        0        0        0  ...   \n",
       "4        0        0        0        0        0        0        0  ...   \n",
       "\n",
       "     act_502    act_503    act_504    act_505   act_506    act_507    act_508  \\\n",
       "0  -5.812351  12.728530  -7.898805  -6.179134 -6.257827 -15.549616  13.285661   \n",
       "1  -7.801254  12.942183  -7.314398 -12.933152 -6.403533 -31.702936  13.820628   \n",
       "2  -8.171293  12.266936  -3.845922 -13.375577 -5.168748 -35.100037  18.613527   \n",
       "3 -14.237929  14.534154  -1.153313 -20.543133 -0.235949  -6.748789  -4.842742   \n",
       "4  -9.017034  19.773624 -11.659730 -16.733728  1.383872 -11.880195  -9.137489   \n",
       "\n",
       "     act_509    act_510    act_511  \n",
       "0  10.505152   0.485632 -11.573029  \n",
       "1  23.262939   9.530989 -24.733044  \n",
       "2  21.361887  10.445678 -21.621212  \n",
       "3  15.326861   4.321653 -12.885104  \n",
       "4  14.942449   4.191879 -12.029409  \n",
       "\n",
       "[5 rows x 1541 columns]"
      ]
     },
     "execution_count": 7,
     "metadata": {},
     "output_type": "execute_result"
    }
   ],
   "source": [
    "df.head()"
   ]
  },
  {
   "cell_type": "markdown",
   "metadata": {},
   "source": [
    "# Train test split"
   ]
  },
  {
   "cell_type": "code",
   "execution_count": 8,
   "metadata": {},
   "outputs": [],
   "source": [
    "from sklearn.model_selection import train_test_split, KFold"
   ]
  },
  {
   "cell_type": "code",
   "execution_count": 9,
   "metadata": {},
   "outputs": [
    {
     "data": {
      "text/plain": [
       "False    14352\n",
       "True      3589\n",
       "Name: is_valid, dtype: int64"
      ]
     },
     "execution_count": 9,
     "metadata": {},
     "output_type": "execute_result"
    }
   ],
   "source": [
    "df.is_valid.value_counts()"
   ]
  },
  {
   "cell_type": "code",
   "execution_count": 10,
   "metadata": {},
   "outputs": [],
   "source": [
    "train = df.loc[df.is_valid==False]\n",
    "test = df.loc[df.is_valid==True]"
   ]
  },
  {
   "cell_type": "code",
   "execution_count": 11,
   "metadata": {},
   "outputs": [
    {
     "name": "stdout",
     "output_type": "stream",
     "text": [
      "<class 'pandas.core.frame.DataFrame'>\n",
      "Int64Index: 14352 entries, 1 to 17940\n",
      "Columns: 1541 entries, CID to act_511\n",
      "dtypes: bool(1), float64(512), int64(1025), object(3)\n",
      "memory usage: 168.7+ MB\n"
     ]
    }
   ],
   "source": [
    "train.info()"
   ]
  },
  {
   "cell_type": "code",
   "execution_count": 12,
   "metadata": {},
   "outputs": [],
   "source": [
    "X_train, y_train = train.drop([\"CID\", \"SMILES\", \"Activity\", \"Image\", 'is_valid'], axis=1), train[\"Activity\"]\n",
    "X_test, y_test = test.drop([\"CID\", \"SMILES\", \"Activity\", \"Image\", \"is_valid\"], axis=1), test[\"Activity\"]"
   ]
  },
  {
   "cell_type": "code",
   "execution_count": 13,
   "metadata": {},
   "outputs": [
    {
     "data": {
      "text/plain": [
       "3589"
      ]
     },
     "execution_count": 13,
     "metadata": {},
     "output_type": "execute_result"
    }
   ],
   "source": [
    "y_test.count()"
   ]
  },
  {
   "cell_type": "code",
   "execution_count": 14,
   "metadata": {},
   "outputs": [
    {
     "name": "stdout",
     "output_type": "stream",
     "text": [
      "<class 'pandas.core.frame.DataFrame'>\n",
      "Int64Index: 14352 entries, 1 to 17940\n",
      "Columns: 1536 entries, ECFP4_1 to act_511\n",
      "dtypes: float64(512), int64(1024)\n",
      "memory usage: 168.3 MB\n"
     ]
    },
    {
     "data": {
      "text/plain": [
       "(14352, None)"
      ]
     },
     "execution_count": 14,
     "metadata": {},
     "output_type": "execute_result"
    }
   ],
   "source": [
    "y_train.count(), X_train.info()"
   ]
  },
  {
   "cell_type": "markdown",
   "metadata": {},
   "source": [
    "# Random Forest"
   ]
  },
  {
   "cell_type": "code",
   "execution_count": 15,
   "metadata": {},
   "outputs": [],
   "source": [
    "from sklearn.ensemble import RandomForestClassifier"
   ]
  },
  {
   "cell_type": "code",
   "execution_count": 16,
   "metadata": {},
   "outputs": [],
   "source": [
    "from sklearn.metrics import auc,roc_auc_score,recall_score,precision_score,f1_score\n",
    "from  sklearn.metrics import matthews_corrcoef\n",
    "from sklearn.metrics import accuracy_score"
   ]
  },
  {
   "cell_type": "code",
   "execution_count": 17,
   "metadata": {},
   "outputs": [],
   "source": [
    "# train method for Random Forest\n",
    "def train_rf(X_train, X_test, y_train, y_test, n_estimators=5, criterion='gini', max_features='log2'):\n",
    "\n",
    "    \n",
    "    rf = RandomForestClassifier(n_estimators=n_estimators, criterion=criterion, min_samples_split=2, max_features=max_features, \n",
    "                               max_leaf_nodes=None,bootstrap=False,oob_score=False, n_jobs=-1, random_state=69)\n",
    "    \n",
    "    rf.fit(X_train,y_train)\n",
    "    y_pred= rf.predict(X_test)\n",
    "    y_pred_prob=rf.predict_proba(X_test)\n",
    "    \n",
    "    temp=[]\n",
    "    for j in range(len(y_pred_prob)):\n",
    "        temp.append(y_pred_prob[j][1])\n",
    "    auc=roc_auc_score(np.array(y_test),np.array(temp))\n",
    "    acc2=accuracy_score(y_test,y_pred)\n",
    "    mcc=matthews_corrcoef(y_test,y_pred)\n",
    "    Recall=recall_score(y_test, y_pred,pos_label=1)\n",
    "    Precision=precision_score(y_test, y_pred,pos_label=1)\n",
    "    F1_score=f1_score(y_test, y_pred,pos_label=1)\n",
    "\n",
    "    return auc,acc2,mcc,Recall,Precision,F1_score, rf"
   ]
  },
  {
   "cell_type": "code",
   "execution_count": 18,
   "metadata": {
    "scrolled": true
   },
   "outputs": [
    {
     "name": "stdout",
     "output_type": "stream",
     "text": [
      "AUC score:0.9781553352423246\n",
      "Accuracy: 0.972972972972973\n",
      "Matthews: 0.8348259794109638\n",
      "Recall: 0.8404907975460123\n",
      "Precision: 0.8589341692789969\n",
      "F1 score: 0.8496124031007752\n",
      "\n"
     ]
    }
   ],
   "source": [
    "auc,acc2,mcc,Recall,Precision,F1_score, _ = train_rf(X_train, X_test, y_train, y_test, \n",
    "                                                     n_estimators=200, criterion='entropy', max_features='log2')\n",
    "    \n",
    "print(f'AUC score:{auc}')\n",
    "print(f'Accuracy: {acc2}')\n",
    "print(f'Matthews: {mcc}')\n",
    "print(f'Recall: {Recall}')\n",
    "print(f'Precision: {Precision}')\n",
    "print(f'F1 score: {F1_score}')\n",
    "print()"
   ]
  },
  {
   "cell_type": "markdown",
   "metadata": {},
   "source": [
    "# Train RF with settings grid from paper"
   ]
  },
  {
   "cell_type": "code",
   "execution_count": 22,
   "metadata": {},
   "outputs": [],
   "source": [
    "from sklearn.model_selection import ParameterGrid"
   ]
  },
  {
   "cell_type": "code",
   "execution_count": 23,
   "metadata": {},
   "outputs": [],
   "source": [
    "param_grid = {\n",
    "    'n_estimators': [10,50,100,200,300,700], \n",
    "    'criterion': ['gini', 'entropy'],\n",
    "    'max_features': ['log2', 'sqrt']}\n",
    "\n",
    "param_grid = ParameterGrid(param_grid)"
   ]
  },
  {
   "cell_type": "code",
   "execution_count": 40,
   "metadata": {},
   "outputs": [
    {
     "name": "stdout",
     "output_type": "stream",
     "text": [
      "Testing combination: {'criterion': 'gini', 'max_features': 'log2', 'n_estimators': 10}\n",
      "AUC score:0.9646148769715851\n",
      "Accuracy: 0.9715798272499303\n",
      "Matthews: 0.8239432710422135\n",
      "Recall: 0.8404907975460123\n",
      "Precision: 0.8589341692789969\n",
      "F1 score: 0.8391167192429022\n",
      "\n",
      "Testing combination: {'criterion': 'gini', 'max_features': 'log2', 'n_estimators': 50}\n",
      "AUC score:0.9754511919288396\n",
      "Accuracy: 0.9726943438283644\n",
      "Matthews: 0.8329077187302222\n",
      "Recall: 0.8404907975460123\n",
      "Precision: 0.8589341692789969\n",
      "F1 score: 0.8478260869565218\n",
      "\n",
      "Testing combination: {'criterion': 'gini', 'max_features': 'log2', 'n_estimators': 100}\n",
      "AUC score:0.9767790564969946\n",
      "Accuracy: 0.9726943438283644\n",
      "Matthews: 0.8324839462375764\n",
      "Recall: 0.8404907975460123\n",
      "Precision: 0.8589341692789969\n",
      "F1 score: 0.8473520249221184\n",
      "\n",
      "Testing combination: {'criterion': 'gini', 'max_features': 'log2', 'n_estimators': 200}\n",
      "AUC score:0.976397383566254\n",
      "Accuracy: 0.972972972972973\n",
      "Matthews: 0.8344032891962755\n",
      "Recall: 0.8404907975460123\n",
      "Precision: 0.8589341692789969\n",
      "F1 score: 0.8491446345256609\n",
      "\n",
      "Testing combination: {'criterion': 'gini', 'max_features': 'log2', 'n_estimators': 300}\n",
      "AUC score:0.9759940887699791\n",
      "Accuracy: 0.9726943438283644\n",
      "Matthews: 0.8324839462375764\n",
      "Recall: 0.8404907975460123\n",
      "Precision: 0.8589341692789969\n",
      "F1 score: 0.8473520249221184\n",
      "\n",
      "Testing combination: {'criterion': 'gini', 'max_features': 'log2', 'n_estimators': 700}\n",
      "AUC score:0.9766939791565216\n",
      "Accuracy: 0.972972972972973\n",
      "Matthews: 0.8344032891962755\n",
      "Recall: 0.8404907975460123\n",
      "Precision: 0.8589341692789969\n",
      "F1 score: 0.8491446345256609\n",
      "\n",
      "Testing combination: {'criterion': 'gini', 'max_features': 'sqrt', 'n_estimators': 10}\n",
      "AUC score:0.947173082093523\n",
      "Accuracy: 0.9724157146837559\n",
      "Matthews: 0.8301443910204681\n",
      "Recall: 0.8404907975460123\n",
      "Precision: 0.8589341692789969\n",
      "F1 score: 0.8450704225352113\n",
      "\n",
      "Testing combination: {'criterion': 'gini', 'max_features': 'sqrt', 'n_estimators': 50}\n",
      "AUC score:0.9705613600341436\n",
      "Accuracy: 0.972972972972973\n",
      "Matthews: 0.8344032891962755\n",
      "Recall: 0.8404907975460123\n",
      "Precision: 0.8589341692789969\n",
      "F1 score: 0.8491446345256609\n",
      "\n",
      "Testing combination: {'criterion': 'gini', 'max_features': 'sqrt', 'n_estimators': 100}\n",
      "AUC score:0.9734408284746807\n",
      "Accuracy: 0.9732516021175815\n",
      "Matthews: 0.8363196658322161\n",
      "Recall: 0.8404907975460123\n",
      "Precision: 0.8589341692789969\n",
      "F1 score: 0.8509316770186336\n",
      "\n",
      "Testing combination: {'criterion': 'gini', 'max_features': 'sqrt', 'n_estimators': 200}\n",
      "AUC score:0.974694896675685\n",
      "Accuracy: 0.9721370855391473\n",
      "Matthews: 0.8290622647711329\n",
      "Recall: 0.8404907975460123\n",
      "Precision: 0.8589341692789969\n",
      "F1 score: 0.8442367601246106\n",
      "\n",
      "Testing combination: {'criterion': 'gini', 'max_features': 'sqrt', 'n_estimators': 300}\n",
      "AUC score:0.9747409606500849\n",
      "Accuracy: 0.9721370855391473\n",
      "Matthews: 0.8290622647711329\n",
      "Recall: 0.8404907975460123\n",
      "Precision: 0.8589341692789969\n",
      "F1 score: 0.8442367601246106\n",
      "\n",
      "Testing combination: {'criterion': 'gini', 'max_features': 'sqrt', 'n_estimators': 700}\n",
      "AUC score:0.9774629655046637\n",
      "Accuracy: 0.9718584563945388\n",
      "Matthews: 0.8271350326610123\n",
      "Recall: 0.8404907975460123\n",
      "Precision: 0.8589341692789969\n",
      "F1 score: 0.8424336973478939\n",
      "\n",
      "Testing combination: {'criterion': 'entropy', 'max_features': 'log2', 'n_estimators': 10}\n",
      "AUC score:0.9604945014655866\n",
      "Accuracy: 0.9724157146837559\n",
      "Matthews: 0.8305616176417593\n",
      "Recall: 0.8404907975460123\n",
      "Precision: 0.8589341692789969\n",
      "F1 score: 0.8455538221528861\n",
      "\n",
      "Testing combination: {'criterion': 'entropy', 'max_features': 'log2', 'n_estimators': 50}\n",
      "AUC score:0.97436257800323\n",
      "Accuracy: 0.9721370855391473\n",
      "Matthews: 0.8290622647711329\n",
      "Recall: 0.8404907975460123\n",
      "Precision: 0.8589341692789969\n",
      "F1 score: 0.8442367601246106\n",
      "\n",
      "Testing combination: {'criterion': 'entropy', 'max_features': 'log2', 'n_estimators': 100}\n",
      "AUC score:0.9784467603864861\n",
      "Accuracy: 0.9724157146837559\n",
      "Matthews: 0.8309864869589382\n",
      "Recall: 0.8404907975460123\n",
      "Precision: 0.8589341692789969\n",
      "F1 score: 0.8460342146189735\n",
      "\n",
      "Testing combination: {'criterion': 'entropy', 'max_features': 'log2', 'n_estimators': 200}\n",
      "AUC score:0.9781553352423246\n",
      "Accuracy: 0.972972972972973\n",
      "Matthews: 0.8348259794109638\n",
      "Recall: 0.8404907975460123\n",
      "Precision: 0.8589341692789969\n",
      "F1 score: 0.8496124031007752\n",
      "\n",
      "Testing combination: {'criterion': 'entropy', 'max_features': 'log2', 'n_estimators': 300}\n",
      "AUC score:0.977857799570947\n",
      "Accuracy: 0.9726943438283644\n",
      "Matthews: 0.8329077187302222\n",
      "Recall: 0.8404907975460123\n",
      "Precision: 0.8589341692789969\n",
      "F1 score: 0.8478260869565218\n",
      "\n",
      "Testing combination: {'criterion': 'entropy', 'max_features': 'log2', 'n_estimators': 700}\n",
      "AUC score:0.9786432373385177\n",
      "Accuracy: 0.972972972972973\n",
      "Matthews: 0.8348259794109638\n",
      "Recall: 0.8404907975460123\n",
      "Precision: 0.8589341692789969\n",
      "F1 score: 0.8496124031007752\n",
      "\n",
      "Testing combination: {'criterion': 'entropy', 'max_features': 'sqrt', 'n_estimators': 10}\n",
      "AUC score:0.9579365407647371\n",
      "Accuracy: 0.9735302312621901\n",
      "Matthews: 0.8378200914336128\n",
      "Recall: 0.8404907975460123\n",
      "Precision: 0.8589341692789969\n",
      "F1 score: 0.8522550544323483\n",
      "\n",
      "Testing combination: {'criterion': 'entropy', 'max_features': 'sqrt', 'n_estimators': 50}\n",
      "AUC score:0.9682125673803136\n",
      "Accuracy: 0.9726943438283644\n",
      "Matthews: 0.8329077187302222\n",
      "Recall: 0.8404907975460123\n",
      "Precision: 0.8589341692789969\n",
      "F1 score: 0.8478260869565218\n",
      "\n",
      "Testing combination: {'criterion': 'entropy', 'max_features': 'sqrt', 'n_estimators': 100}\n",
      "AUC score:0.975709244193589\n",
      "Accuracy: 0.9726943438283644\n",
      "Matthews: 0.8329077187302222\n",
      "Recall: 0.8404907975460123\n",
      "Precision: 0.8589341692789969\n",
      "F1 score: 0.8478260869565218\n",
      "\n",
      "Testing combination: {'criterion': 'entropy', 'max_features': 'sqrt', 'n_estimators': 200}\n",
      "AUC score:0.9769459208940546\n",
      "Accuracy: 0.9724157146837559\n",
      "Matthews: 0.8309864869589382\n",
      "Recall: 0.8404907975460123\n",
      "Precision: 0.8589341692789969\n",
      "F1 score: 0.8460342146189735\n",
      "\n",
      "Testing combination: {'criterion': 'entropy', 'max_features': 'sqrt', 'n_estimators': 300}\n",
      "AUC score:0.976719831387052\n",
      "Accuracy: 0.9724157146837559\n",
      "Matthews: 0.8309864869589382\n",
      "Recall: 0.8404907975460123\n",
      "Precision: 0.8589341692789969\n",
      "F1 score: 0.8460342146189735\n",
      "\n",
      "Testing combination: {'criterion': 'entropy', 'max_features': 'sqrt', 'n_estimators': 700}\n",
      "AUC score:0.9793990625511169\n",
      "Accuracy: 0.9718584563945388\n",
      "Matthews: 0.8271350326610123\n",
      "Recall: 0.8404907975460123\n",
      "Precision: 0.8589341692789969\n",
      "F1 score: 0.8424336973478939\n",
      "\n"
     ]
    }
   ],
   "source": [
    "mean_score = []\n",
    "mccs = []\n",
    "for setting in param_grid:\n",
    "    print(f\"Testing combination: {setting}\")\n",
    "   \n",
    "        \n",
    "    auc,acc2,mcc,recall,precision,F1_score, _ = train_rf(X_train, X_test, y_train, y_test, \n",
    "                                                             n_estimators=setting['n_estimators'], \n",
    "                                                             criterion=setting['criterion'],\n",
    "                                                            max_features=setting['max_features'])\n",
    "    scores = [] \n",
    "    mccs.append(mcc)\n",
    "    scores.append(auc)\n",
    "    scores.append(acc2)\n",
    "    scores.append(mcc)\n",
    "    scores.append(recall)\n",
    "    scores.append(precision)\n",
    "    scores.append(F1_score)\n",
    "    mean_score.append(np.mean(scores))\n",
    "    \n",
    "    print(f'AUC score:{auc}')\n",
    "    print(f'Accuracy: {acc2}')\n",
    "    print(f'Matthews: {mcc}')\n",
    "    print(f'Recall: {Recall}')\n",
    "    print(f'Precision: {Precision}')\n",
    "    print(f'F1 score: {F1_score}')\n",
    "    print()\n"
   ]
  },
  {
   "cell_type": "code",
   "execution_count": 41,
   "metadata": {},
   "outputs": [
    {
     "name": "stdout",
     "output_type": "stream",
     "text": [
      "Highest score is: 0.8893449651858183 from: {'criterion': 'gini', 'max_features': 'sqrt', 'n_estimators': 100}\n",
      "Highest score is: 0.8378200914336128 from: {'criterion': 'entropy', 'max_features': 'sqrt', 'n_estimators': 10}\n"
     ]
    }
   ],
   "source": [
    "i = 0\n",
    "for setting in param_grid:\n",
    "    if mean_score[i] == np.amax(mean_score):\n",
    "        print(f'Highest score is: {mean_score[i]} from: {setting}')\n",
    "    if mccs[i] == np.amax(mccs):\n",
    "        print(f'Highest score is: {mccs[i]} from: {setting}')\n",
    "    i += 1"
   ]
  },
  {
   "cell_type": "code",
   "execution_count": 36,
   "metadata": {},
   "outputs": [
    {
     "data": {
      "text/plain": [
       "0.8271350326610123"
      ]
     },
     "execution_count": 36,
     "metadata": {},
     "output_type": "execute_result"
    }
   ],
   "source": [
    "np.mean(mccs)"
   ]
  },
  {
   "cell_type": "code",
   "execution_count": 38,
   "metadata": {},
   "outputs": [
    {
     "data": {
      "text/plain": [
       "0.8271350326610123"
      ]
     },
     "execution_count": 38,
     "metadata": {},
     "output_type": "execute_result"
    }
   ],
   "source": [
    "np.amax(mccs)"
   ]
  },
  {
   "cell_type": "code",
   "execution_count": 39,
   "metadata": {},
   "outputs": [
    {
     "data": {
      "text/plain": [
       "1"
      ]
     },
     "execution_count": 39,
     "metadata": {},
     "output_type": "execute_result"
    }
   ],
   "source": [
    "len(mccs)"
   ]
  },
  {
   "cell_type": "code",
   "execution_count": null,
   "metadata": {},
   "outputs": [],
   "source": []
  }
 ],
 "metadata": {
  "kernelspec": {
   "display_name": "Python 3",
   "language": "python",
   "name": "python3"
  },
  "language_info": {
   "codemirror_mode": {
    "name": "ipython",
    "version": 3
   },
   "file_extension": ".py",
   "mimetype": "text/x-python",
   "name": "python",
   "nbconvert_exporter": "python",
   "pygments_lexer": "ipython3",
   "version": "3.6.13"
  }
 },
 "nbformat": 4,
 "nbformat_minor": 4
}
