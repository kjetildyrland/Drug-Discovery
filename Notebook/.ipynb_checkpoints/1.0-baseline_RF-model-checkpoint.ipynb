{
 "cells": [
  {
   "cell_type": "markdown",
   "metadata": {},
   "source": [
    "# Drug Discovery Project"
   ]
  },
  {
   "cell_type": "markdown",
   "metadata": {},
   "source": [
    "## DATASETS:\n",
    "(a) Carbonic Anhydrase II (ChEMBL205), a protein lyase,  \n",
    "(b) Cyclin-dependent kinase 2 (CHEMBL301), a protein kinase,  \n",
    "(c) ether-a-go-go-related gene potassium channel 1 (HERG) (CHEMBL240), a voltage-gated ion channel,  \n",
    "(d) Dopamine D4 receptor (CHEMBL219), a monoamine GPCR,  \n",
    "(e) Coagulation factor X (CHEMBL244), a serine protease,  \n",
    "(f) Cannabinoid CB1 receptor (CHEMBL218), a lipid-like GPCR and  \n",
    "(g) Cytochrome P450 19A1 (CHEMBL1978), a cytochrome P450.  \n",
    "The activity classes were selected based on data availability and as representatives of therapeutically important target classes or as anti-targets."
   ]
  },
  {
   "cell_type": "code",
   "execution_count": 1,
   "metadata": {},
   "outputs": [
    {
     "name": "stdout",
     "output_type": "stream",
     "text": [
      "Mon Oct  4 14:05:21 2021       \r\n",
      "+-----------------------------------------------------------------------------+\r\n",
      "| NVIDIA-SMI 460.91.03    Driver Version: 460.91.03    CUDA Version: 11.2     |\r\n",
      "|-------------------------------+----------------------+----------------------+\r\n",
      "| GPU  Name        Persistence-M| Bus-Id        Disp.A | Volatile Uncorr. ECC |\r\n",
      "| Fan  Temp  Perf  Pwr:Usage/Cap|         Memory-Usage | GPU-Util  Compute M. |\r\n",
      "|                               |                      |               MIG M. |\r\n",
      "|===============================+======================+======================|\r\n",
      "|   0  GeForce GTX 1080    Off  | 00000000:01:00.0  On |                  N/A |\r\n",
      "| 79%   80C    P2   229W / 240W |   5095MiB /  8116MiB |     97%      Default |\r\n",
      "|                               |                      |                  N/A |\r\n",
      "+-------------------------------+----------------------+----------------------+\r\n",
      "                                                                               \r\n",
      "+-----------------------------------------------------------------------------+\r\n",
      "| Processes:                                                                  |\r\n",
      "|  GPU   GI   CI        PID   Type   Process name                  GPU Memory |\r\n",
      "|        ID   ID                                                   Usage      |\r\n",
      "|=============================================================================|\r\n",
      "|    0   N/A  N/A       917      G   /usr/lib/xorg/Xorg                226MiB |\r\n",
      "|    0   N/A  N/A      1235      G   /usr/bin/gnome-shell               51MiB |\r\n",
      "|    0   N/A  N/A      4888      G   /usr/lib/firefox/firefox          128MiB |\r\n",
      "|    0   N/A  N/A      4978      G   /usr/lib/firefox/firefox            1MiB |\r\n",
      "|    0   N/A  N/A     10509      C   ...vs/dat255-drug/bin/python     4681MiB |\r\n",
      "+-----------------------------------------------------------------------------+\r\n"
     ]
    }
   ],
   "source": [
    "!nvidia-smi"
   ]
  },
  {
   "cell_type": "code",
   "execution_count": 2,
   "metadata": {},
   "outputs": [],
   "source": [
    "# Import\n",
    "import pandas as pd\n",
    "import numpy as np\n",
    "from pathlib import Path"
   ]
  },
  {
   "cell_type": "code",
   "execution_count": 3,
   "metadata": {},
   "outputs": [
    {
     "name": "stderr",
     "output_type": "stream",
     "text": [
      "RDKit WARNING: [14:05:21] Enabling RDKit 2019.09.3 jupyter extensions\n"
     ]
    }
   ],
   "source": [
    "from rdkit import Chem\n",
    "from rdkit.Chem import AllChem"
   ]
  },
  {
   "cell_type": "code",
   "execution_count": 4,
   "metadata": {},
   "outputs": [],
   "source": [
    "path = Path('../dataset/13321_2017_226_MOESM1_ESM/')\n",
    "#df = pd.read_csv('../dataset/13321_2017_226_MOESM1_ESM/CHEMBL205_cl.csv', index_col=0)"
   ]
  },
  {
   "cell_type": "code",
   "execution_count": 5,
   "metadata": {
    "scrolled": true
   },
   "outputs": [
    {
     "data": {
      "text/plain": [
       "[PosixPath('../dataset/13321_2017_226_MOESM1_ESM/CHEMBL244_cl_ecfp_512.csv'),\n",
       " PosixPath('../dataset/13321_2017_226_MOESM1_ESM/CHEMBL218_cl.csv'),\n",
       " PosixPath('../dataset/13321_2017_226_MOESM1_ESM/RdkitDescriptors.py'),\n",
       " PosixPath('../dataset/13321_2017_226_MOESM1_ESM/CHEMBL205_cl_ecfp_512.csv'),\n",
       " PosixPath('../dataset/13321_2017_226_MOESM1_ESM/CHEMBL301_cl.csv'),\n",
       " PosixPath('../dataset/13321_2017_226_MOESM1_ESM/CHEMBL205_cl_ecfp_1024.csv'),\n",
       " PosixPath('../dataset/13321_2017_226_MOESM1_ESM/CHEMBL1978_cl_ecfp_512.csv'),\n",
       " PosixPath('../dataset/13321_2017_226_MOESM1_ESM/CHEMBL240_cl.csv'),\n",
       " PosixPath('../dataset/13321_2017_226_MOESM1_ESM/CHEMBL301_cl_ecfp_512.csv'),\n",
       " PosixPath('../dataset/13321_2017_226_MOESM1_ESM/CHEMBL218_cl_ecfp_1024.csv'),\n",
       " PosixPath('../dataset/13321_2017_226_MOESM1_ESM/CHEMBL205_cl.csv'),\n",
       " PosixPath('../dataset/13321_2017_226_MOESM1_ESM/.ipynb_checkpoints'),\n",
       " PosixPath('../dataset/13321_2017_226_MOESM1_ESM/CHEMBL218_cl_ecfp_512.csv'),\n",
       " PosixPath('../dataset/13321_2017_226_MOESM1_ESM/CHEMBL244_cl.csv'),\n",
       " PosixPath('../dataset/13321_2017_226_MOESM1_ESM/CHEMBL240_cl_ecfp_512.csv'),\n",
       " PosixPath('../dataset/13321_2017_226_MOESM1_ESM/mol_images'),\n",
       " PosixPath('../dataset/13321_2017_226_MOESM1_ESM/CHEMBL219_cl.csv'),\n",
       " PosixPath('../dataset/13321_2017_226_MOESM1_ESM/CHEMBL219_cl_ecfp_512.csv'),\n",
       " PosixPath('../dataset/13321_2017_226_MOESM1_ESM/CHEMBL1978_cl.csv')]"
      ]
     },
     "execution_count": 5,
     "metadata": {},
     "output_type": "execute_result"
    }
   ],
   "source": [
    "#df.head()\n",
    "list(path.iterdir())"
   ]
  },
  {
   "cell_type": "markdown",
   "metadata": {},
   "source": [
    "# RdkitDescriptors"
   ]
  },
  {
   "cell_type": "code",
   "execution_count": 6,
   "metadata": {},
   "outputs": [],
   "source": [
    "# function for returning fingerprint from a specific smile.\n",
    "\n",
    "def fp(smile, diam = 2, bits = 1024):\n",
    "\n",
    "    mol = Chem.MolFromSmiles(smile)\n",
    "    Chem.SanitizeMol(mol)\n",
    "    fp = AllChem.GetMorganFingerprintAsBitVect(mol, diam, nBits = bits) \n",
    "    return fp"
   ]
  },
  {
   "cell_type": "code",
   "execution_count": 7,
   "metadata": {},
   "outputs": [],
   "source": [
    "#ECFP4\n",
    "#Generated Circular fingerprints hashed into n bits length vectors.\n",
    "\n",
    "def ECFP(ifile, ofile, diam, bits):\n",
    "    \n",
    "    print(f\"Making fingerprints for file: {ifile}\")\n",
    "    df = pd.read_csv(ifile)\n",
    "    \n",
    "    df.insert(2, \"ECFP4_\", df.SMILES.apply(fp))\n",
    "    \n",
    "    df[[f\"ECFP4_{i+1}\" for i in range(len(df.ECFP4_[0]))]] = df.ECFP4_.to_list()\n",
    "    \n",
    "    df.drop(\"ECFP4_\", axis = 1, inplace = True)\n",
    "    \n",
    "    \n",
    "    df.to_csv(path/ofile, index = None)\n",
    "    return df"
   ]
  },
  {
   "cell_type": "markdown",
   "metadata": {},
   "source": [
    "# Run the functions on a file from dataset and store the results"
   ]
  },
  {
   "cell_type": "code",
   "execution_count": 8,
   "metadata": {},
   "outputs": [],
   "source": [
    "dataset='CHEMBL205_cl'"
   ]
  },
  {
   "cell_type": "code",
   "execution_count": 9,
   "metadata": {},
   "outputs": [],
   "source": [
    "#ECFP(path/f'{dataset}.csv', f'./{dataset}_ecfp_1024.csv', 2, 1024)"
   ]
  },
  {
   "cell_type": "code",
   "execution_count": 10,
   "metadata": {},
   "outputs": [],
   "source": [
    "df = pd.read_csv(path/f'{dataset}_ecfp_1024.csv')"
   ]
  },
  {
   "cell_type": "code",
   "execution_count": 11,
   "metadata": {},
   "outputs": [
    {
     "data": {
      "text/html": [
       "<div>\n",
       "<style scoped>\n",
       "    .dataframe tbody tr th:only-of-type {\n",
       "        vertical-align: middle;\n",
       "    }\n",
       "\n",
       "    .dataframe tbody tr th {\n",
       "        vertical-align: top;\n",
       "    }\n",
       "\n",
       "    .dataframe thead th {\n",
       "        text-align: right;\n",
       "    }\n",
       "</style>\n",
       "<table border=\"1\" class=\"dataframe\">\n",
       "  <thead>\n",
       "    <tr style=\"text-align: right;\">\n",
       "      <th></th>\n",
       "      <th>CID</th>\n",
       "      <th>SMILES</th>\n",
       "      <th>ECFP4_1</th>\n",
       "      <th>ECFP4_2</th>\n",
       "      <th>ECFP4_3</th>\n",
       "      <th>ECFP4_4</th>\n",
       "      <th>ECFP4_5</th>\n",
       "      <th>ECFP4_6</th>\n",
       "      <th>ECFP4_7</th>\n",
       "      <th>ECFP4_8</th>\n",
       "      <th>...</th>\n",
       "      <th>ECFP4_1016</th>\n",
       "      <th>ECFP4_1017</th>\n",
       "      <th>ECFP4_1018</th>\n",
       "      <th>ECFP4_1019</th>\n",
       "      <th>ECFP4_1020</th>\n",
       "      <th>ECFP4_1021</th>\n",
       "      <th>ECFP4_1022</th>\n",
       "      <th>ECFP4_1023</th>\n",
       "      <th>ECFP4_1024</th>\n",
       "      <th>Activity</th>\n",
       "    </tr>\n",
       "  </thead>\n",
       "  <tbody>\n",
       "    <tr>\n",
       "      <th>0</th>\n",
       "      <td>CHEMBL188002</td>\n",
       "      <td>S(=O)(=O)(N)c1cc(N/C(/S)=N\\c2cc(C(=O)[O-])c(cc...</td>\n",
       "      <td>0</td>\n",
       "      <td>0</td>\n",
       "      <td>0</td>\n",
       "      <td>0</td>\n",
       "      <td>0</td>\n",
       "      <td>0</td>\n",
       "      <td>0</td>\n",
       "      <td>0</td>\n",
       "      <td>...</td>\n",
       "      <td>0</td>\n",
       "      <td>0</td>\n",
       "      <td>0</td>\n",
       "      <td>0</td>\n",
       "      <td>0</td>\n",
       "      <td>0</td>\n",
       "      <td>0</td>\n",
       "      <td>0</td>\n",
       "      <td>0</td>\n",
       "      <td>1</td>\n",
       "    </tr>\n",
       "    <tr>\n",
       "      <th>1</th>\n",
       "      <td>CHEMBL364127</td>\n",
       "      <td>Clc1ccc(cc1)C(=O)NC1Cc2cc(S(=O)(=O)N)ccc2C1</td>\n",
       "      <td>0</td>\n",
       "      <td>0</td>\n",
       "      <td>0</td>\n",
       "      <td>0</td>\n",
       "      <td>0</td>\n",
       "      <td>0</td>\n",
       "      <td>0</td>\n",
       "      <td>0</td>\n",
       "      <td>...</td>\n",
       "      <td>0</td>\n",
       "      <td>0</td>\n",
       "      <td>0</td>\n",
       "      <td>0</td>\n",
       "      <td>1</td>\n",
       "      <td>0</td>\n",
       "      <td>0</td>\n",
       "      <td>0</td>\n",
       "      <td>0</td>\n",
       "      <td>1</td>\n",
       "    </tr>\n",
       "    <tr>\n",
       "      <th>2</th>\n",
       "      <td>CHEMBL1683469</td>\n",
       "      <td>S(=O)(=O)(N)c1ccc(cc1)CNS(=O)(=O)CC12CCC(CC1=O...</td>\n",
       "      <td>0</td>\n",
       "      <td>0</td>\n",
       "      <td>0</td>\n",
       "      <td>0</td>\n",
       "      <td>0</td>\n",
       "      <td>0</td>\n",
       "      <td>0</td>\n",
       "      <td>0</td>\n",
       "      <td>...</td>\n",
       "      <td>0</td>\n",
       "      <td>0</td>\n",
       "      <td>0</td>\n",
       "      <td>0</td>\n",
       "      <td>1</td>\n",
       "      <td>0</td>\n",
       "      <td>0</td>\n",
       "      <td>0</td>\n",
       "      <td>0</td>\n",
       "      <td>1</td>\n",
       "    </tr>\n",
       "    <tr>\n",
       "      <th>3</th>\n",
       "      <td>CHEMBL52564</td>\n",
       "      <td>Oc1ccccc1\\C=C\\C(=O)[O-]</td>\n",
       "      <td>0</td>\n",
       "      <td>0</td>\n",
       "      <td>0</td>\n",
       "      <td>0</td>\n",
       "      <td>0</td>\n",
       "      <td>0</td>\n",
       "      <td>0</td>\n",
       "      <td>0</td>\n",
       "      <td>...</td>\n",
       "      <td>0</td>\n",
       "      <td>0</td>\n",
       "      <td>0</td>\n",
       "      <td>0</td>\n",
       "      <td>0</td>\n",
       "      <td>0</td>\n",
       "      <td>0</td>\n",
       "      <td>0</td>\n",
       "      <td>0</td>\n",
       "      <td>1</td>\n",
       "    </tr>\n",
       "    <tr>\n",
       "      <th>4</th>\n",
       "      <td>CHEMBL21427</td>\n",
       "      <td>OB(O)c1ccc(OC)cc1</td>\n",
       "      <td>0</td>\n",
       "      <td>0</td>\n",
       "      <td>0</td>\n",
       "      <td>0</td>\n",
       "      <td>0</td>\n",
       "      <td>0</td>\n",
       "      <td>0</td>\n",
       "      <td>0</td>\n",
       "      <td>...</td>\n",
       "      <td>0</td>\n",
       "      <td>0</td>\n",
       "      <td>0</td>\n",
       "      <td>0</td>\n",
       "      <td>0</td>\n",
       "      <td>0</td>\n",
       "      <td>0</td>\n",
       "      <td>0</td>\n",
       "      <td>0</td>\n",
       "      <td>1</td>\n",
       "    </tr>\n",
       "  </tbody>\n",
       "</table>\n",
       "<p>5 rows × 1027 columns</p>\n",
       "</div>"
      ],
      "text/plain": [
       "             CID                                             SMILES  ECFP4_1  \\\n",
       "0   CHEMBL188002  S(=O)(=O)(N)c1cc(N/C(/S)=N\\c2cc(C(=O)[O-])c(cc...        0   \n",
       "1   CHEMBL364127        Clc1ccc(cc1)C(=O)NC1Cc2cc(S(=O)(=O)N)ccc2C1        0   \n",
       "2  CHEMBL1683469  S(=O)(=O)(N)c1ccc(cc1)CNS(=O)(=O)CC12CCC(CC1=O...        0   \n",
       "3    CHEMBL52564                            Oc1ccccc1\\C=C\\C(=O)[O-]        0   \n",
       "4    CHEMBL21427                                  OB(O)c1ccc(OC)cc1        0   \n",
       "\n",
       "   ECFP4_2  ECFP4_3  ECFP4_4  ECFP4_5  ECFP4_6  ECFP4_7  ECFP4_8  ...  \\\n",
       "0        0        0        0        0        0        0        0  ...   \n",
       "1        0        0        0        0        0        0        0  ...   \n",
       "2        0        0        0        0        0        0        0  ...   \n",
       "3        0        0        0        0        0        0        0  ...   \n",
       "4        0        0        0        0        0        0        0  ...   \n",
       "\n",
       "   ECFP4_1016  ECFP4_1017  ECFP4_1018  ECFP4_1019  ECFP4_1020  ECFP4_1021  \\\n",
       "0           0           0           0           0           0           0   \n",
       "1           0           0           0           0           1           0   \n",
       "2           0           0           0           0           1           0   \n",
       "3           0           0           0           0           0           0   \n",
       "4           0           0           0           0           0           0   \n",
       "\n",
       "   ECFP4_1022  ECFP4_1023  ECFP4_1024  Activity  \n",
       "0           0           0           0         1  \n",
       "1           0           0           0         1  \n",
       "2           0           0           0         1  \n",
       "3           0           0           0         1  \n",
       "4           0           0           0         1  \n",
       "\n",
       "[5 rows x 1027 columns]"
      ]
     },
     "execution_count": 11,
     "metadata": {},
     "output_type": "execute_result"
    }
   ],
   "source": [
    "df.head()"
   ]
  },
  {
   "cell_type": "markdown",
   "metadata": {},
   "source": [
    "# Split data"
   ]
  },
  {
   "cell_type": "code",
   "execution_count": 12,
   "metadata": {},
   "outputs": [],
   "source": [
    "# Split into X,y\n",
    "X, y = df.drop([\"CID\", \"SMILES\", \"Activity\"], axis=1), df[\"Activity\"]"
   ]
  },
  {
   "cell_type": "code",
   "execution_count": 13,
   "metadata": {},
   "outputs": [
    {
     "name": "stdout",
     "output_type": "stream",
     "text": [
      "<class 'pandas.core.frame.DataFrame'>\n",
      "RangeIndex: 17941 entries, 0 to 17940\n",
      "Columns: 1024 entries, ECFP4_1 to ECFP4_1024\n",
      "dtypes: int64(1024)\n",
      "memory usage: 140.2 MB\n"
     ]
    }
   ],
   "source": [
    "# check info of dataframe\n",
    "X.info()"
   ]
  },
  {
   "cell_type": "code",
   "execution_count": 14,
   "metadata": {},
   "outputs": [
    {
     "data": {
      "text/plain": [
       "(0    1\n",
       " 1    1\n",
       " 2    1\n",
       " 3    1\n",
       " 4    1\n",
       " Name: Activity, dtype: int64,\n",
       " 17941,\n",
       " pandas.core.series.Series)"
      ]
     },
     "execution_count": 14,
     "metadata": {},
     "output_type": "execute_result"
    }
   ],
   "source": [
    "# y is a pandas series\n",
    "y.head(), y.size, type(y)"
   ]
  },
  {
   "cell_type": "markdown",
   "metadata": {},
   "source": [
    "# Train test split"
   ]
  },
  {
   "cell_type": "code",
   "execution_count": 15,
   "metadata": {},
   "outputs": [],
   "source": [
    "from sklearn.model_selection import train_test_split, KFold"
   ]
  },
  {
   "cell_type": "code",
   "execution_count": 16,
   "metadata": {},
   "outputs": [],
   "source": [
    "# regular train/test split\n",
    "X_train, X_test, y_train, y_test = train_test_split(X, y, test_size=0.4, random_state=666)"
   ]
  },
  {
   "cell_type": "markdown",
   "metadata": {},
   "source": [
    "# 5-Fold Cross Validation"
   ]
  },
  {
   "cell_type": "code",
   "execution_count": 17,
   "metadata": {},
   "outputs": [],
   "source": [
    "#5-fold\n",
    "kf = KFold(n_splits=5, shuffle=True, random_state=999)"
   ]
  },
  {
   "cell_type": "code",
   "execution_count": 18,
   "metadata": {},
   "outputs": [],
   "source": [
    "# append to a list / could write to csv file to keep integrity\n",
    "X_train_list, X_valid_list, y_train_list, y_valid_list = [], [], [], []\n",
    "\n",
    "for train_index, valid_index in kf.split(X_train):\n",
    "    X_train_list.append(X_train.iloc[train_index])\n",
    "    X_valid_list.append(X_train.iloc[valid_index])\n",
    "    y_train_list.append(y_train.iloc[train_index])\n",
    "    y_valid_list.append(y_train.iloc[valid_index]) "
   ]
  },
  {
   "cell_type": "code",
   "execution_count": 19,
   "metadata": {},
   "outputs": [
    {
     "data": {
      "text/plain": [
       "14960    0\n",
       "16280    0\n",
       "16068    0\n",
       "13692    0\n",
       "14043    0\n",
       "Name: Activity, dtype: int64"
      ]
     },
     "execution_count": 19,
     "metadata": {},
     "output_type": "execute_result"
    }
   ],
   "source": [
    "y_train_list[0].head()"
   ]
  },
  {
   "cell_type": "code",
   "execution_count": 20,
   "metadata": {},
   "outputs": [
    {
     "name": "stdout",
     "output_type": "stream",
     "text": [
      "<class 'pandas.core.frame.DataFrame'>\n",
      "Int64Index: 8611 entries, 14960 to 10114\n",
      "Columns: 1024 entries, ECFP4_1 to ECFP4_1024\n",
      "dtypes: int64(1024)\n",
      "memory usage: 67.3 MB\n"
     ]
    }
   ],
   "source": [
    "X_train_list[1].info()"
   ]
  },
  {
   "cell_type": "code",
   "execution_count": 21,
   "metadata": {},
   "outputs": [],
   "source": [
    "# TODO: add splits to csv file"
   ]
  },
  {
   "cell_type": "markdown",
   "metadata": {},
   "source": [
    "# Random Forest"
   ]
  },
  {
   "cell_type": "code",
   "execution_count": 22,
   "metadata": {},
   "outputs": [],
   "source": [
    "from sklearn.ensemble import RandomForestClassifier"
   ]
  },
  {
   "cell_type": "code",
   "execution_count": 23,
   "metadata": {},
   "outputs": [],
   "source": [
    "from sklearn.metrics import auc,roc_auc_score,recall_score,precision_score,f1_score\n",
    "from  sklearn.metrics import matthews_corrcoef\n",
    "from sklearn.metrics import accuracy_score"
   ]
  },
  {
   "cell_type": "code",
   "execution_count": 24,
   "metadata": {},
   "outputs": [],
   "source": [
    "# train method for Random Forest\n",
    "def train_rf(X_train, X_test, y_train, y_test, n_estimators=200, criterion='entropy', max_features='sqrt'):\n",
    "\n",
    "    \n",
    "    rf = RandomForestClassifier(n_estimators=n_estimators, criterion=criterion, min_samples_split=2, max_features=max_features, \n",
    "                               max_leaf_nodes=None,bootstrap=False,oob_score=False, n_jobs=-1, random_state=69)\n",
    "    \n",
    "    rf.fit(X_train,y_train)\n",
    "    y_pred= rf.predict(X_test)\n",
    "    y_pred_prob=rf.predict_proba(X_test)\n",
    "    \n",
    "    temp=[]\n",
    "    for j in range(len(y_pred_prob)):\n",
    "        temp.append(y_pred_prob[j][1])\n",
    "    auc=roc_auc_score(np.array(y_test),np.array(temp))\n",
    "    acc2=accuracy_score(y_test,y_pred)\n",
    "    mcc=matthews_corrcoef(y_test,y_pred)\n",
    "    Recall=recall_score(y_test, y_pred,pos_label=1)\n",
    "    Precision=precision_score(y_test, y_pred,pos_label=1)\n",
    "    F1_score=f1_score(y_test, y_pred,pos_label=1)\n",
    "\n",
    "    return auc,acc2,mcc,Recall,Precision,F1_score, rf"
   ]
  },
  {
   "cell_type": "code",
   "execution_count": 74,
   "metadata": {},
   "outputs": [],
   "source": [
    "def train_on_dataset(dataset, bits=1024, n_estimators=200, criterion='entropy', max_features='log2'):\n",
    "    \n",
    "    print(f'Training on dataset: {dataset} with {bits} bits fingerprint features')\n",
    "    \n",
    "    df = pd.read_csv(path/f'{dataset}_cl_ecfp_{bits}.csv')\n",
    "    X, y = df.drop([\"CID\", \"SMILES\", \"Activity\"], axis=1), df[\"Activity\"]\n",
    "    X_train, X_test, y_train, y_test = train_test_split(X, y, test_size=0.4, random_state=666)\n",
    "    kf = KFold(n_splits=5, shuffle=True, random_state=999)\n",
    "    X_train_list, X_valid_list, y_train_list, y_valid_list = [], [], [], []\n",
    "\n",
    "    for train_index, valid_index in kf.split(X_train):\n",
    "        X_train_list.append(X_train.iloc[train_index])\n",
    "        X_valid_list.append(X_train.iloc[valid_index])\n",
    "        y_train_list.append(y_train.iloc[train_index])\n",
    "        y_valid_list.append(y_train.iloc[valid_index]) \n",
    "    aucs, accs, mccs, recalls, precs, f1_scores = [], [], [], [], [], []\n",
    "    for i in range(0,5):\n",
    "        X_train = X_train_list[i]\n",
    "        X_valid = X_valid_list[i]\n",
    "        y_train = y_train_list[i]\n",
    "        y_valid = y_valid_list[i]\n",
    "        auc,acc2,mcc,Recall,Precision,F1_score, rf = train_rf(X_train, X_valid, y_train, y_valid, \n",
    "                                                      n_estimators=n_estimators, criterion=criterion, \n",
    "                                                              max_features=max_features)\n",
    "        mccs.append(mcc)\n",
    "        aucs.append(auc)\n",
    "        accs.append(acc2)\n",
    "        mccs.append(mcc)\n",
    "        recalls.append(Recall)\n",
    "        precs.append(Precision)\n",
    "        f1_scores.append(F1_score)\n",
    "        \n",
    "    print(f\"Average ROCAUC of the folds: {np.mean(aucs)}\")\n",
    "    print(f\"Average accuracy of the folds: {np.mean(accs)}\")\n",
    "    print(f\"Average Matthews correlation of the folds: {np.mean(mccs)}\")\n",
    "    print(f\"Average recall of the folds: {np.mean(recalls)}\")\n",
    "    print(f\"Average precision of the folds: {np.mean(precs)}\")\n",
    "    print(f\"Average f1 score of the folds: {np.mean(f1_scores)}\")\n",
    "    print()\n",
    "    score = []\n",
    "    score.append(np.mean(aucs))\n",
    "    score.append(np.mean(accs))\n",
    "    score.append(np.mean(mccs))\n",
    "    score.append(np.mean(recalls))\n",
    "    score.append(np.mean(precs))\n",
    "    score.append(np.mean(f1_scores))\n",
    "    score = np.mean(score)\n",
    "    mean_mcc = np.mean(mccs)\n",
    "    return score, mean_mcc"
   ]
  },
  {
   "cell_type": "markdown",
   "metadata": {},
   "source": [
    "# Test for different parameters"
   ]
  },
  {
   "cell_type": "markdown",
   "metadata": {},
   "source": [
    "**Results:** The best results on dataset CHEMBL205 was from n_estimators=200, criterion=entropy, max_features=log2 \\\n",
    "**Note:** This could depend on the dataset"
   ]
  },
  {
   "cell_type": "code",
   "execution_count": 38,
   "metadata": {},
   "outputs": [],
   "source": [
    "from sklearn.model_selection import ParameterGrid"
   ]
  },
  {
   "cell_type": "code",
   "execution_count": 79,
   "metadata": {},
   "outputs": [],
   "source": [
    "dataset = 'CHEMBL218'"
   ]
  },
  {
   "cell_type": "code",
   "execution_count": 80,
   "metadata": {},
   "outputs": [],
   "source": [
    "param_grid = {\n",
    "    'n_estimators': [100,200,300,700, 1000], \n",
    "    'criterion': ['gini', 'entropy'],\n",
    "    'max_features': ['log2', 'sqrt']\n",
    "             }\n",
    "\n",
    "param_grid = ParameterGrid(param_grid)"
   ]
  },
  {
   "cell_type": "code",
   "execution_count": 81,
   "metadata": {},
   "outputs": [
    {
     "name": "stdout",
     "output_type": "stream",
     "text": [
      "Testing combination: {'criterion': 'gini', 'max_features': 'log2', 'n_estimators': 100}\n",
      "Training on dataset: CHEMBL218 with 1024 bits fingerprint features\n",
      "Average ROCAUC of the folds: 0.9906456212905432\n",
      "Average accuracy of the folds: 0.985263470213134\n",
      "Average Matthews correlation of the folds: 0.9068313007508195\n",
      "Average recall of the folds: 0.862871754615148\n",
      "Average precision of the folds: 0.9695692834443944\n",
      "Average f1 score of the folds: 0.9128635591089667\n",
      "\n",
      "Testing combination: {'criterion': 'gini', 'max_features': 'log2', 'n_estimators': 200}\n",
      "Training on dataset: CHEMBL218 with 1024 bits fingerprint features\n",
      "Average ROCAUC of the folds: 0.9923972977752629\n",
      "Average accuracy of the folds: 0.9857414626638805\n",
      "Average Matthews correlation of the folds: 0.9097014786781694\n",
      "Average recall of the folds: 0.8642661642814689\n",
      "Average precision of the folds: 0.9734985331742154\n",
      "Average f1 score of the folds: 0.9153962726162158\n",
      "\n",
      "Testing combination: {'criterion': 'gini', 'max_features': 'log2', 'n_estimators': 300}\n",
      "Training on dataset: CHEMBL218 with 1024 bits fingerprint features\n",
      "Average ROCAUC of the folds: 0.9924586401341522\n",
      "Average accuracy of the folds: 0.9855821635798503\n",
      "Average Matthews correlation of the folds: 0.9086144097825006\n",
      "Average recall of the folds: 0.8623052467249306\n",
      "Average precision of the folds: 0.9734750461795144\n",
      "Average f1 score of the folds: 0.914382575793352\n",
      "\n",
      "Testing combination: {'criterion': 'gini', 'max_features': 'log2', 'n_estimators': 700}\n",
      "Training on dataset: CHEMBL218 with 1024 bits fingerprint features\n",
      "Average ROCAUC of the folds: 0.9927709814865651\n",
      "Average accuracy of the folds: 0.9856618131218653\n",
      "Average Matthews correlation of the folds: 0.9091280300792315\n",
      "Average recall of the folds: 0.8649668078654045\n",
      "Average precision of the folds: 0.9715555915662121\n",
      "Average f1 score of the folds: 0.915004246452507\n",
      "\n",
      "Testing combination: {'criterion': 'gini', 'max_features': 'log2', 'n_estimators': 1000}\n",
      "Training on dataset: CHEMBL218 with 1024 bits fingerprint features\n",
      "Average ROCAUC of the folds: 0.9930413962517977\n",
      "Average accuracy of the folds: 0.9858211122058957\n",
      "Average Matthews correlation of the folds: 0.9102684225688955\n",
      "Average recall of the folds: 0.8659668078654045\n",
      "Average precision of the folds: 0.9726667026773231\n",
      "Average f1 score of the folds: 0.9160568780314543\n",
      "\n",
      "Testing combination: {'criterion': 'gini', 'max_features': 'sqrt', 'n_estimators': 100}\n",
      "Training on dataset: CHEMBL218 with 1024 bits fingerprint features\n",
      "Average ROCAUC of the folds: 0.9903554530456711\n",
      "Average accuracy of the folds: 0.9849448085793029\n",
      "Average Matthews correlation of the folds: 0.9052961362936799\n",
      "Average recall of the folds: 0.8662067547238991\n",
      "Average precision of the folds: 0.9631456334596727\n",
      "Average f1 score of the folds: 0.9117864143646361\n",
      "\n",
      "Testing combination: {'criterion': 'gini', 'max_features': 'sqrt', 'n_estimators': 200}\n",
      "Training on dataset: CHEMBL218 with 1024 bits fingerprint features\n",
      "Average ROCAUC of the folds: 0.9905099408353282\n",
      "Average accuracy of the folds: 0.9851041393962184\n",
      "Average Matthews correlation of the folds: 0.906411591249538\n",
      "Average recall of the folds: 0.8696402468336816\n",
      "Average precision of the folds: 0.9615711991950754\n",
      "Average f1 score of the folds: 0.9129741985203419\n",
      "\n",
      "Testing combination: {'criterion': 'gini', 'max_features': 'sqrt', 'n_estimators': 300}\n",
      "Training on dataset: CHEMBL218 with 1024 bits fingerprint features\n",
      "Average ROCAUC of the folds: 0.990865042886076\n",
      "Average accuracy of the folds: 0.9855820049154239\n",
      "Average Matthews correlation of the folds: 0.9094997820612271\n",
      "Average recall of the folds: 0.8731317307431954\n",
      "Average precision of the folds: 0.9635913109098011\n",
      "Average f1 score of the folds: 0.9159091302765132\n",
      "\n",
      "Testing combination: {'criterion': 'gini', 'max_features': 'sqrt', 'n_estimators': 700}\n",
      "Training on dataset: CHEMBL218 with 1024 bits fingerprint features\n",
      "Average ROCAUC of the folds: 0.9909261640079567\n",
      "Average accuracy of the folds: 0.9855023553734089\n",
      "Average Matthews correlation of the folds: 0.9090282244547687\n",
      "Average recall of the folds: 0.8723443291683923\n",
      "Average precision of the folds: 0.9635630315093244\n",
      "Average f1 score of the folds: 0.9154493237123781\n",
      "\n",
      "Testing combination: {'criterion': 'gini', 'max_features': 'sqrt', 'n_estimators': 1000}\n",
      "Training on dataset: CHEMBL218 with 1024 bits fingerprint features\n",
      "Average ROCAUC of the folds: 0.9912920999910909\n",
      "Average accuracy of the folds: 0.9855023553734089\n",
      "Average Matthews correlation of the folds: 0.909099154625328\n",
      "Average recall of the folds: 0.8724701696027214\n",
      "Average precision of the folds: 0.9635726724519419\n",
      "Average f1 score of the folds: 0.9155240477991399\n",
      "\n",
      "Testing combination: {'criterion': 'entropy', 'max_features': 'log2', 'n_estimators': 100}\n",
      "Training on dataset: CHEMBL218 with 1024 bits fingerprint features\n",
      "Average ROCAUC of the folds: 0.9906499647625182\n",
      "Average accuracy of the folds: 0.9851041393962184\n",
      "Average Matthews correlation of the folds: 0.9059321799442183\n",
      "Average recall of the folds: 0.8588278156630725\n",
      "Average precision of the folds: 0.9723175984956314\n",
      "Average f1 score of the folds: 0.9117950419828469\n",
      "\n",
      "Testing combination: {'criterion': 'entropy', 'max_features': 'log2', 'n_estimators': 200}\n",
      "Training on dataset: CHEMBL218 with 1024 bits fingerprint features\n",
      "Average ROCAUC of the folds: 0.9921571684004796\n",
      "Average accuracy of the folds: 0.985183820671119\n",
      "Average Matthews correlation of the folds: 0.9063641026430164\n",
      "Average recall of the folds: 0.8603480657637228\n",
      "Average precision of the folds: 0.9714253981207344\n",
      "Average f1 score of the folds: 0.9123000645686332\n",
      "\n",
      "Testing combination: {'criterion': 'entropy', 'max_features': 'log2', 'n_estimators': 300}\n",
      "Training on dataset: CHEMBL218 with 1024 bits fingerprint features\n",
      "Average ROCAUC of the folds: 0.9920630391999588\n",
      "Average accuracy of the folds: 0.9852635019460191\n",
      "Average Matthews correlation of the folds: 0.9066105163819129\n",
      "Average recall of the folds: 0.8615723981990836\n",
      "Average precision of the folds: 0.9704262882437511\n",
      "Average f1 score of the folds: 0.9126403588988066\n",
      "\n",
      "Testing combination: {'criterion': 'entropy', 'max_features': 'log2', 'n_estimators': 700}\n",
      "Training on dataset: CHEMBL218 with 1024 bits fingerprint features\n",
      "Average ROCAUC of the folds: 0.9926358174114576\n",
      "Average accuracy of the folds: 0.9853431832209196\n",
      "Average Matthews correlation of the folds: 0.9071206757882246\n",
      "Average recall of the folds: 0.8607459141808187\n",
      "Average precision of the folds: 0.9723503625184972\n",
      "Average f1 score of the folds: 0.9129832500358817\n",
      "\n",
      "Testing combination: {'criterion': 'entropy', 'max_features': 'log2', 'n_estimators': 1000}\n",
      "Training on dataset: CHEMBL218 with 1024 bits fingerprint features\n",
      "Average ROCAUC of the folds: 0.993002864002604\n",
      "Average accuracy of the folds: 0.9856617813889802\n",
      "Average Matthews correlation of the folds: 0.9092546349068839\n",
      "Average recall of the folds: 0.8643597997738868\n",
      "Average precision of the folds: 0.9724781936692114\n",
      "Average f1 score of the folds: 0.9150793614441348\n",
      "\n",
      "Testing combination: {'criterion': 'entropy', 'max_features': 'sqrt', 'n_estimators': 100}\n",
      "Training on dataset: CHEMBL218 with 1024 bits fingerprint features\n",
      "Average ROCAUC of the folds: 0.9910259479011756\n",
      "Average accuracy of the folds: 0.9852634067473633\n",
      "Average Matthews correlation of the folds: 0.9076155911539157\n",
      "Average recall of the folds: 0.8690688824348504\n",
      "Average precision of the folds: 0.9644795620740156\n",
      "Average f1 score of the folds: 0.9140094769611746\n",
      "\n",
      "Testing combination: {'criterion': 'entropy', 'max_features': 'sqrt', 'n_estimators': 200}\n",
      "Training on dataset: CHEMBL218 with 1024 bits fingerprint features\n",
      "Average ROCAUC of the folds: 0.9919628166971819\n",
      "Average accuracy of the folds: 0.9857412722665689\n",
      "Average Matthews correlation of the folds: 0.9109375467409876\n",
      "Average recall of the folds: 0.874772964769561\n",
      "Average precision of the folds: 0.9646777489264338\n",
      "Average f1 score of the folds: 0.9172390186613013\n",
      "\n",
      "Testing combination: {'criterion': 'entropy', 'max_features': 'sqrt', 'n_estimators': 300}\n",
      "Training on dataset: CHEMBL218 with 1024 bits fingerprint features\n",
      "Average ROCAUC of the folds: 0.9920654326866882\n",
      "Average accuracy of the folds: 0.9855820049154239\n",
      "Average Matthews correlation of the folds: 0.9098150612783964\n",
      "Average recall of the folds: 0.8728086084622475\n",
      "Average precision of the folds: 0.9646322250466207\n",
      "Average f1 score of the folds: 0.9161561990107211\n",
      "\n",
      "Testing combination: {'criterion': 'entropy', 'max_features': 'sqrt', 'n_estimators': 700}\n",
      "Training on dataset: CHEMBL218 with 1024 bits fingerprint features\n"
     ]
    },
    {
     "name": "stdout",
     "output_type": "stream",
     "text": [
      "Average ROCAUC of the folds: 0.9923290322458165\n",
      "Average accuracy of the folds: 0.9856616861903242\n",
      "Average Matthews correlation of the folds: 0.9102269705190531\n",
      "Average recall of the folds: 0.8736827680279184\n",
      "Average precision of the folds: 0.9644779414620579\n",
      "Average f1 score of the folds: 0.9165346876256922\n",
      "\n",
      "Testing combination: {'criterion': 'entropy', 'max_features': 'sqrt', 'n_estimators': 1000}\n",
      "Training on dataset: CHEMBL218 with 1024 bits fingerprint features\n",
      "Average ROCAUC of the folds: 0.9922815098635283\n",
      "Average accuracy of the folds: 0.9856617179232096\n",
      "Average Matthews correlation of the folds: 0.910092985618809\n",
      "Average recall of the folds: 0.8726793292771433\n",
      "Average precision of the folds: 0.96532688238535\n",
      "Average f1 score of the folds: 0.916312250419676\n",
      "\n",
      "Mean mcc for {'criterion': 'gini', 'max_features': 'log2', 'n_estimators': 100} is 0.9068313007508195\n",
      "Mean mcc for {'criterion': 'gini', 'max_features': 'log2', 'n_estimators': 200} is 0.9097014786781694\n",
      "Mean mcc for {'criterion': 'gini', 'max_features': 'log2', 'n_estimators': 300} is 0.9086144097825006\n",
      "Mean mcc for {'criterion': 'gini', 'max_features': 'log2', 'n_estimators': 700} is 0.9091280300792315\n",
      "Mean mcc for {'criterion': 'gini', 'max_features': 'log2', 'n_estimators': 1000} is 0.9102684225688955\n",
      "Mean mcc for {'criterion': 'gini', 'max_features': 'sqrt', 'n_estimators': 100} is 0.9052961362936799\n",
      "Mean mcc for {'criterion': 'gini', 'max_features': 'sqrt', 'n_estimators': 200} is 0.906411591249538\n",
      "Mean mcc for {'criterion': 'gini', 'max_features': 'sqrt', 'n_estimators': 300} is 0.9094997820612271\n",
      "Mean mcc for {'criterion': 'gini', 'max_features': 'sqrt', 'n_estimators': 700} is 0.9090282244547687\n",
      "Mean mcc for {'criterion': 'gini', 'max_features': 'sqrt', 'n_estimators': 1000} is 0.909099154625328\n",
      "Mean mcc for {'criterion': 'entropy', 'max_features': 'log2', 'n_estimators': 100} is 0.9059321799442183\n",
      "Mean mcc for {'criterion': 'entropy', 'max_features': 'log2', 'n_estimators': 200} is 0.9063641026430164\n",
      "Mean mcc for {'criterion': 'entropy', 'max_features': 'log2', 'n_estimators': 300} is 0.9066105163819129\n",
      "Mean mcc for {'criterion': 'entropy', 'max_features': 'log2', 'n_estimators': 700} is 0.9071206757882246\n",
      "Mean mcc for {'criterion': 'entropy', 'max_features': 'log2', 'n_estimators': 1000} is 0.9092546349068839\n",
      "Mean mcc for {'criterion': 'entropy', 'max_features': 'sqrt', 'n_estimators': 100} is 0.9076155911539157\n",
      "Mean mcc for {'criterion': 'entropy', 'max_features': 'sqrt', 'n_estimators': 200} is 0.9109375467409876\n",
      "Mean mcc for {'criterion': 'entropy', 'max_features': 'sqrt', 'n_estimators': 300} is 0.9098150612783964\n",
      "Mean mcc for {'criterion': 'entropy', 'max_features': 'sqrt', 'n_estimators': 700} is 0.9102269705190531\n",
      "Mean mcc for {'criterion': 'entropy', 'max_features': 'sqrt', 'n_estimators': 1000} is 0.910092985618809\n"
     ]
    }
   ],
   "source": [
    "mean_scores = []\n",
    "mean_mccs = []\n",
    "for setting in param_grid:\n",
    "    print(f\"Testing combination: {setting}\")\n",
    "    score, mccs = train_on_dataset(dataset, \n",
    "                     bits=1024, \n",
    "                     n_estimators=setting['n_estimators'],\n",
    "                     criterion=setting['criterion'],\n",
    "                     max_features=setting['max_features']\n",
    "                    )\n",
    "    mean_scores.append(score)\n",
    "    mean_mccs.append(mccs)\n",
    "i = 0\n",
    "for setting in param_grid:\n",
    "    #print(f'Mean score for {setting} is {mean_scores[i]}')\n",
    "    print(f'Mean mcc for {setting} is {mean_mccs[i]}')\n",
    "    i += 1\n"
   ]
  },
  {
   "cell_type": "code",
   "execution_count": 82,
   "metadata": {},
   "outputs": [
    {
     "name": "stdout",
     "output_type": "stream",
     "text": [
      "Highest score is: 0.9109375467409876 from: {'criterion': 'entropy', 'max_features': 'sqrt', 'n_estimators': 200}\n"
     ]
    }
   ],
   "source": [
    "i = 0\n",
    "for setting in param_grid:\n",
    "    if mean_mccs[i] == np.amax(mean_mccs):\n",
    "        print(f'Highest score is: {mean_mccs[i]} from: {setting}')\n",
    "    i += 1"
   ]
  },
  {
   "cell_type": "markdown",
   "metadata": {},
   "source": [
    "# 1024 vs 512 bit fingerprint"
   ]
  },
  {
   "cell_type": "markdown",
   "metadata": {},
   "source": [
    "**Results:** 1024 is better on all parts but takes longer to train usually"
   ]
  },
  {
   "cell_type": "code",
   "execution_count": 71,
   "metadata": {},
   "outputs": [],
   "source": [
    "dataset = 'CHEMBL205'"
   ]
  },
  {
   "cell_type": "code",
   "execution_count": 72,
   "metadata": {},
   "outputs": [
    {
     "name": "stdout",
     "output_type": "stream",
     "text": [
      "Training on dataset: CHEMBL205 with 512 bits fingerprint features\n",
      "Average ROCAUC of the folds: 0.986635283838058\n",
      "Average accuracy of the folds: 0.9729657070535278\n",
      "Average Matthews correlation of the folds: 0.8328577809532958\n",
      "Average recall of the folds: 0.8205780032982327\n",
      "Average precision of the folds: 0.8757370373103303\n",
      "Average f1 score of the folds: 0.846947314852844\n",
      "\n",
      "Training on dataset: CHEMBL205 with 1024 bits fingerprint features\n",
      "Average ROCAUC of the folds: 0.9874170906586827\n",
      "Average accuracy of the folds: 0.9731515374932875\n",
      "Average Matthews correlation of the folds: 0.8347839190949525\n",
      "Average recall of the folds: 0.8277251965140863\n",
      "Average precision of the folds: 0.8719397932002083\n",
      "Average f1 score of the folds: 0.8490316339410597\n",
      "\n"
     ]
    },
    {
     "data": {
      "text/plain": [
       "0.8906748618170462"
      ]
     },
     "execution_count": 72,
     "metadata": {},
     "output_type": "execute_result"
    }
   ],
   "source": [
    "train_on_dataset(dataset, bits=512)\n",
    "train_on_dataset(dataset, bits=1024)"
   ]
  },
  {
   "cell_type": "markdown",
   "metadata": {},
   "source": [
    "# Train on all datasets"
   ]
  },
  {
   "cell_type": "code",
   "execution_count": 99,
   "metadata": {},
   "outputs": [],
   "source": [
    "datasets = ['CHEMBL205', 'CHEMBL301', \n",
    "            'CHEMBL240', 'CHEMBL219', \n",
    "            'CHEMBL244', 'CHEMBL218', \n",
    "            'CHEMBL1978']"
   ]
  },
  {
   "cell_type": "code",
   "execution_count": 100,
   "metadata": {},
   "outputs": [],
   "source": [
    "top_mcc_scores = {\n",
    "    \n",
    "    'CHEMBL205': 0.862,\n",
    "    'CHEMBL301': 0.926,\n",
    "    'CHEMBL240': 0.884,\n",
    "    'CHEMBL219': 0.887,\n",
    "    'CHEMBL244': 0.983,\n",
    "    'CHEMBL218': 0.941,\n",
    "    'CHEMBL1978': 0.904}\n"
   ]
  },
  {
   "cell_type": "code",
   "execution_count": 101,
   "metadata": {},
   "outputs": [],
   "source": [
    "mccs = []"
   ]
  },
  {
   "cell_type": "code",
   "execution_count": 102,
   "metadata": {},
   "outputs": [
    {
     "name": "stdout",
     "output_type": "stream",
     "text": [
      "Training on dataset: CHEMBL205 with 512 bits fingerprint features\n",
      "Average ROCAUC of the folds: 0.9876839623265227\n",
      "Average accuracy of the folds: 0.9721297506548311\n",
      "Average Matthews correlation of the folds: 0.8252921642404335\n",
      "Average recall of the folds: 0.7932998688175008\n",
      "Average precision of the folds: 0.8901113017236748\n",
      "Average f1 score of the folds: 0.8387525257174839\n",
      "\n",
      "Training on dataset: CHEMBL301 with 512 bits fingerprint features\n",
      "Average ROCAUC of the folds: 0.9871230843054807\n",
      "Average accuracy of the folds: 0.9825910398115102\n",
      "Average Matthews correlation of the folds: 0.8894002637213945\n",
      "Average recall of the folds: 0.8159172403162784\n",
      "Average precision of the folds: 0.9888888888888889\n",
      "Average f1 score of the folds: 0.8936870469862273\n",
      "\n",
      "Training on dataset: CHEMBL240 with 512 bits fingerprint features\n",
      "Average ROCAUC of the folds: 0.9759656896211462\n",
      "Average accuracy of the folds: 0.9686147186147187\n",
      "Average Matthews correlation of the folds: 0.7869141940048865\n",
      "Average recall of the folds: 0.6670744535377015\n",
      "Average precision of the folds: 0.9644169347395154\n",
      "Average f1 score of the folds: 0.7872017899430952\n",
      "\n",
      "Training on dataset: CHEMBL219 with 512 bits fingerprint features\n",
      "Average ROCAUC of the folds: 0.9836630205655533\n",
      "Average accuracy of the folds: 0.9736455125730549\n",
      "Average Matthews correlation of the folds: 0.8344093259654839\n",
      "Average recall of the folds: 0.7625418090681249\n",
      "Average precision of the folds: 0.9434345861955956\n",
      "Average f1 score of the folds: 0.8423983780498233\n",
      "\n",
      "Training on dataset: CHEMBL244 with 512 bits fingerprint features\n",
      "Average ROCAUC of the folds: 0.9980934859918875\n",
      "Average accuracy of the folds: 0.9943046357615895\n",
      "Average Matthews correlation of the folds: 0.965523623931033\n",
      "Average recall of the folds: 0.9451307634024847\n",
      "Average precision of the folds: 0.9926511612045152\n",
      "Average f1 score of the folds: 0.9682920817836672\n",
      "\n",
      "Training on dataset: CHEMBL218 with 512 bits fingerprint features\n",
      "Average ROCAUC of the folds: 0.991032395543072\n",
      "Average accuracy of the folds: 0.9837500337161906\n",
      "Average Matthews correlation of the folds: 0.8965708763552348\n",
      "Average recall of the folds: 0.8410797943762865\n",
      "Average precision of the folds: 0.9737661311087751\n",
      "Average f1 score of the folds: 0.9024560182261332\n",
      "\n",
      "Training on dataset: CHEMBL1978 with 512 bits fingerprint features\n",
      "Average ROCAUC of the folds: 0.992404138615664\n",
      "Average accuracy of the folds: 0.9787721492599541\n",
      "Average Matthews correlation of the folds: 0.8652880515329053\n",
      "Average recall of the folds: 0.8007878787878788\n",
      "Average precision of the folds: 0.9604614092717201\n",
      "Average f1 score of the folds: 0.8713112553388104\n",
      "\n"
     ]
    }
   ],
   "source": [
    "for dataset in datasets:\n",
    "    _, mcc = train_on_dataset(dataset, bits=512)\n",
    "    mccs.append(mcc)"
   ]
  },
  {
   "cell_type": "code",
   "execution_count": 103,
   "metadata": {},
   "outputs": [
    {
     "data": {
      "text/plain": [
       "{'CHEMBL205': 0.825,\n",
       " 'CHEMBL301': 0.889,\n",
       " 'CHEMBL240': 0.787,\n",
       " 'CHEMBL219': 0.834,\n",
       " 'CHEMBL244': 0.966,\n",
       " 'CHEMBL218': 0.897,\n",
       " 'CHEMBL1978': 0.865}"
      ]
     },
     "execution_count": 103,
     "metadata": {},
     "output_type": "execute_result"
    }
   ],
   "source": [
    "mccs = [round(num, 3) for num in mccs]\n",
    "mcc_scores = dict(zip(datasets, mccs))\n",
    "mcc_scores"
   ]
  },
  {
   "cell_type": "code",
   "execution_count": 104,
   "metadata": {},
   "outputs": [
    {
     "data": {
      "text/plain": [
       "{'CHEMBL205': 0.862,\n",
       " 'CHEMBL301': 0.926,\n",
       " 'CHEMBL240': 0.884,\n",
       " 'CHEMBL219': 0.887,\n",
       " 'CHEMBL244': 0.983,\n",
       " 'CHEMBL218': 0.941,\n",
       " 'CHEMBL1978': 0.904}"
      ]
     },
     "execution_count": 104,
     "metadata": {},
     "output_type": "execute_result"
    }
   ],
   "source": [
    "top_mcc_scores"
   ]
  },
  {
   "cell_type": "code",
   "execution_count": null,
   "metadata": {},
   "outputs": [],
   "source": []
  }
 ],
 "metadata": {
  "kernelspec": {
   "display_name": "Python 3",
   "language": "python",
   "name": "python3"
  },
  "language_info": {
   "codemirror_mode": {
    "name": "ipython",
    "version": 3
   },
   "file_extension": ".py",
   "mimetype": "text/x-python",
   "name": "python",
   "nbconvert_exporter": "python",
   "pygments_lexer": "ipython3",
   "version": "3.6.13"
  }
 },
 "nbformat": 4,
 "nbformat_minor": 4
}
