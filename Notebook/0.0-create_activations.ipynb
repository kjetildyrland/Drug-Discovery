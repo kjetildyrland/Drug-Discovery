{
 "cells": [
  {
   "cell_type": "markdown",
   "metadata": {},
   "source": [
    "# Image Classification with DNN"
   ]
  },
  {
   "cell_type": "markdown",
   "metadata": {},
   "source": [
    "## DATASETS:\n",
    "(a) Carbonic Anhydrase II (ChEMBL205), a protein lyase,  \n",
    "(b) Cyclin-dependent kinase 2 (CHEMBL301), a protein kinase,  \n",
    "(c) ether-a-go-go-related gene potassium channel 1 (HERG) (CHEMBL240), a voltage-gated ion channel,  \n",
    "(d) Dopamine D4 receptor (CHEMBL219), a monoamine GPCR,  \n",
    "(e) Coagulation factor X (CHEMBL244), a serine protease,  \n",
    "(f) Cannabinoid CB1 receptor (CHEMBL218), a lipid-like GPCR and  \n",
    "(g) Cytochrome P450 19A1 (CHEMBL1978), a cytochrome P450.  \n",
    "The activity classes were selected based on data availability and as representatives of therapeutically important target classes or as anti-targets."
   ]
  },
  {
   "cell_type": "code",
   "execution_count": 1,
   "metadata": {},
   "outputs": [],
   "source": [
    "top_mcc_scores = {\n",
    "    \n",
    "    'CHEMBL205': 0.862,\n",
    "    'CHEMBL301': 0.926,\n",
    "    'CHEMBL240': 0.884,\n",
    "    'CHEMBL219': 0.887,\n",
    "    'CHEMBL244': 0.983,\n",
    "    'CHEMBL218': 0.941,\n",
    "    'CHEMBL1978': 0.904}"
   ]
  },
  {
   "cell_type": "code",
   "execution_count": 2,
   "metadata": {
    "scrolled": true
   },
   "outputs": [
    {
     "name": "stdout",
     "output_type": "stream",
     "text": [
      "Fri Apr 23 10:36:45 2021       \n",
      "+-----------------------------------------------------------------------------+\n",
      "| NVIDIA-SMI 450.36.06    Driver Version: 450.36.06    CUDA Version: 11.0     |\n",
      "|-------------------------------+----------------------+----------------------+\n",
      "| GPU  Name        Persistence-M| Bus-Id        Disp.A | Volatile Uncorr. ECC |\n",
      "| Fan  Temp  Perf  Pwr:Usage/Cap|         Memory-Usage | GPU-Util  Compute M. |\n",
      "|                               |                      |               MIG M. |\n",
      "|===============================+======================+======================|\n",
      "|   0  Quadro P5000        On   | 00000000:00:05.0 Off |                  Off |\n",
      "| 26%   22C    P8     5W / 180W |   3407MiB / 16278MiB |      0%      Default |\n",
      "|                               |                      |                  N/A |\n",
      "+-------------------------------+----------------------+----------------------+\n",
      "                                                                               \n",
      "+-----------------------------------------------------------------------------+\n",
      "| Processes:                                                                  |\n",
      "|  GPU   GI   CI        PID   Type   Process name                  GPU Memory |\n",
      "|        ID   ID                                                   Usage      |\n",
      "|=============================================================================|\n",
      "+-----------------------------------------------------------------------------+\n"
     ]
    }
   ],
   "source": [
    "!nvidia-smi"
   ]
  },
  {
   "cell_type": "code",
   "execution_count": 4,
   "metadata": {},
   "outputs": [],
   "source": [
    "# Import\n",
    "import pandas as pd\n",
    "import numpy as np\n",
    "from pathlib import Path"
   ]
  },
  {
   "cell_type": "code",
   "execution_count": 16,
   "metadata": {},
   "outputs": [],
   "source": [
    "dataset='CHEMBL205_cl'"
   ]
  },
  {
   "cell_type": "code",
   "execution_count": 17,
   "metadata": {},
   "outputs": [],
   "source": [
    "path = Path('../dataset/13321_2017_226_MOESM1_ESM/')\n",
    "df = pd.read_csv(path/f'{dataset}.csv')"
   ]
  },
  {
   "cell_type": "code",
   "execution_count": 18,
   "metadata": {},
   "outputs": [
    {
     "data": {
      "text/plain": [
       "[PosixPath('../dataset/13321_2017_226_MOESM1_ESM/RdkitDescriptors.py'),\n",
       " PosixPath('../dataset/13321_2017_226_MOESM1_ESM/CHEMBL205_cl_ecfp_1024.csv'),\n",
       " PosixPath('../dataset/13321_2017_226_MOESM1_ESM/CHEMBL218_cl.csv'),\n",
       " PosixPath('../dataset/13321_2017_226_MOESM1_ESM/CHEMBL205_cl.csv'),\n",
       " PosixPath('../dataset/13321_2017_226_MOESM1_ESM/CHEMBL1978_cl.csv'),\n",
       " PosixPath('../dataset/13321_2017_226_MOESM1_ESM/CHEMBL244_cl.csv'),\n",
       " PosixPath('../dataset/13321_2017_226_MOESM1_ESM/CHEMBL240_cl.csv'),\n",
       " PosixPath('../dataset/13321_2017_226_MOESM1_ESM/CHEMBL301_cl.csv'),\n",
       " PosixPath('../dataset/13321_2017_226_MOESM1_ESM/CHEMBL219_cl.csv'),\n",
       " PosixPath('../dataset/13321_2017_226_MOESM1_ESM/.ipynb_checkpoints'),\n",
       " PosixPath('../dataset/13321_2017_226_MOESM1_ESM/mol_images'),\n",
       " PosixPath('../dataset/13321_2017_226_MOESM1_ESM/CHEMBL218_cl_ecfp_1024.csv')]"
      ]
     },
     "execution_count": 18,
     "metadata": {},
     "output_type": "execute_result"
    }
   ],
   "source": [
    "list(path.iterdir())"
   ]
  },
  {
   "cell_type": "markdown",
   "metadata": {},
   "source": [
    "# Generate activations"
   ]
  },
  {
   "cell_type": "code",
   "execution_count": 19,
   "metadata": {},
   "outputs": [],
   "source": [
    "IMAGES=path/'mol_images'/f'{dataset}'"
   ]
  },
  {
   "cell_type": "markdown",
   "metadata": {},
   "source": [
    "# Create train validation split"
   ]
  },
  {
   "cell_type": "code",
   "execution_count": 20,
   "metadata": {},
   "outputs": [],
   "source": [
    "from sklearn.model_selection import train_test_split"
   ]
  },
  {
   "cell_type": "code",
   "execution_count": 21,
   "metadata": {},
   "outputs": [],
   "source": [
    "def get_df(data):\n",
    "    \"\"\"\n",
    "    Construct a dataframe containing \n",
    "        CID, SMILES, Image, Activity\n",
    "    \"\"\"\n",
    "    \n",
    "    name = data.stem\n",
    "    \n",
    "    df = pd.read_csv(data)\n",
    "    df['Image'] = df['CID'].apply(lambda x: f'{str(x)}.png')\n",
    "    \n",
    "    df = df[['CID', 'SMILES', 'Image', 'Activity']]\n",
    "    \n",
    "    return df, name"
   ]
  },
  {
   "cell_type": "code",
   "execution_count": 25,
   "metadata": {},
   "outputs": [],
   "source": [
    "x_train,x_val = train_test_split(df.index, test_size=0.25, stratify=df['Activity'], \n",
    "                                     random_state=42)\n",
    "df.loc[x_train, 'is_valid']=False\n",
    "df.loc[x_val, 'is_valid']=True"
   ]
  },
  {
   "cell_type": "markdown",
   "metadata": {},
   "source": [
    "# Create dataloader"
   ]
  },
  {
   "cell_type": "code",
   "execution_count": 26,
   "metadata": {
    "scrolled": false
   },
   "outputs": [],
   "source": [
    "from fastai.vision.all import *"
   ]
  },
  {
   "cell_type": "code",
   "execution_count": 27,
   "metadata": {},
   "outputs": [
    {
     "data": {
      "text/html": [
       "<div>\n",
       "<style scoped>\n",
       "    .dataframe tbody tr th:only-of-type {\n",
       "        vertical-align: middle;\n",
       "    }\n",
       "\n",
       "    .dataframe tbody tr th {\n",
       "        vertical-align: top;\n",
       "    }\n",
       "\n",
       "    .dataframe thead th {\n",
       "        text-align: right;\n",
       "    }\n",
       "</style>\n",
       "<table border=\"1\" class=\"dataframe\">\n",
       "  <thead>\n",
       "    <tr style=\"text-align: right;\">\n",
       "      <th></th>\n",
       "      <th>CID</th>\n",
       "      <th>SMILES</th>\n",
       "      <th>Activity</th>\n",
       "      <th>Image</th>\n",
       "      <th>is_valid</th>\n",
       "    </tr>\n",
       "  </thead>\n",
       "  <tbody>\n",
       "    <tr>\n",
       "      <th>0</th>\n",
       "      <td>CHEMBL188002</td>\n",
       "      <td>S(=O)(=O)(N)c1cc(N/C(/S)=N\\c2cc(C(=O)[O-])c(cc2)C=2c3c(OC4=CC(=O)C=CC=24)cc(O)cc3)ccc1</td>\n",
       "      <td>1</td>\n",
       "      <td>CHEMBL188002.png</td>\n",
       "      <td>True</td>\n",
       "    </tr>\n",
       "    <tr>\n",
       "      <th>1</th>\n",
       "      <td>CHEMBL364127</td>\n",
       "      <td>Clc1ccc(cc1)C(=O)NC1Cc2cc(S(=O)(=O)N)ccc2C1</td>\n",
       "      <td>1</td>\n",
       "      <td>CHEMBL364127.png</td>\n",
       "      <td>False</td>\n",
       "    </tr>\n",
       "    <tr>\n",
       "      <th>2</th>\n",
       "      <td>CHEMBL1683469</td>\n",
       "      <td>S(=O)(=O)(N)c1ccc(cc1)CNS(=O)(=O)CC12CCC(CC1=O)C2(C)C</td>\n",
       "      <td>1</td>\n",
       "      <td>CHEMBL1683469.png</td>\n",
       "      <td>False</td>\n",
       "    </tr>\n",
       "    <tr>\n",
       "      <th>3</th>\n",
       "      <td>CHEMBL52564</td>\n",
       "      <td>Oc1ccccc1\\C=C\\C(=O)[O-]</td>\n",
       "      <td>1</td>\n",
       "      <td>CHEMBL52564.png</td>\n",
       "      <td>False</td>\n",
       "    </tr>\n",
       "    <tr>\n",
       "      <th>4</th>\n",
       "      <td>CHEMBL21427</td>\n",
       "      <td>OB(O)c1ccc(OC)cc1</td>\n",
       "      <td>1</td>\n",
       "      <td>CHEMBL21427.png</td>\n",
       "      <td>False</td>\n",
       "    </tr>\n",
       "  </tbody>\n",
       "</table>\n",
       "</div>"
      ],
      "text/plain": [
       "             CID  \\\n",
       "0   CHEMBL188002   \n",
       "1   CHEMBL364127   \n",
       "2  CHEMBL1683469   \n",
       "3    CHEMBL52564   \n",
       "4    CHEMBL21427   \n",
       "\n",
       "                                                                                   SMILES  \\\n",
       "0  S(=O)(=O)(N)c1cc(N/C(/S)=N\\c2cc(C(=O)[O-])c(cc2)C=2c3c(OC4=CC(=O)C=CC=24)cc(O)cc3)ccc1   \n",
       "1                                             Clc1ccc(cc1)C(=O)NC1Cc2cc(S(=O)(=O)N)ccc2C1   \n",
       "2                                   S(=O)(=O)(N)c1ccc(cc1)CNS(=O)(=O)CC12CCC(CC1=O)C2(C)C   \n",
       "3                                                                 Oc1ccccc1\\C=C\\C(=O)[O-]   \n",
       "4                                                                       OB(O)c1ccc(OC)cc1   \n",
       "\n",
       "   Activity              Image is_valid  \n",
       "0         1   CHEMBL188002.png     True  \n",
       "1         1   CHEMBL364127.png    False  \n",
       "2         1  CHEMBL1683469.png    False  \n",
       "3         1    CHEMBL52564.png    False  \n",
       "4         1    CHEMBL21427.png    False  "
      ]
     },
     "execution_count": 27,
     "metadata": {},
     "output_type": "execute_result"
    }
   ],
   "source": [
    "df['Image'] = df['CID'] + '.png'\n",
    "df.head()"
   ]
  },
  {
   "cell_type": "code",
   "execution_count": 28,
   "metadata": {},
   "outputs": [],
   "source": [
    "db = DataBlock(\n",
    "    blocks = (ImageBlock(), CategoryBlock()), \n",
    "    get_x=ColReader('Image', pref=IMAGES),\n",
    "    get_y=ColReader('Activity'), \n",
    "    splitter=ColSplitter('is_valid'),\n",
    "    item_tfms=None, \n",
    "    batch_tfms=None\n",
    "    )"
   ]
  },
  {
   "cell_type": "code",
   "execution_count": 29,
   "metadata": {},
   "outputs": [],
   "source": [
    "dls = db.dataloaders(df, bs=64, shuffle_train=True)"
   ]
  },
  {
   "cell_type": "code",
   "execution_count": 30,
   "metadata": {},
   "outputs": [
    {
     "data": {
      "image/png": "[encoded data removed]",
      "text/plain": [
       "<Figure size 648x648 with 9 Axes>"
      ]
     },
     "metadata": {
      "needs_background": "light"
     },
     "output_type": "display_data"
    }
   ],
   "source": [
    "dls.show_batch()"
   ]
  },
  {
   "cell_type": "markdown",
   "metadata": {},
   "source": [
    "# Train CNN model"
   ]
  },
  {
   "cell_type": "code",
   "execution_count": 31,
   "metadata": {},
   "outputs": [],
   "source": [
    "from sklearn.metrics import auc,roc_auc_score,recall_score,precision_score,f1_score\n",
    "from sklearn.metrics import matthews_corrcoef\n",
    "from sklearn.metrics import accuracy_score"
   ]
  },
  {
   "cell_type": "code",
   "execution_count": 32,
   "metadata": {},
   "outputs": [],
   "source": [
    "def train_model(dls, arch=resnet18, epochs=6, freeze_epochs=5, wd=None):\n",
    "    \n",
    "    print(f'Training model on dataset: {dataset}')\n",
    "    print(f'Architechture: {arch}')\n",
    "    print(f'Untrained epochs: freeze_epochs={freeze_epochs}')\n",
    "    print(f'Trained epochs: epochs={epochs}')\n",
    "    \n",
    "    learn = cnn_learner(dls, arch=resnet18, pretrained=True, \n",
    "                            wd=wd,\n",
    "                            metrics=[accuracy, \n",
    "                            F1Score(), \n",
    "                            Precision(), \n",
    "                            Recall(), \n",
    "                            RocAucBinary(), \n",
    "                            MatthewsCorrCoef()])\n",
    "    \n",
    "    \n",
    "    print(f'Finding learning rate...')\n",
    "    lr_min, lr_steep = learn.lr_find(suggestions=True, show_plot=False)\n",
    "    print(f'Training model with learning rate: {lr_min}')\n",
    "    learn.fine_tune(epochs, lr_min, freeze_epochs=freeze_epochs)\n",
    "    \n",
    "    return learn"
   ]
  },
  {
   "cell_type": "code",
   "execution_count": 33,
   "metadata": {},
   "outputs": [
    {
     "name": "stdout",
     "output_type": "stream",
     "text": [
      "Training model on dataset: CHEMBL205_cl\n",
      "Architechture: <function resnet18 at 0x7fc82ab47160>\n",
      "Untrained epochs: freeze_epochs=5\n",
      "Trained epochs: epochs=6\n",
      "Finding learning rate...\n"
     ]
    },
    {
     "data": {
      "text/html": [],
      "text/plain": [
       "<IPython.core.display.HTML object>"
      ]
     },
     "metadata": {},
     "output_type": "display_data"
    },
    {
     "name": "stdout",
     "output_type": "stream",
     "text": [
      "Training model with learning rate: 0.014454397559165954\n"
     ]
    },
    {
     "data": {
      "text/html": [
       "<table border=\"1\" class=\"dataframe\">\n",
       "  <thead>\n",
       "    <tr style=\"text-align: left;\">\n",
       "      <th>epoch</th>\n",
       "      <th>train_loss</th>\n",
       "      <th>valid_loss</th>\n",
       "      <th>accuracy</th>\n",
       "      <th>f1_score</th>\n",
       "      <th>precision_score</th>\n",
       "      <th>recall_score</th>\n",
       "      <th>roc_auc_score</th>\n",
       "      <th>matthews_corrcoef</th>\n",
       "      <th>time</th>\n",
       "    </tr>\n",
       "  </thead>\n",
       "  <tbody>\n",
       "    <tr>\n",
       "      <td>0</td>\n",
       "      <td>0.316155</td>\n",
       "      <td>0.201153</td>\n",
       "      <td>0.931119</td>\n",
       "      <td>0.609355</td>\n",
       "      <td>0.629243</td>\n",
       "      <td>0.590686</td>\n",
       "      <td>0.893801</td>\n",
       "      <td>0.571970</td>\n",
       "      <td>00:35</td>\n",
       "    </tr>\n",
       "    <tr>\n",
       "      <td>1</td>\n",
       "      <td>0.210779</td>\n",
       "      <td>0.141031</td>\n",
       "      <td>0.946277</td>\n",
       "      <td>0.674764</td>\n",
       "      <td>0.750751</td>\n",
       "      <td>0.612745</td>\n",
       "      <td>0.953118</td>\n",
       "      <td>0.649770</td>\n",
       "      <td>00:33</td>\n",
       "    </tr>\n",
       "    <tr>\n",
       "      <td>2</td>\n",
       "      <td>0.192586</td>\n",
       "      <td>0.155669</td>\n",
       "      <td>0.948506</td>\n",
       "      <td>0.656761</td>\n",
       "      <td>0.833962</td>\n",
       "      <td>0.541667</td>\n",
       "      <td>0.959122</td>\n",
       "      <td>0.647466</td>\n",
       "      <td>00:33</td>\n",
       "    </tr>\n",
       "    <tr>\n",
       "      <td>3</td>\n",
       "      <td>0.158814</td>\n",
       "      <td>0.123375</td>\n",
       "      <td>0.959652</td>\n",
       "      <td>0.786808</td>\n",
       "      <td>0.757370</td>\n",
       "      <td>0.818627</td>\n",
       "      <td>0.977237</td>\n",
       "      <td>0.765268</td>\n",
       "      <td>00:33</td>\n",
       "    </tr>\n",
       "    <tr>\n",
       "      <td>4</td>\n",
       "      <td>0.137742</td>\n",
       "      <td>0.150996</td>\n",
       "      <td>0.954302</td>\n",
       "      <td>0.708393</td>\n",
       "      <td>0.844068</td>\n",
       "      <td>0.610294</td>\n",
       "      <td>0.976521</td>\n",
       "      <td>0.694898</td>\n",
       "      <td>00:33</td>\n",
       "    </tr>\n",
       "  </tbody>\n",
       "</table>"
      ],
      "text/plain": [
       "<IPython.core.display.HTML object>"
      ]
     },
     "metadata": {},
     "output_type": "display_data"
    },
    {
     "data": {
      "text/html": [
       "<table border=\"1\" class=\"dataframe\">\n",
       "  <thead>\n",
       "    <tr style=\"text-align: left;\">\n",
       "      <th>epoch</th>\n",
       "      <th>train_loss</th>\n",
       "      <th>valid_loss</th>\n",
       "      <th>accuracy</th>\n",
       "      <th>f1_score</th>\n",
       "      <th>precision_score</th>\n",
       "      <th>recall_score</th>\n",
       "      <th>roc_auc_score</th>\n",
       "      <th>matthews_corrcoef</th>\n",
       "      <th>time</th>\n",
       "    </tr>\n",
       "  </thead>\n",
       "  <tbody>\n",
       "    <tr>\n",
       "      <td>0</td>\n",
       "      <td>0.131968</td>\n",
       "      <td>0.113428</td>\n",
       "      <td>0.956309</td>\n",
       "      <td>0.729282</td>\n",
       "      <td>0.835443</td>\n",
       "      <td>0.647059</td>\n",
       "      <td>0.970748</td>\n",
       "      <td>0.712758</td>\n",
       "      <td>00:42</td>\n",
       "    </tr>\n",
       "    <tr>\n",
       "      <td>1</td>\n",
       "      <td>0.132000</td>\n",
       "      <td>0.181391</td>\n",
       "      <td>0.927998</td>\n",
       "      <td>0.387097</td>\n",
       "      <td>0.857143</td>\n",
       "      <td>0.250000</td>\n",
       "      <td>0.964811</td>\n",
       "      <td>0.439871</td>\n",
       "      <td>00:42</td>\n",
       "    </tr>\n",
       "    <tr>\n",
       "      <td>2</td>\n",
       "      <td>0.121696</td>\n",
       "      <td>0.135173</td>\n",
       "      <td>0.948952</td>\n",
       "      <td>0.701434</td>\n",
       "      <td>0.749304</td>\n",
       "      <td>0.659314</td>\n",
       "      <td>0.960724</td>\n",
       "      <td>0.675297</td>\n",
       "      <td>00:42</td>\n",
       "    </tr>\n",
       "    <tr>\n",
       "      <td>3</td>\n",
       "      <td>0.084639</td>\n",
       "      <td>0.093851</td>\n",
       "      <td>0.963219</td>\n",
       "      <td>0.780293</td>\n",
       "      <td>0.854227</td>\n",
       "      <td>0.718137</td>\n",
       "      <td>0.986940</td>\n",
       "      <td>0.763797</td>\n",
       "      <td>00:42</td>\n",
       "    </tr>\n",
       "    <tr>\n",
       "      <td>4</td>\n",
       "      <td>0.044858</td>\n",
       "      <td>0.095345</td>\n",
       "      <td>0.968569</td>\n",
       "      <td>0.823529</td>\n",
       "      <td>0.841432</td>\n",
       "      <td>0.806373</td>\n",
       "      <td>0.984942</td>\n",
       "      <td>0.806506</td>\n",
       "      <td>00:42</td>\n",
       "    </tr>\n",
       "    <tr>\n",
       "      <td>5</td>\n",
       "      <td>0.017580</td>\n",
       "      <td>0.102198</td>\n",
       "      <td>0.972358</td>\n",
       "      <td>0.851675</td>\n",
       "      <td>0.831776</td>\n",
       "      <td>0.872549</td>\n",
       "      <td>0.985186</td>\n",
       "      <td>0.836735</td>\n",
       "      <td>00:42</td>\n",
       "    </tr>\n",
       "  </tbody>\n",
       "</table>"
      ],
      "text/plain": [
       "<IPython.core.display.HTML object>"
      ]
     },
     "metadata": {},
     "output_type": "display_data"
    }
   ],
   "source": [
    "# Train model on resnet18\n",
    "learn = train_model(dls)"
   ]
  },
  {
   "cell_type": "code",
   "execution_count": 34,
   "metadata": {
    "scrolled": true
   },
   "outputs": [
    {
     "data": {
      "text/html": [],
      "text/plain": [
       "<IPython.core.display.HTML object>"
      ]
     },
     "metadata": {},
     "output_type": "display_data"
    }
   ],
   "source": [
    "interp = ClassificationInterpretation.from_learner(learn)"
   ]
  },
  {
   "cell_type": "code",
   "execution_count": 35,
   "metadata": {},
   "outputs": [
    {
     "data": {
      "image/png": "[encoded data removed]",
      "text/plain": [
       "<Figure size 432x288 with 1 Axes>"
      ]
     },
     "metadata": {
      "needs_background": "light"
     },
     "output_type": "display_data"
    }
   ],
   "source": [
    "interp.plot_confusion_matrix()"
   ]
  },
  {
   "cell_type": "code",
   "execution_count": 36,
   "metadata": {},
   "outputs": [
    {
     "data": {
      "image/png": "[encoded data removed]",
      "text/plain": [
       "<Figure size 648x432 with 6 Axes>"
      ]
     },
     "metadata": {
      "needs_background": "light"
     },
     "output_type": "display_data"
    }
   ],
   "source": [
    "interp.plot_top_losses(k=5)"
   ]
  },
  {
   "cell_type": "markdown",
   "metadata": {},
   "source": [
    "# Hook the activations from the second last layer"
   ]
  },
  {
   "cell_type": "code",
   "execution_count": 37,
   "metadata": {},
   "outputs": [],
   "source": [
    "class Hook():\n",
    "    def hook_func(self, m, i, o): self.stored = o.detach().clone()"
   ]
  },
  {
   "cell_type": "code",
   "execution_count": 38,
   "metadata": {},
   "outputs": [
    {
     "data": {
      "text/plain": [
       "Linear(in_features=1024, out_features=512, bias=False)"
      ]
     },
     "execution_count": 38,
     "metadata": {},
     "output_type": "execute_result"
    }
   ],
   "source": [
    "learn.model[-1][-5]"
   ]
  },
  {
   "cell_type": "code",
   "execution_count": 39,
   "metadata": {},
   "outputs": [],
   "source": [
    "hook_output = Hook()\n",
    "hook = learn.model[-1][-5].register_forward_hook(hook_output.hook_func)"
   ]
  },
  {
   "cell_type": "code",
   "execution_count": 40,
   "metadata": {},
   "outputs": [],
   "source": [
    "df_nodupl=df"
   ]
  },
  {
   "cell_type": "code",
   "execution_count": 47,
   "metadata": {},
   "outputs": [],
   "source": [
    "test_db = DataBlock(\n",
    "    blocks=(ImageBlock(), CategoryBlock()),\n",
    "    get_x=ColReader('Image', pref=IMAGES),\n",
    "    get_y=ColReader('Activity'),\n",
    "    splitter=RandomSplitter(valid_pct=0.),\n",
    "    item_tfms=None,\n",
    "    batch_tfms=None\n",
    "    )"
   ]
  },
  {
   "cell_type": "code",
   "execution_count": 48,
   "metadata": {},
   "outputs": [],
   "source": [
    "test_dls = test_db.dataloaders(df_nodupl, bs=1)"
   ]
  },
  {
   "cell_type": "code",
   "execution_count": 49,
   "metadata": {},
   "outputs": [
    {
     "data": {
      "text/html": [
       "<div>\n",
       "<style scoped>\n",
       "    .dataframe tbody tr th:only-of-type {\n",
       "        vertical-align: middle;\n",
       "    }\n",
       "\n",
       "    .dataframe tbody tr th {\n",
       "        vertical-align: top;\n",
       "    }\n",
       "\n",
       "    .dataframe thead th {\n",
       "        text-align: right;\n",
       "    }\n",
       "</style>\n",
       "<table border=\"1\" class=\"dataframe\">\n",
       "  <thead>\n",
       "    <tr style=\"text-align: right;\">\n",
       "      <th></th>\n",
       "      <th>CID</th>\n",
       "      <th>SMILES</th>\n",
       "      <th>Activity</th>\n",
       "      <th>Image</th>\n",
       "      <th>is_valid</th>\n",
       "    </tr>\n",
       "  </thead>\n",
       "  <tbody>\n",
       "    <tr>\n",
       "      <th>13292</th>\n",
       "      <td>CHEMBL538529</td>\n",
       "      <td>o1nc(cc1C[NH+]1CCN(CC1)c1ccccc1OC(C)C)CN1CCCCC1=O</td>\n",
       "      <td>0</td>\n",
       "      <td>CHEMBL538529.png</td>\n",
       "      <td>False</td>\n",
       "    </tr>\n",
       "    <tr>\n",
       "      <th>6115</th>\n",
       "      <td>CHEMBL120871</td>\n",
       "      <td>S(=O)(=O)(NC(Cc1ccc(N)cc1)C(=O)N1CCC(CC1)CCF)C1=CNC=CC1[NH2+]C(Cc1ccccc1)C[NH+](C)C</td>\n",
       "      <td>0</td>\n",
       "      <td>CHEMBL120871.png</td>\n",
       "      <td>False</td>\n",
       "    </tr>\n",
       "    <tr>\n",
       "      <th>195</th>\n",
       "      <td>CHEMBL3098531</td>\n",
       "      <td>S1\\C(\\N(N=C1C(=O)C)c1ccc(S(=O)(=O)N)cc1)=C(\\C#N)/C(OCC)=O</td>\n",
       "      <td>1</td>\n",
       "      <td>CHEMBL3098531.png</td>\n",
       "      <td>False</td>\n",
       "    </tr>\n",
       "    <tr>\n",
       "      <th>15007</th>\n",
       "      <td>CHEMBL350027</td>\n",
       "      <td>O1N2C(CC13CCCCC3)C(C(C2)C[NH+]1CCC(CC1)c1ccccc1)c1ccccc1</td>\n",
       "      <td>0</td>\n",
       "      <td>CHEMBL350027.png</td>\n",
       "      <td>False</td>\n",
       "    </tr>\n",
       "    <tr>\n",
       "      <th>1636</th>\n",
       "      <td>CHEMBL248560</td>\n",
       "      <td>s1cc(nc1-c1cccnc1)-c1ccc(cc1)CC[NH2+]CC(O)c1cccnc1</td>\n",
       "      <td>0</td>\n",
       "      <td>CHEMBL248560.png</td>\n",
       "      <td>True</td>\n",
       "    </tr>\n",
       "  </tbody>\n",
       "</table>\n",
       "</div>"
      ],
      "text/plain": [
       "                 CID  \\\n",
       "13292   CHEMBL538529   \n",
       "6115    CHEMBL120871   \n",
       "195    CHEMBL3098531   \n",
       "15007   CHEMBL350027   \n",
       "1636    CHEMBL248560   \n",
       "\n",
       "                                                                                    SMILES  \\\n",
       "13292                                    o1nc(cc1C[NH+]1CCN(CC1)c1ccccc1OC(C)C)CN1CCCCC1=O   \n",
       "6115   S(=O)(=O)(NC(Cc1ccc(N)cc1)C(=O)N1CCC(CC1)CCF)C1=CNC=CC1[NH2+]C(Cc1ccccc1)C[NH+](C)C   \n",
       "195                              S1\\C(\\N(N=C1C(=O)C)c1ccc(S(=O)(=O)N)cc1)=C(\\C#N)/C(OCC)=O   \n",
       "15007                             O1N2C(CC13CCCCC3)C(C(C2)C[NH+]1CCC(CC1)c1ccccc1)c1ccccc1   \n",
       "1636                                    s1cc(nc1-c1cccnc1)-c1ccc(cc1)CC[NH2+]CC(O)c1cccnc1   \n",
       "\n",
       "       Activity              Image is_valid  \n",
       "13292         0   CHEMBL538529.png    False  \n",
       "6115          0   CHEMBL120871.png    False  \n",
       "195           1  CHEMBL3098531.png    False  \n",
       "15007         0   CHEMBL350027.png    False  \n",
       "1636          0   CHEMBL248560.png     True  "
      ]
     },
     "execution_count": 49,
     "metadata": {},
     "output_type": "execute_result"
    }
   ],
   "source": [
    "test_dls.items.head()"
   ]
  },
  {
   "cell_type": "code",
   "execution_count": 50,
   "metadata": {},
   "outputs": [
    {
     "data": {
      "text/plain": [
       "(PILImage mode=RGB size=224x224, TensorCategory(0))"
      ]
     },
     "execution_count": 50,
     "metadata": {},
     "output_type": "execute_result"
    }
   ],
   "source": [
    "test_dls.dataset[0]"
   ]
  },
  {
   "cell_type": "code",
   "execution_count": 51,
   "metadata": {},
   "outputs": [],
   "source": [
    "test_df = test_dls.items.reset_index()"
   ]
  },
  {
   "cell_type": "code",
   "execution_count": 52,
   "metadata": {},
   "outputs": [
    {
     "name": "stdout",
     "output_type": "stream",
     "text": [
      "<class 'pandas.core.frame.DataFrame'>\n",
      "RangeIndex: 17941 entries, 0 to 17940\n",
      "Data columns (total 6 columns):\n",
      " #   Column    Non-Null Count  Dtype \n",
      "---  ------    --------------  ----- \n",
      " 0   index     17941 non-null  int64 \n",
      " 1   CID       17941 non-null  object\n",
      " 2   SMILES    17941 non-null  object\n",
      " 3   Activity  17941 non-null  int64 \n",
      " 4   Image     17941 non-null  object\n",
      " 5   is_valid  17941 non-null  object\n",
      "dtypes: int64(2), object(4)\n",
      "memory usage: 841.1+ KB\n"
     ]
    }
   ],
   "source": [
    "test_df.info()"
   ]
  },
  {
   "cell_type": "code",
   "execution_count": 53,
   "metadata": {},
   "outputs": [
    {
     "name": "stdout",
     "output_type": "stream",
     "text": [
      "<class 'pandas.core.frame.DataFrame'>\n",
      "RangeIndex: 17941 entries, 0 to 17940\n",
      "Data columns (total 5 columns):\n",
      " #   Column    Non-Null Count  Dtype \n",
      "---  ------    --------------  ----- \n",
      " 0   CID       17941 non-null  object\n",
      " 1   SMILES    17941 non-null  object\n",
      " 2   Activity  17941 non-null  int64 \n",
      " 3   Image     17941 non-null  object\n",
      " 4   is_valid  17941 non-null  object\n",
      "dtypes: int64(1), object(4)\n",
      "memory usage: 700.9+ KB\n"
     ]
    }
   ],
   "source": [
    "df_nodupl.info()"
   ]
  },
  {
   "cell_type": "markdown",
   "metadata": {},
   "source": [
    "# Check"
   ]
  },
  {
   "cell_type": "code",
   "execution_count": 54,
   "metadata": {},
   "outputs": [
    {
     "data": {
      "text/html": [
       "<div>\n",
       "<style scoped>\n",
       "    .dataframe tbody tr th:only-of-type {\n",
       "        vertical-align: middle;\n",
       "    }\n",
       "\n",
       "    .dataframe tbody tr th {\n",
       "        vertical-align: top;\n",
       "    }\n",
       "\n",
       "    .dataframe thead th {\n",
       "        text-align: right;\n",
       "    }\n",
       "</style>\n",
       "<table border=\"1\" class=\"dataframe\">\n",
       "  <thead>\n",
       "    <tr style=\"text-align: right;\">\n",
       "      <th></th>\n",
       "      <th>index</th>\n",
       "      <th>CID</th>\n",
       "      <th>SMILES</th>\n",
       "      <th>Activity</th>\n",
       "      <th>Image</th>\n",
       "      <th>is_valid</th>\n",
       "    </tr>\n",
       "  </thead>\n",
       "  <tbody>\n",
       "    <tr>\n",
       "      <th>15524</th>\n",
       "      <td>1403</td>\n",
       "      <td>CHEMBL1089637</td>\n",
       "      <td>S(=O)(=O)(N)c1ccc(NC2OCC(O)C(O)C2O)cc1</td>\n",
       "      <td>1</td>\n",
       "      <td>CHEMBL1089637.png</td>\n",
       "      <td>False</td>\n",
       "    </tr>\n",
       "  </tbody>\n",
       "</table>\n",
       "</div>"
      ],
      "text/plain": [
       "       index            CID                                  SMILES  Activity  \\\n",
       "15524   1403  CHEMBL1089637  S(=O)(=O)(N)c1ccc(NC2OCC(O)C(O)C2O)cc1         1   \n",
       "\n",
       "                   Image is_valid  \n",
       "15524  CHEMBL1089637.png    False  "
      ]
     },
     "execution_count": 54,
     "metadata": {},
     "output_type": "execute_result"
    }
   ],
   "source": [
    "test_df.loc[test_df.CID == 'CHEMBL1089637']"
   ]
  },
  {
   "cell_type": "code",
   "execution_count": 55,
   "metadata": {},
   "outputs": [
    {
     "data": {
      "text/html": [
       "<div>\n",
       "<style scoped>\n",
       "    .dataframe tbody tr th:only-of-type {\n",
       "        vertical-align: middle;\n",
       "    }\n",
       "\n",
       "    .dataframe tbody tr th {\n",
       "        vertical-align: top;\n",
       "    }\n",
       "\n",
       "    .dataframe thead th {\n",
       "        text-align: right;\n",
       "    }\n",
       "</style>\n",
       "<table border=\"1\" class=\"dataframe\">\n",
       "  <thead>\n",
       "    <tr style=\"text-align: right;\">\n",
       "      <th></th>\n",
       "      <th>CID</th>\n",
       "      <th>SMILES</th>\n",
       "      <th>Activity</th>\n",
       "      <th>Image</th>\n",
       "      <th>is_valid</th>\n",
       "    </tr>\n",
       "  </thead>\n",
       "  <tbody>\n",
       "    <tr>\n",
       "      <th>1403</th>\n",
       "      <td>CHEMBL1089637</td>\n",
       "      <td>S(=O)(=O)(N)c1ccc(NC2OCC(O)C(O)C2O)cc1</td>\n",
       "      <td>1</td>\n",
       "      <td>CHEMBL1089637.png</td>\n",
       "      <td>False</td>\n",
       "    </tr>\n",
       "  </tbody>\n",
       "</table>\n",
       "</div>"
      ],
      "text/plain": [
       "                CID                                  SMILES  Activity  \\\n",
       "1403  CHEMBL1089637  S(=O)(=O)(N)c1ccc(NC2OCC(O)C(O)C2O)cc1         1   \n",
       "\n",
       "                  Image is_valid  \n",
       "1403  CHEMBL1089637.png    False  "
      ]
     },
     "execution_count": 55,
     "metadata": {},
     "output_type": "execute_result"
    }
   ],
   "source": [
    "df_nodupl.loc[df_nodupl.CID == 'CHEMBL1089637']"
   ]
  },
  {
   "cell_type": "code",
   "execution_count": 56,
   "metadata": {},
   "outputs": [
    {
     "data": {
      "text/plain": [
       "(#17941) [(PILImage mode=RGB size=224x224, TensorCategory(0)),(PILImage mode=RGB size=224x224, TensorCategory(0)),(PILImage mode=RGB size=224x224, TensorCategory(1)),(PILImage mode=RGB size=224x224, TensorCategory(0)),(PILImage mode=RGB size=224x224, TensorCategory(0)),(PILImage mode=RGB size=224x224, TensorCategory(0)),(PILImage mode=RGB size=224x224, TensorCategory(0)),(PILImage mode=RGB size=224x224, TensorCategory(0)),(PILImage mode=RGB size=224x224, TensorCategory(0)),(PILImage mode=RGB size=224x224, TensorCategory(0))...]"
      ]
     },
     "execution_count": 56,
     "metadata": {},
     "output_type": "execute_result"
    }
   ],
   "source": [
    "test_dls.dataset"
   ]
  },
  {
   "cell_type": "code",
   "execution_count": 57,
   "metadata": {},
   "outputs": [
    {
     "data": {
      "image/png": "[encoded data removed]",
      "text/plain": [
       "PILImage mode=RGB size=224x224"
      ]
     },
     "execution_count": 57,
     "metadata": {},
     "output_type": "execute_result"
    }
   ],
   "source": [
    "test_dls.dataset[0][0]"
   ]
  },
  {
   "cell_type": "code",
   "execution_count": 58,
   "metadata": {},
   "outputs": [
    {
     "data": {
      "text/html": [
       "<div>\n",
       "<style scoped>\n",
       "    .dataframe tbody tr th:only-of-type {\n",
       "        vertical-align: middle;\n",
       "    }\n",
       "\n",
       "    .dataframe tbody tr th {\n",
       "        vertical-align: top;\n",
       "    }\n",
       "\n",
       "    .dataframe thead th {\n",
       "        text-align: right;\n",
       "    }\n",
       "</style>\n",
       "<table border=\"1\" class=\"dataframe\">\n",
       "  <thead>\n",
       "    <tr style=\"text-align: right;\">\n",
       "      <th></th>\n",
       "      <th>index</th>\n",
       "      <th>CID</th>\n",
       "      <th>SMILES</th>\n",
       "      <th>Activity</th>\n",
       "      <th>Image</th>\n",
       "      <th>is_valid</th>\n",
       "    </tr>\n",
       "  </thead>\n",
       "  <tbody>\n",
       "    <tr>\n",
       "      <th>15524</th>\n",
       "      <td>1403</td>\n",
       "      <td>CHEMBL1089637</td>\n",
       "      <td>S(=O)(=O)(N)c1ccc(NC2OCC(O)C(O)C2O)cc1</td>\n",
       "      <td>1</td>\n",
       "      <td>CHEMBL1089637.png</td>\n",
       "      <td>False</td>\n",
       "    </tr>\n",
       "  </tbody>\n",
       "</table>\n",
       "</div>"
      ],
      "text/plain": [
       "       index            CID                                  SMILES  Activity  \\\n",
       "15524   1403  CHEMBL1089637  S(=O)(=O)(N)c1ccc(NC2OCC(O)C(O)C2O)cc1         1   \n",
       "\n",
       "                   Image is_valid  \n",
       "15524  CHEMBL1089637.png    False  "
      ]
     },
     "execution_count": 58,
     "metadata": {},
     "output_type": "execute_result"
    }
   ],
   "source": [
    "test_df.loc[test_df.CID=='CHEMBL1089637']"
   ]
  },
  {
   "cell_type": "code",
   "execution_count": 59,
   "metadata": {},
   "outputs": [],
   "source": [
    "def get_data(CID):\n",
    "    idx = test_df.loc[test_df.CID==CID].index[0]\n",
    "    print(idx)\n",
    "    return test_dls.dataset[idx]"
   ]
  },
  {
   "cell_type": "code",
   "execution_count": 60,
   "metadata": {},
   "outputs": [
    {
     "name": "stdout",
     "output_type": "stream",
     "text": [
      "15524\n"
     ]
    }
   ],
   "source": [
    "t_img, t_cat = get_data('CHEMBL1089637')"
   ]
  },
  {
   "cell_type": "code",
   "execution_count": 61,
   "metadata": {},
   "outputs": [
    {
     "data": {
      "text/plain": [
       "17941"
      ]
     },
     "execution_count": 61,
     "metadata": {},
     "output_type": "execute_result"
    }
   ],
   "source": [
    "len(test_dls.dataset)"
   ]
  },
  {
   "cell_type": "code",
   "execution_count": 62,
   "metadata": {},
   "outputs": [
    {
     "data": {
      "text/plain": [
       "(PILImage mode=RGB size=224x224, TensorCategory(0))"
      ]
     },
     "execution_count": 62,
     "metadata": {},
     "output_type": "execute_result"
    }
   ],
   "source": [
    "test_dls.dataset[0]"
   ]
  },
  {
   "cell_type": "code",
   "execution_count": 63,
   "metadata": {},
   "outputs": [
    {
     "data": {
      "image/png": "[encoded data removed]",
      "text/plain": [
       "PILImage mode=RGB size=224x224"
      ]
     },
     "execution_count": 63,
     "metadata": {},
     "output_type": "execute_result"
    }
   ],
   "source": [
    "t_img"
   ]
  },
  {
   "cell_type": "code",
   "execution_count": 64,
   "metadata": {},
   "outputs": [],
   "source": [
    "df_nodupl['activations'] = None"
   ]
  },
  {
   "cell_type": "code",
   "execution_count": 65,
   "metadata": {},
   "outputs": [],
   "source": [
    "def get_activations(CID, ret=False):\n",
    "    idx = df_nodupl.loc[df_nodupl.CID == CID].index[0]\n",
    "    print(idx)\n",
    "    data = get_data(CID)\n",
    "    img = data[0]\n",
    "    with torch.no_grad(): \n",
    "        output = learn.predict(img)\n",
    "    acts = np.array(hook_output.stored.cpu())[0]\n",
    "    #df_nodupl.iloc[idx]['acts'] = list(acts)\n",
    "    if not ret: \n",
    "        df_nodupl.at[idx, 'activations'] = list(acts)\n",
    "    if ret: \n",
    "        return list(acts)"
   ]
  },
  {
   "cell_type": "code",
   "execution_count": 66,
   "metadata": {},
   "outputs": [
    {
     "data": {
      "text/plain": [
       "'CHEMBL188002'"
      ]
     },
     "execution_count": 66,
     "metadata": {},
     "output_type": "execute_result"
    }
   ],
   "source": [
    "df_nodupl.CID.values[0]"
   ]
  },
  {
   "cell_type": "code",
   "execution_count": 67,
   "metadata": {},
   "outputs": [],
   "source": [
    "%%capture\n",
    "for CID in df_nodupl.CID.values:\n",
    "    get_activations(CID)"
   ]
  },
  {
   "cell_type": "code",
   "execution_count": 68,
   "metadata": {},
   "outputs": [
    {
     "data": {
      "text/html": [
       "<div>\n",
       "<style scoped>\n",
       "    .dataframe tbody tr th:only-of-type {\n",
       "        vertical-align: middle;\n",
       "    }\n",
       "\n",
       "    .dataframe tbody tr th {\n",
       "        vertical-align: top;\n",
       "    }\n",
       "\n",
       "    .dataframe thead th {\n",
       "        text-align: right;\n",
       "    }\n",
       "</style>\n",
       "<table border=\"1\" class=\"dataframe\">\n",
       "  <thead>\n",
       "    <tr style=\"text-align: right;\">\n",
       "      <th></th>\n",
       "      <th>CID</th>\n",
       "      <th>SMILES</th>\n",
       "      <th>Activity</th>\n",
       "      <th>Image</th>\n",
       "      <th>is_valid</th>\n",
       "      <th>activations</th>\n",
       "    </tr>\n",
       "  </thead>\n",
       "  <tbody>\n",
       "    <tr>\n",
       "      <th>0</th>\n",
       "      <td>CHEMBL188002</td>\n",
       "      <td>S(=O)(=O)(N)c1cc(N/C(/S)=N\\c2cc(C(=O)[O-])c(cc2)C=2c3c(OC4=CC(=O)C=CC=24)cc(O)cc3)ccc1</td>\n",
       "      <td>1</td>\n",
       "      <td>CHEMBL188002.png</td>\n",
       "      <td>True</td>\n",
       "      <td>[20.441788, -34.070347, -55.874096, -46.303505, -36.94316, -32.880577, 56.924206, -21.065784, 100.98068, 25.434101, -27.366495, 50.514477, 22.279602, 13.780892, -61.33496, 51.5019, -82.39697, -59.213398, -25.909046, -40.934708, 41.761215, -78.96105, -50.266132, 47.5966, -46.640957, -50.10497, -36.33068, -45.921204, 44.571804, -42.544792, -30.720026, -29.033741, 23.248016, -22.118792, 14.806098, -47.23298, 45.85109, -68.075584, -38.983734, -45.53679, -41.039043, -33.94125, -37.79083, -12.287365, -21.54076, -0.8218162, -39.225323, 33.397213, -54.33288, -31.158333, -12.660143, -31.700134, -59...</td>\n",
       "    </tr>\n",
       "    <tr>\n",
       "      <th>1</th>\n",
       "      <td>CHEMBL364127</td>\n",
       "      <td>Clc1ccc(cc1)C(=O)NC1Cc2cc(S(=O)(=O)N)ccc2C1</td>\n",
       "      <td>1</td>\n",
       "      <td>CHEMBL364127.png</td>\n",
       "      <td>False</td>\n",
       "      <td>[-35.60922, -76.03871, -122.86161, -70.081474, -92.91446, -105.172745, 42.786087, -101.023026, 106.76421, 24.83023, -58.21196, 72.37561, -24.386883, 64.17287, -66.00833, 54.19459, -110.52943, -47.77837, -79.58959, -92.48153, 68.64848, -144.17317, -74.54582, 104.501915, -117.897644, -97.15993, -98.41654, -99.334335, -62.823017, -89.71797, -50.966053, -32.014545, -60.89653, -76.85967, -64.29767, -120.65323, -33.115356, -74.8855, -83.01998, -97.291954, -92.31988, -27.57251, -78.88678, -19.02112, -77.43537, -18.399061, -47.787197, 53.6252, -126.53403, -51.354034, -58.816734, -100.20532, -136.5...</td>\n",
       "    </tr>\n",
       "    <tr>\n",
       "      <th>2</th>\n",
       "      <td>CHEMBL1683469</td>\n",
       "      <td>S(=O)(=O)(N)c1ccc(cc1)CNS(=O)(=O)CC12CCC(CC1=O)C2(C)C</td>\n",
       "      <td>1</td>\n",
       "      <td>CHEMBL1683469.png</td>\n",
       "      <td>False</td>\n",
       "      <td>[-72.19954, -79.73292, -145.6987, -81.835724, -115.660416, -127.5523, 40.022156, -119.41521, 110.88527, 40.064434, -72.70248, 91.60647, -38.015022, 85.68369, -78.754135, 59.92734, -125.62406, -48.954712, -105.795265, -115.42396, 88.002655, -181.4998, -88.53843, 133.21863, -150.9004, -122.18439, -126.31767, -127.27838, -104.31726, -106.5082, -63.193306, -26.757238, -99.14134, -104.85434, -82.13036, -150.79893, -51.76007, -90.88706, -99.009346, -117.360466, -119.76474, -33.073982, -102.74929, -17.49065, -94.24532, -38.0294, -55.346317, 57.922554, -155.49355, -65.050415, -67.572586, -116.0627...</td>\n",
       "    </tr>\n",
       "    <tr>\n",
       "      <th>3</th>\n",
       "      <td>CHEMBL52564</td>\n",
       "      <td>Oc1ccccc1\\C=C\\C(=O)[O-]</td>\n",
       "      <td>1</td>\n",
       "      <td>CHEMBL52564.png</td>\n",
       "      <td>False</td>\n",
       "      <td>[-33.640495, -42.489914, -80.051056, -65.76445, -55.754475, -63.614277, 46.954594, -38.22408, 87.1613, 48.764492, -42.982452, 71.60744, -9.838839, 30.381317, -64.548035, 59.9069, -89.63465, -69.76305, -52.906982, -61.743454, 43.851025, -125.996635, -68.18846, 78.80186, -73.34283, -89.14439, -60.68271, -68.85139, -7.1954412, -53.587967, -44.452557, -16.017065, -33.667374, -57.250996, -1.0856264, -77.60109, 13.428894, -82.55813, -53.51783, -71.76159, -75.88027, -40.19798, -62.13004, -4.3708777, -39.762478, -30.058334, -44.56897, 35.67237, -86.6604, -47.44278, -25.278542, -48.670944, -88.1199...</td>\n",
       "    </tr>\n",
       "    <tr>\n",
       "      <th>4</th>\n",
       "      <td>CHEMBL21427</td>\n",
       "      <td>OB(O)c1ccc(OC)cc1</td>\n",
       "      <td>1</td>\n",
       "      <td>CHEMBL21427.png</td>\n",
       "      <td>False</td>\n",
       "      <td>[-40.57054, -42.852943, -82.66586, -61.070065, -56.15604, -68.46805, 38.568237, -34.71558, 61.607277, 44.128716, -38.912914, 71.710106, -20.562906, 31.930721, -55.267548, 53.782234, -87.36618, -74.11311, -55.677666, -57.40837, 34.612038, -120.8614, -73.27676, 74.86714, -74.68885, -80.09229, -61.38198, -71.74933, -34.403572, -58.32266, -45.425415, -12.5241375, -47.365665, -58.08107, -9.154864, -78.2698, -8.076019, -71.314285, -53.760323, -69.95956, -78.50262, -36.01127, -59.322395, -5.198322, -41.824165, -37.047935, -40.1027, 32.615498, -87.88623, -46.66415, -18.4444, -52.229774, -88.0478, ...</td>\n",
       "    </tr>\n",
       "  </tbody>\n",
       "</table>\n",
       "</div>"
      ],
      "text/plain": [
       "             CID  \\\n",
       "0   CHEMBL188002   \n",
       "1   CHEMBL364127   \n",
       "2  CHEMBL1683469   \n",
       "3    CHEMBL52564   \n",
       "4    CHEMBL21427   \n",
       "\n",
       "                                                                                   SMILES  \\\n",
       "0  S(=O)(=O)(N)c1cc(N/C(/S)=N\\c2cc(C(=O)[O-])c(cc2)C=2c3c(OC4=CC(=O)C=CC=24)cc(O)cc3)ccc1   \n",
       "1                                             Clc1ccc(cc1)C(=O)NC1Cc2cc(S(=O)(=O)N)ccc2C1   \n",
       "2                                   S(=O)(=O)(N)c1ccc(cc1)CNS(=O)(=O)CC12CCC(CC1=O)C2(C)C   \n",
       "3                                                                 Oc1ccccc1\\C=C\\C(=O)[O-]   \n",
       "4                                                                       OB(O)c1ccc(OC)cc1   \n",
       "\n",
       "   Activity              Image is_valid  \\\n",
       "0         1   CHEMBL188002.png     True   \n",
       "1         1   CHEMBL364127.png    False   \n",
       "2         1  CHEMBL1683469.png    False   \n",
       "3         1    CHEMBL52564.png    False   \n",
       "4         1    CHEMBL21427.png    False   \n",
       "\n",
       "                                                                                                                                                                                                                                                                                                                                                                                                                                                                                                                                                                                                               activations  \n",
       "0  [20.441788, -34.070347, -55.874096, -46.303505, -36.94316, -32.880577, 56.924206, -21.065784, 100.98068, 25.434101, -27.366495, 50.514477, 22.279602, 13.780892, -61.33496, 51.5019, -82.39697, -59.213398, -25.909046, -40.934708, 41.761215, -78.96105, -50.266132, 47.5966, -46.640957, -50.10497, -36.33068, -45.921204, 44.571804, -42.544792, -30.720026, -29.033741, 23.248016, -22.118792, 14.806098, -47.23298, 45.85109, -68.075584, -38.983734, -45.53679, -41.039043, -33.94125, -37.79083, -12.287365, -21.54076, -0.8218162, -39.225323, 33.397213, -54.33288, -31.158333, -12.660143, -31.700134, -59...  \n",
       "1  [-35.60922, -76.03871, -122.86161, -70.081474, -92.91446, -105.172745, 42.786087, -101.023026, 106.76421, 24.83023, -58.21196, 72.37561, -24.386883, 64.17287, -66.00833, 54.19459, -110.52943, -47.77837, -79.58959, -92.48153, 68.64848, -144.17317, -74.54582, 104.501915, -117.897644, -97.15993, -98.41654, -99.334335, -62.823017, -89.71797, -50.966053, -32.014545, -60.89653, -76.85967, -64.29767, -120.65323, -33.115356, -74.8855, -83.01998, -97.291954, -92.31988, -27.57251, -78.88678, -19.02112, -77.43537, -18.399061, -47.787197, 53.6252, -126.53403, -51.354034, -58.816734, -100.20532, -136.5...  \n",
       "2  [-72.19954, -79.73292, -145.6987, -81.835724, -115.660416, -127.5523, 40.022156, -119.41521, 110.88527, 40.064434, -72.70248, 91.60647, -38.015022, 85.68369, -78.754135, 59.92734, -125.62406, -48.954712, -105.795265, -115.42396, 88.002655, -181.4998, -88.53843, 133.21863, -150.9004, -122.18439, -126.31767, -127.27838, -104.31726, -106.5082, -63.193306, -26.757238, -99.14134, -104.85434, -82.13036, -150.79893, -51.76007, -90.88706, -99.009346, -117.360466, -119.76474, -33.073982, -102.74929, -17.49065, -94.24532, -38.0294, -55.346317, 57.922554, -155.49355, -65.050415, -67.572586, -116.0627...  \n",
       "3  [-33.640495, -42.489914, -80.051056, -65.76445, -55.754475, -63.614277, 46.954594, -38.22408, 87.1613, 48.764492, -42.982452, 71.60744, -9.838839, 30.381317, -64.548035, 59.9069, -89.63465, -69.76305, -52.906982, -61.743454, 43.851025, -125.996635, -68.18846, 78.80186, -73.34283, -89.14439, -60.68271, -68.85139, -7.1954412, -53.587967, -44.452557, -16.017065, -33.667374, -57.250996, -1.0856264, -77.60109, 13.428894, -82.55813, -53.51783, -71.76159, -75.88027, -40.19798, -62.13004, -4.3708777, -39.762478, -30.058334, -44.56897, 35.67237, -86.6604, -47.44278, -25.278542, -48.670944, -88.1199...  \n",
       "4  [-40.57054, -42.852943, -82.66586, -61.070065, -56.15604, -68.46805, 38.568237, -34.71558, 61.607277, 44.128716, -38.912914, 71.710106, -20.562906, 31.930721, -55.267548, 53.782234, -87.36618, -74.11311, -55.677666, -57.40837, 34.612038, -120.8614, -73.27676, 74.86714, -74.68885, -80.09229, -61.38198, -71.74933, -34.403572, -58.32266, -45.425415, -12.5241375, -47.365665, -58.08107, -9.154864, -78.2698, -8.076019, -71.314285, -53.760323, -69.95956, -78.50262, -36.01127, -59.322395, -5.198322, -41.824165, -37.047935, -40.1027, 32.615498, -87.88623, -46.66415, -18.4444, -52.229774, -88.0478, ...  "
      ]
     },
     "execution_count": 68,
     "metadata": {},
     "output_type": "execute_result"
    }
   ],
   "source": [
    "df_nodupl.head()"
   ]
  },
  {
   "cell_type": "code",
   "execution_count": 69,
   "metadata": {},
   "outputs": [
    {
     "name": "stdout",
     "output_type": "stream",
     "text": [
      "<class 'pandas.core.frame.DataFrame'>\n",
      "RangeIndex: 17941 entries, 0 to 17940\n",
      "Data columns (total 6 columns):\n",
      " #   Column       Non-Null Count  Dtype \n",
      "---  ------       --------------  ----- \n",
      " 0   CID          17941 non-null  object\n",
      " 1   SMILES       17941 non-null  object\n",
      " 2   Activity     17941 non-null  int64 \n",
      " 3   Image        17941 non-null  object\n",
      " 4   is_valid     17941 non-null  object\n",
      " 5   activations  17941 non-null  object\n",
      "dtypes: int64(1), object(5)\n",
      "memory usage: 841.1+ KB\n"
     ]
    }
   ],
   "source": [
    "df_nodupl.info()"
   ]
  },
  {
   "cell_type": "code",
   "execution_count": 70,
   "metadata": {},
   "outputs": [],
   "source": [
    "df_acts = pd.concat([df_nodupl, pd.DataFrame(df_nodupl.activations.values.tolist()).add_prefix('act_')], axis=1)"
   ]
  },
  {
   "cell_type": "code",
   "execution_count": 71,
   "metadata": {},
   "outputs": [],
   "source": [
    "df_acts.drop('activations', axis=1, inplace=True)"
   ]
  },
  {
   "cell_type": "code",
   "execution_count": 72,
   "metadata": {},
   "outputs": [
    {
     "data": {
      "text/html": [
       "<div>\n",
       "<style scoped>\n",
       "    .dataframe tbody tr th:only-of-type {\n",
       "        vertical-align: middle;\n",
       "    }\n",
       "\n",
       "    .dataframe tbody tr th {\n",
       "        vertical-align: top;\n",
       "    }\n",
       "\n",
       "    .dataframe thead th {\n",
       "        text-align: right;\n",
       "    }\n",
       "</style>\n",
       "<table border=\"1\" class=\"dataframe\">\n",
       "  <thead>\n",
       "    <tr style=\"text-align: right;\">\n",
       "      <th></th>\n",
       "      <th>CID</th>\n",
       "      <th>SMILES</th>\n",
       "      <th>Activity</th>\n",
       "      <th>Image</th>\n",
       "      <th>is_valid</th>\n",
       "      <th>act_0</th>\n",
       "      <th>act_1</th>\n",
       "      <th>act_2</th>\n",
       "      <th>act_3</th>\n",
       "      <th>act_4</th>\n",
       "      <th>...</th>\n",
       "      <th>act_502</th>\n",
       "      <th>act_503</th>\n",
       "      <th>act_504</th>\n",
       "      <th>act_505</th>\n",
       "      <th>act_506</th>\n",
       "      <th>act_507</th>\n",
       "      <th>act_508</th>\n",
       "      <th>act_509</th>\n",
       "      <th>act_510</th>\n",
       "      <th>act_511</th>\n",
       "    </tr>\n",
       "  </thead>\n",
       "  <tbody>\n",
       "    <tr>\n",
       "      <th>0</th>\n",
       "      <td>CHEMBL188002</td>\n",
       "      <td>S(=O)(=O)(N)c1cc(N/C(/S)=N\\c2cc(C(=O)[O-])c(cc2)C=2c3c(OC4=CC(=O)C=CC=24)cc(O)cc3)ccc1</td>\n",
       "      <td>1</td>\n",
       "      <td>CHEMBL188002.png</td>\n",
       "      <td>True</td>\n",
       "      <td>20.441788</td>\n",
       "      <td>-34.070347</td>\n",
       "      <td>-55.874096</td>\n",
       "      <td>-46.303505</td>\n",
       "      <td>-36.943161</td>\n",
       "      <td>...</td>\n",
       "      <td>-20.266380</td>\n",
       "      <td>-58.616051</td>\n",
       "      <td>-36.874432</td>\n",
       "      <td>-84.006630</td>\n",
       "      <td>-28.130043</td>\n",
       "      <td>-14.237524</td>\n",
       "      <td>-30.243919</td>\n",
       "      <td>-89.924866</td>\n",
       "      <td>-25.477444</td>\n",
       "      <td>-13.185804</td>\n",
       "    </tr>\n",
       "    <tr>\n",
       "      <th>1</th>\n",
       "      <td>CHEMBL364127</td>\n",
       "      <td>Clc1ccc(cc1)C(=O)NC1Cc2cc(S(=O)(=O)N)ccc2C1</td>\n",
       "      <td>1</td>\n",
       "      <td>CHEMBL364127.png</td>\n",
       "      <td>False</td>\n",
       "      <td>-35.609219</td>\n",
       "      <td>-76.038712</td>\n",
       "      <td>-122.861610</td>\n",
       "      <td>-70.081474</td>\n",
       "      <td>-92.914459</td>\n",
       "      <td>...</td>\n",
       "      <td>-27.719458</td>\n",
       "      <td>-79.247879</td>\n",
       "      <td>-71.388512</td>\n",
       "      <td>-117.074829</td>\n",
       "      <td>-87.031128</td>\n",
       "      <td>-25.362850</td>\n",
       "      <td>-91.691391</td>\n",
       "      <td>-97.514877</td>\n",
       "      <td>-159.834167</td>\n",
       "      <td>37.859943</td>\n",
       "    </tr>\n",
       "    <tr>\n",
       "      <th>2</th>\n",
       "      <td>CHEMBL1683469</td>\n",
       "      <td>S(=O)(=O)(N)c1ccc(cc1)CNS(=O)(=O)CC12CCC(CC1=O)C2(C)C</td>\n",
       "      <td>1</td>\n",
       "      <td>CHEMBL1683469.png</td>\n",
       "      <td>False</td>\n",
       "      <td>-72.199539</td>\n",
       "      <td>-79.732918</td>\n",
       "      <td>-145.698700</td>\n",
       "      <td>-81.835724</td>\n",
       "      <td>-115.660416</td>\n",
       "      <td>...</td>\n",
       "      <td>-27.371447</td>\n",
       "      <td>-91.037331</td>\n",
       "      <td>-82.402603</td>\n",
       "      <td>-140.058167</td>\n",
       "      <td>-110.499306</td>\n",
       "      <td>-35.576706</td>\n",
       "      <td>-118.137932</td>\n",
       "      <td>-114.797058</td>\n",
       "      <td>-210.545105</td>\n",
       "      <td>58.341396</td>\n",
       "    </tr>\n",
       "    <tr>\n",
       "      <th>3</th>\n",
       "      <td>CHEMBL52564</td>\n",
       "      <td>Oc1ccccc1\\C=C\\C(=O)[O-]</td>\n",
       "      <td>1</td>\n",
       "      <td>CHEMBL52564.png</td>\n",
       "      <td>False</td>\n",
       "      <td>-33.640495</td>\n",
       "      <td>-42.489914</td>\n",
       "      <td>-80.051056</td>\n",
       "      <td>-65.764450</td>\n",
       "      <td>-55.754475</td>\n",
       "      <td>...</td>\n",
       "      <td>-12.962411</td>\n",
       "      <td>-65.378036</td>\n",
       "      <td>-52.445572</td>\n",
       "      <td>-105.202003</td>\n",
       "      <td>-54.042187</td>\n",
       "      <td>-23.038553</td>\n",
       "      <td>-45.937416</td>\n",
       "      <td>-107.758331</td>\n",
       "      <td>-74.264862</td>\n",
       "      <td>15.236348</td>\n",
       "    </tr>\n",
       "    <tr>\n",
       "      <th>4</th>\n",
       "      <td>CHEMBL21427</td>\n",
       "      <td>OB(O)c1ccc(OC)cc1</td>\n",
       "      <td>1</td>\n",
       "      <td>CHEMBL21427.png</td>\n",
       "      <td>False</td>\n",
       "      <td>-40.570541</td>\n",
       "      <td>-42.852943</td>\n",
       "      <td>-82.665863</td>\n",
       "      <td>-61.070065</td>\n",
       "      <td>-56.156040</td>\n",
       "      <td>...</td>\n",
       "      <td>-14.881062</td>\n",
       "      <td>-61.484863</td>\n",
       "      <td>-52.275417</td>\n",
       "      <td>-100.329498</td>\n",
       "      <td>-55.440769</td>\n",
       "      <td>-24.665730</td>\n",
       "      <td>-48.966393</td>\n",
       "      <td>-98.103355</td>\n",
       "      <td>-83.055305</td>\n",
       "      <td>20.628500</td>\n",
       "    </tr>\n",
       "  </tbody>\n",
       "</table>\n",
       "<p>5 rows × 517 columns</p>\n",
       "</div>"
      ],
      "text/plain": [
       "             CID  \\\n",
       "0   CHEMBL188002   \n",
       "1   CHEMBL364127   \n",
       "2  CHEMBL1683469   \n",
       "3    CHEMBL52564   \n",
       "4    CHEMBL21427   \n",
       "\n",
       "                                                                                   SMILES  \\\n",
       "0  S(=O)(=O)(N)c1cc(N/C(/S)=N\\c2cc(C(=O)[O-])c(cc2)C=2c3c(OC4=CC(=O)C=CC=24)cc(O)cc3)ccc1   \n",
       "1                                             Clc1ccc(cc1)C(=O)NC1Cc2cc(S(=O)(=O)N)ccc2C1   \n",
       "2                                   S(=O)(=O)(N)c1ccc(cc1)CNS(=O)(=O)CC12CCC(CC1=O)C2(C)C   \n",
       "3                                                                 Oc1ccccc1\\C=C\\C(=O)[O-]   \n",
       "4                                                                       OB(O)c1ccc(OC)cc1   \n",
       "\n",
       "   Activity              Image is_valid      act_0      act_1       act_2  \\\n",
       "0         1   CHEMBL188002.png     True  20.441788 -34.070347  -55.874096   \n",
       "1         1   CHEMBL364127.png    False -35.609219 -76.038712 -122.861610   \n",
       "2         1  CHEMBL1683469.png    False -72.199539 -79.732918 -145.698700   \n",
       "3         1    CHEMBL52564.png    False -33.640495 -42.489914  -80.051056   \n",
       "4         1    CHEMBL21427.png    False -40.570541 -42.852943  -82.665863   \n",
       "\n",
       "       act_3       act_4  ...    act_502    act_503    act_504     act_505  \\\n",
       "0 -46.303505  -36.943161  ... -20.266380 -58.616051 -36.874432  -84.006630   \n",
       "1 -70.081474  -92.914459  ... -27.719458 -79.247879 -71.388512 -117.074829   \n",
       "2 -81.835724 -115.660416  ... -27.371447 -91.037331 -82.402603 -140.058167   \n",
       "3 -65.764450  -55.754475  ... -12.962411 -65.378036 -52.445572 -105.202003   \n",
       "4 -61.070065  -56.156040  ... -14.881062 -61.484863 -52.275417 -100.329498   \n",
       "\n",
       "      act_506    act_507     act_508     act_509     act_510    act_511  \n",
       "0  -28.130043 -14.237524  -30.243919  -89.924866  -25.477444 -13.185804  \n",
       "1  -87.031128 -25.362850  -91.691391  -97.514877 -159.834167  37.859943  \n",
       "2 -110.499306 -35.576706 -118.137932 -114.797058 -210.545105  58.341396  \n",
       "3  -54.042187 -23.038553  -45.937416 -107.758331  -74.264862  15.236348  \n",
       "4  -55.440769 -24.665730  -48.966393  -98.103355  -83.055305  20.628500  \n",
       "\n",
       "[5 rows x 517 columns]"
      ]
     },
     "execution_count": 72,
     "metadata": {},
     "output_type": "execute_result"
    }
   ],
   "source": [
    "df_acts.head()"
   ]
  },
  {
   "cell_type": "code",
   "execution_count": 73,
   "metadata": {},
   "outputs": [
    {
     "name": "stdout",
     "output_type": "stream",
     "text": [
      "<class 'pandas.core.frame.DataFrame'>\n",
      "RangeIndex: 17941 entries, 0 to 17940\n",
      "Columns: 517 entries, CID to act_511\n",
      "dtypes: float64(512), int64(1), object(4)\n",
      "memory usage: 70.8+ MB\n"
     ]
    }
   ],
   "source": [
    "df_acts.info()"
   ]
  },
  {
   "cell_type": "markdown",
   "metadata": {},
   "source": [
    "# Add ECFB to dataframe"
   ]
  },
  {
   "cell_type": "code",
   "execution_count": 75,
   "metadata": {},
   "outputs": [],
   "source": [
    "df_ecfp = pd.read_csv(path/'CHEMBL205_cl_ecfp_1024.csv')"
   ]
  },
  {
   "cell_type": "code",
   "execution_count": 76,
   "metadata": {},
   "outputs": [
    {
     "data": {
      "text/html": [
       "<div>\n",
       "<style scoped>\n",
       "    .dataframe tbody tr th:only-of-type {\n",
       "        vertical-align: middle;\n",
       "    }\n",
       "\n",
       "    .dataframe tbody tr th {\n",
       "        vertical-align: top;\n",
       "    }\n",
       "\n",
       "    .dataframe thead th {\n",
       "        text-align: right;\n",
       "    }\n",
       "</style>\n",
       "<table border=\"1\" class=\"dataframe\">\n",
       "  <thead>\n",
       "    <tr style=\"text-align: right;\">\n",
       "      <th></th>\n",
       "      <th>CID</th>\n",
       "      <th>SMILES</th>\n",
       "      <th>Activity</th>\n",
       "      <th>ECFP4_1</th>\n",
       "      <th>ECFP4_2</th>\n",
       "      <th>ECFP4_3</th>\n",
       "      <th>ECFP4_4</th>\n",
       "      <th>ECFP4_5</th>\n",
       "      <th>ECFP4_6</th>\n",
       "      <th>ECFP4_7</th>\n",
       "      <th>...</th>\n",
       "      <th>ECFP4_1015</th>\n",
       "      <th>ECFP4_1016</th>\n",
       "      <th>ECFP4_1017</th>\n",
       "      <th>ECFP4_1018</th>\n",
       "      <th>ECFP4_1019</th>\n",
       "      <th>ECFP4_1020</th>\n",
       "      <th>ECFP4_1021</th>\n",
       "      <th>ECFP4_1022</th>\n",
       "      <th>ECFP4_1023</th>\n",
       "      <th>ECFP4_1024</th>\n",
       "    </tr>\n",
       "  </thead>\n",
       "  <tbody>\n",
       "    <tr>\n",
       "      <th>0</th>\n",
       "      <td>CHEMBL188002</td>\n",
       "      <td>S(=O)(=O)(N)c1cc(N/C(/S)=N\\c2cc(C(=O)[O-])c(cc2)C=2c3c(OC4=CC(=O)C=CC=24)cc(O)cc3)ccc1</td>\n",
       "      <td>1</td>\n",
       "      <td>0</td>\n",
       "      <td>0</td>\n",
       "      <td>0</td>\n",
       "      <td>0</td>\n",
       "      <td>0</td>\n",
       "      <td>0</td>\n",
       "      <td>0</td>\n",
       "      <td>...</td>\n",
       "      <td>0</td>\n",
       "      <td>0</td>\n",
       "      <td>0</td>\n",
       "      <td>0</td>\n",
       "      <td>0</td>\n",
       "      <td>0</td>\n",
       "      <td>0</td>\n",
       "      <td>0</td>\n",
       "      <td>0</td>\n",
       "      <td>0</td>\n",
       "    </tr>\n",
       "    <tr>\n",
       "      <th>1</th>\n",
       "      <td>CHEMBL364127</td>\n",
       "      <td>Clc1ccc(cc1)C(=O)NC1Cc2cc(S(=O)(=O)N)ccc2C1</td>\n",
       "      <td>1</td>\n",
       "      <td>0</td>\n",
       "      <td>0</td>\n",
       "      <td>0</td>\n",
       "      <td>0</td>\n",
       "      <td>0</td>\n",
       "      <td>0</td>\n",
       "      <td>0</td>\n",
       "      <td>...</td>\n",
       "      <td>0</td>\n",
       "      <td>0</td>\n",
       "      <td>0</td>\n",
       "      <td>0</td>\n",
       "      <td>0</td>\n",
       "      <td>1</td>\n",
       "      <td>0</td>\n",
       "      <td>0</td>\n",
       "      <td>0</td>\n",
       "      <td>0</td>\n",
       "    </tr>\n",
       "    <tr>\n",
       "      <th>2</th>\n",
       "      <td>CHEMBL1683469</td>\n",
       "      <td>S(=O)(=O)(N)c1ccc(cc1)CNS(=O)(=O)CC12CCC(CC1=O)C2(C)C</td>\n",
       "      <td>1</td>\n",
       "      <td>0</td>\n",
       "      <td>0</td>\n",
       "      <td>0</td>\n",
       "      <td>0</td>\n",
       "      <td>0</td>\n",
       "      <td>0</td>\n",
       "      <td>0</td>\n",
       "      <td>...</td>\n",
       "      <td>0</td>\n",
       "      <td>0</td>\n",
       "      <td>0</td>\n",
       "      <td>0</td>\n",
       "      <td>0</td>\n",
       "      <td>1</td>\n",
       "      <td>0</td>\n",
       "      <td>0</td>\n",
       "      <td>0</td>\n",
       "      <td>0</td>\n",
       "    </tr>\n",
       "    <tr>\n",
       "      <th>3</th>\n",
       "      <td>CHEMBL52564</td>\n",
       "      <td>Oc1ccccc1\\C=C\\C(=O)[O-]</td>\n",
       "      <td>1</td>\n",
       "      <td>0</td>\n",
       "      <td>0</td>\n",
       "      <td>0</td>\n",
       "      <td>0</td>\n",
       "      <td>0</td>\n",
       "      <td>0</td>\n",
       "      <td>0</td>\n",
       "      <td>...</td>\n",
       "      <td>0</td>\n",
       "      <td>0</td>\n",
       "      <td>0</td>\n",
       "      <td>0</td>\n",
       "      <td>0</td>\n",
       "      <td>0</td>\n",
       "      <td>0</td>\n",
       "      <td>0</td>\n",
       "      <td>0</td>\n",
       "      <td>0</td>\n",
       "    </tr>\n",
       "    <tr>\n",
       "      <th>4</th>\n",
       "      <td>CHEMBL21427</td>\n",
       "      <td>OB(O)c1ccc(OC)cc1</td>\n",
       "      <td>1</td>\n",
       "      <td>0</td>\n",
       "      <td>0</td>\n",
       "      <td>0</td>\n",
       "      <td>0</td>\n",
       "      <td>0</td>\n",
       "      <td>0</td>\n",
       "      <td>0</td>\n",
       "      <td>...</td>\n",
       "      <td>0</td>\n",
       "      <td>0</td>\n",
       "      <td>0</td>\n",
       "      <td>0</td>\n",
       "      <td>0</td>\n",
       "      <td>0</td>\n",
       "      <td>0</td>\n",
       "      <td>0</td>\n",
       "      <td>0</td>\n",
       "      <td>0</td>\n",
       "    </tr>\n",
       "  </tbody>\n",
       "</table>\n",
       "<p>5 rows × 1027 columns</p>\n",
       "</div>"
      ],
      "text/plain": [
       "             CID  \\\n",
       "0   CHEMBL188002   \n",
       "1   CHEMBL364127   \n",
       "2  CHEMBL1683469   \n",
       "3    CHEMBL52564   \n",
       "4    CHEMBL21427   \n",
       "\n",
       "                                                                                   SMILES  \\\n",
       "0  S(=O)(=O)(N)c1cc(N/C(/S)=N\\c2cc(C(=O)[O-])c(cc2)C=2c3c(OC4=CC(=O)C=CC=24)cc(O)cc3)ccc1   \n",
       "1                                             Clc1ccc(cc1)C(=O)NC1Cc2cc(S(=O)(=O)N)ccc2C1   \n",
       "2                                   S(=O)(=O)(N)c1ccc(cc1)CNS(=O)(=O)CC12CCC(CC1=O)C2(C)C   \n",
       "3                                                                 Oc1ccccc1\\C=C\\C(=O)[O-]   \n",
       "4                                                                       OB(O)c1ccc(OC)cc1   \n",
       "\n",
       "   Activity  ECFP4_1  ECFP4_2  ECFP4_3  ECFP4_4  ECFP4_5  ECFP4_6  ECFP4_7  \\\n",
       "0         1        0        0        0        0        0        0        0   \n",
       "1         1        0        0        0        0        0        0        0   \n",
       "2         1        0        0        0        0        0        0        0   \n",
       "3         1        0        0        0        0        0        0        0   \n",
       "4         1        0        0        0        0        0        0        0   \n",
       "\n",
       "   ...  ECFP4_1015  ECFP4_1016  ECFP4_1017  ECFP4_1018  ECFP4_1019  \\\n",
       "0  ...           0           0           0           0           0   \n",
       "1  ...           0           0           0           0           0   \n",
       "2  ...           0           0           0           0           0   \n",
       "3  ...           0           0           0           0           0   \n",
       "4  ...           0           0           0           0           0   \n",
       "\n",
       "   ECFP4_1020  ECFP4_1021  ECFP4_1022  ECFP4_1023  ECFP4_1024  \n",
       "0           0           0           0           0           0  \n",
       "1           1           0           0           0           0  \n",
       "2           1           0           0           0           0  \n",
       "3           0           0           0           0           0  \n",
       "4           0           0           0           0           0  \n",
       "\n",
       "[5 rows x 1027 columns]"
      ]
     },
     "execution_count": 76,
     "metadata": {},
     "output_type": "execute_result"
    }
   ],
   "source": [
    "df_ecfp.head()"
   ]
  },
  {
   "cell_type": "code",
   "execution_count": 77,
   "metadata": {},
   "outputs": [
    {
     "name": "stdout",
     "output_type": "stream",
     "text": [
      "<class 'pandas.core.frame.DataFrame'>\n",
      "RangeIndex: 17941 entries, 0 to 17940\n",
      "Columns: 1027 entries, CID to ECFP4_1024\n",
      "dtypes: int64(1025), object(2)\n",
      "memory usage: 140.6+ MB\n"
     ]
    }
   ],
   "source": [
    "df_ecfp.info()"
   ]
  },
  {
   "cell_type": "code",
   "execution_count": 78,
   "metadata": {},
   "outputs": [
    {
     "name": "stdout",
     "output_type": "stream",
     "text": [
      "<class 'pandas.core.frame.DataFrame'>\n",
      "RangeIndex: 17941 entries, 0 to 17940\n",
      "Columns: 517 entries, CID to act_511\n",
      "dtypes: float64(512), int64(1), object(4)\n",
      "memory usage: 70.8+ MB\n"
     ]
    }
   ],
   "source": [
    "df_acts.info()"
   ]
  },
  {
   "cell_type": "code",
   "execution_count": 79,
   "metadata": {},
   "outputs": [],
   "source": [
    "df = df_ecfp.merge(df_acts, on='CID')"
   ]
  },
  {
   "cell_type": "code",
   "execution_count": 80,
   "metadata": {},
   "outputs": [
    {
     "data": {
      "text/html": [
       "<div>\n",
       "<style scoped>\n",
       "    .dataframe tbody tr th:only-of-type {\n",
       "        vertical-align: middle;\n",
       "    }\n",
       "\n",
       "    .dataframe tbody tr th {\n",
       "        vertical-align: top;\n",
       "    }\n",
       "\n",
       "    .dataframe thead th {\n",
       "        text-align: right;\n",
       "    }\n",
       "</style>\n",
       "<table border=\"1\" class=\"dataframe\">\n",
       "  <thead>\n",
       "    <tr style=\"text-align: right;\">\n",
       "      <th></th>\n",
       "      <th>CID</th>\n",
       "      <th>SMILES_x</th>\n",
       "      <th>Activity_x</th>\n",
       "      <th>ECFP4_1</th>\n",
       "      <th>ECFP4_2</th>\n",
       "      <th>ECFP4_3</th>\n",
       "      <th>ECFP4_4</th>\n",
       "      <th>ECFP4_5</th>\n",
       "      <th>ECFP4_6</th>\n",
       "      <th>ECFP4_7</th>\n",
       "      <th>...</th>\n",
       "      <th>act_502</th>\n",
       "      <th>act_503</th>\n",
       "      <th>act_504</th>\n",
       "      <th>act_505</th>\n",
       "      <th>act_506</th>\n",
       "      <th>act_507</th>\n",
       "      <th>act_508</th>\n",
       "      <th>act_509</th>\n",
       "      <th>act_510</th>\n",
       "      <th>act_511</th>\n",
       "    </tr>\n",
       "  </thead>\n",
       "  <tbody>\n",
       "    <tr>\n",
       "      <th>0</th>\n",
       "      <td>CHEMBL188002</td>\n",
       "      <td>S(=O)(=O)(N)c1cc(N/C(/S)=N\\c2cc(C(=O)[O-])c(cc2)C=2c3c(OC4=CC(=O)C=CC=24)cc(O)cc3)ccc1</td>\n",
       "      <td>1</td>\n",
       "      <td>0</td>\n",
       "      <td>0</td>\n",
       "      <td>0</td>\n",
       "      <td>0</td>\n",
       "      <td>0</td>\n",
       "      <td>0</td>\n",
       "      <td>0</td>\n",
       "      <td>...</td>\n",
       "      <td>-20.266380</td>\n",
       "      <td>-58.616051</td>\n",
       "      <td>-36.874432</td>\n",
       "      <td>-84.006630</td>\n",
       "      <td>-28.130043</td>\n",
       "      <td>-14.237524</td>\n",
       "      <td>-30.243919</td>\n",
       "      <td>-89.924866</td>\n",
       "      <td>-25.477444</td>\n",
       "      <td>-13.185804</td>\n",
       "    </tr>\n",
       "    <tr>\n",
       "      <th>1</th>\n",
       "      <td>CHEMBL364127</td>\n",
       "      <td>Clc1ccc(cc1)C(=O)NC1Cc2cc(S(=O)(=O)N)ccc2C1</td>\n",
       "      <td>1</td>\n",
       "      <td>0</td>\n",
       "      <td>0</td>\n",
       "      <td>0</td>\n",
       "      <td>0</td>\n",
       "      <td>0</td>\n",
       "      <td>0</td>\n",
       "      <td>0</td>\n",
       "      <td>...</td>\n",
       "      <td>-27.719458</td>\n",
       "      <td>-79.247879</td>\n",
       "      <td>-71.388512</td>\n",
       "      <td>-117.074829</td>\n",
       "      <td>-87.031128</td>\n",
       "      <td>-25.362850</td>\n",
       "      <td>-91.691391</td>\n",
       "      <td>-97.514877</td>\n",
       "      <td>-159.834167</td>\n",
       "      <td>37.859943</td>\n",
       "    </tr>\n",
       "    <tr>\n",
       "      <th>2</th>\n",
       "      <td>CHEMBL1683469</td>\n",
       "      <td>S(=O)(=O)(N)c1ccc(cc1)CNS(=O)(=O)CC12CCC(CC1=O)C2(C)C</td>\n",
       "      <td>1</td>\n",
       "      <td>0</td>\n",
       "      <td>0</td>\n",
       "      <td>0</td>\n",
       "      <td>0</td>\n",
       "      <td>0</td>\n",
       "      <td>0</td>\n",
       "      <td>0</td>\n",
       "      <td>...</td>\n",
       "      <td>-27.371447</td>\n",
       "      <td>-91.037331</td>\n",
       "      <td>-82.402603</td>\n",
       "      <td>-140.058167</td>\n",
       "      <td>-110.499306</td>\n",
       "      <td>-35.576706</td>\n",
       "      <td>-118.137932</td>\n",
       "      <td>-114.797058</td>\n",
       "      <td>-210.545105</td>\n",
       "      <td>58.341396</td>\n",
       "    </tr>\n",
       "    <tr>\n",
       "      <th>3</th>\n",
       "      <td>CHEMBL52564</td>\n",
       "      <td>Oc1ccccc1\\C=C\\C(=O)[O-]</td>\n",
       "      <td>1</td>\n",
       "      <td>0</td>\n",
       "      <td>0</td>\n",
       "      <td>0</td>\n",
       "      <td>0</td>\n",
       "      <td>0</td>\n",
       "      <td>0</td>\n",
       "      <td>0</td>\n",
       "      <td>...</td>\n",
       "      <td>-12.962411</td>\n",
       "      <td>-65.378036</td>\n",
       "      <td>-52.445572</td>\n",
       "      <td>-105.202003</td>\n",
       "      <td>-54.042187</td>\n",
       "      <td>-23.038553</td>\n",
       "      <td>-45.937416</td>\n",
       "      <td>-107.758331</td>\n",
       "      <td>-74.264862</td>\n",
       "      <td>15.236348</td>\n",
       "    </tr>\n",
       "    <tr>\n",
       "      <th>4</th>\n",
       "      <td>CHEMBL21427</td>\n",
       "      <td>OB(O)c1ccc(OC)cc1</td>\n",
       "      <td>1</td>\n",
       "      <td>0</td>\n",
       "      <td>0</td>\n",
       "      <td>0</td>\n",
       "      <td>0</td>\n",
       "      <td>0</td>\n",
       "      <td>0</td>\n",
       "      <td>0</td>\n",
       "      <td>...</td>\n",
       "      <td>-14.881062</td>\n",
       "      <td>-61.484863</td>\n",
       "      <td>-52.275417</td>\n",
       "      <td>-100.329498</td>\n",
       "      <td>-55.440769</td>\n",
       "      <td>-24.665730</td>\n",
       "      <td>-48.966393</td>\n",
       "      <td>-98.103355</td>\n",
       "      <td>-83.055305</td>\n",
       "      <td>20.628500</td>\n",
       "    </tr>\n",
       "  </tbody>\n",
       "</table>\n",
       "<p>5 rows × 1543 columns</p>\n",
       "</div>"
      ],
      "text/plain": [
       "             CID  \\\n",
       "0   CHEMBL188002   \n",
       "1   CHEMBL364127   \n",
       "2  CHEMBL1683469   \n",
       "3    CHEMBL52564   \n",
       "4    CHEMBL21427   \n",
       "\n",
       "                                                                                 SMILES_x  \\\n",
       "0  S(=O)(=O)(N)c1cc(N/C(/S)=N\\c2cc(C(=O)[O-])c(cc2)C=2c3c(OC4=CC(=O)C=CC=24)cc(O)cc3)ccc1   \n",
       "1                                             Clc1ccc(cc1)C(=O)NC1Cc2cc(S(=O)(=O)N)ccc2C1   \n",
       "2                                   S(=O)(=O)(N)c1ccc(cc1)CNS(=O)(=O)CC12CCC(CC1=O)C2(C)C   \n",
       "3                                                                 Oc1ccccc1\\C=C\\C(=O)[O-]   \n",
       "4                                                                       OB(O)c1ccc(OC)cc1   \n",
       "\n",
       "   Activity_x  ECFP4_1  ECFP4_2  ECFP4_3  ECFP4_4  ECFP4_5  ECFP4_6  ECFP4_7  \\\n",
       "0           1        0        0        0        0        0        0        0   \n",
       "1           1        0        0        0        0        0        0        0   \n",
       "2           1        0        0        0        0        0        0        0   \n",
       "3           1        0        0        0        0        0        0        0   \n",
       "4           1        0        0        0        0        0        0        0   \n",
       "\n",
       "   ...    act_502    act_503    act_504     act_505     act_506    act_507  \\\n",
       "0  ... -20.266380 -58.616051 -36.874432  -84.006630  -28.130043 -14.237524   \n",
       "1  ... -27.719458 -79.247879 -71.388512 -117.074829  -87.031128 -25.362850   \n",
       "2  ... -27.371447 -91.037331 -82.402603 -140.058167 -110.499306 -35.576706   \n",
       "3  ... -12.962411 -65.378036 -52.445572 -105.202003  -54.042187 -23.038553   \n",
       "4  ... -14.881062 -61.484863 -52.275417 -100.329498  -55.440769 -24.665730   \n",
       "\n",
       "      act_508     act_509     act_510    act_511  \n",
       "0  -30.243919  -89.924866  -25.477444 -13.185804  \n",
       "1  -91.691391  -97.514877 -159.834167  37.859943  \n",
       "2 -118.137932 -114.797058 -210.545105  58.341396  \n",
       "3  -45.937416 -107.758331  -74.264862  15.236348  \n",
       "4  -48.966393  -98.103355  -83.055305  20.628500  \n",
       "\n",
       "[5 rows x 1543 columns]"
      ]
     },
     "execution_count": 80,
     "metadata": {},
     "output_type": "execute_result"
    }
   ],
   "source": [
    "df.head()"
   ]
  },
  {
   "cell_type": "code",
   "execution_count": 81,
   "metadata": {},
   "outputs": [],
   "source": [
    "df.drop(['SMILES_y', \"Activity_y\"], axis=1, inplace=True)"
   ]
  },
  {
   "cell_type": "code",
   "execution_count": 82,
   "metadata": {},
   "outputs": [
    {
     "data": {
      "text/html": [
       "<div>\n",
       "<style scoped>\n",
       "    .dataframe tbody tr th:only-of-type {\n",
       "        vertical-align: middle;\n",
       "    }\n",
       "\n",
       "    .dataframe tbody tr th {\n",
       "        vertical-align: top;\n",
       "    }\n",
       "\n",
       "    .dataframe thead th {\n",
       "        text-align: right;\n",
       "    }\n",
       "</style>\n",
       "<table border=\"1\" class=\"dataframe\">\n",
       "  <thead>\n",
       "    <tr style=\"text-align: right;\">\n",
       "      <th></th>\n",
       "      <th>CID</th>\n",
       "      <th>SMILES_x</th>\n",
       "      <th>Activity_x</th>\n",
       "      <th>ECFP4_1</th>\n",
       "      <th>ECFP4_2</th>\n",
       "      <th>ECFP4_3</th>\n",
       "      <th>ECFP4_4</th>\n",
       "      <th>ECFP4_5</th>\n",
       "      <th>ECFP4_6</th>\n",
       "      <th>ECFP4_7</th>\n",
       "      <th>...</th>\n",
       "      <th>act_502</th>\n",
       "      <th>act_503</th>\n",
       "      <th>act_504</th>\n",
       "      <th>act_505</th>\n",
       "      <th>act_506</th>\n",
       "      <th>act_507</th>\n",
       "      <th>act_508</th>\n",
       "      <th>act_509</th>\n",
       "      <th>act_510</th>\n",
       "      <th>act_511</th>\n",
       "    </tr>\n",
       "  </thead>\n",
       "  <tbody>\n",
       "    <tr>\n",
       "      <th>0</th>\n",
       "      <td>CHEMBL188002</td>\n",
       "      <td>S(=O)(=O)(N)c1cc(N/C(/S)=N\\c2cc(C(=O)[O-])c(cc2)C=2c3c(OC4=CC(=O)C=CC=24)cc(O)cc3)ccc1</td>\n",
       "      <td>1</td>\n",
       "      <td>0</td>\n",
       "      <td>0</td>\n",
       "      <td>0</td>\n",
       "      <td>0</td>\n",
       "      <td>0</td>\n",
       "      <td>0</td>\n",
       "      <td>0</td>\n",
       "      <td>...</td>\n",
       "      <td>-20.266380</td>\n",
       "      <td>-58.616051</td>\n",
       "      <td>-36.874432</td>\n",
       "      <td>-84.006630</td>\n",
       "      <td>-28.130043</td>\n",
       "      <td>-14.237524</td>\n",
       "      <td>-30.243919</td>\n",
       "      <td>-89.924866</td>\n",
       "      <td>-25.477444</td>\n",
       "      <td>-13.185804</td>\n",
       "    </tr>\n",
       "    <tr>\n",
       "      <th>1</th>\n",
       "      <td>CHEMBL364127</td>\n",
       "      <td>Clc1ccc(cc1)C(=O)NC1Cc2cc(S(=O)(=O)N)ccc2C1</td>\n",
       "      <td>1</td>\n",
       "      <td>0</td>\n",
       "      <td>0</td>\n",
       "      <td>0</td>\n",
       "      <td>0</td>\n",
       "      <td>0</td>\n",
       "      <td>0</td>\n",
       "      <td>0</td>\n",
       "      <td>...</td>\n",
       "      <td>-27.719458</td>\n",
       "      <td>-79.247879</td>\n",
       "      <td>-71.388512</td>\n",
       "      <td>-117.074829</td>\n",
       "      <td>-87.031128</td>\n",
       "      <td>-25.362850</td>\n",
       "      <td>-91.691391</td>\n",
       "      <td>-97.514877</td>\n",
       "      <td>-159.834167</td>\n",
       "      <td>37.859943</td>\n",
       "    </tr>\n",
       "    <tr>\n",
       "      <th>2</th>\n",
       "      <td>CHEMBL1683469</td>\n",
       "      <td>S(=O)(=O)(N)c1ccc(cc1)CNS(=O)(=O)CC12CCC(CC1=O)C2(C)C</td>\n",
       "      <td>1</td>\n",
       "      <td>0</td>\n",
       "      <td>0</td>\n",
       "      <td>0</td>\n",
       "      <td>0</td>\n",
       "      <td>0</td>\n",
       "      <td>0</td>\n",
       "      <td>0</td>\n",
       "      <td>...</td>\n",
       "      <td>-27.371447</td>\n",
       "      <td>-91.037331</td>\n",
       "      <td>-82.402603</td>\n",
       "      <td>-140.058167</td>\n",
       "      <td>-110.499306</td>\n",
       "      <td>-35.576706</td>\n",
       "      <td>-118.137932</td>\n",
       "      <td>-114.797058</td>\n",
       "      <td>-210.545105</td>\n",
       "      <td>58.341396</td>\n",
       "    </tr>\n",
       "    <tr>\n",
       "      <th>3</th>\n",
       "      <td>CHEMBL52564</td>\n",
       "      <td>Oc1ccccc1\\C=C\\C(=O)[O-]</td>\n",
       "      <td>1</td>\n",
       "      <td>0</td>\n",
       "      <td>0</td>\n",
       "      <td>0</td>\n",
       "      <td>0</td>\n",
       "      <td>0</td>\n",
       "      <td>0</td>\n",
       "      <td>0</td>\n",
       "      <td>...</td>\n",
       "      <td>-12.962411</td>\n",
       "      <td>-65.378036</td>\n",
       "      <td>-52.445572</td>\n",
       "      <td>-105.202003</td>\n",
       "      <td>-54.042187</td>\n",
       "      <td>-23.038553</td>\n",
       "      <td>-45.937416</td>\n",
       "      <td>-107.758331</td>\n",
       "      <td>-74.264862</td>\n",
       "      <td>15.236348</td>\n",
       "    </tr>\n",
       "    <tr>\n",
       "      <th>4</th>\n",
       "      <td>CHEMBL21427</td>\n",
       "      <td>OB(O)c1ccc(OC)cc1</td>\n",
       "      <td>1</td>\n",
       "      <td>0</td>\n",
       "      <td>0</td>\n",
       "      <td>0</td>\n",
       "      <td>0</td>\n",
       "      <td>0</td>\n",
       "      <td>0</td>\n",
       "      <td>0</td>\n",
       "      <td>...</td>\n",
       "      <td>-14.881062</td>\n",
       "      <td>-61.484863</td>\n",
       "      <td>-52.275417</td>\n",
       "      <td>-100.329498</td>\n",
       "      <td>-55.440769</td>\n",
       "      <td>-24.665730</td>\n",
       "      <td>-48.966393</td>\n",
       "      <td>-98.103355</td>\n",
       "      <td>-83.055305</td>\n",
       "      <td>20.628500</td>\n",
       "    </tr>\n",
       "  </tbody>\n",
       "</table>\n",
       "<p>5 rows × 1541 columns</p>\n",
       "</div>"
      ],
      "text/plain": [
       "             CID  \\\n",
       "0   CHEMBL188002   \n",
       "1   CHEMBL364127   \n",
       "2  CHEMBL1683469   \n",
       "3    CHEMBL52564   \n",
       "4    CHEMBL21427   \n",
       "\n",
       "                                                                                 SMILES_x  \\\n",
       "0  S(=O)(=O)(N)c1cc(N/C(/S)=N\\c2cc(C(=O)[O-])c(cc2)C=2c3c(OC4=CC(=O)C=CC=24)cc(O)cc3)ccc1   \n",
       "1                                             Clc1ccc(cc1)C(=O)NC1Cc2cc(S(=O)(=O)N)ccc2C1   \n",
       "2                                   S(=O)(=O)(N)c1ccc(cc1)CNS(=O)(=O)CC12CCC(CC1=O)C2(C)C   \n",
       "3                                                                 Oc1ccccc1\\C=C\\C(=O)[O-]   \n",
       "4                                                                       OB(O)c1ccc(OC)cc1   \n",
       "\n",
       "   Activity_x  ECFP4_1  ECFP4_2  ECFP4_3  ECFP4_4  ECFP4_5  ECFP4_6  ECFP4_7  \\\n",
       "0           1        0        0        0        0        0        0        0   \n",
       "1           1        0        0        0        0        0        0        0   \n",
       "2           1        0        0        0        0        0        0        0   \n",
       "3           1        0        0        0        0        0        0        0   \n",
       "4           1        0        0        0        0        0        0        0   \n",
       "\n",
       "   ...    act_502    act_503    act_504     act_505     act_506    act_507  \\\n",
       "0  ... -20.266380 -58.616051 -36.874432  -84.006630  -28.130043 -14.237524   \n",
       "1  ... -27.719458 -79.247879 -71.388512 -117.074829  -87.031128 -25.362850   \n",
       "2  ... -27.371447 -91.037331 -82.402603 -140.058167 -110.499306 -35.576706   \n",
       "3  ... -12.962411 -65.378036 -52.445572 -105.202003  -54.042187 -23.038553   \n",
       "4  ... -14.881062 -61.484863 -52.275417 -100.329498  -55.440769 -24.665730   \n",
       "\n",
       "      act_508     act_509     act_510    act_511  \n",
       "0  -30.243919  -89.924866  -25.477444 -13.185804  \n",
       "1  -91.691391  -97.514877 -159.834167  37.859943  \n",
       "2 -118.137932 -114.797058 -210.545105  58.341396  \n",
       "3  -45.937416 -107.758331  -74.264862  15.236348  \n",
       "4  -48.966393  -98.103355  -83.055305  20.628500  \n",
       "\n",
       "[5 rows x 1541 columns]"
      ]
     },
     "execution_count": 82,
     "metadata": {},
     "output_type": "execute_result"
    }
   ],
   "source": [
    "df.head()"
   ]
  },
  {
   "cell_type": "code",
   "execution_count": 84,
   "metadata": {},
   "outputs": [],
   "source": [
    "df.rename(columns={'SMILES_x': 'SMILES', 'Activity_x': 'Activity'}, inplace=True)"
   ]
  },
  {
   "cell_type": "code",
   "execution_count": 86,
   "metadata": {},
   "outputs": [
    {
     "data": {
      "text/plain": [
       "False    13455\n",
       "True      4486\n",
       "Name: is_valid, dtype: int64"
      ]
     },
     "execution_count": 86,
     "metadata": {},
     "output_type": "execute_result"
    }
   ],
   "source": [
    "df.is_valid.value_counts()"
   ]
  },
  {
   "cell_type": "code",
   "execution_count": 85,
   "metadata": {},
   "outputs": [],
   "source": [
    "df.to_csv(path/'chembl205-data-with-ecfp-activations.csv', index=None)"
   ]
  },
  {
   "cell_type": "code",
   "execution_count": null,
   "metadata": {},
   "outputs": [],
   "source": []
  }
 ],
 "metadata": {
  "kernelspec": {
   "display_name": "Python 3",
   "language": "python",
   "name": "python3"
  },
  "language_info": {
   "codemirror_mode": {
    "name": "ipython",
    "version": 3
   },
   "file_extension": ".py",
   "mimetype": "text/x-python",
   "name": "python",
   "nbconvert_exporter": "python",
   "pygments_lexer": "ipython3",
   "version": "3.8.6"
  }
 },
 "nbformat": 4,
 "nbformat_minor": 5
}
