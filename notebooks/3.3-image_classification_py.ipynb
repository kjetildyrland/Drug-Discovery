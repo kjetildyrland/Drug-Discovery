{
 "cells": [
  {
   "cell_type": "markdown",
   "id": "02376db5",
   "metadata": {},
   "source": [
    "# Image Classification with DNN"
   ]
  },
  {
   "cell_type": "markdown",
   "id": "28204ada",
   "metadata": {},
   "source": [
    "## DATASETS:\n",
    "(a) Carbonic Anhydrase II (ChEMBL205), a protein lyase,  \n",
    "(b) Cyclin-dependent kinase 2 (CHEMBL301), a protein kinase,  \n",
    "(c) ether-a-go-go-related gene potassium channel 1 (HERG) (CHEMBL240), a voltage-gated ion channel,  \n",
    "(d) Dopamine D4 receptor (CHEMBL219), a monoamine GPCR,  \n",
    "(e) Coagulation factor X (CHEMBL244), a serine protease,  \n",
    "(f) Cannabinoid CB1 receptor (CHEMBL218), a lipid-like GPCR and  \n",
    "(g) Cytochrome P450 19A1 (CHEMBL1978), a cytochrome P450.  \n",
    "The activity classes were selected based on data availability and as representatives of therapeutically important target classes or as anti-targets."
   ]
  },
  {
   "cell_type": "code",
   "execution_count": 1,
   "id": "7ff5d5e3",
   "metadata": {
    "scrolled": true
   },
   "outputs": [
    {
     "name": "stdout",
     "output_type": "stream",
     "text": [
      "Fri Apr 29 12:16:16 2022       \n",
      "+-----------------------------------------------------------------------------+\n",
      "| NVIDIA-SMI 450.172.01   Driver Version: 450.172.01   CUDA Version: 11.0     |\n",
      "|-------------------------------+----------------------+----------------------+\n",
      "| GPU  Name        Persistence-M| Bus-Id        Disp.A | Volatile Uncorr. ECC |\n",
      "| Fan  Temp  Perf  Pwr:Usage/Cap|         Memory-Usage | GPU-Util  Compute M. |\n",
      "|                               |                      |               MIG M. |\n",
      "|===============================+======================+======================|\n",
      "|   0  Tesla V100-DGXS...  On   | 00000000:07:00.0 Off |                    0 |\n",
      "| N/A   40C    P0   122W / 300W |   4395MiB / 32505MiB |     88%      Default |\n",
      "|                               |                      |                  N/A |\n",
      "+-------------------------------+----------------------+----------------------+\n",
      "|   1  Tesla V100-DGXS...  On   | 00000000:08:00.0 Off |                    0 |\n",
      "| N/A   38C    P0    38W / 300W |      9MiB / 32508MiB |      0%      Default |\n",
      "|                               |                      |                  N/A |\n",
      "+-------------------------------+----------------------+----------------------+\n",
      "|   2  Tesla V100-DGXS...  On   | 00000000:0E:00.0 Off |                    0 |\n",
      "| N/A   38C    P0    37W / 300W |      9MiB / 32508MiB |      0%      Default |\n",
      "|                               |                      |                  N/A |\n",
      "+-------------------------------+----------------------+----------------------+\n",
      "|   3  Tesla V100-DGXS...  On   | 00000000:0F:00.0 Off |                    0 |\n",
      "| N/A   39C    P0    38W / 300W |      9MiB / 32508MiB |      0%      Default |\n",
      "|                               |                      |                  N/A |\n",
      "+-------------------------------+----------------------+----------------------+\n",
      "                                                                               \n",
      "+-----------------------------------------------------------------------------+\n",
      "| Processes:                                                                  |\n",
      "|  GPU   GI   CI        PID   Type   Process name                  GPU Memory |\n",
      "|        ID   ID                                                   Usage      |\n",
      "|=============================================================================|\n",
      "|    0   N/A  N/A      2917      G   /usr/lib/xorg/Xorg                 86MiB |\n",
      "|    0   N/A  N/A      3284      G   /usr/bin/gnome-shell               16MiB |\n",
      "|    0   N/A  N/A   1536111      C   ...vs/fastai-drug/bin/python     4287MiB |\n",
      "|    1   N/A  N/A      2917      G   /usr/lib/xorg/Xorg                  4MiB |\n",
      "|    2   N/A  N/A      2917      G   /usr/lib/xorg/Xorg                  4MiB |\n",
      "|    3   N/A  N/A      2917      G   /usr/lib/xorg/Xorg                  4MiB |\n",
      "+-----------------------------------------------------------------------------+\n"
     ]
    }
   ],
   "source": [
    "!nvidia-smi"
   ]
  },
  {
   "cell_type": "code",
   "execution_count": 2,
   "id": "fe052ee5",
   "metadata": {},
   "outputs": [],
   "source": [
    "# Import\n",
    "import pandas as pd\n",
    "import numpy as np\n",
    "from pathlib import Path"
   ]
  },
  {
   "cell_type": "code",
   "execution_count": 3,
   "id": "c51e1815",
   "metadata": {},
   "outputs": [],
   "source": [
    "%matplotlib inline\n",
    "import matplotlib.pyplot as plt\n",
    "import sys\n",
    "import os\n",
    "sys.path.append('/usr/local/lib/python3.7/site-packages/')\n",
    "#from rdkit import Chem\n",
    "#from rdkit.Chem import AllChem"
   ]
  },
  {
   "cell_type": "code",
   "execution_count": 4,
   "id": "8112b927",
   "metadata": {},
   "outputs": [],
   "source": [
    "dataset = 'CHEMBL205'"
   ]
  },
  {
   "cell_type": "code",
   "execution_count": 5,
   "id": "327fcae1",
   "metadata": {},
   "outputs": [],
   "source": [
    "path = Path('../dataset/13321_2017_226_MOESM1_ESM/')\n",
    "df = pd.read_csv(path/dataset/f'{dataset}_train_valid.csv')"
   ]
  },
  {
   "cell_type": "code",
   "execution_count": 6,
   "id": "59ad0e49",
   "metadata": {},
   "outputs": [
    {
     "data": {
      "text/plain": [
       "[PosixPath('../dataset/13321_2017_226_MOESM1_ESM/mol_images'),\n",
       " PosixPath('../dataset/13321_2017_226_MOESM1_ESM/CHEMBL218'),\n",
       " PosixPath('../dataset/13321_2017_226_MOESM1_ESM/CHEMBL219'),\n",
       " PosixPath('../dataset/13321_2017_226_MOESM1_ESM/CHEMBL240'),\n",
       " PosixPath('../dataset/13321_2017_226_MOESM1_ESM/CHEMBL244'),\n",
       " PosixPath('../dataset/13321_2017_226_MOESM1_ESM/CHEMBL301'),\n",
       " PosixPath('../dataset/13321_2017_226_MOESM1_ESM/CHEMBL205'),\n",
       " PosixPath('../dataset/13321_2017_226_MOESM1_ESM/CHEMBL1978')]"
      ]
     },
     "execution_count": 6,
     "metadata": {},
     "output_type": "execute_result"
    }
   ],
   "source": [
    "list(path.iterdir())"
   ]
  },
  {
   "cell_type": "code",
   "execution_count": 7,
   "id": "6b267cf5",
   "metadata": {},
   "outputs": [],
   "source": [
    "DATA = path/'mol_images'"
   ]
  },
  {
   "cell_type": "code",
   "execution_count": 8,
   "id": "5ab97516",
   "metadata": {},
   "outputs": [],
   "source": [
    "IMAGES = DATA/dataset"
   ]
  },
  {
   "cell_type": "markdown",
   "id": "7bda9eb2",
   "metadata": {},
   "source": [
    "# Create train validation split"
   ]
  },
  {
   "cell_type": "code",
   "execution_count": 9,
   "id": "0ccf60f8",
   "metadata": {},
   "outputs": [],
   "source": [
    "from sklearn.model_selection import train_test_split"
   ]
  },
  {
   "cell_type": "code",
   "execution_count": 10,
   "id": "6bce3ad6",
   "metadata": {},
   "outputs": [
    {
     "data": {
      "text/plain": [
       "False    8611\n",
       "True     2153\n",
       "Name: is_valid, dtype: int64"
      ]
     },
     "execution_count": 10,
     "metadata": {},
     "output_type": "execute_result"
    }
   ],
   "source": [
    "df.is_valid.value_counts()"
   ]
  },
  {
   "cell_type": "code",
   "execution_count": 11,
   "id": "6dbf28de",
   "metadata": {},
   "outputs": [
    {
     "data": {
      "text/plain": [
       "0.2500290326326791"
      ]
     },
     "execution_count": 11,
     "metadata": {},
     "output_type": "execute_result"
    }
   ],
   "source": [
    "len(df[df.is_valid == True]) / len(df[df.is_valid == False])"
   ]
  },
  {
   "cell_type": "markdown",
   "id": "4f59daa4",
   "metadata": {},
   "source": [
    "# Create dataloader"
   ]
  },
  {
   "cell_type": "code",
   "execution_count": 12,
   "id": "7092a50a",
   "metadata": {},
   "outputs": [],
   "source": [
    "from fastai.vision.all import *"
   ]
  },
  {
   "cell_type": "code",
   "execution_count": 13,
   "id": "59928f03",
   "metadata": {},
   "outputs": [
    {
     "data": {
      "text/html": [
       "<div>\n",
       "<style scoped>\n",
       "    .dataframe tbody tr th:only-of-type {\n",
       "        vertical-align: middle;\n",
       "    }\n",
       "\n",
       "    .dataframe tbody tr th {\n",
       "        vertical-align: top;\n",
       "    }\n",
       "\n",
       "    .dataframe thead th {\n",
       "        text-align: right;\n",
       "    }\n",
       "</style>\n",
       "<table border=\"1\" class=\"dataframe\">\n",
       "  <thead>\n",
       "    <tr style=\"text-align: right;\">\n",
       "      <th></th>\n",
       "      <th>CID</th>\n",
       "      <th>SMILES</th>\n",
       "      <th>Activity</th>\n",
       "      <th>is_valid</th>\n",
       "      <th>Image</th>\n",
       "    </tr>\n",
       "  </thead>\n",
       "  <tbody>\n",
       "    <tr>\n",
       "      <th>0</th>\n",
       "      <td>CHEMBL1589687</td>\n",
       "      <td>S1c2n(ncn2)C(O)=C1C([NH+]1CCc2c(C1)cccc2)c1ccc(F)cc1</td>\n",
       "      <td>0</td>\n",
       "      <td>False</td>\n",
       "      <td>CHEMBL1589687.png</td>\n",
       "    </tr>\n",
       "    <tr>\n",
       "      <th>1</th>\n",
       "      <td>CHEMBL3092937</td>\n",
       "      <td>S(=O)(=O)(N)c1cc(ccc1)-c1nnn(c1)C1OC(COC(=O)C)C(OC(=O)C)C(OC(=O)C)C1OC(=O)C</td>\n",
       "      <td>1</td>\n",
       "      <td>False</td>\n",
       "      <td>CHEMBL3092937.png</td>\n",
       "    </tr>\n",
       "    <tr>\n",
       "      <th>2</th>\n",
       "      <td>CHEMBL325684</td>\n",
       "      <td>O=C1N(Cc2ccc(cc2)-c2ccccc2C(=O)[O-])C(=NC12CC2)CCCC</td>\n",
       "      <td>0</td>\n",
       "      <td>False</td>\n",
       "      <td>CHEMBL325684.png</td>\n",
       "    </tr>\n",
       "    <tr>\n",
       "      <th>3</th>\n",
       "      <td>CHEMBL488713</td>\n",
       "      <td>Fc1cc(F)c(F)cc1CC([NH3+])CC(=O)N1N=CCC1C(=O)Nc1ccccc1OCC(=O)[O-]</td>\n",
       "      <td>0</td>\n",
       "      <td>False</td>\n",
       "      <td>CHEMBL488713.png</td>\n",
       "    </tr>\n",
       "    <tr>\n",
       "      <th>4</th>\n",
       "      <td>CHEMBL2069846</td>\n",
       "      <td>Fc1cc(F)c(F)cc1CC([NH3+])CC(=O)N1CCN(CC1)C(=O)c1ccc(N2CC[NH+](CC2)C)cc1</td>\n",
       "      <td>0</td>\n",
       "      <td>False</td>\n",
       "      <td>CHEMBL2069846.png</td>\n",
       "    </tr>\n",
       "  </tbody>\n",
       "</table>\n",
       "</div>"
      ],
      "text/plain": [
       "             CID  \\\n",
       "0  CHEMBL1589687   \n",
       "1  CHEMBL3092937   \n",
       "2   CHEMBL325684   \n",
       "3   CHEMBL488713   \n",
       "4  CHEMBL2069846   \n",
       "\n",
       "                                                                        SMILES  \\\n",
       "0                         S1c2n(ncn2)C(O)=C1C([NH+]1CCc2c(C1)cccc2)c1ccc(F)cc1   \n",
       "1  S(=O)(=O)(N)c1cc(ccc1)-c1nnn(c1)C1OC(COC(=O)C)C(OC(=O)C)C(OC(=O)C)C1OC(=O)C   \n",
       "2                          O=C1N(Cc2ccc(cc2)-c2ccccc2C(=O)[O-])C(=NC12CC2)CCCC   \n",
       "3             Fc1cc(F)c(F)cc1CC([NH3+])CC(=O)N1N=CCC1C(=O)Nc1ccccc1OCC(=O)[O-]   \n",
       "4      Fc1cc(F)c(F)cc1CC([NH3+])CC(=O)N1CCN(CC1)C(=O)c1ccc(N2CC[NH+](CC2)C)cc1   \n",
       "\n",
       "   Activity  is_valid              Image  \n",
       "0         0     False  CHEMBL1589687.png  \n",
       "1         1     False  CHEMBL3092937.png  \n",
       "2         0     False   CHEMBL325684.png  \n",
       "3         0     False   CHEMBL488713.png  \n",
       "4         0     False  CHEMBL2069846.png  "
      ]
     },
     "execution_count": 13,
     "metadata": {},
     "output_type": "execute_result"
    }
   ],
   "source": [
    "df['Image'] = df['CID'] + '.png'\n",
    "df.head()"
   ]
  },
  {
   "cell_type": "code",
   "execution_count": 14,
   "id": "849975ae",
   "metadata": {},
   "outputs": [
    {
     "data": {
      "text/plain": [
       "0    CHEMBL1589687.png\n",
       "1    CHEMBL3092937.png\n",
       "2     CHEMBL325684.png\n",
       "3     CHEMBL488713.png\n",
       "4    CHEMBL2069846.png\n",
       "Name: CID, dtype: object"
      ]
     },
     "execution_count": 14,
     "metadata": {},
     "output_type": "execute_result"
    }
   ],
   "source": [
    "images = df['CID'] + \".png\"\n",
    "images.head()"
   ]
  },
  {
   "cell_type": "code",
   "execution_count": 15,
   "id": "24ead7b8",
   "metadata": {},
   "outputs": [],
   "source": [
    "# No flips, some rotation and zoom. Normalize to imagenet_stats as\n",
    "# we're using pretrained models.\n",
    "batch_tfms = [*aug_transforms(mult=1.0, do_flip=False, flip_vert=False, \n",
    "               max_rotate=20.0, min_zoom=1.0, max_zoom=1.1, max_lighting=0., \n",
    "               max_warp=0., p_affine=0.75, p_lighting=0.75, xtra_tfms=None, \n",
    "               size=224, mode='bilinear', \n",
    "               pad_mode='border', align_corners=True, \n",
    "               batch=False, min_scale=1.0), \n",
    "              Normalize.from_stats(*imagenet_stats)]"
   ]
  },
  {
   "cell_type": "code",
   "execution_count": 16,
   "id": "d29d3d3d",
   "metadata": {},
   "outputs": [],
   "source": [
    "db = DataBlock(\n",
    "    blocks = (ImageBlock(), CategoryBlock()), \n",
    "    get_x=ColReader('Image', pref=IMAGES),\n",
    "    get_y=ColReader('Activity'), \n",
    "    splitter=ColSplitter('is_valid'),\n",
    "    item_tfms=None, \n",
    "    batch_tfms=None,\n",
    "    )"
   ]
  },
  {
   "cell_type": "markdown",
   "id": "7f66b1a6",
   "metadata": {},
   "source": [
    "Oversmaple instead of using class weights to test custom loss function"
   ]
  },
  {
   "cell_type": "code",
   "execution_count": 17,
   "id": "8e41ab0b",
   "metadata": {},
   "outputs": [],
   "source": [
    "def val_cols_and_oversample(df, test_size=0.25, random_state=42, oversample=True):\n",
    "    #x_train,x_val = train_test_split(df.index, test_size=test_size, stratify=df['Activity'], \n",
    "                                     #random_state=random_state)\n",
    "    \n",
    "    #df.loc[x_train, 'is_valid']=False\n",
    "    #df.loc[x_val, 'is_valid']=True\n",
    "    # Oversample is_valid=False columns\n",
    "    if oversample:\n",
    "        df = pd.concat([*[df.loc[(df.is_valid==False) & (df.Activity==1)]]*10, \n",
    "                        *[df.loc[(df.is_valid==False) & (df.Activity==0)]], \n",
    "                        df.loc[df.is_valid==True]], \n",
    "                       ignore_index=True)\n",
    "    return df\n"
   ]
  },
  {
   "cell_type": "code",
   "execution_count": 18,
   "id": "4a8fe271",
   "metadata": {},
   "outputs": [],
   "source": [
    "def get_df(dataset, random_state=42, test_size=0.25, oversample=True, test=False):\n",
    "    if test:\n",
    "        df = pd.read_csv(path/dataset/f'{dataset}_test1.csv')\n",
    "    else:\n",
    "        df = pd.read_csv(path/dataset/f'{dataset}_train_valid.csv')\n",
    "        df = val_cols_and_oversample(df, test_size=test_size, random_state=random_state, oversample=oversample)\n",
    "    df['Image'] = df['CID'] + '.png'\n",
    "    return df"
   ]
  },
  {
   "cell_type": "code",
   "execution_count": 19,
   "id": "e60a0d15",
   "metadata": {},
   "outputs": [],
   "source": [
    "def get_df_with_clusters(dataset, n_clusters=100, random_state=42, test_size=0.25):\n",
    "    df = pd.read_csv(path/dataset/f'{dataset}_cl_ECFP_1024_with_{n_clusters}_clusters.csv')\n",
    "    values = df.Cluster.value_counts(ascending=True)\n",
    "    values = values[values < 2].index\n",
    "    for i in list(values):\n",
    "        df = df.drop(df[df.Cluster == i].index)\n",
    "    df.reset_index(drop=True, inplace=True)\n",
    "    x_train, x_valid = train_test_split(df.index, test_size=test_size, random_state=random_state, stratify=df['Cluster'])\n",
    "    df.loc[x_train, 'is_valid']=False\n",
    "    df.loc[x_valid, 'is_valid']=True\n",
    "    df['Image'] = df['Name'] + '.png'\n",
    "    return df"
   ]
  },
  {
   "cell_type": "code",
   "execution_count": 20,
   "id": "505b16e0",
   "metadata": {},
   "outputs": [
    {
     "data": {
      "text/html": [
       "<div>\n",
       "<style scoped>\n",
       "    .dataframe tbody tr th:only-of-type {\n",
       "        vertical-align: middle;\n",
       "    }\n",
       "\n",
       "    .dataframe tbody tr th {\n",
       "        vertical-align: top;\n",
       "    }\n",
       "\n",
       "    .dataframe thead th {\n",
       "        text-align: right;\n",
       "    }\n",
       "</style>\n",
       "<table border=\"1\" class=\"dataframe\">\n",
       "  <thead>\n",
       "    <tr style=\"text-align: right;\">\n",
       "      <th></th>\n",
       "      <th>CID</th>\n",
       "      <th>SMILES</th>\n",
       "      <th>Activity</th>\n",
       "      <th>is_valid</th>\n",
       "      <th>Image</th>\n",
       "    </tr>\n",
       "  </thead>\n",
       "  <tbody>\n",
       "    <tr>\n",
       "      <th>0</th>\n",
       "      <td>CHEMBL3092937</td>\n",
       "      <td>S(=O)(=O)(N)c1cc(ccc1)-c1nnn(c1)C1OC(COC(=O)C)C(OC(=O)C)C(OC(=O)C)C1OC(=O)C</td>\n",
       "      <td>1</td>\n",
       "      <td>False</td>\n",
       "      <td>CHEMBL3092937.png</td>\n",
       "    </tr>\n",
       "    <tr>\n",
       "      <th>1</th>\n",
       "      <td>CHEMBL215936</td>\n",
       "      <td>S(=O)(=O)(N)c1ccc(cc1)CCNC(=O)CCSSCCC(=O)NCCc1ccc(S(=O)(=O)N)cc1</td>\n",
       "      <td>1</td>\n",
       "      <td>False</td>\n",
       "      <td>CHEMBL215936.png</td>\n",
       "    </tr>\n",
       "    <tr>\n",
       "      <th>2</th>\n",
       "      <td>CHEMBL570257</td>\n",
       "      <td>S(=O)(=O)(N)c1cc(N=Nc2ccc(NCS(=O)(=O)[O-])cc2)ccc1</td>\n",
       "      <td>1</td>\n",
       "      <td>False</td>\n",
       "      <td>CHEMBL570257.png</td>\n",
       "    </tr>\n",
       "    <tr>\n",
       "      <th>3</th>\n",
       "      <td>CHEMBL1672445</td>\n",
       "      <td>S(=O)(=O)(N)c1ccc(NC2OC(C)C(O)C(O)C2O)cc1</td>\n",
       "      <td>1</td>\n",
       "      <td>False</td>\n",
       "      <td>CHEMBL1672445.png</td>\n",
       "    </tr>\n",
       "    <tr>\n",
       "      <th>4</th>\n",
       "      <td>CHEMBL467098</td>\n",
       "      <td>s1c(nnc1S(=O)(=O)N)NC(=O)c1nn(c(-c2ccccc2)c1C(OCC)=O)-c1cc(N)ccc1</td>\n",
       "      <td>1</td>\n",
       "      <td>False</td>\n",
       "      <td>CHEMBL467098.png</td>\n",
       "    </tr>\n",
       "  </tbody>\n",
       "</table>\n",
       "</div>"
      ],
      "text/plain": [
       "             CID  \\\n",
       "0  CHEMBL3092937   \n",
       "1   CHEMBL215936   \n",
       "2   CHEMBL570257   \n",
       "3  CHEMBL1672445   \n",
       "4   CHEMBL467098   \n",
       "\n",
       "                                                                        SMILES  \\\n",
       "0  S(=O)(=O)(N)c1cc(ccc1)-c1nnn(c1)C1OC(COC(=O)C)C(OC(=O)C)C(OC(=O)C)C1OC(=O)C   \n",
       "1             S(=O)(=O)(N)c1ccc(cc1)CCNC(=O)CCSSCCC(=O)NCCc1ccc(S(=O)(=O)N)cc1   \n",
       "2                           S(=O)(=O)(N)c1cc(N=Nc2ccc(NCS(=O)(=O)[O-])cc2)ccc1   \n",
       "3                                    S(=O)(=O)(N)c1ccc(NC2OC(C)C(O)C(O)C2O)cc1   \n",
       "4            s1c(nnc1S(=O)(=O)N)NC(=O)c1nn(c(-c2ccccc2)c1C(OCC)=O)-c1cc(N)ccc1   \n",
       "\n",
       "   Activity  is_valid              Image  \n",
       "0         1     False  CHEMBL3092937.png  \n",
       "1         1     False   CHEMBL215936.png  \n",
       "2         1     False   CHEMBL570257.png  \n",
       "3         1     False  CHEMBL1672445.png  \n",
       "4         1     False   CHEMBL467098.png  "
      ]
     },
     "execution_count": 20,
     "metadata": {},
     "output_type": "execute_result"
    }
   ],
   "source": [
    "df = get_df(dataset, oversample=True)\n",
    "df.head()"
   ]
  },
  {
   "cell_type": "code",
   "execution_count": 24,
   "id": "15e4dec4",
   "metadata": {},
   "outputs": [],
   "source": [
    "df_test = get_df(dataset, oversample=False, test=True)"
   ]
  },
  {
   "cell_type": "code",
   "execution_count": 25,
   "id": "05d66a63",
   "metadata": {},
   "outputs": [
    {
     "data": {
      "text/plain": [
       "Path('../dataset/13321_2017_226_MOESM1_ESM/mol_images/CHEMBL205')"
      ]
     },
     "execution_count": 25,
     "metadata": {},
     "output_type": "execute_result"
    }
   ],
   "source": [
    "IMAGES = DATA/f'{dataset}'\n",
    "IMAGES"
   ]
  },
  {
   "cell_type": "code",
   "execution_count": 27,
   "id": "2f8b4df2",
   "metadata": {},
   "outputs": [],
   "source": [
    "def get_dls(dataset, bs=64, clustering=False, random_state=42, oversample=False, test=False):\n",
    "    IMAGES = DATA/f'{dataset}'\n",
    "    if clustering:\n",
    "        df = get_df_with_clusters(dataset, n_clusters=100)\n",
    "    else: \n",
    "        df = get_df(dataset, oversample=oversample, test=test)\n",
    "    if test:\n",
    "        db = DataBlock(\n",
    "        blocks = (ImageBlock(), CategoryBlock()), \n",
    "        get_x=ColReader('Image', pref=IMAGES),\n",
    "        get_y=ColReader('Activity'), \n",
    "        splitter=IndexSplitter([]),\n",
    "        item_tfms=None, \n",
    "        batch_tfms=None,\n",
    "        )\n",
    "        dls = db.dataloaders(df, bs=16, shuffle_train=False, random_state=42, num_workers=0)\n",
    "    else:\n",
    "        db = DataBlock(\n",
    "            blocks = (ImageBlock(), CategoryBlock()), \n",
    "            get_x=ColReader('Image', pref=IMAGES),\n",
    "            get_y=ColReader('Activity'), \n",
    "            splitter=ColSplitter('is_valid'),\n",
    "            item_tfms=None, \n",
    "            batch_tfms=None,\n",
    "            )\n",
    "        dls = db.dataloaders(df, bs=bs, shuffle_train=True, random_state=42, num_workers=0)\n",
    "    return dls, df"
   ]
  },
  {
   "cell_type": "code",
   "execution_count": 28,
   "id": "0a53af05",
   "metadata": {},
   "outputs": [],
   "source": [
    "dls, df = get_dls(dataset, bs=32, clustering=False, oversample=True)"
   ]
  },
  {
   "cell_type": "code",
   "execution_count": 29,
   "id": "28d073f7",
   "metadata": {
    "scrolled": true
   },
   "outputs": [
    {
     "data": {
      "image/png": "[encoded data removed]",
      "text/plain": [
       "<Figure size 648x648 with 9 Axes>"
      ]
     },
     "metadata": {
      "needs_background": "light"
     },
     "output_type": "display_data"
    }
   ],
   "source": [
    "dls.show_batch()"
   ]
  },
  {
   "cell_type": "code",
   "execution_count": 30,
   "id": "56dfbfac",
   "metadata": {},
   "outputs": [
    {
     "data": {
      "image/png": "[encoded data removed]",
      "text/plain": [
       "<Figure size 648x648 with 9 Axes>"
      ]
     },
     "metadata": {
      "needs_background": "light"
     },
     "output_type": "display_data"
    }
   ],
   "source": [
    "dls.show_batch(unique=True)"
   ]
  },
  {
   "cell_type": "code",
   "execution_count": 31,
   "id": "c3cc6bcd",
   "metadata": {},
   "outputs": [],
   "source": [
    "test_dls, test_df = get_dls(dataset, clustering=False, test=True)"
   ]
  },
  {
   "cell_type": "code",
   "execution_count": 32,
   "id": "8535f2be",
   "metadata": {},
   "outputs": [
    {
     "data": {
      "image/png": "[encoded data removed]",
      "text/plain": [
       "<Figure size 648x648 with 9 Axes>"
      ]
     },
     "metadata": {
      "needs_background": "light"
     },
     "output_type": "display_data"
    }
   ],
   "source": [
    "test_dls.show_batch()"
   ]
  },
  {
   "cell_type": "code",
   "execution_count": null,
   "id": "aaad24b4",
   "metadata": {},
   "outputs": [],
   "source": []
  },
  {
   "cell_type": "markdown",
   "id": "209d745b",
   "metadata": {},
   "source": [
    "# Train a cnn model in pytorch"
   ]
  },
  {
   "cell_type": "code",
   "execution_count": 33,
   "id": "1789bea0",
   "metadata": {},
   "outputs": [],
   "source": [
    "# importing the libraries\n",
    "import pandas as pd\n",
    "import numpy as np\n",
    "\n",
    "# for reading and displaying images\n",
    "from skimage.io import imread\n",
    "import matplotlib.pyplot as plt\n",
    "%matplotlib inline\n",
    "\n",
    "# for creating validation set\n",
    "from sklearn.model_selection import train_test_split\n",
    "\n",
    "# for evaluating the model\n",
    "from sklearn.metrics import accuracy_score\n",
    "from tqdm import tqdm\n",
    "\n",
    "# PyTorch libraries and modules\n",
    "import torch\n",
    "from torch.autograd import Variable\n",
    "from torch.nn import Linear, ReLU, CrossEntropyLoss, Sequential, Conv2d, MaxPool2d, Module, Softmax, BatchNorm2d, Dropout\n",
    "from torch.optim import Adam, SGD"
   ]
  },
  {
   "cell_type": "code",
   "execution_count": 34,
   "id": "79de22ce",
   "metadata": {},
   "outputs": [
    {
     "data": {
      "text/plain": [
       "<AxesSubplot:>"
      ]
     },
     "execution_count": 34,
     "metadata": {},
     "output_type": "execute_result"
    },
    {
     "data": {
      "image/png": "[encoded data removed]",
      "text/plain": [
       "<Figure size 360x360 with 1 Axes>"
      ]
     },
     "metadata": {
      "needs_background": "light"
     },
     "output_type": "display_data"
    }
   ],
   "source": [
    "train_x, y = dls.one_batch()\n",
    "show_image(train_x[0])"
   ]
  },
  {
   "cell_type": "code",
   "execution_count": 35,
   "id": "f9a71003",
   "metadata": {},
   "outputs": [],
   "source": [
    "import torchvision.models as models\n",
    "from torchsummary import summary\n",
    "import torch.optim as optim\n",
    "from torchvision import datasets, models, transforms\n",
    "from torch.optim import lr_scheduler\n",
    "import copy"
   ]
  },
  {
   "cell_type": "code",
   "execution_count": 36,
   "id": "3a95c16b",
   "metadata": {},
   "outputs": [],
   "source": [
    "from sklearn.metrics import auc,roc_auc_score,recall_score,precision_score,f1_score\n",
    "from sklearn.metrics import matthews_corrcoef\n",
    "from sklearn.metrics import accuracy_score\n",
    "from sklearn.metrics import confusion_matrix\n",
    "import seaborn as sns"
   ]
  },
  {
   "cell_type": "code",
   "execution_count": 37,
   "id": "441f771d",
   "metadata": {},
   "outputs": [],
   "source": [
    "def train_model(model, criterion, optimizer, scheduler, num_epochs=25):\n",
    "    since = time.time()\n",
    "\n",
    "    best_model_wts = copy.deepcopy(model.state_dict())\n",
    "    best_acc = 0.0\n",
    "    \n",
    "    history = []\n",
    "\n",
    "    for epoch in range(num_epochs):\n",
    "        print('Epoch {}/{}'.format(epoch, num_epochs - 1))\n",
    "        print('-' * 10)\n",
    "        result = {}\n",
    "        # Each epoch has a training and validation phase\n",
    "        for phase in ['train', 'val']:\n",
    "            if phase == 'train':\n",
    "                model.train()  # Set model to training mode\n",
    "            else:\n",
    "                model.eval()   # Set model to evaluate mode\n",
    "\n",
    "            running_loss = 0.0\n",
    "            running_corrects = 0\n",
    "            p = 0.0\n",
    "            all_preds = torch.Tensor().to(device)\n",
    "            all_labels = torch.Tensor().to(device)\n",
    "            \n",
    "            if phase == 'train':\n",
    "                dataloaders = dls.train\n",
    "            else:\n",
    "                dataloaders = dls.valid\n",
    "            # Iterate over data.\n",
    "            for inputs, labels in dataloaders:\n",
    "                inputs = inputs.to(device)\n",
    "                labels = labels.to(device)\n",
    "\n",
    "                # zero the parameter gradients\n",
    "                optimizer.zero_grad()\n",
    "\n",
    "                # forward\n",
    "                # track history if only in train\n",
    "                with torch.set_grad_enabled(phase == 'train'):\n",
    "                    outputs = model(inputs)\n",
    "                    _, preds = torch.max(outputs, 1)\n",
    "                    loss = criterion(outputs, labels)\n",
    "                    \n",
    "                    all_preds = torch.cat([all_preds, preds])\n",
    "                    all_labels = torch.cat([all_labels, labels])\n",
    "\n",
    "                    # backward + optimize only if in training phase\n",
    "                    if phase == 'train':\n",
    "                        loss.backward()\n",
    "                        optimizer.step()\n",
    "\n",
    "                # statistics\n",
    "                running_loss += loss.item() * inputs.size(0)\n",
    "                running_corrects += torch.sum(preds == labels.data)\n",
    "                \n",
    "            if phase == 'train':\n",
    "                scheduler.step()\n",
    "\n",
    "            epoch_loss = running_loss / len(dataloaders.dataset) \n",
    "            result[f'{phase}_loss'] = epoch_loss\n",
    "            epoch_acc = running_corrects.double() / len(dataloaders.dataset)\n",
    "            result[f'{phase}_acc'] = epoch_acc\n",
    "            if phase == 'val':\n",
    "                precision = precision_score(all_labels.cpu(), all_preds.cpu())\n",
    "                recall = recall_score(all_labels.cpu(), all_preds.cpu())\n",
    "                f_score = f1_score(all_labels.cpu(), all_preds.cpu())\n",
    "                #auc_score = auc(all_labels.cpu(), all_preds.cpu())\n",
    "                roc_auc = roc_auc_score(all_labels.cpu(), all_preds.cpu())\n",
    "                result[f'{phase}_precision'] = precision\n",
    "                result[f'{phase}_recall'] = recall\n",
    "                result[f'{phase}_f1_score'] = f_score\n",
    "                #result[f'{phase}_auc'] = auc_score\n",
    "                result[f'{phase}_roc_auc'] = roc_auc\n",
    "                print('{} Loss: {:.4f} Acc: {:.4f} Precision: {:.4f} Recall: {:.4f} F1 score: {:.4f} ROC AUC: {:.4f}'\n",
    "                      .format(phase, epoch_loss, epoch_acc, precision, recall, f_score, roc_auc))\n",
    "            else:\n",
    "                print('{} Loss: {:.4f} Acc: {:.4f}'.format(phase, epoch_loss, epoch_acc))\n",
    "\n",
    "            # deep copy the model\n",
    "            if phase == 'val' and epoch_acc > best_acc:\n",
    "                best_acc = epoch_acc\n",
    "                best_model_wts = copy.deepcopy(model.state_dict())\n",
    "                \n",
    "        history.append(result)\n",
    "        print()\n",
    "\n",
    "    time_elapsed = time.time() - since\n",
    "    print('Training complete in {:.0f}m {:.0f}s'.format(\n",
    "        time_elapsed // 60, time_elapsed % 60))\n",
    "    print('Best val Acc: {:4f}'.format(best_acc))\n",
    "\n",
    "    # load best model weights\n",
    "    model.load_state_dict(best_model_wts)\n",
    "    return model, history"
   ]
  },
  {
   "cell_type": "code",
   "execution_count": 38,
   "id": "f0156013",
   "metadata": {},
   "outputs": [],
   "source": [
    "def show_confusion_matrix(model, dl):\n",
    "    \n",
    "    out = torch.Tensor().to(device)\n",
    "    labels = torch.Tensor().to(device)\n",
    "    for inputs, y in dl:\n",
    "        inputs = inputs.to(device)\n",
    "        y = y.to(device)\n",
    "        labels = torch.cat([labels, y])\n",
    "        preds = model(inputs)\n",
    "        pred = preds.argmax(axis=1)\n",
    "        out = torch.cat([out, pred])\n",
    "    out = out.cpu()\n",
    "    labels = labels.cpu()\n",
    "    cm = confusion_matrix(labels, out)\n",
    "    f = sns.heatmap(cm, annot=True, fmt='d')\n",
    "    plt.show()\n",
    "    return f"
   ]
  },
  {
   "cell_type": "code",
   "execution_count": 39,
   "id": "f2e38ae9",
   "metadata": {},
   "outputs": [],
   "source": [
    "def show_confusion_matrix_cost(model, dl, cost=[0.5,0.5]):\n",
    "    \n",
    "    out = torch.Tensor().to(device)\n",
    "    labels = torch.Tensor().to(device)\n",
    "    for inputs, y in dl:\n",
    "        inputs = inputs.to(device)\n",
    "        y = y.to(device)\n",
    "        labels = torch.cat([labels, y])\n",
    "        preds = model(inputs)\n",
    "        preds = torch.sigmoid(preds)\n",
    "        costs = torch.Tensor(cost).to(device)\n",
    "        preds = preds * costs\n",
    "        pred = preds.argmax(axis=1)\n",
    "        out = torch.cat([out, pred])\n",
    "    out = out.cpu()\n",
    "    labels = labels.cpu()\n",
    "    cm = confusion_matrix(labels, out)\n",
    "    f = sns.heatmap(cm, annot=True, fmt='d')\n",
    "    plt.show()\n",
    "    return f"
   ]
  },
  {
   "cell_type": "code",
   "execution_count": 40,
   "id": "6c61570a",
   "metadata": {},
   "outputs": [],
   "source": [
    "def plot_accuracies(history):\n",
    "    \"\"\" Plot the history of accuracies\"\"\"\n",
    "    accuracies = [x['val_acc'].cpu() for x in history]\n",
    "    plt.plot(accuracies, '-x')\n",
    "    plt.xlabel('epoch')\n",
    "    plt.ylabel('accuracy')\n",
    "    plt.title('Accuracy vs. No. of epochs');\n",
    "    \n",
    "\n",
    "#plot_accuracies(history)\n",
    "\n",
    "def plot_losses(history):\n",
    "    \"\"\" Plot the losses in each epoch\"\"\"\n",
    "    train_losses = [x['train_loss'] for x in history]\n",
    "    val_losses = [x['val_loss'] for x in history]\n",
    "    train_losses\n",
    "    plt.plot(train_losses, '-bx')\n",
    "    plt.plot(val_losses, '-rx')\n",
    "    plt.xlabel('epoch')\n",
    "    plt.ylabel('loss')\n",
    "    plt.legend(['Training', 'Validation'])\n",
    "    plt.title('Loss vs. No. of epochs');\n",
    "\n",
    "#plot_losses(history)"
   ]
  },
  {
   "cell_type": "code",
   "execution_count": 41,
   "id": "86dca1ed",
   "metadata": {},
   "outputs": [],
   "source": [
    "def get_loss_func(df):\n",
    "    TARGET = 'Activity'\n",
    "    class_count_df = df.groupby(TARGET).count()\n",
    "    n_0, n_1 = class_count_df.iloc[0, 0], class_count_df.iloc[1, 0]\n",
    "    w_0 = (n_0 + n_1) / (2.0 * n_0)\n",
    "    w_1 = (n_0 + n_1) / (2.0 * n_1)\n",
    "    class_weights=torch.FloatTensor([w_0, w_1]).cuda()\n",
    "    loss_func = CrossEntropyLossFlat(weight=class_weights)\n",
    "    return loss_func"
   ]
  },
  {
   "cell_type": "code",
   "execution_count": 42,
   "id": "e1de54b6",
   "metadata": {},
   "outputs": [],
   "source": [
    "model_ft = models.resnet18(pretrained=True)\n",
    "num_ftrs = model_ft.fc.in_features\n",
    "# Here the size of each output sample is set to 2.\n",
    "# Alternatively, it can be generalized to nn.Linear(num_ftrs, len(class_names)).\n",
    "model_ft.fc = nn.Linear(num_ftrs, 2)\n",
    "\n",
    "model_ft = model_ft.cuda()\n",
    "\n",
    "criterion = CrossEntropyLossFlat()\n",
    "\n",
    "# Observe that all parameters are being optimized\n",
    "optimizer_ft = optim.SGD(model_ft.parameters(), lr=0.0001, momentum=0.9)\n",
    "\n",
    "# Decay LR by a factor of 0.1 every 7 epochs\n",
    "exp_lr_scheduler = lr_scheduler.StepLR(optimizer_ft, step_size=3, gamma=0.1)"
   ]
  },
  {
   "cell_type": "code",
   "execution_count": 43,
   "id": "aa9620a0",
   "metadata": {},
   "outputs": [],
   "source": [
    "def set_parameter_requires_grad(model, feature_extracting):\n",
    "    if feature_extracting:\n",
    "        for param in model.parameters():\n",
    "            param.requires_grad = False"
   ]
  },
  {
   "cell_type": "code",
   "execution_count": 44,
   "id": "63bc1aed",
   "metadata": {},
   "outputs": [],
   "source": [
    "def create_model(feature_extract = False):\n",
    "    model_ft = models.resnet18(pretrained=True)\n",
    "    \n",
    "    set_parameter_requires_grad(model_ft, feature_extract)\n",
    "    \n",
    "    num_ftrs = model_ft.fc.in_features\n",
    "\n",
    "    # Here the size of each output sample is set to 2.\n",
    "    # Alternatively, it can be generalized to nn.Linear(num_ftrs, len(class_names)).\n",
    "    model_ft.fc = nn.Linear(num_ftrs, 2)\n",
    "\n",
    "    model_ft = model_ft.cuda()\n",
    "    \n",
    "    return model_ft"
   ]
  },
  {
   "cell_type": "code",
   "execution_count": 45,
   "id": "bbf68efa",
   "metadata": {},
   "outputs": [
    {
     "data": {
      "text/plain": [
       "device(type='cuda', index=0)"
      ]
     },
     "execution_count": 45,
     "metadata": {},
     "output_type": "execute_result"
    }
   ],
   "source": [
    "device = torch.device(\"cuda:0\" if torch.cuda.is_available() else \"cpu\")\n",
    "device"
   ]
  },
  {
   "cell_type": "code",
   "execution_count": 56,
   "id": "ac99b019",
   "metadata": {},
   "outputs": [
    {
     "name": "stdout",
     "output_type": "stream",
     "text": [
      "Epoch 0/29\n",
      "----------\n",
      "train Loss: 0.1097 Acc: 0.9697\n",
      "val Loss: 0.1556 Acc: 0.9484 Precision: 0.6616 Recall: 0.8878 F1 score: 0.7582 ROC AUC: 0.9211\n",
      "\n",
      "Epoch 1/29\n",
      "----------\n",
      "train Loss: 0.1089 Acc: 0.9697\n",
      "val Loss: 0.1535 Acc: 0.9494 Precision: 0.6667 Recall: 0.8878 F1 score: 0.7615 ROC AUC: 0.9216\n",
      "\n",
      "Epoch 2/29\n",
      "----------\n",
      "train Loss: 0.1103 Acc: 0.9708\n",
      "val Loss: 0.1597 Acc: 0.9466 Precision: 0.6506 Recall: 0.8929 F1 score: 0.7527 ROC AUC: 0.9224\n",
      "\n",
      "Epoch 3/29\n",
      "----------\n",
      "train Loss: 0.1106 Acc: 0.9707\n",
      "val Loss: 0.1408 Acc: 0.9559 Precision: 0.7078 Recall: 0.8776 F1 score: 0.7836 ROC AUC: 0.9206\n",
      "\n",
      "Epoch 4/29\n",
      "----------\n",
      "train Loss: 0.1113 Acc: 0.9683\n",
      "val Loss: 0.1495 Acc: 0.9536 Precision: 0.6920 Recall: 0.8827 F1 score: 0.7758 ROC AUC: 0.9217\n",
      "\n",
      "Epoch 5/29\n",
      "----------\n",
      "train Loss: 0.1089 Acc: 0.9704\n",
      "val Loss: 0.1497 Acc: 0.9517 Precision: 0.6797 Recall: 0.8878 F1 score: 0.7699 ROC AUC: 0.9229\n",
      "\n",
      "Epoch 6/29\n",
      "----------\n",
      "train Loss: 0.1101 Acc: 0.9688\n",
      "val Loss: 0.1481 Acc: 0.9526 Precision: 0.6865 Recall: 0.8827 F1 score: 0.7723 ROC AUC: 0.9211\n",
      "\n",
      "Epoch 7/29\n",
      "----------\n",
      "train Loss: 0.1096 Acc: 0.9711\n",
      "val Loss: 0.1511 Acc: 0.9517 Precision: 0.6797 Recall: 0.8878 F1 score: 0.7699 ROC AUC: 0.9229\n",
      "\n",
      "Epoch 8/29\n",
      "----------\n",
      "train Loss: 0.1135 Acc: 0.9685\n",
      "val Loss: 0.1406 Acc: 0.9559 Precision: 0.7078 Recall: 0.8776 F1 score: 0.7836 ROC AUC: 0.9206\n",
      "\n",
      "Epoch 9/29\n",
      "----------\n",
      "train Loss: 0.1117 Acc: 0.9691\n",
      "val Loss: 0.1419 Acc: 0.9559 Precision: 0.7078 Recall: 0.8776 F1 score: 0.7836 ROC AUC: 0.9206\n",
      "\n",
      "Epoch 10/29\n",
      "----------\n",
      "train Loss: 0.1111 Acc: 0.9713\n",
      "val Loss: 0.1510 Acc: 0.9522 Precision: 0.6824 Recall: 0.8878 F1 score: 0.7716 ROC AUC: 0.9232\n",
      "\n",
      "Epoch 11/29\n",
      "----------\n",
      "train Loss: 0.1093 Acc: 0.9707\n",
      "val Loss: 0.1563 Acc: 0.9471 Precision: 0.6541 Recall: 0.8878 F1 score: 0.7532 ROC AUC: 0.9204\n",
      "\n",
      "Epoch 12/29\n",
      "----------\n",
      "train Loss: 0.1126 Acc: 0.9697\n",
      "val Loss: 0.1597 Acc: 0.9471 Precision: 0.6530 Recall: 0.8929 F1 score: 0.7543 ROC AUC: 0.9227\n",
      "\n",
      "Epoch 13/29\n",
      "----------\n",
      "train Loss: 0.1125 Acc: 0.9699\n",
      "val Loss: 0.1428 Acc: 0.9545 Precision: 0.6992 Recall: 0.8776 F1 score: 0.7783 ROC AUC: 0.9199\n",
      "\n",
      "Epoch 14/29\n",
      "----------\n",
      "train Loss: 0.1132 Acc: 0.9688\n",
      "val Loss: 0.1384 Acc: 0.9568 Precision: 0.7137 Recall: 0.8776 F1 score: 0.7872 ROC AUC: 0.9211\n",
      "\n",
      "Epoch 15/29\n",
      "----------\n",
      "train Loss: 0.1108 Acc: 0.9699\n",
      "val Loss: 0.1603 Acc: 0.9471 Precision: 0.6530 Recall: 0.8929 F1 score: 0.7543 ROC AUC: 0.9227\n",
      "\n",
      "Epoch 16/29\n",
      "----------\n",
      "train Loss: 0.1116 Acc: 0.9688\n",
      "val Loss: 0.1337 Acc: 0.9587 Precision: 0.7277 Recall: 0.8724 F1 score: 0.7935 ROC AUC: 0.9199\n",
      "\n",
      "Epoch 17/29\n",
      "----------\n",
      "train Loss: 0.1124 Acc: 0.9686\n",
      "val Loss: 0.1398 Acc: 0.9563 Precision: 0.7107 Recall: 0.8776 F1 score: 0.7854 ROC AUC: 0.9209\n",
      "\n",
      "Epoch 18/29\n",
      "----------\n",
      "train Loss: 0.1126 Acc: 0.9685\n",
      "val Loss: 0.1472 Acc: 0.9531 Precision: 0.6877 Recall: 0.8878 F1 score: 0.7751 ROC AUC: 0.9237\n",
      "\n",
      "Epoch 19/29\n",
      "----------\n",
      "train Loss: 0.1109 Acc: 0.9697\n",
      "val Loss: 0.1583 Acc: 0.9475 Precision: 0.6554 Recall: 0.8929 F1 score: 0.7559 ROC AUC: 0.9229\n",
      "\n",
      "Epoch 20/29\n",
      "----------\n",
      "train Loss: 0.1108 Acc: 0.9718\n",
      "val Loss: 0.1609 Acc: 0.9471 Precision: 0.6530 Recall: 0.8929 F1 score: 0.7543 ROC AUC: 0.9227\n",
      "\n",
      "Epoch 21/29\n",
      "----------\n",
      "train Loss: 0.1105 Acc: 0.9713\n",
      "val Loss: 0.1669 Acc: 0.9457 Precision: 0.6447 Recall: 0.8980 F1 score: 0.7505 ROC AUC: 0.9242\n",
      "\n",
      "Epoch 22/29\n",
      "----------\n",
      "train Loss: 0.1102 Acc: 0.9699\n",
      "val Loss: 0.1356 Acc: 0.9568 Precision: 0.7155 Recall: 0.8724 F1 score: 0.7862 ROC AUC: 0.9189\n",
      "\n",
      "Epoch 23/29\n",
      "----------\n",
      "train Loss: 0.1093 Acc: 0.9711\n",
      "val Loss: 0.1518 Acc: 0.9503 Precision: 0.6732 Recall: 0.8827 F1 score: 0.7638 ROC AUC: 0.9199\n",
      "\n",
      "Epoch 24/29\n",
      "----------\n",
      "train Loss: 0.1108 Acc: 0.9718\n",
      "val Loss: 0.1479 Acc: 0.9531 Precision: 0.6892 Recall: 0.8827 F1 score: 0.7740 ROC AUC: 0.9214\n",
      "\n",
      "Epoch 25/29\n",
      "----------\n",
      "train Loss: 0.1098 Acc: 0.9712\n",
      "val Loss: 0.1534 Acc: 0.9503 Precision: 0.6705 Recall: 0.8929 F1 score: 0.7659 ROC AUC: 0.9245\n",
      "\n",
      "Epoch 26/29\n",
      "----------\n",
      "train Loss: 0.1096 Acc: 0.9693\n",
      "val Loss: 0.1583 Acc: 0.9489 Precision: 0.6617 Recall: 0.8980 F1 score: 0.7619 ROC AUC: 0.9260\n",
      "\n",
      "Epoch 27/29\n",
      "----------\n",
      "train Loss: 0.1102 Acc: 0.9699\n",
      "val Loss: 0.1383 Acc: 0.9563 Precision: 0.7125 Recall: 0.8724 F1 score: 0.7844 ROC AUC: 0.9186\n",
      "\n",
      "Epoch 28/29\n",
      "----------\n",
      "train Loss: 0.1111 Acc: 0.9709\n",
      "val Loss: 0.1375 Acc: 0.9563 Precision: 0.7125 Recall: 0.8724 F1 score: 0.7844 ROC AUC: 0.9186\n",
      "\n",
      "Epoch 29/29\n",
      "----------\n",
      "train Loss: 0.1107 Acc: 0.9698\n",
      "val Loss: 0.1549 Acc: 0.9480 Precision: 0.6591 Recall: 0.8878 F1 score: 0.7565 ROC AUC: 0.9209\n",
      "\n",
      "Training complete in 26m 38s\n",
      "Best val Acc: 0.958662\n"
     ]
    }
   ],
   "source": [
    "model, history = train_model(model_ft, criterion, optimizer_ft, exp_lr_scheduler,\n",
    "                       num_epochs=30)"
   ]
  },
  {
   "cell_type": "code",
   "execution_count": 48,
   "id": "f33e7148",
   "metadata": {},
   "outputs": [
    {
     "data": {
      "text/html": [
       "<div>\n",
       "<style scoped>\n",
       "    .dataframe tbody tr th:only-of-type {\n",
       "        vertical-align: middle;\n",
       "    }\n",
       "\n",
       "    .dataframe tbody tr th {\n",
       "        vertical-align: top;\n",
       "    }\n",
       "\n",
       "    .dataframe thead th {\n",
       "        text-align: right;\n",
       "    }\n",
       "</style>\n",
       "<table border=\"1\" class=\"dataframe\">\n",
       "  <thead>\n",
       "    <tr style=\"text-align: right;\">\n",
       "      <th></th>\n",
       "      <th>CID</th>\n",
       "      <th>SMILES</th>\n",
       "      <th>Activity</th>\n",
       "      <th>Image</th>\n",
       "    </tr>\n",
       "  </thead>\n",
       "  <tbody>\n",
       "    <tr>\n",
       "      <th>0</th>\n",
       "      <td>CHEMBL1272094</td>\n",
       "      <td>S(=O)(=O)(C)c1cc2[nH]c(nc2cc1)-c1ncc(cc1)-c1ccccc1F</td>\n",
       "      <td>0</td>\n",
       "      <td>CHEMBL1272094.png</td>\n",
       "    </tr>\n",
       "    <tr>\n",
       "      <th>1</th>\n",
       "      <td>CHEMBL1929412</td>\n",
       "      <td>[NH+]1(CCCCC1)Cc1ccc(NCc2nc3c(nc2N)cccc3)cc1</td>\n",
       "      <td>0</td>\n",
       "      <td>CHEMBL1929412.png</td>\n",
       "    </tr>\n",
       "    <tr>\n",
       "      <th>2</th>\n",
       "      <td>CHEMBL3104775</td>\n",
       "      <td>FC(F)(F)c1cc(cc(c1)C(F)(F)F)C(C(=O)NC(C(=O)NCC[NH3+])c1ccccc1)(C)C</td>\n",
       "      <td>0</td>\n",
       "      <td>CHEMBL3104775.png</td>\n",
       "    </tr>\n",
       "    <tr>\n",
       "      <th>3</th>\n",
       "      <td>CHEMBL1774231</td>\n",
       "      <td>FC(F)(F)c1cc(OC)c(cc1)C1CC[NH+](CC1C)Cc1nc2ncccc2n1C</td>\n",
       "      <td>0</td>\n",
       "      <td>CHEMBL1774231.png</td>\n",
       "    </tr>\n",
       "    <tr>\n",
       "      <th>4</th>\n",
       "      <td>CHEMBL426803</td>\n",
       "      <td>S(=O)(=O)(N)c1ccc(N/C(/S)=N/C(CC(C)C)C(OCC(=O)NC)=O)cc1</td>\n",
       "      <td>1</td>\n",
       "      <td>CHEMBL426803.png</td>\n",
       "    </tr>\n",
       "  </tbody>\n",
       "</table>\n",
       "</div>"
      ],
      "text/plain": [
       "             CID  \\\n",
       "0  CHEMBL1272094   \n",
       "1  CHEMBL1929412   \n",
       "2  CHEMBL3104775   \n",
       "3  CHEMBL1774231   \n",
       "4   CHEMBL426803   \n",
       "\n",
       "                                                               SMILES  \\\n",
       "0                 S(=O)(=O)(C)c1cc2[nH]c(nc2cc1)-c1ncc(cc1)-c1ccccc1F   \n",
       "1                        [NH+]1(CCCCC1)Cc1ccc(NCc2nc3c(nc2N)cccc3)cc1   \n",
       "2  FC(F)(F)c1cc(cc(c1)C(F)(F)F)C(C(=O)NC(C(=O)NCC[NH3+])c1ccccc1)(C)C   \n",
       "3                FC(F)(F)c1cc(OC)c(cc1)C1CC[NH+](CC1C)Cc1nc2ncccc2n1C   \n",
       "4             S(=O)(=O)(N)c1ccc(N/C(/S)=N/C(CC(C)C)C(OCC(=O)NC)=O)cc1   \n",
       "\n",
       "   Activity              Image  \n",
       "0         0  CHEMBL1272094.png  \n",
       "1         0  CHEMBL1929412.png  \n",
       "2         0  CHEMBL3104775.png  \n",
       "3         0  CHEMBL1774231.png  \n",
       "4         1   CHEMBL426803.png  "
      ]
     },
     "execution_count": 48,
     "metadata": {},
     "output_type": "execute_result"
    }
   ],
   "source": [
    "df_test.head()"
   ]
  },
  {
   "cell_type": "code",
   "execution_count": 57,
   "id": "3a9fc7e4",
   "metadata": {
    "scrolled": true
   },
   "outputs": [
    {
     "data": {
      "image/png": "[encoded data removed]",
      "text/plain": [
       "<Figure size 432x288 with 2 Axes>"
      ]
     },
     "metadata": {
      "needs_background": "light"
     },
     "output_type": "display_data"
    },
    {
     "data": {
      "text/plain": [
       "<AxesSubplot:>"
      ]
     },
     "execution_count": 57,
     "metadata": {},
     "output_type": "execute_result"
    }
   ],
   "source": [
    "show_confusion_matrix(model, test_dls.train)"
   ]
  },
  {
   "cell_type": "code",
   "execution_count": null,
   "id": "8fd0c9fb",
   "metadata": {},
   "outputs": [],
   "source": [
    "model, history = train_model(model_ft, criterion, optimizer_ft, exp_lr_scheduler,\n",
    "                       num_epochs=20)"
   ]
  },
  {
   "cell_type": "code",
   "execution_count": 51,
   "id": "de00a5c9",
   "metadata": {},
   "outputs": [
    {
     "data": {
      "image/png": "[encoded data removed]",
      "text/plain": [
       "<Figure size 432x288 with 2 Axes>"
      ]
     },
     "metadata": {
      "needs_background": "light"
     },
     "output_type": "display_data"
    },
    {
     "data": {
      "text/plain": [
       "<AxesSubplot:>"
      ]
     },
     "execution_count": 51,
     "metadata": {},
     "output_type": "execute_result"
    }
   ],
   "source": [
    "show_confusion_matrix(model, dls.valid)"
   ]
  },
  {
   "cell_type": "code",
   "execution_count": 42,
   "id": "2bef6293",
   "metadata": {
    "scrolled": false
   },
   "outputs": [
    {
     "data": {
      "image/png": "[encoded data removed]",
      "text/plain": [
       "<Figure size 432x288 with 2 Axes>"
      ]
     },
     "metadata": {
      "needs_background": "light"
     },
     "output_type": "display_data"
    },
    {
     "data": {
      "text/plain": [
       "<AxesSubplot:>"
      ]
     },
     "execution_count": 42,
     "metadata": {},
     "output_type": "execute_result"
    }
   ],
   "source": [
    "show_confusion_matrix_cost(model, dls.valid, cost=[1, 1.25])"
   ]
  },
  {
   "cell_type": "code",
   "execution_count": 58,
   "id": "ad834078",
   "metadata": {},
   "outputs": [],
   "source": [
    "torch.save(model, f'models/{dataset}_py.pkl')"
   ]
  },
  {
   "cell_type": "markdown",
   "id": "37c532f0",
   "metadata": {},
   "source": [
    "# Create output files for sigmoid and softmax output"
   ]
  },
  {
   "cell_type": "code",
   "execution_count": 50,
   "id": "5b9dbebb",
   "metadata": {},
   "outputs": [],
   "source": [
    "def get_sigmoid_output(model, dl):\n",
    "    sigmoids = pd.DataFrame()\n",
    "    for inputs, y in dl:\n",
    "        s = pd.DataFrame([])\n",
    "        s['class'] = y.cpu().detach().numpy()\n",
    "        preds = model(inputs)\n",
    "        preds = torch.sigmoid(preds)\n",
    "        s['sigmoid_output'] = list(preds.cpu().detach().numpy())\n",
    "        sigmoids = pd.concat([sigmoids, s], ignore_index=True)\n",
    "    return sigmoids"
   ]
  },
  {
   "cell_type": "code",
   "execution_count": 51,
   "id": "7b3b0177",
   "metadata": {},
   "outputs": [],
   "source": [
    "def get_softmax_output(model, dl):\n",
    "    softmax = pd.DataFrame()\n",
    "    for inputs, y in dl:\n",
    "        s = pd.DataFrame([])\n",
    "        s['class'] = y.cpu().detach().numpy()\n",
    "        preds = model(inputs)\n",
    "        preds = torch.softmax(preds, dim=1)\n",
    "        s['softmax_output'] = list(preds.cpu().detach().numpy())\n",
    "        softmax = pd.concat([softmax, s], ignore_index=True)\n",
    "    return softmax"
   ]
  },
  {
   "cell_type": "code",
   "execution_count": 70,
   "id": "cc1c7fb8",
   "metadata": {},
   "outputs": [],
   "source": [
    "def get_prediction_output(model, dl):\n",
    "    predictions = pd.DataFrame()\n",
    "    for inputs, y in dl:\n",
    "        p = pd.DataFrame([])\n",
    "        p['class'] = y.cpu().detach().numpy()\n",
    "        preds = model(inputs)\n",
    "        y_preds = torch.amax(preds, dim=1)\n",
    "        p['predictions'] = list(preds.cpu().detach().numpy())\n",
    "        p['predicted_class'] = list(y_preds.cpu().detach().numpy())\n",
    "        predictions = pd.concat([predictions, p], ignore_index=True)\n",
    "    return predictions"
   ]
  },
  {
   "cell_type": "code",
   "execution_count": 53,
   "id": "76c7fd25",
   "metadata": {},
   "outputs": [],
   "source": [
    "def get_all_outputs(model, dl, dataset=None):\n",
    "    softmax = pd.DataFrame()\n",
    "    sigmoids = pd.DataFrame()\n",
    "    out = pd.DataFrame()\n",
    "    for inputs, y in dl:\n",
    "        s = pd.DataFrame([])\n",
    "        s['class'] = y.cpu().detach().numpy()\n",
    "        preds = model(inputs)\n",
    "        softs = torch.softmax(preds, dim=1)\n",
    "        sigs = torch.sigmoid(preds)\n",
    "        s['predictions'] = list(preds.cpu().detach().numpy())\n",
    "        s['softmax_output'] = list(softs.cpu().detach().numpy())\n",
    "        s['sigmoid_output'] = list(sigs.cpu().detach().numpy())\n",
    "        if dataset != None:\n",
    "            s['set'] = dataset\n",
    "        out = pd.concat([out, s], ignore_index=True)\n",
    "    return out"
   ]
  },
  {
   "cell_type": "code",
   "execution_count": 56,
   "id": "e6f192cf",
   "metadata": {},
   "outputs": [
    {
     "name": "stdout",
     "output_type": "stream",
     "text": [
      "<class 'pandas.core.frame.DataFrame'>\n",
      "RangeIndex: 3230 entries, 0 to 3229\n",
      "Data columns (total 3 columns):\n",
      " #   Column          Non-Null Count  Dtype \n",
      "---  ------          --------------  ----- \n",
      " 0   class           3230 non-null   int64 \n",
      " 1   sigmoid_output  3230 non-null   object\n",
      " 2   set             3230 non-null   object\n",
      "dtypes: int64(1), object(2)\n",
      "memory usage: 75.8+ KB\n"
     ]
    }
   ],
   "source": [
    "sigmoids_valid = get_sigmoid_output(model, dls.valid)\n",
    "sigmoids_valid['set'] = 'validation'\n",
    "sigmoids_valid.info()"
   ]
  },
  {
   "cell_type": "code",
   "execution_count": 57,
   "id": "441a737b",
   "metadata": {},
   "outputs": [
    {
     "name": "stdout",
     "output_type": "stream",
     "text": [
      "<class 'pandas.core.frame.DataFrame'>\n",
      "RangeIndex: 12896 entries, 0 to 12895\n",
      "Data columns (total 3 columns):\n",
      " #   Column          Non-Null Count  Dtype \n",
      "---  ------          --------------  ----- \n",
      " 0   class           12896 non-null  int64 \n",
      " 1   sigmoid_output  12896 non-null  object\n",
      " 2   set             12896 non-null  object\n",
      "dtypes: int64(1), object(2)\n",
      "memory usage: 302.4+ KB\n"
     ]
    }
   ],
   "source": [
    "sigmoids_train = get_sigmoid_output(model, dls.train)\n",
    "sigmoids_train['set'] = 'train'\n",
    "sigmoids_train.info()"
   ]
  },
  {
   "cell_type": "code",
   "execution_count": 58,
   "id": "489604aa",
   "metadata": {},
   "outputs": [
    {
     "data": {
      "text/html": [
       "<div>\n",
       "<style scoped>\n",
       "    .dataframe tbody tr th:only-of-type {\n",
       "        vertical-align: middle;\n",
       "    }\n",
       "\n",
       "    .dataframe tbody tr th {\n",
       "        vertical-align: top;\n",
       "    }\n",
       "\n",
       "    .dataframe thead th {\n",
       "        text-align: right;\n",
       "    }\n",
       "</style>\n",
       "<table border=\"1\" class=\"dataframe\">\n",
       "  <thead>\n",
       "    <tr style=\"text-align: right;\">\n",
       "      <th></th>\n",
       "      <th>class</th>\n",
       "      <th>sigmoid_output</th>\n",
       "      <th>set</th>\n",
       "    </tr>\n",
       "  </thead>\n",
       "  <tbody>\n",
       "    <tr>\n",
       "      <th>0</th>\n",
       "      <td>0</td>\n",
       "      <td>[0.9701672, 0.053793818]</td>\n",
       "      <td>train</td>\n",
       "    </tr>\n",
       "    <tr>\n",
       "      <th>1</th>\n",
       "      <td>0</td>\n",
       "      <td>[0.76261526, 0.117157]</td>\n",
       "      <td>train</td>\n",
       "    </tr>\n",
       "    <tr>\n",
       "      <th>2</th>\n",
       "      <td>0</td>\n",
       "      <td>[0.95586944, 0.019635728]</td>\n",
       "      <td>train</td>\n",
       "    </tr>\n",
       "    <tr>\n",
       "      <th>3</th>\n",
       "      <td>0</td>\n",
       "      <td>[0.9676797, 0.04502932]</td>\n",
       "      <td>train</td>\n",
       "    </tr>\n",
       "    <tr>\n",
       "      <th>4</th>\n",
       "      <td>0</td>\n",
       "      <td>[0.9296938, 0.10624925]</td>\n",
       "      <td>train</td>\n",
       "    </tr>\n",
       "  </tbody>\n",
       "</table>\n",
       "</div>"
      ],
      "text/plain": [
       "   class             sigmoid_output    set\n",
       "0      0   [0.9701672, 0.053793818]  train\n",
       "1      0     [0.76261526, 0.117157]  train\n",
       "2      0  [0.95586944, 0.019635728]  train\n",
       "3      0    [0.9676797, 0.04502932]  train\n",
       "4      0    [0.9296938, 0.10624925]  train"
      ]
     },
     "execution_count": 58,
     "metadata": {},
     "output_type": "execute_result"
    }
   ],
   "source": [
    "all_sigs = pd.concat([sigmoids_train, sigmoids_valid])\n",
    "all_sigs.head()"
   ]
  },
  {
   "cell_type": "code",
   "execution_count": 59,
   "id": "4f6c4e16",
   "metadata": {},
   "outputs": [
    {
     "name": "stdout",
     "output_type": "stream",
     "text": [
      "<class 'pandas.core.frame.DataFrame'>\n",
      "Int64Index: 16126 entries, 0 to 3229\n",
      "Data columns (total 3 columns):\n",
      " #   Column          Non-Null Count  Dtype \n",
      "---  ------          --------------  ----- \n",
      " 0   class           16126 non-null  int64 \n",
      " 1   sigmoid_output  16126 non-null  object\n",
      " 2   set             16126 non-null  object\n",
      "dtypes: int64(1), object(2)\n",
      "memory usage: 503.9+ KB\n"
     ]
    }
   ],
   "source": [
    "all_sigs.info()"
   ]
  },
  {
   "cell_type": "code",
   "execution_count": 60,
   "id": "223161fb",
   "metadata": {},
   "outputs": [],
   "source": [
    "all_sigs.to_csv(path/f'{dataset}/{dataset}_cl_sigmoid_output.csv', index=False)"
   ]
  },
  {
   "cell_type": "code",
   "execution_count": 61,
   "id": "0cfd35df",
   "metadata": {},
   "outputs": [
    {
     "name": "stdout",
     "output_type": "stream",
     "text": [
      "<class 'pandas.core.frame.DataFrame'>\n",
      "RangeIndex: 3230 entries, 0 to 3229\n",
      "Data columns (total 3 columns):\n",
      " #   Column          Non-Null Count  Dtype \n",
      "---  ------          --------------  ----- \n",
      " 0   class           3230 non-null   int64 \n",
      " 1   softmax_output  3230 non-null   object\n",
      " 2   set             3230 non-null   object\n",
      "dtypes: int64(1), object(2)\n",
      "memory usage: 75.8+ KB\n"
     ]
    }
   ],
   "source": [
    "softmax_valid = get_softmax_output(model, dls.valid)\n",
    "softmax_valid['set'] = 'validation'\n",
    "softmax_valid.info()"
   ]
  },
  {
   "cell_type": "code",
   "execution_count": 62,
   "id": "09476d27",
   "metadata": {},
   "outputs": [
    {
     "name": "stdout",
     "output_type": "stream",
     "text": [
      "<class 'pandas.core.frame.DataFrame'>\n",
      "RangeIndex: 12896 entries, 0 to 12895\n",
      "Data columns (total 2 columns):\n",
      " #   Column          Non-Null Count  Dtype \n",
      "---  ------          --------------  ----- \n",
      " 0   class           12896 non-null  int64 \n",
      " 1   softmax_output  12896 non-null  object\n",
      "dtypes: int64(1), object(1)\n",
      "memory usage: 201.6+ KB\n"
     ]
    }
   ],
   "source": [
    "softmax_train = get_softmax_output(model, dls.train)\n",
    "softmax_valid['set'] = 'train'\n",
    "softmax_train.info()"
   ]
  },
  {
   "cell_type": "code",
   "execution_count": 63,
   "id": "b0f787f1",
   "metadata": {},
   "outputs": [
    {
     "data": {
      "text/html": [
       "<div>\n",
       "<style scoped>\n",
       "    .dataframe tbody tr th:only-of-type {\n",
       "        vertical-align: middle;\n",
       "    }\n",
       "\n",
       "    .dataframe tbody tr th {\n",
       "        vertical-align: top;\n",
       "    }\n",
       "\n",
       "    .dataframe thead th {\n",
       "        text-align: right;\n",
       "    }\n",
       "</style>\n",
       "<table border=\"1\" class=\"dataframe\">\n",
       "  <thead>\n",
       "    <tr style=\"text-align: right;\">\n",
       "      <th></th>\n",
       "      <th>class</th>\n",
       "      <th>softmax_output</th>\n",
       "      <th>set</th>\n",
       "    </tr>\n",
       "  </thead>\n",
       "  <tbody>\n",
       "    <tr>\n",
       "      <th>0</th>\n",
       "      <td>0</td>\n",
       "      <td>[0.98613155, 0.013868446]</td>\n",
       "      <td>NaN</td>\n",
       "    </tr>\n",
       "    <tr>\n",
       "      <th>1</th>\n",
       "      <td>0</td>\n",
       "      <td>[0.99508816, 0.004911895]</td>\n",
       "      <td>NaN</td>\n",
       "    </tr>\n",
       "    <tr>\n",
       "      <th>2</th>\n",
       "      <td>0</td>\n",
       "      <td>[0.9640373, 0.035962734]</td>\n",
       "      <td>NaN</td>\n",
       "    </tr>\n",
       "    <tr>\n",
       "      <th>3</th>\n",
       "      <td>0</td>\n",
       "      <td>[0.99701214, 0.0029878488]</td>\n",
       "      <td>NaN</td>\n",
       "    </tr>\n",
       "    <tr>\n",
       "      <th>4</th>\n",
       "      <td>0</td>\n",
       "      <td>[0.99601907, 0.003980971]</td>\n",
       "      <td>NaN</td>\n",
       "    </tr>\n",
       "  </tbody>\n",
       "</table>\n",
       "</div>"
      ],
      "text/plain": [
       "   class              softmax_output  set\n",
       "0      0   [0.98613155, 0.013868446]  NaN\n",
       "1      0   [0.99508816, 0.004911895]  NaN\n",
       "2      0    [0.9640373, 0.035962734]  NaN\n",
       "3      0  [0.99701214, 0.0029878488]  NaN\n",
       "4      0   [0.99601907, 0.003980971]  NaN"
      ]
     },
     "execution_count": 63,
     "metadata": {},
     "output_type": "execute_result"
    }
   ],
   "source": [
    "all_softs = pd.concat([softmax_train, softmax_valid])\n",
    "all_softs.head()"
   ]
  },
  {
   "cell_type": "code",
   "execution_count": 64,
   "id": "11098cac",
   "metadata": {},
   "outputs": [],
   "source": [
    "all_softs.to_csv(path/f'{dataset}/{dataset}_cl_softmax_output.csv', index=False)"
   ]
  },
  {
   "cell_type": "code",
   "execution_count": 71,
   "id": "11e78dfb",
   "metadata": {},
   "outputs": [
    {
     "name": "stdout",
     "output_type": "stream",
     "text": [
      "<class 'pandas.core.frame.DataFrame'>\n",
      "RangeIndex: 3230 entries, 0 to 3229\n",
      "Data columns (total 3 columns):\n",
      " #   Column       Non-Null Count  Dtype \n",
      "---  ------       --------------  ----- \n",
      " 0   class        3230 non-null   int64 \n",
      " 1   predictions  3230 non-null   object\n",
      " 2   set          3230 non-null   object\n",
      "dtypes: int64(1), object(2)\n",
      "memory usage: 75.8+ KB\n"
     ]
    }
   ],
   "source": [
    "predictions_valid = get_prediction_output(model, dls.valid)\n",
    "predictions_valid['set'] = 'validation'\n",
    "predictions_valid.info()"
   ]
  },
  {
   "cell_type": "code",
   "execution_count": 72,
   "id": "b637fa6e",
   "metadata": {},
   "outputs": [
    {
     "name": "stdout",
     "output_type": "stream",
     "text": [
      "<class 'pandas.core.frame.DataFrame'>\n",
      "RangeIndex: 12896 entries, 0 to 12895\n",
      "Data columns (total 3 columns):\n",
      " #   Column       Non-Null Count  Dtype \n",
      "---  ------       --------------  ----- \n",
      " 0   class        12896 non-null  int64 \n",
      " 1   predictions  12896 non-null  object\n",
      " 2   set          12896 non-null  object\n",
      "dtypes: int64(1), object(2)\n",
      "memory usage: 302.4+ KB\n"
     ]
    }
   ],
   "source": [
    "predictions_train = get_prediction_output(model, dls.train)\n",
    "predictions_train['set'] = 'train'\n",
    "predictions_train.info()"
   ]
  },
  {
   "cell_type": "code",
   "execution_count": 71,
   "id": "04811a52",
   "metadata": {},
   "outputs": [
    {
     "name": "stdout",
     "output_type": "stream",
     "text": [
      "<class 'pandas.core.frame.DataFrame'>\n",
      "RangeIndex: 3589 entries, 0 to 3588\n",
      "Data columns (total 3 columns):\n",
      " #   Column           Non-Null Count  Dtype  \n",
      "---  ------           --------------  -----  \n",
      " 0   class            3589 non-null   int64  \n",
      " 1   predictions      3589 non-null   object \n",
      " 2   predicted_class  3589 non-null   float32\n",
      "dtypes: float32(1), int64(1), object(1)\n",
      "memory usage: 70.2+ KB\n"
     ]
    }
   ],
   "source": [
    "predictions_test = get_prediction_output(model, test_dls.train)\n",
    "predictions_test.info()"
   ]
  },
  {
   "cell_type": "code",
   "execution_count": 72,
   "id": "8a0d48cb",
   "metadata": {},
   "outputs": [
    {
     "data": {
      "text/html": [
       "<div>\n",
       "<style scoped>\n",
       "    .dataframe tbody tr th:only-of-type {\n",
       "        vertical-align: middle;\n",
       "    }\n",
       "\n",
       "    .dataframe tbody tr th {\n",
       "        vertical-align: top;\n",
       "    }\n",
       "\n",
       "    .dataframe thead th {\n",
       "        text-align: right;\n",
       "    }\n",
       "</style>\n",
       "<table border=\"1\" class=\"dataframe\">\n",
       "  <thead>\n",
       "    <tr style=\"text-align: right;\">\n",
       "      <th></th>\n",
       "      <th>class</th>\n",
       "      <th>predictions</th>\n",
       "      <th>predicted_class</th>\n",
       "    </tr>\n",
       "  </thead>\n",
       "  <tbody>\n",
       "    <tr>\n",
       "      <th>0</th>\n",
       "      <td>0</td>\n",
       "      <td>[1.0686345, 0.15982893]</td>\n",
       "      <td>1.068635</td>\n",
       "    </tr>\n",
       "    <tr>\n",
       "      <th>1</th>\n",
       "      <td>0</td>\n",
       "      <td>[3.294972, -3.2591784]</td>\n",
       "      <td>3.294972</td>\n",
       "    </tr>\n",
       "    <tr>\n",
       "      <th>2</th>\n",
       "      <td>0</td>\n",
       "      <td>[3.8328488, -3.5713756]</td>\n",
       "      <td>3.832849</td>\n",
       "    </tr>\n",
       "    <tr>\n",
       "      <th>3</th>\n",
       "      <td>0</td>\n",
       "      <td>[3.1314778, -3.682592]</td>\n",
       "      <td>3.131478</td>\n",
       "    </tr>\n",
       "    <tr>\n",
       "      <th>4</th>\n",
       "      <td>1</td>\n",
       "      <td>[-0.789468, 1.3680037]</td>\n",
       "      <td>1.368004</td>\n",
       "    </tr>\n",
       "  </tbody>\n",
       "</table>\n",
       "</div>"
      ],
      "text/plain": [
       "   class              predictions  predicted_class\n",
       "0      0  [1.0686345, 0.15982893]         1.068635\n",
       "1      0   [3.294972, -3.2591784]         3.294972\n",
       "2      0  [3.8328488, -3.5713756]         3.832849\n",
       "3      0   [3.1314778, -3.682592]         3.131478\n",
       "4      1   [-0.789468, 1.3680037]         1.368004"
      ]
     },
     "execution_count": 72,
     "metadata": {},
     "output_type": "execute_result"
    }
   ],
   "source": [
    "predictions_test.head()"
   ]
  },
  {
   "cell_type": "code",
   "execution_count": 55,
   "id": "7e9a4ed6",
   "metadata": {},
   "outputs": [],
   "source": [
    "predictions_test.to_csv(path/f'{dataset}/{dataset}_predictions_CNN.csv', index=False)"
   ]
  },
  {
   "cell_type": "code",
   "execution_count": 73,
   "id": "89521387",
   "metadata": {},
   "outputs": [
    {
     "data": {
      "text/html": [
       "<div>\n",
       "<style scoped>\n",
       "    .dataframe tbody tr th:only-of-type {\n",
       "        vertical-align: middle;\n",
       "    }\n",
       "\n",
       "    .dataframe tbody tr th {\n",
       "        vertical-align: top;\n",
       "    }\n",
       "\n",
       "    .dataframe thead th {\n",
       "        text-align: right;\n",
       "    }\n",
       "</style>\n",
       "<table border=\"1\" class=\"dataframe\">\n",
       "  <thead>\n",
       "    <tr style=\"text-align: right;\">\n",
       "      <th></th>\n",
       "      <th>class</th>\n",
       "      <th>predictions</th>\n",
       "      <th>set</th>\n",
       "    </tr>\n",
       "  </thead>\n",
       "  <tbody>\n",
       "    <tr>\n",
       "      <th>0</th>\n",
       "      <td>1</td>\n",
       "      <td>[-2.544759, 1.4039788]</td>\n",
       "      <td>train</td>\n",
       "    </tr>\n",
       "    <tr>\n",
       "      <th>1</th>\n",
       "      <td>0</td>\n",
       "      <td>[2.5641046, -2.8110092]</td>\n",
       "      <td>train</td>\n",
       "    </tr>\n",
       "    <tr>\n",
       "      <th>2</th>\n",
       "      <td>0</td>\n",
       "      <td>[2.0580075, -2.9405768]</td>\n",
       "      <td>train</td>\n",
       "    </tr>\n",
       "    <tr>\n",
       "      <th>3</th>\n",
       "      <td>0</td>\n",
       "      <td>[0.930001, -1.7360047]</td>\n",
       "      <td>train</td>\n",
       "    </tr>\n",
       "    <tr>\n",
       "      <th>4</th>\n",
       "      <td>1</td>\n",
       "      <td>[-2.3095195, 1.4989927]</td>\n",
       "      <td>train</td>\n",
       "    </tr>\n",
       "  </tbody>\n",
       "</table>\n",
       "</div>"
      ],
      "text/plain": [
       "   class              predictions    set\n",
       "0      1   [-2.544759, 1.4039788]  train\n",
       "1      0  [2.5641046, -2.8110092]  train\n",
       "2      0  [2.0580075, -2.9405768]  train\n",
       "3      0   [0.930001, -1.7360047]  train\n",
       "4      1  [-2.3095195, 1.4989927]  train"
      ]
     },
     "execution_count": 73,
     "metadata": {},
     "output_type": "execute_result"
    }
   ],
   "source": [
    "all_preds = pd.concat([predictions_train, predictions_valid])\n",
    "all_preds.head()"
   ]
  },
  {
   "cell_type": "code",
   "execution_count": 83,
   "id": "a8b6f109",
   "metadata": {},
   "outputs": [
    {
     "data": {
      "text/html": [
       "<div>\n",
       "<style scoped>\n",
       "    .dataframe tbody tr th:only-of-type {\n",
       "        vertical-align: middle;\n",
       "    }\n",
       "\n",
       "    .dataframe tbody tr th {\n",
       "        vertical-align: top;\n",
       "    }\n",
       "\n",
       "    .dataframe thead th {\n",
       "        text-align: right;\n",
       "    }\n",
       "</style>\n",
       "<table border=\"1\" class=\"dataframe\">\n",
       "  <thead>\n",
       "    <tr style=\"text-align: right;\">\n",
       "      <th></th>\n",
       "      <th>class</th>\n",
       "      <th>sigmoid_output</th>\n",
       "      <th>set</th>\n",
       "      <th>softmax_output</th>\n",
       "      <th>predictions</th>\n",
       "    </tr>\n",
       "  </thead>\n",
       "  <tbody>\n",
       "    <tr>\n",
       "      <th>0</th>\n",
       "      <td>0</td>\n",
       "      <td>[0.9701672, 0.053793818]</td>\n",
       "      <td>train</td>\n",
       "      <td>[0.98613155, 0.013868446]</td>\n",
       "      <td>[-2.544759, 1.4039788]</td>\n",
       "    </tr>\n",
       "    <tr>\n",
       "      <th>1</th>\n",
       "      <td>0</td>\n",
       "      <td>[0.76261526, 0.117157]</td>\n",
       "      <td>train</td>\n",
       "      <td>[0.99508816, 0.004911895]</td>\n",
       "      <td>[2.5641046, -2.8110092]</td>\n",
       "    </tr>\n",
       "    <tr>\n",
       "      <th>2</th>\n",
       "      <td>0</td>\n",
       "      <td>[0.95586944, 0.019635728]</td>\n",
       "      <td>train</td>\n",
       "      <td>[0.9640373, 0.035962734]</td>\n",
       "      <td>[2.0580075, -2.9405768]</td>\n",
       "    </tr>\n",
       "    <tr>\n",
       "      <th>3</th>\n",
       "      <td>0</td>\n",
       "      <td>[0.9676797, 0.04502932]</td>\n",
       "      <td>train</td>\n",
       "      <td>[0.99701214, 0.0029878488]</td>\n",
       "      <td>[0.930001, -1.7360047]</td>\n",
       "    </tr>\n",
       "    <tr>\n",
       "      <th>4</th>\n",
       "      <td>0</td>\n",
       "      <td>[0.9296938, 0.10624925]</td>\n",
       "      <td>train</td>\n",
       "      <td>[0.99601907, 0.003980971]</td>\n",
       "      <td>[-2.3095195, 1.4989927]</td>\n",
       "    </tr>\n",
       "    <tr>\n",
       "      <th>...</th>\n",
       "      <td>...</td>\n",
       "      <td>...</td>\n",
       "      <td>...</td>\n",
       "      <td>...</td>\n",
       "      <td>...</td>\n",
       "    </tr>\n",
       "    <tr>\n",
       "      <th>16121</th>\n",
       "      <td>0</td>\n",
       "      <td>[0.8691852, 0.21533735]</td>\n",
       "      <td>validation</td>\n",
       "      <td>[0.9603354, 0.039664697]</td>\n",
       "      <td>[1.8937732, -1.2930479]</td>\n",
       "    </tr>\n",
       "    <tr>\n",
       "      <th>16122</th>\n",
       "      <td>0</td>\n",
       "      <td>[0.7157499, 0.2773765]</td>\n",
       "      <td>validation</td>\n",
       "      <td>[0.8677247, 0.13227533]</td>\n",
       "      <td>[0.92347646, -0.9575125]</td>\n",
       "    </tr>\n",
       "    <tr>\n",
       "      <th>16123</th>\n",
       "      <td>0</td>\n",
       "      <td>[0.888797, 0.06301936]</td>\n",
       "      <td>validation</td>\n",
       "      <td>[0.9916551, 0.00834484]</td>\n",
       "      <td>[2.0785115, -2.6992207]</td>\n",
       "    </tr>\n",
       "    <tr>\n",
       "      <th>16124</th>\n",
       "      <td>0</td>\n",
       "      <td>[0.9193807, 0.05335695]</td>\n",
       "      <td>validation</td>\n",
       "      <td>[0.9950818, 0.0049182125]</td>\n",
       "      <td>[2.4339619, -2.875918]</td>\n",
       "    </tr>\n",
       "    <tr>\n",
       "      <th>16125</th>\n",
       "      <td>0</td>\n",
       "      <td>[0.96537435, 0.030621057]</td>\n",
       "      <td>validation</td>\n",
       "      <td>[0.99886835, 0.0011317154]</td>\n",
       "      <td>[3.327921, -3.4549677]</td>\n",
       "    </tr>\n",
       "  </tbody>\n",
       "</table>\n",
       "<p>16126 rows × 5 columns</p>\n",
       "</div>"
      ],
      "text/plain": [
       "       class             sigmoid_output         set  \\\n",
       "0          0   [0.9701672, 0.053793818]       train   \n",
       "1          0     [0.76261526, 0.117157]       train   \n",
       "2          0  [0.95586944, 0.019635728]       train   \n",
       "3          0    [0.9676797, 0.04502932]       train   \n",
       "4          0    [0.9296938, 0.10624925]       train   \n",
       "...      ...                        ...         ...   \n",
       "16121      0    [0.8691852, 0.21533735]  validation   \n",
       "16122      0     [0.7157499, 0.2773765]  validation   \n",
       "16123      0     [0.888797, 0.06301936]  validation   \n",
       "16124      0    [0.9193807, 0.05335695]  validation   \n",
       "16125      0  [0.96537435, 0.030621057]  validation   \n",
       "\n",
       "                   softmax_output               predictions  \n",
       "0       [0.98613155, 0.013868446]    [-2.544759, 1.4039788]  \n",
       "1       [0.99508816, 0.004911895]   [2.5641046, -2.8110092]  \n",
       "2        [0.9640373, 0.035962734]   [2.0580075, -2.9405768]  \n",
       "3      [0.99701214, 0.0029878488]    [0.930001, -1.7360047]  \n",
       "4       [0.99601907, 0.003980971]   [-2.3095195, 1.4989927]  \n",
       "...                           ...                       ...  \n",
       "16121    [0.9603354, 0.039664697]   [1.8937732, -1.2930479]  \n",
       "16122     [0.8677247, 0.13227533]  [0.92347646, -0.9575125]  \n",
       "16123     [0.9916551, 0.00834484]   [2.0785115, -2.6992207]  \n",
       "16124   [0.9950818, 0.0049182125]    [2.4339619, -2.875918]  \n",
       "16125  [0.99886835, 0.0011317154]    [3.327921, -3.4549677]  \n",
       "\n",
       "[16126 rows x 5 columns]"
      ]
     },
     "execution_count": 83,
     "metadata": {},
     "output_type": "execute_result"
    }
   ],
   "source": [
    "all_output = all_sigs\n",
    "all_output['softmax_output'] = all_softs['softmax_output']\n",
    "all_output['predictions'] = all_preds['predictions']\n",
    "all_output = all_output.reset_index(drop=True)\n",
    "all_output"
   ]
  },
  {
   "cell_type": "code",
   "execution_count": 97,
   "id": "b246b357",
   "metadata": {},
   "outputs": [],
   "source": [
    "def get_model_output(model):\n",
    "    train_out = get_all_outputs(model, dls.train, 'train')\n",
    "    valid_out = get_all_outputs(model, dls.valid, 'validation')\n",
    "    test_out = get_all_outputs(model, test_dls.train, 'test')\n",
    "    all_out = pd.concat([train_out, valid_out, test_out], ignore_index=True)\n",
    "    return all_out"
   ]
  },
  {
   "cell_type": "code",
   "execution_count": 98,
   "id": "a3265180",
   "metadata": {},
   "outputs": [
    {
     "data": {
      "text/html": [
       "<div>\n",
       "<style scoped>\n",
       "    .dataframe tbody tr th:only-of-type {\n",
       "        vertical-align: middle;\n",
       "    }\n",
       "\n",
       "    .dataframe tbody tr th {\n",
       "        vertical-align: top;\n",
       "    }\n",
       "\n",
       "    .dataframe thead th {\n",
       "        text-align: right;\n",
       "    }\n",
       "</style>\n",
       "<table border=\"1\" class=\"dataframe\">\n",
       "  <thead>\n",
       "    <tr style=\"text-align: right;\">\n",
       "      <th></th>\n",
       "      <th>class</th>\n",
       "      <th>predictions</th>\n",
       "      <th>softmax_output</th>\n",
       "      <th>sigmoid_output</th>\n",
       "      <th>set</th>\n",
       "    </tr>\n",
       "  </thead>\n",
       "  <tbody>\n",
       "    <tr>\n",
       "      <th>0</th>\n",
       "      <td>0</td>\n",
       "      <td>[1.4408213, -1.9444662]</td>\n",
       "      <td>[0.9672415, 0.03275844]</td>\n",
       "      <td>[0.8085818, 0.12515801]</td>\n",
       "      <td>train</td>\n",
       "    </tr>\n",
       "    <tr>\n",
       "      <th>1</th>\n",
       "      <td>0</td>\n",
       "      <td>[1.4320446, -2.369034]</td>\n",
       "      <td>[0.97814184, 0.021858195]</td>\n",
       "      <td>[0.80721974, 0.08556469]</td>\n",
       "      <td>train</td>\n",
       "    </tr>\n",
       "    <tr>\n",
       "      <th>2</th>\n",
       "      <td>0</td>\n",
       "      <td>[2.3450992, -2.2143366]</td>\n",
       "      <td>[0.9896404, 0.01035952]</td>\n",
       "      <td>[0.9125439, 0.09847043]</td>\n",
       "      <td>train</td>\n",
       "    </tr>\n",
       "    <tr>\n",
       "      <th>3</th>\n",
       "      <td>0</td>\n",
       "      <td>[2.9813921, -3.4311612]</td>\n",
       "      <td>[0.9983619, 0.0016381416]</td>\n",
       "      <td>[0.95172644, 0.031335667]</td>\n",
       "      <td>train</td>\n",
       "    </tr>\n",
       "    <tr>\n",
       "      <th>4</th>\n",
       "      <td>0</td>\n",
       "      <td>[3.1667304, -3.548796]</td>\n",
       "      <td>[0.9987895, 0.0012104806]</td>\n",
       "      <td>[0.9595629, 0.027955273]</td>\n",
       "      <td>train</td>\n",
       "    </tr>\n",
       "    <tr>\n",
       "      <th>...</th>\n",
       "      <td>...</td>\n",
       "      <td>...</td>\n",
       "      <td>...</td>\n",
       "      <td>...</td>\n",
       "      <td>...</td>\n",
       "    </tr>\n",
       "    <tr>\n",
       "      <th>17913</th>\n",
       "      <td>0</td>\n",
       "      <td>[1.2509729, -1.5880237]</td>\n",
       "      <td>[0.9447471, 0.0552529]</td>\n",
       "      <td>[0.7774682, 0.16966213]</td>\n",
       "      <td>test</td>\n",
       "    </tr>\n",
       "    <tr>\n",
       "      <th>17914</th>\n",
       "      <td>0</td>\n",
       "      <td>[3.2267172, -3.8663087]</td>\n",
       "      <td>[0.9991698, 0.0008301893]</td>\n",
       "      <td>[0.96182746, 0.020506198]</td>\n",
       "      <td>test</td>\n",
       "    </tr>\n",
       "    <tr>\n",
       "      <th>17915</th>\n",
       "      <td>0</td>\n",
       "      <td>[2.5013874, -2.653731]</td>\n",
       "      <td>[0.99426323, 0.005736697]</td>\n",
       "      <td>[0.92423904, 0.06575941]</td>\n",
       "      <td>test</td>\n",
       "    </tr>\n",
       "    <tr>\n",
       "      <th>17916</th>\n",
       "      <td>0</td>\n",
       "      <td>[3.5935457, -4.649729]</td>\n",
       "      <td>[0.9997371, 0.00026295238]</td>\n",
       "      <td>[0.9732354, 0.009473588]</td>\n",
       "      <td>test</td>\n",
       "    </tr>\n",
       "    <tr>\n",
       "      <th>17917</th>\n",
       "      <td>0</td>\n",
       "      <td>[-2.4317155, 1.0700035]</td>\n",
       "      <td>[0.029263359, 0.9707366]</td>\n",
       "      <td>[0.08078598, 0.74459755]</td>\n",
       "      <td>test</td>\n",
       "    </tr>\n",
       "  </tbody>\n",
       "</table>\n",
       "<p>17918 rows × 5 columns</p>\n",
       "</div>"
      ],
      "text/plain": [
       "       class              predictions              softmax_output  \\\n",
       "0          0  [1.4408213, -1.9444662]     [0.9672415, 0.03275844]   \n",
       "1          0   [1.4320446, -2.369034]   [0.97814184, 0.021858195]   \n",
       "2          0  [2.3450992, -2.2143366]     [0.9896404, 0.01035952]   \n",
       "3          0  [2.9813921, -3.4311612]   [0.9983619, 0.0016381416]   \n",
       "4          0   [3.1667304, -3.548796]   [0.9987895, 0.0012104806]   \n",
       "...      ...                      ...                         ...   \n",
       "17913      0  [1.2509729, -1.5880237]      [0.9447471, 0.0552529]   \n",
       "17914      0  [3.2267172, -3.8663087]   [0.9991698, 0.0008301893]   \n",
       "17915      0   [2.5013874, -2.653731]   [0.99426323, 0.005736697]   \n",
       "17916      0   [3.5935457, -4.649729]  [0.9997371, 0.00026295238]   \n",
       "17917      0  [-2.4317155, 1.0700035]    [0.029263359, 0.9707366]   \n",
       "\n",
       "                  sigmoid_output    set  \n",
       "0        [0.8085818, 0.12515801]  train  \n",
       "1       [0.80721974, 0.08556469]  train  \n",
       "2        [0.9125439, 0.09847043]  train  \n",
       "3      [0.95172644, 0.031335667]  train  \n",
       "4       [0.9595629, 0.027955273]  train  \n",
       "...                          ...    ...  \n",
       "17913    [0.7774682, 0.16966213]   test  \n",
       "17914  [0.96182746, 0.020506198]   test  \n",
       "17915   [0.92423904, 0.06575941]   test  \n",
       "17916   [0.9732354, 0.009473588]   test  \n",
       "17917   [0.08078598, 0.74459755]   test  \n",
       "\n",
       "[17918 rows x 5 columns]"
      ]
     },
     "execution_count": 98,
     "metadata": {},
     "output_type": "execute_result"
    }
   ],
   "source": [
    "all_out = get_model_output(model)\n",
    "all_out"
   ]
  },
  {
   "cell_type": "code",
   "execution_count": 99,
   "id": "cdd39757",
   "metadata": {},
   "outputs": [
    {
     "name": "stdout",
     "output_type": "stream",
     "text": [
      "<class 'pandas.core.frame.DataFrame'>\n",
      "RangeIndex: 17918 entries, 0 to 17917\n",
      "Data columns (total 5 columns):\n",
      " #   Column          Non-Null Count  Dtype \n",
      "---  ------          --------------  ----- \n",
      " 0   class           17918 non-null  int64 \n",
      " 1   predictions     17918 non-null  object\n",
      " 2   softmax_output  17918 non-null  object\n",
      " 3   sigmoid_output  17918 non-null  object\n",
      " 4   set             17918 non-null  object\n",
      "dtypes: int64(1), object(4)\n",
      "memory usage: 700.0+ KB\n"
     ]
    }
   ],
   "source": [
    "all_out.info()"
   ]
  },
  {
   "cell_type": "code",
   "execution_count": 108,
   "id": "d5a80e8c",
   "metadata": {},
   "outputs": [],
   "source": [
    "all_out.to_csv(path/f'{dataset}/{dataset}_cl_model_output.csv', index=False)"
   ]
  },
  {
   "cell_type": "code",
   "execution_count": 85,
   "id": "25ab3a99",
   "metadata": {},
   "outputs": [
    {
     "data": {
      "text/plain": [
       "True"
      ]
     },
     "execution_count": 85,
     "metadata": {},
     "output_type": "execute_result"
    }
   ],
   "source": [
    "trues =  all_softs['class'] == all_sigs['class']\n",
    "trues[:][0]"
   ]
  },
  {
   "cell_type": "code",
   "execution_count": 79,
   "id": "dbe3f3e4",
   "metadata": {},
   "outputs": [
    {
     "data": {
      "text/html": [
       "<div>\n",
       "<style scoped>\n",
       "    .dataframe tbody tr th:only-of-type {\n",
       "        vertical-align: middle;\n",
       "    }\n",
       "\n",
       "    .dataframe tbody tr th {\n",
       "        vertical-align: top;\n",
       "    }\n",
       "\n",
       "    .dataframe thead th {\n",
       "        text-align: right;\n",
       "    }\n",
       "</style>\n",
       "<table border=\"1\" class=\"dataframe\">\n",
       "  <thead>\n",
       "    <tr style=\"text-align: right;\">\n",
       "      <th></th>\n",
       "      <th>class</th>\n",
       "      <th>sigmoid_ouput</th>\n",
       "      <th>softmax_ouput</th>\n",
       "    </tr>\n",
       "  </thead>\n",
       "  <tbody>\n",
       "    <tr>\n",
       "      <th>0</th>\n",
       "      <td>1</td>\n",
       "      <td>[0.036294576, 0.950538]</td>\n",
       "      <td>[0.0019559108, 0.998044]</td>\n",
       "    </tr>\n",
       "    <tr>\n",
       "      <th>1</th>\n",
       "      <td>1</td>\n",
       "      <td>[0.036294576, 0.950538]</td>\n",
       "      <td>[0.0009883011, 0.99901164]</td>\n",
       "    </tr>\n",
       "    <tr>\n",
       "      <th>2</th>\n",
       "      <td>1</td>\n",
       "      <td>[0.036294576, 0.950538]</td>\n",
       "      <td>[0.0005348075, 0.99946517]</td>\n",
       "    </tr>\n",
       "    <tr>\n",
       "      <th>3</th>\n",
       "      <td>1</td>\n",
       "      <td>[0.036294576, 0.950538]</td>\n",
       "      <td>[0.016153919, 0.98384607]</td>\n",
       "    </tr>\n",
       "    <tr>\n",
       "      <th>4</th>\n",
       "      <td>1</td>\n",
       "      <td>[0.036294576, 0.950538]</td>\n",
       "      <td>[0.012561351, 0.9874386]</td>\n",
       "    </tr>\n",
       "  </tbody>\n",
       "</table>\n",
       "</div>"
      ],
      "text/plain": [
       "   class            sigmoid_ouput               softmax_ouput\n",
       "0      1  [0.036294576, 0.950538]    [0.0019559108, 0.998044]\n",
       "1      1  [0.036294576, 0.950538]  [0.0009883011, 0.99901164]\n",
       "2      1  [0.036294576, 0.950538]  [0.0005348075, 0.99946517]\n",
       "3      1  [0.036294576, 0.950538]   [0.016153919, 0.98384607]\n",
       "4      1  [0.036294576, 0.950538]    [0.012561351, 0.9874386]"
      ]
     },
     "execution_count": 79,
     "metadata": {},
     "output_type": "execute_result"
    }
   ],
   "source": [
    "sigmoid_and_softmax.head()"
   ]
  },
  {
   "cell_type": "code",
   "execution_count": 81,
   "id": "49c63bdf",
   "metadata": {},
   "outputs": [
    {
     "data": {
      "text/html": [
       "<div>\n",
       "<style scoped>\n",
       "    .dataframe tbody tr th:only-of-type {\n",
       "        vertical-align: middle;\n",
       "    }\n",
       "\n",
       "    .dataframe tbody tr th {\n",
       "        vertical-align: top;\n",
       "    }\n",
       "\n",
       "    .dataframe thead th {\n",
       "        text-align: right;\n",
       "    }\n",
       "</style>\n",
       "<table border=\"1\" class=\"dataframe\">\n",
       "  <thead>\n",
       "    <tr style=\"text-align: right;\">\n",
       "      <th></th>\n",
       "    </tr>\n",
       "  </thead>\n",
       "  <tbody>\n",
       "  </tbody>\n",
       "</table>\n",
       "</div>"
      ],
      "text/plain": [
       "Empty DataFrame\n",
       "Columns: []\n",
       "Index: []"
      ]
     },
     "execution_count": 81,
     "metadata": {},
     "output_type": "execute_result"
    }
   ],
   "source": [
    "sigmoids = pd.DataFrame()\n",
    "sigmoids"
   ]
  },
  {
   "cell_type": "code",
   "execution_count": 52,
   "id": "93c8ae58",
   "metadata": {},
   "outputs": [
    {
     "data": {
      "text/plain": [
       "TensorCategory([1, 0, 0, 0, 1, 1, 0, 0, 0, 0, 1, 0, 1, 1, 1, 1, 1, 0, 0, 0, 1, 1, 0, 0,\n",
       "        1, 0, 0, 0, 1, 0, 1, 0], device='cuda:0')"
      ]
     },
     "execution_count": 52,
     "metadata": {},
     "output_type": "execute_result"
    }
   ],
   "source": [
    "out = torch.Tensor().to(device)\n",
    "labels = torch.Tensor().to(device)\n",
    "inputs, y = dls.one_batch()\n",
    "len(inputs), len(y)\n",
    "y"
   ]
  },
  {
   "cell_type": "code",
   "execution_count": 88,
   "id": "1c18460c",
   "metadata": {},
   "outputs": [
    {
     "ename": "TypeError",
     "evalue": "Concatenation operation is not implemented for NumPy arrays, use np.concatenate() instead. Please do not rely on this error; it may not be given on all Python implementations.",
     "output_type": "error",
     "traceback": [
      "\u001b[0;31m---------------------------------------------------------------------------\u001b[0m",
      "\u001b[0;31mTypeError\u001b[0m                                 Traceback (most recent call last)",
      "\u001b[0;32m/tmp/ipykernel_456823/3339831209.py\u001b[0m in \u001b[0;36m<module>\u001b[0;34m\u001b[0m\n\u001b[0;32m----> 1\u001b[0;31m \u001b[0msigmoids\u001b[0m\u001b[0;34m[\u001b[0m\u001b[0;34m'class'\u001b[0m\u001b[0;34m]\u001b[0m \u001b[0;34m+=\u001b[0m \u001b[0my\u001b[0m\u001b[0;34m.\u001b[0m\u001b[0mcpu\u001b[0m\u001b[0;34m(\u001b[0m\u001b[0;34m)\u001b[0m\u001b[0;34m\u001b[0m\u001b[0;34m\u001b[0m\u001b[0m\n\u001b[0m\u001b[1;32m      2\u001b[0m \u001b[0msigmoids\u001b[0m\u001b[0;34m\u001b[0m\u001b[0;34m\u001b[0m\u001b[0m\n",
      "\u001b[0;32m~/anaconda3/envs/fastai-drug/lib/python3.7/site-packages/pandas/core/generic.py\u001b[0m in \u001b[0;36m__iadd__\u001b[0;34m(self, other)\u001b[0m\n\u001b[1;32m  10962\u001b[0m     \u001b[0;32mdef\u001b[0m \u001b[0m__iadd__\u001b[0m\u001b[0;34m(\u001b[0m\u001b[0mself\u001b[0m\u001b[0;34m,\u001b[0m \u001b[0mother\u001b[0m\u001b[0;34m)\u001b[0m\u001b[0;34m:\u001b[0m\u001b[0;34m\u001b[0m\u001b[0;34m\u001b[0m\u001b[0m\n\u001b[1;32m  10963\u001b[0m         \u001b[0;31m# error: Unsupported left operand type for + (\"Type[NDFrame]\")\u001b[0m\u001b[0;34m\u001b[0m\u001b[0;34m\u001b[0m\u001b[0;34m\u001b[0m\u001b[0m\n\u001b[0;32m> 10964\u001b[0;31m         \u001b[0;32mreturn\u001b[0m \u001b[0mself\u001b[0m\u001b[0;34m.\u001b[0m\u001b[0m_inplace_method\u001b[0m\u001b[0;34m(\u001b[0m\u001b[0mother\u001b[0m\u001b[0;34m,\u001b[0m \u001b[0mtype\u001b[0m\u001b[0;34m(\u001b[0m\u001b[0mself\u001b[0m\u001b[0;34m)\u001b[0m\u001b[0;34m.\u001b[0m\u001b[0m__add__\u001b[0m\u001b[0;34m)\u001b[0m  \u001b[0;31m# type: ignore[operator]\u001b[0m\u001b[0;34m\u001b[0m\u001b[0;34m\u001b[0m\u001b[0m\n\u001b[0m\u001b[1;32m  10965\u001b[0m \u001b[0;34m\u001b[0m\u001b[0m\n\u001b[1;32m  10966\u001b[0m     \u001b[0;32mdef\u001b[0m \u001b[0m__isub__\u001b[0m\u001b[0;34m(\u001b[0m\u001b[0mself\u001b[0m\u001b[0;34m,\u001b[0m \u001b[0mother\u001b[0m\u001b[0;34m)\u001b[0m\u001b[0;34m:\u001b[0m\u001b[0;34m\u001b[0m\u001b[0;34m\u001b[0m\u001b[0m\n",
      "\u001b[0;32m~/anaconda3/envs/fastai-drug/lib/python3.7/site-packages/pandas/core/generic.py\u001b[0m in \u001b[0;36m_inplace_method\u001b[0;34m(self, other, op)\u001b[0m\n\u001b[1;32m  10939\u001b[0m         \u001b[0mWrap\u001b[0m \u001b[0marithmetic\u001b[0m \u001b[0mmethod\u001b[0m \u001b[0mto\u001b[0m \u001b[0moperate\u001b[0m \u001b[0minplace\u001b[0m\u001b[0;34m.\u001b[0m\u001b[0;34m\u001b[0m\u001b[0;34m\u001b[0m\u001b[0m\n\u001b[1;32m  10940\u001b[0m         \"\"\"\n\u001b[0;32m> 10941\u001b[0;31m         \u001b[0mresult\u001b[0m \u001b[0;34m=\u001b[0m \u001b[0mop\u001b[0m\u001b[0;34m(\u001b[0m\u001b[0mself\u001b[0m\u001b[0;34m,\u001b[0m \u001b[0mother\u001b[0m\u001b[0;34m)\u001b[0m\u001b[0;34m\u001b[0m\u001b[0;34m\u001b[0m\u001b[0m\n\u001b[0m\u001b[1;32m  10942\u001b[0m \u001b[0;34m\u001b[0m\u001b[0m\n\u001b[1;32m  10943\u001b[0m         if (\n",
      "\u001b[0;32m~/anaconda3/envs/fastai-drug/lib/python3.7/site-packages/pandas/core/ops/common.py\u001b[0m in \u001b[0;36mnew_method\u001b[0;34m(self, other)\u001b[0m\n\u001b[1;32m     67\u001b[0m         \u001b[0mother\u001b[0m \u001b[0;34m=\u001b[0m \u001b[0mitem_from_zerodim\u001b[0m\u001b[0;34m(\u001b[0m\u001b[0mother\u001b[0m\u001b[0;34m)\u001b[0m\u001b[0;34m\u001b[0m\u001b[0;34m\u001b[0m\u001b[0m\n\u001b[1;32m     68\u001b[0m \u001b[0;34m\u001b[0m\u001b[0m\n\u001b[0;32m---> 69\u001b[0;31m         \u001b[0;32mreturn\u001b[0m \u001b[0mmethod\u001b[0m\u001b[0;34m(\u001b[0m\u001b[0mself\u001b[0m\u001b[0;34m,\u001b[0m \u001b[0mother\u001b[0m\u001b[0;34m)\u001b[0m\u001b[0;34m\u001b[0m\u001b[0;34m\u001b[0m\u001b[0m\n\u001b[0m\u001b[1;32m     70\u001b[0m \u001b[0;34m\u001b[0m\u001b[0m\n\u001b[1;32m     71\u001b[0m     \u001b[0;32mreturn\u001b[0m \u001b[0mnew_method\u001b[0m\u001b[0;34m\u001b[0m\u001b[0;34m\u001b[0m\u001b[0m\n",
      "\u001b[0;32m~/anaconda3/envs/fastai-drug/lib/python3.7/site-packages/pandas/core/arraylike.py\u001b[0m in \u001b[0;36m__add__\u001b[0;34m(self, other)\u001b[0m\n\u001b[1;32m     90\u001b[0m     \u001b[0;34m@\u001b[0m\u001b[0munpack_zerodim_and_defer\u001b[0m\u001b[0;34m(\u001b[0m\u001b[0;34m\"__add__\"\u001b[0m\u001b[0;34m)\u001b[0m\u001b[0;34m\u001b[0m\u001b[0;34m\u001b[0m\u001b[0m\n\u001b[1;32m     91\u001b[0m     \u001b[0;32mdef\u001b[0m \u001b[0m__add__\u001b[0m\u001b[0;34m(\u001b[0m\u001b[0mself\u001b[0m\u001b[0;34m,\u001b[0m \u001b[0mother\u001b[0m\u001b[0;34m)\u001b[0m\u001b[0;34m:\u001b[0m\u001b[0;34m\u001b[0m\u001b[0;34m\u001b[0m\u001b[0m\n\u001b[0;32m---> 92\u001b[0;31m         \u001b[0;32mreturn\u001b[0m \u001b[0mself\u001b[0m\u001b[0;34m.\u001b[0m\u001b[0m_arith_method\u001b[0m\u001b[0;34m(\u001b[0m\u001b[0mother\u001b[0m\u001b[0;34m,\u001b[0m \u001b[0moperator\u001b[0m\u001b[0;34m.\u001b[0m\u001b[0madd\u001b[0m\u001b[0;34m)\u001b[0m\u001b[0;34m\u001b[0m\u001b[0;34m\u001b[0m\u001b[0m\n\u001b[0m\u001b[1;32m     93\u001b[0m \u001b[0;34m\u001b[0m\u001b[0m\n\u001b[1;32m     94\u001b[0m     \u001b[0;34m@\u001b[0m\u001b[0munpack_zerodim_and_defer\u001b[0m\u001b[0;34m(\u001b[0m\u001b[0;34m\"__radd__\"\u001b[0m\u001b[0;34m)\u001b[0m\u001b[0;34m\u001b[0m\u001b[0;34m\u001b[0m\u001b[0m\n",
      "\u001b[0;32m~/anaconda3/envs/fastai-drug/lib/python3.7/site-packages/pandas/core/series.py\u001b[0m in \u001b[0;36m_arith_method\u001b[0;34m(self, other, op)\u001b[0m\n\u001b[1;32m   5524\u001b[0m \u001b[0;34m\u001b[0m\u001b[0m\n\u001b[1;32m   5525\u001b[0m         \u001b[0;32mwith\u001b[0m \u001b[0mnp\u001b[0m\u001b[0;34m.\u001b[0m\u001b[0merrstate\u001b[0m\u001b[0;34m(\u001b[0m\u001b[0mall\u001b[0m\u001b[0;34m=\u001b[0m\u001b[0;34m\"ignore\"\u001b[0m\u001b[0;34m)\u001b[0m\u001b[0;34m:\u001b[0m\u001b[0;34m\u001b[0m\u001b[0;34m\u001b[0m\u001b[0m\n\u001b[0;32m-> 5526\u001b[0;31m             \u001b[0mresult\u001b[0m \u001b[0;34m=\u001b[0m \u001b[0mops\u001b[0m\u001b[0;34m.\u001b[0m\u001b[0marithmetic_op\u001b[0m\u001b[0;34m(\u001b[0m\u001b[0mlvalues\u001b[0m\u001b[0;34m,\u001b[0m \u001b[0mrvalues\u001b[0m\u001b[0;34m,\u001b[0m \u001b[0mop\u001b[0m\u001b[0;34m)\u001b[0m\u001b[0;34m\u001b[0m\u001b[0;34m\u001b[0m\u001b[0m\n\u001b[0m\u001b[1;32m   5527\u001b[0m \u001b[0;34m\u001b[0m\u001b[0m\n\u001b[1;32m   5528\u001b[0m         \u001b[0;32mreturn\u001b[0m \u001b[0mself\u001b[0m\u001b[0;34m.\u001b[0m\u001b[0m_construct_result\u001b[0m\u001b[0;34m(\u001b[0m\u001b[0mresult\u001b[0m\u001b[0;34m,\u001b[0m \u001b[0mname\u001b[0m\u001b[0;34m=\u001b[0m\u001b[0mres_name\u001b[0m\u001b[0;34m)\u001b[0m\u001b[0;34m\u001b[0m\u001b[0;34m\u001b[0m\u001b[0m\n",
      "\u001b[0;32m~/anaconda3/envs/fastai-drug/lib/python3.7/site-packages/pandas/core/ops/array_ops.py\u001b[0m in \u001b[0;36marithmetic_op\u001b[0;34m(left, right, op)\u001b[0m\n\u001b[1;32m    222\u001b[0m         \u001b[0m_bool_arith_check\u001b[0m\u001b[0;34m(\u001b[0m\u001b[0mop\u001b[0m\u001b[0;34m,\u001b[0m \u001b[0mleft\u001b[0m\u001b[0;34m,\u001b[0m \u001b[0mright\u001b[0m\u001b[0;34m)\u001b[0m\u001b[0;34m\u001b[0m\u001b[0;34m\u001b[0m\u001b[0m\n\u001b[1;32m    223\u001b[0m \u001b[0;34m\u001b[0m\u001b[0m\n\u001b[0;32m--> 224\u001b[0;31m         \u001b[0mres_values\u001b[0m \u001b[0;34m=\u001b[0m \u001b[0m_na_arithmetic_op\u001b[0m\u001b[0;34m(\u001b[0m\u001b[0mleft\u001b[0m\u001b[0;34m,\u001b[0m \u001b[0mright\u001b[0m\u001b[0;34m,\u001b[0m \u001b[0mop\u001b[0m\u001b[0;34m)\u001b[0m\u001b[0;34m\u001b[0m\u001b[0;34m\u001b[0m\u001b[0m\n\u001b[0m\u001b[1;32m    225\u001b[0m \u001b[0;34m\u001b[0m\u001b[0m\n\u001b[1;32m    226\u001b[0m     \u001b[0;32mreturn\u001b[0m \u001b[0mres_values\u001b[0m\u001b[0;34m\u001b[0m\u001b[0;34m\u001b[0m\u001b[0m\n",
      "\u001b[0;32m~/anaconda3/envs/fastai-drug/lib/python3.7/site-packages/pandas/core/ops/array_ops.py\u001b[0m in \u001b[0;36m_na_arithmetic_op\u001b[0;34m(left, right, op, is_cmp)\u001b[0m\n\u001b[1;32m    164\u001b[0m \u001b[0;34m\u001b[0m\u001b[0m\n\u001b[1;32m    165\u001b[0m     \u001b[0;32mtry\u001b[0m\u001b[0;34m:\u001b[0m\u001b[0;34m\u001b[0m\u001b[0;34m\u001b[0m\u001b[0m\n\u001b[0;32m--> 166\u001b[0;31m         \u001b[0mresult\u001b[0m \u001b[0;34m=\u001b[0m \u001b[0mfunc\u001b[0m\u001b[0;34m(\u001b[0m\u001b[0mleft\u001b[0m\u001b[0;34m,\u001b[0m \u001b[0mright\u001b[0m\u001b[0;34m)\u001b[0m\u001b[0;34m\u001b[0m\u001b[0;34m\u001b[0m\u001b[0m\n\u001b[0m\u001b[1;32m    167\u001b[0m     \u001b[0;32mexcept\u001b[0m \u001b[0mTypeError\u001b[0m\u001b[0;34m:\u001b[0m\u001b[0;34m\u001b[0m\u001b[0;34m\u001b[0m\u001b[0m\n\u001b[1;32m    168\u001b[0m         \u001b[0;32mif\u001b[0m \u001b[0mis_object_dtype\u001b[0m\u001b[0;34m(\u001b[0m\u001b[0mleft\u001b[0m\u001b[0;34m)\u001b[0m \u001b[0;32mor\u001b[0m \u001b[0mis_object_dtype\u001b[0m\u001b[0;34m(\u001b[0m\u001b[0mright\u001b[0m\u001b[0;34m)\u001b[0m \u001b[0;32mand\u001b[0m \u001b[0;32mnot\u001b[0m \u001b[0mis_cmp\u001b[0m\u001b[0;34m:\u001b[0m\u001b[0;34m\u001b[0m\u001b[0;34m\u001b[0m\u001b[0m\n",
      "\u001b[0;32m~/anaconda3/envs/fastai-drug/lib/python3.7/site-packages/pandas/core/computation/expressions.py\u001b[0m in \u001b[0;36mevaluate\u001b[0;34m(op, a, b, use_numexpr)\u001b[0m\n\u001b[1;32m    237\u001b[0m         \u001b[0;32mif\u001b[0m \u001b[0muse_numexpr\u001b[0m\u001b[0;34m:\u001b[0m\u001b[0;34m\u001b[0m\u001b[0;34m\u001b[0m\u001b[0m\n\u001b[1;32m    238\u001b[0m             \u001b[0;31m# error: \"None\" not callable\u001b[0m\u001b[0;34m\u001b[0m\u001b[0;34m\u001b[0m\u001b[0;34m\u001b[0m\u001b[0m\n\u001b[0;32m--> 239\u001b[0;31m             \u001b[0;32mreturn\u001b[0m \u001b[0m_evaluate\u001b[0m\u001b[0;34m(\u001b[0m\u001b[0mop\u001b[0m\u001b[0;34m,\u001b[0m \u001b[0mop_str\u001b[0m\u001b[0;34m,\u001b[0m \u001b[0ma\u001b[0m\u001b[0;34m,\u001b[0m \u001b[0mb\u001b[0m\u001b[0;34m)\u001b[0m  \u001b[0;31m# type: ignore[misc]\u001b[0m\u001b[0;34m\u001b[0m\u001b[0;34m\u001b[0m\u001b[0m\n\u001b[0m\u001b[1;32m    240\u001b[0m     \u001b[0;32mreturn\u001b[0m \u001b[0m_evaluate_standard\u001b[0m\u001b[0;34m(\u001b[0m\u001b[0mop\u001b[0m\u001b[0;34m,\u001b[0m \u001b[0mop_str\u001b[0m\u001b[0;34m,\u001b[0m \u001b[0ma\u001b[0m\u001b[0;34m,\u001b[0m \u001b[0mb\u001b[0m\u001b[0;34m)\u001b[0m\u001b[0;34m\u001b[0m\u001b[0;34m\u001b[0m\u001b[0m\n\u001b[1;32m    241\u001b[0m \u001b[0;34m\u001b[0m\u001b[0m\n",
      "\u001b[0;32m~/anaconda3/envs/fastai-drug/lib/python3.7/site-packages/pandas/core/computation/expressions.py\u001b[0m in \u001b[0;36m_evaluate_numexpr\u001b[0;34m(op, op_str, a, b)\u001b[0m\n\u001b[1;32m    126\u001b[0m \u001b[0;34m\u001b[0m\u001b[0m\n\u001b[1;32m    127\u001b[0m     \u001b[0;32mif\u001b[0m \u001b[0mresult\u001b[0m \u001b[0;32mis\u001b[0m \u001b[0;32mNone\u001b[0m\u001b[0;34m:\u001b[0m\u001b[0;34m\u001b[0m\u001b[0;34m\u001b[0m\u001b[0m\n\u001b[0;32m--> 128\u001b[0;31m         \u001b[0mresult\u001b[0m \u001b[0;34m=\u001b[0m \u001b[0m_evaluate_standard\u001b[0m\u001b[0;34m(\u001b[0m\u001b[0mop\u001b[0m\u001b[0;34m,\u001b[0m \u001b[0mop_str\u001b[0m\u001b[0;34m,\u001b[0m \u001b[0ma\u001b[0m\u001b[0;34m,\u001b[0m \u001b[0mb\u001b[0m\u001b[0;34m)\u001b[0m\u001b[0;34m\u001b[0m\u001b[0;34m\u001b[0m\u001b[0m\n\u001b[0m\u001b[1;32m    129\u001b[0m \u001b[0;34m\u001b[0m\u001b[0m\n\u001b[1;32m    130\u001b[0m     \u001b[0;32mreturn\u001b[0m \u001b[0mresult\u001b[0m\u001b[0;34m\u001b[0m\u001b[0;34m\u001b[0m\u001b[0m\n",
      "\u001b[0;32m~/anaconda3/envs/fastai-drug/lib/python3.7/site-packages/pandas/core/computation/expressions.py\u001b[0m in \u001b[0;36m_evaluate_standard\u001b[0;34m(op, op_str, a, b)\u001b[0m\n\u001b[1;32m     67\u001b[0m     \u001b[0;32mif\u001b[0m \u001b[0m_TEST_MODE\u001b[0m\u001b[0;34m:\u001b[0m\u001b[0;34m\u001b[0m\u001b[0;34m\u001b[0m\u001b[0m\n\u001b[1;32m     68\u001b[0m         \u001b[0m_store_test_result\u001b[0m\u001b[0;34m(\u001b[0m\u001b[0;32mFalse\u001b[0m\u001b[0;34m)\u001b[0m\u001b[0;34m\u001b[0m\u001b[0;34m\u001b[0m\u001b[0m\n\u001b[0;32m---> 69\u001b[0;31m     \u001b[0;32mreturn\u001b[0m \u001b[0mop\u001b[0m\u001b[0;34m(\u001b[0m\u001b[0ma\u001b[0m\u001b[0;34m,\u001b[0m \u001b[0mb\u001b[0m\u001b[0;34m)\u001b[0m\u001b[0;34m\u001b[0m\u001b[0;34m\u001b[0m\u001b[0m\n\u001b[0m\u001b[1;32m     70\u001b[0m \u001b[0;34m\u001b[0m\u001b[0m\n\u001b[1;32m     71\u001b[0m \u001b[0;34m\u001b[0m\u001b[0m\n",
      "\u001b[0;31mTypeError\u001b[0m: Concatenation operation is not implemented for NumPy arrays, use np.concatenate() instead. Please do not rely on this error; it may not be given on all Python implementations."
     ]
    }
   ],
   "source": [
    "sigmoids['class'] = y.cpu()\n",
    "sigmoids"
   ]
  },
  {
   "cell_type": "code",
   "execution_count": 83,
   "id": "17fdb40e",
   "metadata": {
    "scrolled": true
   },
   "outputs": [
    {
     "data": {
      "text/plain": [
       "tensor([[-2.8447,  3.3839],\n",
       "        [ 2.5647, -2.3869],\n",
       "        [ 4.1586, -4.3155],\n",
       "        [ 4.9093, -4.1325],\n",
       "        [-3.6357,  3.7160],\n",
       "        [-4.0916,  4.4613],\n",
       "        [ 1.2837, -1.4738],\n",
       "        [ 2.4806, -2.0987],\n",
       "        [ 2.6639, -1.6059],\n",
       "        [ 3.1888, -3.3279],\n",
       "        [-2.0479,  2.0318],\n",
       "        [ 3.0697, -3.2240],\n",
       "        [-3.2181,  2.9851],\n",
       "        [-2.1545,  2.0995],\n",
       "        [-3.1426,  3.2607],\n",
       "        [-2.7834,  2.3165],\n",
       "        [-2.1422,  2.1613],\n",
       "        [ 3.6207, -3.7911],\n",
       "        [ 2.2757, -2.5720],\n",
       "        [ 4.5412, -4.1503],\n",
       "        [-3.8547,  4.0242],\n",
       "        [-3.7194,  3.5226],\n",
       "        [ 4.7737, -4.5059],\n",
       "        [ 3.0809, -2.9469],\n",
       "        [-2.6318,  3.2373],\n",
       "        [ 3.0605, -3.8618],\n",
       "        [ 2.7938, -2.7927],\n",
       "        [ 3.7439, -4.0104],\n",
       "        [-3.5460,  3.6381],\n",
       "        [ 4.6265, -4.9646],\n",
       "        [-3.3536,  3.6650],\n",
       "        [ 1.9615, -1.6745]])"
      ]
     },
     "execution_count": 83,
     "metadata": {},
     "output_type": "execute_result"
    }
   ],
   "source": [
    "inputs = inputs.to(device)\n",
    "y = y.cpu()\n",
    "labels = y\n",
    "preds = model(inputs)\n",
    "preds = preds.cpu().detach()\n",
    "preds"
   ]
  },
  {
   "cell_type": "code",
   "execution_count": 84,
   "id": "e7681754",
   "metadata": {},
   "outputs": [
    {
     "data": {
      "text/plain": [
       "tensor([[0.0550, 0.9672],\n",
       "        [0.9286, 0.0842],\n",
       "        [0.9846, 0.0132],\n",
       "        [0.9927, 0.0158],\n",
       "        [0.0257, 0.9762],\n",
       "        [0.0164, 0.9886],\n",
       "        [0.7831, 0.1864],\n",
       "        [0.9228, 0.1092],\n",
       "        [0.9349, 0.1672],\n",
       "        [0.9604, 0.0346],\n",
       "        [0.1143, 0.8841],\n",
       "        [0.9556, 0.0383],\n",
       "        [0.0385, 0.9519],\n",
       "        [0.1039, 0.8909],\n",
       "        [0.0414, 0.9631],\n",
       "        [0.0582, 0.9102],\n",
       "        [0.1051, 0.8967],\n",
       "        [0.9739, 0.0221],\n",
       "        [0.9068, 0.0710],\n",
       "        [0.9895, 0.0155],\n",
       "        [0.0207, 0.9824],\n",
       "        [0.0237, 0.9713],\n",
       "        [0.9916, 0.0109],\n",
       "        [0.9561, 0.0499],\n",
       "        [0.0671, 0.9622],\n",
       "        [0.9552, 0.0206],\n",
       "        [0.9423, 0.0577],\n",
       "        [0.9769, 0.0178],\n",
       "        [0.0280, 0.9744],\n",
       "        [0.9903, 0.0069],\n",
       "        [0.0338, 0.9750],\n",
       "        [0.8767, 0.1578]])"
      ]
     },
     "execution_count": 84,
     "metadata": {},
     "output_type": "execute_result"
    }
   ],
   "source": [
    "preds = torch.sigmoid(preds)\n",
    "preds"
   ]
  },
  {
   "cell_type": "code",
   "execution_count": 85,
   "id": "b02ae33a",
   "metadata": {},
   "outputs": [
    {
     "data": {
      "text/plain": [
       "tensor([0.0550, 0.9286, 0.9846, 0.9927, 0.0257, 0.0164, 0.7831, 0.9228, 0.9349,\n",
       "        0.9604, 0.1143, 0.9556, 0.0385, 0.1039, 0.0414, 0.0582, 0.1051, 0.9739,\n",
       "        0.9068, 0.9895, 0.0207, 0.0237, 0.9916, 0.9561, 0.0671, 0.9552, 0.9423,\n",
       "        0.9769, 0.0280, 0.9903, 0.0338, 0.8767])"
      ]
     },
     "execution_count": 85,
     "metadata": {},
     "output_type": "execute_result"
    }
   ],
   "source": [
    "preds[:, 0]"
   ]
  },
  {
   "cell_type": "code",
   "execution_count": 87,
   "id": "9c8e719e",
   "metadata": {},
   "outputs": [
    {
     "data": {
      "text/html": [
       "<div>\n",
       "<style scoped>\n",
       "    .dataframe tbody tr th:only-of-type {\n",
       "        vertical-align: middle;\n",
       "    }\n",
       "\n",
       "    .dataframe tbody tr th {\n",
       "        vertical-align: top;\n",
       "    }\n",
       "\n",
       "    .dataframe thead th {\n",
       "        text-align: right;\n",
       "    }\n",
       "</style>\n",
       "<table border=\"1\" class=\"dataframe\">\n",
       "  <thead>\n",
       "    <tr style=\"text-align: right;\">\n",
       "      <th></th>\n",
       "      <th>class</th>\n",
       "      <th>sigmoid_output</th>\n",
       "    </tr>\n",
       "  </thead>\n",
       "  <tbody>\n",
       "    <tr>\n",
       "      <th>0</th>\n",
       "      <td>1</td>\n",
       "      <td>[0.0549558, 0.9671975]</td>\n",
       "    </tr>\n",
       "    <tr>\n",
       "      <th>1</th>\n",
       "      <td>0</td>\n",
       "      <td>[0.92855555, 0.084180586]</td>\n",
       "    </tr>\n",
       "    <tr>\n",
       "      <th>2</th>\n",
       "      <td>0</td>\n",
       "      <td>[0.9846106, 0.013184357]</td>\n",
       "    </tr>\n",
       "    <tr>\n",
       "      <th>3</th>\n",
       "      <td>0</td>\n",
       "      <td>[0.9926764, 0.015788918]</td>\n",
       "    </tr>\n",
       "    <tr>\n",
       "      <th>4</th>\n",
       "      <td>1</td>\n",
       "      <td>[0.02568907, 0.97624743]</td>\n",
       "    </tr>\n",
       "    <tr>\n",
       "      <th>5</th>\n",
       "      <td>1</td>\n",
       "      <td>[0.01643768, 0.98858416]</td>\n",
       "    </tr>\n",
       "    <tr>\n",
       "      <th>6</th>\n",
       "      <td>0</td>\n",
       "      <td>[0.7830823, 0.18636067]</td>\n",
       "    </tr>\n",
       "    <tr>\n",
       "      <th>7</th>\n",
       "      <td>0</td>\n",
       "      <td>[0.9227696, 0.10922483]</td>\n",
       "    </tr>\n",
       "    <tr>\n",
       "      <th>8</th>\n",
       "      <td>0</td>\n",
       "      <td>[0.93486184, 0.16715942]</td>\n",
       "    </tr>\n",
       "    <tr>\n",
       "      <th>9</th>\n",
       "      <td>0</td>\n",
       "      <td>[0.96041244, 0.03462662]</td>\n",
       "    </tr>\n",
       "    <tr>\n",
       "      <th>10</th>\n",
       "      <td>1</td>\n",
       "      <td>[0.114262186, 0.88409567]</td>\n",
       "    </tr>\n",
       "    <tr>\n",
       "      <th>11</th>\n",
       "      <td>0</td>\n",
       "      <td>[0.9556251, 0.038273554]</td>\n",
       "    </tr>\n",
       "    <tr>\n",
       "      <th>12</th>\n",
       "      <td>1</td>\n",
       "      <td>[0.03848948, 0.95189565]</td>\n",
       "    </tr>\n",
       "    <tr>\n",
       "      <th>13</th>\n",
       "      <td>1</td>\n",
       "      <td>[0.10391128, 0.89085054]</td>\n",
       "    </tr>\n",
       "    <tr>\n",
       "      <th>14</th>\n",
       "      <td>1</td>\n",
       "      <td>[0.04138432, 0.96305627]</td>\n",
       "    </tr>\n",
       "    <tr>\n",
       "      <th>15</th>\n",
       "      <td>1</td>\n",
       "      <td>[0.05822546, 0.91023475]</td>\n",
       "    </tr>\n",
       "    <tr>\n",
       "      <th>16</th>\n",
       "      <td>1</td>\n",
       "      <td>[0.1050613, 0.8967202]</td>\n",
       "    </tr>\n",
       "    <tr>\n",
       "      <th>17</th>\n",
       "      <td>0</td>\n",
       "      <td>[0.97393394, 0.022071665]</td>\n",
       "    </tr>\n",
       "    <tr>\n",
       "      <th>18</th>\n",
       "      <td>0</td>\n",
       "      <td>[0.90684664, 0.07095927]</td>\n",
       "    </tr>\n",
       "    <tr>\n",
       "      <th>19</th>\n",
       "      <td>0</td>\n",
       "      <td>[0.9894516, 0.015515684]</td>\n",
       "    </tr>\n",
       "    <tr>\n",
       "      <th>20</th>\n",
       "      <td>1</td>\n",
       "      <td>[0.020741606, 0.98243654]</td>\n",
       "    </tr>\n",
       "    <tr>\n",
       "      <th>21</th>\n",
       "      <td>1</td>\n",
       "      <td>[0.023675371, 0.9713235]</td>\n",
       "    </tr>\n",
       "    <tr>\n",
       "      <th>22</th>\n",
       "      <td>0</td>\n",
       "      <td>[0.9916216, 0.010922838]</td>\n",
       "    </tr>\n",
       "    <tr>\n",
       "      <th>23</th>\n",
       "      <td>0</td>\n",
       "      <td>[0.956098, 0.04988134]</td>\n",
       "    </tr>\n",
       "    <tr>\n",
       "      <th>24</th>\n",
       "      <td>1</td>\n",
       "      <td>[0.06711887, 0.9622129]</td>\n",
       "    </tr>\n",
       "    <tr>\n",
       "      <th>25</th>\n",
       "      <td>0</td>\n",
       "      <td>[0.955232, 0.020597389]</td>\n",
       "    </tr>\n",
       "    <tr>\n",
       "      <th>26</th>\n",
       "      <td>0</td>\n",
       "      <td>[0.9423425, 0.05771846]</td>\n",
       "    </tr>\n",
       "    <tr>\n",
       "      <th>27</th>\n",
       "      <td>0</td>\n",
       "      <td>[0.9768844, 0.01780374]</td>\n",
       "    </tr>\n",
       "    <tr>\n",
       "      <th>28</th>\n",
       "      <td>1</td>\n",
       "      <td>[0.028030576, 0.97437096]</td>\n",
       "    </tr>\n",
       "    <tr>\n",
       "      <th>29</th>\n",
       "      <td>0</td>\n",
       "      <td>[0.9903058, 0.0069323783]</td>\n",
       "    </tr>\n",
       "    <tr>\n",
       "      <th>30</th>\n",
       "      <td>1</td>\n",
       "      <td>[0.033777054, 0.9750353]</td>\n",
       "    </tr>\n",
       "    <tr>\n",
       "      <th>31</th>\n",
       "      <td>0</td>\n",
       "      <td>[0.87669206, 0.15782835]</td>\n",
       "    </tr>\n",
       "  </tbody>\n",
       "</table>\n",
       "</div>"
      ],
      "text/plain": [
       "    class             sigmoid_output\n",
       "0       1     [0.0549558, 0.9671975]\n",
       "1       0  [0.92855555, 0.084180586]\n",
       "2       0   [0.9846106, 0.013184357]\n",
       "3       0   [0.9926764, 0.015788918]\n",
       "4       1   [0.02568907, 0.97624743]\n",
       "5       1   [0.01643768, 0.98858416]\n",
       "6       0    [0.7830823, 0.18636067]\n",
       "7       0    [0.9227696, 0.10922483]\n",
       "8       0   [0.93486184, 0.16715942]\n",
       "9       0   [0.96041244, 0.03462662]\n",
       "10      1  [0.114262186, 0.88409567]\n",
       "11      0   [0.9556251, 0.038273554]\n",
       "12      1   [0.03848948, 0.95189565]\n",
       "13      1   [0.10391128, 0.89085054]\n",
       "14      1   [0.04138432, 0.96305627]\n",
       "15      1   [0.05822546, 0.91023475]\n",
       "16      1     [0.1050613, 0.8967202]\n",
       "17      0  [0.97393394, 0.022071665]\n",
       "18      0   [0.90684664, 0.07095927]\n",
       "19      0   [0.9894516, 0.015515684]\n",
       "20      1  [0.020741606, 0.98243654]\n",
       "21      1   [0.023675371, 0.9713235]\n",
       "22      0   [0.9916216, 0.010922838]\n",
       "23      0     [0.956098, 0.04988134]\n",
       "24      1    [0.06711887, 0.9622129]\n",
       "25      0    [0.955232, 0.020597389]\n",
       "26      0    [0.9423425, 0.05771846]\n",
       "27      0    [0.9768844, 0.01780374]\n",
       "28      1  [0.028030576, 0.97437096]\n",
       "29      0  [0.9903058, 0.0069323783]\n",
       "30      1   [0.033777054, 0.9750353]\n",
       "31      0   [0.87669206, 0.15782835]"
      ]
     },
     "execution_count": 87,
     "metadata": {},
     "output_type": "execute_result"
    }
   ],
   "source": [
    "sigmoids['sigmoid_output'] = list(preds.cpu().detach().numpy())\n",
    "sigmoids"
   ]
  },
  {
   "cell_type": "code",
   "execution_count": null,
   "id": "8eede500",
   "metadata": {},
   "outputs": [],
   "source": [
    "M = np.array([[0,10],\n",
    "              [1,0]], dtype=float)\n",
    "M /= M.max()\n",
    "M = torch.from_numpy(M)\n",
    "M = M.to(torch.float32)\n",
    "M = torch.sum(M, dim=1)\n",
    "M"
   ]
  },
  {
   "cell_type": "code",
   "execution_count": null,
   "id": "d4eaac60",
   "metadata": {},
   "outputs": [],
   "source": [
    "pred = preds.argmax(axis=1)\n",
    "out = torch.cat([out, pred])\n",
    "out = out.cpu()\n",
    "labels = labels.cpu()\n",
    "cm = confusion_matrix(labels, out)\n",
    "f = sns.heatmap(cm, annot=True, fmt='d')\n",
    "plt.show()"
   ]
  },
  {
   "cell_type": "code",
   "execution_count": 43,
   "id": "950375e1",
   "metadata": {},
   "outputs": [
    {
     "data": {
      "image/png": "[encoded data removed]",
      "text/plain": [
       "<Figure size 432x288 with 1 Axes>"
      ]
     },
     "metadata": {
      "needs_background": "light"
     },
     "output_type": "display_data"
    }
   ],
   "source": [
    "plot_losses(history)"
   ]
  },
  {
   "cell_type": "code",
   "execution_count": 44,
   "id": "24e24b56",
   "metadata": {
    "scrolled": true
   },
   "outputs": [
    {
     "data": {
      "image/png": "[encoded data removed]",
      "text/plain": [
       "<Figure size 432x288 with 1 Axes>"
      ]
     },
     "metadata": {
      "needs_background": "light"
     },
     "output_type": "display_data"
    }
   ],
   "source": [
    "plot_accuracies(history)"
   ]
  },
  {
   "cell_type": "code",
   "execution_count": null,
   "id": "378c6c4d",
   "metadata": {},
   "outputs": [],
   "source": [
    "def train_and_eval(num_epochs = 5, dls = dls, lr=0.001, criterion=nn.CrossEntropyLoss()):\n",
    "    history = []\n",
    "    model = create_model(feature_extract=True)\n",
    "    params_to_update = []\n",
    "    for name,param in model.named_parameters():\n",
    "        if param.requires_grad == True:\n",
    "            params_to_update.append(param)\n",
    "    optimizer_ft = optim.SGD(params_to_update, lr=lr, momentum=0.9)\n",
    "    exp_lr_scheduler = lr_scheduler.StepLR(optimizer_ft, step_size=3, gamma=0.1)\n",
    "    model, history_ft = train_model(model, criterion, optimizer_ft, exp_lr_scheduler,\n",
    "                       num_epochs=1)\n",
    "    history.append(history_ft[0])\n",
    "    for param in model.parameters():\n",
    "        param.requires_grad = True\n",
    "    optimizer = optim.SGD(model.parameters(), lr=lr, momentum=0.9)\n",
    "    exp_lr_scheduler = lr_scheduler.StepLR(optimizer, step_size=3, gamma=0.1)\n",
    "    model, history_ft = train_model(model, criterion, optimizer, exp_lr_scheduler,\n",
    "                       num_epochs=num_epochs)\n",
    "    for h in history_ft:\n",
    "        history.append(h)\n",
    "    cm = show_confusion_matrix(model, dls.valid)\n",
    "    plot_losses(history)\n",
    "    plot_accuracies(history)\n",
    "    \n",
    "    return model, history"
   ]
  },
  {
   "cell_type": "code",
   "execution_count": null,
   "id": "fcb1e731",
   "metadata": {},
   "outputs": [],
   "source": [
    "model, history = train_and_eval(num_epochs=2)"
   ]
  },
  {
   "cell_type": "markdown",
   "id": "2afe9f03",
   "metadata": {},
   "source": [
    "# Cost Regularized Loss function"
   ]
  },
  {
   "cell_type": "code",
   "execution_count": null,
   "id": "2b48f27f",
   "metadata": {},
   "outputs": [],
   "source": [
    "n_classes = 2 \n",
    "base_loss = 'ce'\n",
    "lambd = 10\n",
    "criterion = CostSensitiveRegularizedLoss(n_classes=n_classes, base_loss=base_loss, lambd=lambd)"
   ]
  },
  {
   "cell_type": "code",
   "execution_count": null,
   "id": "b7ecbdef",
   "metadata": {},
   "outputs": [],
   "source": [
    "M = np.array([[0,10],\n",
    "              [1,0]], dtype=float)\n",
    "M /= M.max()\n",
    "M = torch.from_numpy(M)\n",
    "M = M.to(torch.float32)\n",
    "criterion.M = M"
   ]
  },
  {
   "cell_type": "code",
   "execution_count": null,
   "id": "8ac4b4aa",
   "metadata": {},
   "outputs": [],
   "source": [
    "model_cs = create_model()"
   ]
  },
  {
   "cell_type": "code",
   "execution_count": null,
   "id": "7313a1e6",
   "metadata": {},
   "outputs": [],
   "source": [
    "lr = 0.0003"
   ]
  },
  {
   "cell_type": "code",
   "execution_count": null,
   "id": "cbe0b7e7",
   "metadata": {},
   "outputs": [],
   "source": [
    "# Observe that all parameters are being optimized\n",
    "optimizer_cs = optim.SGD(model_cs.parameters(), lr=lr, momentum=0.9)\n",
    "\n",
    "# Decay LR by a factor of 0.1 every 7 epochs\n",
    "exp_lr_scheduler = lr_scheduler.StepLR(optimizer_cs, step_size=3, gamma=0.1)"
   ]
  },
  {
   "cell_type": "code",
   "execution_count": null,
   "id": "9520ba28",
   "metadata": {},
   "outputs": [],
   "source": [
    "model_cs, history_cs = train_model(model_cs, criterion, optimizer_cs, exp_lr_scheduler,\n",
    "                       num_epochs=5)"
   ]
  },
  {
   "cell_type": "code",
   "execution_count": null,
   "id": "30911ba1",
   "metadata": {},
   "outputs": [],
   "source": [
    "plot_accuracies(history_cs)"
   ]
  },
  {
   "cell_type": "code",
   "execution_count": null,
   "id": "9a6c2bf7",
   "metadata": {},
   "outputs": [],
   "source": [
    "plot_losses(history_cs)"
   ]
  },
  {
   "cell_type": "code",
   "execution_count": null,
   "id": "e92fa2df",
   "metadata": {},
   "outputs": [],
   "source": [
    "show_confusion_matrix(model_cs, dls.valid)"
   ]
  },
  {
   "cell_type": "code",
   "execution_count": null,
   "id": "482376c2",
   "metadata": {},
   "outputs": [],
   "source": [
    "show_confusion_matrix(model_ft, dls.valid)"
   ]
  },
  {
   "cell_type": "markdown",
   "id": "cccb421e",
   "metadata": {},
   "source": [
    "# Cost Sensitive loss vs CE loss"
   ]
  },
  {
   "cell_type": "code",
   "execution_count": null,
   "id": "481ecb19",
   "metadata": {},
   "outputs": [],
   "source": [
    "feature_extract = True\n",
    "lr = 0.0003"
   ]
  },
  {
   "cell_type": "code",
   "execution_count": null,
   "id": "b492262f",
   "metadata": {},
   "outputs": [],
   "source": [
    "model_ft = create_model(feature_extract=feature_extract)"
   ]
  },
  {
   "cell_type": "code",
   "execution_count": null,
   "id": "fba270a8",
   "metadata": {},
   "outputs": [],
   "source": [
    "params_to_update = model_ft.parameters()\n",
    "print(\"Params to learn:\")\n",
    "if feature_extract:\n",
    "    params_to_update = []\n",
    "    for name,param in model_ft.named_parameters():\n",
    "        if param.requires_grad == True:\n",
    "            params_to_update.append(param)\n",
    "            print(\"\\t\",name)\n",
    "else:\n",
    "    for name,param in model_ft.named_parameters():\n",
    "        if param.requires_grad == True:\n",
    "            print(\"\\t\",name)"
   ]
  },
  {
   "cell_type": "code",
   "execution_count": null,
   "id": "2fdedf39",
   "metadata": {},
   "outputs": [],
   "source": [
    "# Observe that all parameters are being optimized\n",
    "optimizer_ft = optim.SGD(params_to_update, lr=lr, momentum=0.9)\n",
    "# Decay LR by a factor of 0.1 every 7 epochs\n",
    "exp_lr_scheduler = lr_scheduler.StepLR(optimizer_ft, step_size=3, gamma=0.1)"
   ]
  },
  {
   "cell_type": "code",
   "execution_count": null,
   "id": "6f425008",
   "metadata": {},
   "outputs": [],
   "source": [
    "# Setup the loss fxn\n",
    "criterion = nn.CrossEntropyLoss()"
   ]
  },
  {
   "cell_type": "code",
   "execution_count": null,
   "id": "7fb499e0",
   "metadata": {},
   "outputs": [],
   "source": [
    "model_ft, history_ft = train_model(model_ft, criterion, optimizer_ft, exp_lr_scheduler,\n",
    "                       num_epochs=1)"
   ]
  },
  {
   "cell_type": "code",
   "execution_count": null,
   "id": "26ac7761",
   "metadata": {},
   "outputs": [],
   "source": [
    "for param in model_ft.parameters():\n",
    "    param.requires_grad = True"
   ]
  },
  {
   "cell_type": "code",
   "execution_count": null,
   "id": "a013d64d",
   "metadata": {},
   "outputs": [],
   "source": [
    "# Observe that all parameters are being optimized\n",
    "optimizer_ft = optim.SGD(model_ft.parameters(), lr=lr, momentum=0.9)\n",
    "# Decay LR by a factor of 0.1 every 7 epochs\n",
    "exp_lr_scheduler = lr_scheduler.StepLR(optimizer_ft, step_size=3, gamma=0.1)"
   ]
  },
  {
   "cell_type": "code",
   "execution_count": null,
   "id": "bf0e70d6",
   "metadata": {},
   "outputs": [],
   "source": [
    "model_ft, history_ft = train_model(model_ft, criterion, optimizer_ft, exp_lr_scheduler,\n",
    "                       num_epochs=30)"
   ]
  },
  {
   "cell_type": "code",
   "execution_count": null,
   "id": "3c251995",
   "metadata": {
    "scrolled": true
   },
   "outputs": [],
   "source": [
    "show_confusion_matrix(model_ft, dls.valid)"
   ]
  },
  {
   "cell_type": "markdown",
   "id": "6b48b2ae",
   "metadata": {},
   "source": [
    "### Cost Sensitive loss model"
   ]
  },
  {
   "cell_type": "code",
   "execution_count": null,
   "id": "1f600fbe",
   "metadata": {},
   "outputs": [],
   "source": [
    "feature_extract = True\n",
    "lr = 0.0003"
   ]
  },
  {
   "cell_type": "code",
   "execution_count": null,
   "id": "c10cc64c",
   "metadata": {},
   "outputs": [],
   "source": [
    "model_cs = create_model(feature_extract=feature_extract)"
   ]
  },
  {
   "cell_type": "code",
   "execution_count": null,
   "id": "a9e5a71d",
   "metadata": {},
   "outputs": [],
   "source": [
    "params_to_update = model_cs.parameters()\n",
    "print(\"Params to learn:\")\n",
    "if feature_extract:\n",
    "    params_to_update = []\n",
    "    for name,param in model_cs.named_parameters():\n",
    "        if param.requires_grad == True:\n",
    "            params_to_update.append(param)\n",
    "            print(\"\\t\",name)\n",
    "else:\n",
    "    for name,param in model_cs.named_parameters():\n",
    "        if param.requires_grad == True:\n",
    "            print(\"\\t\",name)"
   ]
  },
  {
   "cell_type": "code",
   "execution_count": null,
   "id": "6ff2ff25",
   "metadata": {},
   "outputs": [],
   "source": [
    "# Observe that all parameters are being optimized\n",
    "optimizer_cs = optim.SGD(params_to_update, lr=lr, momentum=0.9)\n",
    "# Decay LR by a factor of 0.1 every 7 epochs\n",
    "exp_lr_scheduler = lr_scheduler.StepLR(optimizer_cs, step_size=3, gamma=0.1)"
   ]
  },
  {
   "cell_type": "code",
   "execution_count": null,
   "id": "ef7a4e4d",
   "metadata": {},
   "outputs": [],
   "source": [
    "n_classes = 2 \n",
    "base_loss = 'ce'\n",
    "lambd = 10\n",
    "criterion = CostSensitiveRegularizedLoss(n_classes=n_classes, base_loss=base_loss, lambd=lambd)"
   ]
  },
  {
   "cell_type": "code",
   "execution_count": null,
   "id": "101656fe",
   "metadata": {},
   "outputs": [],
   "source": [
    "M = np.array([[0,10],\n",
    "              [1,0]], dtype=float)\n",
    "M /= M.max()\n",
    "M = torch.from_numpy(M)\n",
    "M = M.to(torch.float32)\n",
    "criterion.M = M"
   ]
  },
  {
   "cell_type": "code",
   "execution_count": null,
   "id": "06dac169",
   "metadata": {},
   "outputs": [],
   "source": [
    "model_cs, history_cs = train_model(model_cs, criterion, optimizer_cs, exp_lr_scheduler,\n",
    "                       num_epochs=1)"
   ]
  },
  {
   "cell_type": "code",
   "execution_count": null,
   "id": "e833903c",
   "metadata": {},
   "outputs": [],
   "source": [
    "for param in model_cs.parameters():\n",
    "    param.requires_grad = True"
   ]
  },
  {
   "cell_type": "code",
   "execution_count": null,
   "id": "293e5a1c",
   "metadata": {},
   "outputs": [],
   "source": [
    "# Observe that all parameters are being optimized\n",
    "optimizer_cs = optim.SGD(model_cs.parameters(), lr=lr, momentum=0.9)\n",
    "# Decay LR by a factor of 0.1 every 7 epochs\n",
    "exp_lr_scheduler = lr_scheduler.StepLR(optimizer_cs, step_size=3, gamma=0.1)"
   ]
  },
  {
   "cell_type": "code",
   "execution_count": null,
   "id": "a4f05048",
   "metadata": {},
   "outputs": [],
   "source": [
    "model_cs, history_cs = train_model(model_cs, criterion, optimizer_cs, exp_lr_scheduler,\n",
    "                       num_epochs=5)"
   ]
  },
  {
   "cell_type": "code",
   "execution_count": null,
   "id": "b153cc39",
   "metadata": {},
   "outputs": [],
   "source": [
    "show_confusion_matrix(model_cs, dls.valid)"
   ]
  },
  {
   "cell_type": "code",
   "execution_count": null,
   "id": "35f2ceed",
   "metadata": {},
   "outputs": [],
   "source": [
    "num_epochs = min(len(history_ft), len(history_cs))\n",
    "# Plot the training curves of validation accuracy vs. number\n",
    "#  of training epochs for the transfer learning method and\n",
    "#  the model trained from scratch\n",
    "ohist = []\n",
    "shist = []\n",
    "\n",
    "ohist = [history_cs[i]['val_acc'].cpu().numpy() for i in range(0, num_epochs)]\n",
    "shist = [history_ft[i]['val_acc'].cpu().numpy() for i in range(0, num_epochs)]\n",
    "\n",
    "plt.title(\"Validation Accuracy vs. Number of Training Epochs\")\n",
    "plt.xlabel(\"Training Epochs\")\n",
    "plt.ylabel(\"Validation Accuracy\")\n",
    "plt.plot(range(1,num_epochs+1),ohist,label=\"CE loss\")\n",
    "plt.plot(range(1,num_epochs+1),shist,label='CS loss')\n",
    "plt.ylim((0.95,1.))\n",
    "plt.xticks(np.arange(1, num_epochs+1, 1.0))\n",
    "plt.legend()\n",
    "plt.show()"
   ]
  },
  {
   "cell_type": "code",
   "execution_count": null,
   "id": "870a92d1",
   "metadata": {},
   "outputs": [],
   "source": []
  }
 ],
 "metadata": {
  "kernelspec": {
   "display_name": "Python 3",
   "language": "python",
   "name": "python3"
  },
  "language_info": {
   "codemirror_mode": {
    "name": "ipython",
    "version": 3
   },
   "file_extension": ".py",
   "mimetype": "text/x-python",
   "name": "python",
   "nbconvert_exporter": "python",
   "pygments_lexer": "ipython3",
   "version": "3.6.13"
  }
 },
 "nbformat": 4,
 "nbformat_minor": 5
}
