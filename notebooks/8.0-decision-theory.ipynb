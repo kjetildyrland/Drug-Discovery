{
 "cells": [
  {
   "cell_type": "markdown",
   "id": "1a4def1d",
   "metadata": {},
   "source": [
    "# Generate correct probabilities and use decision theory"
   ]
  },
  {
   "cell_type": "code",
   "execution_count": 1,
   "id": "c831fb3f",
   "metadata": {},
   "outputs": [],
   "source": [
    "# Import\n",
    "import pandas as pd\n",
    "import numpy as np\n",
    "from pathlib import Path\n",
    "from scipy.stats import norm\n",
    "import torch\n",
    "import matplotlib.pyplot as plt\n",
    "from sklearn.metrics import ConfusionMatrixDisplay"
   ]
  },
  {
   "cell_type": "code",
   "execution_count": 2,
   "id": "0e4af0a0",
   "metadata": {},
   "outputs": [],
   "source": [
    "from sklearn.metrics import auc,roc_auc_score,recall_score,precision_score,f1_score\n",
    "from sklearn.metrics import matthews_corrcoef\n",
    "from sklearn.metrics import accuracy_score\n",
    "from sklearn.metrics import confusion_matrix\n",
    "import seaborn as sns\n",
    "import random"
   ]
  },
  {
   "cell_type": "code",
   "execution_count": 3,
   "id": "67cdfae3",
   "metadata": {},
   "outputs": [],
   "source": [
    "from utils.probs import *"
   ]
  },
  {
   "cell_type": "code",
   "execution_count": 4,
   "id": "8083d576",
   "metadata": {},
   "outputs": [],
   "source": [
    "path = Path('../dataset/')"
   ]
  },
  {
   "cell_type": "code",
   "execution_count": 5,
   "id": "a927b207",
   "metadata": {},
   "outputs": [],
   "source": [
    "CHEMBL205 = path/'13321_2017_226_MOESM1_ESM/CHEMBL205'"
   ]
  },
  {
   "cell_type": "code",
   "execution_count": 6,
   "id": "8a74a1f4",
   "metadata": {},
   "outputs": [],
   "source": [
    "DATA = path/'probabilities'"
   ]
  },
  {
   "cell_type": "markdown",
   "id": "a9b89817",
   "metadata": {},
   "source": [
    "# Start by calculating probabilities from the transducer"
   ]
  },
  {
   "cell_type": "markdown",
   "id": "5244e925",
   "metadata": {},
   "source": [
    "### RF model test set 1"
   ]
  },
  {
   "cell_type": "code",
   "execution_count": 54,
   "id": "d0ba1fbd",
   "metadata": {},
   "outputs": [],
   "source": [
    "df_RF = pd.read_csv(DATA/'RF_transducer_parameters.csv')"
   ]
  },
  {
   "cell_type": "code",
   "execution_count": 55,
   "id": "e6d3564d",
   "metadata": {},
   "outputs": [
    {
     "data": {
      "text/html": [
       "<div>\n",
       "<style scoped>\n",
       "    .dataframe tbody tr th:only-of-type {\n",
       "        vertical-align: middle;\n",
       "    }\n",
       "\n",
       "    .dataframe tbody tr th {\n",
       "        vertical-align: top;\n",
       "    }\n",
       "\n",
       "    .dataframe thead th {\n",
       "        text-align: right;\n",
       "    }\n",
       "</style>\n",
       "<table border=\"1\" class=\"dataframe\">\n",
       "  <thead>\n",
       "    <tr style=\"text-align: right;\">\n",
       "      <th></th>\n",
       "      <th>w</th>\n",
       "      <th>p</th>\n",
       "      <th>mu</th>\n",
       "      <th>sigma</th>\n",
       "    </tr>\n",
       "  </thead>\n",
       "  <tbody>\n",
       "    <tr>\n",
       "      <th>0</th>\n",
       "      <td>0.000000e+00</td>\n",
       "      <td>0.491987</td>\n",
       "      <td>-1.843785</td>\n",
       "      <td>64.411109</td>\n",
       "    </tr>\n",
       "    <tr>\n",
       "      <th>1</th>\n",
       "      <td>0.000000e+00</td>\n",
       "      <td>0.788054</td>\n",
       "      <td>-3.254102</td>\n",
       "      <td>2.559278</td>\n",
       "    </tr>\n",
       "    <tr>\n",
       "      <th>2</th>\n",
       "      <td>1.112537e-308</td>\n",
       "      <td>0.343181</td>\n",
       "      <td>-2.595135</td>\n",
       "      <td>24.393199</td>\n",
       "    </tr>\n",
       "    <tr>\n",
       "      <th>3</th>\n",
       "      <td>1.112537e-308</td>\n",
       "      <td>0.316897</td>\n",
       "      <td>-3.025610</td>\n",
       "      <td>43.260737</td>\n",
       "    </tr>\n",
       "    <tr>\n",
       "      <th>4</th>\n",
       "      <td>2.997243e-308</td>\n",
       "      <td>0.554096</td>\n",
       "      <td>-5.659872</td>\n",
       "      <td>4.178666</td>\n",
       "    </tr>\n",
       "  </tbody>\n",
       "</table>\n",
       "</div>"
      ],
      "text/plain": [
       "               w         p        mu      sigma\n",
       "0   0.000000e+00  0.491987 -1.843785  64.411109\n",
       "1   0.000000e+00  0.788054 -3.254102   2.559278\n",
       "2  1.112537e-308  0.343181 -2.595135  24.393199\n",
       "3  1.112537e-308  0.316897 -3.025610  43.260737\n",
       "4  2.997243e-308  0.554096 -5.659872   4.178666"
      ]
     },
     "execution_count": 55,
     "metadata": {},
     "output_type": "execute_result"
    }
   ],
   "source": [
    "df_RF.head()"
   ]
  },
  {
   "cell_type": "code",
   "execution_count": 56,
   "id": "29c24791",
   "metadata": {},
   "outputs": [
    {
     "name": "stdout",
     "output_type": "stream",
     "text": [
      "<class 'pandas.core.frame.DataFrame'>\n",
      "RangeIndex: 262144 entries, 0 to 262143\n",
      "Data columns (total 4 columns):\n",
      " #   Column  Non-Null Count   Dtype  \n",
      "---  ------  --------------   -----  \n",
      " 0   w       262144 non-null  float64\n",
      " 1   p       262144 non-null  float64\n",
      " 2   mu      262144 non-null  float64\n",
      " 3   sigma   262144 non-null  float64\n",
      "dtypes: float64(4)\n",
      "memory usage: 8.0 MB\n"
     ]
    }
   ],
   "source": [
    "df_RF.info()"
   ]
  },
  {
   "cell_type": "code",
   "execution_count": 72,
   "id": "c5d3ebbd",
   "metadata": {},
   "outputs": [],
   "source": [
    "df_test1 = pd.read_csv(CHEMBL205/'CHEMBL205_predictions_RF_test1_calibration.csv')"
   ]
  },
  {
   "cell_type": "code",
   "execution_count": 73,
   "id": "b5363512",
   "metadata": {},
   "outputs": [
    {
     "data": {
      "text/html": [
       "<div>\n",
       "<style scoped>\n",
       "    .dataframe tbody tr th:only-of-type {\n",
       "        vertical-align: middle;\n",
       "    }\n",
       "\n",
       "    .dataframe tbody tr th {\n",
       "        vertical-align: top;\n",
       "    }\n",
       "\n",
       "    .dataframe thead th {\n",
       "        text-align: right;\n",
       "    }\n",
       "</style>\n",
       "<table border=\"1\" class=\"dataframe\">\n",
       "  <thead>\n",
       "    <tr style=\"text-align: right;\">\n",
       "      <th></th>\n",
       "      <th>class</th>\n",
       "      <th>predictions</th>\n",
       "      <th>predicted_class</th>\n",
       "    </tr>\n",
       "  </thead>\n",
       "  <tbody>\n",
       "    <tr>\n",
       "      <th>0</th>\n",
       "      <td>0</td>\n",
       "      <td>[0.975 0.025]</td>\n",
       "      <td>0</td>\n",
       "    </tr>\n",
       "    <tr>\n",
       "      <th>1</th>\n",
       "      <td>0</td>\n",
       "      <td>[0.99 0.01]</td>\n",
       "      <td>0</td>\n",
       "    </tr>\n",
       "    <tr>\n",
       "      <th>2</th>\n",
       "      <td>0</td>\n",
       "      <td>[0.95 0.05]</td>\n",
       "      <td>0</td>\n",
       "    </tr>\n",
       "    <tr>\n",
       "      <th>3</th>\n",
       "      <td>0</td>\n",
       "      <td>[0.995 0.005]</td>\n",
       "      <td>0</td>\n",
       "    </tr>\n",
       "    <tr>\n",
       "      <th>4</th>\n",
       "      <td>1</td>\n",
       "      <td>[0.105 0.895]</td>\n",
       "      <td>1</td>\n",
       "    </tr>\n",
       "  </tbody>\n",
       "</table>\n",
       "</div>"
      ],
      "text/plain": [
       "   class    predictions  predicted_class\n",
       "0      0  [0.975 0.025]                0\n",
       "1      0    [0.99 0.01]                0\n",
       "2      0    [0.95 0.05]                0\n",
       "3      0  [0.995 0.005]                0\n",
       "4      1  [0.105 0.895]                1"
      ]
     },
     "execution_count": 73,
     "metadata": {},
     "output_type": "execute_result"
    }
   ],
   "source": [
    "df_test1.head()"
   ]
  },
  {
   "cell_type": "code",
   "execution_count": 74,
   "id": "60088031",
   "metadata": {},
   "outputs": [
    {
     "data": {
      "text/html": [
       "<div>\n",
       "<style scoped>\n",
       "    .dataframe tbody tr th:only-of-type {\n",
       "        vertical-align: middle;\n",
       "    }\n",
       "\n",
       "    .dataframe tbody tr th {\n",
       "        vertical-align: top;\n",
       "    }\n",
       "\n",
       "    .dataframe thead th {\n",
       "        text-align: right;\n",
       "    }\n",
       "</style>\n",
       "<table border=\"1\" class=\"dataframe\">\n",
       "  <thead>\n",
       "    <tr style=\"text-align: right;\">\n",
       "      <th></th>\n",
       "      <th>class</th>\n",
       "      <th>predicted_class</th>\n",
       "      <th>pred_0</th>\n",
       "    </tr>\n",
       "  </thead>\n",
       "  <tbody>\n",
       "    <tr>\n",
       "      <th>0</th>\n",
       "      <td>0</td>\n",
       "      <td>0</td>\n",
       "      <td>0.975</td>\n",
       "    </tr>\n",
       "    <tr>\n",
       "      <th>1</th>\n",
       "      <td>0</td>\n",
       "      <td>0</td>\n",
       "      <td>0.990</td>\n",
       "    </tr>\n",
       "    <tr>\n",
       "      <th>2</th>\n",
       "      <td>0</td>\n",
       "      <td>0</td>\n",
       "      <td>0.950</td>\n",
       "    </tr>\n",
       "    <tr>\n",
       "      <th>3</th>\n",
       "      <td>0</td>\n",
       "      <td>0</td>\n",
       "      <td>0.995</td>\n",
       "    </tr>\n",
       "    <tr>\n",
       "      <th>4</th>\n",
       "      <td>1</td>\n",
       "      <td>1</td>\n",
       "      <td>0.105</td>\n",
       "    </tr>\n",
       "  </tbody>\n",
       "</table>\n",
       "</div>"
      ],
      "text/plain": [
       "   class  predicted_class  pred_0\n",
       "0      0                0   0.975\n",
       "1      0                0   0.990\n",
       "2      0                0   0.950\n",
       "3      0                0   0.995\n",
       "4      1                1   0.105"
      ]
     },
     "execution_count": 74,
     "metadata": {},
     "output_type": "execute_result"
    }
   ],
   "source": [
    "df_test1['preds'] = [get_substring_list(r['predictions'].split(' '))  for i, r in df_test1.iterrows()] # str to list\n",
    "df_test1['pred_0'] = [r['preds'][0] for i, r in df_test1.iterrows()]\n",
    "df_test1 = df_test1.drop(columns=['predictions', 'preds'])\n",
    "df_test1.head()"
   ]
  },
  {
   "cell_type": "code",
   "execution_count": 75,
   "id": "a9bf261e",
   "metadata": {},
   "outputs": [
    {
     "data": {
      "text/plain": [
       "0    0.975\n",
       "1    0.990\n",
       "2    0.950\n",
       "3    0.995\n",
       "4    0.105\n",
       "Name: pred_0, dtype: float64"
      ]
     },
     "execution_count": 75,
     "metadata": {},
     "output_type": "execute_result"
    }
   ],
   "source": [
    "df_output = df_test1.pred_0\n",
    "df_output.head()"
   ]
  },
  {
   "cell_type": "code",
   "execution_count": 76,
   "id": "ffe9f815",
   "metadata": {},
   "outputs": [],
   "source": [
    "preds = df_output.to_numpy()"
   ]
  },
  {
   "cell_type": "code",
   "execution_count": 77,
   "id": "599aa87e",
   "metadata": {},
   "outputs": [
    {
     "data": {
      "text/plain": [
       "array([0.975, 0.99 , 0.95 , ..., 0.99 , 0.3  , 0.975])"
      ]
     },
     "execution_count": 77,
     "metadata": {},
     "output_type": "execute_result"
    }
   ],
   "source": [
    "preds"
   ]
  },
  {
   "cell_type": "code",
   "execution_count": 78,
   "id": "ada1048d",
   "metadata": {},
   "outputs": [],
   "source": [
    "def RF_direct_prob(x, cl, w, p, m, s):\n",
    "    \"\"\"\n",
    "    Gives probability of class conditional on RF-output\n",
    "    x = RF output (between 0 and 1)\n",
    "    cl = class (0 or 1)\n",
    "    w = array of weights\n",
    "    p = array of probs\n",
    "    m = array of means for gaussian\n",
    "    s = array of standard devs for gaussian\n",
    "    \"\"\"\n",
    "    cl = 1 - cl\n",
    "    c = 1 - 2**-10\n",
    "    x2 = 0.5 + (x-0.5) * c\n",
    "    y = np.log(x2/(1-x2))\n",
    "    pc = p*cl + (1-p) * (1-cl)\n",
    "    pjoint = np.sum(pc * w * norm.pdf(y, loc=m, scale=s))\n",
    "    px = np.sum(w * norm.pdf(y, loc=m, scale=s))\n",
    "    out = pjoint / px\n",
    "    return out"
   ]
  },
  {
   "cell_type": "code",
   "execution_count": 79,
   "id": "298c3091",
   "metadata": {},
   "outputs": [],
   "source": [
    "df = df_RF\n",
    "mu = df.mu.to_numpy()\n",
    "sigma = df.sigma.to_numpy()\n",
    "p = df.p.to_numpy()\n",
    "w = df.w.to_numpy()"
   ]
  },
  {
   "cell_type": "code",
   "execution_count": 80,
   "id": "43d07939",
   "metadata": {},
   "outputs": [
    {
     "data": {
      "text/plain": [
       "array([0.975, 0.99 , 0.95 , ..., 0.99 , 0.3  , 0.975])"
      ]
     },
     "execution_count": 80,
     "metadata": {},
     "output_type": "execute_result"
    }
   ],
   "source": [
    "preds"
   ]
  },
  {
   "cell_type": "code",
   "execution_count": 81,
   "id": "b1724fb3",
   "metadata": {},
   "outputs": [],
   "source": [
    "def get_probs_RF(preds, cl):\n",
    "    all_probs = np.array([])\n",
    "    for pred in preds:\n",
    "        prob = RF_direct_prob(pred, cl, w, p, mu, sigma)\n",
    "        all_probs = np.append(all_probs, prob)\n",
    "    return all_probs"
   ]
  },
  {
   "cell_type": "code",
   "execution_count": 82,
   "id": "52eebe5c",
   "metadata": {},
   "outputs": [
    {
     "data": {
      "text/plain": [
       "array([0.91033801, 0.86102612, 0.91679452, ..., 0.86102612, 0.46657741,\n",
       "       0.91033801])"
      ]
     },
     "execution_count": 82,
     "metadata": {},
     "output_type": "execute_result"
    }
   ],
   "source": [
    "all_probs_1 = get_probs_RF(preds, 0)\n",
    "all_probs_1"
   ]
  },
  {
   "cell_type": "code",
   "execution_count": 83,
   "id": "428cee72",
   "metadata": {},
   "outputs": [],
   "source": [
    "def make_equal_pred_rand(df):\n",
    "    rands = []\n",
    "    for i in range(0, len(df[df['pred_0'] == 0.5])):\n",
    "        rands.append(random.randint(0, 1))\n",
    "    df.loc[df['pred_0'] == 0.5, 'predicted_class'] = rands\n",
    "    return df"
   ]
  },
  {
   "cell_type": "code",
   "execution_count": 84,
   "id": "5e986c17",
   "metadata": {},
   "outputs": [],
   "source": [
    "df_test1 = make_equal_pred_rand(df_test1)"
   ]
  },
  {
   "cell_type": "code",
   "execution_count": 85,
   "id": "da891329",
   "metadata": {},
   "outputs": [
    {
     "data": {
      "text/html": [
       "<div>\n",
       "<style scoped>\n",
       "    .dataframe tbody tr th:only-of-type {\n",
       "        vertical-align: middle;\n",
       "    }\n",
       "\n",
       "    .dataframe tbody tr th {\n",
       "        vertical-align: top;\n",
       "    }\n",
       "\n",
       "    .dataframe thead th {\n",
       "        text-align: right;\n",
       "    }\n",
       "</style>\n",
       "<table border=\"1\" class=\"dataframe\">\n",
       "  <thead>\n",
       "    <tr style=\"text-align: right;\">\n",
       "      <th></th>\n",
       "      <th>class</th>\n",
       "      <th>predicted_class</th>\n",
       "      <th>pred_0</th>\n",
       "      <th>prob_0</th>\n",
       "    </tr>\n",
       "  </thead>\n",
       "  <tbody>\n",
       "    <tr>\n",
       "      <th>0</th>\n",
       "      <td>0</td>\n",
       "      <td>0</td>\n",
       "      <td>0.975</td>\n",
       "      <td>0.910338</td>\n",
       "    </tr>\n",
       "    <tr>\n",
       "      <th>1</th>\n",
       "      <td>0</td>\n",
       "      <td>0</td>\n",
       "      <td>0.990</td>\n",
       "      <td>0.861026</td>\n",
       "    </tr>\n",
       "    <tr>\n",
       "      <th>2</th>\n",
       "      <td>0</td>\n",
       "      <td>0</td>\n",
       "      <td>0.950</td>\n",
       "      <td>0.916795</td>\n",
       "    </tr>\n",
       "    <tr>\n",
       "      <th>3</th>\n",
       "      <td>0</td>\n",
       "      <td>0</td>\n",
       "      <td>0.995</td>\n",
       "      <td>0.752224</td>\n",
       "    </tr>\n",
       "    <tr>\n",
       "      <th>4</th>\n",
       "      <td>1</td>\n",
       "      <td>1</td>\n",
       "      <td>0.105</td>\n",
       "      <td>0.020987</td>\n",
       "    </tr>\n",
       "    <tr>\n",
       "      <th>...</th>\n",
       "      <td>...</td>\n",
       "      <td>...</td>\n",
       "      <td>...</td>\n",
       "      <td>...</td>\n",
       "    </tr>\n",
       "    <tr>\n",
       "      <th>3584</th>\n",
       "      <td>0</td>\n",
       "      <td>0</td>\n",
       "      <td>0.995</td>\n",
       "      <td>0.752224</td>\n",
       "    </tr>\n",
       "    <tr>\n",
       "      <th>3585</th>\n",
       "      <td>0</td>\n",
       "      <td>0</td>\n",
       "      <td>0.915</td>\n",
       "      <td>0.915859</td>\n",
       "    </tr>\n",
       "    <tr>\n",
       "      <th>3586</th>\n",
       "      <td>0</td>\n",
       "      <td>0</td>\n",
       "      <td>0.990</td>\n",
       "      <td>0.861026</td>\n",
       "    </tr>\n",
       "    <tr>\n",
       "      <th>3587</th>\n",
       "      <td>1</td>\n",
       "      <td>1</td>\n",
       "      <td>0.300</td>\n",
       "      <td>0.466577</td>\n",
       "    </tr>\n",
       "    <tr>\n",
       "      <th>3588</th>\n",
       "      <td>0</td>\n",
       "      <td>0</td>\n",
       "      <td>0.975</td>\n",
       "      <td>0.910338</td>\n",
       "    </tr>\n",
       "  </tbody>\n",
       "</table>\n",
       "<p>3589 rows × 4 columns</p>\n",
       "</div>"
      ],
      "text/plain": [
       "      class  predicted_class  pred_0    prob_0\n",
       "0         0                0   0.975  0.910338\n",
       "1         0                0   0.990  0.861026\n",
       "2         0                0   0.950  0.916795\n",
       "3         0                0   0.995  0.752224\n",
       "4         1                1   0.105  0.020987\n",
       "...     ...              ...     ...       ...\n",
       "3584      0                0   0.995  0.752224\n",
       "3585      0                0   0.915  0.915859\n",
       "3586      0                0   0.990  0.861026\n",
       "3587      1                1   0.300  0.466577\n",
       "3588      0                0   0.975  0.910338\n",
       "\n",
       "[3589 rows x 4 columns]"
      ]
     },
     "execution_count": 85,
     "metadata": {},
     "output_type": "execute_result"
    }
   ],
   "source": [
    "df_test1['prob_0'] = all_probs_1\n",
    "#df_all['probs_class_1'] = all_probs_1\n",
    "df_test1"
   ]
  },
  {
   "cell_type": "code",
   "execution_count": 86,
   "id": "d27759d9",
   "metadata": {
    "scrolled": true
   },
   "outputs": [
    {
     "data": {
      "image/png": "[encoded data removed]",
      "text/plain": [
       "<Figure size 432x288 with 1 Axes>"
      ]
     },
     "metadata": {
      "needs_background": "light"
     },
     "output_type": "display_data"
    }
   ],
   "source": [
    "df_test1.plot.scatter(x='pred_0', y='prob_0')\n",
    "plt.xlabel('RF % Output')\n",
    "plt.ylabel('probability of class 0')\n",
    "plt.xlim(0,1)\n",
    "plt.ylim(0,1)\n",
    "plt.grid()\n",
    "\n",
    "\n",
    "#plt.savefig('../dataset/RF_output.png')\n",
    "plt.show()"
   ]
  },
  {
   "cell_type": "markdown",
   "id": "85417d59",
   "metadata": {},
   "source": [
    "## Confusion matrix for original predictions"
   ]
  },
  {
   "cell_type": "code",
   "execution_count": 28,
   "id": "c5440cd0",
   "metadata": {},
   "outputs": [
    {
     "data": {
      "image/png": "[encoded data removed]",
      "text/plain": [
       "<Figure size 432x288 with 2 Axes>"
      ]
     },
     "metadata": {
      "needs_background": "light"
     },
     "output_type": "display_data"
    }
   ],
   "source": [
    "y = df_test1['class'].to_numpy()\n",
    "y_pred = df_test1.predicted_class.to_numpy()\n",
    "cm = confusion_matrix(y, y_pred)\n",
    "f = sns.heatmap(cm, annot=True, fmt='d')\n",
    "plt.show()"
   ]
  },
  {
   "cell_type": "markdown",
   "id": "8df944b7",
   "metadata": {},
   "source": [
    "## Confusion matrix for corrected predictions"
   ]
  },
  {
   "cell_type": "code",
   "execution_count": 29,
   "id": "d96975d3",
   "metadata": {},
   "outputs": [],
   "source": [
    "y_pred = df_test1['prob_0']"
   ]
  },
  {
   "cell_type": "code",
   "execution_count": 30,
   "id": "4290d2e4",
   "metadata": {},
   "outputs": [
    {
     "ename": "ValueError",
     "evalue": "Classification metrics can't handle a mix of binary and continuous targets",
     "output_type": "error",
     "traceback": [
      "\u001b[0;31m---------------------------------------------------------------------------\u001b[0m",
      "\u001b[0;31mValueError\u001b[0m                                Traceback (most recent call last)",
      "\u001b[0;32m/tmp/ipykernel_36833/792402794.py\u001b[0m in \u001b[0;36m<module>\u001b[0;34m\u001b[0m\n\u001b[1;32m      1\u001b[0m \u001b[0my\u001b[0m \u001b[0;34m=\u001b[0m \u001b[0mdf_test1\u001b[0m\u001b[0;34m[\u001b[0m\u001b[0;34m'class'\u001b[0m\u001b[0;34m]\u001b[0m\u001b[0;34m.\u001b[0m\u001b[0mto_numpy\u001b[0m\u001b[0;34m(\u001b[0m\u001b[0;34m)\u001b[0m\u001b[0;34m\u001b[0m\u001b[0;34m\u001b[0m\u001b[0m\n\u001b[1;32m      2\u001b[0m \u001b[0my_pred\u001b[0m \u001b[0;34m=\u001b[0m \u001b[0mdf_test1\u001b[0m\u001b[0;34m[\u001b[0m\u001b[0;34m'prob_0'\u001b[0m\u001b[0;34m]\u001b[0m\u001b[0;34m.\u001b[0m\u001b[0mto_numpy\u001b[0m\u001b[0;34m(\u001b[0m\u001b[0;34m)\u001b[0m\u001b[0;34m\u001b[0m\u001b[0;34m\u001b[0m\u001b[0m\n\u001b[0;32m----> 3\u001b[0;31m \u001b[0mcm\u001b[0m \u001b[0;34m=\u001b[0m \u001b[0mconfusion_matrix\u001b[0m\u001b[0;34m(\u001b[0m\u001b[0my\u001b[0m\u001b[0;34m,\u001b[0m \u001b[0my_pred\u001b[0m\u001b[0;34m)\u001b[0m\u001b[0;34m\u001b[0m\u001b[0;34m\u001b[0m\u001b[0m\n\u001b[0m\u001b[1;32m      4\u001b[0m \u001b[0mf\u001b[0m \u001b[0;34m=\u001b[0m \u001b[0msns\u001b[0m\u001b[0;34m.\u001b[0m\u001b[0mheatmap\u001b[0m\u001b[0;34m(\u001b[0m\u001b[0mcm\u001b[0m\u001b[0;34m,\u001b[0m \u001b[0mannot\u001b[0m\u001b[0;34m=\u001b[0m\u001b[0;32mTrue\u001b[0m\u001b[0;34m,\u001b[0m \u001b[0mfmt\u001b[0m\u001b[0;34m=\u001b[0m\u001b[0;34m'd'\u001b[0m\u001b[0;34m)\u001b[0m\u001b[0;34m\u001b[0m\u001b[0;34m\u001b[0m\u001b[0m\n\u001b[1;32m      5\u001b[0m \u001b[0mplt\u001b[0m\u001b[0;34m.\u001b[0m\u001b[0mshow\u001b[0m\u001b[0;34m(\u001b[0m\u001b[0;34m)\u001b[0m\u001b[0;34m\u001b[0m\u001b[0;34m\u001b[0m\u001b[0m\n",
      "\u001b[0;32m~/anaconda3/envs/fastai-drug/lib/python3.7/site-packages/sklearn/metrics/_classification.py\u001b[0m in \u001b[0;36mconfusion_matrix\u001b[0;34m(y_true, y_pred, labels, sample_weight, normalize)\u001b[0m\n\u001b[1;32m    305\u001b[0m     \u001b[0;34m(\u001b[0m\u001b[0;36m0\u001b[0m\u001b[0;34m,\u001b[0m \u001b[0;36m2\u001b[0m\u001b[0;34m,\u001b[0m \u001b[0;36m1\u001b[0m\u001b[0;34m,\u001b[0m \u001b[0;36m1\u001b[0m\u001b[0;34m)\u001b[0m\u001b[0;34m\u001b[0m\u001b[0;34m\u001b[0m\u001b[0m\n\u001b[1;32m    306\u001b[0m     \"\"\"\n\u001b[0;32m--> 307\u001b[0;31m     \u001b[0my_type\u001b[0m\u001b[0;34m,\u001b[0m \u001b[0my_true\u001b[0m\u001b[0;34m,\u001b[0m \u001b[0my_pred\u001b[0m \u001b[0;34m=\u001b[0m \u001b[0m_check_targets\u001b[0m\u001b[0;34m(\u001b[0m\u001b[0my_true\u001b[0m\u001b[0;34m,\u001b[0m \u001b[0my_pred\u001b[0m\u001b[0;34m)\u001b[0m\u001b[0;34m\u001b[0m\u001b[0;34m\u001b[0m\u001b[0m\n\u001b[0m\u001b[1;32m    308\u001b[0m     \u001b[0;32mif\u001b[0m \u001b[0my_type\u001b[0m \u001b[0;32mnot\u001b[0m \u001b[0;32min\u001b[0m \u001b[0;34m(\u001b[0m\u001b[0;34m\"binary\"\u001b[0m\u001b[0;34m,\u001b[0m \u001b[0;34m\"multiclass\"\u001b[0m\u001b[0;34m)\u001b[0m\u001b[0;34m:\u001b[0m\u001b[0;34m\u001b[0m\u001b[0;34m\u001b[0m\u001b[0m\n\u001b[1;32m    309\u001b[0m         \u001b[0;32mraise\u001b[0m \u001b[0mValueError\u001b[0m\u001b[0;34m(\u001b[0m\u001b[0;34m\"%s is not supported\"\u001b[0m \u001b[0;34m%\u001b[0m \u001b[0my_type\u001b[0m\u001b[0;34m)\u001b[0m\u001b[0;34m\u001b[0m\u001b[0;34m\u001b[0m\u001b[0m\n",
      "\u001b[0;32m~/anaconda3/envs/fastai-drug/lib/python3.7/site-packages/sklearn/metrics/_classification.py\u001b[0m in \u001b[0;36m_check_targets\u001b[0;34m(y_true, y_pred)\u001b[0m\n\u001b[1;32m     93\u001b[0m         raise ValueError(\n\u001b[1;32m     94\u001b[0m             \"Classification metrics can't handle a mix of {0} and {1} targets\".format(\n\u001b[0;32m---> 95\u001b[0;31m                 \u001b[0mtype_true\u001b[0m\u001b[0;34m,\u001b[0m \u001b[0mtype_pred\u001b[0m\u001b[0;34m\u001b[0m\u001b[0;34m\u001b[0m\u001b[0m\n\u001b[0m\u001b[1;32m     96\u001b[0m             )\n\u001b[1;32m     97\u001b[0m         )\n",
      "\u001b[0;31mValueError\u001b[0m: Classification metrics can't handle a mix of binary and continuous targets"
     ]
    }
   ],
   "source": [
    "y = df_test1['class'].to_numpy()\n",
    "y_pred = df_test1['prob_0'].to_numpy()\n",
    "cm = confusion_matrix(y, y_pred)\n",
    "f = sns.heatmap(cm, annot=True, fmt='d')\n",
    "plt.show()"
   ]
  },
  {
   "cell_type": "code",
   "execution_count": 31,
   "id": "ef58193f",
   "metadata": {},
   "outputs": [],
   "source": [
    "df_test1.to_csv(DATA/'RF_bayesian_prob_test1_calibration.csv', index=False)"
   ]
  },
  {
   "cell_type": "markdown",
   "id": "accbf4af",
   "metadata": {},
   "source": [
    "### same for test set 2"
   ]
  },
  {
   "cell_type": "code",
   "execution_count": 87,
   "id": "43496e34",
   "metadata": {},
   "outputs": [
    {
     "data": {
      "text/html": [
       "<div>\n",
       "<style scoped>\n",
       "    .dataframe tbody tr th:only-of-type {\n",
       "        vertical-align: middle;\n",
       "    }\n",
       "\n",
       "    .dataframe tbody tr th {\n",
       "        vertical-align: top;\n",
       "    }\n",
       "\n",
       "    .dataframe thead th {\n",
       "        text-align: right;\n",
       "    }\n",
       "</style>\n",
       "<table border=\"1\" class=\"dataframe\">\n",
       "  <thead>\n",
       "    <tr style=\"text-align: right;\">\n",
       "      <th></th>\n",
       "      <th>class</th>\n",
       "      <th>predictions</th>\n",
       "      <th>predicted_class</th>\n",
       "    </tr>\n",
       "  </thead>\n",
       "  <tbody>\n",
       "    <tr>\n",
       "      <th>0</th>\n",
       "      <td>1</td>\n",
       "      <td>[0.405 0.595]</td>\n",
       "      <td>1</td>\n",
       "    </tr>\n",
       "    <tr>\n",
       "      <th>1</th>\n",
       "      <td>1</td>\n",
       "      <td>[0.075 0.925]</td>\n",
       "      <td>1</td>\n",
       "    </tr>\n",
       "    <tr>\n",
       "      <th>2</th>\n",
       "      <td>0</td>\n",
       "      <td>[0.945 0.055]</td>\n",
       "      <td>0</td>\n",
       "    </tr>\n",
       "    <tr>\n",
       "      <th>3</th>\n",
       "      <td>0</td>\n",
       "      <td>[0.975 0.025]</td>\n",
       "      <td>0</td>\n",
       "    </tr>\n",
       "    <tr>\n",
       "      <th>4</th>\n",
       "      <td>0</td>\n",
       "      <td>[0.95 0.05]</td>\n",
       "      <td>0</td>\n",
       "    </tr>\n",
       "  </tbody>\n",
       "</table>\n",
       "</div>"
      ],
      "text/plain": [
       "   class    predictions  predicted_class\n",
       "0      1  [0.405 0.595]                1\n",
       "1      1  [0.075 0.925]                1\n",
       "2      0  [0.945 0.055]                0\n",
       "3      0  [0.975 0.025]                0\n",
       "4      0    [0.95 0.05]                0"
      ]
     },
     "execution_count": 87,
     "metadata": {},
     "output_type": "execute_result"
    }
   ],
   "source": [
    "df_test2 = pd.read_csv(f'{CHEMBL205}/CHEMBL205_predictions_RF_test2_demonstration.csv')\n",
    "df_test2.head()"
   ]
  },
  {
   "cell_type": "code",
   "execution_count": 88,
   "id": "bd5ccbe1",
   "metadata": {},
   "outputs": [
    {
     "data": {
      "text/html": [
       "<div>\n",
       "<style scoped>\n",
       "    .dataframe tbody tr th:only-of-type {\n",
       "        vertical-align: middle;\n",
       "    }\n",
       "\n",
       "    .dataframe tbody tr th {\n",
       "        vertical-align: top;\n",
       "    }\n",
       "\n",
       "    .dataframe thead th {\n",
       "        text-align: right;\n",
       "    }\n",
       "</style>\n",
       "<table border=\"1\" class=\"dataframe\">\n",
       "  <thead>\n",
       "    <tr style=\"text-align: right;\">\n",
       "      <th></th>\n",
       "      <th>class</th>\n",
       "      <th>predictions</th>\n",
       "      <th>predicted_class</th>\n",
       "      <th>preds</th>\n",
       "      <th>pred_0</th>\n",
       "    </tr>\n",
       "  </thead>\n",
       "  <tbody>\n",
       "    <tr>\n",
       "      <th>0</th>\n",
       "      <td>1</td>\n",
       "      <td>[0.405 0.595]</td>\n",
       "      <td>1</td>\n",
       "      <td>[0.405, 0.595]</td>\n",
       "      <td>0.405</td>\n",
       "    </tr>\n",
       "    <tr>\n",
       "      <th>1</th>\n",
       "      <td>1</td>\n",
       "      <td>[0.075 0.925]</td>\n",
       "      <td>1</td>\n",
       "      <td>[0.075, 0.925]</td>\n",
       "      <td>0.075</td>\n",
       "    </tr>\n",
       "    <tr>\n",
       "      <th>2</th>\n",
       "      <td>0</td>\n",
       "      <td>[0.945 0.055]</td>\n",
       "      <td>0</td>\n",
       "      <td>[0.945, 0.055]</td>\n",
       "      <td>0.945</td>\n",
       "    </tr>\n",
       "    <tr>\n",
       "      <th>3</th>\n",
       "      <td>0</td>\n",
       "      <td>[0.975 0.025]</td>\n",
       "      <td>0</td>\n",
       "      <td>[0.975, 0.025]</td>\n",
       "      <td>0.975</td>\n",
       "    </tr>\n",
       "    <tr>\n",
       "      <th>4</th>\n",
       "      <td>0</td>\n",
       "      <td>[0.95 0.05]</td>\n",
       "      <td>0</td>\n",
       "      <td>[0.95, 0.05]</td>\n",
       "      <td>0.950</td>\n",
       "    </tr>\n",
       "  </tbody>\n",
       "</table>\n",
       "</div>"
      ],
      "text/plain": [
       "   class    predictions  predicted_class           preds  pred_0\n",
       "0      1  [0.405 0.595]                1  [0.405, 0.595]   0.405\n",
       "1      1  [0.075 0.925]                1  [0.075, 0.925]   0.075\n",
       "2      0  [0.945 0.055]                0  [0.945, 0.055]   0.945\n",
       "3      0  [0.975 0.025]                0  [0.975, 0.025]   0.975\n",
       "4      0    [0.95 0.05]                0    [0.95, 0.05]   0.950"
      ]
     },
     "execution_count": 88,
     "metadata": {},
     "output_type": "execute_result"
    }
   ],
   "source": [
    "df_test2['preds'] = [get_substring_list(r['predictions'].split(' '))  for i, r in df_test2.iterrows()] # str to list\n",
    "df_test2['pred_0'] = [r['preds'][0] for i, r in df_test2.iterrows()]\n",
    "df_test2.head()"
   ]
  },
  {
   "cell_type": "code",
   "execution_count": 89,
   "id": "5ef78784",
   "metadata": {},
   "outputs": [
    {
     "data": {
      "text/html": [
       "<div>\n",
       "<style scoped>\n",
       "    .dataframe tbody tr th:only-of-type {\n",
       "        vertical-align: middle;\n",
       "    }\n",
       "\n",
       "    .dataframe tbody tr th {\n",
       "        vertical-align: top;\n",
       "    }\n",
       "\n",
       "    .dataframe thead th {\n",
       "        text-align: right;\n",
       "    }\n",
       "</style>\n",
       "<table border=\"1\" class=\"dataframe\">\n",
       "  <thead>\n",
       "    <tr style=\"text-align: right;\">\n",
       "      <th></th>\n",
       "      <th>class</th>\n",
       "      <th>predicted_class</th>\n",
       "      <th>pred_0</th>\n",
       "    </tr>\n",
       "  </thead>\n",
       "  <tbody>\n",
       "    <tr>\n",
       "      <th>0</th>\n",
       "      <td>1</td>\n",
       "      <td>1</td>\n",
       "      <td>0.405</td>\n",
       "    </tr>\n",
       "    <tr>\n",
       "      <th>1</th>\n",
       "      <td>1</td>\n",
       "      <td>1</td>\n",
       "      <td>0.075</td>\n",
       "    </tr>\n",
       "    <tr>\n",
       "      <th>2</th>\n",
       "      <td>0</td>\n",
       "      <td>0</td>\n",
       "      <td>0.945</td>\n",
       "    </tr>\n",
       "    <tr>\n",
       "      <th>3</th>\n",
       "      <td>0</td>\n",
       "      <td>0</td>\n",
       "      <td>0.975</td>\n",
       "    </tr>\n",
       "    <tr>\n",
       "      <th>4</th>\n",
       "      <td>0</td>\n",
       "      <td>0</td>\n",
       "      <td>0.950</td>\n",
       "    </tr>\n",
       "  </tbody>\n",
       "</table>\n",
       "</div>"
      ],
      "text/plain": [
       "   class  predicted_class  pred_0\n",
       "0      1                1   0.405\n",
       "1      1                1   0.075\n",
       "2      0                0   0.945\n",
       "3      0                0   0.975\n",
       "4      0                0   0.950"
      ]
     },
     "execution_count": 89,
     "metadata": {},
     "output_type": "execute_result"
    }
   ],
   "source": [
    "df_test2 = df_test2.drop(columns=['predictions', 'preds'])\n",
    "df_test2.head()"
   ]
  },
  {
   "cell_type": "code",
   "execution_count": 90,
   "id": "04f4897c",
   "metadata": {},
   "outputs": [],
   "source": [
    "preds = df_test2.pred_0"
   ]
  },
  {
   "cell_type": "code",
   "execution_count": 91,
   "id": "9f7ba9b5",
   "metadata": {},
   "outputs": [
    {
     "data": {
      "text/html": [
       "<div>\n",
       "<style scoped>\n",
       "    .dataframe tbody tr th:only-of-type {\n",
       "        vertical-align: middle;\n",
       "    }\n",
       "\n",
       "    .dataframe tbody tr th {\n",
       "        vertical-align: top;\n",
       "    }\n",
       "\n",
       "    .dataframe thead th {\n",
       "        text-align: right;\n",
       "    }\n",
       "</style>\n",
       "<table border=\"1\" class=\"dataframe\">\n",
       "  <thead>\n",
       "    <tr style=\"text-align: right;\">\n",
       "      <th></th>\n",
       "      <th>class</th>\n",
       "      <th>predicted_class</th>\n",
       "      <th>pred_0</th>\n",
       "    </tr>\n",
       "  </thead>\n",
       "  <tbody>\n",
       "    <tr>\n",
       "      <th>2167</th>\n",
       "      <td>1</td>\n",
       "      <td>0</td>\n",
       "      <td>0.5</td>\n",
       "    </tr>\n",
       "    <tr>\n",
       "      <th>2330</th>\n",
       "      <td>1</td>\n",
       "      <td>0</td>\n",
       "      <td>0.5</td>\n",
       "    </tr>\n",
       "    <tr>\n",
       "      <th>2430</th>\n",
       "      <td>1</td>\n",
       "      <td>0</td>\n",
       "      <td>0.5</td>\n",
       "    </tr>\n",
       "    <tr>\n",
       "      <th>3317</th>\n",
       "      <td>1</td>\n",
       "      <td>0</td>\n",
       "      <td>0.5</td>\n",
       "    </tr>\n",
       "    <tr>\n",
       "      <th>3358</th>\n",
       "      <td>1</td>\n",
       "      <td>0</td>\n",
       "      <td>0.5</td>\n",
       "    </tr>\n",
       "  </tbody>\n",
       "</table>\n",
       "</div>"
      ],
      "text/plain": [
       "      class  predicted_class  pred_0\n",
       "2167      1                0     0.5\n",
       "2330      1                0     0.5\n",
       "2430      1                0     0.5\n",
       "3317      1                0     0.5\n",
       "3358      1                0     0.5"
      ]
     },
     "execution_count": 91,
     "metadata": {},
     "output_type": "execute_result"
    }
   ],
   "source": [
    "arr = df_test2[df_test2['pred_0'] == 0.5]\n",
    "arr = arr[arr['predicted_class'] == 0]\n",
    "arr"
   ]
  },
  {
   "cell_type": "code",
   "execution_count": 92,
   "id": "2eae7756",
   "metadata": {},
   "outputs": [],
   "source": [
    "df_test2 = make_equal_pred_rand(df_test2)"
   ]
  },
  {
   "cell_type": "code",
   "execution_count": 93,
   "id": "29e8bd74",
   "metadata": {},
   "outputs": [
    {
     "data": {
      "text/html": [
       "<div>\n",
       "<style scoped>\n",
       "    .dataframe tbody tr th:only-of-type {\n",
       "        vertical-align: middle;\n",
       "    }\n",
       "\n",
       "    .dataframe tbody tr th {\n",
       "        vertical-align: top;\n",
       "    }\n",
       "\n",
       "    .dataframe thead th {\n",
       "        text-align: right;\n",
       "    }\n",
       "</style>\n",
       "<table border=\"1\" class=\"dataframe\">\n",
       "  <thead>\n",
       "    <tr style=\"text-align: right;\">\n",
       "      <th></th>\n",
       "      <th>class</th>\n",
       "      <th>predicted_class</th>\n",
       "      <th>pred_0</th>\n",
       "    </tr>\n",
       "  </thead>\n",
       "  <tbody>\n",
       "    <tr>\n",
       "      <th>2167</th>\n",
       "      <td>1</td>\n",
       "      <td>0</td>\n",
       "      <td>0.5</td>\n",
       "    </tr>\n",
       "    <tr>\n",
       "      <th>2330</th>\n",
       "      <td>1</td>\n",
       "      <td>1</td>\n",
       "      <td>0.5</td>\n",
       "    </tr>\n",
       "    <tr>\n",
       "      <th>2430</th>\n",
       "      <td>1</td>\n",
       "      <td>1</td>\n",
       "      <td>0.5</td>\n",
       "    </tr>\n",
       "    <tr>\n",
       "      <th>3317</th>\n",
       "      <td>1</td>\n",
       "      <td>0</td>\n",
       "      <td>0.5</td>\n",
       "    </tr>\n",
       "    <tr>\n",
       "      <th>3358</th>\n",
       "      <td>1</td>\n",
       "      <td>0</td>\n",
       "      <td>0.5</td>\n",
       "    </tr>\n",
       "  </tbody>\n",
       "</table>\n",
       "</div>"
      ],
      "text/plain": [
       "      class  predicted_class  pred_0\n",
       "2167      1                0     0.5\n",
       "2330      1                1     0.5\n",
       "2430      1                1     0.5\n",
       "3317      1                0     0.5\n",
       "3358      1                0     0.5"
      ]
     },
     "execution_count": 93,
     "metadata": {},
     "output_type": "execute_result"
    }
   ],
   "source": [
    "arr = df_test2[df_test2['pred_0'] == 0.5]\n",
    "arr"
   ]
  },
  {
   "cell_type": "code",
   "execution_count": 94,
   "id": "c7775639",
   "metadata": {},
   "outputs": [
    {
     "data": {
      "text/plain": [
       "array([0.69187775, 0.00913665, 0.91693854, ..., 0.89323331, 0.90493876,\n",
       "       0.86102612])"
      ]
     },
     "execution_count": 94,
     "metadata": {},
     "output_type": "execute_result"
    }
   ],
   "source": [
    "probs_0 = get_probs_RF(preds, 0)\n",
    "probs_0"
   ]
  },
  {
   "cell_type": "code",
   "execution_count": 95,
   "id": "9e19b15f",
   "metadata": {},
   "outputs": [
    {
     "data": {
      "text/html": [
       "<div>\n",
       "<style scoped>\n",
       "    .dataframe tbody tr th:only-of-type {\n",
       "        vertical-align: middle;\n",
       "    }\n",
       "\n",
       "    .dataframe tbody tr th {\n",
       "        vertical-align: top;\n",
       "    }\n",
       "\n",
       "    .dataframe thead th {\n",
       "        text-align: right;\n",
       "    }\n",
       "</style>\n",
       "<table border=\"1\" class=\"dataframe\">\n",
       "  <thead>\n",
       "    <tr style=\"text-align: right;\">\n",
       "      <th></th>\n",
       "      <th>class</th>\n",
       "      <th>predicted_class</th>\n",
       "      <th>pred_0</th>\n",
       "      <th>prob_0</th>\n",
       "    </tr>\n",
       "  </thead>\n",
       "  <tbody>\n",
       "    <tr>\n",
       "      <th>0</th>\n",
       "      <td>1</td>\n",
       "      <td>1</td>\n",
       "      <td>0.405</td>\n",
       "      <td>0.691878</td>\n",
       "    </tr>\n",
       "    <tr>\n",
       "      <th>1</th>\n",
       "      <td>1</td>\n",
       "      <td>1</td>\n",
       "      <td>0.075</td>\n",
       "      <td>0.009137</td>\n",
       "    </tr>\n",
       "    <tr>\n",
       "      <th>2</th>\n",
       "      <td>0</td>\n",
       "      <td>0</td>\n",
       "      <td>0.945</td>\n",
       "      <td>0.916939</td>\n",
       "    </tr>\n",
       "    <tr>\n",
       "      <th>3</th>\n",
       "      <td>0</td>\n",
       "      <td>0</td>\n",
       "      <td>0.975</td>\n",
       "      <td>0.910338</td>\n",
       "    </tr>\n",
       "    <tr>\n",
       "      <th>4</th>\n",
       "      <td>0</td>\n",
       "      <td>0</td>\n",
       "      <td>0.950</td>\n",
       "      <td>0.916795</td>\n",
       "    </tr>\n",
       "  </tbody>\n",
       "</table>\n",
       "</div>"
      ],
      "text/plain": [
       "   class  predicted_class  pred_0    prob_0\n",
       "0      1                1   0.405  0.691878\n",
       "1      1                1   0.075  0.009137\n",
       "2      0                0   0.945  0.916939\n",
       "3      0                0   0.975  0.910338\n",
       "4      0                0   0.950  0.916795"
      ]
     },
     "execution_count": 95,
     "metadata": {},
     "output_type": "execute_result"
    }
   ],
   "source": [
    "df_test2['prob_0'] = probs_0\n",
    "df_test2.head()"
   ]
  },
  {
   "cell_type": "code",
   "execution_count": 100,
   "id": "a30cc938",
   "metadata": {},
   "outputs": [
    {
     "data": {
      "image/png": "[encoded data removed]",
      "text/plain": [
       "<Figure size 432x288 with 1 Axes>"
      ]
     },
     "metadata": {
      "needs_background": "light"
     },
     "output_type": "display_data"
    }
   ],
   "source": [
    "df_test2.plot.scatter(x='pred_0', y='prob_0')\n",
    "plt.xlabel('RF % Output')\n",
    "plt.ylabel('probability of class 0')\n",
    "plt.xlim(0,1)\n",
    "plt.ylim(0,1)\n",
    "plt.grid()\n",
    "\n",
    "\n",
    "#plt.savefig('../dataset/RF_output.png')\n",
    "plt.show()"
   ]
  },
  {
   "cell_type": "code",
   "execution_count": 96,
   "id": "36a3da42",
   "metadata": {},
   "outputs": [],
   "source": [
    "df_test2.to_csv(DATA/'RF_bayesian_prob_test2_demonstration.csv', index=False) # save bayesian probabilites as csv"
   ]
  },
  {
   "cell_type": "code",
   "execution_count": 97,
   "id": "bb569dc1",
   "metadata": {},
   "outputs": [],
   "source": [
    "def choose_class(x, um):\n",
    "    \"\"\"\n",
    "    x = either one number between 0-1, or a (normalized) vector of probabilities\n",
    "        if it's one number then we are in a binary classification case\n",
    "        and x is the probability of CLASS 0\n",
    "    um = utility matrix in the format [[T0,F0],[F1,T1]]\n",
    "    \"\"\"\n",
    "    if type(x) == float or type(x) == np.float64: # x is float and is the probability of class 0\n",
    "        x = np.array([x])\n",
    "        x = np.concatenate((x, 1-x)) # transform into prob. vector\n",
    "    um = np.array(um)\n",
    "    utilities = np.matmul(um, x)\n",
    "    cl = np.argmax(utilities)\n",
    "    return cl"
   ]
  },
  {
   "cell_type": "markdown",
   "id": "f0f18979",
   "metadata": {},
   "source": [
    "## Test score for regular probability and bayesian probability from utility matrix"
   ]
  },
  {
   "cell_type": "code",
   "execution_count": 98,
   "id": "2eb9c29a",
   "metadata": {},
   "outputs": [
    {
     "data": {
      "text/html": [
       "<div>\n",
       "<style scoped>\n",
       "    .dataframe tbody tr th:only-of-type {\n",
       "        vertical-align: middle;\n",
       "    }\n",
       "\n",
       "    .dataframe tbody tr th {\n",
       "        vertical-align: top;\n",
       "    }\n",
       "\n",
       "    .dataframe thead th {\n",
       "        text-align: right;\n",
       "    }\n",
       "</style>\n",
       "<table border=\"1\" class=\"dataframe\">\n",
       "  <thead>\n",
       "    <tr style=\"text-align: right;\">\n",
       "      <th></th>\n",
       "      <th>class</th>\n",
       "      <th>predicted_class</th>\n",
       "      <th>pred_0</th>\n",
       "      <th>prob_0</th>\n",
       "    </tr>\n",
       "  </thead>\n",
       "  <tbody>\n",
       "    <tr>\n",
       "      <th>0</th>\n",
       "      <td>1</td>\n",
       "      <td>1</td>\n",
       "      <td>0.405</td>\n",
       "      <td>0.691878</td>\n",
       "    </tr>\n",
       "    <tr>\n",
       "      <th>1</th>\n",
       "      <td>1</td>\n",
       "      <td>1</td>\n",
       "      <td>0.075</td>\n",
       "      <td>0.009137</td>\n",
       "    </tr>\n",
       "    <tr>\n",
       "      <th>2</th>\n",
       "      <td>0</td>\n",
       "      <td>0</td>\n",
       "      <td>0.945</td>\n",
       "      <td>0.916939</td>\n",
       "    </tr>\n",
       "    <tr>\n",
       "      <th>3</th>\n",
       "      <td>0</td>\n",
       "      <td>0</td>\n",
       "      <td>0.975</td>\n",
       "      <td>0.910338</td>\n",
       "    </tr>\n",
       "    <tr>\n",
       "      <th>4</th>\n",
       "      <td>0</td>\n",
       "      <td>0</td>\n",
       "      <td>0.950</td>\n",
       "      <td>0.916795</td>\n",
       "    </tr>\n",
       "  </tbody>\n",
       "</table>\n",
       "</div>"
      ],
      "text/plain": [
       "   class  predicted_class  pred_0    prob_0\n",
       "0      1                1   0.405  0.691878\n",
       "1      1                1   0.075  0.009137\n",
       "2      0                0   0.945  0.916939\n",
       "3      0                0   0.975  0.910338\n",
       "4      0                0   0.950  0.916795"
      ]
     },
     "execution_count": 98,
     "metadata": {},
     "output_type": "execute_result"
    }
   ],
   "source": [
    "df_test2.head() # actual class, prediction from RF, bayesian corrected probability "
   ]
  },
  {
   "cell_type": "markdown",
   "id": "bf6b5936",
   "metadata": {},
   "source": [
    "### We need to calculate each class chosen with the same utility matrix and then compare"
   ]
  },
  {
   "cell_type": "code",
   "execution_count": 99,
   "id": "7a2eb49b",
   "metadata": {},
   "outputs": [
    {
     "data": {
      "text/html": [
       "\n",
       "        <iframe\n",
       "            width=\"1000\"\n",
       "            height=\"600\"\n",
       "            src=\"../dataset/probabilities/comparison_schema.pdf\"\n",
       "            frameborder=\"0\"\n",
       "            allowfullscreen\n",
       "            \n",
       "        ></iframe>\n",
       "        "
      ],
      "text/plain": [
       "<IPython.lib.display.IFrame at 0x7f0ec62a3e10>"
      ]
     },
     "execution_count": 99,
     "metadata": {},
     "output_type": "execute_result"
    }
   ],
   "source": [
    "from IPython.display import IFrame\n",
    "IFrame(DATA/'comparison_schema.pdf', width=1000, height=600)"
   ]
  },
  {
   "cell_type": "code",
   "execution_count": 40,
   "id": "c84f03cf",
   "metadata": {},
   "outputs": [],
   "source": [
    "''' \n",
    "Utility matrix format: \n",
    "    [[TN, FN],\n",
    "     [FP, TP]]\n",
    "'''\n",
    "um = np.array([[1, -1], [0, 1]])"
   ]
  },
  {
   "cell_type": "code",
   "execution_count": 61,
   "id": "e87fd2b3",
   "metadata": {},
   "outputs": [
    {
     "data": {
      "text/plain": [
       "array([0.975, 0.99 , 0.95 , ..., 0.99 , 0.3  , 0.975])"
      ]
     },
     "execution_count": 61,
     "metadata": {},
     "output_type": "execute_result"
    }
   ],
   "source": [
    "xs = df_test2['pred_0'].to_numpy()\n",
    "xs"
   ]
  },
  {
   "cell_type": "code",
   "execution_count": 76,
   "id": "35bfe0a2",
   "metadata": {},
   "outputs": [
    {
     "data": {
      "text/html": [
       "<div>\n",
       "<style scoped>\n",
       "    .dataframe tbody tr th:only-of-type {\n",
       "        vertical-align: middle;\n",
       "    }\n",
       "\n",
       "    .dataframe tbody tr th {\n",
       "        vertical-align: top;\n",
       "    }\n",
       "\n",
       "    .dataframe thead th {\n",
       "        text-align: right;\n",
       "    }\n",
       "</style>\n",
       "<table border=\"1\" class=\"dataframe\">\n",
       "  <thead>\n",
       "    <tr style=\"text-align: right;\">\n",
       "      <th></th>\n",
       "      <th>class</th>\n",
       "      <th>pred_0</th>\n",
       "      <th>prob_0</th>\n",
       "      <th>ut_class_prob_0</th>\n",
       "      <th>class_pred_0</th>\n",
       "    </tr>\n",
       "  </thead>\n",
       "  <tbody>\n",
       "    <tr>\n",
       "      <th>0</th>\n",
       "      <td>0</td>\n",
       "      <td>0.975</td>\n",
       "      <td>0.997848</td>\n",
       "      <td>0</td>\n",
       "      <td>0</td>\n",
       "    </tr>\n",
       "    <tr>\n",
       "      <th>1</th>\n",
       "      <td>0</td>\n",
       "      <td>0.990</td>\n",
       "      <td>0.998329</td>\n",
       "      <td>0</td>\n",
       "      <td>0</td>\n",
       "    </tr>\n",
       "    <tr>\n",
       "      <th>2</th>\n",
       "      <td>0</td>\n",
       "      <td>0.950</td>\n",
       "      <td>0.995933</td>\n",
       "      <td>0</td>\n",
       "      <td>0</td>\n",
       "    </tr>\n",
       "    <tr>\n",
       "      <th>3</th>\n",
       "      <td>0</td>\n",
       "      <td>0.995</td>\n",
       "      <td>0.998112</td>\n",
       "      <td>0</td>\n",
       "      <td>0</td>\n",
       "    </tr>\n",
       "    <tr>\n",
       "      <th>4</th>\n",
       "      <td>1</td>\n",
       "      <td>0.105</td>\n",
       "      <td>0.092222</td>\n",
       "      <td>1</td>\n",
       "      <td>1</td>\n",
       "    </tr>\n",
       "  </tbody>\n",
       "</table>\n",
       "</div>"
      ],
      "text/plain": [
       "   class  pred_0    prob_0  ut_class_prob_0  class_pred_0\n",
       "0      0   0.975  0.997848                0             0\n",
       "1      0   0.990  0.998329                0             0\n",
       "2      0   0.950  0.995933                0             0\n",
       "3      0   0.995  0.998112                0             0\n",
       "4      1   0.105  0.092222                1             1"
      ]
     },
     "execution_count": 76,
     "metadata": {},
     "output_type": "execute_result"
    }
   ],
   "source": [
    "df_test2['class_pred_0'] = np.array(df_test2['pred_0'] < 0.5, dtype=int)\n",
    "df_test2.head()"
   ]
  },
  {
   "cell_type": "code",
   "execution_count": 43,
   "id": "0dd58c4c",
   "metadata": {},
   "outputs": [
    {
     "data": {
      "text/html": [
       "<div>\n",
       "<style scoped>\n",
       "    .dataframe tbody tr th:only-of-type {\n",
       "        vertical-align: middle;\n",
       "    }\n",
       "\n",
       "    .dataframe tbody tr th {\n",
       "        vertical-align: top;\n",
       "    }\n",
       "\n",
       "    .dataframe thead th {\n",
       "        text-align: right;\n",
       "    }\n",
       "</style>\n",
       "<table border=\"1\" class=\"dataframe\">\n",
       "  <thead>\n",
       "    <tr style=\"text-align: right;\">\n",
       "      <th></th>\n",
       "      <th>class</th>\n",
       "      <th>pred_0</th>\n",
       "      <th>prob_0</th>\n",
       "      <th>ut_class_pred_0</th>\n",
       "      <th>ut_class_prob_0</th>\n",
       "    </tr>\n",
       "  </thead>\n",
       "  <tbody>\n",
       "    <tr>\n",
       "      <th>0</th>\n",
       "      <td>0</td>\n",
       "      <td>0.975</td>\n",
       "      <td>0.997848</td>\n",
       "      <td>0</td>\n",
       "      <td>0</td>\n",
       "    </tr>\n",
       "    <tr>\n",
       "      <th>1</th>\n",
       "      <td>0</td>\n",
       "      <td>0.990</td>\n",
       "      <td>0.998329</td>\n",
       "      <td>0</td>\n",
       "      <td>0</td>\n",
       "    </tr>\n",
       "    <tr>\n",
       "      <th>2</th>\n",
       "      <td>0</td>\n",
       "      <td>0.950</td>\n",
       "      <td>0.995933</td>\n",
       "      <td>0</td>\n",
       "      <td>0</td>\n",
       "    </tr>\n",
       "    <tr>\n",
       "      <th>3</th>\n",
       "      <td>0</td>\n",
       "      <td>0.995</td>\n",
       "      <td>0.998112</td>\n",
       "      <td>0</td>\n",
       "      <td>0</td>\n",
       "    </tr>\n",
       "    <tr>\n",
       "      <th>4</th>\n",
       "      <td>1</td>\n",
       "      <td>0.105</td>\n",
       "      <td>0.092222</td>\n",
       "      <td>1</td>\n",
       "      <td>1</td>\n",
       "    </tr>\n",
       "  </tbody>\n",
       "</table>\n",
       "</div>"
      ],
      "text/plain": [
       "   class  pred_0    prob_0  ut_class_pred_0  ut_class_prob_0\n",
       "0      0   0.975  0.997848                0                0\n",
       "1      0   0.990  0.998329                0                0\n",
       "2      0   0.950  0.995933                0                0\n",
       "3      0   0.995  0.998112                0                0\n",
       "4      1   0.105  0.092222                1                1"
      ]
     },
     "execution_count": 43,
     "metadata": {},
     "output_type": "execute_result"
    }
   ],
   "source": [
    "df_test2['ut_class_prob_0'] = [choose_class(r['prob_0'], um) for i, r  in df_test2.iterrows()]\n",
    "df_test2.head()"
   ]
  },
  {
   "cell_type": "markdown",
   "id": "261b7f39",
   "metadata": {},
   "source": [
    "### Check confusion matrix for the 2 outputs from the utility matrix"
   ]
  },
  {
   "cell_type": "code",
   "execution_count": 9,
   "id": "93ce6c26",
   "metadata": {},
   "outputs": [],
   "source": [
    "def get_total_cost (um, cm):\n",
    "    if um.max() > 1: # highest number in utility matrix == 1\n",
    "        um /= np.abs(um).max()\n",
    "    s = um * cm\n",
    "    s = s.sum()\n",
    "    return s"
   ]
  },
  {
   "cell_type": "code",
   "execution_count": 100,
   "id": "840cf903",
   "metadata": {},
   "outputs": [],
   "source": [
    "''' \n",
    "Utility matrix format: \n",
    "    [[TN, FN],\n",
    "     [FP, TP]]\n",
    "'''\n",
    "um = np.array([[1, 0], [-1, 1]])"
   ]
  },
  {
   "cell_type": "code",
   "execution_count": 107,
   "id": "031b1e1d",
   "metadata": {},
   "outputs": [
    {
     "name": "stdout",
     "output_type": "stream",
     "text": [
      "Confusion matrix for RF output:\n"
     ]
    },
    {
     "data": {
      "image/png": "[encoded data removed]",
      "text/plain": [
       "<Figure size 432x288 with 2 Axes>"
      ]
     },
     "metadata": {
      "needs_background": "light"
     },
     "output_type": "display_data"
    }
   ],
   "source": [
    "# Confusion matrix for RF output\n",
    "y = df_test2['class'].to_numpy()\n",
    "y_pred = df_test2['class_pred_0'].to_numpy()\n",
    "cm = confusion_matrix(y, y_pred)\n",
    "f = sns.heatmap(cm, annot=True, fmt='d')\n",
    "print('Confusion matrix for RF output:')\n",
    "plt.show()"
   ]
  },
  {
   "cell_type": "code",
   "execution_count": 108,
   "id": "7f9e7a6f",
   "metadata": {},
   "outputs": [
    {
     "name": "stdout",
     "output_type": "stream",
     "text": [
      "Total gains/loss for confusion matrix above: 3384\n"
     ]
    }
   ],
   "source": [
    "cost = get_total_cost(um, cm)\n",
    "print(f'Total gains/loss for confusion matrix above: {cost}')"
   ]
  },
  {
   "cell_type": "code",
   "execution_count": 109,
   "id": "33b6fb57",
   "metadata": {
    "scrolled": true
   },
   "outputs": [
    {
     "name": "stdout",
     "output_type": "stream",
     "text": [
      "Confusion matrix for bayesian probability output combined with utility matrix:\n"
     ]
    },
    {
     "data": {
      "image/png": "[encoded data removed]",
      "text/plain": [
       "<Figure size 432x288 with 2 Axes>"
      ]
     },
     "metadata": {
      "needs_background": "light"
     },
     "output_type": "display_data"
    }
   ],
   "source": [
    "# Confusion matrix for bayesian probability output combined with utility matrix\n",
    "y = df_test2['class'].to_numpy()\n",
    "y_pred = df_test2['ut_class_prob_0'].to_numpy()\n",
    "cm = confusion_matrix(y, y_pred)\n",
    "f = sns.heatmap(cm, annot=True, fmt='d')\n",
    "print('Confusion matrix for bayesian probability output combined with utility matrix:')\n",
    "plt.show()"
   ]
  },
  {
   "cell_type": "code",
   "execution_count": 110,
   "id": "405bc90d",
   "metadata": {},
   "outputs": [
    {
     "name": "stdout",
     "output_type": "stream",
     "text": [
      "Total gains/loss for confusion matrix above: 3460\n"
     ]
    }
   ],
   "source": [
    "cost = get_total_cost(um, cm)\n",
    "print(f'Total gains/loss for confusion matrix above: {cost}')"
   ]
  },
  {
   "cell_type": "markdown",
   "id": "b4d2b5cd",
   "metadata": {},
   "source": [
    "# Decision theory"
   ]
  },
  {
   "cell_type": "markdown",
   "id": "4aa73e78",
   "metadata": {},
   "source": [
    "### Test an example with gains/losses"
   ]
  },
  {
   "cell_type": "code",
   "execution_count": 54,
   "id": "c19ef068",
   "metadata": {},
   "outputs": [
    {
     "data": {
      "text/plain": [
       "tensor([[ 15., -80.],\n",
       "        [ -1.,   0.]], dtype=torch.float64)"
      ]
     },
     "execution_count": 54,
     "metadata": {},
     "output_type": "execute_result"
    }
   ],
   "source": [
    "''' \n",
    "Utility matrix format: \n",
    "    [[TN, FN],\n",
    "     [FP, TP]]\n",
    "'''\n",
    "M = np.array([[15,-80],\n",
    "              [-1,0]], dtype=float)\n",
    "#M /= np.abs(M).max()\n",
    "M = torch.from_numpy(M)\n",
    "M = M.to(torch.float64)\n",
    "M"
   ]
  },
  {
   "cell_type": "code",
   "execution_count": 55,
   "id": "a4035eea",
   "metadata": {},
   "outputs": [],
   "source": [
    "test1 = np.array([[0.18, 0.02], [0.32, 0.48]], dtype=np.float64)\n",
    "test2 = np.array([[0.16, 0.04], [0.08, 0.72]], dtype=np.float64)"
   ]
  },
  {
   "cell_type": "code",
   "execution_count": 56,
   "id": "7561396e",
   "metadata": {},
   "outputs": [],
   "source": [
    "res1 = M * test1\n",
    "res2 = M * test2"
   ]
  },
  {
   "cell_type": "code",
   "execution_count": 57,
   "id": "d4515d40",
   "metadata": {},
   "outputs": [
    {
     "name": "stdout",
     "output_type": "stream",
     "text": [
      "Gains from algorithms:\n",
      "#1 0.78, #2 -0.88\n"
     ]
    }
   ],
   "source": [
    "sum1, sum2 = res1.sum(), res2.sum()\n",
    "print('Gains from algorithms:')\n",
    "print(f'#1 {sum1:.2f}, #2 {sum2:.2f}')"
   ]
  },
  {
   "cell_type": "markdown",
   "id": "a181a1a8",
   "metadata": {},
   "source": [
    "### Create a function for a utility matrix with cost for each case (TN, FP, FN, TP)"
   ]
  },
  {
   "cell_type": "code",
   "execution_count": 73,
   "id": "0b4d573c",
   "metadata": {},
   "outputs": [],
   "source": [
    "def get_expected_cost (um, m):\n",
    "    m = np.array(m)\n",
    "    if um.max() > 1:\n",
    "        if m.max() > 1:\n",
    "            um /= np.abs(um).max()\n",
    "    s1 = um[0] * m\n",
    "    s2 = um[1] * m\n",
    "    s1 = s1.sum()\n",
    "    s2 = s2.sum()\n",
    "    return [s1, s2]"
   ]
  },
  {
   "cell_type": "code",
   "execution_count": 122,
   "id": "5ea85ad2",
   "metadata": {},
   "outputs": [
    {
     "data": {
      "text/plain": [
       "array([[3231,   31],\n",
       "       [  87,  239]])"
      ]
     },
     "execution_count": 122,
     "metadata": {},
     "output_type": "execute_result"
    }
   ],
   "source": [
    "cm = confusion_matrix(y, y_pred)\n",
    "cm"
   ]
  },
  {
   "cell_type": "code",
   "execution_count": 146,
   "id": "deaf9983",
   "metadata": {},
   "outputs": [
    {
     "data": {
      "text/plain": [
       "326.0"
      ]
     },
     "execution_count": 146,
     "metadata": {},
     "output_type": "execute_result"
    }
   ],
   "source": [
    "cost = get_cost(utility, cm[1])\n",
    "cost"
   ]
  },
  {
   "cell_type": "code",
   "execution_count": 141,
   "id": "0254997b",
   "metadata": {},
   "outputs": [
    {
     "data": {
      "text/plain": [
       "[3231.0, 239.0]"
      ]
     },
     "execution_count": 141,
     "metadata": {},
     "output_type": "execute_result"
    }
   ],
   "source": [
    "c = get_expected_cost(utility, cm)\n",
    "c"
   ]
  },
  {
   "cell_type": "code",
   "execution_count": 163,
   "id": "8c9a3cae",
   "metadata": {},
   "outputs": [
    {
     "data": {
      "text/html": [
       "<div>\n",
       "<style scoped>\n",
       "    .dataframe tbody tr th:only-of-type {\n",
       "        vertical-align: middle;\n",
       "    }\n",
       "\n",
       "    .dataframe tbody tr th {\n",
       "        vertical-align: top;\n",
       "    }\n",
       "\n",
       "    .dataframe thead th {\n",
       "        text-align: right;\n",
       "    }\n",
       "</style>\n",
       "<table border=\"1\" class=\"dataframe\">\n",
       "  <thead>\n",
       "    <tr style=\"text-align: right;\">\n",
       "      <th></th>\n",
       "      <th>class</th>\n",
       "      <th>preds</th>\n",
       "      <th>probs_class_0</th>\n",
       "      <th>probs_class_1</th>\n",
       "      <th>prediction</th>\n",
       "      <th>probs</th>\n",
       "    </tr>\n",
       "  </thead>\n",
       "  <tbody>\n",
       "    <tr>\n",
       "      <th>0</th>\n",
       "      <td>0</td>\n",
       "      <td>0.975</td>\n",
       "      <td>0.997848</td>\n",
       "      <td>0.002152</td>\n",
       "      <td>0</td>\n",
       "      <td>[0.9978484371013459, 0.002151562898654075]</td>\n",
       "    </tr>\n",
       "    <tr>\n",
       "      <th>1</th>\n",
       "      <td>0</td>\n",
       "      <td>0.990</td>\n",
       "      <td>0.998329</td>\n",
       "      <td>0.001671</td>\n",
       "      <td>0</td>\n",
       "      <td>[0.998328584124416, 0.0016714158755837688]</td>\n",
       "    </tr>\n",
       "    <tr>\n",
       "      <th>2</th>\n",
       "      <td>0</td>\n",
       "      <td>0.950</td>\n",
       "      <td>0.995933</td>\n",
       "      <td>0.004067</td>\n",
       "      <td>0</td>\n",
       "      <td>[0.9959327602479192, 0.004067239752081032]</td>\n",
       "    </tr>\n",
       "    <tr>\n",
       "      <th>3</th>\n",
       "      <td>0</td>\n",
       "      <td>0.995</td>\n",
       "      <td>0.998112</td>\n",
       "      <td>0.001888</td>\n",
       "      <td>0</td>\n",
       "      <td>[0.9981116284172469, 0.0018883715827530312]</td>\n",
       "    </tr>\n",
       "    <tr>\n",
       "      <th>4</th>\n",
       "      <td>1</td>\n",
       "      <td>0.105</td>\n",
       "      <td>0.092222</td>\n",
       "      <td>0.907778</td>\n",
       "      <td>1</td>\n",
       "      <td>[0.09222187670619506, 0.9077781232938047]</td>\n",
       "    </tr>\n",
       "  </tbody>\n",
       "</table>\n",
       "</div>"
      ],
      "text/plain": [
       "   class  preds  probs_class_0  probs_class_1  prediction  \\\n",
       "0      0  0.975       0.997848       0.002152           0   \n",
       "1      0  0.990       0.998329       0.001671           0   \n",
       "2      0  0.950       0.995933       0.004067           0   \n",
       "3      0  0.995       0.998112       0.001888           0   \n",
       "4      1  0.105       0.092222       0.907778           1   \n",
       "\n",
       "                                         probs  \n",
       "0   [0.9978484371013459, 0.002151562898654075]  \n",
       "1   [0.998328584124416, 0.0016714158755837688]  \n",
       "2   [0.9959327602479192, 0.004067239752081032]  \n",
       "3  [0.9981116284172469, 0.0018883715827530312]  \n",
       "4    [0.09222187670619506, 0.9077781232938047]  "
      ]
     },
     "execution_count": 163,
     "metadata": {},
     "output_type": "execute_result"
    }
   ],
   "source": [
    "df_all['probs'] = [[r['probs_class_0'], r['probs_class_1']] for i, r in df_all.iterrows()]\n",
    "df_all.head()"
   ]
  },
  {
   "cell_type": "code",
   "execution_count": 10,
   "id": "0b304792",
   "metadata": {},
   "outputs": [],
   "source": [
    "''' \n",
    "Utility matrix format: \n",
    "    [[TN, FN],\n",
    "     [FP, TP]]\n",
    "'''\n",
    "utility = np.array([[1, -1], \n",
    "                    [-1, 1]], dtype=np.float64)"
   ]
  },
  {
   "cell_type": "code",
   "execution_count": 11,
   "id": "d8c26b76",
   "metadata": {},
   "outputs": [],
   "source": [
    "def get_expected_utility (um, m):\n",
    "    '''\n",
    "    um = utility matrix in format     [[TN, FN], [FP, TP]]\n",
    "    m = prediction or probability of class [0, 1]\n",
    "    returns expected utility for each class\n",
    "    '''\n",
    "    m = np.array(m)\n",
    "    if um.max() > 1:\n",
    "        if m.max() > 1:\n",
    "            um /= np.abs(um).max()\n",
    "    s1 = um[0] * m\n",
    "    s2 = um[1] * m\n",
    "    s1 = s1.sum()\n",
    "    s2 = s2.sum()\n",
    "    return [s1, s2]"
   ]
  },
  {
   "cell_type": "code",
   "execution_count": 171,
   "id": "8f85f1e3",
   "metadata": {},
   "outputs": [
    {
     "data": {
      "text/html": [
       "<div>\n",
       "<style scoped>\n",
       "    .dataframe tbody tr th:only-of-type {\n",
       "        vertical-align: middle;\n",
       "    }\n",
       "\n",
       "    .dataframe tbody tr th {\n",
       "        vertical-align: top;\n",
       "    }\n",
       "\n",
       "    .dataframe thead th {\n",
       "        text-align: right;\n",
       "    }\n",
       "</style>\n",
       "<table border=\"1\" class=\"dataframe\">\n",
       "  <thead>\n",
       "    <tr style=\"text-align: right;\">\n",
       "      <th></th>\n",
       "      <th>class</th>\n",
       "      <th>probs_class_0</th>\n",
       "      <th>probs_class_1</th>\n",
       "      <th>probs</th>\n",
       "      <th>expected_utility</th>\n",
       "      <th>best_utility_class</th>\n",
       "    </tr>\n",
       "  </thead>\n",
       "  <tbody>\n",
       "    <tr>\n",
       "      <th>0</th>\n",
       "      <td>0</td>\n",
       "      <td>0.997848</td>\n",
       "      <td>0.002152</td>\n",
       "      <td>[0.9978484371013459, 0.002151562898654075]</td>\n",
       "      <td>[0.9956968742026918, -0.9956968742026918]</td>\n",
       "      <td>0</td>\n",
       "    </tr>\n",
       "    <tr>\n",
       "      <th>1</th>\n",
       "      <td>0</td>\n",
       "      <td>0.998329</td>\n",
       "      <td>0.001671</td>\n",
       "      <td>[0.998328584124416, 0.0016714158755837688]</td>\n",
       "      <td>[0.9966571682488323, -0.9966571682488323]</td>\n",
       "      <td>0</td>\n",
       "    </tr>\n",
       "    <tr>\n",
       "      <th>2</th>\n",
       "      <td>0</td>\n",
       "      <td>0.995933</td>\n",
       "      <td>0.004067</td>\n",
       "      <td>[0.9959327602479192, 0.004067239752081032]</td>\n",
       "      <td>[0.9918655204958382, -0.9918655204958382]</td>\n",
       "      <td>0</td>\n",
       "    </tr>\n",
       "    <tr>\n",
       "      <th>3</th>\n",
       "      <td>0</td>\n",
       "      <td>0.998112</td>\n",
       "      <td>0.001888</td>\n",
       "      <td>[0.9981116284172469, 0.0018883715827530312]</td>\n",
       "      <td>[0.9962232568344939, -0.9962232568344939]</td>\n",
       "      <td>0</td>\n",
       "    </tr>\n",
       "    <tr>\n",
       "      <th>4</th>\n",
       "      <td>1</td>\n",
       "      <td>0.092222</td>\n",
       "      <td>0.907778</td>\n",
       "      <td>[0.09222187670619506, 0.9077781232938047]</td>\n",
       "      <td>[-0.8155562465876096, 0.8155562465876096]</td>\n",
       "      <td>1</td>\n",
       "    </tr>\n",
       "  </tbody>\n",
       "</table>\n",
       "</div>"
      ],
      "text/plain": [
       "   class  probs_class_0  probs_class_1  \\\n",
       "0      0       0.997848       0.002152   \n",
       "1      0       0.998329       0.001671   \n",
       "2      0       0.995933       0.004067   \n",
       "3      0       0.998112       0.001888   \n",
       "4      1       0.092222       0.907778   \n",
       "\n",
       "                                         probs  \\\n",
       "0   [0.9978484371013459, 0.002151562898654075]   \n",
       "1   [0.998328584124416, 0.0016714158755837688]   \n",
       "2   [0.9959327602479192, 0.004067239752081032]   \n",
       "3  [0.9981116284172469, 0.0018883715827530312]   \n",
       "4    [0.09222187670619506, 0.9077781232938047]   \n",
       "\n",
       "                            expected_utility  best_utility_class  \n",
       "0  [0.9956968742026918, -0.9956968742026918]                   0  \n",
       "1  [0.9966571682488323, -0.9966571682488323]                   0  \n",
       "2  [0.9918655204958382, -0.9918655204958382]                   0  \n",
       "3  [0.9962232568344939, -0.9962232568344939]                   0  \n",
       "4  [-0.8155562465876096, 0.8155562465876096]                   1  "
      ]
     },
     "execution_count": 171,
     "metadata": {},
     "output_type": "execute_result"
    }
   ],
   "source": [
    "df_all['expected_utility'] = [get_expected_utility(utility, r['probs']) for i, r in df_all.iterrows()]\n",
    "df_all['best_utility_class'] = torch.tensor(df_all['expected_utility']).argmax(axis=1)\n",
    "df_utility = df_all.drop(columns= ['prediction', 'preds'])\n",
    "df_utility.head()"
   ]
  },
  {
   "cell_type": "code",
   "execution_count": null,
   "id": "0a792366",
   "metadata": {},
   "outputs": [],
   "source": [
    "df_utility.to_csv(DATA/'RF_prob_utility_test2.csv', index=False)"
   ]
  },
  {
   "cell_type": "markdown",
   "id": "e92a41f2",
   "metadata": {},
   "source": [
    "# Generate correct probabilities for CNN model for test1 and test2"
   ]
  },
  {
   "cell_type": "code",
   "execution_count": 7,
   "id": "b892cd1d",
   "metadata": {},
   "outputs": [
    {
     "name": "stdout",
     "output_type": "stream",
     "text": [
      "<class 'pandas.core.frame.DataFrame'>\n",
      "RangeIndex: 262144 entries, 0 to 262143\n",
      "Data columns (total 6 columns):\n",
      " #   Column  Non-Null Count   Dtype  \n",
      "---  ------  --------------   -----  \n",
      " 0   w       262144 non-null  float64\n",
      " 1   p       262144 non-null  float64\n",
      " 2   mu0     262144 non-null  float64\n",
      " 3   sigma0  262144 non-null  float64\n",
      " 4   mu1     262144 non-null  float64\n",
      " 5   sigma1  262144 non-null  float64\n",
      "dtypes: float64(6)\n",
      "memory usage: 12.0 MB\n"
     ]
    }
   ],
   "source": [
    "df_CNN = pd.read_csv(DATA/'_CNN_transducer_parameters.csv')\n",
    "df_CNN.info()"
   ]
  },
  {
   "cell_type": "code",
   "execution_count": 8,
   "id": "a9995aba",
   "metadata": {},
   "outputs": [
    {
     "data": {
      "text/html": [
       "<div>\n",
       "<style scoped>\n",
       "    .dataframe tbody tr th:only-of-type {\n",
       "        vertical-align: middle;\n",
       "    }\n",
       "\n",
       "    .dataframe tbody tr th {\n",
       "        vertical-align: top;\n",
       "    }\n",
       "\n",
       "    .dataframe thead th {\n",
       "        text-align: right;\n",
       "    }\n",
       "</style>\n",
       "<table border=\"1\" class=\"dataframe\">\n",
       "  <thead>\n",
       "    <tr style=\"text-align: right;\">\n",
       "      <th></th>\n",
       "      <th>w</th>\n",
       "      <th>p</th>\n",
       "      <th>mu0</th>\n",
       "      <th>sigma0</th>\n",
       "      <th>mu1</th>\n",
       "      <th>sigma1</th>\n",
       "    </tr>\n",
       "  </thead>\n",
       "  <tbody>\n",
       "    <tr>\n",
       "      <th>0</th>\n",
       "      <td>1.112537e-308</td>\n",
       "      <td>0.145600</td>\n",
       "      <td>4.631813</td>\n",
       "      <td>0.553028</td>\n",
       "      <td>-3.420113</td>\n",
       "      <td>1.102329</td>\n",
       "    </tr>\n",
       "    <tr>\n",
       "      <th>1</th>\n",
       "      <td>1.112537e-308</td>\n",
       "      <td>0.822009</td>\n",
       "      <td>2.747586</td>\n",
       "      <td>0.668505</td>\n",
       "      <td>-3.778652</td>\n",
       "      <td>0.188885</td>\n",
       "    </tr>\n",
       "    <tr>\n",
       "      <th>2</th>\n",
       "      <td>1.002707e-305</td>\n",
       "      <td>0.528113</td>\n",
       "      <td>2.208753</td>\n",
       "      <td>0.380289</td>\n",
       "      <td>-5.060915</td>\n",
       "      <td>5.128923</td>\n",
       "    </tr>\n",
       "    <tr>\n",
       "      <th>3</th>\n",
       "      <td>6.536115e-292</td>\n",
       "      <td>0.863495</td>\n",
       "      <td>0.841832</td>\n",
       "      <td>4.170368</td>\n",
       "      <td>-4.375486</td>\n",
       "      <td>0.591010</td>\n",
       "    </tr>\n",
       "    <tr>\n",
       "      <th>4</th>\n",
       "      <td>1.716880e-283</td>\n",
       "      <td>0.649723</td>\n",
       "      <td>2.634691</td>\n",
       "      <td>0.139720</td>\n",
       "      <td>-4.135932</td>\n",
       "      <td>1.172759</td>\n",
       "    </tr>\n",
       "  </tbody>\n",
       "</table>\n",
       "</div>"
      ],
      "text/plain": [
       "               w         p       mu0    sigma0       mu1    sigma1\n",
       "0  1.112537e-308  0.145600  4.631813  0.553028 -3.420113  1.102329\n",
       "1  1.112537e-308  0.822009  2.747586  0.668505 -3.778652  0.188885\n",
       "2  1.002707e-305  0.528113  2.208753  0.380289 -5.060915  5.128923\n",
       "3  6.536115e-292  0.863495  0.841832  4.170368 -4.375486  0.591010\n",
       "4  1.716880e-283  0.649723  2.634691  0.139720 -4.135932  1.172759"
      ]
     },
     "execution_count": 8,
     "metadata": {},
     "output_type": "execute_result"
    }
   ],
   "source": [
    "df_CNN.head()"
   ]
  },
  {
   "cell_type": "code",
   "execution_count": 9,
   "id": "f8bf557d",
   "metadata": {},
   "outputs": [],
   "source": [
    "#function for making a list of strings in df to list of floats\n",
    "def get_substring_list(split):\n",
    "    if len(split) <= 1:\n",
    "        print('nooo')\n",
    "    i = 0\n",
    "    while len(split[i]) <= 1:\n",
    "        i += 1\n",
    "    s1 = split[i]\n",
    "    i += 1\n",
    "    while len(split[i]) <= 1:\n",
    "        i += 1\n",
    "    s2 = split[i]\n",
    "    if s1[0] == '[':\n",
    "        s1 = s1[1:]\n",
    "    if s2[-1] == ']':\n",
    "        s2 = s2[0:-1]\n",
    "    s1 = np.float64(s1)\n",
    "    s2 = np.float64(s2)\n",
    "    return [s1, s2]"
   ]
  },
  {
   "cell_type": "markdown",
   "id": "3ea49b23",
   "metadata": {},
   "source": [
    "### Test1"
   ]
  },
  {
   "cell_type": "code",
   "execution_count": 10,
   "id": "32320fa4",
   "metadata": {},
   "outputs": [
    {
     "data": {
      "text/html": [
       "<div>\n",
       "<style scoped>\n",
       "    .dataframe tbody tr th:only-of-type {\n",
       "        vertical-align: middle;\n",
       "    }\n",
       "\n",
       "    .dataframe tbody tr th {\n",
       "        vertical-align: top;\n",
       "    }\n",
       "\n",
       "    .dataframe thead th {\n",
       "        text-align: right;\n",
       "    }\n",
       "</style>\n",
       "<table border=\"1\" class=\"dataframe\">\n",
       "  <thead>\n",
       "    <tr style=\"text-align: right;\">\n",
       "      <th></th>\n",
       "      <th>class</th>\n",
       "      <th>predictions</th>\n",
       "      <th>predicted_class</th>\n",
       "      <th>preds</th>\n",
       "    </tr>\n",
       "  </thead>\n",
       "  <tbody>\n",
       "    <tr>\n",
       "      <th>0</th>\n",
       "      <td>0</td>\n",
       "      <td>[ 0.8859392 -3.1229172]</td>\n",
       "      <td>0</td>\n",
       "      <td>[0.8859392, -3.1229172]</td>\n",
       "    </tr>\n",
       "    <tr>\n",
       "      <th>1</th>\n",
       "      <td>0</td>\n",
       "      <td>[ 3.2430787 -5.6636806]</td>\n",
       "      <td>0</td>\n",
       "      <td>[3.2430787, -5.6636806]</td>\n",
       "    </tr>\n",
       "    <tr>\n",
       "      <th>2</th>\n",
       "      <td>0</td>\n",
       "      <td>[ 3.8554306 -5.8214846]</td>\n",
       "      <td>0</td>\n",
       "      <td>[3.8554306, -5.8214846]</td>\n",
       "    </tr>\n",
       "    <tr>\n",
       "      <th>3</th>\n",
       "      <td>0</td>\n",
       "      <td>[ 3.3478065 -5.4837394]</td>\n",
       "      <td>0</td>\n",
       "      <td>[3.3478065, -5.4837394]</td>\n",
       "    </tr>\n",
       "    <tr>\n",
       "      <th>4</th>\n",
       "      <td>1</td>\n",
       "      <td>[-3.788875    0.15739654]</td>\n",
       "      <td>1</td>\n",
       "      <td>[-3.788875, 0.15739654]</td>\n",
       "    </tr>\n",
       "  </tbody>\n",
       "</table>\n",
       "</div>"
      ],
      "text/plain": [
       "   class                predictions  predicted_class                    preds\n",
       "0      0    [ 0.8859392 -3.1229172]                0  [0.8859392, -3.1229172]\n",
       "1      0    [ 3.2430787 -5.6636806]                0  [3.2430787, -5.6636806]\n",
       "2      0    [ 3.8554306 -5.8214846]                0  [3.8554306, -5.8214846]\n",
       "3      0    [ 3.3478065 -5.4837394]                0  [3.3478065, -5.4837394]\n",
       "4      1  [-3.788875    0.15739654]                1  [-3.788875, 0.15739654]"
      ]
     },
     "execution_count": 10,
     "metadata": {},
     "output_type": "execute_result"
    }
   ],
   "source": [
    "df_test1 = pd.read_csv(CHEMBL205/'CHEMBL205_predictions_CNN_test1_calibration.csv')\n",
    "df_test1['preds'] = [get_substring_list(r['predictions'].split(' '))  for i, r in df_test1.iterrows()]\n",
    "#df_preds['pred_0'] = np.array(df_preds['pred_0'], dtype=np.float64)\n",
    "df_test1.head()"
   ]
  },
  {
   "cell_type": "code",
   "execution_count": 13,
   "id": "456adf8b",
   "metadata": {},
   "outputs": [],
   "source": [
    "def calculate_probs_CNN(df, df_preds):\n",
    "    '''\n",
    "    function for getting bayesian corrected probabilites for CNN\n",
    "    df = DataFrame for CNN parameters for the probability function\n",
    "    df_preds = DataFrame for the predictions\n",
    "    '''\n",
    "    \n",
    "    preds = df_preds['preds']\n",
    "    all_probs_0 = np.array([])\n",
    "    if 'mu0' and 'mu1' in df.columns:\n",
    "        m0 = df.mu0.to_numpy()\n",
    "        s0 = df.sigma0.to_numpy()\n",
    "        m1 = df.mu1.to_numpy()\n",
    "        s1 = df.sigma1.to_numpy()\n",
    "        p = df.p.to_numpy()\n",
    "        w = df.w.to_numpy()\n",
    "        for pred in preds:\n",
    "            prob = CNN_direct_prob(pred, 0, w, p, m0, s0, m1, s1)\n",
    "            all_probs_0 = np.append(all_probs_0, prob)\n",
    "    else:\n",
    "        m = df.mu.to_numpy()\n",
    "        s = df.sigma.to_numpy()\n",
    "        p = df.p.to_numpy()\n",
    "        w = df.w.to_numpy()\n",
    "        for pred in preds:\n",
    "            prob = CNN_direct_prob2(pred, 0, w, p, m, s)\n",
    "            all_probs_0 = np.append(all_probs_0, prob)\n",
    "    return all_probs_0"
   ]
  },
  {
   "cell_type": "code",
   "execution_count": 14,
   "id": "c555a3bf",
   "metadata": {},
   "outputs": [
    {
     "data": {
      "text/plain": [
       "array([0.95907946, 0.99773092, 0.99729075, ..., 0.99840165, 0.66175722,\n",
       "       0.99137177])"
      ]
     },
     "execution_count": 14,
     "metadata": {},
     "output_type": "execute_result"
    }
   ],
   "source": [
    "arr = calculate_probs_CNN(df_CNN, df_test1)\n",
    "arr"
   ]
  },
  {
   "cell_type": "code",
   "execution_count": 15,
   "id": "efd4435a",
   "metadata": {},
   "outputs": [
    {
     "data": {
      "text/plain": [
       "3589"
      ]
     },
     "execution_count": 15,
     "metadata": {},
     "output_type": "execute_result"
    }
   ],
   "source": [
    "len(arr)"
   ]
  },
  {
   "cell_type": "code",
   "execution_count": 16,
   "id": "fcfcd38a",
   "metadata": {},
   "outputs": [],
   "source": [
    "df_test1['predictions'] = df_test1['preds']\n",
    "df_test1['prob_0'] = arr\n",
    "df_test1 = df_test1.drop(columns=['preds', 'predicted_class'])"
   ]
  },
  {
   "cell_type": "code",
   "execution_count": 17,
   "id": "f5d535da",
   "metadata": {},
   "outputs": [
    {
     "data": {
      "text/html": [
       "<div>\n",
       "<style scoped>\n",
       "    .dataframe tbody tr th:only-of-type {\n",
       "        vertical-align: middle;\n",
       "    }\n",
       "\n",
       "    .dataframe tbody tr th {\n",
       "        vertical-align: top;\n",
       "    }\n",
       "\n",
       "    .dataframe thead th {\n",
       "        text-align: right;\n",
       "    }\n",
       "</style>\n",
       "<table border=\"1\" class=\"dataframe\">\n",
       "  <thead>\n",
       "    <tr style=\"text-align: right;\">\n",
       "      <th></th>\n",
       "      <th>class</th>\n",
       "      <th>predictions</th>\n",
       "      <th>prob_0</th>\n",
       "    </tr>\n",
       "  </thead>\n",
       "  <tbody>\n",
       "    <tr>\n",
       "      <th>0</th>\n",
       "      <td>0</td>\n",
       "      <td>[0.8859392, -3.1229172]</td>\n",
       "      <td>0.959079</td>\n",
       "    </tr>\n",
       "    <tr>\n",
       "      <th>1</th>\n",
       "      <td>0</td>\n",
       "      <td>[3.2430787, -5.6636806]</td>\n",
       "      <td>0.997731</td>\n",
       "    </tr>\n",
       "    <tr>\n",
       "      <th>2</th>\n",
       "      <td>0</td>\n",
       "      <td>[3.8554306, -5.8214846]</td>\n",
       "      <td>0.997291</td>\n",
       "    </tr>\n",
       "    <tr>\n",
       "      <th>3</th>\n",
       "      <td>0</td>\n",
       "      <td>[3.3478065, -5.4837394]</td>\n",
       "      <td>0.997800</td>\n",
       "    </tr>\n",
       "    <tr>\n",
       "      <th>4</th>\n",
       "      <td>1</td>\n",
       "      <td>[-3.788875, 0.15739654]</td>\n",
       "      <td>0.204960</td>\n",
       "    </tr>\n",
       "  </tbody>\n",
       "</table>\n",
       "</div>"
      ],
      "text/plain": [
       "   class              predictions    prob_0\n",
       "0      0  [0.8859392, -3.1229172]  0.959079\n",
       "1      0  [3.2430787, -5.6636806]  0.997731\n",
       "2      0  [3.8554306, -5.8214846]  0.997291\n",
       "3      0  [3.3478065, -5.4837394]  0.997800\n",
       "4      1  [-3.788875, 0.15739654]  0.204960"
      ]
     },
     "execution_count": 17,
     "metadata": {},
     "output_type": "execute_result"
    }
   ],
   "source": [
    "df_test1.head()"
   ]
  },
  {
   "cell_type": "code",
   "execution_count": 18,
   "id": "0c586618",
   "metadata": {},
   "outputs": [
    {
     "data": {
      "text/plain": [
       "(0.9984189823751263, 0.09819495244874327)"
      ]
     },
     "execution_count": 18,
     "metadata": {},
     "output_type": "execute_result"
    }
   ],
   "source": [
    "np.max(df_test1['prob_0']), np.min(df_test1['prob_0'])"
   ]
  },
  {
   "cell_type": "code",
   "execution_count": 19,
   "id": "5d7d03a7",
   "metadata": {},
   "outputs": [
    {
     "data": {
      "image/png": "[encoded data removed]",
      "text/plain": [
       "<Figure size 432x288 with 1 Axes>"
      ]
     },
     "metadata": {
      "needs_background": "light"
     },
     "output_type": "display_data"
    }
   ],
   "source": [
    "df_test1.hist(column='prob_0')\n",
    "plt.show()"
   ]
  },
  {
   "cell_type": "code",
   "execution_count": 20,
   "id": "1c5e98d1",
   "metadata": {},
   "outputs": [],
   "source": [
    "df_test1.to_csv(DATA/'CNN_bayesian_prob_test1.csv', index=False)"
   ]
  },
  {
   "cell_type": "markdown",
   "id": "488cc667",
   "metadata": {},
   "source": [
    "### Do the same for test set 2"
   ]
  },
  {
   "cell_type": "code",
   "execution_count": 21,
   "id": "fb82c02e",
   "metadata": {},
   "outputs": [
    {
     "data": {
      "text/html": [
       "<div>\n",
       "<style scoped>\n",
       "    .dataframe tbody tr th:only-of-type {\n",
       "        vertical-align: middle;\n",
       "    }\n",
       "\n",
       "    .dataframe tbody tr th {\n",
       "        vertical-align: top;\n",
       "    }\n",
       "\n",
       "    .dataframe thead th {\n",
       "        text-align: right;\n",
       "    }\n",
       "</style>\n",
       "<table border=\"1\" class=\"dataframe\">\n",
       "  <thead>\n",
       "    <tr style=\"text-align: right;\">\n",
       "      <th></th>\n",
       "      <th>class</th>\n",
       "      <th>predictions</th>\n",
       "      <th>predicted_class</th>\n",
       "      <th>preds</th>\n",
       "    </tr>\n",
       "  </thead>\n",
       "  <tbody>\n",
       "    <tr>\n",
       "      <th>0</th>\n",
       "      <td>1</td>\n",
       "      <td>[-6.1531496  3.5288205]</td>\n",
       "      <td>1</td>\n",
       "      <td>[-6.1531496, 3.5288205]</td>\n",
       "    </tr>\n",
       "    <tr>\n",
       "      <th>1</th>\n",
       "      <td>1</td>\n",
       "      <td>[-5.2736645  2.0863538]</td>\n",
       "      <td>1</td>\n",
       "      <td>[-5.2736645, 2.0863538]</td>\n",
       "    </tr>\n",
       "    <tr>\n",
       "      <th>2</th>\n",
       "      <td>0</td>\n",
       "      <td>[ 2.3478374 -4.10595  ]</td>\n",
       "      <td>0</td>\n",
       "      <td>[2.3478374, -4.10595]</td>\n",
       "    </tr>\n",
       "    <tr>\n",
       "      <th>3</th>\n",
       "      <td>0</td>\n",
       "      <td>[ 1.1088221 -3.4260807]</td>\n",
       "      <td>0</td>\n",
       "      <td>[1.1088221, -3.4260807]</td>\n",
       "    </tr>\n",
       "    <tr>\n",
       "      <th>4</th>\n",
       "      <td>0</td>\n",
       "      <td>[ 1.0482897 -3.2705696]</td>\n",
       "      <td>0</td>\n",
       "      <td>[1.0482897, -3.2705696]</td>\n",
       "    </tr>\n",
       "  </tbody>\n",
       "</table>\n",
       "</div>"
      ],
      "text/plain": [
       "   class              predictions  predicted_class                    preds\n",
       "0      1  [-6.1531496  3.5288205]                1  [-6.1531496, 3.5288205]\n",
       "1      1  [-5.2736645  2.0863538]                1  [-5.2736645, 2.0863538]\n",
       "2      0  [ 2.3478374 -4.10595  ]                0    [2.3478374, -4.10595]\n",
       "3      0  [ 1.1088221 -3.4260807]                0  [1.1088221, -3.4260807]\n",
       "4      0  [ 1.0482897 -3.2705696]                0  [1.0482897, -3.2705696]"
      ]
     },
     "execution_count": 21,
     "metadata": {},
     "output_type": "execute_result"
    }
   ],
   "source": [
    "df_test2 = pd.read_csv(CHEMBL205/'CHEMBL205_predictions_CNN_test2_demonstration.csv')\n",
    "df_test2['preds'] = [get_substring_list(r['predictions'].split(' '))  for i, r in df_test2.iterrows()]\n",
    "#df_preds['pred_0'] = np.array(df_preds['pred_0'], dtype=np.float64)\n",
    "df_test2.head()"
   ]
  },
  {
   "cell_type": "code",
   "execution_count": 22,
   "id": "ae0a099a",
   "metadata": {},
   "outputs": [],
   "source": [
    "probs = calculate_probs_CNN(df_CNN, df_test2)"
   ]
  },
  {
   "cell_type": "code",
   "execution_count": 23,
   "id": "7795e217",
   "metadata": {},
   "outputs": [],
   "source": [
    "df_test2['predictions'] = df_test2['preds']\n",
    "df_test2['prob_0'] = probs\n",
    "df_test2 = df_test2.drop(columns=['preds', 'predicted_class'])"
   ]
  },
  {
   "cell_type": "code",
   "execution_count": 24,
   "id": "368de9ae",
   "metadata": {},
   "outputs": [
    {
     "data": {
      "text/html": [
       "<div>\n",
       "<style scoped>\n",
       "    .dataframe tbody tr th:only-of-type {\n",
       "        vertical-align: middle;\n",
       "    }\n",
       "\n",
       "    .dataframe tbody tr th {\n",
       "        vertical-align: top;\n",
       "    }\n",
       "\n",
       "    .dataframe thead th {\n",
       "        text-align: right;\n",
       "    }\n",
       "</style>\n",
       "<table border=\"1\" class=\"dataframe\">\n",
       "  <thead>\n",
       "    <tr style=\"text-align: right;\">\n",
       "      <th></th>\n",
       "      <th>class</th>\n",
       "      <th>predictions</th>\n",
       "      <th>prob_0</th>\n",
       "    </tr>\n",
       "  </thead>\n",
       "  <tbody>\n",
       "    <tr>\n",
       "      <th>0</th>\n",
       "      <td>1</td>\n",
       "      <td>[-6.1531496, 3.5288205]</td>\n",
       "      <td>0.098276</td>\n",
       "    </tr>\n",
       "    <tr>\n",
       "      <th>1</th>\n",
       "      <td>1</td>\n",
       "      <td>[-5.2736645, 2.0863538]</td>\n",
       "      <td>0.098389</td>\n",
       "    </tr>\n",
       "    <tr>\n",
       "      <th>2</th>\n",
       "      <td>0</td>\n",
       "      <td>[2.3478374, -4.10595]</td>\n",
       "      <td>0.997626</td>\n",
       "    </tr>\n",
       "    <tr>\n",
       "      <th>3</th>\n",
       "      <td>0</td>\n",
       "      <td>[1.1088221, -3.4260807]</td>\n",
       "      <td>0.971378</td>\n",
       "    </tr>\n",
       "    <tr>\n",
       "      <th>4</th>\n",
       "      <td>0</td>\n",
       "      <td>[1.0482897, -3.2705696]</td>\n",
       "      <td>0.964264</td>\n",
       "    </tr>\n",
       "  </tbody>\n",
       "</table>\n",
       "</div>"
      ],
      "text/plain": [
       "   class              predictions    prob_0\n",
       "0      1  [-6.1531496, 3.5288205]  0.098276\n",
       "1      1  [-5.2736645, 2.0863538]  0.098389\n",
       "2      0    [2.3478374, -4.10595]  0.997626\n",
       "3      0  [1.1088221, -3.4260807]  0.971378\n",
       "4      0  [1.0482897, -3.2705696]  0.964264"
      ]
     },
     "execution_count": 24,
     "metadata": {},
     "output_type": "execute_result"
    }
   ],
   "source": [
    "df_test2.head()"
   ]
  },
  {
   "cell_type": "code",
   "execution_count": 25,
   "id": "f0c40979",
   "metadata": {},
   "outputs": [],
   "source": [
    "df_test2['pred_0'] = [r['predictions'][0] for i, r in df_test2.iterrows()]\n",
    "df_test2['pred_1'] = [r['predictions'][1] for i, r in df_test2.iterrows()]\n",
    "df_test2 = df_test2.drop(columns=['predictions'])"
   ]
  },
  {
   "cell_type": "code",
   "execution_count": 26,
   "id": "45a0a068",
   "metadata": {},
   "outputs": [
    {
     "data": {
      "text/html": [
       "<div>\n",
       "<style scoped>\n",
       "    .dataframe tbody tr th:only-of-type {\n",
       "        vertical-align: middle;\n",
       "    }\n",
       "\n",
       "    .dataframe tbody tr th {\n",
       "        vertical-align: top;\n",
       "    }\n",
       "\n",
       "    .dataframe thead th {\n",
       "        text-align: right;\n",
       "    }\n",
       "</style>\n",
       "<table border=\"1\" class=\"dataframe\">\n",
       "  <thead>\n",
       "    <tr style=\"text-align: right;\">\n",
       "      <th></th>\n",
       "      <th>class</th>\n",
       "      <th>prob_0</th>\n",
       "      <th>pred_0</th>\n",
       "      <th>pred_1</th>\n",
       "    </tr>\n",
       "  </thead>\n",
       "  <tbody>\n",
       "    <tr>\n",
       "      <th>0</th>\n",
       "      <td>1</td>\n",
       "      <td>0.098276</td>\n",
       "      <td>-6.153150</td>\n",
       "      <td>3.528821</td>\n",
       "    </tr>\n",
       "    <tr>\n",
       "      <th>1</th>\n",
       "      <td>1</td>\n",
       "      <td>0.098389</td>\n",
       "      <td>-5.273664</td>\n",
       "      <td>2.086354</td>\n",
       "    </tr>\n",
       "    <tr>\n",
       "      <th>2</th>\n",
       "      <td>0</td>\n",
       "      <td>0.997626</td>\n",
       "      <td>2.347837</td>\n",
       "      <td>-4.105950</td>\n",
       "    </tr>\n",
       "    <tr>\n",
       "      <th>3</th>\n",
       "      <td>0</td>\n",
       "      <td>0.971378</td>\n",
       "      <td>1.108822</td>\n",
       "      <td>-3.426081</td>\n",
       "    </tr>\n",
       "    <tr>\n",
       "      <th>4</th>\n",
       "      <td>0</td>\n",
       "      <td>0.964264</td>\n",
       "      <td>1.048290</td>\n",
       "      <td>-3.270570</td>\n",
       "    </tr>\n",
       "  </tbody>\n",
       "</table>\n",
       "</div>"
      ],
      "text/plain": [
       "   class    prob_0    pred_0    pred_1\n",
       "0      1  0.098276 -6.153150  3.528821\n",
       "1      1  0.098389 -5.273664  2.086354\n",
       "2      0  0.997626  2.347837 -4.105950\n",
       "3      0  0.971378  1.108822 -3.426081\n",
       "4      0  0.964264  1.048290 -3.270570"
      ]
     },
     "execution_count": 26,
     "metadata": {},
     "output_type": "execute_result"
    }
   ],
   "source": [
    "df_test2.head()"
   ]
  },
  {
   "cell_type": "code",
   "execution_count": 27,
   "id": "6a5f668a",
   "metadata": {},
   "outputs": [
    {
     "data": {
      "text/html": [
       "<div>\n",
       "<style scoped>\n",
       "    .dataframe tbody tr th:only-of-type {\n",
       "        vertical-align: middle;\n",
       "    }\n",
       "\n",
       "    .dataframe tbody tr th {\n",
       "        vertical-align: top;\n",
       "    }\n",
       "\n",
       "    .dataframe thead th {\n",
       "        text-align: right;\n",
       "    }\n",
       "</style>\n",
       "<table border=\"1\" class=\"dataframe\">\n",
       "  <thead>\n",
       "    <tr style=\"text-align: right;\">\n",
       "      <th></th>\n",
       "      <th>class</th>\n",
       "      <th>pred_0</th>\n",
       "      <th>pred_1</th>\n",
       "      <th>prob_0</th>\n",
       "    </tr>\n",
       "  </thead>\n",
       "  <tbody>\n",
       "    <tr>\n",
       "      <th>0</th>\n",
       "      <td>1</td>\n",
       "      <td>-6.153150</td>\n",
       "      <td>3.528821</td>\n",
       "      <td>0.098276</td>\n",
       "    </tr>\n",
       "    <tr>\n",
       "      <th>1</th>\n",
       "      <td>1</td>\n",
       "      <td>-5.273664</td>\n",
       "      <td>2.086354</td>\n",
       "      <td>0.098389</td>\n",
       "    </tr>\n",
       "    <tr>\n",
       "      <th>2</th>\n",
       "      <td>0</td>\n",
       "      <td>2.347837</td>\n",
       "      <td>-4.105950</td>\n",
       "      <td>0.997626</td>\n",
       "    </tr>\n",
       "    <tr>\n",
       "      <th>3</th>\n",
       "      <td>0</td>\n",
       "      <td>1.108822</td>\n",
       "      <td>-3.426081</td>\n",
       "      <td>0.971378</td>\n",
       "    </tr>\n",
       "    <tr>\n",
       "      <th>4</th>\n",
       "      <td>0</td>\n",
       "      <td>1.048290</td>\n",
       "      <td>-3.270570</td>\n",
       "      <td>0.964264</td>\n",
       "    </tr>\n",
       "  </tbody>\n",
       "</table>\n",
       "</div>"
      ],
      "text/plain": [
       "   class    pred_0    pred_1    prob_0\n",
       "0      1 -6.153150  3.528821  0.098276\n",
       "1      1 -5.273664  2.086354  0.098389\n",
       "2      0  2.347837 -4.105950  0.997626\n",
       "3      0  1.108822 -3.426081  0.971378\n",
       "4      0  1.048290 -3.270570  0.964264"
      ]
     },
     "execution_count": 27,
     "metadata": {},
     "output_type": "execute_result"
    }
   ],
   "source": [
    "df_test2 = df_test2[['class', 'pred_0', 'pred_1', 'prob_0']]\n",
    "df_test2.head()"
   ]
  },
  {
   "cell_type": "code",
   "execution_count": 28,
   "id": "10d6d149",
   "metadata": {},
   "outputs": [],
   "source": [
    "df_test2.to_csv(DATA/'CNN_bayesian_prob_test2_demonstration.csv', index=False)"
   ]
  },
  {
   "cell_type": "markdown",
   "id": "1b21f632",
   "metadata": {},
   "source": [
    "# Test with CS Loss model"
   ]
  },
  {
   "cell_type": "code",
   "execution_count": 113,
   "id": "1d5057cb",
   "metadata": {},
   "outputs": [],
   "source": [
    "df_test2_cs = pd.read_csv(CHEMBL205/'CHEMBL205_predictions_CNN_CS_loss_test2.csv')\n",
    "df_test2_cs['preds'] = [get_substring_list(r['predictions'].split(' '))  for i, r in df_test2_cs.iterrows()]"
   ]
  },
  {
   "cell_type": "code",
   "execution_count": 114,
   "id": "f944a561",
   "metadata": {},
   "outputs": [
    {
     "data": {
      "text/html": [
       "<div>\n",
       "<style scoped>\n",
       "    .dataframe tbody tr th:only-of-type {\n",
       "        vertical-align: middle;\n",
       "    }\n",
       "\n",
       "    .dataframe tbody tr th {\n",
       "        vertical-align: top;\n",
       "    }\n",
       "\n",
       "    .dataframe thead th {\n",
       "        text-align: right;\n",
       "    }\n",
       "</style>\n",
       "<table border=\"1\" class=\"dataframe\">\n",
       "  <thead>\n",
       "    <tr style=\"text-align: right;\">\n",
       "      <th></th>\n",
       "      <th>class</th>\n",
       "      <th>predictions</th>\n",
       "      <th>predicted_class</th>\n",
       "      <th>preds</th>\n",
       "    </tr>\n",
       "  </thead>\n",
       "  <tbody>\n",
       "    <tr>\n",
       "      <th>0</th>\n",
       "      <td>0</td>\n",
       "      <td>[ 1.9198327 -1.2823217]</td>\n",
       "      <td>1.919833</td>\n",
       "      <td>[1.9198327, -1.2823217]</td>\n",
       "    </tr>\n",
       "    <tr>\n",
       "      <th>1</th>\n",
       "      <td>0</td>\n",
       "      <td>[ 3.725137 -2.178217]</td>\n",
       "      <td>3.725137</td>\n",
       "      <td>[3.725137, -2.178217]</td>\n",
       "    </tr>\n",
       "    <tr>\n",
       "      <th>2</th>\n",
       "      <td>0</td>\n",
       "      <td>[ 7.8391333 -6.633624 ]</td>\n",
       "      <td>7.839133</td>\n",
       "      <td>[7.8391333, -6.633624]</td>\n",
       "    </tr>\n",
       "    <tr>\n",
       "      <th>3</th>\n",
       "      <td>0</td>\n",
       "      <td>[ 7.369962  -6.2871866]</td>\n",
       "      <td>7.369962</td>\n",
       "      <td>[7.369962, -6.2871866]</td>\n",
       "    </tr>\n",
       "    <tr>\n",
       "      <th>4</th>\n",
       "      <td>1</td>\n",
       "      <td>[-1.3934275  2.0953865]</td>\n",
       "      <td>2.095387</td>\n",
       "      <td>[-1.3934275, 2.0953865]</td>\n",
       "    </tr>\n",
       "  </tbody>\n",
       "</table>\n",
       "</div>"
      ],
      "text/plain": [
       "   class              predictions  predicted_class                    preds\n",
       "0      0  [ 1.9198327 -1.2823217]         1.919833  [1.9198327, -1.2823217]\n",
       "1      0    [ 3.725137 -2.178217]         3.725137    [3.725137, -2.178217]\n",
       "2      0  [ 7.8391333 -6.633624 ]         7.839133   [7.8391333, -6.633624]\n",
       "3      0  [ 7.369962  -6.2871866]         7.369962   [7.369962, -6.2871866]\n",
       "4      1  [-1.3934275  2.0953865]         2.095387  [-1.3934275, 2.0953865]"
      ]
     },
     "execution_count": 114,
     "metadata": {},
     "output_type": "execute_result"
    }
   ],
   "source": [
    "df_test2_cs.head()"
   ]
  },
  {
   "cell_type": "code",
   "execution_count": 115,
   "id": "500a9875",
   "metadata": {},
   "outputs": [],
   "source": [
    "#probs = calculate_probs_CNN(df_CNN, df_test2_cs)"
   ]
  },
  {
   "cell_type": "code",
   "execution_count": 116,
   "id": "94998d31",
   "metadata": {},
   "outputs": [],
   "source": [
    "df_test2_cs['predictions'] = df_test2_cs['preds']\n",
    "#df_test2_cs['prob_0'] = probs\n",
    "df_test2_cs = df_test2_cs.drop(columns=['preds', 'predicted_class'])"
   ]
  },
  {
   "cell_type": "code",
   "execution_count": 117,
   "id": "0ee12d1c",
   "metadata": {},
   "outputs": [],
   "source": [
    "df_test2_cs['pred_0'] = [r['predictions'][0] for i, r in df_test2_cs.iterrows()]\n",
    "df_test2_cs['pred_1'] = [r['predictions'][1] for i, r in df_test2_cs.iterrows()]\n",
    "df_test2_cs = df_test2_cs.drop(columns=['predictions'])"
   ]
  },
  {
   "cell_type": "code",
   "execution_count": 118,
   "id": "83d096ec",
   "metadata": {},
   "outputs": [
    {
     "data": {
      "text/html": [
       "<div>\n",
       "<style scoped>\n",
       "    .dataframe tbody tr th:only-of-type {\n",
       "        vertical-align: middle;\n",
       "    }\n",
       "\n",
       "    .dataframe tbody tr th {\n",
       "        vertical-align: top;\n",
       "    }\n",
       "\n",
       "    .dataframe thead th {\n",
       "        text-align: right;\n",
       "    }\n",
       "</style>\n",
       "<table border=\"1\" class=\"dataframe\">\n",
       "  <thead>\n",
       "    <tr style=\"text-align: right;\">\n",
       "      <th></th>\n",
       "      <th>class</th>\n",
       "      <th>pred_0</th>\n",
       "      <th>pred_1</th>\n",
       "    </tr>\n",
       "  </thead>\n",
       "  <tbody>\n",
       "    <tr>\n",
       "      <th>0</th>\n",
       "      <td>0</td>\n",
       "      <td>1.919833</td>\n",
       "      <td>-1.282322</td>\n",
       "    </tr>\n",
       "    <tr>\n",
       "      <th>1</th>\n",
       "      <td>0</td>\n",
       "      <td>3.725137</td>\n",
       "      <td>-2.178217</td>\n",
       "    </tr>\n",
       "    <tr>\n",
       "      <th>2</th>\n",
       "      <td>0</td>\n",
       "      <td>7.839133</td>\n",
       "      <td>-6.633624</td>\n",
       "    </tr>\n",
       "    <tr>\n",
       "      <th>3</th>\n",
       "      <td>0</td>\n",
       "      <td>7.369962</td>\n",
       "      <td>-6.287187</td>\n",
       "    </tr>\n",
       "    <tr>\n",
       "      <th>4</th>\n",
       "      <td>1</td>\n",
       "      <td>-1.393428</td>\n",
       "      <td>2.095387</td>\n",
       "    </tr>\n",
       "  </tbody>\n",
       "</table>\n",
       "</div>"
      ],
      "text/plain": [
       "   class    pred_0    pred_1\n",
       "0      0  1.919833 -1.282322\n",
       "1      0  3.725137 -2.178217\n",
       "2      0  7.839133 -6.633624\n",
       "3      0  7.369962 -6.287187\n",
       "4      1 -1.393428  2.095387"
      ]
     },
     "execution_count": 118,
     "metadata": {},
     "output_type": "execute_result"
    }
   ],
   "source": [
    "df_test2_cs.head()"
   ]
  },
  {
   "cell_type": "code",
   "execution_count": 119,
   "id": "750c1c34",
   "metadata": {},
   "outputs": [],
   "source": [
    "df_test2_cs.to_csv(DATA/'CNN_prob_CS_loss_test2_demonstration.csv', index=False)"
   ]
  },
  {
   "cell_type": "markdown",
   "id": "ce278fdb",
   "metadata": {},
   "source": [
    "## Test for utility matrix"
   ]
  },
  {
   "cell_type": "code",
   "execution_count": 136,
   "id": "5999225b",
   "metadata": {},
   "outputs": [],
   "source": [
    "''' \n",
    "Utility matrix format: \n",
    "    [[TN, FN],\n",
    "     [FP, TP]]\n",
    "'''\n",
    "utility = np.array([[1, 0], \n",
    "                    [0, 1]], dtype=np.float64)"
   ]
  },
  {
   "cell_type": "code",
   "execution_count": 138,
   "id": "afa435d8",
   "metadata": {},
   "outputs": [],
   "source": [
    "df = df_preds\n",
    "df['expected_utility'] = [get_expected_utility(utility, [r['direct_prob_0'], 1 - r['direct_prob_0']]) \n",
    "                          for i, r in df.iterrows()]\n",
    "df['best_utility_class'] = torch.tensor(df['expected_utility']).argmax(axis=1)"
   ]
  },
  {
   "cell_type": "code",
   "execution_count": 139,
   "id": "5dd3fe2a",
   "metadata": {},
   "outputs": [
    {
     "data": {
      "text/html": [
       "<div>\n",
       "<style scoped>\n",
       "    .dataframe tbody tr th:only-of-type {\n",
       "        vertical-align: middle;\n",
       "    }\n",
       "\n",
       "    .dataframe tbody tr th {\n",
       "        vertical-align: top;\n",
       "    }\n",
       "\n",
       "    .dataframe thead th {\n",
       "        text-align: right;\n",
       "    }\n",
       "</style>\n",
       "<table border=\"1\" class=\"dataframe\">\n",
       "  <thead>\n",
       "    <tr style=\"text-align: right;\">\n",
       "      <th></th>\n",
       "      <th>class</th>\n",
       "      <th>predictions</th>\n",
       "      <th>predicted_class</th>\n",
       "      <th>direct_prob_0</th>\n",
       "      <th>expected_utility</th>\n",
       "      <th>best_utility_class</th>\n",
       "    </tr>\n",
       "  </thead>\n",
       "  <tbody>\n",
       "    <tr>\n",
       "      <th>0</th>\n",
       "      <td>0</td>\n",
       "      <td>[1.0686345, 0.15982893]</td>\n",
       "      <td>0</td>\n",
       "      <td>0.812227</td>\n",
       "      <td>[0.8122267607382875, 0.18777323926171252]</td>\n",
       "      <td>0</td>\n",
       "    </tr>\n",
       "    <tr>\n",
       "      <th>1</th>\n",
       "      <td>0</td>\n",
       "      <td>[3.294972, -3.2591784]</td>\n",
       "      <td>0</td>\n",
       "      <td>0.997830</td>\n",
       "      <td>[0.997829581810393, 0.0021704181896069485]</td>\n",
       "      <td>0</td>\n",
       "    </tr>\n",
       "    <tr>\n",
       "      <th>2</th>\n",
       "      <td>0</td>\n",
       "      <td>[3.8328488, -3.5713756]</td>\n",
       "      <td>0</td>\n",
       "      <td>0.995896</td>\n",
       "      <td>[0.9958956353188672, 0.004104364681132844]</td>\n",
       "      <td>0</td>\n",
       "    </tr>\n",
       "    <tr>\n",
       "      <th>3</th>\n",
       "      <td>0</td>\n",
       "      <td>[3.1314778, -3.682592]</td>\n",
       "      <td>0</td>\n",
       "      <td>0.997027</td>\n",
       "      <td>[0.9970271557275053, 0.002972844272494668]</td>\n",
       "      <td>0</td>\n",
       "    </tr>\n",
       "    <tr>\n",
       "      <th>4</th>\n",
       "      <td>1</td>\n",
       "      <td>[-0.789468, 1.3680037]</td>\n",
       "      <td>1</td>\n",
       "      <td>0.230961</td>\n",
       "      <td>[0.2309608425386519, 0.7690391574613481]</td>\n",
       "      <td>1</td>\n",
       "    </tr>\n",
       "  </tbody>\n",
       "</table>\n",
       "</div>"
      ],
      "text/plain": [
       "   class              predictions  predicted_class  direct_prob_0  \\\n",
       "0      0  [1.0686345, 0.15982893]                0       0.812227   \n",
       "1      0   [3.294972, -3.2591784]                0       0.997830   \n",
       "2      0  [3.8328488, -3.5713756]                0       0.995896   \n",
       "3      0   [3.1314778, -3.682592]                0       0.997027   \n",
       "4      1   [-0.789468, 1.3680037]                1       0.230961   \n",
       "\n",
       "                             expected_utility  best_utility_class  \n",
       "0   [0.8122267607382875, 0.18777323926171252]                   0  \n",
       "1  [0.997829581810393, 0.0021704181896069485]                   0  \n",
       "2  [0.9958956353188672, 0.004104364681132844]                   0  \n",
       "3  [0.9970271557275053, 0.002972844272494668]                   0  \n",
       "4    [0.2309608425386519, 0.7690391574613481]                   1  "
      ]
     },
     "execution_count": 139,
     "metadata": {},
     "output_type": "execute_result"
    }
   ],
   "source": [
    "df.head()"
   ]
  },
  {
   "cell_type": "code",
   "execution_count": 181,
   "id": "d790d2d3",
   "metadata": {},
   "outputs": [
    {
     "data": {
      "text/html": [
       "<div>\n",
       "<style scoped>\n",
       "    .dataframe tbody tr th:only-of-type {\n",
       "        vertical-align: middle;\n",
       "    }\n",
       "\n",
       "    .dataframe tbody tr th {\n",
       "        vertical-align: top;\n",
       "    }\n",
       "\n",
       "    .dataframe thead th {\n",
       "        text-align: right;\n",
       "    }\n",
       "</style>\n",
       "<table border=\"1\" class=\"dataframe\">\n",
       "  <thead>\n",
       "    <tr style=\"text-align: right;\">\n",
       "      <th></th>\n",
       "      <th>class</th>\n",
       "      <th>direct_prob_0</th>\n",
       "      <th>prediction_0</th>\n",
       "    </tr>\n",
       "  </thead>\n",
       "  <tbody>\n",
       "    <tr>\n",
       "      <th>0</th>\n",
       "      <td>0</td>\n",
       "      <td>0.812227</td>\n",
       "      <td>1.068634</td>\n",
       "    </tr>\n",
       "    <tr>\n",
       "      <th>1</th>\n",
       "      <td>0</td>\n",
       "      <td>0.997830</td>\n",
       "      <td>3.294972</td>\n",
       "    </tr>\n",
       "    <tr>\n",
       "      <th>2</th>\n",
       "      <td>0</td>\n",
       "      <td>0.995896</td>\n",
       "      <td>3.832849</td>\n",
       "    </tr>\n",
       "    <tr>\n",
       "      <th>3</th>\n",
       "      <td>0</td>\n",
       "      <td>0.997027</td>\n",
       "      <td>3.131478</td>\n",
       "    </tr>\n",
       "    <tr>\n",
       "      <th>4</th>\n",
       "      <td>1</td>\n",
       "      <td>0.230961</td>\n",
       "      <td>-0.789468</td>\n",
       "    </tr>\n",
       "  </tbody>\n",
       "</table>\n",
       "</div>"
      ],
      "text/plain": [
       "   class  direct_prob_0  prediction_0\n",
       "0      0       0.812227      1.068634\n",
       "1      0       0.997830      3.294972\n",
       "2      0       0.995896      3.832849\n",
       "3      0       0.997027      3.131478\n",
       "4      1       0.230961     -0.789468"
      ]
     },
     "execution_count": 181,
     "metadata": {},
     "output_type": "execute_result"
    }
   ],
   "source": []
  },
  {
   "cell_type": "code",
   "execution_count": 189,
   "id": "c06ca0be",
   "metadata": {},
   "outputs": [],
   "source": [
    "df_save = df_preds\n",
    "df_save.to_csv(DATA/'CNN_direct_prob.csv', index=False)"
   ]
  },
  {
   "cell_type": "markdown",
   "id": "11e6d4c0",
   "metadata": {},
   "source": [
    "# Create and compare different utility matrix for test set 2 in CNN and RF models"
   ]
  },
  {
   "cell_type": "code",
   "execution_count": 29,
   "id": "b392d9a2",
   "metadata": {},
   "outputs": [],
   "source": [
    "''' \n",
    "Utility matrix format: \n",
    "    [[TN, FN],\n",
    "     [FP, TP]]\n",
    "'''\n",
    "ums = {\n",
    "    'um1' : [[1, 0], [0, 1]], # accuracy\n",
    "    'um2' : [[1, -10], [0, 10]],\n",
    "    'um3' : [[1, -100], [0, 100]],\n",
    "    'um4' : [[10, 0], [-10, 1]],\n",
    "    'um5' : [[100, 0], [-100, 10]]\n",
    "    \n",
    "}"
   ]
  },
  {
   "cell_type": "markdown",
   "id": "5b3bf562",
   "metadata": {},
   "source": [
    "## Test for random forest model"
   ]
  },
  {
   "cell_type": "code",
   "execution_count": 30,
   "id": "7ace401c",
   "metadata": {},
   "outputs": [],
   "source": [
    "def choose_class(x, um=None):\n",
    "    \"\"\"\n",
    "    x = either one number between 0-1, or a (normalized) vector of probabilities\n",
    "        if it's one number then we are in a binary classification case\n",
    "        and x is the probability of CLASS 0\n",
    "    um = utility matrix in the format [[T0,F0],[F1,T1]] if None: Choose class based on x\n",
    "    \"\"\"\n",
    "    if type(x) == float or type(x) == np.float64: # x is float and is the probability of class 0\n",
    "        x = np.array([x])\n",
    "        x = np.concatenate((x, 1-x)) # transform into prob. vector       \n",
    "    else:\n",
    "        x = torch.sigmoid(torch.tensor(x))\n",
    "        x = np.array(x)\n",
    "    if um != None:\n",
    "        um = np.array(um)\n",
    "        x = np.matmul(um, x)\n",
    "    if x[0] == x[1]:\n",
    "        cl = random.randint(0,1)\n",
    "    else:\n",
    "        cl = np.argmax(x)\n",
    "    return cl"
   ]
  },
  {
   "cell_type": "code",
   "execution_count": 31,
   "id": "8d716c5c",
   "metadata": {},
   "outputs": [],
   "source": [
    "def get_total_cost (um, cm):\n",
    "    um = np.array([np.array(x) for x in um])\n",
    "    um = np.array([[um[0][0], um[1][0]], [um[0][1], um[1][1]]]) # switch the ordering of                             \n",
    "    um = um - um.min()                                          #t he cm to match [[TN, FP], [FN, TP]]\n",
    "    um = um / um.max() # Matrix to have max = 1 and min = 0\n",
    "    s = um * cm\n",
    "    s = s.sum()\n",
    "    s = s / cm.sum()\n",
    "    return s"
   ]
  },
  {
   "cell_type": "code",
   "execution_count": 32,
   "id": "e1304d9c",
   "metadata": {},
   "outputs": [
    {
     "name": "stdout",
     "output_type": "stream",
     "text": [
      "<class 'pandas.core.frame.DataFrame'>\n",
      "RangeIndex: 3588 entries, 0 to 3587\n",
      "Data columns (total 4 columns):\n",
      " #   Column           Non-Null Count  Dtype  \n",
      "---  ------           --------------  -----  \n",
      " 0   class            3588 non-null   int64  \n",
      " 1   predicted_class  3588 non-null   int64  \n",
      " 2   pred_0           3588 non-null   float64\n",
      " 3   prob_0           3588 non-null   float64\n",
      "dtypes: float64(2), int64(2)\n",
      "memory usage: 112.2 KB\n"
     ]
    }
   ],
   "source": [
    "df_test2_RF = pd.read_csv(DATA/'RF_bayesian_prob_test2_demonstration.csv')\n",
    "df_test2_RF.info()"
   ]
  },
  {
   "cell_type": "code",
   "execution_count": 33,
   "id": "47400991",
   "metadata": {},
   "outputs": [
    {
     "data": {
      "text/html": [
       "<div>\n",
       "<style scoped>\n",
       "    .dataframe tbody tr th:only-of-type {\n",
       "        vertical-align: middle;\n",
       "    }\n",
       "\n",
       "    .dataframe tbody tr th {\n",
       "        vertical-align: top;\n",
       "    }\n",
       "\n",
       "    .dataframe thead th {\n",
       "        text-align: right;\n",
       "    }\n",
       "</style>\n",
       "<table border=\"1\" class=\"dataframe\">\n",
       "  <thead>\n",
       "    <tr style=\"text-align: right;\">\n",
       "      <th></th>\n",
       "      <th>class</th>\n",
       "      <th>predicted_class</th>\n",
       "      <th>pred_0</th>\n",
       "      <th>prob_0</th>\n",
       "    </tr>\n",
       "  </thead>\n",
       "  <tbody>\n",
       "    <tr>\n",
       "      <th>0</th>\n",
       "      <td>1</td>\n",
       "      <td>1</td>\n",
       "      <td>0.405</td>\n",
       "      <td>0.691878</td>\n",
       "    </tr>\n",
       "    <tr>\n",
       "      <th>1</th>\n",
       "      <td>1</td>\n",
       "      <td>1</td>\n",
       "      <td>0.075</td>\n",
       "      <td>0.009137</td>\n",
       "    </tr>\n",
       "    <tr>\n",
       "      <th>2</th>\n",
       "      <td>0</td>\n",
       "      <td>0</td>\n",
       "      <td>0.945</td>\n",
       "      <td>0.916939</td>\n",
       "    </tr>\n",
       "    <tr>\n",
       "      <th>3</th>\n",
       "      <td>0</td>\n",
       "      <td>0</td>\n",
       "      <td>0.975</td>\n",
       "      <td>0.910338</td>\n",
       "    </tr>\n",
       "    <tr>\n",
       "      <th>4</th>\n",
       "      <td>0</td>\n",
       "      <td>0</td>\n",
       "      <td>0.950</td>\n",
       "      <td>0.916795</td>\n",
       "    </tr>\n",
       "  </tbody>\n",
       "</table>\n",
       "</div>"
      ],
      "text/plain": [
       "   class  predicted_class  pred_0    prob_0\n",
       "0      1                1   0.405  0.691878\n",
       "1      1                1   0.075  0.009137\n",
       "2      0                0   0.945  0.916939\n",
       "3      0                0   0.975  0.910338\n",
       "4      0                0   0.950  0.916795"
      ]
     },
     "execution_count": 33,
     "metadata": {},
     "output_type": "execute_result"
    }
   ],
   "source": [
    "df_test2_RF.head()"
   ]
  },
  {
   "cell_type": "code",
   "execution_count": 34,
   "id": "838e16d8",
   "metadata": {},
   "outputs": [
    {
     "data": {
      "text/html": [
       "<div>\n",
       "<style scoped>\n",
       "    .dataframe tbody tr th:only-of-type {\n",
       "        vertical-align: middle;\n",
       "    }\n",
       "\n",
       "    .dataframe tbody tr th {\n",
       "        vertical-align: top;\n",
       "    }\n",
       "\n",
       "    .dataframe thead th {\n",
       "        text-align: right;\n",
       "    }\n",
       "</style>\n",
       "<table border=\"1\" class=\"dataframe\">\n",
       "  <thead>\n",
       "    <tr style=\"text-align: right;\">\n",
       "      <th></th>\n",
       "      <th>class</th>\n",
       "      <th>predicted_class</th>\n",
       "      <th>pred_0</th>\n",
       "      <th>prob_0</th>\n",
       "    </tr>\n",
       "  </thead>\n",
       "  <tbody>\n",
       "    <tr>\n",
       "      <th>0</th>\n",
       "      <td>1</td>\n",
       "      <td>1</td>\n",
       "      <td>0.405</td>\n",
       "      <td>0.691878</td>\n",
       "    </tr>\n",
       "    <tr>\n",
       "      <th>1</th>\n",
       "      <td>1</td>\n",
       "      <td>1</td>\n",
       "      <td>0.075</td>\n",
       "      <td>0.009137</td>\n",
       "    </tr>\n",
       "    <tr>\n",
       "      <th>2</th>\n",
       "      <td>0</td>\n",
       "      <td>0</td>\n",
       "      <td>0.945</td>\n",
       "      <td>0.916939</td>\n",
       "    </tr>\n",
       "    <tr>\n",
       "      <th>3</th>\n",
       "      <td>0</td>\n",
       "      <td>0</td>\n",
       "      <td>0.975</td>\n",
       "      <td>0.910338</td>\n",
       "    </tr>\n",
       "    <tr>\n",
       "      <th>4</th>\n",
       "      <td>0</td>\n",
       "      <td>0</td>\n",
       "      <td>0.950</td>\n",
       "      <td>0.916795</td>\n",
       "    </tr>\n",
       "  </tbody>\n",
       "</table>\n",
       "</div>"
      ],
      "text/plain": [
       "   class  predicted_class  pred_0    prob_0\n",
       "0      1                1   0.405  0.691878\n",
       "1      1                1   0.075  0.009137\n",
       "2      0                0   0.945  0.916939\n",
       "3      0                0   0.975  0.910338\n",
       "4      0                0   0.950  0.916795"
      ]
     },
     "execution_count": 34,
     "metadata": {},
     "output_type": "execute_result"
    }
   ],
   "source": [
    "#df_test2_RF['predictions'] = [np.array([r['pred_0'], 1. - r['pred_0']]) for i, r in df_test2_RF.iterrows()]\n",
    "#df_test2_RF['probabilities'] = [np.array([r['prob_0'], 1 - r['prob_0']]) for i, r in df_test2_RF.iterrows()]\n",
    "df_test2_RF.head()"
   ]
  },
  {
   "cell_type": "code",
   "execution_count": 35,
   "id": "4b56618c",
   "metadata": {},
   "outputs": [],
   "source": [
    "df_scores = pd.DataFrame()\n",
    "df_scores['ums'] = list(ums.values())"
   ]
  },
  {
   "cell_type": "code",
   "execution_count": 36,
   "id": "1ab535f9",
   "metadata": {},
   "outputs": [
    {
     "data": {
      "text/html": [
       "<div>\n",
       "<style scoped>\n",
       "    .dataframe tbody tr th:only-of-type {\n",
       "        vertical-align: middle;\n",
       "    }\n",
       "\n",
       "    .dataframe tbody tr th {\n",
       "        vertical-align: top;\n",
       "    }\n",
       "\n",
       "    .dataframe thead th {\n",
       "        text-align: right;\n",
       "    }\n",
       "</style>\n",
       "<table border=\"1\" class=\"dataframe\">\n",
       "  <thead>\n",
       "    <tr style=\"text-align: right;\">\n",
       "      <th></th>\n",
       "      <th>ums</th>\n",
       "    </tr>\n",
       "  </thead>\n",
       "  <tbody>\n",
       "    <tr>\n",
       "      <th>0</th>\n",
       "      <td>[[1, 0], [0, 1]]</td>\n",
       "    </tr>\n",
       "    <tr>\n",
       "      <th>1</th>\n",
       "      <td>[[1, -10], [0, 10]]</td>\n",
       "    </tr>\n",
       "    <tr>\n",
       "      <th>2</th>\n",
       "      <td>[[1, -100], [0, 100]]</td>\n",
       "    </tr>\n",
       "    <tr>\n",
       "      <th>3</th>\n",
       "      <td>[[10, 0], [-10, 1]]</td>\n",
       "    </tr>\n",
       "    <tr>\n",
       "      <th>4</th>\n",
       "      <td>[[100, 0], [-100, 10]]</td>\n",
       "    </tr>\n",
       "  </tbody>\n",
       "</table>\n",
       "</div>"
      ],
      "text/plain": [
       "                      ums\n",
       "0        [[1, 0], [0, 1]]\n",
       "1     [[1, -10], [0, 10]]\n",
       "2   [[1, -100], [0, 100]]\n",
       "3     [[10, 0], [-10, 1]]\n",
       "4  [[100, 0], [-100, 10]]"
      ]
     },
     "execution_count": 36,
     "metadata": {},
     "output_type": "execute_result"
    }
   ],
   "source": [
    "df_scores"
   ]
  },
  {
   "cell_type": "code",
   "execution_count": 53,
   "id": "17110cbd",
   "metadata": {},
   "outputs": [],
   "source": [
    "def get_utility_scores(df, um, verbose=True):\n",
    "    '''\n",
    "    Method for calculating the total gains from utility matrix for regular predictions \n",
    "    and bayesian corrected predictions\n",
    "    df = DataFrame for predictions and bayesian probabilites of class 0\n",
    "    um = utility matrix in the format [[T0,F0],[F1,T1]]\n",
    "    verbose = if True: Outputs confusion matrix and text\n",
    "    '''\n",
    "    c1, c2, c3 = 0, 0, 0\n",
    "    # Calculations for standard output\n",
    "    y = df['class'].to_numpy()\n",
    "    if 'pred_1' in df.columns:\n",
    "        y_pred = [choose_class([r['pred_0'], r['pred_1']]) for i, r in df.iterrows()]\n",
    "    else:\n",
    "        y_pred = [choose_class(r['pred_0']) for i, r in df.iterrows()]\n",
    "    cm1 = confusion_matrix(y, y_pred)\n",
    "    c1 = get_total_cost(um, cm1)\n",
    "    if verbose: \n",
    "        f = sns.heatmap(cm1, annot=True, fmt='d')\n",
    "        print('**Output for the standard predictions from algorithm**')\n",
    "        print(f'Utility Matrix: {um}')\n",
    "        print(f'Total gains for the Utility Matrix: {c1}')\n",
    "        print('Confusion matrix:')\n",
    "        plt.show()\n",
    "    # Calculations for standard output with expected utility class choice\n",
    "    if 'pred_1' in df.columns:\n",
    "        y_pred = [choose_class([r['pred_0'], r['pred_1']], um) for i, r in df.iterrows()]\n",
    "    else:\n",
    "        y_pred = [choose_class(r['pred_0'], um) for i, r in df.iterrows()]\n",
    "    cm2 = confusion_matrix(y, y_pred)\n",
    "    c2 = get_total_cost(um, cm2)\n",
    "    if verbose: \n",
    "        f = sns.heatmap(cm2, annot=True, fmt='d')\n",
    "        print('**Output for the standard predictions mixed expected utility**')\n",
    "        print(f'Utility Matrix: {um}')\n",
    "        print(f'Total gains for the Utility Matrix: {c2}')\n",
    "        print('Confusion matrix:')\n",
    "        plt.show()\n",
    "    if 'prob_0' in df.columns: \n",
    "        # Calculations for bayesian probability and expected utility class choice\n",
    "        y_pred = [choose_class(r['prob_0'], um) for i, r in df.iterrows()]\n",
    "        cm3 = confusion_matrix(y, y_pred)\n",
    "        c3 = get_total_cost(um, cm3)\n",
    "        if verbose: \n",
    "            f = sns.heatmap(cm3, annot=True, fmt='d')\n",
    "            print('**Output for the transducer**')\n",
    "            print(f'Utility Matrix: {um}')\n",
    "            print(f'Total gains: {c3}')\n",
    "            print('Confusion matrix:')\n",
    "            plt.show()\n",
    "    return c1, c2, c3"
   ]
  },
  {
   "cell_type": "code",
   "execution_count": 56,
   "id": "b402b5e2",
   "metadata": {},
   "outputs": [
    {
     "name": "stdout",
     "output_type": "stream",
     "text": [
      "**Output for the standard predictions from algorithm**\n",
      "Utility Matrix: [[1, 0], [-10, 10]]\n",
      "Total gains for the Utility Matrix: 0.5739269788182831\n",
      "Confusion matrix:\n"
     ]
    },
    {
     "data": {
      "image/png": "[encoded data removed]",
      "text/plain": [
       "<Figure size 432x288 with 2 Axes>"
      ]
     },
     "metadata": {
      "needs_background": "light"
     },
     "output_type": "display_data"
    },
    {
     "name": "stdout",
     "output_type": "stream",
     "text": [
      "**Output for the standard predictions mixed expected utility**\n",
      "Utility Matrix: [[1, 0], [-10, 10]]\n",
      "Total gains for the Utility Matrix: 0.5736622073578596\n",
      "Confusion matrix:\n"
     ]
    },
    {
     "data": {
      "image/png": "[encoded data removed]",
      "text/plain": [
       "<Figure size 432x288 with 2 Axes>"
      ]
     },
     "metadata": {
      "needs_background": "light"
     },
     "output_type": "display_data"
    },
    {
     "name": "stdout",
     "output_type": "stream",
     "text": [
      "**Output for the transducer**\n",
      "Utility Matrix: [[1, 0], [-10, 10]]\n",
      "Total gains: 0.5643952062430324\n",
      "Confusion matrix:\n"
     ]
    },
    {
     "data": {
      "image/png": "[encoded data removed]",
      "text/plain": [
       "<Figure size 432x288 with 2 Axes>"
      ]
     },
     "metadata": {
      "needs_background": "light"
     },
     "output_type": "display_data"
    }
   ],
   "source": [
    "c1, c2, c3 = get_utility_scores(df_test2_RF, [[1, 0], [-10, 10]])"
   ]
  },
  {
   "cell_type": "code",
   "execution_count": 98,
   "id": "68d2f24a",
   "metadata": {},
   "outputs": [
    {
     "data": {
      "text/plain": [
       "array([list([[1, 0], [0, 1]])], dtype=object)"
      ]
     },
     "execution_count": 98,
     "metadata": {},
     "output_type": "execute_result"
    }
   ],
   "source": [
    "df_scores.iloc[0].to_numpy()"
   ]
  },
  {
   "cell_type": "code",
   "execution_count": 99,
   "id": "f90ea136",
   "metadata": {},
   "outputs": [],
   "source": [
    "um = np.array([[1, 0], [0, 1]])"
   ]
  },
  {
   "cell_type": "code",
   "execution_count": 100,
   "id": "adb748d7",
   "metadata": {},
   "outputs": [
    {
     "data": {
      "text/plain": [
       "array([[1., 0.],\n",
       "       [0., 1.]])"
      ]
     },
     "execution_count": 100,
     "metadata": {},
     "output_type": "execute_result"
    }
   ],
   "source": [
    "um = um - um.min()\n",
    "um = um / um.max()\n",
    "um"
   ]
  },
  {
   "cell_type": "code",
   "execution_count": 101,
   "id": "545d63f5",
   "metadata": {},
   "outputs": [
    {
     "data": {
      "text/plain": [
       "1.0"
      ]
     },
     "execution_count": 101,
     "metadata": {},
     "output_type": "execute_result"
    }
   ],
   "source": [
    "um[1][1]"
   ]
  },
  {
   "cell_type": "markdown",
   "id": "80cd0c2e",
   "metadata": {},
   "source": [
    "# Get the scores for all the different utility matrixes"
   ]
  },
  {
   "cell_type": "code",
   "execution_count": 49,
   "id": "1c7abc3e",
   "metadata": {},
   "outputs": [],
   "source": [
    "df_scores = pd.DataFrame()\n",
    "df_scores['ums'] = list(ums.values())"
   ]
  },
  {
   "cell_type": "code",
   "execution_count": 40,
   "id": "cc70d6f7",
   "metadata": {},
   "outputs": [
    {
     "name": "stdout",
     "output_type": "stream",
     "text": [
      "**Output for the standard predictions from algorithm**\n",
      "Utility Matrix: [[1, 0], [0, 1]]\n",
      "Total gains for the Utility Matrix: 0.967670011148272\n",
      "Confusion matrix:\n"
     ]
    },
    {
     "data": {
      "image/png": "[encoded data removed]",
      "text/plain": [
       "<Figure size 432x288 with 2 Axes>"
      ]
     },
     "metadata": {
      "needs_background": "light"
     },
     "output_type": "display_data"
    },
    {
     "name": "stdout",
     "output_type": "stream",
     "text": [
      "**Output for the standard predictions from algorithm with expected utility**\n",
      "Utility Matrix: [[1, 0], [0, 1]]\n",
      "Total gains for the Utility Matrix: 0.967391304347826\n",
      "Confusion matrix:\n"
     ]
    },
    {
     "data": {
      "image/png": "[encoded data removed]",
      "text/plain": [
       "<Figure size 432x288 with 2 Axes>"
      ]
     },
     "metadata": {
      "needs_background": "light"
     },
     "output_type": "display_data"
    },
    {
     "name": "stdout",
     "output_type": "stream",
     "text": [
      "**Output for the bayesian calculations with expected utility**\n",
      "Utility Matrix: [[1, 0], [0, 1]]\n",
      "Total gains: 0.9501114827201784\n",
      "Confusion matrix:\n"
     ]
    },
    {
     "data": {
      "image/png": "[encoded data removed]",
      "text/plain": [
       "<Figure size 432x288 with 2 Axes>"
      ]
     },
     "metadata": {
      "needs_background": "light"
     },
     "output_type": "display_data"
    },
    {
     "name": "stdout",
     "output_type": "stream",
     "text": [
      "**Output for the standard predictions from algorithm**\n",
      "Utility Matrix: [[1, -10], [0, 10]]\n",
      "Total gains for the Utility Matrix: 0.5680741360089187\n",
      "Confusion matrix:\n"
     ]
    },
    {
     "data": {
      "image/png": "[encoded data removed]",
      "text/plain": [
       "<Figure size 432x288 with 2 Axes>"
      ]
     },
     "metadata": {
      "needs_background": "light"
     },
     "output_type": "display_data"
    },
    {
     "name": "stdout",
     "output_type": "stream",
     "text": [
      "**Output for the standard predictions from algorithm with expected utility**\n",
      "Utility Matrix: [[1, -10], [0, 10]]\n",
      "Total gains for the Utility Matrix: 0.5777313266443701\n",
      "Confusion matrix:\n"
     ]
    },
    {
     "data": {
      "image/png": "[encoded data removed]",
      "text/plain": [
       "<Figure size 432x288 with 2 Axes>"
      ]
     },
     "metadata": {
      "needs_background": "light"
     },
     "output_type": "display_data"
    },
    {
     "name": "stdout",
     "output_type": "stream",
     "text": [
      "**Output for the bayesian calculations with expected utility**\n",
      "Utility Matrix: [[1, -10], [0, 10]]\n",
      "Total gains: 0.5454292084726867\n",
      "Confusion matrix:\n"
     ]
    },
    {
     "data": {
      "image/png": "[encoded data removed]",
      "text/plain": [
       "<Figure size 432x288 with 2 Axes>"
      ]
     },
     "metadata": {
      "needs_background": "light"
     },
     "output_type": "display_data"
    },
    {
     "name": "stdout",
     "output_type": "stream",
     "text": [
      "**Output for the standard predictions from algorithm**\n",
      "Utility Matrix: [[1, -100], [0, 100]]\n",
      "Total gains for the Utility Matrix: 0.5276268115942029\n",
      "Confusion matrix:\n"
     ]
    },
    {
     "data": {
      "image/png": "[encoded data removed]",
      "text/plain": [
       "<Figure size 432x288 with 2 Axes>"
      ]
     },
     "metadata": {
      "needs_background": "light"
     },
     "output_type": "display_data"
    },
    {
     "name": "stdout",
     "output_type": "stream",
     "text": [
      "**Output for the standard predictions from algorithm with expected utility**\n",
      "Utility Matrix: [[1, -100], [0, 100]]\n",
      "Total gains for the Utility Matrix: 0.5456605351170568\n",
      "Confusion matrix:\n"
     ]
    },
    {
     "data": {
      "image/png": "[encoded data removed]",
      "text/plain": [
       "<Figure size 432x288 with 2 Axes>"
      ]
     },
     "metadata": {
      "needs_background": "light"
     },
     "output_type": "display_data"
    },
    {
     "name": "stdout",
     "output_type": "stream",
     "text": [
      "**Output for the bayesian calculations with expected utility**\n",
      "Utility Matrix: [[1, -100], [0, 100]]\n",
      "Total gains: 0.5454292084726867\n",
      "Confusion matrix:\n"
     ]
    },
    {
     "data": {
      "image/png": "[encoded data removed]",
      "text/plain": [
       "<Figure size 432x288 with 2 Axes>"
      ]
     },
     "metadata": {
      "needs_background": "light"
     },
     "output_type": "display_data"
    },
    {
     "name": "stdout",
     "output_type": "stream",
     "text": [
      "**Output for the standard predictions from algorithm**\n",
      "Utility Matrix: [[10, 0], [-10, 1]]\n",
      "Total gains for the Utility Matrix: 0.9477006688963211\n",
      "Confusion matrix:\n"
     ]
    },
    {
     "data": {
      "image/png": "[encoded data removed]",
      "text/plain": [
       "<Figure size 432x288 with 2 Axes>"
      ]
     },
     "metadata": {
      "needs_background": "light"
     },
     "output_type": "display_data"
    },
    {
     "name": "stdout",
     "output_type": "stream",
     "text": [
      "**Output for the standard predictions from algorithm with expected utility**\n",
      "Utility Matrix: [[10, 0], [-10, 1]]\n",
      "Total gains for the Utility Matrix: 0.9541666666666667\n",
      "Confusion matrix:\n"
     ]
    },
    {
     "data": {
      "image/png": "[encoded data removed]",
      "text/plain": [
       "<Figure size 432x288 with 2 Axes>"
      ]
     },
     "metadata": {
      "needs_background": "light"
     },
     "output_type": "display_data"
    },
    {
     "name": "stdout",
     "output_type": "stream",
     "text": [
      "**Output for the bayesian calculations with expected utility**\n",
      "Utility Matrix: [[10, 0], [-10, 1]]\n",
      "Total gains: 0.9534698996655518\n",
      "Confusion matrix:\n"
     ]
    },
    {
     "data": {
      "image/png": "[encoded data removed]",
      "text/plain": [
       "<Figure size 432x288 with 2 Axes>"
      ]
     },
     "metadata": {
      "needs_background": "light"
     },
     "output_type": "display_data"
    },
    {
     "name": "stdout",
     "output_type": "stream",
     "text": [
      "**Output for the standard predictions from algorithm**\n",
      "Utility Matrix: [[100, 0], [-100, 10]]\n",
      "Total gains for the Utility Matrix: 0.9476727982162765\n",
      "Confusion matrix:\n"
     ]
    },
    {
     "data": {
      "image/png": "[encoded data removed]",
      "text/plain": [
       "<Figure size 432x288 with 2 Axes>"
      ]
     },
     "metadata": {
      "needs_background": "light"
     },
     "output_type": "display_data"
    },
    {
     "name": "stdout",
     "output_type": "stream",
     "text": [
      "**Output for the standard predictions from algorithm with expected utility**\n",
      "Utility Matrix: [[100, 0], [-100, 10]]\n",
      "Total gains for the Utility Matrix: 0.9541666666666667\n",
      "Confusion matrix:\n"
     ]
    },
    {
     "data": {
      "image/png": "[encoded data removed]",
      "text/plain": [
       "<Figure size 432x288 with 2 Axes>"
      ]
     },
     "metadata": {
      "needs_background": "light"
     },
     "output_type": "display_data"
    },
    {
     "name": "stdout",
     "output_type": "stream",
     "text": [
      "**Output for the bayesian calculations with expected utility**\n",
      "Utility Matrix: [[100, 0], [-100, 10]]\n",
      "Total gains: 0.9534698996655518\n",
      "Confusion matrix:\n"
     ]
    },
    {
     "data": {
      "image/png": "[encoded data removed]",
      "text/plain": [
       "<Figure size 432x288 with 2 Axes>"
      ]
     },
     "metadata": {
      "needs_background": "light"
     },
     "output_type": "display_data"
    },
    {
     "data": {
      "text/plain": [
       "[0.9501114827201784,\n",
       " 0.5454292084726867,\n",
       " 0.5454292084726867,\n",
       " 0.9534698996655518,\n",
       " 0.9534698996655518]"
      ]
     },
     "execution_count": 40,
     "metadata": {},
     "output_type": "execute_result"
    }
   ],
   "source": [
    "scores1 = []\n",
    "scores2 = []\n",
    "scores3 = []\n",
    "for i, r in df_scores.iterrows():\n",
    "    s1, s2, s3 = get_utility_scores(df_test2_RF, r['ums'], verbose=True)\n",
    "    scores1.append(s1)\n",
    "    scores2.append(s2)\n",
    "    scores3.append(s3)\n",
    "scores3"
   ]
  },
  {
   "cell_type": "code",
   "execution_count": 50,
   "id": "d2888f91",
   "metadata": {},
   "outputs": [
    {
     "data": {
      "text/html": [
       "<div>\n",
       "<style scoped>\n",
       "    .dataframe tbody tr th:only-of-type {\n",
       "        vertical-align: middle;\n",
       "    }\n",
       "\n",
       "    .dataframe tbody tr th {\n",
       "        vertical-align: top;\n",
       "    }\n",
       "\n",
       "    .dataframe thead th {\n",
       "        text-align: right;\n",
       "    }\n",
       "</style>\n",
       "<table border=\"1\" class=\"dataframe\">\n",
       "  <thead>\n",
       "    <tr style=\"text-align: right;\">\n",
       "      <th></th>\n",
       "      <th>ums</th>\n",
       "      <th>RF_standard</th>\n",
       "      <th>RF_mixed</th>\n",
       "      <th>RF_transducer</th>\n",
       "    </tr>\n",
       "  </thead>\n",
       "  <tbody>\n",
       "    <tr>\n",
       "      <th>0</th>\n",
       "      <td>[[1, 0], [0, 1]]</td>\n",
       "      <td>0.959309</td>\n",
       "      <td>0.959309</td>\n",
       "      <td>0.960981</td>\n",
       "    </tr>\n",
       "    <tr>\n",
       "      <th>1</th>\n",
       "      <td>[[1, -10], [0, 10]]</td>\n",
       "      <td>0.575878</td>\n",
       "      <td>0.581090</td>\n",
       "      <td>0.582302</td>\n",
       "    </tr>\n",
       "    <tr>\n",
       "      <th>2</th>\n",
       "      <td>[[1, -100], [0, 100]]</td>\n",
       "      <td>0.536183</td>\n",
       "      <td>0.546435</td>\n",
       "      <td>0.547860</td>\n",
       "    </tr>\n",
       "    <tr>\n",
       "      <th>3</th>\n",
       "      <td>[[10, 0], [-10, 1]]</td>\n",
       "      <td>0.931396</td>\n",
       "      <td>0.949275</td>\n",
       "      <td>0.954571</td>\n",
       "    </tr>\n",
       "    <tr>\n",
       "      <th>4</th>\n",
       "      <td>[[100, 0], [-100, 10]]</td>\n",
       "      <td>0.931396</td>\n",
       "      <td>0.949275</td>\n",
       "      <td>0.954571</td>\n",
       "    </tr>\n",
       "  </tbody>\n",
       "</table>\n",
       "</div>"
      ],
      "text/plain": [
       "                      ums  RF_standard  RF_mixed  RF_transducer\n",
       "0        [[1, 0], [0, 1]]     0.959309  0.959309       0.960981\n",
       "1     [[1, -10], [0, 10]]     0.575878  0.581090       0.582302\n",
       "2   [[1, -100], [0, 100]]     0.536183  0.546435       0.547860\n",
       "3     [[10, 0], [-10, 1]]     0.931396  0.949275       0.954571\n",
       "4  [[100, 0], [-100, 10]]     0.931396  0.949275       0.954571"
      ]
     },
     "execution_count": 50,
     "metadata": {},
     "output_type": "execute_result"
    }
   ],
   "source": [
    "df_scores['RF_standard'] = scores1\n",
    "df_scores['RF_mixed'] = scores2\n",
    "df_scores['RF_transducer'] = scores3\n",
    "df_scores"
   ]
  },
  {
   "cell_type": "code",
   "execution_count": 42,
   "id": "4bcd17fb",
   "metadata": {},
   "outputs": [
    {
     "data": {
      "text/html": [
       "<div>\n",
       "<style scoped>\n",
       "    .dataframe tbody tr th:only-of-type {\n",
       "        vertical-align: middle;\n",
       "    }\n",
       "\n",
       "    .dataframe tbody tr th {\n",
       "        vertical-align: top;\n",
       "    }\n",
       "\n",
       "    .dataframe thead th {\n",
       "        text-align: right;\n",
       "    }\n",
       "</style>\n",
       "<table border=\"1\" class=\"dataframe\">\n",
       "  <thead>\n",
       "    <tr style=\"text-align: right;\">\n",
       "      <th></th>\n",
       "      <th>class</th>\n",
       "      <th>pred_0</th>\n",
       "      <th>pred_1</th>\n",
       "      <th>prob_0</th>\n",
       "    </tr>\n",
       "  </thead>\n",
       "  <tbody>\n",
       "    <tr>\n",
       "      <th>0</th>\n",
       "      <td>1</td>\n",
       "      <td>-6.153150</td>\n",
       "      <td>3.528821</td>\n",
       "      <td>0.098276</td>\n",
       "    </tr>\n",
       "    <tr>\n",
       "      <th>1</th>\n",
       "      <td>1</td>\n",
       "      <td>-5.273664</td>\n",
       "      <td>2.086354</td>\n",
       "      <td>0.098389</td>\n",
       "    </tr>\n",
       "    <tr>\n",
       "      <th>2</th>\n",
       "      <td>0</td>\n",
       "      <td>2.347837</td>\n",
       "      <td>-4.105950</td>\n",
       "      <td>0.997626</td>\n",
       "    </tr>\n",
       "    <tr>\n",
       "      <th>3</th>\n",
       "      <td>0</td>\n",
       "      <td>1.108822</td>\n",
       "      <td>-3.426081</td>\n",
       "      <td>0.971378</td>\n",
       "    </tr>\n",
       "    <tr>\n",
       "      <th>4</th>\n",
       "      <td>0</td>\n",
       "      <td>1.048290</td>\n",
       "      <td>-3.270570</td>\n",
       "      <td>0.964264</td>\n",
       "    </tr>\n",
       "  </tbody>\n",
       "</table>\n",
       "</div>"
      ],
      "text/plain": [
       "   class    pred_0    pred_1    prob_0\n",
       "0      1 -6.153150  3.528821  0.098276\n",
       "1      1 -5.273664  2.086354  0.098389\n",
       "2      0  2.347837 -4.105950  0.997626\n",
       "3      0  1.108822 -3.426081  0.971378\n",
       "4      0  1.048290 -3.270570  0.964264"
      ]
     },
     "execution_count": 42,
     "metadata": {},
     "output_type": "execute_result"
    }
   ],
   "source": [
    "df_test2_CNN = pd.read_csv(DATA/'CNN_bayesian_prob_test2_demonstration.csv')\n",
    "df_test2_CNN.head()"
   ]
  },
  {
   "cell_type": "code",
   "execution_count": 43,
   "id": "0a06e8bc",
   "metadata": {},
   "outputs": [
    {
     "name": "stdout",
     "output_type": "stream",
     "text": [
      "<class 'pandas.core.frame.DataFrame'>\n",
      "RangeIndex: 3588 entries, 0 to 3587\n",
      "Data columns (total 4 columns):\n",
      " #   Column  Non-Null Count  Dtype  \n",
      "---  ------  --------------  -----  \n",
      " 0   class   3588 non-null   int64  \n",
      " 1   pred_0  3588 non-null   float64\n",
      " 2   pred_1  3588 non-null   float64\n",
      " 3   prob_0  3588 non-null   float64\n",
      "dtypes: float64(3), int64(1)\n",
      "memory usage: 112.2 KB\n"
     ]
    }
   ],
   "source": [
    "df_test2_CNN.info()"
   ]
  },
  {
   "cell_type": "code",
   "execution_count": 45,
   "id": "f3af0da7",
   "metadata": {},
   "outputs": [
    {
     "name": "stdout",
     "output_type": "stream",
     "text": [
      "**Output for the standard predictions from algorithm**\n",
      "Utility Matrix: [[1, 0], [0, 1]]\n",
      "Total gains for the Utility Matrix: 0.9593088071348941\n",
      "Confusion matrix:\n"
     ]
    },
    {
     "data": {
      "image/png": "[encoded data removed]",
      "text/plain": [
       "<Figure size 432x288 with 2 Axes>"
      ]
     },
     "metadata": {
      "needs_background": "light"
     },
     "output_type": "display_data"
    },
    {
     "name": "stdout",
     "output_type": "stream",
     "text": [
      "**Output for the standard predictions from algorithm with expected utility**\n",
      "Utility Matrix: [[1, 0], [0, 1]]\n",
      "Total gains for the Utility Matrix: 0.9593088071348941\n",
      "Confusion matrix:\n"
     ]
    },
    {
     "data": {
      "image/png": "[encoded data removed]",
      "text/plain": [
       "<Figure size 432x288 with 2 Axes>"
      ]
     },
     "metadata": {
      "needs_background": "light"
     },
     "output_type": "display_data"
    },
    {
     "name": "stdout",
     "output_type": "stream",
     "text": [
      "**Output for the bayesian calculations with expected utility**\n",
      "Utility Matrix: [[1, 0], [0, 1]]\n",
      "Total gains: 0.9609810479375697\n",
      "Confusion matrix:\n"
     ]
    },
    {
     "data": {
      "image/png": "[encoded data removed]",
      "text/plain": [
       "<Figure size 432x288 with 2 Axes>"
      ]
     },
     "metadata": {
      "needs_background": "light"
     },
     "output_type": "display_data"
    },
    {
     "name": "stdout",
     "output_type": "stream",
     "text": [
      "**Output for the standard predictions from algorithm**\n",
      "Utility Matrix: [[1, -10], [0, 10]]\n",
      "Total gains for the Utility Matrix: 0.5758779264214047\n",
      "Confusion matrix:\n"
     ]
    },
    {
     "data": {
      "image/png": "[encoded data removed]",
      "text/plain": [
       "<Figure size 432x288 with 2 Axes>"
      ]
     },
     "metadata": {
      "needs_background": "light"
     },
     "output_type": "display_data"
    },
    {
     "name": "stdout",
     "output_type": "stream",
     "text": [
      "**Output for the standard predictions from algorithm with expected utility**\n",
      "Utility Matrix: [[1, -10], [0, 10]]\n",
      "Total gains for the Utility Matrix: 0.5810897435897435\n",
      "Confusion matrix:\n"
     ]
    },
    {
     "data": {
      "image/png": "[encoded data removed]",
      "text/plain": [
       "<Figure size 432x288 with 2 Axes>"
      ]
     },
     "metadata": {
      "needs_background": "light"
     },
     "output_type": "display_data"
    },
    {
     "name": "stdout",
     "output_type": "stream",
     "text": [
      "**Output for the bayesian calculations with expected utility**\n",
      "Utility Matrix: [[1, -10], [0, 10]]\n",
      "Total gains: 0.5823021181716834\n",
      "Confusion matrix:\n"
     ]
    },
    {
     "data": {
      "image/png": "[encoded data removed]",
      "text/plain": [
       "<Figure size 432x288 with 2 Axes>"
      ]
     },
     "metadata": {
      "needs_background": "light"
     },
     "output_type": "display_data"
    },
    {
     "name": "stdout",
     "output_type": "stream",
     "text": [
      "**Output for the standard predictions from algorithm**\n",
      "Utility Matrix: [[1, -100], [0, 100]]\n",
      "Total gains for the Utility Matrix: 0.536183110367893\n",
      "Confusion matrix:\n"
     ]
    },
    {
     "data": {
      "image/png": "[encoded data removed]",
      "text/plain": [
       "<Figure size 432x288 with 2 Axes>"
      ]
     },
     "metadata": {
      "needs_background": "light"
     },
     "output_type": "display_data"
    },
    {
     "name": "stdout",
     "output_type": "stream",
     "text": [
      "**Output for the standard predictions from algorithm with expected utility**\n",
      "Utility Matrix: [[1, -100], [0, 100]]\n",
      "Total gains for the Utility Matrix: 0.5464353400222965\n",
      "Confusion matrix:\n"
     ]
    },
    {
     "data": {
      "image/png": "[encoded data removed]",
      "text/plain": [
       "<Figure size 432x288 with 2 Axes>"
      ]
     },
     "metadata": {
      "needs_background": "light"
     },
     "output_type": "display_data"
    },
    {
     "name": "stdout",
     "output_type": "stream",
     "text": [
      "**Output for the bayesian calculations with expected utility**\n",
      "Utility Matrix: [[1, -100], [0, 100]]\n",
      "Total gains: 0.5478595317725753\n",
      "Confusion matrix:\n"
     ]
    },
    {
     "data": {
      "image/png": "[encoded data removed]",
      "text/plain": [
       "<Figure size 432x288 with 2 Axes>"
      ]
     },
     "metadata": {
      "needs_background": "light"
     },
     "output_type": "display_data"
    },
    {
     "name": "stdout",
     "output_type": "stream",
     "text": [
      "**Output for the standard predictions from algorithm**\n",
      "Utility Matrix: [[10, 0], [-10, 1]]\n",
      "Total gains for the Utility Matrix: 0.9313963210702341\n",
      "Confusion matrix:\n"
     ]
    },
    {
     "data": {
      "image/png": "[encoded data removed]",
      "text/plain": [
       "<Figure size 432x288 with 2 Axes>"
      ]
     },
     "metadata": {
      "needs_background": "light"
     },
     "output_type": "display_data"
    },
    {
     "name": "stdout",
     "output_type": "stream",
     "text": [
      "**Output for the standard predictions from algorithm with expected utility**\n",
      "Utility Matrix: [[10, 0], [-10, 1]]\n",
      "Total gains for the Utility Matrix: 0.9492753623188406\n",
      "Confusion matrix:\n"
     ]
    },
    {
     "data": {
      "image/png": "[encoded data removed]",
      "text/plain": [
       "<Figure size 432x288 with 2 Axes>"
      ]
     },
     "metadata": {
      "needs_background": "light"
     },
     "output_type": "display_data"
    },
    {
     "name": "stdout",
     "output_type": "stream",
     "text": [
      "**Output for the bayesian calculations with expected utility**\n",
      "Utility Matrix: [[10, 0], [-10, 1]]\n",
      "Total gains: 0.9545707915273133\n",
      "Confusion matrix:\n"
     ]
    },
    {
     "data": {
      "image/png": "[encoded data removed]",
      "text/plain": [
       "<Figure size 432x288 with 2 Axes>"
      ]
     },
     "metadata": {
      "needs_background": "light"
     },
     "output_type": "display_data"
    },
    {
     "name": "stdout",
     "output_type": "stream",
     "text": [
      "**Output for the standard predictions from algorithm**\n",
      "Utility Matrix: [[100, 0], [-100, 10]]\n",
      "Total gains for the Utility Matrix: 0.9313963210702341\n",
      "Confusion matrix:\n"
     ]
    },
    {
     "data": {
      "image/png": "[encoded data removed]",
      "text/plain": [
       "<Figure size 432x288 with 2 Axes>"
      ]
     },
     "metadata": {
      "needs_background": "light"
     },
     "output_type": "display_data"
    },
    {
     "name": "stdout",
     "output_type": "stream",
     "text": [
      "**Output for the standard predictions from algorithm with expected utility**\n",
      "Utility Matrix: [[100, 0], [-100, 10]]\n",
      "Total gains for the Utility Matrix: 0.9492753623188406\n",
      "Confusion matrix:\n"
     ]
    },
    {
     "data": {
      "image/png": "[encoded data removed]",
      "text/plain": [
       "<Figure size 432x288 with 2 Axes>"
      ]
     },
     "metadata": {
      "needs_background": "light"
     },
     "output_type": "display_data"
    },
    {
     "name": "stdout",
     "output_type": "stream",
     "text": [
      "**Output for the bayesian calculations with expected utility**\n",
      "Utility Matrix: [[100, 0], [-100, 10]]\n",
      "Total gains: 0.9545707915273133\n",
      "Confusion matrix:\n"
     ]
    },
    {
     "data": {
      "image/png": "[encoded data removed]",
      "text/plain": [
       "<Figure size 432x288 with 2 Axes>"
      ]
     },
     "metadata": {
      "needs_background": "light"
     },
     "output_type": "display_data"
    },
    {
     "data": {
      "text/plain": [
       "[0.9609810479375697,\n",
       " 0.5823021181716834,\n",
       " 0.5478595317725753,\n",
       " 0.9545707915273133,\n",
       " 0.9545707915273133]"
      ]
     },
     "execution_count": 45,
     "metadata": {},
     "output_type": "execute_result"
    }
   ],
   "source": [
    "scores1 = []\n",
    "scores2 = []\n",
    "scores3 = []\n",
    "for i, r in df_scores.iterrows():\n",
    "    s1, s2, s3 = get_utility_scores(df_test2_CNN, r['ums'], verbose=True)\n",
    "    scores1.append(s1)\n",
    "    scores2.append(s2)\n",
    "    scores3.append(s3)\n",
    "scores3"
   ]
  },
  {
   "cell_type": "code",
   "execution_count": 51,
   "id": "6e54ab45",
   "metadata": {},
   "outputs": [
    {
     "data": {
      "text/html": [
       "<div>\n",
       "<style scoped>\n",
       "    .dataframe tbody tr th:only-of-type {\n",
       "        vertical-align: middle;\n",
       "    }\n",
       "\n",
       "    .dataframe tbody tr th {\n",
       "        vertical-align: top;\n",
       "    }\n",
       "\n",
       "    .dataframe thead th {\n",
       "        text-align: right;\n",
       "    }\n",
       "</style>\n",
       "<table border=\"1\" class=\"dataframe\">\n",
       "  <thead>\n",
       "    <tr style=\"text-align: right;\">\n",
       "      <th></th>\n",
       "      <th>ums</th>\n",
       "      <th>RF_standard</th>\n",
       "      <th>RF_mixed</th>\n",
       "      <th>RF_transducer</th>\n",
       "      <th>CNN_standard</th>\n",
       "      <th>CNN_mixed</th>\n",
       "      <th>CNN_transducer</th>\n",
       "    </tr>\n",
       "  </thead>\n",
       "  <tbody>\n",
       "    <tr>\n",
       "      <th>0</th>\n",
       "      <td>[[1, 0], [0, 1]]</td>\n",
       "      <td>0.959309</td>\n",
       "      <td>0.959309</td>\n",
       "      <td>0.960981</td>\n",
       "      <td>0.959309</td>\n",
       "      <td>0.959309</td>\n",
       "      <td>0.960981</td>\n",
       "    </tr>\n",
       "    <tr>\n",
       "      <th>1</th>\n",
       "      <td>[[1, -10], [0, 10]]</td>\n",
       "      <td>0.575878</td>\n",
       "      <td>0.581090</td>\n",
       "      <td>0.582302</td>\n",
       "      <td>0.575878</td>\n",
       "      <td>0.581090</td>\n",
       "      <td>0.582302</td>\n",
       "    </tr>\n",
       "    <tr>\n",
       "      <th>2</th>\n",
       "      <td>[[1, -100], [0, 100]]</td>\n",
       "      <td>0.536183</td>\n",
       "      <td>0.546435</td>\n",
       "      <td>0.547860</td>\n",
       "      <td>0.536183</td>\n",
       "      <td>0.546435</td>\n",
       "      <td>0.547860</td>\n",
       "    </tr>\n",
       "    <tr>\n",
       "      <th>3</th>\n",
       "      <td>[[10, 0], [-10, 1]]</td>\n",
       "      <td>0.931396</td>\n",
       "      <td>0.949275</td>\n",
       "      <td>0.954571</td>\n",
       "      <td>0.931396</td>\n",
       "      <td>0.949275</td>\n",
       "      <td>0.954571</td>\n",
       "    </tr>\n",
       "    <tr>\n",
       "      <th>4</th>\n",
       "      <td>[[100, 0], [-100, 10]]</td>\n",
       "      <td>0.931396</td>\n",
       "      <td>0.949275</td>\n",
       "      <td>0.954571</td>\n",
       "      <td>0.931396</td>\n",
       "      <td>0.949275</td>\n",
       "      <td>0.954571</td>\n",
       "    </tr>\n",
       "  </tbody>\n",
       "</table>\n",
       "</div>"
      ],
      "text/plain": [
       "                      ums  RF_standard  RF_mixed  RF_transducer  CNN_standard  \\\n",
       "0        [[1, 0], [0, 1]]     0.959309  0.959309       0.960981      0.959309   \n",
       "1     [[1, -10], [0, 10]]     0.575878  0.581090       0.582302      0.575878   \n",
       "2   [[1, -100], [0, 100]]     0.536183  0.546435       0.547860      0.536183   \n",
       "3     [[10, 0], [-10, 1]]     0.931396  0.949275       0.954571      0.931396   \n",
       "4  [[100, 0], [-100, 10]]     0.931396  0.949275       0.954571      0.931396   \n",
       "\n",
       "   CNN_mixed  CNN_transducer  \n",
       "0   0.959309        0.960981  \n",
       "1   0.581090        0.582302  \n",
       "2   0.546435        0.547860  \n",
       "3   0.949275        0.954571  \n",
       "4   0.949275        0.954571  "
      ]
     },
     "execution_count": 51,
     "metadata": {},
     "output_type": "execute_result"
    }
   ],
   "source": [
    "df_scores['CNN_standard'] = scores1\n",
    "df_scores['CNN_mixed'] = scores2\n",
    "df_scores['CNN_transducer'] = scores3\n",
    "df_scores"
   ]
  },
  {
   "cell_type": "markdown",
   "id": "a6c78db8",
   "metadata": {},
   "source": [
    "### Add Cost-sensitive model"
   ]
  },
  {
   "cell_type": "code",
   "execution_count": 28,
   "id": "3949e3b0",
   "metadata": {},
   "outputs": [],
   "source": [
    "df_test2_CS = pd.read_csv(DATA/'CNN_CS_loss_test2.csv')"
   ]
  },
  {
   "cell_type": "code",
   "execution_count": 29,
   "id": "f578531b",
   "metadata": {},
   "outputs": [
    {
     "data": {
      "text/html": [
       "<div>\n",
       "<style scoped>\n",
       "    .dataframe tbody tr th:only-of-type {\n",
       "        vertical-align: middle;\n",
       "    }\n",
       "\n",
       "    .dataframe tbody tr th {\n",
       "        vertical-align: top;\n",
       "    }\n",
       "\n",
       "    .dataframe thead th {\n",
       "        text-align: right;\n",
       "    }\n",
       "</style>\n",
       "<table border=\"1\" class=\"dataframe\">\n",
       "  <thead>\n",
       "    <tr style=\"text-align: right;\">\n",
       "      <th></th>\n",
       "      <th>class</th>\n",
       "      <th>pred_um1</th>\n",
       "      <th>pred_um2</th>\n",
       "      <th>pred_um3</th>\n",
       "      <th>pred_um4</th>\n",
       "      <th>pred_um5</th>\n",
       "      <th>pred_um6</th>\n",
       "      <th>pred_um7</th>\n",
       "      <th>pred_um8</th>\n",
       "      <th>pred_um9</th>\n",
       "      <th>pred_um10</th>\n",
       "      <th>pred_um11</th>\n",
       "      <th>pred_um12</th>\n",
       "      <th>pred_um13</th>\n",
       "      <th>pred_um14</th>\n",
       "      <th>pred_um15</th>\n",
       "    </tr>\n",
       "  </thead>\n",
       "  <tbody>\n",
       "    <tr>\n",
       "      <th>0</th>\n",
       "      <td>0</td>\n",
       "      <td>[0.97661906 0.0111127 ]</td>\n",
       "      <td>[0.94917387 0.04463243]</td>\n",
       "      <td>[0.7171942  0.31330645]</td>\n",
       "      <td>[0.9843002  0.00847411]</td>\n",
       "      <td>[0.9145431 0.0901518]</td>\n",
       "      <td>[0.78320813 0.17060214]</td>\n",
       "      <td>[0.98369575 0.0468426 ]</td>\n",
       "      <td>[0.99487054 0.02101552]</td>\n",
       "      <td>[0.9941069  0.01856612]</td>\n",
       "      <td>[0.9444596 0.0648237]</td>\n",
       "      <td>[0.95143163 0.02702073]</td>\n",
       "      <td>[0.94760525 0.1339803 ]</td>\n",
       "      <td>[0.92992324 0.1718466 ]</td>\n",
       "      <td>[0.9855479  0.01165897]</td>\n",
       "      <td>[0.7466417  0.15343355]</td>\n",
       "    </tr>\n",
       "    <tr>\n",
       "      <th>1</th>\n",
       "      <td>0</td>\n",
       "      <td>[0.9981341  0.00117332]</td>\n",
       "      <td>[0.9861733  0.01402404]</td>\n",
       "      <td>[0.9928934  0.00393965]</td>\n",
       "      <td>[0.9776924  0.01049647]</td>\n",
       "      <td>[0.9865953  0.01231423]</td>\n",
       "      <td>[0.9930335  0.01160094]</td>\n",
       "      <td>[0.9935597  0.00672642]</td>\n",
       "      <td>[0.9973001  0.01140507]</td>\n",
       "      <td>[0.997145   0.00653503]</td>\n",
       "      <td>[0.99035794 0.01116317]</td>\n",
       "      <td>[0.99027514 0.0078122 ]</td>\n",
       "      <td>[0.97382396 0.04402433]</td>\n",
       "      <td>[0.9929431  0.02474658]</td>\n",
       "      <td>[9.990683e-01 9.792164e-04]</td>\n",
       "      <td>[0.98346    0.01062883]</td>\n",
       "    </tr>\n",
       "    <tr>\n",
       "      <th>2</th>\n",
       "      <td>0</td>\n",
       "      <td>[9.9975938e-01 1.7769024e-04]</td>\n",
       "      <td>[0.998412   0.00116792]</td>\n",
       "      <td>[9.9967206e-01 4.5852657e-04]</td>\n",
       "      <td>[9.994134e-01 7.175277e-04]</td>\n",
       "      <td>[0.99469155 0.00347157]</td>\n",
       "      <td>[0.99133015 0.00953034]</td>\n",
       "      <td>[9.9978060e-01 1.5728366e-04]</td>\n",
       "      <td>[0.99856263 0.00687149]</td>\n",
       "      <td>[0.9998858  0.00142944]</td>\n",
       "      <td>[0.99764377 0.0043822 ]</td>\n",
       "      <td>[0.9969919  0.00161885]</td>\n",
       "      <td>[0.99432725 0.00804781]</td>\n",
       "      <td>[0.9976272  0.00381821]</td>\n",
       "      <td>[9.9969804e-01 1.4555233e-04]</td>\n",
       "      <td>[0.9938937  0.00428178]</td>\n",
       "    </tr>\n",
       "    <tr>\n",
       "      <th>3</th>\n",
       "      <td>0</td>\n",
       "      <td>[9.990115e-01 7.346845e-04]</td>\n",
       "      <td>[9.993293e-01 7.536346e-04]</td>\n",
       "      <td>[0.9968088  0.00255448]</td>\n",
       "      <td>[0.9846784  0.00673459]</td>\n",
       "      <td>[0.99429    0.00582641]</td>\n",
       "      <td>[0.9956031  0.00629928]</td>\n",
       "      <td>[0.99919957 0.00122478]</td>\n",
       "      <td>[0.9973502  0.00827719]</td>\n",
       "      <td>[0.99935836 0.00247604]</td>\n",
       "      <td>[0.9933488  0.01155344]</td>\n",
       "      <td>[0.9916889  0.01182056]</td>\n",
       "      <td>[0.99294853 0.02502685]</td>\n",
       "      <td>[0.995565   0.00845183]</td>\n",
       "      <td>[0.99611914 0.00363934]</td>\n",
       "      <td>[0.99563736 0.00285478]</td>\n",
       "    </tr>\n",
       "    <tr>\n",
       "      <th>4</th>\n",
       "      <td>1</td>\n",
       "      <td>[0.02032536 0.9665286 ]</td>\n",
       "      <td>[0.03184715 0.95556325]</td>\n",
       "      <td>[0.00420866 0.9967181 ]</td>\n",
       "      <td>[0.04752765 0.9571476 ]</td>\n",
       "      <td>[0.07324732 0.8965421 ]</td>\n",
       "      <td>[0.03229338 0.9715555 ]</td>\n",
       "      <td>[0.0527445  0.94935584]</td>\n",
       "      <td>[0.08429085 0.97633684]</td>\n",
       "      <td>[0.07859739 0.9544279 ]</td>\n",
       "      <td>[0.01222073 0.98635966]</td>\n",
       "      <td>[0.03319311 0.90294194]</td>\n",
       "      <td>[0.15405147 0.90844566]</td>\n",
       "      <td>[0.01711109 0.988811  ]</td>\n",
       "      <td>[0.11780601 0.88821244]</td>\n",
       "      <td>[0.03007631 0.90666366]</td>\n",
       "    </tr>\n",
       "  </tbody>\n",
       "</table>\n",
       "</div>"
      ],
      "text/plain": [
       "   class                       pred_um1                     pred_um2  \\\n",
       "0      0        [0.97661906 0.0111127 ]      [0.94917387 0.04463243]   \n",
       "1      0        [0.9981341  0.00117332]      [0.9861733  0.01402404]   \n",
       "2      0  [9.9975938e-01 1.7769024e-04]      [0.998412   0.00116792]   \n",
       "3      0    [9.990115e-01 7.346845e-04]  [9.993293e-01 7.536346e-04]   \n",
       "4      1        [0.02032536 0.9665286 ]      [0.03184715 0.95556325]   \n",
       "\n",
       "                        pred_um3                     pred_um4  \\\n",
       "0        [0.7171942  0.31330645]      [0.9843002  0.00847411]   \n",
       "1        [0.9928934  0.00393965]      [0.9776924  0.01049647]   \n",
       "2  [9.9967206e-01 4.5852657e-04]  [9.994134e-01 7.175277e-04]   \n",
       "3        [0.9968088  0.00255448]      [0.9846784  0.00673459]   \n",
       "4        [0.00420866 0.9967181 ]      [0.04752765 0.9571476 ]   \n",
       "\n",
       "                  pred_um5                 pred_um6  \\\n",
       "0    [0.9145431 0.0901518]  [0.78320813 0.17060214]   \n",
       "1  [0.9865953  0.01231423]  [0.9930335  0.01160094]   \n",
       "2  [0.99469155 0.00347157]  [0.99133015 0.00953034]   \n",
       "3  [0.99429    0.00582641]  [0.9956031  0.00629928]   \n",
       "4  [0.07324732 0.8965421 ]  [0.03229338 0.9715555 ]   \n",
       "\n",
       "                        pred_um7                 pred_um8  \\\n",
       "0        [0.98369575 0.0468426 ]  [0.99487054 0.02101552]   \n",
       "1        [0.9935597  0.00672642]  [0.9973001  0.01140507]   \n",
       "2  [9.9978060e-01 1.5728366e-04]  [0.99856263 0.00687149]   \n",
       "3        [0.99919957 0.00122478]  [0.9973502  0.00827719]   \n",
       "4        [0.0527445  0.94935584]  [0.08429085 0.97633684]   \n",
       "\n",
       "                  pred_um9                pred_um10                pred_um11  \\\n",
       "0  [0.9941069  0.01856612]    [0.9444596 0.0648237]  [0.95143163 0.02702073]   \n",
       "1  [0.997145   0.00653503]  [0.99035794 0.01116317]  [0.99027514 0.0078122 ]   \n",
       "2  [0.9998858  0.00142944]  [0.99764377 0.0043822 ]  [0.9969919  0.00161885]   \n",
       "3  [0.99935836 0.00247604]  [0.9933488  0.01155344]  [0.9916889  0.01182056]   \n",
       "4  [0.07859739 0.9544279 ]  [0.01222073 0.98635966]  [0.03319311 0.90294194]   \n",
       "\n",
       "                 pred_um12                pred_um13  \\\n",
       "0  [0.94760525 0.1339803 ]  [0.92992324 0.1718466 ]   \n",
       "1  [0.97382396 0.04402433]  [0.9929431  0.02474658]   \n",
       "2  [0.99432725 0.00804781]  [0.9976272  0.00381821]   \n",
       "3  [0.99294853 0.02502685]  [0.995565   0.00845183]   \n",
       "4  [0.15405147 0.90844566]  [0.01711109 0.988811  ]   \n",
       "\n",
       "                       pred_um14                pred_um15  \n",
       "0        [0.9855479  0.01165897]  [0.7466417  0.15343355]  \n",
       "1    [9.990683e-01 9.792164e-04]  [0.98346    0.01062883]  \n",
       "2  [9.9969804e-01 1.4555233e-04]  [0.9938937  0.00428178]  \n",
       "3        [0.99611914 0.00363934]  [0.99563736 0.00285478]  \n",
       "4        [0.11780601 0.88821244]  [0.03007631 0.90666366]  "
      ]
     },
     "execution_count": 29,
     "metadata": {},
     "output_type": "execute_result"
    }
   ],
   "source": [
    "df_test2_CS.head()"
   ]
  },
  {
   "cell_type": "code",
   "execution_count": 30,
   "id": "afbecb47",
   "metadata": {},
   "outputs": [],
   "source": [
    "for col in df_test2_CS.columns[1:]:\n",
    "    df_test2_CS[col] = [get_substring_list(r[col].split(' '))  for i, r in df_test2_CS.iterrows()]"
   ]
  },
  {
   "cell_type": "code",
   "execution_count": 31,
   "id": "b3600c58",
   "metadata": {},
   "outputs": [
    {
     "data": {
      "text/html": [
       "<div>\n",
       "<style scoped>\n",
       "    .dataframe tbody tr th:only-of-type {\n",
       "        vertical-align: middle;\n",
       "    }\n",
       "\n",
       "    .dataframe tbody tr th {\n",
       "        vertical-align: top;\n",
       "    }\n",
       "\n",
       "    .dataframe thead th {\n",
       "        text-align: right;\n",
       "    }\n",
       "</style>\n",
       "<table border=\"1\" class=\"dataframe\">\n",
       "  <thead>\n",
       "    <tr style=\"text-align: right;\">\n",
       "      <th></th>\n",
       "      <th>class</th>\n",
       "      <th>pred_um1</th>\n",
       "      <th>pred_um2</th>\n",
       "      <th>pred_um3</th>\n",
       "      <th>pred_um4</th>\n",
       "      <th>pred_um5</th>\n",
       "      <th>pred_um6</th>\n",
       "      <th>pred_um7</th>\n",
       "      <th>pred_um8</th>\n",
       "      <th>pred_um9</th>\n",
       "      <th>pred_um10</th>\n",
       "      <th>pred_um11</th>\n",
       "      <th>pred_um12</th>\n",
       "      <th>pred_um13</th>\n",
       "      <th>pred_um14</th>\n",
       "      <th>pred_um15</th>\n",
       "    </tr>\n",
       "  </thead>\n",
       "  <tbody>\n",
       "    <tr>\n",
       "      <th>0</th>\n",
       "      <td>0</td>\n",
       "      <td>[0.97661906, 0.0111127]</td>\n",
       "      <td>[0.94917387, 0.04463243]</td>\n",
       "      <td>[0.7171942, 0.31330645]</td>\n",
       "      <td>[0.9843002, 0.00847411]</td>\n",
       "      <td>[0.9145431, 0.0901518]</td>\n",
       "      <td>[0.78320813, 0.17060214]</td>\n",
       "      <td>[0.98369575, 0.0468426]</td>\n",
       "      <td>[0.99487054, 0.02101552]</td>\n",
       "      <td>[0.9941069, 0.01856612]</td>\n",
       "      <td>[0.9444596, 0.0648237]</td>\n",
       "      <td>[0.95143163, 0.02702073]</td>\n",
       "      <td>[0.94760525, 0.1339803]</td>\n",
       "      <td>[0.92992324, 0.1718466]</td>\n",
       "      <td>[0.9855479, 0.01165897]</td>\n",
       "      <td>[0.7466417, 0.15343355]</td>\n",
       "    </tr>\n",
       "    <tr>\n",
       "      <th>1</th>\n",
       "      <td>0</td>\n",
       "      <td>[0.9981341, 0.00117332]</td>\n",
       "      <td>[0.9861733, 0.01402404]</td>\n",
       "      <td>[0.9928934, 0.00393965]</td>\n",
       "      <td>[0.9776924, 0.01049647]</td>\n",
       "      <td>[0.9865953, 0.01231423]</td>\n",
       "      <td>[0.9930335, 0.01160094]</td>\n",
       "      <td>[0.9935597, 0.00672642]</td>\n",
       "      <td>[0.9973001, 0.01140507]</td>\n",
       "      <td>[0.997145, 0.00653503]</td>\n",
       "      <td>[0.99035794, 0.01116317]</td>\n",
       "      <td>[0.99027514, 0.0078122]</td>\n",
       "      <td>[0.97382396, 0.04402433]</td>\n",
       "      <td>[0.9929431, 0.02474658]</td>\n",
       "      <td>[0.9990683, 0.0009792164]</td>\n",
       "      <td>[0.98346, 0.01062883]</td>\n",
       "    </tr>\n",
       "    <tr>\n",
       "      <th>2</th>\n",
       "      <td>0</td>\n",
       "      <td>[0.99975938, 0.00017769024]</td>\n",
       "      <td>[0.998412, 0.00116792]</td>\n",
       "      <td>[0.99967206, 0.00045852657]</td>\n",
       "      <td>[0.9994134, 0.0007175277]</td>\n",
       "      <td>[0.99469155, 0.00347157]</td>\n",
       "      <td>[0.99133015, 0.00953034]</td>\n",
       "      <td>[0.9997806, 0.00015728366]</td>\n",
       "      <td>[0.99856263, 0.00687149]</td>\n",
       "      <td>[0.9998858, 0.00142944]</td>\n",
       "      <td>[0.99764377, 0.0043822]</td>\n",
       "      <td>[0.9969919, 0.00161885]</td>\n",
       "      <td>[0.99432725, 0.00804781]</td>\n",
       "      <td>[0.9976272, 0.00381821]</td>\n",
       "      <td>[0.99969804, 0.00014555233]</td>\n",
       "      <td>[0.9938937, 0.00428178]</td>\n",
       "    </tr>\n",
       "    <tr>\n",
       "      <th>3</th>\n",
       "      <td>0</td>\n",
       "      <td>[0.9990115, 0.0007346845]</td>\n",
       "      <td>[0.9993293, 0.0007536346]</td>\n",
       "      <td>[0.9968088, 0.00255448]</td>\n",
       "      <td>[0.9846784, 0.00673459]</td>\n",
       "      <td>[0.99429, 0.00582641]</td>\n",
       "      <td>[0.9956031, 0.00629928]</td>\n",
       "      <td>[0.99919957, 0.00122478]</td>\n",
       "      <td>[0.9973502, 0.00827719]</td>\n",
       "      <td>[0.99935836, 0.00247604]</td>\n",
       "      <td>[0.9933488, 0.01155344]</td>\n",
       "      <td>[0.9916889, 0.01182056]</td>\n",
       "      <td>[0.99294853, 0.02502685]</td>\n",
       "      <td>[0.995565, 0.00845183]</td>\n",
       "      <td>[0.99611914, 0.00363934]</td>\n",
       "      <td>[0.99563736, 0.00285478]</td>\n",
       "    </tr>\n",
       "    <tr>\n",
       "      <th>4</th>\n",
       "      <td>1</td>\n",
       "      <td>[0.02032536, 0.9665286]</td>\n",
       "      <td>[0.03184715, 0.95556325]</td>\n",
       "      <td>[0.00420866, 0.9967181]</td>\n",
       "      <td>[0.04752765, 0.9571476]</td>\n",
       "      <td>[0.07324732, 0.8965421]</td>\n",
       "      <td>[0.03229338, 0.9715555]</td>\n",
       "      <td>[0.0527445, 0.94935584]</td>\n",
       "      <td>[0.08429085, 0.97633684]</td>\n",
       "      <td>[0.07859739, 0.9544279]</td>\n",
       "      <td>[0.01222073, 0.98635966]</td>\n",
       "      <td>[0.03319311, 0.90294194]</td>\n",
       "      <td>[0.15405147, 0.90844566]</td>\n",
       "      <td>[0.01711109, 0.988811]</td>\n",
       "      <td>[0.11780601, 0.88821244]</td>\n",
       "      <td>[0.03007631, 0.90666366]</td>\n",
       "    </tr>\n",
       "  </tbody>\n",
       "</table>\n",
       "</div>"
      ],
      "text/plain": [
       "   class                     pred_um1                   pred_um2  \\\n",
       "0      0      [0.97661906, 0.0111127]   [0.94917387, 0.04463243]   \n",
       "1      0      [0.9981341, 0.00117332]    [0.9861733, 0.01402404]   \n",
       "2      0  [0.99975938, 0.00017769024]     [0.998412, 0.00116792]   \n",
       "3      0    [0.9990115, 0.0007346845]  [0.9993293, 0.0007536346]   \n",
       "4      1      [0.02032536, 0.9665286]   [0.03184715, 0.95556325]   \n",
       "\n",
       "                      pred_um3                   pred_um4  \\\n",
       "0      [0.7171942, 0.31330645]    [0.9843002, 0.00847411]   \n",
       "1      [0.9928934, 0.00393965]    [0.9776924, 0.01049647]   \n",
       "2  [0.99967206, 0.00045852657]  [0.9994134, 0.0007175277]   \n",
       "3      [0.9968088, 0.00255448]    [0.9846784, 0.00673459]   \n",
       "4      [0.00420866, 0.9967181]    [0.04752765, 0.9571476]   \n",
       "\n",
       "                   pred_um5                  pred_um6  \\\n",
       "0    [0.9145431, 0.0901518]  [0.78320813, 0.17060214]   \n",
       "1   [0.9865953, 0.01231423]   [0.9930335, 0.01160094]   \n",
       "2  [0.99469155, 0.00347157]  [0.99133015, 0.00953034]   \n",
       "3     [0.99429, 0.00582641]   [0.9956031, 0.00629928]   \n",
       "4   [0.07324732, 0.8965421]   [0.03229338, 0.9715555]   \n",
       "\n",
       "                     pred_um7                  pred_um8  \\\n",
       "0     [0.98369575, 0.0468426]  [0.99487054, 0.02101552]   \n",
       "1     [0.9935597, 0.00672642]   [0.9973001, 0.01140507]   \n",
       "2  [0.9997806, 0.00015728366]  [0.99856263, 0.00687149]   \n",
       "3    [0.99919957, 0.00122478]   [0.9973502, 0.00827719]   \n",
       "4     [0.0527445, 0.94935584]  [0.08429085, 0.97633684]   \n",
       "\n",
       "                   pred_um9                 pred_um10  \\\n",
       "0   [0.9941069, 0.01856612]    [0.9444596, 0.0648237]   \n",
       "1    [0.997145, 0.00653503]  [0.99035794, 0.01116317]   \n",
       "2   [0.9998858, 0.00142944]   [0.99764377, 0.0043822]   \n",
       "3  [0.99935836, 0.00247604]   [0.9933488, 0.01155344]   \n",
       "4   [0.07859739, 0.9544279]  [0.01222073, 0.98635966]   \n",
       "\n",
       "                  pred_um11                 pred_um12  \\\n",
       "0  [0.95143163, 0.02702073]   [0.94760525, 0.1339803]   \n",
       "1   [0.99027514, 0.0078122]  [0.97382396, 0.04402433]   \n",
       "2   [0.9969919, 0.00161885]  [0.99432725, 0.00804781]   \n",
       "3   [0.9916889, 0.01182056]  [0.99294853, 0.02502685]   \n",
       "4  [0.03319311, 0.90294194]  [0.15405147, 0.90844566]   \n",
       "\n",
       "                 pred_um13                    pred_um14  \\\n",
       "0  [0.92992324, 0.1718466]      [0.9855479, 0.01165897]   \n",
       "1  [0.9929431, 0.02474658]    [0.9990683, 0.0009792164]   \n",
       "2  [0.9976272, 0.00381821]  [0.99969804, 0.00014555233]   \n",
       "3   [0.995565, 0.00845183]     [0.99611914, 0.00363934]   \n",
       "4   [0.01711109, 0.988811]     [0.11780601, 0.88821244]   \n",
       "\n",
       "                  pred_um15  \n",
       "0   [0.7466417, 0.15343355]  \n",
       "1     [0.98346, 0.01062883]  \n",
       "2   [0.9938937, 0.00428178]  \n",
       "3  [0.99563736, 0.00285478]  \n",
       "4  [0.03007631, 0.90666366]  "
      ]
     },
     "execution_count": 31,
     "metadata": {},
     "output_type": "execute_result"
    }
   ],
   "source": [
    "df_test2_CS.head()"
   ]
  },
  {
   "cell_type": "code",
   "execution_count": 32,
   "id": "309de8a4",
   "metadata": {},
   "outputs": [],
   "source": [
    "for col in df_test2_CS.columns[1:]:\n",
    "    df_test2_CS[f'{col}_0'] = [r[col][0] for i, r in df_test2_CS.iterrows()]\n",
    "    df_test2_CS[f'{col}_1'] = [r[col][1] for i, r in df_test2_CS.iterrows()]"
   ]
  },
  {
   "cell_type": "code",
   "execution_count": 33,
   "id": "ef2409b5",
   "metadata": {
    "scrolled": true
   },
   "outputs": [
    {
     "data": {
      "text/html": [
       "<div>\n",
       "<style scoped>\n",
       "    .dataframe tbody tr th:only-of-type {\n",
       "        vertical-align: middle;\n",
       "    }\n",
       "\n",
       "    .dataframe tbody tr th {\n",
       "        vertical-align: top;\n",
       "    }\n",
       "\n",
       "    .dataframe thead th {\n",
       "        text-align: right;\n",
       "    }\n",
       "</style>\n",
       "<table border=\"1\" class=\"dataframe\">\n",
       "  <thead>\n",
       "    <tr style=\"text-align: right;\">\n",
       "      <th></th>\n",
       "      <th>class</th>\n",
       "      <th>pred_um1</th>\n",
       "      <th>pred_um2</th>\n",
       "      <th>pred_um3</th>\n",
       "      <th>pred_um4</th>\n",
       "      <th>pred_um5</th>\n",
       "      <th>pred_um6</th>\n",
       "      <th>pred_um7</th>\n",
       "      <th>pred_um8</th>\n",
       "      <th>pred_um9</th>\n",
       "      <th>...</th>\n",
       "      <th>pred_um11_0</th>\n",
       "      <th>pred_um11_1</th>\n",
       "      <th>pred_um12_0</th>\n",
       "      <th>pred_um12_1</th>\n",
       "      <th>pred_um13_0</th>\n",
       "      <th>pred_um13_1</th>\n",
       "      <th>pred_um14_0</th>\n",
       "      <th>pred_um14_1</th>\n",
       "      <th>pred_um15_0</th>\n",
       "      <th>pred_um15_1</th>\n",
       "    </tr>\n",
       "  </thead>\n",
       "  <tbody>\n",
       "    <tr>\n",
       "      <th>0</th>\n",
       "      <td>0</td>\n",
       "      <td>[0.97661906, 0.0111127]</td>\n",
       "      <td>[0.94917387, 0.04463243]</td>\n",
       "      <td>[0.7171942, 0.31330645]</td>\n",
       "      <td>[0.9843002, 0.00847411]</td>\n",
       "      <td>[0.9145431, 0.0901518]</td>\n",
       "      <td>[0.78320813, 0.17060214]</td>\n",
       "      <td>[0.98369575, 0.0468426]</td>\n",
       "      <td>[0.99487054, 0.02101552]</td>\n",
       "      <td>[0.9941069, 0.01856612]</td>\n",
       "      <td>...</td>\n",
       "      <td>0.951432</td>\n",
       "      <td>0.027021</td>\n",
       "      <td>0.947605</td>\n",
       "      <td>0.133980</td>\n",
       "      <td>0.929923</td>\n",
       "      <td>0.171847</td>\n",
       "      <td>0.985548</td>\n",
       "      <td>0.011659</td>\n",
       "      <td>0.746642</td>\n",
       "      <td>0.153434</td>\n",
       "    </tr>\n",
       "    <tr>\n",
       "      <th>1</th>\n",
       "      <td>0</td>\n",
       "      <td>[0.9981341, 0.00117332]</td>\n",
       "      <td>[0.9861733, 0.01402404]</td>\n",
       "      <td>[0.9928934, 0.00393965]</td>\n",
       "      <td>[0.9776924, 0.01049647]</td>\n",
       "      <td>[0.9865953, 0.01231423]</td>\n",
       "      <td>[0.9930335, 0.01160094]</td>\n",
       "      <td>[0.9935597, 0.00672642]</td>\n",
       "      <td>[0.9973001, 0.01140507]</td>\n",
       "      <td>[0.997145, 0.00653503]</td>\n",
       "      <td>...</td>\n",
       "      <td>0.990275</td>\n",
       "      <td>0.007812</td>\n",
       "      <td>0.973824</td>\n",
       "      <td>0.044024</td>\n",
       "      <td>0.992943</td>\n",
       "      <td>0.024747</td>\n",
       "      <td>0.999068</td>\n",
       "      <td>0.000979</td>\n",
       "      <td>0.983460</td>\n",
       "      <td>0.010629</td>\n",
       "    </tr>\n",
       "    <tr>\n",
       "      <th>2</th>\n",
       "      <td>0</td>\n",
       "      <td>[0.99975938, 0.00017769024]</td>\n",
       "      <td>[0.998412, 0.00116792]</td>\n",
       "      <td>[0.99967206, 0.00045852657]</td>\n",
       "      <td>[0.9994134, 0.0007175277]</td>\n",
       "      <td>[0.99469155, 0.00347157]</td>\n",
       "      <td>[0.99133015, 0.00953034]</td>\n",
       "      <td>[0.9997806, 0.00015728366]</td>\n",
       "      <td>[0.99856263, 0.00687149]</td>\n",
       "      <td>[0.9998858, 0.00142944]</td>\n",
       "      <td>...</td>\n",
       "      <td>0.996992</td>\n",
       "      <td>0.001619</td>\n",
       "      <td>0.994327</td>\n",
       "      <td>0.008048</td>\n",
       "      <td>0.997627</td>\n",
       "      <td>0.003818</td>\n",
       "      <td>0.999698</td>\n",
       "      <td>0.000146</td>\n",
       "      <td>0.993894</td>\n",
       "      <td>0.004282</td>\n",
       "    </tr>\n",
       "    <tr>\n",
       "      <th>3</th>\n",
       "      <td>0</td>\n",
       "      <td>[0.9990115, 0.0007346845]</td>\n",
       "      <td>[0.9993293, 0.0007536346]</td>\n",
       "      <td>[0.9968088, 0.00255448]</td>\n",
       "      <td>[0.9846784, 0.00673459]</td>\n",
       "      <td>[0.99429, 0.00582641]</td>\n",
       "      <td>[0.9956031, 0.00629928]</td>\n",
       "      <td>[0.99919957, 0.00122478]</td>\n",
       "      <td>[0.9973502, 0.00827719]</td>\n",
       "      <td>[0.99935836, 0.00247604]</td>\n",
       "      <td>...</td>\n",
       "      <td>0.991689</td>\n",
       "      <td>0.011821</td>\n",
       "      <td>0.992949</td>\n",
       "      <td>0.025027</td>\n",
       "      <td>0.995565</td>\n",
       "      <td>0.008452</td>\n",
       "      <td>0.996119</td>\n",
       "      <td>0.003639</td>\n",
       "      <td>0.995637</td>\n",
       "      <td>0.002855</td>\n",
       "    </tr>\n",
       "    <tr>\n",
       "      <th>4</th>\n",
       "      <td>1</td>\n",
       "      <td>[0.02032536, 0.9665286]</td>\n",
       "      <td>[0.03184715, 0.95556325]</td>\n",
       "      <td>[0.00420866, 0.9967181]</td>\n",
       "      <td>[0.04752765, 0.9571476]</td>\n",
       "      <td>[0.07324732, 0.8965421]</td>\n",
       "      <td>[0.03229338, 0.9715555]</td>\n",
       "      <td>[0.0527445, 0.94935584]</td>\n",
       "      <td>[0.08429085, 0.97633684]</td>\n",
       "      <td>[0.07859739, 0.9544279]</td>\n",
       "      <td>...</td>\n",
       "      <td>0.033193</td>\n",
       "      <td>0.902942</td>\n",
       "      <td>0.154051</td>\n",
       "      <td>0.908446</td>\n",
       "      <td>0.017111</td>\n",
       "      <td>0.988811</td>\n",
       "      <td>0.117806</td>\n",
       "      <td>0.888212</td>\n",
       "      <td>0.030076</td>\n",
       "      <td>0.906664</td>\n",
       "    </tr>\n",
       "  </tbody>\n",
       "</table>\n",
       "<p>5 rows × 46 columns</p>\n",
       "</div>"
      ],
      "text/plain": [
       "   class                     pred_um1                   pred_um2  \\\n",
       "0      0      [0.97661906, 0.0111127]   [0.94917387, 0.04463243]   \n",
       "1      0      [0.9981341, 0.00117332]    [0.9861733, 0.01402404]   \n",
       "2      0  [0.99975938, 0.00017769024]     [0.998412, 0.00116792]   \n",
       "3      0    [0.9990115, 0.0007346845]  [0.9993293, 0.0007536346]   \n",
       "4      1      [0.02032536, 0.9665286]   [0.03184715, 0.95556325]   \n",
       "\n",
       "                      pred_um3                   pred_um4  \\\n",
       "0      [0.7171942, 0.31330645]    [0.9843002, 0.00847411]   \n",
       "1      [0.9928934, 0.00393965]    [0.9776924, 0.01049647]   \n",
       "2  [0.99967206, 0.00045852657]  [0.9994134, 0.0007175277]   \n",
       "3      [0.9968088, 0.00255448]    [0.9846784, 0.00673459]   \n",
       "4      [0.00420866, 0.9967181]    [0.04752765, 0.9571476]   \n",
       "\n",
       "                   pred_um5                  pred_um6  \\\n",
       "0    [0.9145431, 0.0901518]  [0.78320813, 0.17060214]   \n",
       "1   [0.9865953, 0.01231423]   [0.9930335, 0.01160094]   \n",
       "2  [0.99469155, 0.00347157]  [0.99133015, 0.00953034]   \n",
       "3     [0.99429, 0.00582641]   [0.9956031, 0.00629928]   \n",
       "4   [0.07324732, 0.8965421]   [0.03229338, 0.9715555]   \n",
       "\n",
       "                     pred_um7                  pred_um8  \\\n",
       "0     [0.98369575, 0.0468426]  [0.99487054, 0.02101552]   \n",
       "1     [0.9935597, 0.00672642]   [0.9973001, 0.01140507]   \n",
       "2  [0.9997806, 0.00015728366]  [0.99856263, 0.00687149]   \n",
       "3    [0.99919957, 0.00122478]   [0.9973502, 0.00827719]   \n",
       "4     [0.0527445, 0.94935584]  [0.08429085, 0.97633684]   \n",
       "\n",
       "                   pred_um9  ... pred_um11_0 pred_um11_1 pred_um12_0  \\\n",
       "0   [0.9941069, 0.01856612]  ...    0.951432    0.027021    0.947605   \n",
       "1    [0.997145, 0.00653503]  ...    0.990275    0.007812    0.973824   \n",
       "2   [0.9998858, 0.00142944]  ...    0.996992    0.001619    0.994327   \n",
       "3  [0.99935836, 0.00247604]  ...    0.991689    0.011821    0.992949   \n",
       "4   [0.07859739, 0.9544279]  ...    0.033193    0.902942    0.154051   \n",
       "\n",
       "  pred_um12_1 pred_um13_0 pred_um13_1  pred_um14_0  pred_um14_1  pred_um15_0  \\\n",
       "0    0.133980    0.929923    0.171847     0.985548     0.011659     0.746642   \n",
       "1    0.044024    0.992943    0.024747     0.999068     0.000979     0.983460   \n",
       "2    0.008048    0.997627    0.003818     0.999698     0.000146     0.993894   \n",
       "3    0.025027    0.995565    0.008452     0.996119     0.003639     0.995637   \n",
       "4    0.908446    0.017111    0.988811     0.117806     0.888212     0.030076   \n",
       "\n",
       "   pred_um15_1  \n",
       "0     0.153434  \n",
       "1     0.010629  \n",
       "2     0.004282  \n",
       "3     0.002855  \n",
       "4     0.906664  \n",
       "\n",
       "[5 rows x 46 columns]"
      ]
     },
     "execution_count": 33,
     "metadata": {},
     "output_type": "execute_result"
    }
   ],
   "source": [
    "df_test2_CS.head()"
   ]
  },
  {
   "cell_type": "code",
   "execution_count": 34,
   "id": "58deee2e",
   "metadata": {},
   "outputs": [
    {
     "data": {
      "text/plain": [
       "['pred_um1_0',\n",
       " 'pred_um1_1',\n",
       " 'pred_um2_0',\n",
       " 'pred_um2_1',\n",
       " 'pred_um3_0',\n",
       " 'pred_um3_1',\n",
       " 'pred_um4_0',\n",
       " 'pred_um4_1',\n",
       " 'pred_um5_0',\n",
       " 'pred_um5_1',\n",
       " 'pred_um6_0',\n",
       " 'pred_um6_1',\n",
       " 'pred_um7_0',\n",
       " 'pred_um7_1',\n",
       " 'pred_um8_0',\n",
       " 'pred_um8_1',\n",
       " 'pred_um9_0',\n",
       " 'pred_um9_1',\n",
       " 'pred_um10_0',\n",
       " 'pred_um10_1',\n",
       " 'pred_um11_0',\n",
       " 'pred_um11_1',\n",
       " 'pred_um12_0',\n",
       " 'pred_um12_1',\n",
       " 'pred_um13_0',\n",
       " 'pred_um13_1',\n",
       " 'pred_um14_0',\n",
       " 'pred_um14_1',\n",
       " 'pred_um15_0',\n",
       " 'pred_um15_1']"
      ]
     },
     "execution_count": 34,
     "metadata": {},
     "output_type": "execute_result"
    }
   ],
   "source": [
    "list(df_test2_CS.columns[16:])"
   ]
  },
  {
   "cell_type": "code",
   "execution_count": 35,
   "id": "b8891244",
   "metadata": {},
   "outputs": [],
   "source": [
    "cols = ['class']\n",
    "cols = cols.append(list(df_test2_CS.columns[16:]))\n",
    "cols"
   ]
  },
  {
   "cell_type": "code",
   "execution_count": 36,
   "id": "ad63d4ee",
   "metadata": {},
   "outputs": [],
   "source": [
    "cols = ['class']\n",
    "cols.extend(list(df_test2_CS.columns[16:]))"
   ]
  },
  {
   "cell_type": "code",
   "execution_count": 37,
   "id": "9b4d23e8",
   "metadata": {},
   "outputs": [],
   "source": [
    "df_test2_CS_all = df_test2_CS[cols]"
   ]
  },
  {
   "cell_type": "code",
   "execution_count": 38,
   "id": "a7b82681",
   "metadata": {},
   "outputs": [
    {
     "data": {
      "text/html": [
       "<div>\n",
       "<style scoped>\n",
       "    .dataframe tbody tr th:only-of-type {\n",
       "        vertical-align: middle;\n",
       "    }\n",
       "\n",
       "    .dataframe tbody tr th {\n",
       "        vertical-align: top;\n",
       "    }\n",
       "\n",
       "    .dataframe thead th {\n",
       "        text-align: right;\n",
       "    }\n",
       "</style>\n",
       "<table border=\"1\" class=\"dataframe\">\n",
       "  <thead>\n",
       "    <tr style=\"text-align: right;\">\n",
       "      <th></th>\n",
       "      <th>class</th>\n",
       "      <th>pred_um1_0</th>\n",
       "      <th>pred_um1_1</th>\n",
       "      <th>pred_um2_0</th>\n",
       "      <th>pred_um2_1</th>\n",
       "      <th>pred_um3_0</th>\n",
       "      <th>pred_um3_1</th>\n",
       "      <th>pred_um4_0</th>\n",
       "      <th>pred_um4_1</th>\n",
       "      <th>pred_um5_0</th>\n",
       "      <th>...</th>\n",
       "      <th>pred_um11_0</th>\n",
       "      <th>pred_um11_1</th>\n",
       "      <th>pred_um12_0</th>\n",
       "      <th>pred_um12_1</th>\n",
       "      <th>pred_um13_0</th>\n",
       "      <th>pred_um13_1</th>\n",
       "      <th>pred_um14_0</th>\n",
       "      <th>pred_um14_1</th>\n",
       "      <th>pred_um15_0</th>\n",
       "      <th>pred_um15_1</th>\n",
       "    </tr>\n",
       "  </thead>\n",
       "  <tbody>\n",
       "    <tr>\n",
       "      <th>0</th>\n",
       "      <td>0</td>\n",
       "      <td>0.976619</td>\n",
       "      <td>0.011113</td>\n",
       "      <td>0.949174</td>\n",
       "      <td>0.044632</td>\n",
       "      <td>0.717194</td>\n",
       "      <td>0.313306</td>\n",
       "      <td>0.984300</td>\n",
       "      <td>0.008474</td>\n",
       "      <td>0.914543</td>\n",
       "      <td>...</td>\n",
       "      <td>0.951432</td>\n",
       "      <td>0.027021</td>\n",
       "      <td>0.947605</td>\n",
       "      <td>0.133980</td>\n",
       "      <td>0.929923</td>\n",
       "      <td>0.171847</td>\n",
       "      <td>0.985548</td>\n",
       "      <td>0.011659</td>\n",
       "      <td>0.746642</td>\n",
       "      <td>0.153434</td>\n",
       "    </tr>\n",
       "    <tr>\n",
       "      <th>1</th>\n",
       "      <td>0</td>\n",
       "      <td>0.998134</td>\n",
       "      <td>0.001173</td>\n",
       "      <td>0.986173</td>\n",
       "      <td>0.014024</td>\n",
       "      <td>0.992893</td>\n",
       "      <td>0.003940</td>\n",
       "      <td>0.977692</td>\n",
       "      <td>0.010496</td>\n",
       "      <td>0.986595</td>\n",
       "      <td>...</td>\n",
       "      <td>0.990275</td>\n",
       "      <td>0.007812</td>\n",
       "      <td>0.973824</td>\n",
       "      <td>0.044024</td>\n",
       "      <td>0.992943</td>\n",
       "      <td>0.024747</td>\n",
       "      <td>0.999068</td>\n",
       "      <td>0.000979</td>\n",
       "      <td>0.983460</td>\n",
       "      <td>0.010629</td>\n",
       "    </tr>\n",
       "    <tr>\n",
       "      <th>2</th>\n",
       "      <td>0</td>\n",
       "      <td>0.999759</td>\n",
       "      <td>0.000178</td>\n",
       "      <td>0.998412</td>\n",
       "      <td>0.001168</td>\n",
       "      <td>0.999672</td>\n",
       "      <td>0.000459</td>\n",
       "      <td>0.999413</td>\n",
       "      <td>0.000718</td>\n",
       "      <td>0.994692</td>\n",
       "      <td>...</td>\n",
       "      <td>0.996992</td>\n",
       "      <td>0.001619</td>\n",
       "      <td>0.994327</td>\n",
       "      <td>0.008048</td>\n",
       "      <td>0.997627</td>\n",
       "      <td>0.003818</td>\n",
       "      <td>0.999698</td>\n",
       "      <td>0.000146</td>\n",
       "      <td>0.993894</td>\n",
       "      <td>0.004282</td>\n",
       "    </tr>\n",
       "    <tr>\n",
       "      <th>3</th>\n",
       "      <td>0</td>\n",
       "      <td>0.999012</td>\n",
       "      <td>0.000735</td>\n",
       "      <td>0.999329</td>\n",
       "      <td>0.000754</td>\n",
       "      <td>0.996809</td>\n",
       "      <td>0.002554</td>\n",
       "      <td>0.984678</td>\n",
       "      <td>0.006735</td>\n",
       "      <td>0.994290</td>\n",
       "      <td>...</td>\n",
       "      <td>0.991689</td>\n",
       "      <td>0.011821</td>\n",
       "      <td>0.992949</td>\n",
       "      <td>0.025027</td>\n",
       "      <td>0.995565</td>\n",
       "      <td>0.008452</td>\n",
       "      <td>0.996119</td>\n",
       "      <td>0.003639</td>\n",
       "      <td>0.995637</td>\n",
       "      <td>0.002855</td>\n",
       "    </tr>\n",
       "    <tr>\n",
       "      <th>4</th>\n",
       "      <td>1</td>\n",
       "      <td>0.020325</td>\n",
       "      <td>0.966529</td>\n",
       "      <td>0.031847</td>\n",
       "      <td>0.955563</td>\n",
       "      <td>0.004209</td>\n",
       "      <td>0.996718</td>\n",
       "      <td>0.047528</td>\n",
       "      <td>0.957148</td>\n",
       "      <td>0.073247</td>\n",
       "      <td>...</td>\n",
       "      <td>0.033193</td>\n",
       "      <td>0.902942</td>\n",
       "      <td>0.154051</td>\n",
       "      <td>0.908446</td>\n",
       "      <td>0.017111</td>\n",
       "      <td>0.988811</td>\n",
       "      <td>0.117806</td>\n",
       "      <td>0.888212</td>\n",
       "      <td>0.030076</td>\n",
       "      <td>0.906664</td>\n",
       "    </tr>\n",
       "  </tbody>\n",
       "</table>\n",
       "<p>5 rows × 31 columns</p>\n",
       "</div>"
      ],
      "text/plain": [
       "   class  pred_um1_0  pred_um1_1  pred_um2_0  pred_um2_1  pred_um3_0  \\\n",
       "0      0    0.976619    0.011113    0.949174    0.044632    0.717194   \n",
       "1      0    0.998134    0.001173    0.986173    0.014024    0.992893   \n",
       "2      0    0.999759    0.000178    0.998412    0.001168    0.999672   \n",
       "3      0    0.999012    0.000735    0.999329    0.000754    0.996809   \n",
       "4      1    0.020325    0.966529    0.031847    0.955563    0.004209   \n",
       "\n",
       "   pred_um3_1  pred_um4_0  pred_um4_1  pred_um5_0  ...  pred_um11_0  \\\n",
       "0    0.313306    0.984300    0.008474    0.914543  ...     0.951432   \n",
       "1    0.003940    0.977692    0.010496    0.986595  ...     0.990275   \n",
       "2    0.000459    0.999413    0.000718    0.994692  ...     0.996992   \n",
       "3    0.002554    0.984678    0.006735    0.994290  ...     0.991689   \n",
       "4    0.996718    0.047528    0.957148    0.073247  ...     0.033193   \n",
       "\n",
       "   pred_um11_1  pred_um12_0  pred_um12_1  pred_um13_0  pred_um13_1  \\\n",
       "0     0.027021     0.947605     0.133980     0.929923     0.171847   \n",
       "1     0.007812     0.973824     0.044024     0.992943     0.024747   \n",
       "2     0.001619     0.994327     0.008048     0.997627     0.003818   \n",
       "3     0.011821     0.992949     0.025027     0.995565     0.008452   \n",
       "4     0.902942     0.154051     0.908446     0.017111     0.988811   \n",
       "\n",
       "   pred_um14_0  pred_um14_1  pred_um15_0  pred_um15_1  \n",
       "0     0.985548     0.011659     0.746642     0.153434  \n",
       "1     0.999068     0.000979     0.983460     0.010629  \n",
       "2     0.999698     0.000146     0.993894     0.004282  \n",
       "3     0.996119     0.003639     0.995637     0.002855  \n",
       "4     0.117806     0.888212     0.030076     0.906664  \n",
       "\n",
       "[5 rows x 31 columns]"
      ]
     },
     "execution_count": 38,
     "metadata": {},
     "output_type": "execute_result"
    }
   ],
   "source": [
    "df_test2_CS_all.head()"
   ]
  },
  {
   "cell_type": "code",
   "execution_count": 39,
   "id": "aaa6dfd4",
   "metadata": {},
   "outputs": [],
   "source": [
    "''' \n",
    "Utility matrix format: \n",
    "    [[TN, FN],\n",
    "     [FP, TP]]\n",
    "'''\n",
    "ums = {\n",
    "    'um1' : [[1, 0], [0, 1]], # accuracy\n",
    "    'um2' : [[1, -1], [0, 1]],\n",
    "    'um3' : [[1, 0], [-1, 1]],\n",
    "    'um4' : [[10, 0], [0, 1]],\n",
    "    'um5' : [[1, 0], [0, 10]],\n",
    "    'um6' : [[1, -10], [0, 1]],\n",
    "    'um7' : [[1, 0], [-10, 1]],\n",
    "    'um8' : [[5, 0], [0, 1]],\n",
    "    'um9' : [[100, 0], [0, 1]],\n",
    "    'um10' : [[1, 0], [0, 5]],\n",
    "    'um11' : [[1, 0], [0, 100]],\n",
    "    'um12' : [[1, 0], [-5, 1]],\n",
    "    'um13' : [[1, -5], [0, 1]],\n",
    "    'um14' : [[1, 0], [-100, 1]],\n",
    "    'um15' : [[1, -100], [0, 1]],\n",
    "    \n",
    "}"
   ]
  },
  {
   "cell_type": "code",
   "execution_count": 40,
   "id": "7aae07e5",
   "metadata": {},
   "outputs": [],
   "source": [
    "def choose_class(x, um=None):\n",
    "    \"\"\"\n",
    "    x = either one number between 0-1, or a (normalized) vector of probabilities\n",
    "        if it's one number then we are in a binary classification case\n",
    "        and x is the probability of CLASS 0\n",
    "    um = utility matrix in the format [[T0,F0],[F1,T1]] if None: Choose class based on x\n",
    "    \"\"\"\n",
    "    if type(x) == float or type(x) == np.float64: # x is float and is the probability of class 0\n",
    "        x = np.array([x])\n",
    "        x = np.concatenate((x, 1-x)) # transform into prob. vector\n",
    "    else:\n",
    "        x = np.array(x)\n",
    "    if um != None:\n",
    "        um = np.array(um)\n",
    "        utilities = np.matmul(um, x)\n",
    "        cl = np.argmax(utilities)\n",
    "    else:\n",
    "        cl = np.argmax(x)\n",
    "    return cl"
   ]
  },
  {
   "cell_type": "code",
   "execution_count": 41,
   "id": "fd4ed7ab",
   "metadata": {},
   "outputs": [],
   "source": [
    "def get_utility_scores_CS(df, um_index = 1, verbose=True):\n",
    "    '''\n",
    "    Method for calculating the total gains from utility matrix for regular predictions \n",
    "    and bayesian corrected predictions\n",
    "    df = DataFrame for predictions and bayesian probabilites of class 0\n",
    "    um = utility matrix in the format [[T0,F0],[F1,T1]]\n",
    "    verbose = if True: Outputs confusion matrix and text\n",
    "    '''\n",
    "    c1, c2, c3 = 0, 0, 0\n",
    "    # Calculations for standard output\n",
    "    y = df['class'].to_numpy()\n",
    "    um = ums[f'um{um_index}']\n",
    "    y_pred = [choose_class([r[f'pred_um{um_index}_0'], r[f'pred_um{um_index}_1']]) for i, r in df.iterrows()]\n",
    "    cm1 = confusion_matrix(y, y_pred)\n",
    "    c1 = get_total_cost(um, cm1)\n",
    "    if verbose: \n",
    "        f = sns.heatmap(cm1, annot=True, fmt='d')\n",
    "        print('**Output for the standard predictions from algorithm**')\n",
    "        print(f'Utility Matrix: {um}')\n",
    "        print(f'Total gains for the Utility Matrix: {c1}')\n",
    "        print('Confusion matrix:')\n",
    "        plt.show()\n",
    "    # Calculations for standard output with expected utility class choice\n",
    "    y_pred = [choose_class([r[f'pred_um{um_index}_0'], r[f'pred_um{um_index}_1']], um) for i, r in df.iterrows()]\n",
    "    cm2 = confusion_matrix(y, y_pred)\n",
    "    c2 = get_total_cost(um, cm2)\n",
    "    if verbose: \n",
    "        f = sns.heatmap(cm2, annot=True, fmt='d')\n",
    "        print('**Output for the standard predictions from algorithm with expected utility**')\n",
    "        print(f'Utility Matrix: {um}')\n",
    "        print(f'Total gains for the Utility Matrix: {c2}')\n",
    "        print('Confusion matrix:')\n",
    "        plt.show()\n",
    "    if 'prob_0' in df.columns: \n",
    "        # Calculations for bayesian probability and expected utility class choice\n",
    "        y_pred = [choose_class(r['prob_0'], um) for i, r in df.iterrows()]\n",
    "        cm3 = confusion_matrix(y, y_pred)\n",
    "        c3 = get_total_cost(um, cm3)\n",
    "        if verbose: \n",
    "            f = sns.heatmap(cm3, annot=True, fmt='d')\n",
    "            print('**Output for the bayesian calculations with expected utility**')\n",
    "            print(f'Utility Matrix: {um}')\n",
    "            print(f'Total gains: {c3}')\n",
    "            print('Confusion matrix:')\n",
    "            plt.show()\n",
    "    return c1, c2, c3"
   ]
  },
  {
   "cell_type": "code",
   "execution_count": 42,
   "id": "41c38725",
   "metadata": {},
   "outputs": [
    {
     "data": {
      "text/plain": [
       "[0.9674003900808025,\n",
       " 0.9781276121482307,\n",
       " 0.9772917247144052,\n",
       " 0.9086653663973251,\n",
       " 0.16837559208693229,\n",
       " 0.9867017908255021,\n",
       " 0.990146660249753,\n",
       " 0.9131791585399833,\n",
       " 0.9084062412928392,\n",
       " 0.2569517971579827,\n",
       " 0.0939509612705489,\n",
       " 0.9866722392495588,\n",
       " 0.9846289588557631,\n",
       " 0.9986261652077718,\n",
       " 0.9943391385669634]"
      ]
     },
     "execution_count": 42,
     "metadata": {},
     "output_type": "execute_result"
    }
   ],
   "source": [
    "scores1 = []\n",
    "scores2 = []\n",
    "for i, r in df_scores.iterrows():\n",
    "    s1, s2, _ = get_utility_scores_CS(df_test2_CS, i + 1, verbose=False)\n",
    "    scores1.append(s1)\n",
    "    scores2.append(s2)\n",
    "scores2"
   ]
  },
  {
   "cell_type": "code",
   "execution_count": 43,
   "id": "66a0b7b8",
   "metadata": {},
   "outputs": [
    {
     "data": {
      "text/html": [
       "<div>\n",
       "<style scoped>\n",
       "    .dataframe tbody tr th:only-of-type {\n",
       "        vertical-align: middle;\n",
       "    }\n",
       "\n",
       "    .dataframe tbody tr th {\n",
       "        vertical-align: top;\n",
       "    }\n",
       "\n",
       "    .dataframe thead th {\n",
       "        text-align: right;\n",
       "    }\n",
       "</style>\n",
       "<table border=\"1\" class=\"dataframe\">\n",
       "  <thead>\n",
       "    <tr style=\"text-align: right;\">\n",
       "      <th></th>\n",
       "      <th>ums</th>\n",
       "      <th>RF_output</th>\n",
       "      <th>RF_utility</th>\n",
       "      <th>RF_bayesian_utility</th>\n",
       "      <th>CNN_output</th>\n",
       "      <th>CNN_utility</th>\n",
       "      <th>CNN_bayesian_utility</th>\n",
       "      <th>CNN_CS_output</th>\n",
       "      <th>CNN_CS_utility</th>\n",
       "    </tr>\n",
       "  </thead>\n",
       "  <tbody>\n",
       "    <tr>\n",
       "      <th>0</th>\n",
       "      <td>[[1, 0], [0, 1]]</td>\n",
       "      <td>0.967122</td>\n",
       "      <td>0.967122</td>\n",
       "      <td>0.974923</td>\n",
       "      <td>0.960713</td>\n",
       "      <td>0.960713</td>\n",
       "      <td>0.962385</td>\n",
       "      <td>0.967400</td>\n",
       "      <td>0.967400</td>\n",
       "    </tr>\n",
       "    <tr>\n",
       "      <th>1</th>\n",
       "      <td>[[1, -1], [0, 1]]</td>\n",
       "      <td>0.971441</td>\n",
       "      <td>0.982725</td>\n",
       "      <td>0.982028</td>\n",
       "      <td>0.972834</td>\n",
       "      <td>0.960992</td>\n",
       "      <td>0.973112</td>\n",
       "      <td>0.974923</td>\n",
       "      <td>0.978128</td>\n",
       "    </tr>\n",
       "    <tr>\n",
       "      <th>2</th>\n",
       "      <td>[[1, 0], [-1, 1]]</td>\n",
       "      <td>0.979242</td>\n",
       "      <td>0.974645</td>\n",
       "      <td>0.980775</td>\n",
       "      <td>0.968236</td>\n",
       "      <td>0.972973</td>\n",
       "      <td>0.972276</td>\n",
       "      <td>0.977013</td>\n",
       "      <td>0.977292</td>\n",
       "    </tr>\n",
       "    <tr>\n",
       "      <th>3</th>\n",
       "      <td>[[10, 0], [0, 1]]</td>\n",
       "      <td>0.907189</td>\n",
       "      <td>0.909724</td>\n",
       "      <td>0.909167</td>\n",
       "      <td>0.892505</td>\n",
       "      <td>0.908665</td>\n",
       "      <td>0.909167</td>\n",
       "      <td>0.901755</td>\n",
       "      <td>0.908665</td>\n",
       "    </tr>\n",
       "    <tr>\n",
       "      <th>4</th>\n",
       "      <td>[[1, 0], [0, 10]]</td>\n",
       "      <td>0.156645</td>\n",
       "      <td>0.170354</td>\n",
       "      <td>0.173057</td>\n",
       "      <td>0.164280</td>\n",
       "      <td>0.133853</td>\n",
       "      <td>0.168877</td>\n",
       "      <td>0.162218</td>\n",
       "      <td>0.168376</td>\n",
       "    </tr>\n",
       "  </tbody>\n",
       "</table>\n",
       "</div>"
      ],
      "text/plain": [
       "                 ums  RF_output  RF_utility  RF_bayesian_utility  CNN_output  \\\n",
       "0   [[1, 0], [0, 1]]   0.967122    0.967122             0.974923    0.960713   \n",
       "1  [[1, -1], [0, 1]]   0.971441    0.982725             0.982028    0.972834   \n",
       "2  [[1, 0], [-1, 1]]   0.979242    0.974645             0.980775    0.968236   \n",
       "3  [[10, 0], [0, 1]]   0.907189    0.909724             0.909167    0.892505   \n",
       "4  [[1, 0], [0, 10]]   0.156645    0.170354             0.173057    0.164280   \n",
       "\n",
       "   CNN_utility  CNN_bayesian_utility  CNN_CS_output  CNN_CS_utility  \n",
       "0     0.960713              0.962385       0.967400        0.967400  \n",
       "1     0.960992              0.973112       0.974923        0.978128  \n",
       "2     0.972973              0.972276       0.977013        0.977292  \n",
       "3     0.908665              0.909167       0.901755        0.908665  \n",
       "4     0.133853              0.168877       0.162218        0.168376  "
      ]
     },
     "execution_count": 43,
     "metadata": {},
     "output_type": "execute_result"
    }
   ],
   "source": [
    "df_scores['CNN_CS_output'] = scores1\n",
    "df_scores['CNN_CS_utility'] = scores2\n",
    "df_scores.head()"
   ]
  },
  {
   "cell_type": "code",
   "execution_count": 52,
   "id": "ad139a66",
   "metadata": {},
   "outputs": [
    {
     "data": {
      "text/html": [
       "<style type=\"text/css\">\n",
       "#T_3e810_row0_col3, #T_3e810_row1_col3, #T_3e810_row2_col3, #T_3e810_row3_col3, #T_3e810_row4_col3 {\n",
       "  background-color: lightgreen;\n",
       "}\n",
       "#T_3e810_row0_col6, #T_3e810_row1_col6, #T_3e810_row2_col6, #T_3e810_row3_col6, #T_3e810_row4_col6 {\n",
       "  background-color: lightblue;\n",
       "}\n",
       "</style>\n",
       "<table id=\"T_3e810_\">\n",
       "  <thead>\n",
       "    <tr>\n",
       "      <th class=\"blank level0\" >&nbsp;</th>\n",
       "      <th class=\"col_heading level0 col0\" >ums</th>\n",
       "      <th class=\"col_heading level0 col1\" >RF_standard</th>\n",
       "      <th class=\"col_heading level0 col2\" >RF_mixed</th>\n",
       "      <th class=\"col_heading level0 col3\" >RF_transducer</th>\n",
       "      <th class=\"col_heading level0 col4\" >CNN_standard</th>\n",
       "      <th class=\"col_heading level0 col5\" >CNN_mixed</th>\n",
       "      <th class=\"col_heading level0 col6\" >CNN_transducer</th>\n",
       "    </tr>\n",
       "  </thead>\n",
       "  <tbody>\n",
       "    <tr>\n",
       "      <th id=\"T_3e810_level0_row0\" class=\"row_heading level0 row0\" >0</th>\n",
       "      <td id=\"T_3e810_row0_col0\" class=\"data row0 col0\" >[[1, 0], [0, 1]]</td>\n",
       "      <td id=\"T_3e810_row0_col1\" class=\"data row0 col1\" >0.959</td>\n",
       "      <td id=\"T_3e810_row0_col2\" class=\"data row0 col2\" >0.959</td>\n",
       "      <td id=\"T_3e810_row0_col3\" class=\"data row0 col3\" >0.961</td>\n",
       "      <td id=\"T_3e810_row0_col4\" class=\"data row0 col4\" >0.959</td>\n",
       "      <td id=\"T_3e810_row0_col5\" class=\"data row0 col5\" >0.959</td>\n",
       "      <td id=\"T_3e810_row0_col6\" class=\"data row0 col6\" >0.961</td>\n",
       "    </tr>\n",
       "    <tr>\n",
       "      <th id=\"T_3e810_level0_row1\" class=\"row_heading level0 row1\" >1</th>\n",
       "      <td id=\"T_3e810_row1_col0\" class=\"data row1 col0\" >[[1, -10], [0, 10]]</td>\n",
       "      <td id=\"T_3e810_row1_col1\" class=\"data row1 col1\" >0.576</td>\n",
       "      <td id=\"T_3e810_row1_col2\" class=\"data row1 col2\" >0.581</td>\n",
       "      <td id=\"T_3e810_row1_col3\" class=\"data row1 col3\" >0.582</td>\n",
       "      <td id=\"T_3e810_row1_col4\" class=\"data row1 col4\" >0.576</td>\n",
       "      <td id=\"T_3e810_row1_col5\" class=\"data row1 col5\" >0.581</td>\n",
       "      <td id=\"T_3e810_row1_col6\" class=\"data row1 col6\" >0.582</td>\n",
       "    </tr>\n",
       "    <tr>\n",
       "      <th id=\"T_3e810_level0_row2\" class=\"row_heading level0 row2\" >2</th>\n",
       "      <td id=\"T_3e810_row2_col0\" class=\"data row2 col0\" >[[1, -100], [0, 100]]</td>\n",
       "      <td id=\"T_3e810_row2_col1\" class=\"data row2 col1\" >0.536</td>\n",
       "      <td id=\"T_3e810_row2_col2\" class=\"data row2 col2\" >0.546</td>\n",
       "      <td id=\"T_3e810_row2_col3\" class=\"data row2 col3\" >0.548</td>\n",
       "      <td id=\"T_3e810_row2_col4\" class=\"data row2 col4\" >0.536</td>\n",
       "      <td id=\"T_3e810_row2_col5\" class=\"data row2 col5\" >0.546</td>\n",
       "      <td id=\"T_3e810_row2_col6\" class=\"data row2 col6\" >0.548</td>\n",
       "    </tr>\n",
       "    <tr>\n",
       "      <th id=\"T_3e810_level0_row3\" class=\"row_heading level0 row3\" >3</th>\n",
       "      <td id=\"T_3e810_row3_col0\" class=\"data row3 col0\" >[[10, 0], [-10, 1]]</td>\n",
       "      <td id=\"T_3e810_row3_col1\" class=\"data row3 col1\" >0.931</td>\n",
       "      <td id=\"T_3e810_row3_col2\" class=\"data row3 col2\" >0.949</td>\n",
       "      <td id=\"T_3e810_row3_col3\" class=\"data row3 col3\" >0.955</td>\n",
       "      <td id=\"T_3e810_row3_col4\" class=\"data row3 col4\" >0.931</td>\n",
       "      <td id=\"T_3e810_row3_col5\" class=\"data row3 col5\" >0.949</td>\n",
       "      <td id=\"T_3e810_row3_col6\" class=\"data row3 col6\" >0.955</td>\n",
       "    </tr>\n",
       "    <tr>\n",
       "      <th id=\"T_3e810_level0_row4\" class=\"row_heading level0 row4\" >4</th>\n",
       "      <td id=\"T_3e810_row4_col0\" class=\"data row4 col0\" >[[100, 0], [-100, 10]]</td>\n",
       "      <td id=\"T_3e810_row4_col1\" class=\"data row4 col1\" >0.931</td>\n",
       "      <td id=\"T_3e810_row4_col2\" class=\"data row4 col2\" >0.949</td>\n",
       "      <td id=\"T_3e810_row4_col3\" class=\"data row4 col3\" >0.955</td>\n",
       "      <td id=\"T_3e810_row4_col4\" class=\"data row4 col4\" >0.931</td>\n",
       "      <td id=\"T_3e810_row4_col5\" class=\"data row4 col5\" >0.949</td>\n",
       "      <td id=\"T_3e810_row4_col6\" class=\"data row4 col6\" >0.955</td>\n",
       "    </tr>\n",
       "  </tbody>\n",
       "</table>\n"
      ],
      "text/plain": [
       "<pandas.io.formats.style.Styler at 0x7f77d3bae5d0>"
      ]
     },
     "execution_count": 52,
     "metadata": {},
     "output_type": "execute_result"
    }
   ],
   "source": [
    "df_scores.style.\\\n",
    "        format(precision=3).\\\n",
    "        highlight_max(color='lightgreen', subset=df_scores.columns[1:4], axis=1).\\\n",
    "        highlight_max(color='lightblue', subset=df_scores.columns[4:], axis=1)\n",
    "        #highlight_max(color='lightyellow', subset=df_scores.columns[7:], axis=1)\n"
   ]
  },
  {
   "cell_type": "code",
   "execution_count": 48,
   "id": "86251080",
   "metadata": {},
   "outputs": [],
   "source": [
    "df_scores.to_csv(DATA/'scores_utility_matrix.csv', index=False)"
   ]
  },
  {
   "cell_type": "markdown",
   "id": "ec015123",
   "metadata": {},
   "source": [
    "## Highlight max values for RF and CNN output"
   ]
  },
  {
   "cell_type": "code",
   "execution_count": 47,
   "id": "e0722efd",
   "metadata": {},
   "outputs": [],
   "source": [
    "df_scores_style = pd.read_csv(DATA/'scores_utility_matrix.csv')"
   ]
  },
  {
   "cell_type": "code",
   "execution_count": 48,
   "id": "484988a6",
   "metadata": {},
   "outputs": [
    {
     "data": {
      "text/html": [
       "<style type=\"text/css\">\n",
       "#T_40d25_row0_col3, #T_40d25_row1_col2, #T_40d25_row2_col3, #T_40d25_row3_col2, #T_40d25_row4_col3, #T_40d25_row5_col3, #T_40d25_row6_col2, #T_40d25_row7_col3, #T_40d25_row8_col2, #T_40d25_row9_col3, #T_40d25_row10_col3, #T_40d25_row11_col3, #T_40d25_row12_col2, #T_40d25_row13_col2, #T_40d25_row14_col3 {\n",
       "  background-color: lightgreen;\n",
       "}\n",
       "#T_40d25_row0_col7, #T_40d25_row0_col8, #T_40d25_row1_col8, #T_40d25_row2_col8, #T_40d25_row3_col6, #T_40d25_row4_col6, #T_40d25_row5_col6, #T_40d25_row6_col6, #T_40d25_row7_col8, #T_40d25_row8_col5, #T_40d25_row8_col6, #T_40d25_row9_col8, #T_40d25_row10_col6, #T_40d25_row11_col8, #T_40d25_row12_col8, #T_40d25_row13_col5, #T_40d25_row13_col6, #T_40d25_row14_col6 {\n",
       "  background-color: lightblue;\n",
       "}\n",
       "</style>\n",
       "<table id=\"T_40d25_\">\n",
       "  <thead>\n",
       "    <tr>\n",
       "      <th class=\"blank level0\" >&nbsp;</th>\n",
       "      <th class=\"col_heading level0 col0\" >ums</th>\n",
       "      <th class=\"col_heading level0 col1\" >RF_output</th>\n",
       "      <th class=\"col_heading level0 col2\" >RF_utility</th>\n",
       "      <th class=\"col_heading level0 col3\" >RF_bayesian_utility</th>\n",
       "      <th class=\"col_heading level0 col4\" >CNN_output</th>\n",
       "      <th class=\"col_heading level0 col5\" >CNN_utility</th>\n",
       "      <th class=\"col_heading level0 col6\" >CNN_bayesian_utility</th>\n",
       "      <th class=\"col_heading level0 col7\" >CNN_CS_output</th>\n",
       "      <th class=\"col_heading level0 col8\" >CNN_CS_utility</th>\n",
       "    </tr>\n",
       "  </thead>\n",
       "  <tbody>\n",
       "    <tr>\n",
       "      <th id=\"T_40d25_level0_row0\" class=\"row_heading level0 row0\" >0</th>\n",
       "      <td id=\"T_40d25_row0_col0\" class=\"data row0 col0\" >[[1, 0], [0, 1]]</td>\n",
       "      <td id=\"T_40d25_row0_col1\" class=\"data row0 col1\" >0.9671</td>\n",
       "      <td id=\"T_40d25_row0_col2\" class=\"data row0 col2\" >0.9671</td>\n",
       "      <td id=\"T_40d25_row0_col3\" class=\"data row0 col3\" >0.9749</td>\n",
       "      <td id=\"T_40d25_row0_col4\" class=\"data row0 col4\" >0.9607</td>\n",
       "      <td id=\"T_40d25_row0_col5\" class=\"data row0 col5\" >0.9607</td>\n",
       "      <td id=\"T_40d25_row0_col6\" class=\"data row0 col6\" >0.9624</td>\n",
       "      <td id=\"T_40d25_row0_col7\" class=\"data row0 col7\" >0.9674</td>\n",
       "      <td id=\"T_40d25_row0_col8\" class=\"data row0 col8\" >0.9674</td>\n",
       "    </tr>\n",
       "    <tr>\n",
       "      <th id=\"T_40d25_level0_row1\" class=\"row_heading level0 row1\" >1</th>\n",
       "      <td id=\"T_40d25_row1_col0\" class=\"data row1 col0\" >[[1, -1], [0, 1]]</td>\n",
       "      <td id=\"T_40d25_row1_col1\" class=\"data row1 col1\" >0.9714</td>\n",
       "      <td id=\"T_40d25_row1_col2\" class=\"data row1 col2\" >0.9827</td>\n",
       "      <td id=\"T_40d25_row1_col3\" class=\"data row1 col3\" >0.9820</td>\n",
       "      <td id=\"T_40d25_row1_col4\" class=\"data row1 col4\" >0.9728</td>\n",
       "      <td id=\"T_40d25_row1_col5\" class=\"data row1 col5\" >0.9610</td>\n",
       "      <td id=\"T_40d25_row1_col6\" class=\"data row1 col6\" >0.9731</td>\n",
       "      <td id=\"T_40d25_row1_col7\" class=\"data row1 col7\" >0.9749</td>\n",
       "      <td id=\"T_40d25_row1_col8\" class=\"data row1 col8\" >0.9781</td>\n",
       "    </tr>\n",
       "    <tr>\n",
       "      <th id=\"T_40d25_level0_row2\" class=\"row_heading level0 row2\" >2</th>\n",
       "      <td id=\"T_40d25_row2_col0\" class=\"data row2 col0\" >[[1, 0], [-1, 1]]</td>\n",
       "      <td id=\"T_40d25_row2_col1\" class=\"data row2 col1\" >0.9792</td>\n",
       "      <td id=\"T_40d25_row2_col2\" class=\"data row2 col2\" >0.9746</td>\n",
       "      <td id=\"T_40d25_row2_col3\" class=\"data row2 col3\" >0.9808</td>\n",
       "      <td id=\"T_40d25_row2_col4\" class=\"data row2 col4\" >0.9682</td>\n",
       "      <td id=\"T_40d25_row2_col5\" class=\"data row2 col5\" >0.9730</td>\n",
       "      <td id=\"T_40d25_row2_col6\" class=\"data row2 col6\" >0.9723</td>\n",
       "      <td id=\"T_40d25_row2_col7\" class=\"data row2 col7\" >0.9770</td>\n",
       "      <td id=\"T_40d25_row2_col8\" class=\"data row2 col8\" >0.9773</td>\n",
       "    </tr>\n",
       "    <tr>\n",
       "      <th id=\"T_40d25_level0_row3\" class=\"row_heading level0 row3\" >3</th>\n",
       "      <td id=\"T_40d25_row3_col0\" class=\"data row3 col0\" >[[10, 0], [0, 1]]</td>\n",
       "      <td id=\"T_40d25_row3_col1\" class=\"data row3 col1\" >0.9072</td>\n",
       "      <td id=\"T_40d25_row3_col2\" class=\"data row3 col2\" >0.9097</td>\n",
       "      <td id=\"T_40d25_row3_col3\" class=\"data row3 col3\" >0.9092</td>\n",
       "      <td id=\"T_40d25_row3_col4\" class=\"data row3 col4\" >0.8925</td>\n",
       "      <td id=\"T_40d25_row3_col5\" class=\"data row3 col5\" >0.9087</td>\n",
       "      <td id=\"T_40d25_row3_col6\" class=\"data row3 col6\" >0.9092</td>\n",
       "      <td id=\"T_40d25_row3_col7\" class=\"data row3 col7\" >0.9018</td>\n",
       "      <td id=\"T_40d25_row3_col8\" class=\"data row3 col8\" >0.9087</td>\n",
       "    </tr>\n",
       "    <tr>\n",
       "      <th id=\"T_40d25_level0_row4\" class=\"row_heading level0 row4\" >4</th>\n",
       "      <td id=\"T_40d25_row4_col0\" class=\"data row4 col0\" >[[1, 0], [0, 10]]</td>\n",
       "      <td id=\"T_40d25_row4_col1\" class=\"data row4 col1\" >0.1566</td>\n",
       "      <td id=\"T_40d25_row4_col2\" class=\"data row4 col2\" >0.1704</td>\n",
       "      <td id=\"T_40d25_row4_col3\" class=\"data row4 col3\" >0.1731</td>\n",
       "      <td id=\"T_40d25_row4_col4\" class=\"data row4 col4\" >0.1643</td>\n",
       "      <td id=\"T_40d25_row4_col5\" class=\"data row4 col5\" >0.1339</td>\n",
       "      <td id=\"T_40d25_row4_col6\" class=\"data row4 col6\" >0.1689</td>\n",
       "      <td id=\"T_40d25_row4_col7\" class=\"data row4 col7\" >0.1622</td>\n",
       "      <td id=\"T_40d25_row4_col8\" class=\"data row4 col8\" >0.1684</td>\n",
       "    </tr>\n",
       "    <tr>\n",
       "      <th id=\"T_40d25_level0_row5\" class=\"row_heading level0 row5\" >5</th>\n",
       "      <td id=\"T_40d25_row5_col0\" class=\"data row5 col0\" >[[1, -10], [0, 1]]</td>\n",
       "      <td id=\"T_40d25_row5_col1\" class=\"data row5 col1\" >0.9750</td>\n",
       "      <td id=\"T_40d25_row5_col2\" class=\"data row5 col2\" >0.9882</td>\n",
       "      <td id=\"T_40d25_row5_col3\" class=\"data row5 col3\" >0.9920</td>\n",
       "      <td id=\"T_40d25_row5_col4\" class=\"data row5 col4\" >0.9828</td>\n",
       "      <td id=\"T_40d25_row5_col5\" class=\"data row5 col5\" >0.9525</td>\n",
       "      <td id=\"T_40d25_row5_col6\" class=\"data row5 col6\" >0.9877</td>\n",
       "      <td id=\"T_40d25_row5_col7\" class=\"data row5 col7\" >0.9848</td>\n",
       "      <td id=\"T_40d25_row5_col8\" class=\"data row5 col8\" >0.9867</td>\n",
       "    </tr>\n",
       "    <tr>\n",
       "      <th id=\"T_40d25_level0_row6\" class=\"row_heading level0 row6\" >6</th>\n",
       "      <td id=\"T_40d25_row6_col0\" class=\"data row6 col0\" >[[1, 0], [-10, 1]]</td>\n",
       "      <td id=\"T_40d25_row6_col1\" class=\"data row6 col1\" >0.9892</td>\n",
       "      <td id=\"T_40d25_row6_col2\" class=\"data row6 col2\" >0.9920</td>\n",
       "      <td id=\"T_40d25_row6_col3\" class=\"data row6 col3\" >0.9917</td>\n",
       "      <td id=\"T_40d25_row6_col4\" class=\"data row6 col4\" >0.9744</td>\n",
       "      <td id=\"T_40d25_row6_col5\" class=\"data row6 col5\" >0.9913</td>\n",
       "      <td id=\"T_40d25_row6_col6\" class=\"data row6 col6\" >0.9917</td>\n",
       "      <td id=\"T_40d25_row6_col7\" class=\"data row6 col7\" >0.9837</td>\n",
       "      <td id=\"T_40d25_row6_col8\" class=\"data row6 col8\" >0.9901</td>\n",
       "    </tr>\n",
       "    <tr>\n",
       "      <th id=\"T_40d25_level0_row7\" class=\"row_heading level0 row7\" >7</th>\n",
       "      <td id=\"T_40d25_row7_col0\" class=\"data row7 col0\" >[[5, 0], [0, 1]]</td>\n",
       "      <td id=\"T_40d25_row7_col1\" class=\"data row7 col1\" >0.9138</td>\n",
       "      <td id=\"T_40d25_row7_col2\" class=\"data row7 col2\" >0.9128</td>\n",
       "      <td id=\"T_40d25_row7_col3\" class=\"data row7 col3\" >0.9147</td>\n",
       "      <td id=\"T_40d25_row7_col4\" class=\"data row7 col4\" >0.9001</td>\n",
       "      <td id=\"T_40d25_row7_col5\" class=\"data row7 col5\" >0.9118</td>\n",
       "      <td id=\"T_40d25_row7_col6\" class=\"data row7 col6\" >0.9106</td>\n",
       "      <td id=\"T_40d25_row7_col7\" class=\"data row7 col7\" >0.9089</td>\n",
       "      <td id=\"T_40d25_row7_col8\" class=\"data row7 col8\" >0.9132</td>\n",
       "    </tr>\n",
       "    <tr>\n",
       "      <th id=\"T_40d25_level0_row8\" class=\"row_heading level0 row8\" >8</th>\n",
       "      <td id=\"T_40d25_row8_col0\" class=\"data row8 col0\" >[[100, 0], [0, 1]]</td>\n",
       "      <td id=\"T_40d25_row8_col1\" class=\"data row8 col1\" >0.9012</td>\n",
       "      <td id=\"T_40d25_row8_col2\" class=\"data row8 col2\" >0.9092</td>\n",
       "      <td id=\"T_40d25_row8_col3\" class=\"data row8 col3\" >0.9092</td>\n",
       "      <td id=\"T_40d25_row8_col4\" class=\"data row8 col4\" >0.8857</td>\n",
       "      <td id=\"T_40d25_row8_col5\" class=\"data row8 col5\" >0.9092</td>\n",
       "      <td id=\"T_40d25_row8_col6\" class=\"data row8 col6\" >0.9092</td>\n",
       "      <td id=\"T_40d25_row8_col7\" class=\"data row8 col7\" >0.8973</td>\n",
       "      <td id=\"T_40d25_row8_col8\" class=\"data row8 col8\" >0.9084</td>\n",
       "    </tr>\n",
       "    <tr>\n",
       "      <th id=\"T_40d25_level0_row9\" class=\"row_heading level0 row9\" >9</th>\n",
       "      <td id=\"T_40d25_row9_col0\" class=\"data row9 col0\" >[[1, 0], [0, 5]]</td>\n",
       "      <td id=\"T_40d25_row9_col1\" class=\"data row9 col1\" >0.2467</td>\n",
       "      <td id=\"T_40d25_row9_col2\" class=\"data row9 col2\" >0.2606</td>\n",
       "      <td id=\"T_40d25_row9_col3\" class=\"data row9 col3\" >0.2607</td>\n",
       "      <td id=\"T_40d25_row9_col4\" class=\"data row9 col4\" >0.2528</td>\n",
       "      <td id=\"T_40d25_row9_col5\" class=\"data row9 col5\" >0.2235</td>\n",
       "      <td id=\"T_40d25_row9_col6\" class=\"data row9 col6\" >0.2547</td>\n",
       "      <td id=\"T_40d25_row9_col7\" class=\"data row9 col7\" >0.2517</td>\n",
       "      <td id=\"T_40d25_row9_col8\" class=\"data row9 col8\" >0.2570</td>\n",
       "    </tr>\n",
       "    <tr>\n",
       "      <th id=\"T_40d25_level0_row10\" class=\"row_heading level0 row10\" >10</th>\n",
       "      <td id=\"T_40d25_row10_col0\" class=\"data row10 col0\" >[[1, 0], [0, 100]]</td>\n",
       "      <td id=\"T_40d25_row10_col1\" class=\"data row10 col1\" >0.0756</td>\n",
       "      <td id=\"T_40d25_row10_col2\" class=\"data row10 col2\" >0.0921</td>\n",
       "      <td id=\"T_40d25_row10_col3\" class=\"data row10 col3\" >0.0973</td>\n",
       "      <td id=\"T_40d25_row10_col4\" class=\"data row10 col4\" >0.0846</td>\n",
       "      <td id=\"T_40d25_row10_col5\" class=\"data row10 col5\" >0.0908</td>\n",
       "      <td id=\"T_40d25_row10_col6\" class=\"data row10 col6\" >0.0956</td>\n",
       "      <td id=\"T_40d25_row10_col7\" class=\"data row10 col7\" >0.0852</td>\n",
       "      <td id=\"T_40d25_row10_col8\" class=\"data row10 col8\" >0.0940</td>\n",
       "    </tr>\n",
       "    <tr>\n",
       "      <th id=\"T_40d25_level0_row11\" class=\"row_heading level0 row11\" >11</th>\n",
       "      <td id=\"T_40d25_row11_col0\" class=\"data row11 col0\" >[[1, 0], [-5, 1]]</td>\n",
       "      <td id=\"T_40d25_row11_col1\" class=\"data row11 col1\" >0.9873</td>\n",
       "      <td id=\"T_40d25_row11_col2\" class=\"data row11 col2\" >0.9867</td>\n",
       "      <td id=\"T_40d25_row11_col3\" class=\"data row11 col3\" >0.9887</td>\n",
       "      <td id=\"T_40d25_row11_col4\" class=\"data row11 col4\" >0.9733</td>\n",
       "      <td id=\"T_40d25_row11_col5\" class=\"data row11 col5\" >0.9859</td>\n",
       "      <td id=\"T_40d25_row11_col6\" class=\"data row11 col6\" >0.9858</td>\n",
       "      <td id=\"T_40d25_row11_col7\" class=\"data row11 col7\" >0.9824</td>\n",
       "      <td id=\"T_40d25_row11_col8\" class=\"data row11 col8\" >0.9867</td>\n",
       "    </tr>\n",
       "    <tr>\n",
       "      <th id=\"T_40d25_level0_row12\" class=\"row_heading level0 row12\" >12</th>\n",
       "      <td id=\"T_40d25_row12_col0\" class=\"data row12 col0\" >[[1, -5], [0, 1]]</td>\n",
       "      <td id=\"T_40d25_row12_col1\" class=\"data row12 col1\" >0.9743</td>\n",
       "      <td id=\"T_40d25_row12_col2\" class=\"data row12 col2\" >0.9890</td>\n",
       "      <td id=\"T_40d25_row12_col3\" class=\"data row12 col3\" >0.9887</td>\n",
       "      <td id=\"T_40d25_row12_col4\" class=\"data row12 col4\" >0.9809</td>\n",
       "      <td id=\"T_40d25_row12_col5\" class=\"data row12 col5\" >0.9504</td>\n",
       "      <td id=\"T_40d25_row12_col6\" class=\"data row12 col6\" >0.9842</td>\n",
       "      <td id=\"T_40d25_row12_col7\" class=\"data row12 col7\" >0.9813</td>\n",
       "      <td id=\"T_40d25_row12_col8\" class=\"data row12 col8\" >0.9846</td>\n",
       "    </tr>\n",
       "    <tr>\n",
       "      <th id=\"T_40d25_level0_row13\" class=\"row_heading level0 row13\" >13</th>\n",
       "      <td id=\"T_40d25_row13_col0\" class=\"data row13 col0\" >[[1, 0], [-100, 1]]</td>\n",
       "      <td id=\"T_40d25_row13_col1\" class=\"data row13 col1\" >0.9911</td>\n",
       "      <td id=\"T_40d25_row13_col2\" class=\"data row13 col2\" >0.9991</td>\n",
       "      <td id=\"T_40d25_row13_col3\" class=\"data row13 col3\" >0.9991</td>\n",
       "      <td id=\"T_40d25_row13_col4\" class=\"data row13 col4\" >0.9756</td>\n",
       "      <td id=\"T_40d25_row13_col5\" class=\"data row13 col5\" >0.9991</td>\n",
       "      <td id=\"T_40d25_row13_col6\" class=\"data row13 col6\" >0.9991</td>\n",
       "      <td id=\"T_40d25_row13_col7\" class=\"data row13 col7\" >0.9897</td>\n",
       "      <td id=\"T_40d25_row13_col8\" class=\"data row13 col8\" >0.9986</td>\n",
       "    </tr>\n",
       "    <tr>\n",
       "      <th id=\"T_40d25_level0_row14\" class=\"row_heading level0 row14\" >14</th>\n",
       "      <td id=\"T_40d25_row14_col0\" class=\"data row14 col0\" >[[1, -100], [0, 1]]</td>\n",
       "      <td id=\"T_40d25_row14_col1\" class=\"data row14 col1\" >0.9757</td>\n",
       "      <td id=\"T_40d25_row14_col2\" class=\"data row14 col2\" >0.9923</td>\n",
       "      <td id=\"T_40d25_row14_col3\" class=\"data row14 col3\" >0.9974</td>\n",
       "      <td id=\"T_40d25_row14_col4\" class=\"data row14 col4\" >0.9847</td>\n",
       "      <td id=\"T_40d25_row14_col5\" class=\"data row14 col5\" >0.9910</td>\n",
       "      <td id=\"T_40d25_row14_col6\" class=\"data row14 col6\" >0.9957</td>\n",
       "      <td id=\"T_40d25_row14_col7\" class=\"data row14 col7\" >0.9842</td>\n",
       "      <td id=\"T_40d25_row14_col8\" class=\"data row14 col8\" >0.9943</td>\n",
       "    </tr>\n",
       "  </tbody>\n",
       "</table>\n"
      ],
      "text/plain": [
       "<pandas.io.formats.style.Styler at 0x7fbc0b1c6fd0>"
      ]
     },
     "execution_count": 48,
     "metadata": {},
     "output_type": "execute_result"
    }
   ],
   "source": [
    "df_scores_style.style.\\\n",
    "        format(precision=4).\\\n",
    "        highlight_max(color='lightgreen', subset=df_scores_style.columns[1:4], axis=1).\\\n",
    "        highlight_max(color='lightblue', subset=df_scores_style.columns[4:], axis=1)\n",
    "        #highlight_max(color='lightyellow', subset=df_scores.columns[7:], axis=1)\n"
   ]
  },
  {
   "cell_type": "code",
   "execution_count": null,
   "id": "b3d29dd8",
   "metadata": {},
   "outputs": [],
   "source": []
  }
 ],
 "metadata": {
  "kernelspec": {
   "display_name": "Python 3 (ipykernel)",
   "language": "python",
   "name": "python3"
  },
  "language_info": {
   "codemirror_mode": {
    "name": "ipython",
    "version": 3
   },
   "file_extension": ".py",
   "mimetype": "text/x-python",
   "name": "python",
   "nbconvert_exporter": "python",
   "pygments_lexer": "ipython3",
   "version": "3.7.11"
  }
 },
 "nbformat": 4,
 "nbformat_minor": 5
}
