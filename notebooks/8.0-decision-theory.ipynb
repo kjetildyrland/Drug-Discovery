{
 "cells": [
  {
   "cell_type": "markdown",
   "id": "1a4def1d",
   "metadata": {},
   "source": [
    "# Generate correct probabilities and use decision theory"
   ]
  },
  {
   "cell_type": "code",
   "execution_count": 1,
   "id": "c831fb3f",
   "metadata": {},
   "outputs": [],
   "source": [
    "# Import\n",
    "import pandas as pd\n",
    "import numpy as np\n",
    "from pathlib import Path\n",
    "from scipy.stats import norm\n",
    "import torch\n",
    "import matplotlib.pyplot as plt\n",
    "from sklearn.metrics import ConfusionMatrixDisplay"
   ]
  },
  {
   "cell_type": "code",
   "execution_count": 2,
   "id": "0e4af0a0",
   "metadata": {},
   "outputs": [],
   "source": [
    "from sklearn.metrics import auc,roc_auc_score,recall_score,precision_score,f1_score\n",
    "from sklearn.metrics import matthews_corrcoef\n",
    "from sklearn.metrics import accuracy_score\n",
    "from sklearn.metrics import confusion_matrix\n",
    "import seaborn as sns"
   ]
  },
  {
   "cell_type": "code",
   "execution_count": 3,
   "id": "67cdfae3",
   "metadata": {},
   "outputs": [],
   "source": [
    "from utils.probs import *"
   ]
  },
  {
   "cell_type": "code",
   "execution_count": 4,
   "id": "8083d576",
   "metadata": {},
   "outputs": [],
   "source": [
    "path = Path('../dataset/')"
   ]
  },
  {
   "cell_type": "code",
   "execution_count": 5,
   "id": "a927b207",
   "metadata": {},
   "outputs": [],
   "source": [
    "CHEMBL205 = path/'13321_2017_226_MOESM1_ESM/CHEMBL205'"
   ]
  },
  {
   "cell_type": "code",
   "execution_count": 6,
   "id": "8a74a1f4",
   "metadata": {},
   "outputs": [],
   "source": [
    "DATA = path/'probabilities'"
   ]
  },
  {
   "cell_type": "code",
   "execution_count": 7,
   "id": "d0ba1fbd",
   "metadata": {},
   "outputs": [],
   "source": [
    "df_RF = pd.read_csv(DATA/'RF_probabilityfunction_full.csv')"
   ]
  },
  {
   "cell_type": "code",
   "execution_count": 314,
   "id": "e6d3564d",
   "metadata": {},
   "outputs": [
    {
     "data": {
      "text/html": [
       "<div>\n",
       "<style scoped>\n",
       "    .dataframe tbody tr th:only-of-type {\n",
       "        vertical-align: middle;\n",
       "    }\n",
       "\n",
       "    .dataframe tbody tr th {\n",
       "        vertical-align: top;\n",
       "    }\n",
       "\n",
       "    .dataframe thead th {\n",
       "        text-align: right;\n",
       "    }\n",
       "</style>\n",
       "<table border=\"1\" class=\"dataframe\">\n",
       "  <thead>\n",
       "    <tr style=\"text-align: right;\">\n",
       "      <th></th>\n",
       "      <th>w</th>\n",
       "      <th>p</th>\n",
       "      <th>mu</th>\n",
       "      <th>sigma</th>\n",
       "    </tr>\n",
       "  </thead>\n",
       "  <tbody>\n",
       "    <tr>\n",
       "      <th>0</th>\n",
       "      <td>1.112537e-308</td>\n",
       "      <td>0.794481</td>\n",
       "      <td>3.336147</td>\n",
       "      <td>18.644452</td>\n",
       "    </tr>\n",
       "    <tr>\n",
       "      <th>1</th>\n",
       "      <td>1.112537e-308</td>\n",
       "      <td>0.605451</td>\n",
       "      <td>2.962349</td>\n",
       "      <td>18.034830</td>\n",
       "    </tr>\n",
       "    <tr>\n",
       "      <th>2</th>\n",
       "      <td>1.544201e-305</td>\n",
       "      <td>0.324171</td>\n",
       "      <td>3.392102</td>\n",
       "      <td>7.701385</td>\n",
       "    </tr>\n",
       "    <tr>\n",
       "      <th>3</th>\n",
       "      <td>2.014197e-301</td>\n",
       "      <td>0.664059</td>\n",
       "      <td>2.348809</td>\n",
       "      <td>5.144820</td>\n",
       "    </tr>\n",
       "    <tr>\n",
       "      <th>4</th>\n",
       "      <td>2.147754e-292</td>\n",
       "      <td>0.161271</td>\n",
       "      <td>0.688278</td>\n",
       "      <td>6.812526</td>\n",
       "    </tr>\n",
       "  </tbody>\n",
       "</table>\n",
       "</div>"
      ],
      "text/plain": [
       "               w         p        mu      sigma\n",
       "0  1.112537e-308  0.794481  3.336147  18.644452\n",
       "1  1.112537e-308  0.605451  2.962349  18.034830\n",
       "2  1.544201e-305  0.324171  3.392102   7.701385\n",
       "3  2.014197e-301  0.664059  2.348809   5.144820\n",
       "4  2.147754e-292  0.161271  0.688278   6.812526"
      ]
     },
     "execution_count": 314,
     "metadata": {},
     "output_type": "execute_result"
    }
   ],
   "source": [
    "df_RF.head()"
   ]
  },
  {
   "cell_type": "code",
   "execution_count": 326,
   "id": "29c24791",
   "metadata": {},
   "outputs": [
    {
     "name": "stdout",
     "output_type": "stream",
     "text": [
      "<class 'pandas.core.frame.DataFrame'>\n",
      "RangeIndex: 262141 entries, 0 to 262140\n",
      "Data columns (total 4 columns):\n",
      " #   Column  Non-Null Count   Dtype  \n",
      "---  ------  --------------   -----  \n",
      " 0   w       262141 non-null  float64\n",
      " 1   p       262141 non-null  float64\n",
      " 2   mu      262141 non-null  float64\n",
      " 3   sigma   262141 non-null  float64\n",
      "dtypes: float64(4)\n",
      "memory usage: 8.0 MB\n"
     ]
    }
   ],
   "source": [
    "df_RF.info()"
   ]
  },
  {
   "cell_type": "code",
   "execution_count": 315,
   "id": "c5d3ebbd",
   "metadata": {},
   "outputs": [],
   "source": [
    "df_test1 = pd.read_csv(DATA/'modCHEMBL205_predictions_RF.csv')"
   ]
  },
  {
   "cell_type": "code",
   "execution_count": 316,
   "id": "b5363512",
   "metadata": {},
   "outputs": [
    {
     "data": {
      "text/html": [
       "<div>\n",
       "<style scoped>\n",
       "    .dataframe tbody tr th:only-of-type {\n",
       "        vertical-align: middle;\n",
       "    }\n",
       "\n",
       "    .dataframe tbody tr th {\n",
       "        vertical-align: top;\n",
       "    }\n",
       "\n",
       "    .dataframe thead th {\n",
       "        text-align: right;\n",
       "    }\n",
       "</style>\n",
       "<table border=\"1\" class=\"dataframe\">\n",
       "  <thead>\n",
       "    <tr style=\"text-align: right;\">\n",
       "      <th></th>\n",
       "      <th>class</th>\n",
       "      <th>prediction</th>\n",
       "      <th>predicted_class</th>\n",
       "      <th>prediction_int</th>\n",
       "      <th>prediction_lnodds</th>\n",
       "    </tr>\n",
       "  </thead>\n",
       "  <tbody>\n",
       "    <tr>\n",
       "      <th>0</th>\n",
       "      <td>0</td>\n",
       "      <td>0.975</td>\n",
       "      <td>0</td>\n",
       "      <td>195</td>\n",
       "      <td>3.644701</td>\n",
       "    </tr>\n",
       "    <tr>\n",
       "      <th>1</th>\n",
       "      <td>0</td>\n",
       "      <td>0.990</td>\n",
       "      <td>0</td>\n",
       "      <td>198</td>\n",
       "      <td>4.547894</td>\n",
       "    </tr>\n",
       "    <tr>\n",
       "      <th>2</th>\n",
       "      <td>0</td>\n",
       "      <td>0.950</td>\n",
       "      <td>0</td>\n",
       "      <td>190</td>\n",
       "      <td>2.935226</td>\n",
       "    </tr>\n",
       "    <tr>\n",
       "      <th>3</th>\n",
       "      <td>0</td>\n",
       "      <td>0.995</td>\n",
       "      <td>0</td>\n",
       "      <td>199</td>\n",
       "      <td>5.200532</td>\n",
       "    </tr>\n",
       "    <tr>\n",
       "      <th>4</th>\n",
       "      <td>1</td>\n",
       "      <td>0.105</td>\n",
       "      <td>1</td>\n",
       "      <td>21</td>\n",
       "      <td>-2.138765</td>\n",
       "    </tr>\n",
       "  </tbody>\n",
       "</table>\n",
       "</div>"
      ],
      "text/plain": [
       "   class  prediction  predicted_class  prediction_int  prediction_lnodds\n",
       "0      0       0.975                0             195           3.644701\n",
       "1      0       0.990                0             198           4.547894\n",
       "2      0       0.950                0             190           2.935226\n",
       "3      0       0.995                0             199           5.200532\n",
       "4      1       0.105                1              21          -2.138765"
      ]
     },
     "execution_count": 316,
     "metadata": {},
     "output_type": "execute_result"
    }
   ],
   "source": [
    "df_test1.head()"
   ]
  },
  {
   "cell_type": "code",
   "execution_count": 317,
   "id": "a9bf261e",
   "metadata": {},
   "outputs": [
    {
     "data": {
      "text/plain": [
       "0    0.975\n",
       "1    0.990\n",
       "2    0.950\n",
       "3    0.995\n",
       "4    0.105\n",
       "Name: prediction, dtype: float64"
      ]
     },
     "execution_count": 317,
     "metadata": {},
     "output_type": "execute_result"
    }
   ],
   "source": [
    "df_output = df_test1.prediction\n",
    "df_output.head()"
   ]
  },
  {
   "cell_type": "code",
   "execution_count": 318,
   "id": "ffe9f815",
   "metadata": {},
   "outputs": [],
   "source": [
    "preds = df_output.to_numpy()"
   ]
  },
  {
   "cell_type": "code",
   "execution_count": 319,
   "id": "599aa87e",
   "metadata": {},
   "outputs": [
    {
     "data": {
      "text/plain": [
       "array([0.975, 0.99 , 0.95 , ..., 0.915, 0.99 , 0.3  ])"
      ]
     },
     "execution_count": 319,
     "metadata": {},
     "output_type": "execute_result"
    }
   ],
   "source": [
    "preds"
   ]
  },
  {
   "cell_type": "code",
   "execution_count": 320,
   "id": "ada1048d",
   "metadata": {},
   "outputs": [],
   "source": [
    "def RF_direct_prob(x, cl, w, p, m, s):\n",
    "    \"\"\"\n",
    "    Gives probability of class conditional on RF-output\n",
    "    x = RF output (between 0 and 1)\n",
    "    cl = class (0 or 1)\n",
    "    w = array of weights\n",
    "    p = array of probs\n",
    "    m = array of means for gaussian\n",
    "    s = array of standard devs for gaussian\n",
    "    \"\"\"\n",
    "    cl = cl\n",
    "    c = 1 - 2**-10\n",
    "    x2 = 0.5 + (x-0.5) * c\n",
    "    y = np.log(x2/(1-x2))\n",
    "    pc = p*cl + (1-p) * (1-cl)\n",
    "    pjoint = np.sum(pc * w * norm.pdf(y, loc=m, scale=s))\n",
    "    px = np.sum(w * norm.pdf(y, loc=m, scale=s))\n",
    "    out = pjoint / px\n",
    "    return out"
   ]
  },
  {
   "cell_type": "code",
   "execution_count": 321,
   "id": "298c3091",
   "metadata": {},
   "outputs": [],
   "source": [
    "df = df_RF\n",
    "mu = df.mu.to_numpy()\n",
    "sigma = df.sigma.to_numpy()\n",
    "p = df.p.to_numpy()\n",
    "w = df.w.to_numpy()"
   ]
  },
  {
   "cell_type": "code",
   "execution_count": 322,
   "id": "43d07939",
   "metadata": {},
   "outputs": [
    {
     "data": {
      "text/plain": [
       "array([0.975, 0.99 , 0.95 , ..., 0.915, 0.99 , 0.3  ])"
      ]
     },
     "execution_count": 322,
     "metadata": {},
     "output_type": "execute_result"
    }
   ],
   "source": [
    "preds"
   ]
  },
  {
   "cell_type": "code",
   "execution_count": 323,
   "id": "b1724fb3",
   "metadata": {},
   "outputs": [],
   "source": [
    "def get_probs(preds, cl):\n",
    "    all_probs = np.array([])\n",
    "    for pred in preds:\n",
    "        prob = RF_direct_prob(pred, cl, w, p, mu, sigma)\n",
    "        all_probs = np.append(all_probs, prob)\n",
    "    return all_probs"
   ]
  },
  {
   "cell_type": "code",
   "execution_count": 324,
   "id": "52eebe5c",
   "metadata": {},
   "outputs": [
    {
     "data": {
      "text/plain": [
       "array([0.99767754, 0.99805904, 0.99571107, ..., 0.98845363, 0.99805904,\n",
       "       0.12030366])"
      ]
     },
     "execution_count": 324,
     "metadata": {},
     "output_type": "execute_result"
    }
   ],
   "source": [
    "all_probs_0 = get_probs(preds, 0)\n",
    "all_probs_0"
   ]
  },
  {
   "cell_type": "code",
   "execution_count": 18,
   "id": "3b952776",
   "metadata": {},
   "outputs": [
    {
     "data": {
      "text/plain": [
       "array([0.00215156, 0.00167142, 0.00406724, ..., 0.01116059, 0.00167142,\n",
       "       0.88031513])"
      ]
     },
     "execution_count": 18,
     "metadata": {},
     "output_type": "execute_result"
    }
   ],
   "source": [
    "all_probs_1 = np.array([])\n",
    "for pred in preds:\n",
    "    prob = RF_direct_prob(pred, 1, w, p, mu, sigma)\n",
    "    all_probs_1 = np.append(all_probs_1, prob)\n",
    "all_probs_1"
   ]
  },
  {
   "cell_type": "code",
   "execution_count": 341,
   "id": "da891329",
   "metadata": {},
   "outputs": [
    {
     "data": {
      "text/html": [
       "<div>\n",
       "<style scoped>\n",
       "    .dataframe tbody tr th:only-of-type {\n",
       "        vertical-align: middle;\n",
       "    }\n",
       "\n",
       "    .dataframe tbody tr th {\n",
       "        vertical-align: top;\n",
       "    }\n",
       "\n",
       "    .dataframe thead th {\n",
       "        text-align: right;\n",
       "    }\n",
       "</style>\n",
       "<table border=\"1\" class=\"dataframe\">\n",
       "  <thead>\n",
       "    <tr style=\"text-align: right;\">\n",
       "      <th></th>\n",
       "      <th>class</th>\n",
       "      <th>pred_0</th>\n",
       "      <th>prob_0</th>\n",
       "    </tr>\n",
       "  </thead>\n",
       "  <tbody>\n",
       "    <tr>\n",
       "      <th>0</th>\n",
       "      <td>0</td>\n",
       "      <td>0.975</td>\n",
       "      <td>0.997678</td>\n",
       "    </tr>\n",
       "    <tr>\n",
       "      <th>1</th>\n",
       "      <td>0</td>\n",
       "      <td>0.990</td>\n",
       "      <td>0.998059</td>\n",
       "    </tr>\n",
       "    <tr>\n",
       "      <th>2</th>\n",
       "      <td>0</td>\n",
       "      <td>0.950</td>\n",
       "      <td>0.995711</td>\n",
       "    </tr>\n",
       "    <tr>\n",
       "      <th>3</th>\n",
       "      <td>0</td>\n",
       "      <td>0.995</td>\n",
       "      <td>0.997517</td>\n",
       "    </tr>\n",
       "    <tr>\n",
       "      <th>4</th>\n",
       "      <td>1</td>\n",
       "      <td>0.105</td>\n",
       "      <td>0.093190</td>\n",
       "    </tr>\n",
       "    <tr>\n",
       "      <th>...</th>\n",
       "      <td>...</td>\n",
       "      <td>...</td>\n",
       "      <td>...</td>\n",
       "    </tr>\n",
       "    <tr>\n",
       "      <th>3583</th>\n",
       "      <td>1</td>\n",
       "      <td>0.150</td>\n",
       "      <td>0.097026</td>\n",
       "    </tr>\n",
       "    <tr>\n",
       "      <th>3584</th>\n",
       "      <td>0</td>\n",
       "      <td>0.995</td>\n",
       "      <td>0.997517</td>\n",
       "    </tr>\n",
       "    <tr>\n",
       "      <th>3585</th>\n",
       "      <td>0</td>\n",
       "      <td>0.915</td>\n",
       "      <td>0.988454</td>\n",
       "    </tr>\n",
       "    <tr>\n",
       "      <th>3586</th>\n",
       "      <td>0</td>\n",
       "      <td>0.990</td>\n",
       "      <td>0.998059</td>\n",
       "    </tr>\n",
       "    <tr>\n",
       "      <th>3587</th>\n",
       "      <td>1</td>\n",
       "      <td>0.300</td>\n",
       "      <td>0.120304</td>\n",
       "    </tr>\n",
       "  </tbody>\n",
       "</table>\n",
       "<p>3588 rows × 3 columns</p>\n",
       "</div>"
      ],
      "text/plain": [
       "      class  pred_0    prob_0\n",
       "0         0   0.975  0.997678\n",
       "1         0   0.990  0.998059\n",
       "2         0   0.950  0.995711\n",
       "3         0   0.995  0.997517\n",
       "4         1   0.105  0.093190\n",
       "...     ...     ...       ...\n",
       "3583      1   0.150  0.097026\n",
       "3584      0   0.995  0.997517\n",
       "3585      0   0.915  0.988454\n",
       "3586      0   0.990  0.998059\n",
       "3587      1   0.300  0.120304\n",
       "\n",
       "[3588 rows x 3 columns]"
      ]
     },
     "execution_count": 341,
     "metadata": {},
     "output_type": "execute_result"
    }
   ],
   "source": [
    "df_all = pd.DataFrame()\n",
    "df_all['class'] = df_test1['class'] \n",
    "df_all['pred_0'] = preds\n",
    "df_all['prob_0'] = all_probs_0\n",
    "#df_all['probs_class_1'] = all_probs_1\n",
    "df_all"
   ]
  },
  {
   "cell_type": "code",
   "execution_count": 20,
   "id": "b70c8f99",
   "metadata": {},
   "outputs": [
    {
     "data": {
      "text/html": [
       "<div>\n",
       "<style scoped>\n",
       "    .dataframe tbody tr th:only-of-type {\n",
       "        vertical-align: middle;\n",
       "    }\n",
       "\n",
       "    .dataframe tbody tr th {\n",
       "        vertical-align: top;\n",
       "    }\n",
       "\n",
       "    .dataframe thead th {\n",
       "        text-align: right;\n",
       "    }\n",
       "</style>\n",
       "<table border=\"1\" class=\"dataframe\">\n",
       "  <thead>\n",
       "    <tr style=\"text-align: right;\">\n",
       "      <th></th>\n",
       "      <th>class</th>\n",
       "      <th>preds</th>\n",
       "      <th>probs_class_0</th>\n",
       "      <th>probs_class_1</th>\n",
       "      <th>prediction</th>\n",
       "    </tr>\n",
       "  </thead>\n",
       "  <tbody>\n",
       "    <tr>\n",
       "      <th>0</th>\n",
       "      <td>0</td>\n",
       "      <td>0.975</td>\n",
       "      <td>0.997848</td>\n",
       "      <td>0.002152</td>\n",
       "      <td>0</td>\n",
       "    </tr>\n",
       "    <tr>\n",
       "      <th>1</th>\n",
       "      <td>0</td>\n",
       "      <td>0.990</td>\n",
       "      <td>0.998329</td>\n",
       "      <td>0.001671</td>\n",
       "      <td>0</td>\n",
       "    </tr>\n",
       "    <tr>\n",
       "      <th>2</th>\n",
       "      <td>0</td>\n",
       "      <td>0.950</td>\n",
       "      <td>0.995933</td>\n",
       "      <td>0.004067</td>\n",
       "      <td>0</td>\n",
       "    </tr>\n",
       "    <tr>\n",
       "      <th>3</th>\n",
       "      <td>0</td>\n",
       "      <td>0.995</td>\n",
       "      <td>0.998112</td>\n",
       "      <td>0.001888</td>\n",
       "      <td>0</td>\n",
       "    </tr>\n",
       "    <tr>\n",
       "      <th>4</th>\n",
       "      <td>1</td>\n",
       "      <td>0.105</td>\n",
       "      <td>0.092222</td>\n",
       "      <td>0.907778</td>\n",
       "      <td>1</td>\n",
       "    </tr>\n",
       "  </tbody>\n",
       "</table>\n",
       "</div>"
      ],
      "text/plain": [
       "   class  preds  probs_class_0  probs_class_1  prediction\n",
       "0      0  0.975       0.997848       0.002152           0\n",
       "1      0  0.990       0.998329       0.001671           0\n",
       "2      0  0.950       0.995933       0.004067           0\n",
       "3      0  0.995       0.998112       0.001888           0\n",
       "4      1  0.105       0.092222       0.907778           1"
      ]
     },
     "execution_count": 20,
     "metadata": {},
     "output_type": "execute_result"
    }
   ],
   "source": [
    "df_all['prediction'] = df_all['probs_class_1'] > 0.5\n",
    "df_all.prediction = df_all.prediction.to_numpy(dtype=int)\n",
    "df_all.head()"
   ]
  },
  {
   "cell_type": "code",
   "execution_count": 330,
   "id": "d27759d9",
   "metadata": {
    "scrolled": true
   },
   "outputs": [
    {
     "data": {
      "image/png": "[encoded data removed]",
      "text/plain": [
       "<Figure size 432x288 with 1 Axes>"
      ]
     },
     "metadata": {
      "needs_background": "light"
     },
     "output_type": "display_data"
    }
   ],
   "source": [
    "df_all.plot.scatter(x='preds_0', y='probs_0')\n",
    "plt.xlabel('RF % Output')\n",
    "plt.ylabel('probability of class 1')\n",
    "plt.xlim(0,1)\n",
    "plt.ylim(0,1)\n",
    "plt.grid()\n",
    "\n",
    "\n",
    "#plt.savefig('../dataset/RF_output.png')\n",
    "plt.show()"
   ]
  },
  {
   "cell_type": "markdown",
   "id": "85417d59",
   "metadata": {},
   "source": [
    "## Confusion matrix for original predictions"
   ]
  },
  {
   "cell_type": "code",
   "execution_count": 331,
   "id": "c5440cd0",
   "metadata": {},
   "outputs": [
    {
     "data": {
      "image/png": "[encoded data removed]",
      "text/plain": [
       "<Figure size 432x288 with 2 Axes>"
      ]
     },
     "metadata": {
      "needs_background": "light"
     },
     "output_type": "display_data"
    }
   ],
   "source": [
    "y = df_all['class'].to_numpy()\n",
    "y_pred = df_test1.predicted_class.to_numpy()\n",
    "cm = confusion_matrix(y, y_pred)\n",
    "f = sns.heatmap(cm, annot=True, fmt='d')\n",
    "plt.show()"
   ]
  },
  {
   "cell_type": "markdown",
   "id": "8df944b7",
   "metadata": {},
   "source": [
    "## Confusion matrix for corrected predictions"
   ]
  },
  {
   "cell_type": "code",
   "execution_count": 332,
   "id": "4290d2e4",
   "metadata": {},
   "outputs": [
    {
     "ename": "AttributeError",
     "evalue": "'DataFrame' object has no attribute 'prediction'",
     "output_type": "error",
     "traceback": [
      "\u001b[0;31m---------------------------------------------------------------------------\u001b[0m",
      "\u001b[0;31mAttributeError\u001b[0m                            Traceback (most recent call last)",
      "\u001b[0;32m/tmp/ipykernel_100510/486321277.py\u001b[0m in \u001b[0;36m<module>\u001b[0;34m\u001b[0m\n\u001b[1;32m      1\u001b[0m \u001b[0my\u001b[0m \u001b[0;34m=\u001b[0m \u001b[0mdf_all\u001b[0m\u001b[0;34m[\u001b[0m\u001b[0;34m'class'\u001b[0m\u001b[0;34m]\u001b[0m\u001b[0;34m.\u001b[0m\u001b[0mto_numpy\u001b[0m\u001b[0;34m(\u001b[0m\u001b[0;34m)\u001b[0m\u001b[0;34m\u001b[0m\u001b[0;34m\u001b[0m\u001b[0m\n\u001b[0;32m----> 2\u001b[0;31m \u001b[0my_pred\u001b[0m \u001b[0;34m=\u001b[0m \u001b[0mdf_all\u001b[0m\u001b[0;34m.\u001b[0m\u001b[0mprediction\u001b[0m\u001b[0;34m.\u001b[0m\u001b[0mto_numpy\u001b[0m\u001b[0;34m(\u001b[0m\u001b[0;34m)\u001b[0m\u001b[0;34m\u001b[0m\u001b[0;34m\u001b[0m\u001b[0m\n\u001b[0m\u001b[1;32m      3\u001b[0m \u001b[0mcm\u001b[0m \u001b[0;34m=\u001b[0m \u001b[0mconfusion_matrix\u001b[0m\u001b[0;34m(\u001b[0m\u001b[0my\u001b[0m\u001b[0;34m,\u001b[0m \u001b[0my_pred\u001b[0m\u001b[0;34m)\u001b[0m\u001b[0;34m\u001b[0m\u001b[0;34m\u001b[0m\u001b[0m\n\u001b[1;32m      4\u001b[0m \u001b[0mf\u001b[0m \u001b[0;34m=\u001b[0m \u001b[0msns\u001b[0m\u001b[0;34m.\u001b[0m\u001b[0mheatmap\u001b[0m\u001b[0;34m(\u001b[0m\u001b[0mcm\u001b[0m\u001b[0;34m,\u001b[0m \u001b[0mannot\u001b[0m\u001b[0;34m=\u001b[0m\u001b[0;32mTrue\u001b[0m\u001b[0;34m,\u001b[0m \u001b[0mfmt\u001b[0m\u001b[0;34m=\u001b[0m\u001b[0;34m'd'\u001b[0m\u001b[0;34m)\u001b[0m\u001b[0;34m\u001b[0m\u001b[0;34m\u001b[0m\u001b[0m\n\u001b[1;32m      5\u001b[0m \u001b[0mplt\u001b[0m\u001b[0;34m.\u001b[0m\u001b[0mshow\u001b[0m\u001b[0;34m(\u001b[0m\u001b[0;34m)\u001b[0m\u001b[0;34m\u001b[0m\u001b[0;34m\u001b[0m\u001b[0m\n",
      "\u001b[0;32m~/anaconda3/envs/fastai-drug/lib/python3.7/site-packages/pandas/core/generic.py\u001b[0m in \u001b[0;36m__getattr__\u001b[0;34m(self, name)\u001b[0m\n\u001b[1;32m   5485\u001b[0m         ):\n\u001b[1;32m   5486\u001b[0m             \u001b[0;32mreturn\u001b[0m \u001b[0mself\u001b[0m\u001b[0;34m[\u001b[0m\u001b[0mname\u001b[0m\u001b[0;34m]\u001b[0m\u001b[0;34m\u001b[0m\u001b[0;34m\u001b[0m\u001b[0m\n\u001b[0;32m-> 5487\u001b[0;31m         \u001b[0;32mreturn\u001b[0m \u001b[0mobject\u001b[0m\u001b[0;34m.\u001b[0m\u001b[0m__getattribute__\u001b[0m\u001b[0;34m(\u001b[0m\u001b[0mself\u001b[0m\u001b[0;34m,\u001b[0m \u001b[0mname\u001b[0m\u001b[0;34m)\u001b[0m\u001b[0;34m\u001b[0m\u001b[0;34m\u001b[0m\u001b[0m\n\u001b[0m\u001b[1;32m   5488\u001b[0m \u001b[0;34m\u001b[0m\u001b[0m\n\u001b[1;32m   5489\u001b[0m     \u001b[0;32mdef\u001b[0m \u001b[0m__setattr__\u001b[0m\u001b[0;34m(\u001b[0m\u001b[0mself\u001b[0m\u001b[0;34m,\u001b[0m \u001b[0mname\u001b[0m\u001b[0;34m:\u001b[0m \u001b[0mstr\u001b[0m\u001b[0;34m,\u001b[0m \u001b[0mvalue\u001b[0m\u001b[0;34m)\u001b[0m \u001b[0;34m->\u001b[0m \u001b[0;32mNone\u001b[0m\u001b[0;34m:\u001b[0m\u001b[0;34m\u001b[0m\u001b[0;34m\u001b[0m\u001b[0m\n",
      "\u001b[0;31mAttributeError\u001b[0m: 'DataFrame' object has no attribute 'prediction'"
     ]
    }
   ],
   "source": [
    "y = df_all['class'].to_numpy()\n",
    "y_pred = df_all.prediction.to_numpy()\n",
    "cm = confusion_matrix(y, y_pred)\n",
    "f = sns.heatmap(cm, annot=True, fmt='d')\n",
    "plt.show()"
   ]
  },
  {
   "cell_type": "code",
   "execution_count": 333,
   "id": "ef58193f",
   "metadata": {},
   "outputs": [],
   "source": [
    "df_all.to_csv(DATA/'RF_bayesian_prob_test1.csv', index=False)"
   ]
  },
  {
   "cell_type": "markdown",
   "id": "accbf4af",
   "metadata": {},
   "source": [
    "### same for test set 2"
   ]
  },
  {
   "cell_type": "code",
   "execution_count": 404,
   "id": "43496e34",
   "metadata": {},
   "outputs": [
    {
     "data": {
      "text/html": [
       "<div>\n",
       "<style scoped>\n",
       "    .dataframe tbody tr th:only-of-type {\n",
       "        vertical-align: middle;\n",
       "    }\n",
       "\n",
       "    .dataframe tbody tr th {\n",
       "        vertical-align: top;\n",
       "    }\n",
       "\n",
       "    .dataframe thead th {\n",
       "        text-align: right;\n",
       "    }\n",
       "</style>\n",
       "<table border=\"1\" class=\"dataframe\">\n",
       "  <thead>\n",
       "    <tr style=\"text-align: right;\">\n",
       "      <th></th>\n",
       "      <th>class</th>\n",
       "      <th>predictions</th>\n",
       "      <th>predicted_class</th>\n",
       "    </tr>\n",
       "  </thead>\n",
       "  <tbody>\n",
       "    <tr>\n",
       "      <th>0</th>\n",
       "      <td>0</td>\n",
       "      <td>[0.975 0.025]</td>\n",
       "      <td>0</td>\n",
       "    </tr>\n",
       "    <tr>\n",
       "      <th>1</th>\n",
       "      <td>0</td>\n",
       "      <td>[0.99 0.01]</td>\n",
       "      <td>0</td>\n",
       "    </tr>\n",
       "    <tr>\n",
       "      <th>2</th>\n",
       "      <td>0</td>\n",
       "      <td>[0.95 0.05]</td>\n",
       "      <td>0</td>\n",
       "    </tr>\n",
       "    <tr>\n",
       "      <th>3</th>\n",
       "      <td>0</td>\n",
       "      <td>[0.995 0.005]</td>\n",
       "      <td>0</td>\n",
       "    </tr>\n",
       "    <tr>\n",
       "      <th>4</th>\n",
       "      <td>1</td>\n",
       "      <td>[0.105 0.895]</td>\n",
       "      <td>1</td>\n",
       "    </tr>\n",
       "  </tbody>\n",
       "</table>\n",
       "</div>"
      ],
      "text/plain": [
       "   class    predictions  predicted_class\n",
       "0      0  [0.975 0.025]                0\n",
       "1      0    [0.99 0.01]                0\n",
       "2      0    [0.95 0.05]                0\n",
       "3      0  [0.995 0.005]                0\n",
       "4      1  [0.105 0.895]                1"
      ]
     },
     "execution_count": 404,
     "metadata": {},
     "output_type": "execute_result"
    }
   ],
   "source": [
    "df_test2 = pd.read_csv(f'{CHEMBL205}/CHEMBL205_predictions_RF_test2.csv')\n",
    "df_test2.head()"
   ]
  },
  {
   "cell_type": "code",
   "execution_count": 405,
   "id": "bd5ccbe1",
   "metadata": {},
   "outputs": [
    {
     "data": {
      "text/html": [
       "<div>\n",
       "<style scoped>\n",
       "    .dataframe tbody tr th:only-of-type {\n",
       "        vertical-align: middle;\n",
       "    }\n",
       "\n",
       "    .dataframe tbody tr th {\n",
       "        vertical-align: top;\n",
       "    }\n",
       "\n",
       "    .dataframe thead th {\n",
       "        text-align: right;\n",
       "    }\n",
       "</style>\n",
       "<table border=\"1\" class=\"dataframe\">\n",
       "  <thead>\n",
       "    <tr style=\"text-align: right;\">\n",
       "      <th></th>\n",
       "      <th>class</th>\n",
       "      <th>predictions</th>\n",
       "      <th>predicted_class</th>\n",
       "      <th>preds</th>\n",
       "      <th>pred_0</th>\n",
       "    </tr>\n",
       "  </thead>\n",
       "  <tbody>\n",
       "    <tr>\n",
       "      <th>0</th>\n",
       "      <td>0</td>\n",
       "      <td>[0.975 0.025]</td>\n",
       "      <td>0</td>\n",
       "      <td>[0.975, 0.025]</td>\n",
       "      <td>0.975</td>\n",
       "    </tr>\n",
       "    <tr>\n",
       "      <th>1</th>\n",
       "      <td>0</td>\n",
       "      <td>[0.99 0.01]</td>\n",
       "      <td>0</td>\n",
       "      <td>[0.99, 0.01]</td>\n",
       "      <td>0.990</td>\n",
       "    </tr>\n",
       "    <tr>\n",
       "      <th>2</th>\n",
       "      <td>0</td>\n",
       "      <td>[0.95 0.05]</td>\n",
       "      <td>0</td>\n",
       "      <td>[0.95, 0.05]</td>\n",
       "      <td>0.950</td>\n",
       "    </tr>\n",
       "    <tr>\n",
       "      <th>3</th>\n",
       "      <td>0</td>\n",
       "      <td>[0.995 0.005]</td>\n",
       "      <td>0</td>\n",
       "      <td>[0.995, 0.005]</td>\n",
       "      <td>0.995</td>\n",
       "    </tr>\n",
       "    <tr>\n",
       "      <th>4</th>\n",
       "      <td>1</td>\n",
       "      <td>[0.105 0.895]</td>\n",
       "      <td>1</td>\n",
       "      <td>[0.105, 0.895]</td>\n",
       "      <td>0.105</td>\n",
       "    </tr>\n",
       "  </tbody>\n",
       "</table>\n",
       "</div>"
      ],
      "text/plain": [
       "   class    predictions  predicted_class           preds  pred_0\n",
       "0      0  [0.975 0.025]                0  [0.975, 0.025]   0.975\n",
       "1      0    [0.99 0.01]                0    [0.99, 0.01]   0.990\n",
       "2      0    [0.95 0.05]                0    [0.95, 0.05]   0.950\n",
       "3      0  [0.995 0.005]                0  [0.995, 0.005]   0.995\n",
       "4      1  [0.105 0.895]                1  [0.105, 0.895]   0.105"
      ]
     },
     "execution_count": 405,
     "metadata": {},
     "output_type": "execute_result"
    }
   ],
   "source": [
    "df_test2['preds'] = [get_substring_list(r['predictions'].split(' '))  for i, r in df_test2.iterrows()] # str to list\n",
    "df_test2['pred_0'] = [r['preds'][0] for i, r in df_test2.iterrows()]\n",
    "df_test2.head()"
   ]
  },
  {
   "cell_type": "code",
   "execution_count": 406,
   "id": "5ef78784",
   "metadata": {},
   "outputs": [
    {
     "data": {
      "text/html": [
       "<div>\n",
       "<style scoped>\n",
       "    .dataframe tbody tr th:only-of-type {\n",
       "        vertical-align: middle;\n",
       "    }\n",
       "\n",
       "    .dataframe tbody tr th {\n",
       "        vertical-align: top;\n",
       "    }\n",
       "\n",
       "    .dataframe thead th {\n",
       "        text-align: right;\n",
       "    }\n",
       "</style>\n",
       "<table border=\"1\" class=\"dataframe\">\n",
       "  <thead>\n",
       "    <tr style=\"text-align: right;\">\n",
       "      <th></th>\n",
       "      <th>class</th>\n",
       "      <th>predicted_class</th>\n",
       "      <th>pred_0</th>\n",
       "    </tr>\n",
       "  </thead>\n",
       "  <tbody>\n",
       "    <tr>\n",
       "      <th>0</th>\n",
       "      <td>0</td>\n",
       "      <td>0</td>\n",
       "      <td>0.975</td>\n",
       "    </tr>\n",
       "    <tr>\n",
       "      <th>1</th>\n",
       "      <td>0</td>\n",
       "      <td>0</td>\n",
       "      <td>0.990</td>\n",
       "    </tr>\n",
       "    <tr>\n",
       "      <th>2</th>\n",
       "      <td>0</td>\n",
       "      <td>0</td>\n",
       "      <td>0.950</td>\n",
       "    </tr>\n",
       "    <tr>\n",
       "      <th>3</th>\n",
       "      <td>0</td>\n",
       "      <td>0</td>\n",
       "      <td>0.995</td>\n",
       "    </tr>\n",
       "    <tr>\n",
       "      <th>4</th>\n",
       "      <td>1</td>\n",
       "      <td>1</td>\n",
       "      <td>0.105</td>\n",
       "    </tr>\n",
       "  </tbody>\n",
       "</table>\n",
       "</div>"
      ],
      "text/plain": [
       "   class  predicted_class  pred_0\n",
       "0      0                0   0.975\n",
       "1      0                0   0.990\n",
       "2      0                0   0.950\n",
       "3      0                0   0.995\n",
       "4      1                1   0.105"
      ]
     },
     "execution_count": 406,
     "metadata": {},
     "output_type": "execute_result"
    }
   ],
   "source": [
    "df_test2 = df_test2.drop(columns=['predictions', 'preds'])\n",
    "df_test2.head()"
   ]
  },
  {
   "cell_type": "code",
   "execution_count": 407,
   "id": "04f4897c",
   "metadata": {},
   "outputs": [],
   "source": [
    "preds = df_test2.pred_0"
   ]
  },
  {
   "cell_type": "code",
   "execution_count": 408,
   "id": "c7775639",
   "metadata": {},
   "outputs": [
    {
     "data": {
      "text/plain": [
       "array([0.99767754, 0.99805904, 0.99571107, ..., 0.99805904, 0.12030366,\n",
       "       0.99767754])"
      ]
     },
     "execution_count": 408,
     "metadata": {},
     "output_type": "execute_result"
    }
   ],
   "source": [
    "probs_0 = get_probs(preds, 0)\n",
    "probs_0"
   ]
  },
  {
   "cell_type": "code",
   "execution_count": 409,
   "id": "9e19b15f",
   "metadata": {},
   "outputs": [
    {
     "data": {
      "text/html": [
       "<div>\n",
       "<style scoped>\n",
       "    .dataframe tbody tr th:only-of-type {\n",
       "        vertical-align: middle;\n",
       "    }\n",
       "\n",
       "    .dataframe tbody tr th {\n",
       "        vertical-align: top;\n",
       "    }\n",
       "\n",
       "    .dataframe thead th {\n",
       "        text-align: right;\n",
       "    }\n",
       "</style>\n",
       "<table border=\"1\" class=\"dataframe\">\n",
       "  <thead>\n",
       "    <tr style=\"text-align: right;\">\n",
       "      <th></th>\n",
       "      <th>class</th>\n",
       "      <th>predicted_class</th>\n",
       "      <th>pred_0</th>\n",
       "      <th>prob_0</th>\n",
       "    </tr>\n",
       "  </thead>\n",
       "  <tbody>\n",
       "    <tr>\n",
       "      <th>0</th>\n",
       "      <td>0</td>\n",
       "      <td>0</td>\n",
       "      <td>0.975</td>\n",
       "      <td>0.997678</td>\n",
       "    </tr>\n",
       "    <tr>\n",
       "      <th>1</th>\n",
       "      <td>0</td>\n",
       "      <td>0</td>\n",
       "      <td>0.990</td>\n",
       "      <td>0.998059</td>\n",
       "    </tr>\n",
       "    <tr>\n",
       "      <th>2</th>\n",
       "      <td>0</td>\n",
       "      <td>0</td>\n",
       "      <td>0.950</td>\n",
       "      <td>0.995711</td>\n",
       "    </tr>\n",
       "    <tr>\n",
       "      <th>3</th>\n",
       "      <td>0</td>\n",
       "      <td>0</td>\n",
       "      <td>0.995</td>\n",
       "      <td>0.997517</td>\n",
       "    </tr>\n",
       "    <tr>\n",
       "      <th>4</th>\n",
       "      <td>1</td>\n",
       "      <td>1</td>\n",
       "      <td>0.105</td>\n",
       "      <td>0.093190</td>\n",
       "    </tr>\n",
       "  </tbody>\n",
       "</table>\n",
       "</div>"
      ],
      "text/plain": [
       "   class  predicted_class  pred_0    prob_0\n",
       "0      0                0   0.975  0.997678\n",
       "1      0                0   0.990  0.998059\n",
       "2      0                0   0.950  0.995711\n",
       "3      0                0   0.995  0.997517\n",
       "4      1                1   0.105  0.093190"
      ]
     },
     "execution_count": 409,
     "metadata": {},
     "output_type": "execute_result"
    }
   ],
   "source": [
    "df_test2['prob_0'] = probs_0\n",
    "df_test2.head()"
   ]
  },
  {
   "cell_type": "code",
   "execution_count": 410,
   "id": "36a3da42",
   "metadata": {},
   "outputs": [],
   "source": [
    "df_test2.to_csv(DATA/'RF_bayesian_prob_test2.csv', index=False) # save bayesian probabilites as csv"
   ]
  },
  {
   "cell_type": "code",
   "execution_count": 414,
   "id": "9f7ba9b5",
   "metadata": {},
   "outputs": [
    {
     "data": {
      "text/html": [
       "<div>\n",
       "<style scoped>\n",
       "    .dataframe tbody tr th:only-of-type {\n",
       "        vertical-align: middle;\n",
       "    }\n",
       "\n",
       "    .dataframe tbody tr th {\n",
       "        vertical-align: top;\n",
       "    }\n",
       "\n",
       "    .dataframe thead th {\n",
       "        text-align: right;\n",
       "    }\n",
       "</style>\n",
       "<table border=\"1\" class=\"dataframe\">\n",
       "  <thead>\n",
       "    <tr style=\"text-align: right;\">\n",
       "      <th></th>\n",
       "      <th>class</th>\n",
       "      <th>predicted_class</th>\n",
       "      <th>pred_0</th>\n",
       "      <th>prob_0</th>\n",
       "    </tr>\n",
       "  </thead>\n",
       "  <tbody>\n",
       "    <tr>\n",
       "      <th>1479</th>\n",
       "      <td>1</td>\n",
       "      <td>0</td>\n",
       "      <td>0.5</td>\n",
       "      <td>0.199707</td>\n",
       "    </tr>\n",
       "    <tr>\n",
       "      <th>1658</th>\n",
       "      <td>1</td>\n",
       "      <td>0</td>\n",
       "      <td>0.5</td>\n",
       "      <td>0.199707</td>\n",
       "    </tr>\n",
       "    <tr>\n",
       "      <th>2165</th>\n",
       "      <td>1</td>\n",
       "      <td>0</td>\n",
       "      <td>0.5</td>\n",
       "      <td>0.199707</td>\n",
       "    </tr>\n",
       "  </tbody>\n",
       "</table>\n",
       "</div>"
      ],
      "text/plain": [
       "      class  predicted_class  pred_0    prob_0\n",
       "1479      1                0     0.5  0.199707\n",
       "1658      1                0     0.5  0.199707\n",
       "2165      1                0     0.5  0.199707"
      ]
     },
     "execution_count": 414,
     "metadata": {},
     "output_type": "execute_result"
    }
   ],
   "source": [
    "arr = df_test2[df_test2['pred_0'] == 0.5]\n",
    "arr = arr[arr['predicted_class'] == 0]\n",
    "arr"
   ]
  },
  {
   "cell_type": "code",
   "execution_count": 8,
   "id": "bb569dc1",
   "metadata": {},
   "outputs": [],
   "source": [
    "def choose_class(x, um):\n",
    "    \"\"\"\n",
    "    x = either one number between 0-1, or a (normalized) vector of probabilities\n",
    "        if it's one number then we are in a binary classification case\n",
    "        and x is the probability of CLASS 0\n",
    "    um = utility matrix in the format [[T0,F0],[F1,T1]]\n",
    "    \"\"\"\n",
    "    if type(x) == float or type(x) == np.float64: # x is float and is the probability of class 0\n",
    "        x = np.array([x])\n",
    "        x = np.concatenate((x, 1-x)) # transform into prob. vector\n",
    "    um = np.array(um)\n",
    "    utilities = np.matmul(um, x)\n",
    "    cl = np.argmax(utilities)\n",
    "    return cl"
   ]
  },
  {
   "cell_type": "code",
   "execution_count": 64,
   "id": "bb792062",
   "metadata": {},
   "outputs": [],
   "source": [
    "um = np.array([[1, -1], [0, 1]])"
   ]
  },
  {
   "cell_type": "code",
   "execution_count": 131,
   "id": "9344e2d3",
   "metadata": {},
   "outputs": [
    {
     "data": {
      "text/plain": [
       "1"
      ]
     },
     "execution_count": 131,
     "metadata": {},
     "output_type": "execute_result"
    }
   ],
   "source": [
    "c = choose_class(0.6, um)\n",
    "c"
   ]
  },
  {
   "cell_type": "code",
   "execution_count": 112,
   "id": "3731f205",
   "metadata": {},
   "outputs": [
    {
     "data": {
      "text/plain": [
       "0"
      ]
     },
     "execution_count": 112,
     "metadata": {},
     "output_type": "execute_result"
    }
   ],
   "source": [
    "cl = np.argmax(utilities)\n",
    "cl"
   ]
  },
  {
   "cell_type": "markdown",
   "id": "f0f18979",
   "metadata": {},
   "source": [
    "## Test score for regular probability and bayesian probability from utility matrix"
   ]
  },
  {
   "cell_type": "code",
   "execution_count": 150,
   "id": "2eb9c29a",
   "metadata": {},
   "outputs": [
    {
     "data": {
      "text/html": [
       "<div>\n",
       "<style scoped>\n",
       "    .dataframe tbody tr th:only-of-type {\n",
       "        vertical-align: middle;\n",
       "    }\n",
       "\n",
       "    .dataframe tbody tr th {\n",
       "        vertical-align: top;\n",
       "    }\n",
       "\n",
       "    .dataframe thead th {\n",
       "        text-align: right;\n",
       "    }\n",
       "</style>\n",
       "<table border=\"1\" class=\"dataframe\">\n",
       "  <thead>\n",
       "    <tr style=\"text-align: right;\">\n",
       "      <th></th>\n",
       "      <th>class</th>\n",
       "      <th>pred_0</th>\n",
       "      <th>prob_0</th>\n",
       "    </tr>\n",
       "  </thead>\n",
       "  <tbody>\n",
       "    <tr>\n",
       "      <th>0</th>\n",
       "      <td>0</td>\n",
       "      <td>0.975</td>\n",
       "      <td>0.997848</td>\n",
       "    </tr>\n",
       "    <tr>\n",
       "      <th>1</th>\n",
       "      <td>0</td>\n",
       "      <td>0.990</td>\n",
       "      <td>0.998329</td>\n",
       "    </tr>\n",
       "    <tr>\n",
       "      <th>2</th>\n",
       "      <td>0</td>\n",
       "      <td>0.950</td>\n",
       "      <td>0.995933</td>\n",
       "    </tr>\n",
       "    <tr>\n",
       "      <th>3</th>\n",
       "      <td>0</td>\n",
       "      <td>0.995</td>\n",
       "      <td>0.998112</td>\n",
       "    </tr>\n",
       "    <tr>\n",
       "      <th>4</th>\n",
       "      <td>1</td>\n",
       "      <td>0.105</td>\n",
       "      <td>0.092222</td>\n",
       "    </tr>\n",
       "  </tbody>\n",
       "</table>\n",
       "</div>"
      ],
      "text/plain": [
       "   class  pred_0    prob_0\n",
       "0      0   0.975  0.997848\n",
       "1      0   0.990  0.998329\n",
       "2      0   0.950  0.995933\n",
       "3      0   0.995  0.998112\n",
       "4      1   0.105  0.092222"
      ]
     },
     "execution_count": 150,
     "metadata": {},
     "output_type": "execute_result"
    }
   ],
   "source": [
    "df_test2.head() # actual class, prediction from RF, bayesian corrected probability "
   ]
  },
  {
   "cell_type": "markdown",
   "id": "bf6b5936",
   "metadata": {},
   "source": [
    "### We need to calculate each class chosen with the same utility matrix and then compare"
   ]
  },
  {
   "cell_type": "code",
   "execution_count": 289,
   "id": "7a2eb49b",
   "metadata": {},
   "outputs": [
    {
     "data": {
      "text/html": [
       "\n",
       "        <iframe\n",
       "            width=\"1000\"\n",
       "            height=\"600\"\n",
       "            src=\"../dataset/probabilities/comparison_schema.pdf\"\n",
       "            frameborder=\"0\"\n",
       "            allowfullscreen\n",
       "            \n",
       "        ></iframe>\n",
       "        "
      ],
      "text/plain": [
       "<IPython.lib.display.IFrame at 0x7f7a6a642090>"
      ]
     },
     "execution_count": 289,
     "metadata": {},
     "output_type": "execute_result"
    }
   ],
   "source": [
    "from IPython.display import IFrame\n",
    "IFrame(DATA/'comparison_schema.pdf', width=1000, height=600)"
   ]
  },
  {
   "cell_type": "code",
   "execution_count": 40,
   "id": "c84f03cf",
   "metadata": {},
   "outputs": [],
   "source": [
    "''' \n",
    "Utility matrix format: \n",
    "    [[TN, FN],\n",
    "     [FP, TP]]\n",
    "'''\n",
    "um = np.array([[1, -1], [0, 1]])"
   ]
  },
  {
   "cell_type": "code",
   "execution_count": 61,
   "id": "e87fd2b3",
   "metadata": {},
   "outputs": [
    {
     "data": {
      "text/plain": [
       "array([0.975, 0.99 , 0.95 , ..., 0.99 , 0.3  , 0.975])"
      ]
     },
     "execution_count": 61,
     "metadata": {},
     "output_type": "execute_result"
    }
   ],
   "source": [
    "xs = df_test2['pred_0'].to_numpy()\n",
    "xs"
   ]
  },
  {
   "cell_type": "code",
   "execution_count": 76,
   "id": "35bfe0a2",
   "metadata": {},
   "outputs": [
    {
     "data": {
      "text/html": [
       "<div>\n",
       "<style scoped>\n",
       "    .dataframe tbody tr th:only-of-type {\n",
       "        vertical-align: middle;\n",
       "    }\n",
       "\n",
       "    .dataframe tbody tr th {\n",
       "        vertical-align: top;\n",
       "    }\n",
       "\n",
       "    .dataframe thead th {\n",
       "        text-align: right;\n",
       "    }\n",
       "</style>\n",
       "<table border=\"1\" class=\"dataframe\">\n",
       "  <thead>\n",
       "    <tr style=\"text-align: right;\">\n",
       "      <th></th>\n",
       "      <th>class</th>\n",
       "      <th>pred_0</th>\n",
       "      <th>prob_0</th>\n",
       "      <th>ut_class_prob_0</th>\n",
       "      <th>class_pred_0</th>\n",
       "    </tr>\n",
       "  </thead>\n",
       "  <tbody>\n",
       "    <tr>\n",
       "      <th>0</th>\n",
       "      <td>0</td>\n",
       "      <td>0.975</td>\n",
       "      <td>0.997848</td>\n",
       "      <td>0</td>\n",
       "      <td>0</td>\n",
       "    </tr>\n",
       "    <tr>\n",
       "      <th>1</th>\n",
       "      <td>0</td>\n",
       "      <td>0.990</td>\n",
       "      <td>0.998329</td>\n",
       "      <td>0</td>\n",
       "      <td>0</td>\n",
       "    </tr>\n",
       "    <tr>\n",
       "      <th>2</th>\n",
       "      <td>0</td>\n",
       "      <td>0.950</td>\n",
       "      <td>0.995933</td>\n",
       "      <td>0</td>\n",
       "      <td>0</td>\n",
       "    </tr>\n",
       "    <tr>\n",
       "      <th>3</th>\n",
       "      <td>0</td>\n",
       "      <td>0.995</td>\n",
       "      <td>0.998112</td>\n",
       "      <td>0</td>\n",
       "      <td>0</td>\n",
       "    </tr>\n",
       "    <tr>\n",
       "      <th>4</th>\n",
       "      <td>1</td>\n",
       "      <td>0.105</td>\n",
       "      <td>0.092222</td>\n",
       "      <td>1</td>\n",
       "      <td>1</td>\n",
       "    </tr>\n",
       "  </tbody>\n",
       "</table>\n",
       "</div>"
      ],
      "text/plain": [
       "   class  pred_0    prob_0  ut_class_prob_0  class_pred_0\n",
       "0      0   0.975  0.997848                0             0\n",
       "1      0   0.990  0.998329                0             0\n",
       "2      0   0.950  0.995933                0             0\n",
       "3      0   0.995  0.998112                0             0\n",
       "4      1   0.105  0.092222                1             1"
      ]
     },
     "execution_count": 76,
     "metadata": {},
     "output_type": "execute_result"
    }
   ],
   "source": [
    "df_test2['class_pred_0'] = np.array(df_test2['pred_0'] < 0.5, dtype=int)\n",
    "df_test2.head()"
   ]
  },
  {
   "cell_type": "code",
   "execution_count": 43,
   "id": "0dd58c4c",
   "metadata": {},
   "outputs": [
    {
     "data": {
      "text/html": [
       "<div>\n",
       "<style scoped>\n",
       "    .dataframe tbody tr th:only-of-type {\n",
       "        vertical-align: middle;\n",
       "    }\n",
       "\n",
       "    .dataframe tbody tr th {\n",
       "        vertical-align: top;\n",
       "    }\n",
       "\n",
       "    .dataframe thead th {\n",
       "        text-align: right;\n",
       "    }\n",
       "</style>\n",
       "<table border=\"1\" class=\"dataframe\">\n",
       "  <thead>\n",
       "    <tr style=\"text-align: right;\">\n",
       "      <th></th>\n",
       "      <th>class</th>\n",
       "      <th>pred_0</th>\n",
       "      <th>prob_0</th>\n",
       "      <th>ut_class_pred_0</th>\n",
       "      <th>ut_class_prob_0</th>\n",
       "    </tr>\n",
       "  </thead>\n",
       "  <tbody>\n",
       "    <tr>\n",
       "      <th>0</th>\n",
       "      <td>0</td>\n",
       "      <td>0.975</td>\n",
       "      <td>0.997848</td>\n",
       "      <td>0</td>\n",
       "      <td>0</td>\n",
       "    </tr>\n",
       "    <tr>\n",
       "      <th>1</th>\n",
       "      <td>0</td>\n",
       "      <td>0.990</td>\n",
       "      <td>0.998329</td>\n",
       "      <td>0</td>\n",
       "      <td>0</td>\n",
       "    </tr>\n",
       "    <tr>\n",
       "      <th>2</th>\n",
       "      <td>0</td>\n",
       "      <td>0.950</td>\n",
       "      <td>0.995933</td>\n",
       "      <td>0</td>\n",
       "      <td>0</td>\n",
       "    </tr>\n",
       "    <tr>\n",
       "      <th>3</th>\n",
       "      <td>0</td>\n",
       "      <td>0.995</td>\n",
       "      <td>0.998112</td>\n",
       "      <td>0</td>\n",
       "      <td>0</td>\n",
       "    </tr>\n",
       "    <tr>\n",
       "      <th>4</th>\n",
       "      <td>1</td>\n",
       "      <td>0.105</td>\n",
       "      <td>0.092222</td>\n",
       "      <td>1</td>\n",
       "      <td>1</td>\n",
       "    </tr>\n",
       "  </tbody>\n",
       "</table>\n",
       "</div>"
      ],
      "text/plain": [
       "   class  pred_0    prob_0  ut_class_pred_0  ut_class_prob_0\n",
       "0      0   0.975  0.997848                0                0\n",
       "1      0   0.990  0.998329                0                0\n",
       "2      0   0.950  0.995933                0                0\n",
       "3      0   0.995  0.998112                0                0\n",
       "4      1   0.105  0.092222                1                1"
      ]
     },
     "execution_count": 43,
     "metadata": {},
     "output_type": "execute_result"
    }
   ],
   "source": [
    "df_test2['ut_class_prob_0'] = [choose_class(r['prob_0'], um) for i, r  in df_test2.iterrows()]\n",
    "df_test2.head()"
   ]
  },
  {
   "cell_type": "markdown",
   "id": "261b7f39",
   "metadata": {},
   "source": [
    "### Check confusion matrix for the 2 outputs from the utility matrix"
   ]
  },
  {
   "cell_type": "code",
   "execution_count": 9,
   "id": "93ce6c26",
   "metadata": {},
   "outputs": [],
   "source": [
    "def get_total_cost (um, cm):\n",
    "    if um.max() > 1: # highest number in utility matrix == 1\n",
    "        um /= np.abs(um).max()\n",
    "    s = um * cm\n",
    "    s = s.sum()\n",
    "    return s"
   ]
  },
  {
   "cell_type": "code",
   "execution_count": 100,
   "id": "840cf903",
   "metadata": {},
   "outputs": [],
   "source": [
    "''' \n",
    "Utility matrix format: \n",
    "    [[TN, FN],\n",
    "     [FP, TP]]\n",
    "'''\n",
    "um = np.array([[1, 0], [-1, 1]])"
   ]
  },
  {
   "cell_type": "code",
   "execution_count": 107,
   "id": "031b1e1d",
   "metadata": {},
   "outputs": [
    {
     "name": "stdout",
     "output_type": "stream",
     "text": [
      "Confusion matrix for RF output:\n"
     ]
    },
    {
     "data": {
      "image/png": "[encoded data removed]",
      "text/plain": [
       "<Figure size 432x288 with 2 Axes>"
      ]
     },
     "metadata": {
      "needs_background": "light"
     },
     "output_type": "display_data"
    }
   ],
   "source": [
    "# Confusion matrix for RF output\n",
    "y = df_test2['class'].to_numpy()\n",
    "y_pred = df_test2['class_pred_0'].to_numpy()\n",
    "cm = confusion_matrix(y, y_pred)\n",
    "f = sns.heatmap(cm, annot=True, fmt='d')\n",
    "print('Confusion matrix for RF output:')\n",
    "plt.show()"
   ]
  },
  {
   "cell_type": "code",
   "execution_count": 108,
   "id": "7f9e7a6f",
   "metadata": {},
   "outputs": [
    {
     "name": "stdout",
     "output_type": "stream",
     "text": [
      "Total gains/loss for confusion matrix above: 3384\n"
     ]
    }
   ],
   "source": [
    "cost = get_total_cost(um, cm)\n",
    "print(f'Total gains/loss for confusion matrix above: {cost}')"
   ]
  },
  {
   "cell_type": "code",
   "execution_count": 109,
   "id": "33b6fb57",
   "metadata": {
    "scrolled": true
   },
   "outputs": [
    {
     "name": "stdout",
     "output_type": "stream",
     "text": [
      "Confusion matrix for bayesian probability output combined with utility matrix:\n"
     ]
    },
    {
     "data": {
      "image/png": "[encoded data removed]",
      "text/plain": [
       "<Figure size 432x288 with 2 Axes>"
      ]
     },
     "metadata": {
      "needs_background": "light"
     },
     "output_type": "display_data"
    }
   ],
   "source": [
    "# Confusion matrix for bayesian probability output combined with utility matrix\n",
    "y = df_test2['class'].to_numpy()\n",
    "y_pred = df_test2['ut_class_prob_0'].to_numpy()\n",
    "cm = confusion_matrix(y, y_pred)\n",
    "f = sns.heatmap(cm, annot=True, fmt='d')\n",
    "print('Confusion matrix for bayesian probability output combined with utility matrix:')\n",
    "plt.show()"
   ]
  },
  {
   "cell_type": "code",
   "execution_count": 110,
   "id": "405bc90d",
   "metadata": {},
   "outputs": [
    {
     "name": "stdout",
     "output_type": "stream",
     "text": [
      "Total gains/loss for confusion matrix above: 3460\n"
     ]
    }
   ],
   "source": [
    "cost = get_total_cost(um, cm)\n",
    "print(f'Total gains/loss for confusion matrix above: {cost}')"
   ]
  },
  {
   "cell_type": "markdown",
   "id": "b4d2b5cd",
   "metadata": {},
   "source": [
    "# Decision theory"
   ]
  },
  {
   "cell_type": "markdown",
   "id": "4aa73e78",
   "metadata": {},
   "source": [
    "### Test an example with gains/losses"
   ]
  },
  {
   "cell_type": "code",
   "execution_count": 54,
   "id": "c19ef068",
   "metadata": {},
   "outputs": [
    {
     "data": {
      "text/plain": [
       "tensor([[ 15., -80.],\n",
       "        [ -1.,   0.]], dtype=torch.float64)"
      ]
     },
     "execution_count": 54,
     "metadata": {},
     "output_type": "execute_result"
    }
   ],
   "source": [
    "''' \n",
    "Utility matrix format: \n",
    "    [[TN, FN],\n",
    "     [FP, TP]]\n",
    "'''\n",
    "M = np.array([[15,-80],\n",
    "              [-1,0]], dtype=float)\n",
    "#M /= np.abs(M).max()\n",
    "M = torch.from_numpy(M)\n",
    "M = M.to(torch.float64)\n",
    "M"
   ]
  },
  {
   "cell_type": "code",
   "execution_count": 55,
   "id": "a4035eea",
   "metadata": {},
   "outputs": [],
   "source": [
    "test1 = np.array([[0.18, 0.02], [0.32, 0.48]], dtype=np.float64)\n",
    "test2 = np.array([[0.16, 0.04], [0.08, 0.72]], dtype=np.float64)"
   ]
  },
  {
   "cell_type": "code",
   "execution_count": 56,
   "id": "7561396e",
   "metadata": {},
   "outputs": [],
   "source": [
    "res1 = M * test1\n",
    "res2 = M * test2"
   ]
  },
  {
   "cell_type": "code",
   "execution_count": 57,
   "id": "d4515d40",
   "metadata": {},
   "outputs": [
    {
     "name": "stdout",
     "output_type": "stream",
     "text": [
      "Gains from algorithms:\n",
      "#1 0.78, #2 -0.88\n"
     ]
    }
   ],
   "source": [
    "sum1, sum2 = res1.sum(), res2.sum()\n",
    "print('Gains from algorithms:')\n",
    "print(f'#1 {sum1:.2f}, #2 {sum2:.2f}')"
   ]
  },
  {
   "cell_type": "markdown",
   "id": "a181a1a8",
   "metadata": {},
   "source": [
    "### Create a function for a utility matrix with cost for each case (TN, FP, FN, TP)"
   ]
  },
  {
   "cell_type": "code",
   "execution_count": 154,
   "id": "563cfaa2",
   "metadata": {},
   "outputs": [],
   "source": [
    "utility = np.array([[10, -1], [-10, 1]], dtype=np.float64)"
   ]
  },
  {
   "cell_type": "code",
   "execution_count": 139,
   "id": "fd085438",
   "metadata": {},
   "outputs": [],
   "source": [
    "def get_expected_cost (um, m):\n",
    "    if um.max() > 1:\n",
    "        if m.max() > 1:\n",
    "            um /= np.abs(um).max()\n",
    "    s = um * m\n",
    "    s1 = s[0].sum()\n",
    "    s2 = s[1].sum()\n",
    "    return [s1, s2]"
   ]
  },
  {
   "cell_type": "code",
   "execution_count": 7,
   "id": "0b4d573c",
   "metadata": {},
   "outputs": [],
   "source": [
    "def get_expected_cost (um, m):\n",
    "    m = np.array(m)\n",
    "    if um.max() > 1:\n",
    "        if m.max() > 1:\n",
    "            um /= np.abs(um).max()\n",
    "    s1 = um[0] * m\n",
    "    s2 = um[1] * m\n",
    "    s1 = s1.sum()\n",
    "    s2 = s2.sum()\n",
    "    return [s1, s2]"
   ]
  },
  {
   "cell_type": "code",
   "execution_count": 122,
   "id": "5ea85ad2",
   "metadata": {},
   "outputs": [
    {
     "data": {
      "text/plain": [
       "array([[3231,   31],\n",
       "       [  87,  239]])"
      ]
     },
     "execution_count": 122,
     "metadata": {},
     "output_type": "execute_result"
    }
   ],
   "source": [
    "cm = confusion_matrix(y, y_pred)\n",
    "cm"
   ]
  },
  {
   "cell_type": "code",
   "execution_count": 146,
   "id": "deaf9983",
   "metadata": {},
   "outputs": [
    {
     "data": {
      "text/plain": [
       "326.0"
      ]
     },
     "execution_count": 146,
     "metadata": {},
     "output_type": "execute_result"
    }
   ],
   "source": [
    "cost = get_cost(utility, cm[1])\n",
    "cost"
   ]
  },
  {
   "cell_type": "code",
   "execution_count": 141,
   "id": "0254997b",
   "metadata": {},
   "outputs": [
    {
     "data": {
      "text/plain": [
       "[3231.0, 239.0]"
      ]
     },
     "execution_count": 141,
     "metadata": {},
     "output_type": "execute_result"
    }
   ],
   "source": [
    "c = get_expected_cost(utility, cm)\n",
    "c"
   ]
  },
  {
   "cell_type": "code",
   "execution_count": 163,
   "id": "8c9a3cae",
   "metadata": {},
   "outputs": [
    {
     "data": {
      "text/html": [
       "<div>\n",
       "<style scoped>\n",
       "    .dataframe tbody tr th:only-of-type {\n",
       "        vertical-align: middle;\n",
       "    }\n",
       "\n",
       "    .dataframe tbody tr th {\n",
       "        vertical-align: top;\n",
       "    }\n",
       "\n",
       "    .dataframe thead th {\n",
       "        text-align: right;\n",
       "    }\n",
       "</style>\n",
       "<table border=\"1\" class=\"dataframe\">\n",
       "  <thead>\n",
       "    <tr style=\"text-align: right;\">\n",
       "      <th></th>\n",
       "      <th>class</th>\n",
       "      <th>preds</th>\n",
       "      <th>probs_class_0</th>\n",
       "      <th>probs_class_1</th>\n",
       "      <th>prediction</th>\n",
       "      <th>probs</th>\n",
       "    </tr>\n",
       "  </thead>\n",
       "  <tbody>\n",
       "    <tr>\n",
       "      <th>0</th>\n",
       "      <td>0</td>\n",
       "      <td>0.975</td>\n",
       "      <td>0.997848</td>\n",
       "      <td>0.002152</td>\n",
       "      <td>0</td>\n",
       "      <td>[0.9978484371013459, 0.002151562898654075]</td>\n",
       "    </tr>\n",
       "    <tr>\n",
       "      <th>1</th>\n",
       "      <td>0</td>\n",
       "      <td>0.990</td>\n",
       "      <td>0.998329</td>\n",
       "      <td>0.001671</td>\n",
       "      <td>0</td>\n",
       "      <td>[0.998328584124416, 0.0016714158755837688]</td>\n",
       "    </tr>\n",
       "    <tr>\n",
       "      <th>2</th>\n",
       "      <td>0</td>\n",
       "      <td>0.950</td>\n",
       "      <td>0.995933</td>\n",
       "      <td>0.004067</td>\n",
       "      <td>0</td>\n",
       "      <td>[0.9959327602479192, 0.004067239752081032]</td>\n",
       "    </tr>\n",
       "    <tr>\n",
       "      <th>3</th>\n",
       "      <td>0</td>\n",
       "      <td>0.995</td>\n",
       "      <td>0.998112</td>\n",
       "      <td>0.001888</td>\n",
       "      <td>0</td>\n",
       "      <td>[0.9981116284172469, 0.0018883715827530312]</td>\n",
       "    </tr>\n",
       "    <tr>\n",
       "      <th>4</th>\n",
       "      <td>1</td>\n",
       "      <td>0.105</td>\n",
       "      <td>0.092222</td>\n",
       "      <td>0.907778</td>\n",
       "      <td>1</td>\n",
       "      <td>[0.09222187670619506, 0.9077781232938047]</td>\n",
       "    </tr>\n",
       "  </tbody>\n",
       "</table>\n",
       "</div>"
      ],
      "text/plain": [
       "   class  preds  probs_class_0  probs_class_1  prediction  \\\n",
       "0      0  0.975       0.997848       0.002152           0   \n",
       "1      0  0.990       0.998329       0.001671           0   \n",
       "2      0  0.950       0.995933       0.004067           0   \n",
       "3      0  0.995       0.998112       0.001888           0   \n",
       "4      1  0.105       0.092222       0.907778           1   \n",
       "\n",
       "                                         probs  \n",
       "0   [0.9978484371013459, 0.002151562898654075]  \n",
       "1   [0.998328584124416, 0.0016714158755837688]  \n",
       "2   [0.9959327602479192, 0.004067239752081032]  \n",
       "3  [0.9981116284172469, 0.0018883715827530312]  \n",
       "4    [0.09222187670619506, 0.9077781232938047]  "
      ]
     },
     "execution_count": 163,
     "metadata": {},
     "output_type": "execute_result"
    }
   ],
   "source": [
    "df_all['probs'] = [[r['probs_class_0'], r['probs_class_1']] for i, r in df_all.iterrows()]\n",
    "df_all.head()"
   ]
  },
  {
   "cell_type": "code",
   "execution_count": 169,
   "id": "0b304792",
   "metadata": {},
   "outputs": [],
   "source": [
    "''' \n",
    "Utility matrix format: \n",
    "    [[TN, FN],\n",
    "     [FP, TP]]\n",
    "'''\n",
    "utility = np.array([[1, -1], \n",
    "                    [-1, 1]], dtype=np.float64)"
   ]
  },
  {
   "cell_type": "code",
   "execution_count": 10,
   "id": "d8c26b76",
   "metadata": {},
   "outputs": [],
   "source": [
    "def get_expected_utility (um, m):\n",
    "    '''\n",
    "    um = utility matrix in format     [[TN, FN], [FP, TP]]\n",
    "    m = prediction or probability of class [0, 1]\n",
    "    returns expected utility for each class\n",
    "    '''\n",
    "    m = np.array(m)\n",
    "    if um.max() > 1:\n",
    "        if m.max() > 1:\n",
    "            um /= np.abs(um).max()\n",
    "    s1 = um[0] * m\n",
    "    s2 = um[1] * m\n",
    "    s1 = s1.sum()\n",
    "    s2 = s2.sum()\n",
    "    return [s1, s2]"
   ]
  },
  {
   "cell_type": "code",
   "execution_count": 171,
   "id": "8f85f1e3",
   "metadata": {},
   "outputs": [
    {
     "data": {
      "text/html": [
       "<div>\n",
       "<style scoped>\n",
       "    .dataframe tbody tr th:only-of-type {\n",
       "        vertical-align: middle;\n",
       "    }\n",
       "\n",
       "    .dataframe tbody tr th {\n",
       "        vertical-align: top;\n",
       "    }\n",
       "\n",
       "    .dataframe thead th {\n",
       "        text-align: right;\n",
       "    }\n",
       "</style>\n",
       "<table border=\"1\" class=\"dataframe\">\n",
       "  <thead>\n",
       "    <tr style=\"text-align: right;\">\n",
       "      <th></th>\n",
       "      <th>class</th>\n",
       "      <th>probs_class_0</th>\n",
       "      <th>probs_class_1</th>\n",
       "      <th>probs</th>\n",
       "      <th>expected_utility</th>\n",
       "      <th>best_utility_class</th>\n",
       "    </tr>\n",
       "  </thead>\n",
       "  <tbody>\n",
       "    <tr>\n",
       "      <th>0</th>\n",
       "      <td>0</td>\n",
       "      <td>0.997848</td>\n",
       "      <td>0.002152</td>\n",
       "      <td>[0.9978484371013459, 0.002151562898654075]</td>\n",
       "      <td>[0.9956968742026918, -0.9956968742026918]</td>\n",
       "      <td>0</td>\n",
       "    </tr>\n",
       "    <tr>\n",
       "      <th>1</th>\n",
       "      <td>0</td>\n",
       "      <td>0.998329</td>\n",
       "      <td>0.001671</td>\n",
       "      <td>[0.998328584124416, 0.0016714158755837688]</td>\n",
       "      <td>[0.9966571682488323, -0.9966571682488323]</td>\n",
       "      <td>0</td>\n",
       "    </tr>\n",
       "    <tr>\n",
       "      <th>2</th>\n",
       "      <td>0</td>\n",
       "      <td>0.995933</td>\n",
       "      <td>0.004067</td>\n",
       "      <td>[0.9959327602479192, 0.004067239752081032]</td>\n",
       "      <td>[0.9918655204958382, -0.9918655204958382]</td>\n",
       "      <td>0</td>\n",
       "    </tr>\n",
       "    <tr>\n",
       "      <th>3</th>\n",
       "      <td>0</td>\n",
       "      <td>0.998112</td>\n",
       "      <td>0.001888</td>\n",
       "      <td>[0.9981116284172469, 0.0018883715827530312]</td>\n",
       "      <td>[0.9962232568344939, -0.9962232568344939]</td>\n",
       "      <td>0</td>\n",
       "    </tr>\n",
       "    <tr>\n",
       "      <th>4</th>\n",
       "      <td>1</td>\n",
       "      <td>0.092222</td>\n",
       "      <td>0.907778</td>\n",
       "      <td>[0.09222187670619506, 0.9077781232938047]</td>\n",
       "      <td>[-0.8155562465876096, 0.8155562465876096]</td>\n",
       "      <td>1</td>\n",
       "    </tr>\n",
       "  </tbody>\n",
       "</table>\n",
       "</div>"
      ],
      "text/plain": [
       "   class  probs_class_0  probs_class_1  \\\n",
       "0      0       0.997848       0.002152   \n",
       "1      0       0.998329       0.001671   \n",
       "2      0       0.995933       0.004067   \n",
       "3      0       0.998112       0.001888   \n",
       "4      1       0.092222       0.907778   \n",
       "\n",
       "                                         probs  \\\n",
       "0   [0.9978484371013459, 0.002151562898654075]   \n",
       "1   [0.998328584124416, 0.0016714158755837688]   \n",
       "2   [0.9959327602479192, 0.004067239752081032]   \n",
       "3  [0.9981116284172469, 0.0018883715827530312]   \n",
       "4    [0.09222187670619506, 0.9077781232938047]   \n",
       "\n",
       "                            expected_utility  best_utility_class  \n",
       "0  [0.9956968742026918, -0.9956968742026918]                   0  \n",
       "1  [0.9966571682488323, -0.9966571682488323]                   0  \n",
       "2  [0.9918655204958382, -0.9918655204958382]                   0  \n",
       "3  [0.9962232568344939, -0.9962232568344939]                   0  \n",
       "4  [-0.8155562465876096, 0.8155562465876096]                   1  "
      ]
     },
     "execution_count": 171,
     "metadata": {},
     "output_type": "execute_result"
    }
   ],
   "source": [
    "df_all['expected_utility'] = [get_expected_utility(utility, r['probs']) for i, r in df_all.iterrows()]\n",
    "df_all['best_utility_class'] = torch.tensor(df_all['expected_utility']).argmax(axis=1)\n",
    "df_utility = df_all.drop(columns= ['prediction', 'preds'])\n",
    "df_utility.head()"
   ]
  },
  {
   "cell_type": "code",
   "execution_count": null,
   "id": "0a792366",
   "metadata": {},
   "outputs": [],
   "source": [
    "df_utility.to_csv(DATA/'RF_direct_prob_utility.csv', index=False)"
   ]
  },
  {
   "cell_type": "code",
   "execution_count": null,
   "id": "777c4aae",
   "metadata": {},
   "outputs": [],
   "source": []
  },
  {
   "cell_type": "code",
   "execution_count": null,
   "id": "30e8428d",
   "metadata": {},
   "outputs": [],
   "source": []
  },
  {
   "cell_type": "markdown",
   "id": "e92a41f2",
   "metadata": {},
   "source": [
    "# Generate correct probabilities for CNN model for test1 and test2"
   ]
  },
  {
   "cell_type": "code",
   "execution_count": 101,
   "id": "b892cd1d",
   "metadata": {},
   "outputs": [
    {
     "name": "stdout",
     "output_type": "stream",
     "text": [
      "<class 'pandas.core.frame.DataFrame'>\n",
      "RangeIndex: 262142 entries, 0 to 262141\n",
      "Data columns (total 6 columns):\n",
      " #   Column  Non-Null Count   Dtype  \n",
      "---  ------  --------------   -----  \n",
      " 0   w       262142 non-null  float64\n",
      " 1   p       262142 non-null  float64\n",
      " 2   mu0     262142 non-null  float64\n",
      " 3   sigma0  262142 non-null  float64\n",
      " 4   mu1     262142 non-null  float64\n",
      " 5   sigma1  262142 non-null  float64\n",
      "dtypes: float64(6)\n",
      "memory usage: 12.0 MB\n"
     ]
    }
   ],
   "source": [
    "df_CNN = pd.read_csv(DATA/'CNN_probabilityfunction_full.csv')\n",
    "df_CNN.info()"
   ]
  },
  {
   "cell_type": "code",
   "execution_count": 102,
   "id": "a9995aba",
   "metadata": {},
   "outputs": [
    {
     "data": {
      "text/html": [
       "<div>\n",
       "<style scoped>\n",
       "    .dataframe tbody tr th:only-of-type {\n",
       "        vertical-align: middle;\n",
       "    }\n",
       "\n",
       "    .dataframe tbody tr th {\n",
       "        vertical-align: top;\n",
       "    }\n",
       "\n",
       "    .dataframe thead th {\n",
       "        text-align: right;\n",
       "    }\n",
       "</style>\n",
       "<table border=\"1\" class=\"dataframe\">\n",
       "  <thead>\n",
       "    <tr style=\"text-align: right;\">\n",
       "      <th></th>\n",
       "      <th>w</th>\n",
       "      <th>p</th>\n",
       "      <th>mu0</th>\n",
       "      <th>sigma0</th>\n",
       "      <th>mu1</th>\n",
       "      <th>sigma1</th>\n",
       "    </tr>\n",
       "  </thead>\n",
       "  <tbody>\n",
       "    <tr>\n",
       "      <th>0</th>\n",
       "      <td>1.112547e-308</td>\n",
       "      <td>0.174027</td>\n",
       "      <td>2.249256</td>\n",
       "      <td>5.060917</td>\n",
       "      <td>-2.448301</td>\n",
       "      <td>0.254581</td>\n",
       "    </tr>\n",
       "    <tr>\n",
       "      <th>1</th>\n",
       "      <td>2.021356e-302</td>\n",
       "      <td>0.465301</td>\n",
       "      <td>1.497763</td>\n",
       "      <td>0.403940</td>\n",
       "      <td>-4.069391</td>\n",
       "      <td>0.219020</td>\n",
       "    </tr>\n",
       "    <tr>\n",
       "      <th>2</th>\n",
       "      <td>2.451473e-297</td>\n",
       "      <td>0.478021</td>\n",
       "      <td>2.776968</td>\n",
       "      <td>2.754942</td>\n",
       "      <td>-1.012342</td>\n",
       "      <td>0.758008</td>\n",
       "    </tr>\n",
       "    <tr>\n",
       "      <th>3</th>\n",
       "      <td>1.542531e-295</td>\n",
       "      <td>0.992075</td>\n",
       "      <td>3.959678</td>\n",
       "      <td>0.091651</td>\n",
       "      <td>-0.177518</td>\n",
       "      <td>0.689752</td>\n",
       "    </tr>\n",
       "    <tr>\n",
       "      <th>4</th>\n",
       "      <td>2.402227e-289</td>\n",
       "      <td>0.332206</td>\n",
       "      <td>2.568715</td>\n",
       "      <td>0.593366</td>\n",
       "      <td>-0.892260</td>\n",
       "      <td>0.143567</td>\n",
       "    </tr>\n",
       "  </tbody>\n",
       "</table>\n",
       "</div>"
      ],
      "text/plain": [
       "               w         p       mu0    sigma0       mu1    sigma1\n",
       "0  1.112547e-308  0.174027  2.249256  5.060917 -2.448301  0.254581\n",
       "1  2.021356e-302  0.465301  1.497763  0.403940 -4.069391  0.219020\n",
       "2  2.451473e-297  0.478021  2.776968  2.754942 -1.012342  0.758008\n",
       "3  1.542531e-295  0.992075  3.959678  0.091651 -0.177518  0.689752\n",
       "4  2.402227e-289  0.332206  2.568715  0.593366 -0.892260  0.143567"
      ]
     },
     "execution_count": 102,
     "metadata": {},
     "output_type": "execute_result"
    }
   ],
   "source": [
    "df_CNN.head()"
   ]
  },
  {
   "cell_type": "code",
   "execution_count": 103,
   "id": "f8bf557d",
   "metadata": {},
   "outputs": [],
   "source": [
    "#function for making a list of strings in df to list of floats\n",
    "def get_substring_list(split):\n",
    "    if len(split) <= 1:\n",
    "        print('nooo')\n",
    "    i = 0\n",
    "    while len(split[i]) <= 1:\n",
    "        i += 1\n",
    "    s1 = split[i]\n",
    "    i += 1\n",
    "    while len(split[i]) <= 1:\n",
    "        i += 1\n",
    "    s2 = split[i]\n",
    "    if s1[0] == '[':\n",
    "        s1 = s1[1:]\n",
    "    if s2[-1] == ']':\n",
    "        s2 = s2[0:-1]\n",
    "    s1 = np.float64(s1)\n",
    "    s2 = np.float64(s2)\n",
    "    return [s1, s2]"
   ]
  },
  {
   "cell_type": "markdown",
   "id": "3ea49b23",
   "metadata": {},
   "source": [
    "### Test1"
   ]
  },
  {
   "cell_type": "code",
   "execution_count": 141,
   "id": "32320fa4",
   "metadata": {},
   "outputs": [
    {
     "data": {
      "text/html": [
       "<div>\n",
       "<style scoped>\n",
       "    .dataframe tbody tr th:only-of-type {\n",
       "        vertical-align: middle;\n",
       "    }\n",
       "\n",
       "    .dataframe tbody tr th {\n",
       "        vertical-align: top;\n",
       "    }\n",
       "\n",
       "    .dataframe thead th {\n",
       "        text-align: right;\n",
       "    }\n",
       "</style>\n",
       "<table border=\"1\" class=\"dataframe\">\n",
       "  <thead>\n",
       "    <tr style=\"text-align: right;\">\n",
       "      <th></th>\n",
       "      <th>class</th>\n",
       "      <th>predictions</th>\n",
       "      <th>predicted_class</th>\n",
       "      <th>preds</th>\n",
       "    </tr>\n",
       "  </thead>\n",
       "  <tbody>\n",
       "    <tr>\n",
       "      <th>0</th>\n",
       "      <td>0</td>\n",
       "      <td>[1.0686324  0.15983486]</td>\n",
       "      <td>1.068632</td>\n",
       "      <td>[1.0686324, 0.15983486]</td>\n",
       "    </tr>\n",
       "    <tr>\n",
       "      <th>1</th>\n",
       "      <td>0</td>\n",
       "      <td>[ 3.294977  -3.2591858]</td>\n",
       "      <td>3.294977</td>\n",
       "      <td>[3.294977, -3.2591858]</td>\n",
       "    </tr>\n",
       "    <tr>\n",
       "      <th>2</th>\n",
       "      <td>0</td>\n",
       "      <td>[ 3.8328545 -3.5713747]</td>\n",
       "      <td>3.832854</td>\n",
       "      <td>[3.8328545, -3.5713747]</td>\n",
       "    </tr>\n",
       "    <tr>\n",
       "      <th>3</th>\n",
       "      <td>0</td>\n",
       "      <td>[ 3.13148   -3.6825964]</td>\n",
       "      <td>3.131480</td>\n",
       "      <td>[3.13148, -3.6825964]</td>\n",
       "    </tr>\n",
       "    <tr>\n",
       "      <th>4</th>\n",
       "      <td>1</td>\n",
       "      <td>[-0.78947127  1.3680041 ]</td>\n",
       "      <td>1.368004</td>\n",
       "      <td>[-0.78947127, 1.3680041]</td>\n",
       "    </tr>\n",
       "  </tbody>\n",
       "</table>\n",
       "</div>"
      ],
      "text/plain": [
       "   class                predictions  predicted_class                     preds\n",
       "0      0    [1.0686324  0.15983486]         1.068632   [1.0686324, 0.15983486]\n",
       "1      0    [ 3.294977  -3.2591858]         3.294977    [3.294977, -3.2591858]\n",
       "2      0    [ 3.8328545 -3.5713747]         3.832854   [3.8328545, -3.5713747]\n",
       "3      0    [ 3.13148   -3.6825964]         3.131480     [3.13148, -3.6825964]\n",
       "4      1  [-0.78947127  1.3680041 ]         1.368004  [-0.78947127, 1.3680041]"
      ]
     },
     "execution_count": 141,
     "metadata": {},
     "output_type": "execute_result"
    }
   ],
   "source": [
    "df_test1 = pd.read_csv(CHEMBL205/'CHEMBL205_predictions_CNN_test1.csv')\n",
    "df_test1['preds'] = [get_substring_list(r['predictions'].split(' '))  for i, r in df_test1.iterrows()]\n",
    "#df_preds['pred_0'] = np.array(df_preds['pred_0'], dtype=np.float64)\n",
    "df_test1.head()"
   ]
  },
  {
   "cell_type": "code",
   "execution_count": 100,
   "id": "456adf8b",
   "metadata": {},
   "outputs": [],
   "source": [
    "def calculate_probs_CNN(df, df_preds):\n",
    "    '''\n",
    "    function for getting bayesian corrected probabilites for CNN\n",
    "    df = DataFrame for CNN parameters for the probability function\n",
    "    df_preds = DataFrame for the predictions\n",
    "    '''\n",
    "    \n",
    "    preds = df_preds['preds']\n",
    "    m0 = df.mu0.to_numpy()\n",
    "    s0 = df.sigma0.to_numpy()\n",
    "    m1 = df.mu1.to_numpy()\n",
    "    s1 = df.sigma1.to_numpy()\n",
    "    p = df.p.to_numpy()\n",
    "    w = df.w.to_numpy()\n",
    "    all_probs_0 = np.array([])\n",
    "    for pred in preds:\n",
    "        prob = CNN_direct_prob(pred, 0, w, p, m0, s0, m1, s1)\n",
    "        all_probs_0 = np.append(all_probs_0, prob)\n",
    "    return all_probs_0"
   ]
  },
  {
   "cell_type": "code",
   "execution_count": 148,
   "id": "c555a3bf",
   "metadata": {},
   "outputs": [
    {
     "ename": "KeyboardInterrupt",
     "evalue": "",
     "output_type": "error",
     "traceback": [
      "\u001b[0;31m---------------------------------------------------------------------------\u001b[0m",
      "\u001b[0;31mKeyboardInterrupt\u001b[0m                         Traceback (most recent call last)",
      "\u001b[0;32m/tmp/ipykernel_4080302/3475095412.py\u001b[0m in \u001b[0;36m<module>\u001b[0;34m\u001b[0m\n\u001b[0;32m----> 1\u001b[0;31m \u001b[0marr\u001b[0m \u001b[0;34m=\u001b[0m \u001b[0mcalculate_probs_CNN\u001b[0m\u001b[0;34m(\u001b[0m\u001b[0mdf_CNN\u001b[0m\u001b[0;34m,\u001b[0m \u001b[0mdf_test1\u001b[0m\u001b[0;34m)\u001b[0m\u001b[0;34m\u001b[0m\u001b[0;34m\u001b[0m\u001b[0m\n\u001b[0m\u001b[1;32m      2\u001b[0m \u001b[0marr\u001b[0m\u001b[0;34m\u001b[0m\u001b[0;34m\u001b[0m\u001b[0m\n",
      "\u001b[0;32m/tmp/ipykernel_4080302/2049465164.py\u001b[0m in \u001b[0;36mcalculate_probs_CNN\u001b[0;34m(df, df_preds)\u001b[0m\n\u001b[1;32m     15\u001b[0m     \u001b[0mall_probs_0\u001b[0m \u001b[0;34m=\u001b[0m \u001b[0mnp\u001b[0m\u001b[0;34m.\u001b[0m\u001b[0marray\u001b[0m\u001b[0;34m(\u001b[0m\u001b[0;34m[\u001b[0m\u001b[0;34m]\u001b[0m\u001b[0;34m)\u001b[0m\u001b[0;34m\u001b[0m\u001b[0;34m\u001b[0m\u001b[0m\n\u001b[1;32m     16\u001b[0m     \u001b[0;32mfor\u001b[0m \u001b[0mpred\u001b[0m \u001b[0;32min\u001b[0m \u001b[0mpreds\u001b[0m\u001b[0;34m:\u001b[0m\u001b[0;34m\u001b[0m\u001b[0;34m\u001b[0m\u001b[0m\n\u001b[0;32m---> 17\u001b[0;31m         \u001b[0mprob\u001b[0m \u001b[0;34m=\u001b[0m \u001b[0mCNN_direct_prob\u001b[0m\u001b[0;34m(\u001b[0m\u001b[0mpred\u001b[0m\u001b[0;34m,\u001b[0m \u001b[0;36m0\u001b[0m\u001b[0;34m,\u001b[0m \u001b[0mw\u001b[0m\u001b[0;34m,\u001b[0m \u001b[0mp\u001b[0m\u001b[0;34m,\u001b[0m \u001b[0mm0\u001b[0m\u001b[0;34m,\u001b[0m \u001b[0ms0\u001b[0m\u001b[0;34m,\u001b[0m \u001b[0mm1\u001b[0m\u001b[0;34m,\u001b[0m \u001b[0ms1\u001b[0m\u001b[0;34m)\u001b[0m\u001b[0;34m\u001b[0m\u001b[0;34m\u001b[0m\u001b[0m\n\u001b[0m\u001b[1;32m     18\u001b[0m         \u001b[0mall_probs_0\u001b[0m \u001b[0;34m=\u001b[0m \u001b[0mnp\u001b[0m\u001b[0;34m.\u001b[0m\u001b[0mappend\u001b[0m\u001b[0;34m(\u001b[0m\u001b[0mall_probs_0\u001b[0m\u001b[0;34m,\u001b[0m \u001b[0mprob\u001b[0m\u001b[0;34m)\u001b[0m\u001b[0;34m\u001b[0m\u001b[0;34m\u001b[0m\u001b[0m\n\u001b[1;32m     19\u001b[0m     \u001b[0;32mreturn\u001b[0m \u001b[0mall_probs_0\u001b[0m\u001b[0;34m\u001b[0m\u001b[0;34m\u001b[0m\u001b[0m\n",
      "\u001b[0;32m~/drug-discovery/Drug-Discovery/notebooks/utils/probs.py\u001b[0m in \u001b[0;36mCNN_direct_prob\u001b[0;34m(x, cl, w, p, m0, s0, m1, s1)\u001b[0m\n\u001b[1;32m     42\u001b[0m     \u001b[0mpc\u001b[0m \u001b[0;34m=\u001b[0m \u001b[0mp\u001b[0m\u001b[0;34m*\u001b[0m\u001b[0mcl\u001b[0m \u001b[0;34m+\u001b[0m \u001b[0;34m(\u001b[0m\u001b[0;36m1\u001b[0m\u001b[0;34m-\u001b[0m\u001b[0mp\u001b[0m\u001b[0;34m)\u001b[0m\u001b[0;34m*\u001b[0m\u001b[0;34m(\u001b[0m\u001b[0;36m1\u001b[0m\u001b[0;34m-\u001b[0m\u001b[0mcl\u001b[0m\u001b[0;34m)\u001b[0m\u001b[0;34m\u001b[0m\u001b[0;34m\u001b[0m\u001b[0m\n\u001b[1;32m     43\u001b[0m     \u001b[0mpjoint\u001b[0m \u001b[0;34m=\u001b[0m \u001b[0mnp\u001b[0m\u001b[0;34m.\u001b[0m\u001b[0msum\u001b[0m\u001b[0;34m(\u001b[0m\u001b[0mw\u001b[0m \u001b[0;34m*\u001b[0m \u001b[0mpc\u001b[0m \u001b[0;34m*\u001b[0m \u001b[0mnorm\u001b[0m\u001b[0;34m.\u001b[0m\u001b[0mpdf\u001b[0m\u001b[0;34m(\u001b[0m\u001b[0mx\u001b[0m\u001b[0;34m[\u001b[0m\u001b[0;36m0\u001b[0m\u001b[0;34m]\u001b[0m\u001b[0;34m,\u001b[0m \u001b[0mloc\u001b[0m\u001b[0;34m=\u001b[0m\u001b[0mm0\u001b[0m\u001b[0;34m,\u001b[0m \u001b[0mscale\u001b[0m\u001b[0;34m=\u001b[0m\u001b[0ms0\u001b[0m\u001b[0;34m)\u001b[0m \u001b[0;34m*\u001b[0m \u001b[0mnorm\u001b[0m\u001b[0;34m.\u001b[0m\u001b[0mpdf\u001b[0m\u001b[0;34m(\u001b[0m\u001b[0mx\u001b[0m\u001b[0;34m[\u001b[0m\u001b[0;36m1\u001b[0m\u001b[0;34m]\u001b[0m\u001b[0;34m,\u001b[0m \u001b[0mloc\u001b[0m\u001b[0;34m=\u001b[0m\u001b[0mm1\u001b[0m\u001b[0;34m,\u001b[0m \u001b[0mscale\u001b[0m\u001b[0;34m=\u001b[0m\u001b[0ms1\u001b[0m\u001b[0;34m)\u001b[0m\u001b[0;34m)\u001b[0m\u001b[0;34m\u001b[0m\u001b[0;34m\u001b[0m\u001b[0m\n\u001b[0;32m---> 44\u001b[0;31m     \u001b[0mpx\u001b[0m \u001b[0;34m=\u001b[0m \u001b[0mnp\u001b[0m\u001b[0;34m.\u001b[0m\u001b[0msum\u001b[0m\u001b[0;34m(\u001b[0m\u001b[0mw\u001b[0m \u001b[0;34m*\u001b[0m \u001b[0mnorm\u001b[0m\u001b[0;34m.\u001b[0m\u001b[0mpdf\u001b[0m\u001b[0;34m(\u001b[0m\u001b[0mx\u001b[0m\u001b[0;34m[\u001b[0m\u001b[0;36m0\u001b[0m\u001b[0;34m]\u001b[0m\u001b[0;34m,\u001b[0m \u001b[0mloc\u001b[0m\u001b[0;34m=\u001b[0m\u001b[0mm0\u001b[0m\u001b[0;34m,\u001b[0m \u001b[0mscale\u001b[0m\u001b[0;34m=\u001b[0m\u001b[0ms0\u001b[0m\u001b[0;34m)\u001b[0m \u001b[0;34m*\u001b[0m \u001b[0mnorm\u001b[0m\u001b[0;34m.\u001b[0m\u001b[0mpdf\u001b[0m\u001b[0;34m(\u001b[0m\u001b[0mx\u001b[0m\u001b[0;34m[\u001b[0m\u001b[0;36m1\u001b[0m\u001b[0;34m]\u001b[0m\u001b[0;34m,\u001b[0m \u001b[0mloc\u001b[0m\u001b[0;34m=\u001b[0m\u001b[0mm1\u001b[0m\u001b[0;34m,\u001b[0m \u001b[0mscale\u001b[0m\u001b[0;34m=\u001b[0m\u001b[0ms1\u001b[0m\u001b[0;34m)\u001b[0m\u001b[0;34m)\u001b[0m\u001b[0;34m\u001b[0m\u001b[0;34m\u001b[0m\u001b[0m\n\u001b[0m\u001b[1;32m     45\u001b[0m     \u001b[0mprob\u001b[0m \u001b[0;34m=\u001b[0m \u001b[0mpjoint\u001b[0m\u001b[0;34m/\u001b[0m\u001b[0mpx\u001b[0m\u001b[0;34m\u001b[0m\u001b[0;34m\u001b[0m\u001b[0m\n\u001b[1;32m     46\u001b[0m     \u001b[0;32mreturn\u001b[0m \u001b[0mprob\u001b[0m\u001b[0;34m\u001b[0m\u001b[0;34m\u001b[0m\u001b[0m\n",
      "\u001b[0;32m~/anaconda3/envs/fastai-drug/lib/python3.7/site-packages/scipy/stats/_distn_infrastructure.py\u001b[0m in \u001b[0;36mpdf\u001b[0;34m(self, x, *args, **kwds)\u001b[0m\n\u001b[1;32m   1877\u001b[0m             \u001b[0mgoodargs\u001b[0m \u001b[0;34m=\u001b[0m \u001b[0margsreduce\u001b[0m\u001b[0;34m(\u001b[0m\u001b[0mcond\u001b[0m\u001b[0;34m,\u001b[0m \u001b[0;34m*\u001b[0m\u001b[0;34m(\u001b[0m\u001b[0;34m(\u001b[0m\u001b[0mx\u001b[0m\u001b[0;34m,\u001b[0m\u001b[0;34m)\u001b[0m\u001b[0;34m+\u001b[0m\u001b[0margs\u001b[0m\u001b[0;34m+\u001b[0m\u001b[0;34m(\u001b[0m\u001b[0mscale\u001b[0m\u001b[0;34m,\u001b[0m\u001b[0;34m)\u001b[0m\u001b[0;34m)\u001b[0m\u001b[0;34m)\u001b[0m\u001b[0;34m\u001b[0m\u001b[0;34m\u001b[0m\u001b[0m\n\u001b[1;32m   1878\u001b[0m             \u001b[0mscale\u001b[0m\u001b[0;34m,\u001b[0m \u001b[0mgoodargs\u001b[0m \u001b[0;34m=\u001b[0m \u001b[0mgoodargs\u001b[0m\u001b[0;34m[\u001b[0m\u001b[0;34m-\u001b[0m\u001b[0;36m1\u001b[0m\u001b[0;34m]\u001b[0m\u001b[0;34m,\u001b[0m \u001b[0mgoodargs\u001b[0m\u001b[0;34m[\u001b[0m\u001b[0;34m:\u001b[0m\u001b[0;34m-\u001b[0m\u001b[0;36m1\u001b[0m\u001b[0;34m]\u001b[0m\u001b[0;34m\u001b[0m\u001b[0;34m\u001b[0m\u001b[0m\n\u001b[0;32m-> 1879\u001b[0;31m             \u001b[0mplace\u001b[0m\u001b[0;34m(\u001b[0m\u001b[0moutput\u001b[0m\u001b[0;34m,\u001b[0m \u001b[0mcond\u001b[0m\u001b[0;34m,\u001b[0m \u001b[0mself\u001b[0m\u001b[0;34m.\u001b[0m\u001b[0m_pdf\u001b[0m\u001b[0;34m(\u001b[0m\u001b[0;34m*\u001b[0m\u001b[0mgoodargs\u001b[0m\u001b[0;34m)\u001b[0m \u001b[0;34m/\u001b[0m \u001b[0mscale\u001b[0m\u001b[0;34m)\u001b[0m\u001b[0;34m\u001b[0m\u001b[0;34m\u001b[0m\u001b[0m\n\u001b[0m\u001b[1;32m   1880\u001b[0m         \u001b[0;32mif\u001b[0m \u001b[0moutput\u001b[0m\u001b[0;34m.\u001b[0m\u001b[0mndim\u001b[0m \u001b[0;34m==\u001b[0m \u001b[0;36m0\u001b[0m\u001b[0;34m:\u001b[0m\u001b[0;34m\u001b[0m\u001b[0;34m\u001b[0m\u001b[0m\n\u001b[1;32m   1881\u001b[0m             \u001b[0;32mreturn\u001b[0m \u001b[0moutput\u001b[0m\u001b[0;34m[\u001b[0m\u001b[0;34m(\u001b[0m\u001b[0;34m)\u001b[0m\u001b[0;34m]\u001b[0m\u001b[0;34m\u001b[0m\u001b[0;34m\u001b[0m\u001b[0m\n",
      "\u001b[0;32m~/anaconda3/envs/fastai-drug/lib/python3.7/site-packages/scipy/stats/_continuous_distns.py\u001b[0m in \u001b[0;36m_pdf\u001b[0;34m(self, x)\u001b[0m\n\u001b[1;32m    307\u001b[0m     \u001b[0;32mdef\u001b[0m \u001b[0m_pdf\u001b[0m\u001b[0;34m(\u001b[0m\u001b[0mself\u001b[0m\u001b[0;34m,\u001b[0m \u001b[0mx\u001b[0m\u001b[0;34m)\u001b[0m\u001b[0;34m:\u001b[0m\u001b[0;34m\u001b[0m\u001b[0;34m\u001b[0m\u001b[0m\n\u001b[1;32m    308\u001b[0m         \u001b[0;31m# norm.pdf(x) = exp(-x**2/2)/sqrt(2*pi)\u001b[0m\u001b[0;34m\u001b[0m\u001b[0;34m\u001b[0m\u001b[0;34m\u001b[0m\u001b[0m\n\u001b[0;32m--> 309\u001b[0;31m         \u001b[0;32mreturn\u001b[0m \u001b[0m_norm_pdf\u001b[0m\u001b[0;34m(\u001b[0m\u001b[0mx\u001b[0m\u001b[0;34m)\u001b[0m\u001b[0;34m\u001b[0m\u001b[0;34m\u001b[0m\u001b[0m\n\u001b[0m\u001b[1;32m    310\u001b[0m \u001b[0;34m\u001b[0m\u001b[0m\n\u001b[1;32m    311\u001b[0m     \u001b[0;32mdef\u001b[0m \u001b[0m_logpdf\u001b[0m\u001b[0;34m(\u001b[0m\u001b[0mself\u001b[0m\u001b[0;34m,\u001b[0m \u001b[0mx\u001b[0m\u001b[0;34m)\u001b[0m\u001b[0;34m:\u001b[0m\u001b[0;34m\u001b[0m\u001b[0;34m\u001b[0m\u001b[0m\n",
      "\u001b[0;32m~/anaconda3/envs/fastai-drug/lib/python3.7/site-packages/scipy/stats/_continuous_distns.py\u001b[0m in \u001b[0;36m_norm_pdf\u001b[0;34m(x)\u001b[0m\n\u001b[1;32m    248\u001b[0m \u001b[0;34m\u001b[0m\u001b[0m\n\u001b[1;32m    249\u001b[0m \u001b[0;32mdef\u001b[0m \u001b[0m_norm_pdf\u001b[0m\u001b[0;34m(\u001b[0m\u001b[0mx\u001b[0m\u001b[0;34m)\u001b[0m\u001b[0;34m:\u001b[0m\u001b[0;34m\u001b[0m\u001b[0;34m\u001b[0m\u001b[0m\n\u001b[0;32m--> 250\u001b[0;31m     \u001b[0;32mreturn\u001b[0m \u001b[0mnp\u001b[0m\u001b[0;34m.\u001b[0m\u001b[0mexp\u001b[0m\u001b[0;34m(\u001b[0m\u001b[0;34m-\u001b[0m\u001b[0mx\u001b[0m\u001b[0;34m**\u001b[0m\u001b[0;36m2\u001b[0m\u001b[0;34m/\u001b[0m\u001b[0;36m2.0\u001b[0m\u001b[0;34m)\u001b[0m \u001b[0;34m/\u001b[0m \u001b[0m_norm_pdf_C\u001b[0m\u001b[0;34m\u001b[0m\u001b[0;34m\u001b[0m\u001b[0m\n\u001b[0m\u001b[1;32m    251\u001b[0m \u001b[0;34m\u001b[0m\u001b[0m\n\u001b[1;32m    252\u001b[0m \u001b[0;34m\u001b[0m\u001b[0m\n",
      "\u001b[0;31mKeyboardInterrupt\u001b[0m: "
     ]
    }
   ],
   "source": [
    "arr = calculate_probs_CNN(df_CNN, df_test1)\n",
    "arr"
   ]
  },
  {
   "cell_type": "code",
   "execution_count": 17,
   "id": "efd4435a",
   "metadata": {},
   "outputs": [
    {
     "data": {
      "text/plain": [
       "3589"
      ]
     },
     "execution_count": 17,
     "metadata": {},
     "output_type": "execute_result"
    }
   ],
   "source": [
    "len(arr)"
   ]
  },
  {
   "cell_type": "code",
   "execution_count": 18,
   "id": "276aec68",
   "metadata": {},
   "outputs": [
    {
     "data": {
      "text/plain": [
       "numpy.ndarray"
      ]
     },
     "execution_count": 18,
     "metadata": {},
     "output_type": "execute_result"
    }
   ],
   "source": [
    "type(arr)"
   ]
  },
  {
   "cell_type": "code",
   "execution_count": 20,
   "id": "fcfcd38a",
   "metadata": {},
   "outputs": [],
   "source": [
    "df_test1['predictions'] = df_test1['preds']\n",
    "df_test1['direct_prob_0'] = arr\n",
    "df_test1 = df_test1.drop(columns=['preds', 'predicted_class'])"
   ]
  },
  {
   "cell_type": "code",
   "execution_count": 21,
   "id": "f5d535da",
   "metadata": {},
   "outputs": [
    {
     "data": {
      "text/html": [
       "<div>\n",
       "<style scoped>\n",
       "    .dataframe tbody tr th:only-of-type {\n",
       "        vertical-align: middle;\n",
       "    }\n",
       "\n",
       "    .dataframe tbody tr th {\n",
       "        vertical-align: top;\n",
       "    }\n",
       "\n",
       "    .dataframe thead th {\n",
       "        text-align: right;\n",
       "    }\n",
       "</style>\n",
       "<table border=\"1\" class=\"dataframe\">\n",
       "  <thead>\n",
       "    <tr style=\"text-align: right;\">\n",
       "      <th></th>\n",
       "      <th>class</th>\n",
       "      <th>predictions</th>\n",
       "      <th>direct_prob_0</th>\n",
       "    </tr>\n",
       "  </thead>\n",
       "  <tbody>\n",
       "    <tr>\n",
       "      <th>0</th>\n",
       "      <td>0</td>\n",
       "      <td>[1.0686324, 0.15983486]</td>\n",
       "      <td>0.812226</td>\n",
       "    </tr>\n",
       "    <tr>\n",
       "      <th>1</th>\n",
       "      <td>0</td>\n",
       "      <td>[3.294977, -3.2591858]</td>\n",
       "      <td>0.997830</td>\n",
       "    </tr>\n",
       "    <tr>\n",
       "      <th>2</th>\n",
       "      <td>0</td>\n",
       "      <td>[3.8328545, -3.5713747]</td>\n",
       "      <td>0.995896</td>\n",
       "    </tr>\n",
       "    <tr>\n",
       "      <th>3</th>\n",
       "      <td>0</td>\n",
       "      <td>[3.13148, -3.6825964]</td>\n",
       "      <td>0.997027</td>\n",
       "    </tr>\n",
       "    <tr>\n",
       "      <th>4</th>\n",
       "      <td>1</td>\n",
       "      <td>[-0.78947127, 1.3680041]</td>\n",
       "      <td>0.230960</td>\n",
       "    </tr>\n",
       "  </tbody>\n",
       "</table>\n",
       "</div>"
      ],
      "text/plain": [
       "   class               predictions  direct_prob_0\n",
       "0      0   [1.0686324, 0.15983486]       0.812226\n",
       "1      0    [3.294977, -3.2591858]       0.997830\n",
       "2      0   [3.8328545, -3.5713747]       0.995896\n",
       "3      0     [3.13148, -3.6825964]       0.997027\n",
       "4      1  [-0.78947127, 1.3680041]       0.230960"
      ]
     },
     "execution_count": 21,
     "metadata": {},
     "output_type": "execute_result"
    }
   ],
   "source": [
    "df_test1.head()"
   ]
  },
  {
   "cell_type": "code",
   "execution_count": 32,
   "id": "1c5e98d1",
   "metadata": {},
   "outputs": [],
   "source": [
    "df_test1.to_csv(DATA/'CNN_bayesian_prob_test1.csv', index=False)"
   ]
  },
  {
   "cell_type": "markdown",
   "id": "488cc667",
   "metadata": {},
   "source": [
    "### Do the same for test set 2"
   ]
  },
  {
   "cell_type": "code",
   "execution_count": 75,
   "id": "fb82c02e",
   "metadata": {},
   "outputs": [
    {
     "data": {
      "text/html": [
       "<div>\n",
       "<style scoped>\n",
       "    .dataframe tbody tr th:only-of-type {\n",
       "        vertical-align: middle;\n",
       "    }\n",
       "\n",
       "    .dataframe tbody tr th {\n",
       "        vertical-align: top;\n",
       "    }\n",
       "\n",
       "    .dataframe thead th {\n",
       "        text-align: right;\n",
       "    }\n",
       "</style>\n",
       "<table border=\"1\" class=\"dataframe\">\n",
       "  <thead>\n",
       "    <tr style=\"text-align: right;\">\n",
       "      <th></th>\n",
       "      <th>class</th>\n",
       "      <th>predictions</th>\n",
       "      <th>predicted_class</th>\n",
       "      <th>preds</th>\n",
       "    </tr>\n",
       "  </thead>\n",
       "  <tbody>\n",
       "    <tr>\n",
       "      <th>0</th>\n",
       "      <td>0</td>\n",
       "      <td>[1.0686324  0.15983486]</td>\n",
       "      <td>1.068632</td>\n",
       "      <td>[1.0686324, 0.15983486]</td>\n",
       "    </tr>\n",
       "    <tr>\n",
       "      <th>1</th>\n",
       "      <td>0</td>\n",
       "      <td>[ 3.294977  -3.2591858]</td>\n",
       "      <td>3.294977</td>\n",
       "      <td>[3.294977, -3.2591858]</td>\n",
       "    </tr>\n",
       "    <tr>\n",
       "      <th>2</th>\n",
       "      <td>0</td>\n",
       "      <td>[ 3.8328545 -3.5713747]</td>\n",
       "      <td>3.832854</td>\n",
       "      <td>[3.8328545, -3.5713747]</td>\n",
       "    </tr>\n",
       "    <tr>\n",
       "      <th>3</th>\n",
       "      <td>0</td>\n",
       "      <td>[ 3.13148   -3.6825964]</td>\n",
       "      <td>3.131480</td>\n",
       "      <td>[3.13148, -3.6825964]</td>\n",
       "    </tr>\n",
       "    <tr>\n",
       "      <th>4</th>\n",
       "      <td>1</td>\n",
       "      <td>[-0.78947127  1.3680041 ]</td>\n",
       "      <td>1.368004</td>\n",
       "      <td>[-0.78947127, 1.3680041]</td>\n",
       "    </tr>\n",
       "  </tbody>\n",
       "</table>\n",
       "</div>"
      ],
      "text/plain": [
       "   class                predictions  predicted_class                     preds\n",
       "0      0    [1.0686324  0.15983486]         1.068632   [1.0686324, 0.15983486]\n",
       "1      0    [ 3.294977  -3.2591858]         3.294977    [3.294977, -3.2591858]\n",
       "2      0    [ 3.8328545 -3.5713747]         3.832854   [3.8328545, -3.5713747]\n",
       "3      0    [ 3.13148   -3.6825964]         3.131480     [3.13148, -3.6825964]\n",
       "4      1  [-0.78947127  1.3680041 ]         1.368004  [-0.78947127, 1.3680041]"
      ]
     },
     "execution_count": 75,
     "metadata": {},
     "output_type": "execute_result"
    }
   ],
   "source": [
    "df_test2 = pd.read_csv(CHEMBL205/'CHEMBL205_predictions_CNN_test2.csv')\n",
    "df_test2['preds'] = [get_substring_list(r['predictions'].split(' '))  for i, r in df_test2.iterrows()]\n",
    "#df_preds['pred_0'] = np.array(df_preds['pred_0'], dtype=np.float64)\n",
    "df_test2.head()"
   ]
  },
  {
   "cell_type": "code",
   "execution_count": 76,
   "id": "ae0a099a",
   "metadata": {},
   "outputs": [],
   "source": [
    "probs = calculate_probs_CNN(df_CNN, df_test2)"
   ]
  },
  {
   "cell_type": "code",
   "execution_count": 77,
   "id": "7795e217",
   "metadata": {},
   "outputs": [],
   "source": [
    "df_test2['predictions'] = df_test2['preds']\n",
    "df_test2['prob_0'] = probs\n",
    "df_test2 = df_test2.drop(columns=['preds', 'predicted_class'])"
   ]
  },
  {
   "cell_type": "code",
   "execution_count": 78,
   "id": "368de9ae",
   "metadata": {},
   "outputs": [
    {
     "data": {
      "text/html": [
       "<div>\n",
       "<style scoped>\n",
       "    .dataframe tbody tr th:only-of-type {\n",
       "        vertical-align: middle;\n",
       "    }\n",
       "\n",
       "    .dataframe tbody tr th {\n",
       "        vertical-align: top;\n",
       "    }\n",
       "\n",
       "    .dataframe thead th {\n",
       "        text-align: right;\n",
       "    }\n",
       "</style>\n",
       "<table border=\"1\" class=\"dataframe\">\n",
       "  <thead>\n",
       "    <tr style=\"text-align: right;\">\n",
       "      <th></th>\n",
       "      <th>class</th>\n",
       "      <th>predictions</th>\n",
       "      <th>prob_0</th>\n",
       "    </tr>\n",
       "  </thead>\n",
       "  <tbody>\n",
       "    <tr>\n",
       "      <th>0</th>\n",
       "      <td>0</td>\n",
       "      <td>[1.0686324, 0.15983486]</td>\n",
       "      <td>0.812226</td>\n",
       "    </tr>\n",
       "    <tr>\n",
       "      <th>1</th>\n",
       "      <td>0</td>\n",
       "      <td>[3.294977, -3.2591858]</td>\n",
       "      <td>0.997830</td>\n",
       "    </tr>\n",
       "    <tr>\n",
       "      <th>2</th>\n",
       "      <td>0</td>\n",
       "      <td>[3.8328545, -3.5713747]</td>\n",
       "      <td>0.995896</td>\n",
       "    </tr>\n",
       "    <tr>\n",
       "      <th>3</th>\n",
       "      <td>0</td>\n",
       "      <td>[3.13148, -3.6825964]</td>\n",
       "      <td>0.997027</td>\n",
       "    </tr>\n",
       "    <tr>\n",
       "      <th>4</th>\n",
       "      <td>1</td>\n",
       "      <td>[-0.78947127, 1.3680041]</td>\n",
       "      <td>0.230960</td>\n",
       "    </tr>\n",
       "  </tbody>\n",
       "</table>\n",
       "</div>"
      ],
      "text/plain": [
       "   class               predictions    prob_0\n",
       "0      0   [1.0686324, 0.15983486]  0.812226\n",
       "1      0    [3.294977, -3.2591858]  0.997830\n",
       "2      0   [3.8328545, -3.5713747]  0.995896\n",
       "3      0     [3.13148, -3.6825964]  0.997027\n",
       "4      1  [-0.78947127, 1.3680041]  0.230960"
      ]
     },
     "execution_count": 78,
     "metadata": {},
     "output_type": "execute_result"
    }
   ],
   "source": [
    "df_test2.head()"
   ]
  },
  {
   "cell_type": "code",
   "execution_count": 79,
   "id": "f0c40979",
   "metadata": {},
   "outputs": [],
   "source": [
    "df_test2['pred_0'] = [r['predictions'][0] for i, r in df_test2.iterrows()]\n",
    "df_test2['pred_1'] = [r['predictions'][1] for i, r in df_test2.iterrows()]\n",
    "df_test2 = df_test2.drop(columns=['predictions'])"
   ]
  },
  {
   "cell_type": "code",
   "execution_count": 80,
   "id": "45a0a068",
   "metadata": {},
   "outputs": [
    {
     "data": {
      "text/html": [
       "<div>\n",
       "<style scoped>\n",
       "    .dataframe tbody tr th:only-of-type {\n",
       "        vertical-align: middle;\n",
       "    }\n",
       "\n",
       "    .dataframe tbody tr th {\n",
       "        vertical-align: top;\n",
       "    }\n",
       "\n",
       "    .dataframe thead th {\n",
       "        text-align: right;\n",
       "    }\n",
       "</style>\n",
       "<table border=\"1\" class=\"dataframe\">\n",
       "  <thead>\n",
       "    <tr style=\"text-align: right;\">\n",
       "      <th></th>\n",
       "      <th>class</th>\n",
       "      <th>prob_0</th>\n",
       "      <th>pred_0</th>\n",
       "      <th>pred_1</th>\n",
       "    </tr>\n",
       "  </thead>\n",
       "  <tbody>\n",
       "    <tr>\n",
       "      <th>0</th>\n",
       "      <td>0</td>\n",
       "      <td>0.812226</td>\n",
       "      <td>1.068632</td>\n",
       "      <td>0.159835</td>\n",
       "    </tr>\n",
       "    <tr>\n",
       "      <th>1</th>\n",
       "      <td>0</td>\n",
       "      <td>0.997830</td>\n",
       "      <td>3.294977</td>\n",
       "      <td>-3.259186</td>\n",
       "    </tr>\n",
       "    <tr>\n",
       "      <th>2</th>\n",
       "      <td>0</td>\n",
       "      <td>0.995896</td>\n",
       "      <td>3.832854</td>\n",
       "      <td>-3.571375</td>\n",
       "    </tr>\n",
       "    <tr>\n",
       "      <th>3</th>\n",
       "      <td>0</td>\n",
       "      <td>0.997027</td>\n",
       "      <td>3.131480</td>\n",
       "      <td>-3.682596</td>\n",
       "    </tr>\n",
       "    <tr>\n",
       "      <th>4</th>\n",
       "      <td>1</td>\n",
       "      <td>0.230960</td>\n",
       "      <td>-0.789471</td>\n",
       "      <td>1.368004</td>\n",
       "    </tr>\n",
       "  </tbody>\n",
       "</table>\n",
       "</div>"
      ],
      "text/plain": [
       "   class    prob_0    pred_0    pred_1\n",
       "0      0  0.812226  1.068632  0.159835\n",
       "1      0  0.997830  3.294977 -3.259186\n",
       "2      0  0.995896  3.832854 -3.571375\n",
       "3      0  0.997027  3.131480 -3.682596\n",
       "4      1  0.230960 -0.789471  1.368004"
      ]
     },
     "execution_count": 80,
     "metadata": {},
     "output_type": "execute_result"
    }
   ],
   "source": [
    "df_test2.head()"
   ]
  },
  {
   "cell_type": "code",
   "execution_count": 81,
   "id": "6a5f668a",
   "metadata": {},
   "outputs": [
    {
     "data": {
      "text/html": [
       "<div>\n",
       "<style scoped>\n",
       "    .dataframe tbody tr th:only-of-type {\n",
       "        vertical-align: middle;\n",
       "    }\n",
       "\n",
       "    .dataframe tbody tr th {\n",
       "        vertical-align: top;\n",
       "    }\n",
       "\n",
       "    .dataframe thead th {\n",
       "        text-align: right;\n",
       "    }\n",
       "</style>\n",
       "<table border=\"1\" class=\"dataframe\">\n",
       "  <thead>\n",
       "    <tr style=\"text-align: right;\">\n",
       "      <th></th>\n",
       "      <th>class</th>\n",
       "      <th>pred_0</th>\n",
       "      <th>pred_1</th>\n",
       "      <th>prob_0</th>\n",
       "    </tr>\n",
       "  </thead>\n",
       "  <tbody>\n",
       "    <tr>\n",
       "      <th>0</th>\n",
       "      <td>0</td>\n",
       "      <td>1.068632</td>\n",
       "      <td>0.159835</td>\n",
       "      <td>0.812226</td>\n",
       "    </tr>\n",
       "    <tr>\n",
       "      <th>1</th>\n",
       "      <td>0</td>\n",
       "      <td>3.294977</td>\n",
       "      <td>-3.259186</td>\n",
       "      <td>0.997830</td>\n",
       "    </tr>\n",
       "    <tr>\n",
       "      <th>2</th>\n",
       "      <td>0</td>\n",
       "      <td>3.832854</td>\n",
       "      <td>-3.571375</td>\n",
       "      <td>0.995896</td>\n",
       "    </tr>\n",
       "    <tr>\n",
       "      <th>3</th>\n",
       "      <td>0</td>\n",
       "      <td>3.131480</td>\n",
       "      <td>-3.682596</td>\n",
       "      <td>0.997027</td>\n",
       "    </tr>\n",
       "    <tr>\n",
       "      <th>4</th>\n",
       "      <td>1</td>\n",
       "      <td>-0.789471</td>\n",
       "      <td>1.368004</td>\n",
       "      <td>0.230960</td>\n",
       "    </tr>\n",
       "  </tbody>\n",
       "</table>\n",
       "</div>"
      ],
      "text/plain": [
       "   class    pred_0    pred_1    prob_0\n",
       "0      0  1.068632  0.159835  0.812226\n",
       "1      0  3.294977 -3.259186  0.997830\n",
       "2      0  3.832854 -3.571375  0.995896\n",
       "3      0  3.131480 -3.682596  0.997027\n",
       "4      1 -0.789471  1.368004  0.230960"
      ]
     },
     "execution_count": 81,
     "metadata": {},
     "output_type": "execute_result"
    }
   ],
   "source": [
    "df_test2 = df_test2[['class', 'pred_0', 'pred_1', 'prob_0']]\n",
    "df_test2.head()"
   ]
  },
  {
   "cell_type": "code",
   "execution_count": 82,
   "id": "10d6d149",
   "metadata": {},
   "outputs": [],
   "source": [
    "df_test2.to_csv(DATA/'CNN_bayesian_prob_test2.csv', index=False)"
   ]
  },
  {
   "cell_type": "markdown",
   "id": "1b21f632",
   "metadata": {},
   "source": [
    "# Test with CS Loss model"
   ]
  },
  {
   "cell_type": "code",
   "execution_count": 113,
   "id": "1d5057cb",
   "metadata": {},
   "outputs": [],
   "source": [
    "df_test2_cs = pd.read_csv(CHEMBL205/'CHEMBL205_predictions_CNN_CS_loss_test2.csv')\n",
    "df_test2_cs['preds'] = [get_substring_list(r['predictions'].split(' '))  for i, r in df_test2_cs.iterrows()]"
   ]
  },
  {
   "cell_type": "code",
   "execution_count": 114,
   "id": "f944a561",
   "metadata": {},
   "outputs": [
    {
     "data": {
      "text/html": [
       "<div>\n",
       "<style scoped>\n",
       "    .dataframe tbody tr th:only-of-type {\n",
       "        vertical-align: middle;\n",
       "    }\n",
       "\n",
       "    .dataframe tbody tr th {\n",
       "        vertical-align: top;\n",
       "    }\n",
       "\n",
       "    .dataframe thead th {\n",
       "        text-align: right;\n",
       "    }\n",
       "</style>\n",
       "<table border=\"1\" class=\"dataframe\">\n",
       "  <thead>\n",
       "    <tr style=\"text-align: right;\">\n",
       "      <th></th>\n",
       "      <th>class</th>\n",
       "      <th>predictions</th>\n",
       "      <th>predicted_class</th>\n",
       "      <th>preds</th>\n",
       "    </tr>\n",
       "  </thead>\n",
       "  <tbody>\n",
       "    <tr>\n",
       "      <th>0</th>\n",
       "      <td>0</td>\n",
       "      <td>[ 1.9198327 -1.2823217]</td>\n",
       "      <td>1.919833</td>\n",
       "      <td>[1.9198327, -1.2823217]</td>\n",
       "    </tr>\n",
       "    <tr>\n",
       "      <th>1</th>\n",
       "      <td>0</td>\n",
       "      <td>[ 3.725137 -2.178217]</td>\n",
       "      <td>3.725137</td>\n",
       "      <td>[3.725137, -2.178217]</td>\n",
       "    </tr>\n",
       "    <tr>\n",
       "      <th>2</th>\n",
       "      <td>0</td>\n",
       "      <td>[ 7.8391333 -6.633624 ]</td>\n",
       "      <td>7.839133</td>\n",
       "      <td>[7.8391333, -6.633624]</td>\n",
       "    </tr>\n",
       "    <tr>\n",
       "      <th>3</th>\n",
       "      <td>0</td>\n",
       "      <td>[ 7.369962  -6.2871866]</td>\n",
       "      <td>7.369962</td>\n",
       "      <td>[7.369962, -6.2871866]</td>\n",
       "    </tr>\n",
       "    <tr>\n",
       "      <th>4</th>\n",
       "      <td>1</td>\n",
       "      <td>[-1.3934275  2.0953865]</td>\n",
       "      <td>2.095387</td>\n",
       "      <td>[-1.3934275, 2.0953865]</td>\n",
       "    </tr>\n",
       "  </tbody>\n",
       "</table>\n",
       "</div>"
      ],
      "text/plain": [
       "   class              predictions  predicted_class                    preds\n",
       "0      0  [ 1.9198327 -1.2823217]         1.919833  [1.9198327, -1.2823217]\n",
       "1      0    [ 3.725137 -2.178217]         3.725137    [3.725137, -2.178217]\n",
       "2      0  [ 7.8391333 -6.633624 ]         7.839133   [7.8391333, -6.633624]\n",
       "3      0  [ 7.369962  -6.2871866]         7.369962   [7.369962, -6.2871866]\n",
       "4      1  [-1.3934275  2.0953865]         2.095387  [-1.3934275, 2.0953865]"
      ]
     },
     "execution_count": 114,
     "metadata": {},
     "output_type": "execute_result"
    }
   ],
   "source": [
    "df_test2_cs.head()"
   ]
  },
  {
   "cell_type": "code",
   "execution_count": 115,
   "id": "500a9875",
   "metadata": {},
   "outputs": [],
   "source": [
    "#probs = calculate_probs_CNN(df_CNN, df_test2_cs)"
   ]
  },
  {
   "cell_type": "code",
   "execution_count": 116,
   "id": "94998d31",
   "metadata": {},
   "outputs": [],
   "source": [
    "df_test2_cs['predictions'] = df_test2_cs['preds']\n",
    "#df_test2_cs['prob_0'] = probs\n",
    "df_test2_cs = df_test2_cs.drop(columns=['preds', 'predicted_class'])"
   ]
  },
  {
   "cell_type": "code",
   "execution_count": 117,
   "id": "0ee12d1c",
   "metadata": {},
   "outputs": [],
   "source": [
    "df_test2_cs['pred_0'] = [r['predictions'][0] for i, r in df_test2_cs.iterrows()]\n",
    "df_test2_cs['pred_1'] = [r['predictions'][1] for i, r in df_test2_cs.iterrows()]\n",
    "df_test2_cs = df_test2_cs.drop(columns=['predictions'])"
   ]
  },
  {
   "cell_type": "code",
   "execution_count": 118,
   "id": "83d096ec",
   "metadata": {},
   "outputs": [
    {
     "data": {
      "text/html": [
       "<div>\n",
       "<style scoped>\n",
       "    .dataframe tbody tr th:only-of-type {\n",
       "        vertical-align: middle;\n",
       "    }\n",
       "\n",
       "    .dataframe tbody tr th {\n",
       "        vertical-align: top;\n",
       "    }\n",
       "\n",
       "    .dataframe thead th {\n",
       "        text-align: right;\n",
       "    }\n",
       "</style>\n",
       "<table border=\"1\" class=\"dataframe\">\n",
       "  <thead>\n",
       "    <tr style=\"text-align: right;\">\n",
       "      <th></th>\n",
       "      <th>class</th>\n",
       "      <th>pred_0</th>\n",
       "      <th>pred_1</th>\n",
       "    </tr>\n",
       "  </thead>\n",
       "  <tbody>\n",
       "    <tr>\n",
       "      <th>0</th>\n",
       "      <td>0</td>\n",
       "      <td>1.919833</td>\n",
       "      <td>-1.282322</td>\n",
       "    </tr>\n",
       "    <tr>\n",
       "      <th>1</th>\n",
       "      <td>0</td>\n",
       "      <td>3.725137</td>\n",
       "      <td>-2.178217</td>\n",
       "    </tr>\n",
       "    <tr>\n",
       "      <th>2</th>\n",
       "      <td>0</td>\n",
       "      <td>7.839133</td>\n",
       "      <td>-6.633624</td>\n",
       "    </tr>\n",
       "    <tr>\n",
       "      <th>3</th>\n",
       "      <td>0</td>\n",
       "      <td>7.369962</td>\n",
       "      <td>-6.287187</td>\n",
       "    </tr>\n",
       "    <tr>\n",
       "      <th>4</th>\n",
       "      <td>1</td>\n",
       "      <td>-1.393428</td>\n",
       "      <td>2.095387</td>\n",
       "    </tr>\n",
       "  </tbody>\n",
       "</table>\n",
       "</div>"
      ],
      "text/plain": [
       "   class    pred_0    pred_1\n",
       "0      0  1.919833 -1.282322\n",
       "1      0  3.725137 -2.178217\n",
       "2      0  7.839133 -6.633624\n",
       "3      0  7.369962 -6.287187\n",
       "4      1 -1.393428  2.095387"
      ]
     },
     "execution_count": 118,
     "metadata": {},
     "output_type": "execute_result"
    }
   ],
   "source": [
    "df_test2_cs.head()"
   ]
  },
  {
   "cell_type": "code",
   "execution_count": 119,
   "id": "750c1c34",
   "metadata": {},
   "outputs": [],
   "source": [
    "df_test2_cs.to_csv(DATA/'CNN_prob_CS_loss_test2.csv', index=False)"
   ]
  },
  {
   "cell_type": "markdown",
   "id": "ce278fdb",
   "metadata": {},
   "source": [
    "## Test for utility matrix"
   ]
  },
  {
   "cell_type": "code",
   "execution_count": 136,
   "id": "5999225b",
   "metadata": {},
   "outputs": [],
   "source": [
    "''' \n",
    "Utility matrix format: \n",
    "    [[TN, FN],\n",
    "     [FP, TP]]\n",
    "'''\n",
    "utility = np.array([[1, 0], \n",
    "                    [0, 1]], dtype=np.float64)"
   ]
  },
  {
   "cell_type": "code",
   "execution_count": 138,
   "id": "afa435d8",
   "metadata": {},
   "outputs": [],
   "source": [
    "df = df_preds\n",
    "df['expected_utility'] = [get_expected_utility(utility, [r['direct_prob_0'], 1 - r['direct_prob_0']]) \n",
    "                          for i, r in df.iterrows()]\n",
    "df['best_utility_class'] = torch.tensor(df['expected_utility']).argmax(axis=1)"
   ]
  },
  {
   "cell_type": "code",
   "execution_count": 139,
   "id": "5dd3fe2a",
   "metadata": {},
   "outputs": [
    {
     "data": {
      "text/html": [
       "<div>\n",
       "<style scoped>\n",
       "    .dataframe tbody tr th:only-of-type {\n",
       "        vertical-align: middle;\n",
       "    }\n",
       "\n",
       "    .dataframe tbody tr th {\n",
       "        vertical-align: top;\n",
       "    }\n",
       "\n",
       "    .dataframe thead th {\n",
       "        text-align: right;\n",
       "    }\n",
       "</style>\n",
       "<table border=\"1\" class=\"dataframe\">\n",
       "  <thead>\n",
       "    <tr style=\"text-align: right;\">\n",
       "      <th></th>\n",
       "      <th>class</th>\n",
       "      <th>predictions</th>\n",
       "      <th>predicted_class</th>\n",
       "      <th>direct_prob_0</th>\n",
       "      <th>expected_utility</th>\n",
       "      <th>best_utility_class</th>\n",
       "    </tr>\n",
       "  </thead>\n",
       "  <tbody>\n",
       "    <tr>\n",
       "      <th>0</th>\n",
       "      <td>0</td>\n",
       "      <td>[1.0686345, 0.15982893]</td>\n",
       "      <td>0</td>\n",
       "      <td>0.812227</td>\n",
       "      <td>[0.8122267607382875, 0.18777323926171252]</td>\n",
       "      <td>0</td>\n",
       "    </tr>\n",
       "    <tr>\n",
       "      <th>1</th>\n",
       "      <td>0</td>\n",
       "      <td>[3.294972, -3.2591784]</td>\n",
       "      <td>0</td>\n",
       "      <td>0.997830</td>\n",
       "      <td>[0.997829581810393, 0.0021704181896069485]</td>\n",
       "      <td>0</td>\n",
       "    </tr>\n",
       "    <tr>\n",
       "      <th>2</th>\n",
       "      <td>0</td>\n",
       "      <td>[3.8328488, -3.5713756]</td>\n",
       "      <td>0</td>\n",
       "      <td>0.995896</td>\n",
       "      <td>[0.9958956353188672, 0.004104364681132844]</td>\n",
       "      <td>0</td>\n",
       "    </tr>\n",
       "    <tr>\n",
       "      <th>3</th>\n",
       "      <td>0</td>\n",
       "      <td>[3.1314778, -3.682592]</td>\n",
       "      <td>0</td>\n",
       "      <td>0.997027</td>\n",
       "      <td>[0.9970271557275053, 0.002972844272494668]</td>\n",
       "      <td>0</td>\n",
       "    </tr>\n",
       "    <tr>\n",
       "      <th>4</th>\n",
       "      <td>1</td>\n",
       "      <td>[-0.789468, 1.3680037]</td>\n",
       "      <td>1</td>\n",
       "      <td>0.230961</td>\n",
       "      <td>[0.2309608425386519, 0.7690391574613481]</td>\n",
       "      <td>1</td>\n",
       "    </tr>\n",
       "  </tbody>\n",
       "</table>\n",
       "</div>"
      ],
      "text/plain": [
       "   class              predictions  predicted_class  direct_prob_0  \\\n",
       "0      0  [1.0686345, 0.15982893]                0       0.812227   \n",
       "1      0   [3.294972, -3.2591784]                0       0.997830   \n",
       "2      0  [3.8328488, -3.5713756]                0       0.995896   \n",
       "3      0   [3.1314778, -3.682592]                0       0.997027   \n",
       "4      1   [-0.789468, 1.3680037]                1       0.230961   \n",
       "\n",
       "                             expected_utility  best_utility_class  \n",
       "0   [0.8122267607382875, 0.18777323926171252]                   0  \n",
       "1  [0.997829581810393, 0.0021704181896069485]                   0  \n",
       "2  [0.9958956353188672, 0.004104364681132844]                   0  \n",
       "3  [0.9970271557275053, 0.002972844272494668]                   0  \n",
       "4    [0.2309608425386519, 0.7690391574613481]                   1  "
      ]
     },
     "execution_count": 139,
     "metadata": {},
     "output_type": "execute_result"
    }
   ],
   "source": [
    "df.head()"
   ]
  },
  {
   "cell_type": "code",
   "execution_count": 181,
   "id": "d790d2d3",
   "metadata": {},
   "outputs": [
    {
     "data": {
      "text/html": [
       "<div>\n",
       "<style scoped>\n",
       "    .dataframe tbody tr th:only-of-type {\n",
       "        vertical-align: middle;\n",
       "    }\n",
       "\n",
       "    .dataframe tbody tr th {\n",
       "        vertical-align: top;\n",
       "    }\n",
       "\n",
       "    .dataframe thead th {\n",
       "        text-align: right;\n",
       "    }\n",
       "</style>\n",
       "<table border=\"1\" class=\"dataframe\">\n",
       "  <thead>\n",
       "    <tr style=\"text-align: right;\">\n",
       "      <th></th>\n",
       "      <th>class</th>\n",
       "      <th>direct_prob_0</th>\n",
       "      <th>prediction_0</th>\n",
       "    </tr>\n",
       "  </thead>\n",
       "  <tbody>\n",
       "    <tr>\n",
       "      <th>0</th>\n",
       "      <td>0</td>\n",
       "      <td>0.812227</td>\n",
       "      <td>1.068634</td>\n",
       "    </tr>\n",
       "    <tr>\n",
       "      <th>1</th>\n",
       "      <td>0</td>\n",
       "      <td>0.997830</td>\n",
       "      <td>3.294972</td>\n",
       "    </tr>\n",
       "    <tr>\n",
       "      <th>2</th>\n",
       "      <td>0</td>\n",
       "      <td>0.995896</td>\n",
       "      <td>3.832849</td>\n",
       "    </tr>\n",
       "    <tr>\n",
       "      <th>3</th>\n",
       "      <td>0</td>\n",
       "      <td>0.997027</td>\n",
       "      <td>3.131478</td>\n",
       "    </tr>\n",
       "    <tr>\n",
       "      <th>4</th>\n",
       "      <td>1</td>\n",
       "      <td>0.230961</td>\n",
       "      <td>-0.789468</td>\n",
       "    </tr>\n",
       "  </tbody>\n",
       "</table>\n",
       "</div>"
      ],
      "text/plain": [
       "   class  direct_prob_0  prediction_0\n",
       "0      0       0.812227      1.068634\n",
       "1      0       0.997830      3.294972\n",
       "2      0       0.995896      3.832849\n",
       "3      0       0.997027      3.131478\n",
       "4      1       0.230961     -0.789468"
      ]
     },
     "execution_count": 181,
     "metadata": {},
     "output_type": "execute_result"
    }
   ],
   "source": []
  },
  {
   "cell_type": "code",
   "execution_count": 189,
   "id": "c06ca0be",
   "metadata": {},
   "outputs": [],
   "source": [
    "df_save = df_preds\n",
    "df_save.to_csv(DATA/'CNN_direct_prob.csv', index=False)"
   ]
  },
  {
   "cell_type": "markdown",
   "id": "11e6d4c0",
   "metadata": {},
   "source": [
    "# Create and compare different utility matrix for test set 2 in CNN and RF models"
   ]
  },
  {
   "cell_type": "code",
   "execution_count": 237,
   "id": "b392d9a2",
   "metadata": {},
   "outputs": [],
   "source": [
    "''' \n",
    "Utility matrix format: \n",
    "    [[TN, FN],\n",
    "     [FP, TP]]\n",
    "'''\n",
    "ums = {\n",
    "    'um1' : [[1, 0], [0, 1]], # accuracy\n",
    "    'um2' : [[1, -1], [0, 1]],\n",
    "    'um3' : [[1, 0], [-1, 1]],\n",
    "    'um4' : [[10, 0], [0, 1]],\n",
    "    'um5' : [[1, 0], [0, 10]],\n",
    "    'um6' : [[1, -10], [0, 1]],\n",
    "    'um7' : [[1, 0], [-10, 1]],\n",
    "    'um8' : [[5, 0], [0, 1]],\n",
    "    'um9' : [[100, 0], [0, 1]],\n",
    "    'um10' : [[1, 0], [0, 5]],\n",
    "    'um11' : [[1, 0], [0, 100]],\n",
    "    'um12' : [[1, 0], [-5, 1]],\n",
    "    'um13' : [[1, -5], [0, 1]],\n",
    "    'um14' : [[1, 0], [-100, 1]],\n",
    "    'um15' : [[1, -100], [0, 1]],\n",
    "    \n",
    "}"
   ]
  },
  {
   "cell_type": "markdown",
   "id": "5b3bf562",
   "metadata": {},
   "source": [
    "## Test for random forest model"
   ]
  },
  {
   "cell_type": "code",
   "execution_count": 135,
   "id": "7ace401c",
   "metadata": {},
   "outputs": [],
   "source": [
    "def choose_class(x, um=None):\n",
    "    \"\"\"\n",
    "    x = either one number between 0-1, or a (normalized) vector of probabilities\n",
    "        if it's one number then we are in a binary classification case\n",
    "        and x is the probability of CLASS 0\n",
    "    um = utility matrix in the format [[T0,F0],[F1,T1]] if None: Choose class based on x\n",
    "    \"\"\"\n",
    "    if type(x) == float or type(x) == np.float64: # x is float and is the probability of class 0\n",
    "        x = np.array([x])\n",
    "        x = np.concatenate((x, 1-x)) # transform into prob. vector       \n",
    "    else:\n",
    "        x = torch.sigmoid(torch.tensor(x))\n",
    "        x = np.array(x)\n",
    "    if um != None:\n",
    "        um = np.array(um)\n",
    "        utilities = np.matmul(um, x)\n",
    "        cl = np.argmax(utilities)\n",
    "    else:\n",
    "        cl = np.argmax(x)\n",
    "    return cl"
   ]
  },
  {
   "cell_type": "code",
   "execution_count": 121,
   "id": "8d716c5c",
   "metadata": {},
   "outputs": [],
   "source": [
    "def get_total_cost (um, cm):\n",
    "    um = np.array([np.array(x) for x in um])\n",
    "    um = np.array([[um[0][0], um[1][0]], [um[0][1], um[1][1]]]) # switch the ordering of                             \n",
    "    um = um - um.min()                                          #t he cm to match [[TN, FP], [FN, TP]]\n",
    "    um = um / um.max() # Matrix to have max = 1 and min = 0\n",
    "    s = um * cm\n",
    "    s = s.sum()\n",
    "    s = s / cm.sum()\n",
    "    return s"
   ]
  },
  {
   "cell_type": "code",
   "execution_count": 122,
   "id": "e1304d9c",
   "metadata": {},
   "outputs": [
    {
     "name": "stdout",
     "output_type": "stream",
     "text": [
      "<class 'pandas.core.frame.DataFrame'>\n",
      "RangeIndex: 3589 entries, 0 to 3588\n",
      "Data columns (total 4 columns):\n",
      " #   Column           Non-Null Count  Dtype  \n",
      "---  ------           --------------  -----  \n",
      " 0   class            3589 non-null   int64  \n",
      " 1   predicted_class  3589 non-null   int64  \n",
      " 2   pred_0           3589 non-null   float64\n",
      " 3   prob_0           3589 non-null   float64\n",
      "dtypes: float64(2), int64(2)\n",
      "memory usage: 112.3 KB\n"
     ]
    }
   ],
   "source": [
    "df_test2_RF = pd.read_csv(DATA/'RF_bayesian_prob_test2.csv')\n",
    "df_test2_RF.info()"
   ]
  },
  {
   "cell_type": "code",
   "execution_count": 123,
   "id": "47400991",
   "metadata": {},
   "outputs": [
    {
     "data": {
      "text/html": [
       "<div>\n",
       "<style scoped>\n",
       "    .dataframe tbody tr th:only-of-type {\n",
       "        vertical-align: middle;\n",
       "    }\n",
       "\n",
       "    .dataframe tbody tr th {\n",
       "        vertical-align: top;\n",
       "    }\n",
       "\n",
       "    .dataframe thead th {\n",
       "        text-align: right;\n",
       "    }\n",
       "</style>\n",
       "<table border=\"1\" class=\"dataframe\">\n",
       "  <thead>\n",
       "    <tr style=\"text-align: right;\">\n",
       "      <th></th>\n",
       "      <th>class</th>\n",
       "      <th>predicted_class</th>\n",
       "      <th>pred_0</th>\n",
       "      <th>prob_0</th>\n",
       "    </tr>\n",
       "  </thead>\n",
       "  <tbody>\n",
       "    <tr>\n",
       "      <th>0</th>\n",
       "      <td>0</td>\n",
       "      <td>0</td>\n",
       "      <td>0.975</td>\n",
       "      <td>0.997678</td>\n",
       "    </tr>\n",
       "    <tr>\n",
       "      <th>1</th>\n",
       "      <td>0</td>\n",
       "      <td>0</td>\n",
       "      <td>0.990</td>\n",
       "      <td>0.998059</td>\n",
       "    </tr>\n",
       "    <tr>\n",
       "      <th>2</th>\n",
       "      <td>0</td>\n",
       "      <td>0</td>\n",
       "      <td>0.950</td>\n",
       "      <td>0.995711</td>\n",
       "    </tr>\n",
       "    <tr>\n",
       "      <th>3</th>\n",
       "      <td>0</td>\n",
       "      <td>0</td>\n",
       "      <td>0.995</td>\n",
       "      <td>0.997517</td>\n",
       "    </tr>\n",
       "    <tr>\n",
       "      <th>4</th>\n",
       "      <td>1</td>\n",
       "      <td>1</td>\n",
       "      <td>0.105</td>\n",
       "      <td>0.093190</td>\n",
       "    </tr>\n",
       "  </tbody>\n",
       "</table>\n",
       "</div>"
      ],
      "text/plain": [
       "   class  predicted_class  pred_0    prob_0\n",
       "0      0                0   0.975  0.997678\n",
       "1      0                0   0.990  0.998059\n",
       "2      0                0   0.950  0.995711\n",
       "3      0                0   0.995  0.997517\n",
       "4      1                1   0.105  0.093190"
      ]
     },
     "execution_count": 123,
     "metadata": {},
     "output_type": "execute_result"
    }
   ],
   "source": [
    "df_test2_RF.head()"
   ]
  },
  {
   "cell_type": "code",
   "execution_count": 124,
   "id": "838e16d8",
   "metadata": {},
   "outputs": [
    {
     "data": {
      "text/html": [
       "<div>\n",
       "<style scoped>\n",
       "    .dataframe tbody tr th:only-of-type {\n",
       "        vertical-align: middle;\n",
       "    }\n",
       "\n",
       "    .dataframe tbody tr th {\n",
       "        vertical-align: top;\n",
       "    }\n",
       "\n",
       "    .dataframe thead th {\n",
       "        text-align: right;\n",
       "    }\n",
       "</style>\n",
       "<table border=\"1\" class=\"dataframe\">\n",
       "  <thead>\n",
       "    <tr style=\"text-align: right;\">\n",
       "      <th></th>\n",
       "      <th>class</th>\n",
       "      <th>predicted_class</th>\n",
       "      <th>pred_0</th>\n",
       "      <th>prob_0</th>\n",
       "    </tr>\n",
       "  </thead>\n",
       "  <tbody>\n",
       "    <tr>\n",
       "      <th>0</th>\n",
       "      <td>0</td>\n",
       "      <td>0</td>\n",
       "      <td>0.975</td>\n",
       "      <td>0.997678</td>\n",
       "    </tr>\n",
       "    <tr>\n",
       "      <th>1</th>\n",
       "      <td>0</td>\n",
       "      <td>0</td>\n",
       "      <td>0.990</td>\n",
       "      <td>0.998059</td>\n",
       "    </tr>\n",
       "    <tr>\n",
       "      <th>2</th>\n",
       "      <td>0</td>\n",
       "      <td>0</td>\n",
       "      <td>0.950</td>\n",
       "      <td>0.995711</td>\n",
       "    </tr>\n",
       "    <tr>\n",
       "      <th>3</th>\n",
       "      <td>0</td>\n",
       "      <td>0</td>\n",
       "      <td>0.995</td>\n",
       "      <td>0.997517</td>\n",
       "    </tr>\n",
       "    <tr>\n",
       "      <th>4</th>\n",
       "      <td>1</td>\n",
       "      <td>1</td>\n",
       "      <td>0.105</td>\n",
       "      <td>0.093190</td>\n",
       "    </tr>\n",
       "  </tbody>\n",
       "</table>\n",
       "</div>"
      ],
      "text/plain": [
       "   class  predicted_class  pred_0    prob_0\n",
       "0      0                0   0.975  0.997678\n",
       "1      0                0   0.990  0.998059\n",
       "2      0                0   0.950  0.995711\n",
       "3      0                0   0.995  0.997517\n",
       "4      1                1   0.105  0.093190"
      ]
     },
     "execution_count": 124,
     "metadata": {},
     "output_type": "execute_result"
    }
   ],
   "source": [
    "#df_test2_RF['predictions'] = [np.array([r['pred_0'], 1. - r['pred_0']]) for i, r in df_test2_RF.iterrows()]\n",
    "#df_test2_RF['probabilities'] = [np.array([r['prob_0'], 1 - r['prob_0']]) for i, r in df_test2_RF.iterrows()]\n",
    "df_test2_RF.head()"
   ]
  },
  {
   "cell_type": "code",
   "execution_count": 125,
   "id": "4b56618c",
   "metadata": {},
   "outputs": [],
   "source": [
    "df_scores = pd.DataFrame()\n",
    "df_scores['ums'] = list(ums.values())"
   ]
  },
  {
   "cell_type": "code",
   "execution_count": 126,
   "id": "1ab535f9",
   "metadata": {},
   "outputs": [
    {
     "data": {
      "text/html": [
       "<div>\n",
       "<style scoped>\n",
       "    .dataframe tbody tr th:only-of-type {\n",
       "        vertical-align: middle;\n",
       "    }\n",
       "\n",
       "    .dataframe tbody tr th {\n",
       "        vertical-align: top;\n",
       "    }\n",
       "\n",
       "    .dataframe thead th {\n",
       "        text-align: right;\n",
       "    }\n",
       "</style>\n",
       "<table border=\"1\" class=\"dataframe\">\n",
       "  <thead>\n",
       "    <tr style=\"text-align: right;\">\n",
       "      <th></th>\n",
       "      <th>ums</th>\n",
       "    </tr>\n",
       "  </thead>\n",
       "  <tbody>\n",
       "    <tr>\n",
       "      <th>0</th>\n",
       "      <td>[[1, 0], [0, 1]]</td>\n",
       "    </tr>\n",
       "    <tr>\n",
       "      <th>1</th>\n",
       "      <td>[[1, -1], [0, 1]]</td>\n",
       "    </tr>\n",
       "    <tr>\n",
       "      <th>2</th>\n",
       "      <td>[[1, 0], [-1, 1]]</td>\n",
       "    </tr>\n",
       "    <tr>\n",
       "      <th>3</th>\n",
       "      <td>[[10, 0], [0, 1]]</td>\n",
       "    </tr>\n",
       "    <tr>\n",
       "      <th>4</th>\n",
       "      <td>[[1, 0], [0, 10]]</td>\n",
       "    </tr>\n",
       "    <tr>\n",
       "      <th>5</th>\n",
       "      <td>[[1, -10], [0, 1]]</td>\n",
       "    </tr>\n",
       "    <tr>\n",
       "      <th>6</th>\n",
       "      <td>[[1, 0], [-10, 1]]</td>\n",
       "    </tr>\n",
       "    <tr>\n",
       "      <th>7</th>\n",
       "      <td>[[5, 0], [0, 1]]</td>\n",
       "    </tr>\n",
       "    <tr>\n",
       "      <th>8</th>\n",
       "      <td>[[100, 0], [0, 1]]</td>\n",
       "    </tr>\n",
       "    <tr>\n",
       "      <th>9</th>\n",
       "      <td>[[1, 0], [0, 5]]</td>\n",
       "    </tr>\n",
       "    <tr>\n",
       "      <th>10</th>\n",
       "      <td>[[1, 0], [0, 100]]</td>\n",
       "    </tr>\n",
       "    <tr>\n",
       "      <th>11</th>\n",
       "      <td>[[1, 0], [-5, 1]]</td>\n",
       "    </tr>\n",
       "    <tr>\n",
       "      <th>12</th>\n",
       "      <td>[[1, -5], [0, 1]]</td>\n",
       "    </tr>\n",
       "    <tr>\n",
       "      <th>13</th>\n",
       "      <td>[[1, 0], [-100, 1]]</td>\n",
       "    </tr>\n",
       "    <tr>\n",
       "      <th>14</th>\n",
       "      <td>[[1, -100], [0, 1]]</td>\n",
       "    </tr>\n",
       "  </tbody>\n",
       "</table>\n",
       "</div>"
      ],
      "text/plain": [
       "                    ums\n",
       "0      [[1, 0], [0, 1]]\n",
       "1     [[1, -1], [0, 1]]\n",
       "2     [[1, 0], [-1, 1]]\n",
       "3     [[10, 0], [0, 1]]\n",
       "4     [[1, 0], [0, 10]]\n",
       "5    [[1, -10], [0, 1]]\n",
       "6    [[1, 0], [-10, 1]]\n",
       "7      [[5, 0], [0, 1]]\n",
       "8    [[100, 0], [0, 1]]\n",
       "9      [[1, 0], [0, 5]]\n",
       "10   [[1, 0], [0, 100]]\n",
       "11    [[1, 0], [-5, 1]]\n",
       "12    [[1, -5], [0, 1]]\n",
       "13  [[1, 0], [-100, 1]]\n",
       "14  [[1, -100], [0, 1]]"
      ]
     },
     "execution_count": 126,
     "metadata": {},
     "output_type": "execute_result"
    }
   ],
   "source": [
    "df_scores"
   ]
  },
  {
   "cell_type": "code",
   "execution_count": 148,
   "id": "17110cbd",
   "metadata": {},
   "outputs": [],
   "source": [
    "def get_utility_scores(df, um, verbose=True):\n",
    "    '''\n",
    "    Method for calculating the total gains from utility matrix for regular predictions \n",
    "    and bayesian corrected predictions\n",
    "    df = DataFrame for predictions and bayesian probabilites of class 0\n",
    "    um = utility matrix in the format [[T0,F0],[F1,T1]]\n",
    "    verbose = if True: Outputs confusion matrix and text\n",
    "    '''\n",
    "    c1, c2, c3 = 0, 0, 0\n",
    "    # Calculations for standard output\n",
    "    y = df['class'].to_numpy()\n",
    "    if 'pred_1' in df.columns:\n",
    "        y_pred = [choose_class([r['pred_0'], r['pred_1']]) for i, r in df.iterrows()]\n",
    "    else:\n",
    "        y_pred = [choose_class(r['pred_0']) for i, r in df.iterrows()]\n",
    "    cm1 = confusion_matrix(y, y_pred)\n",
    "    c1 = get_total_cost(um, cm1)\n",
    "    if verbose: \n",
    "        f = sns.heatmap(cm1, annot=True, fmt='d')\n",
    "        print('**Output for the standard predictions from algorithm**')\n",
    "        print(f'Utility Matrix: {um}')\n",
    "        print(f'Total gains for the Utility Matrix: {c1}')\n",
    "        print('Confusion matrix:')\n",
    "        plt.show()\n",
    "    # Calculations for standard output with expected utility class choice\n",
    "    if 'pred_1' in df.columns:\n",
    "        y_pred = [choose_class([r['pred_0'], r['pred_1']], um) for i, r in df.iterrows()]\n",
    "    else:\n",
    "        y_pred = [choose_class(r['pred_0'], um) for i, r in df.iterrows()]\n",
    "    cm2 = confusion_matrix(y, y_pred)\n",
    "    c2 = get_total_cost(um, cm2)\n",
    "    if verbose: \n",
    "        f = sns.heatmap(cm2, annot=True, fmt='d')\n",
    "        print('**Output for the standard predictions from algorithm with expected utility**')\n",
    "        print(f'Utility Matrix: {um}')\n",
    "        print(f'Total gains for the Utility Matrix: {c2}')\n",
    "        print('Confusion matrix:')\n",
    "        plt.show()\n",
    "    if 'prob_0' in df.columns: \n",
    "        # Calculations for bayesian probability and expected utility class choice\n",
    "        y_pred = [choose_class(r['prob_0'], um) for i, r in df.iterrows()]\n",
    "        cm3 = confusion_matrix(y, y_pred)\n",
    "        c3 = get_total_cost(um, cm3)\n",
    "        if verbose: \n",
    "            f = sns.heatmap(cm3, annot=True, fmt='d')\n",
    "            print('**Output for the bayesian calculations with expected utility**')\n",
    "            print(f'Utility Matrix: {um}')\n",
    "            print(f'Total gains: {c3}')\n",
    "            print('Confusion matrix:')\n",
    "            plt.show()\n",
    "    return c1, c2, c3"
   ]
  },
  {
   "cell_type": "code",
   "execution_count": 149,
   "id": "b402b5e2",
   "metadata": {},
   "outputs": [
    {
     "name": "stdout",
     "output_type": "stream",
     "text": [
      "**Output for the standard predictions from algorithm**\n",
      "Utility Matrix: [[1, 0], [-10, 10]]\n",
      "Total gains for the Utility Matrix: 0.5700195040401227\n",
      "Confusion matrix:\n"
     ]
    },
    {
     "data": {
      "image/png": "[encoded data removed]",
      "text/plain": [
       "<Figure size 432x288 with 2 Axes>"
      ]
     },
     "metadata": {
      "needs_background": "light"
     },
     "output_type": "display_data"
    },
    {
     "name": "stdout",
     "output_type": "stream",
     "text": [
      "**Output for the standard predictions from algorithm with expected utility**\n",
      "Utility Matrix: [[1, 0], [-10, 10]]\n",
      "Total gains for the Utility Matrix: 0.5706603510727223\n",
      "Confusion matrix:\n"
     ]
    },
    {
     "data": {
      "image/png": "[encoded data removed]",
      "text/plain": [
       "<Figure size 432x288 with 2 Axes>"
      ]
     },
     "metadata": {
      "needs_background": "light"
     },
     "output_type": "display_data"
    },
    {
     "name": "stdout",
     "output_type": "stream",
     "text": [
      "**Output for the bayesian calculations with expected utility**\n",
      "Utility Matrix: [[1, 0], [-10, 10]]\n",
      "Total gains: 0.5707300083588744\n",
      "Confusion matrix:\n"
     ]
    },
    {
     "data": {
      "image/png": "[encoded data removed]",
      "text/plain": [
       "<Figure size 432x288 with 2 Axes>"
      ]
     },
     "metadata": {
      "needs_background": "light"
     },
     "output_type": "display_data"
    }
   ],
   "source": [
    "c1, c2, c3 = get_utility_scores(df_test2_CNN, [[1, 0], [-10, 10]])"
   ]
  },
  {
   "cell_type": "code",
   "execution_count": 358,
   "id": "68d2f24a",
   "metadata": {},
   "outputs": [
    {
     "data": {
      "text/plain": [
       "array([list([[1, 0], [0, 1]])], dtype=object)"
      ]
     },
     "execution_count": 358,
     "metadata": {},
     "output_type": "execute_result"
    }
   ],
   "source": [
    "df_scores.iloc[0].to_numpy()"
   ]
  },
  {
   "cell_type": "code",
   "execution_count": 359,
   "id": "f90ea136",
   "metadata": {},
   "outputs": [],
   "source": [
    "um = np.array([[1, 0], [0, 1]])"
   ]
  },
  {
   "cell_type": "code",
   "execution_count": 360,
   "id": "adb748d7",
   "metadata": {},
   "outputs": [
    {
     "data": {
      "text/plain": [
       "array([[1., 0.],\n",
       "       [0., 1.]])"
      ]
     },
     "execution_count": 360,
     "metadata": {},
     "output_type": "execute_result"
    }
   ],
   "source": [
    "um = um - um.min()\n",
    "um = um / um.max()\n",
    "um"
   ]
  },
  {
   "cell_type": "code",
   "execution_count": 361,
   "id": "545d63f5",
   "metadata": {},
   "outputs": [
    {
     "data": {
      "text/plain": [
       "1.0"
      ]
     },
     "execution_count": 361,
     "metadata": {},
     "output_type": "execute_result"
    }
   ],
   "source": [
    "um[1][1]"
   ]
  },
  {
   "cell_type": "markdown",
   "id": "80cd0c2e",
   "metadata": {},
   "source": [
    "# Get the scores for all the different utility matrixes"
   ]
  },
  {
   "cell_type": "code",
   "execution_count": 137,
   "id": "1c7abc3e",
   "metadata": {},
   "outputs": [],
   "source": [
    "df_scores = pd.DataFrame()\n",
    "df_scores['ums'] = list(ums.values())"
   ]
  },
  {
   "cell_type": "code",
   "execution_count": 138,
   "id": "cc70d6f7",
   "metadata": {},
   "outputs": [
    {
     "data": {
      "text/plain": [
       "[0.9749233769852327,\n",
       " 0.98202842017275,\n",
       " 0.9807745890220118,\n",
       " 0.9091668988576205,\n",
       " 0.17305656171635553,\n",
       " 0.991970414650827,\n",
       " 0.9917424453506928,\n",
       " 0.9146837559208694,\n",
       " 0.9091668988576205,\n",
       " 0.2607411535246587,\n",
       " 0.09729172471440513,\n",
       " 0.9887155196433547,\n",
       " 0.9887155196433547,\n",
       " 0.999100662364927,\n",
       " 0.9973792308180387]"
      ]
     },
     "execution_count": 138,
     "metadata": {},
     "output_type": "execute_result"
    }
   ],
   "source": [
    "scores1 = []\n",
    "scores2 = []\n",
    "scores3 = []\n",
    "for i, r in df_scores.iterrows():\n",
    "    s1, s2, s3 = get_utility_scores(df_test2_RF, r['ums'], verbose=False)\n",
    "    scores1.append(s1)\n",
    "    scores2.append(s2)\n",
    "    scores3.append(s3)\n",
    "scores3"
   ]
  },
  {
   "cell_type": "code",
   "execution_count": 139,
   "id": "d2888f91",
   "metadata": {},
   "outputs": [
    {
     "data": {
      "text/html": [
       "<div>\n",
       "<style scoped>\n",
       "    .dataframe tbody tr th:only-of-type {\n",
       "        vertical-align: middle;\n",
       "    }\n",
       "\n",
       "    .dataframe tbody tr th {\n",
       "        vertical-align: top;\n",
       "    }\n",
       "\n",
       "    .dataframe thead th {\n",
       "        text-align: right;\n",
       "    }\n",
       "</style>\n",
       "<table border=\"1\" class=\"dataframe\">\n",
       "  <thead>\n",
       "    <tr style=\"text-align: right;\">\n",
       "      <th></th>\n",
       "      <th>ums</th>\n",
       "      <th>RF_output</th>\n",
       "      <th>RF_utility</th>\n",
       "      <th>RF_bayesian_utility</th>\n",
       "    </tr>\n",
       "  </thead>\n",
       "  <tbody>\n",
       "    <tr>\n",
       "      <th>0</th>\n",
       "      <td>[[1, 0], [0, 1]]</td>\n",
       "      <td>0.967122</td>\n",
       "      <td>0.967122</td>\n",
       "      <td>0.974923</td>\n",
       "    </tr>\n",
       "    <tr>\n",
       "      <th>1</th>\n",
       "      <td>[[1, -1], [0, 1]]</td>\n",
       "      <td>0.971441</td>\n",
       "      <td>0.982725</td>\n",
       "      <td>0.982028</td>\n",
       "    </tr>\n",
       "    <tr>\n",
       "      <th>2</th>\n",
       "      <td>[[1, 0], [-1, 1]]</td>\n",
       "      <td>0.979242</td>\n",
       "      <td>0.974645</td>\n",
       "      <td>0.980775</td>\n",
       "    </tr>\n",
       "    <tr>\n",
       "      <th>3</th>\n",
       "      <td>[[10, 0], [0, 1]]</td>\n",
       "      <td>0.907189</td>\n",
       "      <td>0.909724</td>\n",
       "      <td>0.909167</td>\n",
       "    </tr>\n",
       "    <tr>\n",
       "      <th>4</th>\n",
       "      <td>[[1, 0], [0, 10]]</td>\n",
       "      <td>0.156645</td>\n",
       "      <td>0.170354</td>\n",
       "      <td>0.173057</td>\n",
       "    </tr>\n",
       "    <tr>\n",
       "      <th>5</th>\n",
       "      <td>[[1, -10], [0, 1]]</td>\n",
       "      <td>0.974974</td>\n",
       "      <td>0.988196</td>\n",
       "      <td>0.991970</td>\n",
       "    </tr>\n",
       "    <tr>\n",
       "      <th>6</th>\n",
       "      <td>[[1, 0], [-10, 1]]</td>\n",
       "      <td>0.989159</td>\n",
       "      <td>0.992021</td>\n",
       "      <td>0.991742</td>\n",
       "    </tr>\n",
       "    <tr>\n",
       "      <th>7</th>\n",
       "      <td>[[5, 0], [0, 1]]</td>\n",
       "      <td>0.913848</td>\n",
       "      <td>0.912789</td>\n",
       "      <td>0.914684</td>\n",
       "    </tr>\n",
       "    <tr>\n",
       "      <th>8</th>\n",
       "      <td>[[100, 0], [0, 1]]</td>\n",
       "      <td>0.901195</td>\n",
       "      <td>0.909172</td>\n",
       "      <td>0.909167</td>\n",
       "    </tr>\n",
       "    <tr>\n",
       "      <th>9</th>\n",
       "      <td>[[1, 0], [0, 5]]</td>\n",
       "      <td>0.246698</td>\n",
       "      <td>0.260574</td>\n",
       "      <td>0.260741</td>\n",
       "    </tr>\n",
       "    <tr>\n",
       "      <th>10</th>\n",
       "      <td>[[1, 0], [0, 100]]</td>\n",
       "      <td>0.075598</td>\n",
       "      <td>0.092140</td>\n",
       "      <td>0.097292</td>\n",
       "    </tr>\n",
       "    <tr>\n",
       "      <th>11</th>\n",
       "      <td>[[1, 0], [-5, 1]]</td>\n",
       "      <td>0.987322</td>\n",
       "      <td>0.986719</td>\n",
       "      <td>0.988716</td>\n",
       "    </tr>\n",
       "    <tr>\n",
       "      <th>12</th>\n",
       "      <td>[[1, -5], [0, 1]]</td>\n",
       "      <td>0.974320</td>\n",
       "      <td>0.988994</td>\n",
       "      <td>0.988716</td>\n",
       "    </tr>\n",
       "    <tr>\n",
       "      <th>13</th>\n",
       "      <td>[[1, 0], [-100, 1]]</td>\n",
       "      <td>0.991122</td>\n",
       "      <td>0.999106</td>\n",
       "      <td>0.999101</td>\n",
       "    </tr>\n",
       "    <tr>\n",
       "      <th>14</th>\n",
       "      <td>[[1, -100], [0, 1]]</td>\n",
       "      <td>0.975674</td>\n",
       "      <td>0.992292</td>\n",
       "      <td>0.997379</td>\n",
       "    </tr>\n",
       "  </tbody>\n",
       "</table>\n",
       "</div>"
      ],
      "text/plain": [
       "                    ums  RF_output  RF_utility  RF_bayesian_utility\n",
       "0      [[1, 0], [0, 1]]   0.967122    0.967122             0.974923\n",
       "1     [[1, -1], [0, 1]]   0.971441    0.982725             0.982028\n",
       "2     [[1, 0], [-1, 1]]   0.979242    0.974645             0.980775\n",
       "3     [[10, 0], [0, 1]]   0.907189    0.909724             0.909167\n",
       "4     [[1, 0], [0, 10]]   0.156645    0.170354             0.173057\n",
       "5    [[1, -10], [0, 1]]   0.974974    0.988196             0.991970\n",
       "6    [[1, 0], [-10, 1]]   0.989159    0.992021             0.991742\n",
       "7      [[5, 0], [0, 1]]   0.913848    0.912789             0.914684\n",
       "8    [[100, 0], [0, 1]]   0.901195    0.909172             0.909167\n",
       "9      [[1, 0], [0, 5]]   0.246698    0.260574             0.260741\n",
       "10   [[1, 0], [0, 100]]   0.075598    0.092140             0.097292\n",
       "11    [[1, 0], [-5, 1]]   0.987322    0.986719             0.988716\n",
       "12    [[1, -5], [0, 1]]   0.974320    0.988994             0.988716\n",
       "13  [[1, 0], [-100, 1]]   0.991122    0.999106             0.999101\n",
       "14  [[1, -100], [0, 1]]   0.975674    0.992292             0.997379"
      ]
     },
     "execution_count": 139,
     "metadata": {},
     "output_type": "execute_result"
    }
   ],
   "source": [
    "df_scores['RF_output'] = scores1\n",
    "df_scores['RF_utility'] = scores2\n",
    "df_scores['RF_bayesian_utility'] = scores3\n",
    "df_scores"
   ]
  },
  {
   "cell_type": "code",
   "execution_count": 140,
   "id": "4bcd17fb",
   "metadata": {},
   "outputs": [],
   "source": [
    "df_test2_CNN = pd.read_csv(DATA/'CNN_bayesian_prob_test2.csv')"
   ]
  },
  {
   "cell_type": "code",
   "execution_count": 141,
   "id": "f3af0da7",
   "metadata": {},
   "outputs": [
    {
     "data": {
      "text/plain": [
       "[0.962385065477849,\n",
       " 0.9731122875452772,\n",
       " 0.9722764001114517,\n",
       " 0.9091668988576205,\n",
       " 0.16887712454722764,\n",
       " 0.9876896577927506,\n",
       " 0.9917424453506928,\n",
       " 0.9105600445806631,\n",
       " 0.9091668988576205,\n",
       " 0.25472276400111454,\n",
       " 0.09559208693229311,\n",
       " 0.9857899136249652,\n",
       " 0.9842110151388502,\n",
       " 0.999100662364927,\n",
       " 0.9956605579755523]"
      ]
     },
     "execution_count": 141,
     "metadata": {},
     "output_type": "execute_result"
    }
   ],
   "source": [
    "scores1 = []\n",
    "scores2 = []\n",
    "scores3 = []\n",
    "for i, r in df_scores.iterrows():\n",
    "    s1, s2, s3 = get_utility_scores(df_test2_CNN, r['ums'], verbose=False)\n",
    "    scores1.append(s1)\n",
    "    scores2.append(s2)\n",
    "    scores3.append(s3)\n",
    "scores3"
   ]
  },
  {
   "cell_type": "code",
   "execution_count": 142,
   "id": "6e54ab45",
   "metadata": {},
   "outputs": [
    {
     "data": {
      "text/html": [
       "<div>\n",
       "<style scoped>\n",
       "    .dataframe tbody tr th:only-of-type {\n",
       "        vertical-align: middle;\n",
       "    }\n",
       "\n",
       "    .dataframe tbody tr th {\n",
       "        vertical-align: top;\n",
       "    }\n",
       "\n",
       "    .dataframe thead th {\n",
       "        text-align: right;\n",
       "    }\n",
       "</style>\n",
       "<table border=\"1\" class=\"dataframe\">\n",
       "  <thead>\n",
       "    <tr style=\"text-align: right;\">\n",
       "      <th></th>\n",
       "      <th>ums</th>\n",
       "      <th>RF_output</th>\n",
       "      <th>RF_utility</th>\n",
       "      <th>RF_bayesian_utility</th>\n",
       "      <th>CNN_output</th>\n",
       "      <th>CNN_utility</th>\n",
       "      <th>CNN_bayesian_utility</th>\n",
       "    </tr>\n",
       "  </thead>\n",
       "  <tbody>\n",
       "    <tr>\n",
       "      <th>0</th>\n",
       "      <td>[[1, 0], [0, 1]]</td>\n",
       "      <td>0.967122</td>\n",
       "      <td>0.967122</td>\n",
       "      <td>0.974923</td>\n",
       "      <td>0.960713</td>\n",
       "      <td>0.960713</td>\n",
       "      <td>0.962385</td>\n",
       "    </tr>\n",
       "    <tr>\n",
       "      <th>1</th>\n",
       "      <td>[[1, -1], [0, 1]]</td>\n",
       "      <td>0.971441</td>\n",
       "      <td>0.982725</td>\n",
       "      <td>0.982028</td>\n",
       "      <td>0.972834</td>\n",
       "      <td>0.960992</td>\n",
       "      <td>0.973112</td>\n",
       "    </tr>\n",
       "    <tr>\n",
       "      <th>2</th>\n",
       "      <td>[[1, 0], [-1, 1]]</td>\n",
       "      <td>0.979242</td>\n",
       "      <td>0.974645</td>\n",
       "      <td>0.980775</td>\n",
       "      <td>0.968236</td>\n",
       "      <td>0.972973</td>\n",
       "      <td>0.972276</td>\n",
       "    </tr>\n",
       "    <tr>\n",
       "      <th>3</th>\n",
       "      <td>[[10, 0], [0, 1]]</td>\n",
       "      <td>0.907189</td>\n",
       "      <td>0.909724</td>\n",
       "      <td>0.909167</td>\n",
       "      <td>0.892505</td>\n",
       "      <td>0.908665</td>\n",
       "      <td>0.909167</td>\n",
       "    </tr>\n",
       "    <tr>\n",
       "      <th>4</th>\n",
       "      <td>[[1, 0], [0, 10]]</td>\n",
       "      <td>0.156645</td>\n",
       "      <td>0.170354</td>\n",
       "      <td>0.173057</td>\n",
       "      <td>0.164280</td>\n",
       "      <td>0.133853</td>\n",
       "      <td>0.168877</td>\n",
       "    </tr>\n",
       "    <tr>\n",
       "      <th>5</th>\n",
       "      <td>[[1, -10], [0, 1]]</td>\n",
       "      <td>0.974974</td>\n",
       "      <td>0.988196</td>\n",
       "      <td>0.991970</td>\n",
       "      <td>0.982750</td>\n",
       "      <td>0.952506</td>\n",
       "      <td>0.987690</td>\n",
       "    </tr>\n",
       "    <tr>\n",
       "      <th>6</th>\n",
       "      <td>[[1, 0], [-10, 1]]</td>\n",
       "      <td>0.989159</td>\n",
       "      <td>0.992021</td>\n",
       "      <td>0.991742</td>\n",
       "      <td>0.974391</td>\n",
       "      <td>0.991287</td>\n",
       "      <td>0.991742</td>\n",
       "    </tr>\n",
       "    <tr>\n",
       "      <th>7</th>\n",
       "      <td>[[5, 0], [0, 1]]</td>\n",
       "      <td>0.913848</td>\n",
       "      <td>0.912789</td>\n",
       "      <td>0.914684</td>\n",
       "      <td>0.900084</td>\n",
       "      <td>0.911842</td>\n",
       "      <td>0.910560</td>\n",
       "    </tr>\n",
       "    <tr>\n",
       "      <th>8</th>\n",
       "      <td>[[100, 0], [0, 1]]</td>\n",
       "      <td>0.901195</td>\n",
       "      <td>0.909172</td>\n",
       "      <td>0.909167</td>\n",
       "      <td>0.885684</td>\n",
       "      <td>0.909167</td>\n",
       "      <td>0.909167</td>\n",
       "    </tr>\n",
       "    <tr>\n",
       "      <th>9</th>\n",
       "      <td>[[1, 0], [0, 5]]</td>\n",
       "      <td>0.246698</td>\n",
       "      <td>0.260574</td>\n",
       "      <td>0.260741</td>\n",
       "      <td>0.252772</td>\n",
       "      <td>0.223516</td>\n",
       "      <td>0.254723</td>\n",
       "    </tr>\n",
       "    <tr>\n",
       "      <th>10</th>\n",
       "      <td>[[1, 0], [0, 100]]</td>\n",
       "      <td>0.075598</td>\n",
       "      <td>0.092140</td>\n",
       "      <td>0.097292</td>\n",
       "      <td>0.084636</td>\n",
       "      <td>0.090833</td>\n",
       "      <td>0.095592</td>\n",
       "    </tr>\n",
       "    <tr>\n",
       "      <th>11</th>\n",
       "      <td>[[1, 0], [-5, 1]]</td>\n",
       "      <td>0.987322</td>\n",
       "      <td>0.986719</td>\n",
       "      <td>0.988716</td>\n",
       "      <td>0.973252</td>\n",
       "      <td>0.985929</td>\n",
       "      <td>0.985790</td>\n",
       "    </tr>\n",
       "    <tr>\n",
       "      <th>12</th>\n",
       "      <td>[[1, -5], [0, 1]]</td>\n",
       "      <td>0.974320</td>\n",
       "      <td>0.988994</td>\n",
       "      <td>0.988716</td>\n",
       "      <td>0.980914</td>\n",
       "      <td>0.950404</td>\n",
       "      <td>0.984211</td>\n",
       "    </tr>\n",
       "    <tr>\n",
       "      <th>13</th>\n",
       "      <td>[[1, 0], [-100, 1]]</td>\n",
       "      <td>0.991122</td>\n",
       "      <td>0.999106</td>\n",
       "      <td>0.999101</td>\n",
       "      <td>0.975610</td>\n",
       "      <td>0.999101</td>\n",
       "      <td>0.999101</td>\n",
       "    </tr>\n",
       "    <tr>\n",
       "      <th>14</th>\n",
       "      <td>[[1, -100], [0, 1]]</td>\n",
       "      <td>0.975674</td>\n",
       "      <td>0.992292</td>\n",
       "      <td>0.997379</td>\n",
       "      <td>0.984714</td>\n",
       "      <td>0.990998</td>\n",
       "      <td>0.995661</td>\n",
       "    </tr>\n",
       "  </tbody>\n",
       "</table>\n",
       "</div>"
      ],
      "text/plain": [
       "                    ums  RF_output  RF_utility  RF_bayesian_utility  \\\n",
       "0      [[1, 0], [0, 1]]   0.967122    0.967122             0.974923   \n",
       "1     [[1, -1], [0, 1]]   0.971441    0.982725             0.982028   \n",
       "2     [[1, 0], [-1, 1]]   0.979242    0.974645             0.980775   \n",
       "3     [[10, 0], [0, 1]]   0.907189    0.909724             0.909167   \n",
       "4     [[1, 0], [0, 10]]   0.156645    0.170354             0.173057   \n",
       "5    [[1, -10], [0, 1]]   0.974974    0.988196             0.991970   \n",
       "6    [[1, 0], [-10, 1]]   0.989159    0.992021             0.991742   \n",
       "7      [[5, 0], [0, 1]]   0.913848    0.912789             0.914684   \n",
       "8    [[100, 0], [0, 1]]   0.901195    0.909172             0.909167   \n",
       "9      [[1, 0], [0, 5]]   0.246698    0.260574             0.260741   \n",
       "10   [[1, 0], [0, 100]]   0.075598    0.092140             0.097292   \n",
       "11    [[1, 0], [-5, 1]]   0.987322    0.986719             0.988716   \n",
       "12    [[1, -5], [0, 1]]   0.974320    0.988994             0.988716   \n",
       "13  [[1, 0], [-100, 1]]   0.991122    0.999106             0.999101   \n",
       "14  [[1, -100], [0, 1]]   0.975674    0.992292             0.997379   \n",
       "\n",
       "    CNN_output  CNN_utility  CNN_bayesian_utility  \n",
       "0     0.960713     0.960713              0.962385  \n",
       "1     0.972834     0.960992              0.973112  \n",
       "2     0.968236     0.972973              0.972276  \n",
       "3     0.892505     0.908665              0.909167  \n",
       "4     0.164280     0.133853              0.168877  \n",
       "5     0.982750     0.952506              0.987690  \n",
       "6     0.974391     0.991287              0.991742  \n",
       "7     0.900084     0.911842              0.910560  \n",
       "8     0.885684     0.909167              0.909167  \n",
       "9     0.252772     0.223516              0.254723  \n",
       "10    0.084636     0.090833              0.095592  \n",
       "11    0.973252     0.985929              0.985790  \n",
       "12    0.980914     0.950404              0.984211  \n",
       "13    0.975610     0.999101              0.999101  \n",
       "14    0.984714     0.990998              0.995661  "
      ]
     },
     "execution_count": 142,
     "metadata": {},
     "output_type": "execute_result"
    }
   ],
   "source": [
    "df_scores['CNN_output'] = scores1\n",
    "df_scores['CNN_utility'] = scores2\n",
    "df_scores['CNN_bayesian_utility'] = scores3\n",
    "df_scores"
   ]
  },
  {
   "cell_type": "markdown",
   "id": "a6c78db8",
   "metadata": {},
   "source": [
    "### Add Cost-sensitive model"
   ]
  },
  {
   "cell_type": "code",
   "execution_count": 182,
   "id": "3949e3b0",
   "metadata": {},
   "outputs": [],
   "source": [
    "df_test2_CS = pd.read_csv(DATA/'CNN_CS_loss_test2.csv')"
   ]
  },
  {
   "cell_type": "code",
   "execution_count": 183,
   "id": "f578531b",
   "metadata": {},
   "outputs": [
    {
     "data": {
      "text/html": [
       "<div>\n",
       "<style scoped>\n",
       "    .dataframe tbody tr th:only-of-type {\n",
       "        vertical-align: middle;\n",
       "    }\n",
       "\n",
       "    .dataframe tbody tr th {\n",
       "        vertical-align: top;\n",
       "    }\n",
       "\n",
       "    .dataframe thead th {\n",
       "        text-align: right;\n",
       "    }\n",
       "</style>\n",
       "<table border=\"1\" class=\"dataframe\">\n",
       "  <thead>\n",
       "    <tr style=\"text-align: right;\">\n",
       "      <th></th>\n",
       "      <th>class</th>\n",
       "      <th>pred_um1</th>\n",
       "      <th>pred_um2</th>\n",
       "      <th>pred_um3</th>\n",
       "      <th>pred_um4</th>\n",
       "      <th>pred_um5</th>\n",
       "      <th>pred_um6</th>\n",
       "      <th>pred_um7</th>\n",
       "      <th>pred_um8</th>\n",
       "      <th>pred_um9</th>\n",
       "      <th>pred_um10</th>\n",
       "      <th>pred_um11</th>\n",
       "      <th>pred_um12</th>\n",
       "      <th>pred_um13</th>\n",
       "      <th>pred_um14</th>\n",
       "      <th>pred_um15</th>\n",
       "    </tr>\n",
       "  </thead>\n",
       "  <tbody>\n",
       "    <tr>\n",
       "      <th>0</th>\n",
       "      <td>0</td>\n",
       "      <td>[0.97661906 0.0111127 ]</td>\n",
       "      <td>[0.94917387 0.04463243]</td>\n",
       "      <td>[0.7171942  0.31330645]</td>\n",
       "      <td>[0.9843002  0.00847411]</td>\n",
       "      <td>[0.9145431 0.0901518]</td>\n",
       "      <td>[0.78320813 0.17060214]</td>\n",
       "      <td>[0.98369575 0.0468426 ]</td>\n",
       "      <td>[0.99487054 0.02101552]</td>\n",
       "      <td>[0.9941069  0.01856612]</td>\n",
       "      <td>[0.9444596 0.0648237]</td>\n",
       "      <td>[0.95143163 0.02702073]</td>\n",
       "      <td>[0.94760525 0.1339803 ]</td>\n",
       "      <td>[0.92992324 0.1718466 ]</td>\n",
       "      <td>[0.9855479  0.01165897]</td>\n",
       "      <td>[0.7466417  0.15343355]</td>\n",
       "    </tr>\n",
       "    <tr>\n",
       "      <th>1</th>\n",
       "      <td>0</td>\n",
       "      <td>[0.9981341  0.00117332]</td>\n",
       "      <td>[0.9861733  0.01402404]</td>\n",
       "      <td>[0.9928934  0.00393965]</td>\n",
       "      <td>[0.9776924  0.01049647]</td>\n",
       "      <td>[0.9865953  0.01231423]</td>\n",
       "      <td>[0.9930335  0.01160094]</td>\n",
       "      <td>[0.9935597  0.00672642]</td>\n",
       "      <td>[0.9973001  0.01140507]</td>\n",
       "      <td>[0.997145   0.00653503]</td>\n",
       "      <td>[0.99035794 0.01116317]</td>\n",
       "      <td>[0.99027514 0.0078122 ]</td>\n",
       "      <td>[0.97382396 0.04402433]</td>\n",
       "      <td>[0.9929431  0.02474658]</td>\n",
       "      <td>[9.990683e-01 9.792164e-04]</td>\n",
       "      <td>[0.98346    0.01062883]</td>\n",
       "    </tr>\n",
       "    <tr>\n",
       "      <th>2</th>\n",
       "      <td>0</td>\n",
       "      <td>[9.9975938e-01 1.7769024e-04]</td>\n",
       "      <td>[0.998412   0.00116792]</td>\n",
       "      <td>[9.9967206e-01 4.5852657e-04]</td>\n",
       "      <td>[9.994134e-01 7.175277e-04]</td>\n",
       "      <td>[0.99469155 0.00347157]</td>\n",
       "      <td>[0.99133015 0.00953034]</td>\n",
       "      <td>[9.9978060e-01 1.5728366e-04]</td>\n",
       "      <td>[0.99856263 0.00687149]</td>\n",
       "      <td>[0.9998858  0.00142944]</td>\n",
       "      <td>[0.99764377 0.0043822 ]</td>\n",
       "      <td>[0.9969919  0.00161885]</td>\n",
       "      <td>[0.99432725 0.00804781]</td>\n",
       "      <td>[0.9976272  0.00381821]</td>\n",
       "      <td>[9.9969804e-01 1.4555233e-04]</td>\n",
       "      <td>[0.9938937  0.00428178]</td>\n",
       "    </tr>\n",
       "    <tr>\n",
       "      <th>3</th>\n",
       "      <td>0</td>\n",
       "      <td>[9.990115e-01 7.346845e-04]</td>\n",
       "      <td>[9.993293e-01 7.536346e-04]</td>\n",
       "      <td>[0.9968088  0.00255448]</td>\n",
       "      <td>[0.9846784  0.00673459]</td>\n",
       "      <td>[0.99429    0.00582641]</td>\n",
       "      <td>[0.9956031  0.00629928]</td>\n",
       "      <td>[0.99919957 0.00122478]</td>\n",
       "      <td>[0.9973502  0.00827719]</td>\n",
       "      <td>[0.99935836 0.00247604]</td>\n",
       "      <td>[0.9933488  0.01155344]</td>\n",
       "      <td>[0.9916889  0.01182056]</td>\n",
       "      <td>[0.99294853 0.02502685]</td>\n",
       "      <td>[0.995565   0.00845183]</td>\n",
       "      <td>[0.99611914 0.00363934]</td>\n",
       "      <td>[0.99563736 0.00285478]</td>\n",
       "    </tr>\n",
       "    <tr>\n",
       "      <th>4</th>\n",
       "      <td>1</td>\n",
       "      <td>[0.02032536 0.9665286 ]</td>\n",
       "      <td>[0.03184715 0.95556325]</td>\n",
       "      <td>[0.00420866 0.9967181 ]</td>\n",
       "      <td>[0.04752765 0.9571476 ]</td>\n",
       "      <td>[0.07324732 0.8965421 ]</td>\n",
       "      <td>[0.03229338 0.9715555 ]</td>\n",
       "      <td>[0.0527445  0.94935584]</td>\n",
       "      <td>[0.08429085 0.97633684]</td>\n",
       "      <td>[0.07859739 0.9544279 ]</td>\n",
       "      <td>[0.01222073 0.98635966]</td>\n",
       "      <td>[0.03319311 0.90294194]</td>\n",
       "      <td>[0.15405147 0.90844566]</td>\n",
       "      <td>[0.01711109 0.988811  ]</td>\n",
       "      <td>[0.11780601 0.88821244]</td>\n",
       "      <td>[0.03007631 0.90666366]</td>\n",
       "    </tr>\n",
       "  </tbody>\n",
       "</table>\n",
       "</div>"
      ],
      "text/plain": [
       "   class                       pred_um1                     pred_um2  \\\n",
       "0      0        [0.97661906 0.0111127 ]      [0.94917387 0.04463243]   \n",
       "1      0        [0.9981341  0.00117332]      [0.9861733  0.01402404]   \n",
       "2      0  [9.9975938e-01 1.7769024e-04]      [0.998412   0.00116792]   \n",
       "3      0    [9.990115e-01 7.346845e-04]  [9.993293e-01 7.536346e-04]   \n",
       "4      1        [0.02032536 0.9665286 ]      [0.03184715 0.95556325]   \n",
       "\n",
       "                        pred_um3                     pred_um4  \\\n",
       "0        [0.7171942  0.31330645]      [0.9843002  0.00847411]   \n",
       "1        [0.9928934  0.00393965]      [0.9776924  0.01049647]   \n",
       "2  [9.9967206e-01 4.5852657e-04]  [9.994134e-01 7.175277e-04]   \n",
       "3        [0.9968088  0.00255448]      [0.9846784  0.00673459]   \n",
       "4        [0.00420866 0.9967181 ]      [0.04752765 0.9571476 ]   \n",
       "\n",
       "                  pred_um5                 pred_um6  \\\n",
       "0    [0.9145431 0.0901518]  [0.78320813 0.17060214]   \n",
       "1  [0.9865953  0.01231423]  [0.9930335  0.01160094]   \n",
       "2  [0.99469155 0.00347157]  [0.99133015 0.00953034]   \n",
       "3  [0.99429    0.00582641]  [0.9956031  0.00629928]   \n",
       "4  [0.07324732 0.8965421 ]  [0.03229338 0.9715555 ]   \n",
       "\n",
       "                        pred_um7                 pred_um8  \\\n",
       "0        [0.98369575 0.0468426 ]  [0.99487054 0.02101552]   \n",
       "1        [0.9935597  0.00672642]  [0.9973001  0.01140507]   \n",
       "2  [9.9978060e-01 1.5728366e-04]  [0.99856263 0.00687149]   \n",
       "3        [0.99919957 0.00122478]  [0.9973502  0.00827719]   \n",
       "4        [0.0527445  0.94935584]  [0.08429085 0.97633684]   \n",
       "\n",
       "                  pred_um9                pred_um10                pred_um11  \\\n",
       "0  [0.9941069  0.01856612]    [0.9444596 0.0648237]  [0.95143163 0.02702073]   \n",
       "1  [0.997145   0.00653503]  [0.99035794 0.01116317]  [0.99027514 0.0078122 ]   \n",
       "2  [0.9998858  0.00142944]  [0.99764377 0.0043822 ]  [0.9969919  0.00161885]   \n",
       "3  [0.99935836 0.00247604]  [0.9933488  0.01155344]  [0.9916889  0.01182056]   \n",
       "4  [0.07859739 0.9544279 ]  [0.01222073 0.98635966]  [0.03319311 0.90294194]   \n",
       "\n",
       "                 pred_um12                pred_um13  \\\n",
       "0  [0.94760525 0.1339803 ]  [0.92992324 0.1718466 ]   \n",
       "1  [0.97382396 0.04402433]  [0.9929431  0.02474658]   \n",
       "2  [0.99432725 0.00804781]  [0.9976272  0.00381821]   \n",
       "3  [0.99294853 0.02502685]  [0.995565   0.00845183]   \n",
       "4  [0.15405147 0.90844566]  [0.01711109 0.988811  ]   \n",
       "\n",
       "                       pred_um14                pred_um15  \n",
       "0        [0.9855479  0.01165897]  [0.7466417  0.15343355]  \n",
       "1    [9.990683e-01 9.792164e-04]  [0.98346    0.01062883]  \n",
       "2  [9.9969804e-01 1.4555233e-04]  [0.9938937  0.00428178]  \n",
       "3        [0.99611914 0.00363934]  [0.99563736 0.00285478]  \n",
       "4        [0.11780601 0.88821244]  [0.03007631 0.90666366]  "
      ]
     },
     "execution_count": 183,
     "metadata": {},
     "output_type": "execute_result"
    }
   ],
   "source": [
    "df_test2_CS.head()"
   ]
  },
  {
   "cell_type": "code",
   "execution_count": 184,
   "id": "afbecb47",
   "metadata": {},
   "outputs": [],
   "source": [
    "for col in df_test2_CS.columns[1:]:\n",
    "    df_test2_CS[col] = [get_substring_list(r[col].split(' '))  for i, r in df_test2_CS.iterrows()]"
   ]
  },
  {
   "cell_type": "code",
   "execution_count": 185,
   "id": "b3600c58",
   "metadata": {},
   "outputs": [
    {
     "data": {
      "text/html": [
       "<div>\n",
       "<style scoped>\n",
       "    .dataframe tbody tr th:only-of-type {\n",
       "        vertical-align: middle;\n",
       "    }\n",
       "\n",
       "    .dataframe tbody tr th {\n",
       "        vertical-align: top;\n",
       "    }\n",
       "\n",
       "    .dataframe thead th {\n",
       "        text-align: right;\n",
       "    }\n",
       "</style>\n",
       "<table border=\"1\" class=\"dataframe\">\n",
       "  <thead>\n",
       "    <tr style=\"text-align: right;\">\n",
       "      <th></th>\n",
       "      <th>class</th>\n",
       "      <th>pred_um1</th>\n",
       "      <th>pred_um2</th>\n",
       "      <th>pred_um3</th>\n",
       "      <th>pred_um4</th>\n",
       "      <th>pred_um5</th>\n",
       "      <th>pred_um6</th>\n",
       "      <th>pred_um7</th>\n",
       "      <th>pred_um8</th>\n",
       "      <th>pred_um9</th>\n",
       "      <th>pred_um10</th>\n",
       "      <th>pred_um11</th>\n",
       "      <th>pred_um12</th>\n",
       "      <th>pred_um13</th>\n",
       "      <th>pred_um14</th>\n",
       "      <th>pred_um15</th>\n",
       "    </tr>\n",
       "  </thead>\n",
       "  <tbody>\n",
       "    <tr>\n",
       "      <th>0</th>\n",
       "      <td>0</td>\n",
       "      <td>[0.97661906, 0.0111127]</td>\n",
       "      <td>[0.94917387, 0.04463243]</td>\n",
       "      <td>[0.7171942, 0.31330645]</td>\n",
       "      <td>[0.9843002, 0.00847411]</td>\n",
       "      <td>[0.9145431, 0.0901518]</td>\n",
       "      <td>[0.78320813, 0.17060214]</td>\n",
       "      <td>[0.98369575, 0.0468426]</td>\n",
       "      <td>[0.99487054, 0.02101552]</td>\n",
       "      <td>[0.9941069, 0.01856612]</td>\n",
       "      <td>[0.9444596, 0.0648237]</td>\n",
       "      <td>[0.95143163, 0.02702073]</td>\n",
       "      <td>[0.94760525, 0.1339803]</td>\n",
       "      <td>[0.92992324, 0.1718466]</td>\n",
       "      <td>[0.9855479, 0.01165897]</td>\n",
       "      <td>[0.7466417, 0.15343355]</td>\n",
       "    </tr>\n",
       "    <tr>\n",
       "      <th>1</th>\n",
       "      <td>0</td>\n",
       "      <td>[0.9981341, 0.00117332]</td>\n",
       "      <td>[0.9861733, 0.01402404]</td>\n",
       "      <td>[0.9928934, 0.00393965]</td>\n",
       "      <td>[0.9776924, 0.01049647]</td>\n",
       "      <td>[0.9865953, 0.01231423]</td>\n",
       "      <td>[0.9930335, 0.01160094]</td>\n",
       "      <td>[0.9935597, 0.00672642]</td>\n",
       "      <td>[0.9973001, 0.01140507]</td>\n",
       "      <td>[0.997145, 0.00653503]</td>\n",
       "      <td>[0.99035794, 0.01116317]</td>\n",
       "      <td>[0.99027514, 0.0078122]</td>\n",
       "      <td>[0.97382396, 0.04402433]</td>\n",
       "      <td>[0.9929431, 0.02474658]</td>\n",
       "      <td>[0.9990683, 0.0009792164]</td>\n",
       "      <td>[0.98346, 0.01062883]</td>\n",
       "    </tr>\n",
       "    <tr>\n",
       "      <th>2</th>\n",
       "      <td>0</td>\n",
       "      <td>[0.99975938, 0.00017769024]</td>\n",
       "      <td>[0.998412, 0.00116792]</td>\n",
       "      <td>[0.99967206, 0.00045852657]</td>\n",
       "      <td>[0.9994134, 0.0007175277]</td>\n",
       "      <td>[0.99469155, 0.00347157]</td>\n",
       "      <td>[0.99133015, 0.00953034]</td>\n",
       "      <td>[0.9997806, 0.00015728366]</td>\n",
       "      <td>[0.99856263, 0.00687149]</td>\n",
       "      <td>[0.9998858, 0.00142944]</td>\n",
       "      <td>[0.99764377, 0.0043822]</td>\n",
       "      <td>[0.9969919, 0.00161885]</td>\n",
       "      <td>[0.99432725, 0.00804781]</td>\n",
       "      <td>[0.9976272, 0.00381821]</td>\n",
       "      <td>[0.99969804, 0.00014555233]</td>\n",
       "      <td>[0.9938937, 0.00428178]</td>\n",
       "    </tr>\n",
       "    <tr>\n",
       "      <th>3</th>\n",
       "      <td>0</td>\n",
       "      <td>[0.9990115, 0.0007346845]</td>\n",
       "      <td>[0.9993293, 0.0007536346]</td>\n",
       "      <td>[0.9968088, 0.00255448]</td>\n",
       "      <td>[0.9846784, 0.00673459]</td>\n",
       "      <td>[0.99429, 0.00582641]</td>\n",
       "      <td>[0.9956031, 0.00629928]</td>\n",
       "      <td>[0.99919957, 0.00122478]</td>\n",
       "      <td>[0.9973502, 0.00827719]</td>\n",
       "      <td>[0.99935836, 0.00247604]</td>\n",
       "      <td>[0.9933488, 0.01155344]</td>\n",
       "      <td>[0.9916889, 0.01182056]</td>\n",
       "      <td>[0.99294853, 0.02502685]</td>\n",
       "      <td>[0.995565, 0.00845183]</td>\n",
       "      <td>[0.99611914, 0.00363934]</td>\n",
       "      <td>[0.99563736, 0.00285478]</td>\n",
       "    </tr>\n",
       "    <tr>\n",
       "      <th>4</th>\n",
       "      <td>1</td>\n",
       "      <td>[0.02032536, 0.9665286]</td>\n",
       "      <td>[0.03184715, 0.95556325]</td>\n",
       "      <td>[0.00420866, 0.9967181]</td>\n",
       "      <td>[0.04752765, 0.9571476]</td>\n",
       "      <td>[0.07324732, 0.8965421]</td>\n",
       "      <td>[0.03229338, 0.9715555]</td>\n",
       "      <td>[0.0527445, 0.94935584]</td>\n",
       "      <td>[0.08429085, 0.97633684]</td>\n",
       "      <td>[0.07859739, 0.9544279]</td>\n",
       "      <td>[0.01222073, 0.98635966]</td>\n",
       "      <td>[0.03319311, 0.90294194]</td>\n",
       "      <td>[0.15405147, 0.90844566]</td>\n",
       "      <td>[0.01711109, 0.988811]</td>\n",
       "      <td>[0.11780601, 0.88821244]</td>\n",
       "      <td>[0.03007631, 0.90666366]</td>\n",
       "    </tr>\n",
       "  </tbody>\n",
       "</table>\n",
       "</div>"
      ],
      "text/plain": [
       "   class                     pred_um1                   pred_um2  \\\n",
       "0      0      [0.97661906, 0.0111127]   [0.94917387, 0.04463243]   \n",
       "1      0      [0.9981341, 0.00117332]    [0.9861733, 0.01402404]   \n",
       "2      0  [0.99975938, 0.00017769024]     [0.998412, 0.00116792]   \n",
       "3      0    [0.9990115, 0.0007346845]  [0.9993293, 0.0007536346]   \n",
       "4      1      [0.02032536, 0.9665286]   [0.03184715, 0.95556325]   \n",
       "\n",
       "                      pred_um3                   pred_um4  \\\n",
       "0      [0.7171942, 0.31330645]    [0.9843002, 0.00847411]   \n",
       "1      [0.9928934, 0.00393965]    [0.9776924, 0.01049647]   \n",
       "2  [0.99967206, 0.00045852657]  [0.9994134, 0.0007175277]   \n",
       "3      [0.9968088, 0.00255448]    [0.9846784, 0.00673459]   \n",
       "4      [0.00420866, 0.9967181]    [0.04752765, 0.9571476]   \n",
       "\n",
       "                   pred_um5                  pred_um6  \\\n",
       "0    [0.9145431, 0.0901518]  [0.78320813, 0.17060214]   \n",
       "1   [0.9865953, 0.01231423]   [0.9930335, 0.01160094]   \n",
       "2  [0.99469155, 0.00347157]  [0.99133015, 0.00953034]   \n",
       "3     [0.99429, 0.00582641]   [0.9956031, 0.00629928]   \n",
       "4   [0.07324732, 0.8965421]   [0.03229338, 0.9715555]   \n",
       "\n",
       "                     pred_um7                  pred_um8  \\\n",
       "0     [0.98369575, 0.0468426]  [0.99487054, 0.02101552]   \n",
       "1     [0.9935597, 0.00672642]   [0.9973001, 0.01140507]   \n",
       "2  [0.9997806, 0.00015728366]  [0.99856263, 0.00687149]   \n",
       "3    [0.99919957, 0.00122478]   [0.9973502, 0.00827719]   \n",
       "4     [0.0527445, 0.94935584]  [0.08429085, 0.97633684]   \n",
       "\n",
       "                   pred_um9                 pred_um10  \\\n",
       "0   [0.9941069, 0.01856612]    [0.9444596, 0.0648237]   \n",
       "1    [0.997145, 0.00653503]  [0.99035794, 0.01116317]   \n",
       "2   [0.9998858, 0.00142944]   [0.99764377, 0.0043822]   \n",
       "3  [0.99935836, 0.00247604]   [0.9933488, 0.01155344]   \n",
       "4   [0.07859739, 0.9544279]  [0.01222073, 0.98635966]   \n",
       "\n",
       "                  pred_um11                 pred_um12  \\\n",
       "0  [0.95143163, 0.02702073]   [0.94760525, 0.1339803]   \n",
       "1   [0.99027514, 0.0078122]  [0.97382396, 0.04402433]   \n",
       "2   [0.9969919, 0.00161885]  [0.99432725, 0.00804781]   \n",
       "3   [0.9916889, 0.01182056]  [0.99294853, 0.02502685]   \n",
       "4  [0.03319311, 0.90294194]  [0.15405147, 0.90844566]   \n",
       "\n",
       "                 pred_um13                    pred_um14  \\\n",
       "0  [0.92992324, 0.1718466]      [0.9855479, 0.01165897]   \n",
       "1  [0.9929431, 0.02474658]    [0.9990683, 0.0009792164]   \n",
       "2  [0.9976272, 0.00381821]  [0.99969804, 0.00014555233]   \n",
       "3   [0.995565, 0.00845183]     [0.99611914, 0.00363934]   \n",
       "4   [0.01711109, 0.988811]     [0.11780601, 0.88821244]   \n",
       "\n",
       "                  pred_um15  \n",
       "0   [0.7466417, 0.15343355]  \n",
       "1     [0.98346, 0.01062883]  \n",
       "2   [0.9938937, 0.00428178]  \n",
       "3  [0.99563736, 0.00285478]  \n",
       "4  [0.03007631, 0.90666366]  "
      ]
     },
     "execution_count": 185,
     "metadata": {},
     "output_type": "execute_result"
    }
   ],
   "source": [
    "df_test2_CS.head()"
   ]
  },
  {
   "cell_type": "code",
   "execution_count": 186,
   "id": "309de8a4",
   "metadata": {},
   "outputs": [],
   "source": [
    "for col in df_test2_CS.columns[1:]:\n",
    "    df_test2_CS[f'{col}_0'] = [r[col][0] for i, r in df_test2_CS.iterrows()]\n",
    "    df_test2_CS[f'{col}_1'] = [r[col][1] for i, r in df_test2_CS.iterrows()]"
   ]
  },
  {
   "cell_type": "code",
   "execution_count": 215,
   "id": "ef2409b5",
   "metadata": {
    "scrolled": true
   },
   "outputs": [
    {
     "data": {
      "text/html": [
       "<div>\n",
       "<style scoped>\n",
       "    .dataframe tbody tr th:only-of-type {\n",
       "        vertical-align: middle;\n",
       "    }\n",
       "\n",
       "    .dataframe tbody tr th {\n",
       "        vertical-align: top;\n",
       "    }\n",
       "\n",
       "    .dataframe thead th {\n",
       "        text-align: right;\n",
       "    }\n",
       "</style>\n",
       "<table border=\"1\" class=\"dataframe\">\n",
       "  <thead>\n",
       "    <tr style=\"text-align: right;\">\n",
       "      <th></th>\n",
       "      <th>class</th>\n",
       "      <th>pred_um1</th>\n",
       "      <th>pred_um2</th>\n",
       "      <th>pred_um3</th>\n",
       "      <th>pred_um4</th>\n",
       "      <th>pred_um5</th>\n",
       "      <th>pred_um6</th>\n",
       "      <th>pred_um7</th>\n",
       "      <th>pred_um8</th>\n",
       "      <th>pred_um9</th>\n",
       "      <th>...</th>\n",
       "      <th>pred_um11_0</th>\n",
       "      <th>pred_um11_1</th>\n",
       "      <th>pred_um12_0</th>\n",
       "      <th>pred_um12_1</th>\n",
       "      <th>pred_um13_0</th>\n",
       "      <th>pred_um13_1</th>\n",
       "      <th>pred_um14_0</th>\n",
       "      <th>pred_um14_1</th>\n",
       "      <th>pred_um15_0</th>\n",
       "      <th>pred_um15_1</th>\n",
       "    </tr>\n",
       "  </thead>\n",
       "  <tbody>\n",
       "    <tr>\n",
       "      <th>0</th>\n",
       "      <td>0</td>\n",
       "      <td>[0.97661906, 0.0111127]</td>\n",
       "      <td>[0.94917387, 0.04463243]</td>\n",
       "      <td>[0.7171942, 0.31330645]</td>\n",
       "      <td>[0.9843002, 0.00847411]</td>\n",
       "      <td>[0.9145431, 0.0901518]</td>\n",
       "      <td>[0.78320813, 0.17060214]</td>\n",
       "      <td>[0.98369575, 0.0468426]</td>\n",
       "      <td>[0.99487054, 0.02101552]</td>\n",
       "      <td>[0.9941069, 0.01856612]</td>\n",
       "      <td>...</td>\n",
       "      <td>0.951432</td>\n",
       "      <td>0.027021</td>\n",
       "      <td>0.947605</td>\n",
       "      <td>0.133980</td>\n",
       "      <td>0.929923</td>\n",
       "      <td>0.171847</td>\n",
       "      <td>0.985548</td>\n",
       "      <td>0.011659</td>\n",
       "      <td>0.746642</td>\n",
       "      <td>0.153434</td>\n",
       "    </tr>\n",
       "    <tr>\n",
       "      <th>1</th>\n",
       "      <td>0</td>\n",
       "      <td>[0.9981341, 0.00117332]</td>\n",
       "      <td>[0.9861733, 0.01402404]</td>\n",
       "      <td>[0.9928934, 0.00393965]</td>\n",
       "      <td>[0.9776924, 0.01049647]</td>\n",
       "      <td>[0.9865953, 0.01231423]</td>\n",
       "      <td>[0.9930335, 0.01160094]</td>\n",
       "      <td>[0.9935597, 0.00672642]</td>\n",
       "      <td>[0.9973001, 0.01140507]</td>\n",
       "      <td>[0.997145, 0.00653503]</td>\n",
       "      <td>...</td>\n",
       "      <td>0.990275</td>\n",
       "      <td>0.007812</td>\n",
       "      <td>0.973824</td>\n",
       "      <td>0.044024</td>\n",
       "      <td>0.992943</td>\n",
       "      <td>0.024747</td>\n",
       "      <td>0.999068</td>\n",
       "      <td>0.000979</td>\n",
       "      <td>0.983460</td>\n",
       "      <td>0.010629</td>\n",
       "    </tr>\n",
       "    <tr>\n",
       "      <th>2</th>\n",
       "      <td>0</td>\n",
       "      <td>[0.99975938, 0.00017769024]</td>\n",
       "      <td>[0.998412, 0.00116792]</td>\n",
       "      <td>[0.99967206, 0.00045852657]</td>\n",
       "      <td>[0.9994134, 0.0007175277]</td>\n",
       "      <td>[0.99469155, 0.00347157]</td>\n",
       "      <td>[0.99133015, 0.00953034]</td>\n",
       "      <td>[0.9997806, 0.00015728366]</td>\n",
       "      <td>[0.99856263, 0.00687149]</td>\n",
       "      <td>[0.9998858, 0.00142944]</td>\n",
       "      <td>...</td>\n",
       "      <td>0.996992</td>\n",
       "      <td>0.001619</td>\n",
       "      <td>0.994327</td>\n",
       "      <td>0.008048</td>\n",
       "      <td>0.997627</td>\n",
       "      <td>0.003818</td>\n",
       "      <td>0.999698</td>\n",
       "      <td>0.000146</td>\n",
       "      <td>0.993894</td>\n",
       "      <td>0.004282</td>\n",
       "    </tr>\n",
       "    <tr>\n",
       "      <th>3</th>\n",
       "      <td>0</td>\n",
       "      <td>[0.9990115, 0.0007346845]</td>\n",
       "      <td>[0.9993293, 0.0007536346]</td>\n",
       "      <td>[0.9968088, 0.00255448]</td>\n",
       "      <td>[0.9846784, 0.00673459]</td>\n",
       "      <td>[0.99429, 0.00582641]</td>\n",
       "      <td>[0.9956031, 0.00629928]</td>\n",
       "      <td>[0.99919957, 0.00122478]</td>\n",
       "      <td>[0.9973502, 0.00827719]</td>\n",
       "      <td>[0.99935836, 0.00247604]</td>\n",
       "      <td>...</td>\n",
       "      <td>0.991689</td>\n",
       "      <td>0.011821</td>\n",
       "      <td>0.992949</td>\n",
       "      <td>0.025027</td>\n",
       "      <td>0.995565</td>\n",
       "      <td>0.008452</td>\n",
       "      <td>0.996119</td>\n",
       "      <td>0.003639</td>\n",
       "      <td>0.995637</td>\n",
       "      <td>0.002855</td>\n",
       "    </tr>\n",
       "    <tr>\n",
       "      <th>4</th>\n",
       "      <td>1</td>\n",
       "      <td>[0.02032536, 0.9665286]</td>\n",
       "      <td>[0.03184715, 0.95556325]</td>\n",
       "      <td>[0.00420866, 0.9967181]</td>\n",
       "      <td>[0.04752765, 0.9571476]</td>\n",
       "      <td>[0.07324732, 0.8965421]</td>\n",
       "      <td>[0.03229338, 0.9715555]</td>\n",
       "      <td>[0.0527445, 0.94935584]</td>\n",
       "      <td>[0.08429085, 0.97633684]</td>\n",
       "      <td>[0.07859739, 0.9544279]</td>\n",
       "      <td>...</td>\n",
       "      <td>0.033193</td>\n",
       "      <td>0.902942</td>\n",
       "      <td>0.154051</td>\n",
       "      <td>0.908446</td>\n",
       "      <td>0.017111</td>\n",
       "      <td>0.988811</td>\n",
       "      <td>0.117806</td>\n",
       "      <td>0.888212</td>\n",
       "      <td>0.030076</td>\n",
       "      <td>0.906664</td>\n",
       "    </tr>\n",
       "  </tbody>\n",
       "</table>\n",
       "<p>5 rows × 46 columns</p>\n",
       "</div>"
      ],
      "text/plain": [
       "   class                     pred_um1                   pred_um2  \\\n",
       "0      0      [0.97661906, 0.0111127]   [0.94917387, 0.04463243]   \n",
       "1      0      [0.9981341, 0.00117332]    [0.9861733, 0.01402404]   \n",
       "2      0  [0.99975938, 0.00017769024]     [0.998412, 0.00116792]   \n",
       "3      0    [0.9990115, 0.0007346845]  [0.9993293, 0.0007536346]   \n",
       "4      1      [0.02032536, 0.9665286]   [0.03184715, 0.95556325]   \n",
       "\n",
       "                      pred_um3                   pred_um4  \\\n",
       "0      [0.7171942, 0.31330645]    [0.9843002, 0.00847411]   \n",
       "1      [0.9928934, 0.00393965]    [0.9776924, 0.01049647]   \n",
       "2  [0.99967206, 0.00045852657]  [0.9994134, 0.0007175277]   \n",
       "3      [0.9968088, 0.00255448]    [0.9846784, 0.00673459]   \n",
       "4      [0.00420866, 0.9967181]    [0.04752765, 0.9571476]   \n",
       "\n",
       "                   pred_um5                  pred_um6  \\\n",
       "0    [0.9145431, 0.0901518]  [0.78320813, 0.17060214]   \n",
       "1   [0.9865953, 0.01231423]   [0.9930335, 0.01160094]   \n",
       "2  [0.99469155, 0.00347157]  [0.99133015, 0.00953034]   \n",
       "3     [0.99429, 0.00582641]   [0.9956031, 0.00629928]   \n",
       "4   [0.07324732, 0.8965421]   [0.03229338, 0.9715555]   \n",
       "\n",
       "                     pred_um7                  pred_um8  \\\n",
       "0     [0.98369575, 0.0468426]  [0.99487054, 0.02101552]   \n",
       "1     [0.9935597, 0.00672642]   [0.9973001, 0.01140507]   \n",
       "2  [0.9997806, 0.00015728366]  [0.99856263, 0.00687149]   \n",
       "3    [0.99919957, 0.00122478]   [0.9973502, 0.00827719]   \n",
       "4     [0.0527445, 0.94935584]  [0.08429085, 0.97633684]   \n",
       "\n",
       "                   pred_um9  ... pred_um11_0 pred_um11_1 pred_um12_0  \\\n",
       "0   [0.9941069, 0.01856612]  ...    0.951432    0.027021    0.947605   \n",
       "1    [0.997145, 0.00653503]  ...    0.990275    0.007812    0.973824   \n",
       "2   [0.9998858, 0.00142944]  ...    0.996992    0.001619    0.994327   \n",
       "3  [0.99935836, 0.00247604]  ...    0.991689    0.011821    0.992949   \n",
       "4   [0.07859739, 0.9544279]  ...    0.033193    0.902942    0.154051   \n",
       "\n",
       "  pred_um12_1 pred_um13_0 pred_um13_1  pred_um14_0  pred_um14_1  pred_um15_0  \\\n",
       "0    0.133980    0.929923    0.171847     0.985548     0.011659     0.746642   \n",
       "1    0.044024    0.992943    0.024747     0.999068     0.000979     0.983460   \n",
       "2    0.008048    0.997627    0.003818     0.999698     0.000146     0.993894   \n",
       "3    0.025027    0.995565    0.008452     0.996119     0.003639     0.995637   \n",
       "4    0.908446    0.017111    0.988811     0.117806     0.888212     0.030076   \n",
       "\n",
       "   pred_um15_1  \n",
       "0     0.153434  \n",
       "1     0.010629  \n",
       "2     0.004282  \n",
       "3     0.002855  \n",
       "4     0.906664  \n",
       "\n",
       "[5 rows x 46 columns]"
      ]
     },
     "execution_count": 215,
     "metadata": {},
     "output_type": "execute_result"
    }
   ],
   "source": [
    "df_test2_CS.head()"
   ]
  },
  {
   "cell_type": "code",
   "execution_count": 223,
   "id": "58deee2e",
   "metadata": {},
   "outputs": [
    {
     "data": {
      "text/plain": [
       "['pred_um1_0',\n",
       " 'pred_um1_1',\n",
       " 'pred_um2_0',\n",
       " 'pred_um2_1',\n",
       " 'pred_um3_0',\n",
       " 'pred_um3_1',\n",
       " 'pred_um4_0',\n",
       " 'pred_um4_1',\n",
       " 'pred_um5_0',\n",
       " 'pred_um5_1',\n",
       " 'pred_um6_0',\n",
       " 'pred_um6_1',\n",
       " 'pred_um7_0',\n",
       " 'pred_um7_1',\n",
       " 'pred_um8_0',\n",
       " 'pred_um8_1',\n",
       " 'pred_um9_0',\n",
       " 'pred_um9_1',\n",
       " 'pred_um10_0',\n",
       " 'pred_um10_1',\n",
       " 'pred_um11_0',\n",
       " 'pred_um11_1',\n",
       " 'pred_um12_0',\n",
       " 'pred_um12_1',\n",
       " 'pred_um13_0',\n",
       " 'pred_um13_1',\n",
       " 'pred_um14_0',\n",
       " 'pred_um14_1',\n",
       " 'pred_um15_0',\n",
       " 'pred_um15_1']"
      ]
     },
     "execution_count": 223,
     "metadata": {},
     "output_type": "execute_result"
    }
   ],
   "source": [
    "list(df_test2_CS.columns[16:])"
   ]
  },
  {
   "cell_type": "code",
   "execution_count": 226,
   "id": "b8891244",
   "metadata": {},
   "outputs": [],
   "source": [
    "cols = ['class']\n",
    "cols = cols.append(list(df_test2_CS.columns[16:]))\n",
    "cols"
   ]
  },
  {
   "cell_type": "code",
   "execution_count": 233,
   "id": "ad63d4ee",
   "metadata": {},
   "outputs": [],
   "source": [
    "cols = ['class']\n",
    "cols.extend(list(df_test2_CS.columns[16:]))"
   ]
  },
  {
   "cell_type": "code",
   "execution_count": 235,
   "id": "9b4d23e8",
   "metadata": {},
   "outputs": [],
   "source": [
    "df_test2_CS_all = df_test2_CS[cols]"
   ]
  },
  {
   "cell_type": "code",
   "execution_count": 236,
   "id": "a7b82681",
   "metadata": {},
   "outputs": [
    {
     "data": {
      "text/html": [
       "<div>\n",
       "<style scoped>\n",
       "    .dataframe tbody tr th:only-of-type {\n",
       "        vertical-align: middle;\n",
       "    }\n",
       "\n",
       "    .dataframe tbody tr th {\n",
       "        vertical-align: top;\n",
       "    }\n",
       "\n",
       "    .dataframe thead th {\n",
       "        text-align: right;\n",
       "    }\n",
       "</style>\n",
       "<table border=\"1\" class=\"dataframe\">\n",
       "  <thead>\n",
       "    <tr style=\"text-align: right;\">\n",
       "      <th></th>\n",
       "      <th>class</th>\n",
       "      <th>pred_um1_0</th>\n",
       "      <th>pred_um1_1</th>\n",
       "      <th>pred_um2_0</th>\n",
       "      <th>pred_um2_1</th>\n",
       "      <th>pred_um3_0</th>\n",
       "      <th>pred_um3_1</th>\n",
       "      <th>pred_um4_0</th>\n",
       "      <th>pred_um4_1</th>\n",
       "      <th>pred_um5_0</th>\n",
       "      <th>...</th>\n",
       "      <th>pred_um11_0</th>\n",
       "      <th>pred_um11_1</th>\n",
       "      <th>pred_um12_0</th>\n",
       "      <th>pred_um12_1</th>\n",
       "      <th>pred_um13_0</th>\n",
       "      <th>pred_um13_1</th>\n",
       "      <th>pred_um14_0</th>\n",
       "      <th>pred_um14_1</th>\n",
       "      <th>pred_um15_0</th>\n",
       "      <th>pred_um15_1</th>\n",
       "    </tr>\n",
       "  </thead>\n",
       "  <tbody>\n",
       "    <tr>\n",
       "      <th>0</th>\n",
       "      <td>0</td>\n",
       "      <td>0.976619</td>\n",
       "      <td>0.011113</td>\n",
       "      <td>0.949174</td>\n",
       "      <td>0.044632</td>\n",
       "      <td>0.717194</td>\n",
       "      <td>0.313306</td>\n",
       "      <td>0.984300</td>\n",
       "      <td>0.008474</td>\n",
       "      <td>0.914543</td>\n",
       "      <td>...</td>\n",
       "      <td>0.951432</td>\n",
       "      <td>0.027021</td>\n",
       "      <td>0.947605</td>\n",
       "      <td>0.133980</td>\n",
       "      <td>0.929923</td>\n",
       "      <td>0.171847</td>\n",
       "      <td>0.985548</td>\n",
       "      <td>0.011659</td>\n",
       "      <td>0.746642</td>\n",
       "      <td>0.153434</td>\n",
       "    </tr>\n",
       "    <tr>\n",
       "      <th>1</th>\n",
       "      <td>0</td>\n",
       "      <td>0.998134</td>\n",
       "      <td>0.001173</td>\n",
       "      <td>0.986173</td>\n",
       "      <td>0.014024</td>\n",
       "      <td>0.992893</td>\n",
       "      <td>0.003940</td>\n",
       "      <td>0.977692</td>\n",
       "      <td>0.010496</td>\n",
       "      <td>0.986595</td>\n",
       "      <td>...</td>\n",
       "      <td>0.990275</td>\n",
       "      <td>0.007812</td>\n",
       "      <td>0.973824</td>\n",
       "      <td>0.044024</td>\n",
       "      <td>0.992943</td>\n",
       "      <td>0.024747</td>\n",
       "      <td>0.999068</td>\n",
       "      <td>0.000979</td>\n",
       "      <td>0.983460</td>\n",
       "      <td>0.010629</td>\n",
       "    </tr>\n",
       "    <tr>\n",
       "      <th>2</th>\n",
       "      <td>0</td>\n",
       "      <td>0.999759</td>\n",
       "      <td>0.000178</td>\n",
       "      <td>0.998412</td>\n",
       "      <td>0.001168</td>\n",
       "      <td>0.999672</td>\n",
       "      <td>0.000459</td>\n",
       "      <td>0.999413</td>\n",
       "      <td>0.000718</td>\n",
       "      <td>0.994692</td>\n",
       "      <td>...</td>\n",
       "      <td>0.996992</td>\n",
       "      <td>0.001619</td>\n",
       "      <td>0.994327</td>\n",
       "      <td>0.008048</td>\n",
       "      <td>0.997627</td>\n",
       "      <td>0.003818</td>\n",
       "      <td>0.999698</td>\n",
       "      <td>0.000146</td>\n",
       "      <td>0.993894</td>\n",
       "      <td>0.004282</td>\n",
       "    </tr>\n",
       "    <tr>\n",
       "      <th>3</th>\n",
       "      <td>0</td>\n",
       "      <td>0.999012</td>\n",
       "      <td>0.000735</td>\n",
       "      <td>0.999329</td>\n",
       "      <td>0.000754</td>\n",
       "      <td>0.996809</td>\n",
       "      <td>0.002554</td>\n",
       "      <td>0.984678</td>\n",
       "      <td>0.006735</td>\n",
       "      <td>0.994290</td>\n",
       "      <td>...</td>\n",
       "      <td>0.991689</td>\n",
       "      <td>0.011821</td>\n",
       "      <td>0.992949</td>\n",
       "      <td>0.025027</td>\n",
       "      <td>0.995565</td>\n",
       "      <td>0.008452</td>\n",
       "      <td>0.996119</td>\n",
       "      <td>0.003639</td>\n",
       "      <td>0.995637</td>\n",
       "      <td>0.002855</td>\n",
       "    </tr>\n",
       "    <tr>\n",
       "      <th>4</th>\n",
       "      <td>1</td>\n",
       "      <td>0.020325</td>\n",
       "      <td>0.966529</td>\n",
       "      <td>0.031847</td>\n",
       "      <td>0.955563</td>\n",
       "      <td>0.004209</td>\n",
       "      <td>0.996718</td>\n",
       "      <td>0.047528</td>\n",
       "      <td>0.957148</td>\n",
       "      <td>0.073247</td>\n",
       "      <td>...</td>\n",
       "      <td>0.033193</td>\n",
       "      <td>0.902942</td>\n",
       "      <td>0.154051</td>\n",
       "      <td>0.908446</td>\n",
       "      <td>0.017111</td>\n",
       "      <td>0.988811</td>\n",
       "      <td>0.117806</td>\n",
       "      <td>0.888212</td>\n",
       "      <td>0.030076</td>\n",
       "      <td>0.906664</td>\n",
       "    </tr>\n",
       "  </tbody>\n",
       "</table>\n",
       "<p>5 rows × 31 columns</p>\n",
       "</div>"
      ],
      "text/plain": [
       "   class  pred_um1_0  pred_um1_1  pred_um2_0  pred_um2_1  pred_um3_0  \\\n",
       "0      0    0.976619    0.011113    0.949174    0.044632    0.717194   \n",
       "1      0    0.998134    0.001173    0.986173    0.014024    0.992893   \n",
       "2      0    0.999759    0.000178    0.998412    0.001168    0.999672   \n",
       "3      0    0.999012    0.000735    0.999329    0.000754    0.996809   \n",
       "4      1    0.020325    0.966529    0.031847    0.955563    0.004209   \n",
       "\n",
       "   pred_um3_1  pred_um4_0  pred_um4_1  pred_um5_0  ...  pred_um11_0  \\\n",
       "0    0.313306    0.984300    0.008474    0.914543  ...     0.951432   \n",
       "1    0.003940    0.977692    0.010496    0.986595  ...     0.990275   \n",
       "2    0.000459    0.999413    0.000718    0.994692  ...     0.996992   \n",
       "3    0.002554    0.984678    0.006735    0.994290  ...     0.991689   \n",
       "4    0.996718    0.047528    0.957148    0.073247  ...     0.033193   \n",
       "\n",
       "   pred_um11_1  pred_um12_0  pred_um12_1  pred_um13_0  pred_um13_1  \\\n",
       "0     0.027021     0.947605     0.133980     0.929923     0.171847   \n",
       "1     0.007812     0.973824     0.044024     0.992943     0.024747   \n",
       "2     0.001619     0.994327     0.008048     0.997627     0.003818   \n",
       "3     0.011821     0.992949     0.025027     0.995565     0.008452   \n",
       "4     0.902942     0.154051     0.908446     0.017111     0.988811   \n",
       "\n",
       "   pred_um14_0  pred_um14_1  pred_um15_0  pred_um15_1  \n",
       "0     0.985548     0.011659     0.746642     0.153434  \n",
       "1     0.999068     0.000979     0.983460     0.010629  \n",
       "2     0.999698     0.000146     0.993894     0.004282  \n",
       "3     0.996119     0.003639     0.995637     0.002855  \n",
       "4     0.117806     0.888212     0.030076     0.906664  \n",
       "\n",
       "[5 rows x 31 columns]"
      ]
     },
     "execution_count": 236,
     "metadata": {},
     "output_type": "execute_result"
    }
   ],
   "source": [
    "df_test2_CS_all.head()"
   ]
  },
  {
   "cell_type": "code",
   "execution_count": 238,
   "id": "aaa6dfd4",
   "metadata": {},
   "outputs": [],
   "source": [
    "''' \n",
    "Utility matrix format: \n",
    "    [[TN, FN],\n",
    "     [FP, TP]]\n",
    "'''\n",
    "ums = {\n",
    "    'um1' : [[1, 0], [0, 1]], # accuracy\n",
    "    'um2' : [[1, -1], [0, 1]],\n",
    "    'um3' : [[1, 0], [-1, 1]],\n",
    "    'um4' : [[10, 0], [0, 1]],\n",
    "    'um5' : [[1, 0], [0, 10]],\n",
    "    'um6' : [[1, -10], [0, 1]],\n",
    "    'um7' : [[1, 0], [-10, 1]],\n",
    "    'um8' : [[5, 0], [0, 1]],\n",
    "    'um9' : [[100, 0], [0, 1]],\n",
    "    'um10' : [[1, 0], [0, 5]],\n",
    "    'um11' : [[1, 0], [0, 100]],\n",
    "    'um12' : [[1, 0], [-5, 1]],\n",
    "    'um13' : [[1, -5], [0, 1]],\n",
    "    'um14' : [[1, 0], [-100, 1]],\n",
    "    'um15' : [[1, -100], [0, 1]],\n",
    "    \n",
    "}"
   ]
  },
  {
   "cell_type": "code",
   "execution_count": 243,
   "id": "7aae07e5",
   "metadata": {},
   "outputs": [],
   "source": [
    "def choose_class(x, um=None):\n",
    "    \"\"\"\n",
    "    x = either one number between 0-1, or a (normalized) vector of probabilities\n",
    "        if it's one number then we are in a binary classification case\n",
    "        and x is the probability of CLASS 0\n",
    "    um = utility matrix in the format [[T0,F0],[F1,T1]] if None: Choose class based on x\n",
    "    \"\"\"\n",
    "    if type(x) == float or type(x) == np.float64: # x is float and is the probability of class 0\n",
    "        x = np.array([x])\n",
    "        x = np.concatenate((x, 1-x)) # transform into prob. vector\n",
    "    else:\n",
    "        x = np.array(x)\n",
    "    if um != None:\n",
    "        um = np.array(um)\n",
    "        utilities = np.matmul(um, x)\n",
    "        cl = np.argmax(utilities)\n",
    "    else:\n",
    "        cl = np.argmax(x)\n",
    "    return cl"
   ]
  },
  {
   "cell_type": "code",
   "execution_count": 246,
   "id": "fd4ed7ab",
   "metadata": {},
   "outputs": [],
   "source": [
    "def get_utility_scores_CS(df, um_index = 1, verbose=True):\n",
    "    '''\n",
    "    Method for calculating the total gains from utility matrix for regular predictions \n",
    "    and bayesian corrected predictions\n",
    "    df = DataFrame for predictions and bayesian probabilites of class 0\n",
    "    um = utility matrix in the format [[T0,F0],[F1,T1]]\n",
    "    verbose = if True: Outputs confusion matrix and text\n",
    "    '''\n",
    "    c1, c2, c3 = 0, 0, 0\n",
    "    # Calculations for standard output\n",
    "    y = df['class'].to_numpy()\n",
    "    um = ums[f'um{um_index}']\n",
    "    y_pred = [choose_class([r[f'pred_um{um_index}_0'], r[f'pred_um{um_index}_1']]) for i, r in df.iterrows()]\n",
    "    cm1 = confusion_matrix(y, y_pred)\n",
    "    c1 = get_total_cost(um, cm1)\n",
    "    if verbose: \n",
    "        f = sns.heatmap(cm1, annot=True, fmt='d')\n",
    "        print('**Output for the standard predictions from algorithm**')\n",
    "        print(f'Utility Matrix: {um}')\n",
    "        print(f'Total gains for the Utility Matrix: {c1}')\n",
    "        print('Confusion matrix:')\n",
    "        plt.show()\n",
    "    # Calculations for standard output with expected utility class choice\n",
    "    y_pred = [choose_class([r[f'pred_um{um_index}_0'], r[f'pred_um{um_index}_1']], um) for i, r in df.iterrows()]\n",
    "    cm2 = confusion_matrix(y, y_pred)\n",
    "    c2 = get_total_cost(um, cm2)\n",
    "    if verbose: \n",
    "        f = sns.heatmap(cm2, annot=True, fmt='d')\n",
    "        print('**Output for the standard predictions from algorithm with expected utility**')\n",
    "        print(f'Utility Matrix: {um}')\n",
    "        print(f'Total gains for the Utility Matrix: {c2}')\n",
    "        print('Confusion matrix:')\n",
    "        plt.show()\n",
    "    if 'prob_0' in df.columns: \n",
    "        # Calculations for bayesian probability and expected utility class choice\n",
    "        y_pred = [choose_class(r['prob_0'], um) for i, r in df.iterrows()]\n",
    "        cm3 = confusion_matrix(y, y_pred)\n",
    "        c3 = get_total_cost(um, cm3)\n",
    "        if verbose: \n",
    "            f = sns.heatmap(cm3, annot=True, fmt='d')\n",
    "            print('**Output for the bayesian calculations with expected utility**')\n",
    "            print(f'Utility Matrix: {um}')\n",
    "            print(f'Total gains: {c3}')\n",
    "            print('Confusion matrix:')\n",
    "            plt.show()\n",
    "    return c1, c2, c3"
   ]
  },
  {
   "cell_type": "code",
   "execution_count": 247,
   "id": "41c38725",
   "metadata": {},
   "outputs": [
    {
     "data": {
      "text/plain": [
       "[0.9674003900808025,\n",
       " 0.9781276121482307,\n",
       " 0.9772917247144052,\n",
       " 0.9086653663973251,\n",
       " 0.16837559208693229,\n",
       " 0.9867017908255021,\n",
       " 0.990146660249753,\n",
       " 0.9131791585399833,\n",
       " 0.9084062412928392,\n",
       " 0.2569517971579827,\n",
       " 0.0939509612705489,\n",
       " 0.9866722392495588,\n",
       " 0.9846289588557631,\n",
       " 0.9986261652077718,\n",
       " 0.9943391385669634]"
      ]
     },
     "execution_count": 247,
     "metadata": {},
     "output_type": "execute_result"
    }
   ],
   "source": [
    "scores1 = []\n",
    "scores2 = []\n",
    "for i, r in df_scores.iterrows():\n",
    "    s1, s2, _ = get_utility_scores_CS(df_test2_CS, i + 1, verbose=False)\n",
    "    scores1.append(s1)\n",
    "    scores2.append(s2)\n",
    "scores2"
   ]
  },
  {
   "cell_type": "code",
   "execution_count": 253,
   "id": "66a0b7b8",
   "metadata": {},
   "outputs": [
    {
     "data": {
      "text/html": [
       "<div>\n",
       "<style scoped>\n",
       "    .dataframe tbody tr th:only-of-type {\n",
       "        vertical-align: middle;\n",
       "    }\n",
       "\n",
       "    .dataframe tbody tr th {\n",
       "        vertical-align: top;\n",
       "    }\n",
       "\n",
       "    .dataframe thead th {\n",
       "        text-align: right;\n",
       "    }\n",
       "</style>\n",
       "<table border=\"1\" class=\"dataframe\">\n",
       "  <thead>\n",
       "    <tr style=\"text-align: right;\">\n",
       "      <th></th>\n",
       "      <th>ums</th>\n",
       "      <th>RF_output</th>\n",
       "      <th>RF_utility</th>\n",
       "      <th>RF_bayesian_utility</th>\n",
       "      <th>CNN_output</th>\n",
       "      <th>CNN_utility</th>\n",
       "      <th>CNN_bayesian_utility</th>\n",
       "      <th>CNN_CS_output</th>\n",
       "      <th>CNN_CS_utility</th>\n",
       "    </tr>\n",
       "  </thead>\n",
       "  <tbody>\n",
       "    <tr>\n",
       "      <th>0</th>\n",
       "      <td>[[1, 0], [0, 1]]</td>\n",
       "      <td>0.967122</td>\n",
       "      <td>0.967122</td>\n",
       "      <td>0.974923</td>\n",
       "      <td>0.960713</td>\n",
       "      <td>0.960713</td>\n",
       "      <td>0.962385</td>\n",
       "      <td>0.967400</td>\n",
       "      <td>0.967400</td>\n",
       "    </tr>\n",
       "    <tr>\n",
       "      <th>1</th>\n",
       "      <td>[[1, -1], [0, 1]]</td>\n",
       "      <td>0.971441</td>\n",
       "      <td>0.982725</td>\n",
       "      <td>0.982028</td>\n",
       "      <td>0.972834</td>\n",
       "      <td>0.960992</td>\n",
       "      <td>0.973112</td>\n",
       "      <td>0.974923</td>\n",
       "      <td>0.978128</td>\n",
       "    </tr>\n",
       "    <tr>\n",
       "      <th>2</th>\n",
       "      <td>[[1, 0], [-1, 1]]</td>\n",
       "      <td>0.979242</td>\n",
       "      <td>0.974645</td>\n",
       "      <td>0.980775</td>\n",
       "      <td>0.968236</td>\n",
       "      <td>0.972973</td>\n",
       "      <td>0.972276</td>\n",
       "      <td>0.977013</td>\n",
       "      <td>0.977292</td>\n",
       "    </tr>\n",
       "    <tr>\n",
       "      <th>3</th>\n",
       "      <td>[[10, 0], [0, 1]]</td>\n",
       "      <td>0.907189</td>\n",
       "      <td>0.909724</td>\n",
       "      <td>0.909167</td>\n",
       "      <td>0.892505</td>\n",
       "      <td>0.908665</td>\n",
       "      <td>0.909167</td>\n",
       "      <td>0.901755</td>\n",
       "      <td>0.908665</td>\n",
       "    </tr>\n",
       "    <tr>\n",
       "      <th>4</th>\n",
       "      <td>[[1, 0], [0, 10]]</td>\n",
       "      <td>0.156645</td>\n",
       "      <td>0.170354</td>\n",
       "      <td>0.173057</td>\n",
       "      <td>0.164280</td>\n",
       "      <td>0.133853</td>\n",
       "      <td>0.168877</td>\n",
       "      <td>0.162218</td>\n",
       "      <td>0.168376</td>\n",
       "    </tr>\n",
       "  </tbody>\n",
       "</table>\n",
       "</div>"
      ],
      "text/plain": [
       "                 ums  RF_output  RF_utility  RF_bayesian_utility  CNN_output  \\\n",
       "0   [[1, 0], [0, 1]]   0.967122    0.967122             0.974923    0.960713   \n",
       "1  [[1, -1], [0, 1]]   0.971441    0.982725             0.982028    0.972834   \n",
       "2  [[1, 0], [-1, 1]]   0.979242    0.974645             0.980775    0.968236   \n",
       "3  [[10, 0], [0, 1]]   0.907189    0.909724             0.909167    0.892505   \n",
       "4  [[1, 0], [0, 10]]   0.156645    0.170354             0.173057    0.164280   \n",
       "\n",
       "   CNN_utility  CNN_bayesian_utility  CNN_CS_output  CNN_CS_utility  \n",
       "0     0.960713              0.962385       0.967400        0.967400  \n",
       "1     0.960992              0.973112       0.974923        0.978128  \n",
       "2     0.972973              0.972276       0.977013        0.977292  \n",
       "3     0.908665              0.909167       0.901755        0.908665  \n",
       "4     0.133853              0.168877       0.162218        0.168376  "
      ]
     },
     "execution_count": 253,
     "metadata": {},
     "output_type": "execute_result"
    }
   ],
   "source": [
    "df_scores['CNN_CS_output'] = scores1\n",
    "df_scores['CNN_CS_utility'] = scores2\n",
    "df_scores.head()"
   ]
  },
  {
   "cell_type": "code",
   "execution_count": null,
   "id": "48c225f7",
   "metadata": {},
   "outputs": [],
   "source": []
  },
  {
   "cell_type": "code",
   "execution_count": null,
   "id": "878b5a00",
   "metadata": {},
   "outputs": [],
   "source": []
  },
  {
   "cell_type": "code",
   "execution_count": null,
   "id": "2a37a81b",
   "metadata": {},
   "outputs": [],
   "source": []
  },
  {
   "cell_type": "code",
   "execution_count": 263,
   "id": "86251080",
   "metadata": {},
   "outputs": [],
   "source": [
    "df_scores.to_csv(DATA/'scores_utility_matrix.csv', index=False)"
   ]
  },
  {
   "cell_type": "markdown",
   "id": "ec015123",
   "metadata": {},
   "source": [
    "## Highlight max values for RF and CNN output"
   ]
  },
  {
   "cell_type": "code",
   "execution_count": 264,
   "id": "e0722efd",
   "metadata": {},
   "outputs": [],
   "source": [
    "df_scores_style = pd.read_csv(DATA/'scores_utility_matrix.csv')"
   ]
  },
  {
   "cell_type": "code",
   "execution_count": 265,
   "id": "484988a6",
   "metadata": {},
   "outputs": [
    {
     "data": {
      "text/html": [
       "<style type=\"text/css\">\n",
       "#T_52bb2_row0_col3, #T_52bb2_row1_col2, #T_52bb2_row2_col3, #T_52bb2_row3_col2, #T_52bb2_row4_col3, #T_52bb2_row5_col3, #T_52bb2_row6_col2, #T_52bb2_row7_col3, #T_52bb2_row8_col2, #T_52bb2_row9_col3, #T_52bb2_row10_col3, #T_52bb2_row11_col3, #T_52bb2_row12_col2, #T_52bb2_row13_col2, #T_52bb2_row14_col3 {\n",
       "  background-color: lightgreen;\n",
       "}\n",
       "#T_52bb2_row0_col7, #T_52bb2_row0_col8, #T_52bb2_row1_col8, #T_52bb2_row2_col8, #T_52bb2_row3_col6, #T_52bb2_row4_col6, #T_52bb2_row5_col6, #T_52bb2_row6_col6, #T_52bb2_row7_col8, #T_52bb2_row8_col5, #T_52bb2_row8_col6, #T_52bb2_row9_col8, #T_52bb2_row10_col6, #T_52bb2_row11_col8, #T_52bb2_row12_col8, #T_52bb2_row13_col5, #T_52bb2_row13_col6, #T_52bb2_row14_col6 {\n",
       "  background-color: lightblue;\n",
       "}\n",
       "</style>\n",
       "<table id=\"T_52bb2_\">\n",
       "  <thead>\n",
       "    <tr>\n",
       "      <th class=\"blank level0\" >&nbsp;</th>\n",
       "      <th class=\"col_heading level0 col0\" >ums</th>\n",
       "      <th class=\"col_heading level0 col1\" >RF_output</th>\n",
       "      <th class=\"col_heading level0 col2\" >RF_utility</th>\n",
       "      <th class=\"col_heading level0 col3\" >RF_bayesian_utility</th>\n",
       "      <th class=\"col_heading level0 col4\" >CNN_output</th>\n",
       "      <th class=\"col_heading level0 col5\" >CNN_utility</th>\n",
       "      <th class=\"col_heading level0 col6\" >CNN_bayesian_utility</th>\n",
       "      <th class=\"col_heading level0 col7\" >CNN_CS_output</th>\n",
       "      <th class=\"col_heading level0 col8\" >CNN_CS_utility</th>\n",
       "    </tr>\n",
       "  </thead>\n",
       "  <tbody>\n",
       "    <tr>\n",
       "      <th id=\"T_52bb2_level0_row0\" class=\"row_heading level0 row0\" >0</th>\n",
       "      <td id=\"T_52bb2_row0_col0\" class=\"data row0 col0\" >[[1, 0], [0, 1]]</td>\n",
       "      <td id=\"T_52bb2_row0_col1\" class=\"data row0 col1\" >0.9671</td>\n",
       "      <td id=\"T_52bb2_row0_col2\" class=\"data row0 col2\" >0.9671</td>\n",
       "      <td id=\"T_52bb2_row0_col3\" class=\"data row0 col3\" >0.9749</td>\n",
       "      <td id=\"T_52bb2_row0_col4\" class=\"data row0 col4\" >0.9607</td>\n",
       "      <td id=\"T_52bb2_row0_col5\" class=\"data row0 col5\" >0.9607</td>\n",
       "      <td id=\"T_52bb2_row0_col6\" class=\"data row0 col6\" >0.9624</td>\n",
       "      <td id=\"T_52bb2_row0_col7\" class=\"data row0 col7\" >0.9674</td>\n",
       "      <td id=\"T_52bb2_row0_col8\" class=\"data row0 col8\" >0.9674</td>\n",
       "    </tr>\n",
       "    <tr>\n",
       "      <th id=\"T_52bb2_level0_row1\" class=\"row_heading level0 row1\" >1</th>\n",
       "      <td id=\"T_52bb2_row1_col0\" class=\"data row1 col0\" >[[1, -1], [0, 1]]</td>\n",
       "      <td id=\"T_52bb2_row1_col1\" class=\"data row1 col1\" >0.9714</td>\n",
       "      <td id=\"T_52bb2_row1_col2\" class=\"data row1 col2\" >0.9827</td>\n",
       "      <td id=\"T_52bb2_row1_col3\" class=\"data row1 col3\" >0.9820</td>\n",
       "      <td id=\"T_52bb2_row1_col4\" class=\"data row1 col4\" >0.9728</td>\n",
       "      <td id=\"T_52bb2_row1_col5\" class=\"data row1 col5\" >0.9610</td>\n",
       "      <td id=\"T_52bb2_row1_col6\" class=\"data row1 col6\" >0.9731</td>\n",
       "      <td id=\"T_52bb2_row1_col7\" class=\"data row1 col7\" >0.9749</td>\n",
       "      <td id=\"T_52bb2_row1_col8\" class=\"data row1 col8\" >0.9781</td>\n",
       "    </tr>\n",
       "    <tr>\n",
       "      <th id=\"T_52bb2_level0_row2\" class=\"row_heading level0 row2\" >2</th>\n",
       "      <td id=\"T_52bb2_row2_col0\" class=\"data row2 col0\" >[[1, 0], [-1, 1]]</td>\n",
       "      <td id=\"T_52bb2_row2_col1\" class=\"data row2 col1\" >0.9792</td>\n",
       "      <td id=\"T_52bb2_row2_col2\" class=\"data row2 col2\" >0.9746</td>\n",
       "      <td id=\"T_52bb2_row2_col3\" class=\"data row2 col3\" >0.9808</td>\n",
       "      <td id=\"T_52bb2_row2_col4\" class=\"data row2 col4\" >0.9682</td>\n",
       "      <td id=\"T_52bb2_row2_col5\" class=\"data row2 col5\" >0.9730</td>\n",
       "      <td id=\"T_52bb2_row2_col6\" class=\"data row2 col6\" >0.9723</td>\n",
       "      <td id=\"T_52bb2_row2_col7\" class=\"data row2 col7\" >0.9770</td>\n",
       "      <td id=\"T_52bb2_row2_col8\" class=\"data row2 col8\" >0.9773</td>\n",
       "    </tr>\n",
       "    <tr>\n",
       "      <th id=\"T_52bb2_level0_row3\" class=\"row_heading level0 row3\" >3</th>\n",
       "      <td id=\"T_52bb2_row3_col0\" class=\"data row3 col0\" >[[10, 0], [0, 1]]</td>\n",
       "      <td id=\"T_52bb2_row3_col1\" class=\"data row3 col1\" >0.9072</td>\n",
       "      <td id=\"T_52bb2_row3_col2\" class=\"data row3 col2\" >0.9097</td>\n",
       "      <td id=\"T_52bb2_row3_col3\" class=\"data row3 col3\" >0.9092</td>\n",
       "      <td id=\"T_52bb2_row3_col4\" class=\"data row3 col4\" >0.8925</td>\n",
       "      <td id=\"T_52bb2_row3_col5\" class=\"data row3 col5\" >0.9087</td>\n",
       "      <td id=\"T_52bb2_row3_col6\" class=\"data row3 col6\" >0.9092</td>\n",
       "      <td id=\"T_52bb2_row3_col7\" class=\"data row3 col7\" >0.9018</td>\n",
       "      <td id=\"T_52bb2_row3_col8\" class=\"data row3 col8\" >0.9087</td>\n",
       "    </tr>\n",
       "    <tr>\n",
       "      <th id=\"T_52bb2_level0_row4\" class=\"row_heading level0 row4\" >4</th>\n",
       "      <td id=\"T_52bb2_row4_col0\" class=\"data row4 col0\" >[[1, 0], [0, 10]]</td>\n",
       "      <td id=\"T_52bb2_row4_col1\" class=\"data row4 col1\" >0.1566</td>\n",
       "      <td id=\"T_52bb2_row4_col2\" class=\"data row4 col2\" >0.1704</td>\n",
       "      <td id=\"T_52bb2_row4_col3\" class=\"data row4 col3\" >0.1731</td>\n",
       "      <td id=\"T_52bb2_row4_col4\" class=\"data row4 col4\" >0.1643</td>\n",
       "      <td id=\"T_52bb2_row4_col5\" class=\"data row4 col5\" >0.1339</td>\n",
       "      <td id=\"T_52bb2_row4_col6\" class=\"data row4 col6\" >0.1689</td>\n",
       "      <td id=\"T_52bb2_row4_col7\" class=\"data row4 col7\" >0.1622</td>\n",
       "      <td id=\"T_52bb2_row4_col8\" class=\"data row4 col8\" >0.1684</td>\n",
       "    </tr>\n",
       "    <tr>\n",
       "      <th id=\"T_52bb2_level0_row5\" class=\"row_heading level0 row5\" >5</th>\n",
       "      <td id=\"T_52bb2_row5_col0\" class=\"data row5 col0\" >[[1, -10], [0, 1]]</td>\n",
       "      <td id=\"T_52bb2_row5_col1\" class=\"data row5 col1\" >0.9750</td>\n",
       "      <td id=\"T_52bb2_row5_col2\" class=\"data row5 col2\" >0.9882</td>\n",
       "      <td id=\"T_52bb2_row5_col3\" class=\"data row5 col3\" >0.9920</td>\n",
       "      <td id=\"T_52bb2_row5_col4\" class=\"data row5 col4\" >0.9828</td>\n",
       "      <td id=\"T_52bb2_row5_col5\" class=\"data row5 col5\" >0.9525</td>\n",
       "      <td id=\"T_52bb2_row5_col6\" class=\"data row5 col6\" >0.9877</td>\n",
       "      <td id=\"T_52bb2_row5_col7\" class=\"data row5 col7\" >0.9848</td>\n",
       "      <td id=\"T_52bb2_row5_col8\" class=\"data row5 col8\" >0.9867</td>\n",
       "    </tr>\n",
       "    <tr>\n",
       "      <th id=\"T_52bb2_level0_row6\" class=\"row_heading level0 row6\" >6</th>\n",
       "      <td id=\"T_52bb2_row6_col0\" class=\"data row6 col0\" >[[1, 0], [-10, 1]]</td>\n",
       "      <td id=\"T_52bb2_row6_col1\" class=\"data row6 col1\" >0.9892</td>\n",
       "      <td id=\"T_52bb2_row6_col2\" class=\"data row6 col2\" >0.9920</td>\n",
       "      <td id=\"T_52bb2_row6_col3\" class=\"data row6 col3\" >0.9917</td>\n",
       "      <td id=\"T_52bb2_row6_col4\" class=\"data row6 col4\" >0.9744</td>\n",
       "      <td id=\"T_52bb2_row6_col5\" class=\"data row6 col5\" >0.9913</td>\n",
       "      <td id=\"T_52bb2_row6_col6\" class=\"data row6 col6\" >0.9917</td>\n",
       "      <td id=\"T_52bb2_row6_col7\" class=\"data row6 col7\" >0.9837</td>\n",
       "      <td id=\"T_52bb2_row6_col8\" class=\"data row6 col8\" >0.9901</td>\n",
       "    </tr>\n",
       "    <tr>\n",
       "      <th id=\"T_52bb2_level0_row7\" class=\"row_heading level0 row7\" >7</th>\n",
       "      <td id=\"T_52bb2_row7_col0\" class=\"data row7 col0\" >[[5, 0], [0, 1]]</td>\n",
       "      <td id=\"T_52bb2_row7_col1\" class=\"data row7 col1\" >0.9138</td>\n",
       "      <td id=\"T_52bb2_row7_col2\" class=\"data row7 col2\" >0.9128</td>\n",
       "      <td id=\"T_52bb2_row7_col3\" class=\"data row7 col3\" >0.9147</td>\n",
       "      <td id=\"T_52bb2_row7_col4\" class=\"data row7 col4\" >0.9001</td>\n",
       "      <td id=\"T_52bb2_row7_col5\" class=\"data row7 col5\" >0.9118</td>\n",
       "      <td id=\"T_52bb2_row7_col6\" class=\"data row7 col6\" >0.9106</td>\n",
       "      <td id=\"T_52bb2_row7_col7\" class=\"data row7 col7\" >0.9089</td>\n",
       "      <td id=\"T_52bb2_row7_col8\" class=\"data row7 col8\" >0.9132</td>\n",
       "    </tr>\n",
       "    <tr>\n",
       "      <th id=\"T_52bb2_level0_row8\" class=\"row_heading level0 row8\" >8</th>\n",
       "      <td id=\"T_52bb2_row8_col0\" class=\"data row8 col0\" >[[100, 0], [0, 1]]</td>\n",
       "      <td id=\"T_52bb2_row8_col1\" class=\"data row8 col1\" >0.9012</td>\n",
       "      <td id=\"T_52bb2_row8_col2\" class=\"data row8 col2\" >0.9092</td>\n",
       "      <td id=\"T_52bb2_row8_col3\" class=\"data row8 col3\" >0.9092</td>\n",
       "      <td id=\"T_52bb2_row8_col4\" class=\"data row8 col4\" >0.8857</td>\n",
       "      <td id=\"T_52bb2_row8_col5\" class=\"data row8 col5\" >0.9092</td>\n",
       "      <td id=\"T_52bb2_row8_col6\" class=\"data row8 col6\" >0.9092</td>\n",
       "      <td id=\"T_52bb2_row8_col7\" class=\"data row8 col7\" >0.8973</td>\n",
       "      <td id=\"T_52bb2_row8_col8\" class=\"data row8 col8\" >0.9084</td>\n",
       "    </tr>\n",
       "    <tr>\n",
       "      <th id=\"T_52bb2_level0_row9\" class=\"row_heading level0 row9\" >9</th>\n",
       "      <td id=\"T_52bb2_row9_col0\" class=\"data row9 col0\" >[[1, 0], [0, 5]]</td>\n",
       "      <td id=\"T_52bb2_row9_col1\" class=\"data row9 col1\" >0.2467</td>\n",
       "      <td id=\"T_52bb2_row9_col2\" class=\"data row9 col2\" >0.2606</td>\n",
       "      <td id=\"T_52bb2_row9_col3\" class=\"data row9 col3\" >0.2607</td>\n",
       "      <td id=\"T_52bb2_row9_col4\" class=\"data row9 col4\" >0.2528</td>\n",
       "      <td id=\"T_52bb2_row9_col5\" class=\"data row9 col5\" >0.2235</td>\n",
       "      <td id=\"T_52bb2_row9_col6\" class=\"data row9 col6\" >0.2547</td>\n",
       "      <td id=\"T_52bb2_row9_col7\" class=\"data row9 col7\" >0.2517</td>\n",
       "      <td id=\"T_52bb2_row9_col8\" class=\"data row9 col8\" >0.2570</td>\n",
       "    </tr>\n",
       "    <tr>\n",
       "      <th id=\"T_52bb2_level0_row10\" class=\"row_heading level0 row10\" >10</th>\n",
       "      <td id=\"T_52bb2_row10_col0\" class=\"data row10 col0\" >[[1, 0], [0, 100]]</td>\n",
       "      <td id=\"T_52bb2_row10_col1\" class=\"data row10 col1\" >0.0756</td>\n",
       "      <td id=\"T_52bb2_row10_col2\" class=\"data row10 col2\" >0.0921</td>\n",
       "      <td id=\"T_52bb2_row10_col3\" class=\"data row10 col3\" >0.0973</td>\n",
       "      <td id=\"T_52bb2_row10_col4\" class=\"data row10 col4\" >0.0846</td>\n",
       "      <td id=\"T_52bb2_row10_col5\" class=\"data row10 col5\" >0.0908</td>\n",
       "      <td id=\"T_52bb2_row10_col6\" class=\"data row10 col6\" >0.0956</td>\n",
       "      <td id=\"T_52bb2_row10_col7\" class=\"data row10 col7\" >0.0852</td>\n",
       "      <td id=\"T_52bb2_row10_col8\" class=\"data row10 col8\" >0.0940</td>\n",
       "    </tr>\n",
       "    <tr>\n",
       "      <th id=\"T_52bb2_level0_row11\" class=\"row_heading level0 row11\" >11</th>\n",
       "      <td id=\"T_52bb2_row11_col0\" class=\"data row11 col0\" >[[1, 0], [-5, 1]]</td>\n",
       "      <td id=\"T_52bb2_row11_col1\" class=\"data row11 col1\" >0.9873</td>\n",
       "      <td id=\"T_52bb2_row11_col2\" class=\"data row11 col2\" >0.9867</td>\n",
       "      <td id=\"T_52bb2_row11_col3\" class=\"data row11 col3\" >0.9887</td>\n",
       "      <td id=\"T_52bb2_row11_col4\" class=\"data row11 col4\" >0.9733</td>\n",
       "      <td id=\"T_52bb2_row11_col5\" class=\"data row11 col5\" >0.9859</td>\n",
       "      <td id=\"T_52bb2_row11_col6\" class=\"data row11 col6\" >0.9858</td>\n",
       "      <td id=\"T_52bb2_row11_col7\" class=\"data row11 col7\" >0.9824</td>\n",
       "      <td id=\"T_52bb2_row11_col8\" class=\"data row11 col8\" >0.9867</td>\n",
       "    </tr>\n",
       "    <tr>\n",
       "      <th id=\"T_52bb2_level0_row12\" class=\"row_heading level0 row12\" >12</th>\n",
       "      <td id=\"T_52bb2_row12_col0\" class=\"data row12 col0\" >[[1, -5], [0, 1]]</td>\n",
       "      <td id=\"T_52bb2_row12_col1\" class=\"data row12 col1\" >0.9743</td>\n",
       "      <td id=\"T_52bb2_row12_col2\" class=\"data row12 col2\" >0.9890</td>\n",
       "      <td id=\"T_52bb2_row12_col3\" class=\"data row12 col3\" >0.9887</td>\n",
       "      <td id=\"T_52bb2_row12_col4\" class=\"data row12 col4\" >0.9809</td>\n",
       "      <td id=\"T_52bb2_row12_col5\" class=\"data row12 col5\" >0.9504</td>\n",
       "      <td id=\"T_52bb2_row12_col6\" class=\"data row12 col6\" >0.9842</td>\n",
       "      <td id=\"T_52bb2_row12_col7\" class=\"data row12 col7\" >0.9813</td>\n",
       "      <td id=\"T_52bb2_row12_col8\" class=\"data row12 col8\" >0.9846</td>\n",
       "    </tr>\n",
       "    <tr>\n",
       "      <th id=\"T_52bb2_level0_row13\" class=\"row_heading level0 row13\" >13</th>\n",
       "      <td id=\"T_52bb2_row13_col0\" class=\"data row13 col0\" >[[1, 0], [-100, 1]]</td>\n",
       "      <td id=\"T_52bb2_row13_col1\" class=\"data row13 col1\" >0.9911</td>\n",
       "      <td id=\"T_52bb2_row13_col2\" class=\"data row13 col2\" >0.9991</td>\n",
       "      <td id=\"T_52bb2_row13_col3\" class=\"data row13 col3\" >0.9991</td>\n",
       "      <td id=\"T_52bb2_row13_col4\" class=\"data row13 col4\" >0.9756</td>\n",
       "      <td id=\"T_52bb2_row13_col5\" class=\"data row13 col5\" >0.9991</td>\n",
       "      <td id=\"T_52bb2_row13_col6\" class=\"data row13 col6\" >0.9991</td>\n",
       "      <td id=\"T_52bb2_row13_col7\" class=\"data row13 col7\" >0.9897</td>\n",
       "      <td id=\"T_52bb2_row13_col8\" class=\"data row13 col8\" >0.9986</td>\n",
       "    </tr>\n",
       "    <tr>\n",
       "      <th id=\"T_52bb2_level0_row14\" class=\"row_heading level0 row14\" >14</th>\n",
       "      <td id=\"T_52bb2_row14_col0\" class=\"data row14 col0\" >[[1, -100], [0, 1]]</td>\n",
       "      <td id=\"T_52bb2_row14_col1\" class=\"data row14 col1\" >0.9757</td>\n",
       "      <td id=\"T_52bb2_row14_col2\" class=\"data row14 col2\" >0.9923</td>\n",
       "      <td id=\"T_52bb2_row14_col3\" class=\"data row14 col3\" >0.9974</td>\n",
       "      <td id=\"T_52bb2_row14_col4\" class=\"data row14 col4\" >0.9847</td>\n",
       "      <td id=\"T_52bb2_row14_col5\" class=\"data row14 col5\" >0.9910</td>\n",
       "      <td id=\"T_52bb2_row14_col6\" class=\"data row14 col6\" >0.9957</td>\n",
       "      <td id=\"T_52bb2_row14_col7\" class=\"data row14 col7\" >0.9842</td>\n",
       "      <td id=\"T_52bb2_row14_col8\" class=\"data row14 col8\" >0.9943</td>\n",
       "    </tr>\n",
       "  </tbody>\n",
       "</table>\n"
      ],
      "text/plain": [
       "<pandas.io.formats.style.Styler at 0x7f8a107bd610>"
      ]
     },
     "execution_count": 265,
     "metadata": {},
     "output_type": "execute_result"
    }
   ],
   "source": [
    "df_scores_style.style.\\\n",
    "        format(precision=4).\\\n",
    "        highlight_max(color='lightgreen', subset=df_scores_style.columns[1:4], axis=1).\\\n",
    "        highlight_max(color='lightblue', subset=df_scores_style.columns[4:], axis=1)\n",
    "        #highlight_max(color='lightyellow', subset=df_scores.columns[7:], axis=1)\n"
   ]
  },
  {
   "cell_type": "code",
   "execution_count": null,
   "id": "b3d29dd8",
   "metadata": {},
   "outputs": [],
   "source": []
  }
 ],
 "metadata": {
  "kernelspec": {
   "display_name": "Python 3 (ipykernel)",
   "language": "python",
   "name": "python3"
  },
  "language_info": {
   "codemirror_mode": {
    "name": "ipython",
    "version": 3
   },
   "file_extension": ".py",
   "mimetype": "text/x-python",
   "name": "python",
   "nbconvert_exporter": "python",
   "pygments_lexer": "ipython3",
   "version": "3.7.11"
  }
 },
 "nbformat": 4,
 "nbformat_minor": 5
}
