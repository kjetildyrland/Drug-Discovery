{
 "cells": [
  {
   "cell_type": "markdown",
   "id": "1a4def1d",
   "metadata": {},
   "source": [
    "# Generate correct probabilities and use decision theory"
   ]
  },
  {
   "cell_type": "code",
   "execution_count": 1,
   "id": "c831fb3f",
   "metadata": {},
   "outputs": [],
   "source": [
    "# Import\n",
    "import pandas as pd\n",
    "import numpy as np\n",
    "from pathlib import Path\n",
    "from scipy.stats import norm\n",
    "import torch\n",
    "import matplotlib.pyplot as plt\n",
    "from sklearn.metrics import ConfusionMatrixDisplay"
   ]
  },
  {
   "cell_type": "code",
   "execution_count": 2,
   "id": "0e4af0a0",
   "metadata": {},
   "outputs": [],
   "source": [
    "from sklearn.metrics import auc,roc_auc_score,recall_score,precision_score,f1_score\n",
    "from sklearn.metrics import matthews_corrcoef\n",
    "from sklearn.metrics import accuracy_score\n",
    "from sklearn.metrics import confusion_matrix\n",
    "import seaborn as sns\n",
    "import random"
   ]
  },
  {
   "cell_type": "code",
   "execution_count": 3,
   "id": "67cdfae3",
   "metadata": {},
   "outputs": [],
   "source": [
    "from utils.probs import *"
   ]
  },
  {
   "cell_type": "code",
   "execution_count": 4,
   "id": "8083d576",
   "metadata": {},
   "outputs": [],
   "source": [
    "path = Path('../dataset/')"
   ]
  },
  {
   "cell_type": "code",
   "execution_count": 5,
   "id": "a927b207",
   "metadata": {},
   "outputs": [],
   "source": [
    "CHEMBL205 = path/'13321_2017_226_MOESM1_ESM/CHEMBL205'"
   ]
  },
  {
   "cell_type": "code",
   "execution_count": 6,
   "id": "8a74a1f4",
   "metadata": {},
   "outputs": [],
   "source": [
    "DATA = path/'probabilities'"
   ]
  },
  {
   "cell_type": "markdown",
   "id": "a9b89817",
   "metadata": {},
   "source": [
    "# Start by calculating probabilities from the transducer"
   ]
  },
  {
   "cell_type": "markdown",
   "id": "5244e925",
   "metadata": {},
   "source": [
    "### RF model test set 1"
   ]
  },
  {
   "cell_type": "code",
   "execution_count": 7,
   "id": "d0ba1fbd",
   "metadata": {},
   "outputs": [],
   "source": [
    "df_RF = pd.read_csv(DATA/'transducer_params-Random_Forest.csv')"
   ]
  },
  {
   "cell_type": "code",
   "execution_count": 8,
   "id": "e6d3564d",
   "metadata": {},
   "outputs": [
    {
     "data": {
      "text/html": [
       "<div>\n",
       "<style scoped>\n",
       "    .dataframe tbody tr th:only-of-type {\n",
       "        vertical-align: middle;\n",
       "    }\n",
       "\n",
       "    .dataframe tbody tr th {\n",
       "        vertical-align: top;\n",
       "    }\n",
       "\n",
       "    .dataframe thead th {\n",
       "        text-align: right;\n",
       "    }\n",
       "</style>\n",
       "<table border=\"1\" class=\"dataframe\">\n",
       "  <thead>\n",
       "    <tr style=\"text-align: right;\">\n",
       "      <th></th>\n",
       "      <th>q</th>\n",
       "      <th>alpha</th>\n",
       "      <th>mu</th>\n",
       "      <th>sigma</th>\n",
       "    </tr>\n",
       "  </thead>\n",
       "  <tbody>\n",
       "    <tr>\n",
       "      <th>0</th>\n",
       "      <td>1.112555e-308</td>\n",
       "      <td>0.046334</td>\n",
       "      <td>0.657346</td>\n",
       "      <td>0.045132</td>\n",
       "    </tr>\n",
       "    <tr>\n",
       "      <th>1</th>\n",
       "      <td>7.671881e-290</td>\n",
       "      <td>0.308902</td>\n",
       "      <td>-1.321618</td>\n",
       "      <td>0.094008</td>\n",
       "    </tr>\n",
       "    <tr>\n",
       "      <th>2</th>\n",
       "      <td>3.581907e-287</td>\n",
       "      <td>0.640649</td>\n",
       "      <td>0.304611</td>\n",
       "      <td>0.035157</td>\n",
       "    </tr>\n",
       "    <tr>\n",
       "      <th>3</th>\n",
       "      <td>1.928007e-285</td>\n",
       "      <td>0.674892</td>\n",
       "      <td>1.441629</td>\n",
       "      <td>0.131492</td>\n",
       "    </tr>\n",
       "    <tr>\n",
       "      <th>4</th>\n",
       "      <td>5.673044e-279</td>\n",
       "      <td>0.723179</td>\n",
       "      <td>-0.670175</td>\n",
       "      <td>0.359572</td>\n",
       "    </tr>\n",
       "  </tbody>\n",
       "</table>\n",
       "</div>"
      ],
      "text/plain": [
       "               q     alpha        mu     sigma\n",
       "0  1.112555e-308  0.046334  0.657346  0.045132\n",
       "1  7.671881e-290  0.308902 -1.321618  0.094008\n",
       "2  3.581907e-287  0.640649  0.304611  0.035157\n",
       "3  1.928007e-285  0.674892  1.441629  0.131492\n",
       "4  5.673044e-279  0.723179 -0.670175  0.359572"
      ]
     },
     "execution_count": 8,
     "metadata": {},
     "output_type": "execute_result"
    }
   ],
   "source": [
    "df_RF.head()"
   ]
  },
  {
   "cell_type": "code",
   "execution_count": 9,
   "id": "29c24791",
   "metadata": {},
   "outputs": [
    {
     "name": "stdout",
     "output_type": "stream",
     "text": [
      "<class 'pandas.core.frame.DataFrame'>\n",
      "RangeIndex: 262140 entries, 0 to 262139\n",
      "Data columns (total 4 columns):\n",
      " #   Column  Non-Null Count   Dtype  \n",
      "---  ------  --------------   -----  \n",
      " 0   q       262140 non-null  float64\n",
      " 1   alpha   262140 non-null  float64\n",
      " 2   mu      262140 non-null  float64\n",
      " 3   sigma   262140 non-null  float64\n",
      "dtypes: float64(4)\n",
      "memory usage: 8.0 MB\n"
     ]
    }
   ],
   "source": [
    "df_RF.info()"
   ]
  },
  {
   "cell_type": "code",
   "execution_count": 10,
   "id": "c5d3ebbd",
   "metadata": {},
   "outputs": [],
   "source": [
    "df_test1 = pd.read_csv(CHEMBL205/'CHEMBL205_predictions_RF_test1_calibration.csv')"
   ]
  },
  {
   "cell_type": "code",
   "execution_count": 11,
   "id": "b5363512",
   "metadata": {},
   "outputs": [
    {
     "data": {
      "text/html": [
       "<div>\n",
       "<style scoped>\n",
       "    .dataframe tbody tr th:only-of-type {\n",
       "        vertical-align: middle;\n",
       "    }\n",
       "\n",
       "    .dataframe tbody tr th {\n",
       "        vertical-align: top;\n",
       "    }\n",
       "\n",
       "    .dataframe thead th {\n",
       "        text-align: right;\n",
       "    }\n",
       "</style>\n",
       "<table border=\"1\" class=\"dataframe\">\n",
       "  <thead>\n",
       "    <tr style=\"text-align: right;\">\n",
       "      <th></th>\n",
       "      <th>class</th>\n",
       "      <th>predictions</th>\n",
       "      <th>predicted_class</th>\n",
       "    </tr>\n",
       "  </thead>\n",
       "  <tbody>\n",
       "    <tr>\n",
       "      <th>0</th>\n",
       "      <td>0</td>\n",
       "      <td>[0.975 0.025]</td>\n",
       "      <td>0</td>\n",
       "    </tr>\n",
       "    <tr>\n",
       "      <th>1</th>\n",
       "      <td>0</td>\n",
       "      <td>[0.99 0.01]</td>\n",
       "      <td>0</td>\n",
       "    </tr>\n",
       "    <tr>\n",
       "      <th>2</th>\n",
       "      <td>0</td>\n",
       "      <td>[0.95 0.05]</td>\n",
       "      <td>0</td>\n",
       "    </tr>\n",
       "    <tr>\n",
       "      <th>3</th>\n",
       "      <td>0</td>\n",
       "      <td>[0.995 0.005]</td>\n",
       "      <td>0</td>\n",
       "    </tr>\n",
       "    <tr>\n",
       "      <th>4</th>\n",
       "      <td>1</td>\n",
       "      <td>[0.105 0.895]</td>\n",
       "      <td>1</td>\n",
       "    </tr>\n",
       "  </tbody>\n",
       "</table>\n",
       "</div>"
      ],
      "text/plain": [
       "   class    predictions  predicted_class\n",
       "0      0  [0.975 0.025]                0\n",
       "1      0    [0.99 0.01]                0\n",
       "2      0    [0.95 0.05]                0\n",
       "3      0  [0.995 0.005]                0\n",
       "4      1  [0.105 0.895]                1"
      ]
     },
     "execution_count": 11,
     "metadata": {},
     "output_type": "execute_result"
    }
   ],
   "source": [
    "df_test1.head()"
   ]
  },
  {
   "cell_type": "code",
   "execution_count": 12,
   "id": "60088031",
   "metadata": {},
   "outputs": [
    {
     "data": {
      "text/html": [
       "<div>\n",
       "<style scoped>\n",
       "    .dataframe tbody tr th:only-of-type {\n",
       "        vertical-align: middle;\n",
       "    }\n",
       "\n",
       "    .dataframe tbody tr th {\n",
       "        vertical-align: top;\n",
       "    }\n",
       "\n",
       "    .dataframe thead th {\n",
       "        text-align: right;\n",
       "    }\n",
       "</style>\n",
       "<table border=\"1\" class=\"dataframe\">\n",
       "  <thead>\n",
       "    <tr style=\"text-align: right;\">\n",
       "      <th></th>\n",
       "      <th>class</th>\n",
       "      <th>predicted_class</th>\n",
       "      <th>pred_0</th>\n",
       "      <th>pred_1</th>\n",
       "    </tr>\n",
       "  </thead>\n",
       "  <tbody>\n",
       "    <tr>\n",
       "      <th>0</th>\n",
       "      <td>0</td>\n",
       "      <td>0</td>\n",
       "      <td>0.975</td>\n",
       "      <td>0.025</td>\n",
       "    </tr>\n",
       "    <tr>\n",
       "      <th>1</th>\n",
       "      <td>0</td>\n",
       "      <td>0</td>\n",
       "      <td>0.990</td>\n",
       "      <td>0.010</td>\n",
       "    </tr>\n",
       "    <tr>\n",
       "      <th>2</th>\n",
       "      <td>0</td>\n",
       "      <td>0</td>\n",
       "      <td>0.950</td>\n",
       "      <td>0.050</td>\n",
       "    </tr>\n",
       "    <tr>\n",
       "      <th>3</th>\n",
       "      <td>0</td>\n",
       "      <td>0</td>\n",
       "      <td>0.995</td>\n",
       "      <td>0.005</td>\n",
       "    </tr>\n",
       "    <tr>\n",
       "      <th>4</th>\n",
       "      <td>1</td>\n",
       "      <td>1</td>\n",
       "      <td>0.105</td>\n",
       "      <td>0.895</td>\n",
       "    </tr>\n",
       "  </tbody>\n",
       "</table>\n",
       "</div>"
      ],
      "text/plain": [
       "   class  predicted_class  pred_0  pred_1\n",
       "0      0                0   0.975   0.025\n",
       "1      0                0   0.990   0.010\n",
       "2      0                0   0.950   0.050\n",
       "3      0                0   0.995   0.005\n",
       "4      1                1   0.105   0.895"
      ]
     },
     "execution_count": 12,
     "metadata": {},
     "output_type": "execute_result"
    }
   ],
   "source": [
    "df_test1['preds'] = [get_substring_list(r['predictions'].split(' '))  for i, r in df_test1.iterrows()] # str to list\n",
    "df_test1['pred_0'] = [r['preds'][0] for i, r in df_test1.iterrows()]\n",
    "df_test1['pred_1'] = [r['preds'][1] for i, r in df_test1.iterrows()]\n",
    "df_test1 = df_test1.drop(columns=['predictions', 'preds'])\n",
    "df_test1.head()"
   ]
  },
  {
   "cell_type": "code",
   "execution_count": 14,
   "id": "a9bf261e",
   "metadata": {},
   "outputs": [
    {
     "data": {
      "text/plain": [
       "0    0.025\n",
       "1    0.010\n",
       "2    0.050\n",
       "3    0.005\n",
       "4    0.895\n",
       "Name: pred_1, dtype: float64"
      ]
     },
     "execution_count": 14,
     "metadata": {},
     "output_type": "execute_result"
    }
   ],
   "source": [
    "df_output = df_test1.pred_1\n",
    "df_output.head()"
   ]
  },
  {
   "cell_type": "code",
   "execution_count": 15,
   "id": "ffe9f815",
   "metadata": {},
   "outputs": [],
   "source": [
    "preds = df_output.to_numpy()"
   ]
  },
  {
   "cell_type": "code",
   "execution_count": 16,
   "id": "599aa87e",
   "metadata": {},
   "outputs": [
    {
     "data": {
      "text/plain": [
       "array([0.025, 0.01 , 0.05 , ..., 0.01 , 0.7  , 0.025])"
      ]
     },
     "execution_count": 16,
     "metadata": {},
     "output_type": "execute_result"
    }
   ],
   "source": [
    "preds"
   ]
  },
  {
   "cell_type": "code",
   "execution_count": 142,
   "id": "ada1048d",
   "metadata": {},
   "outputs": [],
   "source": [
    "def RF_direct_prob(x, cl, q, alpha, m, s):\n",
    "    \"\"\"\n",
    "    Gives probability of class conditional on RF-output\n",
    "    x = RF output (between 0 and 1)\n",
    "    cl = class (0 or 1)\n",
    "    w = array of weights\n",
    "    p = array of probs\n",
    "    m = array of means for gaussian\n",
    "    s = array of standard devs for gaussian\n",
    "    \"\"\"\n",
    "    c = 1 - 2**-10\n",
    "    x2 = 0.5 + (x-0.5) * c\n",
    "    y = np.log(x/(1-x))\n",
    "    pc = alpha*cl + (1-alpha) * (1-cl)\n",
    "    pjoint = np.sum(pc * q * norm.pdf(y, loc=m, scale=s))\n",
    "    px = np.sum(q * norm.pdf(y, loc=m, scale=s))\n",
    "    out = pjoint / px\n",
    "    return out"
   ]
  },
  {
   "cell_type": "code",
   "execution_count": 17,
   "id": "6286a1fc",
   "metadata": {},
   "outputs": [],
   "source": [
    "def RF_direct_prob2(x, cl, q, alpha, m, s):\n",
    "    \"\"\"\n",
    "    Gives probability of class conditional on RF-output\n",
    "    x = RF output (between 0 and 1)\n",
    "    cl = class (0 or 1)\n",
    "    q = array of weights\n",
    "    alpha = array of probs\n",
    "    m = array of means for gaussian\n",
    "    s = array of standard devs for gaussian\n",
    "    \"\"\"\n",
    "    pc = alpha*cl + (1-alpha)*(1-cl)\n",
    "    pjoint = np.sum(q * pc * norm.pdf(x, loc=m, scale=s))\n",
    "    px = np.sum(q * norm.pdf(x, loc=m, scale=s))\n",
    "    out = pjoint/px\n",
    "    return out"
   ]
  },
  {
   "cell_type": "code",
   "execution_count": 18,
   "id": "43d07939",
   "metadata": {},
   "outputs": [
    {
     "data": {
      "text/plain": [
       "array([0.025, 0.01 , 0.05 , ..., 0.01 , 0.7  , 0.025])"
      ]
     },
     "execution_count": 18,
     "metadata": {},
     "output_type": "execute_result"
    }
   ],
   "source": [
    "preds"
   ]
  },
  {
   "cell_type": "code",
   "execution_count": 19,
   "id": "b1724fb3",
   "metadata": {},
   "outputs": [],
   "source": [
    "def get_probs_RF(df, preds, cl):\n",
    "    mu = df.mu.to_numpy()\n",
    "    sigma = df.sigma.to_numpy()\n",
    "    alpha = df.alpha.to_numpy()\n",
    "    q = df.q.to_numpy()\n",
    "    all_probs = np.array([])\n",
    "    for pred in preds:\n",
    "        prob = RF_direct_prob2(pred, cl, q, alpha, mu, sigma)\n",
    "        all_probs = np.append(all_probs, prob)\n",
    "    return all_probs"
   ]
  },
  {
   "cell_type": "code",
   "execution_count": 20,
   "id": "52eebe5c",
   "metadata": {},
   "outputs": [
    {
     "data": {
      "text/plain": [
       "array([0.99770564, 0.99856271, 0.99456399, ..., 0.99856271, 0.12617471,\n",
       "       0.99770564])"
      ]
     },
     "execution_count": 20,
     "metadata": {},
     "output_type": "execute_result"
    }
   ],
   "source": [
    "all_probs_0 = get_probs_RF(df_RF, preds, 0)\n",
    "all_probs_0"
   ]
  },
  {
   "cell_type": "code",
   "execution_count": 21,
   "id": "428cee72",
   "metadata": {},
   "outputs": [],
   "source": [
    "def make_equal_pred_rand(df):\n",
    "    rands = []\n",
    "    for i in range(0, len(df[df['pred_0'] == 0.5])):\n",
    "        rands.append(random.randint(0, 1))\n",
    "    df.loc[df['pred_0'] == 0.5, 'predicted_class'] = rands\n",
    "    return df"
   ]
  },
  {
   "cell_type": "code",
   "execution_count": 22,
   "id": "5e986c17",
   "metadata": {},
   "outputs": [],
   "source": [
    "df_test1 = make_equal_pred_rand(df_test1)"
   ]
  },
  {
   "cell_type": "code",
   "execution_count": 23,
   "id": "da891329",
   "metadata": {},
   "outputs": [
    {
     "data": {
      "text/html": [
       "<div>\n",
       "<style scoped>\n",
       "    .dataframe tbody tr th:only-of-type {\n",
       "        vertical-align: middle;\n",
       "    }\n",
       "\n",
       "    .dataframe tbody tr th {\n",
       "        vertical-align: top;\n",
       "    }\n",
       "\n",
       "    .dataframe thead th {\n",
       "        text-align: right;\n",
       "    }\n",
       "</style>\n",
       "<table border=\"1\" class=\"dataframe\">\n",
       "  <thead>\n",
       "    <tr style=\"text-align: right;\">\n",
       "      <th></th>\n",
       "      <th>class</th>\n",
       "      <th>predicted_class</th>\n",
       "      <th>pred_0</th>\n",
       "      <th>pred_1</th>\n",
       "      <th>prob_0</th>\n",
       "    </tr>\n",
       "  </thead>\n",
       "  <tbody>\n",
       "    <tr>\n",
       "      <th>0</th>\n",
       "      <td>0</td>\n",
       "      <td>0</td>\n",
       "      <td>0.975</td>\n",
       "      <td>0.025</td>\n",
       "      <td>0.997706</td>\n",
       "    </tr>\n",
       "    <tr>\n",
       "      <th>1</th>\n",
       "      <td>0</td>\n",
       "      <td>0</td>\n",
       "      <td>0.990</td>\n",
       "      <td>0.010</td>\n",
       "      <td>0.998563</td>\n",
       "    </tr>\n",
       "    <tr>\n",
       "      <th>2</th>\n",
       "      <td>0</td>\n",
       "      <td>0</td>\n",
       "      <td>0.950</td>\n",
       "      <td>0.050</td>\n",
       "      <td>0.994564</td>\n",
       "    </tr>\n",
       "    <tr>\n",
       "      <th>3</th>\n",
       "      <td>0</td>\n",
       "      <td>0</td>\n",
       "      <td>0.995</td>\n",
       "      <td>0.005</td>\n",
       "      <td>0.998594</td>\n",
       "    </tr>\n",
       "    <tr>\n",
       "      <th>4</th>\n",
       "      <td>1</td>\n",
       "      <td>1</td>\n",
       "      <td>0.105</td>\n",
       "      <td>0.895</td>\n",
       "      <td>0.070697</td>\n",
       "    </tr>\n",
       "    <tr>\n",
       "      <th>...</th>\n",
       "      <td>...</td>\n",
       "      <td>...</td>\n",
       "      <td>...</td>\n",
       "      <td>...</td>\n",
       "      <td>...</td>\n",
       "    </tr>\n",
       "    <tr>\n",
       "      <th>3584</th>\n",
       "      <td>0</td>\n",
       "      <td>0</td>\n",
       "      <td>0.995</td>\n",
       "      <td>0.005</td>\n",
       "      <td>0.998594</td>\n",
       "    </tr>\n",
       "    <tr>\n",
       "      <th>3585</th>\n",
       "      <td>0</td>\n",
       "      <td>0</td>\n",
       "      <td>0.915</td>\n",
       "      <td>0.085</td>\n",
       "      <td>0.980938</td>\n",
       "    </tr>\n",
       "    <tr>\n",
       "      <th>3586</th>\n",
       "      <td>0</td>\n",
       "      <td>0</td>\n",
       "      <td>0.990</td>\n",
       "      <td>0.010</td>\n",
       "      <td>0.998563</td>\n",
       "    </tr>\n",
       "    <tr>\n",
       "      <th>3587</th>\n",
       "      <td>1</td>\n",
       "      <td>1</td>\n",
       "      <td>0.300</td>\n",
       "      <td>0.700</td>\n",
       "      <td>0.126175</td>\n",
       "    </tr>\n",
       "    <tr>\n",
       "      <th>3588</th>\n",
       "      <td>0</td>\n",
       "      <td>0</td>\n",
       "      <td>0.975</td>\n",
       "      <td>0.025</td>\n",
       "      <td>0.997706</td>\n",
       "    </tr>\n",
       "  </tbody>\n",
       "</table>\n",
       "<p>3589 rows × 5 columns</p>\n",
       "</div>"
      ],
      "text/plain": [
       "      class  predicted_class  pred_0  pred_1    prob_0\n",
       "0         0                0   0.975   0.025  0.997706\n",
       "1         0                0   0.990   0.010  0.998563\n",
       "2         0                0   0.950   0.050  0.994564\n",
       "3         0                0   0.995   0.005  0.998594\n",
       "4         1                1   0.105   0.895  0.070697\n",
       "...     ...              ...     ...     ...       ...\n",
       "3584      0                0   0.995   0.005  0.998594\n",
       "3585      0                0   0.915   0.085  0.980938\n",
       "3586      0                0   0.990   0.010  0.998563\n",
       "3587      1                1   0.300   0.700  0.126175\n",
       "3588      0                0   0.975   0.025  0.997706\n",
       "\n",
       "[3589 rows x 5 columns]"
      ]
     },
     "execution_count": 23,
     "metadata": {},
     "output_type": "execute_result"
    }
   ],
   "source": [
    "df_test1['prob_0'] = all_probs_0\n",
    "#df_all['probs_class_1'] = all_probs_1\n",
    "df_test1"
   ]
  },
  {
   "cell_type": "code",
   "execution_count": 24,
   "id": "d27759d9",
   "metadata": {
    "scrolled": true
   },
   "outputs": [
    {
     "data": {
      "image/png": "[encoded data removed]",
      "text/plain": [
       "<Figure size 432x288 with 1 Axes>"
      ]
     },
     "metadata": {
      "needs_background": "light"
     },
     "output_type": "display_data"
    }
   ],
   "source": [
    "df_test1.plot.scatter(x='pred_0', y='prob_0')\n",
    "plt.xlabel('RF % Output')\n",
    "plt.ylabel('probability of class 0')\n",
    "plt.xlim(0,1)\n",
    "plt.ylim(0,1)\n",
    "plt.grid()\n",
    "\n",
    "\n",
    "#plt.savefig('../dataset/RF_output.png')\n",
    "plt.show()"
   ]
  },
  {
   "cell_type": "markdown",
   "id": "85417d59",
   "metadata": {},
   "source": [
    "## Confusion matrix for original predictions"
   ]
  },
  {
   "cell_type": "code",
   "execution_count": 28,
   "id": "c5440cd0",
   "metadata": {},
   "outputs": [
    {
     "data": {
      "image/png": "[encoded data removed]",
      "text/plain": [
       "<Figure size 432x288 with 2 Axes>"
      ]
     },
     "metadata": {
      "needs_background": "light"
     },
     "output_type": "display_data"
    }
   ],
   "source": [
    "y = df_test1['class'].to_numpy()\n",
    "y_pred = df_test1.predicted_class.to_numpy()\n",
    "cm = confusion_matrix(y, y_pred)\n",
    "f = sns.heatmap(cm, annot=True, fmt='d')\n",
    "plt.show()"
   ]
  },
  {
   "cell_type": "markdown",
   "id": "8df944b7",
   "metadata": {},
   "source": [
    "## Confusion matrix for corrected predictions"
   ]
  },
  {
   "cell_type": "code",
   "execution_count": 29,
   "id": "d96975d3",
   "metadata": {},
   "outputs": [],
   "source": [
    "y_pred = df_test1['prob_0']"
   ]
  },
  {
   "cell_type": "code",
   "execution_count": 30,
   "id": "4290d2e4",
   "metadata": {},
   "outputs": [
    {
     "ename": "ValueError",
     "evalue": "Classification metrics can't handle a mix of binary and continuous targets",
     "output_type": "error",
     "traceback": [
      "\u001b[0;31m---------------------------------------------------------------------------\u001b[0m",
      "\u001b[0;31mValueError\u001b[0m                                Traceback (most recent call last)",
      "\u001b[0;32m/tmp/ipykernel_36833/792402794.py\u001b[0m in \u001b[0;36m<module>\u001b[0;34m\u001b[0m\n\u001b[1;32m      1\u001b[0m \u001b[0my\u001b[0m \u001b[0;34m=\u001b[0m \u001b[0mdf_test1\u001b[0m\u001b[0;34m[\u001b[0m\u001b[0;34m'class'\u001b[0m\u001b[0;34m]\u001b[0m\u001b[0;34m.\u001b[0m\u001b[0mto_numpy\u001b[0m\u001b[0;34m(\u001b[0m\u001b[0;34m)\u001b[0m\u001b[0;34m\u001b[0m\u001b[0;34m\u001b[0m\u001b[0m\n\u001b[1;32m      2\u001b[0m \u001b[0my_pred\u001b[0m \u001b[0;34m=\u001b[0m \u001b[0mdf_test1\u001b[0m\u001b[0;34m[\u001b[0m\u001b[0;34m'prob_0'\u001b[0m\u001b[0;34m]\u001b[0m\u001b[0;34m.\u001b[0m\u001b[0mto_numpy\u001b[0m\u001b[0;34m(\u001b[0m\u001b[0;34m)\u001b[0m\u001b[0;34m\u001b[0m\u001b[0;34m\u001b[0m\u001b[0m\n\u001b[0;32m----> 3\u001b[0;31m \u001b[0mcm\u001b[0m \u001b[0;34m=\u001b[0m \u001b[0mconfusion_matrix\u001b[0m\u001b[0;34m(\u001b[0m\u001b[0my\u001b[0m\u001b[0;34m,\u001b[0m \u001b[0my_pred\u001b[0m\u001b[0;34m)\u001b[0m\u001b[0;34m\u001b[0m\u001b[0;34m\u001b[0m\u001b[0m\n\u001b[0m\u001b[1;32m      4\u001b[0m \u001b[0mf\u001b[0m \u001b[0;34m=\u001b[0m \u001b[0msns\u001b[0m\u001b[0;34m.\u001b[0m\u001b[0mheatmap\u001b[0m\u001b[0;34m(\u001b[0m\u001b[0mcm\u001b[0m\u001b[0;34m,\u001b[0m \u001b[0mannot\u001b[0m\u001b[0;34m=\u001b[0m\u001b[0;32mTrue\u001b[0m\u001b[0;34m,\u001b[0m \u001b[0mfmt\u001b[0m\u001b[0;34m=\u001b[0m\u001b[0;34m'd'\u001b[0m\u001b[0;34m)\u001b[0m\u001b[0;34m\u001b[0m\u001b[0;34m\u001b[0m\u001b[0m\n\u001b[1;32m      5\u001b[0m \u001b[0mplt\u001b[0m\u001b[0;34m.\u001b[0m\u001b[0mshow\u001b[0m\u001b[0;34m(\u001b[0m\u001b[0;34m)\u001b[0m\u001b[0;34m\u001b[0m\u001b[0;34m\u001b[0m\u001b[0m\n",
      "\u001b[0;32m~/anaconda3/envs/fastai-drug/lib/python3.7/site-packages/sklearn/metrics/_classification.py\u001b[0m in \u001b[0;36mconfusion_matrix\u001b[0;34m(y_true, y_pred, labels, sample_weight, normalize)\u001b[0m\n\u001b[1;32m    305\u001b[0m     \u001b[0;34m(\u001b[0m\u001b[0;36m0\u001b[0m\u001b[0;34m,\u001b[0m \u001b[0;36m2\u001b[0m\u001b[0;34m,\u001b[0m \u001b[0;36m1\u001b[0m\u001b[0;34m,\u001b[0m \u001b[0;36m1\u001b[0m\u001b[0;34m)\u001b[0m\u001b[0;34m\u001b[0m\u001b[0;34m\u001b[0m\u001b[0m\n\u001b[1;32m    306\u001b[0m     \"\"\"\n\u001b[0;32m--> 307\u001b[0;31m     \u001b[0my_type\u001b[0m\u001b[0;34m,\u001b[0m \u001b[0my_true\u001b[0m\u001b[0;34m,\u001b[0m \u001b[0my_pred\u001b[0m \u001b[0;34m=\u001b[0m \u001b[0m_check_targets\u001b[0m\u001b[0;34m(\u001b[0m\u001b[0my_true\u001b[0m\u001b[0;34m,\u001b[0m \u001b[0my_pred\u001b[0m\u001b[0;34m)\u001b[0m\u001b[0;34m\u001b[0m\u001b[0;34m\u001b[0m\u001b[0m\n\u001b[0m\u001b[1;32m    308\u001b[0m     \u001b[0;32mif\u001b[0m \u001b[0my_type\u001b[0m \u001b[0;32mnot\u001b[0m \u001b[0;32min\u001b[0m \u001b[0;34m(\u001b[0m\u001b[0;34m\"binary\"\u001b[0m\u001b[0;34m,\u001b[0m \u001b[0;34m\"multiclass\"\u001b[0m\u001b[0;34m)\u001b[0m\u001b[0;34m:\u001b[0m\u001b[0;34m\u001b[0m\u001b[0;34m\u001b[0m\u001b[0m\n\u001b[1;32m    309\u001b[0m         \u001b[0;32mraise\u001b[0m \u001b[0mValueError\u001b[0m\u001b[0;34m(\u001b[0m\u001b[0;34m\"%s is not supported\"\u001b[0m \u001b[0;34m%\u001b[0m \u001b[0my_type\u001b[0m\u001b[0;34m)\u001b[0m\u001b[0;34m\u001b[0m\u001b[0;34m\u001b[0m\u001b[0m\n",
      "\u001b[0;32m~/anaconda3/envs/fastai-drug/lib/python3.7/site-packages/sklearn/metrics/_classification.py\u001b[0m in \u001b[0;36m_check_targets\u001b[0;34m(y_true, y_pred)\u001b[0m\n\u001b[1;32m     93\u001b[0m         raise ValueError(\n\u001b[1;32m     94\u001b[0m             \"Classification metrics can't handle a mix of {0} and {1} targets\".format(\n\u001b[0;32m---> 95\u001b[0;31m                 \u001b[0mtype_true\u001b[0m\u001b[0;34m,\u001b[0m \u001b[0mtype_pred\u001b[0m\u001b[0;34m\u001b[0m\u001b[0;34m\u001b[0m\u001b[0m\n\u001b[0m\u001b[1;32m     96\u001b[0m             )\n\u001b[1;32m     97\u001b[0m         )\n",
      "\u001b[0;31mValueError\u001b[0m: Classification metrics can't handle a mix of binary and continuous targets"
     ]
    }
   ],
   "source": [
    "y = df_test1['class'].to_numpy()\n",
    "y_pred = df_test1['prob_0'].to_numpy()\n",
    "cm = confusion_matrix(y, y_pred)\n",
    "f = sns.heatmap(cm, annot=True, fmt='d')\n",
    "plt.show()"
   ]
  },
  {
   "cell_type": "code",
   "execution_count": 46,
   "id": "ef58193f",
   "metadata": {},
   "outputs": [],
   "source": [
    "df_test1.to_csv(DATA/'RF_bayesian_prob_test1_calibration.csv', index=False)"
   ]
  },
  {
   "cell_type": "markdown",
   "id": "accbf4af",
   "metadata": {},
   "source": [
    "### same for test set 2"
   ]
  },
  {
   "cell_type": "code",
   "execution_count": 25,
   "id": "43496e34",
   "metadata": {},
   "outputs": [
    {
     "data": {
      "text/html": [
       "<div>\n",
       "<style scoped>\n",
       "    .dataframe tbody tr th:only-of-type {\n",
       "        vertical-align: middle;\n",
       "    }\n",
       "\n",
       "    .dataframe tbody tr th {\n",
       "        vertical-align: top;\n",
       "    }\n",
       "\n",
       "    .dataframe thead th {\n",
       "        text-align: right;\n",
       "    }\n",
       "</style>\n",
       "<table border=\"1\" class=\"dataframe\">\n",
       "  <thead>\n",
       "    <tr style=\"text-align: right;\">\n",
       "      <th></th>\n",
       "      <th>class</th>\n",
       "      <th>predictions</th>\n",
       "      <th>predicted_class</th>\n",
       "    </tr>\n",
       "  </thead>\n",
       "  <tbody>\n",
       "    <tr>\n",
       "      <th>0</th>\n",
       "      <td>1</td>\n",
       "      <td>[0.405 0.595]</td>\n",
       "      <td>1</td>\n",
       "    </tr>\n",
       "    <tr>\n",
       "      <th>1</th>\n",
       "      <td>1</td>\n",
       "      <td>[0.075 0.925]</td>\n",
       "      <td>1</td>\n",
       "    </tr>\n",
       "    <tr>\n",
       "      <th>2</th>\n",
       "      <td>0</td>\n",
       "      <td>[0.945 0.055]</td>\n",
       "      <td>0</td>\n",
       "    </tr>\n",
       "    <tr>\n",
       "      <th>3</th>\n",
       "      <td>0</td>\n",
       "      <td>[0.975 0.025]</td>\n",
       "      <td>0</td>\n",
       "    </tr>\n",
       "    <tr>\n",
       "      <th>4</th>\n",
       "      <td>0</td>\n",
       "      <td>[0.95 0.05]</td>\n",
       "      <td>0</td>\n",
       "    </tr>\n",
       "  </tbody>\n",
       "</table>\n",
       "</div>"
      ],
      "text/plain": [
       "   class    predictions  predicted_class\n",
       "0      1  [0.405 0.595]                1\n",
       "1      1  [0.075 0.925]                1\n",
       "2      0  [0.945 0.055]                0\n",
       "3      0  [0.975 0.025]                0\n",
       "4      0    [0.95 0.05]                0"
      ]
     },
     "execution_count": 25,
     "metadata": {},
     "output_type": "execute_result"
    }
   ],
   "source": [
    "df_test2 = pd.read_csv(f'{CHEMBL205}/CHEMBL205_predictions_RF_test2_demonstration.csv')\n",
    "df_test2.head()"
   ]
  },
  {
   "cell_type": "code",
   "execution_count": 26,
   "id": "bd5ccbe1",
   "metadata": {},
   "outputs": [
    {
     "data": {
      "text/html": [
       "<div>\n",
       "<style scoped>\n",
       "    .dataframe tbody tr th:only-of-type {\n",
       "        vertical-align: middle;\n",
       "    }\n",
       "\n",
       "    .dataframe tbody tr th {\n",
       "        vertical-align: top;\n",
       "    }\n",
       "\n",
       "    .dataframe thead th {\n",
       "        text-align: right;\n",
       "    }\n",
       "</style>\n",
       "<table border=\"1\" class=\"dataframe\">\n",
       "  <thead>\n",
       "    <tr style=\"text-align: right;\">\n",
       "      <th></th>\n",
       "      <th>class</th>\n",
       "      <th>predictions</th>\n",
       "      <th>predicted_class</th>\n",
       "      <th>preds</th>\n",
       "      <th>pred_0</th>\n",
       "      <th>pred_1</th>\n",
       "    </tr>\n",
       "  </thead>\n",
       "  <tbody>\n",
       "    <tr>\n",
       "      <th>0</th>\n",
       "      <td>1</td>\n",
       "      <td>[0.405 0.595]</td>\n",
       "      <td>1</td>\n",
       "      <td>[0.405, 0.595]</td>\n",
       "      <td>0.405</td>\n",
       "      <td>0.595</td>\n",
       "    </tr>\n",
       "    <tr>\n",
       "      <th>1</th>\n",
       "      <td>1</td>\n",
       "      <td>[0.075 0.925]</td>\n",
       "      <td>1</td>\n",
       "      <td>[0.075, 0.925]</td>\n",
       "      <td>0.075</td>\n",
       "      <td>0.925</td>\n",
       "    </tr>\n",
       "    <tr>\n",
       "      <th>2</th>\n",
       "      <td>0</td>\n",
       "      <td>[0.945 0.055]</td>\n",
       "      <td>0</td>\n",
       "      <td>[0.945, 0.055]</td>\n",
       "      <td>0.945</td>\n",
       "      <td>0.055</td>\n",
       "    </tr>\n",
       "    <tr>\n",
       "      <th>3</th>\n",
       "      <td>0</td>\n",
       "      <td>[0.975 0.025]</td>\n",
       "      <td>0</td>\n",
       "      <td>[0.975, 0.025]</td>\n",
       "      <td>0.975</td>\n",
       "      <td>0.025</td>\n",
       "    </tr>\n",
       "    <tr>\n",
       "      <th>4</th>\n",
       "      <td>0</td>\n",
       "      <td>[0.95 0.05]</td>\n",
       "      <td>0</td>\n",
       "      <td>[0.95, 0.05]</td>\n",
       "      <td>0.950</td>\n",
       "      <td>0.050</td>\n",
       "    </tr>\n",
       "  </tbody>\n",
       "</table>\n",
       "</div>"
      ],
      "text/plain": [
       "   class    predictions  predicted_class           preds  pred_0  pred_1\n",
       "0      1  [0.405 0.595]                1  [0.405, 0.595]   0.405   0.595\n",
       "1      1  [0.075 0.925]                1  [0.075, 0.925]   0.075   0.925\n",
       "2      0  [0.945 0.055]                0  [0.945, 0.055]   0.945   0.055\n",
       "3      0  [0.975 0.025]                0  [0.975, 0.025]   0.975   0.025\n",
       "4      0    [0.95 0.05]                0    [0.95, 0.05]   0.950   0.050"
      ]
     },
     "execution_count": 26,
     "metadata": {},
     "output_type": "execute_result"
    }
   ],
   "source": [
    "df_test2['preds'] = [get_substring_list(r['predictions'].split(' '))  for i, r in df_test2.iterrows()] # str to list\n",
    "df_test2['pred_0'] = [r['preds'][0] for i, r in df_test2.iterrows()]\n",
    "df_test2['pred_1'] = [r['preds'][1] for i, r in df_test2.iterrows()]\n",
    "df_test2.head()"
   ]
  },
  {
   "cell_type": "code",
   "execution_count": 27,
   "id": "5ef78784",
   "metadata": {},
   "outputs": [
    {
     "data": {
      "text/html": [
       "<div>\n",
       "<style scoped>\n",
       "    .dataframe tbody tr th:only-of-type {\n",
       "        vertical-align: middle;\n",
       "    }\n",
       "\n",
       "    .dataframe tbody tr th {\n",
       "        vertical-align: top;\n",
       "    }\n",
       "\n",
       "    .dataframe thead th {\n",
       "        text-align: right;\n",
       "    }\n",
       "</style>\n",
       "<table border=\"1\" class=\"dataframe\">\n",
       "  <thead>\n",
       "    <tr style=\"text-align: right;\">\n",
       "      <th></th>\n",
       "      <th>class</th>\n",
       "      <th>predicted_class</th>\n",
       "      <th>pred_0</th>\n",
       "      <th>pred_1</th>\n",
       "    </tr>\n",
       "  </thead>\n",
       "  <tbody>\n",
       "    <tr>\n",
       "      <th>0</th>\n",
       "      <td>1</td>\n",
       "      <td>1</td>\n",
       "      <td>0.405</td>\n",
       "      <td>0.595</td>\n",
       "    </tr>\n",
       "    <tr>\n",
       "      <th>1</th>\n",
       "      <td>1</td>\n",
       "      <td>1</td>\n",
       "      <td>0.075</td>\n",
       "      <td>0.925</td>\n",
       "    </tr>\n",
       "    <tr>\n",
       "      <th>2</th>\n",
       "      <td>0</td>\n",
       "      <td>0</td>\n",
       "      <td>0.945</td>\n",
       "      <td>0.055</td>\n",
       "    </tr>\n",
       "    <tr>\n",
       "      <th>3</th>\n",
       "      <td>0</td>\n",
       "      <td>0</td>\n",
       "      <td>0.975</td>\n",
       "      <td>0.025</td>\n",
       "    </tr>\n",
       "    <tr>\n",
       "      <th>4</th>\n",
       "      <td>0</td>\n",
       "      <td>0</td>\n",
       "      <td>0.950</td>\n",
       "      <td>0.050</td>\n",
       "    </tr>\n",
       "  </tbody>\n",
       "</table>\n",
       "</div>"
      ],
      "text/plain": [
       "   class  predicted_class  pred_0  pred_1\n",
       "0      1                1   0.405   0.595\n",
       "1      1                1   0.075   0.925\n",
       "2      0                0   0.945   0.055\n",
       "3      0                0   0.975   0.025\n",
       "4      0                0   0.950   0.050"
      ]
     },
     "execution_count": 27,
     "metadata": {},
     "output_type": "execute_result"
    }
   ],
   "source": [
    "df_test2 = df_test2.drop(columns=['predictions', 'preds'])\n",
    "df_test2.head()"
   ]
  },
  {
   "cell_type": "code",
   "execution_count": 28,
   "id": "04f4897c",
   "metadata": {},
   "outputs": [],
   "source": [
    "preds = df_test2.pred_1"
   ]
  },
  {
   "cell_type": "code",
   "execution_count": 29,
   "id": "2eae7756",
   "metadata": {},
   "outputs": [],
   "source": [
    "df_test2 = make_equal_pred_rand(df_test2)"
   ]
  },
  {
   "cell_type": "code",
   "execution_count": 30,
   "id": "29e8bd74",
   "metadata": {},
   "outputs": [
    {
     "data": {
      "text/html": [
       "<div>\n",
       "<style scoped>\n",
       "    .dataframe tbody tr th:only-of-type {\n",
       "        vertical-align: middle;\n",
       "    }\n",
       "\n",
       "    .dataframe tbody tr th {\n",
       "        vertical-align: top;\n",
       "    }\n",
       "\n",
       "    .dataframe thead th {\n",
       "        text-align: right;\n",
       "    }\n",
       "</style>\n",
       "<table border=\"1\" class=\"dataframe\">\n",
       "  <thead>\n",
       "    <tr style=\"text-align: right;\">\n",
       "      <th></th>\n",
       "      <th>class</th>\n",
       "      <th>predicted_class</th>\n",
       "      <th>pred_0</th>\n",
       "      <th>pred_1</th>\n",
       "    </tr>\n",
       "  </thead>\n",
       "  <tbody>\n",
       "    <tr>\n",
       "      <th>2167</th>\n",
       "      <td>1</td>\n",
       "      <td>1</td>\n",
       "      <td>0.5</td>\n",
       "      <td>0.5</td>\n",
       "    </tr>\n",
       "    <tr>\n",
       "      <th>2330</th>\n",
       "      <td>1</td>\n",
       "      <td>0</td>\n",
       "      <td>0.5</td>\n",
       "      <td>0.5</td>\n",
       "    </tr>\n",
       "    <tr>\n",
       "      <th>2430</th>\n",
       "      <td>1</td>\n",
       "      <td>1</td>\n",
       "      <td>0.5</td>\n",
       "      <td>0.5</td>\n",
       "    </tr>\n",
       "    <tr>\n",
       "      <th>3317</th>\n",
       "      <td>1</td>\n",
       "      <td>0</td>\n",
       "      <td>0.5</td>\n",
       "      <td>0.5</td>\n",
       "    </tr>\n",
       "    <tr>\n",
       "      <th>3358</th>\n",
       "      <td>1</td>\n",
       "      <td>1</td>\n",
       "      <td>0.5</td>\n",
       "      <td>0.5</td>\n",
       "    </tr>\n",
       "  </tbody>\n",
       "</table>\n",
       "</div>"
      ],
      "text/plain": [
       "      class  predicted_class  pred_0  pred_1\n",
       "2167      1                1     0.5     0.5\n",
       "2330      1                0     0.5     0.5\n",
       "2430      1                1     0.5     0.5\n",
       "3317      1                0     0.5     0.5\n",
       "3358      1                1     0.5     0.5"
      ]
     },
     "execution_count": 30,
     "metadata": {},
     "output_type": "execute_result"
    }
   ],
   "source": [
    "arr = df_test2[df_test2['pred_0'] == 0.5]\n",
    "arr"
   ]
  },
  {
   "cell_type": "code",
   "execution_count": 31,
   "id": "c7775639",
   "metadata": {},
   "outputs": [
    {
     "data": {
      "text/plain": [
       "array([0.20540641, 0.0703547 , 0.9935751 , ..., 0.99839505, 0.99805686,\n",
       "       0.99856271])"
      ]
     },
     "execution_count": 31,
     "metadata": {},
     "output_type": "execute_result"
    }
   ],
   "source": [
    "probs_0 = get_probs_RF(df_RF, preds, 0)\n",
    "probs_0"
   ]
  },
  {
   "cell_type": "code",
   "execution_count": 32,
   "id": "9e19b15f",
   "metadata": {},
   "outputs": [
    {
     "data": {
      "text/html": [
       "<div>\n",
       "<style scoped>\n",
       "    .dataframe tbody tr th:only-of-type {\n",
       "        vertical-align: middle;\n",
       "    }\n",
       "\n",
       "    .dataframe tbody tr th {\n",
       "        vertical-align: top;\n",
       "    }\n",
       "\n",
       "    .dataframe thead th {\n",
       "        text-align: right;\n",
       "    }\n",
       "</style>\n",
       "<table border=\"1\" class=\"dataframe\">\n",
       "  <thead>\n",
       "    <tr style=\"text-align: right;\">\n",
       "      <th></th>\n",
       "      <th>class</th>\n",
       "      <th>predicted_class</th>\n",
       "      <th>pred_0</th>\n",
       "      <th>pred_1</th>\n",
       "      <th>prob_0</th>\n",
       "    </tr>\n",
       "  </thead>\n",
       "  <tbody>\n",
       "    <tr>\n",
       "      <th>0</th>\n",
       "      <td>1</td>\n",
       "      <td>1</td>\n",
       "      <td>0.405</td>\n",
       "      <td>0.595</td>\n",
       "      <td>0.205406</td>\n",
       "    </tr>\n",
       "    <tr>\n",
       "      <th>1</th>\n",
       "      <td>1</td>\n",
       "      <td>1</td>\n",
       "      <td>0.075</td>\n",
       "      <td>0.925</td>\n",
       "      <td>0.070355</td>\n",
       "    </tr>\n",
       "    <tr>\n",
       "      <th>2</th>\n",
       "      <td>0</td>\n",
       "      <td>0</td>\n",
       "      <td>0.945</td>\n",
       "      <td>0.055</td>\n",
       "      <td>0.993575</td>\n",
       "    </tr>\n",
       "    <tr>\n",
       "      <th>3</th>\n",
       "      <td>0</td>\n",
       "      <td>0</td>\n",
       "      <td>0.975</td>\n",
       "      <td>0.025</td>\n",
       "      <td>0.997706</td>\n",
       "    </tr>\n",
       "    <tr>\n",
       "      <th>4</th>\n",
       "      <td>0</td>\n",
       "      <td>0</td>\n",
       "      <td>0.950</td>\n",
       "      <td>0.050</td>\n",
       "      <td>0.994564</td>\n",
       "    </tr>\n",
       "  </tbody>\n",
       "</table>\n",
       "</div>"
      ],
      "text/plain": [
       "   class  predicted_class  pred_0  pred_1    prob_0\n",
       "0      1                1   0.405   0.595  0.205406\n",
       "1      1                1   0.075   0.925  0.070355\n",
       "2      0                0   0.945   0.055  0.993575\n",
       "3      0                0   0.975   0.025  0.997706\n",
       "4      0                0   0.950   0.050  0.994564"
      ]
     },
     "execution_count": 32,
     "metadata": {},
     "output_type": "execute_result"
    }
   ],
   "source": [
    "df_test2['prob_0'] = probs_0\n",
    "df_test2.head()"
   ]
  },
  {
   "cell_type": "code",
   "execution_count": 33,
   "id": "a30cc938",
   "metadata": {},
   "outputs": [
    {
     "data": {
      "image/png": "[encoded data removed]",
      "text/plain": [
       "<Figure size 432x288 with 1 Axes>"
      ]
     },
     "metadata": {
      "needs_background": "light"
     },
     "output_type": "display_data"
    }
   ],
   "source": [
    "df_test2.plot.scatter(x='pred_0', y='prob_0')\n",
    "plt.xlabel('RF % Output')\n",
    "plt.ylabel('probability of class 0')\n",
    "plt.xlim(0,1)\n",
    "plt.ylim(0,1)\n",
    "plt.grid()\n",
    "\n",
    "\n",
    "#plt.savefig('../dataset/RF_output.png')\n",
    "plt.show()"
   ]
  },
  {
   "cell_type": "code",
   "execution_count": 34,
   "id": "36a3da42",
   "metadata": {},
   "outputs": [],
   "source": [
    "df_test2.to_csv(DATA/'RF_bayesian_prob_test2_demonstration.csv', index=False) # save bayesian probabilites as csv"
   ]
  },
  {
   "cell_type": "markdown",
   "id": "f0f18979",
   "metadata": {},
   "source": [
    "## Test score for standard and transducer outputs"
   ]
  },
  {
   "cell_type": "code",
   "execution_count": 98,
   "id": "2eb9c29a",
   "metadata": {},
   "outputs": [
    {
     "data": {
      "text/html": [
       "<div>\n",
       "<style scoped>\n",
       "    .dataframe tbody tr th:only-of-type {\n",
       "        vertical-align: middle;\n",
       "    }\n",
       "\n",
       "    .dataframe tbody tr th {\n",
       "        vertical-align: top;\n",
       "    }\n",
       "\n",
       "    .dataframe thead th {\n",
       "        text-align: right;\n",
       "    }\n",
       "</style>\n",
       "<table border=\"1\" class=\"dataframe\">\n",
       "  <thead>\n",
       "    <tr style=\"text-align: right;\">\n",
       "      <th></th>\n",
       "      <th>class</th>\n",
       "      <th>predicted_class</th>\n",
       "      <th>pred_0</th>\n",
       "      <th>prob_0</th>\n",
       "    </tr>\n",
       "  </thead>\n",
       "  <tbody>\n",
       "    <tr>\n",
       "      <th>0</th>\n",
       "      <td>1</td>\n",
       "      <td>1</td>\n",
       "      <td>0.405</td>\n",
       "      <td>0.691878</td>\n",
       "    </tr>\n",
       "    <tr>\n",
       "      <th>1</th>\n",
       "      <td>1</td>\n",
       "      <td>1</td>\n",
       "      <td>0.075</td>\n",
       "      <td>0.009137</td>\n",
       "    </tr>\n",
       "    <tr>\n",
       "      <th>2</th>\n",
       "      <td>0</td>\n",
       "      <td>0</td>\n",
       "      <td>0.945</td>\n",
       "      <td>0.916939</td>\n",
       "    </tr>\n",
       "    <tr>\n",
       "      <th>3</th>\n",
       "      <td>0</td>\n",
       "      <td>0</td>\n",
       "      <td>0.975</td>\n",
       "      <td>0.910338</td>\n",
       "    </tr>\n",
       "    <tr>\n",
       "      <th>4</th>\n",
       "      <td>0</td>\n",
       "      <td>0</td>\n",
       "      <td>0.950</td>\n",
       "      <td>0.916795</td>\n",
       "    </tr>\n",
       "  </tbody>\n",
       "</table>\n",
       "</div>"
      ],
      "text/plain": [
       "   class  predicted_class  pred_0    prob_0\n",
       "0      1                1   0.405  0.691878\n",
       "1      1                1   0.075  0.009137\n",
       "2      0                0   0.945  0.916939\n",
       "3      0                0   0.975  0.910338\n",
       "4      0                0   0.950  0.916795"
      ]
     },
     "execution_count": 98,
     "metadata": {},
     "output_type": "execute_result"
    }
   ],
   "source": [
    "df_test2.head() # actual class, prediction from RF, bayesian corrected probability "
   ]
  },
  {
   "cell_type": "markdown",
   "id": "bf6b5936",
   "metadata": {},
   "source": [
    "### We need to calculate each class chosen with the same utility matrix and then compare"
   ]
  },
  {
   "cell_type": "code",
   "execution_count": 99,
   "id": "7a2eb49b",
   "metadata": {},
   "outputs": [
    {
     "data": {
      "text/html": [
       "\n",
       "        <iframe\n",
       "            width=\"1000\"\n",
       "            height=\"600\"\n",
       "            src=\"../dataset/probabilities/comparison_schema.pdf\"\n",
       "            frameborder=\"0\"\n",
       "            allowfullscreen\n",
       "            \n",
       "        ></iframe>\n",
       "        "
      ],
      "text/plain": [
       "<IPython.lib.display.IFrame at 0x7f0ec62a3e10>"
      ]
     },
     "execution_count": 99,
     "metadata": {},
     "output_type": "execute_result"
    }
   ],
   "source": [
    "from IPython.display import IFrame\n",
    "IFrame(DATA/'comparison_schema.pdf', width=1000, height=600)"
   ]
  },
  {
   "cell_type": "code",
   "execution_count": 40,
   "id": "c84f03cf",
   "metadata": {},
   "outputs": [],
   "source": [
    "''' \n",
    "Utility matrix format: \n",
    "    [[TN, FN],\n",
    "     [FP, TP]]\n",
    "'''\n",
    "um = np.array([[1, -1], [0, 1]])"
   ]
  },
  {
   "cell_type": "code",
   "execution_count": 61,
   "id": "e87fd2b3",
   "metadata": {},
   "outputs": [
    {
     "data": {
      "text/plain": [
       "array([0.975, 0.99 , 0.95 , ..., 0.99 , 0.3  , 0.975])"
      ]
     },
     "execution_count": 61,
     "metadata": {},
     "output_type": "execute_result"
    }
   ],
   "source": [
    "xs = df_test2['pred_0'].to_numpy()\n",
    "xs"
   ]
  },
  {
   "cell_type": "code",
   "execution_count": 76,
   "id": "35bfe0a2",
   "metadata": {},
   "outputs": [
    {
     "data": {
      "text/html": [
       "<div>\n",
       "<style scoped>\n",
       "    .dataframe tbody tr th:only-of-type {\n",
       "        vertical-align: middle;\n",
       "    }\n",
       "\n",
       "    .dataframe tbody tr th {\n",
       "        vertical-align: top;\n",
       "    }\n",
       "\n",
       "    .dataframe thead th {\n",
       "        text-align: right;\n",
       "    }\n",
       "</style>\n",
       "<table border=\"1\" class=\"dataframe\">\n",
       "  <thead>\n",
       "    <tr style=\"text-align: right;\">\n",
       "      <th></th>\n",
       "      <th>class</th>\n",
       "      <th>pred_0</th>\n",
       "      <th>prob_0</th>\n",
       "      <th>ut_class_prob_0</th>\n",
       "      <th>class_pred_0</th>\n",
       "    </tr>\n",
       "  </thead>\n",
       "  <tbody>\n",
       "    <tr>\n",
       "      <th>0</th>\n",
       "      <td>0</td>\n",
       "      <td>0.975</td>\n",
       "      <td>0.997848</td>\n",
       "      <td>0</td>\n",
       "      <td>0</td>\n",
       "    </tr>\n",
       "    <tr>\n",
       "      <th>1</th>\n",
       "      <td>0</td>\n",
       "      <td>0.990</td>\n",
       "      <td>0.998329</td>\n",
       "      <td>0</td>\n",
       "      <td>0</td>\n",
       "    </tr>\n",
       "    <tr>\n",
       "      <th>2</th>\n",
       "      <td>0</td>\n",
       "      <td>0.950</td>\n",
       "      <td>0.995933</td>\n",
       "      <td>0</td>\n",
       "      <td>0</td>\n",
       "    </tr>\n",
       "    <tr>\n",
       "      <th>3</th>\n",
       "      <td>0</td>\n",
       "      <td>0.995</td>\n",
       "      <td>0.998112</td>\n",
       "      <td>0</td>\n",
       "      <td>0</td>\n",
       "    </tr>\n",
       "    <tr>\n",
       "      <th>4</th>\n",
       "      <td>1</td>\n",
       "      <td>0.105</td>\n",
       "      <td>0.092222</td>\n",
       "      <td>1</td>\n",
       "      <td>1</td>\n",
       "    </tr>\n",
       "  </tbody>\n",
       "</table>\n",
       "</div>"
      ],
      "text/plain": [
       "   class  pred_0    prob_0  ut_class_prob_0  class_pred_0\n",
       "0      0   0.975  0.997848                0             0\n",
       "1      0   0.990  0.998329                0             0\n",
       "2      0   0.950  0.995933                0             0\n",
       "3      0   0.995  0.998112                0             0\n",
       "4      1   0.105  0.092222                1             1"
      ]
     },
     "execution_count": 76,
     "metadata": {},
     "output_type": "execute_result"
    }
   ],
   "source": [
    "df_test2['class_pred_0'] = np.array(df_test2['pred_0'] < 0.5, dtype=int)\n",
    "df_test2.head()"
   ]
  },
  {
   "cell_type": "code",
   "execution_count": 43,
   "id": "0dd58c4c",
   "metadata": {},
   "outputs": [
    {
     "data": {
      "text/html": [
       "<div>\n",
       "<style scoped>\n",
       "    .dataframe tbody tr th:only-of-type {\n",
       "        vertical-align: middle;\n",
       "    }\n",
       "\n",
       "    .dataframe tbody tr th {\n",
       "        vertical-align: top;\n",
       "    }\n",
       "\n",
       "    .dataframe thead th {\n",
       "        text-align: right;\n",
       "    }\n",
       "</style>\n",
       "<table border=\"1\" class=\"dataframe\">\n",
       "  <thead>\n",
       "    <tr style=\"text-align: right;\">\n",
       "      <th></th>\n",
       "      <th>class</th>\n",
       "      <th>pred_0</th>\n",
       "      <th>prob_0</th>\n",
       "      <th>ut_class_pred_0</th>\n",
       "      <th>ut_class_prob_0</th>\n",
       "    </tr>\n",
       "  </thead>\n",
       "  <tbody>\n",
       "    <tr>\n",
       "      <th>0</th>\n",
       "      <td>0</td>\n",
       "      <td>0.975</td>\n",
       "      <td>0.997848</td>\n",
       "      <td>0</td>\n",
       "      <td>0</td>\n",
       "    </tr>\n",
       "    <tr>\n",
       "      <th>1</th>\n",
       "      <td>0</td>\n",
       "      <td>0.990</td>\n",
       "      <td>0.998329</td>\n",
       "      <td>0</td>\n",
       "      <td>0</td>\n",
       "    </tr>\n",
       "    <tr>\n",
       "      <th>2</th>\n",
       "      <td>0</td>\n",
       "      <td>0.950</td>\n",
       "      <td>0.995933</td>\n",
       "      <td>0</td>\n",
       "      <td>0</td>\n",
       "    </tr>\n",
       "    <tr>\n",
       "      <th>3</th>\n",
       "      <td>0</td>\n",
       "      <td>0.995</td>\n",
       "      <td>0.998112</td>\n",
       "      <td>0</td>\n",
       "      <td>0</td>\n",
       "    </tr>\n",
       "    <tr>\n",
       "      <th>4</th>\n",
       "      <td>1</td>\n",
       "      <td>0.105</td>\n",
       "      <td>0.092222</td>\n",
       "      <td>1</td>\n",
       "      <td>1</td>\n",
       "    </tr>\n",
       "  </tbody>\n",
       "</table>\n",
       "</div>"
      ],
      "text/plain": [
       "   class  pred_0    prob_0  ut_class_pred_0  ut_class_prob_0\n",
       "0      0   0.975  0.997848                0                0\n",
       "1      0   0.990  0.998329                0                0\n",
       "2      0   0.950  0.995933                0                0\n",
       "3      0   0.995  0.998112                0                0\n",
       "4      1   0.105  0.092222                1                1"
      ]
     },
     "execution_count": 43,
     "metadata": {},
     "output_type": "execute_result"
    }
   ],
   "source": [
    "df_test2['ut_class_prob_0'] = [choose_class(r['prob_0'], um) for i, r  in df_test2.iterrows()]\n",
    "df_test2.head()"
   ]
  },
  {
   "cell_type": "markdown",
   "id": "261b7f39",
   "metadata": {},
   "source": [
    "### Check confusion matrix for the 2 outputs from the utility matrix"
   ]
  },
  {
   "cell_type": "code",
   "execution_count": 100,
   "id": "840cf903",
   "metadata": {},
   "outputs": [],
   "source": [
    "''' \n",
    "Utility matrix format: \n",
    "    [[TN, FN],\n",
    "     [FP, TP]]\n",
    "'''\n",
    "um = np.array([[1, 0], [-1, 1]])"
   ]
  },
  {
   "cell_type": "code",
   "execution_count": 107,
   "id": "031b1e1d",
   "metadata": {},
   "outputs": [
    {
     "name": "stdout",
     "output_type": "stream",
     "text": [
      "Confusion matrix for RF output:\n"
     ]
    },
    {
     "data": {
      "image/png": "[encoded data removed]",
      "text/plain": [
       "<Figure size 432x288 with 2 Axes>"
      ]
     },
     "metadata": {
      "needs_background": "light"
     },
     "output_type": "display_data"
    }
   ],
   "source": [
    "# Confusion matrix for RF output\n",
    "y = df_test2['class'].to_numpy()\n",
    "y_pred = df_test2['class_pred_0'].to_numpy()\n",
    "cm = confusion_matrix(y, y_pred)\n",
    "f = sns.heatmap(cm, annot=True, fmt='d')\n",
    "print('Confusion matrix for RF output:')\n",
    "plt.show()"
   ]
  },
  {
   "cell_type": "code",
   "execution_count": 108,
   "id": "7f9e7a6f",
   "metadata": {},
   "outputs": [
    {
     "name": "stdout",
     "output_type": "stream",
     "text": [
      "Total gains/loss for confusion matrix above: 3384\n"
     ]
    }
   ],
   "source": [
    "cost = get_total_cost(um, cm)\n",
    "print(f'Total gains/loss for confusion matrix above: {cost}')"
   ]
  },
  {
   "cell_type": "code",
   "execution_count": 109,
   "id": "33b6fb57",
   "metadata": {
    "scrolled": true
   },
   "outputs": [
    {
     "name": "stdout",
     "output_type": "stream",
     "text": [
      "Confusion matrix for bayesian probability output combined with utility matrix:\n"
     ]
    },
    {
     "data": {
      "image/png": "[encoded data removed]",
      "text/plain": [
       "<Figure size 432x288 with 2 Axes>"
      ]
     },
     "metadata": {
      "needs_background": "light"
     },
     "output_type": "display_data"
    }
   ],
   "source": [
    "# Confusion matrix for bayesian probability output combined with utility matrix\n",
    "y = df_test2['class'].to_numpy()\n",
    "y_pred = df_test2['ut_class_prob_0'].to_numpy()\n",
    "cm = confusion_matrix(y, y_pred)\n",
    "f = sns.heatmap(cm, annot=True, fmt='d')\n",
    "print('Confusion matrix for bayesian probability output combined with utility matrix:')\n",
    "plt.show()"
   ]
  },
  {
   "cell_type": "code",
   "execution_count": 110,
   "id": "405bc90d",
   "metadata": {},
   "outputs": [
    {
     "name": "stdout",
     "output_type": "stream",
     "text": [
      "Total gains/loss for confusion matrix above: 3460\n"
     ]
    }
   ],
   "source": [
    "cost = get_total_cost(um, cm)\n",
    "print(f'Total gains/loss for confusion matrix above: {cost}')"
   ]
  },
  {
   "cell_type": "markdown",
   "id": "b4d2b5cd",
   "metadata": {},
   "source": [
    "# Decision theory"
   ]
  },
  {
   "cell_type": "markdown",
   "id": "4aa73e78",
   "metadata": {},
   "source": [
    "### Test an example with gains/losses"
   ]
  },
  {
   "cell_type": "code",
   "execution_count": 54,
   "id": "c19ef068",
   "metadata": {},
   "outputs": [
    {
     "data": {
      "text/plain": [
       "tensor([[ 15., -80.],\n",
       "        [ -1.,   0.]], dtype=torch.float64)"
      ]
     },
     "execution_count": 54,
     "metadata": {},
     "output_type": "execute_result"
    }
   ],
   "source": [
    "''' \n",
    "Utility matrix format: \n",
    "    [[TN, FN],\n",
    "     [FP, TP]]\n",
    "'''\n",
    "M = np.array([[15,-80],\n",
    "              [-1,0]], dtype=float)\n",
    "#M /= np.abs(M).max()\n",
    "M = torch.from_numpy(M)\n",
    "M = M.to(torch.float64)\n",
    "M"
   ]
  },
  {
   "cell_type": "code",
   "execution_count": 55,
   "id": "a4035eea",
   "metadata": {},
   "outputs": [],
   "source": [
    "test1 = np.array([[0.18, 0.02], [0.32, 0.48]], dtype=np.float64)\n",
    "test2 = np.array([[0.16, 0.04], [0.08, 0.72]], dtype=np.float64)"
   ]
  },
  {
   "cell_type": "code",
   "execution_count": 56,
   "id": "7561396e",
   "metadata": {},
   "outputs": [],
   "source": [
    "res1 = M * test1\n",
    "res2 = M * test2"
   ]
  },
  {
   "cell_type": "code",
   "execution_count": 57,
   "id": "d4515d40",
   "metadata": {},
   "outputs": [
    {
     "name": "stdout",
     "output_type": "stream",
     "text": [
      "Gains from algorithms:\n",
      "#1 0.78, #2 -0.88\n"
     ]
    }
   ],
   "source": [
    "sum1, sum2 = res1.sum(), res2.sum()\n",
    "print('Gains from algorithms:')\n",
    "print(f'#1 {sum1:.2f}, #2 {sum2:.2f}')"
   ]
  },
  {
   "cell_type": "markdown",
   "id": "a181a1a8",
   "metadata": {},
   "source": [
    "### Create a function for a utility matrix with cost for each case (TN, FP, FN, TP)"
   ]
  },
  {
   "cell_type": "code",
   "execution_count": 122,
   "id": "5ea85ad2",
   "metadata": {},
   "outputs": [
    {
     "data": {
      "text/plain": [
       "array([[3231,   31],\n",
       "       [  87,  239]])"
      ]
     },
     "execution_count": 122,
     "metadata": {},
     "output_type": "execute_result"
    }
   ],
   "source": [
    "cm = confusion_matrix(y, y_pred)\n",
    "cm"
   ]
  },
  {
   "cell_type": "code",
   "execution_count": 146,
   "id": "deaf9983",
   "metadata": {},
   "outputs": [
    {
     "data": {
      "text/plain": [
       "326.0"
      ]
     },
     "execution_count": 146,
     "metadata": {},
     "output_type": "execute_result"
    }
   ],
   "source": [
    "cost = get_cost(utility, cm[1])\n",
    "cost"
   ]
  },
  {
   "cell_type": "code",
   "execution_count": 141,
   "id": "0254997b",
   "metadata": {},
   "outputs": [
    {
     "data": {
      "text/plain": [
       "[3231.0, 239.0]"
      ]
     },
     "execution_count": 141,
     "metadata": {},
     "output_type": "execute_result"
    }
   ],
   "source": [
    "c = get_expected_cost(utility, cm)\n",
    "c"
   ]
  },
  {
   "cell_type": "code",
   "execution_count": 163,
   "id": "8c9a3cae",
   "metadata": {},
   "outputs": [
    {
     "data": {
      "text/html": [
       "<div>\n",
       "<style scoped>\n",
       "    .dataframe tbody tr th:only-of-type {\n",
       "        vertical-align: middle;\n",
       "    }\n",
       "\n",
       "    .dataframe tbody tr th {\n",
       "        vertical-align: top;\n",
       "    }\n",
       "\n",
       "    .dataframe thead th {\n",
       "        text-align: right;\n",
       "    }\n",
       "</style>\n",
       "<table border=\"1\" class=\"dataframe\">\n",
       "  <thead>\n",
       "    <tr style=\"text-align: right;\">\n",
       "      <th></th>\n",
       "      <th>class</th>\n",
       "      <th>preds</th>\n",
       "      <th>probs_class_0</th>\n",
       "      <th>probs_class_1</th>\n",
       "      <th>prediction</th>\n",
       "      <th>probs</th>\n",
       "    </tr>\n",
       "  </thead>\n",
       "  <tbody>\n",
       "    <tr>\n",
       "      <th>0</th>\n",
       "      <td>0</td>\n",
       "      <td>0.975</td>\n",
       "      <td>0.997848</td>\n",
       "      <td>0.002152</td>\n",
       "      <td>0</td>\n",
       "      <td>[0.9978484371013459, 0.002151562898654075]</td>\n",
       "    </tr>\n",
       "    <tr>\n",
       "      <th>1</th>\n",
       "      <td>0</td>\n",
       "      <td>0.990</td>\n",
       "      <td>0.998329</td>\n",
       "      <td>0.001671</td>\n",
       "      <td>0</td>\n",
       "      <td>[0.998328584124416, 0.0016714158755837688]</td>\n",
       "    </tr>\n",
       "    <tr>\n",
       "      <th>2</th>\n",
       "      <td>0</td>\n",
       "      <td>0.950</td>\n",
       "      <td>0.995933</td>\n",
       "      <td>0.004067</td>\n",
       "      <td>0</td>\n",
       "      <td>[0.9959327602479192, 0.004067239752081032]</td>\n",
       "    </tr>\n",
       "    <tr>\n",
       "      <th>3</th>\n",
       "      <td>0</td>\n",
       "      <td>0.995</td>\n",
       "      <td>0.998112</td>\n",
       "      <td>0.001888</td>\n",
       "      <td>0</td>\n",
       "      <td>[0.9981116284172469, 0.0018883715827530312]</td>\n",
       "    </tr>\n",
       "    <tr>\n",
       "      <th>4</th>\n",
       "      <td>1</td>\n",
       "      <td>0.105</td>\n",
       "      <td>0.092222</td>\n",
       "      <td>0.907778</td>\n",
       "      <td>1</td>\n",
       "      <td>[0.09222187670619506, 0.9077781232938047]</td>\n",
       "    </tr>\n",
       "  </tbody>\n",
       "</table>\n",
       "</div>"
      ],
      "text/plain": [
       "   class  preds  probs_class_0  probs_class_1  prediction  \\\n",
       "0      0  0.975       0.997848       0.002152           0   \n",
       "1      0  0.990       0.998329       0.001671           0   \n",
       "2      0  0.950       0.995933       0.004067           0   \n",
       "3      0  0.995       0.998112       0.001888           0   \n",
       "4      1  0.105       0.092222       0.907778           1   \n",
       "\n",
       "                                         probs  \n",
       "0   [0.9978484371013459, 0.002151562898654075]  \n",
       "1   [0.998328584124416, 0.0016714158755837688]  \n",
       "2   [0.9959327602479192, 0.004067239752081032]  \n",
       "3  [0.9981116284172469, 0.0018883715827530312]  \n",
       "4    [0.09222187670619506, 0.9077781232938047]  "
      ]
     },
     "execution_count": 163,
     "metadata": {},
     "output_type": "execute_result"
    }
   ],
   "source": [
    "df_all['probs'] = [[r['probs_class_0'], r['probs_class_1']] for i, r in df_all.iterrows()]\n",
    "df_all.head()"
   ]
  },
  {
   "cell_type": "code",
   "execution_count": 10,
   "id": "0b304792",
   "metadata": {},
   "outputs": [],
   "source": [
    "''' \n",
    "Utility matrix format: \n",
    "    [[TN, FN],\n",
    "     [FP, TP]]\n",
    "'''\n",
    "utility = np.array([[1, -1], \n",
    "                    [-1, 1]], dtype=np.float64)"
   ]
  },
  {
   "cell_type": "code",
   "execution_count": 43,
   "id": "d8c26b76",
   "metadata": {},
   "outputs": [],
   "source": [
    "def get_expected_utility (um, m):\n",
    "    '''\n",
    "    um = utility matrix in format     [[TN, FN], [FP, TP]]\n",
    "    m = prediction or probability of class [0, 1]\n",
    "    returns expected utility for each class\n",
    "    '''\n",
    "    m = np.array(m)\n",
    "    if um.max() > 1:\n",
    "        if m.max() > 1:\n",
    "            um /= np.abs(um).max()\n",
    "    s1 = um[0] * m\n",
    "    s2 = um[1] * m\n",
    "    s1 = s1.sum()\n",
    "    s2 = s2.sum()\n",
    "    return [s1, s2]"
   ]
  },
  {
   "cell_type": "code",
   "execution_count": 171,
   "id": "8f85f1e3",
   "metadata": {},
   "outputs": [
    {
     "data": {
      "text/html": [
       "<div>\n",
       "<style scoped>\n",
       "    .dataframe tbody tr th:only-of-type {\n",
       "        vertical-align: middle;\n",
       "    }\n",
       "\n",
       "    .dataframe tbody tr th {\n",
       "        vertical-align: top;\n",
       "    }\n",
       "\n",
       "    .dataframe thead th {\n",
       "        text-align: right;\n",
       "    }\n",
       "</style>\n",
       "<table border=\"1\" class=\"dataframe\">\n",
       "  <thead>\n",
       "    <tr style=\"text-align: right;\">\n",
       "      <th></th>\n",
       "      <th>class</th>\n",
       "      <th>probs_class_0</th>\n",
       "      <th>probs_class_1</th>\n",
       "      <th>probs</th>\n",
       "      <th>expected_utility</th>\n",
       "      <th>best_utility_class</th>\n",
       "    </tr>\n",
       "  </thead>\n",
       "  <tbody>\n",
       "    <tr>\n",
       "      <th>0</th>\n",
       "      <td>0</td>\n",
       "      <td>0.997848</td>\n",
       "      <td>0.002152</td>\n",
       "      <td>[0.9978484371013459, 0.002151562898654075]</td>\n",
       "      <td>[0.9956968742026918, -0.9956968742026918]</td>\n",
       "      <td>0</td>\n",
       "    </tr>\n",
       "    <tr>\n",
       "      <th>1</th>\n",
       "      <td>0</td>\n",
       "      <td>0.998329</td>\n",
       "      <td>0.001671</td>\n",
       "      <td>[0.998328584124416, 0.0016714158755837688]</td>\n",
       "      <td>[0.9966571682488323, -0.9966571682488323]</td>\n",
       "      <td>0</td>\n",
       "    </tr>\n",
       "    <tr>\n",
       "      <th>2</th>\n",
       "      <td>0</td>\n",
       "      <td>0.995933</td>\n",
       "      <td>0.004067</td>\n",
       "      <td>[0.9959327602479192, 0.004067239752081032]</td>\n",
       "      <td>[0.9918655204958382, -0.9918655204958382]</td>\n",
       "      <td>0</td>\n",
       "    </tr>\n",
       "    <tr>\n",
       "      <th>3</th>\n",
       "      <td>0</td>\n",
       "      <td>0.998112</td>\n",
       "      <td>0.001888</td>\n",
       "      <td>[0.9981116284172469, 0.0018883715827530312]</td>\n",
       "      <td>[0.9962232568344939, -0.9962232568344939]</td>\n",
       "      <td>0</td>\n",
       "    </tr>\n",
       "    <tr>\n",
       "      <th>4</th>\n",
       "      <td>1</td>\n",
       "      <td>0.092222</td>\n",
       "      <td>0.907778</td>\n",
       "      <td>[0.09222187670619506, 0.9077781232938047]</td>\n",
       "      <td>[-0.8155562465876096, 0.8155562465876096]</td>\n",
       "      <td>1</td>\n",
       "    </tr>\n",
       "  </tbody>\n",
       "</table>\n",
       "</div>"
      ],
      "text/plain": [
       "   class  probs_class_0  probs_class_1  \\\n",
       "0      0       0.997848       0.002152   \n",
       "1      0       0.998329       0.001671   \n",
       "2      0       0.995933       0.004067   \n",
       "3      0       0.998112       0.001888   \n",
       "4      1       0.092222       0.907778   \n",
       "\n",
       "                                         probs  \\\n",
       "0   [0.9978484371013459, 0.002151562898654075]   \n",
       "1   [0.998328584124416, 0.0016714158755837688]   \n",
       "2   [0.9959327602479192, 0.004067239752081032]   \n",
       "3  [0.9981116284172469, 0.0018883715827530312]   \n",
       "4    [0.09222187670619506, 0.9077781232938047]   \n",
       "\n",
       "                            expected_utility  best_utility_class  \n",
       "0  [0.9956968742026918, -0.9956968742026918]                   0  \n",
       "1  [0.9966571682488323, -0.9966571682488323]                   0  \n",
       "2  [0.9918655204958382, -0.9918655204958382]                   0  \n",
       "3  [0.9962232568344939, -0.9962232568344939]                   0  \n",
       "4  [-0.8155562465876096, 0.8155562465876096]                   1  "
      ]
     },
     "execution_count": 171,
     "metadata": {},
     "output_type": "execute_result"
    }
   ],
   "source": [
    "df_all['expected_utility'] = [get_expected_utility(utility, r['probs']) for i, r in df_all.iterrows()]\n",
    "df_all['best_utility_class'] = torch.tensor(df_all['expected_utility']).argmax(axis=1)\n",
    "df_utility = df_all.drop(columns= ['prediction', 'preds'])\n",
    "df_utility.head()"
   ]
  },
  {
   "cell_type": "code",
   "execution_count": null,
   "id": "0a792366",
   "metadata": {},
   "outputs": [],
   "source": [
    "df_utility.to_csv(DATA/'RF_prob_utility_test2.csv', index=False)"
   ]
  },
  {
   "cell_type": "markdown",
   "id": "e92a41f2",
   "metadata": {},
   "source": [
    "# Generate correct probabilities for CNN model for test1 and test2"
   ]
  },
  {
   "cell_type": "code",
   "execution_count": 35,
   "id": "b892cd1d",
   "metadata": {},
   "outputs": [
    {
     "name": "stdout",
     "output_type": "stream",
     "text": [
      "<class 'pandas.core.frame.DataFrame'>\n",
      "RangeIndex: 262143 entries, 0 to 262142\n",
      "Data columns (total 6 columns):\n",
      " #   Column  Non-Null Count   Dtype  \n",
      "---  ------  --------------   -----  \n",
      " 0   q       262143 non-null  float64\n",
      " 1   alpha   262143 non-null  float64\n",
      " 2   mu0     262143 non-null  float64\n",
      " 3   sigma0  262143 non-null  float64\n",
      " 4   mu1     262143 non-null  float64\n",
      " 5   sigma1  262143 non-null  float64\n",
      "dtypes: float64(6)\n",
      "memory usage: 12.0 MB\n"
     ]
    }
   ],
   "source": [
    "df_CNN = pd.read_csv(DATA/'transducer_params-Neural_Net.csv')\n",
    "df_CNN.info()"
   ]
  },
  {
   "cell_type": "code",
   "execution_count": 36,
   "id": "a9995aba",
   "metadata": {},
   "outputs": [
    {
     "data": {
      "text/html": [
       "<div>\n",
       "<style scoped>\n",
       "    .dataframe tbody tr th:only-of-type {\n",
       "        vertical-align: middle;\n",
       "    }\n",
       "\n",
       "    .dataframe tbody tr th {\n",
       "        vertical-align: top;\n",
       "    }\n",
       "\n",
       "    .dataframe thead th {\n",
       "        text-align: right;\n",
       "    }\n",
       "</style>\n",
       "<table border=\"1\" class=\"dataframe\">\n",
       "  <thead>\n",
       "    <tr style=\"text-align: right;\">\n",
       "      <th></th>\n",
       "      <th>q</th>\n",
       "      <th>alpha</th>\n",
       "      <th>mu0</th>\n",
       "      <th>sigma0</th>\n",
       "      <th>mu1</th>\n",
       "      <th>sigma1</th>\n",
       "    </tr>\n",
       "  </thead>\n",
       "  <tbody>\n",
       "    <tr>\n",
       "      <th>0</th>\n",
       "      <td>1.112537e-308</td>\n",
       "      <td>0.446520</td>\n",
       "      <td>11.499224</td>\n",
       "      <td>0.360003</td>\n",
       "      <td>1.527825</td>\n",
       "      <td>0.279322</td>\n",
       "    </tr>\n",
       "    <tr>\n",
       "      <th>1</th>\n",
       "      <td>1.547291e-308</td>\n",
       "      <td>0.706586</td>\n",
       "      <td>13.236257</td>\n",
       "      <td>0.515623</td>\n",
       "      <td>8.094940</td>\n",
       "      <td>0.260156</td>\n",
       "    </tr>\n",
       "    <tr>\n",
       "      <th>2</th>\n",
       "      <td>1.165873e-306</td>\n",
       "      <td>0.098233</td>\n",
       "      <td>8.266543</td>\n",
       "      <td>0.729314</td>\n",
       "      <td>-9.237433</td>\n",
       "      <td>1.405969</td>\n",
       "    </tr>\n",
       "    <tr>\n",
       "      <th>3</th>\n",
       "      <td>3.043827e-297</td>\n",
       "      <td>0.442681</td>\n",
       "      <td>-15.395861</td>\n",
       "      <td>0.362647</td>\n",
       "      <td>13.032093</td>\n",
       "      <td>1.462652</td>\n",
       "    </tr>\n",
       "    <tr>\n",
       "      <th>4</th>\n",
       "      <td>3.235994e-294</td>\n",
       "      <td>0.622342</td>\n",
       "      <td>6.209333</td>\n",
       "      <td>0.673300</td>\n",
       "      <td>-2.049256</td>\n",
       "      <td>0.187423</td>\n",
       "    </tr>\n",
       "  </tbody>\n",
       "</table>\n",
       "</div>"
      ],
      "text/plain": [
       "               q     alpha        mu0    sigma0        mu1    sigma1\n",
       "0  1.112537e-308  0.446520  11.499224  0.360003   1.527825  0.279322\n",
       "1  1.547291e-308  0.706586  13.236257  0.515623   8.094940  0.260156\n",
       "2  1.165873e-306  0.098233   8.266543  0.729314  -9.237433  1.405969\n",
       "3  3.043827e-297  0.442681 -15.395861  0.362647  13.032093  1.462652\n",
       "4  3.235994e-294  0.622342   6.209333  0.673300  -2.049256  0.187423"
      ]
     },
     "execution_count": 36,
     "metadata": {},
     "output_type": "execute_result"
    }
   ],
   "source": [
    "df_CNN.head()"
   ]
  },
  {
   "cell_type": "code",
   "execution_count": 37,
   "id": "f8bf557d",
   "metadata": {},
   "outputs": [],
   "source": [
    "#function for making a list of strings in df to list of floats\n",
    "def get_substring_list(split):\n",
    "    if len(split) <= 1:\n",
    "        print('nooo')\n",
    "    i = 0\n",
    "    while len(split[i]) <= 1:\n",
    "        i += 1\n",
    "    s1 = split[i]\n",
    "    i += 1\n",
    "    while len(split[i]) <= 1:\n",
    "        i += 1\n",
    "    s2 = split[i]\n",
    "    if s1[0] == '[':\n",
    "        s1 = s1[1:]\n",
    "    if s2[-1] == ']':\n",
    "        s2 = s2[0:-1]\n",
    "    s1 = np.float64(s1)\n",
    "    s2 = np.float64(s2)\n",
    "    return [s1, s2]"
   ]
  },
  {
   "cell_type": "code",
   "execution_count": 38,
   "id": "456adf8b",
   "metadata": {},
   "outputs": [],
   "source": [
    "def calculate_probs_CNN(df, df_preds):\n",
    "    '''\n",
    "    function for getting bayesian corrected probabilites for CNN\n",
    "    df = DataFrame for CNN parameters for the probability function\n",
    "    df_preds = DataFrame for the predictions\n",
    "    '''\n",
    "    \n",
    "    preds = df_preds['preds']\n",
    "    all_probs_0 = np.array([])\n",
    "    if 'mu0' and 'mu1' in df.columns:\n",
    "        m0 = df.mu0.to_numpy()\n",
    "        s0 = df.sigma0.to_numpy()\n",
    "        m1 = df.mu1.to_numpy()\n",
    "        s1 = df.sigma1.to_numpy()\n",
    "        alpha = df.alpha.to_numpy()\n",
    "        q = df.q.to_numpy()\n",
    "        for pred in preds:\n",
    "            prob = CNN_direct_prob(pred, 0, q, alpha, m0, s0, m1, s1)\n",
    "            all_probs_0 = np.append(all_probs_0, prob)\n",
    "    else:\n",
    "        m = df.mu.to_numpy()\n",
    "        s = df.sigma.to_numpy()\n",
    "        alpha = df.alpha.to_numpy()\n",
    "        q = df.q.to_numpy()\n",
    "        for pred in preds:\n",
    "            prob = CNN_direct_prob2(pred, 0, q, alpha, m, s)\n",
    "            all_probs_0 = np.append(all_probs_0, prob)\n",
    "    return all_probs_0"
   ]
  },
  {
   "cell_type": "markdown",
   "id": "3ea49b23",
   "metadata": {},
   "source": [
    "### Test1"
   ]
  },
  {
   "cell_type": "code",
   "execution_count": 56,
   "id": "32320fa4",
   "metadata": {},
   "outputs": [
    {
     "data": {
      "text/html": [
       "<div>\n",
       "<style scoped>\n",
       "    .dataframe tbody tr th:only-of-type {\n",
       "        vertical-align: middle;\n",
       "    }\n",
       "\n",
       "    .dataframe tbody tr th {\n",
       "        vertical-align: top;\n",
       "    }\n",
       "\n",
       "    .dataframe thead th {\n",
       "        text-align: right;\n",
       "    }\n",
       "</style>\n",
       "<table border=\"1\" class=\"dataframe\">\n",
       "  <thead>\n",
       "    <tr style=\"text-align: right;\">\n",
       "      <th></th>\n",
       "      <th>class</th>\n",
       "      <th>predictions</th>\n",
       "      <th>predicted_class</th>\n",
       "      <th>preds</th>\n",
       "    </tr>\n",
       "  </thead>\n",
       "  <tbody>\n",
       "    <tr>\n",
       "      <th>0</th>\n",
       "      <td>0</td>\n",
       "      <td>[ 0.8859392 -3.1229172]</td>\n",
       "      <td>0</td>\n",
       "      <td>[0.8859392, -3.1229172]</td>\n",
       "    </tr>\n",
       "    <tr>\n",
       "      <th>1</th>\n",
       "      <td>0</td>\n",
       "      <td>[ 3.2430787 -5.6636806]</td>\n",
       "      <td>0</td>\n",
       "      <td>[3.2430787, -5.6636806]</td>\n",
       "    </tr>\n",
       "    <tr>\n",
       "      <th>2</th>\n",
       "      <td>0</td>\n",
       "      <td>[ 3.8554306 -5.8214846]</td>\n",
       "      <td>0</td>\n",
       "      <td>[3.8554306, -5.8214846]</td>\n",
       "    </tr>\n",
       "    <tr>\n",
       "      <th>3</th>\n",
       "      <td>0</td>\n",
       "      <td>[ 3.3478065 -5.4837394]</td>\n",
       "      <td>0</td>\n",
       "      <td>[3.3478065, -5.4837394]</td>\n",
       "    </tr>\n",
       "    <tr>\n",
       "      <th>4</th>\n",
       "      <td>1</td>\n",
       "      <td>[-3.788875    0.15739654]</td>\n",
       "      <td>1</td>\n",
       "      <td>[-3.788875, 0.15739654]</td>\n",
       "    </tr>\n",
       "  </tbody>\n",
       "</table>\n",
       "</div>"
      ],
      "text/plain": [
       "   class                predictions  predicted_class                    preds\n",
       "0      0    [ 0.8859392 -3.1229172]                0  [0.8859392, -3.1229172]\n",
       "1      0    [ 3.2430787 -5.6636806]                0  [3.2430787, -5.6636806]\n",
       "2      0    [ 3.8554306 -5.8214846]                0  [3.8554306, -5.8214846]\n",
       "3      0    [ 3.3478065 -5.4837394]                0  [3.3478065, -5.4837394]\n",
       "4      1  [-3.788875    0.15739654]                1  [-3.788875, 0.15739654]"
      ]
     },
     "execution_count": 56,
     "metadata": {},
     "output_type": "execute_result"
    }
   ],
   "source": [
    "df_test1 = pd.read_csv(CHEMBL205/'CHEMBL205_predictions_CNN_test1_calibration.csv')\n",
    "df_test1['preds'] = [get_substring_list(r['predictions'].split(' '))  for i, r in df_test1.iterrows()]\n",
    "#df_preds['pred_0'] = np.array(df_preds['pred_0'], dtype=np.float64)\n",
    "df_test1.head()"
   ]
  },
  {
   "cell_type": "code",
   "execution_count": 57,
   "id": "c555a3bf",
   "metadata": {},
   "outputs": [
    {
     "data": {
      "text/plain": [
       "array([0.96072479, 0.99799598, 0.99756395, ..., 0.99863261, 0.66938817,\n",
       "       0.99142265])"
      ]
     },
     "execution_count": 57,
     "metadata": {},
     "output_type": "execute_result"
    }
   ],
   "source": [
    "arr = calculate_probs_CNN(df_CNN, df_test1)\n",
    "arr"
   ]
  },
  {
   "cell_type": "code",
   "execution_count": 58,
   "id": "efd4435a",
   "metadata": {},
   "outputs": [
    {
     "data": {
      "text/plain": [
       "3589"
      ]
     },
     "execution_count": 58,
     "metadata": {},
     "output_type": "execute_result"
    }
   ],
   "source": [
    "len(arr)"
   ]
  },
  {
   "cell_type": "code",
   "execution_count": 59,
   "id": "fcfcd38a",
   "metadata": {},
   "outputs": [],
   "source": [
    "df_test1['predictions'] = df_test1['preds']\n",
    "df_test1['prob_0'] = arr\n",
    "df_test1 = df_test1.drop(columns=['preds', 'predicted_class'])"
   ]
  },
  {
   "cell_type": "code",
   "execution_count": 60,
   "id": "f5d535da",
   "metadata": {},
   "outputs": [
    {
     "data": {
      "text/html": [
       "<div>\n",
       "<style scoped>\n",
       "    .dataframe tbody tr th:only-of-type {\n",
       "        vertical-align: middle;\n",
       "    }\n",
       "\n",
       "    .dataframe tbody tr th {\n",
       "        vertical-align: top;\n",
       "    }\n",
       "\n",
       "    .dataframe thead th {\n",
       "        text-align: right;\n",
       "    }\n",
       "</style>\n",
       "<table border=\"1\" class=\"dataframe\">\n",
       "  <thead>\n",
       "    <tr style=\"text-align: right;\">\n",
       "      <th></th>\n",
       "      <th>class</th>\n",
       "      <th>predictions</th>\n",
       "      <th>prob_0</th>\n",
       "    </tr>\n",
       "  </thead>\n",
       "  <tbody>\n",
       "    <tr>\n",
       "      <th>0</th>\n",
       "      <td>0</td>\n",
       "      <td>[0.8859392, -3.1229172]</td>\n",
       "      <td>0.960725</td>\n",
       "    </tr>\n",
       "    <tr>\n",
       "      <th>1</th>\n",
       "      <td>0</td>\n",
       "      <td>[3.2430787, -5.6636806]</td>\n",
       "      <td>0.997996</td>\n",
       "    </tr>\n",
       "    <tr>\n",
       "      <th>2</th>\n",
       "      <td>0</td>\n",
       "      <td>[3.8554306, -5.8214846]</td>\n",
       "      <td>0.997564</td>\n",
       "    </tr>\n",
       "    <tr>\n",
       "      <th>3</th>\n",
       "      <td>0</td>\n",
       "      <td>[3.3478065, -5.4837394]</td>\n",
       "      <td>0.998059</td>\n",
       "    </tr>\n",
       "    <tr>\n",
       "      <th>4</th>\n",
       "      <td>1</td>\n",
       "      <td>[-3.788875, 0.15739654]</td>\n",
       "      <td>0.170507</td>\n",
       "    </tr>\n",
       "  </tbody>\n",
       "</table>\n",
       "</div>"
      ],
      "text/plain": [
       "   class              predictions    prob_0\n",
       "0      0  [0.8859392, -3.1229172]  0.960725\n",
       "1      0  [3.2430787, -5.6636806]  0.997996\n",
       "2      0  [3.8554306, -5.8214846]  0.997564\n",
       "3      0  [3.3478065, -5.4837394]  0.998059\n",
       "4      1  [-3.788875, 0.15739654]  0.170507"
      ]
     },
     "execution_count": 60,
     "metadata": {},
     "output_type": "execute_result"
    }
   ],
   "source": [
    "df_test1.head()"
   ]
  },
  {
   "cell_type": "code",
   "execution_count": 61,
   "id": "0c586618",
   "metadata": {},
   "outputs": [
    {
     "data": {
      "text/plain": [
       "(0.9986464559644379, 0.07617016540512561)"
      ]
     },
     "execution_count": 61,
     "metadata": {},
     "output_type": "execute_result"
    }
   ],
   "source": [
    "np.max(df_test1['prob_0']), np.min(df_test1['prob_0'])"
   ]
  },
  {
   "cell_type": "code",
   "execution_count": 62,
   "id": "5d7d03a7",
   "metadata": {},
   "outputs": [
    {
     "data": {
      "image/png": "[encoded data removed]",
      "text/plain": [
       "<Figure size 432x288 with 1 Axes>"
      ]
     },
     "metadata": {
      "needs_background": "light"
     },
     "output_type": "display_data"
    }
   ],
   "source": [
    "df_test1.hist(column='prob_0')\n",
    "plt.show()"
   ]
  },
  {
   "cell_type": "code",
   "execution_count": 63,
   "id": "1c5e98d1",
   "metadata": {},
   "outputs": [],
   "source": [
    "df_test1.to_csv(DATA/'CNN_bayesian_prob_test1.csv', index=False)"
   ]
  },
  {
   "cell_type": "markdown",
   "id": "488cc667",
   "metadata": {},
   "source": [
    "### Do the same for test set 2"
   ]
  },
  {
   "cell_type": "code",
   "execution_count": 64,
   "id": "fb82c02e",
   "metadata": {},
   "outputs": [
    {
     "data": {
      "text/html": [
       "<div>\n",
       "<style scoped>\n",
       "    .dataframe tbody tr th:only-of-type {\n",
       "        vertical-align: middle;\n",
       "    }\n",
       "\n",
       "    .dataframe tbody tr th {\n",
       "        vertical-align: top;\n",
       "    }\n",
       "\n",
       "    .dataframe thead th {\n",
       "        text-align: right;\n",
       "    }\n",
       "</style>\n",
       "<table border=\"1\" class=\"dataframe\">\n",
       "  <thead>\n",
       "    <tr style=\"text-align: right;\">\n",
       "      <th></th>\n",
       "      <th>class</th>\n",
       "      <th>predictions</th>\n",
       "      <th>predicted_class</th>\n",
       "      <th>preds</th>\n",
       "    </tr>\n",
       "  </thead>\n",
       "  <tbody>\n",
       "    <tr>\n",
       "      <th>0</th>\n",
       "      <td>1</td>\n",
       "      <td>[-6.1531496  3.5288205]</td>\n",
       "      <td>1</td>\n",
       "      <td>[-6.1531496, 3.5288205]</td>\n",
       "    </tr>\n",
       "    <tr>\n",
       "      <th>1</th>\n",
       "      <td>1</td>\n",
       "      <td>[-5.2736645  2.0863538]</td>\n",
       "      <td>1</td>\n",
       "      <td>[-5.2736645, 2.0863538]</td>\n",
       "    </tr>\n",
       "    <tr>\n",
       "      <th>2</th>\n",
       "      <td>0</td>\n",
       "      <td>[ 2.3478374 -4.10595  ]</td>\n",
       "      <td>0</td>\n",
       "      <td>[2.3478374, -4.10595]</td>\n",
       "    </tr>\n",
       "    <tr>\n",
       "      <th>3</th>\n",
       "      <td>0</td>\n",
       "      <td>[ 1.1088221 -3.4260807]</td>\n",
       "      <td>0</td>\n",
       "      <td>[1.1088221, -3.4260807]</td>\n",
       "    </tr>\n",
       "    <tr>\n",
       "      <th>4</th>\n",
       "      <td>0</td>\n",
       "      <td>[ 1.0482897 -3.2705696]</td>\n",
       "      <td>0</td>\n",
       "      <td>[1.0482897, -3.2705696]</td>\n",
       "    </tr>\n",
       "  </tbody>\n",
       "</table>\n",
       "</div>"
      ],
      "text/plain": [
       "   class              predictions  predicted_class                    preds\n",
       "0      1  [-6.1531496  3.5288205]                1  [-6.1531496, 3.5288205]\n",
       "1      1  [-5.2736645  2.0863538]                1  [-5.2736645, 2.0863538]\n",
       "2      0  [ 2.3478374 -4.10595  ]                0    [2.3478374, -4.10595]\n",
       "3      0  [ 1.1088221 -3.4260807]                0  [1.1088221, -3.4260807]\n",
       "4      0  [ 1.0482897 -3.2705696]                0  [1.0482897, -3.2705696]"
      ]
     },
     "execution_count": 64,
     "metadata": {},
     "output_type": "execute_result"
    }
   ],
   "source": [
    "df_test2 = pd.read_csv(CHEMBL205/'CHEMBL205_predictions_CNN_test2_demonstration.csv')\n",
    "df_test2['preds'] = [get_substring_list(r['predictions'].split(' '))  for i, r in df_test2.iterrows()]\n",
    "#df_preds['pred_0'] = np.array(df_preds['pred_0'], dtype=np.float64)\n",
    "df_test2.head()"
   ]
  },
  {
   "cell_type": "code",
   "execution_count": 65,
   "id": "ae0a099a",
   "metadata": {},
   "outputs": [],
   "source": [
    "probs = calculate_probs_CNN(df_CNN, df_test2)"
   ]
  },
  {
   "cell_type": "code",
   "execution_count": 66,
   "id": "7795e217",
   "metadata": {},
   "outputs": [],
   "source": [
    "df_test2['predictions'] = df_test2['preds']\n",
    "df_test2['prob_0'] = probs\n",
    "df_test2 = df_test2.drop(columns=['preds', 'predicted_class'])"
   ]
  },
  {
   "cell_type": "code",
   "execution_count": 67,
   "id": "368de9ae",
   "metadata": {},
   "outputs": [
    {
     "data": {
      "text/html": [
       "<div>\n",
       "<style scoped>\n",
       "    .dataframe tbody tr th:only-of-type {\n",
       "        vertical-align: middle;\n",
       "    }\n",
       "\n",
       "    .dataframe tbody tr th {\n",
       "        vertical-align: top;\n",
       "    }\n",
       "\n",
       "    .dataframe thead th {\n",
       "        text-align: right;\n",
       "    }\n",
       "</style>\n",
       "<table border=\"1\" class=\"dataframe\">\n",
       "  <thead>\n",
       "    <tr style=\"text-align: right;\">\n",
       "      <th></th>\n",
       "      <th>class</th>\n",
       "      <th>predictions</th>\n",
       "      <th>prob_0</th>\n",
       "    </tr>\n",
       "  </thead>\n",
       "  <tbody>\n",
       "    <tr>\n",
       "      <th>0</th>\n",
       "      <td>1</td>\n",
       "      <td>[-6.1531496, 3.5288205]</td>\n",
       "      <td>0.076288</td>\n",
       "    </tr>\n",
       "    <tr>\n",
       "      <th>1</th>\n",
       "      <td>1</td>\n",
       "      <td>[-5.2736645, 2.0863538]</td>\n",
       "      <td>0.116902</td>\n",
       "    </tr>\n",
       "    <tr>\n",
       "      <th>2</th>\n",
       "      <td>0</td>\n",
       "      <td>[2.3478374, -4.10595]</td>\n",
       "      <td>0.997669</td>\n",
       "    </tr>\n",
       "    <tr>\n",
       "      <th>3</th>\n",
       "      <td>0</td>\n",
       "      <td>[1.1088221, -3.4260807]</td>\n",
       "      <td>0.971079</td>\n",
       "    </tr>\n",
       "    <tr>\n",
       "      <th>4</th>\n",
       "      <td>0</td>\n",
       "      <td>[1.0482897, -3.2705696]</td>\n",
       "      <td>0.965420</td>\n",
       "    </tr>\n",
       "  </tbody>\n",
       "</table>\n",
       "</div>"
      ],
      "text/plain": [
       "   class              predictions    prob_0\n",
       "0      1  [-6.1531496, 3.5288205]  0.076288\n",
       "1      1  [-5.2736645, 2.0863538]  0.116902\n",
       "2      0    [2.3478374, -4.10595]  0.997669\n",
       "3      0  [1.1088221, -3.4260807]  0.971079\n",
       "4      0  [1.0482897, -3.2705696]  0.965420"
      ]
     },
     "execution_count": 67,
     "metadata": {},
     "output_type": "execute_result"
    }
   ],
   "source": [
    "df_test2.head()"
   ]
  },
  {
   "cell_type": "code",
   "execution_count": 68,
   "id": "f0c40979",
   "metadata": {},
   "outputs": [],
   "source": [
    "df_test2['pred_0'] = [r['predictions'][0] for i, r in df_test2.iterrows()]\n",
    "df_test2['pred_1'] = [r['predictions'][1] for i, r in df_test2.iterrows()]\n",
    "df_test2 = df_test2.drop(columns=['predictions'])"
   ]
  },
  {
   "cell_type": "code",
   "execution_count": 69,
   "id": "45a0a068",
   "metadata": {},
   "outputs": [
    {
     "data": {
      "text/html": [
       "<div>\n",
       "<style scoped>\n",
       "    .dataframe tbody tr th:only-of-type {\n",
       "        vertical-align: middle;\n",
       "    }\n",
       "\n",
       "    .dataframe tbody tr th {\n",
       "        vertical-align: top;\n",
       "    }\n",
       "\n",
       "    .dataframe thead th {\n",
       "        text-align: right;\n",
       "    }\n",
       "</style>\n",
       "<table border=\"1\" class=\"dataframe\">\n",
       "  <thead>\n",
       "    <tr style=\"text-align: right;\">\n",
       "      <th></th>\n",
       "      <th>class</th>\n",
       "      <th>prob_0</th>\n",
       "      <th>pred_0</th>\n",
       "      <th>pred_1</th>\n",
       "    </tr>\n",
       "  </thead>\n",
       "  <tbody>\n",
       "    <tr>\n",
       "      <th>0</th>\n",
       "      <td>1</td>\n",
       "      <td>0.076288</td>\n",
       "      <td>-6.153150</td>\n",
       "      <td>3.528821</td>\n",
       "    </tr>\n",
       "    <tr>\n",
       "      <th>1</th>\n",
       "      <td>1</td>\n",
       "      <td>0.116902</td>\n",
       "      <td>-5.273664</td>\n",
       "      <td>2.086354</td>\n",
       "    </tr>\n",
       "    <tr>\n",
       "      <th>2</th>\n",
       "      <td>0</td>\n",
       "      <td>0.997669</td>\n",
       "      <td>2.347837</td>\n",
       "      <td>-4.105950</td>\n",
       "    </tr>\n",
       "    <tr>\n",
       "      <th>3</th>\n",
       "      <td>0</td>\n",
       "      <td>0.971079</td>\n",
       "      <td>1.108822</td>\n",
       "      <td>-3.426081</td>\n",
       "    </tr>\n",
       "    <tr>\n",
       "      <th>4</th>\n",
       "      <td>0</td>\n",
       "      <td>0.965420</td>\n",
       "      <td>1.048290</td>\n",
       "      <td>-3.270570</td>\n",
       "    </tr>\n",
       "  </tbody>\n",
       "</table>\n",
       "</div>"
      ],
      "text/plain": [
       "   class    prob_0    pred_0    pred_1\n",
       "0      1  0.076288 -6.153150  3.528821\n",
       "1      1  0.116902 -5.273664  2.086354\n",
       "2      0  0.997669  2.347837 -4.105950\n",
       "3      0  0.971079  1.108822 -3.426081\n",
       "4      0  0.965420  1.048290 -3.270570"
      ]
     },
     "execution_count": 69,
     "metadata": {},
     "output_type": "execute_result"
    }
   ],
   "source": [
    "df_test2.head()"
   ]
  },
  {
   "cell_type": "code",
   "execution_count": 70,
   "id": "6a5f668a",
   "metadata": {},
   "outputs": [
    {
     "data": {
      "text/html": [
       "<div>\n",
       "<style scoped>\n",
       "    .dataframe tbody tr th:only-of-type {\n",
       "        vertical-align: middle;\n",
       "    }\n",
       "\n",
       "    .dataframe tbody tr th {\n",
       "        vertical-align: top;\n",
       "    }\n",
       "\n",
       "    .dataframe thead th {\n",
       "        text-align: right;\n",
       "    }\n",
       "</style>\n",
       "<table border=\"1\" class=\"dataframe\">\n",
       "  <thead>\n",
       "    <tr style=\"text-align: right;\">\n",
       "      <th></th>\n",
       "      <th>class</th>\n",
       "      <th>pred_0</th>\n",
       "      <th>pred_1</th>\n",
       "      <th>prob_0</th>\n",
       "    </tr>\n",
       "  </thead>\n",
       "  <tbody>\n",
       "    <tr>\n",
       "      <th>0</th>\n",
       "      <td>1</td>\n",
       "      <td>-6.153150</td>\n",
       "      <td>3.528821</td>\n",
       "      <td>0.076288</td>\n",
       "    </tr>\n",
       "    <tr>\n",
       "      <th>1</th>\n",
       "      <td>1</td>\n",
       "      <td>-5.273664</td>\n",
       "      <td>2.086354</td>\n",
       "      <td>0.116902</td>\n",
       "    </tr>\n",
       "    <tr>\n",
       "      <th>2</th>\n",
       "      <td>0</td>\n",
       "      <td>2.347837</td>\n",
       "      <td>-4.105950</td>\n",
       "      <td>0.997669</td>\n",
       "    </tr>\n",
       "    <tr>\n",
       "      <th>3</th>\n",
       "      <td>0</td>\n",
       "      <td>1.108822</td>\n",
       "      <td>-3.426081</td>\n",
       "      <td>0.971079</td>\n",
       "    </tr>\n",
       "    <tr>\n",
       "      <th>4</th>\n",
       "      <td>0</td>\n",
       "      <td>1.048290</td>\n",
       "      <td>-3.270570</td>\n",
       "      <td>0.965420</td>\n",
       "    </tr>\n",
       "  </tbody>\n",
       "</table>\n",
       "</div>"
      ],
      "text/plain": [
       "   class    pred_0    pred_1    prob_0\n",
       "0      1 -6.153150  3.528821  0.076288\n",
       "1      1 -5.273664  2.086354  0.116902\n",
       "2      0  2.347837 -4.105950  0.997669\n",
       "3      0  1.108822 -3.426081  0.971079\n",
       "4      0  1.048290 -3.270570  0.965420"
      ]
     },
     "execution_count": 70,
     "metadata": {},
     "output_type": "execute_result"
    }
   ],
   "source": [
    "df_test2 = df_test2[['class', 'pred_0', 'pred_1', 'prob_0']]\n",
    "df_test2.head()"
   ]
  },
  {
   "cell_type": "code",
   "execution_count": 71,
   "id": "10d6d149",
   "metadata": {},
   "outputs": [],
   "source": [
    "df_test2.to_csv(DATA/'CNN_transducer_prob_test2_demonstration.csv', index=False)"
   ]
  },
  {
   "cell_type": "markdown",
   "id": "1b21f632",
   "metadata": {},
   "source": [
    "# Test with CS Loss model"
   ]
  },
  {
   "cell_type": "code",
   "execution_count": 72,
   "id": "1d5057cb",
   "metadata": {},
   "outputs": [],
   "source": [
    "df_test2_cs = pd.read_csv(CHEMBL205/'CHEMBL205_predictions_CNN_CS_loss_test2.csv')\n",
    "df_test2_cs['preds'] = [get_substring_list(r['predictions'].split(' '))  for i, r in df_test2_cs.iterrows()]"
   ]
  },
  {
   "cell_type": "code",
   "execution_count": 73,
   "id": "f944a561",
   "metadata": {},
   "outputs": [
    {
     "data": {
      "text/html": [
       "<div>\n",
       "<style scoped>\n",
       "    .dataframe tbody tr th:only-of-type {\n",
       "        vertical-align: middle;\n",
       "    }\n",
       "\n",
       "    .dataframe tbody tr th {\n",
       "        vertical-align: top;\n",
       "    }\n",
       "\n",
       "    .dataframe thead th {\n",
       "        text-align: right;\n",
       "    }\n",
       "</style>\n",
       "<table border=\"1\" class=\"dataframe\">\n",
       "  <thead>\n",
       "    <tr style=\"text-align: right;\">\n",
       "      <th></th>\n",
       "      <th>class</th>\n",
       "      <th>predictions</th>\n",
       "      <th>predicted_class</th>\n",
       "      <th>preds</th>\n",
       "    </tr>\n",
       "  </thead>\n",
       "  <tbody>\n",
       "    <tr>\n",
       "      <th>0</th>\n",
       "      <td>0</td>\n",
       "      <td>[ 1.9198327 -1.2823217]</td>\n",
       "      <td>1.919833</td>\n",
       "      <td>[1.9198327, -1.2823217]</td>\n",
       "    </tr>\n",
       "    <tr>\n",
       "      <th>1</th>\n",
       "      <td>0</td>\n",
       "      <td>[ 3.725137 -2.178217]</td>\n",
       "      <td>3.725137</td>\n",
       "      <td>[3.725137, -2.178217]</td>\n",
       "    </tr>\n",
       "    <tr>\n",
       "      <th>2</th>\n",
       "      <td>0</td>\n",
       "      <td>[ 7.8391333 -6.633624 ]</td>\n",
       "      <td>7.839133</td>\n",
       "      <td>[7.8391333, -6.633624]</td>\n",
       "    </tr>\n",
       "    <tr>\n",
       "      <th>3</th>\n",
       "      <td>0</td>\n",
       "      <td>[ 7.369962  -6.2871866]</td>\n",
       "      <td>7.369962</td>\n",
       "      <td>[7.369962, -6.2871866]</td>\n",
       "    </tr>\n",
       "    <tr>\n",
       "      <th>4</th>\n",
       "      <td>1</td>\n",
       "      <td>[-1.3934275  2.0953865]</td>\n",
       "      <td>2.095387</td>\n",
       "      <td>[-1.3934275, 2.0953865]</td>\n",
       "    </tr>\n",
       "  </tbody>\n",
       "</table>\n",
       "</div>"
      ],
      "text/plain": [
       "   class              predictions  predicted_class                    preds\n",
       "0      0  [ 1.9198327 -1.2823217]         1.919833  [1.9198327, -1.2823217]\n",
       "1      0    [ 3.725137 -2.178217]         3.725137    [3.725137, -2.178217]\n",
       "2      0  [ 7.8391333 -6.633624 ]         7.839133   [7.8391333, -6.633624]\n",
       "3      0  [ 7.369962  -6.2871866]         7.369962   [7.369962, -6.2871866]\n",
       "4      1  [-1.3934275  2.0953865]         2.095387  [-1.3934275, 2.0953865]"
      ]
     },
     "execution_count": 73,
     "metadata": {},
     "output_type": "execute_result"
    }
   ],
   "source": [
    "df_test2_cs.head()"
   ]
  },
  {
   "cell_type": "code",
   "execution_count": 115,
   "id": "500a9875",
   "metadata": {},
   "outputs": [],
   "source": [
    "#probs = calculate_probs_CNN(df_CNN, df_test2_cs)"
   ]
  },
  {
   "cell_type": "code",
   "execution_count": 116,
   "id": "94998d31",
   "metadata": {},
   "outputs": [],
   "source": [
    "df_test2_cs['predictions'] = df_test2_cs['preds']\n",
    "#df_test2_cs['prob_0'] = probs\n",
    "df_test2_cs = df_test2_cs.drop(columns=['preds', 'predicted_class'])"
   ]
  },
  {
   "cell_type": "code",
   "execution_count": 117,
   "id": "0ee12d1c",
   "metadata": {},
   "outputs": [],
   "source": [
    "df_test2_cs['pred_0'] = [r['predictions'][0] for i, r in df_test2_cs.iterrows()]\n",
    "df_test2_cs['pred_1'] = [r['predictions'][1] for i, r in df_test2_cs.iterrows()]\n",
    "df_test2_cs = df_test2_cs.drop(columns=['predictions'])"
   ]
  },
  {
   "cell_type": "code",
   "execution_count": 118,
   "id": "83d096ec",
   "metadata": {},
   "outputs": [
    {
     "data": {
      "text/html": [
       "<div>\n",
       "<style scoped>\n",
       "    .dataframe tbody tr th:only-of-type {\n",
       "        vertical-align: middle;\n",
       "    }\n",
       "\n",
       "    .dataframe tbody tr th {\n",
       "        vertical-align: top;\n",
       "    }\n",
       "\n",
       "    .dataframe thead th {\n",
       "        text-align: right;\n",
       "    }\n",
       "</style>\n",
       "<table border=\"1\" class=\"dataframe\">\n",
       "  <thead>\n",
       "    <tr style=\"text-align: right;\">\n",
       "      <th></th>\n",
       "      <th>class</th>\n",
       "      <th>pred_0</th>\n",
       "      <th>pred_1</th>\n",
       "    </tr>\n",
       "  </thead>\n",
       "  <tbody>\n",
       "    <tr>\n",
       "      <th>0</th>\n",
       "      <td>0</td>\n",
       "      <td>1.919833</td>\n",
       "      <td>-1.282322</td>\n",
       "    </tr>\n",
       "    <tr>\n",
       "      <th>1</th>\n",
       "      <td>0</td>\n",
       "      <td>3.725137</td>\n",
       "      <td>-2.178217</td>\n",
       "    </tr>\n",
       "    <tr>\n",
       "      <th>2</th>\n",
       "      <td>0</td>\n",
       "      <td>7.839133</td>\n",
       "      <td>-6.633624</td>\n",
       "    </tr>\n",
       "    <tr>\n",
       "      <th>3</th>\n",
       "      <td>0</td>\n",
       "      <td>7.369962</td>\n",
       "      <td>-6.287187</td>\n",
       "    </tr>\n",
       "    <tr>\n",
       "      <th>4</th>\n",
       "      <td>1</td>\n",
       "      <td>-1.393428</td>\n",
       "      <td>2.095387</td>\n",
       "    </tr>\n",
       "  </tbody>\n",
       "</table>\n",
       "</div>"
      ],
      "text/plain": [
       "   class    pred_0    pred_1\n",
       "0      0  1.919833 -1.282322\n",
       "1      0  3.725137 -2.178217\n",
       "2      0  7.839133 -6.633624\n",
       "3      0  7.369962 -6.287187\n",
       "4      1 -1.393428  2.095387"
      ]
     },
     "execution_count": 118,
     "metadata": {},
     "output_type": "execute_result"
    }
   ],
   "source": [
    "df_test2_cs.head()"
   ]
  },
  {
   "cell_type": "code",
   "execution_count": 119,
   "id": "750c1c34",
   "metadata": {},
   "outputs": [],
   "source": [
    "df_test2_cs.to_csv(DATA/'CNN_prob_CS_loss_test2_demonstration.csv', index=False)"
   ]
  },
  {
   "cell_type": "markdown",
   "id": "ce278fdb",
   "metadata": {},
   "source": [
    "## Test for utility matrix"
   ]
  },
  {
   "cell_type": "code",
   "execution_count": 136,
   "id": "5999225b",
   "metadata": {},
   "outputs": [],
   "source": [
    "''' \n",
    "Utility matrix format: \n",
    "    [[TN, FN],\n",
    "     [FP, TP]]\n",
    "'''\n",
    "utility = np.array([[1, 0], \n",
    "                    [0, 1]], dtype=np.float64)"
   ]
  },
  {
   "cell_type": "code",
   "execution_count": 138,
   "id": "afa435d8",
   "metadata": {},
   "outputs": [],
   "source": [
    "df = df_preds\n",
    "df['expected_utility'] = [get_expected_utility(utility, [r['direct_prob_0'], 1 - r['direct_prob_0']]) \n",
    "                          for i, r in df.iterrows()]\n",
    "df['best_utility_class'] = torch.tensor(df['expected_utility']).argmax(axis=1)"
   ]
  },
  {
   "cell_type": "code",
   "execution_count": 139,
   "id": "5dd3fe2a",
   "metadata": {},
   "outputs": [
    {
     "data": {
      "text/html": [
       "<div>\n",
       "<style scoped>\n",
       "    .dataframe tbody tr th:only-of-type {\n",
       "        vertical-align: middle;\n",
       "    }\n",
       "\n",
       "    .dataframe tbody tr th {\n",
       "        vertical-align: top;\n",
       "    }\n",
       "\n",
       "    .dataframe thead th {\n",
       "        text-align: right;\n",
       "    }\n",
       "</style>\n",
       "<table border=\"1\" class=\"dataframe\">\n",
       "  <thead>\n",
       "    <tr style=\"text-align: right;\">\n",
       "      <th></th>\n",
       "      <th>class</th>\n",
       "      <th>predictions</th>\n",
       "      <th>predicted_class</th>\n",
       "      <th>direct_prob_0</th>\n",
       "      <th>expected_utility</th>\n",
       "      <th>best_utility_class</th>\n",
       "    </tr>\n",
       "  </thead>\n",
       "  <tbody>\n",
       "    <tr>\n",
       "      <th>0</th>\n",
       "      <td>0</td>\n",
       "      <td>[1.0686345, 0.15982893]</td>\n",
       "      <td>0</td>\n",
       "      <td>0.812227</td>\n",
       "      <td>[0.8122267607382875, 0.18777323926171252]</td>\n",
       "      <td>0</td>\n",
       "    </tr>\n",
       "    <tr>\n",
       "      <th>1</th>\n",
       "      <td>0</td>\n",
       "      <td>[3.294972, -3.2591784]</td>\n",
       "      <td>0</td>\n",
       "      <td>0.997830</td>\n",
       "      <td>[0.997829581810393, 0.0021704181896069485]</td>\n",
       "      <td>0</td>\n",
       "    </tr>\n",
       "    <tr>\n",
       "      <th>2</th>\n",
       "      <td>0</td>\n",
       "      <td>[3.8328488, -3.5713756]</td>\n",
       "      <td>0</td>\n",
       "      <td>0.995896</td>\n",
       "      <td>[0.9958956353188672, 0.004104364681132844]</td>\n",
       "      <td>0</td>\n",
       "    </tr>\n",
       "    <tr>\n",
       "      <th>3</th>\n",
       "      <td>0</td>\n",
       "      <td>[3.1314778, -3.682592]</td>\n",
       "      <td>0</td>\n",
       "      <td>0.997027</td>\n",
       "      <td>[0.9970271557275053, 0.002972844272494668]</td>\n",
       "      <td>0</td>\n",
       "    </tr>\n",
       "    <tr>\n",
       "      <th>4</th>\n",
       "      <td>1</td>\n",
       "      <td>[-0.789468, 1.3680037]</td>\n",
       "      <td>1</td>\n",
       "      <td>0.230961</td>\n",
       "      <td>[0.2309608425386519, 0.7690391574613481]</td>\n",
       "      <td>1</td>\n",
       "    </tr>\n",
       "  </tbody>\n",
       "</table>\n",
       "</div>"
      ],
      "text/plain": [
       "   class              predictions  predicted_class  direct_prob_0  \\\n",
       "0      0  [1.0686345, 0.15982893]                0       0.812227   \n",
       "1      0   [3.294972, -3.2591784]                0       0.997830   \n",
       "2      0  [3.8328488, -3.5713756]                0       0.995896   \n",
       "3      0   [3.1314778, -3.682592]                0       0.997027   \n",
       "4      1   [-0.789468, 1.3680037]                1       0.230961   \n",
       "\n",
       "                             expected_utility  best_utility_class  \n",
       "0   [0.8122267607382875, 0.18777323926171252]                   0  \n",
       "1  [0.997829581810393, 0.0021704181896069485]                   0  \n",
       "2  [0.9958956353188672, 0.004104364681132844]                   0  \n",
       "3  [0.9970271557275053, 0.002972844272494668]                   0  \n",
       "4    [0.2309608425386519, 0.7690391574613481]                   1  "
      ]
     },
     "execution_count": 139,
     "metadata": {},
     "output_type": "execute_result"
    }
   ],
   "source": [
    "df.head()"
   ]
  },
  {
   "cell_type": "code",
   "execution_count": 181,
   "id": "d790d2d3",
   "metadata": {},
   "outputs": [
    {
     "data": {
      "text/html": [
       "<div>\n",
       "<style scoped>\n",
       "    .dataframe tbody tr th:only-of-type {\n",
       "        vertical-align: middle;\n",
       "    }\n",
       "\n",
       "    .dataframe tbody tr th {\n",
       "        vertical-align: top;\n",
       "    }\n",
       "\n",
       "    .dataframe thead th {\n",
       "        text-align: right;\n",
       "    }\n",
       "</style>\n",
       "<table border=\"1\" class=\"dataframe\">\n",
       "  <thead>\n",
       "    <tr style=\"text-align: right;\">\n",
       "      <th></th>\n",
       "      <th>class</th>\n",
       "      <th>direct_prob_0</th>\n",
       "      <th>prediction_0</th>\n",
       "    </tr>\n",
       "  </thead>\n",
       "  <tbody>\n",
       "    <tr>\n",
       "      <th>0</th>\n",
       "      <td>0</td>\n",
       "      <td>0.812227</td>\n",
       "      <td>1.068634</td>\n",
       "    </tr>\n",
       "    <tr>\n",
       "      <th>1</th>\n",
       "      <td>0</td>\n",
       "      <td>0.997830</td>\n",
       "      <td>3.294972</td>\n",
       "    </tr>\n",
       "    <tr>\n",
       "      <th>2</th>\n",
       "      <td>0</td>\n",
       "      <td>0.995896</td>\n",
       "      <td>3.832849</td>\n",
       "    </tr>\n",
       "    <tr>\n",
       "      <th>3</th>\n",
       "      <td>0</td>\n",
       "      <td>0.997027</td>\n",
       "      <td>3.131478</td>\n",
       "    </tr>\n",
       "    <tr>\n",
       "      <th>4</th>\n",
       "      <td>1</td>\n",
       "      <td>0.230961</td>\n",
       "      <td>-0.789468</td>\n",
       "    </tr>\n",
       "  </tbody>\n",
       "</table>\n",
       "</div>"
      ],
      "text/plain": [
       "   class  direct_prob_0  prediction_0\n",
       "0      0       0.812227      1.068634\n",
       "1      0       0.997830      3.294972\n",
       "2      0       0.995896      3.832849\n",
       "3      0       0.997027      3.131478\n",
       "4      1       0.230961     -0.789468"
      ]
     },
     "execution_count": 181,
     "metadata": {},
     "output_type": "execute_result"
    }
   ],
   "source": []
  },
  {
   "cell_type": "code",
   "execution_count": 189,
   "id": "c06ca0be",
   "metadata": {},
   "outputs": [],
   "source": [
    "df_save = df_preds\n",
    "df_save.to_csv(DATA/'CNN_direct_prob.csv', index=False)"
   ]
  },
  {
   "cell_type": "markdown",
   "id": "11e6d4c0",
   "metadata": {},
   "source": [
    "# Create and compare different utility matrix for test set 2 in CNN and RF models"
   ]
  },
  {
   "cell_type": "code",
   "execution_count": 40,
   "id": "b392d9a2",
   "metadata": {},
   "outputs": [],
   "source": [
    "''' \n",
    "Utility matrix format: \n",
    "    [[TN, FN],\n",
    "     [FP, TP]]\n",
    "'''\n",
    "ums = {\n",
    "    'um1' : [[1, 0], [0, 1]], # accuracy\n",
    "    'um2' : [[1, -10], [0, 10]],\n",
    "    'um3' : [[1, -100], [0, 100]],\n",
    "    'um4' : [[10, 0], [-10, 1]],\n",
    "    #'um5' : [[100, 0], [-100, 10]]\n",
    "    \n",
    "}"
   ]
  },
  {
   "cell_type": "markdown",
   "id": "5b3bf562",
   "metadata": {},
   "source": [
    "## Test for random forest model"
   ]
  },
  {
   "cell_type": "code",
   "execution_count": 7,
   "id": "7ace401c",
   "metadata": {},
   "outputs": [],
   "source": [
    "def choose_class(x, um=None):\n",
    "    \"\"\"\n",
    "    x = either one number between 0-1, or a (normalized) vector of probabilities\n",
    "        if it's one number then we are in a binary classification case\n",
    "        and x is the probability of CLASS 0\n",
    "    um = utility matrix in the format [[T0,F0],[F1,T1]] if None: Choose class based on x\n",
    "    \"\"\"\n",
    "    if type(x) == float or type(x) == np.float64: # x is float and is the probability of class 0\n",
    "        x = np.array([x])\n",
    "        x = np.concatenate((x, 1-x)) # transform into prob. vector       \n",
    "    else:\n",
    "        if np.sum(x) != 1.:\n",
    "            x = torch.sigmoid(torch.tensor(x))\n",
    "        x = np.array(x)\n",
    "    if um != None:\n",
    "        um = np.array(um)\n",
    "        x = np.matmul(um, x)\n",
    "    if x[0] == x[1]:\n",
    "        cl = random.randint(0,1)\n",
    "    else:\n",
    "        cl = np.argmax(x)\n",
    "    return cl"
   ]
  },
  {
   "cell_type": "code",
   "execution_count": 8,
   "id": "8d716c5c",
   "metadata": {},
   "outputs": [],
   "source": [
    "def get_total_cost (um, cm, normalize=True):\n",
    "    um = np.array([np.array(x) for x in um])\n",
    "    um = np.array([[um[0][0], um[1][0]], [um[0][1], um[1][1]]]) # ordering cm = [[TN, FP], [FN, TP]]                         \n",
    "    if normalize:\n",
    "        um = um - um.min()                                          \n",
    "        um = um / um.max() # Matrix to have max = 1 and min = 0\n",
    "    s = um * cm\n",
    "    s = s.sum()\n",
    "    s = s / cm.sum()\n",
    "    return s"
   ]
  },
  {
   "cell_type": "code",
   "execution_count": 11,
   "id": "e1304d9c",
   "metadata": {},
   "outputs": [
    {
     "name": "stdout",
     "output_type": "stream",
     "text": [
      "<class 'pandas.core.frame.DataFrame'>\n",
      "RangeIndex: 3588 entries, 0 to 3587\n",
      "Data columns (total 5 columns):\n",
      " #   Column           Non-Null Count  Dtype  \n",
      "---  ------           --------------  -----  \n",
      " 0   class            3588 non-null   int64  \n",
      " 1   predicted_class  3588 non-null   int64  \n",
      " 2   pred_0           3588 non-null   float64\n",
      " 3   pred_1           3588 non-null   float64\n",
      " 4   prob_0           3588 non-null   float64\n",
      "dtypes: float64(3), int64(2)\n",
      "memory usage: 140.3 KB\n"
     ]
    }
   ],
   "source": [
    "df_test2_RF = pd.read_csv(DATA/'RF_bayesian_prob_test2_demonstration.csv')\n",
    "df_test2_RF.info()"
   ]
  },
  {
   "cell_type": "code",
   "execution_count": 12,
   "id": "47400991",
   "metadata": {},
   "outputs": [
    {
     "data": {
      "text/html": [
       "<div>\n",
       "<style scoped>\n",
       "    .dataframe tbody tr th:only-of-type {\n",
       "        vertical-align: middle;\n",
       "    }\n",
       "\n",
       "    .dataframe tbody tr th {\n",
       "        vertical-align: top;\n",
       "    }\n",
       "\n",
       "    .dataframe thead th {\n",
       "        text-align: right;\n",
       "    }\n",
       "</style>\n",
       "<table border=\"1\" class=\"dataframe\">\n",
       "  <thead>\n",
       "    <tr style=\"text-align: right;\">\n",
       "      <th></th>\n",
       "      <th>class</th>\n",
       "      <th>predicted_class</th>\n",
       "      <th>pred_0</th>\n",
       "      <th>pred_1</th>\n",
       "      <th>prob_0</th>\n",
       "    </tr>\n",
       "  </thead>\n",
       "  <tbody>\n",
       "    <tr>\n",
       "      <th>0</th>\n",
       "      <td>1</td>\n",
       "      <td>1</td>\n",
       "      <td>0.405</td>\n",
       "      <td>0.595</td>\n",
       "      <td>0.205406</td>\n",
       "    </tr>\n",
       "    <tr>\n",
       "      <th>1</th>\n",
       "      <td>1</td>\n",
       "      <td>1</td>\n",
       "      <td>0.075</td>\n",
       "      <td>0.925</td>\n",
       "      <td>0.070355</td>\n",
       "    </tr>\n",
       "    <tr>\n",
       "      <th>2</th>\n",
       "      <td>0</td>\n",
       "      <td>0</td>\n",
       "      <td>0.945</td>\n",
       "      <td>0.055</td>\n",
       "      <td>0.993575</td>\n",
       "    </tr>\n",
       "    <tr>\n",
       "      <th>3</th>\n",
       "      <td>0</td>\n",
       "      <td>0</td>\n",
       "      <td>0.975</td>\n",
       "      <td>0.025</td>\n",
       "      <td>0.997706</td>\n",
       "    </tr>\n",
       "    <tr>\n",
       "      <th>4</th>\n",
       "      <td>0</td>\n",
       "      <td>0</td>\n",
       "      <td>0.950</td>\n",
       "      <td>0.050</td>\n",
       "      <td>0.994564</td>\n",
       "    </tr>\n",
       "  </tbody>\n",
       "</table>\n",
       "</div>"
      ],
      "text/plain": [
       "   class  predicted_class  pred_0  pred_1    prob_0\n",
       "0      1                1   0.405   0.595  0.205406\n",
       "1      1                1   0.075   0.925  0.070355\n",
       "2      0                0   0.945   0.055  0.993575\n",
       "3      0                0   0.975   0.025  0.997706\n",
       "4      0                0   0.950   0.050  0.994564"
      ]
     },
     "execution_count": 12,
     "metadata": {},
     "output_type": "execute_result"
    }
   ],
   "source": [
    "df_test2_RF.head()"
   ]
  },
  {
   "cell_type": "code",
   "execution_count": 13,
   "id": "492eaca3",
   "metadata": {},
   "outputs": [
    {
     "data": {
      "image/png": "[encoded data removed]",
      "text/plain": [
       "<Figure size 432x288 with 1 Axes>"
      ]
     },
     "metadata": {
      "needs_background": "light"
     },
     "output_type": "display_data"
    }
   ],
   "source": [
    "df_test2_RF.plot.scatter(x='pred_0', y='prob_0')\n",
    "plt.xlabel('RF % Output')\n",
    "plt.ylabel('probability of class 0')\n",
    "plt.xlim(0,1)\n",
    "plt.ylim(0,1)\n",
    "plt.grid()\n",
    "\n",
    "\n",
    "#plt.savefig('../dataset/RF_output.png')\n",
    "plt.show()"
   ]
  },
  {
   "cell_type": "code",
   "execution_count": 14,
   "id": "838e16d8",
   "metadata": {},
   "outputs": [
    {
     "data": {
      "text/html": [
       "<div>\n",
       "<style scoped>\n",
       "    .dataframe tbody tr th:only-of-type {\n",
       "        vertical-align: middle;\n",
       "    }\n",
       "\n",
       "    .dataframe tbody tr th {\n",
       "        vertical-align: top;\n",
       "    }\n",
       "\n",
       "    .dataframe thead th {\n",
       "        text-align: right;\n",
       "    }\n",
       "</style>\n",
       "<table border=\"1\" class=\"dataframe\">\n",
       "  <thead>\n",
       "    <tr style=\"text-align: right;\">\n",
       "      <th></th>\n",
       "      <th>class</th>\n",
       "      <th>predicted_class</th>\n",
       "      <th>pred_0</th>\n",
       "      <th>pred_1</th>\n",
       "      <th>prob_0</th>\n",
       "    </tr>\n",
       "  </thead>\n",
       "  <tbody>\n",
       "    <tr>\n",
       "      <th>0</th>\n",
       "      <td>1</td>\n",
       "      <td>1</td>\n",
       "      <td>0.405</td>\n",
       "      <td>0.595</td>\n",
       "      <td>0.205406</td>\n",
       "    </tr>\n",
       "    <tr>\n",
       "      <th>1</th>\n",
       "      <td>1</td>\n",
       "      <td>1</td>\n",
       "      <td>0.075</td>\n",
       "      <td>0.925</td>\n",
       "      <td>0.070355</td>\n",
       "    </tr>\n",
       "    <tr>\n",
       "      <th>2</th>\n",
       "      <td>0</td>\n",
       "      <td>0</td>\n",
       "      <td>0.945</td>\n",
       "      <td>0.055</td>\n",
       "      <td>0.993575</td>\n",
       "    </tr>\n",
       "    <tr>\n",
       "      <th>3</th>\n",
       "      <td>0</td>\n",
       "      <td>0</td>\n",
       "      <td>0.975</td>\n",
       "      <td>0.025</td>\n",
       "      <td>0.997706</td>\n",
       "    </tr>\n",
       "    <tr>\n",
       "      <th>4</th>\n",
       "      <td>0</td>\n",
       "      <td>0</td>\n",
       "      <td>0.950</td>\n",
       "      <td>0.050</td>\n",
       "      <td>0.994564</td>\n",
       "    </tr>\n",
       "  </tbody>\n",
       "</table>\n",
       "</div>"
      ],
      "text/plain": [
       "   class  predicted_class  pred_0  pred_1    prob_0\n",
       "0      1                1   0.405   0.595  0.205406\n",
       "1      1                1   0.075   0.925  0.070355\n",
       "2      0                0   0.945   0.055  0.993575\n",
       "3      0                0   0.975   0.025  0.997706\n",
       "4      0                0   0.950   0.050  0.994564"
      ]
     },
     "execution_count": 14,
     "metadata": {},
     "output_type": "execute_result"
    }
   ],
   "source": [
    "#df_test2_RF['predictions'] = [np.array([r['pred_0'], 1. - r['pred_0']]) for i, r in df_test2_RF.iterrows()]\n",
    "#df_test2_RF['probabilities'] = [np.array([r['prob_0'], 1 - r['prob_0']]) for i, r in df_test2_RF.iterrows()]\n",
    "df_test2_RF.head()"
   ]
  },
  {
   "cell_type": "code",
   "execution_count": 41,
   "id": "4b56618c",
   "metadata": {},
   "outputs": [],
   "source": [
    "df_scores = pd.DataFrame()\n",
    "df_scores['ums'] = list(ums.values())"
   ]
  },
  {
   "cell_type": "code",
   "execution_count": 42,
   "id": "1ab535f9",
   "metadata": {},
   "outputs": [
    {
     "data": {
      "text/html": [
       "<div>\n",
       "<style scoped>\n",
       "    .dataframe tbody tr th:only-of-type {\n",
       "        vertical-align: middle;\n",
       "    }\n",
       "\n",
       "    .dataframe tbody tr th {\n",
       "        vertical-align: top;\n",
       "    }\n",
       "\n",
       "    .dataframe thead th {\n",
       "        text-align: right;\n",
       "    }\n",
       "</style>\n",
       "<table border=\"1\" class=\"dataframe\">\n",
       "  <thead>\n",
       "    <tr style=\"text-align: right;\">\n",
       "      <th></th>\n",
       "      <th>ums</th>\n",
       "    </tr>\n",
       "  </thead>\n",
       "  <tbody>\n",
       "    <tr>\n",
       "      <th>0</th>\n",
       "      <td>[[1, 0], [0, 1]]</td>\n",
       "    </tr>\n",
       "    <tr>\n",
       "      <th>1</th>\n",
       "      <td>[[1, -10], [0, 10]]</td>\n",
       "    </tr>\n",
       "    <tr>\n",
       "      <th>2</th>\n",
       "      <td>[[1, -100], [0, 100]]</td>\n",
       "    </tr>\n",
       "    <tr>\n",
       "      <th>3</th>\n",
       "      <td>[[10, 0], [-10, 1]]</td>\n",
       "    </tr>\n",
       "  </tbody>\n",
       "</table>\n",
       "</div>"
      ],
      "text/plain": [
       "                     ums\n",
       "0       [[1, 0], [0, 1]]\n",
       "1    [[1, -10], [0, 10]]\n",
       "2  [[1, -100], [0, 100]]\n",
       "3    [[10, 0], [-10, 1]]"
      ]
     },
     "execution_count": 42,
     "metadata": {},
     "output_type": "execute_result"
    }
   ],
   "source": [
    "df_scores"
   ]
  },
  {
   "cell_type": "code",
   "execution_count": 17,
   "id": "e9f9e179",
   "metadata": {},
   "outputs": [],
   "source": [
    "def get_utility_scores(df, um, verbose=True, normalize=True):\n",
    "    '''\n",
    "    Method for calculating the total gains from utility matrix for regular predictions \n",
    "    and bayesian corrected predictions\n",
    "    df = DataFrame for predictions and bayesian probabilites of class 0\n",
    "    um = utility matrix in the format [[T0,F0],[F1,T1]]\n",
    "    verbose = if True: Outputs confusion matrix and text\n",
    "    normalize = normalize the um for score output\n",
    "    '''\n",
    "    c1, c2, c3 = 0, 0, 0\n",
    "    corrected_um = np.array([np.array(x) for x in um])\n",
    "    corrected_um = np.array([[um[0][0], um[1][0]], [um[0][1], um[1][1]]])\n",
    "    # Calculations for standard output\n",
    "    y = df['class'].to_numpy()\n",
    "    if 'pred_1' in df.columns:\n",
    "        y_pred = [choose_class([r['pred_0'], r['pred_1']]) for i, r in df.iterrows()]\n",
    "    else:\n",
    "        y_pred = [choose_class(r['pred_0']) for i, r in df.iterrows()]\n",
    "    cm1 = confusion_matrix(y, y_pred)\n",
    "    c1 = get_total_cost(um, cm1, normalize)\n",
    "    if verbose: \n",
    "        f = sns.heatmap(cm1, annot=True, fmt='d')\n",
    "        print('**Output for the standard predictions from algorithm**')\n",
    "        print(f'Utility Matrix: {corrected_um}')\n",
    "        print(f'Total gains for the Utility Matrix: {c1}')\n",
    "        print('Confusion matrix:')\n",
    "        plt.show()\n",
    "    # Calculations for standard output with expected utility class choice\n",
    "    if 'pred_1' in df.columns:\n",
    "        y_pred = [choose_class([r['pred_0'], r['pred_1']], um) for i, r in df.iterrows()]\n",
    "    else:\n",
    "        y_pred = [choose_class(r['pred_0'], um) for i, r in df.iterrows()]\n",
    "    cm2 = confusion_matrix(y, y_pred)\n",
    "    c2 = get_total_cost(um, cm2, normalize)\n",
    "    if verbose: \n",
    "        f = sns.heatmap(cm2, annot=True, fmt='d')\n",
    "        print('**Output for the standard predictions mixed expected utility**')\n",
    "        print(f'Utility Matrix: {corrected_um}')\n",
    "        print(f'Total gains for the Utility Matrix: {c2}')\n",
    "        print('Confusion matrix:')\n",
    "        plt.show()\n",
    "    if 'prob_0' in df.columns: \n",
    "        # Calculations for bayesian probability and expected utility class choice\n",
    "        y_pred = [choose_class(r['prob_0'], um) for i, r in df.iterrows()]\n",
    "        cm3 = confusion_matrix(y, y_pred)\n",
    "        c3 = get_total_cost(um, cm3, normalize)\n",
    "        if verbose: \n",
    "            f = sns.heatmap(cm3, annot=True, fmt='d')\n",
    "            print('**Output for the transducer**')\n",
    "            print(f'Utility Matrix: {corrected_um}')\n",
    "            print(f'Total gains: {c3}')\n",
    "            print('Confusion matrix:')\n",
    "            plt.show()\n",
    "    return c1, c2, c3"
   ]
  },
  {
   "cell_type": "code",
   "execution_count": 21,
   "id": "b402b5e2",
   "metadata": {},
   "outputs": [
    {
     "name": "stdout",
     "output_type": "stream",
     "text": [
      "**Output for the standard predictions from algorithm**\n",
      "Utility Matrix: [[  1   0]\n",
      " [-10  10]]\n",
      "Total gains for the Utility Matrix: 1.3726309921962097\n",
      "Confusion matrix:\n"
     ]
    },
    {
     "data": {
      "image/png": "[encoded data removed]",
      "text/plain": [
       "<Figure size 432x288 with 2 Axes>"
      ]
     },
     "metadata": {
      "needs_background": "light"
     },
     "output_type": "display_data"
    },
    {
     "name": "stdout",
     "output_type": "stream",
     "text": [
      "**Output for the standard predictions mixed expected utility**\n",
      "Utility Matrix: [[  1   0]\n",
      " [-10  10]]\n",
      "Total gains for the Utility Matrix: 1.5546265328874025\n",
      "Confusion matrix:\n"
     ]
    },
    {
     "data": {
      "image/png": "[encoded data removed]",
      "text/plain": [
       "<Figure size 432x288 with 2 Axes>"
      ]
     },
     "metadata": {
      "needs_background": "light"
     },
     "output_type": "display_data"
    },
    {
     "name": "stdout",
     "output_type": "stream",
     "text": [
      "**Output for the transducer**\n",
      "Utility Matrix: [[  1   0]\n",
      " [-10  10]]\n",
      "Total gains: 1.7196209587513935\n",
      "Confusion matrix:\n"
     ]
    },
    {
     "data": {
      "image/png": "[encoded data removed]",
      "text/plain": [
       "<Figure size 432x288 with 2 Axes>"
      ]
     },
     "metadata": {
      "needs_background": "light"
     },
     "output_type": "display_data"
    }
   ],
   "source": [
    "c1, c2, c3 = get_utility_scores(df_test2_RF, [[1, -10], [0, 10]], normalize=False)"
   ]
  },
  {
   "cell_type": "code",
   "execution_count": 98,
   "id": "68d2f24a",
   "metadata": {},
   "outputs": [
    {
     "data": {
      "text/plain": [
       "array([list([[1, 0], [0, 1]])], dtype=object)"
      ]
     },
     "execution_count": 98,
     "metadata": {},
     "output_type": "execute_result"
    }
   ],
   "source": [
    "df_scores.iloc[0].to_numpy()"
   ]
  },
  {
   "cell_type": "code",
   "execution_count": 99,
   "id": "f90ea136",
   "metadata": {},
   "outputs": [],
   "source": [
    "um = np.array([[1, 0], [0, 1]])"
   ]
  },
  {
   "cell_type": "code",
   "execution_count": 100,
   "id": "adb748d7",
   "metadata": {},
   "outputs": [
    {
     "data": {
      "text/plain": [
       "array([[1., 0.],\n",
       "       [0., 1.]])"
      ]
     },
     "execution_count": 100,
     "metadata": {},
     "output_type": "execute_result"
    }
   ],
   "source": [
    "um = um - um.min()\n",
    "um = um / um.max()\n",
    "um"
   ]
  },
  {
   "cell_type": "code",
   "execution_count": 101,
   "id": "545d63f5",
   "metadata": {},
   "outputs": [
    {
     "data": {
      "text/plain": [
       "1.0"
      ]
     },
     "execution_count": 101,
     "metadata": {},
     "output_type": "execute_result"
    }
   ],
   "source": [
    "um[1][1]"
   ]
  },
  {
   "cell_type": "markdown",
   "id": "80cd0c2e",
   "metadata": {},
   "source": [
    "# Get the scores for all the different utility matrixes"
   ]
  },
  {
   "cell_type": "markdown",
   "id": "1efa45ec",
   "metadata": {},
   "source": [
    "# RF:"
   ]
  },
  {
   "cell_type": "code",
   "execution_count": 39,
   "id": "1c7abc3e",
   "metadata": {},
   "outputs": [],
   "source": [
    "df_scores = pd.DataFrame()\n",
    "df_scores['ums'] = list(ums.values())"
   ]
  },
  {
   "cell_type": "code",
   "execution_count": 34,
   "id": "cc70d6f7",
   "metadata": {},
   "outputs": [
    {
     "name": "stdout",
     "output_type": "stream",
     "text": [
      "**Output for the standard predictions from algorithm**\n",
      "Utility Matrix: [[1 0]\n",
      " [0 1]]\n",
      "Total gains for the Utility Matrix: 0.967670011148272\n",
      "Confusion matrix:\n"
     ]
    },
    {
     "data": {
      "image/png": "[encoded data removed]",
      "text/plain": [
       "<Figure size 432x288 with 2 Axes>"
      ]
     },
     "metadata": {
      "needs_background": "light"
     },
     "output_type": "display_data"
    },
    {
     "name": "stdout",
     "output_type": "stream",
     "text": [
      "**Output for the standard predictions mixed expected utility**\n",
      "Utility Matrix: [[1 0]\n",
      " [0 1]]\n",
      "Total gains for the Utility Matrix: 0.967948717948718\n",
      "Confusion matrix:\n"
     ]
    },
    {
     "data": {
      "image/png": "[encoded data removed]",
      "text/plain": [
       "<Figure size 432x288 with 2 Axes>"
      ]
     },
     "metadata": {
      "needs_background": "light"
     },
     "output_type": "display_data"
    },
    {
     "name": "stdout",
     "output_type": "stream",
     "text": [
      "**Output for the transducer**\n",
      "Utility Matrix: [[1 0]\n",
      " [0 1]]\n",
      "Total gains: 0.9740802675585284\n",
      "Confusion matrix:\n"
     ]
    },
    {
     "data": {
      "image/png": "[encoded data removed]",
      "text/plain": [
       "<Figure size 432x288 with 2 Axes>"
      ]
     },
     "metadata": {
      "needs_background": "light"
     },
     "output_type": "display_data"
    },
    {
     "name": "stdout",
     "output_type": "stream",
     "text": [
      "**Output for the standard predictions from algorithm**\n",
      "Utility Matrix: [[  1   0]\n",
      " [-10  10]]\n",
      "Total gains for the Utility Matrix: 0.5683528428093646\n",
      "Confusion matrix:\n"
     ]
    },
    {
     "data": {
      "image/png": "[encoded data removed]",
      "text/plain": [
       "<Figure size 432x288 with 2 Axes>"
      ]
     },
     "metadata": {
      "needs_background": "light"
     },
     "output_type": "display_data"
    },
    {
     "name": "stdout",
     "output_type": "stream",
     "text": [
      "**Output for the standard predictions mixed expected utility**\n",
      "Utility Matrix: [[  1   0]\n",
      " [-10  10]]\n",
      "Total gains for the Utility Matrix: 0.5777313266443701\n",
      "Confusion matrix:\n"
     ]
    },
    {
     "data": {
      "image/png": "[encoded data removed]",
      "text/plain": [
       "<Figure size 432x288 with 2 Axes>"
      ]
     },
     "metadata": {
      "needs_background": "light"
     },
     "output_type": "display_data"
    },
    {
     "name": "stdout",
     "output_type": "stream",
     "text": [
      "**Output for the transducer**\n",
      "Utility Matrix: [[  1   0]\n",
      " [-10  10]]\n",
      "Total gains: 0.5859810479375697\n",
      "Confusion matrix:\n"
     ]
    },
    {
     "data": {
      "image/png": "[encoded data removed]",
      "text/plain": [
       "<Figure size 432x288 with 2 Axes>"
      ]
     },
     "metadata": {
      "needs_background": "light"
     },
     "output_type": "display_data"
    },
    {
     "name": "stdout",
     "output_type": "stream",
     "text": [
      "**Output for the standard predictions from algorithm**\n",
      "Utility Matrix: [[   1    0]\n",
      " [-100  100]]\n",
      "Total gains for the Utility Matrix: 0.5279055183946488\n",
      "Confusion matrix:\n"
     ]
    },
    {
     "data": {
      "image/png": "[encoded data removed]",
      "text/plain": [
       "<Figure size 432x288 with 2 Axes>"
      ]
     },
     "metadata": {
      "needs_background": "light"
     },
     "output_type": "display_data"
    },
    {
     "name": "stdout",
     "output_type": "stream",
     "text": [
      "**Output for the standard predictions mixed expected utility**\n",
      "Utility Matrix: [[   1    0]\n",
      " [-100  100]]\n",
      "Total gains for the Utility Matrix: 0.5456605351170568\n",
      "Confusion matrix:\n"
     ]
    },
    {
     "data": {
      "image/png": "[encoded data removed]",
      "text/plain": [
       "<Figure size 432x288 with 2 Axes>"
      ]
     },
     "metadata": {
      "needs_background": "light"
     },
     "output_type": "display_data"
    },
    {
     "name": "stdout",
     "output_type": "stream",
     "text": [
      "**Output for the transducer**\n",
      "Utility Matrix: [[   1    0]\n",
      " [-100  100]]\n",
      "Total gains: 0.5481577480490524\n",
      "Confusion matrix:\n"
     ]
    },
    {
     "data": {
      "image/png": "[encoded data removed]",
      "text/plain": [
       "<Figure size 432x288 with 2 Axes>"
      ]
     },
     "metadata": {
      "needs_background": "light"
     },
     "output_type": "display_data"
    },
    {
     "name": "stdout",
     "output_type": "stream",
     "text": [
      "**Output for the standard predictions from algorithm**\n",
      "Utility Matrix: [[ 10 -10]\n",
      " [  0   1]]\n",
      "Total gains for the Utility Matrix: 0.9476727982162765\n",
      "Confusion matrix:\n"
     ]
    },
    {
     "data": {
      "image/png": "[encoded data removed]",
      "text/plain": [
       "<Figure size 432x288 with 2 Axes>"
      ]
     },
     "metadata": {
      "needs_background": "light"
     },
     "output_type": "display_data"
    },
    {
     "name": "stdout",
     "output_type": "stream",
     "text": [
      "**Output for the standard predictions mixed expected utility**\n",
      "Utility Matrix: [[ 10 -10]\n",
      " [  0   1]]\n",
      "Total gains for the Utility Matrix: 0.9541666666666667\n",
      "Confusion matrix:\n"
     ]
    },
    {
     "data": {
      "image/png": "[encoded data removed]",
      "text/plain": [
       "<Figure size 432x288 with 2 Axes>"
      ]
     },
     "metadata": {
      "needs_background": "light"
     },
     "output_type": "display_data"
    },
    {
     "name": "stdout",
     "output_type": "stream",
     "text": [
      "**Output for the transducer**\n",
      "Utility Matrix: [[ 10 -10]\n",
      " [  0   1]]\n",
      "Total gains: 0.9545707915273133\n",
      "Confusion matrix:\n"
     ]
    },
    {
     "data": {
      "image/png": "[encoded data removed]",
      "text/plain": [
       "<Figure size 432x288 with 2 Axes>"
      ]
     },
     "metadata": {
      "needs_background": "light"
     },
     "output_type": "display_data"
    },
    {
     "name": "stdout",
     "output_type": "stream",
     "text": [
      "**Output for the standard predictions from algorithm**\n",
      "Utility Matrix: [[ 100 -100]\n",
      " [   0   10]]\n",
      "Total gains for the Utility Matrix: 0.9477006688963211\n",
      "Confusion matrix:\n"
     ]
    },
    {
     "data": {
      "image/png": "[encoded data removed]",
      "text/plain": [
       "<Figure size 432x288 with 2 Axes>"
      ]
     },
     "metadata": {
      "needs_background": "light"
     },
     "output_type": "display_data"
    },
    {
     "name": "stdout",
     "output_type": "stream",
     "text": [
      "**Output for the standard predictions mixed expected utility**\n",
      "Utility Matrix: [[ 100 -100]\n",
      " [   0   10]]\n",
      "Total gains for the Utility Matrix: 0.9541666666666667\n",
      "Confusion matrix:\n"
     ]
    },
    {
     "data": {
      "image/png": "[encoded data removed]",
      "text/plain": [
       "<Figure size 432x288 with 2 Axes>"
      ]
     },
     "metadata": {
      "needs_background": "light"
     },
     "output_type": "display_data"
    },
    {
     "name": "stdout",
     "output_type": "stream",
     "text": [
      "**Output for the transducer**\n",
      "Utility Matrix: [[ 100 -100]\n",
      " [   0   10]]\n",
      "Total gains: 0.9545707915273133\n",
      "Confusion matrix:\n"
     ]
    },
    {
     "data": {
      "image/png": "[encoded data removed]",
      "text/plain": [
       "<Figure size 432x288 with 2 Axes>"
      ]
     },
     "metadata": {
      "needs_background": "light"
     },
     "output_type": "display_data"
    },
    {
     "data": {
      "text/plain": [
       "[0.9740802675585284,\n",
       " 0.5859810479375697,\n",
       " 0.5481577480490524,\n",
       " 0.9545707915273133,\n",
       " 0.9545707915273133]"
      ]
     },
     "execution_count": 34,
     "metadata": {},
     "output_type": "execute_result"
    }
   ],
   "source": [
    "scores1 = []\n",
    "scores2 = []\n",
    "scores3 = []\n",
    "for i, r in df_scores.iterrows():\n",
    "    s1, s2, s3 = get_utility_scores(df_test2_RF, r['ums'], verbose=True)\n",
    "    scores1.append(s1)\n",
    "    scores2.append(s2)\n",
    "    scores3.append(s3)\n",
    "scores3"
   ]
  },
  {
   "cell_type": "code",
   "execution_count": 35,
   "id": "d2888f91",
   "metadata": {},
   "outputs": [
    {
     "data": {
      "text/html": [
       "<div>\n",
       "<style scoped>\n",
       "    .dataframe tbody tr th:only-of-type {\n",
       "        vertical-align: middle;\n",
       "    }\n",
       "\n",
       "    .dataframe tbody tr th {\n",
       "        vertical-align: top;\n",
       "    }\n",
       "\n",
       "    .dataframe thead th {\n",
       "        text-align: right;\n",
       "    }\n",
       "</style>\n",
       "<table border=\"1\" class=\"dataframe\">\n",
       "  <thead>\n",
       "    <tr style=\"text-align: right;\">\n",
       "      <th></th>\n",
       "      <th>ums</th>\n",
       "      <th>RF_standard_norm</th>\n",
       "      <th>RF_mixed_norm</th>\n",
       "      <th>RF_transducer_norm</th>\n",
       "    </tr>\n",
       "  </thead>\n",
       "  <tbody>\n",
       "    <tr>\n",
       "      <th>0</th>\n",
       "      <td>[[1, 0], [0, 1]]</td>\n",
       "      <td>0.967670</td>\n",
       "      <td>0.967949</td>\n",
       "      <td>0.974080</td>\n",
       "    </tr>\n",
       "    <tr>\n",
       "      <th>1</th>\n",
       "      <td>[[1, -10], [0, 10]]</td>\n",
       "      <td>0.568353</td>\n",
       "      <td>0.577731</td>\n",
       "      <td>0.585981</td>\n",
       "    </tr>\n",
       "    <tr>\n",
       "      <th>2</th>\n",
       "      <td>[[1, -100], [0, 100]]</td>\n",
       "      <td>0.527906</td>\n",
       "      <td>0.545661</td>\n",
       "      <td>0.548158</td>\n",
       "    </tr>\n",
       "    <tr>\n",
       "      <th>3</th>\n",
       "      <td>[[10, 0], [-10, 1]]</td>\n",
       "      <td>0.947673</td>\n",
       "      <td>0.954167</td>\n",
       "      <td>0.954571</td>\n",
       "    </tr>\n",
       "    <tr>\n",
       "      <th>4</th>\n",
       "      <td>[[100, 0], [-100, 10]]</td>\n",
       "      <td>0.947701</td>\n",
       "      <td>0.954167</td>\n",
       "      <td>0.954571</td>\n",
       "    </tr>\n",
       "  </tbody>\n",
       "</table>\n",
       "</div>"
      ],
      "text/plain": [
       "                      ums  RF_standard_norm  RF_mixed_norm  RF_transducer_norm\n",
       "0        [[1, 0], [0, 1]]          0.967670       0.967949            0.974080\n",
       "1     [[1, -10], [0, 10]]          0.568353       0.577731            0.585981\n",
       "2   [[1, -100], [0, 100]]          0.527906       0.545661            0.548158\n",
       "3     [[10, 0], [-10, 1]]          0.947673       0.954167            0.954571\n",
       "4  [[100, 0], [-100, 10]]          0.947701       0.954167            0.954571"
      ]
     },
     "execution_count": 35,
     "metadata": {},
     "output_type": "execute_result"
    }
   ],
   "source": [
    "df_scores['RF_standard_norm'] = scores1\n",
    "df_scores['RF_mixed_norm'] = scores2\n",
    "df_scores['RF_transducer_norm'] = scores3\n",
    "df_scores"
   ]
  },
  {
   "cell_type": "markdown",
   "id": "d456cf6f",
   "metadata": {},
   "source": [
    "## Not normalized"
   ]
  },
  {
   "cell_type": "code",
   "execution_count": 36,
   "id": "4b30471e",
   "metadata": {},
   "outputs": [
    {
     "name": "stdout",
     "output_type": "stream",
     "text": [
      "**Output for the standard predictions from algorithm**\n",
      "Utility Matrix: [[1 0]\n",
      " [0 1]]\n",
      "Total gains for the Utility Matrix: 0.9671125975473801\n",
      "Confusion matrix:\n"
     ]
    },
    {
     "data": {
      "image/png": "[encoded data removed]",
      "text/plain": [
       "<Figure size 432x288 with 2 Axes>"
      ]
     },
     "metadata": {
      "needs_background": "light"
     },
     "output_type": "display_data"
    },
    {
     "name": "stdout",
     "output_type": "stream",
     "text": [
      "**Output for the standard predictions mixed expected utility**\n",
      "Utility Matrix: [[1 0]\n",
      " [0 1]]\n",
      "Total gains for the Utility Matrix: 0.967670011148272\n",
      "Confusion matrix:\n"
     ]
    },
    {
     "data": {
      "image/png": "[encoded data removed]",
      "text/plain": [
       "<Figure size 432x288 with 2 Axes>"
      ]
     },
     "metadata": {
      "needs_background": "light"
     },
     "output_type": "display_data"
    },
    {
     "name": "stdout",
     "output_type": "stream",
     "text": [
      "**Output for the transducer**\n",
      "Utility Matrix: [[1 0]\n",
      " [0 1]]\n",
      "Total gains: 0.9740802675585284\n",
      "Confusion matrix:\n"
     ]
    },
    {
     "data": {
      "image/png": "[encoded data removed]",
      "text/plain": [
       "<Figure size 432x288 with 2 Axes>"
      ]
     },
     "metadata": {
      "needs_background": "light"
     },
     "output_type": "display_data"
    },
    {
     "name": "stdout",
     "output_type": "stream",
     "text": [
      "**Output for the standard predictions from algorithm**\n",
      "Utility Matrix: [[  1   0]\n",
      " [-10  10]]\n",
      "Total gains for the Utility Matrix: 1.367056856187291\n",
      "Confusion matrix:\n"
     ]
    },
    {
     "data": {
      "image/png": "[encoded data removed]",
      "text/plain": [
       "<Figure size 432x288 with 2 Axes>"
      ]
     },
     "metadata": {
      "needs_background": "light"
     },
     "output_type": "display_data"
    },
    {
     "name": "stdout",
     "output_type": "stream",
     "text": [
      "**Output for the standard predictions mixed expected utility**\n",
      "Utility Matrix: [[  1   0]\n",
      " [-10  10]]\n",
      "Total gains for the Utility Matrix: 1.5546265328874025\n",
      "Confusion matrix:\n"
     ]
    },
    {
     "data": {
      "image/png": "[encoded data removed]",
      "text/plain": [
       "<Figure size 432x288 with 2 Axes>"
      ]
     },
     "metadata": {
      "needs_background": "light"
     },
     "output_type": "display_data"
    },
    {
     "name": "stdout",
     "output_type": "stream",
     "text": [
      "**Output for the transducer**\n",
      "Utility Matrix: [[  1   0]\n",
      " [-10  10]]\n",
      "Total gains: 1.7196209587513935\n",
      "Confusion matrix:\n"
     ]
    },
    {
     "data": {
      "image/png": "[encoded data removed]",
      "text/plain": [
       "<Figure size 432x288 with 2 Axes>"
      ]
     },
     "metadata": {
      "needs_background": "light"
     },
     "output_type": "display_data"
    },
    {
     "name": "stdout",
     "output_type": "stream",
     "text": [
      "**Output for the standard predictions from algorithm**\n",
      "Utility Matrix: [[   1    0]\n",
      " [-100  100]]\n",
      "Total gains for the Utility Matrix: 5.469620958751394\n",
      "Confusion matrix:\n"
     ]
    },
    {
     "data": {
      "image/png": "[encoded data removed]",
      "text/plain": [
       "<Figure size 432x288 with 2 Axes>"
      ]
     },
     "metadata": {
      "needs_background": "light"
     },
     "output_type": "display_data"
    },
    {
     "name": "stdout",
     "output_type": "stream",
     "text": [
      "**Output for the standard predictions mixed expected utility**\n",
      "Utility Matrix: [[   1    0]\n",
      " [-100  100]]\n",
      "Total gains for the Utility Matrix: 9.132107023411372\n",
      "Confusion matrix:\n"
     ]
    },
    {
     "data": {
      "image/png": "[encoded data removed]",
      "text/plain": [
       "<Figure size 432x288 with 2 Axes>"
      ]
     },
     "metadata": {
      "needs_background": "light"
     },
     "output_type": "display_data"
    },
    {
     "name": "stdout",
     "output_type": "stream",
     "text": [
      "**Output for the transducer**\n",
      "Utility Matrix: [[   1    0]\n",
      " [-100  100]]\n",
      "Total gains: 9.63154960981048\n",
      "Confusion matrix:\n"
     ]
    },
    {
     "data": {
      "image/png": "[encoded data removed]",
      "text/plain": [
       "<Figure size 432x288 with 2 Axes>"
      ]
     },
     "metadata": {
      "needs_background": "light"
     },
     "output_type": "display_data"
    },
    {
     "name": "stdout",
     "output_type": "stream",
     "text": [
      "**Output for the standard predictions from algorithm**\n",
      "Utility Matrix: [[ 10 -10]\n",
      " [  0   1]]\n",
      "Total gains for the Utility Matrix: 8.954292084726868\n",
      "Confusion matrix:\n"
     ]
    },
    {
     "data": {
      "image/png": "[encoded data removed]",
      "text/plain": [
       "<Figure size 432x288 with 2 Axes>"
      ]
     },
     "metadata": {
      "needs_background": "light"
     },
     "output_type": "display_data"
    },
    {
     "name": "stdout",
     "output_type": "stream",
     "text": [
      "**Output for the standard predictions mixed expected utility**\n",
      "Utility Matrix: [[ 10 -10]\n",
      " [  0   1]]\n",
      "Total gains for the Utility Matrix: 9.083333333333334\n",
      "Confusion matrix:\n"
     ]
    },
    {
     "data": {
      "image/png": "[encoded data removed]",
      "text/plain": [
       "<Figure size 432x288 with 2 Axes>"
      ]
     },
     "metadata": {
      "needs_background": "light"
     },
     "output_type": "display_data"
    },
    {
     "name": "stdout",
     "output_type": "stream",
     "text": [
      "**Output for the transducer**\n",
      "Utility Matrix: [[ 10 -10]\n",
      " [  0   1]]\n",
      "Total gains: 9.091415830546266\n",
      "Confusion matrix:\n"
     ]
    },
    {
     "data": {
      "image/png": "[encoded data removed]",
      "text/plain": [
       "<Figure size 432x288 with 2 Axes>"
      ]
     },
     "metadata": {
      "needs_background": "light"
     },
     "output_type": "display_data"
    },
    {
     "name": "stdout",
     "output_type": "stream",
     "text": [
      "**Output for the standard predictions from algorithm**\n",
      "Utility Matrix: [[ 100 -100]\n",
      " [   0   10]]\n",
      "Total gains for the Utility Matrix: 89.54013377926421\n",
      "Confusion matrix:\n"
     ]
    },
    {
     "data": {
      "image/png": "[encoded data removed]",
      "text/plain": [
       "<Figure size 432x288 with 2 Axes>"
      ]
     },
     "metadata": {
      "needs_background": "light"
     },
     "output_type": "display_data"
    },
    {
     "name": "stdout",
     "output_type": "stream",
     "text": [
      "**Output for the standard predictions mixed expected utility**\n",
      "Utility Matrix: [[ 100 -100]\n",
      " [   0   10]]\n",
      "Total gains for the Utility Matrix: 90.83333333333333\n",
      "Confusion matrix:\n"
     ]
    },
    {
     "data": {
      "image/png": "[encoded data removed]",
      "text/plain": [
       "<Figure size 432x288 with 2 Axes>"
      ]
     },
     "metadata": {
      "needs_background": "light"
     },
     "output_type": "display_data"
    },
    {
     "name": "stdout",
     "output_type": "stream",
     "text": [
      "**Output for the transducer**\n",
      "Utility Matrix: [[ 100 -100]\n",
      " [   0   10]]\n",
      "Total gains: 90.91415830546265\n",
      "Confusion matrix:\n"
     ]
    },
    {
     "data": {
      "image/png": "[encoded data removed]",
      "text/plain": [
       "<Figure size 432x288 with 2 Axes>"
      ]
     },
     "metadata": {
      "needs_background": "light"
     },
     "output_type": "display_data"
    },
    {
     "data": {
      "text/plain": [
       "[0.9740802675585284,\n",
       " 1.7196209587513935,\n",
       " 9.63154960981048,\n",
       " 9.091415830546266,\n",
       " 90.91415830546265]"
      ]
     },
     "execution_count": 36,
     "metadata": {},
     "output_type": "execute_result"
    }
   ],
   "source": [
    "scores1 = []\n",
    "scores2 = []\n",
    "scores3 = []\n",
    "for i, r in df_scores.iterrows():\n",
    "    s1, s2, s3 = get_utility_scores(df_test2_RF, r['ums'], verbose=True, normalize = False)\n",
    "    scores1.append(s1)\n",
    "    scores2.append(s2)\n",
    "    scores3.append(s3)\n",
    "scores3"
   ]
  },
  {
   "cell_type": "code",
   "execution_count": 37,
   "id": "c0f5d012",
   "metadata": {},
   "outputs": [
    {
     "data": {
      "text/html": [
       "<div>\n",
       "<style scoped>\n",
       "    .dataframe tbody tr th:only-of-type {\n",
       "        vertical-align: middle;\n",
       "    }\n",
       "\n",
       "    .dataframe tbody tr th {\n",
       "        vertical-align: top;\n",
       "    }\n",
       "\n",
       "    .dataframe thead th {\n",
       "        text-align: right;\n",
       "    }\n",
       "</style>\n",
       "<table border=\"1\" class=\"dataframe\">\n",
       "  <thead>\n",
       "    <tr style=\"text-align: right;\">\n",
       "      <th></th>\n",
       "      <th>ums</th>\n",
       "      <th>RF_standard_norm</th>\n",
       "      <th>RF_mixed_norm</th>\n",
       "      <th>RF_transducer_norm</th>\n",
       "      <th>RF_standard</th>\n",
       "      <th>RF_mixed</th>\n",
       "      <th>RF_transducer</th>\n",
       "    </tr>\n",
       "  </thead>\n",
       "  <tbody>\n",
       "    <tr>\n",
       "      <th>0</th>\n",
       "      <td>[[1, 0], [0, 1]]</td>\n",
       "      <td>0.967670</td>\n",
       "      <td>0.967949</td>\n",
       "      <td>0.974080</td>\n",
       "      <td>0.967113</td>\n",
       "      <td>0.967670</td>\n",
       "      <td>0.974080</td>\n",
       "    </tr>\n",
       "    <tr>\n",
       "      <th>1</th>\n",
       "      <td>[[1, -10], [0, 10]]</td>\n",
       "      <td>0.568353</td>\n",
       "      <td>0.577731</td>\n",
       "      <td>0.585981</td>\n",
       "      <td>1.367057</td>\n",
       "      <td>1.554627</td>\n",
       "      <td>1.719621</td>\n",
       "    </tr>\n",
       "    <tr>\n",
       "      <th>2</th>\n",
       "      <td>[[1, -100], [0, 100]]</td>\n",
       "      <td>0.527906</td>\n",
       "      <td>0.545661</td>\n",
       "      <td>0.548158</td>\n",
       "      <td>5.469621</td>\n",
       "      <td>9.132107</td>\n",
       "      <td>9.631550</td>\n",
       "    </tr>\n",
       "    <tr>\n",
       "      <th>3</th>\n",
       "      <td>[[10, 0], [-10, 1]]</td>\n",
       "      <td>0.947673</td>\n",
       "      <td>0.954167</td>\n",
       "      <td>0.954571</td>\n",
       "      <td>8.954292</td>\n",
       "      <td>9.083333</td>\n",
       "      <td>9.091416</td>\n",
       "    </tr>\n",
       "    <tr>\n",
       "      <th>4</th>\n",
       "      <td>[[100, 0], [-100, 10]]</td>\n",
       "      <td>0.947701</td>\n",
       "      <td>0.954167</td>\n",
       "      <td>0.954571</td>\n",
       "      <td>89.540134</td>\n",
       "      <td>90.833333</td>\n",
       "      <td>90.914158</td>\n",
       "    </tr>\n",
       "  </tbody>\n",
       "</table>\n",
       "</div>"
      ],
      "text/plain": [
       "                      ums  RF_standard_norm  RF_mixed_norm  \\\n",
       "0        [[1, 0], [0, 1]]          0.967670       0.967949   \n",
       "1     [[1, -10], [0, 10]]          0.568353       0.577731   \n",
       "2   [[1, -100], [0, 100]]          0.527906       0.545661   \n",
       "3     [[10, 0], [-10, 1]]          0.947673       0.954167   \n",
       "4  [[100, 0], [-100, 10]]          0.947701       0.954167   \n",
       "\n",
       "   RF_transducer_norm  RF_standard   RF_mixed  RF_transducer  \n",
       "0            0.974080     0.967113   0.967670       0.974080  \n",
       "1            0.585981     1.367057   1.554627       1.719621  \n",
       "2            0.548158     5.469621   9.132107       9.631550  \n",
       "3            0.954571     8.954292   9.083333       9.091416  \n",
       "4            0.954571    89.540134  90.833333      90.914158  "
      ]
     },
     "execution_count": 37,
     "metadata": {},
     "output_type": "execute_result"
    }
   ],
   "source": [
    "df_scores['RF_standard'] = scores1\n",
    "df_scores['RF_mixed'] = scores2\n",
    "df_scores['RF_transducer'] = scores3\n",
    "df_scores"
   ]
  },
  {
   "cell_type": "code",
   "execution_count": 38,
   "id": "ba2938df",
   "metadata": {},
   "outputs": [
    {
     "name": "stderr",
     "output_type": "stream",
     "text": [
      "/home/kjetil/anaconda3/envs/fastai-drug/lib/python3.7/site-packages/ipykernel_launcher.py:2: FutureWarning: this method is deprecated in favour of `Styler.format(precision=..)`\n",
      "  \n"
     ]
    },
    {
     "data": {
      "text/html": [
       "<style type=\"text/css\">\n",
       "#T_b6b25_row0_col3, #T_b6b25_row1_col3, #T_b6b25_row2_col3, #T_b6b25_row3_col3, #T_b6b25_row4_col3 {\n",
       "  background-color: lightgreen;\n",
       "}\n",
       "#T_b6b25_row0_col6, #T_b6b25_row1_col6, #T_b6b25_row2_col6, #T_b6b25_row3_col6, #T_b6b25_row4_col6 {\n",
       "  background-color: lightblue;\n",
       "}\n",
       "</style>\n",
       "<table id=\"T_b6b25_\">\n",
       "  <thead>\n",
       "    <tr>\n",
       "      <th class=\"blank level0\" >&nbsp;</th>\n",
       "      <th class=\"col_heading level0 col0\" >ums</th>\n",
       "      <th class=\"col_heading level0 col1\" >RF_standard_norm</th>\n",
       "      <th class=\"col_heading level0 col2\" >RF_mixed_norm</th>\n",
       "      <th class=\"col_heading level0 col3\" >RF_transducer_norm</th>\n",
       "      <th class=\"col_heading level0 col4\" >RF_standard</th>\n",
       "      <th class=\"col_heading level0 col5\" >RF_mixed</th>\n",
       "      <th class=\"col_heading level0 col6\" >RF_transducer</th>\n",
       "    </tr>\n",
       "  </thead>\n",
       "  <tbody>\n",
       "    <tr>\n",
       "      <th id=\"T_b6b25_level0_row0\" class=\"row_heading level0 row0\" >0</th>\n",
       "      <td id=\"T_b6b25_row0_col0\" class=\"data row0 col0\" >[[1, 0], [0, 1]]</td>\n",
       "      <td id=\"T_b6b25_row0_col1\" class=\"data row0 col1\" >0.968</td>\n",
       "      <td id=\"T_b6b25_row0_col2\" class=\"data row0 col2\" >0.968</td>\n",
       "      <td id=\"T_b6b25_row0_col3\" class=\"data row0 col3\" >0.974</td>\n",
       "      <td id=\"T_b6b25_row0_col4\" class=\"data row0 col4\" >0.967</td>\n",
       "      <td id=\"T_b6b25_row0_col5\" class=\"data row0 col5\" >0.968</td>\n",
       "      <td id=\"T_b6b25_row0_col6\" class=\"data row0 col6\" >0.974</td>\n",
       "    </tr>\n",
       "    <tr>\n",
       "      <th id=\"T_b6b25_level0_row1\" class=\"row_heading level0 row1\" >1</th>\n",
       "      <td id=\"T_b6b25_row1_col0\" class=\"data row1 col0\" >[[1, -10], [0, 10]]</td>\n",
       "      <td id=\"T_b6b25_row1_col1\" class=\"data row1 col1\" >0.568</td>\n",
       "      <td id=\"T_b6b25_row1_col2\" class=\"data row1 col2\" >0.578</td>\n",
       "      <td id=\"T_b6b25_row1_col3\" class=\"data row1 col3\" >0.586</td>\n",
       "      <td id=\"T_b6b25_row1_col4\" class=\"data row1 col4\" >1.367</td>\n",
       "      <td id=\"T_b6b25_row1_col5\" class=\"data row1 col5\" >1.555</td>\n",
       "      <td id=\"T_b6b25_row1_col6\" class=\"data row1 col6\" >1.720</td>\n",
       "    </tr>\n",
       "    <tr>\n",
       "      <th id=\"T_b6b25_level0_row2\" class=\"row_heading level0 row2\" >2</th>\n",
       "      <td id=\"T_b6b25_row2_col0\" class=\"data row2 col0\" >[[1, -100], [0, 100]]</td>\n",
       "      <td id=\"T_b6b25_row2_col1\" class=\"data row2 col1\" >0.528</td>\n",
       "      <td id=\"T_b6b25_row2_col2\" class=\"data row2 col2\" >0.546</td>\n",
       "      <td id=\"T_b6b25_row2_col3\" class=\"data row2 col3\" >0.548</td>\n",
       "      <td id=\"T_b6b25_row2_col4\" class=\"data row2 col4\" >5.470</td>\n",
       "      <td id=\"T_b6b25_row2_col5\" class=\"data row2 col5\" >9.132</td>\n",
       "      <td id=\"T_b6b25_row2_col6\" class=\"data row2 col6\" >9.632</td>\n",
       "    </tr>\n",
       "    <tr>\n",
       "      <th id=\"T_b6b25_level0_row3\" class=\"row_heading level0 row3\" >3</th>\n",
       "      <td id=\"T_b6b25_row3_col0\" class=\"data row3 col0\" >[[10, 0], [-10, 1]]</td>\n",
       "      <td id=\"T_b6b25_row3_col1\" class=\"data row3 col1\" >0.948</td>\n",
       "      <td id=\"T_b6b25_row3_col2\" class=\"data row3 col2\" >0.954</td>\n",
       "      <td id=\"T_b6b25_row3_col3\" class=\"data row3 col3\" >0.955</td>\n",
       "      <td id=\"T_b6b25_row3_col4\" class=\"data row3 col4\" >8.954</td>\n",
       "      <td id=\"T_b6b25_row3_col5\" class=\"data row3 col5\" >9.083</td>\n",
       "      <td id=\"T_b6b25_row3_col6\" class=\"data row3 col6\" >9.091</td>\n",
       "    </tr>\n",
       "    <tr>\n",
       "      <th id=\"T_b6b25_level0_row4\" class=\"row_heading level0 row4\" >4</th>\n",
       "      <td id=\"T_b6b25_row4_col0\" class=\"data row4 col0\" >[[100, 0], [-100, 10]]</td>\n",
       "      <td id=\"T_b6b25_row4_col1\" class=\"data row4 col1\" >0.948</td>\n",
       "      <td id=\"T_b6b25_row4_col2\" class=\"data row4 col2\" >0.954</td>\n",
       "      <td id=\"T_b6b25_row4_col3\" class=\"data row4 col3\" >0.955</td>\n",
       "      <td id=\"T_b6b25_row4_col4\" class=\"data row4 col4\" >89.540</td>\n",
       "      <td id=\"T_b6b25_row4_col5\" class=\"data row4 col5\" >90.833</td>\n",
       "      <td id=\"T_b6b25_row4_col6\" class=\"data row4 col6\" >90.914</td>\n",
       "    </tr>\n",
       "  </tbody>\n",
       "</table>\n"
      ],
      "text/plain": [
       "<pandas.io.formats.style.Styler at 0x7f9b13324a90>"
      ]
     },
     "execution_count": 38,
     "metadata": {},
     "output_type": "execute_result"
    }
   ],
   "source": [
    "df_scores.style.\\\n",
    "        set_precision(3).\\\n",
    "        highlight_max(color='lightgreen', subset=df_scores.columns[1:4], axis=1).\\\n",
    "        highlight_max(color='lightblue', subset=df_scores.columns[4:], axis=1)\n",
    "        #format(precision=3)\n",
    "        #highlight_max(color='lightyellow', subset=df_scores.columns[7:], axis=1)\n"
   ]
  },
  {
   "cell_type": "markdown",
   "id": "432e027f",
   "metadata": {},
   "source": [
    "# CNN:"
   ]
  },
  {
   "cell_type": "code",
   "execution_count": 43,
   "id": "4bcd17fb",
   "metadata": {},
   "outputs": [
    {
     "data": {
      "text/html": [
       "<div>\n",
       "<style scoped>\n",
       "    .dataframe tbody tr th:only-of-type {\n",
       "        vertical-align: middle;\n",
       "    }\n",
       "\n",
       "    .dataframe tbody tr th {\n",
       "        vertical-align: top;\n",
       "    }\n",
       "\n",
       "    .dataframe thead th {\n",
       "        text-align: right;\n",
       "    }\n",
       "</style>\n",
       "<table border=\"1\" class=\"dataframe\">\n",
       "  <thead>\n",
       "    <tr style=\"text-align: right;\">\n",
       "      <th></th>\n",
       "      <th>class</th>\n",
       "      <th>pred_0</th>\n",
       "      <th>pred_1</th>\n",
       "      <th>prob_0</th>\n",
       "    </tr>\n",
       "  </thead>\n",
       "  <tbody>\n",
       "    <tr>\n",
       "      <th>0</th>\n",
       "      <td>1</td>\n",
       "      <td>-6.153150</td>\n",
       "      <td>3.528821</td>\n",
       "      <td>0.098276</td>\n",
       "    </tr>\n",
       "    <tr>\n",
       "      <th>1</th>\n",
       "      <td>1</td>\n",
       "      <td>-5.273664</td>\n",
       "      <td>2.086354</td>\n",
       "      <td>0.098389</td>\n",
       "    </tr>\n",
       "    <tr>\n",
       "      <th>2</th>\n",
       "      <td>0</td>\n",
       "      <td>2.347837</td>\n",
       "      <td>-4.105950</td>\n",
       "      <td>0.997626</td>\n",
       "    </tr>\n",
       "    <tr>\n",
       "      <th>3</th>\n",
       "      <td>0</td>\n",
       "      <td>1.108822</td>\n",
       "      <td>-3.426081</td>\n",
       "      <td>0.971378</td>\n",
       "    </tr>\n",
       "    <tr>\n",
       "      <th>4</th>\n",
       "      <td>0</td>\n",
       "      <td>1.048290</td>\n",
       "      <td>-3.270570</td>\n",
       "      <td>0.964264</td>\n",
       "    </tr>\n",
       "  </tbody>\n",
       "</table>\n",
       "</div>"
      ],
      "text/plain": [
       "   class    pred_0    pred_1    prob_0\n",
       "0      1 -6.153150  3.528821  0.098276\n",
       "1      1 -5.273664  2.086354  0.098389\n",
       "2      0  2.347837 -4.105950  0.997626\n",
       "3      0  1.108822 -3.426081  0.971378\n",
       "4      0  1.048290 -3.270570  0.964264"
      ]
     },
     "execution_count": 43,
     "metadata": {},
     "output_type": "execute_result"
    }
   ],
   "source": [
    "df_test2_CNN = pd.read_csv(DATA/'CNN_bayesian_prob_test2_demonstration.csv')\n",
    "df_test2_CNN.head()"
   ]
  },
  {
   "cell_type": "code",
   "execution_count": 44,
   "id": "0a06e8bc",
   "metadata": {},
   "outputs": [
    {
     "name": "stdout",
     "output_type": "stream",
     "text": [
      "<class 'pandas.core.frame.DataFrame'>\n",
      "RangeIndex: 3588 entries, 0 to 3587\n",
      "Data columns (total 4 columns):\n",
      " #   Column  Non-Null Count  Dtype  \n",
      "---  ------  --------------  -----  \n",
      " 0   class   3588 non-null   int64  \n",
      " 1   pred_0  3588 non-null   float64\n",
      " 2   pred_1  3588 non-null   float64\n",
      " 3   prob_0  3588 non-null   float64\n",
      "dtypes: float64(3), int64(1)\n",
      "memory usage: 112.2 KB\n"
     ]
    }
   ],
   "source": [
    "df_test2_CNN.info()"
   ]
  },
  {
   "cell_type": "code",
   "execution_count": 45,
   "id": "f3af0da7",
   "metadata": {},
   "outputs": [
    {
     "name": "stdout",
     "output_type": "stream",
     "text": [
      "**Output for the standard predictions from algorithm**\n",
      "Utility Matrix: [[1 0]\n",
      " [0 1]]\n",
      "Total gains for the Utility Matrix: 0.9593088071348941\n",
      "Confusion matrix:\n"
     ]
    },
    {
     "data": {
      "image/png": "[encoded data removed]",
      "text/plain": [
       "<Figure size 432x288 with 2 Axes>"
      ]
     },
     "metadata": {
      "needs_background": "light"
     },
     "output_type": "display_data"
    },
    {
     "name": "stdout",
     "output_type": "stream",
     "text": [
      "**Output for the standard predictions mixed expected utility**\n",
      "Utility Matrix: [[1 0]\n",
      " [0 1]]\n",
      "Total gains for the Utility Matrix: 0.9593088071348941\n",
      "Confusion matrix:\n"
     ]
    },
    {
     "data": {
      "image/png": "[encoded data removed]",
      "text/plain": [
       "<Figure size 432x288 with 2 Axes>"
      ]
     },
     "metadata": {
      "needs_background": "light"
     },
     "output_type": "display_data"
    },
    {
     "name": "stdout",
     "output_type": "stream",
     "text": [
      "**Output for the transducer**\n",
      "Utility Matrix: [[1 0]\n",
      " [0 1]]\n",
      "Total gains: 0.9609810479375697\n",
      "Confusion matrix:\n"
     ]
    },
    {
     "data": {
      "image/png": "[encoded data removed]",
      "text/plain": [
       "<Figure size 432x288 with 2 Axes>"
      ]
     },
     "metadata": {
      "needs_background": "light"
     },
     "output_type": "display_data"
    },
    {
     "name": "stdout",
     "output_type": "stream",
     "text": [
      "**Output for the standard predictions from algorithm**\n",
      "Utility Matrix: [[  1   0]\n",
      " [-10  10]]\n",
      "Total gains for the Utility Matrix: 0.5758779264214047\n",
      "Confusion matrix:\n"
     ]
    },
    {
     "data": {
      "image/png": "[encoded data removed]",
      "text/plain": [
       "<Figure size 432x288 with 2 Axes>"
      ]
     },
     "metadata": {
      "needs_background": "light"
     },
     "output_type": "display_data"
    },
    {
     "name": "stdout",
     "output_type": "stream",
     "text": [
      "**Output for the standard predictions mixed expected utility**\n",
      "Utility Matrix: [[  1   0]\n",
      " [-10  10]]\n",
      "Total gains for the Utility Matrix: 0.5810897435897435\n",
      "Confusion matrix:\n"
     ]
    },
    {
     "data": {
      "image/png": "[encoded data removed]",
      "text/plain": [
       "<Figure size 432x288 with 2 Axes>"
      ]
     },
     "metadata": {
      "needs_background": "light"
     },
     "output_type": "display_data"
    },
    {
     "name": "stdout",
     "output_type": "stream",
     "text": [
      "**Output for the transducer**\n",
      "Utility Matrix: [[  1   0]\n",
      " [-10  10]]\n",
      "Total gains: 0.5823021181716834\n",
      "Confusion matrix:\n"
     ]
    },
    {
     "data": {
      "image/png": "[encoded data removed]",
      "text/plain": [
       "<Figure size 432x288 with 2 Axes>"
      ]
     },
     "metadata": {
      "needs_background": "light"
     },
     "output_type": "display_data"
    },
    {
     "name": "stdout",
     "output_type": "stream",
     "text": [
      "**Output for the standard predictions from algorithm**\n",
      "Utility Matrix: [[   1    0]\n",
      " [-100  100]]\n",
      "Total gains for the Utility Matrix: 0.536183110367893\n",
      "Confusion matrix:\n"
     ]
    },
    {
     "data": {
      "image/png": "[encoded data removed]",
      "text/plain": [
       "<Figure size 432x288 with 2 Axes>"
      ]
     },
     "metadata": {
      "needs_background": "light"
     },
     "output_type": "display_data"
    },
    {
     "name": "stdout",
     "output_type": "stream",
     "text": [
      "**Output for the standard predictions mixed expected utility**\n",
      "Utility Matrix: [[   1    0]\n",
      " [-100  100]]\n",
      "Total gains for the Utility Matrix: 0.5464353400222965\n",
      "Confusion matrix:\n"
     ]
    },
    {
     "data": {
      "image/png": "[encoded data removed]",
      "text/plain": [
       "<Figure size 432x288 with 2 Axes>"
      ]
     },
     "metadata": {
      "needs_background": "light"
     },
     "output_type": "display_data"
    },
    {
     "name": "stdout",
     "output_type": "stream",
     "text": [
      "**Output for the transducer**\n",
      "Utility Matrix: [[   1    0]\n",
      " [-100  100]]\n",
      "Total gains: 0.5478595317725753\n",
      "Confusion matrix:\n"
     ]
    },
    {
     "data": {
      "image/png": "[encoded data removed]",
      "text/plain": [
       "<Figure size 432x288 with 2 Axes>"
      ]
     },
     "metadata": {
      "needs_background": "light"
     },
     "output_type": "display_data"
    },
    {
     "name": "stdout",
     "output_type": "stream",
     "text": [
      "**Output for the standard predictions from algorithm**\n",
      "Utility Matrix: [[ 10 -10]\n",
      " [  0   1]]\n",
      "Total gains for the Utility Matrix: 0.9313963210702341\n",
      "Confusion matrix:\n"
     ]
    },
    {
     "data": {
      "image/png": "[encoded data removed]",
      "text/plain": [
       "<Figure size 432x288 with 2 Axes>"
      ]
     },
     "metadata": {
      "needs_background": "light"
     },
     "output_type": "display_data"
    },
    {
     "name": "stdout",
     "output_type": "stream",
     "text": [
      "**Output for the standard predictions mixed expected utility**\n",
      "Utility Matrix: [[ 10 -10]\n",
      " [  0   1]]\n",
      "Total gains for the Utility Matrix: 0.9492753623188406\n",
      "Confusion matrix:\n"
     ]
    },
    {
     "data": {
      "image/png": "[encoded data removed]",
      "text/plain": [
       "<Figure size 432x288 with 2 Axes>"
      ]
     },
     "metadata": {
      "needs_background": "light"
     },
     "output_type": "display_data"
    },
    {
     "name": "stdout",
     "output_type": "stream",
     "text": [
      "**Output for the transducer**\n",
      "Utility Matrix: [[ 10 -10]\n",
      " [  0   1]]\n",
      "Total gains: 0.9545707915273133\n",
      "Confusion matrix:\n"
     ]
    },
    {
     "data": {
      "image/png": "[encoded data removed]",
      "text/plain": [
       "<Figure size 432x288 with 2 Axes>"
      ]
     },
     "metadata": {
      "needs_background": "light"
     },
     "output_type": "display_data"
    },
    {
     "data": {
      "text/plain": [
       "[0.9609810479375697,\n",
       " 0.5823021181716834,\n",
       " 0.5478595317725753,\n",
       " 0.9545707915273133]"
      ]
     },
     "execution_count": 45,
     "metadata": {},
     "output_type": "execute_result"
    }
   ],
   "source": [
    "scores1 = []\n",
    "scores2 = []\n",
    "scores3 = []\n",
    "for i, r in df_scores.iterrows():\n",
    "    s1, s2, s3 = get_utility_scores(df_test2_CNN, r['ums'], verbose=True)\n",
    "    scores1.append(s1)\n",
    "    scores2.append(s2)\n",
    "    scores3.append(s3)\n",
    "scores3"
   ]
  },
  {
   "cell_type": "code",
   "execution_count": 46,
   "id": "6e54ab45",
   "metadata": {},
   "outputs": [
    {
     "data": {
      "text/html": [
       "<div>\n",
       "<style scoped>\n",
       "    .dataframe tbody tr th:only-of-type {\n",
       "        vertical-align: middle;\n",
       "    }\n",
       "\n",
       "    .dataframe tbody tr th {\n",
       "        vertical-align: top;\n",
       "    }\n",
       "\n",
       "    .dataframe thead th {\n",
       "        text-align: right;\n",
       "    }\n",
       "</style>\n",
       "<table border=\"1\" class=\"dataframe\">\n",
       "  <thead>\n",
       "    <tr style=\"text-align: right;\">\n",
       "      <th></th>\n",
       "      <th>ums</th>\n",
       "      <th>CNN_standard</th>\n",
       "      <th>CNN_mixed</th>\n",
       "      <th>CNN_transducer</th>\n",
       "    </tr>\n",
       "  </thead>\n",
       "  <tbody>\n",
       "    <tr>\n",
       "      <th>0</th>\n",
       "      <td>[[1, 0], [0, 1]]</td>\n",
       "      <td>0.959309</td>\n",
       "      <td>0.959309</td>\n",
       "      <td>0.960981</td>\n",
       "    </tr>\n",
       "    <tr>\n",
       "      <th>1</th>\n",
       "      <td>[[1, -10], [0, 10]]</td>\n",
       "      <td>0.575878</td>\n",
       "      <td>0.581090</td>\n",
       "      <td>0.582302</td>\n",
       "    </tr>\n",
       "    <tr>\n",
       "      <th>2</th>\n",
       "      <td>[[1, -100], [0, 100]]</td>\n",
       "      <td>0.536183</td>\n",
       "      <td>0.546435</td>\n",
       "      <td>0.547860</td>\n",
       "    </tr>\n",
       "    <tr>\n",
       "      <th>3</th>\n",
       "      <td>[[10, 0], [-10, 1]]</td>\n",
       "      <td>0.931396</td>\n",
       "      <td>0.949275</td>\n",
       "      <td>0.954571</td>\n",
       "    </tr>\n",
       "  </tbody>\n",
       "</table>\n",
       "</div>"
      ],
      "text/plain": [
       "                     ums  CNN_standard  CNN_mixed  CNN_transducer\n",
       "0       [[1, 0], [0, 1]]      0.959309   0.959309        0.960981\n",
       "1    [[1, -10], [0, 10]]      0.575878   0.581090        0.582302\n",
       "2  [[1, -100], [0, 100]]      0.536183   0.546435        0.547860\n",
       "3    [[10, 0], [-10, 1]]      0.931396   0.949275        0.954571"
      ]
     },
     "execution_count": 46,
     "metadata": {},
     "output_type": "execute_result"
    }
   ],
   "source": [
    "df_scores['CNN_standard'] = scores1\n",
    "df_scores['CNN_mixed'] = scores2\n",
    "df_scores['CNN_transducer'] = scores3\n",
    "\n",
    "df_scores"
   ]
  },
  {
   "cell_type": "markdown",
   "id": "c83cb33d",
   "metadata": {},
   "source": [
    "### Not normalized"
   ]
  },
  {
   "cell_type": "code",
   "execution_count": 47,
   "id": "fd46d42c",
   "metadata": {},
   "outputs": [
    {
     "name": "stdout",
     "output_type": "stream",
     "text": [
      "**Output for the standard predictions from algorithm**\n",
      "Utility Matrix: [[1 0]\n",
      " [0 1]]\n",
      "Total gains for the Utility Matrix: 0.9593088071348941\n",
      "Confusion matrix:\n"
     ]
    },
    {
     "data": {
      "image/png": "[encoded data removed]",
      "text/plain": [
       "<Figure size 432x288 with 2 Axes>"
      ]
     },
     "metadata": {
      "needs_background": "light"
     },
     "output_type": "display_data"
    },
    {
     "name": "stdout",
     "output_type": "stream",
     "text": [
      "**Output for the standard predictions mixed expected utility**\n",
      "Utility Matrix: [[1 0]\n",
      " [0 1]]\n",
      "Total gains for the Utility Matrix: 0.9593088071348941\n",
      "Confusion matrix:\n"
     ]
    },
    {
     "data": {
      "image/png": "[encoded data removed]",
      "text/plain": [
       "<Figure size 432x288 with 2 Axes>"
      ]
     },
     "metadata": {
      "needs_background": "light"
     },
     "output_type": "display_data"
    },
    {
     "name": "stdout",
     "output_type": "stream",
     "text": [
      "**Output for the transducer**\n",
      "Utility Matrix: [[1 0]\n",
      " [0 1]]\n",
      "Total gains: 0.9609810479375697\n",
      "Confusion matrix:\n"
     ]
    },
    {
     "data": {
      "image/png": "[encoded data removed]",
      "text/plain": [
       "<Figure size 432x288 with 2 Axes>"
      ]
     },
     "metadata": {
      "needs_background": "light"
     },
     "output_type": "display_data"
    },
    {
     "name": "stdout",
     "output_type": "stream",
     "text": [
      "**Output for the standard predictions from algorithm**\n",
      "Utility Matrix: [[  1   0]\n",
      " [-10  10]]\n",
      "Total gains for the Utility Matrix: 1.5175585284280937\n",
      "Confusion matrix:\n"
     ]
    },
    {
     "data": {
      "image/png": "[encoded data removed]",
      "text/plain": [
       "<Figure size 432x288 with 2 Axes>"
      ]
     },
     "metadata": {
      "needs_background": "light"
     },
     "output_type": "display_data"
    },
    {
     "name": "stdout",
     "output_type": "stream",
     "text": [
      "**Output for the standard predictions mixed expected utility**\n",
      "Utility Matrix: [[  1   0]\n",
      " [-10  10]]\n",
      "Total gains for the Utility Matrix: 1.6217948717948718\n",
      "Confusion matrix:\n"
     ]
    },
    {
     "data": {
      "image/png": "[encoded data removed]",
      "text/plain": [
       "<Figure size 432x288 with 2 Axes>"
      ]
     },
     "metadata": {
      "needs_background": "light"
     },
     "output_type": "display_data"
    },
    {
     "name": "stdout",
     "output_type": "stream",
     "text": [
      "**Output for the transducer**\n",
      "Utility Matrix: [[  1   0]\n",
      " [-10  10]]\n",
      "Total gains: 1.6460423634336678\n",
      "Confusion matrix:\n"
     ]
    },
    {
     "data": {
      "image/png": "[encoded data removed]",
      "text/plain": [
       "<Figure size 432x288 with 2 Axes>"
      ]
     },
     "metadata": {
      "needs_background": "light"
     },
     "output_type": "display_data"
    },
    {
     "name": "stdout",
     "output_type": "stream",
     "text": [
      "**Output for the standard predictions from algorithm**\n",
      "Utility Matrix: [[   1    0]\n",
      " [-100  100]]\n",
      "Total gains for the Utility Matrix: 7.236622073578595\n",
      "Confusion matrix:\n"
     ]
    },
    {
     "data": {
      "image/png": "[encoded data removed]",
      "text/plain": [
       "<Figure size 432x288 with 2 Axes>"
      ]
     },
     "metadata": {
      "needs_background": "light"
     },
     "output_type": "display_data"
    },
    {
     "name": "stdout",
     "output_type": "stream",
     "text": [
      "**Output for the standard predictions mixed expected utility**\n",
      "Utility Matrix: [[   1    0]\n",
      " [-100  100]]\n",
      "Total gains for the Utility Matrix: 9.287068004459309\n",
      "Confusion matrix:\n"
     ]
    },
    {
     "data": {
      "image/png": "[encoded data removed]",
      "text/plain": [
       "<Figure size 432x288 with 2 Axes>"
      ]
     },
     "metadata": {
      "needs_background": "light"
     },
     "output_type": "display_data"
    },
    {
     "name": "stdout",
     "output_type": "stream",
     "text": [
      "**Output for the transducer**\n",
      "Utility Matrix: [[   1    0]\n",
      " [-100  100]]\n",
      "Total gains: 9.57190635451505\n",
      "Confusion matrix:\n"
     ]
    },
    {
     "data": {
      "image/png": "[encoded data removed]",
      "text/plain": [
       "<Figure size 432x288 with 2 Axes>"
      ]
     },
     "metadata": {
      "needs_background": "light"
     },
     "output_type": "display_data"
    },
    {
     "name": "stdout",
     "output_type": "stream",
     "text": [
      "**Output for the standard predictions from algorithm**\n",
      "Utility Matrix: [[ 10 -10]\n",
      " [  0   1]]\n",
      "Total gains for the Utility Matrix: 8.627926421404682\n",
      "Confusion matrix:\n"
     ]
    },
    {
     "data": {
      "image/png": "[encoded data removed]",
      "text/plain": [
       "<Figure size 432x288 with 2 Axes>"
      ]
     },
     "metadata": {
      "needs_background": "light"
     },
     "output_type": "display_data"
    },
    {
     "name": "stdout",
     "output_type": "stream",
     "text": [
      "**Output for the standard predictions mixed expected utility**\n",
      "Utility Matrix: [[ 10 -10]\n",
      " [  0   1]]\n",
      "Total gains for the Utility Matrix: 8.985507246376812\n",
      "Confusion matrix:\n"
     ]
    },
    {
     "data": {
      "image/png": "[encoded data removed]",
      "text/plain": [
       "<Figure size 432x288 with 2 Axes>"
      ]
     },
     "metadata": {
      "needs_background": "light"
     },
     "output_type": "display_data"
    },
    {
     "name": "stdout",
     "output_type": "stream",
     "text": [
      "**Output for the transducer**\n",
      "Utility Matrix: [[ 10 -10]\n",
      " [  0   1]]\n",
      "Total gains: 9.091415830546266\n",
      "Confusion matrix:\n"
     ]
    },
    {
     "data": {
      "image/png": "[encoded data removed]",
      "text/plain": [
       "<Figure size 432x288 with 2 Axes>"
      ]
     },
     "metadata": {
      "needs_background": "light"
     },
     "output_type": "display_data"
    },
    {
     "data": {
      "text/plain": [
       "[0.9609810479375697, 1.6460423634336678, 9.57190635451505, 9.091415830546266]"
      ]
     },
     "execution_count": 47,
     "metadata": {},
     "output_type": "execute_result"
    }
   ],
   "source": [
    "scores1 = []\n",
    "scores2 = []\n",
    "scores3 = []\n",
    "for i, r in df_scores.iterrows():\n",
    "    s1, s2, s3 = get_utility_scores(df_test2_CNN, r['ums'], verbose=True, normalize=False)\n",
    "    scores1.append(s1)\n",
    "    scores2.append(s2)\n",
    "    scores3.append(s3)\n",
    "scores3"
   ]
  },
  {
   "cell_type": "code",
   "execution_count": 48,
   "id": "0d1b82fe",
   "metadata": {},
   "outputs": [
    {
     "data": {
      "text/html": [
       "<div>\n",
       "<style scoped>\n",
       "    .dataframe tbody tr th:only-of-type {\n",
       "        vertical-align: middle;\n",
       "    }\n",
       "\n",
       "    .dataframe tbody tr th {\n",
       "        vertical-align: top;\n",
       "    }\n",
       "\n",
       "    .dataframe thead th {\n",
       "        text-align: right;\n",
       "    }\n",
       "</style>\n",
       "<table border=\"1\" class=\"dataframe\">\n",
       "  <thead>\n",
       "    <tr style=\"text-align: right;\">\n",
       "      <th></th>\n",
       "      <th>ums</th>\n",
       "      <th>CNN_standard</th>\n",
       "      <th>CNN_mixed</th>\n",
       "      <th>CNN_transducer</th>\n",
       "      <th>CNN_standard_max</th>\n",
       "      <th>CNN_mixed_max</th>\n",
       "      <th>CNN_transducer_max</th>\n",
       "    </tr>\n",
       "  </thead>\n",
       "  <tbody>\n",
       "    <tr>\n",
       "      <th>0</th>\n",
       "      <td>[[1, 0], [0, 1]]</td>\n",
       "      <td>0.959309</td>\n",
       "      <td>0.959309</td>\n",
       "      <td>0.960981</td>\n",
       "      <td>0.959309</td>\n",
       "      <td>0.959309</td>\n",
       "      <td>0.960981</td>\n",
       "    </tr>\n",
       "    <tr>\n",
       "      <th>1</th>\n",
       "      <td>[[1, -10], [0, 10]]</td>\n",
       "      <td>0.575878</td>\n",
       "      <td>0.581090</td>\n",
       "      <td>0.582302</td>\n",
       "      <td>1.517559</td>\n",
       "      <td>1.621795</td>\n",
       "      <td>1.646042</td>\n",
       "    </tr>\n",
       "    <tr>\n",
       "      <th>2</th>\n",
       "      <td>[[1, -100], [0, 100]]</td>\n",
       "      <td>0.536183</td>\n",
       "      <td>0.546435</td>\n",
       "      <td>0.547860</td>\n",
       "      <td>7.236622</td>\n",
       "      <td>9.287068</td>\n",
       "      <td>9.571906</td>\n",
       "    </tr>\n",
       "    <tr>\n",
       "      <th>3</th>\n",
       "      <td>[[10, 0], [-10, 1]]</td>\n",
       "      <td>0.931396</td>\n",
       "      <td>0.949275</td>\n",
       "      <td>0.954571</td>\n",
       "      <td>8.627926</td>\n",
       "      <td>8.985507</td>\n",
       "      <td>9.091416</td>\n",
       "    </tr>\n",
       "  </tbody>\n",
       "</table>\n",
       "</div>"
      ],
      "text/plain": [
       "                     ums  CNN_standard  CNN_mixed  CNN_transducer  \\\n",
       "0       [[1, 0], [0, 1]]      0.959309   0.959309        0.960981   \n",
       "1    [[1, -10], [0, 10]]      0.575878   0.581090        0.582302   \n",
       "2  [[1, -100], [0, 100]]      0.536183   0.546435        0.547860   \n",
       "3    [[10, 0], [-10, 1]]      0.931396   0.949275        0.954571   \n",
       "\n",
       "   CNN_standard_max  CNN_mixed_max  CNN_transducer_max  \n",
       "0          0.959309       0.959309            0.960981  \n",
       "1          1.517559       1.621795            1.646042  \n",
       "2          7.236622       9.287068            9.571906  \n",
       "3          8.627926       8.985507            9.091416  "
      ]
     },
     "execution_count": 48,
     "metadata": {},
     "output_type": "execute_result"
    }
   ],
   "source": [
    "df_scores['CNN_standard_max'] = scores1\n",
    "df_scores['CNN_mixed_max'] = scores2\n",
    "df_scores['CNN_transducer_max'] = scores3\n",
    "df_scores"
   ]
  },
  {
   "cell_type": "code",
   "execution_count": 49,
   "id": "26cc1218",
   "metadata": {},
   "outputs": [
    {
     "data": {
      "text/html": [
       "<style type=\"text/css\">\n",
       "#T_b2186_row0_col3, #T_b2186_row1_col3, #T_b2186_row2_col3, #T_b2186_row3_col3 {\n",
       "  background-color: lightgreen;\n",
       "}\n",
       "#T_b2186_row0_col6, #T_b2186_row1_col6, #T_b2186_row2_col6, #T_b2186_row3_col6 {\n",
       "  background-color: lightblue;\n",
       "}\n",
       "</style>\n",
       "<table id=\"T_b2186_\">\n",
       "  <thead>\n",
       "    <tr>\n",
       "      <th class=\"blank level0\" >&nbsp;</th>\n",
       "      <th class=\"col_heading level0 col0\" >ums</th>\n",
       "      <th class=\"col_heading level0 col1\" >CNN_standard</th>\n",
       "      <th class=\"col_heading level0 col2\" >CNN_mixed</th>\n",
       "      <th class=\"col_heading level0 col3\" >CNN_transducer</th>\n",
       "      <th class=\"col_heading level0 col4\" >CNN_standard_max</th>\n",
       "      <th class=\"col_heading level0 col5\" >CNN_mixed_max</th>\n",
       "      <th class=\"col_heading level0 col6\" >CNN_transducer_max</th>\n",
       "    </tr>\n",
       "  </thead>\n",
       "  <tbody>\n",
       "    <tr>\n",
       "      <th id=\"T_b2186_level0_row0\" class=\"row_heading level0 row0\" >0</th>\n",
       "      <td id=\"T_b2186_row0_col0\" class=\"data row0 col0\" >[[1, 0], [0, 1]]</td>\n",
       "      <td id=\"T_b2186_row0_col1\" class=\"data row0 col1\" >0.959</td>\n",
       "      <td id=\"T_b2186_row0_col2\" class=\"data row0 col2\" >0.959</td>\n",
       "      <td id=\"T_b2186_row0_col3\" class=\"data row0 col3\" >0.961</td>\n",
       "      <td id=\"T_b2186_row0_col4\" class=\"data row0 col4\" >0.959</td>\n",
       "      <td id=\"T_b2186_row0_col5\" class=\"data row0 col5\" >0.959</td>\n",
       "      <td id=\"T_b2186_row0_col6\" class=\"data row0 col6\" >0.961</td>\n",
       "    </tr>\n",
       "    <tr>\n",
       "      <th id=\"T_b2186_level0_row1\" class=\"row_heading level0 row1\" >1</th>\n",
       "      <td id=\"T_b2186_row1_col0\" class=\"data row1 col0\" >[[1, -10], [0, 10]]</td>\n",
       "      <td id=\"T_b2186_row1_col1\" class=\"data row1 col1\" >0.576</td>\n",
       "      <td id=\"T_b2186_row1_col2\" class=\"data row1 col2\" >0.581</td>\n",
       "      <td id=\"T_b2186_row1_col3\" class=\"data row1 col3\" >0.582</td>\n",
       "      <td id=\"T_b2186_row1_col4\" class=\"data row1 col4\" >1.518</td>\n",
       "      <td id=\"T_b2186_row1_col5\" class=\"data row1 col5\" >1.622</td>\n",
       "      <td id=\"T_b2186_row1_col6\" class=\"data row1 col6\" >1.646</td>\n",
       "    </tr>\n",
       "    <tr>\n",
       "      <th id=\"T_b2186_level0_row2\" class=\"row_heading level0 row2\" >2</th>\n",
       "      <td id=\"T_b2186_row2_col0\" class=\"data row2 col0\" >[[1, -100], [0, 100]]</td>\n",
       "      <td id=\"T_b2186_row2_col1\" class=\"data row2 col1\" >0.536</td>\n",
       "      <td id=\"T_b2186_row2_col2\" class=\"data row2 col2\" >0.546</td>\n",
       "      <td id=\"T_b2186_row2_col3\" class=\"data row2 col3\" >0.548</td>\n",
       "      <td id=\"T_b2186_row2_col4\" class=\"data row2 col4\" >7.237</td>\n",
       "      <td id=\"T_b2186_row2_col5\" class=\"data row2 col5\" >9.287</td>\n",
       "      <td id=\"T_b2186_row2_col6\" class=\"data row2 col6\" >9.572</td>\n",
       "    </tr>\n",
       "    <tr>\n",
       "      <th id=\"T_b2186_level0_row3\" class=\"row_heading level0 row3\" >3</th>\n",
       "      <td id=\"T_b2186_row3_col0\" class=\"data row3 col0\" >[[10, 0], [-10, 1]]</td>\n",
       "      <td id=\"T_b2186_row3_col1\" class=\"data row3 col1\" >0.931</td>\n",
       "      <td id=\"T_b2186_row3_col2\" class=\"data row3 col2\" >0.949</td>\n",
       "      <td id=\"T_b2186_row3_col3\" class=\"data row3 col3\" >0.955</td>\n",
       "      <td id=\"T_b2186_row3_col4\" class=\"data row3 col4\" >8.628</td>\n",
       "      <td id=\"T_b2186_row3_col5\" class=\"data row3 col5\" >8.986</td>\n",
       "      <td id=\"T_b2186_row3_col6\" class=\"data row3 col6\" >9.091</td>\n",
       "    </tr>\n",
       "  </tbody>\n",
       "</table>\n"
      ],
      "text/plain": [
       "<pandas.io.formats.style.Styler at 0x7f9b13083410>"
      ]
     },
     "execution_count": 49,
     "metadata": {},
     "output_type": "execute_result"
    }
   ],
   "source": [
    "df_scores.style.\\\n",
    "        format(precision=3).\\\n",
    "        highlight_max(color='lightgreen', subset=df_scores.columns[1:4], axis=1).\\\n",
    "        highlight_max(color='lightblue', subset=df_scores.columns[4:], axis=1)\n",
    "        #highlight_max(color='lightyellow', subset=df_scores.columns[7:], axis=1)\n"
   ]
  },
  {
   "cell_type": "code",
   "execution_count": null,
   "id": "7545df25",
   "metadata": {},
   "outputs": [],
   "source": []
  },
  {
   "cell_type": "markdown",
   "id": "a6c78db8",
   "metadata": {},
   "source": [
    "### Add Cost-sensitive model"
   ]
  },
  {
   "cell_type": "code",
   "execution_count": 28,
   "id": "3949e3b0",
   "metadata": {},
   "outputs": [],
   "source": [
    "df_test2_CS = pd.read_csv(DATA/'CNN_CS_loss_test2.csv')"
   ]
  },
  {
   "cell_type": "code",
   "execution_count": 29,
   "id": "f578531b",
   "metadata": {},
   "outputs": [
    {
     "data": {
      "text/html": [
       "<div>\n",
       "<style scoped>\n",
       "    .dataframe tbody tr th:only-of-type {\n",
       "        vertical-align: middle;\n",
       "    }\n",
       "\n",
       "    .dataframe tbody tr th {\n",
       "        vertical-align: top;\n",
       "    }\n",
       "\n",
       "    .dataframe thead th {\n",
       "        text-align: right;\n",
       "    }\n",
       "</style>\n",
       "<table border=\"1\" class=\"dataframe\">\n",
       "  <thead>\n",
       "    <tr style=\"text-align: right;\">\n",
       "      <th></th>\n",
       "      <th>class</th>\n",
       "      <th>pred_um1</th>\n",
       "      <th>pred_um2</th>\n",
       "      <th>pred_um3</th>\n",
       "      <th>pred_um4</th>\n",
       "      <th>pred_um5</th>\n",
       "      <th>pred_um6</th>\n",
       "      <th>pred_um7</th>\n",
       "      <th>pred_um8</th>\n",
       "      <th>pred_um9</th>\n",
       "      <th>pred_um10</th>\n",
       "      <th>pred_um11</th>\n",
       "      <th>pred_um12</th>\n",
       "      <th>pred_um13</th>\n",
       "      <th>pred_um14</th>\n",
       "      <th>pred_um15</th>\n",
       "    </tr>\n",
       "  </thead>\n",
       "  <tbody>\n",
       "    <tr>\n",
       "      <th>0</th>\n",
       "      <td>0</td>\n",
       "      <td>[0.97661906 0.0111127 ]</td>\n",
       "      <td>[0.94917387 0.04463243]</td>\n",
       "      <td>[0.7171942  0.31330645]</td>\n",
       "      <td>[0.9843002  0.00847411]</td>\n",
       "      <td>[0.9145431 0.0901518]</td>\n",
       "      <td>[0.78320813 0.17060214]</td>\n",
       "      <td>[0.98369575 0.0468426 ]</td>\n",
       "      <td>[0.99487054 0.02101552]</td>\n",
       "      <td>[0.9941069  0.01856612]</td>\n",
       "      <td>[0.9444596 0.0648237]</td>\n",
       "      <td>[0.95143163 0.02702073]</td>\n",
       "      <td>[0.94760525 0.1339803 ]</td>\n",
       "      <td>[0.92992324 0.1718466 ]</td>\n",
       "      <td>[0.9855479  0.01165897]</td>\n",
       "      <td>[0.7466417  0.15343355]</td>\n",
       "    </tr>\n",
       "    <tr>\n",
       "      <th>1</th>\n",
       "      <td>0</td>\n",
       "      <td>[0.9981341  0.00117332]</td>\n",
       "      <td>[0.9861733  0.01402404]</td>\n",
       "      <td>[0.9928934  0.00393965]</td>\n",
       "      <td>[0.9776924  0.01049647]</td>\n",
       "      <td>[0.9865953  0.01231423]</td>\n",
       "      <td>[0.9930335  0.01160094]</td>\n",
       "      <td>[0.9935597  0.00672642]</td>\n",
       "      <td>[0.9973001  0.01140507]</td>\n",
       "      <td>[0.997145   0.00653503]</td>\n",
       "      <td>[0.99035794 0.01116317]</td>\n",
       "      <td>[0.99027514 0.0078122 ]</td>\n",
       "      <td>[0.97382396 0.04402433]</td>\n",
       "      <td>[0.9929431  0.02474658]</td>\n",
       "      <td>[9.990683e-01 9.792164e-04]</td>\n",
       "      <td>[0.98346    0.01062883]</td>\n",
       "    </tr>\n",
       "    <tr>\n",
       "      <th>2</th>\n",
       "      <td>0</td>\n",
       "      <td>[9.9975938e-01 1.7769024e-04]</td>\n",
       "      <td>[0.998412   0.00116792]</td>\n",
       "      <td>[9.9967206e-01 4.5852657e-04]</td>\n",
       "      <td>[9.994134e-01 7.175277e-04]</td>\n",
       "      <td>[0.99469155 0.00347157]</td>\n",
       "      <td>[0.99133015 0.00953034]</td>\n",
       "      <td>[9.9978060e-01 1.5728366e-04]</td>\n",
       "      <td>[0.99856263 0.00687149]</td>\n",
       "      <td>[0.9998858  0.00142944]</td>\n",
       "      <td>[0.99764377 0.0043822 ]</td>\n",
       "      <td>[0.9969919  0.00161885]</td>\n",
       "      <td>[0.99432725 0.00804781]</td>\n",
       "      <td>[0.9976272  0.00381821]</td>\n",
       "      <td>[9.9969804e-01 1.4555233e-04]</td>\n",
       "      <td>[0.9938937  0.00428178]</td>\n",
       "    </tr>\n",
       "    <tr>\n",
       "      <th>3</th>\n",
       "      <td>0</td>\n",
       "      <td>[9.990115e-01 7.346845e-04]</td>\n",
       "      <td>[9.993293e-01 7.536346e-04]</td>\n",
       "      <td>[0.9968088  0.00255448]</td>\n",
       "      <td>[0.9846784  0.00673459]</td>\n",
       "      <td>[0.99429    0.00582641]</td>\n",
       "      <td>[0.9956031  0.00629928]</td>\n",
       "      <td>[0.99919957 0.00122478]</td>\n",
       "      <td>[0.9973502  0.00827719]</td>\n",
       "      <td>[0.99935836 0.00247604]</td>\n",
       "      <td>[0.9933488  0.01155344]</td>\n",
       "      <td>[0.9916889  0.01182056]</td>\n",
       "      <td>[0.99294853 0.02502685]</td>\n",
       "      <td>[0.995565   0.00845183]</td>\n",
       "      <td>[0.99611914 0.00363934]</td>\n",
       "      <td>[0.99563736 0.00285478]</td>\n",
       "    </tr>\n",
       "    <tr>\n",
       "      <th>4</th>\n",
       "      <td>1</td>\n",
       "      <td>[0.02032536 0.9665286 ]</td>\n",
       "      <td>[0.03184715 0.95556325]</td>\n",
       "      <td>[0.00420866 0.9967181 ]</td>\n",
       "      <td>[0.04752765 0.9571476 ]</td>\n",
       "      <td>[0.07324732 0.8965421 ]</td>\n",
       "      <td>[0.03229338 0.9715555 ]</td>\n",
       "      <td>[0.0527445  0.94935584]</td>\n",
       "      <td>[0.08429085 0.97633684]</td>\n",
       "      <td>[0.07859739 0.9544279 ]</td>\n",
       "      <td>[0.01222073 0.98635966]</td>\n",
       "      <td>[0.03319311 0.90294194]</td>\n",
       "      <td>[0.15405147 0.90844566]</td>\n",
       "      <td>[0.01711109 0.988811  ]</td>\n",
       "      <td>[0.11780601 0.88821244]</td>\n",
       "      <td>[0.03007631 0.90666366]</td>\n",
       "    </tr>\n",
       "  </tbody>\n",
       "</table>\n",
       "</div>"
      ],
      "text/plain": [
       "   class                       pred_um1                     pred_um2  \\\n",
       "0      0        [0.97661906 0.0111127 ]      [0.94917387 0.04463243]   \n",
       "1      0        [0.9981341  0.00117332]      [0.9861733  0.01402404]   \n",
       "2      0  [9.9975938e-01 1.7769024e-04]      [0.998412   0.00116792]   \n",
       "3      0    [9.990115e-01 7.346845e-04]  [9.993293e-01 7.536346e-04]   \n",
       "4      1        [0.02032536 0.9665286 ]      [0.03184715 0.95556325]   \n",
       "\n",
       "                        pred_um3                     pred_um4  \\\n",
       "0        [0.7171942  0.31330645]      [0.9843002  0.00847411]   \n",
       "1        [0.9928934  0.00393965]      [0.9776924  0.01049647]   \n",
       "2  [9.9967206e-01 4.5852657e-04]  [9.994134e-01 7.175277e-04]   \n",
       "3        [0.9968088  0.00255448]      [0.9846784  0.00673459]   \n",
       "4        [0.00420866 0.9967181 ]      [0.04752765 0.9571476 ]   \n",
       "\n",
       "                  pred_um5                 pred_um6  \\\n",
       "0    [0.9145431 0.0901518]  [0.78320813 0.17060214]   \n",
       "1  [0.9865953  0.01231423]  [0.9930335  0.01160094]   \n",
       "2  [0.99469155 0.00347157]  [0.99133015 0.00953034]   \n",
       "3  [0.99429    0.00582641]  [0.9956031  0.00629928]   \n",
       "4  [0.07324732 0.8965421 ]  [0.03229338 0.9715555 ]   \n",
       "\n",
       "                        pred_um7                 pred_um8  \\\n",
       "0        [0.98369575 0.0468426 ]  [0.99487054 0.02101552]   \n",
       "1        [0.9935597  0.00672642]  [0.9973001  0.01140507]   \n",
       "2  [9.9978060e-01 1.5728366e-04]  [0.99856263 0.00687149]   \n",
       "3        [0.99919957 0.00122478]  [0.9973502  0.00827719]   \n",
       "4        [0.0527445  0.94935584]  [0.08429085 0.97633684]   \n",
       "\n",
       "                  pred_um9                pred_um10                pred_um11  \\\n",
       "0  [0.9941069  0.01856612]    [0.9444596 0.0648237]  [0.95143163 0.02702073]   \n",
       "1  [0.997145   0.00653503]  [0.99035794 0.01116317]  [0.99027514 0.0078122 ]   \n",
       "2  [0.9998858  0.00142944]  [0.99764377 0.0043822 ]  [0.9969919  0.00161885]   \n",
       "3  [0.99935836 0.00247604]  [0.9933488  0.01155344]  [0.9916889  0.01182056]   \n",
       "4  [0.07859739 0.9544279 ]  [0.01222073 0.98635966]  [0.03319311 0.90294194]   \n",
       "\n",
       "                 pred_um12                pred_um13  \\\n",
       "0  [0.94760525 0.1339803 ]  [0.92992324 0.1718466 ]   \n",
       "1  [0.97382396 0.04402433]  [0.9929431  0.02474658]   \n",
       "2  [0.99432725 0.00804781]  [0.9976272  0.00381821]   \n",
       "3  [0.99294853 0.02502685]  [0.995565   0.00845183]   \n",
       "4  [0.15405147 0.90844566]  [0.01711109 0.988811  ]   \n",
       "\n",
       "                       pred_um14                pred_um15  \n",
       "0        [0.9855479  0.01165897]  [0.7466417  0.15343355]  \n",
       "1    [9.990683e-01 9.792164e-04]  [0.98346    0.01062883]  \n",
       "2  [9.9969804e-01 1.4555233e-04]  [0.9938937  0.00428178]  \n",
       "3        [0.99611914 0.00363934]  [0.99563736 0.00285478]  \n",
       "4        [0.11780601 0.88821244]  [0.03007631 0.90666366]  "
      ]
     },
     "execution_count": 29,
     "metadata": {},
     "output_type": "execute_result"
    }
   ],
   "source": [
    "df_test2_CS.head()"
   ]
  },
  {
   "cell_type": "code",
   "execution_count": 30,
   "id": "afbecb47",
   "metadata": {},
   "outputs": [],
   "source": [
    "for col in df_test2_CS.columns[1:]:\n",
    "    df_test2_CS[col] = [get_substring_list(r[col].split(' '))  for i, r in df_test2_CS.iterrows()]"
   ]
  },
  {
   "cell_type": "code",
   "execution_count": 31,
   "id": "b3600c58",
   "metadata": {},
   "outputs": [
    {
     "data": {
      "text/html": [
       "<div>\n",
       "<style scoped>\n",
       "    .dataframe tbody tr th:only-of-type {\n",
       "        vertical-align: middle;\n",
       "    }\n",
       "\n",
       "    .dataframe tbody tr th {\n",
       "        vertical-align: top;\n",
       "    }\n",
       "\n",
       "    .dataframe thead th {\n",
       "        text-align: right;\n",
       "    }\n",
       "</style>\n",
       "<table border=\"1\" class=\"dataframe\">\n",
       "  <thead>\n",
       "    <tr style=\"text-align: right;\">\n",
       "      <th></th>\n",
       "      <th>class</th>\n",
       "      <th>pred_um1</th>\n",
       "      <th>pred_um2</th>\n",
       "      <th>pred_um3</th>\n",
       "      <th>pred_um4</th>\n",
       "      <th>pred_um5</th>\n",
       "      <th>pred_um6</th>\n",
       "      <th>pred_um7</th>\n",
       "      <th>pred_um8</th>\n",
       "      <th>pred_um9</th>\n",
       "      <th>pred_um10</th>\n",
       "      <th>pred_um11</th>\n",
       "      <th>pred_um12</th>\n",
       "      <th>pred_um13</th>\n",
       "      <th>pred_um14</th>\n",
       "      <th>pred_um15</th>\n",
       "    </tr>\n",
       "  </thead>\n",
       "  <tbody>\n",
       "    <tr>\n",
       "      <th>0</th>\n",
       "      <td>0</td>\n",
       "      <td>[0.97661906, 0.0111127]</td>\n",
       "      <td>[0.94917387, 0.04463243]</td>\n",
       "      <td>[0.7171942, 0.31330645]</td>\n",
       "      <td>[0.9843002, 0.00847411]</td>\n",
       "      <td>[0.9145431, 0.0901518]</td>\n",
       "      <td>[0.78320813, 0.17060214]</td>\n",
       "      <td>[0.98369575, 0.0468426]</td>\n",
       "      <td>[0.99487054, 0.02101552]</td>\n",
       "      <td>[0.9941069, 0.01856612]</td>\n",
       "      <td>[0.9444596, 0.0648237]</td>\n",
       "      <td>[0.95143163, 0.02702073]</td>\n",
       "      <td>[0.94760525, 0.1339803]</td>\n",
       "      <td>[0.92992324, 0.1718466]</td>\n",
       "      <td>[0.9855479, 0.01165897]</td>\n",
       "      <td>[0.7466417, 0.15343355]</td>\n",
       "    </tr>\n",
       "    <tr>\n",
       "      <th>1</th>\n",
       "      <td>0</td>\n",
       "      <td>[0.9981341, 0.00117332]</td>\n",
       "      <td>[0.9861733, 0.01402404]</td>\n",
       "      <td>[0.9928934, 0.00393965]</td>\n",
       "      <td>[0.9776924, 0.01049647]</td>\n",
       "      <td>[0.9865953, 0.01231423]</td>\n",
       "      <td>[0.9930335, 0.01160094]</td>\n",
       "      <td>[0.9935597, 0.00672642]</td>\n",
       "      <td>[0.9973001, 0.01140507]</td>\n",
       "      <td>[0.997145, 0.00653503]</td>\n",
       "      <td>[0.99035794, 0.01116317]</td>\n",
       "      <td>[0.99027514, 0.0078122]</td>\n",
       "      <td>[0.97382396, 0.04402433]</td>\n",
       "      <td>[0.9929431, 0.02474658]</td>\n",
       "      <td>[0.9990683, 0.0009792164]</td>\n",
       "      <td>[0.98346, 0.01062883]</td>\n",
       "    </tr>\n",
       "    <tr>\n",
       "      <th>2</th>\n",
       "      <td>0</td>\n",
       "      <td>[0.99975938, 0.00017769024]</td>\n",
       "      <td>[0.998412, 0.00116792]</td>\n",
       "      <td>[0.99967206, 0.00045852657]</td>\n",
       "      <td>[0.9994134, 0.0007175277]</td>\n",
       "      <td>[0.99469155, 0.00347157]</td>\n",
       "      <td>[0.99133015, 0.00953034]</td>\n",
       "      <td>[0.9997806, 0.00015728366]</td>\n",
       "      <td>[0.99856263, 0.00687149]</td>\n",
       "      <td>[0.9998858, 0.00142944]</td>\n",
       "      <td>[0.99764377, 0.0043822]</td>\n",
       "      <td>[0.9969919, 0.00161885]</td>\n",
       "      <td>[0.99432725, 0.00804781]</td>\n",
       "      <td>[0.9976272, 0.00381821]</td>\n",
       "      <td>[0.99969804, 0.00014555233]</td>\n",
       "      <td>[0.9938937, 0.00428178]</td>\n",
       "    </tr>\n",
       "    <tr>\n",
       "      <th>3</th>\n",
       "      <td>0</td>\n",
       "      <td>[0.9990115, 0.0007346845]</td>\n",
       "      <td>[0.9993293, 0.0007536346]</td>\n",
       "      <td>[0.9968088, 0.00255448]</td>\n",
       "      <td>[0.9846784, 0.00673459]</td>\n",
       "      <td>[0.99429, 0.00582641]</td>\n",
       "      <td>[0.9956031, 0.00629928]</td>\n",
       "      <td>[0.99919957, 0.00122478]</td>\n",
       "      <td>[0.9973502, 0.00827719]</td>\n",
       "      <td>[0.99935836, 0.00247604]</td>\n",
       "      <td>[0.9933488, 0.01155344]</td>\n",
       "      <td>[0.9916889, 0.01182056]</td>\n",
       "      <td>[0.99294853, 0.02502685]</td>\n",
       "      <td>[0.995565, 0.00845183]</td>\n",
       "      <td>[0.99611914, 0.00363934]</td>\n",
       "      <td>[0.99563736, 0.00285478]</td>\n",
       "    </tr>\n",
       "    <tr>\n",
       "      <th>4</th>\n",
       "      <td>1</td>\n",
       "      <td>[0.02032536, 0.9665286]</td>\n",
       "      <td>[0.03184715, 0.95556325]</td>\n",
       "      <td>[0.00420866, 0.9967181]</td>\n",
       "      <td>[0.04752765, 0.9571476]</td>\n",
       "      <td>[0.07324732, 0.8965421]</td>\n",
       "      <td>[0.03229338, 0.9715555]</td>\n",
       "      <td>[0.0527445, 0.94935584]</td>\n",
       "      <td>[0.08429085, 0.97633684]</td>\n",
       "      <td>[0.07859739, 0.9544279]</td>\n",
       "      <td>[0.01222073, 0.98635966]</td>\n",
       "      <td>[0.03319311, 0.90294194]</td>\n",
       "      <td>[0.15405147, 0.90844566]</td>\n",
       "      <td>[0.01711109, 0.988811]</td>\n",
       "      <td>[0.11780601, 0.88821244]</td>\n",
       "      <td>[0.03007631, 0.90666366]</td>\n",
       "    </tr>\n",
       "  </tbody>\n",
       "</table>\n",
       "</div>"
      ],
      "text/plain": [
       "   class                     pred_um1                   pred_um2  \\\n",
       "0      0      [0.97661906, 0.0111127]   [0.94917387, 0.04463243]   \n",
       "1      0      [0.9981341, 0.00117332]    [0.9861733, 0.01402404]   \n",
       "2      0  [0.99975938, 0.00017769024]     [0.998412, 0.00116792]   \n",
       "3      0    [0.9990115, 0.0007346845]  [0.9993293, 0.0007536346]   \n",
       "4      1      [0.02032536, 0.9665286]   [0.03184715, 0.95556325]   \n",
       "\n",
       "                      pred_um3                   pred_um4  \\\n",
       "0      [0.7171942, 0.31330645]    [0.9843002, 0.00847411]   \n",
       "1      [0.9928934, 0.00393965]    [0.9776924, 0.01049647]   \n",
       "2  [0.99967206, 0.00045852657]  [0.9994134, 0.0007175277]   \n",
       "3      [0.9968088, 0.00255448]    [0.9846784, 0.00673459]   \n",
       "4      [0.00420866, 0.9967181]    [0.04752765, 0.9571476]   \n",
       "\n",
       "                   pred_um5                  pred_um6  \\\n",
       "0    [0.9145431, 0.0901518]  [0.78320813, 0.17060214]   \n",
       "1   [0.9865953, 0.01231423]   [0.9930335, 0.01160094]   \n",
       "2  [0.99469155, 0.00347157]  [0.99133015, 0.00953034]   \n",
       "3     [0.99429, 0.00582641]   [0.9956031, 0.00629928]   \n",
       "4   [0.07324732, 0.8965421]   [0.03229338, 0.9715555]   \n",
       "\n",
       "                     pred_um7                  pred_um8  \\\n",
       "0     [0.98369575, 0.0468426]  [0.99487054, 0.02101552]   \n",
       "1     [0.9935597, 0.00672642]   [0.9973001, 0.01140507]   \n",
       "2  [0.9997806, 0.00015728366]  [0.99856263, 0.00687149]   \n",
       "3    [0.99919957, 0.00122478]   [0.9973502, 0.00827719]   \n",
       "4     [0.0527445, 0.94935584]  [0.08429085, 0.97633684]   \n",
       "\n",
       "                   pred_um9                 pred_um10  \\\n",
       "0   [0.9941069, 0.01856612]    [0.9444596, 0.0648237]   \n",
       "1    [0.997145, 0.00653503]  [0.99035794, 0.01116317]   \n",
       "2   [0.9998858, 0.00142944]   [0.99764377, 0.0043822]   \n",
       "3  [0.99935836, 0.00247604]   [0.9933488, 0.01155344]   \n",
       "4   [0.07859739, 0.9544279]  [0.01222073, 0.98635966]   \n",
       "\n",
       "                  pred_um11                 pred_um12  \\\n",
       "0  [0.95143163, 0.02702073]   [0.94760525, 0.1339803]   \n",
       "1   [0.99027514, 0.0078122]  [0.97382396, 0.04402433]   \n",
       "2   [0.9969919, 0.00161885]  [0.99432725, 0.00804781]   \n",
       "3   [0.9916889, 0.01182056]  [0.99294853, 0.02502685]   \n",
       "4  [0.03319311, 0.90294194]  [0.15405147, 0.90844566]   \n",
       "\n",
       "                 pred_um13                    pred_um14  \\\n",
       "0  [0.92992324, 0.1718466]      [0.9855479, 0.01165897]   \n",
       "1  [0.9929431, 0.02474658]    [0.9990683, 0.0009792164]   \n",
       "2  [0.9976272, 0.00381821]  [0.99969804, 0.00014555233]   \n",
       "3   [0.995565, 0.00845183]     [0.99611914, 0.00363934]   \n",
       "4   [0.01711109, 0.988811]     [0.11780601, 0.88821244]   \n",
       "\n",
       "                  pred_um15  \n",
       "0   [0.7466417, 0.15343355]  \n",
       "1     [0.98346, 0.01062883]  \n",
       "2   [0.9938937, 0.00428178]  \n",
       "3  [0.99563736, 0.00285478]  \n",
       "4  [0.03007631, 0.90666366]  "
      ]
     },
     "execution_count": 31,
     "metadata": {},
     "output_type": "execute_result"
    }
   ],
   "source": [
    "df_test2_CS.head()"
   ]
  },
  {
   "cell_type": "code",
   "execution_count": 32,
   "id": "309de8a4",
   "metadata": {},
   "outputs": [],
   "source": [
    "for col in df_test2_CS.columns[1:]:\n",
    "    df_test2_CS[f'{col}_0'] = [r[col][0] for i, r in df_test2_CS.iterrows()]\n",
    "    df_test2_CS[f'{col}_1'] = [r[col][1] for i, r in df_test2_CS.iterrows()]"
   ]
  },
  {
   "cell_type": "code",
   "execution_count": 33,
   "id": "ef2409b5",
   "metadata": {
    "scrolled": true
   },
   "outputs": [
    {
     "data": {
      "text/html": [
       "<div>\n",
       "<style scoped>\n",
       "    .dataframe tbody tr th:only-of-type {\n",
       "        vertical-align: middle;\n",
       "    }\n",
       "\n",
       "    .dataframe tbody tr th {\n",
       "        vertical-align: top;\n",
       "    }\n",
       "\n",
       "    .dataframe thead th {\n",
       "        text-align: right;\n",
       "    }\n",
       "</style>\n",
       "<table border=\"1\" class=\"dataframe\">\n",
       "  <thead>\n",
       "    <tr style=\"text-align: right;\">\n",
       "      <th></th>\n",
       "      <th>class</th>\n",
       "      <th>pred_um1</th>\n",
       "      <th>pred_um2</th>\n",
       "      <th>pred_um3</th>\n",
       "      <th>pred_um4</th>\n",
       "      <th>pred_um5</th>\n",
       "      <th>pred_um6</th>\n",
       "      <th>pred_um7</th>\n",
       "      <th>pred_um8</th>\n",
       "      <th>pred_um9</th>\n",
       "      <th>...</th>\n",
       "      <th>pred_um11_0</th>\n",
       "      <th>pred_um11_1</th>\n",
       "      <th>pred_um12_0</th>\n",
       "      <th>pred_um12_1</th>\n",
       "      <th>pred_um13_0</th>\n",
       "      <th>pred_um13_1</th>\n",
       "      <th>pred_um14_0</th>\n",
       "      <th>pred_um14_1</th>\n",
       "      <th>pred_um15_0</th>\n",
       "      <th>pred_um15_1</th>\n",
       "    </tr>\n",
       "  </thead>\n",
       "  <tbody>\n",
       "    <tr>\n",
       "      <th>0</th>\n",
       "      <td>0</td>\n",
       "      <td>[0.97661906, 0.0111127]</td>\n",
       "      <td>[0.94917387, 0.04463243]</td>\n",
       "      <td>[0.7171942, 0.31330645]</td>\n",
       "      <td>[0.9843002, 0.00847411]</td>\n",
       "      <td>[0.9145431, 0.0901518]</td>\n",
       "      <td>[0.78320813, 0.17060214]</td>\n",
       "      <td>[0.98369575, 0.0468426]</td>\n",
       "      <td>[0.99487054, 0.02101552]</td>\n",
       "      <td>[0.9941069, 0.01856612]</td>\n",
       "      <td>...</td>\n",
       "      <td>0.951432</td>\n",
       "      <td>0.027021</td>\n",
       "      <td>0.947605</td>\n",
       "      <td>0.133980</td>\n",
       "      <td>0.929923</td>\n",
       "      <td>0.171847</td>\n",
       "      <td>0.985548</td>\n",
       "      <td>0.011659</td>\n",
       "      <td>0.746642</td>\n",
       "      <td>0.153434</td>\n",
       "    </tr>\n",
       "    <tr>\n",
       "      <th>1</th>\n",
       "      <td>0</td>\n",
       "      <td>[0.9981341, 0.00117332]</td>\n",
       "      <td>[0.9861733, 0.01402404]</td>\n",
       "      <td>[0.9928934, 0.00393965]</td>\n",
       "      <td>[0.9776924, 0.01049647]</td>\n",
       "      <td>[0.9865953, 0.01231423]</td>\n",
       "      <td>[0.9930335, 0.01160094]</td>\n",
       "      <td>[0.9935597, 0.00672642]</td>\n",
       "      <td>[0.9973001, 0.01140507]</td>\n",
       "      <td>[0.997145, 0.00653503]</td>\n",
       "      <td>...</td>\n",
       "      <td>0.990275</td>\n",
       "      <td>0.007812</td>\n",
       "      <td>0.973824</td>\n",
       "      <td>0.044024</td>\n",
       "      <td>0.992943</td>\n",
       "      <td>0.024747</td>\n",
       "      <td>0.999068</td>\n",
       "      <td>0.000979</td>\n",
       "      <td>0.983460</td>\n",
       "      <td>0.010629</td>\n",
       "    </tr>\n",
       "    <tr>\n",
       "      <th>2</th>\n",
       "      <td>0</td>\n",
       "      <td>[0.99975938, 0.00017769024]</td>\n",
       "      <td>[0.998412, 0.00116792]</td>\n",
       "      <td>[0.99967206, 0.00045852657]</td>\n",
       "      <td>[0.9994134, 0.0007175277]</td>\n",
       "      <td>[0.99469155, 0.00347157]</td>\n",
       "      <td>[0.99133015, 0.00953034]</td>\n",
       "      <td>[0.9997806, 0.00015728366]</td>\n",
       "      <td>[0.99856263, 0.00687149]</td>\n",
       "      <td>[0.9998858, 0.00142944]</td>\n",
       "      <td>...</td>\n",
       "      <td>0.996992</td>\n",
       "      <td>0.001619</td>\n",
       "      <td>0.994327</td>\n",
       "      <td>0.008048</td>\n",
       "      <td>0.997627</td>\n",
       "      <td>0.003818</td>\n",
       "      <td>0.999698</td>\n",
       "      <td>0.000146</td>\n",
       "      <td>0.993894</td>\n",
       "      <td>0.004282</td>\n",
       "    </tr>\n",
       "    <tr>\n",
       "      <th>3</th>\n",
       "      <td>0</td>\n",
       "      <td>[0.9990115, 0.0007346845]</td>\n",
       "      <td>[0.9993293, 0.0007536346]</td>\n",
       "      <td>[0.9968088, 0.00255448]</td>\n",
       "      <td>[0.9846784, 0.00673459]</td>\n",
       "      <td>[0.99429, 0.00582641]</td>\n",
       "      <td>[0.9956031, 0.00629928]</td>\n",
       "      <td>[0.99919957, 0.00122478]</td>\n",
       "      <td>[0.9973502, 0.00827719]</td>\n",
       "      <td>[0.99935836, 0.00247604]</td>\n",
       "      <td>...</td>\n",
       "      <td>0.991689</td>\n",
       "      <td>0.011821</td>\n",
       "      <td>0.992949</td>\n",
       "      <td>0.025027</td>\n",
       "      <td>0.995565</td>\n",
       "      <td>0.008452</td>\n",
       "      <td>0.996119</td>\n",
       "      <td>0.003639</td>\n",
       "      <td>0.995637</td>\n",
       "      <td>0.002855</td>\n",
       "    </tr>\n",
       "    <tr>\n",
       "      <th>4</th>\n",
       "      <td>1</td>\n",
       "      <td>[0.02032536, 0.9665286]</td>\n",
       "      <td>[0.03184715, 0.95556325]</td>\n",
       "      <td>[0.00420866, 0.9967181]</td>\n",
       "      <td>[0.04752765, 0.9571476]</td>\n",
       "      <td>[0.07324732, 0.8965421]</td>\n",
       "      <td>[0.03229338, 0.9715555]</td>\n",
       "      <td>[0.0527445, 0.94935584]</td>\n",
       "      <td>[0.08429085, 0.97633684]</td>\n",
       "      <td>[0.07859739, 0.9544279]</td>\n",
       "      <td>...</td>\n",
       "      <td>0.033193</td>\n",
       "      <td>0.902942</td>\n",
       "      <td>0.154051</td>\n",
       "      <td>0.908446</td>\n",
       "      <td>0.017111</td>\n",
       "      <td>0.988811</td>\n",
       "      <td>0.117806</td>\n",
       "      <td>0.888212</td>\n",
       "      <td>0.030076</td>\n",
       "      <td>0.906664</td>\n",
       "    </tr>\n",
       "  </tbody>\n",
       "</table>\n",
       "<p>5 rows × 46 columns</p>\n",
       "</div>"
      ],
      "text/plain": [
       "   class                     pred_um1                   pred_um2  \\\n",
       "0      0      [0.97661906, 0.0111127]   [0.94917387, 0.04463243]   \n",
       "1      0      [0.9981341, 0.00117332]    [0.9861733, 0.01402404]   \n",
       "2      0  [0.99975938, 0.00017769024]     [0.998412, 0.00116792]   \n",
       "3      0    [0.9990115, 0.0007346845]  [0.9993293, 0.0007536346]   \n",
       "4      1      [0.02032536, 0.9665286]   [0.03184715, 0.95556325]   \n",
       "\n",
       "                      pred_um3                   pred_um4  \\\n",
       "0      [0.7171942, 0.31330645]    [0.9843002, 0.00847411]   \n",
       "1      [0.9928934, 0.00393965]    [0.9776924, 0.01049647]   \n",
       "2  [0.99967206, 0.00045852657]  [0.9994134, 0.0007175277]   \n",
       "3      [0.9968088, 0.00255448]    [0.9846784, 0.00673459]   \n",
       "4      [0.00420866, 0.9967181]    [0.04752765, 0.9571476]   \n",
       "\n",
       "                   pred_um5                  pred_um6  \\\n",
       "0    [0.9145431, 0.0901518]  [0.78320813, 0.17060214]   \n",
       "1   [0.9865953, 0.01231423]   [0.9930335, 0.01160094]   \n",
       "2  [0.99469155, 0.00347157]  [0.99133015, 0.00953034]   \n",
       "3     [0.99429, 0.00582641]   [0.9956031, 0.00629928]   \n",
       "4   [0.07324732, 0.8965421]   [0.03229338, 0.9715555]   \n",
       "\n",
       "                     pred_um7                  pred_um8  \\\n",
       "0     [0.98369575, 0.0468426]  [0.99487054, 0.02101552]   \n",
       "1     [0.9935597, 0.00672642]   [0.9973001, 0.01140507]   \n",
       "2  [0.9997806, 0.00015728366]  [0.99856263, 0.00687149]   \n",
       "3    [0.99919957, 0.00122478]   [0.9973502, 0.00827719]   \n",
       "4     [0.0527445, 0.94935584]  [0.08429085, 0.97633684]   \n",
       "\n",
       "                   pred_um9  ... pred_um11_0 pred_um11_1 pred_um12_0  \\\n",
       "0   [0.9941069, 0.01856612]  ...    0.951432    0.027021    0.947605   \n",
       "1    [0.997145, 0.00653503]  ...    0.990275    0.007812    0.973824   \n",
       "2   [0.9998858, 0.00142944]  ...    0.996992    0.001619    0.994327   \n",
       "3  [0.99935836, 0.00247604]  ...    0.991689    0.011821    0.992949   \n",
       "4   [0.07859739, 0.9544279]  ...    0.033193    0.902942    0.154051   \n",
       "\n",
       "  pred_um12_1 pred_um13_0 pred_um13_1  pred_um14_0  pred_um14_1  pred_um15_0  \\\n",
       "0    0.133980    0.929923    0.171847     0.985548     0.011659     0.746642   \n",
       "1    0.044024    0.992943    0.024747     0.999068     0.000979     0.983460   \n",
       "2    0.008048    0.997627    0.003818     0.999698     0.000146     0.993894   \n",
       "3    0.025027    0.995565    0.008452     0.996119     0.003639     0.995637   \n",
       "4    0.908446    0.017111    0.988811     0.117806     0.888212     0.030076   \n",
       "\n",
       "   pred_um15_1  \n",
       "0     0.153434  \n",
       "1     0.010629  \n",
       "2     0.004282  \n",
       "3     0.002855  \n",
       "4     0.906664  \n",
       "\n",
       "[5 rows x 46 columns]"
      ]
     },
     "execution_count": 33,
     "metadata": {},
     "output_type": "execute_result"
    }
   ],
   "source": [
    "df_test2_CS.head()"
   ]
  },
  {
   "cell_type": "code",
   "execution_count": 34,
   "id": "58deee2e",
   "metadata": {},
   "outputs": [
    {
     "data": {
      "text/plain": [
       "['pred_um1_0',\n",
       " 'pred_um1_1',\n",
       " 'pred_um2_0',\n",
       " 'pred_um2_1',\n",
       " 'pred_um3_0',\n",
       " 'pred_um3_1',\n",
       " 'pred_um4_0',\n",
       " 'pred_um4_1',\n",
       " 'pred_um5_0',\n",
       " 'pred_um5_1',\n",
       " 'pred_um6_0',\n",
       " 'pred_um6_1',\n",
       " 'pred_um7_0',\n",
       " 'pred_um7_1',\n",
       " 'pred_um8_0',\n",
       " 'pred_um8_1',\n",
       " 'pred_um9_0',\n",
       " 'pred_um9_1',\n",
       " 'pred_um10_0',\n",
       " 'pred_um10_1',\n",
       " 'pred_um11_0',\n",
       " 'pred_um11_1',\n",
       " 'pred_um12_0',\n",
       " 'pred_um12_1',\n",
       " 'pred_um13_0',\n",
       " 'pred_um13_1',\n",
       " 'pred_um14_0',\n",
       " 'pred_um14_1',\n",
       " 'pred_um15_0',\n",
       " 'pred_um15_1']"
      ]
     },
     "execution_count": 34,
     "metadata": {},
     "output_type": "execute_result"
    }
   ],
   "source": [
    "list(df_test2_CS.columns[16:])"
   ]
  },
  {
   "cell_type": "code",
   "execution_count": 35,
   "id": "b8891244",
   "metadata": {},
   "outputs": [],
   "source": [
    "cols = ['class']\n",
    "cols = cols.append(list(df_test2_CS.columns[16:]))\n",
    "cols"
   ]
  },
  {
   "cell_type": "code",
   "execution_count": 36,
   "id": "ad63d4ee",
   "metadata": {},
   "outputs": [],
   "source": [
    "cols = ['class']\n",
    "cols.extend(list(df_test2_CS.columns[16:]))"
   ]
  },
  {
   "cell_type": "code",
   "execution_count": 37,
   "id": "9b4d23e8",
   "metadata": {},
   "outputs": [],
   "source": [
    "df_test2_CS_all = df_test2_CS[cols]"
   ]
  },
  {
   "cell_type": "code",
   "execution_count": 38,
   "id": "a7b82681",
   "metadata": {},
   "outputs": [
    {
     "data": {
      "text/html": [
       "<div>\n",
       "<style scoped>\n",
       "    .dataframe tbody tr th:only-of-type {\n",
       "        vertical-align: middle;\n",
       "    }\n",
       "\n",
       "    .dataframe tbody tr th {\n",
       "        vertical-align: top;\n",
       "    }\n",
       "\n",
       "    .dataframe thead th {\n",
       "        text-align: right;\n",
       "    }\n",
       "</style>\n",
       "<table border=\"1\" class=\"dataframe\">\n",
       "  <thead>\n",
       "    <tr style=\"text-align: right;\">\n",
       "      <th></th>\n",
       "      <th>class</th>\n",
       "      <th>pred_um1_0</th>\n",
       "      <th>pred_um1_1</th>\n",
       "      <th>pred_um2_0</th>\n",
       "      <th>pred_um2_1</th>\n",
       "      <th>pred_um3_0</th>\n",
       "      <th>pred_um3_1</th>\n",
       "      <th>pred_um4_0</th>\n",
       "      <th>pred_um4_1</th>\n",
       "      <th>pred_um5_0</th>\n",
       "      <th>...</th>\n",
       "      <th>pred_um11_0</th>\n",
       "      <th>pred_um11_1</th>\n",
       "      <th>pred_um12_0</th>\n",
       "      <th>pred_um12_1</th>\n",
       "      <th>pred_um13_0</th>\n",
       "      <th>pred_um13_1</th>\n",
       "      <th>pred_um14_0</th>\n",
       "      <th>pred_um14_1</th>\n",
       "      <th>pred_um15_0</th>\n",
       "      <th>pred_um15_1</th>\n",
       "    </tr>\n",
       "  </thead>\n",
       "  <tbody>\n",
       "    <tr>\n",
       "      <th>0</th>\n",
       "      <td>0</td>\n",
       "      <td>0.976619</td>\n",
       "      <td>0.011113</td>\n",
       "      <td>0.949174</td>\n",
       "      <td>0.044632</td>\n",
       "      <td>0.717194</td>\n",
       "      <td>0.313306</td>\n",
       "      <td>0.984300</td>\n",
       "      <td>0.008474</td>\n",
       "      <td>0.914543</td>\n",
       "      <td>...</td>\n",
       "      <td>0.951432</td>\n",
       "      <td>0.027021</td>\n",
       "      <td>0.947605</td>\n",
       "      <td>0.133980</td>\n",
       "      <td>0.929923</td>\n",
       "      <td>0.171847</td>\n",
       "      <td>0.985548</td>\n",
       "      <td>0.011659</td>\n",
       "      <td>0.746642</td>\n",
       "      <td>0.153434</td>\n",
       "    </tr>\n",
       "    <tr>\n",
       "      <th>1</th>\n",
       "      <td>0</td>\n",
       "      <td>0.998134</td>\n",
       "      <td>0.001173</td>\n",
       "      <td>0.986173</td>\n",
       "      <td>0.014024</td>\n",
       "      <td>0.992893</td>\n",
       "      <td>0.003940</td>\n",
       "      <td>0.977692</td>\n",
       "      <td>0.010496</td>\n",
       "      <td>0.986595</td>\n",
       "      <td>...</td>\n",
       "      <td>0.990275</td>\n",
       "      <td>0.007812</td>\n",
       "      <td>0.973824</td>\n",
       "      <td>0.044024</td>\n",
       "      <td>0.992943</td>\n",
       "      <td>0.024747</td>\n",
       "      <td>0.999068</td>\n",
       "      <td>0.000979</td>\n",
       "      <td>0.983460</td>\n",
       "      <td>0.010629</td>\n",
       "    </tr>\n",
       "    <tr>\n",
       "      <th>2</th>\n",
       "      <td>0</td>\n",
       "      <td>0.999759</td>\n",
       "      <td>0.000178</td>\n",
       "      <td>0.998412</td>\n",
       "      <td>0.001168</td>\n",
       "      <td>0.999672</td>\n",
       "      <td>0.000459</td>\n",
       "      <td>0.999413</td>\n",
       "      <td>0.000718</td>\n",
       "      <td>0.994692</td>\n",
       "      <td>...</td>\n",
       "      <td>0.996992</td>\n",
       "      <td>0.001619</td>\n",
       "      <td>0.994327</td>\n",
       "      <td>0.008048</td>\n",
       "      <td>0.997627</td>\n",
       "      <td>0.003818</td>\n",
       "      <td>0.999698</td>\n",
       "      <td>0.000146</td>\n",
       "      <td>0.993894</td>\n",
       "      <td>0.004282</td>\n",
       "    </tr>\n",
       "    <tr>\n",
       "      <th>3</th>\n",
       "      <td>0</td>\n",
       "      <td>0.999012</td>\n",
       "      <td>0.000735</td>\n",
       "      <td>0.999329</td>\n",
       "      <td>0.000754</td>\n",
       "      <td>0.996809</td>\n",
       "      <td>0.002554</td>\n",
       "      <td>0.984678</td>\n",
       "      <td>0.006735</td>\n",
       "      <td>0.994290</td>\n",
       "      <td>...</td>\n",
       "      <td>0.991689</td>\n",
       "      <td>0.011821</td>\n",
       "      <td>0.992949</td>\n",
       "      <td>0.025027</td>\n",
       "      <td>0.995565</td>\n",
       "      <td>0.008452</td>\n",
       "      <td>0.996119</td>\n",
       "      <td>0.003639</td>\n",
       "      <td>0.995637</td>\n",
       "      <td>0.002855</td>\n",
       "    </tr>\n",
       "    <tr>\n",
       "      <th>4</th>\n",
       "      <td>1</td>\n",
       "      <td>0.020325</td>\n",
       "      <td>0.966529</td>\n",
       "      <td>0.031847</td>\n",
       "      <td>0.955563</td>\n",
       "      <td>0.004209</td>\n",
       "      <td>0.996718</td>\n",
       "      <td>0.047528</td>\n",
       "      <td>0.957148</td>\n",
       "      <td>0.073247</td>\n",
       "      <td>...</td>\n",
       "      <td>0.033193</td>\n",
       "      <td>0.902942</td>\n",
       "      <td>0.154051</td>\n",
       "      <td>0.908446</td>\n",
       "      <td>0.017111</td>\n",
       "      <td>0.988811</td>\n",
       "      <td>0.117806</td>\n",
       "      <td>0.888212</td>\n",
       "      <td>0.030076</td>\n",
       "      <td>0.906664</td>\n",
       "    </tr>\n",
       "  </tbody>\n",
       "</table>\n",
       "<p>5 rows × 31 columns</p>\n",
       "</div>"
      ],
      "text/plain": [
       "   class  pred_um1_0  pred_um1_1  pred_um2_0  pred_um2_1  pred_um3_0  \\\n",
       "0      0    0.976619    0.011113    0.949174    0.044632    0.717194   \n",
       "1      0    0.998134    0.001173    0.986173    0.014024    0.992893   \n",
       "2      0    0.999759    0.000178    0.998412    0.001168    0.999672   \n",
       "3      0    0.999012    0.000735    0.999329    0.000754    0.996809   \n",
       "4      1    0.020325    0.966529    0.031847    0.955563    0.004209   \n",
       "\n",
       "   pred_um3_1  pred_um4_0  pred_um4_1  pred_um5_0  ...  pred_um11_0  \\\n",
       "0    0.313306    0.984300    0.008474    0.914543  ...     0.951432   \n",
       "1    0.003940    0.977692    0.010496    0.986595  ...     0.990275   \n",
       "2    0.000459    0.999413    0.000718    0.994692  ...     0.996992   \n",
       "3    0.002554    0.984678    0.006735    0.994290  ...     0.991689   \n",
       "4    0.996718    0.047528    0.957148    0.073247  ...     0.033193   \n",
       "\n",
       "   pred_um11_1  pred_um12_0  pred_um12_1  pred_um13_0  pred_um13_1  \\\n",
       "0     0.027021     0.947605     0.133980     0.929923     0.171847   \n",
       "1     0.007812     0.973824     0.044024     0.992943     0.024747   \n",
       "2     0.001619     0.994327     0.008048     0.997627     0.003818   \n",
       "3     0.011821     0.992949     0.025027     0.995565     0.008452   \n",
       "4     0.902942     0.154051     0.908446     0.017111     0.988811   \n",
       "\n",
       "   pred_um14_0  pred_um14_1  pred_um15_0  pred_um15_1  \n",
       "0     0.985548     0.011659     0.746642     0.153434  \n",
       "1     0.999068     0.000979     0.983460     0.010629  \n",
       "2     0.999698     0.000146     0.993894     0.004282  \n",
       "3     0.996119     0.003639     0.995637     0.002855  \n",
       "4     0.117806     0.888212     0.030076     0.906664  \n",
       "\n",
       "[5 rows x 31 columns]"
      ]
     },
     "execution_count": 38,
     "metadata": {},
     "output_type": "execute_result"
    }
   ],
   "source": [
    "df_test2_CS_all.head()"
   ]
  },
  {
   "cell_type": "code",
   "execution_count": 39,
   "id": "aaa6dfd4",
   "metadata": {},
   "outputs": [],
   "source": [
    "''' \n",
    "Utility matrix format: \n",
    "    [[TN, FN],\n",
    "     [FP, TP]]\n",
    "'''\n",
    "ums = {\n",
    "    'um1' : [[1, 0], [0, 1]], # accuracy\n",
    "    'um2' : [[1, -1], [0, 1]],\n",
    "    'um3' : [[1, 0], [-1, 1]],\n",
    "    'um4' : [[10, 0], [0, 1]],\n",
    "    'um5' : [[1, 0], [0, 10]],\n",
    "    'um6' : [[1, -10], [0, 1]],\n",
    "    'um7' : [[1, 0], [-10, 1]],\n",
    "    'um8' : [[5, 0], [0, 1]],\n",
    "    'um9' : [[100, 0], [0, 1]],\n",
    "    'um10' : [[1, 0], [0, 5]],\n",
    "    'um11' : [[1, 0], [0, 100]],\n",
    "    'um12' : [[1, 0], [-5, 1]],\n",
    "    'um13' : [[1, -5], [0, 1]],\n",
    "    'um14' : [[1, 0], [-100, 1]],\n",
    "    'um15' : [[1, -100], [0, 1]],\n",
    "    \n",
    "}"
   ]
  },
  {
   "cell_type": "code",
   "execution_count": 40,
   "id": "7aae07e5",
   "metadata": {},
   "outputs": [],
   "source": [
    "def choose_class(x, um=None):\n",
    "    \"\"\"\n",
    "    x = either one number between 0-1, or a (normalized) vector of probabilities\n",
    "        if it's one number then we are in a binary classification case\n",
    "        and x is the probability of CLASS 0\n",
    "    um = utility matrix in the format [[T0,F0],[F1,T1]] if None: Choose class based on x\n",
    "    \"\"\"\n",
    "    if type(x) == float or type(x) == np.float64: # x is float and is the probability of class 0\n",
    "        x = np.array([x])\n",
    "        x = np.concatenate((x, 1-x)) # transform into prob. vector\n",
    "    else:\n",
    "        x = np.array(x)\n",
    "    if um != None:\n",
    "        um = np.array(um)\n",
    "        utilities = np.matmul(um, x)\n",
    "        cl = np.argmax(utilities)\n",
    "    else:\n",
    "        cl = np.argmax(x)\n",
    "    return cl"
   ]
  },
  {
   "cell_type": "code",
   "execution_count": 41,
   "id": "fd4ed7ab",
   "metadata": {},
   "outputs": [],
   "source": [
    "def get_utility_scores_CS(df, um_index = 1, verbose=True):\n",
    "    '''\n",
    "    Method for calculating the total gains from utility matrix for regular predictions \n",
    "    and bayesian corrected predictions\n",
    "    df = DataFrame for predictions and bayesian probabilites of class 0\n",
    "    um = utility matrix in the format [[T0,F0],[F1,T1]]\n",
    "    verbose = if True: Outputs confusion matrix and text\n",
    "    '''\n",
    "    c1, c2, c3 = 0, 0, 0\n",
    "    # Calculations for standard output\n",
    "    y = df['class'].to_numpy()\n",
    "    um = ums[f'um{um_index}']\n",
    "    y_pred = [choose_class([r[f'pred_um{um_index}_0'], r[f'pred_um{um_index}_1']]) for i, r in df.iterrows()]\n",
    "    cm1 = confusion_matrix(y, y_pred)\n",
    "    c1 = get_total_cost(um, cm1)\n",
    "    if verbose: \n",
    "        f = sns.heatmap(cm1, annot=True, fmt='d')\n",
    "        print('**Output for the standard predictions from algorithm**')\n",
    "        print(f'Utility Matrix: {um}')\n",
    "        print(f'Total gains for the Utility Matrix: {c1}')\n",
    "        print('Confusion matrix:')\n",
    "        plt.show()\n",
    "    # Calculations for standard output with expected utility class choice\n",
    "    y_pred = [choose_class([r[f'pred_um{um_index}_0'], r[f'pred_um{um_index}_1']], um) for i, r in df.iterrows()]\n",
    "    cm2 = confusion_matrix(y, y_pred)\n",
    "    c2 = get_total_cost(um, cm2)\n",
    "    if verbose: \n",
    "        f = sns.heatmap(cm2, annot=True, fmt='d')\n",
    "        print('**Output for the standard predictions from algorithm with expected utility**')\n",
    "        print(f'Utility Matrix: {um}')\n",
    "        print(f'Total gains for the Utility Matrix: {c2}')\n",
    "        print('Confusion matrix:')\n",
    "        plt.show()\n",
    "    if 'prob_0' in df.columns: \n",
    "        # Calculations for bayesian probability and expected utility class choice\n",
    "        y_pred = [choose_class(r['prob_0'], um) for i, r in df.iterrows()]\n",
    "        cm3 = confusion_matrix(y, y_pred)\n",
    "        c3 = get_total_cost(um, cm3)\n",
    "        if verbose: \n",
    "            f = sns.heatmap(cm3, annot=True, fmt='d')\n",
    "            print('**Output for the bayesian calculations with expected utility**')\n",
    "            print(f'Utility Matrix: {um}')\n",
    "            print(f'Total gains: {c3}')\n",
    "            print('Confusion matrix:')\n",
    "            plt.show()\n",
    "    return c1, c2, c3"
   ]
  },
  {
   "cell_type": "code",
   "execution_count": 42,
   "id": "41c38725",
   "metadata": {},
   "outputs": [
    {
     "data": {
      "text/plain": [
       "[0.9674003900808025,\n",
       " 0.9781276121482307,\n",
       " 0.9772917247144052,\n",
       " 0.9086653663973251,\n",
       " 0.16837559208693229,\n",
       " 0.9867017908255021,\n",
       " 0.990146660249753,\n",
       " 0.9131791585399833,\n",
       " 0.9084062412928392,\n",
       " 0.2569517971579827,\n",
       " 0.0939509612705489,\n",
       " 0.9866722392495588,\n",
       " 0.9846289588557631,\n",
       " 0.9986261652077718,\n",
       " 0.9943391385669634]"
      ]
     },
     "execution_count": 42,
     "metadata": {},
     "output_type": "execute_result"
    }
   ],
   "source": [
    "scores1 = []\n",
    "scores2 = []\n",
    "for i, r in df_scores.iterrows():\n",
    "    s1, s2, _ = get_utility_scores_CS(df_test2_CS, i + 1, verbose=False)\n",
    "    scores1.append(s1)\n",
    "    scores2.append(s2)\n",
    "scores2"
   ]
  },
  {
   "cell_type": "code",
   "execution_count": 43,
   "id": "66a0b7b8",
   "metadata": {},
   "outputs": [
    {
     "data": {
      "text/html": [
       "<div>\n",
       "<style scoped>\n",
       "    .dataframe tbody tr th:only-of-type {\n",
       "        vertical-align: middle;\n",
       "    }\n",
       "\n",
       "    .dataframe tbody tr th {\n",
       "        vertical-align: top;\n",
       "    }\n",
       "\n",
       "    .dataframe thead th {\n",
       "        text-align: right;\n",
       "    }\n",
       "</style>\n",
       "<table border=\"1\" class=\"dataframe\">\n",
       "  <thead>\n",
       "    <tr style=\"text-align: right;\">\n",
       "      <th></th>\n",
       "      <th>ums</th>\n",
       "      <th>RF_output</th>\n",
       "      <th>RF_utility</th>\n",
       "      <th>RF_bayesian_utility</th>\n",
       "      <th>CNN_output</th>\n",
       "      <th>CNN_utility</th>\n",
       "      <th>CNN_bayesian_utility</th>\n",
       "      <th>CNN_CS_output</th>\n",
       "      <th>CNN_CS_utility</th>\n",
       "    </tr>\n",
       "  </thead>\n",
       "  <tbody>\n",
       "    <tr>\n",
       "      <th>0</th>\n",
       "      <td>[[1, 0], [0, 1]]</td>\n",
       "      <td>0.967122</td>\n",
       "      <td>0.967122</td>\n",
       "      <td>0.974923</td>\n",
       "      <td>0.960713</td>\n",
       "      <td>0.960713</td>\n",
       "      <td>0.962385</td>\n",
       "      <td>0.967400</td>\n",
       "      <td>0.967400</td>\n",
       "    </tr>\n",
       "    <tr>\n",
       "      <th>1</th>\n",
       "      <td>[[1, -1], [0, 1]]</td>\n",
       "      <td>0.971441</td>\n",
       "      <td>0.982725</td>\n",
       "      <td>0.982028</td>\n",
       "      <td>0.972834</td>\n",
       "      <td>0.960992</td>\n",
       "      <td>0.973112</td>\n",
       "      <td>0.974923</td>\n",
       "      <td>0.978128</td>\n",
       "    </tr>\n",
       "    <tr>\n",
       "      <th>2</th>\n",
       "      <td>[[1, 0], [-1, 1]]</td>\n",
       "      <td>0.979242</td>\n",
       "      <td>0.974645</td>\n",
       "      <td>0.980775</td>\n",
       "      <td>0.968236</td>\n",
       "      <td>0.972973</td>\n",
       "      <td>0.972276</td>\n",
       "      <td>0.977013</td>\n",
       "      <td>0.977292</td>\n",
       "    </tr>\n",
       "    <tr>\n",
       "      <th>3</th>\n",
       "      <td>[[10, 0], [0, 1]]</td>\n",
       "      <td>0.907189</td>\n",
       "      <td>0.909724</td>\n",
       "      <td>0.909167</td>\n",
       "      <td>0.892505</td>\n",
       "      <td>0.908665</td>\n",
       "      <td>0.909167</td>\n",
       "      <td>0.901755</td>\n",
       "      <td>0.908665</td>\n",
       "    </tr>\n",
       "    <tr>\n",
       "      <th>4</th>\n",
       "      <td>[[1, 0], [0, 10]]</td>\n",
       "      <td>0.156645</td>\n",
       "      <td>0.170354</td>\n",
       "      <td>0.173057</td>\n",
       "      <td>0.164280</td>\n",
       "      <td>0.133853</td>\n",
       "      <td>0.168877</td>\n",
       "      <td>0.162218</td>\n",
       "      <td>0.168376</td>\n",
       "    </tr>\n",
       "  </tbody>\n",
       "</table>\n",
       "</div>"
      ],
      "text/plain": [
       "                 ums  RF_output  RF_utility  RF_bayesian_utility  CNN_output  \\\n",
       "0   [[1, 0], [0, 1]]   0.967122    0.967122             0.974923    0.960713   \n",
       "1  [[1, -1], [0, 1]]   0.971441    0.982725             0.982028    0.972834   \n",
       "2  [[1, 0], [-1, 1]]   0.979242    0.974645             0.980775    0.968236   \n",
       "3  [[10, 0], [0, 1]]   0.907189    0.909724             0.909167    0.892505   \n",
       "4  [[1, 0], [0, 10]]   0.156645    0.170354             0.173057    0.164280   \n",
       "\n",
       "   CNN_utility  CNN_bayesian_utility  CNN_CS_output  CNN_CS_utility  \n",
       "0     0.960713              0.962385       0.967400        0.967400  \n",
       "1     0.960992              0.973112       0.974923        0.978128  \n",
       "2     0.972973              0.972276       0.977013        0.977292  \n",
       "3     0.908665              0.909167       0.901755        0.908665  \n",
       "4     0.133853              0.168877       0.162218        0.168376  "
      ]
     },
     "execution_count": 43,
     "metadata": {},
     "output_type": "execute_result"
    }
   ],
   "source": [
    "df_scores['CNN_CS_output'] = scores1\n",
    "df_scores['CNN_CS_utility'] = scores2\n",
    "df_scores.head()"
   ]
  },
  {
   "cell_type": "code",
   "execution_count": 52,
   "id": "ad139a66",
   "metadata": {},
   "outputs": [
    {
     "data": {
      "text/html": [
       "<style type=\"text/css\">\n",
       "#T_3e810_row0_col3, #T_3e810_row1_col3, #T_3e810_row2_col3, #T_3e810_row3_col3, #T_3e810_row4_col3 {\n",
       "  background-color: lightgreen;\n",
       "}\n",
       "#T_3e810_row0_col6, #T_3e810_row1_col6, #T_3e810_row2_col6, #T_3e810_row3_col6, #T_3e810_row4_col6 {\n",
       "  background-color: lightblue;\n",
       "}\n",
       "</style>\n",
       "<table id=\"T_3e810_\">\n",
       "  <thead>\n",
       "    <tr>\n",
       "      <th class=\"blank level0\" >&nbsp;</th>\n",
       "      <th class=\"col_heading level0 col0\" >ums</th>\n",
       "      <th class=\"col_heading level0 col1\" >RF_standard</th>\n",
       "      <th class=\"col_heading level0 col2\" >RF_mixed</th>\n",
       "      <th class=\"col_heading level0 col3\" >RF_transducer</th>\n",
       "      <th class=\"col_heading level0 col4\" >CNN_standard</th>\n",
       "      <th class=\"col_heading level0 col5\" >CNN_mixed</th>\n",
       "      <th class=\"col_heading level0 col6\" >CNN_transducer</th>\n",
       "    </tr>\n",
       "  </thead>\n",
       "  <tbody>\n",
       "    <tr>\n",
       "      <th id=\"T_3e810_level0_row0\" class=\"row_heading level0 row0\" >0</th>\n",
       "      <td id=\"T_3e810_row0_col0\" class=\"data row0 col0\" >[[1, 0], [0, 1]]</td>\n",
       "      <td id=\"T_3e810_row0_col1\" class=\"data row0 col1\" >0.959</td>\n",
       "      <td id=\"T_3e810_row0_col2\" class=\"data row0 col2\" >0.959</td>\n",
       "      <td id=\"T_3e810_row0_col3\" class=\"data row0 col3\" >0.961</td>\n",
       "      <td id=\"T_3e810_row0_col4\" class=\"data row0 col4\" >0.959</td>\n",
       "      <td id=\"T_3e810_row0_col5\" class=\"data row0 col5\" >0.959</td>\n",
       "      <td id=\"T_3e810_row0_col6\" class=\"data row0 col6\" >0.961</td>\n",
       "    </tr>\n",
       "    <tr>\n",
       "      <th id=\"T_3e810_level0_row1\" class=\"row_heading level0 row1\" >1</th>\n",
       "      <td id=\"T_3e810_row1_col0\" class=\"data row1 col0\" >[[1, -10], [0, 10]]</td>\n",
       "      <td id=\"T_3e810_row1_col1\" class=\"data row1 col1\" >0.576</td>\n",
       "      <td id=\"T_3e810_row1_col2\" class=\"data row1 col2\" >0.581</td>\n",
       "      <td id=\"T_3e810_row1_col3\" class=\"data row1 col3\" >0.582</td>\n",
       "      <td id=\"T_3e810_row1_col4\" class=\"data row1 col4\" >0.576</td>\n",
       "      <td id=\"T_3e810_row1_col5\" class=\"data row1 col5\" >0.581</td>\n",
       "      <td id=\"T_3e810_row1_col6\" class=\"data row1 col6\" >0.582</td>\n",
       "    </tr>\n",
       "    <tr>\n",
       "      <th id=\"T_3e810_level0_row2\" class=\"row_heading level0 row2\" >2</th>\n",
       "      <td id=\"T_3e810_row2_col0\" class=\"data row2 col0\" >[[1, -100], [0, 100]]</td>\n",
       "      <td id=\"T_3e810_row2_col1\" class=\"data row2 col1\" >0.536</td>\n",
       "      <td id=\"T_3e810_row2_col2\" class=\"data row2 col2\" >0.546</td>\n",
       "      <td id=\"T_3e810_row2_col3\" class=\"data row2 col3\" >0.548</td>\n",
       "      <td id=\"T_3e810_row2_col4\" class=\"data row2 col4\" >0.536</td>\n",
       "      <td id=\"T_3e810_row2_col5\" class=\"data row2 col5\" >0.546</td>\n",
       "      <td id=\"T_3e810_row2_col6\" class=\"data row2 col6\" >0.548</td>\n",
       "    </tr>\n",
       "    <tr>\n",
       "      <th id=\"T_3e810_level0_row3\" class=\"row_heading level0 row3\" >3</th>\n",
       "      <td id=\"T_3e810_row3_col0\" class=\"data row3 col0\" >[[10, 0], [-10, 1]]</td>\n",
       "      <td id=\"T_3e810_row3_col1\" class=\"data row3 col1\" >0.931</td>\n",
       "      <td id=\"T_3e810_row3_col2\" class=\"data row3 col2\" >0.949</td>\n",
       "      <td id=\"T_3e810_row3_col3\" class=\"data row3 col3\" >0.955</td>\n",
       "      <td id=\"T_3e810_row3_col4\" class=\"data row3 col4\" >0.931</td>\n",
       "      <td id=\"T_3e810_row3_col5\" class=\"data row3 col5\" >0.949</td>\n",
       "      <td id=\"T_3e810_row3_col6\" class=\"data row3 col6\" >0.955</td>\n",
       "    </tr>\n",
       "    <tr>\n",
       "      <th id=\"T_3e810_level0_row4\" class=\"row_heading level0 row4\" >4</th>\n",
       "      <td id=\"T_3e810_row4_col0\" class=\"data row4 col0\" >[[100, 0], [-100, 10]]</td>\n",
       "      <td id=\"T_3e810_row4_col1\" class=\"data row4 col1\" >0.931</td>\n",
       "      <td id=\"T_3e810_row4_col2\" class=\"data row4 col2\" >0.949</td>\n",
       "      <td id=\"T_3e810_row4_col3\" class=\"data row4 col3\" >0.955</td>\n",
       "      <td id=\"T_3e810_row4_col4\" class=\"data row4 col4\" >0.931</td>\n",
       "      <td id=\"T_3e810_row4_col5\" class=\"data row4 col5\" >0.949</td>\n",
       "      <td id=\"T_3e810_row4_col6\" class=\"data row4 col6\" >0.955</td>\n",
       "    </tr>\n",
       "  </tbody>\n",
       "</table>\n"
      ],
      "text/plain": [
       "<pandas.io.formats.style.Styler at 0x7f77d3bae5d0>"
      ]
     },
     "execution_count": 52,
     "metadata": {},
     "output_type": "execute_result"
    }
   ],
   "source": [
    "df_scores.style.\\\n",
    "        format(precision=3).\\\n",
    "        highlight_max(color='lightgreen', subset=df_scores.columns[1:4], axis=1).\\\n",
    "        highlight_max(color='lightblue', subset=df_scores.columns[4:], axis=1)\n",
    "        #highlight_max(color='lightyellow', subset=df_scores.columns[7:], axis=1)\n"
   ]
  },
  {
   "cell_type": "code",
   "execution_count": 48,
   "id": "86251080",
   "metadata": {},
   "outputs": [],
   "source": [
    "df_scores.to_csv(DATA/'scores_utility_matrix.csv', index=False)"
   ]
  },
  {
   "cell_type": "markdown",
   "id": "ec015123",
   "metadata": {},
   "source": [
    "## Highlight max values for RF and CNN output"
   ]
  },
  {
   "cell_type": "code",
   "execution_count": 47,
   "id": "e0722efd",
   "metadata": {},
   "outputs": [],
   "source": [
    "df_scores_style = pd.read_csv(DATA/'scores_utility_matrix.csv')"
   ]
  },
  {
   "cell_type": "code",
   "execution_count": 48,
   "id": "484988a6",
   "metadata": {},
   "outputs": [
    {
     "data": {
      "text/html": [
       "<style type=\"text/css\">\n",
       "#T_40d25_row0_col3, #T_40d25_row1_col2, #T_40d25_row2_col3, #T_40d25_row3_col2, #T_40d25_row4_col3, #T_40d25_row5_col3, #T_40d25_row6_col2, #T_40d25_row7_col3, #T_40d25_row8_col2, #T_40d25_row9_col3, #T_40d25_row10_col3, #T_40d25_row11_col3, #T_40d25_row12_col2, #T_40d25_row13_col2, #T_40d25_row14_col3 {\n",
       "  background-color: lightgreen;\n",
       "}\n",
       "#T_40d25_row0_col7, #T_40d25_row0_col8, #T_40d25_row1_col8, #T_40d25_row2_col8, #T_40d25_row3_col6, #T_40d25_row4_col6, #T_40d25_row5_col6, #T_40d25_row6_col6, #T_40d25_row7_col8, #T_40d25_row8_col5, #T_40d25_row8_col6, #T_40d25_row9_col8, #T_40d25_row10_col6, #T_40d25_row11_col8, #T_40d25_row12_col8, #T_40d25_row13_col5, #T_40d25_row13_col6, #T_40d25_row14_col6 {\n",
       "  background-color: lightblue;\n",
       "}\n",
       "</style>\n",
       "<table id=\"T_40d25_\">\n",
       "  <thead>\n",
       "    <tr>\n",
       "      <th class=\"blank level0\" >&nbsp;</th>\n",
       "      <th class=\"col_heading level0 col0\" >ums</th>\n",
       "      <th class=\"col_heading level0 col1\" >RF_output</th>\n",
       "      <th class=\"col_heading level0 col2\" >RF_utility</th>\n",
       "      <th class=\"col_heading level0 col3\" >RF_bayesian_utility</th>\n",
       "      <th class=\"col_heading level0 col4\" >CNN_output</th>\n",
       "      <th class=\"col_heading level0 col5\" >CNN_utility</th>\n",
       "      <th class=\"col_heading level0 col6\" >CNN_bayesian_utility</th>\n",
       "      <th class=\"col_heading level0 col7\" >CNN_CS_output</th>\n",
       "      <th class=\"col_heading level0 col8\" >CNN_CS_utility</th>\n",
       "    </tr>\n",
       "  </thead>\n",
       "  <tbody>\n",
       "    <tr>\n",
       "      <th id=\"T_40d25_level0_row0\" class=\"row_heading level0 row0\" >0</th>\n",
       "      <td id=\"T_40d25_row0_col0\" class=\"data row0 col0\" >[[1, 0], [0, 1]]</td>\n",
       "      <td id=\"T_40d25_row0_col1\" class=\"data row0 col1\" >0.9671</td>\n",
       "      <td id=\"T_40d25_row0_col2\" class=\"data row0 col2\" >0.9671</td>\n",
       "      <td id=\"T_40d25_row0_col3\" class=\"data row0 col3\" >0.9749</td>\n",
       "      <td id=\"T_40d25_row0_col4\" class=\"data row0 col4\" >0.9607</td>\n",
       "      <td id=\"T_40d25_row0_col5\" class=\"data row0 col5\" >0.9607</td>\n",
       "      <td id=\"T_40d25_row0_col6\" class=\"data row0 col6\" >0.9624</td>\n",
       "      <td id=\"T_40d25_row0_col7\" class=\"data row0 col7\" >0.9674</td>\n",
       "      <td id=\"T_40d25_row0_col8\" class=\"data row0 col8\" >0.9674</td>\n",
       "    </tr>\n",
       "    <tr>\n",
       "      <th id=\"T_40d25_level0_row1\" class=\"row_heading level0 row1\" >1</th>\n",
       "      <td id=\"T_40d25_row1_col0\" class=\"data row1 col0\" >[[1, -1], [0, 1]]</td>\n",
       "      <td id=\"T_40d25_row1_col1\" class=\"data row1 col1\" >0.9714</td>\n",
       "      <td id=\"T_40d25_row1_col2\" class=\"data row1 col2\" >0.9827</td>\n",
       "      <td id=\"T_40d25_row1_col3\" class=\"data row1 col3\" >0.9820</td>\n",
       "      <td id=\"T_40d25_row1_col4\" class=\"data row1 col4\" >0.9728</td>\n",
       "      <td id=\"T_40d25_row1_col5\" class=\"data row1 col5\" >0.9610</td>\n",
       "      <td id=\"T_40d25_row1_col6\" class=\"data row1 col6\" >0.9731</td>\n",
       "      <td id=\"T_40d25_row1_col7\" class=\"data row1 col7\" >0.9749</td>\n",
       "      <td id=\"T_40d25_row1_col8\" class=\"data row1 col8\" >0.9781</td>\n",
       "    </tr>\n",
       "    <tr>\n",
       "      <th id=\"T_40d25_level0_row2\" class=\"row_heading level0 row2\" >2</th>\n",
       "      <td id=\"T_40d25_row2_col0\" class=\"data row2 col0\" >[[1, 0], [-1, 1]]</td>\n",
       "      <td id=\"T_40d25_row2_col1\" class=\"data row2 col1\" >0.9792</td>\n",
       "      <td id=\"T_40d25_row2_col2\" class=\"data row2 col2\" >0.9746</td>\n",
       "      <td id=\"T_40d25_row2_col3\" class=\"data row2 col3\" >0.9808</td>\n",
       "      <td id=\"T_40d25_row2_col4\" class=\"data row2 col4\" >0.9682</td>\n",
       "      <td id=\"T_40d25_row2_col5\" class=\"data row2 col5\" >0.9730</td>\n",
       "      <td id=\"T_40d25_row2_col6\" class=\"data row2 col6\" >0.9723</td>\n",
       "      <td id=\"T_40d25_row2_col7\" class=\"data row2 col7\" >0.9770</td>\n",
       "      <td id=\"T_40d25_row2_col8\" class=\"data row2 col8\" >0.9773</td>\n",
       "    </tr>\n",
       "    <tr>\n",
       "      <th id=\"T_40d25_level0_row3\" class=\"row_heading level0 row3\" >3</th>\n",
       "      <td id=\"T_40d25_row3_col0\" class=\"data row3 col0\" >[[10, 0], [0, 1]]</td>\n",
       "      <td id=\"T_40d25_row3_col1\" class=\"data row3 col1\" >0.9072</td>\n",
       "      <td id=\"T_40d25_row3_col2\" class=\"data row3 col2\" >0.9097</td>\n",
       "      <td id=\"T_40d25_row3_col3\" class=\"data row3 col3\" >0.9092</td>\n",
       "      <td id=\"T_40d25_row3_col4\" class=\"data row3 col4\" >0.8925</td>\n",
       "      <td id=\"T_40d25_row3_col5\" class=\"data row3 col5\" >0.9087</td>\n",
       "      <td id=\"T_40d25_row3_col6\" class=\"data row3 col6\" >0.9092</td>\n",
       "      <td id=\"T_40d25_row3_col7\" class=\"data row3 col7\" >0.9018</td>\n",
       "      <td id=\"T_40d25_row3_col8\" class=\"data row3 col8\" >0.9087</td>\n",
       "    </tr>\n",
       "    <tr>\n",
       "      <th id=\"T_40d25_level0_row4\" class=\"row_heading level0 row4\" >4</th>\n",
       "      <td id=\"T_40d25_row4_col0\" class=\"data row4 col0\" >[[1, 0], [0, 10]]</td>\n",
       "      <td id=\"T_40d25_row4_col1\" class=\"data row4 col1\" >0.1566</td>\n",
       "      <td id=\"T_40d25_row4_col2\" class=\"data row4 col2\" >0.1704</td>\n",
       "      <td id=\"T_40d25_row4_col3\" class=\"data row4 col3\" >0.1731</td>\n",
       "      <td id=\"T_40d25_row4_col4\" class=\"data row4 col4\" >0.1643</td>\n",
       "      <td id=\"T_40d25_row4_col5\" class=\"data row4 col5\" >0.1339</td>\n",
       "      <td id=\"T_40d25_row4_col6\" class=\"data row4 col6\" >0.1689</td>\n",
       "      <td id=\"T_40d25_row4_col7\" class=\"data row4 col7\" >0.1622</td>\n",
       "      <td id=\"T_40d25_row4_col8\" class=\"data row4 col8\" >0.1684</td>\n",
       "    </tr>\n",
       "    <tr>\n",
       "      <th id=\"T_40d25_level0_row5\" class=\"row_heading level0 row5\" >5</th>\n",
       "      <td id=\"T_40d25_row5_col0\" class=\"data row5 col0\" >[[1, -10], [0, 1]]</td>\n",
       "      <td id=\"T_40d25_row5_col1\" class=\"data row5 col1\" >0.9750</td>\n",
       "      <td id=\"T_40d25_row5_col2\" class=\"data row5 col2\" >0.9882</td>\n",
       "      <td id=\"T_40d25_row5_col3\" class=\"data row5 col3\" >0.9920</td>\n",
       "      <td id=\"T_40d25_row5_col4\" class=\"data row5 col4\" >0.9828</td>\n",
       "      <td id=\"T_40d25_row5_col5\" class=\"data row5 col5\" >0.9525</td>\n",
       "      <td id=\"T_40d25_row5_col6\" class=\"data row5 col6\" >0.9877</td>\n",
       "      <td id=\"T_40d25_row5_col7\" class=\"data row5 col7\" >0.9848</td>\n",
       "      <td id=\"T_40d25_row5_col8\" class=\"data row5 col8\" >0.9867</td>\n",
       "    </tr>\n",
       "    <tr>\n",
       "      <th id=\"T_40d25_level0_row6\" class=\"row_heading level0 row6\" >6</th>\n",
       "      <td id=\"T_40d25_row6_col0\" class=\"data row6 col0\" >[[1, 0], [-10, 1]]</td>\n",
       "      <td id=\"T_40d25_row6_col1\" class=\"data row6 col1\" >0.9892</td>\n",
       "      <td id=\"T_40d25_row6_col2\" class=\"data row6 col2\" >0.9920</td>\n",
       "      <td id=\"T_40d25_row6_col3\" class=\"data row6 col3\" >0.9917</td>\n",
       "      <td id=\"T_40d25_row6_col4\" class=\"data row6 col4\" >0.9744</td>\n",
       "      <td id=\"T_40d25_row6_col5\" class=\"data row6 col5\" >0.9913</td>\n",
       "      <td id=\"T_40d25_row6_col6\" class=\"data row6 col6\" >0.9917</td>\n",
       "      <td id=\"T_40d25_row6_col7\" class=\"data row6 col7\" >0.9837</td>\n",
       "      <td id=\"T_40d25_row6_col8\" class=\"data row6 col8\" >0.9901</td>\n",
       "    </tr>\n",
       "    <tr>\n",
       "      <th id=\"T_40d25_level0_row7\" class=\"row_heading level0 row7\" >7</th>\n",
       "      <td id=\"T_40d25_row7_col0\" class=\"data row7 col0\" >[[5, 0], [0, 1]]</td>\n",
       "      <td id=\"T_40d25_row7_col1\" class=\"data row7 col1\" >0.9138</td>\n",
       "      <td id=\"T_40d25_row7_col2\" class=\"data row7 col2\" >0.9128</td>\n",
       "      <td id=\"T_40d25_row7_col3\" class=\"data row7 col3\" >0.9147</td>\n",
       "      <td id=\"T_40d25_row7_col4\" class=\"data row7 col4\" >0.9001</td>\n",
       "      <td id=\"T_40d25_row7_col5\" class=\"data row7 col5\" >0.9118</td>\n",
       "      <td id=\"T_40d25_row7_col6\" class=\"data row7 col6\" >0.9106</td>\n",
       "      <td id=\"T_40d25_row7_col7\" class=\"data row7 col7\" >0.9089</td>\n",
       "      <td id=\"T_40d25_row7_col8\" class=\"data row7 col8\" >0.9132</td>\n",
       "    </tr>\n",
       "    <tr>\n",
       "      <th id=\"T_40d25_level0_row8\" class=\"row_heading level0 row8\" >8</th>\n",
       "      <td id=\"T_40d25_row8_col0\" class=\"data row8 col0\" >[[100, 0], [0, 1]]</td>\n",
       "      <td id=\"T_40d25_row8_col1\" class=\"data row8 col1\" >0.9012</td>\n",
       "      <td id=\"T_40d25_row8_col2\" class=\"data row8 col2\" >0.9092</td>\n",
       "      <td id=\"T_40d25_row8_col3\" class=\"data row8 col3\" >0.9092</td>\n",
       "      <td id=\"T_40d25_row8_col4\" class=\"data row8 col4\" >0.8857</td>\n",
       "      <td id=\"T_40d25_row8_col5\" class=\"data row8 col5\" >0.9092</td>\n",
       "      <td id=\"T_40d25_row8_col6\" class=\"data row8 col6\" >0.9092</td>\n",
       "      <td id=\"T_40d25_row8_col7\" class=\"data row8 col7\" >0.8973</td>\n",
       "      <td id=\"T_40d25_row8_col8\" class=\"data row8 col8\" >0.9084</td>\n",
       "    </tr>\n",
       "    <tr>\n",
       "      <th id=\"T_40d25_level0_row9\" class=\"row_heading level0 row9\" >9</th>\n",
       "      <td id=\"T_40d25_row9_col0\" class=\"data row9 col0\" >[[1, 0], [0, 5]]</td>\n",
       "      <td id=\"T_40d25_row9_col1\" class=\"data row9 col1\" >0.2467</td>\n",
       "      <td id=\"T_40d25_row9_col2\" class=\"data row9 col2\" >0.2606</td>\n",
       "      <td id=\"T_40d25_row9_col3\" class=\"data row9 col3\" >0.2607</td>\n",
       "      <td id=\"T_40d25_row9_col4\" class=\"data row9 col4\" >0.2528</td>\n",
       "      <td id=\"T_40d25_row9_col5\" class=\"data row9 col5\" >0.2235</td>\n",
       "      <td id=\"T_40d25_row9_col6\" class=\"data row9 col6\" >0.2547</td>\n",
       "      <td id=\"T_40d25_row9_col7\" class=\"data row9 col7\" >0.2517</td>\n",
       "      <td id=\"T_40d25_row9_col8\" class=\"data row9 col8\" >0.2570</td>\n",
       "    </tr>\n",
       "    <tr>\n",
       "      <th id=\"T_40d25_level0_row10\" class=\"row_heading level0 row10\" >10</th>\n",
       "      <td id=\"T_40d25_row10_col0\" class=\"data row10 col0\" >[[1, 0], [0, 100]]</td>\n",
       "      <td id=\"T_40d25_row10_col1\" class=\"data row10 col1\" >0.0756</td>\n",
       "      <td id=\"T_40d25_row10_col2\" class=\"data row10 col2\" >0.0921</td>\n",
       "      <td id=\"T_40d25_row10_col3\" class=\"data row10 col3\" >0.0973</td>\n",
       "      <td id=\"T_40d25_row10_col4\" class=\"data row10 col4\" >0.0846</td>\n",
       "      <td id=\"T_40d25_row10_col5\" class=\"data row10 col5\" >0.0908</td>\n",
       "      <td id=\"T_40d25_row10_col6\" class=\"data row10 col6\" >0.0956</td>\n",
       "      <td id=\"T_40d25_row10_col7\" class=\"data row10 col7\" >0.0852</td>\n",
       "      <td id=\"T_40d25_row10_col8\" class=\"data row10 col8\" >0.0940</td>\n",
       "    </tr>\n",
       "    <tr>\n",
       "      <th id=\"T_40d25_level0_row11\" class=\"row_heading level0 row11\" >11</th>\n",
       "      <td id=\"T_40d25_row11_col0\" class=\"data row11 col0\" >[[1, 0], [-5, 1]]</td>\n",
       "      <td id=\"T_40d25_row11_col1\" class=\"data row11 col1\" >0.9873</td>\n",
       "      <td id=\"T_40d25_row11_col2\" class=\"data row11 col2\" >0.9867</td>\n",
       "      <td id=\"T_40d25_row11_col3\" class=\"data row11 col3\" >0.9887</td>\n",
       "      <td id=\"T_40d25_row11_col4\" class=\"data row11 col4\" >0.9733</td>\n",
       "      <td id=\"T_40d25_row11_col5\" class=\"data row11 col5\" >0.9859</td>\n",
       "      <td id=\"T_40d25_row11_col6\" class=\"data row11 col6\" >0.9858</td>\n",
       "      <td id=\"T_40d25_row11_col7\" class=\"data row11 col7\" >0.9824</td>\n",
       "      <td id=\"T_40d25_row11_col8\" class=\"data row11 col8\" >0.9867</td>\n",
       "    </tr>\n",
       "    <tr>\n",
       "      <th id=\"T_40d25_level0_row12\" class=\"row_heading level0 row12\" >12</th>\n",
       "      <td id=\"T_40d25_row12_col0\" class=\"data row12 col0\" >[[1, -5], [0, 1]]</td>\n",
       "      <td id=\"T_40d25_row12_col1\" class=\"data row12 col1\" >0.9743</td>\n",
       "      <td id=\"T_40d25_row12_col2\" class=\"data row12 col2\" >0.9890</td>\n",
       "      <td id=\"T_40d25_row12_col3\" class=\"data row12 col3\" >0.9887</td>\n",
       "      <td id=\"T_40d25_row12_col4\" class=\"data row12 col4\" >0.9809</td>\n",
       "      <td id=\"T_40d25_row12_col5\" class=\"data row12 col5\" >0.9504</td>\n",
       "      <td id=\"T_40d25_row12_col6\" class=\"data row12 col6\" >0.9842</td>\n",
       "      <td id=\"T_40d25_row12_col7\" class=\"data row12 col7\" >0.9813</td>\n",
       "      <td id=\"T_40d25_row12_col8\" class=\"data row12 col8\" >0.9846</td>\n",
       "    </tr>\n",
       "    <tr>\n",
       "      <th id=\"T_40d25_level0_row13\" class=\"row_heading level0 row13\" >13</th>\n",
       "      <td id=\"T_40d25_row13_col0\" class=\"data row13 col0\" >[[1, 0], [-100, 1]]</td>\n",
       "      <td id=\"T_40d25_row13_col1\" class=\"data row13 col1\" >0.9911</td>\n",
       "      <td id=\"T_40d25_row13_col2\" class=\"data row13 col2\" >0.9991</td>\n",
       "      <td id=\"T_40d25_row13_col3\" class=\"data row13 col3\" >0.9991</td>\n",
       "      <td id=\"T_40d25_row13_col4\" class=\"data row13 col4\" >0.9756</td>\n",
       "      <td id=\"T_40d25_row13_col5\" class=\"data row13 col5\" >0.9991</td>\n",
       "      <td id=\"T_40d25_row13_col6\" class=\"data row13 col6\" >0.9991</td>\n",
       "      <td id=\"T_40d25_row13_col7\" class=\"data row13 col7\" >0.9897</td>\n",
       "      <td id=\"T_40d25_row13_col8\" class=\"data row13 col8\" >0.9986</td>\n",
       "    </tr>\n",
       "    <tr>\n",
       "      <th id=\"T_40d25_level0_row14\" class=\"row_heading level0 row14\" >14</th>\n",
       "      <td id=\"T_40d25_row14_col0\" class=\"data row14 col0\" >[[1, -100], [0, 1]]</td>\n",
       "      <td id=\"T_40d25_row14_col1\" class=\"data row14 col1\" >0.9757</td>\n",
       "      <td id=\"T_40d25_row14_col2\" class=\"data row14 col2\" >0.9923</td>\n",
       "      <td id=\"T_40d25_row14_col3\" class=\"data row14 col3\" >0.9974</td>\n",
       "      <td id=\"T_40d25_row14_col4\" class=\"data row14 col4\" >0.9847</td>\n",
       "      <td id=\"T_40d25_row14_col5\" class=\"data row14 col5\" >0.9910</td>\n",
       "      <td id=\"T_40d25_row14_col6\" class=\"data row14 col6\" >0.9957</td>\n",
       "      <td id=\"T_40d25_row14_col7\" class=\"data row14 col7\" >0.9842</td>\n",
       "      <td id=\"T_40d25_row14_col8\" class=\"data row14 col8\" >0.9943</td>\n",
       "    </tr>\n",
       "  </tbody>\n",
       "</table>\n"
      ],
      "text/plain": [
       "<pandas.io.formats.style.Styler at 0x7fbc0b1c6fd0>"
      ]
     },
     "execution_count": 48,
     "metadata": {},
     "output_type": "execute_result"
    }
   ],
   "source": [
    "df_scores_style.style.\\\n",
    "        format(precision=4).\\\n",
    "        highlight_max(color='lightgreen', subset=df_scores_style.columns[1:4], axis=1).\\\n",
    "        highlight_max(color='lightblue', subset=df_scores_style.columns[4:], axis=1)\n",
    "        #highlight_max(color='lightyellow', subset=df_scores.columns[7:], axis=1)\n"
   ]
  },
  {
   "cell_type": "code",
   "execution_count": null,
   "id": "b3d29dd8",
   "metadata": {},
   "outputs": [],
   "source": []
  }
 ],
 "metadata": {
  "kernelspec": {
   "display_name": "Python 3 (ipykernel)",
   "language": "python",
   "name": "python3"
  },
  "language_info": {
   "codemirror_mode": {
    "name": "ipython",
    "version": 3
   },
   "file_extension": ".py",
   "mimetype": "text/x-python",
   "name": "python",
   "nbconvert_exporter": "python",
   "pygments_lexer": "ipython3",
   "version": "3.7.11"
  }
 },
 "nbformat": 4,
 "nbformat_minor": 5
}
