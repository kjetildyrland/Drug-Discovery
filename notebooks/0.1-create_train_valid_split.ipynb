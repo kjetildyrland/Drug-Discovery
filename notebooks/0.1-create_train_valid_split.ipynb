{
 "cells": [
  {
   "cell_type": "markdown",
   "id": "5e4ccdfe",
   "metadata": {},
   "source": [
    "# Image Classification with DNN"
   ]
  },
  {
   "cell_type": "markdown",
   "id": "f2f9da94",
   "metadata": {},
   "source": [
    "## DATASETS:\n",
    "(a) Carbonic Anhydrase II (ChEMBL205), a protein lyase,  \n",
    "(b) Cyclin-dependent kinase 2 (CHEMBL301), a protein kinase,  \n",
    "(c) ether-a-go-go-related gene potassium channel 1 (HERG) (CHEMBL240), a voltage-gated ion channel,  \n",
    "(d) Dopamine D4 receptor (CHEMBL219), a monoamine GPCR,  \n",
    "(e) Coagulation factor X (CHEMBL244), a serine protease,  \n",
    "(f) Cannabinoid CB1 receptor (CHEMBL218), a lipid-like GPCR and  \n",
    "(g) Cytochrome P450 19A1 (CHEMBL1978), a cytochrome P450.  \n",
    "The activity classes were selected based on data availability and as representatives of therapeutically important target classes or as anti-targets."
   ]
  },
  {
   "cell_type": "code",
   "execution_count": 1,
   "id": "fcf71ac3",
   "metadata": {},
   "outputs": [],
   "source": [
    "# Import\n",
    "import pandas as pd\n",
    "import numpy as np\n",
    "from pathlib import Path"
   ]
  },
  {
   "cell_type": "code",
   "execution_count": 2,
   "id": "dc71a6bb",
   "metadata": {},
   "outputs": [],
   "source": [
    "path = Path('../dataset/13321_2017_226_MOESM1_ESM/')"
   ]
  },
  {
   "cell_type": "code",
   "execution_count": 3,
   "id": "85a552c6",
   "metadata": {},
   "outputs": [
    {
     "data": {
      "text/plain": [
       "[PosixPath('../dataset/13321_2017_226_MOESM1_ESM/CHEMBL205'),\n",
       " PosixPath('../dataset/13321_2017_226_MOESM1_ESM/.ipynb_checkpoints'),\n",
       " PosixPath('../dataset/13321_2017_226_MOESM1_ESM/CHEMBL301'),\n",
       " PosixPath('../dataset/13321_2017_226_MOESM1_ESM/CHEMBL218'),\n",
       " PosixPath('../dataset/13321_2017_226_MOESM1_ESM/CHEMBL219'),\n",
       " PosixPath('../dataset/13321_2017_226_MOESM1_ESM/CHEMBL244'),\n",
       " PosixPath('../dataset/13321_2017_226_MOESM1_ESM/mol_images'),\n",
       " PosixPath('../dataset/13321_2017_226_MOESM1_ESM/CHEMBL1978'),\n",
       " PosixPath('../dataset/13321_2017_226_MOESM1_ESM/CHEMBL240')]"
      ]
     },
     "execution_count": 3,
     "metadata": {},
     "output_type": "execute_result"
    }
   ],
   "source": [
    "list(path.iterdir())"
   ]
  },
  {
   "cell_type": "markdown",
   "id": "0be96cb4",
   "metadata": {},
   "source": [
    "# Create Test Datasets"
   ]
  },
  {
   "cell_type": "code",
   "execution_count": 4,
   "id": "f5be6f0c",
   "metadata": {},
   "outputs": [],
   "source": [
    "from sklearn.model_selection import train_test_split"
   ]
  },
  {
   "cell_type": "code",
   "execution_count": 5,
   "id": "aa1143af",
   "metadata": {},
   "outputs": [],
   "source": [
    "datasets = ['CHEMBL205','CHEMBL1978', 'CHEMBL301', 'CHEMBL218', \n",
    "            'CHEMBL240', 'CHEMBL219', \n",
    "            'CHEMBL244']"
   ]
  },
  {
   "cell_type": "code",
   "execution_count": 6,
   "id": "40ea885e",
   "metadata": {},
   "outputs": [],
   "source": [
    "dataset=datasets[0]"
   ]
  },
  {
   "cell_type": "code",
   "execution_count": 7,
   "id": "9084b1e3",
   "metadata": {},
   "outputs": [
    {
     "data": {
      "text/plain": [
       "4"
      ]
     },
     "execution_count": 7,
     "metadata": {},
     "output_type": "execute_result"
    }
   ],
   "source": [
    "DATA = path\n",
    "DATA.mkdir(exist_ok=True)\n",
    "PATH = DATA/datasets[2]\n",
    "len(list(PATH.iterdir()))"
   ]
  },
  {
   "cell_type": "code",
   "execution_count": 8,
   "id": "d709e507",
   "metadata": {},
   "outputs": [
    {
     "name": "stdout",
     "output_type": "stream",
     "text": [
      "<class 'pandas.core.frame.DataFrame'>\n",
      "RangeIndex: 17941 entries, 0 to 17940\n",
      "Data columns (total 3 columns):\n",
      " #   Column    Non-Null Count  Dtype \n",
      "---  ------    --------------  ----- \n",
      " 0   CID       17941 non-null  object\n",
      " 1   SMILES    17941 non-null  object\n",
      " 2   Activity  17941 non-null  int64 \n",
      "dtypes: int64(1), object(2)\n",
      "memory usage: 420.6+ KB\n"
     ]
    }
   ],
   "source": [
    "DATASET = DATA/dataset\n",
    "df = pd.read_csv(DATASET/f'{dataset}_cl.csv')\n",
    "df.info()"
   ]
  },
  {
   "cell_type": "code",
   "execution_count": 14,
   "id": "2eefeec5",
   "metadata": {},
   "outputs": [
    {
     "data": {
      "text/plain": [
       "(1631, 16310)"
      ]
     },
     "execution_count": 14,
     "metadata": {},
     "output_type": "execute_result"
    }
   ],
   "source": [
    "len(df[df['Activity']==1]), len(df[df['Activity']==0])"
   ]
  },
  {
   "cell_type": "code",
   "execution_count": 25,
   "id": "ec1b2c11",
   "metadata": {
    "scrolled": true
   },
   "outputs": [
    {
     "name": "stdout",
     "output_type": "stream",
     "text": [
      "<class 'pandas.core.frame.DataFrame'>\n",
      "RangeIndex: 17941 entries, 0 to 17940\n",
      "Data columns (total 3 columns):\n",
      " #   Column    Non-Null Count  Dtype \n",
      "---  ------    --------------  ----- \n",
      " 0   CID       17941 non-null  object\n",
      " 1   SMILES    17941 non-null  object\n",
      " 2   Activity  17941 non-null  int64 \n",
      "dtypes: int64(1), object(2)\n",
      "memory usage: 420.6+ KB\n",
      "<class 'pandas.core.frame.DataFrame'>\n",
      "RangeIndex: 3589 entries, 0 to 3588\n",
      "Data columns (total 3 columns):\n",
      " #   Column    Non-Null Count  Dtype \n",
      "---  ------    --------------  ----- \n",
      " 0   CID       3589 non-null   object\n",
      " 1   SMILES    3589 non-null   object\n",
      " 2   Activity  3589 non-null   int64 \n",
      "dtypes: int64(1), object(2)\n",
      "memory usage: 84.2+ KB\n",
      "<class 'pandas.core.frame.DataFrame'>\n",
      "RangeIndex: 14352 entries, 0 to 14351\n",
      "Data columns (total 3 columns):\n",
      " #   Column    Non-Null Count  Dtype \n",
      "---  ------    --------------  ----- \n",
      " 0   CID       14352 non-null  object\n",
      " 1   SMILES    14352 non-null  object\n",
      " 2   Activity  14352 non-null  int64 \n",
      "dtypes: int64(1), object(2)\n",
      "memory usage: 336.5+ KB\n",
      "<class 'pandas.core.frame.DataFrame'>\n",
      "RangeIndex: 3589 entries, 0 to 3588\n",
      "Data columns (total 3 columns):\n",
      " #   Column    Non-Null Count  Dtype \n",
      "---  ------    --------------  ----- \n",
      " 0   CID       3589 non-null   object\n",
      " 1   SMILES    3589 non-null   object\n",
      " 2   Activity  3589 non-null   int64 \n",
      "dtypes: int64(1), object(2)\n",
      "memory usage: 84.2+ KB\n",
      "<class 'pandas.core.frame.DataFrame'>\n",
      "RangeIndex: 10764 entries, 0 to 10763\n",
      "Data columns (total 3 columns):\n",
      " #   Column    Non-Null Count  Dtype \n",
      "---  ------    --------------  ----- \n",
      " 0   CID       10764 non-null  object\n",
      " 1   SMILES    10764 non-null  object\n",
      " 2   Activity  10764 non-null  int64 \n",
      "dtypes: int64(1), object(2)\n",
      "memory usage: 252.4+ KB\n",
      "<class 'pandas.core.frame.DataFrame'>\n",
      "RangeIndex: 3589 entries, 0 to 3588\n",
      "Data columns (total 3 columns):\n",
      " #   Column    Non-Null Count  Dtype \n",
      "---  ------    --------------  ----- \n",
      " 0   CID       3589 non-null   object\n",
      " 1   SMILES    3589 non-null   object\n",
      " 2   Activity  3589 non-null   int64 \n",
      "dtypes: int64(1), object(2)\n",
      "memory usage: 84.2+ KB\n",
      "<class 'pandas.core.frame.DataFrame'>\n",
      "RangeIndex: 3589 entries, 0 to 3588\n",
      "Data columns (total 3 columns):\n",
      " #   Column    Non-Null Count  Dtype \n",
      "---  ------    --------------  ----- \n",
      " 0   CID       3589 non-null   object\n",
      " 1   SMILES    3589 non-null   object\n",
      " 2   Activity  3589 non-null   int64 \n",
      "dtypes: int64(1), object(2)\n",
      "memory usage: 84.2+ KB\n"
     ]
    }
   ],
   "source": [
    "for dataset in datasets[0:1]:\n",
    "    \n",
    "    DATASET = DATA/dataset\n",
    "    df = pd.read_csv(DATASET/f'{dataset}_cl.csv')\n",
    "    df.info()\n",
    "    x_train, x_test = train_test_split(df.index, test_size=0.2, random_state=666, stratify=df['Activity'])\n",
    "    test1 = df.loc[x_test]\n",
    "    test1 = df_test.reset_index(drop=True)\n",
    "    test1.info()\n",
    "    df = df.loc[x_train]\n",
    "    df = df.reset_index(drop=True)\n",
    "    df.info()\n",
    "    x_train, x_test = train_test_split(df.index, test_size=0.25, random_state=666, stratify=df['Activity'])\n",
    "    test2 = df.loc[x_test]\n",
    "    test2 = df_test.reset_index(drop=True)\n",
    "    test2.info()\n",
    "    df = df.loc[x_train]\n",
    "    df = df.reset_index(drop=True)\n",
    "    df.info()\n",
    "    x_train, x_valid = train_test_split(df.index, test_size=0.2, random_state=666, stratify=df['Activity'])\n",
    "    df.loc[x_train, 'is_valid']=False\n",
    "    df.loc[x_valid, 'is_valid']=True\n",
    "    df = df.reset_index(drop=True)\n",
    "    df.to_csv(DATASET/f'{dataset}_train_valid.csv', index=False)\n",
    "    test1.to_csv(DATASET/f'{dataset}_test1.csv', index=False)\n",
    "    test2.to_csv(DATASET/f'{dataset}_test2.csv', index=False)\n",
    "    test1.info()\n",
    "    test2.info()"
   ]
  },
  {
   "cell_type": "code",
   "execution_count": 26,
   "id": "350f1d1d",
   "metadata": {
    "scrolled": true
   },
   "outputs": [
    {
     "name": "stdout",
     "output_type": "stream",
     "text": [
      "<class 'pandas.core.frame.DataFrame'>\n",
      "RangeIndex: 10764 entries, 0 to 10763\n",
      "Data columns (total 4 columns):\n",
      " #   Column    Non-Null Count  Dtype \n",
      "---  ------    --------------  ----- \n",
      " 0   CID       10764 non-null  object\n",
      " 1   SMILES    10764 non-null  object\n",
      " 2   Activity  10764 non-null  int64 \n",
      " 3   is_valid  10764 non-null  bool  \n",
      "dtypes: bool(1), int64(1), object(2)\n",
      "memory usage: 262.9+ KB\n"
     ]
    }
   ],
   "source": [
    "df = pd.read_csv(DATA/dataset/f'{datasets[0]}_train_valid.csv')\n",
    "df.info()"
   ]
  },
  {
   "cell_type": "code",
   "execution_count": 27,
   "id": "174e5def",
   "metadata": {},
   "outputs": [
    {
     "name": "stdout",
     "output_type": "stream",
     "text": [
      "<class 'pandas.core.frame.DataFrame'>\n",
      "RangeIndex: 3589 entries, 0 to 3588\n",
      "Data columns (total 3 columns):\n",
      " #   Column    Non-Null Count  Dtype \n",
      "---  ------    --------------  ----- \n",
      " 0   CID       3589 non-null   object\n",
      " 1   SMILES    3589 non-null   object\n",
      " 2   Activity  3589 non-null   int64 \n",
      "dtypes: int64(1), object(2)\n",
      "memory usage: 84.2+ KB\n"
     ]
    }
   ],
   "source": [
    "df = pd.read_csv(DATA/dataset/f'{datasets[0]}_test1.csv')\n",
    "df.info()"
   ]
  },
  {
   "cell_type": "code",
   "execution_count": 29,
   "id": "a6e51fe0",
   "metadata": {},
   "outputs": [
    {
     "name": "stdout",
     "output_type": "stream",
     "text": [
      "<class 'pandas.core.frame.DataFrame'>\n",
      "RangeIndex: 3589 entries, 0 to 3588\n",
      "Data columns (total 3 columns):\n",
      " #   Column    Non-Null Count  Dtype \n",
      "---  ------    --------------  ----- \n",
      " 0   CID       3589 non-null   object\n",
      " 1   SMILES    3589 non-null   object\n",
      " 2   Activity  3589 non-null   int64 \n",
      "dtypes: int64(1), object(2)\n",
      "memory usage: 84.2+ KB\n"
     ]
    }
   ],
   "source": [
    "df = pd.read_csv(DATA/dataset/f'{datasets[0]}_test2.csv')\n",
    "df.info()"
   ]
  },
  {
   "cell_type": "code",
   "execution_count": null,
   "id": "6e079da5",
   "metadata": {},
   "outputs": [],
   "source": []
  }
 ],
 "metadata": {
  "kernelspec": {
   "display_name": "Python 3 (ipykernel)",
   "language": "python",
   "name": "python3"
  },
  "language_info": {
   "codemirror_mode": {
    "name": "ipython",
    "version": 3
   },
   "file_extension": ".py",
   "mimetype": "text/x-python",
   "name": "python",
   "nbconvert_exporter": "python",
   "pygments_lexer": "ipython3",
   "version": "3.7.11"
  }
 },
 "nbformat": 4,
 "nbformat_minor": 5
}
