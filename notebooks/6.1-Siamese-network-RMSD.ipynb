{
 "cells": [
  {
   "cell_type": "markdown",
   "id": "02376db5",
   "metadata": {},
   "source": [
    "# Siamese Network on template ligand-docking dataset"
   ]
  },
  {
   "cell_type": "code",
   "execution_count": 10,
   "id": "7ff5d5e3",
   "metadata": {
    "scrolled": true
   },
   "outputs": [
    {
     "name": "stdout",
     "output_type": "stream",
     "text": [
      "Tue Feb 22 12:49:33 2022       \r\n",
      "+-----------------------------------------------------------------------------+\r\n",
      "| NVIDIA-SMI 460.91.03    Driver Version: 460.91.03    CUDA Version: 11.2     |\r\n",
      "|-------------------------------+----------------------+----------------------+\r\n",
      "| GPU  Name        Persistence-M| Bus-Id        Disp.A | Volatile Uncorr. ECC |\r\n",
      "| Fan  Temp  Perf  Pwr:Usage/Cap|         Memory-Usage | GPU-Util  Compute M. |\r\n",
      "|                               |                      |               MIG M. |\r\n",
      "|===============================+======================+======================|\r\n",
      "|   0  GeForce GTX 1080    Off  | 00000000:01:00.0  On |                  N/A |\r\n",
      "| 46%   58C    P0    60W / 240W |    418MiB /  8116MiB |      0%      Default |\r\n",
      "|                               |                      |                  N/A |\r\n",
      "+-------------------------------+----------------------+----------------------+\r\n",
      "                                                                               \r\n",
      "+-----------------------------------------------------------------------------+\r\n",
      "| Processes:                                                                  |\r\n",
      "|  GPU   GI   CI        PID   Type   Process name                  GPU Memory |\r\n",
      "|        ID   ID                                                   Usage      |\r\n",
      "|=============================================================================|\r\n",
      "|    0   N/A  N/A       934      G   /usr/lib/xorg/Xorg                209MiB |\r\n",
      "|    0   N/A  N/A      1212      G   /usr/bin/gnome-shell               51MiB |\r\n",
      "|    0   N/A  N/A      3508      G   /usr/lib/firefox/firefox          152MiB |\r\n",
      "|    0   N/A  N/A      5724      G   gnome-control-center                1MiB |\r\n",
      "+-----------------------------------------------------------------------------+\r\n"
     ]
    }
   ],
   "source": [
    "!nvidia-smi"
   ]
  },
  {
   "cell_type": "code",
   "execution_count": 11,
   "id": "986e40bd",
   "metadata": {},
   "outputs": [],
   "source": [
    "#%%capture\n",
    "#!wget -c https://repo.continuum.io/miniconda/Miniconda3-latest-Linux-x86_64.sh\n",
    "#!chmod +x Miniconda3-latest-Linux-x86_64.sh\n",
    "#!time bash ./Miniconda3-latest-Linux-x86_64.sh -b -f -p /usr/local\n",
    "#!time conda install -q -y -c conda-forge rdkit"
   ]
  },
  {
   "cell_type": "code",
   "execution_count": 12,
   "id": "fe052ee5",
   "metadata": {},
   "outputs": [],
   "source": [
    "# Import\n",
    "import pandas as pd\n",
    "import numpy as np\n",
    "from pathlib import Path"
   ]
  },
  {
   "cell_type": "code",
   "execution_count": 13,
   "id": "c51e1815",
   "metadata": {},
   "outputs": [],
   "source": [
    "%matplotlib inline\n",
    "import matplotlib.pyplot as plt\n",
    "import matplotlib.image as mpimg\n",
    "import sys\n",
    "import os\n",
    "sys.path.append('/usr/local/lib/python3.7/site-packages/')"
   ]
  },
  {
   "cell_type": "code",
   "execution_count": 14,
   "id": "8112b927",
   "metadata": {},
   "outputs": [],
   "source": [
    "dataset = 'oldsmiledata_id_processed_transformed_shuffled'"
   ]
  },
  {
   "cell_type": "code",
   "execution_count": 15,
   "id": "327fcae1",
   "metadata": {},
   "outputs": [],
   "source": [
    "path = Path('../dataset/oldsmiledata')"
   ]
  },
  {
   "cell_type": "code",
   "execution_count": 16,
   "id": "59ad0e49",
   "metadata": {},
   "outputs": [
    {
     "data": {
      "text/plain": [
       "[PosixPath('../dataset/oldsmiledata/test_oldsmiledata_id_processed_transformed_shuffled.csv'),\n",
       " PosixPath('../dataset/oldsmiledata/train_balanced_oldsmiledata_id_processed_transformed_shuffled.csv'),\n",
       " PosixPath('../dataset/oldsmiledata/oldsmiledata_id_processed_transformed_rescaled_shuffled.csv'),\n",
       " PosixPath('../dataset/oldsmiledata/.ipynb_checkpoints'),\n",
       " PosixPath('../dataset/oldsmiledata/mol_images'),\n",
       " PosixPath('../dataset/oldsmiledata/valid_balanced_oldsmiledata_id_processed_transformed_shuffled.csv'),\n",
       " PosixPath('../dataset/oldsmiledata/train_oldsmiledata_id_processed_transformed_shuffled.csv')]"
      ]
     },
     "execution_count": 16,
     "metadata": {},
     "output_type": "execute_result"
    }
   ],
   "source": [
    "list(path.iterdir())"
   ]
  },
  {
   "cell_type": "code",
   "execution_count": 17,
   "id": "5ab97516",
   "metadata": {},
   "outputs": [],
   "source": [
    "#IMAGES = path/'mol_images'/'all'\n",
    "train = pd.read_csv(path/f'train_balanced_{dataset}.csv', index_col=0)\n",
    "valid = pd.read_csv(path/f'valid_balanced_{dataset}.csv', index_col=0)"
   ]
  },
  {
   "cell_type": "code",
   "execution_count": 18,
   "id": "e5545dfb",
   "metadata": {
    "scrolled": true
   },
   "outputs": [
    {
     "name": "stdout",
     "output_type": "stream",
     "text": [
      "<class 'pandas.core.frame.DataFrame'>\n",
      "Int64Index: 19625 entries, 0 to 19624\n",
      "Data columns (total 42 columns):\n",
      " #   Column                          Non-Null Count  Dtype  \n",
      "---  ------                          --------------  -----  \n",
      " 0   template                        19625 non-null  object \n",
      " 1   docked                          19625 non-null  object \n",
      " 2   rmsd                            19625 non-null  float64\n",
      " 3   uniprot_id                      19625 non-null  object \n",
      " 4   smiles_template                 19625 non-null  object \n",
      " 5   smiles_docked                   19625 non-null  object \n",
      " 6   mcs_smartsString                19625 non-null  object \n",
      " 7   template_HeavyAtomCount         19625 non-null  int64  \n",
      " 8   template_NHOHCount              19625 non-null  int64  \n",
      " 9   template_NOCount                19625 non-null  int64  \n",
      " 10  template_RingCount              19625 non-null  int64  \n",
      " 11  template_NumHAcceptors          19625 non-null  int64  \n",
      " 12  template_NumHDonors             19625 non-null  int64  \n",
      " 13  template_NumHeteroAtoms         19625 non-null  int64  \n",
      " 14  template_NumRotatableBonds      19625 non-null  int64  \n",
      " 15  docked_HeavyAtomCount           19625 non-null  int64  \n",
      " 16  docked_NHOHCount                19625 non-null  int64  \n",
      " 17  docked_NOCount                  19625 non-null  int64  \n",
      " 18  docked_RingCount                19625 non-null  int64  \n",
      " 19  docked_NumHAcceptors            19625 non-null  int64  \n",
      " 20  docked_NumHDonors               19625 non-null  int64  \n",
      " 21  docked_NumHeteroAtoms           19625 non-null  int64  \n",
      " 22  docked_NumRotatableBonds        19625 non-null  int64  \n",
      " 23  mcs_HeavyAtomCount              19625 non-null  int64  \n",
      " 24  mcs_NOCount                     19625 non-null  int64  \n",
      " 25  mcs_RingCount                   19625 non-null  int64  \n",
      " 26  mcs_NumHeteroAtoms              19625 non-null  int64  \n",
      " 27  mcs_template_NHOHCount          19625 non-null  int64  \n",
      " 28  mcs_docked_NHOHCount            19625 non-null  int64  \n",
      " 29  mcs_template_NumHAcceptors      19625 non-null  int64  \n",
      " 30  mcs_docked_NumHAcceptors        19625 non-null  int64  \n",
      " 31  mcs_template_NumHDonors         19625 non-null  int64  \n",
      " 32  mcs_docked_NumHDonors           19625 non-null  int64  \n",
      " 33  mcs_template_NumRotatableBonds  19625 non-null  int64  \n",
      " 34  mcs_docked_NumRotatableBonds    19625 non-null  int64  \n",
      " 35  ec_tanimoto_similarity          19625 non-null  float64\n",
      " 36  fc_tanimoto_similarity          19625 non-null  float64\n",
      " 37  log_RMSD                        19625 non-null  float64\n",
      " 38  bin_RMSD                        19625 non-null  int64  \n",
      " 39  Xtransf_ec_tanimoto_similarity  19625 non-null  float64\n",
      " 40  Xtransf_fc_tanimoto_similarity  19625 non-null  float64\n",
      " 41  is_valid                        19625 non-null  bool   \n",
      "dtypes: bool(1), float64(6), int64(29), object(6)\n",
      "memory usage: 6.3+ MB\n"
     ]
    }
   ],
   "source": [
    "train.info()"
   ]
  },
  {
   "cell_type": "code",
   "execution_count": 19,
   "id": "cae241bb",
   "metadata": {
    "scrolled": true
   },
   "outputs": [
    {
     "name": "stdout",
     "output_type": "stream",
     "text": [
      "<class 'pandas.core.frame.DataFrame'>\n",
      "Int64Index: 5323 entries, 0 to 5322\n",
      "Data columns (total 42 columns):\n",
      " #   Column                          Non-Null Count  Dtype  \n",
      "---  ------                          --------------  -----  \n",
      " 0   template                        5323 non-null   object \n",
      " 1   docked                          5323 non-null   object \n",
      " 2   rmsd                            5323 non-null   float64\n",
      " 3   uniprot_id                      5323 non-null   object \n",
      " 4   smiles_template                 5323 non-null   object \n",
      " 5   smiles_docked                   5323 non-null   object \n",
      " 6   mcs_smartsString                5323 non-null   object \n",
      " 7   template_HeavyAtomCount         5323 non-null   int64  \n",
      " 8   template_NHOHCount              5323 non-null   int64  \n",
      " 9   template_NOCount                5323 non-null   int64  \n",
      " 10  template_RingCount              5323 non-null   int64  \n",
      " 11  template_NumHAcceptors          5323 non-null   int64  \n",
      " 12  template_NumHDonors             5323 non-null   int64  \n",
      " 13  template_NumHeteroAtoms         5323 non-null   int64  \n",
      " 14  template_NumRotatableBonds      5323 non-null   int64  \n",
      " 15  docked_HeavyAtomCount           5323 non-null   int64  \n",
      " 16  docked_NHOHCount                5323 non-null   int64  \n",
      " 17  docked_NOCount                  5323 non-null   int64  \n",
      " 18  docked_RingCount                5323 non-null   int64  \n",
      " 19  docked_NumHAcceptors            5323 non-null   int64  \n",
      " 20  docked_NumHDonors               5323 non-null   int64  \n",
      " 21  docked_NumHeteroAtoms           5323 non-null   int64  \n",
      " 22  docked_NumRotatableBonds        5323 non-null   int64  \n",
      " 23  mcs_HeavyAtomCount              5323 non-null   int64  \n",
      " 24  mcs_NOCount                     5323 non-null   int64  \n",
      " 25  mcs_RingCount                   5323 non-null   int64  \n",
      " 26  mcs_NumHeteroAtoms              5323 non-null   int64  \n",
      " 27  mcs_template_NHOHCount          5323 non-null   int64  \n",
      " 28  mcs_docked_NHOHCount            5323 non-null   int64  \n",
      " 29  mcs_template_NumHAcceptors      5323 non-null   int64  \n",
      " 30  mcs_docked_NumHAcceptors        5323 non-null   int64  \n",
      " 31  mcs_template_NumHDonors         5323 non-null   int64  \n",
      " 32  mcs_docked_NumHDonors           5323 non-null   int64  \n",
      " 33  mcs_template_NumRotatableBonds  5323 non-null   int64  \n",
      " 34  mcs_docked_NumRotatableBonds    5323 non-null   int64  \n",
      " 35  ec_tanimoto_similarity          5323 non-null   float64\n",
      " 36  fc_tanimoto_similarity          5323 non-null   float64\n",
      " 37  log_RMSD                        5323 non-null   float64\n",
      " 38  bin_RMSD                        5323 non-null   int64  \n",
      " 39  Xtransf_ec_tanimoto_similarity  5323 non-null   float64\n",
      " 40  Xtransf_fc_tanimoto_similarity  5323 non-null   float64\n",
      " 41  is_valid                        5323 non-null   bool   \n",
      "dtypes: bool(1), float64(6), int64(29), object(6)\n",
      "memory usage: 1.7+ MB\n"
     ]
    }
   ],
   "source": [
    "valid.info()"
   ]
  },
  {
   "cell_type": "code",
   "execution_count": 20,
   "id": "fb7fc361",
   "metadata": {},
   "outputs": [
    {
     "data": {
      "text/html": [
       "<div>\n",
       "<style scoped>\n",
       "    .dataframe tbody tr th:only-of-type {\n",
       "        vertical-align: middle;\n",
       "    }\n",
       "\n",
       "    .dataframe tbody tr th {\n",
       "        vertical-align: top;\n",
       "    }\n",
       "\n",
       "    .dataframe thead th {\n",
       "        text-align: right;\n",
       "    }\n",
       "</style>\n",
       "<table border=\"1\" class=\"dataframe\">\n",
       "  <thead>\n",
       "    <tr style=\"text-align: right;\">\n",
       "      <th></th>\n",
       "      <th>template</th>\n",
       "      <th>docked</th>\n",
       "      <th>rmsd</th>\n",
       "      <th>uniprot_id</th>\n",
       "      <th>smiles_template</th>\n",
       "      <th>smiles_docked</th>\n",
       "      <th>mcs_smartsString</th>\n",
       "      <th>template_HeavyAtomCount</th>\n",
       "      <th>template_NHOHCount</th>\n",
       "      <th>template_NOCount</th>\n",
       "      <th>...</th>\n",
       "      <th>mcs_docked_NumHDonors</th>\n",
       "      <th>mcs_template_NumRotatableBonds</th>\n",
       "      <th>mcs_docked_NumRotatableBonds</th>\n",
       "      <th>ec_tanimoto_similarity</th>\n",
       "      <th>fc_tanimoto_similarity</th>\n",
       "      <th>log_RMSD</th>\n",
       "      <th>bin_RMSD</th>\n",
       "      <th>Xtransf_ec_tanimoto_similarity</th>\n",
       "      <th>Xtransf_fc_tanimoto_similarity</th>\n",
       "      <th>is_valid</th>\n",
       "    </tr>\n",
       "  </thead>\n",
       "  <tbody>\n",
       "    <tr>\n",
       "      <th>0</th>\n",
       "      <td>2JH5_895</td>\n",
       "      <td>1C5O_BAM</td>\n",
       "      <td>3.209</td>\n",
       "      <td>P00734</td>\n",
       "      <td>C[C@@H](C(=O)N1CCOCC1)N1CC[C@H](NS(=O)(=O)/C=C...</td>\n",
       "      <td>NC(=[NH2+])c1ccccc1</td>\n",
       "      <td>[#7]-[#6]-[#6]:,-[#6]:,-[#6]</td>\n",
       "      <td>28</td>\n",
       "      <td>1</td>\n",
       "      <td>8</td>\n",
       "      <td>...</td>\n",
       "      <td>1</td>\n",
       "      <td>0</td>\n",
       "      <td>1</td>\n",
       "      <td>0.050847</td>\n",
       "      <td>0.059829</td>\n",
       "      <td>1.165959</td>\n",
       "      <td>3</td>\n",
       "      <td>-1.491525</td>\n",
       "      <td>-2.401709</td>\n",
       "      <td>False</td>\n",
       "    </tr>\n",
       "    <tr>\n",
       "      <th>1</th>\n",
       "      <td>5Y12_8JX</td>\n",
       "      <td>1TOW_CRZ</td>\n",
       "      <td>1.769</td>\n",
       "      <td>P15090</td>\n",
       "      <td>COc1ccc(S(=O)(=O)NCCCCC(=O)O)c2ccccc12</td>\n",
       "      <td>O=C(O)CCCn1c2ccccc2c2ccccc21</td>\n",
       "      <td>[#6]1:[#6]:[#6]:[#6]:[#6]:[#6]:1:[#6]:[#6]:[#6...</td>\n",
       "      <td>23</td>\n",
       "      <td>2</td>\n",
       "      <td>6</td>\n",
       "      <td>...</td>\n",
       "      <td>0</td>\n",
       "      <td>0</td>\n",
       "      <td>0</td>\n",
       "      <td>0.324561</td>\n",
       "      <td>0.324561</td>\n",
       "      <td>0.570414</td>\n",
       "      <td>1</td>\n",
       "      <td>1.245614</td>\n",
       "      <td>0.245614</td>\n",
       "      <td>False</td>\n",
       "    </tr>\n",
       "    <tr>\n",
       "      <th>2</th>\n",
       "      <td>2W26_RIV</td>\n",
       "      <td>2Y80_439</td>\n",
       "      <td>7.217</td>\n",
       "      <td>P00742</td>\n",
       "      <td>O=C(NC[C@H]1CN(c2ccc(N3CCOCC3=O)cc2)C(=O)O1)c1...</td>\n",
       "      <td>CN(C)[C@@H]1CCc2cc(N3CC[C@H](NS(=O)(=O)c4ccc5c...</td>\n",
       "      <td>[#7]-[#6]-[#6]-[#6]-[#7](-[#6]1:[#6]:[#6]:[#6]...</td>\n",
       "      <td>29</td>\n",
       "      <td>1</td>\n",
       "      <td>8</td>\n",
       "      <td>...</td>\n",
       "      <td>1</td>\n",
       "      <td>3</td>\n",
       "      <td>2</td>\n",
       "      <td>0.187166</td>\n",
       "      <td>0.283237</td>\n",
       "      <td>1.976439</td>\n",
       "      <td>3</td>\n",
       "      <td>-0.128342</td>\n",
       "      <td>-0.167630</td>\n",
       "      <td>False</td>\n",
       "    </tr>\n",
       "    <tr>\n",
       "      <th>3</th>\n",
       "      <td>1C1U_BAI</td>\n",
       "      <td>2C8W_C7M</td>\n",
       "      <td>4.928</td>\n",
       "      <td>P00734</td>\n",
       "      <td>N=C(N)c1ccc2[nH]c(Cc3nc4ccccc4[nH]3)nc2c1</td>\n",
       "      <td>COc1ccc(S(=O)(=O)NC[C@@H](O)[C@H](Cc2ccccc2)[N...</td>\n",
       "      <td>[#6]-,:[#6]:[#6]:[#6]:[#6](:,-[#7]:,-[#6]):[#6...</td>\n",
       "      <td>22</td>\n",
       "      <td>5</td>\n",
       "      <td>6</td>\n",
       "      <td>...</td>\n",
       "      <td>0</td>\n",
       "      <td>1</td>\n",
       "      <td>2</td>\n",
       "      <td>0.139037</td>\n",
       "      <td>0.157609</td>\n",
       "      <td>1.594933</td>\n",
       "      <td>3</td>\n",
       "      <td>-0.609626</td>\n",
       "      <td>-1.423913</td>\n",
       "      <td>False</td>\n",
       "    </tr>\n",
       "    <tr>\n",
       "      <th>4</th>\n",
       "      <td>5AFY_WCE</td>\n",
       "      <td>3SV2_P05</td>\n",
       "      <td>7.608</td>\n",
       "      <td>P00734</td>\n",
       "      <td>NC(=O)c1cccc(Cl)c1</td>\n",
       "      <td>N[C@H](Cc1ccccc1)C(=O)N1CCC[C@H]1C(=O)NCc1ccncc1</td>\n",
       "      <td>[#7]-[#6](=[#8])-[#6]:,-[#6]:,-[#6]:[#6]:[#6]:...</td>\n",
       "      <td>10</td>\n",
       "      <td>2</td>\n",
       "      <td>2</td>\n",
       "      <td>...</td>\n",
       "      <td>0</td>\n",
       "      <td>1</td>\n",
       "      <td>4</td>\n",
       "      <td>0.116071</td>\n",
       "      <td>0.157407</td>\n",
       "      <td>2.029200</td>\n",
       "      <td>3</td>\n",
       "      <td>-0.839286</td>\n",
       "      <td>-1.425926</td>\n",
       "      <td>False</td>\n",
       "    </tr>\n",
       "  </tbody>\n",
       "</table>\n",
       "<p>5 rows × 42 columns</p>\n",
       "</div>"
      ],
      "text/plain": [
       "   template    docked   rmsd uniprot_id  \\\n",
       "0  2JH5_895  1C5O_BAM  3.209     P00734   \n",
       "1  5Y12_8JX  1TOW_CRZ  1.769     P15090   \n",
       "2  2W26_RIV  2Y80_439  7.217     P00742   \n",
       "3  1C1U_BAI  2C8W_C7M  4.928     P00734   \n",
       "4  5AFY_WCE  3SV2_P05  7.608     P00734   \n",
       "\n",
       "                                     smiles_template  \\\n",
       "0  C[C@@H](C(=O)N1CCOCC1)N1CC[C@H](NS(=O)(=O)/C=C...   \n",
       "1             COc1ccc(S(=O)(=O)NCCCCC(=O)O)c2ccccc12   \n",
       "2  O=C(NC[C@H]1CN(c2ccc(N3CCOCC3=O)cc2)C(=O)O1)c1...   \n",
       "3          N=C(N)c1ccc2[nH]c(Cc3nc4ccccc4[nH]3)nc2c1   \n",
       "4                                 NC(=O)c1cccc(Cl)c1   \n",
       "\n",
       "                                       smiles_docked  \\\n",
       "0                                NC(=[NH2+])c1ccccc1   \n",
       "1                       O=C(O)CCCn1c2ccccc2c2ccccc21   \n",
       "2  CN(C)[C@@H]1CCc2cc(N3CC[C@H](NS(=O)(=O)c4ccc5c...   \n",
       "3  COc1ccc(S(=O)(=O)NC[C@@H](O)[C@H](Cc2ccccc2)[N...   \n",
       "4   N[C@H](Cc1ccccc1)C(=O)N1CCC[C@H]1C(=O)NCc1ccncc1   \n",
       "\n",
       "                                    mcs_smartsString  template_HeavyAtomCount  \\\n",
       "0                       [#7]-[#6]-[#6]:,-[#6]:,-[#6]                       28   \n",
       "1  [#6]1:[#6]:[#6]:[#6]:[#6]:[#6]:1:[#6]:[#6]:[#6...                       23   \n",
       "2  [#7]-[#6]-[#6]-[#6]-[#7](-[#6]1:[#6]:[#6]:[#6]...                       29   \n",
       "3  [#6]-,:[#6]:[#6]:[#6]:[#6](:,-[#7]:,-[#6]):[#6...                       22   \n",
       "4  [#7]-[#6](=[#8])-[#6]:,-[#6]:,-[#6]:[#6]:[#6]:...                       10   \n",
       "\n",
       "   template_NHOHCount  template_NOCount  ...  mcs_docked_NumHDonors  \\\n",
       "0                   1                 8  ...                      1   \n",
       "1                   2                 6  ...                      0   \n",
       "2                   1                 8  ...                      1   \n",
       "3                   5                 6  ...                      0   \n",
       "4                   2                 2  ...                      0   \n",
       "\n",
       "   mcs_template_NumRotatableBonds  mcs_docked_NumRotatableBonds  \\\n",
       "0                               0                             1   \n",
       "1                               0                             0   \n",
       "2                               3                             2   \n",
       "3                               1                             2   \n",
       "4                               1                             4   \n",
       "\n",
       "   ec_tanimoto_similarity  fc_tanimoto_similarity  log_RMSD  bin_RMSD  \\\n",
       "0                0.050847                0.059829  1.165959         3   \n",
       "1                0.324561                0.324561  0.570414         1   \n",
       "2                0.187166                0.283237  1.976439         3   \n",
       "3                0.139037                0.157609  1.594933         3   \n",
       "4                0.116071                0.157407  2.029200         3   \n",
       "\n",
       "   Xtransf_ec_tanimoto_similarity  Xtransf_fc_tanimoto_similarity  is_valid  \n",
       "0                       -1.491525                       -2.401709     False  \n",
       "1                        1.245614                        0.245614     False  \n",
       "2                       -0.128342                       -0.167630     False  \n",
       "3                       -0.609626                       -1.423913     False  \n",
       "4                       -0.839286                       -1.425926     False  \n",
       "\n",
       "[5 rows x 42 columns]"
      ]
     },
     "execution_count": 20,
     "metadata": {},
     "output_type": "execute_result"
    }
   ],
   "source": [
    "train.head()"
   ]
  },
  {
   "cell_type": "markdown",
   "id": "4f59daa4",
   "metadata": {},
   "source": [
    "# Preprocessing building ImageDataGenerator"
   ]
  },
  {
   "cell_type": "code",
   "execution_count": 21,
   "id": "809b5437",
   "metadata": {},
   "outputs": [
    {
     "name": "stderr",
     "output_type": "stream",
     "text": [
      "2022-02-22 12:49:35.638920: I tensorflow/stream_executor/platform/default/dso_loader.cc:49] Successfully opened dynamic library libcudart.so.10.1\n"
     ]
    }
   ],
   "source": [
    "import matplotlib.pyplot as plt\n",
    "import numpy as np\n",
    "import os\n",
    "import random\n",
    "import tensorflow as tf\n",
    "from pathlib import Path\n",
    "from tensorflow.keras import applications\n",
    "from tensorflow.keras import layers\n",
    "from tensorflow.keras import losses\n",
    "from tensorflow.keras import optimizers\n",
    "from tensorflow.keras import metrics\n",
    "from tensorflow.keras import Model\n",
    "from tensorflow.keras.applications import resnet"
   ]
  },
  {
   "cell_type": "markdown",
   "id": "664cc219",
   "metadata": {},
   "source": [
    "### Splitting the data into train and validation sets"
   ]
  },
  {
   "cell_type": "code",
   "execution_count": 22,
   "id": "59928f03",
   "metadata": {
    "scrolled": true
   },
   "outputs": [
    {
     "name": "stdout",
     "output_type": "stream",
     "text": [
      "<class 'pandas.core.frame.DataFrame'>\n",
      "Int64Index: 19625 entries, 0 to 19624\n",
      "Data columns (total 44 columns):\n",
      " #   Column                          Non-Null Count  Dtype  \n",
      "---  ------                          --------------  -----  \n",
      " 0   template                        19625 non-null  object \n",
      " 1   docked                          19625 non-null  object \n",
      " 2   rmsd                            19625 non-null  float64\n",
      " 3   uniprot_id                      19625 non-null  object \n",
      " 4   smiles_template                 19625 non-null  object \n",
      " 5   smiles_docked                   19625 non-null  object \n",
      " 6   mcs_smartsString                19625 non-null  object \n",
      " 7   template_HeavyAtomCount         19625 non-null  int64  \n",
      " 8   template_NHOHCount              19625 non-null  int64  \n",
      " 9   template_NOCount                19625 non-null  int64  \n",
      " 10  template_RingCount              19625 non-null  int64  \n",
      " 11  template_NumHAcceptors          19625 non-null  int64  \n",
      " 12  template_NumHDonors             19625 non-null  int64  \n",
      " 13  template_NumHeteroAtoms         19625 non-null  int64  \n",
      " 14  template_NumRotatableBonds      19625 non-null  int64  \n",
      " 15  docked_HeavyAtomCount           19625 non-null  int64  \n",
      " 16  docked_NHOHCount                19625 non-null  int64  \n",
      " 17  docked_NOCount                  19625 non-null  int64  \n",
      " 18  docked_RingCount                19625 non-null  int64  \n",
      " 19  docked_NumHAcceptors            19625 non-null  int64  \n",
      " 20  docked_NumHDonors               19625 non-null  int64  \n",
      " 21  docked_NumHeteroAtoms           19625 non-null  int64  \n",
      " 22  docked_NumRotatableBonds        19625 non-null  int64  \n",
      " 23  mcs_HeavyAtomCount              19625 non-null  int64  \n",
      " 24  mcs_NOCount                     19625 non-null  int64  \n",
      " 25  mcs_RingCount                   19625 non-null  int64  \n",
      " 26  mcs_NumHeteroAtoms              19625 non-null  int64  \n",
      " 27  mcs_template_NHOHCount          19625 non-null  int64  \n",
      " 28  mcs_docked_NHOHCount            19625 non-null  int64  \n",
      " 29  mcs_template_NumHAcceptors      19625 non-null  int64  \n",
      " 30  mcs_docked_NumHAcceptors        19625 non-null  int64  \n",
      " 31  mcs_template_NumHDonors         19625 non-null  int64  \n",
      " 32  mcs_docked_NumHDonors           19625 non-null  int64  \n",
      " 33  mcs_template_NumRotatableBonds  19625 non-null  int64  \n",
      " 34  mcs_docked_NumRotatableBonds    19625 non-null  int64  \n",
      " 35  ec_tanimoto_similarity          19625 non-null  float64\n",
      " 36  fc_tanimoto_similarity          19625 non-null  float64\n",
      " 37  log_RMSD                        19625 non-null  float64\n",
      " 38  bin_RMSD                        19625 non-null  int64  \n",
      " 39  Xtransf_ec_tanimoto_similarity  19625 non-null  float64\n",
      " 40  Xtransf_fc_tanimoto_similarity  19625 non-null  float64\n",
      " 41  is_valid                        19625 non-null  bool   \n",
      " 42  img_temp                        19625 non-null  object \n",
      " 43  img_docked                      19625 non-null  object \n",
      "dtypes: bool(1), float64(6), int64(29), object(8)\n",
      "memory usage: 6.6+ MB\n"
     ]
    }
   ],
   "source": [
    "train['img_temp'] = train['template'] + '.png'\n",
    "train['img_docked'] = train['docked'] + '.png'\n",
    "train['is_valid'] = False\n",
    "train.info()"
   ]
  },
  {
   "cell_type": "code",
   "execution_count": 23,
   "id": "352ed10d",
   "metadata": {
    "scrolled": true
   },
   "outputs": [
    {
     "name": "stdout",
     "output_type": "stream",
     "text": [
      "<class 'pandas.core.frame.DataFrame'>\n",
      "Int64Index: 5323 entries, 0 to 5322\n",
      "Data columns (total 44 columns):\n",
      " #   Column                          Non-Null Count  Dtype  \n",
      "---  ------                          --------------  -----  \n",
      " 0   template                        5323 non-null   object \n",
      " 1   docked                          5323 non-null   object \n",
      " 2   rmsd                            5323 non-null   float64\n",
      " 3   uniprot_id                      5323 non-null   object \n",
      " 4   smiles_template                 5323 non-null   object \n",
      " 5   smiles_docked                   5323 non-null   object \n",
      " 6   mcs_smartsString                5323 non-null   object \n",
      " 7   template_HeavyAtomCount         5323 non-null   int64  \n",
      " 8   template_NHOHCount              5323 non-null   int64  \n",
      " 9   template_NOCount                5323 non-null   int64  \n",
      " 10  template_RingCount              5323 non-null   int64  \n",
      " 11  template_NumHAcceptors          5323 non-null   int64  \n",
      " 12  template_NumHDonors             5323 non-null   int64  \n",
      " 13  template_NumHeteroAtoms         5323 non-null   int64  \n",
      " 14  template_NumRotatableBonds      5323 non-null   int64  \n",
      " 15  docked_HeavyAtomCount           5323 non-null   int64  \n",
      " 16  docked_NHOHCount                5323 non-null   int64  \n",
      " 17  docked_NOCount                  5323 non-null   int64  \n",
      " 18  docked_RingCount                5323 non-null   int64  \n",
      " 19  docked_NumHAcceptors            5323 non-null   int64  \n",
      " 20  docked_NumHDonors               5323 non-null   int64  \n",
      " 21  docked_NumHeteroAtoms           5323 non-null   int64  \n",
      " 22  docked_NumRotatableBonds        5323 non-null   int64  \n",
      " 23  mcs_HeavyAtomCount              5323 non-null   int64  \n",
      " 24  mcs_NOCount                     5323 non-null   int64  \n",
      " 25  mcs_RingCount                   5323 non-null   int64  \n",
      " 26  mcs_NumHeteroAtoms              5323 non-null   int64  \n",
      " 27  mcs_template_NHOHCount          5323 non-null   int64  \n",
      " 28  mcs_docked_NHOHCount            5323 non-null   int64  \n",
      " 29  mcs_template_NumHAcceptors      5323 non-null   int64  \n",
      " 30  mcs_docked_NumHAcceptors        5323 non-null   int64  \n",
      " 31  mcs_template_NumHDonors         5323 non-null   int64  \n",
      " 32  mcs_docked_NumHDonors           5323 non-null   int64  \n",
      " 33  mcs_template_NumRotatableBonds  5323 non-null   int64  \n",
      " 34  mcs_docked_NumRotatableBonds    5323 non-null   int64  \n",
      " 35  ec_tanimoto_similarity          5323 non-null   float64\n",
      " 36  fc_tanimoto_similarity          5323 non-null   float64\n",
      " 37  log_RMSD                        5323 non-null   float64\n",
      " 38  bin_RMSD                        5323 non-null   int64  \n",
      " 39  Xtransf_ec_tanimoto_similarity  5323 non-null   float64\n",
      " 40  Xtransf_fc_tanimoto_similarity  5323 non-null   float64\n",
      " 41  is_valid                        5323 non-null   bool   \n",
      " 42  img_temp                        5323 non-null   object \n",
      " 43  img_docked                      5323 non-null   object \n",
      "dtypes: bool(1), float64(6), int64(29), object(8)\n",
      "memory usage: 1.8+ MB\n"
     ]
    }
   ],
   "source": [
    "valid['img_temp'] = valid['template'] + '.png'\n",
    "valid['img_docked'] = valid['docked'] + '.png'\n",
    "valid['is_valid'] = True\n",
    "valid.info()"
   ]
  },
  {
   "cell_type": "code",
   "execution_count": 24,
   "id": "a313685b",
   "metadata": {
    "scrolled": true
   },
   "outputs": [],
   "source": [
    "# image size 224,224\n",
    "target_shape=(224, 224)"
   ]
  },
  {
   "cell_type": "code",
   "execution_count": 25,
   "id": "bac8df9e",
   "metadata": {},
   "outputs": [],
   "source": [
    "IMAGES = '../dataset/oldsmiledata/mol_images/all/'"
   ]
  },
  {
   "cell_type": "code",
   "execution_count": 26,
   "id": "87693386",
   "metadata": {},
   "outputs": [],
   "source": [
    "def preprocess_image(filename):\n",
    "    img_str = tf.io.read_file(IMAGES + filename)\n",
    "    image = tf.image.decode_png(img_str, channels=3)\n",
    "    image = tf.image.convert_image_dtype(image, tf.float32)\n",
    "    image = tf.image.resize(image, target_shape)\n",
    "    #image = tf.transpose(image)\n",
    "    return image"
   ]
  },
  {
   "cell_type": "code",
   "execution_count": 27,
   "id": "c932c106",
   "metadata": {},
   "outputs": [],
   "source": [
    "%%capture\n",
    "#img_shape = preprocess_image(train.img_temp[0]).shape"
   ]
  },
  {
   "cell_type": "code",
   "execution_count": 28,
   "id": "c24a095f",
   "metadata": {},
   "outputs": [],
   "source": [
    "#img_shape"
   ]
  },
  {
   "cell_type": "code",
   "execution_count": 37,
   "id": "5de656f7",
   "metadata": {},
   "outputs": [
    {
     "name": "stdout",
     "output_type": "stream",
     "text": [
      "Tue Feb 22 12:56:18 2022       \r\n",
      "+-----------------------------------------------------------------------------+\r\n",
      "| NVIDIA-SMI 460.91.03    Driver Version: 460.91.03    CUDA Version: 11.2     |\r\n",
      "|-------------------------------+----------------------+----------------------+\r\n",
      "| GPU  Name        Persistence-M| Bus-Id        Disp.A | Volatile Uncorr. ECC |\r\n",
      "| Fan  Temp  Perf  Pwr:Usage/Cap|         Memory-Usage | GPU-Util  Compute M. |\r\n",
      "|                               |                      |               MIG M. |\r\n",
      "|===============================+======================+======================|\r\n",
      "|   0  GeForce GTX 1080    Off  | 00000000:01:00.0  On |                  N/A |\r\n",
      "|  0%   52C    P8    18W / 240W |    393MiB /  8116MiB |      0%      Default |\r\n",
      "|                               |                      |                  N/A |\r\n",
      "+-------------------------------+----------------------+----------------------+\r\n",
      "                                                                               \r\n",
      "+-----------------------------------------------------------------------------+\r\n",
      "| Processes:                                                                  |\r\n",
      "|  GPU   GI   CI        PID   Type   Process name                  GPU Memory |\r\n",
      "|        ID   ID                                                   Usage      |\r\n",
      "|=============================================================================|\r\n",
      "|    0   N/A  N/A       934      G   /usr/lib/xorg/Xorg                209MiB |\r\n",
      "|    0   N/A  N/A      1212      G   /usr/bin/gnome-shell               51MiB |\r\n",
      "|    0   N/A  N/A      3508      G   /usr/lib/firefox/firefox          125MiB |\r\n",
      "|    0   N/A  N/A      5724      G   gnome-control-center                1MiB |\r\n",
      "+-----------------------------------------------------------------------------+\r\n"
     ]
    }
   ],
   "source": [
    "!nvidia-smi"
   ]
  },
  {
   "cell_type": "code",
   "execution_count": 36,
   "id": "b97b9302",
   "metadata": {},
   "outputs": [],
   "source": [
    "physical_device = tf.config.list_physical_devices('GPU')\n",
    "tf.config.experimental.set_memory_growth(physical_device[0], True)"
   ]
  },
  {
   "cell_type": "code",
   "execution_count": 38,
   "id": "68ae7d9b",
   "metadata": {},
   "outputs": [],
   "source": [
    "def preprocess_triplets(template, docked, negative, rmsd):\n",
    "    \"\"\"\n",
    "    Given the filenames corresponding to the three images, load and\n",
    "    preprocess them.\n",
    "    \"\"\"\n",
    "\n",
    "    return (preprocess_image(template), preprocess_image(docked), preprocess_image(negative), rmsd)\n",
    "    "
   ]
  },
  {
   "cell_type": "code",
   "execution_count": 39,
   "id": "24fccb0c",
   "metadata": {},
   "outputs": [],
   "source": [
    "def preprocess_triplets_2(tup, negative):\n",
    "    \"\"\"\n",
    "    Given the filenames corresponding to the three images, load and\n",
    "    preprocess them.\n",
    "    \"\"\"\n",
    "\n",
    "    return (preprocess_image(tup[0]),\n",
    "        preprocess_image(tup[1]),\n",
    "        preprocess_image(negative))"
   ]
  },
  {
   "cell_type": "code",
   "execution_count": 40,
   "id": "6ac49a9a",
   "metadata": {},
   "outputs": [],
   "source": [
    "#image = preprocess_image('/4A7I_A7I.png')\n",
    "#image.shape"
   ]
  },
  {
   "cell_type": "code",
   "execution_count": 41,
   "id": "b6922b90",
   "metadata": {},
   "outputs": [],
   "source": [
    "train_template_images = [r.img_temp for i, r in train.iterrows()]"
   ]
  },
  {
   "cell_type": "code",
   "execution_count": 42,
   "id": "d139b148",
   "metadata": {},
   "outputs": [],
   "source": [
    "train_docked_images = [r.img_docked for i, r in train.iterrows()]"
   ]
  },
  {
   "cell_type": "code",
   "execution_count": 43,
   "id": "aecee4fd",
   "metadata": {},
   "outputs": [
    {
     "data": {
      "text/plain": [
       "(19625, 19625)"
      ]
     },
     "execution_count": 43,
     "metadata": {},
     "output_type": "execute_result"
    }
   ],
   "source": [
    "len(train_template_images), len(train_docked_images)"
   ]
  },
  {
   "cell_type": "code",
   "execution_count": 44,
   "id": "a0386de5",
   "metadata": {},
   "outputs": [],
   "source": [
    "valid_template_images = [r.img_temp for i, r in valid.iterrows()]\n",
    "valid_docked_images = [r.img_docked for i, r in valid.iterrows()]"
   ]
  },
  {
   "cell_type": "code",
   "execution_count": 45,
   "id": "5ed57a19",
   "metadata": {},
   "outputs": [
    {
     "name": "stdout",
     "output_type": "stream",
     "text": [
      "Num GPus avalable:  1\n"
     ]
    }
   ],
   "source": [
    "import tensorflow as tf\n",
    "print('Num GPus avalable: ', len(tf.config.experimental.list_physical_devices('GPU')))"
   ]
  },
  {
   "cell_type": "code",
   "execution_count": 46,
   "id": "60054fa0",
   "metadata": {},
   "outputs": [
    {
     "name": "stderr",
     "output_type": "stream",
     "text": [
      "2022-02-22 12:56:30.976837: I tensorflow/core/platform/cpu_feature_guard.cc:142] This TensorFlow binary is optimized with oneAPI Deep Neural Network Library (oneDNN) to use the following CPU instructions in performance-critical operations:  SSE4.1 SSE4.2 AVX AVX2 FMA\n",
      "To enable them in other operations, rebuild TensorFlow with the appropriate compiler flags.\n",
      "2022-02-22 12:56:30.977391: I tensorflow/stream_executor/cuda/cuda_gpu_executor.cc:941] successful NUMA node read from SysFS had negative value (-1), but there must be at least one NUMA node, so returning NUMA node zero\n",
      "2022-02-22 12:56:30.977688: I tensorflow/core/common_runtime/gpu/gpu_device.cc:1720] Found device 0 with properties: \n",
      "pciBusID: 0000:01:00.0 name: GeForce GTX 1080 computeCapability: 6.1\n",
      "coreClock: 1.8225GHz coreCount: 20 deviceMemorySize: 7.93GiB deviceMemoryBandwidth: 298.32GiB/s\n",
      "2022-02-22 12:56:30.977721: I tensorflow/stream_executor/platform/default/dso_loader.cc:49] Successfully opened dynamic library libcudart.so.10.1\n",
      "2022-02-22 12:56:30.977737: I tensorflow/stream_executor/platform/default/dso_loader.cc:49] Successfully opened dynamic library libcublas.so.10\n",
      "2022-02-22 12:56:30.977747: I tensorflow/stream_executor/platform/default/dso_loader.cc:49] Successfully opened dynamic library libcublasLt.so.10\n",
      "2022-02-22 12:56:30.977757: I tensorflow/stream_executor/platform/default/dso_loader.cc:49] Successfully opened dynamic library libcufft.so.10\n",
      "2022-02-22 12:56:30.977768: I tensorflow/stream_executor/platform/default/dso_loader.cc:49] Successfully opened dynamic library libcurand.so.10\n",
      "2022-02-22 12:56:30.977779: I tensorflow/stream_executor/platform/default/dso_loader.cc:49] Successfully opened dynamic library libcusolver.so.10\n",
      "2022-02-22 12:56:30.977789: I tensorflow/stream_executor/platform/default/dso_loader.cc:49] Successfully opened dynamic library libcusparse.so.10\n",
      "2022-02-22 12:56:30.977800: I tensorflow/stream_executor/platform/default/dso_loader.cc:49] Successfully opened dynamic library libcudnn.so.7\n",
      "2022-02-22 12:56:30.977847: I tensorflow/stream_executor/cuda/cuda_gpu_executor.cc:941] successful NUMA node read from SysFS had negative value (-1), but there must be at least one NUMA node, so returning NUMA node zero\n",
      "2022-02-22 12:56:30.978128: I tensorflow/stream_executor/cuda/cuda_gpu_executor.cc:941] successful NUMA node read from SysFS had negative value (-1), but there must be at least one NUMA node, so returning NUMA node zero\n",
      "2022-02-22 12:56:30.978375: I tensorflow/core/common_runtime/gpu/gpu_device.cc:1862] Adding visible gpu devices: 0\n",
      "2022-02-22 12:56:30.978397: I tensorflow/stream_executor/platform/default/dso_loader.cc:49] Successfully opened dynamic library libcudart.so.10.1\n",
      "2022-02-22 12:56:31.344290: I tensorflow/core/common_runtime/gpu/gpu_device.cc:1261] Device interconnect StreamExecutor with strength 1 edge matrix:\n",
      "2022-02-22 12:56:31.344310: I tensorflow/core/common_runtime/gpu/gpu_device.cc:1267]      0 \n",
      "2022-02-22 12:56:31.344315: I tensorflow/core/common_runtime/gpu/gpu_device.cc:1280] 0:   N \n",
      "2022-02-22 12:56:31.344457: I tensorflow/stream_executor/cuda/cuda_gpu_executor.cc:941] successful NUMA node read from SysFS had negative value (-1), but there must be at least one NUMA node, so returning NUMA node zero\n",
      "2022-02-22 12:56:31.344764: I tensorflow/stream_executor/cuda/cuda_gpu_executor.cc:941] successful NUMA node read from SysFS had negative value (-1), but there must be at least one NUMA node, so returning NUMA node zero\n",
      "2022-02-22 12:56:31.345027: I tensorflow/stream_executor/cuda/cuda_gpu_executor.cc:941] successful NUMA node read from SysFS had negative value (-1), but there must be at least one NUMA node, so returning NUMA node zero\n",
      "2022-02-22 12:56:31.345269: I tensorflow/core/common_runtime/gpu/gpu_device.cc:1406] Created TensorFlow device (/job:localhost/replica:0/task:0/device:GPU:0 with 7046 MB memory) -> physical GPU (device: 0, name: GeForce GTX 1080, pci bus id: 0000:01:00.0, compute capability: 6.1)\n",
      "2022-02-22 12:56:31.345474: I tensorflow/compiler/jit/xla_gpu_device.cc:99] Not creating XLA devices, tf_xla_enable_xla_devices not set\n"
     ]
    }
   ],
   "source": [
    "negative_images = train_template_images + train_docked_images\n",
    "np.random.RandomState(seed=32).shuffle(negative_images)\n",
    "\n",
    "negative_dataset = tf.data.Dataset.from_tensor_slices(negative_images)\n",
    "negative_dataset = negative_dataset.shuffle(buffer_size=4096)"
   ]
  },
  {
   "cell_type": "code",
   "execution_count": 47,
   "id": "db90abfd",
   "metadata": {},
   "outputs": [],
   "source": [
    "val_negative_images = valid_template_images + valid_docked_images\n",
    "np.random.RandomState(seed=32).shuffle(negative_images)\n",
    "\n",
    "val_negative_dataset = tf.data.Dataset.from_tensor_slices(negative_images)\n",
    "val_negative_dataset = negative_dataset.shuffle(buffer_size=4096)"
   ]
  },
  {
   "cell_type": "code",
   "execution_count": 48,
   "id": "116b5c32",
   "metadata": {},
   "outputs": [
    {
     "data": {
      "text/plain": [
       "24948"
      ]
     },
     "execution_count": 48,
     "metadata": {},
     "output_type": "execute_result"
    }
   ],
   "source": [
    "image_count = len(train_template_images) + len(valid_template_images)\n",
    "image_count"
   ]
  },
  {
   "cell_type": "code",
   "execution_count": 49,
   "id": "3917c506",
   "metadata": {},
   "outputs": [],
   "source": [
    "template_dataset = tf.data.Dataset.from_tensor_slices(train_template_images)\n",
    "docked_dataset = tf.data.Dataset.from_tensor_slices(train_docked_images)"
   ]
  },
  {
   "cell_type": "code",
   "execution_count": 50,
   "id": "e9fb064e",
   "metadata": {},
   "outputs": [],
   "source": [
    "val_template_dataset = tf.data.Dataset.from_tensor_slices(valid_template_images)\n",
    "val_docked_dataset = tf.data.Dataset.from_tensor_slices(valid_docked_images)"
   ]
  },
  {
   "cell_type": "code",
   "execution_count": 51,
   "id": "c634d16a",
   "metadata": {},
   "outputs": [],
   "source": [
    "y_train = train['log_RMSD']\n",
    "y_train = tf.data.Dataset.from_tensor_slices(list(y_train))\n"
   ]
  },
  {
   "cell_type": "code",
   "execution_count": 52,
   "id": "6ee52781",
   "metadata": {},
   "outputs": [],
   "source": [
    "y_valid = valid['log_RMSD']\n",
    "y_valid = tf.data.Dataset.from_tensor_slices(list(y_train))"
   ]
  },
  {
   "cell_type": "code",
   "execution_count": 53,
   "id": "6b5e4d4e",
   "metadata": {},
   "outputs": [],
   "source": [
    "log_rmsd = [r.log_RMSD for i, r in train.iterrows()]\n",
    "val_log_rmsd = [r.log_RMSD for i, r in valid.iterrows()]"
   ]
  },
  {
   "cell_type": "code",
   "execution_count": 54,
   "id": "7b08ec95",
   "metadata": {},
   "outputs": [],
   "source": [
    "log_rmsd_dataset = tf.data.Dataset.from_tensor_slices(log_rmsd)\n",
    "val_log_rmsd_dataset = tf.data.Dataset.from_tensor_slices(val_log_rmsd)"
   ]
  },
  {
   "cell_type": "code",
   "execution_count": 55,
   "id": "5c1733bd",
   "metadata": {},
   "outputs": [
    {
     "name": "stdout",
     "output_type": "stream",
     "text": [
      "Tue Feb 22 12:56:33 2022       \r\n",
      "+-----------------------------------------------------------------------------+\r\n",
      "| NVIDIA-SMI 460.91.03    Driver Version: 460.91.03    CUDA Version: 11.2     |\r\n",
      "|-------------------------------+----------------------+----------------------+\r\n",
      "| GPU  Name        Persistence-M| Bus-Id        Disp.A | Volatile Uncorr. ECC |\r\n",
      "| Fan  Temp  Perf  Pwr:Usage/Cap|         Memory-Usage | GPU-Util  Compute M. |\r\n",
      "|                               |                      |               MIG M. |\r\n",
      "|===============================+======================+======================|\r\n",
      "|   0  GeForce GTX 1080    Off  | 00000000:01:00.0  On |                  N/A |\r\n",
      "|  0%   55C    P2    50W / 240W |    629MiB /  8116MiB |      4%      Default |\r\n",
      "|                               |                      |                  N/A |\r\n",
      "+-------------------------------+----------------------+----------------------+\r\n",
      "                                                                               \r\n",
      "+-----------------------------------------------------------------------------+\r\n",
      "| Processes:                                                                  |\r\n",
      "|  GPU   GI   CI        PID   Type   Process name                  GPU Memory |\r\n",
      "|        ID   ID                                                   Usage      |\r\n",
      "|=============================================================================|\r\n",
      "|    0   N/A  N/A       934      G   /usr/lib/xorg/Xorg                209MiB |\r\n",
      "|    0   N/A  N/A      1212      G   /usr/bin/gnome-shell               51MiB |\r\n",
      "|    0   N/A  N/A      3508      G   /usr/lib/firefox/firefox          136MiB |\r\n",
      "|    0   N/A  N/A      5724      G   gnome-control-center                1MiB |\r\n",
      "|    0   N/A  N/A      6834      C   ...a3/envs/tf_gpu/bin/python      225MiB |\r\n",
      "+-----------------------------------------------------------------------------+\r\n"
     ]
    }
   ],
   "source": [
    "!nvidia-smi"
   ]
  },
  {
   "cell_type": "markdown",
   "id": "339e769b",
   "metadata": {},
   "source": [
    "### Create the train and validation datasets"
   ]
  },
  {
   "cell_type": "code",
   "execution_count": 56,
   "id": "17fdadb0",
   "metadata": {},
   "outputs": [
    {
     "data": {
      "text/plain": [
       "(<ZipDataset shapes: ((), (), (), ()), types: (tf.string, tf.string, tf.string, tf.float32)>,\n",
       " <ZipDataset shapes: ((), (), (), ()), types: (tf.string, tf.string, tf.string, tf.float32)>)"
      ]
     },
     "execution_count": 56,
     "metadata": {},
     "output_type": "execute_result"
    }
   ],
   "source": [
    "train_dataset = tf.data.Dataset.zip((template_dataset, docked_dataset, negative_dataset, log_rmsd_dataset)) # template as anchor\n",
    "#train_dataset = tf.data.Dataset.zip((template_dataset, docked_dataset, negative_dataset)) # template as anchor\n",
    "valid_dataset = tf.data.Dataset.zip((val_template_dataset, val_docked_dataset, val_negative_dataset, val_log_rmsd_dataset)) # template as anchor\n",
    "#valid_dataset = tf.data.Dataset.zip((val_template_dataset, val_docked_dataset, val_negative_dataset)) # template as anchor\n",
    "train_dataset, valid_dataset"
   ]
  },
  {
   "cell_type": "code",
   "execution_count": 57,
   "id": "149d4399",
   "metadata": {},
   "outputs": [
    {
     "data": {
      "text/plain": [
       "<TakeDataset shapes: ((), (), (), ()), types: (tf.string, tf.string, tf.string, tf.float32)>"
      ]
     },
     "execution_count": 57,
     "metadata": {},
     "output_type": "execute_result"
    }
   ],
   "source": [
    "train_dataset = train_dataset.take(round(image_count * 1))\n",
    "train_dataset"
   ]
  },
  {
   "cell_type": "code",
   "execution_count": 58,
   "id": "c5504d23",
   "metadata": {},
   "outputs": [
    {
     "data": {
      "text/plain": [
       "(<MapDataset shapes: ((224, 224, 3), (224, 224, 3), (224, 224, 3), ()), types: (tf.float32, tf.float32, tf.float32, tf.float32)>,\n",
       " <MapDataset shapes: ((224, 224, 3), (224, 224, 3), (224, 224, 3), ()), types: (tf.float32, tf.float32, tf.float32, tf.float32)>)"
      ]
     },
     "execution_count": 58,
     "metadata": {},
     "output_type": "execute_result"
    }
   ],
   "source": [
    "train_dataset = train_dataset.map(preprocess_triplets)\n",
    "val_dataset = valid_dataset.map(preprocess_triplets)\n",
    "train_dataset, val_dataset"
   ]
  },
  {
   "cell_type": "code",
   "execution_count": 59,
   "id": "125c0a00",
   "metadata": {},
   "outputs": [
    {
     "data": {
      "text/plain": [
       "<PrefetchDataset shapes: ((32, 224, 224, 3), (32, 224, 224, 3), (32, 224, 224, 3), (32,)), types: (tf.float32, tf.float32, tf.float32, tf.float32)>"
      ]
     },
     "execution_count": 59,
     "metadata": {},
     "output_type": "execute_result"
    }
   ],
   "source": [
    "train_dl = train_dataset.batch(32, drop_remainder=True)\n",
    "train_dl = train_dl.prefetch(8)\n",
    "train_dl"
   ]
  },
  {
   "cell_type": "code",
   "execution_count": 60,
   "id": "57f30d7b",
   "metadata": {
    "scrolled": true
   },
   "outputs": [
    {
     "data": {
      "text/plain": [
       "<PrefetchDataset shapes: ((32, 224, 224, 3), (32, 224, 224, 3), (32, 224, 224, 3), (32,)), types: (tf.float32, tf.float32, tf.float32, tf.float32)>"
      ]
     },
     "execution_count": 60,
     "metadata": {},
     "output_type": "execute_result"
    }
   ],
   "source": [
    "val_dl = val_dataset.batch(32, drop_remainder=True)\n",
    "val_dl = val_dl.prefetch(8)\n",
    "val_dl"
   ]
  },
  {
   "cell_type": "markdown",
   "id": "f4f6e468",
   "metadata": {},
   "source": [
    "## Anchor, positive and the distance between them computed by the distance layer"
   ]
  },
  {
   "cell_type": "code",
   "execution_count": 61,
   "id": "6585724f",
   "metadata": {
    "scrolled": true
   },
   "outputs": [
    {
     "name": "stderr",
     "output_type": "stream",
     "text": [
      "2022-02-22 12:56:39.903099: I tensorflow/compiler/mlir/mlir_graph_optimization_pass.cc:116] None of the MLIR optimization passes are enabled (registered 2)\n",
      "2022-02-22 12:56:39.923143: I tensorflow/core/platform/profile_utils/cpu_utils.cc:112] CPU Frequency: 3999980000 Hz\n"
     ]
    },
    {
     "data": {
      "image/png": "[encoded data removed]",
      "text/plain": [
       "<Figure size 648x648 with 12 Axes>"
      ]
     },
     "metadata": {
      "needs_background": "light"
     },
     "output_type": "display_data"
    }
   ],
   "source": [
    "def visualize(anchor, positive, negative, rmsd):\n",
    "    \"\"\"Visualize a few triplets from the supplied batches.\"\"\"\n",
    "\n",
    "    def show(ax, image):\n",
    "        ax.imshow(image)\n",
    "        ax.get_xaxis().set_visible(False)\n",
    "        ax.get_yaxis().set_visible(False)\n",
    "    \n",
    "\n",
    "    fig = plt.figure(figsize=(9, 9))\n",
    "\n",
    "    axs = fig.subplots(4, 3)\n",
    "    for i in range(0, 4, 2):\n",
    "        show(axs[i, 0], anchor[i])\n",
    "        show(axs[i + 1, 0], anchor[i])\n",
    "        show(axs[i, 1], positive[i])\n",
    "        show(axs[i + 1, 1], negative[i])\n",
    "        ap_distance = tf.reduce_sum(tf.square(anchor[i] - positive[i]), -1)\n",
    "        an_distance = tf.reduce_sum(tf.square(anchor[i] - negative[i]), -1)\n",
    "        show(axs[i, 2], ap_distance)\n",
    "        show(axs[i + 1, 2], an_distance)\n",
    "        loss = ap_distance - an_distance\n",
    "        loss = tf.maximum(loss, 0.0)\n",
    "    \n",
    "\n",
    "\n",
    "visualize(*list(val_dl.take(1).as_numpy_iterator())[0])"
   ]
  },
  {
   "cell_type": "markdown",
   "id": "7cf37acd",
   "metadata": {},
   "source": [
    "## Anchor, positive and the negative image"
   ]
  },
  {
   "cell_type": "code",
   "execution_count": 62,
   "id": "f6f88431",
   "metadata": {},
   "outputs": [
    {
     "name": "stdout",
     "output_type": "stream",
     "text": [
      "1.5353607\n",
      "1.3719418\n",
      "2.264987\n"
     ]
    },
    {
     "data": {
      "image/png": "[encoded data removed]",
      "text/plain": [
       "<Figure size 648x648 with 9 Axes>"
      ]
     },
     "metadata": {
      "needs_background": "light"
     },
     "output_type": "display_data"
    }
   ],
   "source": [
    "def visualize2(anchor, positive, negative, rmsd):\n",
    "    \"\"\"Visualize a few triplets from the supplied batches.\"\"\"\n",
    "\n",
    "    def show(ax, image):\n",
    "        ax.imshow(image)\n",
    "        ax.get_xaxis().set_visible(False)\n",
    "        ax.get_yaxis().set_visible(False)\n",
    "\n",
    "    fig = plt.figure(figsize=(9, 9))\n",
    "\n",
    "    axs = fig.subplots(3, 3)\n",
    "    for i in range(3):\n",
    "        print(rmsd[i])\n",
    "        show(axs[i, 0], anchor[i])\n",
    "        show(axs[i, 1], positive[i])\n",
    "        show(axs[i, 2], negative[i])\n",
    "\n",
    "\n",
    "visualize2(*list(val_dl.take(1).as_numpy_iterator())[0])"
   ]
  },
  {
   "cell_type": "code",
   "execution_count": 63,
   "id": "7c2bc408",
   "metadata": {},
   "outputs": [],
   "source": [
    "def visualize_positive(anchor, positive):\n",
    "    \"\"\"Visualize a few triplets from the supplied batches.\"\"\"\n",
    "\n",
    "    def show(ax, image):\n",
    "        ax.imshow(image)\n",
    "        ax.get_xaxis().set_visible(False)\n",
    "        ax.get_yaxis().set_visible(False)\n",
    "\n",
    "    fig = plt.figure(figsize=(1, 2))\n",
    "\n",
    "    axs = fig.subplots(1, 2)\n",
    "    show(axs[0, 0], anchor)\n",
    "    show(axs[0, 1], positive)"
   ]
  },
  {
   "cell_type": "markdown",
   "id": "cbb7e500",
   "metadata": {},
   "source": [
    "# Siamese network with distance layer and RMSD as mmargin in loss function"
   ]
  },
  {
   "cell_type": "markdown",
   "id": "dc83f252",
   "metadata": {},
   "source": [
    "### Idea is to use RMSD instead of a set margin to allow a bigger loss to ligands with bigger RMSD scores"
   ]
  },
  {
   "cell_type": "code",
   "execution_count": 64,
   "id": "0f36080c",
   "metadata": {},
   "outputs": [],
   "source": [
    "base_cnn = resnet.ResNet50(\n",
    "    weights=\"imagenet\", input_shape=target_shape +  (3,), include_top=False\n",
    ")\n",
    "\n",
    "flatten = layers.Flatten()(base_cnn.output)\n",
    "dense1 = layers.Dense(512, activation=\"relu\")(flatten)\n",
    "dense1 = layers.BatchNormalization()(dense1)\n",
    "dense2 = layers.Dense(256, activation=\"relu\")(dense1)\n",
    "dense2 = layers.BatchNormalization()(dense2)\n",
    "output = layers.Dense(256)(dense2)\n",
    "\n",
    "embedding = Model(base_cnn.input, output, name=\"Embedding\")\n",
    "\n",
    "trainable = False\n",
    "for layer in base_cnn.layers:\n",
    "    if layer.name == \"conv5_block1_out\":\n",
    "        trainable = True\n",
    "    layer.trainable = trainable\n"
   ]
  },
  {
   "cell_type": "code",
   "execution_count": 65,
   "id": "e04f2720",
   "metadata": {
    "scrolled": false
   },
   "outputs": [
    {
     "name": "stdout",
     "output_type": "stream",
     "text": [
      "Model: \"model\"\n",
      "__________________________________________________________________________________________________\n",
      "Layer (type)                    Output Shape         Param #     Connected to                     \n",
      "==================================================================================================\n",
      "anchor (InputLayer)             [(None, 224, 224, 3) 0                                            \n",
      "__________________________________________________________________________________________________\n",
      "positive (InputLayer)           [(None, 224, 224, 3) 0                                            \n",
      "__________________________________________________________________________________________________\n",
      "negative (InputLayer)           [(None, 224, 224, 3) 0                                            \n",
      "__________________________________________________________________________________________________\n",
      "tf.__operators__.getitem (Slici (None, 224, 224, 3)  0           anchor[0][0]                     \n",
      "__________________________________________________________________________________________________\n",
      "tf.__operators__.getitem_1 (Sli (None, 224, 224, 3)  0           positive[0][0]                   \n",
      "__________________________________________________________________________________________________\n",
      "tf.__operators__.getitem_2 (Sli (None, 224, 224, 3)  0           negative[0][0]                   \n",
      "__________________________________________________________________________________________________\n",
      "tf.nn.bias_add (TFOpLambda)     (None, 224, 224, 3)  0           tf.__operators__.getitem[0][0]   \n",
      "__________________________________________________________________________________________________\n",
      "tf.nn.bias_add_1 (TFOpLambda)   (None, 224, 224, 3)  0           tf.__operators__.getitem_1[0][0] \n",
      "__________________________________________________________________________________________________\n",
      "tf.nn.bias_add_2 (TFOpLambda)   (None, 224, 224, 3)  0           tf.__operators__.getitem_2[0][0] \n",
      "__________________________________________________________________________________________________\n",
      "Embedding (Functional)          (None, 256)          75168640    tf.nn.bias_add[0][0]             \n",
      "                                                                 tf.nn.bias_add_1[0][0]           \n",
      "                                                                 tf.nn.bias_add_2[0][0]           \n",
      "__________________________________________________________________________________________________\n",
      "rmsd (InputLayer)               [(None, 1)]          0                                            \n",
      "__________________________________________________________________________________________________\n",
      "distance_layer (DistanceLayer)  ((None,), (None,), ( 0           Embedding[0][0]                  \n",
      "                                                                 Embedding[1][0]                  \n",
      "                                                                 Embedding[2][0]                  \n",
      "                                                                 rmsd[0][0]                       \n",
      "==================================================================================================\n",
      "Total params: 75,168,640\n",
      "Trainable params: 60,510,720\n",
      "Non-trainable params: 14,657,920\n",
      "__________________________________________________________________________________________________\n"
     ]
    }
   ],
   "source": [
    "class DistanceLayer(layers.Layer):\n",
    "    \"\"\"\n",
    "    This layer is responsible for computing the distance between the anchor\n",
    "    embedding and the positive embedding, and the anchor embedding and the\n",
    "    negative embedding.\n",
    "    \"\"\"\n",
    "\n",
    "    def __init__(self, **kwargs):\n",
    "        super().__init__(**kwargs)\n",
    "\n",
    "    def call(self, anchor, positive, negative, rmsd):\n",
    "        ap_distance = tf.reduce_sum(tf.square(anchor - positive), -1)\n",
    "        an_distance = tf.reduce_sum(tf.square(anchor - negative), -1)\n",
    "        return (ap_distance, an_distance, rmsd)\n",
    "\n",
    "\n",
    "anchor_input = layers.Input(name=\"anchor\", shape=target_shape + (3,))\n",
    "positive_input = layers.Input(name=\"positive\", shape=target_shape + (3,))\n",
    "negative_input = layers.Input(name=\"negative\", shape=target_shape + (3,))\n",
    "rmsd_input = layers.Input(name='rmsd', shape=(1))\n",
    "\n",
    "distances = DistanceLayer()(\n",
    "    embedding(resnet.preprocess_input(anchor_input)),\n",
    "    embedding(resnet.preprocess_input(positive_input)),\n",
    "    embedding(resnet.preprocess_input(negative_input)),\n",
    "    rmsd_input,\n",
    ")\n",
    "\n",
    "siamese_network = Model(\n",
    "    inputs=[anchor_input, positive_input, negative_input, rmsd_input], outputs=distances\n",
    ")\n",
    "\n",
    "siamese_network.summary()"
   ]
  },
  {
   "cell_type": "markdown",
   "id": "4e5ec250",
   "metadata": {},
   "source": [
    "### Triplet loss defined as: \n",
    "\n",
    "$$\\displaystyle {\\mathcal {L}}\\left(A,P,N\\right)=\\operatorname {max} \\left({\\|\\operatorname {f} \\left(A\\right)-\\operatorname {f} \\left(P\\right)\\|}^{2}-{\\|\\operatorname {f} \\left(A\\right)-\\operatorname {f} \\left(N\\right)\\|}^{2}+\\alpha ,0\\right)$$"
   ]
  },
  {
   "cell_type": "code",
   "execution_count": 66,
   "id": "61943aca",
   "metadata": {},
   "outputs": [],
   "source": [
    "class SiameseModel(Model):\n",
    "    \"\"\"The Siamese Network model with a custom training and testing loops.\n",
    "\n",
    "    Computes the triplet loss using the three embeddings produced by the\n",
    "    Siamese Network.\n",
    "\n",
    "    The triplet loss is defined as:\n",
    "       L(A, P, N) = max(‖f(A) - f(P)‖² - ‖f(A) - f(N)‖² + margin, 0)\n",
    "    \"\"\"\n",
    "\n",
    "    def __init__(self, siamese_network, margin=2):\n",
    "        super(SiameseModel, self).__init__()\n",
    "        self.siamese_network = siamese_network\n",
    "        self.margin = margin\n",
    "        self.loss_tracker = metrics.Mean(name=\"loss\")\n",
    "        self.rmse_tracker = metrics.RootMeanSquaredError(name=\"rmse\")\n",
    "\n",
    "    def call(self, inputs):\n",
    "        return self.siamese_network(inputs)\n",
    "\n",
    "    def train_step(self, data):\n",
    "        # GradientTape is a context manager that records every operation that\n",
    "        # you do inside. We are using it here to compute the loss so we can get\n",
    "        # the gradients and apply them using the optimizer specified in\n",
    "        # `compile()`.\n",
    "        with tf.GradientTape() as tape:\n",
    "            loss = self._compute_loss(data)\n",
    "\n",
    "        # Storing the gradients of the loss function with respect to the\n",
    "        # weights/parameters.\n",
    "        gradients = tape.gradient(loss, self.siamese_network.trainable_weights)\n",
    "\n",
    "        # Applying the gradients on the model using the specified optimizer\n",
    "        self.optimizer.apply_gradients(\n",
    "            zip(gradients, self.siamese_network.trainable_weights)\n",
    "        )\n",
    "\n",
    "        # Let's update and return the training loss metric.\n",
    "        self.loss_tracker.update_state(loss)\n",
    "        \n",
    "        return {\"loss\": self.loss_tracker.result()}\n",
    "\n",
    "    def test_step(self, data):\n",
    "        loss = self._compute_loss(data)\n",
    "        ap_distance, an_distance, rmsd = self.siamese_network(data)\n",
    "        # Let's update and return the loss metric and rmse metric.\n",
    "        self.loss_tracker.update_state(loss)\n",
    "        distance = ap_distance - an_distance\n",
    "        # RMSE (Euclidean distance) between anchor and positive image minus RMSD\n",
    "        rmse = tf.maximum(distance, 0.0)\n",
    "        self.rmse_tracker.update_state(0.0, rmse)\n",
    "        return {\"loss\": self.loss_tracker.result(), 'rmse': self.rmse_tracker.result()}\n",
    "\n",
    "    def _compute_loss(self, data):\n",
    "        # The output of the network is a tuple containing the distances\n",
    "        # between the anchor and the positive example, and the anchor and\n",
    "        # the negative example.\n",
    "        ap_distance, an_distance, rmsd = self.siamese_network(data)\n",
    "\n",
    "        # Computing the Triplet Loss by subtracting both distances and\n",
    "        # making sure we don't get a negative value.\n",
    "        loss = ap_distance - an_distance\n",
    "        loss = tf.maximum(loss + self.margin - rmsd, 0.0)\n",
    "        return loss\n",
    "\n",
    "    @property\n",
    "    def metrics(self):\n",
    "        # We need to list our metrics here so the `reset_states()` can be\n",
    "        # called automatically.\n",
    "        return [self.loss_tracker, self.rmse_tracker]\n"
   ]
  },
  {
   "cell_type": "markdown",
   "id": "c1616071",
   "metadata": {},
   "source": [
    "### Choose optimizer and train model"
   ]
  },
  {
   "cell_type": "code",
   "execution_count": null,
   "id": "1f45a8f2",
   "metadata": {},
   "outputs": [],
   "source": [
    "physical_device = tf.config.list_physical_devices('GPU')\n",
    "tf.config.experimental.set_memory_growth(physical_device[0], True)"
   ]
  },
  {
   "cell_type": "code",
   "execution_count": 67,
   "id": "e40f0b56",
   "metadata": {},
   "outputs": [],
   "source": [
    "siamese_model = SiameseModel(siamese_network)\n",
    "siamese_model.compile(optimizer=optimizers.Adam(0.0001), metrics=metrics.RootMeanSquaredError(name='rmse'))"
   ]
  },
  {
   "cell_type": "code",
   "execution_count": 113,
   "id": "d1ed18a4",
   "metadata": {},
   "outputs": [
    {
     "name": "stdout",
     "output_type": "stream",
     "text": [
      "Epoch 1/10\n",
      "613/613 [==============================] - 228s 372ms/step - loss: 0.1623 - val_loss: 0.1342 - val_rmse: 1.0980\n",
      "Epoch 2/10\n",
      "613/613 [==============================] - 227s 371ms/step - loss: 0.1046 - val_loss: 0.0874 - val_rmse: 1.1981\n",
      "Epoch 3/10\n",
      "613/613 [==============================] - 228s 372ms/step - loss: 0.0771 - val_loss: 0.0776 - val_rmse: 1.1481\n",
      "Epoch 4/10\n",
      "613/613 [==============================] - 228s 372ms/step - loss: 0.0686 - val_loss: 0.0630 - val_rmse: 1.1673\n",
      "Epoch 5/10\n",
      "613/613 [==============================] - 229s 374ms/step - loss: 0.0612 - val_loss: 0.0600 - val_rmse: 1.1469\n",
      "Epoch 6/10\n",
      "613/613 [==============================] - 229s 373ms/step - loss: 0.0576 - val_loss: 0.0580 - val_rmse: 1.1442\n",
      "Epoch 7/10\n",
      "613/613 [==============================] - 229s 374ms/step - loss: 0.0532 - val_loss: 0.0552 - val_rmse: 1.1456\n",
      "Epoch 8/10\n",
      "613/613 [==============================] - 229s 374ms/step - loss: 0.0527 - val_loss: 0.0523 - val_rmse: 1.1208\n",
      "Epoch 9/10\n",
      "613/613 [==============================] - 229s 374ms/step - loss: 0.0500 - val_loss: 0.0591 - val_rmse: 1.1301\n",
      "Epoch 10/10\n",
      "613/613 [==============================] - 229s 374ms/step - loss: 0.0484 - val_loss: 0.0473 - val_rmse: 1.1731\n"
     ]
    }
   ],
   "source": [
    "model = siamese_model.fit(train_dl, validation_data=val_dl, epochs=10) # save"
   ]
  },
  {
   "cell_type": "markdown",
   "id": "e8e6f774",
   "metadata": {},
   "source": [
    "### RMSE as difference between rmsd and ap - an distances"
   ]
  },
  {
   "cell_type": "code",
   "execution_count": null,
   "id": "1d8c23de",
   "metadata": {},
   "outputs": [
    {
     "name": "stdout",
     "output_type": "stream",
     "text": [
      "Epoch 1/10\n"
     ]
    },
    {
     "name": "stderr",
     "output_type": "stream",
     "text": [
      "2022-02-22 12:56:54.065358: I tensorflow/stream_executor/platform/default/dso_loader.cc:49] Successfully opened dynamic library libcublas.so.10\n",
      "2022-02-22 12:56:54.285118: I tensorflow/stream_executor/platform/default/dso_loader.cc:49] Successfully opened dynamic library libcudnn.so.7\n",
      "2022-02-22 12:56:54.835832: W tensorflow/stream_executor/gpu/asm_compiler.cc:63] Running ptxas --version returned 256\n",
      "2022-02-22 12:56:54.858468: W tensorflow/stream_executor/gpu/redzone_allocator.cc:314] Internal: ptxas exited with non-zero error code 256, output: \n",
      "Relying on driver to perform ptx compilation. \n",
      "Modify $PATH to customize ptxas location.\n",
      "This message will be only logged once.\n",
      "2022-02-22 12:57:07.559037: W tensorflow/core/common_runtime/bfc_allocator.cc:248] Allocator (GPU_0_bfc) ran out of memory trying to allocate 2.30GiB with freed_by_count=0. The caller indicates that this is not a failure, but may mean that there could be performance gains if more memory were available.\n",
      "2022-02-22 12:57:07.657348: W tensorflow/core/common_runtime/bfc_allocator.cc:248] Allocator (GPU_0_bfc) ran out of memory trying to allocate 2.30GiB with freed_by_count=0. The caller indicates that this is not a failure, but may mean that there could be performance gains if more memory were available.\n",
      "2022-02-22 12:57:08.247004: W tensorflow/core/common_runtime/bfc_allocator.cc:248] Allocator (GPU_0_bfc) ran out of memory trying to allocate 2.41GiB with freed_by_count=0. The caller indicates that this is not a failure, but may mean that there could be performance gains if more memory were available.\n",
      "2022-02-22 12:57:08.272162: W tensorflow/core/common_runtime/bfc_allocator.cc:248] Allocator (GPU_0_bfc) ran out of memory trying to allocate 2.41GiB with freed_by_count=0. The caller indicates that this is not a failure, but may mean that there could be performance gains if more memory were available.\n"
     ]
    },
    {
     "name": "stdout",
     "output_type": "stream",
     "text": [
      "613/613 [==============================] - 267s 404ms/step - loss: 0.4937 - val_loss: 0.3781 - val_rmse: 0.4432\n",
      "Epoch 2/10\n",
      "613/613 [==============================] - 245s 400ms/step - loss: 0.2835 - val_loss: 0.2584 - val_rmse: 0.3953\n",
      "Epoch 3/10\n",
      "613/613 [==============================] - 246s 401ms/step - loss: 0.2164 - val_loss: 0.2308 - val_rmse: 0.3647\n",
      "Epoch 4/10\n",
      "613/613 [==============================] - 246s 402ms/step - loss: 0.1948 - val_loss: 0.1700 - val_rmse: 0.2309\n",
      "Epoch 5/10\n",
      "613/613 [==============================] - 246s 402ms/step - loss: 0.1755 - val_loss: 0.1721 - val_rmse: 0.2824\n",
      "Epoch 6/10\n",
      "613/613 [==============================] - 246s 402ms/step - loss: 0.1709 - val_loss: 0.1538 - val_rmse: 0.2276\n",
      "Epoch 7/10\n",
      "560/613 [==========================>...] - ETA: 14s - loss: 0.1580"
     ]
    }
   ],
   "source": [
    "model = siamese_model.fit(train_dl, validation_data=val_dl, epochs=10)"
   ]
  },
  {
   "cell_type": "code",
   "execution_count": null,
   "id": "16da6be3",
   "metadata": {},
   "outputs": [],
   "source": [
    "plt.plot(model.history['loss'])\n",
    "plt.plot(model.history['val_loss'])\n",
    "plt.title('model loss')\n",
    "plt.ylabel('loss')\n",
    "plt.xlabel('epoch')\n",
    "plt.legend(['train', 'val'], loc='upper left')\n",
    "plt.show()"
   ]
  },
  {
   "cell_type": "code",
   "execution_count": null,
   "id": "1fcae9dc",
   "metadata": {},
   "outputs": [],
   "source": []
  },
  {
   "cell_type": "markdown",
   "id": "04d07625",
   "metadata": {},
   "source": [
    "## Inspecting what the network has learned"
   ]
  },
  {
   "cell_type": "code",
   "execution_count": 49,
   "id": "ea551dd8",
   "metadata": {},
   "outputs": [
    {
     "name": "stdout",
     "output_type": "stream",
     "text": [
      "tf.Tensor(1.5353607, shape=(), dtype=float32)\n",
      "tf.Tensor(1.3719418, shape=(), dtype=float32)\n",
      "tf.Tensor(2.264987, shape=(), dtype=float32)\n"
     ]
    },
    {
     "data": {
      "image/png": "[encoded data removed]",
      "text/plain": [
       "<Figure size 648x648 with 9 Axes>"
      ]
     },
     "metadata": {
      "needs_background": "light"
     },
     "output_type": "display_data"
    }
   ],
   "source": [
    "sample = next(iter(val_dl))\n",
    "visualize2(*sample)\n",
    "\n",
    "anchor, positive, negative, _ = sample\n",
    "anchor_embedding, positive_embedding, negative_embedding = (\n",
    "    embedding(resnet.preprocess_input(anchor)),\n",
    "    embedding(resnet.preprocess_input(positive)),\n",
    "    embedding(resnet.preprocess_input(negative)),\n",
    ")"
   ]
  },
  {
   "cell_type": "code",
   "execution_count": 50,
   "id": "297293de",
   "metadata": {},
   "outputs": [
    {
     "name": "stdout",
     "output_type": "stream",
     "text": [
      "Positive similarity: 0.9988327\n",
      "Negative similarity 0.99542624\n"
     ]
    }
   ],
   "source": [
    "cosine_similarity = metrics.CosineSimilarity()\n",
    "\n",
    "positive_similarity = cosine_similarity(anchor_embedding, positive_embedding)\n",
    "print(\"Positive similarity:\", positive_similarity.numpy())\n",
    "\n",
    "negative_similarity = cosine_similarity(anchor_embedding, negative_embedding)\n",
    "print(\"Negative similarity\", negative_similarity.numpy())\n"
   ]
  },
  {
   "cell_type": "code",
   "execution_count": 62,
   "id": "731f6dd8",
   "metadata": {},
   "outputs": [
    {
     "name": "stdout",
     "output_type": "stream",
     "text": [
      "(1, 224, 224, 3)\n",
      "(1, 224, 224, 3)\n",
      "(array([0.47240305], dtype=float32), array([4.527596], dtype=float32), array([[1.5353607]], dtype=float32))\n"
     ]
    },
    {
     "ename": "AttributeError",
     "evalue": "'tuple' object has no attribute 'shape'",
     "output_type": "error",
     "traceback": [
      "\u001b[0;31m---------------------------------------------------------------------------\u001b[0m",
      "\u001b[0;31mAttributeError\u001b[0m                            Traceback (most recent call last)",
      "\u001b[0;32m/tmp/ipykernel_4143/3615917630.py\u001b[0m in \u001b[0;36m<module>\u001b[0;34m\u001b[0m\n\u001b[1;32m     40\u001b[0m \u001b[0mprint\u001b[0m\u001b[0;34m(\u001b[0m\u001b[0mpred\u001b[0m\u001b[0;34m)\u001b[0m\u001b[0;34m\u001b[0m\u001b[0;34m\u001b[0m\u001b[0m\n\u001b[1;32m     41\u001b[0m \u001b[0;34m\u001b[0m\u001b[0m\n\u001b[0;32m---> 42\u001b[0;31m \u001b[0mnum\u001b[0m \u001b[0;34m=\u001b[0m \u001b[0mint\u001b[0m\u001b[0;34m(\u001b[0m\u001b[0mpred\u001b[0m\u001b[0;34m.\u001b[0m\u001b[0mshape\u001b[0m\u001b[0;34m[\u001b[0m\u001b[0;36m0\u001b[0m\u001b[0;34m]\u001b[0m\u001b[0;34m/\u001b[0m\u001b[0;36m3\u001b[0m\u001b[0;34m)\u001b[0m\u001b[0;34m\u001b[0m\u001b[0;34m\u001b[0m\u001b[0m\n\u001b[0m\u001b[1;32m     43\u001b[0m \u001b[0mcolors\u001b[0m \u001b[0;34m=\u001b[0m \u001b[0;34m[\u001b[0m\u001b[0;34m'red'\u001b[0m\u001b[0;34m,\u001b[0m \u001b[0;34m'blue'\u001b[0m\u001b[0;34m,\u001b[0m \u001b[0;34m'green'\u001b[0m\u001b[0;34m]\u001b[0m \u001b[0;31m# set colors of target labels\u001b[0m\u001b[0;34m\u001b[0m\u001b[0;34m\u001b[0m\u001b[0m\n\u001b[1;32m     44\u001b[0m \u001b[0;34m\u001b[0m\u001b[0m\n",
      "\u001b[0;31mAttributeError\u001b[0m: 'tuple' object has no attribute 'shape'"
     ]
    }
   ],
   "source": [
    "from mpl_toolkits.mplot3d import Axes3D\n",
    "import os, sys, cv2, matplotlib.pyplot as plt, numpy as np, pickle\n",
    "#import sklearn, pandas as pd, seaborn as sn\n",
    "from tensorflow.keras.models import Model, load_model, Sequential\n",
    "from tensorflow.keras import backend as K\n",
    "from sklearn.metrics import confusion_matrix\n",
    "\n",
    "import warnings\n",
    "warnings.filterwarnings('ignore')\n",
    "\n",
    "# Load models\n",
    "#model = embedding\n",
    "model = siamese_model\n",
    "\n",
    "names = next(iter(val_dl))\n",
    "\n",
    "anchor, positive, negative, rmsd = names\n",
    "anchor = tf.reshape(anchor[0], (1, 224, 224, 3))\n",
    "positive = tf.reshape(positive[0], (1, 224, 224, 3))\n",
    "negative = tf.reshape(negative[0], (1, 224, 224, 3))\n",
    "rmsd = tf.reshape(rmsd[0], (1, 1))\n",
    "\n",
    "\n",
    "test_im = []\n",
    "test_im.append(anchor)\n",
    "test_im.append(positive)\n",
    "test_im.append(negative)\n",
    "\n",
    "print(test_im[0].shape)\n",
    "_, r,c,_ = test_im[0].shape\n",
    "print(test_im[0].shape)\n",
    "test_im = np.array(test_im)\n",
    "test_im = test_im.reshape((len(test_im), r,c,3))\n",
    "\n",
    "test_im = 1 - test_im/255\n",
    "\n",
    "# Predict\n",
    "pred = model.predict([anchor, positive, negative, rmsd])\n",
    "\n",
    "print(pred)\n",
    "\n",
    "num = int(pred.shape[0]/3)\n",
    "colors = ['red', 'blue', 'green'] # set colors of target labels\n",
    "\n",
    "# Set target labels\n",
    "y = [colors[0] for i in range(num)]\n",
    "y += [colors[1] for i in range(num)]\n",
    "y += [colors[2] for i in range(num)]\n",
    "\n",
    "feat1 = pred[:,0]\n",
    "feat2 = pred[:,1]\n",
    "feat3 = pred[:,2]\n",
    "\n",
    "# Plot 3d scatter plot\n",
    "fig = plt.figure()\n",
    "ax = Axes3D(fig)\n",
    "ax.scatter(feat1, feat2, feat3, c=y, marker='.')\n",
    "plt.show()"
   ]
  },
  {
   "cell_type": "markdown",
   "id": "f54dcd02",
   "metadata": {},
   "source": [
    "# Parameter optimization "
   ]
  },
  {
   "cell_type": "code",
   "execution_count": null,
   "id": "ffc59a15",
   "metadata": {},
   "outputs": [],
   "source": [
    "def create_embedding(dropout = None):\n",
    "    base_cnn = resnet.ResNet50(\n",
    "        weights=\"imagenet\", input_shape=target_shape +  (3,), include_top=False\n",
    "    )\n",
    "\n",
    "    flatten = layers.Flatten()(base_cnn.output)\n",
    "    dense1 = layers.Dense(512, activation=\"relu\")(flatten)\n",
    "    dense1 = layers.BatchNormalization()(dense1)\n",
    "    if dropout != None: \n",
    "        layer = layers.Dropout(dropout)\n",
    "    dense2 = layers.Dense(256, activation=\"relu\")(dense1)\n",
    "    dense2 = layers.BatchNormalization()(dense2)\n",
    "    output = layers.Dense(256)(dense2)\n",
    "\n",
    "    embedding = Model(base_cnn.input, output, name=\"Embedding\")\n",
    "\n",
    "    trainable = False\n",
    "    for layer in base_cnn.layers:\n",
    "        if layer.name == \"conv5_block1_out\":\n",
    "            trainable = True\n",
    "        layer.trainable = trainable\n",
    "    return embedding"
   ]
  },
  {
   "cell_type": "code",
   "execution_count": null,
   "id": "5854fc56",
   "metadata": {},
   "outputs": [],
   "source": [
    "def create_siamese_net(embedding):\n",
    "    anchor_input = layers.Input(name=\"anchor\", shape=target_shape + (3,))\n",
    "    positive_input = layers.Input(name=\"positive\", shape=target_shape + (3,))\n",
    "    negative_input = layers.Input(name=\"negative\", shape=target_shape + (3,))\n",
    "\n",
    "    distances = DistanceLayer()(\n",
    "        embedding(resnet.preprocess_input(anchor_input)),\n",
    "        embedding(resnet.preprocess_input(positive_input)),\n",
    "        embedding(resnet.preprocess_input(negative_input)),\n",
    "    )\n",
    "\n",
    "    siamese_network = Model(\n",
    "        inputs=[anchor_input, positive_input, negative_input], outputs=distances\n",
    "    )\n",
    "\n",
    "    return siamese_network"
   ]
  },
  {
   "cell_type": "code",
   "execution_count": null,
   "id": "a5bb9634",
   "metadata": {},
   "outputs": [],
   "source": [
    "def train_model(epochs = 5, lr=0.0001, dropout=None, verbose=False):\n",
    "    embedding = create_embedding(dropout=dropout)\n",
    "    siamese_network = create_siamese_net(embedding)\n",
    "    siamese_model = SiameseModel(siamese_network)\n",
    "    siamese_model.compile(optimizer=optimizers.Adam(learning_rate=lr), metrics=[metrics.RootMeanSquaredError(name='rmse')])\n",
    "    model = siamese_model.fit(train_dl, validation_data=val_dl, epochs=epochs)\n",
    "    if verbose:\n",
    "        plt.plot(model.history['loss'])\n",
    "        plt.plot(model.history['val_loss'])\n",
    "        plt.title('model loss')\n",
    "        plt.ylabel('loss')\n",
    "        plt.xlabel('epoch')\n",
    "        plt.legend(['train', 'val'], loc='upper left')\n",
    "        plt.show()\n",
    "        plt.plot(model.history['val_rmse'])\n",
    "        plt.title('model RMSE')\n",
    "        plt.ylabel('RMSE')\n",
    "        plt.xlabel('epoch')\n",
    "        plt.legend(['rmse'], loc='upper left')\n",
    "        plt.show()\n",
    "    return siamese_model\n",
    "        \n",
    "    "
   ]
  },
  {
   "cell_type": "markdown",
   "id": "ba4f22e8",
   "metadata": {},
   "source": [
    "# Test the model performance on instances"
   ]
  },
  {
   "cell_type": "code",
   "execution_count": 51,
   "id": "0851c70f",
   "metadata": {},
   "outputs": [],
   "source": [
    "from tensorflow.keras import models"
   ]
  },
  {
   "cell_type": "code",
   "execution_count": 52,
   "id": "9e6f1398",
   "metadata": {},
   "outputs": [
    {
     "ename": "AttributeError",
     "evalue": "'History' object has no attribute 'compute_output_shape'",
     "output_type": "error",
     "traceback": [
      "\u001b[0;31m---------------------------------------------------------------------------\u001b[0m",
      "\u001b[0;31mAttributeError\u001b[0m                            Traceback (most recent call last)",
      "\u001b[0;32m/tmp/ipykernel_5542/1673088797.py\u001b[0m in \u001b[0;36m<module>\u001b[0;34m\u001b[0m\n\u001b[0;32m----> 1\u001b[0;31m \u001b[0mmodel\u001b[0m\u001b[0;34m.\u001b[0m\u001b[0mcompute_output_shape\u001b[0m\u001b[0;34m(\u001b[0m\u001b[0minput_shape\u001b[0m\u001b[0;34m=\u001b[0m \u001b[0;34m[\u001b[0m\u001b[0;34m(\u001b[0m\u001b[0;32mNone\u001b[0m\u001b[0;34m,\u001b[0m \u001b[0;36m224\u001b[0m\u001b[0;34m,\u001b[0m \u001b[0;36m224\u001b[0m\u001b[0;34m,\u001b[0m \u001b[0;36m3\u001b[0m\u001b[0;34m)\u001b[0m\u001b[0;34m,\u001b[0m \u001b[0;34m(\u001b[0m\u001b[0;32mNone\u001b[0m\u001b[0;34m,\u001b[0m \u001b[0;36m224\u001b[0m\u001b[0;34m,\u001b[0m \u001b[0;36m224\u001b[0m\u001b[0;34m,\u001b[0m \u001b[0;36m3\u001b[0m\u001b[0;34m)\u001b[0m\u001b[0;34m,\u001b[0m \u001b[0;34m(\u001b[0m\u001b[0;32mNone\u001b[0m\u001b[0;34m,\u001b[0m \u001b[0;36m224\u001b[0m\u001b[0;34m,\u001b[0m \u001b[0;36m224\u001b[0m\u001b[0;34m,\u001b[0m \u001b[0;36m3\u001b[0m\u001b[0;34m)\u001b[0m\u001b[0;34m,\u001b[0m \u001b[0;34m(\u001b[0m\u001b[0;32mNone\u001b[0m\u001b[0;34m,\u001b[0m \u001b[0;36m1\u001b[0m\u001b[0;34m)\u001b[0m\u001b[0;34m]\u001b[0m\u001b[0;34m)\u001b[0m\u001b[0;34m\u001b[0m\u001b[0;34m\u001b[0m\u001b[0m\n\u001b[0m",
      "\u001b[0;31mAttributeError\u001b[0m: 'History' object has no attribute 'compute_output_shape'"
     ]
    }
   ],
   "source": [
    "model.compute_output_shape(input_shape= [(None, 224, 224, 3), (None, 224, 224, 3), (None, 224, 224, 3), (None, 1)])                        "
   ]
  },
  {
   "cell_type": "code",
   "execution_count": 53,
   "id": "7444ab7f",
   "metadata": {},
   "outputs": [
    {
     "ename": "AttributeError",
     "evalue": "'History' object has no attribute 'save'",
     "output_type": "error",
     "traceback": [
      "\u001b[0;31m---------------------------------------------------------------------------\u001b[0m",
      "\u001b[0;31mAttributeError\u001b[0m                            Traceback (most recent call last)",
      "\u001b[0;32m/tmp/ipykernel_5542/4291018423.py\u001b[0m in \u001b[0;36m<module>\u001b[0;34m\u001b[0m\n\u001b[0;32m----> 1\u001b[0;31m \u001b[0mmodel\u001b[0m\u001b[0;34m.\u001b[0m\u001b[0msave\u001b[0m\u001b[0;34m(\u001b[0m\u001b[0;34m'models/siamese_model.h5'\u001b[0m\u001b[0;34m)\u001b[0m\u001b[0;34m\u001b[0m\u001b[0;34m\u001b[0m\u001b[0m\n\u001b[0m",
      "\u001b[0;31mAttributeError\u001b[0m: 'History' object has no attribute 'save'"
     ]
    }
   ],
   "source": [
    "model.save('models/siamese_model.h5')"
   ]
  },
  {
   "cell_type": "code",
   "execution_count": 52,
   "id": "4b814891",
   "metadata": {},
   "outputs": [],
   "source": [
    "model = models.load_model('models/siamese_model')"
   ]
  },
  {
   "cell_type": "code",
   "execution_count": 54,
   "id": "59d0ff31",
   "metadata": {},
   "outputs": [],
   "source": [
    "sample = next(iter(val_dl))"
   ]
  },
  {
   "cell_type": "code",
   "execution_count": 55,
   "id": "adedcf86",
   "metadata": {},
   "outputs": [
    {
     "data": {
      "text/plain": [
       "'1K22_MEL'"
      ]
     },
     "execution_count": 55,
     "metadata": {},
     "output_type": "execute_result"
    }
   ],
   "source": [
    "docked_sample = valid.iloc[0]\n",
    "docked_sample.docked"
   ]
  },
  {
   "cell_type": "code",
   "execution_count": 56,
   "id": "22c17baf",
   "metadata": {},
   "outputs": [],
   "source": [
    "docked_image = preprocess_image(docked_sample.img_docked)"
   ]
  },
  {
   "cell_type": "markdown",
   "id": "847adea9",
   "metadata": {},
   "source": [
    "### Sort the templates for one docked molecule by order of lowest rmsd"
   ]
  },
  {
   "cell_type": "code",
   "execution_count": 57,
   "id": "5d6bbc2a",
   "metadata": {
    "scrolled": true
   },
   "outputs": [
    {
     "data": {
      "text/html": [
       "<div>\n",
       "<style scoped>\n",
       "    .dataframe tbody tr th:only-of-type {\n",
       "        vertical-align: middle;\n",
       "    }\n",
       "\n",
       "    .dataframe tbody tr th {\n",
       "        vertical-align: top;\n",
       "    }\n",
       "\n",
       "    .dataframe thead th {\n",
       "        text-align: right;\n",
       "    }\n",
       "</style>\n",
       "<table border=\"1\" class=\"dataframe\">\n",
       "  <thead>\n",
       "    <tr style=\"text-align: right;\">\n",
       "      <th></th>\n",
       "      <th>index</th>\n",
       "      <th>template</th>\n",
       "      <th>docked</th>\n",
       "      <th>rmsd</th>\n",
       "      <th>uniprot_id</th>\n",
       "      <th>smiles_template</th>\n",
       "      <th>smiles_docked</th>\n",
       "      <th>mcs_smartsString</th>\n",
       "      <th>template_HeavyAtomCount</th>\n",
       "      <th>template_NHOHCount</th>\n",
       "      <th>...</th>\n",
       "      <th>mcs_docked_NumRotatableBonds</th>\n",
       "      <th>ec_tanimoto_similarity</th>\n",
       "      <th>fc_tanimoto_similarity</th>\n",
       "      <th>log_RMSD</th>\n",
       "      <th>bin_RMSD</th>\n",
       "      <th>Xtransf_ec_tanimoto_similarity</th>\n",
       "      <th>Xtransf_fc_tanimoto_similarity</th>\n",
       "      <th>is_valid</th>\n",
       "      <th>img_temp</th>\n",
       "      <th>img_docked</th>\n",
       "    </tr>\n",
       "  </thead>\n",
       "  <tbody>\n",
       "    <tr>\n",
       "      <th>0</th>\n",
       "      <td>1122</td>\n",
       "      <td>1O0D_163</td>\n",
       "      <td>1K22_MEL</td>\n",
       "      <td>0.852</td>\n",
       "      <td>P00734</td>\n",
       "      <td>Cn1c(CNC(=O)c2cccn2C(=O)[C@@H](CC2CCCCC2)NCC(=...</td>\n",
       "      <td>N=C(N)c1ccc(CNC(=O)[C@@H]2CCN2C(=O)[C@H](NCC(=...</td>\n",
       "      <td>[#7]=[#6](-[#7])-[#6]:[#6]:[#6]:[#6]-[#6]-[#7]...</td>\n",
       "      <td>33</td>\n",
       "      <td>6</td>\n",
       "      <td>...</td>\n",
       "      <td>10</td>\n",
       "      <td>0.339506</td>\n",
       "      <td>0.418301</td>\n",
       "      <td>-0.160169</td>\n",
       "      <td>1</td>\n",
       "      <td>1.395062</td>\n",
       "      <td>1.183007</td>\n",
       "      <td>True</td>\n",
       "      <td>1O0D_163.png</td>\n",
       "      <td>1K22_MEL.png</td>\n",
       "    </tr>\n",
       "    <tr>\n",
       "      <th>1</th>\n",
       "      <td>291</td>\n",
       "      <td>1C1V_BAB</td>\n",
       "      <td>1K22_MEL</td>\n",
       "      <td>1.457</td>\n",
       "      <td>P00734</td>\n",
       "      <td>NC(=[NH2+])c1ccc2nc(Cc3[nH]c4cc(C(N)=[NH2+])cc...</td>\n",
       "      <td>N=C(N)c1ccc(CNC(=O)[C@@H]2CCN2C(=O)[C@H](NCC(=...</td>\n",
       "      <td>[#7]-[#6]-[#6](:[#6]:[#6]:[#6]:,-[#6]:,-[#7]:,...</td>\n",
       "      <td>25</td>\n",
       "      <td>11</td>\n",
       "      <td>...</td>\n",
       "      <td>4</td>\n",
       "      <td>0.102273</td>\n",
       "      <td>0.108571</td>\n",
       "      <td>0.376380</td>\n",
       "      <td>1</td>\n",
       "      <td>-0.977273</td>\n",
       "      <td>-1.914286</td>\n",
       "      <td>True</td>\n",
       "      <td>1C1V_BAB.png</td>\n",
       "      <td>1K22_MEL.png</td>\n",
       "    </tr>\n",
       "    <tr>\n",
       "      <th>2</th>\n",
       "      <td>3011</td>\n",
       "      <td>3SI4_B04</td>\n",
       "      <td>1K22_MEL</td>\n",
       "      <td>1.485</td>\n",
       "      <td>P00734</td>\n",
       "      <td>C[n+]1ccccc1CNC(=O)[C@@H]1CCCN1C(=O)[C@H](N)Cc...</td>\n",
       "      <td>N=C(N)c1ccc(CNC(=O)[C@@H]2CCN2C(=O)[C@H](NCC(=...</td>\n",
       "      <td>[#6]:,-[#6]:[#6]:[#6]:[#6]-[#6]-[#7]-[#6](=[#8...</td>\n",
       "      <td>27</td>\n",
       "      <td>3</td>\n",
       "      <td>...</td>\n",
       "      <td>8</td>\n",
       "      <td>0.248447</td>\n",
       "      <td>0.340000</td>\n",
       "      <td>0.395415</td>\n",
       "      <td>1</td>\n",
       "      <td>0.484472</td>\n",
       "      <td>0.400000</td>\n",
       "      <td>True</td>\n",
       "      <td>3SI4_B04.png</td>\n",
       "      <td>1K22_MEL.png</td>\n",
       "    </tr>\n",
       "    <tr>\n",
       "      <th>3</th>\n",
       "      <td>3168</td>\n",
       "      <td>1SL3_170</td>\n",
       "      <td>1K22_MEL</td>\n",
       "      <td>1.944</td>\n",
       "      <td>P00734</td>\n",
       "      <td>O=C(Cn1c(Cl)cnc(NCC(F)(F)c2cccc[n+]2[O-])c1=O)...</td>\n",
       "      <td>N=C(N)c1ccc(CNC(=O)[C@@H]2CCN2C(=O)[C@H](NCC(=...</td>\n",
       "      <td>[#6]1:[#6]:[#6]:[#6](:[#6]:[#6]:1)-[#6]-[#7]-[...</td>\n",
       "      <td>37</td>\n",
       "      <td>2</td>\n",
       "      <td>...</td>\n",
       "      <td>8</td>\n",
       "      <td>0.093023</td>\n",
       "      <td>0.129808</td>\n",
       "      <td>0.664748</td>\n",
       "      <td>1</td>\n",
       "      <td>-1.069767</td>\n",
       "      <td>-1.701923</td>\n",
       "      <td>True</td>\n",
       "      <td>1SL3_170.png</td>\n",
       "      <td>1K22_MEL.png</td>\n",
       "    </tr>\n",
       "    <tr>\n",
       "      <th>4</th>\n",
       "      <td>1746</td>\n",
       "      <td>4UFG_D6J</td>\n",
       "      <td>1K22_MEL</td>\n",
       "      <td>3.020</td>\n",
       "      <td>P00734</td>\n",
       "      <td>CC[C@@H](C(=O)NCc1ccc(C(=N)N)cc1)N(C)C(=O)[C@@...</td>\n",
       "      <td>N=C(N)c1ccc(CNC(=O)[C@@H]2CCN2C(=O)[C@H](NCC(=...</td>\n",
       "      <td>[#7]=[#6](-[#7])-[#6]1:[#6]:[#6]:[#6](:[#6]:[#...</td>\n",
       "      <td>39</td>\n",
       "      <td>5</td>\n",
       "      <td>...</td>\n",
       "      <td>8</td>\n",
       "      <td>0.229167</td>\n",
       "      <td>0.356322</td>\n",
       "      <td>1.105257</td>\n",
       "      <td>3</td>\n",
       "      <td>0.291667</td>\n",
       "      <td>0.563218</td>\n",
       "      <td>True</td>\n",
       "      <td>4UFG_D6J.png</td>\n",
       "      <td>1K22_MEL.png</td>\n",
       "    </tr>\n",
       "    <tr>\n",
       "      <th>5</th>\n",
       "      <td>3038</td>\n",
       "      <td>2ZFP_19U</td>\n",
       "      <td>1K22_MEL</td>\n",
       "      <td>3.068</td>\n",
       "      <td>P00734</td>\n",
       "      <td>CC[C@@H](N)C(=O)N1CCC[C@H]1C(=O)NCc1cccc(Cl)c1</td>\n",
       "      <td>N=C(N)c1ccc(CNC(=O)[C@@H]2CCN2C(=O)[C@H](NCC(=...</td>\n",
       "      <td>[#6]-[#6]-[#6](-[#7])-[#6](=[#8])-[#7](-[#6])-...</td>\n",
       "      <td>22</td>\n",
       "      <td>3</td>\n",
       "      <td>...</td>\n",
       "      <td>7</td>\n",
       "      <td>0.294964</td>\n",
       "      <td>0.440000</td>\n",
       "      <td>1.121026</td>\n",
       "      <td>3</td>\n",
       "      <td>0.949640</td>\n",
       "      <td>1.400000</td>\n",
       "      <td>True</td>\n",
       "      <td>2ZFP_19U.png</td>\n",
       "      <td>1K22_MEL.png</td>\n",
       "    </tr>\n",
       "    <tr>\n",
       "      <th>6</th>\n",
       "      <td>1129</td>\n",
       "      <td>2ZGB_21U</td>\n",
       "      <td>1K22_MEL</td>\n",
       "      <td>3.170</td>\n",
       "      <td>P00734</td>\n",
       "      <td>CC(C)C[C@@H](N)C(=O)N1CCC[C@H]1C(=O)NCc1cccc(C...</td>\n",
       "      <td>N=C(N)c1ccc(CNC(=O)[C@@H]2CCN2C(=O)[C@H](NCC(=...</td>\n",
       "      <td>[#6]-[#6]-[#6]-[#6](-[#7])-[#6](=[#8])-[#7](-[...</td>\n",
       "      <td>24</td>\n",
       "      <td>3</td>\n",
       "      <td>...</td>\n",
       "      <td>7</td>\n",
       "      <td>0.282759</td>\n",
       "      <td>0.453125</td>\n",
       "      <td>1.153732</td>\n",
       "      <td>3</td>\n",
       "      <td>0.827586</td>\n",
       "      <td>1.531250</td>\n",
       "      <td>True</td>\n",
       "      <td>2ZGB_21U.png</td>\n",
       "      <td>1K22_MEL.png</td>\n",
       "    </tr>\n",
       "    <tr>\n",
       "      <th>7</th>\n",
       "      <td>2464</td>\n",
       "      <td>1C1W_BAH</td>\n",
       "      <td>1K22_MEL</td>\n",
       "      <td>3.931</td>\n",
       "      <td>P00734</td>\n",
       "      <td>NC(=[NH2+])c1ccc2nc(C(O)(O)c3nc4ccc(C(N)=[NH2+...</td>\n",
       "      <td>N=C(N)c1ccc(CNC(=O)[C@@H]2CCN2C(=O)[C@H](NCC(=...</td>\n",
       "      <td>[#7]-[#6]-[#6](:[#6]:[#6]:[#6]:,-[#6]:,-[#7]:,...</td>\n",
       "      <td>27</td>\n",
       "      <td>12</td>\n",
       "      <td>...</td>\n",
       "      <td>4</td>\n",
       "      <td>0.100000</td>\n",
       "      <td>0.112360</td>\n",
       "      <td>1.368894</td>\n",
       "      <td>3</td>\n",
       "      <td>-1.000000</td>\n",
       "      <td>-1.876404</td>\n",
       "      <td>True</td>\n",
       "      <td>1C1W_BAH.png</td>\n",
       "      <td>1K22_MEL.png</td>\n",
       "    </tr>\n",
       "    <tr>\n",
       "      <th>8</th>\n",
       "      <td>3026</td>\n",
       "      <td>2C8W_C7M</td>\n",
       "      <td>1K22_MEL</td>\n",
       "      <td>4.330</td>\n",
       "      <td>P00734</td>\n",
       "      <td>COc1ccc(S(=O)(=O)NC[C@@H](O)[C@H](Cc2ccccc2)[N...</td>\n",
       "      <td>N=C(N)c1ccc(CNC(=O)[C@@H]2CCN2C(=O)[C@H](NCC(=...</td>\n",
       "      <td>[#6](-[#7])-[#6]:,-[#6]:,-[#6]:,-[#6](-,:[#6])...</td>\n",
       "      <td>37</td>\n",
       "      <td>6</td>\n",
       "      <td>...</td>\n",
       "      <td>2</td>\n",
       "      <td>0.087963</td>\n",
       "      <td>0.169154</td>\n",
       "      <td>1.465568</td>\n",
       "      <td>3</td>\n",
       "      <td>-1.120370</td>\n",
       "      <td>-1.308458</td>\n",
       "      <td>True</td>\n",
       "      <td>2C8W_C7M.png</td>\n",
       "      <td>1K22_MEL.png</td>\n",
       "    </tr>\n",
       "    <tr>\n",
       "      <th>9</th>\n",
       "      <td>0</td>\n",
       "      <td>1YPJ_UIB</td>\n",
       "      <td>1K22_MEL</td>\n",
       "      <td>4.643</td>\n",
       "      <td>P00734</td>\n",
       "      <td>CC[C@@H]1[C@@H]2[C@H](C(=O)N1Cc1ccc3c(c1)OCO3)...</td>\n",
       "      <td>N=C(N)c1ccc(CNC(=O)[C@@H]2CCN2C(=O)[C@H](NCC(=...</td>\n",
       "      <td>[#7]=[#6](-[#7])-[#6]1:[#6]:[#6]:[#6](:[#6]:[#...</td>\n",
       "      <td>33</td>\n",
       "      <td>3</td>\n",
       "      <td>...</td>\n",
       "      <td>7</td>\n",
       "      <td>0.165775</td>\n",
       "      <td>0.289941</td>\n",
       "      <td>1.535361</td>\n",
       "      <td>3</td>\n",
       "      <td>-0.342246</td>\n",
       "      <td>-0.100592</td>\n",
       "      <td>True</td>\n",
       "      <td>1YPJ_UIB.png</td>\n",
       "      <td>1K22_MEL.png</td>\n",
       "    </tr>\n",
       "    <tr>\n",
       "      <th>10</th>\n",
       "      <td>1530</td>\n",
       "      <td>2JH0_701</td>\n",
       "      <td>1K22_MEL</td>\n",
       "      <td>5.135</td>\n",
       "      <td>P00734</td>\n",
       "      <td>C/C(=C\\S(=O)(=O)N[C@H]1CCN([C@@H](C)C(=O)N2CCO...</td>\n",
       "      <td>N=C(N)c1ccc(CNC(=O)[C@@H]2CCN2C(=O)[C@H](NCC(=...</td>\n",
       "      <td>[#7]-[#6](-[#6]-[#6])-[#6](-[#7]-[#6](-[#6])-[...</td>\n",
       "      <td>29</td>\n",
       "      <td>1</td>\n",
       "      <td>...</td>\n",
       "      <td>7</td>\n",
       "      <td>0.141243</td>\n",
       "      <td>0.239264</td>\n",
       "      <td>1.636080</td>\n",
       "      <td>3</td>\n",
       "      <td>-0.587571</td>\n",
       "      <td>-0.607362</td>\n",
       "      <td>True</td>\n",
       "      <td>2JH0_701.png</td>\n",
       "      <td>1K22_MEL.png</td>\n",
       "    </tr>\n",
       "    <tr>\n",
       "      <th>11</th>\n",
       "      <td>47</td>\n",
       "      <td>5AHG_Y4L</td>\n",
       "      <td>1K22_MEL</td>\n",
       "      <td>8.037</td>\n",
       "      <td>P00734</td>\n",
       "      <td>CN(C)S(=O)(=O)Nc1ccc(Cl)cc1</td>\n",
       "      <td>N=C(N)c1ccc(CNC(=O)[C@@H]2CCN2C(=O)[C@H](NCC(=...</td>\n",
       "      <td>[#7]-[#6](:,-[#6]:,-[#6]:,-[#6]:,-[#6]):,-[#6]</td>\n",
       "      <td>14</td>\n",
       "      <td>1</td>\n",
       "      <td>...</td>\n",
       "      <td>3</td>\n",
       "      <td>0.097015</td>\n",
       "      <td>0.157480</td>\n",
       "      <td>2.084056</td>\n",
       "      <td>3</td>\n",
       "      <td>-1.029851</td>\n",
       "      <td>-1.425197</td>\n",
       "      <td>True</td>\n",
       "      <td>5AHG_Y4L.png</td>\n",
       "      <td>1K22_MEL.png</td>\n",
       "    </tr>\n",
       "    <tr>\n",
       "      <th>12</th>\n",
       "      <td>3911</td>\n",
       "      <td>1D4P_BPP</td>\n",
       "      <td>1K22_MEL</td>\n",
       "      <td>8.220</td>\n",
       "      <td>P00734</td>\n",
       "      <td>NC(=[NH2+])C1=CC2C=C(C(=O)N3CCC(Cc4ccccc4)CC3)...</td>\n",
       "      <td>N=C(N)c1ccc(CNC(=O)[C@@H]2CCN2C(=O)[C@H](NCC(=...</td>\n",
       "      <td>[#6](-[#6]-[#7](-[#6]-[#6]-[#6]-[#6]-[#6]:,-[#...</td>\n",
       "      <td>27</td>\n",
       "      <td>4</td>\n",
       "      <td>...</td>\n",
       "      <td>4</td>\n",
       "      <td>0.148571</td>\n",
       "      <td>0.296774</td>\n",
       "      <td>2.106570</td>\n",
       "      <td>3</td>\n",
       "      <td>-0.514286</td>\n",
       "      <td>-0.032258</td>\n",
       "      <td>True</td>\n",
       "      <td>1D4P_BPP.png</td>\n",
       "      <td>1K22_MEL.png</td>\n",
       "    </tr>\n",
       "    <tr>\n",
       "      <th>13</th>\n",
       "      <td>1853</td>\n",
       "      <td>3C1K_T15</td>\n",
       "      <td>1K22_MEL</td>\n",
       "      <td>9.152</td>\n",
       "      <td>P00734</td>\n",
       "      <td>Cc1ncn(CC(=O)NC(C)(C)C)c1CNC(=O)Cn1c(C)ccc(NS(...</td>\n",
       "      <td>N=C(N)c1ccc(CNC(=O)[C@@H]2CCN2C(=O)[C@H](NCC(=...</td>\n",
       "      <td>[#6]-[#6]:[#6]:[#6]:[#6]-,:[#6]-,:[#7]-[#6]-[#...</td>\n",
       "      <td>38</td>\n",
       "      <td>3</td>\n",
       "      <td>...</td>\n",
       "      <td>10</td>\n",
       "      <td>0.120192</td>\n",
       "      <td>0.188776</td>\n",
       "      <td>2.213972</td>\n",
       "      <td>3</td>\n",
       "      <td>-0.798077</td>\n",
       "      <td>-1.112245</td>\n",
       "      <td>True</td>\n",
       "      <td>3C1K_T15.png</td>\n",
       "      <td>1K22_MEL.png</td>\n",
       "    </tr>\n",
       "    <tr>\n",
       "      <th>14</th>\n",
       "      <td>5029</td>\n",
       "      <td>3SI3_B03</td>\n",
       "      <td>1K22_MEL</td>\n",
       "      <td>9.256</td>\n",
       "      <td>P00734</td>\n",
       "      <td>N[C@H](Cc1ccccc1)C(=O)N1CCC[C@H]1C(=O)NCc1ccccn1</td>\n",
       "      <td>N=C(N)c1ccc(CNC(=O)[C@@H]2CCN2C(=O)[C@H](NCC(=...</td>\n",
       "      <td>[#7]-[#6](-[#6]-[#6]:,-[#6]:,-[#6]:,-[#6]:,-[#...</td>\n",
       "      <td>26</td>\n",
       "      <td>3</td>\n",
       "      <td>...</td>\n",
       "      <td>8</td>\n",
       "      <td>0.253165</td>\n",
       "      <td>0.337838</td>\n",
       "      <td>2.225272</td>\n",
       "      <td>3</td>\n",
       "      <td>0.531646</td>\n",
       "      <td>0.378378</td>\n",
       "      <td>True</td>\n",
       "      <td>3SI3_B03.png</td>\n",
       "      <td>1K22_MEL.png</td>\n",
       "    </tr>\n",
       "    <tr>\n",
       "      <th>15</th>\n",
       "      <td>1637</td>\n",
       "      <td>1T4V_14A</td>\n",
       "      <td>1K22_MEL</td>\n",
       "      <td>9.882</td>\n",
       "      <td>P00734</td>\n",
       "      <td>C=CCN(C(=O)c1cc(Cl)cc(OCCCONC(=N)N)c1)C1CCCC1</td>\n",
       "      <td>N=C(N)c1ccc(CNC(=O)[C@@H]2CCN2C(=O)[C@H](NCC(=...</td>\n",
       "      <td>[#6]-[#6]-[#7](-[#6](=[#8])-[#6]:,-[#6]:,-[#6]...</td>\n",
       "      <td>27</td>\n",
       "      <td>4</td>\n",
       "      <td>...</td>\n",
       "      <td>4</td>\n",
       "      <td>0.164706</td>\n",
       "      <td>0.302632</td>\n",
       "      <td>2.290715</td>\n",
       "      <td>3</td>\n",
       "      <td>-0.352941</td>\n",
       "      <td>0.026316</td>\n",
       "      <td>True</td>\n",
       "      <td>1T4V_14A.png</td>\n",
       "      <td>1K22_MEL.png</td>\n",
       "    </tr>\n",
       "    <tr>\n",
       "      <th>16</th>\n",
       "      <td>923</td>\n",
       "      <td>3P17_99P</td>\n",
       "      <td>1K22_MEL</td>\n",
       "      <td>10.484</td>\n",
       "      <td>P00734</td>\n",
       "      <td>N[C@H](Cc1ccccc1)C(=O)N1CCC[C@H]1C(=O)NCc1cccnc1</td>\n",
       "      <td>N=C(N)c1ccc(CNC(=O)[C@@H]2CCN2C(=O)[C@H](NCC(=...</td>\n",
       "      <td>[#7]-[#6](-[#6]-[#6]:,-[#6]:,-[#6]:,-[#6]:,-[#...</td>\n",
       "      <td>26</td>\n",
       "      <td>3</td>\n",
       "      <td>...</td>\n",
       "      <td>7</td>\n",
       "      <td>0.269231</td>\n",
       "      <td>0.375000</td>\n",
       "      <td>2.349850</td>\n",
       "      <td>3</td>\n",
       "      <td>0.692308</td>\n",
       "      <td>0.750000</td>\n",
       "      <td>True</td>\n",
       "      <td>3P17_99P.png</td>\n",
       "      <td>1K22_MEL.png</td>\n",
       "    </tr>\n",
       "    <tr>\n",
       "      <th>17</th>\n",
       "      <td>109</td>\n",
       "      <td>3SHA_P97</td>\n",
       "      <td>1K22_MEL</td>\n",
       "      <td>10.853</td>\n",
       "      <td>P00734</td>\n",
       "      <td>N[C@H](Cc1ccccc1)C(=O)N1CCC[C@H]1C(=O)NCc1cncc...</td>\n",
       "      <td>N=C(N)c1ccc(CNC(=O)[C@@H]2CCN2C(=O)[C@H](NCC(=...</td>\n",
       "      <td>[#7]-[#6](-[#6]-[#6]:,-[#6]:,-[#6]:,-[#6]:,-[#...</td>\n",
       "      <td>27</td>\n",
       "      <td>3</td>\n",
       "      <td>...</td>\n",
       "      <td>7</td>\n",
       "      <td>0.248447</td>\n",
       "      <td>0.358108</td>\n",
       "      <td>2.384442</td>\n",
       "      <td>3</td>\n",
       "      <td>0.484472</td>\n",
       "      <td>0.581081</td>\n",
       "      <td>True</td>\n",
       "      <td>3SHA_P97.png</td>\n",
       "      <td>1K22_MEL.png</td>\n",
       "    </tr>\n",
       "    <tr>\n",
       "      <th>18</th>\n",
       "      <td>1048</td>\n",
       "      <td>1AIX_T19</td>\n",
       "      <td>1K22_MEL</td>\n",
       "      <td>12.679</td>\n",
       "      <td>P00734</td>\n",
       "      <td>CC(C)[C@H](NC(=O)c1cccn1C(=O)[C@H](NC(=O)OCc1c...</td>\n",
       "      <td>N=C(N)c1ccc(CNC(=O)[C@@H]2CCN2C(=O)[C@H](NCC(=...</td>\n",
       "      <td>[#6]:,-[#6](-[#6]-[#7]-[#6](=[#8])-[#6](-,:[#6...</td>\n",
       "      <td>42</td>\n",
       "      <td>4</td>\n",
       "      <td>...</td>\n",
       "      <td>8</td>\n",
       "      <td>0.121076</td>\n",
       "      <td>0.173709</td>\n",
       "      <td>2.539947</td>\n",
       "      <td>3</td>\n",
       "      <td>-0.789238</td>\n",
       "      <td>-1.262911</td>\n",
       "      <td>True</td>\n",
       "      <td>1AIX_T19.png</td>\n",
       "      <td>1K22_MEL.png</td>\n",
       "    </tr>\n",
       "  </tbody>\n",
       "</table>\n",
       "<p>19 rows × 45 columns</p>\n",
       "</div>"
      ],
      "text/plain": [
       "    index  template    docked    rmsd uniprot_id  \\\n",
       "0    1122  1O0D_163  1K22_MEL   0.852     P00734   \n",
       "1     291  1C1V_BAB  1K22_MEL   1.457     P00734   \n",
       "2    3011  3SI4_B04  1K22_MEL   1.485     P00734   \n",
       "3    3168  1SL3_170  1K22_MEL   1.944     P00734   \n",
       "4    1746  4UFG_D6J  1K22_MEL   3.020     P00734   \n",
       "5    3038  2ZFP_19U  1K22_MEL   3.068     P00734   \n",
       "6    1129  2ZGB_21U  1K22_MEL   3.170     P00734   \n",
       "7    2464  1C1W_BAH  1K22_MEL   3.931     P00734   \n",
       "8    3026  2C8W_C7M  1K22_MEL   4.330     P00734   \n",
       "9       0  1YPJ_UIB  1K22_MEL   4.643     P00734   \n",
       "10   1530  2JH0_701  1K22_MEL   5.135     P00734   \n",
       "11     47  5AHG_Y4L  1K22_MEL   8.037     P00734   \n",
       "12   3911  1D4P_BPP  1K22_MEL   8.220     P00734   \n",
       "13   1853  3C1K_T15  1K22_MEL   9.152     P00734   \n",
       "14   5029  3SI3_B03  1K22_MEL   9.256     P00734   \n",
       "15   1637  1T4V_14A  1K22_MEL   9.882     P00734   \n",
       "16    923  3P17_99P  1K22_MEL  10.484     P00734   \n",
       "17    109  3SHA_P97  1K22_MEL  10.853     P00734   \n",
       "18   1048  1AIX_T19  1K22_MEL  12.679     P00734   \n",
       "\n",
       "                                      smiles_template  \\\n",
       "0   Cn1c(CNC(=O)c2cccn2C(=O)[C@@H](CC2CCCCC2)NCC(=...   \n",
       "1   NC(=[NH2+])c1ccc2nc(Cc3[nH]c4cc(C(N)=[NH2+])cc...   \n",
       "2   C[n+]1ccccc1CNC(=O)[C@@H]1CCCN1C(=O)[C@H](N)Cc...   \n",
       "3   O=C(Cn1c(Cl)cnc(NCC(F)(F)c2cccc[n+]2[O-])c1=O)...   \n",
       "4   CC[C@@H](C(=O)NCc1ccc(C(=N)N)cc1)N(C)C(=O)[C@@...   \n",
       "5      CC[C@@H](N)C(=O)N1CCC[C@H]1C(=O)NCc1cccc(Cl)c1   \n",
       "6   CC(C)C[C@@H](N)C(=O)N1CCC[C@H]1C(=O)NCc1cccc(C...   \n",
       "7   NC(=[NH2+])c1ccc2nc(C(O)(O)c3nc4ccc(C(N)=[NH2+...   \n",
       "8   COc1ccc(S(=O)(=O)NC[C@@H](O)[C@H](Cc2ccccc2)[N...   \n",
       "9   CC[C@@H]1[C@@H]2[C@H](C(=O)N1Cc1ccc3c(c1)OCO3)...   \n",
       "10  C/C(=C\\S(=O)(=O)N[C@H]1CCN([C@@H](C)C(=O)N2CCO...   \n",
       "11                        CN(C)S(=O)(=O)Nc1ccc(Cl)cc1   \n",
       "12  NC(=[NH2+])C1=CC2C=C(C(=O)N3CCC(Cc4ccccc4)CC3)...   \n",
       "13  Cc1ncn(CC(=O)NC(C)(C)C)c1CNC(=O)Cn1c(C)ccc(NS(...   \n",
       "14   N[C@H](Cc1ccccc1)C(=O)N1CCC[C@H]1C(=O)NCc1ccccn1   \n",
       "15      C=CCN(C(=O)c1cc(Cl)cc(OCCCONC(=N)N)c1)C1CCCC1   \n",
       "16   N[C@H](Cc1ccccc1)C(=O)N1CCC[C@H]1C(=O)NCc1cccnc1   \n",
       "17  N[C@H](Cc1ccccc1)C(=O)N1CCC[C@H]1C(=O)NCc1cncc...   \n",
       "18  CC(C)[C@H](NC(=O)c1cccn1C(=O)[C@H](NC(=O)OCc1c...   \n",
       "\n",
       "                                        smiles_docked  \\\n",
       "0   N=C(N)c1ccc(CNC(=O)[C@@H]2CCN2C(=O)[C@H](NCC(=...   \n",
       "1   N=C(N)c1ccc(CNC(=O)[C@@H]2CCN2C(=O)[C@H](NCC(=...   \n",
       "2   N=C(N)c1ccc(CNC(=O)[C@@H]2CCN2C(=O)[C@H](NCC(=...   \n",
       "3   N=C(N)c1ccc(CNC(=O)[C@@H]2CCN2C(=O)[C@H](NCC(=...   \n",
       "4   N=C(N)c1ccc(CNC(=O)[C@@H]2CCN2C(=O)[C@H](NCC(=...   \n",
       "5   N=C(N)c1ccc(CNC(=O)[C@@H]2CCN2C(=O)[C@H](NCC(=...   \n",
       "6   N=C(N)c1ccc(CNC(=O)[C@@H]2CCN2C(=O)[C@H](NCC(=...   \n",
       "7   N=C(N)c1ccc(CNC(=O)[C@@H]2CCN2C(=O)[C@H](NCC(=...   \n",
       "8   N=C(N)c1ccc(CNC(=O)[C@@H]2CCN2C(=O)[C@H](NCC(=...   \n",
       "9   N=C(N)c1ccc(CNC(=O)[C@@H]2CCN2C(=O)[C@H](NCC(=...   \n",
       "10  N=C(N)c1ccc(CNC(=O)[C@@H]2CCN2C(=O)[C@H](NCC(=...   \n",
       "11  N=C(N)c1ccc(CNC(=O)[C@@H]2CCN2C(=O)[C@H](NCC(=...   \n",
       "12  N=C(N)c1ccc(CNC(=O)[C@@H]2CCN2C(=O)[C@H](NCC(=...   \n",
       "13  N=C(N)c1ccc(CNC(=O)[C@@H]2CCN2C(=O)[C@H](NCC(=...   \n",
       "14  N=C(N)c1ccc(CNC(=O)[C@@H]2CCN2C(=O)[C@H](NCC(=...   \n",
       "15  N=C(N)c1ccc(CNC(=O)[C@@H]2CCN2C(=O)[C@H](NCC(=...   \n",
       "16  N=C(N)c1ccc(CNC(=O)[C@@H]2CCN2C(=O)[C@H](NCC(=...   \n",
       "17  N=C(N)c1ccc(CNC(=O)[C@@H]2CCN2C(=O)[C@H](NCC(=...   \n",
       "18  N=C(N)c1ccc(CNC(=O)[C@@H]2CCN2C(=O)[C@H](NCC(=...   \n",
       "\n",
       "                                     mcs_smartsString  \\\n",
       "0   [#7]=[#6](-[#7])-[#6]:[#6]:[#6]:[#6]-[#6]-[#7]...   \n",
       "1   [#7]-[#6]-[#6](:[#6]:[#6]:[#6]:,-[#6]:,-[#7]:,...   \n",
       "2   [#6]:,-[#6]:[#6]:[#6]:[#6]-[#6]-[#7]-[#6](=[#8...   \n",
       "3   [#6]1:[#6]:[#6]:[#6](:[#6]:[#6]:1)-[#6]-[#7]-[...   \n",
       "4   [#7]=[#6](-[#7])-[#6]1:[#6]:[#6]:[#6](:[#6]:[#...   \n",
       "5   [#6]-[#6]-[#6](-[#7])-[#6](=[#8])-[#7](-[#6])-...   \n",
       "6   [#6]-[#6]-[#6]-[#6](-[#7])-[#6](=[#8])-[#7](-[...   \n",
       "7   [#7]-[#6]-[#6](:[#6]:[#6]:[#6]:,-[#6]:,-[#7]:,...   \n",
       "8   [#6](-[#7])-[#6]:,-[#6]:,-[#6]:,-[#6](-,:[#6])...   \n",
       "9   [#7]=[#6](-[#7])-[#6]1:[#6]:[#6]:[#6](:[#6]:[#...   \n",
       "10  [#7]-[#6](-[#6]-[#6])-[#6](-[#7]-[#6](-[#6])-[...   \n",
       "11     [#7]-[#6](:,-[#6]:,-[#6]:,-[#6]:,-[#6]):,-[#6]   \n",
       "12  [#6](-[#6]-[#7](-[#6]-[#6]-[#6]-[#6]-[#6]:,-[#...   \n",
       "13  [#6]-[#6]:[#6]:[#6]:[#6]-,:[#6]-,:[#7]-[#6]-[#...   \n",
       "14  [#7]-[#6](-[#6]-[#6]:,-[#6]:,-[#6]:,-[#6]:,-[#...   \n",
       "15  [#6]-[#6]-[#7](-[#6](=[#8])-[#6]:,-[#6]:,-[#6]...   \n",
       "16  [#7]-[#6](-[#6]-[#6]:,-[#6]:,-[#6]:,-[#6]:,-[#...   \n",
       "17  [#7]-[#6](-[#6]-[#6]:,-[#6]:,-[#6]:,-[#6]:,-[#...   \n",
       "18  [#6]:,-[#6](-[#6]-[#7]-[#6](=[#8])-[#6](-,:[#6...   \n",
       "\n",
       "    template_HeavyAtomCount  template_NHOHCount  ...  \\\n",
       "0                        33                   6  ...   \n",
       "1                        25                  11  ...   \n",
       "2                        27                   3  ...   \n",
       "3                        37                   2  ...   \n",
       "4                        39                   5  ...   \n",
       "5                        22                   3  ...   \n",
       "6                        24                   3  ...   \n",
       "7                        27                  12  ...   \n",
       "8                        37                   6  ...   \n",
       "9                        33                   3  ...   \n",
       "10                       29                   1  ...   \n",
       "11                       14                   1  ...   \n",
       "12                       27                   4  ...   \n",
       "13                       38                   3  ...   \n",
       "14                       26                   3  ...   \n",
       "15                       27                   4  ...   \n",
       "16                       26                   3  ...   \n",
       "17                       27                   3  ...   \n",
       "18                       42                   4  ...   \n",
       "\n",
       "    mcs_docked_NumRotatableBonds  ec_tanimoto_similarity  \\\n",
       "0                             10                0.339506   \n",
       "1                              4                0.102273   \n",
       "2                              8                0.248447   \n",
       "3                              8                0.093023   \n",
       "4                              8                0.229167   \n",
       "5                              7                0.294964   \n",
       "6                              7                0.282759   \n",
       "7                              4                0.100000   \n",
       "8                              2                0.087963   \n",
       "9                              7                0.165775   \n",
       "10                             7                0.141243   \n",
       "11                             3                0.097015   \n",
       "12                             4                0.148571   \n",
       "13                            10                0.120192   \n",
       "14                             8                0.253165   \n",
       "15                             4                0.164706   \n",
       "16                             7                0.269231   \n",
       "17                             7                0.248447   \n",
       "18                             8                0.121076   \n",
       "\n",
       "    fc_tanimoto_similarity  log_RMSD  bin_RMSD  \\\n",
       "0                 0.418301 -0.160169         1   \n",
       "1                 0.108571  0.376380         1   \n",
       "2                 0.340000  0.395415         1   \n",
       "3                 0.129808  0.664748         1   \n",
       "4                 0.356322  1.105257         3   \n",
       "5                 0.440000  1.121026         3   \n",
       "6                 0.453125  1.153732         3   \n",
       "7                 0.112360  1.368894         3   \n",
       "8                 0.169154  1.465568         3   \n",
       "9                 0.289941  1.535361         3   \n",
       "10                0.239264  1.636080         3   \n",
       "11                0.157480  2.084056         3   \n",
       "12                0.296774  2.106570         3   \n",
       "13                0.188776  2.213972         3   \n",
       "14                0.337838  2.225272         3   \n",
       "15                0.302632  2.290715         3   \n",
       "16                0.375000  2.349850         3   \n",
       "17                0.358108  2.384442         3   \n",
       "18                0.173709  2.539947         3   \n",
       "\n",
       "    Xtransf_ec_tanimoto_similarity  Xtransf_fc_tanimoto_similarity  is_valid  \\\n",
       "0                         1.395062                        1.183007      True   \n",
       "1                        -0.977273                       -1.914286      True   \n",
       "2                         0.484472                        0.400000      True   \n",
       "3                        -1.069767                       -1.701923      True   \n",
       "4                         0.291667                        0.563218      True   \n",
       "5                         0.949640                        1.400000      True   \n",
       "6                         0.827586                        1.531250      True   \n",
       "7                        -1.000000                       -1.876404      True   \n",
       "8                        -1.120370                       -1.308458      True   \n",
       "9                        -0.342246                       -0.100592      True   \n",
       "10                       -0.587571                       -0.607362      True   \n",
       "11                       -1.029851                       -1.425197      True   \n",
       "12                       -0.514286                       -0.032258      True   \n",
       "13                       -0.798077                       -1.112245      True   \n",
       "14                        0.531646                        0.378378      True   \n",
       "15                       -0.352941                        0.026316      True   \n",
       "16                        0.692308                        0.750000      True   \n",
       "17                        0.484472                        0.581081      True   \n",
       "18                       -0.789238                       -1.262911      True   \n",
       "\n",
       "        img_temp    img_docked  \n",
       "0   1O0D_163.png  1K22_MEL.png  \n",
       "1   1C1V_BAB.png  1K22_MEL.png  \n",
       "2   3SI4_B04.png  1K22_MEL.png  \n",
       "3   1SL3_170.png  1K22_MEL.png  \n",
       "4   4UFG_D6J.png  1K22_MEL.png  \n",
       "5   2ZFP_19U.png  1K22_MEL.png  \n",
       "6   2ZGB_21U.png  1K22_MEL.png  \n",
       "7   1C1W_BAH.png  1K22_MEL.png  \n",
       "8   2C8W_C7M.png  1K22_MEL.png  \n",
       "9   1YPJ_UIB.png  1K22_MEL.png  \n",
       "10  2JH0_701.png  1K22_MEL.png  \n",
       "11  5AHG_Y4L.png  1K22_MEL.png  \n",
       "12  1D4P_BPP.png  1K22_MEL.png  \n",
       "13  3C1K_T15.png  1K22_MEL.png  \n",
       "14  3SI3_B03.png  1K22_MEL.png  \n",
       "15  1T4V_14A.png  1K22_MEL.png  \n",
       "16  3P17_99P.png  1K22_MEL.png  \n",
       "17  3SHA_P97.png  1K22_MEL.png  \n",
       "18  1AIX_T19.png  1K22_MEL.png  \n",
       "\n",
       "[19 rows x 45 columns]"
      ]
     },
     "execution_count": 57,
     "metadata": {},
     "output_type": "execute_result"
    }
   ],
   "source": [
    "templates = valid[valid.docked == docked_sample.docked]\n",
    "templates = templates.reset_index()\n",
    "templates = templates.sort_values(by=['rmsd'], ignore_index=True)\n",
    "templates"
   ]
  },
  {
   "cell_type": "code",
   "execution_count": 58,
   "id": "1f2cb69c",
   "metadata": {},
   "outputs": [],
   "source": [
    "template_image = preprocess_image(templates.iloc[0].img_temp)"
   ]
  },
  {
   "cell_type": "code",
   "execution_count": 59,
   "id": "1cd4f7fc",
   "metadata": {},
   "outputs": [
    {
     "name": "stdout",
     "output_type": "stream",
     "text": [
      "Show docked molecule\n"
     ]
    },
    {
     "data": {
      "text/plain": [
       "<matplotlib.image.AxesImage at 0x7f13f4de5d00>"
      ]
     },
     "execution_count": 59,
     "metadata": {},
     "output_type": "execute_result"
    },
    {
     "data": {
      "image/png": "[encoded data removed]",
      "text/plain": [
       "<Figure size 432x288 with 1 Axes>"
      ]
     },
     "metadata": {
      "needs_background": "light"
     },
     "output_type": "display_data"
    }
   ],
   "source": [
    "print('Show docked molecule')\n",
    "plt.imshow(docked_image)"
   ]
  },
  {
   "cell_type": "code",
   "execution_count": 60,
   "id": "e87c3fb0",
   "metadata": {},
   "outputs": [
    {
     "name": "stdout",
     "output_type": "stream",
     "text": [
      "Show lowest rmsd template molecule\n"
     ]
    },
    {
     "data": {
      "text/plain": [
       "<matplotlib.image.AxesImage at 0x7f13f4d73820>"
      ]
     },
     "execution_count": 60,
     "metadata": {},
     "output_type": "execute_result"
    },
    {
     "data": {
      "image/png": "[encoded data removed]",
      "text/plain": [
       "<Figure size 432x288 with 1 Axes>"
      ]
     },
     "metadata": {
      "needs_background": "light"
     },
     "output_type": "display_data"
    }
   ],
   "source": [
    "print('Show lowest rmsd template molecule')\n",
    "plt.imshow(template_image)"
   ]
  },
  {
   "cell_type": "code",
   "execution_count": 75,
   "id": "e5ab7356",
   "metadata": {},
   "outputs": [
    {
     "data": {
      "text/plain": [
       "0    -0.160169\n",
       "1     0.376380\n",
       "2     0.395415\n",
       "3     0.664748\n",
       "4     1.105257\n",
       "5     1.121026\n",
       "6     1.153732\n",
       "7     1.368894\n",
       "8     1.465568\n",
       "9     1.535361\n",
       "10    1.636080\n",
       "11    2.084056\n",
       "12    2.106570\n",
       "13    2.213972\n",
       "14    2.225272\n",
       "15    2.290715\n",
       "16    2.349850\n",
       "17    2.384442\n",
       "18    2.539947\n",
       "Name: log_RMSD, dtype: float64"
      ]
     },
     "execution_count": 75,
     "metadata": {},
     "output_type": "execute_result"
    }
   ],
   "source": [
    "rmsds = templates.log_RMSD\n",
    "rmsds"
   ]
  },
  {
   "cell_type": "code",
   "execution_count": 61,
   "id": "b3bf8639",
   "metadata": {},
   "outputs": [],
   "source": [
    "rmse = metrics.RootMeanSquaredError()"
   ]
  },
  {
   "cell_type": "code",
   "execution_count": 62,
   "id": "446b35af",
   "metadata": {},
   "outputs": [],
   "source": [
    "similarity = metrics.CosineSimilarity()"
   ]
  },
  {
   "cell_type": "code",
   "execution_count": 63,
   "id": "f7ec2ab4",
   "metadata": {},
   "outputs": [],
   "source": [
    "tf_template = tf.reshape(template_image, (1,224,224,3))"
   ]
  },
  {
   "cell_type": "code",
   "execution_count": 64,
   "id": "cfb19602",
   "metadata": {},
   "outputs": [],
   "source": [
    "tf_docked = tf.reshape(docked_image, (1,224,224,3))"
   ]
  },
  {
   "cell_type": "code",
   "execution_count": 65,
   "id": "b7b0399f",
   "metadata": {},
   "outputs": [],
   "source": [
    "template_embedding, docked_embedding = (\n",
    "    embedding(resnet.preprocess_input(tf_template)),\n",
    "    embedding(resnet.preprocess_input(tf_docked)),\n",
    ")"
   ]
  },
  {
   "cell_type": "code",
   "execution_count": 66,
   "id": "46e93760",
   "metadata": {},
   "outputs": [
    {
     "data": {
      "text/plain": [
       "(0.03326026, -0.160168752152821)"
      ]
     },
     "execution_count": 66,
     "metadata": {},
     "output_type": "execute_result"
    }
   ],
   "source": [
    "rmse_positive = rmse(template_embedding, docked_embedding)\n",
    "rmse_positive.numpy(), templates.iloc[0].log_RMSD"
   ]
  },
  {
   "cell_type": "code",
   "execution_count": 67,
   "id": "b1793d38",
   "metadata": {},
   "outputs": [
    {
     "data": {
      "text/plain": [
       "numpy.float32"
      ]
     },
     "execution_count": 67,
     "metadata": {},
     "output_type": "execute_result"
    }
   ],
   "source": [
    "type(rmse_positive.numpy())"
   ]
  },
  {
   "cell_type": "code",
   "execution_count": 68,
   "id": "ce8de2ec",
   "metadata": {},
   "outputs": [],
   "source": [
    "def get_rmse(row):\n",
    "    docked_image = preprocess_image(row.img_docked)\n",
    "    template_image = preprocess_image(row.img_temp)\n",
    "    template_image = tf.reshape(template_image, (1,224,224,3))\n",
    "    docked_image = tf.reshape(docked_image, (1,224,224,3))\n",
    "    template_embedding, docked_embedding = (\n",
    "        embedding(resnet.preprocess_input(template_image)),\n",
    "        embedding(resnet.preprocess_input(docked_image)),\n",
    "    )\n",
    "    rmse_positive = rmse(template_embedding, docked_embedding)\n",
    "    return rmse_positive.numpy()"
   ]
  },
  {
   "cell_type": "code",
   "execution_count": 69,
   "id": "7fb3218d",
   "metadata": {},
   "outputs": [
    {
     "data": {
      "text/plain": [
       "{0: 0.03326026,\n",
       " 1: 0.034391727,\n",
       " 2: 0.040573817,\n",
       " 3: 0.041297156,\n",
       " 4: 0.041179504,\n",
       " 5: 0.04327572,\n",
       " 6: 0.043199204,\n",
       " 7: 0.04195674,\n",
       " 8: 0.04343043,\n",
       " 9: 0.04555696,\n",
       " 10: 0.04823145,\n",
       " 11: 0.047598664,\n",
       " 12: 0.047002167,\n",
       " 13: 0.046837203,\n",
       " 14: 0.046176545,\n",
       " 15: 0.04658984,\n",
       " 16: 0.045918275,\n",
       " 17: 0.045371447,\n",
       " 18: 0.04519901}"
      ]
     },
     "execution_count": 69,
     "metadata": {},
     "output_type": "execute_result"
    }
   ],
   "source": [
    "rmses = {}\n",
    "for i, r in templates.iterrows(): \n",
    "    rm = get_rmse(r)\n",
    "    rmses[i] = rm\n",
    "rmses"
   ]
  },
  {
   "cell_type": "code",
   "execution_count": 70,
   "id": "3aa84f82",
   "metadata": {},
   "outputs": [
    {
     "data": {
      "text/plain": [
       "[0, 1, 2, 4, 3, 7, 6, 5, 8, 18, 17, 9, 16, 14, 15, 13, 12, 11, 10]"
      ]
     },
     "execution_count": 70,
     "metadata": {},
     "output_type": "execute_result"
    }
   ],
   "source": [
    "rmses_sorted = sorted(rmses, key=rmses.get)\n",
    "rmses_sorted"
   ]
  },
  {
   "cell_type": "code",
   "execution_count": 71,
   "id": "35a4c176",
   "metadata": {
    "scrolled": true
   },
   "outputs": [
    {
     "data": {
      "text/plain": [
       "0.03326026"
      ]
     },
     "execution_count": 71,
     "metadata": {},
     "output_type": "execute_result"
    }
   ],
   "source": [
    "min(rmses.values())"
   ]
  },
  {
   "cell_type": "code",
   "execution_count": 76,
   "id": "2a63d1ed",
   "metadata": {},
   "outputs": [],
   "source": [
    "from scipy.stats import pearsonr"
   ]
  },
  {
   "cell_type": "code",
   "execution_count": 78,
   "id": "c700b554",
   "metadata": {},
   "outputs": [
    {
     "data": {
      "text/html": [
       "<div>\n",
       "<style scoped>\n",
       "    .dataframe tbody tr th:only-of-type {\n",
       "        vertical-align: middle;\n",
       "    }\n",
       "\n",
       "    .dataframe tbody tr th {\n",
       "        vertical-align: top;\n",
       "    }\n",
       "\n",
       "    .dataframe thead th {\n",
       "        text-align: right;\n",
       "    }\n",
       "</style>\n",
       "<table border=\"1\" class=\"dataframe\">\n",
       "  <thead>\n",
       "    <tr style=\"text-align: right;\">\n",
       "      <th></th>\n",
       "      <th>log_RMSD</th>\n",
       "    </tr>\n",
       "  </thead>\n",
       "  <tbody>\n",
       "    <tr>\n",
       "      <th>0</th>\n",
       "      <td>-0.160169</td>\n",
       "    </tr>\n",
       "    <tr>\n",
       "      <th>1</th>\n",
       "      <td>0.376380</td>\n",
       "    </tr>\n",
       "    <tr>\n",
       "      <th>2</th>\n",
       "      <td>0.395415</td>\n",
       "    </tr>\n",
       "    <tr>\n",
       "      <th>3</th>\n",
       "      <td>0.664748</td>\n",
       "    </tr>\n",
       "    <tr>\n",
       "      <th>4</th>\n",
       "      <td>1.105257</td>\n",
       "    </tr>\n",
       "    <tr>\n",
       "      <th>5</th>\n",
       "      <td>1.121026</td>\n",
       "    </tr>\n",
       "    <tr>\n",
       "      <th>6</th>\n",
       "      <td>1.153732</td>\n",
       "    </tr>\n",
       "    <tr>\n",
       "      <th>7</th>\n",
       "      <td>1.368894</td>\n",
       "    </tr>\n",
       "    <tr>\n",
       "      <th>8</th>\n",
       "      <td>1.465568</td>\n",
       "    </tr>\n",
       "    <tr>\n",
       "      <th>9</th>\n",
       "      <td>1.535361</td>\n",
       "    </tr>\n",
       "    <tr>\n",
       "      <th>10</th>\n",
       "      <td>1.636080</td>\n",
       "    </tr>\n",
       "    <tr>\n",
       "      <th>11</th>\n",
       "      <td>2.084056</td>\n",
       "    </tr>\n",
       "    <tr>\n",
       "      <th>12</th>\n",
       "      <td>2.106570</td>\n",
       "    </tr>\n",
       "    <tr>\n",
       "      <th>13</th>\n",
       "      <td>2.213972</td>\n",
       "    </tr>\n",
       "    <tr>\n",
       "      <th>14</th>\n",
       "      <td>2.225272</td>\n",
       "    </tr>\n",
       "    <tr>\n",
       "      <th>15</th>\n",
       "      <td>2.290715</td>\n",
       "    </tr>\n",
       "    <tr>\n",
       "      <th>16</th>\n",
       "      <td>2.349850</td>\n",
       "    </tr>\n",
       "    <tr>\n",
       "      <th>17</th>\n",
       "      <td>2.384442</td>\n",
       "    </tr>\n",
       "    <tr>\n",
       "      <th>18</th>\n",
       "      <td>2.539947</td>\n",
       "    </tr>\n",
       "  </tbody>\n",
       "</table>\n",
       "</div>"
      ],
      "text/plain": [
       "    log_RMSD\n",
       "0  -0.160169\n",
       "1   0.376380\n",
       "2   0.395415\n",
       "3   0.664748\n",
       "4   1.105257\n",
       "5   1.121026\n",
       "6   1.153732\n",
       "7   1.368894\n",
       "8   1.465568\n",
       "9   1.535361\n",
       "10  1.636080\n",
       "11  2.084056\n",
       "12  2.106570\n",
       "13  2.213972\n",
       "14  2.225272\n",
       "15  2.290715\n",
       "16  2.349850\n",
       "17  2.384442\n",
       "18  2.539947"
      ]
     },
     "execution_count": 78,
     "metadata": {},
     "output_type": "execute_result"
    }
   ],
   "source": [
    "df1 = pd.DataFrame(rmsds)\n",
    "df1"
   ]
  },
  {
   "cell_type": "code",
   "execution_count": 90,
   "id": "c18981e0",
   "metadata": {},
   "outputs": [
    {
     "data": {
      "text/html": [
       "<div>\n",
       "<style scoped>\n",
       "    .dataframe tbody tr th:only-of-type {\n",
       "        vertical-align: middle;\n",
       "    }\n",
       "\n",
       "    .dataframe tbody tr th {\n",
       "        vertical-align: top;\n",
       "    }\n",
       "\n",
       "    .dataframe thead th {\n",
       "        text-align: right;\n",
       "    }\n",
       "</style>\n",
       "<table border=\"1\" class=\"dataframe\">\n",
       "  <thead>\n",
       "    <tr style=\"text-align: right;\">\n",
       "      <th></th>\n",
       "      <th>rmse</th>\n",
       "    </tr>\n",
       "  </thead>\n",
       "  <tbody>\n",
       "    <tr>\n",
       "      <th>0</th>\n",
       "      <td>0.033260</td>\n",
       "    </tr>\n",
       "    <tr>\n",
       "      <th>1</th>\n",
       "      <td>0.034392</td>\n",
       "    </tr>\n",
       "    <tr>\n",
       "      <th>2</th>\n",
       "      <td>0.040574</td>\n",
       "    </tr>\n",
       "    <tr>\n",
       "      <th>3</th>\n",
       "      <td>0.041297</td>\n",
       "    </tr>\n",
       "    <tr>\n",
       "      <th>4</th>\n",
       "      <td>0.041180</td>\n",
       "    </tr>\n",
       "    <tr>\n",
       "      <th>5</th>\n",
       "      <td>0.043276</td>\n",
       "    </tr>\n",
       "    <tr>\n",
       "      <th>6</th>\n",
       "      <td>0.043199</td>\n",
       "    </tr>\n",
       "    <tr>\n",
       "      <th>7</th>\n",
       "      <td>0.041957</td>\n",
       "    </tr>\n",
       "    <tr>\n",
       "      <th>8</th>\n",
       "      <td>0.043430</td>\n",
       "    </tr>\n",
       "    <tr>\n",
       "      <th>9</th>\n",
       "      <td>0.045557</td>\n",
       "    </tr>\n",
       "    <tr>\n",
       "      <th>10</th>\n",
       "      <td>0.048231</td>\n",
       "    </tr>\n",
       "    <tr>\n",
       "      <th>11</th>\n",
       "      <td>0.047599</td>\n",
       "    </tr>\n",
       "    <tr>\n",
       "      <th>12</th>\n",
       "      <td>0.047002</td>\n",
       "    </tr>\n",
       "    <tr>\n",
       "      <th>13</th>\n",
       "      <td>0.046837</td>\n",
       "    </tr>\n",
       "    <tr>\n",
       "      <th>14</th>\n",
       "      <td>0.046177</td>\n",
       "    </tr>\n",
       "    <tr>\n",
       "      <th>15</th>\n",
       "      <td>0.046590</td>\n",
       "    </tr>\n",
       "    <tr>\n",
       "      <th>16</th>\n",
       "      <td>0.045918</td>\n",
       "    </tr>\n",
       "    <tr>\n",
       "      <th>17</th>\n",
       "      <td>0.045371</td>\n",
       "    </tr>\n",
       "    <tr>\n",
       "      <th>18</th>\n",
       "      <td>0.045199</td>\n",
       "    </tr>\n",
       "  </tbody>\n",
       "</table>\n",
       "</div>"
      ],
      "text/plain": [
       "        rmse\n",
       "0   0.033260\n",
       "1   0.034392\n",
       "2   0.040574\n",
       "3   0.041297\n",
       "4   0.041180\n",
       "5   0.043276\n",
       "6   0.043199\n",
       "7   0.041957\n",
       "8   0.043430\n",
       "9   0.045557\n",
       "10  0.048231\n",
       "11  0.047599\n",
       "12  0.047002\n",
       "13  0.046837\n",
       "14  0.046177\n",
       "15  0.046590\n",
       "16  0.045918\n",
       "17  0.045371\n",
       "18  0.045199"
      ]
     },
     "execution_count": 90,
     "metadata": {},
     "output_type": "execute_result"
    }
   ],
   "source": [
    "df2 = pd.DataFrame.from_dict(rmses, orient='index')\n",
    "df2 = df2.rename(columns={0:'rmse'})\n",
    "df2"
   ]
  },
  {
   "cell_type": "code",
   "execution_count": 98,
   "id": "7fc3208e",
   "metadata": {},
   "outputs": [
    {
     "data": {
      "text/html": [
       "<div>\n",
       "<style scoped>\n",
       "    .dataframe tbody tr th:only-of-type {\n",
       "        vertical-align: middle;\n",
       "    }\n",
       "\n",
       "    .dataframe tbody tr th {\n",
       "        vertical-align: top;\n",
       "    }\n",
       "\n",
       "    .dataframe thead th {\n",
       "        text-align: right;\n",
       "    }\n",
       "</style>\n",
       "<table border=\"1\" class=\"dataframe\">\n",
       "  <thead>\n",
       "    <tr style=\"text-align: right;\">\n",
       "      <th></th>\n",
       "      <th>log_RMSD</th>\n",
       "      <th>rmse</th>\n",
       "    </tr>\n",
       "  </thead>\n",
       "  <tbody>\n",
       "    <tr>\n",
       "      <th>0</th>\n",
       "      <td>-0.160169</td>\n",
       "      <td>0.033260</td>\n",
       "    </tr>\n",
       "    <tr>\n",
       "      <th>1</th>\n",
       "      <td>0.376380</td>\n",
       "      <td>0.034392</td>\n",
       "    </tr>\n",
       "    <tr>\n",
       "      <th>2</th>\n",
       "      <td>0.395415</td>\n",
       "      <td>0.040574</td>\n",
       "    </tr>\n",
       "    <tr>\n",
       "      <th>3</th>\n",
       "      <td>0.664748</td>\n",
       "      <td>0.041297</td>\n",
       "    </tr>\n",
       "    <tr>\n",
       "      <th>4</th>\n",
       "      <td>1.105257</td>\n",
       "      <td>0.041180</td>\n",
       "    </tr>\n",
       "    <tr>\n",
       "      <th>5</th>\n",
       "      <td>1.121026</td>\n",
       "      <td>0.043276</td>\n",
       "    </tr>\n",
       "    <tr>\n",
       "      <th>6</th>\n",
       "      <td>1.153732</td>\n",
       "      <td>0.043199</td>\n",
       "    </tr>\n",
       "    <tr>\n",
       "      <th>7</th>\n",
       "      <td>1.368894</td>\n",
       "      <td>0.041957</td>\n",
       "    </tr>\n",
       "    <tr>\n",
       "      <th>8</th>\n",
       "      <td>1.465568</td>\n",
       "      <td>0.043430</td>\n",
       "    </tr>\n",
       "    <tr>\n",
       "      <th>9</th>\n",
       "      <td>1.535361</td>\n",
       "      <td>0.045557</td>\n",
       "    </tr>\n",
       "    <tr>\n",
       "      <th>10</th>\n",
       "      <td>1.636080</td>\n",
       "      <td>0.048231</td>\n",
       "    </tr>\n",
       "    <tr>\n",
       "      <th>11</th>\n",
       "      <td>2.084056</td>\n",
       "      <td>0.047599</td>\n",
       "    </tr>\n",
       "    <tr>\n",
       "      <th>12</th>\n",
       "      <td>2.106570</td>\n",
       "      <td>0.047002</td>\n",
       "    </tr>\n",
       "    <tr>\n",
       "      <th>13</th>\n",
       "      <td>2.213972</td>\n",
       "      <td>0.046837</td>\n",
       "    </tr>\n",
       "    <tr>\n",
       "      <th>14</th>\n",
       "      <td>2.225272</td>\n",
       "      <td>0.046177</td>\n",
       "    </tr>\n",
       "    <tr>\n",
       "      <th>15</th>\n",
       "      <td>2.290715</td>\n",
       "      <td>0.046590</td>\n",
       "    </tr>\n",
       "    <tr>\n",
       "      <th>16</th>\n",
       "      <td>2.349850</td>\n",
       "      <td>0.045918</td>\n",
       "    </tr>\n",
       "    <tr>\n",
       "      <th>17</th>\n",
       "      <td>2.384442</td>\n",
       "      <td>0.045371</td>\n",
       "    </tr>\n",
       "    <tr>\n",
       "      <th>18</th>\n",
       "      <td>2.539947</td>\n",
       "      <td>0.045199</td>\n",
       "    </tr>\n",
       "  </tbody>\n",
       "</table>\n",
       "</div>"
      ],
      "text/plain": [
       "    log_RMSD      rmse\n",
       "0  -0.160169  0.033260\n",
       "1   0.376380  0.034392\n",
       "2   0.395415  0.040574\n",
       "3   0.664748  0.041297\n",
       "4   1.105257  0.041180\n",
       "5   1.121026  0.043276\n",
       "6   1.153732  0.043199\n",
       "7   1.368894  0.041957\n",
       "8   1.465568  0.043430\n",
       "9   1.535361  0.045557\n",
       "10  1.636080  0.048231\n",
       "11  2.084056  0.047599\n",
       "12  2.106570  0.047002\n",
       "13  2.213972  0.046837\n",
       "14  2.225272  0.046177\n",
       "15  2.290715  0.046590\n",
       "16  2.349850  0.045918\n",
       "17  2.384442  0.045371\n",
       "18  2.539947  0.045199"
      ]
     },
     "execution_count": 98,
     "metadata": {},
     "output_type": "execute_result"
    }
   ],
   "source": [
    "df_full = pd.concat([df1, df2], axis=1 , ignore_index=False)\n",
    "df_full"
   ]
  },
  {
   "cell_type": "code",
   "execution_count": 101,
   "id": "d227983c",
   "metadata": {},
   "outputs": [
    {
     "name": "stdout",
     "output_type": "stream",
     "text": [
      "Correlation coeffiecient 0.8686612547057072\n",
      "P-value:  1.4081893084349439e-06\n"
     ]
    }
   ],
   "source": [
    "full_correlation = pearsonr(df_full['rmse'], df_full['log_RMSD'])\n",
    "print('Correlation coeffiecient', full_correlation[0])\n",
    "print('P-value: ', full_correlation[1])"
   ]
  },
  {
   "cell_type": "code",
   "execution_count": null,
   "id": "283bbb72",
   "metadata": {},
   "outputs": [],
   "source": []
  }
 ],
 "metadata": {
  "kernelspec": {
   "display_name": "Python 3 (ipykernel)",
   "language": "python",
   "name": "python3"
  },
  "language_info": {
   "codemirror_mode": {
    "name": "ipython",
    "version": 3
   },
   "file_extension": ".py",
   "mimetype": "text/x-python",
   "name": "python",
   "nbconvert_exporter": "python",
   "pygments_lexer": "ipython3",
   "version": "3.9.7"
  },
  "toc-autonumbering": false,
  "toc-showcode": true,
  "toc-showmarkdowntxt": true
 },
 "nbformat": 4,
 "nbformat_minor": 5
}
