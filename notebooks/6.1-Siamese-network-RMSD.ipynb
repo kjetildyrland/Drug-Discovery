{
 "cells": [
  {
   "cell_type": "markdown",
   "id": "02376db5",
   "metadata": {},
   "source": [
    "# Siamese Network on template ligand-docking dataset"
   ]
  },
  {
   "cell_type": "code",
   "execution_count": 1,
   "id": "7ff5d5e3",
   "metadata": {
    "scrolled": true
   },
   "outputs": [
    {
     "name": "stdout",
     "output_type": "stream",
     "text": [
      "Sat Mar 12 15:06:00 2022       \r\n",
      "+-----------------------------------------------------------------------------+\r\n",
      "| NVIDIA-SMI 470.103.01   Driver Version: 470.103.01   CUDA Version: 11.4     |\r\n",
      "|-------------------------------+----------------------+----------------------+\r\n",
      "| GPU  Name        Persistence-M| Bus-Id        Disp.A | Volatile Uncorr. ECC |\r\n",
      "| Fan  Temp  Perf  Pwr:Usage/Cap|         Memory-Usage | GPU-Util  Compute M. |\r\n",
      "|                               |                      |               MIG M. |\r\n",
      "|===============================+======================+======================|\r\n",
      "|   0  NVIDIA GeForce ...  Off  | 00000000:01:00.0  On |                  N/A |\r\n",
      "|  0%   53C    P8    17W / 240W |    432MiB /  8116MiB |      0%      Default |\r\n",
      "|                               |                      |                  N/A |\r\n",
      "+-------------------------------+----------------------+----------------------+\r\n",
      "                                                                               \r\n",
      "+-----------------------------------------------------------------------------+\r\n",
      "| Processes:                                                                  |\r\n",
      "|  GPU   GI   CI        PID   Type   Process name                  GPU Memory |\r\n",
      "|        ID   ID                                                   Usage      |\r\n",
      "|=============================================================================|\r\n",
      "|    0   N/A  N/A      1015      G   /usr/lib/xorg/Xorg                222MiB |\r\n",
      "|    0   N/A  N/A      1317      G   /usr/bin/gnome-shell               57MiB |\r\n",
      "|    0   N/A  N/A      5418      G   /usr/lib/firefox/firefox          147MiB |\r\n",
      "|    0   N/A  N/A      5698      G   /usr/lib/firefox/firefox            1MiB |\r\n",
      "+-----------------------------------------------------------------------------+\r\n"
     ]
    }
   ],
   "source": [
    "!nvidia-smi"
   ]
  },
  {
   "cell_type": "code",
   "execution_count": 2,
   "id": "986e40bd",
   "metadata": {},
   "outputs": [],
   "source": [
    "#%%capture\n",
    "#!wget -c https://repo.continuum.io/miniconda/Miniconda3-latest-Linux-x86_64.sh\n",
    "#!chmod +x Miniconda3-latest-Linux-x86_64.sh\n",
    "#!time bash ./Miniconda3-latest-Linux-x86_64.sh -b -f -p /usr/local\n",
    "#!time conda install -q -y -c conda-forge rdkit"
   ]
  },
  {
   "cell_type": "code",
   "execution_count": 3,
   "id": "fe052ee5",
   "metadata": {},
   "outputs": [],
   "source": [
    "# Import\n",
    "import pandas as pd\n",
    "import numpy as np\n",
    "from pathlib import Path"
   ]
  },
  {
   "cell_type": "code",
   "execution_count": 4,
   "id": "c51e1815",
   "metadata": {},
   "outputs": [],
   "source": [
    "%matplotlib inline\n",
    "import matplotlib.pyplot as plt\n",
    "import matplotlib.image as mpimg\n",
    "import sys\n",
    "import os\n",
    "sys.path.append('/usr/local/lib/python3.7/site-packages/')"
   ]
  },
  {
   "cell_type": "code",
   "execution_count": 5,
   "id": "8112b927",
   "metadata": {},
   "outputs": [],
   "source": [
    "dataset = 'oldsmiledata_id_processed_transformed_shuffled'"
   ]
  },
  {
   "cell_type": "code",
   "execution_count": 6,
   "id": "327fcae1",
   "metadata": {},
   "outputs": [],
   "source": [
    "path = Path('../dataset/oldsmiledata')"
   ]
  },
  {
   "cell_type": "code",
   "execution_count": 7,
   "id": "59ad0e49",
   "metadata": {},
   "outputs": [
    {
     "data": {
      "text/plain": [
       "[PosixPath('../dataset/oldsmiledata/test_oldsmiledata_id_processed_transformed_shuffled.csv'),\n",
       " PosixPath('../dataset/oldsmiledata/train_balanced_oldsmiledata_id_processed_transformed_shuffled.csv'),\n",
       " PosixPath('../dataset/oldsmiledata/oldsmiledata_id_processed_transformed_rescaled_shuffled.csv'),\n",
       " PosixPath('../dataset/oldsmiledata/.ipynb_checkpoints'),\n",
       " PosixPath('../dataset/oldsmiledata/mol_images'),\n",
       " PosixPath('../dataset/oldsmiledata/valid_balanced_oldsmiledata_id_processed_transformed_shuffled.csv'),\n",
       " PosixPath('../dataset/oldsmiledata/train_oldsmiledata_id_processed_transformed_shuffled.csv')]"
      ]
     },
     "execution_count": 7,
     "metadata": {},
     "output_type": "execute_result"
    }
   ],
   "source": [
    "list(path.iterdir())"
   ]
  },
  {
   "cell_type": "code",
   "execution_count": 8,
   "id": "5ab97516",
   "metadata": {},
   "outputs": [],
   "source": [
    "#IMAGES = path/'mol_images'/'all'\n",
    "train = pd.read_csv(path/f'train_balanced_{dataset}.csv', index_col=0)\n",
    "valid = pd.read_csv(path/f'valid_balanced_{dataset}.csv', index_col=0)"
   ]
  },
  {
   "cell_type": "code",
   "execution_count": 9,
   "id": "e5545dfb",
   "metadata": {
    "scrolled": true
   },
   "outputs": [
    {
     "name": "stdout",
     "output_type": "stream",
     "text": [
      "<class 'pandas.core.frame.DataFrame'>\n",
      "Int64Index: 19139 entries, 0 to 19138\n",
      "Data columns (total 42 columns):\n",
      " #   Column                          Non-Null Count  Dtype  \n",
      "---  ------                          --------------  -----  \n",
      " 0   template                        19139 non-null  object \n",
      " 1   docked                          19139 non-null  object \n",
      " 2   rmsd                            19139 non-null  float64\n",
      " 3   uniprot_id                      19139 non-null  object \n",
      " 4   smiles_template                 19139 non-null  object \n",
      " 5   smiles_docked                   19139 non-null  object \n",
      " 6   mcs_smartsString                19139 non-null  object \n",
      " 7   template_HeavyAtomCount         19139 non-null  int64  \n",
      " 8   template_NHOHCount              19139 non-null  int64  \n",
      " 9   template_NOCount                19139 non-null  int64  \n",
      " 10  template_RingCount              19139 non-null  int64  \n",
      " 11  template_NumHAcceptors          19139 non-null  int64  \n",
      " 12  template_NumHDonors             19139 non-null  int64  \n",
      " 13  template_NumHeteroAtoms         19139 non-null  int64  \n",
      " 14  template_NumRotatableBonds      19139 non-null  int64  \n",
      " 15  docked_HeavyAtomCount           19139 non-null  int64  \n",
      " 16  docked_NHOHCount                19139 non-null  int64  \n",
      " 17  docked_NOCount                  19139 non-null  int64  \n",
      " 18  docked_RingCount                19139 non-null  int64  \n",
      " 19  docked_NumHAcceptors            19139 non-null  int64  \n",
      " 20  docked_NumHDonors               19139 non-null  int64  \n",
      " 21  docked_NumHeteroAtoms           19139 non-null  int64  \n",
      " 22  docked_NumRotatableBonds        19139 non-null  int64  \n",
      " 23  mcs_HeavyAtomCount              19139 non-null  int64  \n",
      " 24  mcs_NOCount                     19139 non-null  int64  \n",
      " 25  mcs_RingCount                   19139 non-null  int64  \n",
      " 26  mcs_NumHeteroAtoms              19139 non-null  int64  \n",
      " 27  mcs_template_NHOHCount          19139 non-null  int64  \n",
      " 28  mcs_docked_NHOHCount            19139 non-null  int64  \n",
      " 29  mcs_template_NumHAcceptors      19139 non-null  int64  \n",
      " 30  mcs_docked_NumHAcceptors        19139 non-null  int64  \n",
      " 31  mcs_template_NumHDonors         19139 non-null  int64  \n",
      " 32  mcs_docked_NumHDonors           19139 non-null  int64  \n",
      " 33  mcs_template_NumRotatableBonds  19139 non-null  int64  \n",
      " 34  mcs_docked_NumRotatableBonds    19139 non-null  int64  \n",
      " 35  ec_tanimoto_similarity          19139 non-null  float64\n",
      " 36  fc_tanimoto_similarity          19139 non-null  float64\n",
      " 37  log_RMSD                        19139 non-null  float64\n",
      " 38  bin_RMSD                        19139 non-null  int64  \n",
      " 39  Xtransf_ec_tanimoto_similarity  19139 non-null  float64\n",
      " 40  Xtransf_fc_tanimoto_similarity  19139 non-null  float64\n",
      " 41  is_valid                        19139 non-null  bool   \n",
      "dtypes: bool(1), float64(6), int64(29), object(6)\n",
      "memory usage: 6.2+ MB\n"
     ]
    }
   ],
   "source": [
    "train.info()"
   ]
  },
  {
   "cell_type": "code",
   "execution_count": 10,
   "id": "cae241bb",
   "metadata": {
    "scrolled": true
   },
   "outputs": [
    {
     "name": "stdout",
     "output_type": "stream",
     "text": [
      "<class 'pandas.core.frame.DataFrame'>\n",
      "Int64Index: 4785 entries, 0 to 4784\n",
      "Data columns (total 42 columns):\n",
      " #   Column                          Non-Null Count  Dtype  \n",
      "---  ------                          --------------  -----  \n",
      " 0   template                        4785 non-null   object \n",
      " 1   docked                          4785 non-null   object \n",
      " 2   rmsd                            4785 non-null   float64\n",
      " 3   uniprot_id                      4785 non-null   object \n",
      " 4   smiles_template                 4785 non-null   object \n",
      " 5   smiles_docked                   4785 non-null   object \n",
      " 6   mcs_smartsString                4785 non-null   object \n",
      " 7   template_HeavyAtomCount         4785 non-null   int64  \n",
      " 8   template_NHOHCount              4785 non-null   int64  \n",
      " 9   template_NOCount                4785 non-null   int64  \n",
      " 10  template_RingCount              4785 non-null   int64  \n",
      " 11  template_NumHAcceptors          4785 non-null   int64  \n",
      " 12  template_NumHDonors             4785 non-null   int64  \n",
      " 13  template_NumHeteroAtoms         4785 non-null   int64  \n",
      " 14  template_NumRotatableBonds      4785 non-null   int64  \n",
      " 15  docked_HeavyAtomCount           4785 non-null   int64  \n",
      " 16  docked_NHOHCount                4785 non-null   int64  \n",
      " 17  docked_NOCount                  4785 non-null   int64  \n",
      " 18  docked_RingCount                4785 non-null   int64  \n",
      " 19  docked_NumHAcceptors            4785 non-null   int64  \n",
      " 20  docked_NumHDonors               4785 non-null   int64  \n",
      " 21  docked_NumHeteroAtoms           4785 non-null   int64  \n",
      " 22  docked_NumRotatableBonds        4785 non-null   int64  \n",
      " 23  mcs_HeavyAtomCount              4785 non-null   int64  \n",
      " 24  mcs_NOCount                     4785 non-null   int64  \n",
      " 25  mcs_RingCount                   4785 non-null   int64  \n",
      " 26  mcs_NumHeteroAtoms              4785 non-null   int64  \n",
      " 27  mcs_template_NHOHCount          4785 non-null   int64  \n",
      " 28  mcs_docked_NHOHCount            4785 non-null   int64  \n",
      " 29  mcs_template_NumHAcceptors      4785 non-null   int64  \n",
      " 30  mcs_docked_NumHAcceptors        4785 non-null   int64  \n",
      " 31  mcs_template_NumHDonors         4785 non-null   int64  \n",
      " 32  mcs_docked_NumHDonors           4785 non-null   int64  \n",
      " 33  mcs_template_NumRotatableBonds  4785 non-null   int64  \n",
      " 34  mcs_docked_NumRotatableBonds    4785 non-null   int64  \n",
      " 35  ec_tanimoto_similarity          4785 non-null   float64\n",
      " 36  fc_tanimoto_similarity          4785 non-null   float64\n",
      " 37  log_RMSD                        4785 non-null   float64\n",
      " 38  bin_RMSD                        4785 non-null   int64  \n",
      " 39  Xtransf_ec_tanimoto_similarity  4785 non-null   float64\n",
      " 40  Xtransf_fc_tanimoto_similarity  4785 non-null   float64\n",
      " 41  is_valid                        4785 non-null   bool   \n",
      "dtypes: bool(1), float64(6), int64(29), object(6)\n",
      "memory usage: 1.5+ MB\n"
     ]
    }
   ],
   "source": [
    "valid.info()"
   ]
  },
  {
   "cell_type": "code",
   "execution_count": 11,
   "id": "fb7fc361",
   "metadata": {},
   "outputs": [
    {
     "data": {
      "text/html": [
       "<div>\n",
       "<style scoped>\n",
       "    .dataframe tbody tr th:only-of-type {\n",
       "        vertical-align: middle;\n",
       "    }\n",
       "\n",
       "    .dataframe tbody tr th {\n",
       "        vertical-align: top;\n",
       "    }\n",
       "\n",
       "    .dataframe thead th {\n",
       "        text-align: right;\n",
       "    }\n",
       "</style>\n",
       "<table border=\"1\" class=\"dataframe\">\n",
       "  <thead>\n",
       "    <tr style=\"text-align: right;\">\n",
       "      <th></th>\n",
       "      <th>template</th>\n",
       "      <th>docked</th>\n",
       "      <th>rmsd</th>\n",
       "      <th>uniprot_id</th>\n",
       "      <th>smiles_template</th>\n",
       "      <th>smiles_docked</th>\n",
       "      <th>mcs_smartsString</th>\n",
       "      <th>template_HeavyAtomCount</th>\n",
       "      <th>template_NHOHCount</th>\n",
       "      <th>template_NOCount</th>\n",
       "      <th>...</th>\n",
       "      <th>mcs_docked_NumHDonors</th>\n",
       "      <th>mcs_template_NumRotatableBonds</th>\n",
       "      <th>mcs_docked_NumRotatableBonds</th>\n",
       "      <th>ec_tanimoto_similarity</th>\n",
       "      <th>fc_tanimoto_similarity</th>\n",
       "      <th>log_RMSD</th>\n",
       "      <th>bin_RMSD</th>\n",
       "      <th>Xtransf_ec_tanimoto_similarity</th>\n",
       "      <th>Xtransf_fc_tanimoto_similarity</th>\n",
       "      <th>is_valid</th>\n",
       "    </tr>\n",
       "  </thead>\n",
       "  <tbody>\n",
       "    <tr>\n",
       "      <th>0</th>\n",
       "      <td>1YPJ_UIB</td>\n",
       "      <td>1K22_MEL</td>\n",
       "      <td>4.643</td>\n",
       "      <td>P00734</td>\n",
       "      <td>CC[C@@H]1[C@@H]2[C@H](C(=O)N1Cc1ccc3c(c1)OCO3)...</td>\n",
       "      <td>N=C(N)c1ccc(CNC(=O)[C@@H]2CCN2C(=O)[C@H](NCC(=...</td>\n",
       "      <td>[#7]=[#6](-[#7])-[#6]1:[#6]:[#6]:[#6](:[#6]:[#...</td>\n",
       "      <td>33</td>\n",
       "      <td>3</td>\n",
       "      <td>7</td>\n",
       "      <td>...</td>\n",
       "      <td>3</td>\n",
       "      <td>4</td>\n",
       "      <td>7</td>\n",
       "      <td>0.165775</td>\n",
       "      <td>0.289941</td>\n",
       "      <td>1.535361</td>\n",
       "      <td>3</td>\n",
       "      <td>-0.342246</td>\n",
       "      <td>-0.100592</td>\n",
       "      <td>False</td>\n",
       "    </tr>\n",
       "    <tr>\n",
       "      <th>1</th>\n",
       "      <td>2JH5_895</td>\n",
       "      <td>1C5O_BAM</td>\n",
       "      <td>3.209</td>\n",
       "      <td>P00734</td>\n",
       "      <td>C[C@@H](C(=O)N1CCOCC1)N1CC[C@H](NS(=O)(=O)/C=C...</td>\n",
       "      <td>NC(=[NH2+])c1ccccc1</td>\n",
       "      <td>[#7]-[#6]-[#6]:,-[#6]:,-[#6]</td>\n",
       "      <td>28</td>\n",
       "      <td>1</td>\n",
       "      <td>8</td>\n",
       "      <td>...</td>\n",
       "      <td>1</td>\n",
       "      <td>0</td>\n",
       "      <td>1</td>\n",
       "      <td>0.050847</td>\n",
       "      <td>0.059829</td>\n",
       "      <td>1.165959</td>\n",
       "      <td>3</td>\n",
       "      <td>-1.491525</td>\n",
       "      <td>-2.401709</td>\n",
       "      <td>False</td>\n",
       "    </tr>\n",
       "    <tr>\n",
       "      <th>2</th>\n",
       "      <td>5Y12_8JX</td>\n",
       "      <td>1TOW_CRZ</td>\n",
       "      <td>1.769</td>\n",
       "      <td>P15090</td>\n",
       "      <td>COc1ccc(S(=O)(=O)NCCCCC(=O)O)c2ccccc12</td>\n",
       "      <td>O=C(O)CCCn1c2ccccc2c2ccccc21</td>\n",
       "      <td>[#6]1:[#6]:[#6]:[#6]:[#6]:[#6]:1:[#6]:[#6]:[#6...</td>\n",
       "      <td>23</td>\n",
       "      <td>2</td>\n",
       "      <td>6</td>\n",
       "      <td>...</td>\n",
       "      <td>0</td>\n",
       "      <td>0</td>\n",
       "      <td>0</td>\n",
       "      <td>0.324561</td>\n",
       "      <td>0.324561</td>\n",
       "      <td>0.570414</td>\n",
       "      <td>1</td>\n",
       "      <td>1.245614</td>\n",
       "      <td>0.245614</td>\n",
       "      <td>False</td>\n",
       "    </tr>\n",
       "    <tr>\n",
       "      <th>3</th>\n",
       "      <td>1C1U_BAI</td>\n",
       "      <td>5AHG_Y4L</td>\n",
       "      <td>3.943</td>\n",
       "      <td>P00734</td>\n",
       "      <td>N=C(N)c1ccc2[nH]c(Cc3nc4ccccc4[nH]3)nc2c1</td>\n",
       "      <td>CN(C)S(=O)(=O)Nc1ccc(Cl)cc1</td>\n",
       "      <td>[#7]-,:[#6]1:[#6]:[#6]:[#6]:[#6]:[#6]:1</td>\n",
       "      <td>22</td>\n",
       "      <td>5</td>\n",
       "      <td>6</td>\n",
       "      <td>...</td>\n",
       "      <td>1</td>\n",
       "      <td>0</td>\n",
       "      <td>1</td>\n",
       "      <td>0.086957</td>\n",
       "      <td>0.106195</td>\n",
       "      <td>1.371942</td>\n",
       "      <td>3</td>\n",
       "      <td>-1.130435</td>\n",
       "      <td>-1.938053</td>\n",
       "      <td>False</td>\n",
       "    </tr>\n",
       "    <tr>\n",
       "      <th>4</th>\n",
       "      <td>2W26_RIV</td>\n",
       "      <td>2Y80_439</td>\n",
       "      <td>7.217</td>\n",
       "      <td>P00742</td>\n",
       "      <td>O=C(NC[C@H]1CN(c2ccc(N3CCOCC3=O)cc2)C(=O)O1)c1...</td>\n",
       "      <td>CN(C)[C@@H]1CCc2cc(N3CC[C@H](NS(=O)(=O)c4ccc5c...</td>\n",
       "      <td>[#7]-[#6]-[#6]-[#6]-[#7](-[#6]1:[#6]:[#6]:[#6]...</td>\n",
       "      <td>29</td>\n",
       "      <td>1</td>\n",
       "      <td>8</td>\n",
       "      <td>...</td>\n",
       "      <td>1</td>\n",
       "      <td>3</td>\n",
       "      <td>2</td>\n",
       "      <td>0.187166</td>\n",
       "      <td>0.283237</td>\n",
       "      <td>1.976439</td>\n",
       "      <td>3</td>\n",
       "      <td>-0.128342</td>\n",
       "      <td>-0.167630</td>\n",
       "      <td>False</td>\n",
       "    </tr>\n",
       "  </tbody>\n",
       "</table>\n",
       "<p>5 rows × 42 columns</p>\n",
       "</div>"
      ],
      "text/plain": [
       "   template    docked   rmsd uniprot_id  \\\n",
       "0  1YPJ_UIB  1K22_MEL  4.643     P00734   \n",
       "1  2JH5_895  1C5O_BAM  3.209     P00734   \n",
       "2  5Y12_8JX  1TOW_CRZ  1.769     P15090   \n",
       "3  1C1U_BAI  5AHG_Y4L  3.943     P00734   \n",
       "4  2W26_RIV  2Y80_439  7.217     P00742   \n",
       "\n",
       "                                     smiles_template  \\\n",
       "0  CC[C@@H]1[C@@H]2[C@H](C(=O)N1Cc1ccc3c(c1)OCO3)...   \n",
       "1  C[C@@H](C(=O)N1CCOCC1)N1CC[C@H](NS(=O)(=O)/C=C...   \n",
       "2             COc1ccc(S(=O)(=O)NCCCCC(=O)O)c2ccccc12   \n",
       "3          N=C(N)c1ccc2[nH]c(Cc3nc4ccccc4[nH]3)nc2c1   \n",
       "4  O=C(NC[C@H]1CN(c2ccc(N3CCOCC3=O)cc2)C(=O)O1)c1...   \n",
       "\n",
       "                                       smiles_docked  \\\n",
       "0  N=C(N)c1ccc(CNC(=O)[C@@H]2CCN2C(=O)[C@H](NCC(=...   \n",
       "1                                NC(=[NH2+])c1ccccc1   \n",
       "2                       O=C(O)CCCn1c2ccccc2c2ccccc21   \n",
       "3                        CN(C)S(=O)(=O)Nc1ccc(Cl)cc1   \n",
       "4  CN(C)[C@@H]1CCc2cc(N3CC[C@H](NS(=O)(=O)c4ccc5c...   \n",
       "\n",
       "                                    mcs_smartsString  template_HeavyAtomCount  \\\n",
       "0  [#7]=[#6](-[#7])-[#6]1:[#6]:[#6]:[#6](:[#6]:[#...                       33   \n",
       "1                       [#7]-[#6]-[#6]:,-[#6]:,-[#6]                       28   \n",
       "2  [#6]1:[#6]:[#6]:[#6]:[#6]:[#6]:1:[#6]:[#6]:[#6...                       23   \n",
       "3            [#7]-,:[#6]1:[#6]:[#6]:[#6]:[#6]:[#6]:1                       22   \n",
       "4  [#7]-[#6]-[#6]-[#6]-[#7](-[#6]1:[#6]:[#6]:[#6]...                       29   \n",
       "\n",
       "   template_NHOHCount  template_NOCount  ...  mcs_docked_NumHDonors  \\\n",
       "0                   3                 7  ...                      3   \n",
       "1                   1                 8  ...                      1   \n",
       "2                   2                 6  ...                      0   \n",
       "3                   5                 6  ...                      1   \n",
       "4                   1                 8  ...                      1   \n",
       "\n",
       "   mcs_template_NumRotatableBonds  mcs_docked_NumRotatableBonds  \\\n",
       "0                               4                             7   \n",
       "1                               0                             1   \n",
       "2                               0                             0   \n",
       "3                               0                             1   \n",
       "4                               3                             2   \n",
       "\n",
       "   ec_tanimoto_similarity  fc_tanimoto_similarity  log_RMSD  bin_RMSD  \\\n",
       "0                0.165775                0.289941  1.535361         3   \n",
       "1                0.050847                0.059829  1.165959         3   \n",
       "2                0.324561                0.324561  0.570414         1   \n",
       "3                0.086957                0.106195  1.371942         3   \n",
       "4                0.187166                0.283237  1.976439         3   \n",
       "\n",
       "   Xtransf_ec_tanimoto_similarity  Xtransf_fc_tanimoto_similarity  is_valid  \n",
       "0                       -0.342246                       -0.100592     False  \n",
       "1                       -1.491525                       -2.401709     False  \n",
       "2                        1.245614                        0.245614     False  \n",
       "3                       -1.130435                       -1.938053     False  \n",
       "4                       -0.128342                       -0.167630     False  \n",
       "\n",
       "[5 rows x 42 columns]"
      ]
     },
     "execution_count": 11,
     "metadata": {},
     "output_type": "execute_result"
    }
   ],
   "source": [
    "train.head()"
   ]
  },
  {
   "cell_type": "markdown",
   "id": "4f59daa4",
   "metadata": {},
   "source": [
    "# Preprocessing"
   ]
  },
  {
   "cell_type": "code",
   "execution_count": 12,
   "id": "809b5437",
   "metadata": {},
   "outputs": [
    {
     "name": "stderr",
     "output_type": "stream",
     "text": [
      "2022-03-12 15:06:09.051888: I tensorflow/stream_executor/platform/default/dso_loader.cc:49] Successfully opened dynamic library libcudart.so.10.1\n"
     ]
    }
   ],
   "source": [
    "import matplotlib.pyplot as plt\n",
    "import numpy as np\n",
    "import os\n",
    "import random\n",
    "import tensorflow as tf\n",
    "from pathlib import Path\n",
    "from tensorflow.keras import applications\n",
    "from tensorflow.keras import layers\n",
    "from tensorflow.keras import losses\n",
    "from tensorflow.keras import optimizers\n",
    "from tensorflow.keras import metrics\n",
    "from tensorflow.keras import Model\n",
    "from tensorflow.keras.applications import resnet"
   ]
  },
  {
   "cell_type": "markdown",
   "id": "664cc219",
   "metadata": {},
   "source": [
    "### Splitting the data into train and validation sets"
   ]
  },
  {
   "cell_type": "code",
   "execution_count": 13,
   "id": "59928f03",
   "metadata": {
    "scrolled": true
   },
   "outputs": [
    {
     "name": "stdout",
     "output_type": "stream",
     "text": [
      "<class 'pandas.core.frame.DataFrame'>\n",
      "Int64Index: 19139 entries, 0 to 19138\n",
      "Data columns (total 44 columns):\n",
      " #   Column                          Non-Null Count  Dtype  \n",
      "---  ------                          --------------  -----  \n",
      " 0   template                        19139 non-null  object \n",
      " 1   docked                          19139 non-null  object \n",
      " 2   rmsd                            19139 non-null  float64\n",
      " 3   uniprot_id                      19139 non-null  object \n",
      " 4   smiles_template                 19139 non-null  object \n",
      " 5   smiles_docked                   19139 non-null  object \n",
      " 6   mcs_smartsString                19139 non-null  object \n",
      " 7   template_HeavyAtomCount         19139 non-null  int64  \n",
      " 8   template_NHOHCount              19139 non-null  int64  \n",
      " 9   template_NOCount                19139 non-null  int64  \n",
      " 10  template_RingCount              19139 non-null  int64  \n",
      " 11  template_NumHAcceptors          19139 non-null  int64  \n",
      " 12  template_NumHDonors             19139 non-null  int64  \n",
      " 13  template_NumHeteroAtoms         19139 non-null  int64  \n",
      " 14  template_NumRotatableBonds      19139 non-null  int64  \n",
      " 15  docked_HeavyAtomCount           19139 non-null  int64  \n",
      " 16  docked_NHOHCount                19139 non-null  int64  \n",
      " 17  docked_NOCount                  19139 non-null  int64  \n",
      " 18  docked_RingCount                19139 non-null  int64  \n",
      " 19  docked_NumHAcceptors            19139 non-null  int64  \n",
      " 20  docked_NumHDonors               19139 non-null  int64  \n",
      " 21  docked_NumHeteroAtoms           19139 non-null  int64  \n",
      " 22  docked_NumRotatableBonds        19139 non-null  int64  \n",
      " 23  mcs_HeavyAtomCount              19139 non-null  int64  \n",
      " 24  mcs_NOCount                     19139 non-null  int64  \n",
      " 25  mcs_RingCount                   19139 non-null  int64  \n",
      " 26  mcs_NumHeteroAtoms              19139 non-null  int64  \n",
      " 27  mcs_template_NHOHCount          19139 non-null  int64  \n",
      " 28  mcs_docked_NHOHCount            19139 non-null  int64  \n",
      " 29  mcs_template_NumHAcceptors      19139 non-null  int64  \n",
      " 30  mcs_docked_NumHAcceptors        19139 non-null  int64  \n",
      " 31  mcs_template_NumHDonors         19139 non-null  int64  \n",
      " 32  mcs_docked_NumHDonors           19139 non-null  int64  \n",
      " 33  mcs_template_NumRotatableBonds  19139 non-null  int64  \n",
      " 34  mcs_docked_NumRotatableBonds    19139 non-null  int64  \n",
      " 35  ec_tanimoto_similarity          19139 non-null  float64\n",
      " 36  fc_tanimoto_similarity          19139 non-null  float64\n",
      " 37  log_RMSD                        19139 non-null  float64\n",
      " 38  bin_RMSD                        19139 non-null  int64  \n",
      " 39  Xtransf_ec_tanimoto_similarity  19139 non-null  float64\n",
      " 40  Xtransf_fc_tanimoto_similarity  19139 non-null  float64\n",
      " 41  is_valid                        19139 non-null  bool   \n",
      " 42  img_temp                        19139 non-null  object \n",
      " 43  img_docked                      19139 non-null  object \n",
      "dtypes: bool(1), float64(6), int64(29), object(8)\n",
      "memory usage: 6.4+ MB\n"
     ]
    }
   ],
   "source": [
    "train['img_temp'] = train['template'] + '.png'\n",
    "train['img_docked'] = train['docked'] + '.png'\n",
    "train['is_valid'] = False\n",
    "train.info()"
   ]
  },
  {
   "cell_type": "code",
   "execution_count": 14,
   "id": "352ed10d",
   "metadata": {
    "scrolled": true
   },
   "outputs": [
    {
     "name": "stdout",
     "output_type": "stream",
     "text": [
      "<class 'pandas.core.frame.DataFrame'>\n",
      "Int64Index: 4785 entries, 0 to 4784\n",
      "Data columns (total 44 columns):\n",
      " #   Column                          Non-Null Count  Dtype  \n",
      "---  ------                          --------------  -----  \n",
      " 0   template                        4785 non-null   object \n",
      " 1   docked                          4785 non-null   object \n",
      " 2   rmsd                            4785 non-null   float64\n",
      " 3   uniprot_id                      4785 non-null   object \n",
      " 4   smiles_template                 4785 non-null   object \n",
      " 5   smiles_docked                   4785 non-null   object \n",
      " 6   mcs_smartsString                4785 non-null   object \n",
      " 7   template_HeavyAtomCount         4785 non-null   int64  \n",
      " 8   template_NHOHCount              4785 non-null   int64  \n",
      " 9   template_NOCount                4785 non-null   int64  \n",
      " 10  template_RingCount              4785 non-null   int64  \n",
      " 11  template_NumHAcceptors          4785 non-null   int64  \n",
      " 12  template_NumHDonors             4785 non-null   int64  \n",
      " 13  template_NumHeteroAtoms         4785 non-null   int64  \n",
      " 14  template_NumRotatableBonds      4785 non-null   int64  \n",
      " 15  docked_HeavyAtomCount           4785 non-null   int64  \n",
      " 16  docked_NHOHCount                4785 non-null   int64  \n",
      " 17  docked_NOCount                  4785 non-null   int64  \n",
      " 18  docked_RingCount                4785 non-null   int64  \n",
      " 19  docked_NumHAcceptors            4785 non-null   int64  \n",
      " 20  docked_NumHDonors               4785 non-null   int64  \n",
      " 21  docked_NumHeteroAtoms           4785 non-null   int64  \n",
      " 22  docked_NumRotatableBonds        4785 non-null   int64  \n",
      " 23  mcs_HeavyAtomCount              4785 non-null   int64  \n",
      " 24  mcs_NOCount                     4785 non-null   int64  \n",
      " 25  mcs_RingCount                   4785 non-null   int64  \n",
      " 26  mcs_NumHeteroAtoms              4785 non-null   int64  \n",
      " 27  mcs_template_NHOHCount          4785 non-null   int64  \n",
      " 28  mcs_docked_NHOHCount            4785 non-null   int64  \n",
      " 29  mcs_template_NumHAcceptors      4785 non-null   int64  \n",
      " 30  mcs_docked_NumHAcceptors        4785 non-null   int64  \n",
      " 31  mcs_template_NumHDonors         4785 non-null   int64  \n",
      " 32  mcs_docked_NumHDonors           4785 non-null   int64  \n",
      " 33  mcs_template_NumRotatableBonds  4785 non-null   int64  \n",
      " 34  mcs_docked_NumRotatableBonds    4785 non-null   int64  \n",
      " 35  ec_tanimoto_similarity          4785 non-null   float64\n",
      " 36  fc_tanimoto_similarity          4785 non-null   float64\n",
      " 37  log_RMSD                        4785 non-null   float64\n",
      " 38  bin_RMSD                        4785 non-null   int64  \n",
      " 39  Xtransf_ec_tanimoto_similarity  4785 non-null   float64\n",
      " 40  Xtransf_fc_tanimoto_similarity  4785 non-null   float64\n",
      " 41  is_valid                        4785 non-null   bool   \n",
      " 42  img_temp                        4785 non-null   object \n",
      " 43  img_docked                      4785 non-null   object \n",
      "dtypes: bool(1), float64(6), int64(29), object(8)\n",
      "memory usage: 1.6+ MB\n"
     ]
    }
   ],
   "source": [
    "valid['img_temp'] = valid['template'] + '.png'\n",
    "valid['img_docked'] = valid['docked'] + '.png'\n",
    "valid['is_valid'] = True\n",
    "valid.info()"
   ]
  },
  {
   "cell_type": "code",
   "execution_count": 15,
   "id": "a313685b",
   "metadata": {
    "scrolled": true
   },
   "outputs": [],
   "source": [
    "# image size 224,224\n",
    "target_shape=(224, 224)"
   ]
  },
  {
   "cell_type": "code",
   "execution_count": 16,
   "id": "bb6b404a",
   "metadata": {},
   "outputs": [
    {
     "name": "stdout",
     "output_type": "stream",
     "text": [
      "<class 'pandas.core.frame.DataFrame'>\n",
      "RangeIndex: 7926 entries, 0 to 7925\n",
      "Data columns (total 44 columns):\n",
      " #   Column                          Non-Null Count  Dtype  \n",
      "---  ------                          --------------  -----  \n",
      " 0   template                        7926 non-null   object \n",
      " 1   docked                          7926 non-null   object \n",
      " 2   rmsd                            7926 non-null   float64\n",
      " 3   uniprot_id                      7926 non-null   object \n",
      " 4   smiles_template                 7926 non-null   object \n",
      " 5   smiles_docked                   7926 non-null   object \n",
      " 6   mcs_smartsString                7926 non-null   object \n",
      " 7   template_HeavyAtomCount         7926 non-null   int64  \n",
      " 8   template_NHOHCount              7926 non-null   int64  \n",
      " 9   template_NOCount                7926 non-null   int64  \n",
      " 10  template_RingCount              7926 non-null   int64  \n",
      " 11  template_NumHAcceptors          7926 non-null   int64  \n",
      " 12  template_NumHDonors             7926 non-null   int64  \n",
      " 13  template_NumHeteroAtoms         7926 non-null   int64  \n",
      " 14  template_NumRotatableBonds      7926 non-null   int64  \n",
      " 15  docked_HeavyAtomCount           7926 non-null   int64  \n",
      " 16  docked_NHOHCount                7926 non-null   int64  \n",
      " 17  docked_NOCount                  7926 non-null   int64  \n",
      " 18  docked_RingCount                7926 non-null   int64  \n",
      " 19  docked_NumHAcceptors            7926 non-null   int64  \n",
      " 20  docked_NumHDonors               7926 non-null   int64  \n",
      " 21  docked_NumHeteroAtoms           7926 non-null   int64  \n",
      " 22  docked_NumRotatableBonds        7926 non-null   int64  \n",
      " 23  mcs_HeavyAtomCount              7926 non-null   int64  \n",
      " 24  mcs_NOCount                     7926 non-null   int64  \n",
      " 25  mcs_RingCount                   7926 non-null   int64  \n",
      " 26  mcs_NumHeteroAtoms              7926 non-null   int64  \n",
      " 27  mcs_template_NHOHCount          7926 non-null   int64  \n",
      " 28  mcs_docked_NHOHCount            7926 non-null   int64  \n",
      " 29  mcs_template_NumHAcceptors      7926 non-null   int64  \n",
      " 30  mcs_docked_NumHAcceptors        7926 non-null   int64  \n",
      " 31  mcs_template_NumHDonors         7926 non-null   int64  \n",
      " 32  mcs_docked_NumHDonors           7926 non-null   int64  \n",
      " 33  mcs_template_NumRotatableBonds  7926 non-null   int64  \n",
      " 34  mcs_docked_NumRotatableBonds    7926 non-null   int64  \n",
      " 35  ec_tanimoto_similarity          7926 non-null   float64\n",
      " 36  fc_tanimoto_similarity          7926 non-null   float64\n",
      " 37  log_RMSD                        7926 non-null   float64\n",
      " 38  bin_RMSD                        7926 non-null   int64  \n",
      " 39  Xtransf_ec_tanimoto_similarity  7926 non-null   float64\n",
      " 40  Xtransf_fc_tanimoto_similarity  7926 non-null   float64\n",
      " 41  is_valid                        7926 non-null   bool   \n",
      " 42  img_temp                        7926 non-null   object \n",
      " 43  img_docked                      7926 non-null   object \n",
      "dtypes: bool(1), float64(6), int64(29), object(8)\n",
      "memory usage: 2.6+ MB\n"
     ]
    }
   ],
   "source": [
    "train_good = train[train.log_RMSD <= 1.5]\n",
    "train_good = train_good.reset_index(drop=True)\n",
    "train_good.info()"
   ]
  },
  {
   "cell_type": "code",
   "execution_count": 17,
   "id": "bc71db55",
   "metadata": {},
   "outputs": [
    {
     "data": {
      "text/plain": [
       "4898"
      ]
     },
     "execution_count": 17,
     "metadata": {},
     "output_type": "execute_result"
    }
   ],
   "source": [
    "negative = train[train.log_RMSD > 2.1]\n",
    "negative = negative.reset_index(drop=True)\n",
    "len(negative)"
   ]
  },
  {
   "cell_type": "code",
   "execution_count": 18,
   "id": "64549115",
   "metadata": {},
   "outputs": [
    {
     "data": {
      "text/plain": [
       "2045"
      ]
     },
     "execution_count": 18,
     "metadata": {},
     "output_type": "execute_result"
    }
   ],
   "source": [
    "valid_good = valid[valid.log_RMSD <= 1.5]\n",
    "valid_good = valid_good.reset_index(drop=True)\n",
    "len(valid_good)"
   ]
  },
  {
   "cell_type": "code",
   "execution_count": 19,
   "id": "3333ca6a",
   "metadata": {},
   "outputs": [
    {
     "data": {
      "text/plain": [
       "1548"
      ]
     },
     "execution_count": 19,
     "metadata": {},
     "output_type": "execute_result"
    }
   ],
   "source": [
    "val_negative = valid[valid.log_RMSD > 2]\n",
    "val_negative = val_negative.reset_index(drop=True)\n",
    "len(val_negative)"
   ]
  },
  {
   "cell_type": "code",
   "execution_count": 20,
   "id": "bac8df9e",
   "metadata": {},
   "outputs": [],
   "source": [
    "IMAGES = '../dataset/oldsmiledata/mol_images/all/'"
   ]
  },
  {
   "cell_type": "code",
   "execution_count": 21,
   "id": "87693386",
   "metadata": {},
   "outputs": [],
   "source": [
    "def preprocess_image(filename):\n",
    "    img_str = tf.io.read_file(IMAGES + filename)\n",
    "    image = tf.image.decode_png(img_str, channels=3)\n",
    "    image = tf.image.convert_image_dtype(image, tf.float32)\n",
    "    image = tf.image.resize(image, target_shape)\n",
    "    #image = tf.transpose(image)\n",
    "    return image"
   ]
  },
  {
   "cell_type": "code",
   "execution_count": 22,
   "id": "c932c106",
   "metadata": {},
   "outputs": [],
   "source": [
    "%%capture\n",
    "#img_shape = preprocess_image(train.img_temp[0]).shape"
   ]
  },
  {
   "cell_type": "code",
   "execution_count": 23,
   "id": "c24a095f",
   "metadata": {},
   "outputs": [],
   "source": [
    "#img_shape"
   ]
  },
  {
   "cell_type": "code",
   "execution_count": 24,
   "id": "5de656f7",
   "metadata": {},
   "outputs": [
    {
     "name": "stdout",
     "output_type": "stream",
     "text": [
      "Sat Mar 12 15:06:15 2022       \r\n",
      "+-----------------------------------------------------------------------------+\r\n",
      "| NVIDIA-SMI 470.103.01   Driver Version: 470.103.01   CUDA Version: 11.4     |\r\n",
      "|-------------------------------+----------------------+----------------------+\r\n",
      "| GPU  Name        Persistence-M| Bus-Id        Disp.A | Volatile Uncorr. ECC |\r\n",
      "| Fan  Temp  Perf  Pwr:Usage/Cap|         Memory-Usage | GPU-Util  Compute M. |\r\n",
      "|                               |                      |               MIG M. |\r\n",
      "|===============================+======================+======================|\r\n",
      "|   0  NVIDIA GeForce ...  Off  | 00000000:01:00.0  On |                  N/A |\r\n",
      "|  0%   53C    P8    16W / 240W |    436MiB /  8116MiB |      7%      Default |\r\n",
      "|                               |                      |                  N/A |\r\n",
      "+-------------------------------+----------------------+----------------------+\r\n",
      "                                                                               \r\n",
      "+-----------------------------------------------------------------------------+\r\n",
      "| Processes:                                                                  |\r\n",
      "|  GPU   GI   CI        PID   Type   Process name                  GPU Memory |\r\n",
      "|        ID   ID                                                   Usage      |\r\n",
      "|=============================================================================|\r\n",
      "|    0   N/A  N/A      1015      G   /usr/lib/xorg/Xorg                222MiB |\r\n",
      "|    0   N/A  N/A      1317      G   /usr/bin/gnome-shell               57MiB |\r\n",
      "|    0   N/A  N/A      5418      G   /usr/lib/firefox/firefox          151MiB |\r\n",
      "|    0   N/A  N/A      5698      G   /usr/lib/firefox/firefox            1MiB |\r\n",
      "+-----------------------------------------------------------------------------+\r\n"
     ]
    }
   ],
   "source": [
    "!nvidia-smi"
   ]
  },
  {
   "cell_type": "code",
   "execution_count": 25,
   "id": "b97b9302",
   "metadata": {},
   "outputs": [
    {
     "name": "stderr",
     "output_type": "stream",
     "text": [
      "2022-03-12 15:06:18.574863: I tensorflow/compiler/jit/xla_cpu_device.cc:41] Not creating XLA devices, tf_xla_enable_xla_devices not set\n",
      "2022-03-12 15:06:18.575464: I tensorflow/stream_executor/platform/default/dso_loader.cc:49] Successfully opened dynamic library libcuda.so.1\n",
      "2022-03-12 15:06:18.631444: I tensorflow/stream_executor/cuda/cuda_gpu_executor.cc:941] successful NUMA node read from SysFS had negative value (-1), but there must be at least one NUMA node, so returning NUMA node zero\n",
      "2022-03-12 15:06:18.632889: I tensorflow/core/common_runtime/gpu/gpu_device.cc:1720] Found device 0 with properties: \n",
      "pciBusID: 0000:01:00.0 name: NVIDIA GeForce GTX 1080 computeCapability: 6.1\n",
      "coreClock: 1.8225GHz coreCount: 20 deviceMemorySize: 7.93GiB deviceMemoryBandwidth: 298.32GiB/s\n",
      "2022-03-12 15:06:18.632976: I tensorflow/stream_executor/platform/default/dso_loader.cc:49] Successfully opened dynamic library libcudart.so.10.1\n",
      "2022-03-12 15:06:18.638005: I tensorflow/stream_executor/platform/default/dso_loader.cc:49] Successfully opened dynamic library libcublas.so.10\n",
      "2022-03-12 15:06:18.638148: I tensorflow/stream_executor/platform/default/dso_loader.cc:49] Successfully opened dynamic library libcublasLt.so.10\n",
      "2022-03-12 15:06:18.642419: I tensorflow/stream_executor/platform/default/dso_loader.cc:49] Successfully opened dynamic library libcufft.so.10\n",
      "2022-03-12 15:06:18.643240: I tensorflow/stream_executor/platform/default/dso_loader.cc:49] Successfully opened dynamic library libcurand.so.10\n",
      "2022-03-12 15:06:18.648600: I tensorflow/stream_executor/platform/default/dso_loader.cc:49] Successfully opened dynamic library libcusolver.so.10\n",
      "2022-03-12 15:06:18.651404: I tensorflow/stream_executor/platform/default/dso_loader.cc:49] Successfully opened dynamic library libcusparse.so.10\n",
      "2022-03-12 15:06:18.658376: I tensorflow/stream_executor/platform/default/dso_loader.cc:49] Successfully opened dynamic library libcudnn.so.7\n",
      "2022-03-12 15:06:18.658559: I tensorflow/stream_executor/cuda/cuda_gpu_executor.cc:941] successful NUMA node read from SysFS had negative value (-1), but there must be at least one NUMA node, so returning NUMA node zero\n",
      "2022-03-12 15:06:18.659516: I tensorflow/stream_executor/cuda/cuda_gpu_executor.cc:941] successful NUMA node read from SysFS had negative value (-1), but there must be at least one NUMA node, so returning NUMA node zero\n",
      "2022-03-12 15:06:18.660317: I tensorflow/core/common_runtime/gpu/gpu_device.cc:1862] Adding visible gpu devices: 0\n"
     ]
    }
   ],
   "source": [
    "physical_device = tf.config.list_physical_devices('GPU')\n",
    "tf.config.experimental.set_memory_growth(physical_device[0], True)"
   ]
  },
  {
   "cell_type": "code",
   "execution_count": 26,
   "id": "68ae7d9b",
   "metadata": {},
   "outputs": [],
   "source": [
    "def preprocess_triplets(template, docked, negative, rmsd):\n",
    "    \"\"\"\n",
    "    Given the filenames corresponding to the three images, load and\n",
    "    preprocess them.\n",
    "    \"\"\"\n",
    "\n",
    "    return (preprocess_image(template), preprocess_image(docked), preprocess_image(negative), rmsd)\n",
    "    "
   ]
  },
  {
   "cell_type": "code",
   "execution_count": 27,
   "id": "24fccb0c",
   "metadata": {},
   "outputs": [],
   "source": [
    "def preprocess_triplets_2(tup, negative):\n",
    "    \"\"\"\n",
    "    Given the filenames corresponding to the three images, load and\n",
    "    preprocess them.\n",
    "    \"\"\"\n",
    "\n",
    "    return (preprocess_image(tup[0]),\n",
    "        preprocess_image(tup[1]),\n",
    "        preprocess_image(negative))"
   ]
  },
  {
   "cell_type": "code",
   "execution_count": 28,
   "id": "6ac49a9a",
   "metadata": {},
   "outputs": [],
   "source": [
    "#image = preprocess_image('/4A7I_A7I.png')\n",
    "#image.shape"
   ]
  },
  {
   "cell_type": "code",
   "execution_count": 29,
   "id": "b6922b90",
   "metadata": {},
   "outputs": [],
   "source": [
    "train_template_images = [r.img_temp for i, r in train_good.iterrows()]"
   ]
  },
  {
   "cell_type": "code",
   "execution_count": 30,
   "id": "d139b148",
   "metadata": {},
   "outputs": [],
   "source": [
    "train_docked_images = [r.img_docked for i, r in train_good.iterrows()]"
   ]
  },
  {
   "cell_type": "code",
   "execution_count": 31,
   "id": "aecee4fd",
   "metadata": {},
   "outputs": [
    {
     "data": {
      "text/plain": [
       "(7926, 7926)"
      ]
     },
     "execution_count": 31,
     "metadata": {},
     "output_type": "execute_result"
    }
   ],
   "source": [
    "len(train_template_images), len(train_docked_images)"
   ]
  },
  {
   "cell_type": "code",
   "execution_count": 32,
   "id": "b73234e0",
   "metadata": {},
   "outputs": [],
   "source": [
    "def find_negative_train(docked):\n",
    "    negs = negative[negative.docked == docked]\n",
    "    negs = negs.reset_index(drop=True)\n",
    "    if len(negs) > 0:\n",
    "        i = random.randint(0,len(negs) - 1)\n",
    "        neg = negs.iloc[i]\n",
    "    else:\n",
    "        i = random.randint(0,len(negative) - 1)\n",
    "        neg = negative.iloc[i]\n",
    "    return neg.img_docked"
   ]
  },
  {
   "cell_type": "code",
   "execution_count": 33,
   "id": "772685ac",
   "metadata": {},
   "outputs": [],
   "source": [
    "def find_negative_val(docked):\n",
    "    negs = val_negative[val_negative.docked == docked]\n",
    "    negs = negs.reset_index(drop=True)\n",
    "    if len(negs) > 0:\n",
    "        i = random.randint(0,len(negs) - 1)\n",
    "        neg = negs.iloc[i]\n",
    "    else:\n",
    "        i = random.randint(0,len(val_negative) - 1)\n",
    "        neg = val_negative.iloc[i]\n",
    "    return neg.img_docked"
   ]
  },
  {
   "cell_type": "code",
   "execution_count": 34,
   "id": "a0386de5",
   "metadata": {},
   "outputs": [],
   "source": [
    "valid_template_images = [r.img_temp for i, r in valid_good.iterrows()]\n",
    "valid_docked_images = [r.img_docked for i, r in valid_good.iterrows()]"
   ]
  },
  {
   "cell_type": "code",
   "execution_count": 35,
   "id": "5ed57a19",
   "metadata": {},
   "outputs": [
    {
     "name": "stdout",
     "output_type": "stream",
     "text": [
      "Num GPus avalable:  1\n"
     ]
    }
   ],
   "source": [
    "import tensorflow as tf\n",
    "print('Num GPus avalable: ', len(tf.config.experimental.list_physical_devices('GPU')))"
   ]
  },
  {
   "cell_type": "code",
   "execution_count": 36,
   "id": "db90abfd",
   "metadata": {},
   "outputs": [
    {
     "name": "stderr",
     "output_type": "stream",
     "text": [
      "2022-03-12 15:06:27.641933: I tensorflow/core/platform/cpu_feature_guard.cc:142] This TensorFlow binary is optimized with oneAPI Deep Neural Network Library (oneDNN) to use the following CPU instructions in performance-critical operations:  SSE4.1 SSE4.2 AVX AVX2 FMA\n",
      "To enable them in other operations, rebuild TensorFlow with the appropriate compiler flags.\n",
      "2022-03-12 15:06:27.642307: I tensorflow/stream_executor/cuda/cuda_gpu_executor.cc:941] successful NUMA node read from SysFS had negative value (-1), but there must be at least one NUMA node, so returning NUMA node zero\n",
      "2022-03-12 15:06:27.642841: I tensorflow/core/common_runtime/gpu/gpu_device.cc:1720] Found device 0 with properties: \n",
      "pciBusID: 0000:01:00.0 name: NVIDIA GeForce GTX 1080 computeCapability: 6.1\n",
      "coreClock: 1.8225GHz coreCount: 20 deviceMemorySize: 7.93GiB deviceMemoryBandwidth: 298.32GiB/s\n",
      "2022-03-12 15:06:27.642871: I tensorflow/stream_executor/platform/default/dso_loader.cc:49] Successfully opened dynamic library libcudart.so.10.1\n",
      "2022-03-12 15:06:27.642888: I tensorflow/stream_executor/platform/default/dso_loader.cc:49] Successfully opened dynamic library libcublas.so.10\n",
      "2022-03-12 15:06:27.642898: I tensorflow/stream_executor/platform/default/dso_loader.cc:49] Successfully opened dynamic library libcublasLt.so.10\n",
      "2022-03-12 15:06:27.642907: I tensorflow/stream_executor/platform/default/dso_loader.cc:49] Successfully opened dynamic library libcufft.so.10\n",
      "2022-03-12 15:06:27.642917: I tensorflow/stream_executor/platform/default/dso_loader.cc:49] Successfully opened dynamic library libcurand.so.10\n",
      "2022-03-12 15:06:27.642926: I tensorflow/stream_executor/platform/default/dso_loader.cc:49] Successfully opened dynamic library libcusolver.so.10\n",
      "2022-03-12 15:06:27.642936: I tensorflow/stream_executor/platform/default/dso_loader.cc:49] Successfully opened dynamic library libcusparse.so.10\n",
      "2022-03-12 15:06:27.642946: I tensorflow/stream_executor/platform/default/dso_loader.cc:49] Successfully opened dynamic library libcudnn.so.7\n",
      "2022-03-12 15:06:27.642993: I tensorflow/stream_executor/cuda/cuda_gpu_executor.cc:941] successful NUMA node read from SysFS had negative value (-1), but there must be at least one NUMA node, so returning NUMA node zero\n",
      "2022-03-12 15:06:27.643524: I tensorflow/stream_executor/cuda/cuda_gpu_executor.cc:941] successful NUMA node read from SysFS had negative value (-1), but there must be at least one NUMA node, so returning NUMA node zero\n",
      "2022-03-12 15:06:27.643871: I tensorflow/core/common_runtime/gpu/gpu_device.cc:1862] Adding visible gpu devices: 0\n",
      "2022-03-12 15:06:27.643896: I tensorflow/stream_executor/platform/default/dso_loader.cc:49] Successfully opened dynamic library libcudart.so.10.1\n",
      "2022-03-12 15:06:27.985209: I tensorflow/core/common_runtime/gpu/gpu_device.cc:1261] Device interconnect StreamExecutor with strength 1 edge matrix:\n",
      "2022-03-12 15:06:27.985232: I tensorflow/core/common_runtime/gpu/gpu_device.cc:1267]      0 \n",
      "2022-03-12 15:06:27.985237: I tensorflow/core/common_runtime/gpu/gpu_device.cc:1280] 0:   N \n",
      "2022-03-12 15:06:27.985381: I tensorflow/stream_executor/cuda/cuda_gpu_executor.cc:941] successful NUMA node read from SysFS had negative value (-1), but there must be at least one NUMA node, so returning NUMA node zero\n",
      "2022-03-12 15:06:27.985685: I tensorflow/stream_executor/cuda/cuda_gpu_executor.cc:941] successful NUMA node read from SysFS had negative value (-1), but there must be at least one NUMA node, so returning NUMA node zero\n",
      "2022-03-12 15:06:27.985943: I tensorflow/stream_executor/cuda/cuda_gpu_executor.cc:941] successful NUMA node read from SysFS had negative value (-1), but there must be at least one NUMA node, so returning NUMA node zero\n",
      "2022-03-12 15:06:27.986180: I tensorflow/core/common_runtime/gpu/gpu_device.cc:1406] Created TensorFlow device (/job:localhost/replica:0/task:0/device:GPU:0 with 7016 MB memory) -> physical GPU (device: 0, name: NVIDIA GeForce GTX 1080, pci bus id: 0000:01:00.0, compute capability: 6.1)\n",
      "2022-03-12 15:06:27.986410: I tensorflow/compiler/jit/xla_gpu_device.cc:99] Not creating XLA devices, tf_xla_enable_xla_devices not set\n"
     ]
    }
   ],
   "source": [
    "negative_images = [find_negative_train(r.docked) for i, r in train_good.iterrows()]\n",
    "#np.random.RandomState(seed=32).shuffle(negative_images)\n",
    "\n",
    "negative_dataset = tf.data.Dataset.from_tensor_slices(negative_images)\n",
    "#negative_dataset = negative_dataset.shuffle(buffer_size=4096)"
   ]
  },
  {
   "cell_type": "code",
   "execution_count": 37,
   "id": "60054fa0",
   "metadata": {},
   "outputs": [],
   "source": [
    "val_negative_images = [find_negative_val(r.docked) for i, r in valid_good.iterrows()]\n",
    "#np.random.RandomState(seed=32).shuffle(negative_images)\n",
    "\n",
    "val_negative_dataset = tf.data.Dataset.from_tensor_slices(val_negative_images)\n",
    "#val_negative_dataset = val_negative_dataset.shuffle(buffer_size=4096)"
   ]
  },
  {
   "cell_type": "code",
   "execution_count": 38,
   "id": "116b5c32",
   "metadata": {},
   "outputs": [
    {
     "data": {
      "text/plain": [
       "9971"
      ]
     },
     "execution_count": 38,
     "metadata": {},
     "output_type": "execute_result"
    }
   ],
   "source": [
    "image_count = len(train_template_images) + len(valid_template_images)\n",
    "image_count"
   ]
  },
  {
   "cell_type": "code",
   "execution_count": 39,
   "id": "3a2ccbc7",
   "metadata": {},
   "outputs": [
    {
     "data": {
      "text/plain": [
       "9971"
      ]
     },
     "execution_count": 39,
     "metadata": {},
     "output_type": "execute_result"
    }
   ],
   "source": [
    "neg_image_count = len(negative_images) + len(val_negative_images)\n",
    "neg_image_count"
   ]
  },
  {
   "cell_type": "code",
   "execution_count": 40,
   "id": "3917c506",
   "metadata": {},
   "outputs": [],
   "source": [
    "template_dataset = tf.data.Dataset.from_tensor_slices(train_template_images)\n",
    "docked_dataset = tf.data.Dataset.from_tensor_slices(train_docked_images)"
   ]
  },
  {
   "cell_type": "code",
   "execution_count": 41,
   "id": "e9fb064e",
   "metadata": {},
   "outputs": [],
   "source": [
    "val_template_dataset = tf.data.Dataset.from_tensor_slices(valid_template_images)\n",
    "val_docked_dataset = tf.data.Dataset.from_tensor_slices(valid_docked_images)"
   ]
  },
  {
   "cell_type": "code",
   "execution_count": 42,
   "id": "c634d16a",
   "metadata": {},
   "outputs": [],
   "source": [
    "y_train = train['log_RMSD']\n",
    "y_train = tf.data.Dataset.from_tensor_slices(list(y_train))\n"
   ]
  },
  {
   "cell_type": "code",
   "execution_count": 43,
   "id": "6ee52781",
   "metadata": {},
   "outputs": [],
   "source": [
    "y_valid = valid['log_RMSD']\n",
    "y_valid = tf.data.Dataset.from_tensor_slices(list(y_train))"
   ]
  },
  {
   "cell_type": "code",
   "execution_count": 44,
   "id": "6b5e4d4e",
   "metadata": {},
   "outputs": [],
   "source": [
    "log_rmsd = [r.log_RMSD for i, r in train_good.iterrows()]\n",
    "val_log_rmsd = [r.log_RMSD for i, r in valid_good.iterrows()]"
   ]
  },
  {
   "cell_type": "code",
   "execution_count": 45,
   "id": "7b08ec95",
   "metadata": {},
   "outputs": [],
   "source": [
    "log_rmsd_dataset = tf.data.Dataset.from_tensor_slices(log_rmsd)\n",
    "val_log_rmsd_dataset = tf.data.Dataset.from_tensor_slices(val_log_rmsd)"
   ]
  },
  {
   "cell_type": "code",
   "execution_count": 46,
   "id": "5c1733bd",
   "metadata": {},
   "outputs": [
    {
     "name": "stdout",
     "output_type": "stream",
     "text": [
      "Sat Mar 12 15:06:30 2022       \r\n",
      "+-----------------------------------------------------------------------------+\r\n",
      "| NVIDIA-SMI 470.103.01   Driver Version: 470.103.01   CUDA Version: 11.4     |\r\n",
      "|-------------------------------+----------------------+----------------------+\r\n",
      "| GPU  Name        Persistence-M| Bus-Id        Disp.A | Volatile Uncorr. ECC |\r\n",
      "| Fan  Temp  Perf  Pwr:Usage/Cap|         Memory-Usage | GPU-Util  Compute M. |\r\n",
      "|                               |                      |               MIG M. |\r\n",
      "|===============================+======================+======================|\r\n",
      "|   0  NVIDIA GeForce ...  Off  | 00000000:01:00.0  On |                  N/A |\r\n",
      "|  0%   56C    P2    51W / 240W |    659MiB /  8116MiB |      2%      Default |\r\n",
      "|                               |                      |                  N/A |\r\n",
      "+-------------------------------+----------------------+----------------------+\r\n",
      "                                                                               \r\n",
      "+-----------------------------------------------------------------------------+\r\n",
      "| Processes:                                                                  |\r\n",
      "|  GPU   GI   CI        PID   Type   Process name                  GPU Memory |\r\n",
      "|        ID   ID                                                   Usage      |\r\n",
      "|=============================================================================|\r\n",
      "|    0   N/A  N/A      1015      G   /usr/lib/xorg/Xorg                222MiB |\r\n",
      "|    0   N/A  N/A      1317      G   /usr/bin/gnome-shell               57MiB |\r\n",
      "|    0   N/A  N/A      5418      G   /usr/lib/firefox/firefox          147MiB |\r\n",
      "|    0   N/A  N/A      5698      G   /usr/lib/firefox/firefox            1MiB |\r\n",
      "|    0   N/A  N/A      7939      C   ...a3/envs/tf_gpu/bin/python      225MiB |\r\n",
      "+-----------------------------------------------------------------------------+\r\n"
     ]
    }
   ],
   "source": [
    "!nvidia-smi"
   ]
  },
  {
   "cell_type": "markdown",
   "id": "339e769b",
   "metadata": {},
   "source": [
    "### Create the train and validation datasets"
   ]
  },
  {
   "cell_type": "code",
   "execution_count": 47,
   "id": "17fdadb0",
   "metadata": {},
   "outputs": [
    {
     "data": {
      "text/plain": [
       "(<ZipDataset shapes: ((), (), (), ()), types: (tf.string, tf.string, tf.string, tf.float32)>,\n",
       " <ZipDataset shapes: ((), (), (), ()), types: (tf.string, tf.string, tf.string, tf.float32)>)"
      ]
     },
     "execution_count": 47,
     "metadata": {},
     "output_type": "execute_result"
    }
   ],
   "source": [
    "train_dataset = tf.data.Dataset.zip((docked_dataset, template_dataset, negative_dataset, log_rmsd_dataset)) # template as anchor\n",
    "#train_dataset = tf.data.Dataset.zip((template_dataset, docked_dataset, negative_dataset)) # template as anchor\n",
    "valid_dataset = tf.data.Dataset.zip((val_docked_dataset, val_template_dataset, val_negative_dataset, val_log_rmsd_dataset)) # template as anchor\n",
    "#valid_dataset = tf.data.Dataset.zip((val_template_dataset, val_docked_dataset, val_negative_dataset)) # template as anchor\n",
    "train_dataset, valid_dataset"
   ]
  },
  {
   "cell_type": "code",
   "execution_count": 48,
   "id": "149d4399",
   "metadata": {},
   "outputs": [
    {
     "data": {
      "text/plain": [
       "<TakeDataset shapes: ((), (), (), ()), types: (tf.string, tf.string, tf.string, tf.float32)>"
      ]
     },
     "execution_count": 48,
     "metadata": {},
     "output_type": "execute_result"
    }
   ],
   "source": [
    "train_dataset = train_dataset.take(round(image_count * 1))\n",
    "train_dataset"
   ]
  },
  {
   "cell_type": "code",
   "execution_count": 49,
   "id": "c5504d23",
   "metadata": {},
   "outputs": [
    {
     "data": {
      "text/plain": [
       "(<MapDataset shapes: ((224, 224, 3), (224, 224, 3), (224, 224, 3), ()), types: (tf.float32, tf.float32, tf.float32, tf.float32)>,\n",
       " <MapDataset shapes: ((224, 224, 3), (224, 224, 3), (224, 224, 3), ()), types: (tf.float32, tf.float32, tf.float32, tf.float32)>)"
      ]
     },
     "execution_count": 49,
     "metadata": {},
     "output_type": "execute_result"
    }
   ],
   "source": [
    "train_dataset = train_dataset.map(preprocess_triplets)\n",
    "val_dataset = valid_dataset.map(preprocess_triplets)\n",
    "train_dataset, val_dataset"
   ]
  },
  {
   "cell_type": "code",
   "execution_count": 50,
   "id": "125c0a00",
   "metadata": {},
   "outputs": [
    {
     "data": {
      "text/plain": [
       "<PrefetchDataset shapes: ((32, 224, 224, 3), (32, 224, 224, 3), (32, 224, 224, 3), (32,)), types: (tf.float32, tf.float32, tf.float32, tf.float32)>"
      ]
     },
     "execution_count": 50,
     "metadata": {},
     "output_type": "execute_result"
    }
   ],
   "source": [
    "train_dl = train_dataset.batch(32, drop_remainder=True)\n",
    "train_dl = train_dl.prefetch(8)\n",
    "train_dl"
   ]
  },
  {
   "cell_type": "code",
   "execution_count": 51,
   "id": "57f30d7b",
   "metadata": {
    "scrolled": true
   },
   "outputs": [
    {
     "data": {
      "text/plain": [
       "<PrefetchDataset shapes: ((32, 224, 224, 3), (32, 224, 224, 3), (32, 224, 224, 3), (32,)), types: (tf.float32, tf.float32, tf.float32, tf.float32)>"
      ]
     },
     "execution_count": 51,
     "metadata": {},
     "output_type": "execute_result"
    }
   ],
   "source": [
    "val_dl = val_dataset.batch(32, drop_remainder=True)\n",
    "val_dl = val_dl.prefetch(8)\n",
    "val_dl"
   ]
  },
  {
   "cell_type": "markdown",
   "id": "f4f6e468",
   "metadata": {},
   "source": [
    "## Anchor, positive and the distance between them computed by the distance layer"
   ]
  },
  {
   "cell_type": "code",
   "execution_count": 52,
   "id": "6585724f",
   "metadata": {
    "scrolled": true
   },
   "outputs": [
    {
     "name": "stderr",
     "output_type": "stream",
     "text": [
      "2022-03-12 15:06:33.909691: I tensorflow/compiler/mlir/mlir_graph_optimization_pass.cc:116] None of the MLIR optimization passes are enabled (registered 2)\n",
      "2022-03-12 15:06:33.926823: I tensorflow/core/platform/profile_utils/cpu_utils.cc:112] CPU Frequency: 3999980000 Hz\n"
     ]
    },
    {
     "data": {
      "image/png": "[encoded data removed]",
      "text/plain": [
       "<Figure size 648x648 with 12 Axes>"
      ]
     },
     "metadata": {
      "needs_background": "light"
     },
     "output_type": "display_data"
    }
   ],
   "source": [
    "def visualize(anchor, positive, negative, rmsd):\n",
    "    \"\"\"Visualize a few triplets from the supplied batches.\"\"\"\n",
    "\n",
    "    def show(ax, image):\n",
    "        ax.imshow(image)\n",
    "        ax.get_xaxis().set_visible(False)\n",
    "        ax.get_yaxis().set_visible(False)\n",
    "    \n",
    "\n",
    "    fig = plt.figure(figsize=(9, 9))\n",
    "\n",
    "    axs = fig.subplots(4, 3)\n",
    "    for i in range(0, 4, 2):\n",
    "        show(axs[i, 0], anchor[i])\n",
    "        show(axs[i + 1, 0], anchor[i])\n",
    "        show(axs[i, 1], positive[i])\n",
    "        show(axs[i + 1, 1], negative[i])\n",
    "        ap_distance = tf.reduce_sum(tf.square(anchor[i] - positive[i]), -1)\n",
    "        an_distance = tf.reduce_sum(tf.square(anchor[i] - negative[i]), -1)\n",
    "        show(axs[i, 2], ap_distance)\n",
    "        show(axs[i + 1, 2], an_distance)\n",
    "        loss = ap_distance - an_distance\n",
    "        loss = tf.maximum(loss, 0.0)\n",
    "    \n",
    "\n",
    "\n",
    "visualize(*list(val_dl.take(1).as_numpy_iterator())[0])"
   ]
  },
  {
   "cell_type": "markdown",
   "id": "7cf37acd",
   "metadata": {},
   "source": [
    "## Anchor, positive and the negative image"
   ]
  },
  {
   "cell_type": "code",
   "execution_count": 53,
   "id": "f6f88431",
   "metadata": {},
   "outputs": [
    {
     "name": "stdout",
     "output_type": "stream",
     "text": [
      "1.3045418\n",
      "0.61572605\n",
      "-0.19845094\n"
     ]
    },
    {
     "data": {
      "image/png": "[encoded data removed]",
      "text/plain": [
       "<Figure size 648x648 with 9 Axes>"
      ]
     },
     "metadata": {
      "needs_background": "light"
     },
     "output_type": "display_data"
    }
   ],
   "source": [
    "def visualize2(anchor, positive, negative, rmsd):\n",
    "    \"\"\"Visualize a few triplets from the supplied batches.\"\"\"\n",
    "\n",
    "    def show(ax, image):\n",
    "        ax.imshow(image)\n",
    "        ax.get_xaxis().set_visible(False)\n",
    "        ax.get_yaxis().set_visible(False)\n",
    "\n",
    "    fig = plt.figure(figsize=(9, 9))\n",
    "\n",
    "    axs = fig.subplots(3, 3)\n",
    "    for i in range(3):\n",
    "        print(rmsd[i])\n",
    "        show(axs[i, 0], anchor[i])\n",
    "        show(axs[i, 1], positive[i])\n",
    "        show(axs[i, 2], negative[i])\n",
    "\n",
    "\n",
    "visualize2(*list(val_dl.take(1).as_numpy_iterator())[0])"
   ]
  },
  {
   "cell_type": "code",
   "execution_count": 54,
   "id": "7c2bc408",
   "metadata": {},
   "outputs": [],
   "source": [
    "def visualize_positive(anchor, positive):\n",
    "    \"\"\"Visualize a few triplets from the supplied batches.\"\"\"\n",
    "\n",
    "    def show(ax, image):\n",
    "        ax.imshow(image)\n",
    "        ax.get_xaxis().set_visible(False)\n",
    "        ax.get_yaxis().set_visible(False)\n",
    "\n",
    "    fig = plt.figure(figsize=(1, 2))\n",
    "\n",
    "    axs = fig.subplots(1, 2)\n",
    "    show(axs[0, 0], anchor)\n",
    "    show(axs[0, 1], positive)"
   ]
  },
  {
   "cell_type": "markdown",
   "id": "cbb7e500",
   "metadata": {},
   "source": [
    "# Siamese network with distance layer and RMSD as mmargin in loss function"
   ]
  },
  {
   "cell_type": "markdown",
   "id": "dc83f252",
   "metadata": {},
   "source": [
    "### Idea is to use RMSD instead of a set margin to allow a bigger loss to ligands with bigger RMSD scores"
   ]
  },
  {
   "cell_type": "code",
   "execution_count": 55,
   "id": "0f36080c",
   "metadata": {},
   "outputs": [],
   "source": [
    "base_cnn = resnet.ResNet50(\n",
    "    weights=\"imagenet\", input_shape=target_shape +  (3,), include_top=False\n",
    ")\n",
    "\n",
    "flatten = layers.Flatten()(base_cnn.output)\n",
    "dense1 = layers.Dense(512, activation=\"relu\")(flatten)\n",
    "dense1 = layers.BatchNormalization()(dense1)\n",
    "dense2 = layers.Dense(256, activation=\"relu\")(dense1)\n",
    "dense2 = layers.BatchNormalization()(dense2)\n",
    "output = layers.Dense(256)(dense2)\n",
    "\n",
    "embedding = Model(base_cnn.input, output, name=\"Embedding\")\n",
    "\n",
    "trainable = False\n",
    "for layer in base_cnn.layers:\n",
    "    if layer.name == \"conv5_block1_out\":\n",
    "        trainable = True\n",
    "    layer.trainable = trainable\n"
   ]
  },
  {
   "cell_type": "code",
   "execution_count": 56,
   "id": "e04f2720",
   "metadata": {
    "scrolled": false
   },
   "outputs": [
    {
     "name": "stdout",
     "output_type": "stream",
     "text": [
      "Model: \"model\"\n",
      "__________________________________________________________________________________________________\n",
      "Layer (type)                    Output Shape         Param #     Connected to                     \n",
      "==================================================================================================\n",
      "anchor (InputLayer)             [(None, 224, 224, 3) 0                                            \n",
      "__________________________________________________________________________________________________\n",
      "positive (InputLayer)           [(None, 224, 224, 3) 0                                            \n",
      "__________________________________________________________________________________________________\n",
      "negative (InputLayer)           [(None, 224, 224, 3) 0                                            \n",
      "__________________________________________________________________________________________________\n",
      "tf.__operators__.getitem (Slici (None, 224, 224, 3)  0           anchor[0][0]                     \n",
      "__________________________________________________________________________________________________\n",
      "tf.__operators__.getitem_1 (Sli (None, 224, 224, 3)  0           positive[0][0]                   \n",
      "__________________________________________________________________________________________________\n",
      "tf.__operators__.getitem_2 (Sli (None, 224, 224, 3)  0           negative[0][0]                   \n",
      "__________________________________________________________________________________________________\n",
      "tf.nn.bias_add (TFOpLambda)     (None, 224, 224, 3)  0           tf.__operators__.getitem[0][0]   \n",
      "__________________________________________________________________________________________________\n",
      "tf.nn.bias_add_1 (TFOpLambda)   (None, 224, 224, 3)  0           tf.__operators__.getitem_1[0][0] \n",
      "__________________________________________________________________________________________________\n",
      "tf.nn.bias_add_2 (TFOpLambda)   (None, 224, 224, 3)  0           tf.__operators__.getitem_2[0][0] \n",
      "__________________________________________________________________________________________________\n",
      "Embedding (Functional)          (None, 256)          75168640    tf.nn.bias_add[0][0]             \n",
      "                                                                 tf.nn.bias_add_1[0][0]           \n",
      "                                                                 tf.nn.bias_add_2[0][0]           \n",
      "__________________________________________________________________________________________________\n",
      "rmsd (InputLayer)               [(None, 1)]          0                                            \n",
      "__________________________________________________________________________________________________\n",
      "distance_layer (DistanceLayer)  ((None,), (None,), ( 0           Embedding[0][0]                  \n",
      "                                                                 Embedding[1][0]                  \n",
      "                                                                 Embedding[2][0]                  \n",
      "                                                                 rmsd[0][0]                       \n",
      "==================================================================================================\n",
      "Total params: 75,168,640\n",
      "Trainable params: 60,510,720\n",
      "Non-trainable params: 14,657,920\n",
      "__________________________________________________________________________________________________\n"
     ]
    }
   ],
   "source": [
    "class DistanceLayer(layers.Layer):\n",
    "    \"\"\"\n",
    "    This layer is responsible for computing the distance between the anchor\n",
    "    embedding and the positive embedding, and the anchor embedding and the\n",
    "    negative embedding.\n",
    "    \"\"\"\n",
    "\n",
    "    def __init__(self, **kwargs):\n",
    "        super().__init__(**kwargs)\n",
    "\n",
    "    def call(self, anchor, positive, negative, rmsd):\n",
    "        ap_distance = tf.reduce_sum(tf.square(anchor - positive), -1)\n",
    "        an_distance = tf.reduce_sum(tf.square(anchor - negative), -1)\n",
    "        return (ap_distance, an_distance, rmsd)\n",
    "\n",
    "\n",
    "anchor_input = layers.Input(name=\"anchor\", shape=target_shape + (3,))\n",
    "positive_input = layers.Input(name=\"positive\", shape=target_shape + (3,))\n",
    "negative_input = layers.Input(name=\"negative\", shape=target_shape + (3,))\n",
    "rmsd_input = layers.Input(name='rmsd', shape=(1))\n",
    "\n",
    "distances = DistanceLayer()(\n",
    "    embedding(resnet.preprocess_input(anchor_input)),\n",
    "    embedding(resnet.preprocess_input(positive_input)),\n",
    "    embedding(resnet.preprocess_input(negative_input)),\n",
    "    rmsd_input,\n",
    ")\n",
    "\n",
    "siamese_network = Model(\n",
    "    inputs=[anchor_input, positive_input, negative_input, rmsd_input], outputs=distances\n",
    ")\n",
    "\n",
    "siamese_network.summary()"
   ]
  },
  {
   "cell_type": "markdown",
   "id": "4e5ec250",
   "metadata": {},
   "source": [
    "### Triplet loss defined as: \n",
    "\n",
    "$$\\displaystyle {\\mathcal {L}}\\left(A,P,N\\right)=\\operatorname {max} \\left({\\|\\operatorname {f} \\left(A\\right)-\\operatorname {f} \\left(P\\right)\\|}^{2}-{\\|\\operatorname {f} \\left(A\\right)-\\operatorname {f} \\left(N\\right)\\|}^{2}+\\alpha ,0\\right)$$"
   ]
  },
  {
   "cell_type": "code",
   "execution_count": 57,
   "id": "61943aca",
   "metadata": {},
   "outputs": [],
   "source": [
    "class SiameseModel(Model):\n",
    "    \"\"\"The Siamese Network model with a custom training and testing loops.\n",
    "\n",
    "    Computes the triplet loss using the three embeddings produced by the\n",
    "    Siamese Network.\n",
    "\n",
    "    The triplet loss is defined as:\n",
    "       L(A, P, N) = max(‖f(A) - f(P)‖² - ‖f(A) - f(N)‖² + margin, 0)\n",
    "    \"\"\"\n",
    "\n",
    "    def __init__(self, siamese_network, margin=1.5):\n",
    "        super(SiameseModel, self).__init__()\n",
    "        self.siamese_network = siamese_network\n",
    "        self.margin = margin\n",
    "        self.loss_tracker = metrics.Mean(name=\"loss\")\n",
    "        self.rmse_tracker = metrics.RootMeanSquaredError(name=\"rmse\")\n",
    "\n",
    "    def call(self, inputs):\n",
    "        return self.siamese_network(inputs)\n",
    "\n",
    "    def train_step(self, data):\n",
    "        # GradientTape is a context manager that records every operation that\n",
    "        # you do inside. We are using it here to compute the loss so we can get\n",
    "        # the gradients and apply them using the optimizer specified in\n",
    "        # `compile()`.\n",
    "        with tf.GradientTape() as tape:\n",
    "            loss = self._compute_loss(data)\n",
    "\n",
    "        # Storing the gradients of the loss function with respect to the\n",
    "        # weights/parameters.\n",
    "        gradients = tape.gradient(loss, self.siamese_network.trainable_weights)\n",
    "\n",
    "        # Applying the gradients on the model using the specified optimizer\n",
    "        self.optimizer.apply_gradients(\n",
    "            zip(gradients, self.siamese_network.trainable_weights)\n",
    "        )\n",
    "\n",
    "        # Let's update and return the training loss metric.\n",
    "        self.loss_tracker.update_state(loss)\n",
    "        \n",
    "        return {\"loss\": self.loss_tracker.result()}\n",
    "\n",
    "    def test_step(self, data):\n",
    "        loss = self._compute_loss(data)\n",
    "        ap_distance, an_distance, rmsd = self.siamese_network(data)\n",
    "        # Let's update and return the loss metric and rmse metric.\n",
    "        self.loss_tracker.update_state(loss)\n",
    "        distance = ap_distance - an_distance\n",
    "        # RMSE (Euclidean distance) between anchor and positive image minus RMSD\n",
    "        rmse = tf.maximum(distance, 0.0)\n",
    "        self.rmse_tracker.update_state(self.amrgin - rmsd, rmse)\n",
    "        return {\"loss\": self.loss_tracker.result(), 'rmse': self.rmse_tracker.result()}\n",
    "\n",
    "    def _compute_loss(self, data):\n",
    "        # The output of the network is a tuple containing the distances\n",
    "        # between the anchor and the positive example, and the anchor and\n",
    "        # the negative example.\n",
    "        ap_distance, an_distance, rmsd = self.siamese_network(data)\n",
    "\n",
    "        # Computing the Triplet Loss by subtracting both distances and\n",
    "        # making sure we don't get a negative value.\n",
    "        loss = ap_distance - an_distance\n",
    "        loss = tf.maximum(loss + self.margin - rmsd, 0.0)\n",
    "        return loss\n",
    "\n",
    "    @property\n",
    "    def metrics(self):\n",
    "        # We need to list our metrics here so the `reset_states()` can be\n",
    "        # called automatically.\n",
    "        return [self.loss_tracker, self.rmse_tracker]\n"
   ]
  },
  {
   "cell_type": "markdown",
   "id": "c1616071",
   "metadata": {},
   "source": [
    "### Choose optimizer and train model"
   ]
  },
  {
   "cell_type": "code",
   "execution_count": 58,
   "id": "1f45a8f2",
   "metadata": {},
   "outputs": [],
   "source": [
    "physical_device = tf.config.list_physical_devices('GPU')\n",
    "tf.config.experimental.set_memory_growth(physical_device[0], True)"
   ]
  },
  {
   "cell_type": "code",
   "execution_count": 59,
   "id": "e40f0b56",
   "metadata": {},
   "outputs": [],
   "source": [
    "siamese_model = SiameseModel(siamese_network)\n",
    "siamese_model.compile(optimizer=optimizers.Adam(0.0001), metrics=metrics.RootMeanSquaredError(name='rmse'))"
   ]
  },
  {
   "cell_type": "code",
   "execution_count": 78,
   "id": "d1ed18a4",
   "metadata": {},
   "outputs": [
    {
     "name": "stdout",
     "output_type": "stream",
     "text": [
      "Epoch 1/10\n"
     ]
    },
    {
     "name": "stderr",
     "output_type": "stream",
     "text": [
      "2022-02-24 15:35:59.787631: I tensorflow/stream_executor/platform/default/dso_loader.cc:49] Successfully opened dynamic library libcublas.so.10\n",
      "2022-02-24 15:35:59.973316: I tensorflow/stream_executor/platform/default/dso_loader.cc:49] Successfully opened dynamic library libcudnn.so.7\n",
      "2022-02-24 15:36:00.550167: W tensorflow/stream_executor/gpu/asm_compiler.cc:63] Running ptxas --version returned 256\n",
      "2022-02-24 15:36:00.581791: W tensorflow/stream_executor/gpu/redzone_allocator.cc:314] Internal: ptxas exited with non-zero error code 256, output: \n",
      "Relying on driver to perform ptx compilation. \n",
      "Modify $PATH to customize ptxas location.\n",
      "This message will be only logged once.\n",
      "2022-02-24 15:36:18.288629: W tensorflow/core/common_runtime/bfc_allocator.cc:248] Allocator (GPU_0_bfc) ran out of memory trying to allocate 2.30GiB with freed_by_count=0. The caller indicates that this is not a failure, but may mean that there could be performance gains if more memory were available.\n",
      "2022-02-24 15:36:18.356186: W tensorflow/core/common_runtime/bfc_allocator.cc:248] Allocator (GPU_0_bfc) ran out of memory trying to allocate 2.30GiB with freed_by_count=0. The caller indicates that this is not a failure, but may mean that there could be performance gains if more memory were available.\n",
      "2022-02-24 15:36:19.170764: W tensorflow/core/common_runtime/bfc_allocator.cc:248] Allocator (GPU_0_bfc) ran out of memory trying to allocate 2.41GiB with freed_by_count=0. The caller indicates that this is not a failure, but may mean that there could be performance gains if more memory were available.\n",
      "2022-02-24 15:36:19.239502: W tensorflow/core/common_runtime/bfc_allocator.cc:248] Allocator (GPU_0_bfc) ran out of memory trying to allocate 2.41GiB with freed_by_count=0. The caller indicates that this is not a failure, but may mean that there could be performance gains if more memory were available.\n"
     ]
    },
    {
     "name": "stdout",
     "output_type": "stream",
     "text": [
      "255/255 [==============================] - 127s 399ms/step - loss: 0.9062 - val_loss: 0.7757 - val_rmse: 0.1314\n",
      "Epoch 2/10\n",
      "255/255 [==============================] - 100s 391ms/step - loss: 0.7283 - val_loss: 0.6892 - val_rmse: 0.1383\n",
      "Epoch 3/10\n",
      "255/255 [==============================] - 99s 389ms/step - loss: 0.6762 - val_loss: 0.6565 - val_rmse: 0.1965\n",
      "Epoch 4/10\n",
      "255/255 [==============================] - 99s 390ms/step - loss: 0.6534 - val_loss: 0.6300 - val_rmse: 0.1699\n",
      "Epoch 5/10\n",
      "255/255 [==============================] - 99s 390ms/step - loss: 0.6379 - val_loss: 0.6190 - val_rmse: 0.1685\n",
      "Epoch 6/10\n",
      "255/255 [==============================] - 99s 390ms/step - loss: 0.6293 - val_loss: 0.6083 - val_rmse: 0.1574\n",
      "Epoch 7/10\n",
      "255/255 [==============================] - 99s 390ms/step - loss: 0.6230 - val_loss: 0.5994 - val_rmse: 0.1336\n",
      "Epoch 8/10\n",
      "255/255 [==============================] - 99s 390ms/step - loss: 0.6180 - val_loss: 0.5942 - val_rmse: 0.1406\n",
      "Epoch 9/10\n",
      "255/255 [==============================] - 100s 391ms/step - loss: 0.6163 - val_loss: 0.5879 - val_rmse: 0.1138\n",
      "Epoch 10/10\n",
      "255/255 [==============================] - 100s 391ms/step - loss: 0.6113 - val_loss: 0.5826 - val_rmse: 0.1058\n"
     ]
    }
   ],
   "source": [
    "history = siamese_model.fit(train_dl, validation_data=val_dl, epochs=10) # save"
   ]
  },
  {
   "cell_type": "markdown",
   "id": "e8e6f774",
   "metadata": {},
   "source": [
    "### RMSE as difference between rmsd and ap - an distances"
   ]
  },
  {
   "cell_type": "code",
   "execution_count": 79,
   "id": "1d8c23de",
   "metadata": {},
   "outputs": [
    {
     "name": "stdout",
     "output_type": "stream",
     "text": [
      "Epoch 1/10\n",
      "255/255 [==============================] - 100s 392ms/step - loss: 0.6096 - val_loss: 0.5829 - val_rmse: 0.1029\n",
      "Epoch 2/10\n",
      "255/255 [==============================] - 99s 389ms/step - loss: 0.6066 - val_loss: 0.5808 - val_rmse: 0.1156\n",
      "Epoch 3/10\n",
      "255/255 [==============================] - 100s 394ms/step - loss: 0.6054 - val_loss: 0.5796 - val_rmse: 0.1011\n",
      "Epoch 4/10\n",
      "255/255 [==============================] - 101s 396ms/step - loss: 0.6023 - val_loss: 0.5784 - val_rmse: 0.1266\n",
      "Epoch 5/10\n",
      "255/255 [==============================] - 101s 395ms/step - loss: 0.6016 - val_loss: 0.5771 - val_rmse: 0.1095\n",
      "Epoch 6/10\n",
      "255/255 [==============================] - 100s 393ms/step - loss: 0.6008 - val_loss: 0.5760 - val_rmse: 0.1078\n",
      "Epoch 7/10\n",
      "255/255 [==============================] - 100s 394ms/step - loss: 0.6000 - val_loss: 0.5827 - val_rmse: 0.1175\n",
      "Epoch 8/10\n",
      "255/255 [==============================] - 101s 396ms/step - loss: 0.5983 - val_loss: 0.5768 - val_rmse: 0.1303\n",
      "Epoch 9/10\n",
      " 52/255 [=====>........................] - ETA: 57s - loss: 0.6034"
     ]
    },
    {
     "ename": "KeyboardInterrupt",
     "evalue": "",
     "output_type": "error",
     "traceback": [
      "\u001b[0;31m---------------------------------------------------------------------------\u001b[0m",
      "\u001b[0;31mKeyboardInterrupt\u001b[0m                         Traceback (most recent call last)",
      "\u001b[0;32m/tmp/ipykernel_33356/2906422062.py\u001b[0m in \u001b[0;36m<module>\u001b[0;34m\u001b[0m\n\u001b[0;32m----> 1\u001b[0;31m \u001b[0mhistory\u001b[0m \u001b[0;34m=\u001b[0m \u001b[0msiamese_model\u001b[0m\u001b[0;34m.\u001b[0m\u001b[0mfit\u001b[0m\u001b[0;34m(\u001b[0m\u001b[0mtrain_dl\u001b[0m\u001b[0;34m,\u001b[0m \u001b[0mvalidation_data\u001b[0m\u001b[0;34m=\u001b[0m\u001b[0mval_dl\u001b[0m\u001b[0;34m,\u001b[0m \u001b[0mepochs\u001b[0m\u001b[0;34m=\u001b[0m\u001b[0;36m10\u001b[0m\u001b[0;34m)\u001b[0m\u001b[0;34m\u001b[0m\u001b[0;34m\u001b[0m\u001b[0m\n\u001b[0m",
      "\u001b[0;32m~/anaconda3/envs/tf_gpu/lib/python3.9/site-packages/tensorflow/python/keras/engine/training.py\u001b[0m in \u001b[0;36mfit\u001b[0;34m(self, x, y, batch_size, epochs, verbose, callbacks, validation_split, validation_data, shuffle, class_weight, sample_weight, initial_epoch, steps_per_epoch, validation_steps, validation_batch_size, validation_freq, max_queue_size, workers, use_multiprocessing)\u001b[0m\n\u001b[1;32m   1103\u001b[0m               \u001b[0mlogs\u001b[0m \u001b[0;34m=\u001b[0m \u001b[0mtmp_logs\u001b[0m  \u001b[0;31m# No error, now safe to assign to logs.\u001b[0m\u001b[0;34m\u001b[0m\u001b[0;34m\u001b[0m\u001b[0m\n\u001b[1;32m   1104\u001b[0m               \u001b[0mend_step\u001b[0m \u001b[0;34m=\u001b[0m \u001b[0mstep\u001b[0m \u001b[0;34m+\u001b[0m \u001b[0mdata_handler\u001b[0m\u001b[0;34m.\u001b[0m\u001b[0mstep_increment\u001b[0m\u001b[0;34m\u001b[0m\u001b[0;34m\u001b[0m\u001b[0m\n\u001b[0;32m-> 1105\u001b[0;31m               \u001b[0mcallbacks\u001b[0m\u001b[0;34m.\u001b[0m\u001b[0mon_train_batch_end\u001b[0m\u001b[0;34m(\u001b[0m\u001b[0mend_step\u001b[0m\u001b[0;34m,\u001b[0m \u001b[0mlogs\u001b[0m\u001b[0;34m)\u001b[0m\u001b[0;34m\u001b[0m\u001b[0;34m\u001b[0m\u001b[0m\n\u001b[0m\u001b[1;32m   1106\u001b[0m               \u001b[0;32mif\u001b[0m \u001b[0mself\u001b[0m\u001b[0;34m.\u001b[0m\u001b[0mstop_training\u001b[0m\u001b[0;34m:\u001b[0m\u001b[0;34m\u001b[0m\u001b[0;34m\u001b[0m\u001b[0m\n\u001b[1;32m   1107\u001b[0m                 \u001b[0;32mbreak\u001b[0m\u001b[0;34m\u001b[0m\u001b[0;34m\u001b[0m\u001b[0m\n",
      "\u001b[0;32m~/anaconda3/envs/tf_gpu/lib/python3.9/site-packages/tensorflow/python/keras/callbacks.py\u001b[0m in \u001b[0;36mon_train_batch_end\u001b[0;34m(self, batch, logs)\u001b[0m\n\u001b[1;32m    452\u001b[0m     \"\"\"\n\u001b[1;32m    453\u001b[0m     \u001b[0;32mif\u001b[0m \u001b[0mself\u001b[0m\u001b[0;34m.\u001b[0m\u001b[0m_should_call_train_batch_hooks\u001b[0m\u001b[0;34m:\u001b[0m\u001b[0;34m\u001b[0m\u001b[0;34m\u001b[0m\u001b[0m\n\u001b[0;32m--> 454\u001b[0;31m       \u001b[0mself\u001b[0m\u001b[0;34m.\u001b[0m\u001b[0m_call_batch_hook\u001b[0m\u001b[0;34m(\u001b[0m\u001b[0mModeKeys\u001b[0m\u001b[0;34m.\u001b[0m\u001b[0mTRAIN\u001b[0m\u001b[0;34m,\u001b[0m \u001b[0;34m'end'\u001b[0m\u001b[0;34m,\u001b[0m \u001b[0mbatch\u001b[0m\u001b[0;34m,\u001b[0m \u001b[0mlogs\u001b[0m\u001b[0;34m=\u001b[0m\u001b[0mlogs\u001b[0m\u001b[0;34m)\u001b[0m\u001b[0;34m\u001b[0m\u001b[0;34m\u001b[0m\u001b[0m\n\u001b[0m\u001b[1;32m    455\u001b[0m \u001b[0;34m\u001b[0m\u001b[0m\n\u001b[1;32m    456\u001b[0m   \u001b[0;32mdef\u001b[0m \u001b[0mon_test_batch_begin\u001b[0m\u001b[0;34m(\u001b[0m\u001b[0mself\u001b[0m\u001b[0;34m,\u001b[0m \u001b[0mbatch\u001b[0m\u001b[0;34m,\u001b[0m \u001b[0mlogs\u001b[0m\u001b[0;34m=\u001b[0m\u001b[0;32mNone\u001b[0m\u001b[0;34m)\u001b[0m\u001b[0;34m:\u001b[0m\u001b[0;34m\u001b[0m\u001b[0;34m\u001b[0m\u001b[0m\n",
      "\u001b[0;32m~/anaconda3/envs/tf_gpu/lib/python3.9/site-packages/tensorflow/python/keras/callbacks.py\u001b[0m in \u001b[0;36m_call_batch_hook\u001b[0;34m(self, mode, hook, batch, logs)\u001b[0m\n\u001b[1;32m    294\u001b[0m       \u001b[0mself\u001b[0m\u001b[0;34m.\u001b[0m\u001b[0m_call_batch_begin_hook\u001b[0m\u001b[0;34m(\u001b[0m\u001b[0mmode\u001b[0m\u001b[0;34m,\u001b[0m \u001b[0mbatch\u001b[0m\u001b[0;34m,\u001b[0m \u001b[0mlogs\u001b[0m\u001b[0;34m)\u001b[0m\u001b[0;34m\u001b[0m\u001b[0;34m\u001b[0m\u001b[0m\n\u001b[1;32m    295\u001b[0m     \u001b[0;32melif\u001b[0m \u001b[0mhook\u001b[0m \u001b[0;34m==\u001b[0m \u001b[0;34m'end'\u001b[0m\u001b[0;34m:\u001b[0m\u001b[0;34m\u001b[0m\u001b[0;34m\u001b[0m\u001b[0m\n\u001b[0;32m--> 296\u001b[0;31m       \u001b[0mself\u001b[0m\u001b[0;34m.\u001b[0m\u001b[0m_call_batch_end_hook\u001b[0m\u001b[0;34m(\u001b[0m\u001b[0mmode\u001b[0m\u001b[0;34m,\u001b[0m \u001b[0mbatch\u001b[0m\u001b[0;34m,\u001b[0m \u001b[0mlogs\u001b[0m\u001b[0;34m)\u001b[0m\u001b[0;34m\u001b[0m\u001b[0;34m\u001b[0m\u001b[0m\n\u001b[0m\u001b[1;32m    297\u001b[0m     \u001b[0;32melse\u001b[0m\u001b[0;34m:\u001b[0m\u001b[0;34m\u001b[0m\u001b[0;34m\u001b[0m\u001b[0m\n\u001b[1;32m    298\u001b[0m       \u001b[0;32mraise\u001b[0m \u001b[0mValueError\u001b[0m\u001b[0;34m(\u001b[0m\u001b[0;34m'Unrecognized hook: {}'\u001b[0m\u001b[0;34m.\u001b[0m\u001b[0mformat\u001b[0m\u001b[0;34m(\u001b[0m\u001b[0mhook\u001b[0m\u001b[0;34m)\u001b[0m\u001b[0;34m)\u001b[0m\u001b[0;34m\u001b[0m\u001b[0;34m\u001b[0m\u001b[0m\n",
      "\u001b[0;32m~/anaconda3/envs/tf_gpu/lib/python3.9/site-packages/tensorflow/python/keras/callbacks.py\u001b[0m in \u001b[0;36m_call_batch_end_hook\u001b[0;34m(self, mode, batch, logs)\u001b[0m\n\u001b[1;32m    314\u001b[0m       \u001b[0mself\u001b[0m\u001b[0;34m.\u001b[0m\u001b[0m_batch_times\u001b[0m\u001b[0;34m.\u001b[0m\u001b[0mappend\u001b[0m\u001b[0;34m(\u001b[0m\u001b[0mbatch_time\u001b[0m\u001b[0;34m)\u001b[0m\u001b[0;34m\u001b[0m\u001b[0;34m\u001b[0m\u001b[0m\n\u001b[1;32m    315\u001b[0m \u001b[0;34m\u001b[0m\u001b[0m\n\u001b[0;32m--> 316\u001b[0;31m     \u001b[0mself\u001b[0m\u001b[0;34m.\u001b[0m\u001b[0m_call_batch_hook_helper\u001b[0m\u001b[0;34m(\u001b[0m\u001b[0mhook_name\u001b[0m\u001b[0;34m,\u001b[0m \u001b[0mbatch\u001b[0m\u001b[0;34m,\u001b[0m \u001b[0mlogs\u001b[0m\u001b[0;34m)\u001b[0m\u001b[0;34m\u001b[0m\u001b[0;34m\u001b[0m\u001b[0m\n\u001b[0m\u001b[1;32m    317\u001b[0m \u001b[0;34m\u001b[0m\u001b[0m\n\u001b[1;32m    318\u001b[0m     \u001b[0;32mif\u001b[0m \u001b[0mlen\u001b[0m\u001b[0;34m(\u001b[0m\u001b[0mself\u001b[0m\u001b[0;34m.\u001b[0m\u001b[0m_batch_times\u001b[0m\u001b[0;34m)\u001b[0m \u001b[0;34m>=\u001b[0m \u001b[0mself\u001b[0m\u001b[0;34m.\u001b[0m\u001b[0m_num_batches_for_timing_check\u001b[0m\u001b[0;34m:\u001b[0m\u001b[0;34m\u001b[0m\u001b[0;34m\u001b[0m\u001b[0m\n",
      "\u001b[0;32m~/anaconda3/envs/tf_gpu/lib/python3.9/site-packages/tensorflow/python/keras/callbacks.py\u001b[0m in \u001b[0;36m_call_batch_hook_helper\u001b[0;34m(self, hook_name, batch, logs)\u001b[0m\n\u001b[1;32m    354\u001b[0m       \u001b[0mhook\u001b[0m \u001b[0;34m=\u001b[0m \u001b[0mgetattr\u001b[0m\u001b[0;34m(\u001b[0m\u001b[0mcallback\u001b[0m\u001b[0;34m,\u001b[0m \u001b[0mhook_name\u001b[0m\u001b[0;34m)\u001b[0m\u001b[0;34m\u001b[0m\u001b[0;34m\u001b[0m\u001b[0m\n\u001b[1;32m    355\u001b[0m       \u001b[0;32mif\u001b[0m \u001b[0mgetattr\u001b[0m\u001b[0;34m(\u001b[0m\u001b[0mcallback\u001b[0m\u001b[0;34m,\u001b[0m \u001b[0;34m'_supports_tf_logs'\u001b[0m\u001b[0;34m,\u001b[0m \u001b[0;32mFalse\u001b[0m\u001b[0;34m)\u001b[0m\u001b[0;34m:\u001b[0m\u001b[0;34m\u001b[0m\u001b[0;34m\u001b[0m\u001b[0m\n\u001b[0;32m--> 356\u001b[0;31m         \u001b[0mhook\u001b[0m\u001b[0;34m(\u001b[0m\u001b[0mbatch\u001b[0m\u001b[0;34m,\u001b[0m \u001b[0mlogs\u001b[0m\u001b[0;34m)\u001b[0m\u001b[0;34m\u001b[0m\u001b[0;34m\u001b[0m\u001b[0m\n\u001b[0m\u001b[1;32m    357\u001b[0m       \u001b[0;32melse\u001b[0m\u001b[0;34m:\u001b[0m\u001b[0;34m\u001b[0m\u001b[0;34m\u001b[0m\u001b[0m\n\u001b[1;32m    358\u001b[0m         \u001b[0;32mif\u001b[0m \u001b[0mnumpy_logs\u001b[0m \u001b[0;32mis\u001b[0m \u001b[0;32mNone\u001b[0m\u001b[0;34m:\u001b[0m  \u001b[0;31m# Only convert once.\u001b[0m\u001b[0;34m\u001b[0m\u001b[0;34m\u001b[0m\u001b[0m\n",
      "\u001b[0;32m~/anaconda3/envs/tf_gpu/lib/python3.9/site-packages/tensorflow/python/keras/callbacks.py\u001b[0m in \u001b[0;36mon_train_batch_end\u001b[0;34m(self, batch, logs)\u001b[0m\n\u001b[1;32m   1018\u001b[0m \u001b[0;34m\u001b[0m\u001b[0m\n\u001b[1;32m   1019\u001b[0m   \u001b[0;32mdef\u001b[0m \u001b[0mon_train_batch_end\u001b[0m\u001b[0;34m(\u001b[0m\u001b[0mself\u001b[0m\u001b[0;34m,\u001b[0m \u001b[0mbatch\u001b[0m\u001b[0;34m,\u001b[0m \u001b[0mlogs\u001b[0m\u001b[0;34m=\u001b[0m\u001b[0;32mNone\u001b[0m\u001b[0;34m)\u001b[0m\u001b[0;34m:\u001b[0m\u001b[0;34m\u001b[0m\u001b[0;34m\u001b[0m\u001b[0m\n\u001b[0;32m-> 1020\u001b[0;31m     \u001b[0mself\u001b[0m\u001b[0;34m.\u001b[0m\u001b[0m_batch_update_progbar\u001b[0m\u001b[0;34m(\u001b[0m\u001b[0mbatch\u001b[0m\u001b[0;34m,\u001b[0m \u001b[0mlogs\u001b[0m\u001b[0;34m)\u001b[0m\u001b[0;34m\u001b[0m\u001b[0;34m\u001b[0m\u001b[0m\n\u001b[0m\u001b[1;32m   1021\u001b[0m \u001b[0;34m\u001b[0m\u001b[0m\n\u001b[1;32m   1022\u001b[0m   \u001b[0;32mdef\u001b[0m \u001b[0mon_test_batch_end\u001b[0m\u001b[0;34m(\u001b[0m\u001b[0mself\u001b[0m\u001b[0;34m,\u001b[0m \u001b[0mbatch\u001b[0m\u001b[0;34m,\u001b[0m \u001b[0mlogs\u001b[0m\u001b[0;34m=\u001b[0m\u001b[0;32mNone\u001b[0m\u001b[0;34m)\u001b[0m\u001b[0;34m:\u001b[0m\u001b[0;34m\u001b[0m\u001b[0;34m\u001b[0m\u001b[0m\n",
      "\u001b[0;32m~/anaconda3/envs/tf_gpu/lib/python3.9/site-packages/tensorflow/python/keras/callbacks.py\u001b[0m in \u001b[0;36m_batch_update_progbar\u001b[0;34m(self, batch, logs)\u001b[0m\n\u001b[1;32m   1082\u001b[0m     \u001b[0;32mif\u001b[0m \u001b[0mself\u001b[0m\u001b[0;34m.\u001b[0m\u001b[0mverbose\u001b[0m \u001b[0;34m==\u001b[0m \u001b[0;36m1\u001b[0m\u001b[0;34m:\u001b[0m\u001b[0;34m\u001b[0m\u001b[0;34m\u001b[0m\u001b[0m\n\u001b[1;32m   1083\u001b[0m       \u001b[0;31m# Only block async when verbose = 1.\u001b[0m\u001b[0;34m\u001b[0m\u001b[0;34m\u001b[0m\u001b[0m\n\u001b[0;32m-> 1084\u001b[0;31m       \u001b[0mlogs\u001b[0m \u001b[0;34m=\u001b[0m \u001b[0mtf_utils\u001b[0m\u001b[0;34m.\u001b[0m\u001b[0mto_numpy_or_python_type\u001b[0m\u001b[0;34m(\u001b[0m\u001b[0mlogs\u001b[0m\u001b[0;34m)\u001b[0m\u001b[0;34m\u001b[0m\u001b[0;34m\u001b[0m\u001b[0m\n\u001b[0m\u001b[1;32m   1085\u001b[0m       \u001b[0mself\u001b[0m\u001b[0;34m.\u001b[0m\u001b[0mprogbar\u001b[0m\u001b[0;34m.\u001b[0m\u001b[0mupdate\u001b[0m\u001b[0;34m(\u001b[0m\u001b[0mself\u001b[0m\u001b[0;34m.\u001b[0m\u001b[0mseen\u001b[0m\u001b[0;34m,\u001b[0m \u001b[0mlist\u001b[0m\u001b[0;34m(\u001b[0m\u001b[0mlogs\u001b[0m\u001b[0;34m.\u001b[0m\u001b[0mitems\u001b[0m\u001b[0;34m(\u001b[0m\u001b[0;34m)\u001b[0m\u001b[0;34m)\u001b[0m\u001b[0;34m,\u001b[0m \u001b[0mfinalize\u001b[0m\u001b[0;34m=\u001b[0m\u001b[0;32mFalse\u001b[0m\u001b[0;34m)\u001b[0m\u001b[0;34m\u001b[0m\u001b[0;34m\u001b[0m\u001b[0m\n\u001b[1;32m   1086\u001b[0m \u001b[0;34m\u001b[0m\u001b[0m\n",
      "\u001b[0;32m~/anaconda3/envs/tf_gpu/lib/python3.9/site-packages/tensorflow/python/keras/utils/tf_utils.py\u001b[0m in \u001b[0;36mto_numpy_or_python_type\u001b[0;34m(tensors)\u001b[0m\n\u001b[1;32m    512\u001b[0m     \u001b[0;32mreturn\u001b[0m \u001b[0mt\u001b[0m  \u001b[0;31m# Don't turn ragged or sparse tensors to NumPy.\u001b[0m\u001b[0;34m\u001b[0m\u001b[0;34m\u001b[0m\u001b[0m\n\u001b[1;32m    513\u001b[0m \u001b[0;34m\u001b[0m\u001b[0m\n\u001b[0;32m--> 514\u001b[0;31m   \u001b[0;32mreturn\u001b[0m \u001b[0mnest\u001b[0m\u001b[0;34m.\u001b[0m\u001b[0mmap_structure\u001b[0m\u001b[0;34m(\u001b[0m\u001b[0m_to_single_numpy_or_python_type\u001b[0m\u001b[0;34m,\u001b[0m \u001b[0mtensors\u001b[0m\u001b[0;34m)\u001b[0m\u001b[0;34m\u001b[0m\u001b[0;34m\u001b[0m\u001b[0m\n\u001b[0m\u001b[1;32m    515\u001b[0m \u001b[0;34m\u001b[0m\u001b[0m\n\u001b[1;32m    516\u001b[0m \u001b[0;34m\u001b[0m\u001b[0m\n",
      "\u001b[0;32m~/anaconda3/envs/tf_gpu/lib/python3.9/site-packages/tensorflow/python/util/nest.py\u001b[0m in \u001b[0;36mmap_structure\u001b[0;34m(func, *structure, **kwargs)\u001b[0m\n\u001b[1;32m    657\u001b[0m \u001b[0;34m\u001b[0m\u001b[0m\n\u001b[1;32m    658\u001b[0m   return pack_sequence_as(\n\u001b[0;32m--> 659\u001b[0;31m       \u001b[0mstructure\u001b[0m\u001b[0;34m[\u001b[0m\u001b[0;36m0\u001b[0m\u001b[0;34m]\u001b[0m\u001b[0;34m,\u001b[0m \u001b[0;34m[\u001b[0m\u001b[0mfunc\u001b[0m\u001b[0;34m(\u001b[0m\u001b[0;34m*\u001b[0m\u001b[0mx\u001b[0m\u001b[0;34m)\u001b[0m \u001b[0;32mfor\u001b[0m \u001b[0mx\u001b[0m \u001b[0;32min\u001b[0m \u001b[0mentries\u001b[0m\u001b[0;34m]\u001b[0m\u001b[0;34m,\u001b[0m\u001b[0;34m\u001b[0m\u001b[0;34m\u001b[0m\u001b[0m\n\u001b[0m\u001b[1;32m    660\u001b[0m       expand_composites=expand_composites)\n\u001b[1;32m    661\u001b[0m \u001b[0;34m\u001b[0m\u001b[0m\n",
      "\u001b[0;32m~/anaconda3/envs/tf_gpu/lib/python3.9/site-packages/tensorflow/python/util/nest.py\u001b[0m in \u001b[0;36m<listcomp>\u001b[0;34m(.0)\u001b[0m\n\u001b[1;32m    657\u001b[0m \u001b[0;34m\u001b[0m\u001b[0m\n\u001b[1;32m    658\u001b[0m   return pack_sequence_as(\n\u001b[0;32m--> 659\u001b[0;31m       \u001b[0mstructure\u001b[0m\u001b[0;34m[\u001b[0m\u001b[0;36m0\u001b[0m\u001b[0;34m]\u001b[0m\u001b[0;34m,\u001b[0m \u001b[0;34m[\u001b[0m\u001b[0mfunc\u001b[0m\u001b[0;34m(\u001b[0m\u001b[0;34m*\u001b[0m\u001b[0mx\u001b[0m\u001b[0;34m)\u001b[0m \u001b[0;32mfor\u001b[0m \u001b[0mx\u001b[0m \u001b[0;32min\u001b[0m \u001b[0mentries\u001b[0m\u001b[0;34m]\u001b[0m\u001b[0;34m,\u001b[0m\u001b[0;34m\u001b[0m\u001b[0;34m\u001b[0m\u001b[0m\n\u001b[0m\u001b[1;32m    660\u001b[0m       expand_composites=expand_composites)\n\u001b[1;32m    661\u001b[0m \u001b[0;34m\u001b[0m\u001b[0m\n",
      "\u001b[0;32m~/anaconda3/envs/tf_gpu/lib/python3.9/site-packages/tensorflow/python/keras/utils/tf_utils.py\u001b[0m in \u001b[0;36m_to_single_numpy_or_python_type\u001b[0;34m(t)\u001b[0m\n\u001b[1;32m    508\u001b[0m   \u001b[0;32mdef\u001b[0m \u001b[0m_to_single_numpy_or_python_type\u001b[0m\u001b[0;34m(\u001b[0m\u001b[0mt\u001b[0m\u001b[0;34m)\u001b[0m\u001b[0;34m:\u001b[0m\u001b[0;34m\u001b[0m\u001b[0;34m\u001b[0m\u001b[0m\n\u001b[1;32m    509\u001b[0m     \u001b[0;32mif\u001b[0m \u001b[0misinstance\u001b[0m\u001b[0;34m(\u001b[0m\u001b[0mt\u001b[0m\u001b[0;34m,\u001b[0m \u001b[0mops\u001b[0m\u001b[0;34m.\u001b[0m\u001b[0mTensor\u001b[0m\u001b[0;34m)\u001b[0m\u001b[0;34m:\u001b[0m\u001b[0;34m\u001b[0m\u001b[0;34m\u001b[0m\u001b[0m\n\u001b[0;32m--> 510\u001b[0;31m       \u001b[0mx\u001b[0m \u001b[0;34m=\u001b[0m \u001b[0mt\u001b[0m\u001b[0;34m.\u001b[0m\u001b[0mnumpy\u001b[0m\u001b[0;34m(\u001b[0m\u001b[0;34m)\u001b[0m\u001b[0;34m\u001b[0m\u001b[0;34m\u001b[0m\u001b[0m\n\u001b[0m\u001b[1;32m    511\u001b[0m       \u001b[0;32mreturn\u001b[0m \u001b[0mx\u001b[0m\u001b[0;34m.\u001b[0m\u001b[0mitem\u001b[0m\u001b[0;34m(\u001b[0m\u001b[0;34m)\u001b[0m \u001b[0;32mif\u001b[0m \u001b[0mnp\u001b[0m\u001b[0;34m.\u001b[0m\u001b[0mndim\u001b[0m\u001b[0;34m(\u001b[0m\u001b[0mx\u001b[0m\u001b[0;34m)\u001b[0m \u001b[0;34m==\u001b[0m \u001b[0;36m0\u001b[0m \u001b[0;32melse\u001b[0m \u001b[0mx\u001b[0m\u001b[0;34m\u001b[0m\u001b[0;34m\u001b[0m\u001b[0m\n\u001b[1;32m    512\u001b[0m     \u001b[0;32mreturn\u001b[0m \u001b[0mt\u001b[0m  \u001b[0;31m# Don't turn ragged or sparse tensors to NumPy.\u001b[0m\u001b[0;34m\u001b[0m\u001b[0;34m\u001b[0m\u001b[0m\n",
      "\u001b[0;32m~/anaconda3/envs/tf_gpu/lib/python3.9/site-packages/tensorflow/python/framework/ops.py\u001b[0m in \u001b[0;36mnumpy\u001b[0;34m(self)\u001b[0m\n\u001b[1;32m   1069\u001b[0m     \"\"\"\n\u001b[1;32m   1070\u001b[0m     \u001b[0;31m# TODO(slebedev): Consider avoiding a copy for non-CPU or remote tensors.\u001b[0m\u001b[0;34m\u001b[0m\u001b[0;34m\u001b[0m\u001b[0m\n\u001b[0;32m-> 1071\u001b[0;31m     \u001b[0mmaybe_arr\u001b[0m \u001b[0;34m=\u001b[0m \u001b[0mself\u001b[0m\u001b[0;34m.\u001b[0m\u001b[0m_numpy\u001b[0m\u001b[0;34m(\u001b[0m\u001b[0;34m)\u001b[0m  \u001b[0;31m# pylint: disable=protected-access\u001b[0m\u001b[0;34m\u001b[0m\u001b[0;34m\u001b[0m\u001b[0m\n\u001b[0m\u001b[1;32m   1072\u001b[0m     \u001b[0;32mreturn\u001b[0m \u001b[0mmaybe_arr\u001b[0m\u001b[0;34m.\u001b[0m\u001b[0mcopy\u001b[0m\u001b[0;34m(\u001b[0m\u001b[0;34m)\u001b[0m \u001b[0;32mif\u001b[0m \u001b[0misinstance\u001b[0m\u001b[0;34m(\u001b[0m\u001b[0mmaybe_arr\u001b[0m\u001b[0;34m,\u001b[0m \u001b[0mnp\u001b[0m\u001b[0;34m.\u001b[0m\u001b[0mndarray\u001b[0m\u001b[0;34m)\u001b[0m \u001b[0;32melse\u001b[0m \u001b[0mmaybe_arr\u001b[0m\u001b[0;34m\u001b[0m\u001b[0;34m\u001b[0m\u001b[0m\n\u001b[1;32m   1073\u001b[0m \u001b[0;34m\u001b[0m\u001b[0m\n",
      "\u001b[0;32m~/anaconda3/envs/tf_gpu/lib/python3.9/site-packages/tensorflow/python/framework/ops.py\u001b[0m in \u001b[0;36m_numpy\u001b[0;34m(self)\u001b[0m\n\u001b[1;32m   1035\u001b[0m   \u001b[0;32mdef\u001b[0m \u001b[0m_numpy\u001b[0m\u001b[0;34m(\u001b[0m\u001b[0mself\u001b[0m\u001b[0;34m)\u001b[0m\u001b[0;34m:\u001b[0m\u001b[0;34m\u001b[0m\u001b[0;34m\u001b[0m\u001b[0m\n\u001b[1;32m   1036\u001b[0m     \u001b[0;32mtry\u001b[0m\u001b[0;34m:\u001b[0m\u001b[0;34m\u001b[0m\u001b[0;34m\u001b[0m\u001b[0m\n\u001b[0;32m-> 1037\u001b[0;31m       \u001b[0;32mreturn\u001b[0m \u001b[0mself\u001b[0m\u001b[0;34m.\u001b[0m\u001b[0m_numpy_internal\u001b[0m\u001b[0;34m(\u001b[0m\u001b[0;34m)\u001b[0m\u001b[0;34m\u001b[0m\u001b[0;34m\u001b[0m\u001b[0m\n\u001b[0m\u001b[1;32m   1038\u001b[0m     \u001b[0;32mexcept\u001b[0m \u001b[0mcore\u001b[0m\u001b[0;34m.\u001b[0m\u001b[0m_NotOkStatusException\u001b[0m \u001b[0;32mas\u001b[0m \u001b[0me\u001b[0m\u001b[0;34m:\u001b[0m  \u001b[0;31m# pylint: disable=protected-access\u001b[0m\u001b[0;34m\u001b[0m\u001b[0;34m\u001b[0m\u001b[0m\n\u001b[1;32m   1039\u001b[0m       \u001b[0msix\u001b[0m\u001b[0;34m.\u001b[0m\u001b[0mraise_from\u001b[0m\u001b[0;34m(\u001b[0m\u001b[0mcore\u001b[0m\u001b[0;34m.\u001b[0m\u001b[0m_status_to_exception\u001b[0m\u001b[0;34m(\u001b[0m\u001b[0me\u001b[0m\u001b[0;34m.\u001b[0m\u001b[0mcode\u001b[0m\u001b[0;34m,\u001b[0m \u001b[0me\u001b[0m\u001b[0;34m.\u001b[0m\u001b[0mmessage\u001b[0m\u001b[0;34m)\u001b[0m\u001b[0;34m,\u001b[0m \u001b[0;32mNone\u001b[0m\u001b[0;34m)\u001b[0m  \u001b[0;31m# pylint: disable=protected-access\u001b[0m\u001b[0;34m\u001b[0m\u001b[0;34m\u001b[0m\u001b[0m\n",
      "\u001b[0;31mKeyboardInterrupt\u001b[0m: "
     ]
    }
   ],
   "source": [
    "history = siamese_model.fit(train_dl, validation_data=val_dl, epochs=10)"
   ]
  },
  {
   "cell_type": "code",
   "execution_count": 80,
   "id": "16da6be3",
   "metadata": {},
   "outputs": [
    {
     "data": {
      "image/png": "[encoded data removed]",
      "text/plain": [
       "<Figure size 432x288 with 1 Axes>"
      ]
     },
     "metadata": {
      "needs_background": "light"
     },
     "output_type": "display_data"
    }
   ],
   "source": [
    "plt.plot(history.history['loss'])\n",
    "plt.plot(history.history['val_loss'])\n",
    "plt.title('model loss')\n",
    "plt.ylabel('loss')\n",
    "plt.xlabel('epoch')\n",
    "plt.legend(['train', 'val'], loc='upper left')\n",
    "plt.show()"
   ]
  },
  {
   "cell_type": "code",
   "execution_count": null,
   "id": "1fcae9dc",
   "metadata": {},
   "outputs": [],
   "source": []
  },
  {
   "cell_type": "markdown",
   "id": "04d07625",
   "metadata": {},
   "source": [
    "## Inspecting what the network has learned"
   ]
  },
  {
   "cell_type": "code",
   "execution_count": 81,
   "id": "ea551dd8",
   "metadata": {},
   "outputs": [
    {
     "name": "stdout",
     "output_type": "stream",
     "text": [
      "tf.Tensor(1.3719418, shape=(), dtype=float32)\n",
      "tf.Tensor(1.3045418, shape=(), dtype=float32)\n",
      "tf.Tensor(1.3134549, shape=(), dtype=float32)\n"
     ]
    },
    {
     "data": {
      "image/png": "[encoded data removed]",
      "text/plain": [
       "<Figure size 648x648 with 9 Axes>"
      ]
     },
     "metadata": {
      "needs_background": "light"
     },
     "output_type": "display_data"
    }
   ],
   "source": [
    "sample = next(iter(val_dl))\n",
    "visualize2(*sample)\n",
    "\n",
    "anchor, positive, negative, _ = sample\n",
    "anchor_embedding, positive_embedding, negative_embedding = (\n",
    "    embedding(resnet.preprocess_input(anchor)),\n",
    "    embedding(resnet.preprocess_input(positive)),\n",
    "    embedding(resnet.preprocess_input(negative)),\n",
    ")"
   ]
  },
  {
   "cell_type": "code",
   "execution_count": 82,
   "id": "297293de",
   "metadata": {},
   "outputs": [
    {
     "name": "stdout",
     "output_type": "stream",
     "text": [
      "Positive similarity: 0.9988131\n",
      "Negative similarity 0.95865756\n"
     ]
    }
   ],
   "source": [
    "cosine_similarity = metrics.CosineSimilarity()\n",
    "\n",
    "positive_similarity = cosine_similarity(anchor_embedding, positive_embedding)\n",
    "print(\"Positive similarity:\", positive_similarity.numpy())\n",
    "\n",
    "negative_similarity = cosine_similarity(anchor_embedding, negative_embedding)\n",
    "print(\"Negative similarity\", negative_similarity.numpy())\n"
   ]
  },
  {
   "cell_type": "code",
   "execution_count": null,
   "id": "731f6dd8",
   "metadata": {},
   "outputs": [],
   "source": [
    "from mpl_toolkits.mplot3d import Axes3D\n",
    "import os, sys, cv2, matplotlib.pyplot as plt, numpy as np, pickle\n",
    "#import sklearn, pandas as pd, seaborn as sn\n",
    "from tensorflow.keras.models import Model, load_model, Sequential\n",
    "from tensorflow.keras import backend as K\n",
    "from sklearn.metrics import confusion_matrix\n",
    "\n",
    "import warnings\n",
    "warnings.filterwarnings('ignore')\n",
    "\n",
    "# Load models\n",
    "#model = embedding\n",
    "model = siamese_model\n",
    "\n",
    "names = next(iter(val_dl))\n",
    "\n",
    "anchor, positive, negative, rmsd = names\n",
    "anchor = tf.reshape(anchor[0], (1, 224, 224, 3))\n",
    "positive = tf.reshape(positive[0], (1, 224, 224, 3))\n",
    "negative = tf.reshape(negative[0], (1, 224, 224, 3))\n",
    "rmsd = tf.reshape(rmsd[0], (1, 1))\n",
    "\n",
    "\n",
    "test_im = []\n",
    "test_im.append(anchor)\n",
    "test_im.append(positive)\n",
    "test_im.append(negative)\n",
    "\n",
    "print(test_im[0].shape)\n",
    "_, r,c,_ = test_im[0].shape\n",
    "print(test_im[0].shape)\n",
    "test_im = np.array(test_im)\n",
    "test_im = test_im.reshape((len(test_im), r,c,3))\n",
    "\n",
    "test_im = 1 - test_im/255\n",
    "\n",
    "# Predict\n",
    "pred = model.predict([anchor, positive, negative, rmsd])\n",
    "\n",
    "print(pred)\n",
    "\n",
    "num = int(pred.shape[0]/3)\n",
    "colors = ['red', 'blue', 'green'] # set colors of target labels\n",
    "\n",
    "# Set target labels\n",
    "y = [colors[0] for i in range(num)]\n",
    "y += [colors[1] for i in range(num)]\n",
    "y += [colors[2] for i in range(num)]\n",
    "\n",
    "feat1 = pred[:,0]\n",
    "feat2 = pred[:,1]\n",
    "feat3 = pred[:,2]\n",
    "\n",
    "# Plot 3d scatter plot\n",
    "fig = plt.figure()\n",
    "ax = Axes3D(fig)\n",
    "ax.scatter(feat1, feat2, feat3, c=y, marker='.')\n",
    "plt.show()"
   ]
  },
  {
   "cell_type": "markdown",
   "id": "f54dcd02",
   "metadata": {},
   "source": [
    "# Parameter optimization "
   ]
  },
  {
   "cell_type": "code",
   "execution_count": null,
   "id": "ffc59a15",
   "metadata": {},
   "outputs": [],
   "source": [
    "def create_embedding(dropout = None):\n",
    "    base_cnn = resnet.ResNet50(\n",
    "        weights=\"imagenet\", input_shape=target_shape +  (3,), include_top=False\n",
    "    )\n",
    "\n",
    "    flatten = layers.Flatten()(base_cnn.output)\n",
    "    dense1 = layers.Dense(512, activation=\"relu\")(flatten)\n",
    "    dense1 = layers.BatchNormalization()(dense1)\n",
    "    if dropout != None: \n",
    "        layer = layers.Dropout(dropout)\n",
    "    dense2 = layers.Dense(256, activation=\"relu\")(dense1)\n",
    "    dense2 = layers.BatchNormalization()(dense2)\n",
    "    output = layers.Dense(256)(dense2)\n",
    "\n",
    "    embedding = Model(base_cnn.input, output, name=\"Embedding\")\n",
    "\n",
    "    trainable = False\n",
    "    for layer in base_cnn.layers:\n",
    "        if layer.name == \"conv5_block1_out\":\n",
    "            trainable = True\n",
    "        layer.trainable = trainable\n",
    "    return embedding"
   ]
  },
  {
   "cell_type": "code",
   "execution_count": null,
   "id": "5854fc56",
   "metadata": {},
   "outputs": [],
   "source": [
    "def create_siamese_net(embedding):\n",
    "    anchor_input = layers.Input(name=\"anchor\", shape=target_shape + (3,))\n",
    "    positive_input = layers.Input(name=\"positive\", shape=target_shape + (3,))\n",
    "    negative_input = layers.Input(name=\"negative\", shape=target_shape + (3,))\n",
    "\n",
    "    distances = DistanceLayer()(\n",
    "        embedding(resnet.preprocess_input(anchor_input)),\n",
    "        embedding(resnet.preprocess_input(positive_input)),\n",
    "        embedding(resnet.preprocess_input(negative_input)),\n",
    "    )\n",
    "\n",
    "    siamese_network = Model(\n",
    "        inputs=[anchor_input, positive_input, negative_input], outputs=distances\n",
    "    )\n",
    "\n",
    "    return siamese_network"
   ]
  },
  {
   "cell_type": "code",
   "execution_count": null,
   "id": "a5bb9634",
   "metadata": {},
   "outputs": [],
   "source": [
    "def train_model(epochs = 5, lr=0.0001, margin = 1.5, dropout=None, verbose=False):\n",
    "    embedding = create_embedding(dropout=dropout)\n",
    "    siamese_network = create_siamese_net(embedding)\n",
    "    siamese_model = SiameseModel(siamese_network, margin=margin)\n",
    "    siamese_model.compile(optimizer=optimizers.Adam(learning_rate=lr), metrics=[metrics.RootMeanSquaredError(name='rmse')])\n",
    "    model = siamese_model.fit(train_dl, validation_data=val_dl, epochs=epochs)\n",
    "    if verbose:\n",
    "        plt.plot(model.history['loss'])\n",
    "        plt.plot(model.history['val_loss'])\n",
    "        plt.title('model loss')\n",
    "        plt.ylabel('loss')\n",
    "        plt.xlabel('epoch')\n",
    "        plt.legend(['train', 'val'], loc='upper left')\n",
    "        plt.show()\n",
    "        plt.plot(model.history['val_rmse'])\n",
    "        plt.title('model RMSE')\n",
    "        plt.ylabel('RMSE')\n",
    "        plt.xlabel('epoch')\n",
    "        plt.legend(['rmse'], loc='upper left')\n",
    "        plt.show()\n",
    "    return siamese_model\n",
    "        \n",
    "    "
   ]
  },
  {
   "cell_type": "markdown",
   "id": "ba4f22e8",
   "metadata": {},
   "source": [
    "# Test the model performance on instances"
   ]
  },
  {
   "cell_type": "code",
   "execution_count": 60,
   "id": "0851c70f",
   "metadata": {},
   "outputs": [],
   "source": [
    "from tensorflow.keras import models"
   ]
  },
  {
   "cell_type": "code",
   "execution_count": 85,
   "id": "9e6f1398",
   "metadata": {},
   "outputs": [
    {
     "data": {
      "text/plain": [
       "(TensorShape([None]), TensorShape([None]), TensorShape([None, 1]))"
      ]
     },
     "execution_count": 85,
     "metadata": {},
     "output_type": "execute_result"
    }
   ],
   "source": [
    "siamese_model.compute_output_shape(input_shape= [(None, 224, 224, 3), (None, 224, 224, 3), (None, 224, 224, 3), (None, 1)])                        "
   ]
  },
  {
   "cell_type": "code",
   "execution_count": 87,
   "id": "7444ab7f",
   "metadata": {},
   "outputs": [
    {
     "name": "stderr",
     "output_type": "stream",
     "text": [
      "2022-02-24 16:07:33.851329: W tensorflow/python/util/util.cc:348] Sets are not currently considered sequences, but this may change in the future, so consider avoiding using them.\n"
     ]
    },
    {
     "name": "stdout",
     "output_type": "stream",
     "text": [
      "INFO:tensorflow:Assets written to: models/siamese_model/assets\n"
     ]
    }
   ],
   "source": [
    "siamese_model.save('models/siamese_model')"
   ]
  },
  {
   "cell_type": "code",
   "execution_count": 61,
   "id": "4b814891",
   "metadata": {},
   "outputs": [],
   "source": [
    "model = models.load_model('models/siamese_model')"
   ]
  },
  {
   "cell_type": "code",
   "execution_count": 62,
   "id": "59d0ff31",
   "metadata": {},
   "outputs": [],
   "source": [
    "sample = next(iter(val_dl))"
   ]
  },
  {
   "cell_type": "code",
   "execution_count": 63,
   "id": "adedcf86",
   "metadata": {},
   "outputs": [
    {
     "data": {
      "text/plain": [
       "'2XBX_RR8'"
      ]
     },
     "execution_count": 63,
     "metadata": {},
     "output_type": "execute_result"
    }
   ],
   "source": [
    "docked_sample = valid.iloc[0]\n",
    "docked_sample.docked"
   ]
  },
  {
   "cell_type": "code",
   "execution_count": 64,
   "id": "22c17baf",
   "metadata": {},
   "outputs": [],
   "source": [
    "docked_image = preprocess_image(docked_sample.img_docked)"
   ]
  },
  {
   "cell_type": "markdown",
   "id": "847adea9",
   "metadata": {},
   "source": [
    "### Sort the templates for one docked molecule by order of lowest rmsd"
   ]
  },
  {
   "cell_type": "code",
   "execution_count": 65,
   "id": "45f05dd6",
   "metadata": {},
   "outputs": [],
   "source": [
    "test = pd.read_csv(path/'test_oldsmiledata_id_processed_transformed_shuffled.csv')"
   ]
  },
  {
   "cell_type": "code",
   "execution_count": 66,
   "id": "9955c58f",
   "metadata": {},
   "outputs": [],
   "source": [
    "test['img_temp'] = test['template'] + '.png'\n",
    "test['img_docked'] = test['docked'] + '.png'"
   ]
  },
  {
   "cell_type": "code",
   "execution_count": 67,
   "id": "df5537f8",
   "metadata": {},
   "outputs": [
    {
     "data": {
      "text/plain": [
       "'3SHC_B01'"
      ]
     },
     "execution_count": 67,
     "metadata": {},
     "output_type": "execute_result"
    }
   ],
   "source": [
    "docked_sample = test.iloc[0]\n",
    "docked_sample.docked"
   ]
  },
  {
   "cell_type": "code",
   "execution_count": 92,
   "id": "5ec56ec7",
   "metadata": {},
   "outputs": [],
   "source": [
    "df = pd.concat([valid, test])"
   ]
  },
  {
   "cell_type": "code",
   "execution_count": 93,
   "id": "5d6bbc2a",
   "metadata": {
    "scrolled": true
   },
   "outputs": [
    {
     "data": {
      "text/html": [
       "<div>\n",
       "<style scoped>\n",
       "    .dataframe tbody tr th:only-of-type {\n",
       "        vertical-align: middle;\n",
       "    }\n",
       "\n",
       "    .dataframe tbody tr th {\n",
       "        vertical-align: top;\n",
       "    }\n",
       "\n",
       "    .dataframe thead th {\n",
       "        text-align: right;\n",
       "    }\n",
       "</style>\n",
       "<table border=\"1\" class=\"dataframe\">\n",
       "  <thead>\n",
       "    <tr style=\"text-align: right;\">\n",
       "      <th></th>\n",
       "      <th>index</th>\n",
       "      <th>template</th>\n",
       "      <th>docked</th>\n",
       "      <th>rmsd</th>\n",
       "      <th>uniprot_id</th>\n",
       "      <th>smiles_template</th>\n",
       "      <th>smiles_docked</th>\n",
       "      <th>mcs_smartsString</th>\n",
       "      <th>template_HeavyAtomCount</th>\n",
       "      <th>template_NHOHCount</th>\n",
       "      <th>...</th>\n",
       "      <th>mcs_docked_NumRotatableBonds</th>\n",
       "      <th>ec_tanimoto_similarity</th>\n",
       "      <th>fc_tanimoto_similarity</th>\n",
       "      <th>log_RMSD</th>\n",
       "      <th>bin_RMSD</th>\n",
       "      <th>Xtransf_ec_tanimoto_similarity</th>\n",
       "      <th>Xtransf_fc_tanimoto_similarity</th>\n",
       "      <th>is_valid</th>\n",
       "      <th>img_temp</th>\n",
       "      <th>img_docked</th>\n",
       "    </tr>\n",
       "  </thead>\n",
       "  <tbody>\n",
       "    <tr>\n",
       "      <th>0</th>\n",
       "      <td>4319</td>\n",
       "      <td>4UDW_N6L</td>\n",
       "      <td>3SHC_B01</td>\n",
       "      <td>0.371</td>\n",
       "      <td>P00734</td>\n",
       "      <td>N[C@H](Cc1ccccc1)C(=O)N1CCC[C@H]1C(=O)NCc1cc(C...</td>\n",
       "      <td>N[C@H](Cc1ccccc1)C(=O)N1CCC[C@H]1C(=O)NCc1cc(C...</td>\n",
       "      <td>[#7]-[#6](-[#6]-[#6]1:[#6]:[#6]:[#6]:[#6]:[#6]...</td>\n",
       "      <td>28</td>\n",
       "      <td>3</td>\n",
       "      <td>...</td>\n",
       "      <td>7</td>\n",
       "      <td>0.683761</td>\n",
       "      <td>0.683761</td>\n",
       "      <td>-0.991553</td>\n",
       "      <td>1</td>\n",
       "      <td>4.837607</td>\n",
       "      <td>3.837607</td>\n",
       "      <td>True</td>\n",
       "      <td>4UDW_N6L.png</td>\n",
       "      <td>3SHC_B01.png</td>\n",
       "    </tr>\n",
       "    <tr>\n",
       "      <th>1</th>\n",
       "      <td>3807</td>\n",
       "      <td>2ZC9_22U</td>\n",
       "      <td>3SHC_B01</td>\n",
       "      <td>0.399</td>\n",
       "      <td>P00734</td>\n",
       "      <td>N[C@H](Cc1ccccc1)C(=O)N1CCC[C@H]1C(=O)NCc1cccc...</td>\n",
       "      <td>N[C@H](Cc1ccccc1)C(=O)N1CCC[C@H]1C(=O)NCc1cc(C...</td>\n",
       "      <td>[#7]-[#6](-[#6]-[#6]1:[#6]:[#6]:[#6]:[#6]:[#6]...</td>\n",
       "      <td>27</td>\n",
       "      <td>3</td>\n",
       "      <td>...</td>\n",
       "      <td>7</td>\n",
       "      <td>0.701754</td>\n",
       "      <td>0.701754</td>\n",
       "      <td>-0.918794</td>\n",
       "      <td>1</td>\n",
       "      <td>5.017544</td>\n",
       "      <td>4.017544</td>\n",
       "      <td>True</td>\n",
       "      <td>2ZC9_22U.png</td>\n",
       "      <td>3SHC_B01.png</td>\n",
       "    </tr>\n",
       "    <tr>\n",
       "      <th>2</th>\n",
       "      <td>1615</td>\n",
       "      <td>3QX5_02P</td>\n",
       "      <td>3SHC_B01</td>\n",
       "      <td>0.417</td>\n",
       "      <td>P00734</td>\n",
       "      <td>C[n+]1ccc(Cl)cc1CNC(=O)[C@@H]1CCCN1C(=O)[C@H](...</td>\n",
       "      <td>N[C@H](Cc1ccccc1)C(=O)N1CCC[C@H]1C(=O)NCc1cc(C...</td>\n",
       "      <td>[#7]-[#6](-[#6]-[#6]1:[#6]:[#6]:[#6]:[#6]:[#6]...</td>\n",
       "      <td>28</td>\n",
       "      <td>3</td>\n",
       "      <td>...</td>\n",
       "      <td>7</td>\n",
       "      <td>0.683761</td>\n",
       "      <td>0.683761</td>\n",
       "      <td>-0.874669</td>\n",
       "      <td>1</td>\n",
       "      <td>4.837607</td>\n",
       "      <td>3.837607</td>\n",
       "      <td>True</td>\n",
       "      <td>3QX5_02P.png</td>\n",
       "      <td>3SHC_B01.png</td>\n",
       "    </tr>\n",
       "    <tr>\n",
       "      <th>3</th>\n",
       "      <td>502</td>\n",
       "      <td>3QTV_06P</td>\n",
       "      <td>3SHC_B01</td>\n",
       "      <td>0.654</td>\n",
       "      <td>P00734</td>\n",
       "      <td>C[n+]1ccc(CNC(=O)[C@@H]2CCCN2C(=O)[C@H](N)Cc2c...</td>\n",
       "      <td>N[C@H](Cc1ccccc1)C(=O)N1CCC[C@H]1C(=O)NCc1cc(C...</td>\n",
       "      <td>[#6]:[#6]:[#6]-[#6]-[#7]-[#6](=[#8])-[#6]1-[#6...</td>\n",
       "      <td>27</td>\n",
       "      <td>3</td>\n",
       "      <td>...</td>\n",
       "      <td>7</td>\n",
       "      <td>0.621849</td>\n",
       "      <td>0.649573</td>\n",
       "      <td>-0.424648</td>\n",
       "      <td>1</td>\n",
       "      <td>4.218487</td>\n",
       "      <td>3.495726</td>\n",
       "      <td>NaN</td>\n",
       "      <td>3QTV_06P.png</td>\n",
       "      <td>3SHC_B01.png</td>\n",
       "    </tr>\n",
       "    <tr>\n",
       "      <th>4</th>\n",
       "      <td>2743</td>\n",
       "      <td>1SL3_170</td>\n",
       "      <td>3SHC_B01</td>\n",
       "      <td>0.730</td>\n",
       "      <td>P00734</td>\n",
       "      <td>O=C(Cn1c(Cl)cnc(NCC(F)(F)c2cccc[n+]2[O-])c1=O)...</td>\n",
       "      <td>N[C@H](Cc1ccccc1)C(=O)N1CCC[C@H]1C(=O)NCc1cc(C...</td>\n",
       "      <td>[#6](-[#6]-,:[#6]:[#6]:[#6]:[#6])-[#6]-[#7]-[#...</td>\n",
       "      <td>37</td>\n",
       "      <td>2</td>\n",
       "      <td>...</td>\n",
       "      <td>7</td>\n",
       "      <td>0.175258</td>\n",
       "      <td>0.212766</td>\n",
       "      <td>-0.314711</td>\n",
       "      <td>1</td>\n",
       "      <td>-0.247423</td>\n",
       "      <td>-0.872340</td>\n",
       "      <td>True</td>\n",
       "      <td>1SL3_170.png</td>\n",
       "      <td>3SHC_B01.png</td>\n",
       "    </tr>\n",
       "    <tr>\n",
       "      <th>5</th>\n",
       "      <td>4433</td>\n",
       "      <td>3SI3_B03</td>\n",
       "      <td>3SHC_B01</td>\n",
       "      <td>1.250</td>\n",
       "      <td>P00734</td>\n",
       "      <td>N[C@H](Cc1ccccc1)C(=O)N1CCC[C@H]1C(=O)NCc1ccccn1</td>\n",
       "      <td>N[C@H](Cc1ccccc1)C(=O)N1CCC[C@H]1C(=O)NCc1cc(C...</td>\n",
       "      <td>[#7]-[#6](-[#6]-[#6]1:[#6]:[#6]:[#6]:[#6]:[#6]...</td>\n",
       "      <td>26</td>\n",
       "      <td>3</td>\n",
       "      <td>...</td>\n",
       "      <td>7</td>\n",
       "      <td>0.736364</td>\n",
       "      <td>0.836538</td>\n",
       "      <td>0.223144</td>\n",
       "      <td>1</td>\n",
       "      <td>5.363636</td>\n",
       "      <td>5.365385</td>\n",
       "      <td>True</td>\n",
       "      <td>3SI3_B03.png</td>\n",
       "      <td>3SHC_B01.png</td>\n",
       "    </tr>\n",
       "    <tr>\n",
       "      <th>6</th>\n",
       "      <td>1218</td>\n",
       "      <td>1AIX_T19</td>\n",
       "      <td>3SHC_B01</td>\n",
       "      <td>1.562</td>\n",
       "      <td>P00734</td>\n",
       "      <td>CC(C)[C@H](NC(=O)c1cccn1C(=O)[C@H](NC(=O)OCc1c...</td>\n",
       "      <td>N[C@H](Cc1ccccc1)C(=O)N1CCC[C@H]1C(=O)NCc1cc(C...</td>\n",
       "      <td>[#7]-[#6](-[#6]-[#6]1:[#6]:[#6]:[#6]:[#6]:[#6]...</td>\n",
       "      <td>42</td>\n",
       "      <td>4</td>\n",
       "      <td>...</td>\n",
       "      <td>7</td>\n",
       "      <td>0.173913</td>\n",
       "      <td>0.233503</td>\n",
       "      <td>0.445967</td>\n",
       "      <td>1</td>\n",
       "      <td>-0.260870</td>\n",
       "      <td>-0.664975</td>\n",
       "      <td>True</td>\n",
       "      <td>1AIX_T19.png</td>\n",
       "      <td>3SHC_B01.png</td>\n",
       "    </tr>\n",
       "    <tr>\n",
       "      <th>7</th>\n",
       "      <td>769</td>\n",
       "      <td>3C1K_T15</td>\n",
       "      <td>3SHC_B01</td>\n",
       "      <td>1.595</td>\n",
       "      <td>P00734</td>\n",
       "      <td>Cc1ncn(CC(=O)NC(C)(C)C)c1CNC(=O)Cn1c(C)ccc(NS(...</td>\n",
       "      <td>N[C@H](Cc1ccccc1)C(=O)N1CCC[C@H]1C(=O)NCc1cc(C...</td>\n",
       "      <td>[#7]-[#6](-,:[#6]-,:[#6])-,:[#6](=[#8])-,:[#7]...</td>\n",
       "      <td>38</td>\n",
       "      <td>3</td>\n",
       "      <td>...</td>\n",
       "      <td>7</td>\n",
       "      <td>0.208556</td>\n",
       "      <td>0.298851</td>\n",
       "      <td>0.466874</td>\n",
       "      <td>1</td>\n",
       "      <td>0.085561</td>\n",
       "      <td>-0.011494</td>\n",
       "      <td>NaN</td>\n",
       "      <td>3C1K_T15.png</td>\n",
       "      <td>3SHC_B01.png</td>\n",
       "    </tr>\n",
       "    <tr>\n",
       "      <th>8</th>\n",
       "      <td>39</td>\n",
       "      <td>3DHK_23U</td>\n",
       "      <td>3SHC_B01</td>\n",
       "      <td>2.520</td>\n",
       "      <td>P00734</td>\n",
       "      <td>N[C@@H](C(=O)N1CCC[C@H]1C(=O)NCc1cccc(Cl)c1)C(...</td>\n",
       "      <td>N[C@H](Cc1ccccc1)C(=O)N1CCC[C@H]1C(=O)NCc1cc(C...</td>\n",
       "      <td>[#7]-[#6](-[#6]-[#6]1:[#6]:[#6]:[#6]:[#6]:[#6]...</td>\n",
       "      <td>33</td>\n",
       "      <td>3</td>\n",
       "      <td>...</td>\n",
       "      <td>7</td>\n",
       "      <td>0.430464</td>\n",
       "      <td>0.489655</td>\n",
       "      <td>0.924259</td>\n",
       "      <td>2</td>\n",
       "      <td>2.304636</td>\n",
       "      <td>1.896552</td>\n",
       "      <td>True</td>\n",
       "      <td>3DHK_23U.png</td>\n",
       "      <td>3SHC_B01.png</td>\n",
       "    </tr>\n",
       "    <tr>\n",
       "      <th>9</th>\n",
       "      <td>77</td>\n",
       "      <td>2C8X_C5M</td>\n",
       "      <td>3SHC_B01</td>\n",
       "      <td>2.904</td>\n",
       "      <td>P00734</td>\n",
       "      <td>COc1cc(C)c(S(=O)(=O)NC[C@@H](O)[C@H](Cc2ccccc2...</td>\n",
       "      <td>N[C@H](Cc1ccccc1)C(=O)N1CCC[C@H]1C(=O)NCc1cc(C...</td>\n",
       "      <td>[#6](-[#6]-,:[#6]:[#6]:[#6]:[#6]:[#6])-[#6]-[#...</td>\n",
       "      <td>35</td>\n",
       "      <td>3</td>\n",
       "      <td>...</td>\n",
       "      <td>5</td>\n",
       "      <td>0.225989</td>\n",
       "      <td>0.323171</td>\n",
       "      <td>1.066089</td>\n",
       "      <td>2</td>\n",
       "      <td>0.259887</td>\n",
       "      <td>0.231707</td>\n",
       "      <td>NaN</td>\n",
       "      <td>2C8X_C5M.png</td>\n",
       "      <td>3SHC_B01.png</td>\n",
       "    </tr>\n",
       "    <tr>\n",
       "      <th>10</th>\n",
       "      <td>2778</td>\n",
       "      <td>1MUE_CDD</td>\n",
       "      <td>3SHC_B01</td>\n",
       "      <td>2.973</td>\n",
       "      <td>P00734</td>\n",
       "      <td>O=C(Cn1c(Cl)cnc(NCC(F)(F)c2cccc[n+]2[O-])c1=O)...</td>\n",
       "      <td>N[C@H](Cc1ccccc1)C(=O)N1CCC[C@H]1C(=O)NCc1cc(C...</td>\n",
       "      <td>[#6](-[#6]-,:[#6]:[#6]:[#6]:[#6])-[#6]-[#7]-[#...</td>\n",
       "      <td>32</td>\n",
       "      <td>2</td>\n",
       "      <td>...</td>\n",
       "      <td>7</td>\n",
       "      <td>0.187500</td>\n",
       "      <td>0.266667</td>\n",
       "      <td>1.089572</td>\n",
       "      <td>2</td>\n",
       "      <td>-0.125000</td>\n",
       "      <td>-0.333333</td>\n",
       "      <td>True</td>\n",
       "      <td>1MUE_CDD.png</td>\n",
       "      <td>3SHC_B01.png</td>\n",
       "    </tr>\n",
       "    <tr>\n",
       "      <th>11</th>\n",
       "      <td>4376</td>\n",
       "      <td>4UD9_FQI</td>\n",
       "      <td>3SHC_B01</td>\n",
       "      <td>3.136</td>\n",
       "      <td>P00734</td>\n",
       "      <td>NC(=O)c1ccc(Cl)s1</td>\n",
       "      <td>N[C@H](Cc1ccccc1)C(=O)N1CCC[C@H]1C(=O)NCc1cc(C...</td>\n",
       "      <td>[#7]-[#6](=[#8])-[#6]:,-[#6]:,-[#6]:[#6]</td>\n",
       "      <td>9</td>\n",
       "      <td>2</td>\n",
       "      <td>...</td>\n",
       "      <td>4</td>\n",
       "      <td>0.108108</td>\n",
       "      <td>0.138889</td>\n",
       "      <td>1.142948</td>\n",
       "      <td>3</td>\n",
       "      <td>-0.918919</td>\n",
       "      <td>-1.611111</td>\n",
       "      <td>True</td>\n",
       "      <td>4UD9_FQI.png</td>\n",
       "      <td>3SHC_B01.png</td>\n",
       "    </tr>\n",
       "    <tr>\n",
       "      <th>12</th>\n",
       "      <td>1273</td>\n",
       "      <td>5AFY_WCE</td>\n",
       "      <td>3SHC_B01</td>\n",
       "      <td>3.787</td>\n",
       "      <td>P00734</td>\n",
       "      <td>NC(=O)c1cccc(Cl)c1</td>\n",
       "      <td>N[C@H](Cc1ccccc1)C(=O)N1CCC[C@H]1C(=O)NCc1cc(C...</td>\n",
       "      <td>[#7]-[#6](=[#8])-[#6]:,-[#6]:,-[#6]:[#6]:[#6]:...</td>\n",
       "      <td>10</td>\n",
       "      <td>2</td>\n",
       "      <td>...</td>\n",
       "      <td>4</td>\n",
       "      <td>0.163636</td>\n",
       "      <td>0.196262</td>\n",
       "      <td>1.331574</td>\n",
       "      <td>3</td>\n",
       "      <td>-0.363636</td>\n",
       "      <td>-1.037383</td>\n",
       "      <td>True</td>\n",
       "      <td>5AFY_WCE.png</td>\n",
       "      <td>3SHC_B01.png</td>\n",
       "    </tr>\n",
       "    <tr>\n",
       "      <th>13</th>\n",
       "      <td>646</td>\n",
       "      <td>2ZGB_21U</td>\n",
       "      <td>3SHC_B01</td>\n",
       "      <td>5.562</td>\n",
       "      <td>P00734</td>\n",
       "      <td>CC(C)C[C@@H](N)C(=O)N1CCC[C@H]1C(=O)NCc1cccc(C...</td>\n",
       "      <td>N[C@H](Cc1ccccc1)C(=O)N1CCC[C@H]1C(=O)NCc1cc(C...</td>\n",
       "      <td>[#6]-,:[#6](-,:[#6])-[#6]-[#6](-[#7])-[#6](=[#...</td>\n",
       "      <td>24</td>\n",
       "      <td>3</td>\n",
       "      <td>...</td>\n",
       "      <td>7</td>\n",
       "      <td>0.467213</td>\n",
       "      <td>0.479339</td>\n",
       "      <td>1.715958</td>\n",
       "      <td>3</td>\n",
       "      <td>2.672131</td>\n",
       "      <td>1.793388</td>\n",
       "      <td>True</td>\n",
       "      <td>2ZGB_21U.png</td>\n",
       "      <td>3SHC_B01.png</td>\n",
       "    </tr>\n",
       "    <tr>\n",
       "      <th>14</th>\n",
       "      <td>2568</td>\n",
       "      <td>1A4W_QWE</td>\n",
       "      <td>3SHC_B01</td>\n",
       "      <td>6.682</td>\n",
       "      <td>P00734</td>\n",
       "      <td>CN(C)c1cccc2c(S(=O)(=O)N[C@@H](CCCNC(N)=[NH2+]...</td>\n",
       "      <td>N[C@H](Cc1ccccc1)C(=O)N1CCC[C@H]1C(=O)NCc1cc(C...</td>\n",
       "      <td>[#6](-[#6]-[#6]:,-[#6]:,-[#6]:,-[#6]:,-[#6]:,-...</td>\n",
       "      <td>42</td>\n",
       "      <td>6</td>\n",
       "      <td>...</td>\n",
       "      <td>6</td>\n",
       "      <td>0.206897</td>\n",
       "      <td>0.289474</td>\n",
       "      <td>1.899417</td>\n",
       "      <td>3</td>\n",
       "      <td>0.068966</td>\n",
       "      <td>-0.105263</td>\n",
       "      <td>True</td>\n",
       "      <td>1A4W_QWE.png</td>\n",
       "      <td>3SHC_B01.png</td>\n",
       "    </tr>\n",
       "    <tr>\n",
       "      <th>15</th>\n",
       "      <td>0</td>\n",
       "      <td>2C8Y_C3M</td>\n",
       "      <td>3SHC_B01</td>\n",
       "      <td>6.732</td>\n",
       "      <td>P00734</td>\n",
       "      <td>N[C@@H](Cc1ccccc1)[C@H](O)CNS(=O)(=O)c1ccc2ccc...</td>\n",
       "      <td>N[C@H](Cc1ccccc1)C(=O)N1CCC[C@H]1C(=O)NCc1cc(C...</td>\n",
       "      <td>[#7]-[#6](-[#6]-[#6]1:[#6]:[#6]:[#6]:[#6]:[#6]...</td>\n",
       "      <td>26</td>\n",
       "      <td>4</td>\n",
       "      <td>...</td>\n",
       "      <td>3</td>\n",
       "      <td>0.240260</td>\n",
       "      <td>0.308219</td>\n",
       "      <td>1.906872</td>\n",
       "      <td>3</td>\n",
       "      <td>0.402597</td>\n",
       "      <td>0.082192</td>\n",
       "      <td>NaN</td>\n",
       "      <td>2C8Y_C3M.png</td>\n",
       "      <td>3SHC_B01.png</td>\n",
       "    </tr>\n",
       "    <tr>\n",
       "      <th>16</th>\n",
       "      <td>4260</td>\n",
       "      <td>2JH5_895</td>\n",
       "      <td>3SHC_B01</td>\n",
       "      <td>6.905</td>\n",
       "      <td>P00734</td>\n",
       "      <td>C[C@@H](C(=O)N1CCOCC1)N1CC[C@H](NS(=O)(=O)/C=C...</td>\n",
       "      <td>N[C@H](Cc1ccccc1)C(=O)N1CCC[C@H]1C(=O)NCc1cc(C...</td>\n",
       "      <td>[#7]-[#6](-[#6]-[#6])-[#6](=[#8])-[#7]-[#6](-[...</td>\n",
       "      <td>28</td>\n",
       "      <td>1</td>\n",
       "      <td>...</td>\n",
       "      <td>7</td>\n",
       "      <td>0.135294</td>\n",
       "      <td>0.221519</td>\n",
       "      <td>1.932246</td>\n",
       "      <td>3</td>\n",
       "      <td>-0.647059</td>\n",
       "      <td>-0.784810</td>\n",
       "      <td>True</td>\n",
       "      <td>2JH5_895.png</td>\n",
       "      <td>3SHC_B01.png</td>\n",
       "    </tr>\n",
       "    <tr>\n",
       "      <th>17</th>\n",
       "      <td>3237</td>\n",
       "      <td>1ZGV_501</td>\n",
       "      <td>3SHC_B01</td>\n",
       "      <td>7.216</td>\n",
       "      <td>P00734</td>\n",
       "      <td>CCCCNc1cc(C)nc2nc(Nc3cc(Cl)ccc3C)nn12</td>\n",
       "      <td>N[C@H](Cc1ccccc1)C(=O)N1CCC[C@H]1C(=O)NCc1cc(C...</td>\n",
       "      <td>[#6]-[#6]-[#6]-[#6]-[#7]-[#6]:,-[#6]:,-[#6]-[#6]</td>\n",
       "      <td>24</td>\n",
       "      <td>2</td>\n",
       "      <td>...</td>\n",
       "      <td>4</td>\n",
       "      <td>0.115152</td>\n",
       "      <td>0.218543</td>\n",
       "      <td>1.976301</td>\n",
       "      <td>3</td>\n",
       "      <td>-0.848485</td>\n",
       "      <td>-0.814570</td>\n",
       "      <td>True</td>\n",
       "      <td>1ZGV_501.png</td>\n",
       "      <td>3SHC_B01.png</td>\n",
       "    </tr>\n",
       "    <tr>\n",
       "      <th>18</th>\n",
       "      <td>318</td>\n",
       "      <td>1GHW_BMZ</td>\n",
       "      <td>3SHC_B01</td>\n",
       "      <td>7.320</td>\n",
       "      <td>P00734</td>\n",
       "      <td>NC(=[NH2+])c1ccc2[nH]c(-c3ccccc3O)nc2c1</td>\n",
       "      <td>N[C@H](Cc1ccccc1)C(=O)N1CCC[C@H]1C(=O)NCc1cc(C...</td>\n",
       "      <td>[#7]-[#6]-[#6]:,-[#6]:,-[#6]:,-[#6]:,-[#7]:,-[...</td>\n",
       "      <td>19</td>\n",
       "      <td>6</td>\n",
       "      <td>...</td>\n",
       "      <td>5</td>\n",
       "      <td>0.145833</td>\n",
       "      <td>0.178571</td>\n",
       "      <td>1.990610</td>\n",
       "      <td>3</td>\n",
       "      <td>-0.541667</td>\n",
       "      <td>-1.214286</td>\n",
       "      <td>NaN</td>\n",
       "      <td>1GHW_BMZ.png</td>\n",
       "      <td>3SHC_B01.png</td>\n",
       "    </tr>\n",
       "    <tr>\n",
       "      <th>19</th>\n",
       "      <td>561</td>\n",
       "      <td>5AF9_SJR</td>\n",
       "      <td>3SHC_B01</td>\n",
       "      <td>7.676</td>\n",
       "      <td>P00734</td>\n",
       "      <td>COc1ccc(C(=O)Nc2ccccn2)cc1</td>\n",
       "      <td>N[C@H](Cc1ccccc1)C(=O)N1CCC[C@H]1C(=O)NCc1cc(C...</td>\n",
       "      <td>[#6](:[#6]:,-[#6]:,-[#6]-[#6](=[#8])-[#7]-[#6]...</td>\n",
       "      <td>17</td>\n",
       "      <td>1</td>\n",
       "      <td>...</td>\n",
       "      <td>5</td>\n",
       "      <td>0.181818</td>\n",
       "      <td>0.258065</td>\n",
       "      <td>2.038099</td>\n",
       "      <td>3</td>\n",
       "      <td>-0.181818</td>\n",
       "      <td>-0.419355</td>\n",
       "      <td>True</td>\n",
       "      <td>5AF9_SJR.png</td>\n",
       "      <td>3SHC_B01.png</td>\n",
       "    </tr>\n",
       "    <tr>\n",
       "      <th>20</th>\n",
       "      <td>4555</td>\n",
       "      <td>1NM6_L86</td>\n",
       "      <td>3SHC_B01</td>\n",
       "      <td>7.743</td>\n",
       "      <td>P00734</td>\n",
       "      <td>O=C1Cn2c(Cl)cnc(c2=O)N[C@@H](Cc2ccccc2)CNCCCNC...</td>\n",
       "      <td>N[C@H](Cc1ccccc1)C(=O)N1CCC[C@H]1C(=O)NCc1cc(C...</td>\n",
       "      <td>[#6](-[#6]-,:[#6]:[#6]:[#6]:[#6]:[#6])-[#6]-[#...</td>\n",
       "      <td>36</td>\n",
       "      <td>4</td>\n",
       "      <td>...</td>\n",
       "      <td>7</td>\n",
       "      <td>0.194872</td>\n",
       "      <td>0.323864</td>\n",
       "      <td>2.046789</td>\n",
       "      <td>3</td>\n",
       "      <td>-0.051282</td>\n",
       "      <td>0.238636</td>\n",
       "      <td>True</td>\n",
       "      <td>1NM6_L86.png</td>\n",
       "      <td>3SHC_B01.png</td>\n",
       "    </tr>\n",
       "    <tr>\n",
       "      <th>21</th>\n",
       "      <td>289</td>\n",
       "      <td>2UUK_897</td>\n",
       "      <td>3SHC_B01</td>\n",
       "      <td>8.057</td>\n",
       "      <td>P00734</td>\n",
       "      <td>Cc1cc(OC[C@H](C)Nc2ccncc2)cc(C(=O)N(CCC(=O)NC(...</td>\n",
       "      <td>N[C@H](Cc1ccccc1)C(=O)N1CCC[C@H]1C(=O)NCc1cc(C...</td>\n",
       "      <td>[#6](-,:[#6]-,:[#6](:,-[#6]):[#6]:[#6]:[#6])-[...</td>\n",
       "      <td>33</td>\n",
       "      <td>2</td>\n",
       "      <td>...</td>\n",
       "      <td>5</td>\n",
       "      <td>0.137363</td>\n",
       "      <td>0.277778</td>\n",
       "      <td>2.086541</td>\n",
       "      <td>3</td>\n",
       "      <td>-0.626374</td>\n",
       "      <td>-0.222222</td>\n",
       "      <td>NaN</td>\n",
       "      <td>2UUK_897.png</td>\n",
       "      <td>3SHC_B01.png</td>\n",
       "    </tr>\n",
       "    <tr>\n",
       "      <th>22</th>\n",
       "      <td>4444</td>\n",
       "      <td>1MU6_CDA</td>\n",
       "      <td>3SHC_B01</td>\n",
       "      <td>8.155</td>\n",
       "      <td>P00734</td>\n",
       "      <td>Cc1cnc(NCC(F)(F)c2ccccn2)c(=O)n1CC(=O)NCc1ncccc1F</td>\n",
       "      <td>N[C@H](Cc1ccccc1)C(=O)N1CCC[C@H]1C(=O)NCc1cc(C...</td>\n",
       "      <td>[#6](-[#6]-,:[#6]:[#6]:[#6]:[#6])-[#6]-[#7]-[#...</td>\n",
       "      <td>31</td>\n",
       "      <td>2</td>\n",
       "      <td>...</td>\n",
       "      <td>7</td>\n",
       "      <td>0.170455</td>\n",
       "      <td>0.256098</td>\n",
       "      <td>2.098631</td>\n",
       "      <td>3</td>\n",
       "      <td>-0.295455</td>\n",
       "      <td>-0.439024</td>\n",
       "      <td>True</td>\n",
       "      <td>1MU6_CDA.png</td>\n",
       "      <td>3SHC_B01.png</td>\n",
       "    </tr>\n",
       "    <tr>\n",
       "      <th>23</th>\n",
       "      <td>420</td>\n",
       "      <td>1D3P_BT3</td>\n",
       "      <td>3SHC_B01</td>\n",
       "      <td>8.699</td>\n",
       "      <td>P00734</td>\n",
       "      <td>Oc1ccc2c(Cc3ccc(OCCN4CCCC4)cc3)c(-c3ccc(OCCN4C...</td>\n",
       "      <td>N[C@H](Cc1ccccc1)C(=O)N1CCC[C@H]1C(=O)NCc1cc(C...</td>\n",
       "      <td>[#6](-[#6]-,:[#6](:[#6]:[#6]):,-[#6]:,-[#6]:[#...</td>\n",
       "      <td>39</td>\n",
       "      <td>1</td>\n",
       "      <td>...</td>\n",
       "      <td>4</td>\n",
       "      <td>0.119816</td>\n",
       "      <td>0.191176</td>\n",
       "      <td>2.163208</td>\n",
       "      <td>3</td>\n",
       "      <td>-0.801843</td>\n",
       "      <td>-1.088235</td>\n",
       "      <td>NaN</td>\n",
       "      <td>1D3P_BT3.png</td>\n",
       "      <td>3SHC_B01.png</td>\n",
       "    </tr>\n",
       "  </tbody>\n",
       "</table>\n",
       "<p>24 rows × 45 columns</p>\n",
       "</div>"
      ],
      "text/plain": [
       "    index  template    docked   rmsd uniprot_id  \\\n",
       "0    4319  4UDW_N6L  3SHC_B01  0.371     P00734   \n",
       "1    3807  2ZC9_22U  3SHC_B01  0.399     P00734   \n",
       "2    1615  3QX5_02P  3SHC_B01  0.417     P00734   \n",
       "3     502  3QTV_06P  3SHC_B01  0.654     P00734   \n",
       "4    2743  1SL3_170  3SHC_B01  0.730     P00734   \n",
       "5    4433  3SI3_B03  3SHC_B01  1.250     P00734   \n",
       "6    1218  1AIX_T19  3SHC_B01  1.562     P00734   \n",
       "7     769  3C1K_T15  3SHC_B01  1.595     P00734   \n",
       "8      39  3DHK_23U  3SHC_B01  2.520     P00734   \n",
       "9      77  2C8X_C5M  3SHC_B01  2.904     P00734   \n",
       "10   2778  1MUE_CDD  3SHC_B01  2.973     P00734   \n",
       "11   4376  4UD9_FQI  3SHC_B01  3.136     P00734   \n",
       "12   1273  5AFY_WCE  3SHC_B01  3.787     P00734   \n",
       "13    646  2ZGB_21U  3SHC_B01  5.562     P00734   \n",
       "14   2568  1A4W_QWE  3SHC_B01  6.682     P00734   \n",
       "15      0  2C8Y_C3M  3SHC_B01  6.732     P00734   \n",
       "16   4260  2JH5_895  3SHC_B01  6.905     P00734   \n",
       "17   3237  1ZGV_501  3SHC_B01  7.216     P00734   \n",
       "18    318  1GHW_BMZ  3SHC_B01  7.320     P00734   \n",
       "19    561  5AF9_SJR  3SHC_B01  7.676     P00734   \n",
       "20   4555  1NM6_L86  3SHC_B01  7.743     P00734   \n",
       "21    289  2UUK_897  3SHC_B01  8.057     P00734   \n",
       "22   4444  1MU6_CDA  3SHC_B01  8.155     P00734   \n",
       "23    420  1D3P_BT3  3SHC_B01  8.699     P00734   \n",
       "\n",
       "                                      smiles_template  \\\n",
       "0   N[C@H](Cc1ccccc1)C(=O)N1CCC[C@H]1C(=O)NCc1cc(C...   \n",
       "1   N[C@H](Cc1ccccc1)C(=O)N1CCC[C@H]1C(=O)NCc1cccc...   \n",
       "2   C[n+]1ccc(Cl)cc1CNC(=O)[C@@H]1CCCN1C(=O)[C@H](...   \n",
       "3   C[n+]1ccc(CNC(=O)[C@@H]2CCCN2C(=O)[C@H](N)Cc2c...   \n",
       "4   O=C(Cn1c(Cl)cnc(NCC(F)(F)c2cccc[n+]2[O-])c1=O)...   \n",
       "5    N[C@H](Cc1ccccc1)C(=O)N1CCC[C@H]1C(=O)NCc1ccccn1   \n",
       "6   CC(C)[C@H](NC(=O)c1cccn1C(=O)[C@H](NC(=O)OCc1c...   \n",
       "7   Cc1ncn(CC(=O)NC(C)(C)C)c1CNC(=O)Cn1c(C)ccc(NS(...   \n",
       "8   N[C@@H](C(=O)N1CCC[C@H]1C(=O)NCc1cccc(Cl)c1)C(...   \n",
       "9   COc1cc(C)c(S(=O)(=O)NC[C@@H](O)[C@H](Cc2ccccc2...   \n",
       "10  O=C(Cn1c(Cl)cnc(NCC(F)(F)c2cccc[n+]2[O-])c1=O)...   \n",
       "11                                  NC(=O)c1ccc(Cl)s1   \n",
       "12                                 NC(=O)c1cccc(Cl)c1   \n",
       "13  CC(C)C[C@@H](N)C(=O)N1CCC[C@H]1C(=O)NCc1cccc(C...   \n",
       "14  CN(C)c1cccc2c(S(=O)(=O)N[C@@H](CCCNC(N)=[NH2+]...   \n",
       "15  N[C@@H](Cc1ccccc1)[C@H](O)CNS(=O)(=O)c1ccc2ccc...   \n",
       "16  C[C@@H](C(=O)N1CCOCC1)N1CC[C@H](NS(=O)(=O)/C=C...   \n",
       "17              CCCCNc1cc(C)nc2nc(Nc3cc(Cl)ccc3C)nn12   \n",
       "18            NC(=[NH2+])c1ccc2[nH]c(-c3ccccc3O)nc2c1   \n",
       "19                         COc1ccc(C(=O)Nc2ccccn2)cc1   \n",
       "20  O=C1Cn2c(Cl)cnc(c2=O)N[C@@H](Cc2ccccc2)CNCCCNC...   \n",
       "21  Cc1cc(OC[C@H](C)Nc2ccncc2)cc(C(=O)N(CCC(=O)NC(...   \n",
       "22  Cc1cnc(NCC(F)(F)c2ccccn2)c(=O)n1CC(=O)NCc1ncccc1F   \n",
       "23  Oc1ccc2c(Cc3ccc(OCCN4CCCC4)cc3)c(-c3ccc(OCCN4C...   \n",
       "\n",
       "                                        smiles_docked  \\\n",
       "0   N[C@H](Cc1ccccc1)C(=O)N1CCC[C@H]1C(=O)NCc1cc(C...   \n",
       "1   N[C@H](Cc1ccccc1)C(=O)N1CCC[C@H]1C(=O)NCc1cc(C...   \n",
       "2   N[C@H](Cc1ccccc1)C(=O)N1CCC[C@H]1C(=O)NCc1cc(C...   \n",
       "3   N[C@H](Cc1ccccc1)C(=O)N1CCC[C@H]1C(=O)NCc1cc(C...   \n",
       "4   N[C@H](Cc1ccccc1)C(=O)N1CCC[C@H]1C(=O)NCc1cc(C...   \n",
       "5   N[C@H](Cc1ccccc1)C(=O)N1CCC[C@H]1C(=O)NCc1cc(C...   \n",
       "6   N[C@H](Cc1ccccc1)C(=O)N1CCC[C@H]1C(=O)NCc1cc(C...   \n",
       "7   N[C@H](Cc1ccccc1)C(=O)N1CCC[C@H]1C(=O)NCc1cc(C...   \n",
       "8   N[C@H](Cc1ccccc1)C(=O)N1CCC[C@H]1C(=O)NCc1cc(C...   \n",
       "9   N[C@H](Cc1ccccc1)C(=O)N1CCC[C@H]1C(=O)NCc1cc(C...   \n",
       "10  N[C@H](Cc1ccccc1)C(=O)N1CCC[C@H]1C(=O)NCc1cc(C...   \n",
       "11  N[C@H](Cc1ccccc1)C(=O)N1CCC[C@H]1C(=O)NCc1cc(C...   \n",
       "12  N[C@H](Cc1ccccc1)C(=O)N1CCC[C@H]1C(=O)NCc1cc(C...   \n",
       "13  N[C@H](Cc1ccccc1)C(=O)N1CCC[C@H]1C(=O)NCc1cc(C...   \n",
       "14  N[C@H](Cc1ccccc1)C(=O)N1CCC[C@H]1C(=O)NCc1cc(C...   \n",
       "15  N[C@H](Cc1ccccc1)C(=O)N1CCC[C@H]1C(=O)NCc1cc(C...   \n",
       "16  N[C@H](Cc1ccccc1)C(=O)N1CCC[C@H]1C(=O)NCc1cc(C...   \n",
       "17  N[C@H](Cc1ccccc1)C(=O)N1CCC[C@H]1C(=O)NCc1cc(C...   \n",
       "18  N[C@H](Cc1ccccc1)C(=O)N1CCC[C@H]1C(=O)NCc1cc(C...   \n",
       "19  N[C@H](Cc1ccccc1)C(=O)N1CCC[C@H]1C(=O)NCc1cc(C...   \n",
       "20  N[C@H](Cc1ccccc1)C(=O)N1CCC[C@H]1C(=O)NCc1cc(C...   \n",
       "21  N[C@H](Cc1ccccc1)C(=O)N1CCC[C@H]1C(=O)NCc1cc(C...   \n",
       "22  N[C@H](Cc1ccccc1)C(=O)N1CCC[C@H]1C(=O)NCc1cc(C...   \n",
       "23  N[C@H](Cc1ccccc1)C(=O)N1CCC[C@H]1C(=O)NCc1cc(C...   \n",
       "\n",
       "                                     mcs_smartsString  \\\n",
       "0   [#7]-[#6](-[#6]-[#6]1:[#6]:[#6]:[#6]:[#6]:[#6]...   \n",
       "1   [#7]-[#6](-[#6]-[#6]1:[#6]:[#6]:[#6]:[#6]:[#6]...   \n",
       "2   [#7]-[#6](-[#6]-[#6]1:[#6]:[#6]:[#6]:[#6]:[#6]...   \n",
       "3   [#6]:[#6]:[#6]-[#6]-[#7]-[#6](=[#8])-[#6]1-[#6...   \n",
       "4   [#6](-[#6]-,:[#6]:[#6]:[#6]:[#6])-[#6]-[#7]-[#...   \n",
       "5   [#7]-[#6](-[#6]-[#6]1:[#6]:[#6]:[#6]:[#6]:[#6]...   \n",
       "6   [#7]-[#6](-[#6]-[#6]1:[#6]:[#6]:[#6]:[#6]:[#6]...   \n",
       "7   [#7]-[#6](-,:[#6]-,:[#6])-,:[#6](=[#8])-,:[#7]...   \n",
       "8   [#7]-[#6](-[#6]-[#6]1:[#6]:[#6]:[#6]:[#6]:[#6]...   \n",
       "9   [#6](-[#6]-,:[#6]:[#6]:[#6]:[#6]:[#6])-[#6]-[#...   \n",
       "10  [#6](-[#6]-,:[#6]:[#6]:[#6]:[#6])-[#6]-[#7]-[#...   \n",
       "11           [#7]-[#6](=[#8])-[#6]:,-[#6]:,-[#6]:[#6]   \n",
       "12  [#7]-[#6](=[#8])-[#6]:,-[#6]:,-[#6]:[#6]:[#6]:...   \n",
       "13  [#6]-,:[#6](-,:[#6])-[#6]-[#6](-[#7])-[#6](=[#...   \n",
       "14  [#6](-[#6]-[#6]:,-[#6]:,-[#6]:,-[#6]:,-[#6]:,-...   \n",
       "15  [#7]-[#6](-[#6]-[#6]1:[#6]:[#6]:[#6]:[#6]:[#6]...   \n",
       "16  [#7]-[#6](-[#6]-[#6])-[#6](=[#8])-[#7]-[#6](-[...   \n",
       "17   [#6]-[#6]-[#6]-[#6]-[#7]-[#6]:,-[#6]:,-[#6]-[#6]   \n",
       "18  [#7]-[#6]-[#6]:,-[#6]:,-[#6]:,-[#6]:,-[#7]:,-[...   \n",
       "19  [#6](:[#6]:,-[#6]:,-[#6]-[#6](=[#8])-[#7]-[#6]...   \n",
       "20  [#6](-[#6]-,:[#6]:[#6]:[#6]:[#6]:[#6])-[#6]-[#...   \n",
       "21  [#6](-,:[#6]-,:[#6](:,-[#6]):[#6]:[#6]:[#6])-[...   \n",
       "22  [#6](-[#6]-,:[#6]:[#6]:[#6]:[#6])-[#6]-[#7]-[#...   \n",
       "23  [#6](-[#6]-,:[#6](:[#6]:[#6]):,-[#6]:,-[#6]:[#...   \n",
       "\n",
       "    template_HeavyAtomCount  template_NHOHCount  ...  \\\n",
       "0                        28                   3  ...   \n",
       "1                        27                   3  ...   \n",
       "2                        28                   3  ...   \n",
       "3                        27                   3  ...   \n",
       "4                        37                   2  ...   \n",
       "5                        26                   3  ...   \n",
       "6                        42                   4  ...   \n",
       "7                        38                   3  ...   \n",
       "8                        33                   3  ...   \n",
       "9                        35                   3  ...   \n",
       "10                       32                   2  ...   \n",
       "11                        9                   2  ...   \n",
       "12                       10                   2  ...   \n",
       "13                       24                   3  ...   \n",
       "14                       42                   6  ...   \n",
       "15                       26                   4  ...   \n",
       "16                       28                   1  ...   \n",
       "17                       24                   2  ...   \n",
       "18                       19                   6  ...   \n",
       "19                       17                   1  ...   \n",
       "20                       36                   4  ...   \n",
       "21                       33                   2  ...   \n",
       "22                       31                   2  ...   \n",
       "23                       39                   1  ...   \n",
       "\n",
       "    mcs_docked_NumRotatableBonds  ec_tanimoto_similarity  \\\n",
       "0                              7                0.683761   \n",
       "1                              7                0.701754   \n",
       "2                              7                0.683761   \n",
       "3                              7                0.621849   \n",
       "4                              7                0.175258   \n",
       "5                              7                0.736364   \n",
       "6                              7                0.173913   \n",
       "7                              7                0.208556   \n",
       "8                              7                0.430464   \n",
       "9                              5                0.225989   \n",
       "10                             7                0.187500   \n",
       "11                             4                0.108108   \n",
       "12                             4                0.163636   \n",
       "13                             7                0.467213   \n",
       "14                             6                0.206897   \n",
       "15                             3                0.240260   \n",
       "16                             7                0.135294   \n",
       "17                             4                0.115152   \n",
       "18                             5                0.145833   \n",
       "19                             5                0.181818   \n",
       "20                             7                0.194872   \n",
       "21                             5                0.137363   \n",
       "22                             7                0.170455   \n",
       "23                             4                0.119816   \n",
       "\n",
       "    fc_tanimoto_similarity  log_RMSD  bin_RMSD  \\\n",
       "0                 0.683761 -0.991553         1   \n",
       "1                 0.701754 -0.918794         1   \n",
       "2                 0.683761 -0.874669         1   \n",
       "3                 0.649573 -0.424648         1   \n",
       "4                 0.212766 -0.314711         1   \n",
       "5                 0.836538  0.223144         1   \n",
       "6                 0.233503  0.445967         1   \n",
       "7                 0.298851  0.466874         1   \n",
       "8                 0.489655  0.924259         2   \n",
       "9                 0.323171  1.066089         2   \n",
       "10                0.266667  1.089572         2   \n",
       "11                0.138889  1.142948         3   \n",
       "12                0.196262  1.331574         3   \n",
       "13                0.479339  1.715958         3   \n",
       "14                0.289474  1.899417         3   \n",
       "15                0.308219  1.906872         3   \n",
       "16                0.221519  1.932246         3   \n",
       "17                0.218543  1.976301         3   \n",
       "18                0.178571  1.990610         3   \n",
       "19                0.258065  2.038099         3   \n",
       "20                0.323864  2.046789         3   \n",
       "21                0.277778  2.086541         3   \n",
       "22                0.256098  2.098631         3   \n",
       "23                0.191176  2.163208         3   \n",
       "\n",
       "    Xtransf_ec_tanimoto_similarity  Xtransf_fc_tanimoto_similarity  is_valid  \\\n",
       "0                         4.837607                        3.837607      True   \n",
       "1                         5.017544                        4.017544      True   \n",
       "2                         4.837607                        3.837607      True   \n",
       "3                         4.218487                        3.495726       NaN   \n",
       "4                        -0.247423                       -0.872340      True   \n",
       "5                         5.363636                        5.365385      True   \n",
       "6                        -0.260870                       -0.664975      True   \n",
       "7                         0.085561                       -0.011494       NaN   \n",
       "8                         2.304636                        1.896552      True   \n",
       "9                         0.259887                        0.231707       NaN   \n",
       "10                       -0.125000                       -0.333333      True   \n",
       "11                       -0.918919                       -1.611111      True   \n",
       "12                       -0.363636                       -1.037383      True   \n",
       "13                        2.672131                        1.793388      True   \n",
       "14                        0.068966                       -0.105263      True   \n",
       "15                        0.402597                        0.082192       NaN   \n",
       "16                       -0.647059                       -0.784810      True   \n",
       "17                       -0.848485                       -0.814570      True   \n",
       "18                       -0.541667                       -1.214286       NaN   \n",
       "19                       -0.181818                       -0.419355      True   \n",
       "20                       -0.051282                        0.238636      True   \n",
       "21                       -0.626374                       -0.222222       NaN   \n",
       "22                       -0.295455                       -0.439024      True   \n",
       "23                       -0.801843                       -1.088235       NaN   \n",
       "\n",
       "        img_temp    img_docked  \n",
       "0   4UDW_N6L.png  3SHC_B01.png  \n",
       "1   2ZC9_22U.png  3SHC_B01.png  \n",
       "2   3QX5_02P.png  3SHC_B01.png  \n",
       "3   3QTV_06P.png  3SHC_B01.png  \n",
       "4   1SL3_170.png  3SHC_B01.png  \n",
       "5   3SI3_B03.png  3SHC_B01.png  \n",
       "6   1AIX_T19.png  3SHC_B01.png  \n",
       "7   3C1K_T15.png  3SHC_B01.png  \n",
       "8   3DHK_23U.png  3SHC_B01.png  \n",
       "9   2C8X_C5M.png  3SHC_B01.png  \n",
       "10  1MUE_CDD.png  3SHC_B01.png  \n",
       "11  4UD9_FQI.png  3SHC_B01.png  \n",
       "12  5AFY_WCE.png  3SHC_B01.png  \n",
       "13  2ZGB_21U.png  3SHC_B01.png  \n",
       "14  1A4W_QWE.png  3SHC_B01.png  \n",
       "15  2C8Y_C3M.png  3SHC_B01.png  \n",
       "16  2JH5_895.png  3SHC_B01.png  \n",
       "17  1ZGV_501.png  3SHC_B01.png  \n",
       "18  1GHW_BMZ.png  3SHC_B01.png  \n",
       "19  5AF9_SJR.png  3SHC_B01.png  \n",
       "20  1NM6_L86.png  3SHC_B01.png  \n",
       "21  2UUK_897.png  3SHC_B01.png  \n",
       "22  1MU6_CDA.png  3SHC_B01.png  \n",
       "23  1D3P_BT3.png  3SHC_B01.png  \n",
       "\n",
       "[24 rows x 45 columns]"
      ]
     },
     "execution_count": 93,
     "metadata": {},
     "output_type": "execute_result"
    }
   ],
   "source": [
    "templates = df[df.docked == docked_sample.docked]\n",
    "templates = templates.reset_index()\n",
    "templates = templates.sort_values(by=['rmsd'], ignore_index=True)\n",
    "templates"
   ]
  },
  {
   "cell_type": "code",
   "execution_count": 94,
   "id": "1f2cb69c",
   "metadata": {},
   "outputs": [],
   "source": [
    "template_image = preprocess_image(templates.iloc[0].img_temp)"
   ]
  },
  {
   "cell_type": "code",
   "execution_count": 95,
   "id": "1cd4f7fc",
   "metadata": {},
   "outputs": [
    {
     "name": "stdout",
     "output_type": "stream",
     "text": [
      "Show docked molecule\n"
     ]
    },
    {
     "data": {
      "text/plain": [
       "<matplotlib.image.AxesImage at 0x7f0271d25eb0>"
      ]
     },
     "execution_count": 95,
     "metadata": {},
     "output_type": "execute_result"
    },
    {
     "data": {
      "image/png": "[encoded data removed]",
      "text/plain": [
       "<Figure size 432x288 with 1 Axes>"
      ]
     },
     "metadata": {
      "needs_background": "light"
     },
     "output_type": "display_data"
    }
   ],
   "source": [
    "print('Show docked molecule')\n",
    "plt.imshow(docked_image)"
   ]
  },
  {
   "cell_type": "code",
   "execution_count": 96,
   "id": "e87c3fb0",
   "metadata": {},
   "outputs": [
    {
     "name": "stdout",
     "output_type": "stream",
     "text": [
      "Show lowest rmsd template molecule\n"
     ]
    },
    {
     "data": {
      "text/plain": [
       "<matplotlib.image.AxesImage at 0x7f0271c91be0>"
      ]
     },
     "execution_count": 96,
     "metadata": {},
     "output_type": "execute_result"
    },
    {
     "data": {
      "image/png": "[encoded data removed]",
      "text/plain": [
       "<Figure size 432x288 with 1 Axes>"
      ]
     },
     "metadata": {
      "needs_background": "light"
     },
     "output_type": "display_data"
    }
   ],
   "source": [
    "print('Show lowest rmsd template molecule')\n",
    "plt.imshow(template_image)"
   ]
  },
  {
   "cell_type": "code",
   "execution_count": 97,
   "id": "e5ab7356",
   "metadata": {},
   "outputs": [
    {
     "data": {
      "text/plain": [
       "0    -0.991553\n",
       "1    -0.918794\n",
       "2    -0.874669\n",
       "3    -0.424648\n",
       "4    -0.314711\n",
       "5     0.223144\n",
       "6     0.445967\n",
       "7     0.466874\n",
       "8     0.924259\n",
       "9     1.066089\n",
       "10    1.089572\n",
       "11    1.142948\n",
       "12    1.331574\n",
       "13    1.715958\n",
       "14    1.899417\n",
       "15    1.906872\n",
       "16    1.932246\n",
       "17    1.976301\n",
       "18    1.990610\n",
       "19    2.038099\n",
       "20    2.046789\n",
       "21    2.086541\n",
       "22    2.098631\n",
       "23    2.163208\n",
       "Name: log_RMSD, dtype: float64"
      ]
     },
     "execution_count": 97,
     "metadata": {},
     "output_type": "execute_result"
    }
   ],
   "source": [
    "rmsds = templates.log_RMSD\n",
    "rmsds"
   ]
  },
  {
   "cell_type": "code",
   "execution_count": 98,
   "id": "b3bf8639",
   "metadata": {},
   "outputs": [],
   "source": [
    "rmse = metrics.RootMeanSquaredError()"
   ]
  },
  {
   "cell_type": "code",
   "execution_count": 99,
   "id": "446b35af",
   "metadata": {},
   "outputs": [],
   "source": [
    "similarity = metrics.CosineSimilarity()"
   ]
  },
  {
   "cell_type": "code",
   "execution_count": 100,
   "id": "f7ec2ab4",
   "metadata": {},
   "outputs": [],
   "source": [
    "tf_template = tf.reshape(template_image, (1,224,224,3))"
   ]
  },
  {
   "cell_type": "code",
   "execution_count": 101,
   "id": "cfb19602",
   "metadata": {},
   "outputs": [],
   "source": [
    "tf_docked = tf.reshape(docked_image, (1,224,224,3))"
   ]
  },
  {
   "cell_type": "code",
   "execution_count": 102,
   "id": "b7b0399f",
   "metadata": {},
   "outputs": [],
   "source": [
    "template_embedding, docked_embedding = (\n",
    "    embedding(resnet.preprocess_input(tf_template)),\n",
    "    embedding(resnet.preprocess_input(tf_docked)),\n",
    ")"
   ]
  },
  {
   "cell_type": "code",
   "execution_count": 103,
   "id": "46e93760",
   "metadata": {},
   "outputs": [
    {
     "data": {
      "text/plain": [
       "(0.113267325, -0.991553216374702)"
      ]
     },
     "execution_count": 103,
     "metadata": {},
     "output_type": "execute_result"
    }
   ],
   "source": [
    "rmse_positive = rmse(template_embedding, docked_embedding)\n",
    "rmse_positive.numpy(), templates.iloc[0].log_RMSD"
   ]
  },
  {
   "cell_type": "code",
   "execution_count": 104,
   "id": "b1793d38",
   "metadata": {},
   "outputs": [
    {
     "data": {
      "text/plain": [
       "numpy.float32"
      ]
     },
     "execution_count": 104,
     "metadata": {},
     "output_type": "execute_result"
    }
   ],
   "source": [
    "type(rmse_positive.numpy())"
   ]
  },
  {
   "cell_type": "code",
   "execution_count": 105,
   "id": "ce8de2ec",
   "metadata": {},
   "outputs": [],
   "source": [
    "def get_rmse(row):\n",
    "    docked_image = preprocess_image(row.img_docked)\n",
    "    template_image = preprocess_image(row.img_temp)\n",
    "    template_image = tf.reshape(template_image, (1,224,224,3))\n",
    "    docked_image = tf.reshape(docked_image, (1,224,224,3))\n",
    "    template_embedding, docked_embedding = (\n",
    "        embedding(resnet.preprocess_input(template_image)),\n",
    "        embedding(resnet.preprocess_input(docked_image)),\n",
    "    )\n",
    "    rmse_positive = rmse(template_embedding, docked_embedding)\n",
    "    return rmse_positive.numpy()"
   ]
  },
  {
   "cell_type": "code",
   "execution_count": 106,
   "id": "7fb3218d",
   "metadata": {},
   "outputs": [
    {
     "data": {
      "text/plain": [
       "{0: 0.08122633,\n",
       " 1: 0.07024918,\n",
       " 2: 0.08252146,\n",
       " 3: 0.09308356,\n",
       " 4: 0.09196931,\n",
       " 5: 0.08635196,\n",
       " 6: 0.09917529,\n",
       " 7: 0.09807124,\n",
       " 8: 0.097686164,\n",
       " 9: 0.098614715,\n",
       " 10: 0.09691982,\n",
       " 11: 0.09940332,\n",
       " 12: 0.104139686,\n",
       " 13: 0.108027466,\n",
       " 14: 0.11034535,\n",
       " 15: 0.10931314,\n",
       " 16: 0.10858947,\n",
       " 17: 0.11096525,\n",
       " 18: 0.11033772,\n",
       " 19: 0.10952844,\n",
       " 20: 0.11108983,\n",
       " 21: 0.10929826,\n",
       " 22: 0.10786295,\n",
       " 23: 0.10684764}"
      ]
     },
     "execution_count": 106,
     "metadata": {},
     "output_type": "execute_result"
    }
   ],
   "source": [
    "rmses = {}\n",
    "for i, r in templates.iterrows(): \n",
    "    rm = get_rmse(r)\n",
    "    rmses[i] = rm\n",
    "rmses"
   ]
  },
  {
   "cell_type": "code",
   "execution_count": 107,
   "id": "3aa84f82",
   "metadata": {},
   "outputs": [
    {
     "data": {
      "text/plain": [
       "[1,\n",
       " 0,\n",
       " 2,\n",
       " 5,\n",
       " 4,\n",
       " 3,\n",
       " 10,\n",
       " 8,\n",
       " 7,\n",
       " 9,\n",
       " 6,\n",
       " 11,\n",
       " 12,\n",
       " 23,\n",
       " 22,\n",
       " 13,\n",
       " 16,\n",
       " 21,\n",
       " 15,\n",
       " 19,\n",
       " 18,\n",
       " 14,\n",
       " 17,\n",
       " 20]"
      ]
     },
     "execution_count": 107,
     "metadata": {},
     "output_type": "execute_result"
    }
   ],
   "source": [
    "rmses_sorted = sorted(rmses, key=rmses.get)\n",
    "rmses_sorted"
   ]
  },
  {
   "cell_type": "code",
   "execution_count": 108,
   "id": "35a4c176",
   "metadata": {
    "scrolled": true
   },
   "outputs": [
    {
     "data": {
      "text/plain": [
       "0.07024918"
      ]
     },
     "execution_count": 108,
     "metadata": {},
     "output_type": "execute_result"
    }
   ],
   "source": [
    "min(rmses.values())"
   ]
  },
  {
   "cell_type": "code",
   "execution_count": 109,
   "id": "2a63d1ed",
   "metadata": {},
   "outputs": [],
   "source": [
    "from scipy.stats import pearsonr"
   ]
  },
  {
   "cell_type": "code",
   "execution_count": 110,
   "id": "c700b554",
   "metadata": {},
   "outputs": [
    {
     "data": {
      "text/html": [
       "<div>\n",
       "<style scoped>\n",
       "    .dataframe tbody tr th:only-of-type {\n",
       "        vertical-align: middle;\n",
       "    }\n",
       "\n",
       "    .dataframe tbody tr th {\n",
       "        vertical-align: top;\n",
       "    }\n",
       "\n",
       "    .dataframe thead th {\n",
       "        text-align: right;\n",
       "    }\n",
       "</style>\n",
       "<table border=\"1\" class=\"dataframe\">\n",
       "  <thead>\n",
       "    <tr style=\"text-align: right;\">\n",
       "      <th></th>\n",
       "      <th>log_RMSD</th>\n",
       "    </tr>\n",
       "  </thead>\n",
       "  <tbody>\n",
       "    <tr>\n",
       "      <th>0</th>\n",
       "      <td>-0.991553</td>\n",
       "    </tr>\n",
       "    <tr>\n",
       "      <th>1</th>\n",
       "      <td>-0.918794</td>\n",
       "    </tr>\n",
       "    <tr>\n",
       "      <th>2</th>\n",
       "      <td>-0.874669</td>\n",
       "    </tr>\n",
       "    <tr>\n",
       "      <th>3</th>\n",
       "      <td>-0.424648</td>\n",
       "    </tr>\n",
       "    <tr>\n",
       "      <th>4</th>\n",
       "      <td>-0.314711</td>\n",
       "    </tr>\n",
       "    <tr>\n",
       "      <th>5</th>\n",
       "      <td>0.223144</td>\n",
       "    </tr>\n",
       "    <tr>\n",
       "      <th>6</th>\n",
       "      <td>0.445967</td>\n",
       "    </tr>\n",
       "    <tr>\n",
       "      <th>7</th>\n",
       "      <td>0.466874</td>\n",
       "    </tr>\n",
       "    <tr>\n",
       "      <th>8</th>\n",
       "      <td>0.924259</td>\n",
       "    </tr>\n",
       "    <tr>\n",
       "      <th>9</th>\n",
       "      <td>1.066089</td>\n",
       "    </tr>\n",
       "    <tr>\n",
       "      <th>10</th>\n",
       "      <td>1.089572</td>\n",
       "    </tr>\n",
       "    <tr>\n",
       "      <th>11</th>\n",
       "      <td>1.142948</td>\n",
       "    </tr>\n",
       "    <tr>\n",
       "      <th>12</th>\n",
       "      <td>1.331574</td>\n",
       "    </tr>\n",
       "    <tr>\n",
       "      <th>13</th>\n",
       "      <td>1.715958</td>\n",
       "    </tr>\n",
       "    <tr>\n",
       "      <th>14</th>\n",
       "      <td>1.899417</td>\n",
       "    </tr>\n",
       "    <tr>\n",
       "      <th>15</th>\n",
       "      <td>1.906872</td>\n",
       "    </tr>\n",
       "    <tr>\n",
       "      <th>16</th>\n",
       "      <td>1.932246</td>\n",
       "    </tr>\n",
       "    <tr>\n",
       "      <th>17</th>\n",
       "      <td>1.976301</td>\n",
       "    </tr>\n",
       "    <tr>\n",
       "      <th>18</th>\n",
       "      <td>1.990610</td>\n",
       "    </tr>\n",
       "    <tr>\n",
       "      <th>19</th>\n",
       "      <td>2.038099</td>\n",
       "    </tr>\n",
       "    <tr>\n",
       "      <th>20</th>\n",
       "      <td>2.046789</td>\n",
       "    </tr>\n",
       "    <tr>\n",
       "      <th>21</th>\n",
       "      <td>2.086541</td>\n",
       "    </tr>\n",
       "    <tr>\n",
       "      <th>22</th>\n",
       "      <td>2.098631</td>\n",
       "    </tr>\n",
       "    <tr>\n",
       "      <th>23</th>\n",
       "      <td>2.163208</td>\n",
       "    </tr>\n",
       "  </tbody>\n",
       "</table>\n",
       "</div>"
      ],
      "text/plain": [
       "    log_RMSD\n",
       "0  -0.991553\n",
       "1  -0.918794\n",
       "2  -0.874669\n",
       "3  -0.424648\n",
       "4  -0.314711\n",
       "5   0.223144\n",
       "6   0.445967\n",
       "7   0.466874\n",
       "8   0.924259\n",
       "9   1.066089\n",
       "10  1.089572\n",
       "11  1.142948\n",
       "12  1.331574\n",
       "13  1.715958\n",
       "14  1.899417\n",
       "15  1.906872\n",
       "16  1.932246\n",
       "17  1.976301\n",
       "18  1.990610\n",
       "19  2.038099\n",
       "20  2.046789\n",
       "21  2.086541\n",
       "22  2.098631\n",
       "23  2.163208"
      ]
     },
     "execution_count": 110,
     "metadata": {},
     "output_type": "execute_result"
    }
   ],
   "source": [
    "df1 = pd.DataFrame(rmsds)\n",
    "df1"
   ]
  },
  {
   "cell_type": "code",
   "execution_count": 111,
   "id": "c18981e0",
   "metadata": {},
   "outputs": [
    {
     "data": {
      "text/html": [
       "<div>\n",
       "<style scoped>\n",
       "    .dataframe tbody tr th:only-of-type {\n",
       "        vertical-align: middle;\n",
       "    }\n",
       "\n",
       "    .dataframe tbody tr th {\n",
       "        vertical-align: top;\n",
       "    }\n",
       "\n",
       "    .dataframe thead th {\n",
       "        text-align: right;\n",
       "    }\n",
       "</style>\n",
       "<table border=\"1\" class=\"dataframe\">\n",
       "  <thead>\n",
       "    <tr style=\"text-align: right;\">\n",
       "      <th></th>\n",
       "      <th>rmse</th>\n",
       "    </tr>\n",
       "  </thead>\n",
       "  <tbody>\n",
       "    <tr>\n",
       "      <th>0</th>\n",
       "      <td>0.081226</td>\n",
       "    </tr>\n",
       "    <tr>\n",
       "      <th>1</th>\n",
       "      <td>0.070249</td>\n",
       "    </tr>\n",
       "    <tr>\n",
       "      <th>2</th>\n",
       "      <td>0.082521</td>\n",
       "    </tr>\n",
       "    <tr>\n",
       "      <th>3</th>\n",
       "      <td>0.093084</td>\n",
       "    </tr>\n",
       "    <tr>\n",
       "      <th>4</th>\n",
       "      <td>0.091969</td>\n",
       "    </tr>\n",
       "    <tr>\n",
       "      <th>5</th>\n",
       "      <td>0.086352</td>\n",
       "    </tr>\n",
       "    <tr>\n",
       "      <th>6</th>\n",
       "      <td>0.099175</td>\n",
       "    </tr>\n",
       "    <tr>\n",
       "      <th>7</th>\n",
       "      <td>0.098071</td>\n",
       "    </tr>\n",
       "    <tr>\n",
       "      <th>8</th>\n",
       "      <td>0.097686</td>\n",
       "    </tr>\n",
       "    <tr>\n",
       "      <th>9</th>\n",
       "      <td>0.098615</td>\n",
       "    </tr>\n",
       "    <tr>\n",
       "      <th>10</th>\n",
       "      <td>0.096920</td>\n",
       "    </tr>\n",
       "    <tr>\n",
       "      <th>11</th>\n",
       "      <td>0.099403</td>\n",
       "    </tr>\n",
       "    <tr>\n",
       "      <th>12</th>\n",
       "      <td>0.104140</td>\n",
       "    </tr>\n",
       "    <tr>\n",
       "      <th>13</th>\n",
       "      <td>0.108027</td>\n",
       "    </tr>\n",
       "    <tr>\n",
       "      <th>14</th>\n",
       "      <td>0.110345</td>\n",
       "    </tr>\n",
       "    <tr>\n",
       "      <th>15</th>\n",
       "      <td>0.109313</td>\n",
       "    </tr>\n",
       "    <tr>\n",
       "      <th>16</th>\n",
       "      <td>0.108589</td>\n",
       "    </tr>\n",
       "    <tr>\n",
       "      <th>17</th>\n",
       "      <td>0.110965</td>\n",
       "    </tr>\n",
       "    <tr>\n",
       "      <th>18</th>\n",
       "      <td>0.110338</td>\n",
       "    </tr>\n",
       "    <tr>\n",
       "      <th>19</th>\n",
       "      <td>0.109528</td>\n",
       "    </tr>\n",
       "    <tr>\n",
       "      <th>20</th>\n",
       "      <td>0.111090</td>\n",
       "    </tr>\n",
       "    <tr>\n",
       "      <th>21</th>\n",
       "      <td>0.109298</td>\n",
       "    </tr>\n",
       "    <tr>\n",
       "      <th>22</th>\n",
       "      <td>0.107863</td>\n",
       "    </tr>\n",
       "    <tr>\n",
       "      <th>23</th>\n",
       "      <td>0.106848</td>\n",
       "    </tr>\n",
       "  </tbody>\n",
       "</table>\n",
       "</div>"
      ],
      "text/plain": [
       "        rmse\n",
       "0   0.081226\n",
       "1   0.070249\n",
       "2   0.082521\n",
       "3   0.093084\n",
       "4   0.091969\n",
       "5   0.086352\n",
       "6   0.099175\n",
       "7   0.098071\n",
       "8   0.097686\n",
       "9   0.098615\n",
       "10  0.096920\n",
       "11  0.099403\n",
       "12  0.104140\n",
       "13  0.108027\n",
       "14  0.110345\n",
       "15  0.109313\n",
       "16  0.108589\n",
       "17  0.110965\n",
       "18  0.110338\n",
       "19  0.109528\n",
       "20  0.111090\n",
       "21  0.109298\n",
       "22  0.107863\n",
       "23  0.106848"
      ]
     },
     "execution_count": 111,
     "metadata": {},
     "output_type": "execute_result"
    }
   ],
   "source": [
    "df2 = pd.DataFrame.from_dict(rmses, orient='index')\n",
    "df2 = df2.rename(columns={0:'rmse'})\n",
    "df2"
   ]
  },
  {
   "cell_type": "code",
   "execution_count": 112,
   "id": "7fc3208e",
   "metadata": {},
   "outputs": [
    {
     "data": {
      "text/html": [
       "<div>\n",
       "<style scoped>\n",
       "    .dataframe tbody tr th:only-of-type {\n",
       "        vertical-align: middle;\n",
       "    }\n",
       "\n",
       "    .dataframe tbody tr th {\n",
       "        vertical-align: top;\n",
       "    }\n",
       "\n",
       "    .dataframe thead th {\n",
       "        text-align: right;\n",
       "    }\n",
       "</style>\n",
       "<table border=\"1\" class=\"dataframe\">\n",
       "  <thead>\n",
       "    <tr style=\"text-align: right;\">\n",
       "      <th></th>\n",
       "      <th>log_RMSD</th>\n",
       "      <th>rmse</th>\n",
       "    </tr>\n",
       "  </thead>\n",
       "  <tbody>\n",
       "    <tr>\n",
       "      <th>0</th>\n",
       "      <td>-0.991553</td>\n",
       "      <td>0.081226</td>\n",
       "    </tr>\n",
       "    <tr>\n",
       "      <th>1</th>\n",
       "      <td>-0.918794</td>\n",
       "      <td>0.070249</td>\n",
       "    </tr>\n",
       "    <tr>\n",
       "      <th>2</th>\n",
       "      <td>-0.874669</td>\n",
       "      <td>0.082521</td>\n",
       "    </tr>\n",
       "    <tr>\n",
       "      <th>3</th>\n",
       "      <td>-0.424648</td>\n",
       "      <td>0.093084</td>\n",
       "    </tr>\n",
       "    <tr>\n",
       "      <th>4</th>\n",
       "      <td>-0.314711</td>\n",
       "      <td>0.091969</td>\n",
       "    </tr>\n",
       "    <tr>\n",
       "      <th>5</th>\n",
       "      <td>0.223144</td>\n",
       "      <td>0.086352</td>\n",
       "    </tr>\n",
       "    <tr>\n",
       "      <th>6</th>\n",
       "      <td>0.445967</td>\n",
       "      <td>0.099175</td>\n",
       "    </tr>\n",
       "    <tr>\n",
       "      <th>7</th>\n",
       "      <td>0.466874</td>\n",
       "      <td>0.098071</td>\n",
       "    </tr>\n",
       "    <tr>\n",
       "      <th>8</th>\n",
       "      <td>0.924259</td>\n",
       "      <td>0.097686</td>\n",
       "    </tr>\n",
       "    <tr>\n",
       "      <th>9</th>\n",
       "      <td>1.066089</td>\n",
       "      <td>0.098615</td>\n",
       "    </tr>\n",
       "    <tr>\n",
       "      <th>10</th>\n",
       "      <td>1.089572</td>\n",
       "      <td>0.096920</td>\n",
       "    </tr>\n",
       "    <tr>\n",
       "      <th>11</th>\n",
       "      <td>1.142948</td>\n",
       "      <td>0.099403</td>\n",
       "    </tr>\n",
       "    <tr>\n",
       "      <th>12</th>\n",
       "      <td>1.331574</td>\n",
       "      <td>0.104140</td>\n",
       "    </tr>\n",
       "    <tr>\n",
       "      <th>13</th>\n",
       "      <td>1.715958</td>\n",
       "      <td>0.108027</td>\n",
       "    </tr>\n",
       "    <tr>\n",
       "      <th>14</th>\n",
       "      <td>1.899417</td>\n",
       "      <td>0.110345</td>\n",
       "    </tr>\n",
       "    <tr>\n",
       "      <th>15</th>\n",
       "      <td>1.906872</td>\n",
       "      <td>0.109313</td>\n",
       "    </tr>\n",
       "    <tr>\n",
       "      <th>16</th>\n",
       "      <td>1.932246</td>\n",
       "      <td>0.108589</td>\n",
       "    </tr>\n",
       "    <tr>\n",
       "      <th>17</th>\n",
       "      <td>1.976301</td>\n",
       "      <td>0.110965</td>\n",
       "    </tr>\n",
       "    <tr>\n",
       "      <th>18</th>\n",
       "      <td>1.990610</td>\n",
       "      <td>0.110338</td>\n",
       "    </tr>\n",
       "    <tr>\n",
       "      <th>19</th>\n",
       "      <td>2.038099</td>\n",
       "      <td>0.109528</td>\n",
       "    </tr>\n",
       "    <tr>\n",
       "      <th>20</th>\n",
       "      <td>2.046789</td>\n",
       "      <td>0.111090</td>\n",
       "    </tr>\n",
       "    <tr>\n",
       "      <th>21</th>\n",
       "      <td>2.086541</td>\n",
       "      <td>0.109298</td>\n",
       "    </tr>\n",
       "    <tr>\n",
       "      <th>22</th>\n",
       "      <td>2.098631</td>\n",
       "      <td>0.107863</td>\n",
       "    </tr>\n",
       "    <tr>\n",
       "      <th>23</th>\n",
       "      <td>2.163208</td>\n",
       "      <td>0.106848</td>\n",
       "    </tr>\n",
       "  </tbody>\n",
       "</table>\n",
       "</div>"
      ],
      "text/plain": [
       "    log_RMSD      rmse\n",
       "0  -0.991553  0.081226\n",
       "1  -0.918794  0.070249\n",
       "2  -0.874669  0.082521\n",
       "3  -0.424648  0.093084\n",
       "4  -0.314711  0.091969\n",
       "5   0.223144  0.086352\n",
       "6   0.445967  0.099175\n",
       "7   0.466874  0.098071\n",
       "8   0.924259  0.097686\n",
       "9   1.066089  0.098615\n",
       "10  1.089572  0.096920\n",
       "11  1.142948  0.099403\n",
       "12  1.331574  0.104140\n",
       "13  1.715958  0.108027\n",
       "14  1.899417  0.110345\n",
       "15  1.906872  0.109313\n",
       "16  1.932246  0.108589\n",
       "17  1.976301  0.110965\n",
       "18  1.990610  0.110338\n",
       "19  2.038099  0.109528\n",
       "20  2.046789  0.111090\n",
       "21  2.086541  0.109298\n",
       "22  2.098631  0.107863\n",
       "23  2.163208  0.106848"
      ]
     },
     "execution_count": 112,
     "metadata": {},
     "output_type": "execute_result"
    }
   ],
   "source": [
    "df_full = pd.concat([df1, df2], axis=1 , ignore_index=False)\n",
    "df_full"
   ]
  },
  {
   "cell_type": "code",
   "execution_count": 113,
   "id": "d227983c",
   "metadata": {},
   "outputs": [
    {
     "name": "stdout",
     "output_type": "stream",
     "text": [
      "Correlation coeffiecient 0.9412814969668611\n",
      "P-value:  7.503670458384122e-12\n"
     ]
    }
   ],
   "source": [
    "full_correlation = pearsonr(df_full['rmse'], df_full['log_RMSD'])\n",
    "print('Correlation coeffiecient', full_correlation[0])\n",
    "print('P-value: ', full_correlation[1])"
   ]
  },
  {
   "cell_type": "code",
   "execution_count": 119,
   "id": "283bbb72",
   "metadata": {},
   "outputs": [
    {
     "data": {
      "image/png": "[encoded data removed]",
      "text/plain": [
       "<Figure size 432x288 with 1 Axes>"
      ]
     },
     "metadata": {
      "needs_background": "light"
     },
     "output_type": "display_data"
    }
   ],
   "source": [
    "x = df_full['rmse']\n",
    "y = df_full['log_RMSD']\n",
    "plt.scatter(x, y)\n",
    "plt.xlabel('RMSE')\n",
    "plt.ylabel('Log RMSD')\n",
    "m, b = np.polyfit(x, y, 1)\n",
    "plt.plot(x, m*x + b, color='orange')\n",
    "plt.show()"
   ]
  },
  {
   "cell_type": "code",
   "execution_count": null,
   "id": "3e46726e",
   "metadata": {},
   "outputs": [],
   "source": []
  },
  {
   "cell_type": "code",
   "execution_count": null,
   "id": "9aeb8b9d",
   "metadata": {},
   "outputs": [],
   "source": []
  },
  {
   "cell_type": "markdown",
   "id": "9cb25345",
   "metadata": {},
   "source": [
    "# Check for the whole test set"
   ]
  },
  {
   "cell_type": "code",
   "execution_count": 90,
   "id": "ff357f3e",
   "metadata": {},
   "outputs": [
    {
     "ename": "IndentationError",
     "evalue": "expected an indented block (253961932.py, line 3)",
     "output_type": "error",
     "traceback": [
      "\u001b[0;36m  File \u001b[0;32m\"/tmp/ipykernel_7939/253961932.py\"\u001b[0;36m, line \u001b[0;32m3\u001b[0m\n\u001b[0;31m    \u001b[0m\n\u001b[0m    ^\u001b[0m\n\u001b[0;31mIndentationError\u001b[0m\u001b[0;31m:\u001b[0m expected an indented block\n"
     ]
    }
   ],
   "source": [
    "def get_templates(docked):\n",
    "    \n",
    "    "
   ]
  },
  {
   "cell_type": "code",
   "execution_count": 115,
   "id": "f8a1801f",
   "metadata": {},
   "outputs": [],
   "source": [
    "test = valid"
   ]
  },
  {
   "cell_type": "code",
   "execution_count": null,
   "id": "cad446ce",
   "metadata": {},
   "outputs": [],
   "source": [
    "docked_unique = test"
   ]
  },
  {
   "cell_type": "code",
   "execution_count": null,
   "id": "21405ecd",
   "metadata": {},
   "outputs": [],
   "source": []
  },
  {
   "cell_type": "code",
   "execution_count": null,
   "id": "6974a910",
   "metadata": {},
   "outputs": [],
   "source": []
  },
  {
   "cell_type": "code",
   "execution_count": null,
   "id": "7a627294",
   "metadata": {},
   "outputs": [],
   "source": []
  }
 ],
 "metadata": {
  "kernelspec": {
   "display_name": "Python 3 (ipykernel)",
   "language": "python",
   "name": "python3"
  },
  "language_info": {
   "codemirror_mode": {
    "name": "ipython",
    "version": 3
   },
   "file_extension": ".py",
   "mimetype": "text/x-python",
   "name": "python",
   "nbconvert_exporter": "python",
   "pygments_lexer": "ipython3",
   "version": "3.7.11"
  },
  "toc-autonumbering": false,
  "toc-showcode": true,
  "toc-showmarkdowntxt": true
 },
 "nbformat": 4,
 "nbformat_minor": 5
}
