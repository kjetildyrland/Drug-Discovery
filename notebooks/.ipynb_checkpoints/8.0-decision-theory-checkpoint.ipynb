{
 "cells": [
  {
   "cell_type": "markdown",
   "id": "1a4def1d",
   "metadata": {},
   "source": [
    "# Generate correct probabilities and use decision theory"
   ]
  },
  {
   "cell_type": "code",
   "execution_count": 1,
   "id": "c831fb3f",
   "metadata": {},
   "outputs": [],
   "source": [
    "# Import\n",
    "import pandas as pd\n",
    "import numpy as np\n",
    "from pathlib import Path\n",
    "from scipy.stats import norm\n",
    "import torch\n",
    "import matplotlib.pyplot as plt\n",
    "from sklearn.metrics import ConfusionMatrixDisplay"
   ]
  },
  {
   "cell_type": "code",
   "execution_count": 2,
   "id": "0e4af0a0",
   "metadata": {},
   "outputs": [],
   "source": [
    "from sklearn.metrics import auc,roc_auc_score,recall_score,precision_score,f1_score\n",
    "from sklearn.metrics import matthews_corrcoef\n",
    "from sklearn.metrics import accuracy_score\n",
    "from sklearn.metrics import confusion_matrix\n",
    "import seaborn as sns"
   ]
  },
  {
   "cell_type": "code",
   "execution_count": 3,
   "id": "67cdfae3",
   "metadata": {},
   "outputs": [],
   "source": [
    "from utils.probs import *"
   ]
  },
  {
   "cell_type": "code",
   "execution_count": 4,
   "id": "8083d576",
   "metadata": {},
   "outputs": [],
   "source": [
    "path = Path('../dataset/')"
   ]
  },
  {
   "cell_type": "code",
   "execution_count": 5,
   "id": "a927b207",
   "metadata": {},
   "outputs": [],
   "source": [
    "CHEMBL205 = path/'13321_2017_226_MOESM1_ESM/CHEMBL205'"
   ]
  },
  {
   "cell_type": "code",
   "execution_count": 6,
   "id": "8a74a1f4",
   "metadata": {},
   "outputs": [],
   "source": [
    "DATA = path/'probabilities'"
   ]
  },
  {
   "cell_type": "code",
   "execution_count": 313,
   "id": "d0ba1fbd",
   "metadata": {},
   "outputs": [],
   "source": [
    "df_RF = pd.read_csv(DATA/'RF_probabilityfunction_full.csv')"
   ]
  },
  {
   "cell_type": "code",
   "execution_count": 314,
   "id": "e6d3564d",
   "metadata": {},
   "outputs": [
    {
     "data": {
      "text/html": [
       "<div>\n",
       "<style scoped>\n",
       "    .dataframe tbody tr th:only-of-type {\n",
       "        vertical-align: middle;\n",
       "    }\n",
       "\n",
       "    .dataframe tbody tr th {\n",
       "        vertical-align: top;\n",
       "    }\n",
       "\n",
       "    .dataframe thead th {\n",
       "        text-align: right;\n",
       "    }\n",
       "</style>\n",
       "<table border=\"1\" class=\"dataframe\">\n",
       "  <thead>\n",
       "    <tr style=\"text-align: right;\">\n",
       "      <th></th>\n",
       "      <th>w</th>\n",
       "      <th>p</th>\n",
       "      <th>mu</th>\n",
       "      <th>sigma</th>\n",
       "    </tr>\n",
       "  </thead>\n",
       "  <tbody>\n",
       "    <tr>\n",
       "      <th>0</th>\n",
       "      <td>1.112537e-308</td>\n",
       "      <td>0.794481</td>\n",
       "      <td>3.336147</td>\n",
       "      <td>18.644452</td>\n",
       "    </tr>\n",
       "    <tr>\n",
       "      <th>1</th>\n",
       "      <td>1.112537e-308</td>\n",
       "      <td>0.605451</td>\n",
       "      <td>2.962349</td>\n",
       "      <td>18.034830</td>\n",
       "    </tr>\n",
       "    <tr>\n",
       "      <th>2</th>\n",
       "      <td>1.544201e-305</td>\n",
       "      <td>0.324171</td>\n",
       "      <td>3.392102</td>\n",
       "      <td>7.701385</td>\n",
       "    </tr>\n",
       "    <tr>\n",
       "      <th>3</th>\n",
       "      <td>2.014197e-301</td>\n",
       "      <td>0.664059</td>\n",
       "      <td>2.348809</td>\n",
       "      <td>5.144820</td>\n",
       "    </tr>\n",
       "    <tr>\n",
       "      <th>4</th>\n",
       "      <td>2.147754e-292</td>\n",
       "      <td>0.161271</td>\n",
       "      <td>0.688278</td>\n",
       "      <td>6.812526</td>\n",
       "    </tr>\n",
       "  </tbody>\n",
       "</table>\n",
       "</div>"
      ],
      "text/plain": [
       "               w         p        mu      sigma\n",
       "0  1.112537e-308  0.794481  3.336147  18.644452\n",
       "1  1.112537e-308  0.605451  2.962349  18.034830\n",
       "2  1.544201e-305  0.324171  3.392102   7.701385\n",
       "3  2.014197e-301  0.664059  2.348809   5.144820\n",
       "4  2.147754e-292  0.161271  0.688278   6.812526"
      ]
     },
     "execution_count": 314,
     "metadata": {},
     "output_type": "execute_result"
    }
   ],
   "source": [
    "df_RF.head()"
   ]
  },
  {
   "cell_type": "code",
   "execution_count": 326,
   "id": "29c24791",
   "metadata": {},
   "outputs": [
    {
     "name": "stdout",
     "output_type": "stream",
     "text": [
      "<class 'pandas.core.frame.DataFrame'>\n",
      "RangeIndex: 262141 entries, 0 to 262140\n",
      "Data columns (total 4 columns):\n",
      " #   Column  Non-Null Count   Dtype  \n",
      "---  ------  --------------   -----  \n",
      " 0   w       262141 non-null  float64\n",
      " 1   p       262141 non-null  float64\n",
      " 2   mu      262141 non-null  float64\n",
      " 3   sigma   262141 non-null  float64\n",
      "dtypes: float64(4)\n",
      "memory usage: 8.0 MB\n"
     ]
    }
   ],
   "source": [
    "df_RF.info()"
   ]
  },
  {
   "cell_type": "code",
   "execution_count": 315,
   "id": "c5d3ebbd",
   "metadata": {},
   "outputs": [],
   "source": [
    "df_test1 = pd.read_csv(DATA/'modCHEMBL205_predictions_RF.csv')"
   ]
  },
  {
   "cell_type": "code",
   "execution_count": 316,
   "id": "b5363512",
   "metadata": {},
   "outputs": [
    {
     "data": {
      "text/html": [
       "<div>\n",
       "<style scoped>\n",
       "    .dataframe tbody tr th:only-of-type {\n",
       "        vertical-align: middle;\n",
       "    }\n",
       "\n",
       "    .dataframe tbody tr th {\n",
       "        vertical-align: top;\n",
       "    }\n",
       "\n",
       "    .dataframe thead th {\n",
       "        text-align: right;\n",
       "    }\n",
       "</style>\n",
       "<table border=\"1\" class=\"dataframe\">\n",
       "  <thead>\n",
       "    <tr style=\"text-align: right;\">\n",
       "      <th></th>\n",
       "      <th>class</th>\n",
       "      <th>prediction</th>\n",
       "      <th>predicted_class</th>\n",
       "      <th>prediction_int</th>\n",
       "      <th>prediction_lnodds</th>\n",
       "    </tr>\n",
       "  </thead>\n",
       "  <tbody>\n",
       "    <tr>\n",
       "      <th>0</th>\n",
       "      <td>0</td>\n",
       "      <td>0.975</td>\n",
       "      <td>0</td>\n",
       "      <td>195</td>\n",
       "      <td>3.644701</td>\n",
       "    </tr>\n",
       "    <tr>\n",
       "      <th>1</th>\n",
       "      <td>0</td>\n",
       "      <td>0.990</td>\n",
       "      <td>0</td>\n",
       "      <td>198</td>\n",
       "      <td>4.547894</td>\n",
       "    </tr>\n",
       "    <tr>\n",
       "      <th>2</th>\n",
       "      <td>0</td>\n",
       "      <td>0.950</td>\n",
       "      <td>0</td>\n",
       "      <td>190</td>\n",
       "      <td>2.935226</td>\n",
       "    </tr>\n",
       "    <tr>\n",
       "      <th>3</th>\n",
       "      <td>0</td>\n",
       "      <td>0.995</td>\n",
       "      <td>0</td>\n",
       "      <td>199</td>\n",
       "      <td>5.200532</td>\n",
       "    </tr>\n",
       "    <tr>\n",
       "      <th>4</th>\n",
       "      <td>1</td>\n",
       "      <td>0.105</td>\n",
       "      <td>1</td>\n",
       "      <td>21</td>\n",
       "      <td>-2.138765</td>\n",
       "    </tr>\n",
       "  </tbody>\n",
       "</table>\n",
       "</div>"
      ],
      "text/plain": [
       "   class  prediction  predicted_class  prediction_int  prediction_lnodds\n",
       "0      0       0.975                0             195           3.644701\n",
       "1      0       0.990                0             198           4.547894\n",
       "2      0       0.950                0             190           2.935226\n",
       "3      0       0.995                0             199           5.200532\n",
       "4      1       0.105                1              21          -2.138765"
      ]
     },
     "execution_count": 316,
     "metadata": {},
     "output_type": "execute_result"
    }
   ],
   "source": [
    "df_test1.head()"
   ]
  },
  {
   "cell_type": "code",
   "execution_count": 317,
   "id": "a9bf261e",
   "metadata": {},
   "outputs": [
    {
     "data": {
      "text/plain": [
       "0    0.975\n",
       "1    0.990\n",
       "2    0.950\n",
       "3    0.995\n",
       "4    0.105\n",
       "Name: prediction, dtype: float64"
      ]
     },
     "execution_count": 317,
     "metadata": {},
     "output_type": "execute_result"
    }
   ],
   "source": [
    "df_output = df_test1.prediction\n",
    "df_output.head()"
   ]
  },
  {
   "cell_type": "code",
   "execution_count": 318,
   "id": "ffe9f815",
   "metadata": {},
   "outputs": [],
   "source": [
    "preds = df_output.to_numpy()"
   ]
  },
  {
   "cell_type": "code",
   "execution_count": 319,
   "id": "599aa87e",
   "metadata": {},
   "outputs": [
    {
     "data": {
      "text/plain": [
       "array([0.975, 0.99 , 0.95 , ..., 0.915, 0.99 , 0.3  ])"
      ]
     },
     "execution_count": 319,
     "metadata": {},
     "output_type": "execute_result"
    }
   ],
   "source": [
    "preds"
   ]
  },
  {
   "cell_type": "code",
   "execution_count": 320,
   "id": "ada1048d",
   "metadata": {},
   "outputs": [],
   "source": [
    "def RF_direct_prob(x, cl, w, p, m, s):\n",
    "    \"\"\"\n",
    "    Gives probability of class conditional on RF-output\n",
    "    x = RF output (between 0 and 1)\n",
    "    cl = class (0 or 1)\n",
    "    w = array of weights\n",
    "    p = array of probs\n",
    "    m = array of means for gaussian\n",
    "    s = array of standard devs for gaussian\n",
    "    \"\"\"\n",
    "    cl = cl\n",
    "    c = 1 - 2**-10\n",
    "    x2 = 0.5 + (x-0.5) * c\n",
    "    y = np.log(x2/(1-x2))\n",
    "    pc = p*cl + (1-p) * (1-cl)\n",
    "    pjoint = np.sum(pc * w * norm.pdf(y, loc=m, scale=s))\n",
    "    px = np.sum(w * norm.pdf(y, loc=m, scale=s))\n",
    "    out = pjoint / px\n",
    "    return out"
   ]
  },
  {
   "cell_type": "code",
   "execution_count": 321,
   "id": "298c3091",
   "metadata": {},
   "outputs": [],
   "source": [
    "df = df_RF\n",
    "mu = df.mu.to_numpy()\n",
    "sigma = df.sigma.to_numpy()\n",
    "p = df.p.to_numpy()\n",
    "w = df.w.to_numpy()"
   ]
  },
  {
   "cell_type": "code",
   "execution_count": 322,
   "id": "43d07939",
   "metadata": {},
   "outputs": [
    {
     "data": {
      "text/plain": [
       "array([0.975, 0.99 , 0.95 , ..., 0.915, 0.99 , 0.3  ])"
      ]
     },
     "execution_count": 322,
     "metadata": {},
     "output_type": "execute_result"
    }
   ],
   "source": [
    "preds"
   ]
  },
  {
   "cell_type": "code",
   "execution_count": 323,
   "id": "b1724fb3",
   "metadata": {},
   "outputs": [],
   "source": [
    "def get_probs(preds, cl):\n",
    "    all_probs = np.array([])\n",
    "    for pred in preds:\n",
    "        prob = RF_direct_prob(pred, cl, w, p, mu, sigma)\n",
    "        all_probs = np.append(all_probs, prob)\n",
    "    return all_probs"
   ]
  },
  {
   "cell_type": "code",
   "execution_count": 324,
   "id": "52eebe5c",
   "metadata": {},
   "outputs": [
    {
     "data": {
      "text/plain": [
       "array([0.99767754, 0.99805904, 0.99571107, ..., 0.98845363, 0.99805904,\n",
       "       0.12030366])"
      ]
     },
     "execution_count": 324,
     "metadata": {},
     "output_type": "execute_result"
    }
   ],
   "source": [
    "all_probs_0 = get_probs(preds, 0)\n",
    "all_probs_0"
   ]
  },
  {
   "cell_type": "code",
   "execution_count": 18,
   "id": "3b952776",
   "metadata": {},
   "outputs": [
    {
     "data": {
      "text/plain": [
       "array([0.00215156, 0.00167142, 0.00406724, ..., 0.01116059, 0.00167142,\n",
       "       0.88031513])"
      ]
     },
     "execution_count": 18,
     "metadata": {},
     "output_type": "execute_result"
    }
   ],
   "source": [
    "all_probs_1 = np.array([])\n",
    "for pred in preds:\n",
    "    prob = RF_direct_prob(pred, 1, w, p, mu, sigma)\n",
    "    all_probs_1 = np.append(all_probs_1, prob)\n",
    "all_probs_1"
   ]
  },
  {
   "cell_type": "code",
   "execution_count": 341,
   "id": "da891329",
   "metadata": {},
   "outputs": [
    {
     "data": {
      "text/html": [
       "<div>\n",
       "<style scoped>\n",
       "    .dataframe tbody tr th:only-of-type {\n",
       "        vertical-align: middle;\n",
       "    }\n",
       "\n",
       "    .dataframe tbody tr th {\n",
       "        vertical-align: top;\n",
       "    }\n",
       "\n",
       "    .dataframe thead th {\n",
       "        text-align: right;\n",
       "    }\n",
       "</style>\n",
       "<table border=\"1\" class=\"dataframe\">\n",
       "  <thead>\n",
       "    <tr style=\"text-align: right;\">\n",
       "      <th></th>\n",
       "      <th>class</th>\n",
       "      <th>pred_0</th>\n",
       "      <th>prob_0</th>\n",
       "    </tr>\n",
       "  </thead>\n",
       "  <tbody>\n",
       "    <tr>\n",
       "      <th>0</th>\n",
       "      <td>0</td>\n",
       "      <td>0.975</td>\n",
       "      <td>0.997678</td>\n",
       "    </tr>\n",
       "    <tr>\n",
       "      <th>1</th>\n",
       "      <td>0</td>\n",
       "      <td>0.990</td>\n",
       "      <td>0.998059</td>\n",
       "    </tr>\n",
       "    <tr>\n",
       "      <th>2</th>\n",
       "      <td>0</td>\n",
       "      <td>0.950</td>\n",
       "      <td>0.995711</td>\n",
       "    </tr>\n",
       "    <tr>\n",
       "      <th>3</th>\n",
       "      <td>0</td>\n",
       "      <td>0.995</td>\n",
       "      <td>0.997517</td>\n",
       "    </tr>\n",
       "    <tr>\n",
       "      <th>4</th>\n",
       "      <td>1</td>\n",
       "      <td>0.105</td>\n",
       "      <td>0.093190</td>\n",
       "    </tr>\n",
       "    <tr>\n",
       "      <th>...</th>\n",
       "      <td>...</td>\n",
       "      <td>...</td>\n",
       "      <td>...</td>\n",
       "    </tr>\n",
       "    <tr>\n",
       "      <th>3583</th>\n",
       "      <td>1</td>\n",
       "      <td>0.150</td>\n",
       "      <td>0.097026</td>\n",
       "    </tr>\n",
       "    <tr>\n",
       "      <th>3584</th>\n",
       "      <td>0</td>\n",
       "      <td>0.995</td>\n",
       "      <td>0.997517</td>\n",
       "    </tr>\n",
       "    <tr>\n",
       "      <th>3585</th>\n",
       "      <td>0</td>\n",
       "      <td>0.915</td>\n",
       "      <td>0.988454</td>\n",
       "    </tr>\n",
       "    <tr>\n",
       "      <th>3586</th>\n",
       "      <td>0</td>\n",
       "      <td>0.990</td>\n",
       "      <td>0.998059</td>\n",
       "    </tr>\n",
       "    <tr>\n",
       "      <th>3587</th>\n",
       "      <td>1</td>\n",
       "      <td>0.300</td>\n",
       "      <td>0.120304</td>\n",
       "    </tr>\n",
       "  </tbody>\n",
       "</table>\n",
       "<p>3588 rows × 3 columns</p>\n",
       "</div>"
      ],
      "text/plain": [
       "      class  pred_0    prob_0\n",
       "0         0   0.975  0.997678\n",
       "1         0   0.990  0.998059\n",
       "2         0   0.950  0.995711\n",
       "3         0   0.995  0.997517\n",
       "4         1   0.105  0.093190\n",
       "...     ...     ...       ...\n",
       "3583      1   0.150  0.097026\n",
       "3584      0   0.995  0.997517\n",
       "3585      0   0.915  0.988454\n",
       "3586      0   0.990  0.998059\n",
       "3587      1   0.300  0.120304\n",
       "\n",
       "[3588 rows x 3 columns]"
      ]
     },
     "execution_count": 341,
     "metadata": {},
     "output_type": "execute_result"
    }
   ],
   "source": [
    "df_all = pd.DataFrame()\n",
    "df_all['class'] = df_test1['class'] \n",
    "df_all['pred_0'] = preds\n",
    "df_all['prob_0'] = all_probs_0\n",
    "#df_all['probs_class_1'] = all_probs_1\n",
    "df_all"
   ]
  },
  {
   "cell_type": "code",
   "execution_count": 20,
   "id": "b70c8f99",
   "metadata": {},
   "outputs": [
    {
     "data": {
      "text/html": [
       "<div>\n",
       "<style scoped>\n",
       "    .dataframe tbody tr th:only-of-type {\n",
       "        vertical-align: middle;\n",
       "    }\n",
       "\n",
       "    .dataframe tbody tr th {\n",
       "        vertical-align: top;\n",
       "    }\n",
       "\n",
       "    .dataframe thead th {\n",
       "        text-align: right;\n",
       "    }\n",
       "</style>\n",
       "<table border=\"1\" class=\"dataframe\">\n",
       "  <thead>\n",
       "    <tr style=\"text-align: right;\">\n",
       "      <th></th>\n",
       "      <th>class</th>\n",
       "      <th>preds</th>\n",
       "      <th>probs_class_0</th>\n",
       "      <th>probs_class_1</th>\n",
       "      <th>prediction</th>\n",
       "    </tr>\n",
       "  </thead>\n",
       "  <tbody>\n",
       "    <tr>\n",
       "      <th>0</th>\n",
       "      <td>0</td>\n",
       "      <td>0.975</td>\n",
       "      <td>0.997848</td>\n",
       "      <td>0.002152</td>\n",
       "      <td>0</td>\n",
       "    </tr>\n",
       "    <tr>\n",
       "      <th>1</th>\n",
       "      <td>0</td>\n",
       "      <td>0.990</td>\n",
       "      <td>0.998329</td>\n",
       "      <td>0.001671</td>\n",
       "      <td>0</td>\n",
       "    </tr>\n",
       "    <tr>\n",
       "      <th>2</th>\n",
       "      <td>0</td>\n",
       "      <td>0.950</td>\n",
       "      <td>0.995933</td>\n",
       "      <td>0.004067</td>\n",
       "      <td>0</td>\n",
       "    </tr>\n",
       "    <tr>\n",
       "      <th>3</th>\n",
       "      <td>0</td>\n",
       "      <td>0.995</td>\n",
       "      <td>0.998112</td>\n",
       "      <td>0.001888</td>\n",
       "      <td>0</td>\n",
       "    </tr>\n",
       "    <tr>\n",
       "      <th>4</th>\n",
       "      <td>1</td>\n",
       "      <td>0.105</td>\n",
       "      <td>0.092222</td>\n",
       "      <td>0.907778</td>\n",
       "      <td>1</td>\n",
       "    </tr>\n",
       "  </tbody>\n",
       "</table>\n",
       "</div>"
      ],
      "text/plain": [
       "   class  preds  probs_class_0  probs_class_1  prediction\n",
       "0      0  0.975       0.997848       0.002152           0\n",
       "1      0  0.990       0.998329       0.001671           0\n",
       "2      0  0.950       0.995933       0.004067           0\n",
       "3      0  0.995       0.998112       0.001888           0\n",
       "4      1  0.105       0.092222       0.907778           1"
      ]
     },
     "execution_count": 20,
     "metadata": {},
     "output_type": "execute_result"
    }
   ],
   "source": [
    "df_all['prediction'] = df_all['probs_class_1'] > 0.5\n",
    "df_all.prediction = df_all.prediction.to_numpy(dtype=int)\n",
    "df_all.head()"
   ]
  },
  {
   "cell_type": "code",
   "execution_count": 330,
   "id": "d27759d9",
   "metadata": {
    "scrolled": true
   },
   "outputs": [
    {
     "data": {
      "image/png": "[encoded data removed]",
      "text/plain": [
       "<Figure size 432x288 with 1 Axes>"
      ]
     },
     "metadata": {
      "needs_background": "light"
     },
     "output_type": "display_data"
    }
   ],
   "source": [
    "df_all.plot.scatter(x='preds_0', y='probs_0')\n",
    "plt.xlabel('RF % Output')\n",
    "plt.ylabel('probability of class 1')\n",
    "plt.xlim(0,1)\n",
    "plt.ylim(0,1)\n",
    "plt.grid()\n",
    "\n",
    "\n",
    "#plt.savefig('../dataset/RF_output.png')\n",
    "plt.show()"
   ]
  },
  {
   "cell_type": "markdown",
   "id": "85417d59",
   "metadata": {},
   "source": [
    "## Confusion matrix for original predictions"
   ]
  },
  {
   "cell_type": "code",
   "execution_count": 331,
   "id": "c5440cd0",
   "metadata": {},
   "outputs": [
    {
     "data": {
      "image/png": "[encoded data removed]",
      "text/plain": [
       "<Figure size 432x288 with 2 Axes>"
      ]
     },
     "metadata": {
      "needs_background": "light"
     },
     "output_type": "display_data"
    }
   ],
   "source": [
    "y = df_all['class'].to_numpy()\n",
    "y_pred = df_test1.predicted_class.to_numpy()\n",
    "cm = confusion_matrix(y, y_pred)\n",
    "f = sns.heatmap(cm, annot=True, fmt='d')\n",
    "plt.show()"
   ]
  },
  {
   "cell_type": "markdown",
   "id": "8df944b7",
   "metadata": {},
   "source": [
    "## Confusion matrix for corrected predictions"
   ]
  },
  {
   "cell_type": "code",
   "execution_count": 332,
   "id": "4290d2e4",
   "metadata": {},
   "outputs": [
    {
     "ename": "AttributeError",
     "evalue": "'DataFrame' object has no attribute 'prediction'",
     "output_type": "error",
     "traceback": [
      "\u001b[0;31m---------------------------------------------------------------------------\u001b[0m",
      "\u001b[0;31mAttributeError\u001b[0m                            Traceback (most recent call last)",
      "\u001b[0;32m/tmp/ipykernel_100510/486321277.py\u001b[0m in \u001b[0;36m<module>\u001b[0;34m\u001b[0m\n\u001b[1;32m      1\u001b[0m \u001b[0my\u001b[0m \u001b[0;34m=\u001b[0m \u001b[0mdf_all\u001b[0m\u001b[0;34m[\u001b[0m\u001b[0;34m'class'\u001b[0m\u001b[0;34m]\u001b[0m\u001b[0;34m.\u001b[0m\u001b[0mto_numpy\u001b[0m\u001b[0;34m(\u001b[0m\u001b[0;34m)\u001b[0m\u001b[0;34m\u001b[0m\u001b[0;34m\u001b[0m\u001b[0m\n\u001b[0;32m----> 2\u001b[0;31m \u001b[0my_pred\u001b[0m \u001b[0;34m=\u001b[0m \u001b[0mdf_all\u001b[0m\u001b[0;34m.\u001b[0m\u001b[0mprediction\u001b[0m\u001b[0;34m.\u001b[0m\u001b[0mto_numpy\u001b[0m\u001b[0;34m(\u001b[0m\u001b[0;34m)\u001b[0m\u001b[0;34m\u001b[0m\u001b[0;34m\u001b[0m\u001b[0m\n\u001b[0m\u001b[1;32m      3\u001b[0m \u001b[0mcm\u001b[0m \u001b[0;34m=\u001b[0m \u001b[0mconfusion_matrix\u001b[0m\u001b[0;34m(\u001b[0m\u001b[0my\u001b[0m\u001b[0;34m,\u001b[0m \u001b[0my_pred\u001b[0m\u001b[0;34m)\u001b[0m\u001b[0;34m\u001b[0m\u001b[0;34m\u001b[0m\u001b[0m\n\u001b[1;32m      4\u001b[0m \u001b[0mf\u001b[0m \u001b[0;34m=\u001b[0m \u001b[0msns\u001b[0m\u001b[0;34m.\u001b[0m\u001b[0mheatmap\u001b[0m\u001b[0;34m(\u001b[0m\u001b[0mcm\u001b[0m\u001b[0;34m,\u001b[0m \u001b[0mannot\u001b[0m\u001b[0;34m=\u001b[0m\u001b[0;32mTrue\u001b[0m\u001b[0;34m,\u001b[0m \u001b[0mfmt\u001b[0m\u001b[0;34m=\u001b[0m\u001b[0;34m'd'\u001b[0m\u001b[0;34m)\u001b[0m\u001b[0;34m\u001b[0m\u001b[0;34m\u001b[0m\u001b[0m\n\u001b[1;32m      5\u001b[0m \u001b[0mplt\u001b[0m\u001b[0;34m.\u001b[0m\u001b[0mshow\u001b[0m\u001b[0;34m(\u001b[0m\u001b[0;34m)\u001b[0m\u001b[0;34m\u001b[0m\u001b[0;34m\u001b[0m\u001b[0m\n",
      "\u001b[0;32m~/anaconda3/envs/fastai-drug/lib/python3.7/site-packages/pandas/core/generic.py\u001b[0m in \u001b[0;36m__getattr__\u001b[0;34m(self, name)\u001b[0m\n\u001b[1;32m   5485\u001b[0m         ):\n\u001b[1;32m   5486\u001b[0m             \u001b[0;32mreturn\u001b[0m \u001b[0mself\u001b[0m\u001b[0;34m[\u001b[0m\u001b[0mname\u001b[0m\u001b[0;34m]\u001b[0m\u001b[0;34m\u001b[0m\u001b[0;34m\u001b[0m\u001b[0m\n\u001b[0;32m-> 5487\u001b[0;31m         \u001b[0;32mreturn\u001b[0m \u001b[0mobject\u001b[0m\u001b[0;34m.\u001b[0m\u001b[0m__getattribute__\u001b[0m\u001b[0;34m(\u001b[0m\u001b[0mself\u001b[0m\u001b[0;34m,\u001b[0m \u001b[0mname\u001b[0m\u001b[0;34m)\u001b[0m\u001b[0;34m\u001b[0m\u001b[0;34m\u001b[0m\u001b[0m\n\u001b[0m\u001b[1;32m   5488\u001b[0m \u001b[0;34m\u001b[0m\u001b[0m\n\u001b[1;32m   5489\u001b[0m     \u001b[0;32mdef\u001b[0m \u001b[0m__setattr__\u001b[0m\u001b[0;34m(\u001b[0m\u001b[0mself\u001b[0m\u001b[0;34m,\u001b[0m \u001b[0mname\u001b[0m\u001b[0;34m:\u001b[0m \u001b[0mstr\u001b[0m\u001b[0;34m,\u001b[0m \u001b[0mvalue\u001b[0m\u001b[0;34m)\u001b[0m \u001b[0;34m->\u001b[0m \u001b[0;32mNone\u001b[0m\u001b[0;34m:\u001b[0m\u001b[0;34m\u001b[0m\u001b[0;34m\u001b[0m\u001b[0m\n",
      "\u001b[0;31mAttributeError\u001b[0m: 'DataFrame' object has no attribute 'prediction'"
     ]
    }
   ],
   "source": [
    "y = df_all['class'].to_numpy()\n",
    "y_pred = df_all.prediction.to_numpy()\n",
    "cm = confusion_matrix(y, y_pred)\n",
    "f = sns.heatmap(cm, annot=True, fmt='d')\n",
    "plt.show()"
   ]
  },
  {
   "cell_type": "code",
   "execution_count": 333,
   "id": "ef58193f",
   "metadata": {},
   "outputs": [],
   "source": [
    "df_all.to_csv(DATA/'RF_bayesian_prob_test1.csv', index=False)"
   ]
  },
  {
   "cell_type": "markdown",
   "id": "accbf4af",
   "metadata": {},
   "source": [
    "### same for test set 2"
   ]
  },
  {
   "cell_type": "code",
   "execution_count": 404,
   "id": "43496e34",
   "metadata": {},
   "outputs": [
    {
     "data": {
      "text/html": [
       "<div>\n",
       "<style scoped>\n",
       "    .dataframe tbody tr th:only-of-type {\n",
       "        vertical-align: middle;\n",
       "    }\n",
       "\n",
       "    .dataframe tbody tr th {\n",
       "        vertical-align: top;\n",
       "    }\n",
       "\n",
       "    .dataframe thead th {\n",
       "        text-align: right;\n",
       "    }\n",
       "</style>\n",
       "<table border=\"1\" class=\"dataframe\">\n",
       "  <thead>\n",
       "    <tr style=\"text-align: right;\">\n",
       "      <th></th>\n",
       "      <th>class</th>\n",
       "      <th>predictions</th>\n",
       "      <th>predicted_class</th>\n",
       "    </tr>\n",
       "  </thead>\n",
       "  <tbody>\n",
       "    <tr>\n",
       "      <th>0</th>\n",
       "      <td>0</td>\n",
       "      <td>[0.975 0.025]</td>\n",
       "      <td>0</td>\n",
       "    </tr>\n",
       "    <tr>\n",
       "      <th>1</th>\n",
       "      <td>0</td>\n",
       "      <td>[0.99 0.01]</td>\n",
       "      <td>0</td>\n",
       "    </tr>\n",
       "    <tr>\n",
       "      <th>2</th>\n",
       "      <td>0</td>\n",
       "      <td>[0.95 0.05]</td>\n",
       "      <td>0</td>\n",
       "    </tr>\n",
       "    <tr>\n",
       "      <th>3</th>\n",
       "      <td>0</td>\n",
       "      <td>[0.995 0.005]</td>\n",
       "      <td>0</td>\n",
       "    </tr>\n",
       "    <tr>\n",
       "      <th>4</th>\n",
       "      <td>1</td>\n",
       "      <td>[0.105 0.895]</td>\n",
       "      <td>1</td>\n",
       "    </tr>\n",
       "  </tbody>\n",
       "</table>\n",
       "</div>"
      ],
      "text/plain": [
       "   class    predictions  predicted_class\n",
       "0      0  [0.975 0.025]                0\n",
       "1      0    [0.99 0.01]                0\n",
       "2      0    [0.95 0.05]                0\n",
       "3      0  [0.995 0.005]                0\n",
       "4      1  [0.105 0.895]                1"
      ]
     },
     "execution_count": 404,
     "metadata": {},
     "output_type": "execute_result"
    }
   ],
   "source": [
    "df_test2 = pd.read_csv(f'{CHEMBL205}/CHEMBL205_predictions_RF_test2.csv')\n",
    "df_test2.head()"
   ]
  },
  {
   "cell_type": "code",
   "execution_count": 405,
   "id": "bd5ccbe1",
   "metadata": {},
   "outputs": [
    {
     "data": {
      "text/html": [
       "<div>\n",
       "<style scoped>\n",
       "    .dataframe tbody tr th:only-of-type {\n",
       "        vertical-align: middle;\n",
       "    }\n",
       "\n",
       "    .dataframe tbody tr th {\n",
       "        vertical-align: top;\n",
       "    }\n",
       "\n",
       "    .dataframe thead th {\n",
       "        text-align: right;\n",
       "    }\n",
       "</style>\n",
       "<table border=\"1\" class=\"dataframe\">\n",
       "  <thead>\n",
       "    <tr style=\"text-align: right;\">\n",
       "      <th></th>\n",
       "      <th>class</th>\n",
       "      <th>predictions</th>\n",
       "      <th>predicted_class</th>\n",
       "      <th>preds</th>\n",
       "      <th>pred_0</th>\n",
       "    </tr>\n",
       "  </thead>\n",
       "  <tbody>\n",
       "    <tr>\n",
       "      <th>0</th>\n",
       "      <td>0</td>\n",
       "      <td>[0.975 0.025]</td>\n",
       "      <td>0</td>\n",
       "      <td>[0.975, 0.025]</td>\n",
       "      <td>0.975</td>\n",
       "    </tr>\n",
       "    <tr>\n",
       "      <th>1</th>\n",
       "      <td>0</td>\n",
       "      <td>[0.99 0.01]</td>\n",
       "      <td>0</td>\n",
       "      <td>[0.99, 0.01]</td>\n",
       "      <td>0.990</td>\n",
       "    </tr>\n",
       "    <tr>\n",
       "      <th>2</th>\n",
       "      <td>0</td>\n",
       "      <td>[0.95 0.05]</td>\n",
       "      <td>0</td>\n",
       "      <td>[0.95, 0.05]</td>\n",
       "      <td>0.950</td>\n",
       "    </tr>\n",
       "    <tr>\n",
       "      <th>3</th>\n",
       "      <td>0</td>\n",
       "      <td>[0.995 0.005]</td>\n",
       "      <td>0</td>\n",
       "      <td>[0.995, 0.005]</td>\n",
       "      <td>0.995</td>\n",
       "    </tr>\n",
       "    <tr>\n",
       "      <th>4</th>\n",
       "      <td>1</td>\n",
       "      <td>[0.105 0.895]</td>\n",
       "      <td>1</td>\n",
       "      <td>[0.105, 0.895]</td>\n",
       "      <td>0.105</td>\n",
       "    </tr>\n",
       "  </tbody>\n",
       "</table>\n",
       "</div>"
      ],
      "text/plain": [
       "   class    predictions  predicted_class           preds  pred_0\n",
       "0      0  [0.975 0.025]                0  [0.975, 0.025]   0.975\n",
       "1      0    [0.99 0.01]                0    [0.99, 0.01]   0.990\n",
       "2      0    [0.95 0.05]                0    [0.95, 0.05]   0.950\n",
       "3      0  [0.995 0.005]                0  [0.995, 0.005]   0.995\n",
       "4      1  [0.105 0.895]                1  [0.105, 0.895]   0.105"
      ]
     },
     "execution_count": 405,
     "metadata": {},
     "output_type": "execute_result"
    }
   ],
   "source": [
    "df_test2['preds'] = [get_substring_list(r['predictions'].split(' '))  for i, r in df_test2.iterrows()] # str to list\n",
    "df_test2['pred_0'] = [r['preds'][0] for i, r in df_test2.iterrows()]\n",
    "df_test2.head()"
   ]
  },
  {
   "cell_type": "code",
   "execution_count": 406,
   "id": "5ef78784",
   "metadata": {},
   "outputs": [
    {
     "data": {
      "text/html": [
       "<div>\n",
       "<style scoped>\n",
       "    .dataframe tbody tr th:only-of-type {\n",
       "        vertical-align: middle;\n",
       "    }\n",
       "\n",
       "    .dataframe tbody tr th {\n",
       "        vertical-align: top;\n",
       "    }\n",
       "\n",
       "    .dataframe thead th {\n",
       "        text-align: right;\n",
       "    }\n",
       "</style>\n",
       "<table border=\"1\" class=\"dataframe\">\n",
       "  <thead>\n",
       "    <tr style=\"text-align: right;\">\n",
       "      <th></th>\n",
       "      <th>class</th>\n",
       "      <th>predicted_class</th>\n",
       "      <th>pred_0</th>\n",
       "    </tr>\n",
       "  </thead>\n",
       "  <tbody>\n",
       "    <tr>\n",
       "      <th>0</th>\n",
       "      <td>0</td>\n",
       "      <td>0</td>\n",
       "      <td>0.975</td>\n",
       "    </tr>\n",
       "    <tr>\n",
       "      <th>1</th>\n",
       "      <td>0</td>\n",
       "      <td>0</td>\n",
       "      <td>0.990</td>\n",
       "    </tr>\n",
       "    <tr>\n",
       "      <th>2</th>\n",
       "      <td>0</td>\n",
       "      <td>0</td>\n",
       "      <td>0.950</td>\n",
       "    </tr>\n",
       "    <tr>\n",
       "      <th>3</th>\n",
       "      <td>0</td>\n",
       "      <td>0</td>\n",
       "      <td>0.995</td>\n",
       "    </tr>\n",
       "    <tr>\n",
       "      <th>4</th>\n",
       "      <td>1</td>\n",
       "      <td>1</td>\n",
       "      <td>0.105</td>\n",
       "    </tr>\n",
       "  </tbody>\n",
       "</table>\n",
       "</div>"
      ],
      "text/plain": [
       "   class  predicted_class  pred_0\n",
       "0      0                0   0.975\n",
       "1      0                0   0.990\n",
       "2      0                0   0.950\n",
       "3      0                0   0.995\n",
       "4      1                1   0.105"
      ]
     },
     "execution_count": 406,
     "metadata": {},
     "output_type": "execute_result"
    }
   ],
   "source": [
    "df_test2 = df_test2.drop(columns=['predictions', 'preds'])\n",
    "df_test2.head()"
   ]
  },
  {
   "cell_type": "code",
   "execution_count": 407,
   "id": "04f4897c",
   "metadata": {},
   "outputs": [],
   "source": [
    "preds = df_test2.pred_0"
   ]
  },
  {
   "cell_type": "code",
   "execution_count": 408,
   "id": "c7775639",
   "metadata": {},
   "outputs": [
    {
     "data": {
      "text/plain": [
       "array([0.99767754, 0.99805904, 0.99571107, ..., 0.99805904, 0.12030366,\n",
       "       0.99767754])"
      ]
     },
     "execution_count": 408,
     "metadata": {},
     "output_type": "execute_result"
    }
   ],
   "source": [
    "probs_0 = get_probs(preds, 0)\n",
    "probs_0"
   ]
  },
  {
   "cell_type": "code",
   "execution_count": 409,
   "id": "9e19b15f",
   "metadata": {},
   "outputs": [
    {
     "data": {
      "text/html": [
       "<div>\n",
       "<style scoped>\n",
       "    .dataframe tbody tr th:only-of-type {\n",
       "        vertical-align: middle;\n",
       "    }\n",
       "\n",
       "    .dataframe tbody tr th {\n",
       "        vertical-align: top;\n",
       "    }\n",
       "\n",
       "    .dataframe thead th {\n",
       "        text-align: right;\n",
       "    }\n",
       "</style>\n",
       "<table border=\"1\" class=\"dataframe\">\n",
       "  <thead>\n",
       "    <tr style=\"text-align: right;\">\n",
       "      <th></th>\n",
       "      <th>class</th>\n",
       "      <th>predicted_class</th>\n",
       "      <th>pred_0</th>\n",
       "      <th>prob_0</th>\n",
       "    </tr>\n",
       "  </thead>\n",
       "  <tbody>\n",
       "    <tr>\n",
       "      <th>0</th>\n",
       "      <td>0</td>\n",
       "      <td>0</td>\n",
       "      <td>0.975</td>\n",
       "      <td>0.997678</td>\n",
       "    </tr>\n",
       "    <tr>\n",
       "      <th>1</th>\n",
       "      <td>0</td>\n",
       "      <td>0</td>\n",
       "      <td>0.990</td>\n",
       "      <td>0.998059</td>\n",
       "    </tr>\n",
       "    <tr>\n",
       "      <th>2</th>\n",
       "      <td>0</td>\n",
       "      <td>0</td>\n",
       "      <td>0.950</td>\n",
       "      <td>0.995711</td>\n",
       "    </tr>\n",
       "    <tr>\n",
       "      <th>3</th>\n",
       "      <td>0</td>\n",
       "      <td>0</td>\n",
       "      <td>0.995</td>\n",
       "      <td>0.997517</td>\n",
       "    </tr>\n",
       "    <tr>\n",
       "      <th>4</th>\n",
       "      <td>1</td>\n",
       "      <td>1</td>\n",
       "      <td>0.105</td>\n",
       "      <td>0.093190</td>\n",
       "    </tr>\n",
       "  </tbody>\n",
       "</table>\n",
       "</div>"
      ],
      "text/plain": [
       "   class  predicted_class  pred_0    prob_0\n",
       "0      0                0   0.975  0.997678\n",
       "1      0                0   0.990  0.998059\n",
       "2      0                0   0.950  0.995711\n",
       "3      0                0   0.995  0.997517\n",
       "4      1                1   0.105  0.093190"
      ]
     },
     "execution_count": 409,
     "metadata": {},
     "output_type": "execute_result"
    }
   ],
   "source": [
    "df_test2['prob_0'] = probs_0\n",
    "df_test2.head()"
   ]
  },
  {
   "cell_type": "code",
   "execution_count": 410,
   "id": "36a3da42",
   "metadata": {},
   "outputs": [],
   "source": [
    "df_test2.to_csv(DATA/'RF_bayesian_prob_test2.csv', index=False) # save bayesian probabilites as csv"
   ]
  },
  {
   "cell_type": "code",
   "execution_count": 414,
   "id": "9f7ba9b5",
   "metadata": {},
   "outputs": [
    {
     "data": {
      "text/html": [
       "<div>\n",
       "<style scoped>\n",
       "    .dataframe tbody tr th:only-of-type {\n",
       "        vertical-align: middle;\n",
       "    }\n",
       "\n",
       "    .dataframe tbody tr th {\n",
       "        vertical-align: top;\n",
       "    }\n",
       "\n",
       "    .dataframe thead th {\n",
       "        text-align: right;\n",
       "    }\n",
       "</style>\n",
       "<table border=\"1\" class=\"dataframe\">\n",
       "  <thead>\n",
       "    <tr style=\"text-align: right;\">\n",
       "      <th></th>\n",
       "      <th>class</th>\n",
       "      <th>predicted_class</th>\n",
       "      <th>pred_0</th>\n",
       "      <th>prob_0</th>\n",
       "    </tr>\n",
       "  </thead>\n",
       "  <tbody>\n",
       "    <tr>\n",
       "      <th>1479</th>\n",
       "      <td>1</td>\n",
       "      <td>0</td>\n",
       "      <td>0.5</td>\n",
       "      <td>0.199707</td>\n",
       "    </tr>\n",
       "    <tr>\n",
       "      <th>1658</th>\n",
       "      <td>1</td>\n",
       "      <td>0</td>\n",
       "      <td>0.5</td>\n",
       "      <td>0.199707</td>\n",
       "    </tr>\n",
       "    <tr>\n",
       "      <th>2165</th>\n",
       "      <td>1</td>\n",
       "      <td>0</td>\n",
       "      <td>0.5</td>\n",
       "      <td>0.199707</td>\n",
       "    </tr>\n",
       "  </tbody>\n",
       "</table>\n",
       "</div>"
      ],
      "text/plain": [
       "      class  predicted_class  pred_0    prob_0\n",
       "1479      1                0     0.5  0.199707\n",
       "1658      1                0     0.5  0.199707\n",
       "2165      1                0     0.5  0.199707"
      ]
     },
     "execution_count": 414,
     "metadata": {},
     "output_type": "execute_result"
    }
   ],
   "source": [
    "arr = df_test2[df_test2['pred_0'] == 0.5]\n",
    "arr = arr[arr['predicted_class'] == 0]\n",
    "arr"
   ]
  },
  {
   "cell_type": "code",
   "execution_count": 21,
   "id": "bb569dc1",
   "metadata": {},
   "outputs": [],
   "source": [
    "def choose_class(x, um):\n",
    "    \"\"\"\n",
    "    x = either one number between 0-1, or a (normalized) vector of probabilities\n",
    "        if it's one number then we are in a binary classification case\n",
    "        and x is the probability of CLASS 0\n",
    "    um = utility matrix in the format [[T0,F0],[F1,T1]]\n",
    "    \"\"\"\n",
    "    if type(x) == float or type(x) == np.float64: # x is float and is the probability of class 0\n",
    "        x = np.array([x])\n",
    "        x = np.concatenate((x, 1-x)) # transform into prob. vector\n",
    "    um = np.array(um)\n",
    "    utilities = np.matmul(um, x)\n",
    "    cl = np.argmax(utilities)\n",
    "    return cl"
   ]
  },
  {
   "cell_type": "code",
   "execution_count": 64,
   "id": "bb792062",
   "metadata": {},
   "outputs": [],
   "source": [
    "um = np.array([[1, -1], [0, 1]])"
   ]
  },
  {
   "cell_type": "code",
   "execution_count": 131,
   "id": "9344e2d3",
   "metadata": {},
   "outputs": [
    {
     "data": {
      "text/plain": [
       "1"
      ]
     },
     "execution_count": 131,
     "metadata": {},
     "output_type": "execute_result"
    }
   ],
   "source": [
    "c = choose_class(0.6, um)\n",
    "c"
   ]
  },
  {
   "cell_type": "code",
   "execution_count": 112,
   "id": "3731f205",
   "metadata": {},
   "outputs": [
    {
     "data": {
      "text/plain": [
       "0"
      ]
     },
     "execution_count": 112,
     "metadata": {},
     "output_type": "execute_result"
    }
   ],
   "source": [
    "cl = np.argmax(utilities)\n",
    "cl"
   ]
  },
  {
   "cell_type": "markdown",
   "id": "f0f18979",
   "metadata": {},
   "source": [
    "## Test score for regular probability and bayesian probability from utility matrix"
   ]
  },
  {
   "cell_type": "code",
   "execution_count": 150,
   "id": "2eb9c29a",
   "metadata": {},
   "outputs": [
    {
     "data": {
      "text/html": [
       "<div>\n",
       "<style scoped>\n",
       "    .dataframe tbody tr th:only-of-type {\n",
       "        vertical-align: middle;\n",
       "    }\n",
       "\n",
       "    .dataframe tbody tr th {\n",
       "        vertical-align: top;\n",
       "    }\n",
       "\n",
       "    .dataframe thead th {\n",
       "        text-align: right;\n",
       "    }\n",
       "</style>\n",
       "<table border=\"1\" class=\"dataframe\">\n",
       "  <thead>\n",
       "    <tr style=\"text-align: right;\">\n",
       "      <th></th>\n",
       "      <th>class</th>\n",
       "      <th>pred_0</th>\n",
       "      <th>prob_0</th>\n",
       "    </tr>\n",
       "  </thead>\n",
       "  <tbody>\n",
       "    <tr>\n",
       "      <th>0</th>\n",
       "      <td>0</td>\n",
       "      <td>0.975</td>\n",
       "      <td>0.997848</td>\n",
       "    </tr>\n",
       "    <tr>\n",
       "      <th>1</th>\n",
       "      <td>0</td>\n",
       "      <td>0.990</td>\n",
       "      <td>0.998329</td>\n",
       "    </tr>\n",
       "    <tr>\n",
       "      <th>2</th>\n",
       "      <td>0</td>\n",
       "      <td>0.950</td>\n",
       "      <td>0.995933</td>\n",
       "    </tr>\n",
       "    <tr>\n",
       "      <th>3</th>\n",
       "      <td>0</td>\n",
       "      <td>0.995</td>\n",
       "      <td>0.998112</td>\n",
       "    </tr>\n",
       "    <tr>\n",
       "      <th>4</th>\n",
       "      <td>1</td>\n",
       "      <td>0.105</td>\n",
       "      <td>0.092222</td>\n",
       "    </tr>\n",
       "  </tbody>\n",
       "</table>\n",
       "</div>"
      ],
      "text/plain": [
       "   class  pred_0    prob_0\n",
       "0      0   0.975  0.997848\n",
       "1      0   0.990  0.998329\n",
       "2      0   0.950  0.995933\n",
       "3      0   0.995  0.998112\n",
       "4      1   0.105  0.092222"
      ]
     },
     "execution_count": 150,
     "metadata": {},
     "output_type": "execute_result"
    }
   ],
   "source": [
    "df_test2.head() # actual class, prediction from RF, bayesian corrected probability "
   ]
  },
  {
   "cell_type": "markdown",
   "id": "bf6b5936",
   "metadata": {},
   "source": [
    "### We need to calculate each class chosen with the same utility matrix and then compare"
   ]
  },
  {
   "cell_type": "code",
   "execution_count": 289,
   "id": "7a2eb49b",
   "metadata": {},
   "outputs": [
    {
     "data": {
      "text/html": [
       "\n",
       "        <iframe\n",
       "            width=\"1000\"\n",
       "            height=\"600\"\n",
       "            src=\"../dataset/probabilities/comparison_schema.pdf\"\n",
       "            frameborder=\"0\"\n",
       "            allowfullscreen\n",
       "            \n",
       "        ></iframe>\n",
       "        "
      ],
      "text/plain": [
       "<IPython.lib.display.IFrame at 0x7f7a6a642090>"
      ]
     },
     "execution_count": 289,
     "metadata": {},
     "output_type": "execute_result"
    }
   ],
   "source": [
    "from IPython.display import IFrame\n",
    "IFrame(DATA/'comparison_schema.pdf', width=1000, height=600)"
   ]
  },
  {
   "cell_type": "code",
   "execution_count": 40,
   "id": "c84f03cf",
   "metadata": {},
   "outputs": [],
   "source": [
    "''' \n",
    "Utility matrix format: \n",
    "    [[TN, FN],\n",
    "     [FP, TP]]\n",
    "'''\n",
    "um = np.array([[1, -1], [0, 1]])"
   ]
  },
  {
   "cell_type": "code",
   "execution_count": 61,
   "id": "e87fd2b3",
   "metadata": {},
   "outputs": [
    {
     "data": {
      "text/plain": [
       "array([0.975, 0.99 , 0.95 , ..., 0.99 , 0.3  , 0.975])"
      ]
     },
     "execution_count": 61,
     "metadata": {},
     "output_type": "execute_result"
    }
   ],
   "source": [
    "xs = df_test2['pred_0'].to_numpy()\n",
    "xs"
   ]
  },
  {
   "cell_type": "code",
   "execution_count": 76,
   "id": "35bfe0a2",
   "metadata": {},
   "outputs": [
    {
     "data": {
      "text/html": [
       "<div>\n",
       "<style scoped>\n",
       "    .dataframe tbody tr th:only-of-type {\n",
       "        vertical-align: middle;\n",
       "    }\n",
       "\n",
       "    .dataframe tbody tr th {\n",
       "        vertical-align: top;\n",
       "    }\n",
       "\n",
       "    .dataframe thead th {\n",
       "        text-align: right;\n",
       "    }\n",
       "</style>\n",
       "<table border=\"1\" class=\"dataframe\">\n",
       "  <thead>\n",
       "    <tr style=\"text-align: right;\">\n",
       "      <th></th>\n",
       "      <th>class</th>\n",
       "      <th>pred_0</th>\n",
       "      <th>prob_0</th>\n",
       "      <th>ut_class_prob_0</th>\n",
       "      <th>class_pred_0</th>\n",
       "    </tr>\n",
       "  </thead>\n",
       "  <tbody>\n",
       "    <tr>\n",
       "      <th>0</th>\n",
       "      <td>0</td>\n",
       "      <td>0.975</td>\n",
       "      <td>0.997848</td>\n",
       "      <td>0</td>\n",
       "      <td>0</td>\n",
       "    </tr>\n",
       "    <tr>\n",
       "      <th>1</th>\n",
       "      <td>0</td>\n",
       "      <td>0.990</td>\n",
       "      <td>0.998329</td>\n",
       "      <td>0</td>\n",
       "      <td>0</td>\n",
       "    </tr>\n",
       "    <tr>\n",
       "      <th>2</th>\n",
       "      <td>0</td>\n",
       "      <td>0.950</td>\n",
       "      <td>0.995933</td>\n",
       "      <td>0</td>\n",
       "      <td>0</td>\n",
       "    </tr>\n",
       "    <tr>\n",
       "      <th>3</th>\n",
       "      <td>0</td>\n",
       "      <td>0.995</td>\n",
       "      <td>0.998112</td>\n",
       "      <td>0</td>\n",
       "      <td>0</td>\n",
       "    </tr>\n",
       "    <tr>\n",
       "      <th>4</th>\n",
       "      <td>1</td>\n",
       "      <td>0.105</td>\n",
       "      <td>0.092222</td>\n",
       "      <td>1</td>\n",
       "      <td>1</td>\n",
       "    </tr>\n",
       "  </tbody>\n",
       "</table>\n",
       "</div>"
      ],
      "text/plain": [
       "   class  pred_0    prob_0  ut_class_prob_0  class_pred_0\n",
       "0      0   0.975  0.997848                0             0\n",
       "1      0   0.990  0.998329                0             0\n",
       "2      0   0.950  0.995933                0             0\n",
       "3      0   0.995  0.998112                0             0\n",
       "4      1   0.105  0.092222                1             1"
      ]
     },
     "execution_count": 76,
     "metadata": {},
     "output_type": "execute_result"
    }
   ],
   "source": [
    "df_test2['class_pred_0'] = np.array(df_test2['pred_0'] < 0.5, dtype=int)\n",
    "df_test2.head()"
   ]
  },
  {
   "cell_type": "code",
   "execution_count": 43,
   "id": "0dd58c4c",
   "metadata": {},
   "outputs": [
    {
     "data": {
      "text/html": [
       "<div>\n",
       "<style scoped>\n",
       "    .dataframe tbody tr th:only-of-type {\n",
       "        vertical-align: middle;\n",
       "    }\n",
       "\n",
       "    .dataframe tbody tr th {\n",
       "        vertical-align: top;\n",
       "    }\n",
       "\n",
       "    .dataframe thead th {\n",
       "        text-align: right;\n",
       "    }\n",
       "</style>\n",
       "<table border=\"1\" class=\"dataframe\">\n",
       "  <thead>\n",
       "    <tr style=\"text-align: right;\">\n",
       "      <th></th>\n",
       "      <th>class</th>\n",
       "      <th>pred_0</th>\n",
       "      <th>prob_0</th>\n",
       "      <th>ut_class_pred_0</th>\n",
       "      <th>ut_class_prob_0</th>\n",
       "    </tr>\n",
       "  </thead>\n",
       "  <tbody>\n",
       "    <tr>\n",
       "      <th>0</th>\n",
       "      <td>0</td>\n",
       "      <td>0.975</td>\n",
       "      <td>0.997848</td>\n",
       "      <td>0</td>\n",
       "      <td>0</td>\n",
       "    </tr>\n",
       "    <tr>\n",
       "      <th>1</th>\n",
       "      <td>0</td>\n",
       "      <td>0.990</td>\n",
       "      <td>0.998329</td>\n",
       "      <td>0</td>\n",
       "      <td>0</td>\n",
       "    </tr>\n",
       "    <tr>\n",
       "      <th>2</th>\n",
       "      <td>0</td>\n",
       "      <td>0.950</td>\n",
       "      <td>0.995933</td>\n",
       "      <td>0</td>\n",
       "      <td>0</td>\n",
       "    </tr>\n",
       "    <tr>\n",
       "      <th>3</th>\n",
       "      <td>0</td>\n",
       "      <td>0.995</td>\n",
       "      <td>0.998112</td>\n",
       "      <td>0</td>\n",
       "      <td>0</td>\n",
       "    </tr>\n",
       "    <tr>\n",
       "      <th>4</th>\n",
       "      <td>1</td>\n",
       "      <td>0.105</td>\n",
       "      <td>0.092222</td>\n",
       "      <td>1</td>\n",
       "      <td>1</td>\n",
       "    </tr>\n",
       "  </tbody>\n",
       "</table>\n",
       "</div>"
      ],
      "text/plain": [
       "   class  pred_0    prob_0  ut_class_pred_0  ut_class_prob_0\n",
       "0      0   0.975  0.997848                0                0\n",
       "1      0   0.990  0.998329                0                0\n",
       "2      0   0.950  0.995933                0                0\n",
       "3      0   0.995  0.998112                0                0\n",
       "4      1   0.105  0.092222                1                1"
      ]
     },
     "execution_count": 43,
     "metadata": {},
     "output_type": "execute_result"
    }
   ],
   "source": [
    "df_test2['ut_class_prob_0'] = [choose_class(r['prob_0'], um) for i, r  in df_test2.iterrows()]\n",
    "df_test2.head()"
   ]
  },
  {
   "cell_type": "markdown",
   "id": "261b7f39",
   "metadata": {},
   "source": [
    "### Check confusion matrix for the 2 outputs from the utility matrix"
   ]
  },
  {
   "cell_type": "code",
   "execution_count": 109,
   "id": "93ce6c26",
   "metadata": {},
   "outputs": [],
   "source": [
    "def get_total_cost (um, cm):\n",
    "    if um.max() > 1: # highest number in utility matrix == 1\n",
    "        um /= np.abs(um).max()\n",
    "    s = um * cm\n",
    "    s = s.sum()\n",
    "    return s"
   ]
  },
  {
   "cell_type": "code",
   "execution_count": 100,
   "id": "840cf903",
   "metadata": {},
   "outputs": [],
   "source": [
    "''' \n",
    "Utility matrix format: \n",
    "    [[TN, FN],\n",
    "     [FP, TP]]\n",
    "'''\n",
    "um = np.array([[1, 0], [-1, 1]])"
   ]
  },
  {
   "cell_type": "code",
   "execution_count": 107,
   "id": "031b1e1d",
   "metadata": {},
   "outputs": [
    {
     "name": "stdout",
     "output_type": "stream",
     "text": [
      "Confusion matrix for RF output:\n"
     ]
    },
    {
     "data": {
      "image/png": "[encoded data removed]",
      "text/plain": [
       "<Figure size 432x288 with 2 Axes>"
      ]
     },
     "metadata": {
      "needs_background": "light"
     },
     "output_type": "display_data"
    }
   ],
   "source": [
    "# Confusion matrix for RF output\n",
    "y = df_test2['class'].to_numpy()\n",
    "y_pred = df_test2['class_pred_0'].to_numpy()\n",
    "cm = confusion_matrix(y, y_pred)\n",
    "f = sns.heatmap(cm, annot=True, fmt='d')\n",
    "print('Confusion matrix for RF output:')\n",
    "plt.show()"
   ]
  },
  {
   "cell_type": "code",
   "execution_count": 108,
   "id": "7f9e7a6f",
   "metadata": {},
   "outputs": [
    {
     "name": "stdout",
     "output_type": "stream",
     "text": [
      "Total gains/loss for confusion matrix above: 3384\n"
     ]
    }
   ],
   "source": [
    "cost = get_total_cost(um, cm)\n",
    "print(f'Total gains/loss for confusion matrix above: {cost}')"
   ]
  },
  {
   "cell_type": "code",
   "execution_count": 109,
   "id": "33b6fb57",
   "metadata": {
    "scrolled": true
   },
   "outputs": [
    {
     "name": "stdout",
     "output_type": "stream",
     "text": [
      "Confusion matrix for bayesian probability output combined with utility matrix:\n"
     ]
    },
    {
     "data": {
      "image/png": "[encoded data removed]",
      "text/plain": [
       "<Figure size 432x288 with 2 Axes>"
      ]
     },
     "metadata": {
      "needs_background": "light"
     },
     "output_type": "display_data"
    }
   ],
   "source": [
    "# Confusion matrix for bayesian probability output combined with utility matrix\n",
    "y = df_test2['class'].to_numpy()\n",
    "y_pred = df_test2['ut_class_prob_0'].to_numpy()\n",
    "cm = confusion_matrix(y, y_pred)\n",
    "f = sns.heatmap(cm, annot=True, fmt='d')\n",
    "print('Confusion matrix for bayesian probability output combined with utility matrix:')\n",
    "plt.show()"
   ]
  },
  {
   "cell_type": "code",
   "execution_count": 110,
   "id": "405bc90d",
   "metadata": {},
   "outputs": [
    {
     "name": "stdout",
     "output_type": "stream",
     "text": [
      "Total gains/loss for confusion matrix above: 3460\n"
     ]
    }
   ],
   "source": [
    "cost = get_total_cost(um, cm)\n",
    "print(f'Total gains/loss for confusion matrix above: {cost}')"
   ]
  },
  {
   "cell_type": "markdown",
   "id": "b4d2b5cd",
   "metadata": {},
   "source": [
    "# Decision theory"
   ]
  },
  {
   "cell_type": "markdown",
   "id": "4aa73e78",
   "metadata": {},
   "source": [
    "### Test an example with gains/losses"
   ]
  },
  {
   "cell_type": "code",
   "execution_count": 54,
   "id": "c19ef068",
   "metadata": {},
   "outputs": [
    {
     "data": {
      "text/plain": [
       "tensor([[ 15., -80.],\n",
       "        [ -1.,   0.]], dtype=torch.float64)"
      ]
     },
     "execution_count": 54,
     "metadata": {},
     "output_type": "execute_result"
    }
   ],
   "source": [
    "''' \n",
    "Utility matrix format: \n",
    "    [[TN, FN],\n",
    "     [FP, TP]]\n",
    "'''\n",
    "M = np.array([[15,-80],\n",
    "              [-1,0]], dtype=float)\n",
    "#M /= np.abs(M).max()\n",
    "M = torch.from_numpy(M)\n",
    "M = M.to(torch.float64)\n",
    "M"
   ]
  },
  {
   "cell_type": "code",
   "execution_count": 55,
   "id": "a4035eea",
   "metadata": {},
   "outputs": [],
   "source": [
    "test1 = np.array([[0.18, 0.02], [0.32, 0.48]], dtype=np.float64)\n",
    "test2 = np.array([[0.16, 0.04], [0.08, 0.72]], dtype=np.float64)"
   ]
  },
  {
   "cell_type": "code",
   "execution_count": 56,
   "id": "7561396e",
   "metadata": {},
   "outputs": [],
   "source": [
    "res1 = M * test1\n",
    "res2 = M * test2"
   ]
  },
  {
   "cell_type": "code",
   "execution_count": 57,
   "id": "d4515d40",
   "metadata": {},
   "outputs": [
    {
     "name": "stdout",
     "output_type": "stream",
     "text": [
      "Gains from algorithms:\n",
      "#1 0.78, #2 -0.88\n"
     ]
    }
   ],
   "source": [
    "sum1, sum2 = res1.sum(), res2.sum()\n",
    "print('Gains from algorithms:')\n",
    "print(f'#1 {sum1:.2f}, #2 {sum2:.2f}')"
   ]
  },
  {
   "cell_type": "markdown",
   "id": "a181a1a8",
   "metadata": {},
   "source": [
    "### Create a function for a utility matrix with cost for each case (TN, FP, FN, TP)"
   ]
  },
  {
   "cell_type": "code",
   "execution_count": 154,
   "id": "563cfaa2",
   "metadata": {},
   "outputs": [],
   "source": [
    "utility = np.array([[10, -1], [-10, 1]], dtype=np.float64)"
   ]
  },
  {
   "cell_type": "code",
   "execution_count": 139,
   "id": "fd085438",
   "metadata": {},
   "outputs": [],
   "source": [
    "def get_expected_cost (um, m):\n",
    "    if um.max() > 1:\n",
    "        if m.max() > 1:\n",
    "            um /= np.abs(um).max()\n",
    "    s = um * m\n",
    "    s1 = s[0].sum()\n",
    "    s2 = s[1].sum()\n",
    "    return [s1, s2]"
   ]
  },
  {
   "cell_type": "code",
   "execution_count": 7,
   "id": "0b4d573c",
   "metadata": {},
   "outputs": [],
   "source": [
    "def get_expected_cost (um, m):\n",
    "    m = np.array(m)\n",
    "    if um.max() > 1:\n",
    "        if m.max() > 1:\n",
    "            um /= np.abs(um).max()\n",
    "    s1 = um[0] * m\n",
    "    s2 = um[1] * m\n",
    "    s1 = s1.sum()\n",
    "    s2 = s2.sum()\n",
    "    return [s1, s2]"
   ]
  },
  {
   "cell_type": "code",
   "execution_count": 122,
   "id": "5ea85ad2",
   "metadata": {},
   "outputs": [
    {
     "data": {
      "text/plain": [
       "array([[3231,   31],\n",
       "       [  87,  239]])"
      ]
     },
     "execution_count": 122,
     "metadata": {},
     "output_type": "execute_result"
    }
   ],
   "source": [
    "cm = confusion_matrix(y, y_pred)\n",
    "cm"
   ]
  },
  {
   "cell_type": "code",
   "execution_count": 146,
   "id": "deaf9983",
   "metadata": {},
   "outputs": [
    {
     "data": {
      "text/plain": [
       "326.0"
      ]
     },
     "execution_count": 146,
     "metadata": {},
     "output_type": "execute_result"
    }
   ],
   "source": [
    "cost = get_cost(utility, cm[1])\n",
    "cost"
   ]
  },
  {
   "cell_type": "code",
   "execution_count": 141,
   "id": "0254997b",
   "metadata": {},
   "outputs": [
    {
     "data": {
      "text/plain": [
       "[3231.0, 239.0]"
      ]
     },
     "execution_count": 141,
     "metadata": {},
     "output_type": "execute_result"
    }
   ],
   "source": [
    "c = get_expected_cost(utility, cm)\n",
    "c"
   ]
  },
  {
   "cell_type": "code",
   "execution_count": 163,
   "id": "8c9a3cae",
   "metadata": {},
   "outputs": [
    {
     "data": {
      "text/html": [
       "<div>\n",
       "<style scoped>\n",
       "    .dataframe tbody tr th:only-of-type {\n",
       "        vertical-align: middle;\n",
       "    }\n",
       "\n",
       "    .dataframe tbody tr th {\n",
       "        vertical-align: top;\n",
       "    }\n",
       "\n",
       "    .dataframe thead th {\n",
       "        text-align: right;\n",
       "    }\n",
       "</style>\n",
       "<table border=\"1\" class=\"dataframe\">\n",
       "  <thead>\n",
       "    <tr style=\"text-align: right;\">\n",
       "      <th></th>\n",
       "      <th>class</th>\n",
       "      <th>preds</th>\n",
       "      <th>probs_class_0</th>\n",
       "      <th>probs_class_1</th>\n",
       "      <th>prediction</th>\n",
       "      <th>probs</th>\n",
       "    </tr>\n",
       "  </thead>\n",
       "  <tbody>\n",
       "    <tr>\n",
       "      <th>0</th>\n",
       "      <td>0</td>\n",
       "      <td>0.975</td>\n",
       "      <td>0.997848</td>\n",
       "      <td>0.002152</td>\n",
       "      <td>0</td>\n",
       "      <td>[0.9978484371013459, 0.002151562898654075]</td>\n",
       "    </tr>\n",
       "    <tr>\n",
       "      <th>1</th>\n",
       "      <td>0</td>\n",
       "      <td>0.990</td>\n",
       "      <td>0.998329</td>\n",
       "      <td>0.001671</td>\n",
       "      <td>0</td>\n",
       "      <td>[0.998328584124416, 0.0016714158755837688]</td>\n",
       "    </tr>\n",
       "    <tr>\n",
       "      <th>2</th>\n",
       "      <td>0</td>\n",
       "      <td>0.950</td>\n",
       "      <td>0.995933</td>\n",
       "      <td>0.004067</td>\n",
       "      <td>0</td>\n",
       "      <td>[0.9959327602479192, 0.004067239752081032]</td>\n",
       "    </tr>\n",
       "    <tr>\n",
       "      <th>3</th>\n",
       "      <td>0</td>\n",
       "      <td>0.995</td>\n",
       "      <td>0.998112</td>\n",
       "      <td>0.001888</td>\n",
       "      <td>0</td>\n",
       "      <td>[0.9981116284172469, 0.0018883715827530312]</td>\n",
       "    </tr>\n",
       "    <tr>\n",
       "      <th>4</th>\n",
       "      <td>1</td>\n",
       "      <td>0.105</td>\n",
       "      <td>0.092222</td>\n",
       "      <td>0.907778</td>\n",
       "      <td>1</td>\n",
       "      <td>[0.09222187670619506, 0.9077781232938047]</td>\n",
       "    </tr>\n",
       "  </tbody>\n",
       "</table>\n",
       "</div>"
      ],
      "text/plain": [
       "   class  preds  probs_class_0  probs_class_1  prediction  \\\n",
       "0      0  0.975       0.997848       0.002152           0   \n",
       "1      0  0.990       0.998329       0.001671           0   \n",
       "2      0  0.950       0.995933       0.004067           0   \n",
       "3      0  0.995       0.998112       0.001888           0   \n",
       "4      1  0.105       0.092222       0.907778           1   \n",
       "\n",
       "                                         probs  \n",
       "0   [0.9978484371013459, 0.002151562898654075]  \n",
       "1   [0.998328584124416, 0.0016714158755837688]  \n",
       "2   [0.9959327602479192, 0.004067239752081032]  \n",
       "3  [0.9981116284172469, 0.0018883715827530312]  \n",
       "4    [0.09222187670619506, 0.9077781232938047]  "
      ]
     },
     "execution_count": 163,
     "metadata": {},
     "output_type": "execute_result"
    }
   ],
   "source": [
    "df_all['probs'] = [[r['probs_class_0'], r['probs_class_1']] for i, r in df_all.iterrows()]\n",
    "df_all.head()"
   ]
  },
  {
   "cell_type": "code",
   "execution_count": 169,
   "id": "0b304792",
   "metadata": {},
   "outputs": [],
   "source": [
    "''' \n",
    "Utility matrix format: \n",
    "    [[TN, FN],\n",
    "     [FP, TP]]\n",
    "'''\n",
    "utility = np.array([[1, -1], \n",
    "                    [-1, 1]], dtype=np.float64)"
   ]
  },
  {
   "cell_type": "code",
   "execution_count": 134,
   "id": "d8c26b76",
   "metadata": {},
   "outputs": [],
   "source": [
    "def get_expected_utility (um, m):\n",
    "    '''\n",
    "    um = utility matrix in format     [[TN, FN], [FP, TP]]\n",
    "    m = prediction or probability of class [0, 1]\n",
    "    returns expected utility for each class\n",
    "    '''\n",
    "    m = np.array(m)\n",
    "    if um.max() > 1:\n",
    "        if m.max() > 1:\n",
    "            um /= np.abs(um).max()\n",
    "    s1 = um[0] * m\n",
    "    s2 = um[1] * m\n",
    "    s1 = s1.sum()\n",
    "    s2 = s2.sum()\n",
    "    return [s1, s2]"
   ]
  },
  {
   "cell_type": "code",
   "execution_count": 171,
   "id": "8f85f1e3",
   "metadata": {},
   "outputs": [
    {
     "data": {
      "text/html": [
       "<div>\n",
       "<style scoped>\n",
       "    .dataframe tbody tr th:only-of-type {\n",
       "        vertical-align: middle;\n",
       "    }\n",
       "\n",
       "    .dataframe tbody tr th {\n",
       "        vertical-align: top;\n",
       "    }\n",
       "\n",
       "    .dataframe thead th {\n",
       "        text-align: right;\n",
       "    }\n",
       "</style>\n",
       "<table border=\"1\" class=\"dataframe\">\n",
       "  <thead>\n",
       "    <tr style=\"text-align: right;\">\n",
       "      <th></th>\n",
       "      <th>class</th>\n",
       "      <th>probs_class_0</th>\n",
       "      <th>probs_class_1</th>\n",
       "      <th>probs</th>\n",
       "      <th>expected_utility</th>\n",
       "      <th>best_utility_class</th>\n",
       "    </tr>\n",
       "  </thead>\n",
       "  <tbody>\n",
       "    <tr>\n",
       "      <th>0</th>\n",
       "      <td>0</td>\n",
       "      <td>0.997848</td>\n",
       "      <td>0.002152</td>\n",
       "      <td>[0.9978484371013459, 0.002151562898654075]</td>\n",
       "      <td>[0.9956968742026918, -0.9956968742026918]</td>\n",
       "      <td>0</td>\n",
       "    </tr>\n",
       "    <tr>\n",
       "      <th>1</th>\n",
       "      <td>0</td>\n",
       "      <td>0.998329</td>\n",
       "      <td>0.001671</td>\n",
       "      <td>[0.998328584124416, 0.0016714158755837688]</td>\n",
       "      <td>[0.9966571682488323, -0.9966571682488323]</td>\n",
       "      <td>0</td>\n",
       "    </tr>\n",
       "    <tr>\n",
       "      <th>2</th>\n",
       "      <td>0</td>\n",
       "      <td>0.995933</td>\n",
       "      <td>0.004067</td>\n",
       "      <td>[0.9959327602479192, 0.004067239752081032]</td>\n",
       "      <td>[0.9918655204958382, -0.9918655204958382]</td>\n",
       "      <td>0</td>\n",
       "    </tr>\n",
       "    <tr>\n",
       "      <th>3</th>\n",
       "      <td>0</td>\n",
       "      <td>0.998112</td>\n",
       "      <td>0.001888</td>\n",
       "      <td>[0.9981116284172469, 0.0018883715827530312]</td>\n",
       "      <td>[0.9962232568344939, -0.9962232568344939]</td>\n",
       "      <td>0</td>\n",
       "    </tr>\n",
       "    <tr>\n",
       "      <th>4</th>\n",
       "      <td>1</td>\n",
       "      <td>0.092222</td>\n",
       "      <td>0.907778</td>\n",
       "      <td>[0.09222187670619506, 0.9077781232938047]</td>\n",
       "      <td>[-0.8155562465876096, 0.8155562465876096]</td>\n",
       "      <td>1</td>\n",
       "    </tr>\n",
       "  </tbody>\n",
       "</table>\n",
       "</div>"
      ],
      "text/plain": [
       "   class  probs_class_0  probs_class_1  \\\n",
       "0      0       0.997848       0.002152   \n",
       "1      0       0.998329       0.001671   \n",
       "2      0       0.995933       0.004067   \n",
       "3      0       0.998112       0.001888   \n",
       "4      1       0.092222       0.907778   \n",
       "\n",
       "                                         probs  \\\n",
       "0   [0.9978484371013459, 0.002151562898654075]   \n",
       "1   [0.998328584124416, 0.0016714158755837688]   \n",
       "2   [0.9959327602479192, 0.004067239752081032]   \n",
       "3  [0.9981116284172469, 0.0018883715827530312]   \n",
       "4    [0.09222187670619506, 0.9077781232938047]   \n",
       "\n",
       "                            expected_utility  best_utility_class  \n",
       "0  [0.9956968742026918, -0.9956968742026918]                   0  \n",
       "1  [0.9966571682488323, -0.9966571682488323]                   0  \n",
       "2  [0.9918655204958382, -0.9918655204958382]                   0  \n",
       "3  [0.9962232568344939, -0.9962232568344939]                   0  \n",
       "4  [-0.8155562465876096, 0.8155562465876096]                   1  "
      ]
     },
     "execution_count": 171,
     "metadata": {},
     "output_type": "execute_result"
    }
   ],
   "source": [
    "df_all['expected_utility'] = [get_expected_utility(utility, r['probs']) for i, r in df_all.iterrows()]\n",
    "df_all['best_utility_class'] = torch.tensor(df_all['expected_utility']).argmax(axis=1)\n",
    "df_utility = df_all.drop(columns= ['prediction', 'preds'])\n",
    "df_utility.head()"
   ]
  },
  {
   "cell_type": "code",
   "execution_count": null,
   "id": "0a792366",
   "metadata": {},
   "outputs": [],
   "source": [
    "df_utility.to_csv(DATA/'RF_direct_prob_utility.csv', index=False)"
   ]
  },
  {
   "cell_type": "code",
   "execution_count": null,
   "id": "777c4aae",
   "metadata": {},
   "outputs": [],
   "source": []
  },
  {
   "cell_type": "code",
   "execution_count": null,
   "id": "30e8428d",
   "metadata": {},
   "outputs": [],
   "source": []
  },
  {
   "cell_type": "markdown",
   "id": "e92a41f2",
   "metadata": {},
   "source": [
    "# Generate correct probabilities for CNN model for test1 and test2"
   ]
  },
  {
   "cell_type": "code",
   "execution_count": 27,
   "id": "b892cd1d",
   "metadata": {},
   "outputs": [
    {
     "name": "stdout",
     "output_type": "stream",
     "text": [
      "<class 'pandas.core.frame.DataFrame'>\n",
      "RangeIndex: 262142 entries, 0 to 262141\n",
      "Data columns (total 6 columns):\n",
      " #   Column  Non-Null Count   Dtype  \n",
      "---  ------  --------------   -----  \n",
      " 0   w       262142 non-null  float64\n",
      " 1   p       262142 non-null  float64\n",
      " 2   mu0     262142 non-null  float64\n",
      " 3   sigma0  262142 non-null  float64\n",
      " 4   mu1     262142 non-null  float64\n",
      " 5   sigma1  262142 non-null  float64\n",
      "dtypes: float64(6)\n",
      "memory usage: 12.0 MB\n"
     ]
    }
   ],
   "source": [
    "df_CNN = pd.read_csv(DATA/'CNN_probabilityfunction_full.csv')\n",
    "df_CNN.info()"
   ]
  },
  {
   "cell_type": "code",
   "execution_count": 28,
   "id": "a9995aba",
   "metadata": {},
   "outputs": [
    {
     "data": {
      "text/html": [
       "<div>\n",
       "<style scoped>\n",
       "    .dataframe tbody tr th:only-of-type {\n",
       "        vertical-align: middle;\n",
       "    }\n",
       "\n",
       "    .dataframe tbody tr th {\n",
       "        vertical-align: top;\n",
       "    }\n",
       "\n",
       "    .dataframe thead th {\n",
       "        text-align: right;\n",
       "    }\n",
       "</style>\n",
       "<table border=\"1\" class=\"dataframe\">\n",
       "  <thead>\n",
       "    <tr style=\"text-align: right;\">\n",
       "      <th></th>\n",
       "      <th>w</th>\n",
       "      <th>p</th>\n",
       "      <th>mu0</th>\n",
       "      <th>sigma0</th>\n",
       "      <th>mu1</th>\n",
       "      <th>sigma1</th>\n",
       "    </tr>\n",
       "  </thead>\n",
       "  <tbody>\n",
       "    <tr>\n",
       "      <th>0</th>\n",
       "      <td>1.112547e-308</td>\n",
       "      <td>0.174027</td>\n",
       "      <td>2.249256</td>\n",
       "      <td>5.060917</td>\n",
       "      <td>-2.448301</td>\n",
       "      <td>0.254581</td>\n",
       "    </tr>\n",
       "    <tr>\n",
       "      <th>1</th>\n",
       "      <td>2.021356e-302</td>\n",
       "      <td>0.465301</td>\n",
       "      <td>1.497763</td>\n",
       "      <td>0.403940</td>\n",
       "      <td>-4.069391</td>\n",
       "      <td>0.219020</td>\n",
       "    </tr>\n",
       "    <tr>\n",
       "      <th>2</th>\n",
       "      <td>2.451473e-297</td>\n",
       "      <td>0.478021</td>\n",
       "      <td>2.776968</td>\n",
       "      <td>2.754942</td>\n",
       "      <td>-1.012342</td>\n",
       "      <td>0.758008</td>\n",
       "    </tr>\n",
       "    <tr>\n",
       "      <th>3</th>\n",
       "      <td>1.542531e-295</td>\n",
       "      <td>0.992075</td>\n",
       "      <td>3.959678</td>\n",
       "      <td>0.091651</td>\n",
       "      <td>-0.177518</td>\n",
       "      <td>0.689752</td>\n",
       "    </tr>\n",
       "    <tr>\n",
       "      <th>4</th>\n",
       "      <td>2.402227e-289</td>\n",
       "      <td>0.332206</td>\n",
       "      <td>2.568715</td>\n",
       "      <td>0.593366</td>\n",
       "      <td>-0.892260</td>\n",
       "      <td>0.143567</td>\n",
       "    </tr>\n",
       "  </tbody>\n",
       "</table>\n",
       "</div>"
      ],
      "text/plain": [
       "               w         p       mu0    sigma0       mu1    sigma1\n",
       "0  1.112547e-308  0.174027  2.249256  5.060917 -2.448301  0.254581\n",
       "1  2.021356e-302  0.465301  1.497763  0.403940 -4.069391  0.219020\n",
       "2  2.451473e-297  0.478021  2.776968  2.754942 -1.012342  0.758008\n",
       "3  1.542531e-295  0.992075  3.959678  0.091651 -0.177518  0.689752\n",
       "4  2.402227e-289  0.332206  2.568715  0.593366 -0.892260  0.143567"
      ]
     },
     "execution_count": 28,
     "metadata": {},
     "output_type": "execute_result"
    }
   ],
   "source": [
    "df_CNN.head()"
   ]
  },
  {
   "cell_type": "code",
   "execution_count": 29,
   "id": "f8bf557d",
   "metadata": {},
   "outputs": [],
   "source": [
    "#function for making a list of strings in df to list of floats\n",
    "def get_substring_list(split):\n",
    "    if len(split) <= 1:\n",
    "        print('nooo')\n",
    "    i = 0\n",
    "    while len(split[i]) <= 1:\n",
    "        i += 1\n",
    "    s1 = split[i]\n",
    "    i += 1\n",
    "    while len(split[i]) <= 1:\n",
    "        i += 1\n",
    "    s2 = split[i]\n",
    "    if s1[0] == '[':\n",
    "        s1 = s1[1:]\n",
    "    if s2[-1] == ']':\n",
    "        s2 = s2[0:-1]\n",
    "    s1 = np.float64(s1)\n",
    "    s2 = np.float64(s2)\n",
    "    return [s1, s2]"
   ]
  },
  {
   "cell_type": "markdown",
   "id": "3ea49b23",
   "metadata": {},
   "source": [
    "### Test1"
   ]
  },
  {
   "cell_type": "code",
   "execution_count": 141,
   "id": "32320fa4",
   "metadata": {},
   "outputs": [
    {
     "data": {
      "text/html": [
       "<div>\n",
       "<style scoped>\n",
       "    .dataframe tbody tr th:only-of-type {\n",
       "        vertical-align: middle;\n",
       "    }\n",
       "\n",
       "    .dataframe tbody tr th {\n",
       "        vertical-align: top;\n",
       "    }\n",
       "\n",
       "    .dataframe thead th {\n",
       "        text-align: right;\n",
       "    }\n",
       "</style>\n",
       "<table border=\"1\" class=\"dataframe\">\n",
       "  <thead>\n",
       "    <tr style=\"text-align: right;\">\n",
       "      <th></th>\n",
       "      <th>class</th>\n",
       "      <th>predictions</th>\n",
       "      <th>predicted_class</th>\n",
       "      <th>preds</th>\n",
       "    </tr>\n",
       "  </thead>\n",
       "  <tbody>\n",
       "    <tr>\n",
       "      <th>0</th>\n",
       "      <td>0</td>\n",
       "      <td>[1.0686324  0.15983486]</td>\n",
       "      <td>1.068632</td>\n",
       "      <td>[1.0686324, 0.15983486]</td>\n",
       "    </tr>\n",
       "    <tr>\n",
       "      <th>1</th>\n",
       "      <td>0</td>\n",
       "      <td>[ 3.294977  -3.2591858]</td>\n",
       "      <td>3.294977</td>\n",
       "      <td>[3.294977, -3.2591858]</td>\n",
       "    </tr>\n",
       "    <tr>\n",
       "      <th>2</th>\n",
       "      <td>0</td>\n",
       "      <td>[ 3.8328545 -3.5713747]</td>\n",
       "      <td>3.832854</td>\n",
       "      <td>[3.8328545, -3.5713747]</td>\n",
       "    </tr>\n",
       "    <tr>\n",
       "      <th>3</th>\n",
       "      <td>0</td>\n",
       "      <td>[ 3.13148   -3.6825964]</td>\n",
       "      <td>3.131480</td>\n",
       "      <td>[3.13148, -3.6825964]</td>\n",
       "    </tr>\n",
       "    <tr>\n",
       "      <th>4</th>\n",
       "      <td>1</td>\n",
       "      <td>[-0.78947127  1.3680041 ]</td>\n",
       "      <td>1.368004</td>\n",
       "      <td>[-0.78947127, 1.3680041]</td>\n",
       "    </tr>\n",
       "  </tbody>\n",
       "</table>\n",
       "</div>"
      ],
      "text/plain": [
       "   class                predictions  predicted_class                     preds\n",
       "0      0    [1.0686324  0.15983486]         1.068632   [1.0686324, 0.15983486]\n",
       "1      0    [ 3.294977  -3.2591858]         3.294977    [3.294977, -3.2591858]\n",
       "2      0    [ 3.8328545 -3.5713747]         3.832854   [3.8328545, -3.5713747]\n",
       "3      0    [ 3.13148   -3.6825964]         3.131480     [3.13148, -3.6825964]\n",
       "4      1  [-0.78947127  1.3680041 ]         1.368004  [-0.78947127, 1.3680041]"
      ]
     },
     "execution_count": 141,
     "metadata": {},
     "output_type": "execute_result"
    }
   ],
   "source": [
    "df_test1 = pd.read_csv(CHEMBL205/'CHEMBL205_predictions_CNN_test1.csv')\n",
    "df_test1['preds'] = [get_substring_list(r['predictions'].split(' '))  for i, r in df_test1.iterrows()]\n",
    "#df_preds['pred_0'] = np.array(df_preds['pred_0'], dtype=np.float64)\n",
    "df_test1.head()"
   ]
  },
  {
   "cell_type": "code",
   "execution_count": 24,
   "id": "456adf8b",
   "metadata": {},
   "outputs": [],
   "source": [
    "def calculate_probs_CNN(df, df_preds):\n",
    "    '''\n",
    "    function for getting bayesian corrected probabilites for CNN\n",
    "    df = DataFrame for CNN parameters for the probability function\n",
    "    df_preds = DataFrame for the predictions\n",
    "    '''\n",
    "    \n",
    "    preds = df_preds['preds']\n",
    "    m0 = df.mu0.to_numpy()\n",
    "    s0 = df.sigma0.to_numpy()\n",
    "    m1 = df.mu1.to_numpy()\n",
    "    s1 = df.sigma1.to_numpy()\n",
    "    p = df.p.to_numpy()\n",
    "    w = df.w.to_numpy()\n",
    "    all_probs_0 = np.array([])\n",
    "    for pred in preds:\n",
    "        prob = CNN_direct_prob(pred, 0, w, p, m0, s0, m1, s1)\n",
    "        all_probs_0 = np.append(all_probs_0, prob)\n",
    "    return all_probs_0"
   ]
  },
  {
   "cell_type": "code",
   "execution_count": 148,
   "id": "c555a3bf",
   "metadata": {},
   "outputs": [
    {
     "ename": "KeyboardInterrupt",
     "evalue": "",
     "output_type": "error",
     "traceback": [
      "\u001b[0;31m---------------------------------------------------------------------------\u001b[0m",
      "\u001b[0;31mKeyboardInterrupt\u001b[0m                         Traceback (most recent call last)",
      "\u001b[0;32m/tmp/ipykernel_4080302/3475095412.py\u001b[0m in \u001b[0;36m<module>\u001b[0;34m\u001b[0m\n\u001b[0;32m----> 1\u001b[0;31m \u001b[0marr\u001b[0m \u001b[0;34m=\u001b[0m \u001b[0mcalculate_probs_CNN\u001b[0m\u001b[0;34m(\u001b[0m\u001b[0mdf_CNN\u001b[0m\u001b[0;34m,\u001b[0m \u001b[0mdf_test1\u001b[0m\u001b[0;34m)\u001b[0m\u001b[0;34m\u001b[0m\u001b[0;34m\u001b[0m\u001b[0m\n\u001b[0m\u001b[1;32m      2\u001b[0m \u001b[0marr\u001b[0m\u001b[0;34m\u001b[0m\u001b[0;34m\u001b[0m\u001b[0m\n",
      "\u001b[0;32m/tmp/ipykernel_4080302/2049465164.py\u001b[0m in \u001b[0;36mcalculate_probs_CNN\u001b[0;34m(df, df_preds)\u001b[0m\n\u001b[1;32m     15\u001b[0m     \u001b[0mall_probs_0\u001b[0m \u001b[0;34m=\u001b[0m \u001b[0mnp\u001b[0m\u001b[0;34m.\u001b[0m\u001b[0marray\u001b[0m\u001b[0;34m(\u001b[0m\u001b[0;34m[\u001b[0m\u001b[0;34m]\u001b[0m\u001b[0;34m)\u001b[0m\u001b[0;34m\u001b[0m\u001b[0;34m\u001b[0m\u001b[0m\n\u001b[1;32m     16\u001b[0m     \u001b[0;32mfor\u001b[0m \u001b[0mpred\u001b[0m \u001b[0;32min\u001b[0m \u001b[0mpreds\u001b[0m\u001b[0;34m:\u001b[0m\u001b[0;34m\u001b[0m\u001b[0;34m\u001b[0m\u001b[0m\n\u001b[0;32m---> 17\u001b[0;31m         \u001b[0mprob\u001b[0m \u001b[0;34m=\u001b[0m \u001b[0mCNN_direct_prob\u001b[0m\u001b[0;34m(\u001b[0m\u001b[0mpred\u001b[0m\u001b[0;34m,\u001b[0m \u001b[0;36m0\u001b[0m\u001b[0;34m,\u001b[0m \u001b[0mw\u001b[0m\u001b[0;34m,\u001b[0m \u001b[0mp\u001b[0m\u001b[0;34m,\u001b[0m \u001b[0mm0\u001b[0m\u001b[0;34m,\u001b[0m \u001b[0ms0\u001b[0m\u001b[0;34m,\u001b[0m \u001b[0mm1\u001b[0m\u001b[0;34m,\u001b[0m \u001b[0ms1\u001b[0m\u001b[0;34m)\u001b[0m\u001b[0;34m\u001b[0m\u001b[0;34m\u001b[0m\u001b[0m\n\u001b[0m\u001b[1;32m     18\u001b[0m         \u001b[0mall_probs_0\u001b[0m \u001b[0;34m=\u001b[0m \u001b[0mnp\u001b[0m\u001b[0;34m.\u001b[0m\u001b[0mappend\u001b[0m\u001b[0;34m(\u001b[0m\u001b[0mall_probs_0\u001b[0m\u001b[0;34m,\u001b[0m \u001b[0mprob\u001b[0m\u001b[0;34m)\u001b[0m\u001b[0;34m\u001b[0m\u001b[0;34m\u001b[0m\u001b[0m\n\u001b[1;32m     19\u001b[0m     \u001b[0;32mreturn\u001b[0m \u001b[0mall_probs_0\u001b[0m\u001b[0;34m\u001b[0m\u001b[0;34m\u001b[0m\u001b[0m\n",
      "\u001b[0;32m~/drug-discovery/Drug-Discovery/notebooks/utils/probs.py\u001b[0m in \u001b[0;36mCNN_direct_prob\u001b[0;34m(x, cl, w, p, m0, s0, m1, s1)\u001b[0m\n\u001b[1;32m     42\u001b[0m     \u001b[0mpc\u001b[0m \u001b[0;34m=\u001b[0m \u001b[0mp\u001b[0m\u001b[0;34m*\u001b[0m\u001b[0mcl\u001b[0m \u001b[0;34m+\u001b[0m \u001b[0;34m(\u001b[0m\u001b[0;36m1\u001b[0m\u001b[0;34m-\u001b[0m\u001b[0mp\u001b[0m\u001b[0;34m)\u001b[0m\u001b[0;34m*\u001b[0m\u001b[0;34m(\u001b[0m\u001b[0;36m1\u001b[0m\u001b[0;34m-\u001b[0m\u001b[0mcl\u001b[0m\u001b[0;34m)\u001b[0m\u001b[0;34m\u001b[0m\u001b[0;34m\u001b[0m\u001b[0m\n\u001b[1;32m     43\u001b[0m     \u001b[0mpjoint\u001b[0m \u001b[0;34m=\u001b[0m \u001b[0mnp\u001b[0m\u001b[0;34m.\u001b[0m\u001b[0msum\u001b[0m\u001b[0;34m(\u001b[0m\u001b[0mw\u001b[0m \u001b[0;34m*\u001b[0m \u001b[0mpc\u001b[0m \u001b[0;34m*\u001b[0m \u001b[0mnorm\u001b[0m\u001b[0;34m.\u001b[0m\u001b[0mpdf\u001b[0m\u001b[0;34m(\u001b[0m\u001b[0mx\u001b[0m\u001b[0;34m[\u001b[0m\u001b[0;36m0\u001b[0m\u001b[0;34m]\u001b[0m\u001b[0;34m,\u001b[0m \u001b[0mloc\u001b[0m\u001b[0;34m=\u001b[0m\u001b[0mm0\u001b[0m\u001b[0;34m,\u001b[0m \u001b[0mscale\u001b[0m\u001b[0;34m=\u001b[0m\u001b[0ms0\u001b[0m\u001b[0;34m)\u001b[0m \u001b[0;34m*\u001b[0m \u001b[0mnorm\u001b[0m\u001b[0;34m.\u001b[0m\u001b[0mpdf\u001b[0m\u001b[0;34m(\u001b[0m\u001b[0mx\u001b[0m\u001b[0;34m[\u001b[0m\u001b[0;36m1\u001b[0m\u001b[0;34m]\u001b[0m\u001b[0;34m,\u001b[0m \u001b[0mloc\u001b[0m\u001b[0;34m=\u001b[0m\u001b[0mm1\u001b[0m\u001b[0;34m,\u001b[0m \u001b[0mscale\u001b[0m\u001b[0;34m=\u001b[0m\u001b[0ms1\u001b[0m\u001b[0;34m)\u001b[0m\u001b[0;34m)\u001b[0m\u001b[0;34m\u001b[0m\u001b[0;34m\u001b[0m\u001b[0m\n\u001b[0;32m---> 44\u001b[0;31m     \u001b[0mpx\u001b[0m \u001b[0;34m=\u001b[0m \u001b[0mnp\u001b[0m\u001b[0;34m.\u001b[0m\u001b[0msum\u001b[0m\u001b[0;34m(\u001b[0m\u001b[0mw\u001b[0m \u001b[0;34m*\u001b[0m \u001b[0mnorm\u001b[0m\u001b[0;34m.\u001b[0m\u001b[0mpdf\u001b[0m\u001b[0;34m(\u001b[0m\u001b[0mx\u001b[0m\u001b[0;34m[\u001b[0m\u001b[0;36m0\u001b[0m\u001b[0;34m]\u001b[0m\u001b[0;34m,\u001b[0m \u001b[0mloc\u001b[0m\u001b[0;34m=\u001b[0m\u001b[0mm0\u001b[0m\u001b[0;34m,\u001b[0m \u001b[0mscale\u001b[0m\u001b[0;34m=\u001b[0m\u001b[0ms0\u001b[0m\u001b[0;34m)\u001b[0m \u001b[0;34m*\u001b[0m \u001b[0mnorm\u001b[0m\u001b[0;34m.\u001b[0m\u001b[0mpdf\u001b[0m\u001b[0;34m(\u001b[0m\u001b[0mx\u001b[0m\u001b[0;34m[\u001b[0m\u001b[0;36m1\u001b[0m\u001b[0;34m]\u001b[0m\u001b[0;34m,\u001b[0m \u001b[0mloc\u001b[0m\u001b[0;34m=\u001b[0m\u001b[0mm1\u001b[0m\u001b[0;34m,\u001b[0m \u001b[0mscale\u001b[0m\u001b[0;34m=\u001b[0m\u001b[0ms1\u001b[0m\u001b[0;34m)\u001b[0m\u001b[0;34m)\u001b[0m\u001b[0;34m\u001b[0m\u001b[0;34m\u001b[0m\u001b[0m\n\u001b[0m\u001b[1;32m     45\u001b[0m     \u001b[0mprob\u001b[0m \u001b[0;34m=\u001b[0m \u001b[0mpjoint\u001b[0m\u001b[0;34m/\u001b[0m\u001b[0mpx\u001b[0m\u001b[0;34m\u001b[0m\u001b[0;34m\u001b[0m\u001b[0m\n\u001b[1;32m     46\u001b[0m     \u001b[0;32mreturn\u001b[0m \u001b[0mprob\u001b[0m\u001b[0;34m\u001b[0m\u001b[0;34m\u001b[0m\u001b[0m\n",
      "\u001b[0;32m~/anaconda3/envs/fastai-drug/lib/python3.7/site-packages/scipy/stats/_distn_infrastructure.py\u001b[0m in \u001b[0;36mpdf\u001b[0;34m(self, x, *args, **kwds)\u001b[0m\n\u001b[1;32m   1877\u001b[0m             \u001b[0mgoodargs\u001b[0m \u001b[0;34m=\u001b[0m \u001b[0margsreduce\u001b[0m\u001b[0;34m(\u001b[0m\u001b[0mcond\u001b[0m\u001b[0;34m,\u001b[0m \u001b[0;34m*\u001b[0m\u001b[0;34m(\u001b[0m\u001b[0;34m(\u001b[0m\u001b[0mx\u001b[0m\u001b[0;34m,\u001b[0m\u001b[0;34m)\u001b[0m\u001b[0;34m+\u001b[0m\u001b[0margs\u001b[0m\u001b[0;34m+\u001b[0m\u001b[0;34m(\u001b[0m\u001b[0mscale\u001b[0m\u001b[0;34m,\u001b[0m\u001b[0;34m)\u001b[0m\u001b[0;34m)\u001b[0m\u001b[0;34m)\u001b[0m\u001b[0;34m\u001b[0m\u001b[0;34m\u001b[0m\u001b[0m\n\u001b[1;32m   1878\u001b[0m             \u001b[0mscale\u001b[0m\u001b[0;34m,\u001b[0m \u001b[0mgoodargs\u001b[0m \u001b[0;34m=\u001b[0m \u001b[0mgoodargs\u001b[0m\u001b[0;34m[\u001b[0m\u001b[0;34m-\u001b[0m\u001b[0;36m1\u001b[0m\u001b[0;34m]\u001b[0m\u001b[0;34m,\u001b[0m \u001b[0mgoodargs\u001b[0m\u001b[0;34m[\u001b[0m\u001b[0;34m:\u001b[0m\u001b[0;34m-\u001b[0m\u001b[0;36m1\u001b[0m\u001b[0;34m]\u001b[0m\u001b[0;34m\u001b[0m\u001b[0;34m\u001b[0m\u001b[0m\n\u001b[0;32m-> 1879\u001b[0;31m             \u001b[0mplace\u001b[0m\u001b[0;34m(\u001b[0m\u001b[0moutput\u001b[0m\u001b[0;34m,\u001b[0m \u001b[0mcond\u001b[0m\u001b[0;34m,\u001b[0m \u001b[0mself\u001b[0m\u001b[0;34m.\u001b[0m\u001b[0m_pdf\u001b[0m\u001b[0;34m(\u001b[0m\u001b[0;34m*\u001b[0m\u001b[0mgoodargs\u001b[0m\u001b[0;34m)\u001b[0m \u001b[0;34m/\u001b[0m \u001b[0mscale\u001b[0m\u001b[0;34m)\u001b[0m\u001b[0;34m\u001b[0m\u001b[0;34m\u001b[0m\u001b[0m\n\u001b[0m\u001b[1;32m   1880\u001b[0m         \u001b[0;32mif\u001b[0m \u001b[0moutput\u001b[0m\u001b[0;34m.\u001b[0m\u001b[0mndim\u001b[0m \u001b[0;34m==\u001b[0m \u001b[0;36m0\u001b[0m\u001b[0;34m:\u001b[0m\u001b[0;34m\u001b[0m\u001b[0;34m\u001b[0m\u001b[0m\n\u001b[1;32m   1881\u001b[0m             \u001b[0;32mreturn\u001b[0m \u001b[0moutput\u001b[0m\u001b[0;34m[\u001b[0m\u001b[0;34m(\u001b[0m\u001b[0;34m)\u001b[0m\u001b[0;34m]\u001b[0m\u001b[0;34m\u001b[0m\u001b[0;34m\u001b[0m\u001b[0m\n",
      "\u001b[0;32m~/anaconda3/envs/fastai-drug/lib/python3.7/site-packages/scipy/stats/_continuous_distns.py\u001b[0m in \u001b[0;36m_pdf\u001b[0;34m(self, x)\u001b[0m\n\u001b[1;32m    307\u001b[0m     \u001b[0;32mdef\u001b[0m \u001b[0m_pdf\u001b[0m\u001b[0;34m(\u001b[0m\u001b[0mself\u001b[0m\u001b[0;34m,\u001b[0m \u001b[0mx\u001b[0m\u001b[0;34m)\u001b[0m\u001b[0;34m:\u001b[0m\u001b[0;34m\u001b[0m\u001b[0;34m\u001b[0m\u001b[0m\n\u001b[1;32m    308\u001b[0m         \u001b[0;31m# norm.pdf(x) = exp(-x**2/2)/sqrt(2*pi)\u001b[0m\u001b[0;34m\u001b[0m\u001b[0;34m\u001b[0m\u001b[0;34m\u001b[0m\u001b[0m\n\u001b[0;32m--> 309\u001b[0;31m         \u001b[0;32mreturn\u001b[0m \u001b[0m_norm_pdf\u001b[0m\u001b[0;34m(\u001b[0m\u001b[0mx\u001b[0m\u001b[0;34m)\u001b[0m\u001b[0;34m\u001b[0m\u001b[0;34m\u001b[0m\u001b[0m\n\u001b[0m\u001b[1;32m    310\u001b[0m \u001b[0;34m\u001b[0m\u001b[0m\n\u001b[1;32m    311\u001b[0m     \u001b[0;32mdef\u001b[0m \u001b[0m_logpdf\u001b[0m\u001b[0;34m(\u001b[0m\u001b[0mself\u001b[0m\u001b[0;34m,\u001b[0m \u001b[0mx\u001b[0m\u001b[0;34m)\u001b[0m\u001b[0;34m:\u001b[0m\u001b[0;34m\u001b[0m\u001b[0;34m\u001b[0m\u001b[0m\n",
      "\u001b[0;32m~/anaconda3/envs/fastai-drug/lib/python3.7/site-packages/scipy/stats/_continuous_distns.py\u001b[0m in \u001b[0;36m_norm_pdf\u001b[0;34m(x)\u001b[0m\n\u001b[1;32m    248\u001b[0m \u001b[0;34m\u001b[0m\u001b[0m\n\u001b[1;32m    249\u001b[0m \u001b[0;32mdef\u001b[0m \u001b[0m_norm_pdf\u001b[0m\u001b[0;34m(\u001b[0m\u001b[0mx\u001b[0m\u001b[0;34m)\u001b[0m\u001b[0;34m:\u001b[0m\u001b[0;34m\u001b[0m\u001b[0;34m\u001b[0m\u001b[0m\n\u001b[0;32m--> 250\u001b[0;31m     \u001b[0;32mreturn\u001b[0m \u001b[0mnp\u001b[0m\u001b[0;34m.\u001b[0m\u001b[0mexp\u001b[0m\u001b[0;34m(\u001b[0m\u001b[0;34m-\u001b[0m\u001b[0mx\u001b[0m\u001b[0;34m**\u001b[0m\u001b[0;36m2\u001b[0m\u001b[0;34m/\u001b[0m\u001b[0;36m2.0\u001b[0m\u001b[0;34m)\u001b[0m \u001b[0;34m/\u001b[0m \u001b[0m_norm_pdf_C\u001b[0m\u001b[0;34m\u001b[0m\u001b[0;34m\u001b[0m\u001b[0m\n\u001b[0m\u001b[1;32m    251\u001b[0m \u001b[0;34m\u001b[0m\u001b[0m\n\u001b[1;32m    252\u001b[0m \u001b[0;34m\u001b[0m\u001b[0m\n",
      "\u001b[0;31mKeyboardInterrupt\u001b[0m: "
     ]
    }
   ],
   "source": [
    "arr = calculate_probs_CNN(df_CNN, df_test1)\n",
    "arr"
   ]
  },
  {
   "cell_type": "code",
   "execution_count": 17,
   "id": "efd4435a",
   "metadata": {},
   "outputs": [
    {
     "data": {
      "text/plain": [
       "3589"
      ]
     },
     "execution_count": 17,
     "metadata": {},
     "output_type": "execute_result"
    }
   ],
   "source": [
    "len(arr)"
   ]
  },
  {
   "cell_type": "code",
   "execution_count": 18,
   "id": "276aec68",
   "metadata": {},
   "outputs": [
    {
     "data": {
      "text/plain": [
       "numpy.ndarray"
      ]
     },
     "execution_count": 18,
     "metadata": {},
     "output_type": "execute_result"
    }
   ],
   "source": [
    "type(arr)"
   ]
  },
  {
   "cell_type": "code",
   "execution_count": 20,
   "id": "fcfcd38a",
   "metadata": {},
   "outputs": [],
   "source": [
    "df_test1['predictions'] = df_test1['preds']\n",
    "df_test1['direct_prob_0'] = arr\n",
    "df_test1 = df_test1.drop(columns=['preds', 'predicted_class'])"
   ]
  },
  {
   "cell_type": "code",
   "execution_count": 21,
   "id": "f5d535da",
   "metadata": {},
   "outputs": [
    {
     "data": {
      "text/html": [
       "<div>\n",
       "<style scoped>\n",
       "    .dataframe tbody tr th:only-of-type {\n",
       "        vertical-align: middle;\n",
       "    }\n",
       "\n",
       "    .dataframe tbody tr th {\n",
       "        vertical-align: top;\n",
       "    }\n",
       "\n",
       "    .dataframe thead th {\n",
       "        text-align: right;\n",
       "    }\n",
       "</style>\n",
       "<table border=\"1\" class=\"dataframe\">\n",
       "  <thead>\n",
       "    <tr style=\"text-align: right;\">\n",
       "      <th></th>\n",
       "      <th>class</th>\n",
       "      <th>predictions</th>\n",
       "      <th>direct_prob_0</th>\n",
       "    </tr>\n",
       "  </thead>\n",
       "  <tbody>\n",
       "    <tr>\n",
       "      <th>0</th>\n",
       "      <td>0</td>\n",
       "      <td>[1.0686324, 0.15983486]</td>\n",
       "      <td>0.812226</td>\n",
       "    </tr>\n",
       "    <tr>\n",
       "      <th>1</th>\n",
       "      <td>0</td>\n",
       "      <td>[3.294977, -3.2591858]</td>\n",
       "      <td>0.997830</td>\n",
       "    </tr>\n",
       "    <tr>\n",
       "      <th>2</th>\n",
       "      <td>0</td>\n",
       "      <td>[3.8328545, -3.5713747]</td>\n",
       "      <td>0.995896</td>\n",
       "    </tr>\n",
       "    <tr>\n",
       "      <th>3</th>\n",
       "      <td>0</td>\n",
       "      <td>[3.13148, -3.6825964]</td>\n",
       "      <td>0.997027</td>\n",
       "    </tr>\n",
       "    <tr>\n",
       "      <th>4</th>\n",
       "      <td>1</td>\n",
       "      <td>[-0.78947127, 1.3680041]</td>\n",
       "      <td>0.230960</td>\n",
       "    </tr>\n",
       "  </tbody>\n",
       "</table>\n",
       "</div>"
      ],
      "text/plain": [
       "   class               predictions  direct_prob_0\n",
       "0      0   [1.0686324, 0.15983486]       0.812226\n",
       "1      0    [3.294977, -3.2591858]       0.997830\n",
       "2      0   [3.8328545, -3.5713747]       0.995896\n",
       "3      0     [3.13148, -3.6825964]       0.997027\n",
       "4      1  [-0.78947127, 1.3680041]       0.230960"
      ]
     },
     "execution_count": 21,
     "metadata": {},
     "output_type": "execute_result"
    }
   ],
   "source": [
    "df_test1.head()"
   ]
  },
  {
   "cell_type": "code",
   "execution_count": 32,
   "id": "1c5e98d1",
   "metadata": {},
   "outputs": [],
   "source": [
    "df_test1.to_csv(DATA/'CNN_bayesian_prob_test1.csv', index=False)"
   ]
  },
  {
   "cell_type": "markdown",
   "id": "488cc667",
   "metadata": {},
   "source": [
    "### Do the same for test set 2"
   ]
  },
  {
   "cell_type": "code",
   "execution_count": 75,
   "id": "fb82c02e",
   "metadata": {},
   "outputs": [
    {
     "data": {
      "text/html": [
       "<div>\n",
       "<style scoped>\n",
       "    .dataframe tbody tr th:only-of-type {\n",
       "        vertical-align: middle;\n",
       "    }\n",
       "\n",
       "    .dataframe tbody tr th {\n",
       "        vertical-align: top;\n",
       "    }\n",
       "\n",
       "    .dataframe thead th {\n",
       "        text-align: right;\n",
       "    }\n",
       "</style>\n",
       "<table border=\"1\" class=\"dataframe\">\n",
       "  <thead>\n",
       "    <tr style=\"text-align: right;\">\n",
       "      <th></th>\n",
       "      <th>class</th>\n",
       "      <th>predictions</th>\n",
       "      <th>predicted_class</th>\n",
       "      <th>preds</th>\n",
       "    </tr>\n",
       "  </thead>\n",
       "  <tbody>\n",
       "    <tr>\n",
       "      <th>0</th>\n",
       "      <td>0</td>\n",
       "      <td>[1.0686324  0.15983486]</td>\n",
       "      <td>1.068632</td>\n",
       "      <td>[1.0686324, 0.15983486]</td>\n",
       "    </tr>\n",
       "    <tr>\n",
       "      <th>1</th>\n",
       "      <td>0</td>\n",
       "      <td>[ 3.294977  -3.2591858]</td>\n",
       "      <td>3.294977</td>\n",
       "      <td>[3.294977, -3.2591858]</td>\n",
       "    </tr>\n",
       "    <tr>\n",
       "      <th>2</th>\n",
       "      <td>0</td>\n",
       "      <td>[ 3.8328545 -3.5713747]</td>\n",
       "      <td>3.832854</td>\n",
       "      <td>[3.8328545, -3.5713747]</td>\n",
       "    </tr>\n",
       "    <tr>\n",
       "      <th>3</th>\n",
       "      <td>0</td>\n",
       "      <td>[ 3.13148   -3.6825964]</td>\n",
       "      <td>3.131480</td>\n",
       "      <td>[3.13148, -3.6825964]</td>\n",
       "    </tr>\n",
       "    <tr>\n",
       "      <th>4</th>\n",
       "      <td>1</td>\n",
       "      <td>[-0.78947127  1.3680041 ]</td>\n",
       "      <td>1.368004</td>\n",
       "      <td>[-0.78947127, 1.3680041]</td>\n",
       "    </tr>\n",
       "  </tbody>\n",
       "</table>\n",
       "</div>"
      ],
      "text/plain": [
       "   class                predictions  predicted_class                     preds\n",
       "0      0    [1.0686324  0.15983486]         1.068632   [1.0686324, 0.15983486]\n",
       "1      0    [ 3.294977  -3.2591858]         3.294977    [3.294977, -3.2591858]\n",
       "2      0    [ 3.8328545 -3.5713747]         3.832854   [3.8328545, -3.5713747]\n",
       "3      0    [ 3.13148   -3.6825964]         3.131480     [3.13148, -3.6825964]\n",
       "4      1  [-0.78947127  1.3680041 ]         1.368004  [-0.78947127, 1.3680041]"
      ]
     },
     "execution_count": 75,
     "metadata": {},
     "output_type": "execute_result"
    }
   ],
   "source": [
    "df_test2 = pd.read_csv(CHEMBL205/'CHEMBL205_predictions_CNN_test2.csv')\n",
    "df_test2['preds'] = [get_substring_list(r['predictions'].split(' '))  for i, r in df_test2.iterrows()]\n",
    "#df_preds['pred_0'] = np.array(df_preds['pred_0'], dtype=np.float64)\n",
    "df_test2.head()"
   ]
  },
  {
   "cell_type": "code",
   "execution_count": 76,
   "id": "ae0a099a",
   "metadata": {},
   "outputs": [],
   "source": [
    "probs = calculate_probs_CNN(df_CNN, df_test2)"
   ]
  },
  {
   "cell_type": "code",
   "execution_count": 77,
   "id": "7795e217",
   "metadata": {},
   "outputs": [],
   "source": [
    "df_test2['predictions'] = df_test2['preds']\n",
    "df_test2['prob_0'] = probs\n",
    "df_test2 = df_test2.drop(columns=['preds', 'predicted_class'])"
   ]
  },
  {
   "cell_type": "code",
   "execution_count": 78,
   "id": "368de9ae",
   "metadata": {},
   "outputs": [
    {
     "data": {
      "text/html": [
       "<div>\n",
       "<style scoped>\n",
       "    .dataframe tbody tr th:only-of-type {\n",
       "        vertical-align: middle;\n",
       "    }\n",
       "\n",
       "    .dataframe tbody tr th {\n",
       "        vertical-align: top;\n",
       "    }\n",
       "\n",
       "    .dataframe thead th {\n",
       "        text-align: right;\n",
       "    }\n",
       "</style>\n",
       "<table border=\"1\" class=\"dataframe\">\n",
       "  <thead>\n",
       "    <tr style=\"text-align: right;\">\n",
       "      <th></th>\n",
       "      <th>class</th>\n",
       "      <th>predictions</th>\n",
       "      <th>prob_0</th>\n",
       "    </tr>\n",
       "  </thead>\n",
       "  <tbody>\n",
       "    <tr>\n",
       "      <th>0</th>\n",
       "      <td>0</td>\n",
       "      <td>[1.0686324, 0.15983486]</td>\n",
       "      <td>0.812226</td>\n",
       "    </tr>\n",
       "    <tr>\n",
       "      <th>1</th>\n",
       "      <td>0</td>\n",
       "      <td>[3.294977, -3.2591858]</td>\n",
       "      <td>0.997830</td>\n",
       "    </tr>\n",
       "    <tr>\n",
       "      <th>2</th>\n",
       "      <td>0</td>\n",
       "      <td>[3.8328545, -3.5713747]</td>\n",
       "      <td>0.995896</td>\n",
       "    </tr>\n",
       "    <tr>\n",
       "      <th>3</th>\n",
       "      <td>0</td>\n",
       "      <td>[3.13148, -3.6825964]</td>\n",
       "      <td>0.997027</td>\n",
       "    </tr>\n",
       "    <tr>\n",
       "      <th>4</th>\n",
       "      <td>1</td>\n",
       "      <td>[-0.78947127, 1.3680041]</td>\n",
       "      <td>0.230960</td>\n",
       "    </tr>\n",
       "  </tbody>\n",
       "</table>\n",
       "</div>"
      ],
      "text/plain": [
       "   class               predictions    prob_0\n",
       "0      0   [1.0686324, 0.15983486]  0.812226\n",
       "1      0    [3.294977, -3.2591858]  0.997830\n",
       "2      0   [3.8328545, -3.5713747]  0.995896\n",
       "3      0     [3.13148, -3.6825964]  0.997027\n",
       "4      1  [-0.78947127, 1.3680041]  0.230960"
      ]
     },
     "execution_count": 78,
     "metadata": {},
     "output_type": "execute_result"
    }
   ],
   "source": [
    "df_test2.head()"
   ]
  },
  {
   "cell_type": "code",
   "execution_count": 79,
   "id": "f0c40979",
   "metadata": {},
   "outputs": [],
   "source": [
    "df_test2['pred_0'] = [r['predictions'][0] for i, r in df_test2.iterrows()]\n",
    "df_test2['pred_1'] = [r['predictions'][1] for i, r in df_test2.iterrows()]\n",
    "df_test2 = df_test2.drop(columns=['predictions'])"
   ]
  },
  {
   "cell_type": "code",
   "execution_count": 80,
   "id": "45a0a068",
   "metadata": {},
   "outputs": [
    {
     "data": {
      "text/html": [
       "<div>\n",
       "<style scoped>\n",
       "    .dataframe tbody tr th:only-of-type {\n",
       "        vertical-align: middle;\n",
       "    }\n",
       "\n",
       "    .dataframe tbody tr th {\n",
       "        vertical-align: top;\n",
       "    }\n",
       "\n",
       "    .dataframe thead th {\n",
       "        text-align: right;\n",
       "    }\n",
       "</style>\n",
       "<table border=\"1\" class=\"dataframe\">\n",
       "  <thead>\n",
       "    <tr style=\"text-align: right;\">\n",
       "      <th></th>\n",
       "      <th>class</th>\n",
       "      <th>prob_0</th>\n",
       "      <th>pred_0</th>\n",
       "      <th>pred_1</th>\n",
       "    </tr>\n",
       "  </thead>\n",
       "  <tbody>\n",
       "    <tr>\n",
       "      <th>0</th>\n",
       "      <td>0</td>\n",
       "      <td>0.812226</td>\n",
       "      <td>1.068632</td>\n",
       "      <td>0.159835</td>\n",
       "    </tr>\n",
       "    <tr>\n",
       "      <th>1</th>\n",
       "      <td>0</td>\n",
       "      <td>0.997830</td>\n",
       "      <td>3.294977</td>\n",
       "      <td>-3.259186</td>\n",
       "    </tr>\n",
       "    <tr>\n",
       "      <th>2</th>\n",
       "      <td>0</td>\n",
       "      <td>0.995896</td>\n",
       "      <td>3.832854</td>\n",
       "      <td>-3.571375</td>\n",
       "    </tr>\n",
       "    <tr>\n",
       "      <th>3</th>\n",
       "      <td>0</td>\n",
       "      <td>0.997027</td>\n",
       "      <td>3.131480</td>\n",
       "      <td>-3.682596</td>\n",
       "    </tr>\n",
       "    <tr>\n",
       "      <th>4</th>\n",
       "      <td>1</td>\n",
       "      <td>0.230960</td>\n",
       "      <td>-0.789471</td>\n",
       "      <td>1.368004</td>\n",
       "    </tr>\n",
       "  </tbody>\n",
       "</table>\n",
       "</div>"
      ],
      "text/plain": [
       "   class    prob_0    pred_0    pred_1\n",
       "0      0  0.812226  1.068632  0.159835\n",
       "1      0  0.997830  3.294977 -3.259186\n",
       "2      0  0.995896  3.832854 -3.571375\n",
       "3      0  0.997027  3.131480 -3.682596\n",
       "4      1  0.230960 -0.789471  1.368004"
      ]
     },
     "execution_count": 80,
     "metadata": {},
     "output_type": "execute_result"
    }
   ],
   "source": [
    "df_test2.head()"
   ]
  },
  {
   "cell_type": "code",
   "execution_count": 81,
   "id": "6a5f668a",
   "metadata": {},
   "outputs": [
    {
     "data": {
      "text/html": [
       "<div>\n",
       "<style scoped>\n",
       "    .dataframe tbody tr th:only-of-type {\n",
       "        vertical-align: middle;\n",
       "    }\n",
       "\n",
       "    .dataframe tbody tr th {\n",
       "        vertical-align: top;\n",
       "    }\n",
       "\n",
       "    .dataframe thead th {\n",
       "        text-align: right;\n",
       "    }\n",
       "</style>\n",
       "<table border=\"1\" class=\"dataframe\">\n",
       "  <thead>\n",
       "    <tr style=\"text-align: right;\">\n",
       "      <th></th>\n",
       "      <th>class</th>\n",
       "      <th>pred_0</th>\n",
       "      <th>pred_1</th>\n",
       "      <th>prob_0</th>\n",
       "    </tr>\n",
       "  </thead>\n",
       "  <tbody>\n",
       "    <tr>\n",
       "      <th>0</th>\n",
       "      <td>0</td>\n",
       "      <td>1.068632</td>\n",
       "      <td>0.159835</td>\n",
       "      <td>0.812226</td>\n",
       "    </tr>\n",
       "    <tr>\n",
       "      <th>1</th>\n",
       "      <td>0</td>\n",
       "      <td>3.294977</td>\n",
       "      <td>-3.259186</td>\n",
       "      <td>0.997830</td>\n",
       "    </tr>\n",
       "    <tr>\n",
       "      <th>2</th>\n",
       "      <td>0</td>\n",
       "      <td>3.832854</td>\n",
       "      <td>-3.571375</td>\n",
       "      <td>0.995896</td>\n",
       "    </tr>\n",
       "    <tr>\n",
       "      <th>3</th>\n",
       "      <td>0</td>\n",
       "      <td>3.131480</td>\n",
       "      <td>-3.682596</td>\n",
       "      <td>0.997027</td>\n",
       "    </tr>\n",
       "    <tr>\n",
       "      <th>4</th>\n",
       "      <td>1</td>\n",
       "      <td>-0.789471</td>\n",
       "      <td>1.368004</td>\n",
       "      <td>0.230960</td>\n",
       "    </tr>\n",
       "  </tbody>\n",
       "</table>\n",
       "</div>"
      ],
      "text/plain": [
       "   class    pred_0    pred_1    prob_0\n",
       "0      0  1.068632  0.159835  0.812226\n",
       "1      0  3.294977 -3.259186  0.997830\n",
       "2      0  3.832854 -3.571375  0.995896\n",
       "3      0  3.131480 -3.682596  0.997027\n",
       "4      1 -0.789471  1.368004  0.230960"
      ]
     },
     "execution_count": 81,
     "metadata": {},
     "output_type": "execute_result"
    }
   ],
   "source": [
    "df_test2 = df_test2[['class', 'pred_0', 'pred_1', 'prob_0']]\n",
    "df_test2.head()"
   ]
  },
  {
   "cell_type": "code",
   "execution_count": 82,
   "id": "10d6d149",
   "metadata": {},
   "outputs": [],
   "source": [
    "df_test2.to_csv(DATA/'CNN_bayesian_prob_test2.csv', index=False)"
   ]
  },
  {
   "cell_type": "markdown",
   "id": "ce278fdb",
   "metadata": {},
   "source": [
    "## Test for utility matrix"
   ]
  },
  {
   "cell_type": "code",
   "execution_count": 136,
   "id": "5999225b",
   "metadata": {},
   "outputs": [],
   "source": [
    "''' \n",
    "Utility matrix format: \n",
    "    [[TN, FN],\n",
    "     [FP, TP]]\n",
    "'''\n",
    "utility = np.array([[1, 0], \n",
    "                    [0, 1]], dtype=np.float64)"
   ]
  },
  {
   "cell_type": "code",
   "execution_count": 138,
   "id": "afa435d8",
   "metadata": {},
   "outputs": [],
   "source": [
    "df = df_preds\n",
    "df['expected_utility'] = [get_expected_utility(utility, [r['direct_prob_0'], 1 - r['direct_prob_0']]) \n",
    "                          for i, r in df.iterrows()]\n",
    "df['best_utility_class'] = torch.tensor(df['expected_utility']).argmax(axis=1)"
   ]
  },
  {
   "cell_type": "code",
   "execution_count": 139,
   "id": "5dd3fe2a",
   "metadata": {},
   "outputs": [
    {
     "data": {
      "text/html": [
       "<div>\n",
       "<style scoped>\n",
       "    .dataframe tbody tr th:only-of-type {\n",
       "        vertical-align: middle;\n",
       "    }\n",
       "\n",
       "    .dataframe tbody tr th {\n",
       "        vertical-align: top;\n",
       "    }\n",
       "\n",
       "    .dataframe thead th {\n",
       "        text-align: right;\n",
       "    }\n",
       "</style>\n",
       "<table border=\"1\" class=\"dataframe\">\n",
       "  <thead>\n",
       "    <tr style=\"text-align: right;\">\n",
       "      <th></th>\n",
       "      <th>class</th>\n",
       "      <th>predictions</th>\n",
       "      <th>predicted_class</th>\n",
       "      <th>direct_prob_0</th>\n",
       "      <th>expected_utility</th>\n",
       "      <th>best_utility_class</th>\n",
       "    </tr>\n",
       "  </thead>\n",
       "  <tbody>\n",
       "    <tr>\n",
       "      <th>0</th>\n",
       "      <td>0</td>\n",
       "      <td>[1.0686345, 0.15982893]</td>\n",
       "      <td>0</td>\n",
       "      <td>0.812227</td>\n",
       "      <td>[0.8122267607382875, 0.18777323926171252]</td>\n",
       "      <td>0</td>\n",
       "    </tr>\n",
       "    <tr>\n",
       "      <th>1</th>\n",
       "      <td>0</td>\n",
       "      <td>[3.294972, -3.2591784]</td>\n",
       "      <td>0</td>\n",
       "      <td>0.997830</td>\n",
       "      <td>[0.997829581810393, 0.0021704181896069485]</td>\n",
       "      <td>0</td>\n",
       "    </tr>\n",
       "    <tr>\n",
       "      <th>2</th>\n",
       "      <td>0</td>\n",
       "      <td>[3.8328488, -3.5713756]</td>\n",
       "      <td>0</td>\n",
       "      <td>0.995896</td>\n",
       "      <td>[0.9958956353188672, 0.004104364681132844]</td>\n",
       "      <td>0</td>\n",
       "    </tr>\n",
       "    <tr>\n",
       "      <th>3</th>\n",
       "      <td>0</td>\n",
       "      <td>[3.1314778, -3.682592]</td>\n",
       "      <td>0</td>\n",
       "      <td>0.997027</td>\n",
       "      <td>[0.9970271557275053, 0.002972844272494668]</td>\n",
       "      <td>0</td>\n",
       "    </tr>\n",
       "    <tr>\n",
       "      <th>4</th>\n",
       "      <td>1</td>\n",
       "      <td>[-0.789468, 1.3680037]</td>\n",
       "      <td>1</td>\n",
       "      <td>0.230961</td>\n",
       "      <td>[0.2309608425386519, 0.7690391574613481]</td>\n",
       "      <td>1</td>\n",
       "    </tr>\n",
       "  </tbody>\n",
       "</table>\n",
       "</div>"
      ],
      "text/plain": [
       "   class              predictions  predicted_class  direct_prob_0  \\\n",
       "0      0  [1.0686345, 0.15982893]                0       0.812227   \n",
       "1      0   [3.294972, -3.2591784]                0       0.997830   \n",
       "2      0  [3.8328488, -3.5713756]                0       0.995896   \n",
       "3      0   [3.1314778, -3.682592]                0       0.997027   \n",
       "4      1   [-0.789468, 1.3680037]                1       0.230961   \n",
       "\n",
       "                             expected_utility  best_utility_class  \n",
       "0   [0.8122267607382875, 0.18777323926171252]                   0  \n",
       "1  [0.997829581810393, 0.0021704181896069485]                   0  \n",
       "2  [0.9958956353188672, 0.004104364681132844]                   0  \n",
       "3  [0.9970271557275053, 0.002972844272494668]                   0  \n",
       "4    [0.2309608425386519, 0.7690391574613481]                   1  "
      ]
     },
     "execution_count": 139,
     "metadata": {},
     "output_type": "execute_result"
    }
   ],
   "source": [
    "df.head()"
   ]
  },
  {
   "cell_type": "code",
   "execution_count": 181,
   "id": "d790d2d3",
   "metadata": {},
   "outputs": [
    {
     "data": {
      "text/html": [
       "<div>\n",
       "<style scoped>\n",
       "    .dataframe tbody tr th:only-of-type {\n",
       "        vertical-align: middle;\n",
       "    }\n",
       "\n",
       "    .dataframe tbody tr th {\n",
       "        vertical-align: top;\n",
       "    }\n",
       "\n",
       "    .dataframe thead th {\n",
       "        text-align: right;\n",
       "    }\n",
       "</style>\n",
       "<table border=\"1\" class=\"dataframe\">\n",
       "  <thead>\n",
       "    <tr style=\"text-align: right;\">\n",
       "      <th></th>\n",
       "      <th>class</th>\n",
       "      <th>direct_prob_0</th>\n",
       "      <th>prediction_0</th>\n",
       "    </tr>\n",
       "  </thead>\n",
       "  <tbody>\n",
       "    <tr>\n",
       "      <th>0</th>\n",
       "      <td>0</td>\n",
       "      <td>0.812227</td>\n",
       "      <td>1.068634</td>\n",
       "    </tr>\n",
       "    <tr>\n",
       "      <th>1</th>\n",
       "      <td>0</td>\n",
       "      <td>0.997830</td>\n",
       "      <td>3.294972</td>\n",
       "    </tr>\n",
       "    <tr>\n",
       "      <th>2</th>\n",
       "      <td>0</td>\n",
       "      <td>0.995896</td>\n",
       "      <td>3.832849</td>\n",
       "    </tr>\n",
       "    <tr>\n",
       "      <th>3</th>\n",
       "      <td>0</td>\n",
       "      <td>0.997027</td>\n",
       "      <td>3.131478</td>\n",
       "    </tr>\n",
       "    <tr>\n",
       "      <th>4</th>\n",
       "      <td>1</td>\n",
       "      <td>0.230961</td>\n",
       "      <td>-0.789468</td>\n",
       "    </tr>\n",
       "  </tbody>\n",
       "</table>\n",
       "</div>"
      ],
      "text/plain": [
       "   class  direct_prob_0  prediction_0\n",
       "0      0       0.812227      1.068634\n",
       "1      0       0.997830      3.294972\n",
       "2      0       0.995896      3.832849\n",
       "3      0       0.997027      3.131478\n",
       "4      1       0.230961     -0.789468"
      ]
     },
     "execution_count": 181,
     "metadata": {},
     "output_type": "execute_result"
    }
   ],
   "source": []
  },
  {
   "cell_type": "code",
   "execution_count": 189,
   "id": "c06ca0be",
   "metadata": {},
   "outputs": [],
   "source": [
    "df_save = df_preds\n",
    "df_save.to_csv(DATA/'CNN_direct_prob.csv', index=False)"
   ]
  },
  {
   "cell_type": "markdown",
   "id": "11e6d4c0",
   "metadata": {},
   "source": [
    "# Create and compare different utility matrix for test set 2 in CNN and RF models"
   ]
  },
  {
   "cell_type": "code",
   "execution_count": 342,
   "id": "b392d9a2",
   "metadata": {},
   "outputs": [],
   "source": [
    "''' \n",
    "Utility matrix format: \n",
    "    [[TN, FN],\n",
    "     [FP, TP]]\n",
    "'''\n",
    "ums = {\n",
    "    'um1' : [[1, 0], [0, 1]], # accuracy\n",
    "    'um2' : [[1, -1], [0, 1]],\n",
    "    'um3' : [[1, 0], [-1, 1]],\n",
    "    'um4' : [[10, 0], [0, 1]],\n",
    "    'um5' : [[1, 0], [0, 10]],\n",
    "    'um6' : [[1, -10], [0, 1]],\n",
    "    'um7' : [[1, 0], [-10, 1]],\n",
    "    'um8' : [[5, 0], [0, 1]],\n",
    "    'um9' : [[100, 0], [0, 1]],\n",
    "    'um10' : [[1, 0], [0, 5]],\n",
    "    'um11' : [[1, 0], [0, 100]],\n",
    "    'um12' : [[1, 0], [-5, 1]],\n",
    "    'um13' : [[1, -5], [0, 1]],\n",
    "    'um14' : [[1, 0], [-100, 1]],\n",
    "    'um15' : [[1, -100], [0, 1]],\n",
    "    \n",
    "}"
   ]
  },
  {
   "cell_type": "markdown",
   "id": "5b3bf562",
   "metadata": {},
   "source": [
    "## Test for random forest model"
   ]
  },
  {
   "cell_type": "code",
   "execution_count": 343,
   "id": "7ace401c",
   "metadata": {},
   "outputs": [],
   "source": [
    "def choose_class(x, um=None):\n",
    "    \"\"\"\n",
    "    x = either one number between 0-1, or a (normalized) vector of probabilities\n",
    "        if it's one number then we are in a binary classification case\n",
    "        and x is the probability of CLASS 0\n",
    "    um = utility matrix in the format [[T0,F0],[F1,T1]] if None: Choose class based on x\n",
    "    \"\"\"\n",
    "    if type(x) == float or type(x) == np.float64: # x is float and is the probability of class 0\n",
    "        x = np.array([x])\n",
    "        x = np.concatenate((x, 1-x)) # transform into prob. vector\n",
    "    if um != None:\n",
    "        um = np.array(um)\n",
    "        utilities = np.matmul(um, x)\n",
    "        cl = np.argmax(utilities)\n",
    "    else:\n",
    "        cl = np.argmax(x)\n",
    "    return cl"
   ]
  },
  {
   "cell_type": "code",
   "execution_count": 345,
   "id": "8d716c5c",
   "metadata": {},
   "outputs": [],
   "source": [
    "def get_total_cost (um, cm):\n",
    "    um = np.array([np.array(x) for x in um])\n",
    "    um = np.array([[um[0][0], um[1][0]], [um[0][1], um[1][1]]]) # switch the ordering of                             \n",
    "    um = um - um.min()                                          #t he cm to match [[TN, FP], [FN, TP]]\n",
    "    um = um / um.max() # Matrix to have max = 1 and min = 0\n",
    "    s = um * cm\n",
    "    s = s.sum()\n",
    "    s = s / cm.sum()\n",
    "    return s"
   ]
  },
  {
   "cell_type": "code",
   "execution_count": 346,
   "id": "e1304d9c",
   "metadata": {},
   "outputs": [
    {
     "name": "stdout",
     "output_type": "stream",
     "text": [
      "<class 'pandas.core.frame.DataFrame'>\n",
      "RangeIndex: 3589 entries, 0 to 3588\n",
      "Data columns (total 3 columns):\n",
      " #   Column  Non-Null Count  Dtype  \n",
      "---  ------  --------------  -----  \n",
      " 0   class   3589 non-null   int64  \n",
      " 1   pred_0  3589 non-null   float64\n",
      " 2   prob_0  3589 non-null   float64\n",
      "dtypes: float64(2), int64(1)\n",
      "memory usage: 84.2 KB\n"
     ]
    }
   ],
   "source": [
    "df_test2_RF = pd.read_csv(DATA/'RF_bayesian_prob_test2.csv')\n",
    "df_test2_RF.info()"
   ]
  },
  {
   "cell_type": "code",
   "execution_count": 347,
   "id": "47400991",
   "metadata": {},
   "outputs": [
    {
     "data": {
      "text/html": [
       "<div>\n",
       "<style scoped>\n",
       "    .dataframe tbody tr th:only-of-type {\n",
       "        vertical-align: middle;\n",
       "    }\n",
       "\n",
       "    .dataframe tbody tr th {\n",
       "        vertical-align: top;\n",
       "    }\n",
       "\n",
       "    .dataframe thead th {\n",
       "        text-align: right;\n",
       "    }\n",
       "</style>\n",
       "<table border=\"1\" class=\"dataframe\">\n",
       "  <thead>\n",
       "    <tr style=\"text-align: right;\">\n",
       "      <th></th>\n",
       "      <th>class</th>\n",
       "      <th>pred_0</th>\n",
       "      <th>prob_0</th>\n",
       "    </tr>\n",
       "  </thead>\n",
       "  <tbody>\n",
       "    <tr>\n",
       "      <th>0</th>\n",
       "      <td>0</td>\n",
       "      <td>0.975</td>\n",
       "      <td>0.997678</td>\n",
       "    </tr>\n",
       "    <tr>\n",
       "      <th>1</th>\n",
       "      <td>0</td>\n",
       "      <td>0.990</td>\n",
       "      <td>0.998059</td>\n",
       "    </tr>\n",
       "    <tr>\n",
       "      <th>2</th>\n",
       "      <td>0</td>\n",
       "      <td>0.950</td>\n",
       "      <td>0.995711</td>\n",
       "    </tr>\n",
       "    <tr>\n",
       "      <th>3</th>\n",
       "      <td>0</td>\n",
       "      <td>0.995</td>\n",
       "      <td>0.997517</td>\n",
       "    </tr>\n",
       "    <tr>\n",
       "      <th>4</th>\n",
       "      <td>1</td>\n",
       "      <td>0.105</td>\n",
       "      <td>0.093190</td>\n",
       "    </tr>\n",
       "  </tbody>\n",
       "</table>\n",
       "</div>"
      ],
      "text/plain": [
       "   class  pred_0    prob_0\n",
       "0      0   0.975  0.997678\n",
       "1      0   0.990  0.998059\n",
       "2      0   0.950  0.995711\n",
       "3      0   0.995  0.997517\n",
       "4      1   0.105  0.093190"
      ]
     },
     "execution_count": 347,
     "metadata": {},
     "output_type": "execute_result"
    }
   ],
   "source": [
    "df_test2_RF.head()"
   ]
  },
  {
   "cell_type": "code",
   "execution_count": 348,
   "id": "838e16d8",
   "metadata": {},
   "outputs": [
    {
     "data": {
      "text/html": [
       "<div>\n",
       "<style scoped>\n",
       "    .dataframe tbody tr th:only-of-type {\n",
       "        vertical-align: middle;\n",
       "    }\n",
       "\n",
       "    .dataframe tbody tr th {\n",
       "        vertical-align: top;\n",
       "    }\n",
       "\n",
       "    .dataframe thead th {\n",
       "        text-align: right;\n",
       "    }\n",
       "</style>\n",
       "<table border=\"1\" class=\"dataframe\">\n",
       "  <thead>\n",
       "    <tr style=\"text-align: right;\">\n",
       "      <th></th>\n",
       "      <th>class</th>\n",
       "      <th>pred_0</th>\n",
       "      <th>prob_0</th>\n",
       "    </tr>\n",
       "  </thead>\n",
       "  <tbody>\n",
       "    <tr>\n",
       "      <th>0</th>\n",
       "      <td>0</td>\n",
       "      <td>0.975</td>\n",
       "      <td>0.997678</td>\n",
       "    </tr>\n",
       "    <tr>\n",
       "      <th>1</th>\n",
       "      <td>0</td>\n",
       "      <td>0.990</td>\n",
       "      <td>0.998059</td>\n",
       "    </tr>\n",
       "    <tr>\n",
       "      <th>2</th>\n",
       "      <td>0</td>\n",
       "      <td>0.950</td>\n",
       "      <td>0.995711</td>\n",
       "    </tr>\n",
       "    <tr>\n",
       "      <th>3</th>\n",
       "      <td>0</td>\n",
       "      <td>0.995</td>\n",
       "      <td>0.997517</td>\n",
       "    </tr>\n",
       "    <tr>\n",
       "      <th>4</th>\n",
       "      <td>1</td>\n",
       "      <td>0.105</td>\n",
       "      <td>0.093190</td>\n",
       "    </tr>\n",
       "  </tbody>\n",
       "</table>\n",
       "</div>"
      ],
      "text/plain": [
       "   class  pred_0    prob_0\n",
       "0      0   0.975  0.997678\n",
       "1      0   0.990  0.998059\n",
       "2      0   0.950  0.995711\n",
       "3      0   0.995  0.997517\n",
       "4      1   0.105  0.093190"
      ]
     },
     "execution_count": 348,
     "metadata": {},
     "output_type": "execute_result"
    }
   ],
   "source": [
    "#df_test2_RF['predictions'] = [np.array([r['pred_0'], 1. - r['pred_0']]) for i, r in df_test2_RF.iterrows()]\n",
    "#df_test2_RF['probabilities'] = [np.array([r['prob_0'], 1 - r['prob_0']]) for i, r in df_test2_RF.iterrows()]\n",
    "df_test2_RF.head()"
   ]
  },
  {
   "cell_type": "code",
   "execution_count": 392,
   "id": "4b56618c",
   "metadata": {},
   "outputs": [],
   "source": [
    "df_scores = pd.DataFrame()\n",
    "df_scores['ums'] = list(ums.values())"
   ]
  },
  {
   "cell_type": "code",
   "execution_count": 393,
   "id": "1ab535f9",
   "metadata": {},
   "outputs": [
    {
     "data": {
      "text/html": [
       "<div>\n",
       "<style scoped>\n",
       "    .dataframe tbody tr th:only-of-type {\n",
       "        vertical-align: middle;\n",
       "    }\n",
       "\n",
       "    .dataframe tbody tr th {\n",
       "        vertical-align: top;\n",
       "    }\n",
       "\n",
       "    .dataframe thead th {\n",
       "        text-align: right;\n",
       "    }\n",
       "</style>\n",
       "<table border=\"1\" class=\"dataframe\">\n",
       "  <thead>\n",
       "    <tr style=\"text-align: right;\">\n",
       "      <th></th>\n",
       "      <th>ums</th>\n",
       "    </tr>\n",
       "  </thead>\n",
       "  <tbody>\n",
       "    <tr>\n",
       "      <th>0</th>\n",
       "      <td>[[1, 0], [0, 1]]</td>\n",
       "    </tr>\n",
       "    <tr>\n",
       "      <th>1</th>\n",
       "      <td>[[1, -1], [0, 1]]</td>\n",
       "    </tr>\n",
       "    <tr>\n",
       "      <th>2</th>\n",
       "      <td>[[1, 0], [-1, 1]]</td>\n",
       "    </tr>\n",
       "    <tr>\n",
       "      <th>3</th>\n",
       "      <td>[[10, 0], [0, 1]]</td>\n",
       "    </tr>\n",
       "    <tr>\n",
       "      <th>4</th>\n",
       "      <td>[[1, 0], [0, 10]]</td>\n",
       "    </tr>\n",
       "    <tr>\n",
       "      <th>5</th>\n",
       "      <td>[[1, -10], [0, 1]]</td>\n",
       "    </tr>\n",
       "    <tr>\n",
       "      <th>6</th>\n",
       "      <td>[[1, 0], [-10, 1]]</td>\n",
       "    </tr>\n",
       "    <tr>\n",
       "      <th>7</th>\n",
       "      <td>[[5, 0], [0, 1]]</td>\n",
       "    </tr>\n",
       "    <tr>\n",
       "      <th>8</th>\n",
       "      <td>[[100, 0], [0, 1]]</td>\n",
       "    </tr>\n",
       "    <tr>\n",
       "      <th>9</th>\n",
       "      <td>[[1, 0], [0, 5]]</td>\n",
       "    </tr>\n",
       "    <tr>\n",
       "      <th>10</th>\n",
       "      <td>[[1, 0], [0, 100]]</td>\n",
       "    </tr>\n",
       "    <tr>\n",
       "      <th>11</th>\n",
       "      <td>[[1, 0], [-5, 1]]</td>\n",
       "    </tr>\n",
       "    <tr>\n",
       "      <th>12</th>\n",
       "      <td>[[1, -5], [0, 1]]</td>\n",
       "    </tr>\n",
       "    <tr>\n",
       "      <th>13</th>\n",
       "      <td>[[1, 0], [-100, 1]]</td>\n",
       "    </tr>\n",
       "    <tr>\n",
       "      <th>14</th>\n",
       "      <td>[[1, -100], [0, 1]]</td>\n",
       "    </tr>\n",
       "  </tbody>\n",
       "</table>\n",
       "</div>"
      ],
      "text/plain": [
       "                    ums\n",
       "0      [[1, 0], [0, 1]]\n",
       "1     [[1, -1], [0, 1]]\n",
       "2     [[1, 0], [-1, 1]]\n",
       "3     [[10, 0], [0, 1]]\n",
       "4     [[1, 0], [0, 10]]\n",
       "5    [[1, -10], [0, 1]]\n",
       "6    [[1, 0], [-10, 1]]\n",
       "7      [[5, 0], [0, 1]]\n",
       "8    [[100, 0], [0, 1]]\n",
       "9      [[1, 0], [0, 5]]\n",
       "10   [[1, 0], [0, 100]]\n",
       "11    [[1, 0], [-5, 1]]\n",
       "12    [[1, -5], [0, 1]]\n",
       "13  [[1, 0], [-100, 1]]\n",
       "14  [[1, -100], [0, 1]]"
      ]
     },
     "execution_count": 393,
     "metadata": {},
     "output_type": "execute_result"
    }
   ],
   "source": [
    "df_scores"
   ]
  },
  {
   "cell_type": "code",
   "execution_count": null,
   "id": "342b6d08",
   "metadata": {},
   "outputs": [],
   "source": []
  },
  {
   "cell_type": "code",
   "execution_count": 387,
   "id": "17110cbd",
   "metadata": {},
   "outputs": [],
   "source": [
    "def get_utility_scores(df, um, verbose=True):\n",
    "    '''\n",
    "    Method for calculating the total gains from utility matrix for regular predictions \n",
    "    and bayesian corrected predictions\n",
    "    df = DataFrame for predictions and bayesian probabilites of class 0\n",
    "    um = utility matrix in the format [[T0,F0],[F1,T1]]\n",
    "    verbose = if True: Outputs confusion matrix and text\n",
    "    '''\n",
    "    # Calculations for standard output\n",
    "    y = df['class'].to_numpy()\n",
    "    if 'pred_1' in df.columns:\n",
    "        y_pred = [choose_class([r['pred_0'], r['pred_1']]) for i, r in df.iterrows()]\n",
    "    else:\n",
    "        y_pred = [choose_class(r['pred_0']) for i, r in df.iterrows()]\n",
    "    cm1 = confusion_matrix(y, y_pred)\n",
    "    c1 = get_total_cost(um, cm1)\n",
    "    if verbose: \n",
    "        f = sns.heatmap(cm1, annot=True, fmt='d')\n",
    "        print('**Output for the standard predictions from algorithm**')\n",
    "        print(f'Utility Matrix: {um}')\n",
    "        print(f'Total gains for the Utility Matrix: {c1}')\n",
    "        print('Confusion matrix:')\n",
    "        plt.show()\n",
    "    # Calculations for standard output with expected utility class choice\n",
    "    if 'pred_1' in df.columns:\n",
    "        y_pred = [choose_class([r['pred_0'], r['pred_1']], um) for i, r in df.iterrows()]\n",
    "    else:\n",
    "        y_pred = [choose_class(r['pred_0'], um) for i, r in df.iterrows()]\n",
    "    cm2 = confusion_matrix(y, y_pred)\n",
    "    c2 = get_total_cost(um, cm2)\n",
    "    if verbose: \n",
    "        f = sns.heatmap(cm2, annot=True, fmt='d')\n",
    "        print('**Output for the standard predictions from algorithm with expected utility**')\n",
    "        print(f'Utility Matrix: {um}')\n",
    "        print(f'Total gains for the Utility Matrix: {c2}')\n",
    "        print('Confusion matrix:')\n",
    "        plt.show()\n",
    "    # Calculations for bayesian probability and expected utility class choice\n",
    "    y_pred = [choose_class(r['prob_0'], um) for i, r in df.iterrows()]\n",
    "    cm3 = confusion_matrix(y, y_pred)\n",
    "    c3 = get_total_cost(um, cm3)\n",
    "    if verbose: \n",
    "        f = sns.heatmap(cm3, annot=True, fmt='d')\n",
    "        print('**Output for the bayesian calculations with expected utility**')\n",
    "        print(f'Utility Matrix: {um}')\n",
    "        print(f'Total gains: {c3}')\n",
    "        print('Confusion matrix:')\n",
    "        plt.show()\n",
    "    return c1, c2, c3"
   ]
  },
  {
   "cell_type": "code",
   "execution_count": 388,
   "id": "b402b5e2",
   "metadata": {},
   "outputs": [
    {
     "name": "stdout",
     "output_type": "stream",
     "text": [
      "**Output for the standard predictions from algorithm**\n",
      "Utility Matrix: [[1, 0], [-10, 10]]\n",
      "Total gains for the Utility Matrix: 0.5740039008080247\n",
      "Confusion matrix:\n"
     ]
    },
    {
     "data": {
      "image/png": "[encoded data removed]",
      "text/plain": [
       "<Figure size 432x288 with 2 Axes>"
      ]
     },
     "metadata": {
      "needs_background": "light"
     },
     "output_type": "display_data"
    },
    {
     "name": "stdout",
     "output_type": "stream",
     "text": [
      "**Output for the standard predictions from algorithm with expected utility**\n",
      "Utility Matrix: [[1, 0], [-10, 10]]\n",
      "Total gains for the Utility Matrix: 0.5736416829200335\n",
      "Confusion matrix:\n"
     ]
    },
    {
     "data": {
      "image/png": "[encoded data removed]",
      "text/plain": [
       "<Figure size 432x288 with 2 Axes>"
      ]
     },
     "metadata": {
      "needs_background": "light"
     },
     "output_type": "display_data"
    },
    {
     "name": "stdout",
     "output_type": "stream",
     "text": [
      "**Output for the bayesian calculations with expected utility**\n",
      "Utility Matrix: [[1, 0], [-10, 10]]\n",
      "Total gains: 0.5775703538590137\n",
      "Confusion matrix:\n"
     ]
    },
    {
     "data": {
      "image/png": "[encoded data removed]",
      "text/plain": [
       "<Figure size 432x288 with 2 Axes>"
      ]
     },
     "metadata": {
      "needs_background": "light"
     },
     "output_type": "display_data"
    }
   ],
   "source": [
    "c1, c2, c3 = get_utility_scores(df_test2_RF, [[1, 0], [-10, 10]])"
   ]
  },
  {
   "cell_type": "code",
   "execution_count": 358,
   "id": "68d2f24a",
   "metadata": {},
   "outputs": [
    {
     "data": {
      "text/plain": [
       "array([list([[1, 0], [0, 1]])], dtype=object)"
      ]
     },
     "execution_count": 358,
     "metadata": {},
     "output_type": "execute_result"
    }
   ],
   "source": [
    "df_scores.iloc[0].to_numpy()"
   ]
  },
  {
   "cell_type": "code",
   "execution_count": 359,
   "id": "f90ea136",
   "metadata": {},
   "outputs": [],
   "source": [
    "um = np.array([[1, 0], [0, 1]])"
   ]
  },
  {
   "cell_type": "code",
   "execution_count": 360,
   "id": "adb748d7",
   "metadata": {},
   "outputs": [
    {
     "data": {
      "text/plain": [
       "array([[1., 0.],\n",
       "       [0., 1.]])"
      ]
     },
     "execution_count": 360,
     "metadata": {},
     "output_type": "execute_result"
    }
   ],
   "source": [
    "um = um - um.min()\n",
    "um = um / um.max()\n",
    "um"
   ]
  },
  {
   "cell_type": "code",
   "execution_count": 361,
   "id": "545d63f5",
   "metadata": {},
   "outputs": [
    {
     "data": {
      "text/plain": [
       "1.0"
      ]
     },
     "execution_count": 361,
     "metadata": {},
     "output_type": "execute_result"
    }
   ],
   "source": [
    "um[1][1]"
   ]
  },
  {
   "cell_type": "markdown",
   "id": "80cd0c2e",
   "metadata": {},
   "source": [
    "# Get the scores for all the different utility matrixes"
   ]
  },
  {
   "cell_type": "code",
   "execution_count": 381,
   "id": "cc70d6f7",
   "metadata": {},
   "outputs": [
    {
     "data": {
      "text/plain": [
       "([0.967121760936194,\n",
       "  0.9714405126776261,\n",
       "  0.9792421287266648,\n",
       "  0.9071886319309,\n",
       "  0.15664530509891336,\n",
       "  0.9749740368297068,\n",
       "  0.9891587932825046,\n",
       "  0.9138478684870438,\n",
       "  0.9011953190303705,\n",
       "  0.24669824463638898,\n",
       "  0.07559765951518528,\n",
       "  0.9873223739203121,\n",
       "  0.9743196805052475,\n",
       "  0.991122489234156,\n",
       "  0.9756737445825943],\n",
       " [0.967121760936194,\n",
       "  0.9827249930342714,\n",
       "  0.9746447478406242,\n",
       "  0.9097241571468375,\n",
       "  0.17035385901365285,\n",
       "  0.9881962562374933,\n",
       "  0.9920210744953013,\n",
       "  0.9127890777375314,\n",
       "  0.9091724714405127,\n",
       "  0.26057397603789356,\n",
       "  0.09213987183059348,\n",
       "  0.9867186774403269,\n",
       "  0.9889941487879632,\n",
       "  0.9991061797737311,\n",
       "  0.9922921799006315],\n",
       " [0.9749233769852327,\n",
       "  0.98202842017275,\n",
       "  0.9807745890220118,\n",
       "  0.9091668988576205,\n",
       "  0.17305656171635553,\n",
       "  0.991970414650827,\n",
       "  0.9917424453506928,\n",
       "  0.9146837559208694,\n",
       "  0.9091668988576205,\n",
       "  0.2607411535246587,\n",
       "  0.09729172471440513,\n",
       "  0.9887155196433547,\n",
       "  0.9887155196433547,\n",
       "  0.999100662364927,\n",
       "  0.9973792308180387])"
      ]
     },
     "execution_count": 381,
     "metadata": {},
     "output_type": "execute_result"
    }
   ],
   "source": [
    "scores1 = []\n",
    "scores2 = []\n",
    "scores3 = []\n",
    "for i, r in df_scores.iterrows():\n",
    "    s1, s2, s3 = get_utility_scores(df_test2_RF, r['ums'], verbose=False)\n",
    "    scores1.append(s1)\n",
    "    scores2.append(s2)\n",
    "    scores3.append(s3)\n",
    "scores1, scores2, scores3"
   ]
  },
  {
   "cell_type": "code",
   "execution_count": 394,
   "id": "d2888f91",
   "metadata": {},
   "outputs": [
    {
     "data": {
      "text/html": [
       "<div>\n",
       "<style scoped>\n",
       "    .dataframe tbody tr th:only-of-type {\n",
       "        vertical-align: middle;\n",
       "    }\n",
       "\n",
       "    .dataframe tbody tr th {\n",
       "        vertical-align: top;\n",
       "    }\n",
       "\n",
       "    .dataframe thead th {\n",
       "        text-align: right;\n",
       "    }\n",
       "</style>\n",
       "<table border=\"1\" class=\"dataframe\">\n",
       "  <thead>\n",
       "    <tr style=\"text-align: right;\">\n",
       "      <th></th>\n",
       "      <th>ums</th>\n",
       "      <th>RF_output</th>\n",
       "      <th>RF_utility</th>\n",
       "      <th>RF_bayesian_utility</th>\n",
       "    </tr>\n",
       "  </thead>\n",
       "  <tbody>\n",
       "    <tr>\n",
       "      <th>0</th>\n",
       "      <td>[[1, 0], [0, 1]]</td>\n",
       "      <td>0.960713</td>\n",
       "      <td>0.960713</td>\n",
       "      <td>0.962385</td>\n",
       "    </tr>\n",
       "    <tr>\n",
       "      <th>1</th>\n",
       "      <td>[[1, -1], [0, 1]]</td>\n",
       "      <td>0.972834</td>\n",
       "      <td>0.973530</td>\n",
       "      <td>0.973112</td>\n",
       "    </tr>\n",
       "    <tr>\n",
       "      <th>2</th>\n",
       "      <td>[[1, 0], [-1, 1]]</td>\n",
       "      <td>0.968236</td>\n",
       "      <td>0.967679</td>\n",
       "      <td>0.972276</td>\n",
       "    </tr>\n",
       "    <tr>\n",
       "      <th>3</th>\n",
       "      <td>[[10, 0], [0, 1]]</td>\n",
       "      <td>0.892505</td>\n",
       "      <td>0.891725</td>\n",
       "      <td>0.909167</td>\n",
       "    </tr>\n",
       "    <tr>\n",
       "      <th>4</th>\n",
       "      <td>[[1, 0], [0, 10]]</td>\n",
       "      <td>0.164280</td>\n",
       "      <td>0.166063</td>\n",
       "      <td>0.168877</td>\n",
       "    </tr>\n",
       "    <tr>\n",
       "      <th>5</th>\n",
       "      <td>[[1, -10], [0, 1]]</td>\n",
       "      <td>0.982750</td>\n",
       "      <td>0.984574</td>\n",
       "      <td>0.987690</td>\n",
       "    </tr>\n",
       "    <tr>\n",
       "      <th>6</th>\n",
       "      <td>[[1, 0], [-10, 1]]</td>\n",
       "      <td>0.974391</td>\n",
       "      <td>0.973378</td>\n",
       "      <td>0.991742</td>\n",
       "    </tr>\n",
       "    <tr>\n",
       "      <th>7</th>\n",
       "      <td>[[5, 0], [0, 1]]</td>\n",
       "      <td>0.900084</td>\n",
       "      <td>0.899359</td>\n",
       "      <td>0.910560</td>\n",
       "    </tr>\n",
       "    <tr>\n",
       "      <th>8</th>\n",
       "      <td>[[100, 0], [0, 1]]</td>\n",
       "      <td>0.885684</td>\n",
       "      <td>0.885352</td>\n",
       "      <td>0.909167</td>\n",
       "    </tr>\n",
       "    <tr>\n",
       "      <th>9</th>\n",
       "      <td>[[1, 0], [0, 5]]</td>\n",
       "      <td>0.252772</td>\n",
       "      <td>0.254277</td>\n",
       "      <td>0.254723</td>\n",
       "    </tr>\n",
       "    <tr>\n",
       "      <th>10</th>\n",
       "      <td>[[1, 0], [0, 100]]</td>\n",
       "      <td>0.084636</td>\n",
       "      <td>0.087651</td>\n",
       "      <td>0.095592</td>\n",
       "    </tr>\n",
       "    <tr>\n",
       "      <th>11</th>\n",
       "      <td>[[1, 0], [-5, 1]]</td>\n",
       "      <td>0.973252</td>\n",
       "      <td>0.972369</td>\n",
       "      <td>0.985790</td>\n",
       "    </tr>\n",
       "    <tr>\n",
       "      <th>12</th>\n",
       "      <td>[[1, -5], [0, 1]]</td>\n",
       "      <td>0.980914</td>\n",
       "      <td>0.982539</td>\n",
       "      <td>0.984211</td>\n",
       "    </tr>\n",
       "    <tr>\n",
       "      <th>13</th>\n",
       "      <td>[[1, 0], [-100, 1]]</td>\n",
       "      <td>0.975610</td>\n",
       "      <td>0.975279</td>\n",
       "      <td>0.999101</td>\n",
       "    </tr>\n",
       "    <tr>\n",
       "      <th>14</th>\n",
       "      <td>[[1, -100], [0, 1]]</td>\n",
       "      <td>0.984714</td>\n",
       "      <td>0.987729</td>\n",
       "      <td>0.995661</td>\n",
       "    </tr>\n",
       "  </tbody>\n",
       "</table>\n",
       "</div>"
      ],
      "text/plain": [
       "                    ums  RF_output  RF_utility  RF_bayesian_utility\n",
       "0      [[1, 0], [0, 1]]   0.960713    0.960713             0.962385\n",
       "1     [[1, -1], [0, 1]]   0.972834    0.973530             0.973112\n",
       "2     [[1, 0], [-1, 1]]   0.968236    0.967679             0.972276\n",
       "3     [[10, 0], [0, 1]]   0.892505    0.891725             0.909167\n",
       "4     [[1, 0], [0, 10]]   0.164280    0.166063             0.168877\n",
       "5    [[1, -10], [0, 1]]   0.982750    0.984574             0.987690\n",
       "6    [[1, 0], [-10, 1]]   0.974391    0.973378             0.991742\n",
       "7      [[5, 0], [0, 1]]   0.900084    0.899359             0.910560\n",
       "8    [[100, 0], [0, 1]]   0.885684    0.885352             0.909167\n",
       "9      [[1, 0], [0, 5]]   0.252772    0.254277             0.254723\n",
       "10   [[1, 0], [0, 100]]   0.084636    0.087651             0.095592\n",
       "11    [[1, 0], [-5, 1]]   0.973252    0.972369             0.985790\n",
       "12    [[1, -5], [0, 1]]   0.980914    0.982539             0.984211\n",
       "13  [[1, 0], [-100, 1]]   0.975610    0.975279             0.999101\n",
       "14  [[1, -100], [0, 1]]   0.984714    0.987729             0.995661"
      ]
     },
     "execution_count": 394,
     "metadata": {},
     "output_type": "execute_result"
    }
   ],
   "source": [
    "df_scores['RF_output'] = scores1\n",
    "df_scores['RF_utility'] = scores2\n",
    "df_scores['RF_bayesian_utility'] = scores3\n",
    "df_scores"
   ]
  },
  {
   "cell_type": "code",
   "execution_count": 364,
   "id": "4bcd17fb",
   "metadata": {},
   "outputs": [],
   "source": [
    "df_test2_CNN = pd.read_csv(DATA/'CNN_bayesian_prob_test2.csv')"
   ]
  },
  {
   "cell_type": "code",
   "execution_count": 389,
   "id": "f3af0da7",
   "metadata": {},
   "outputs": [
    {
     "data": {
      "text/plain": [
       "([0.9607132906101978,\n",
       "  0.9728336584006687,\n",
       "  0.968236277514628,\n",
       "  0.8925048760100306,\n",
       "  0.16427974366118697,\n",
       "  0.9827503229565085,\n",
       "  0.9743914486182527,\n",
       "  0.9000835887433826,\n",
       "  0.8856840345500139,\n",
       "  0.25277235998885483,\n",
       "  0.08463638896628588,\n",
       "  0.9732516021175815,\n",
       "  0.980913903594316,\n",
       "  0.9756102943813468,\n",
       "  0.98471401890816],\n",
       " [0.9607132906101978,\n",
       "  0.9735302312621901,\n",
       "  0.967679019225411,\n",
       "  0.8917247144051268,\n",
       "  0.16606297018668154,\n",
       "  0.9845740773575825,\n",
       "  0.9733782517287672,\n",
       "  0.8993591529674004,\n",
       "  0.8853524658679298,\n",
       "  0.2542769573697409,\n",
       "  0.08765115631095012,\n",
       "  0.9723692764929879,\n",
       "  0.9825392402711991,\n",
       "  0.975279249853099,\n",
       "  0.9877292828196166],\n",
       " [0.962385065477849,\n",
       "  0.9731122875452772,\n",
       "  0.9722764001114517,\n",
       "  0.9091668988576205,\n",
       "  0.16887712454722764,\n",
       "  0.9876896577927506,\n",
       "  0.9917424453506928,\n",
       "  0.9105600445806631,\n",
       "  0.9091668988576205,\n",
       "  0.25472276400111454,\n",
       "  0.09559208693229311,\n",
       "  0.9857899136249652,\n",
       "  0.9842110151388502,\n",
       "  0.999100662364927,\n",
       "  0.9956605579755523])"
      ]
     },
     "execution_count": 389,
     "metadata": {},
     "output_type": "execute_result"
    }
   ],
   "source": [
    "scores1 = []\n",
    "scores2 = []\n",
    "scores3 = []\n",
    "for i, r in df_scores.iterrows():\n",
    "    s1, s2, s3 = get_utility_scores(df_test2_CNN, r['ums'], verbose=False)\n",
    "    scores1.append(s1)\n",
    "    scores2.append(s2)\n",
    "    scores3.append(s3)\n",
    "scores1, scores2, scores3"
   ]
  },
  {
   "cell_type": "code",
   "execution_count": 395,
   "id": "6e54ab45",
   "metadata": {},
   "outputs": [
    {
     "data": {
      "text/html": [
       "<div>\n",
       "<style scoped>\n",
       "    .dataframe tbody tr th:only-of-type {\n",
       "        vertical-align: middle;\n",
       "    }\n",
       "\n",
       "    .dataframe tbody tr th {\n",
       "        vertical-align: top;\n",
       "    }\n",
       "\n",
       "    .dataframe thead th {\n",
       "        text-align: right;\n",
       "    }\n",
       "</style>\n",
       "<table border=\"1\" class=\"dataframe\">\n",
       "  <thead>\n",
       "    <tr style=\"text-align: right;\">\n",
       "      <th></th>\n",
       "      <th>ums</th>\n",
       "      <th>RF_output</th>\n",
       "      <th>RF_utility</th>\n",
       "      <th>RF_bayesian_utility</th>\n",
       "      <th>CNN_output</th>\n",
       "      <th>CNN_utility</th>\n",
       "      <th>CNN_bayesian_utility</th>\n",
       "    </tr>\n",
       "  </thead>\n",
       "  <tbody>\n",
       "    <tr>\n",
       "      <th>0</th>\n",
       "      <td>[[1, 0], [0, 1]]</td>\n",
       "      <td>0.960713</td>\n",
       "      <td>0.960713</td>\n",
       "      <td>0.962385</td>\n",
       "      <td>0.960713</td>\n",
       "      <td>0.960713</td>\n",
       "      <td>0.962385</td>\n",
       "    </tr>\n",
       "    <tr>\n",
       "      <th>1</th>\n",
       "      <td>[[1, -1], [0, 1]]</td>\n",
       "      <td>0.972834</td>\n",
       "      <td>0.973530</td>\n",
       "      <td>0.973112</td>\n",
       "      <td>0.972834</td>\n",
       "      <td>0.973530</td>\n",
       "      <td>0.973112</td>\n",
       "    </tr>\n",
       "    <tr>\n",
       "      <th>2</th>\n",
       "      <td>[[1, 0], [-1, 1]]</td>\n",
       "      <td>0.968236</td>\n",
       "      <td>0.967679</td>\n",
       "      <td>0.972276</td>\n",
       "      <td>0.968236</td>\n",
       "      <td>0.967679</td>\n",
       "      <td>0.972276</td>\n",
       "    </tr>\n",
       "    <tr>\n",
       "      <th>3</th>\n",
       "      <td>[[10, 0], [0, 1]]</td>\n",
       "      <td>0.892505</td>\n",
       "      <td>0.891725</td>\n",
       "      <td>0.909167</td>\n",
       "      <td>0.892505</td>\n",
       "      <td>0.891725</td>\n",
       "      <td>0.909167</td>\n",
       "    </tr>\n",
       "    <tr>\n",
       "      <th>4</th>\n",
       "      <td>[[1, 0], [0, 10]]</td>\n",
       "      <td>0.164280</td>\n",
       "      <td>0.166063</td>\n",
       "      <td>0.168877</td>\n",
       "      <td>0.164280</td>\n",
       "      <td>0.166063</td>\n",
       "      <td>0.168877</td>\n",
       "    </tr>\n",
       "    <tr>\n",
       "      <th>5</th>\n",
       "      <td>[[1, -10], [0, 1]]</td>\n",
       "      <td>0.982750</td>\n",
       "      <td>0.984574</td>\n",
       "      <td>0.987690</td>\n",
       "      <td>0.982750</td>\n",
       "      <td>0.984574</td>\n",
       "      <td>0.987690</td>\n",
       "    </tr>\n",
       "    <tr>\n",
       "      <th>6</th>\n",
       "      <td>[[1, 0], [-10, 1]]</td>\n",
       "      <td>0.974391</td>\n",
       "      <td>0.973378</td>\n",
       "      <td>0.991742</td>\n",
       "      <td>0.974391</td>\n",
       "      <td>0.973378</td>\n",
       "      <td>0.991742</td>\n",
       "    </tr>\n",
       "    <tr>\n",
       "      <th>7</th>\n",
       "      <td>[[5, 0], [0, 1]]</td>\n",
       "      <td>0.900084</td>\n",
       "      <td>0.899359</td>\n",
       "      <td>0.910560</td>\n",
       "      <td>0.900084</td>\n",
       "      <td>0.899359</td>\n",
       "      <td>0.910560</td>\n",
       "    </tr>\n",
       "    <tr>\n",
       "      <th>8</th>\n",
       "      <td>[[100, 0], [0, 1]]</td>\n",
       "      <td>0.885684</td>\n",
       "      <td>0.885352</td>\n",
       "      <td>0.909167</td>\n",
       "      <td>0.885684</td>\n",
       "      <td>0.885352</td>\n",
       "      <td>0.909167</td>\n",
       "    </tr>\n",
       "    <tr>\n",
       "      <th>9</th>\n",
       "      <td>[[1, 0], [0, 5]]</td>\n",
       "      <td>0.252772</td>\n",
       "      <td>0.254277</td>\n",
       "      <td>0.254723</td>\n",
       "      <td>0.252772</td>\n",
       "      <td>0.254277</td>\n",
       "      <td>0.254723</td>\n",
       "    </tr>\n",
       "    <tr>\n",
       "      <th>10</th>\n",
       "      <td>[[1, 0], [0, 100]]</td>\n",
       "      <td>0.084636</td>\n",
       "      <td>0.087651</td>\n",
       "      <td>0.095592</td>\n",
       "      <td>0.084636</td>\n",
       "      <td>0.087651</td>\n",
       "      <td>0.095592</td>\n",
       "    </tr>\n",
       "    <tr>\n",
       "      <th>11</th>\n",
       "      <td>[[1, 0], [-5, 1]]</td>\n",
       "      <td>0.973252</td>\n",
       "      <td>0.972369</td>\n",
       "      <td>0.985790</td>\n",
       "      <td>0.973252</td>\n",
       "      <td>0.972369</td>\n",
       "      <td>0.985790</td>\n",
       "    </tr>\n",
       "    <tr>\n",
       "      <th>12</th>\n",
       "      <td>[[1, -5], [0, 1]]</td>\n",
       "      <td>0.980914</td>\n",
       "      <td>0.982539</td>\n",
       "      <td>0.984211</td>\n",
       "      <td>0.980914</td>\n",
       "      <td>0.982539</td>\n",
       "      <td>0.984211</td>\n",
       "    </tr>\n",
       "    <tr>\n",
       "      <th>13</th>\n",
       "      <td>[[1, 0], [-100, 1]]</td>\n",
       "      <td>0.975610</td>\n",
       "      <td>0.975279</td>\n",
       "      <td>0.999101</td>\n",
       "      <td>0.975610</td>\n",
       "      <td>0.975279</td>\n",
       "      <td>0.999101</td>\n",
       "    </tr>\n",
       "    <tr>\n",
       "      <th>14</th>\n",
       "      <td>[[1, -100], [0, 1]]</td>\n",
       "      <td>0.984714</td>\n",
       "      <td>0.987729</td>\n",
       "      <td>0.995661</td>\n",
       "      <td>0.984714</td>\n",
       "      <td>0.987729</td>\n",
       "      <td>0.995661</td>\n",
       "    </tr>\n",
       "  </tbody>\n",
       "</table>\n",
       "</div>"
      ],
      "text/plain": [
       "                    ums  RF_output  RF_utility  RF_bayesian_utility  \\\n",
       "0      [[1, 0], [0, 1]]   0.960713    0.960713             0.962385   \n",
       "1     [[1, -1], [0, 1]]   0.972834    0.973530             0.973112   \n",
       "2     [[1, 0], [-1, 1]]   0.968236    0.967679             0.972276   \n",
       "3     [[10, 0], [0, 1]]   0.892505    0.891725             0.909167   \n",
       "4     [[1, 0], [0, 10]]   0.164280    0.166063             0.168877   \n",
       "5    [[1, -10], [0, 1]]   0.982750    0.984574             0.987690   \n",
       "6    [[1, 0], [-10, 1]]   0.974391    0.973378             0.991742   \n",
       "7      [[5, 0], [0, 1]]   0.900084    0.899359             0.910560   \n",
       "8    [[100, 0], [0, 1]]   0.885684    0.885352             0.909167   \n",
       "9      [[1, 0], [0, 5]]   0.252772    0.254277             0.254723   \n",
       "10   [[1, 0], [0, 100]]   0.084636    0.087651             0.095592   \n",
       "11    [[1, 0], [-5, 1]]   0.973252    0.972369             0.985790   \n",
       "12    [[1, -5], [0, 1]]   0.980914    0.982539             0.984211   \n",
       "13  [[1, 0], [-100, 1]]   0.975610    0.975279             0.999101   \n",
       "14  [[1, -100], [0, 1]]   0.984714    0.987729             0.995661   \n",
       "\n",
       "    CNN_output  CNN_utility  CNN_bayesian_utility  \n",
       "0     0.960713     0.960713              0.962385  \n",
       "1     0.972834     0.973530              0.973112  \n",
       "2     0.968236     0.967679              0.972276  \n",
       "3     0.892505     0.891725              0.909167  \n",
       "4     0.164280     0.166063              0.168877  \n",
       "5     0.982750     0.984574              0.987690  \n",
       "6     0.974391     0.973378              0.991742  \n",
       "7     0.900084     0.899359              0.910560  \n",
       "8     0.885684     0.885352              0.909167  \n",
       "9     0.252772     0.254277              0.254723  \n",
       "10    0.084636     0.087651              0.095592  \n",
       "11    0.973252     0.972369              0.985790  \n",
       "12    0.980914     0.982539              0.984211  \n",
       "13    0.975610     0.975279              0.999101  \n",
       "14    0.984714     0.987729              0.995661  "
      ]
     },
     "execution_count": 395,
     "metadata": {},
     "output_type": "execute_result"
    }
   ],
   "source": [
    "df_scores['CNN_output'] = scores1\n",
    "df_scores['CNN_utility'] = scores2\n",
    "df_scores['CNN_bayesian_utility'] = scores3\n",
    "df_scores"
   ]
  },
  {
   "cell_type": "code",
   "execution_count": 396,
   "id": "86251080",
   "metadata": {},
   "outputs": [],
   "source": [
    "df_scores.to_csv(DATA/'scores_utility_matrix.csv', index=False)"
   ]
  },
  {
   "cell_type": "code",
   "execution_count": null,
   "id": "3b7c18c1",
   "metadata": {},
   "outputs": [],
   "source": []
  }
 ],
 "metadata": {
  "kernelspec": {
   "display_name": "Python 3 (ipykernel)",
   "language": "python",
   "name": "python3"
  },
  "language_info": {
   "codemirror_mode": {
    "name": "ipython",
    "version": 3
   },
   "file_extension": ".py",
   "mimetype": "text/x-python",
   "name": "python",
   "nbconvert_exporter": "python",
   "pygments_lexer": "ipython3",
   "version": "3.7.11"
  }
 },
 "nbformat": 4,
 "nbformat_minor": 5
}
