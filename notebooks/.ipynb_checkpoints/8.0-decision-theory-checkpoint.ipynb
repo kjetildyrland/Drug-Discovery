{
 "cells": [
  {
   "cell_type": "markdown",
   "id": "1a4def1d",
   "metadata": {},
   "source": [
    "# Generate correct probabilities and use decision theory"
   ]
  },
  {
   "cell_type": "code",
   "execution_count": 1,
   "id": "c831fb3f",
   "metadata": {},
   "outputs": [],
   "source": [
    "# Import\n",
    "import pandas as pd\n",
    "import numpy as np\n",
    "from pathlib import Path\n",
    "from scipy.stats import norm\n",
    "import torch\n",
    "import matplotlib.pyplot as plt\n",
    "from sklearn.metrics import ConfusionMatrixDisplay"
   ]
  },
  {
   "cell_type": "code",
   "execution_count": 2,
   "id": "0e4af0a0",
   "metadata": {},
   "outputs": [],
   "source": [
    "from sklearn.metrics import auc,roc_auc_score,recall_score,precision_score,f1_score\n",
    "from sklearn.metrics import matthews_corrcoef\n",
    "from sklearn.metrics import accuracy_score\n",
    "from sklearn.metrics import confusion_matrix\n",
    "import seaborn as sns"
   ]
  },
  {
   "cell_type": "code",
   "execution_count": 3,
   "id": "67cdfae3",
   "metadata": {},
   "outputs": [],
   "source": [
    "from utils.probs import *"
   ]
  },
  {
   "cell_type": "code",
   "execution_count": 4,
   "id": "8083d576",
   "metadata": {},
   "outputs": [],
   "source": [
    "path = Path('../dataset/')"
   ]
  },
  {
   "cell_type": "code",
   "execution_count": 5,
   "id": "a927b207",
   "metadata": {},
   "outputs": [],
   "source": [
    "CHEMBL205 = path/'13321_2017_226_MOESM1_ESM/CHEMBL205'"
   ]
  },
  {
   "cell_type": "code",
   "execution_count": 6,
   "id": "8a74a1f4",
   "metadata": {},
   "outputs": [],
   "source": [
    "DATA = path/'probabilities'"
   ]
  },
  {
   "cell_type": "code",
   "execution_count": 7,
   "id": "d0ba1fbd",
   "metadata": {},
   "outputs": [],
   "source": [
    "df_RF = pd.read_csv(DATA/'RF_probabilityfunction1.csv')"
   ]
  },
  {
   "cell_type": "code",
   "execution_count": 8,
   "id": "e6d3564d",
   "metadata": {},
   "outputs": [
    {
     "data": {
      "text/html": [
       "<div>\n",
       "<style scoped>\n",
       "    .dataframe tbody tr th:only-of-type {\n",
       "        vertical-align: middle;\n",
       "    }\n",
       "\n",
       "    .dataframe tbody tr th {\n",
       "        vertical-align: top;\n",
       "    }\n",
       "\n",
       "    .dataframe thead th {\n",
       "        text-align: right;\n",
       "    }\n",
       "</style>\n",
       "<table border=\"1\" class=\"dataframe\">\n",
       "  <thead>\n",
       "    <tr style=\"text-align: right;\">\n",
       "      <th></th>\n",
       "      <th>w</th>\n",
       "      <th>p</th>\n",
       "      <th>mu</th>\n",
       "      <th>sigma</th>\n",
       "    </tr>\n",
       "  </thead>\n",
       "  <tbody>\n",
       "    <tr>\n",
       "      <th>0</th>\n",
       "      <td>0.000223</td>\n",
       "      <td>0.000625</td>\n",
       "      <td>3.754835</td>\n",
       "      <td>1.312323</td>\n",
       "    </tr>\n",
       "    <tr>\n",
       "      <th>1</th>\n",
       "      <td>0.000222</td>\n",
       "      <td>0.001049</td>\n",
       "      <td>3.706937</td>\n",
       "      <td>1.309473</td>\n",
       "    </tr>\n",
       "    <tr>\n",
       "      <th>2</th>\n",
       "      <td>0.000221</td>\n",
       "      <td>0.001267</td>\n",
       "      <td>3.656876</td>\n",
       "      <td>1.332337</td>\n",
       "    </tr>\n",
       "    <tr>\n",
       "      <th>3</th>\n",
       "      <td>0.000220</td>\n",
       "      <td>0.000935</td>\n",
       "      <td>3.667281</td>\n",
       "      <td>1.309200</td>\n",
       "    </tr>\n",
       "    <tr>\n",
       "      <th>4</th>\n",
       "      <td>0.000219</td>\n",
       "      <td>0.000791</td>\n",
       "      <td>3.712052</td>\n",
       "      <td>1.263111</td>\n",
       "    </tr>\n",
       "  </tbody>\n",
       "</table>\n",
       "</div>"
      ],
      "text/plain": [
       "          w         p        mu     sigma\n",
       "0  0.000223  0.000625  3.754835  1.312323\n",
       "1  0.000222  0.001049  3.706937  1.309473\n",
       "2  0.000221  0.001267  3.656876  1.332337\n",
       "3  0.000220  0.000935  3.667281  1.309200\n",
       "4  0.000219  0.000791  3.712052  1.263111"
      ]
     },
     "execution_count": 8,
     "metadata": {},
     "output_type": "execute_result"
    }
   ],
   "source": [
    "df_RF.head()"
   ]
  },
  {
   "cell_type": "code",
   "execution_count": 9,
   "id": "c5d3ebbd",
   "metadata": {},
   "outputs": [],
   "source": [
    "df_test1 = pd.read_csv(DATA/'modCHEMBL205_predictions_RF.csv')"
   ]
  },
  {
   "cell_type": "code",
   "execution_count": 10,
   "id": "b5363512",
   "metadata": {},
   "outputs": [
    {
     "data": {
      "text/html": [
       "<div>\n",
       "<style scoped>\n",
       "    .dataframe tbody tr th:only-of-type {\n",
       "        vertical-align: middle;\n",
       "    }\n",
       "\n",
       "    .dataframe tbody tr th {\n",
       "        vertical-align: top;\n",
       "    }\n",
       "\n",
       "    .dataframe thead th {\n",
       "        text-align: right;\n",
       "    }\n",
       "</style>\n",
       "<table border=\"1\" class=\"dataframe\">\n",
       "  <thead>\n",
       "    <tr style=\"text-align: right;\">\n",
       "      <th></th>\n",
       "      <th>class</th>\n",
       "      <th>prediction</th>\n",
       "      <th>predicted_class</th>\n",
       "      <th>prediction_int</th>\n",
       "      <th>prediction_lnodds</th>\n",
       "    </tr>\n",
       "  </thead>\n",
       "  <tbody>\n",
       "    <tr>\n",
       "      <th>0</th>\n",
       "      <td>0</td>\n",
       "      <td>0.975</td>\n",
       "      <td>0</td>\n",
       "      <td>195</td>\n",
       "      <td>3.644701</td>\n",
       "    </tr>\n",
       "    <tr>\n",
       "      <th>1</th>\n",
       "      <td>0</td>\n",
       "      <td>0.990</td>\n",
       "      <td>0</td>\n",
       "      <td>198</td>\n",
       "      <td>4.547894</td>\n",
       "    </tr>\n",
       "    <tr>\n",
       "      <th>2</th>\n",
       "      <td>0</td>\n",
       "      <td>0.950</td>\n",
       "      <td>0</td>\n",
       "      <td>190</td>\n",
       "      <td>2.935226</td>\n",
       "    </tr>\n",
       "    <tr>\n",
       "      <th>3</th>\n",
       "      <td>0</td>\n",
       "      <td>0.995</td>\n",
       "      <td>0</td>\n",
       "      <td>199</td>\n",
       "      <td>5.200532</td>\n",
       "    </tr>\n",
       "    <tr>\n",
       "      <th>4</th>\n",
       "      <td>1</td>\n",
       "      <td>0.105</td>\n",
       "      <td>1</td>\n",
       "      <td>21</td>\n",
       "      <td>-2.138765</td>\n",
       "    </tr>\n",
       "  </tbody>\n",
       "</table>\n",
       "</div>"
      ],
      "text/plain": [
       "   class  prediction  predicted_class  prediction_int  prediction_lnodds\n",
       "0      0       0.975                0             195           3.644701\n",
       "1      0       0.990                0             198           4.547894\n",
       "2      0       0.950                0             190           2.935226\n",
       "3      0       0.995                0             199           5.200532\n",
       "4      1       0.105                1              21          -2.138765"
      ]
     },
     "execution_count": 10,
     "metadata": {},
     "output_type": "execute_result"
    }
   ],
   "source": [
    "df_test1.head()"
   ]
  },
  {
   "cell_type": "code",
   "execution_count": 11,
   "id": "a9bf261e",
   "metadata": {},
   "outputs": [
    {
     "data": {
      "text/plain": [
       "0    0.975\n",
       "1    0.990\n",
       "2    0.950\n",
       "3    0.995\n",
       "4    0.105\n",
       "Name: prediction, dtype: float64"
      ]
     },
     "execution_count": 11,
     "metadata": {},
     "output_type": "execute_result"
    }
   ],
   "source": [
    "df_output = df_test1.prediction\n",
    "df_output.head()"
   ]
  },
  {
   "cell_type": "code",
   "execution_count": 12,
   "id": "ffe9f815",
   "metadata": {},
   "outputs": [],
   "source": [
    "preds = df_output.to_numpy()"
   ]
  },
  {
   "cell_type": "code",
   "execution_count": 13,
   "id": "599aa87e",
   "metadata": {},
   "outputs": [
    {
     "data": {
      "text/plain": [
       "array([0.975, 0.99 , 0.95 , ..., 0.915, 0.99 , 0.3  ])"
      ]
     },
     "execution_count": 13,
     "metadata": {},
     "output_type": "execute_result"
    }
   ],
   "source": [
    "preds"
   ]
  },
  {
   "cell_type": "code",
   "execution_count": 16,
   "id": "ada1048d",
   "metadata": {},
   "outputs": [],
   "source": [
    "def RF_direct_prob(x, cl, w, p, m, s):\n",
    "    \"\"\"\n",
    "    Gives probability of class conditional on RF-output\n",
    "    x = RF output (between 0 and 1)\n",
    "    cl = class (0 or 1)\n",
    "    w = array of weights\n",
    "    p = array of probs\n",
    "    m = array of means for gaussian\n",
    "    s = array of standard devs for gaussian\n",
    "    \"\"\"\n",
    "    cl = cl\n",
    "    c = 1 - 2**-10\n",
    "    x2 = 0.5 + (x-0.5) * c\n",
    "    y = np.log(x2/(1-x2))\n",
    "    pc = p*cl + (1-p) * (1-cl)\n",
    "    pjoint = np.sum(pc * w * norm.pdf(y, loc=m, scale=s))\n",
    "    px = np.sum(w * norm.pdf(y, loc=m, scale=s))\n",
    "    out = pjoint / px\n",
    "    return out"
   ]
  },
  {
   "cell_type": "code",
   "execution_count": 17,
   "id": "298c3091",
   "metadata": {},
   "outputs": [],
   "source": [
    "df = df_RF\n",
    "mu = df.mu.to_numpy()\n",
    "sigma = df.sigma.to_numpy()\n",
    "p = df.p.to_numpy()\n",
    "w = df.w.to_numpy()"
   ]
  },
  {
   "cell_type": "code",
   "execution_count": 16,
   "id": "43d07939",
   "metadata": {},
   "outputs": [
    {
     "data": {
      "text/plain": [
       "array([0.975, 0.99 , 0.95 , ..., 0.915, 0.99 , 0.3  ])"
      ]
     },
     "execution_count": 16,
     "metadata": {},
     "output_type": "execute_result"
    }
   ],
   "source": [
    "preds"
   ]
  },
  {
   "cell_type": "code",
   "execution_count": 9,
   "id": "b1724fb3",
   "metadata": {},
   "outputs": [],
   "source": [
    "def get_probs(preds, cl):\n",
    "    all_probs = np.array([])\n",
    "    for pred in preds:\n",
    "        prob = RF_direct_prob(pred, cl, w, p, mu, sigma)\n",
    "        all_probs = np.append(all_probs, prob)\n",
    "    return all_probs"
   ]
  },
  {
   "cell_type": "code",
   "execution_count": 18,
   "id": "52eebe5c",
   "metadata": {},
   "outputs": [
    {
     "data": {
      "text/plain": [
       "array([0.99784844, 0.99832858, 0.99593276, ..., 0.98883941, 0.99832858,\n",
       "       0.11968487])"
      ]
     },
     "execution_count": 18,
     "metadata": {},
     "output_type": "execute_result"
    }
   ],
   "source": [
    "all_probs_0 = get_probs(preds, 0)\n",
    "all_probs_0"
   ]
  },
  {
   "cell_type": "code",
   "execution_count": 18,
   "id": "3b952776",
   "metadata": {},
   "outputs": [
    {
     "data": {
      "text/plain": [
       "array([0.00215156, 0.00167142, 0.00406724, ..., 0.01116059, 0.00167142,\n",
       "       0.88031513])"
      ]
     },
     "execution_count": 18,
     "metadata": {},
     "output_type": "execute_result"
    }
   ],
   "source": [
    "all_probs_1 = np.array([])\n",
    "for pred in preds:\n",
    "    prob = RF_direct_prob(pred, 1, w, p, mu, sigma)\n",
    "    all_probs_1 = np.append(all_probs_1, prob)\n",
    "all_probs_1"
   ]
  },
  {
   "cell_type": "code",
   "execution_count": 19,
   "id": "da891329",
   "metadata": {},
   "outputs": [
    {
     "data": {
      "text/html": [
       "<div>\n",
       "<style scoped>\n",
       "    .dataframe tbody tr th:only-of-type {\n",
       "        vertical-align: middle;\n",
       "    }\n",
       "\n",
       "    .dataframe tbody tr th {\n",
       "        vertical-align: top;\n",
       "    }\n",
       "\n",
       "    .dataframe thead th {\n",
       "        text-align: right;\n",
       "    }\n",
       "</style>\n",
       "<table border=\"1\" class=\"dataframe\">\n",
       "  <thead>\n",
       "    <tr style=\"text-align: right;\">\n",
       "      <th></th>\n",
       "      <th>class</th>\n",
       "      <th>preds</th>\n",
       "      <th>probs_class_0</th>\n",
       "      <th>probs_class_1</th>\n",
       "    </tr>\n",
       "  </thead>\n",
       "  <tbody>\n",
       "    <tr>\n",
       "      <th>0</th>\n",
       "      <td>0</td>\n",
       "      <td>0.975</td>\n",
       "      <td>0.997848</td>\n",
       "      <td>0.002152</td>\n",
       "    </tr>\n",
       "    <tr>\n",
       "      <th>1</th>\n",
       "      <td>0</td>\n",
       "      <td>0.990</td>\n",
       "      <td>0.998329</td>\n",
       "      <td>0.001671</td>\n",
       "    </tr>\n",
       "    <tr>\n",
       "      <th>2</th>\n",
       "      <td>0</td>\n",
       "      <td>0.950</td>\n",
       "      <td>0.995933</td>\n",
       "      <td>0.004067</td>\n",
       "    </tr>\n",
       "    <tr>\n",
       "      <th>3</th>\n",
       "      <td>0</td>\n",
       "      <td>0.995</td>\n",
       "      <td>0.998112</td>\n",
       "      <td>0.001888</td>\n",
       "    </tr>\n",
       "    <tr>\n",
       "      <th>4</th>\n",
       "      <td>1</td>\n",
       "      <td>0.105</td>\n",
       "      <td>0.092222</td>\n",
       "      <td>0.907778</td>\n",
       "    </tr>\n",
       "    <tr>\n",
       "      <th>...</th>\n",
       "      <td>...</td>\n",
       "      <td>...</td>\n",
       "      <td>...</td>\n",
       "      <td>...</td>\n",
       "    </tr>\n",
       "    <tr>\n",
       "      <th>3583</th>\n",
       "      <td>1</td>\n",
       "      <td>0.150</td>\n",
       "      <td>0.096281</td>\n",
       "      <td>0.903719</td>\n",
       "    </tr>\n",
       "    <tr>\n",
       "      <th>3584</th>\n",
       "      <td>0</td>\n",
       "      <td>0.995</td>\n",
       "      <td>0.998112</td>\n",
       "      <td>0.001888</td>\n",
       "    </tr>\n",
       "    <tr>\n",
       "      <th>3585</th>\n",
       "      <td>0</td>\n",
       "      <td>0.915</td>\n",
       "      <td>0.988839</td>\n",
       "      <td>0.011161</td>\n",
       "    </tr>\n",
       "    <tr>\n",
       "      <th>3586</th>\n",
       "      <td>0</td>\n",
       "      <td>0.990</td>\n",
       "      <td>0.998329</td>\n",
       "      <td>0.001671</td>\n",
       "    </tr>\n",
       "    <tr>\n",
       "      <th>3587</th>\n",
       "      <td>1</td>\n",
       "      <td>0.300</td>\n",
       "      <td>0.119685</td>\n",
       "      <td>0.880315</td>\n",
       "    </tr>\n",
       "  </tbody>\n",
       "</table>\n",
       "<p>3588 rows × 4 columns</p>\n",
       "</div>"
      ],
      "text/plain": [
       "      class  preds  probs_class_0  probs_class_1\n",
       "0         0  0.975       0.997848       0.002152\n",
       "1         0  0.990       0.998329       0.001671\n",
       "2         0  0.950       0.995933       0.004067\n",
       "3         0  0.995       0.998112       0.001888\n",
       "4         1  0.105       0.092222       0.907778\n",
       "...     ...    ...            ...            ...\n",
       "3583      1  0.150       0.096281       0.903719\n",
       "3584      0  0.995       0.998112       0.001888\n",
       "3585      0  0.915       0.988839       0.011161\n",
       "3586      0  0.990       0.998329       0.001671\n",
       "3587      1  0.300       0.119685       0.880315\n",
       "\n",
       "[3588 rows x 4 columns]"
      ]
     },
     "execution_count": 19,
     "metadata": {},
     "output_type": "execute_result"
    }
   ],
   "source": [
    "df_all = pd.DataFrame()\n",
    "df_all['class'] = df_test1['class'] \n",
    "df_all['preds'] = preds\n",
    "df_all['probs_class_0'] = all_probs_0\n",
    "df_all['probs_class_1'] = all_probs_1\n",
    "df_all"
   ]
  },
  {
   "cell_type": "code",
   "execution_count": 20,
   "id": "b70c8f99",
   "metadata": {},
   "outputs": [
    {
     "data": {
      "text/html": [
       "<div>\n",
       "<style scoped>\n",
       "    .dataframe tbody tr th:only-of-type {\n",
       "        vertical-align: middle;\n",
       "    }\n",
       "\n",
       "    .dataframe tbody tr th {\n",
       "        vertical-align: top;\n",
       "    }\n",
       "\n",
       "    .dataframe thead th {\n",
       "        text-align: right;\n",
       "    }\n",
       "</style>\n",
       "<table border=\"1\" class=\"dataframe\">\n",
       "  <thead>\n",
       "    <tr style=\"text-align: right;\">\n",
       "      <th></th>\n",
       "      <th>class</th>\n",
       "      <th>preds</th>\n",
       "      <th>probs_class_0</th>\n",
       "      <th>probs_class_1</th>\n",
       "      <th>prediction</th>\n",
       "    </tr>\n",
       "  </thead>\n",
       "  <tbody>\n",
       "    <tr>\n",
       "      <th>0</th>\n",
       "      <td>0</td>\n",
       "      <td>0.975</td>\n",
       "      <td>0.997848</td>\n",
       "      <td>0.002152</td>\n",
       "      <td>0</td>\n",
       "    </tr>\n",
       "    <tr>\n",
       "      <th>1</th>\n",
       "      <td>0</td>\n",
       "      <td>0.990</td>\n",
       "      <td>0.998329</td>\n",
       "      <td>0.001671</td>\n",
       "      <td>0</td>\n",
       "    </tr>\n",
       "    <tr>\n",
       "      <th>2</th>\n",
       "      <td>0</td>\n",
       "      <td>0.950</td>\n",
       "      <td>0.995933</td>\n",
       "      <td>0.004067</td>\n",
       "      <td>0</td>\n",
       "    </tr>\n",
       "    <tr>\n",
       "      <th>3</th>\n",
       "      <td>0</td>\n",
       "      <td>0.995</td>\n",
       "      <td>0.998112</td>\n",
       "      <td>0.001888</td>\n",
       "      <td>0</td>\n",
       "    </tr>\n",
       "    <tr>\n",
       "      <th>4</th>\n",
       "      <td>1</td>\n",
       "      <td>0.105</td>\n",
       "      <td>0.092222</td>\n",
       "      <td>0.907778</td>\n",
       "      <td>1</td>\n",
       "    </tr>\n",
       "  </tbody>\n",
       "</table>\n",
       "</div>"
      ],
      "text/plain": [
       "   class  preds  probs_class_0  probs_class_1  prediction\n",
       "0      0  0.975       0.997848       0.002152           0\n",
       "1      0  0.990       0.998329       0.001671           0\n",
       "2      0  0.950       0.995933       0.004067           0\n",
       "3      0  0.995       0.998112       0.001888           0\n",
       "4      1  0.105       0.092222       0.907778           1"
      ]
     },
     "execution_count": 20,
     "metadata": {},
     "output_type": "execute_result"
    }
   ],
   "source": [
    "df_all['prediction'] = df_all['probs_class_1'] > 0.5\n",
    "df_all.prediction = df_all.prediction.to_numpy(dtype=int)\n",
    "df_all.head()"
   ]
  },
  {
   "cell_type": "code",
   "execution_count": 21,
   "id": "d27759d9",
   "metadata": {
    "scrolled": true
   },
   "outputs": [
    {
     "data": {
      "image/png": "[encoded data removed]",
      "text/plain": [
       "<Figure size 432x288 with 1 Axes>"
      ]
     },
     "metadata": {
      "needs_background": "light"
     },
     "output_type": "display_data"
    }
   ],
   "source": [
    "df_all.plot.scatter(x='preds', y='probs_class_1')\n",
    "plt.xlabel('RF % Output')\n",
    "plt.ylabel('probability of class 1')\n",
    "plt.xlim(0,1)\n",
    "plt.ylim(0,1)\n",
    "plt.grid()\n",
    "\n",
    "\n",
    "#plt.savefig('../dataset/RF_output.png')\n",
    "plt.show()"
   ]
  },
  {
   "cell_type": "markdown",
   "id": "85417d59",
   "metadata": {},
   "source": [
    "## Confusion matrix for original predictions"
   ]
  },
  {
   "cell_type": "code",
   "execution_count": 22,
   "id": "c5440cd0",
   "metadata": {},
   "outputs": [
    {
     "data": {
      "image/png": "[encoded data removed]",
      "text/plain": [
       "<Figure size 432x288 with 2 Axes>"
      ]
     },
     "metadata": {
      "needs_background": "light"
     },
     "output_type": "display_data"
    }
   ],
   "source": [
    "y = df_all['class'].to_numpy()\n",
    "y_pred = df_test1.predicted_class.to_numpy()\n",
    "cm = confusion_matrix(y, y_pred)\n",
    "f = sns.heatmap(cm, annot=True, fmt='d')\n",
    "plt.show()"
   ]
  },
  {
   "cell_type": "markdown",
   "id": "8df944b7",
   "metadata": {},
   "source": [
    "## Confusion matrix for corrected predictions"
   ]
  },
  {
   "cell_type": "code",
   "execution_count": 23,
   "id": "4290d2e4",
   "metadata": {},
   "outputs": [
    {
     "data": {
      "image/png": "[encoded data removed]",
      "text/plain": [
       "<Figure size 432x288 with 2 Axes>"
      ]
     },
     "metadata": {
      "needs_background": "light"
     },
     "output_type": "display_data"
    }
   ],
   "source": [
    "y = df_all['class'].to_numpy()\n",
    "y_pred = df_all.prediction.to_numpy()\n",
    "cm = confusion_matrix(y, y_pred)\n",
    "f = sns.heatmap(cm, annot=True, fmt='d')\n",
    "plt.show()"
   ]
  },
  {
   "cell_type": "code",
   "execution_count": 53,
   "id": "ef58193f",
   "metadata": {},
   "outputs": [],
   "source": [
    "df_all.to_csv(DATA/'RF_direct_prob_test1.csv')"
   ]
  },
  {
   "cell_type": "markdown",
   "id": "accbf4af",
   "metadata": {},
   "source": [
    "### same for test set 2"
   ]
  },
  {
   "cell_type": "code",
   "execution_count": 10,
   "id": "43496e34",
   "metadata": {},
   "outputs": [
    {
     "data": {
      "text/html": [
       "<div>\n",
       "<style scoped>\n",
       "    .dataframe tbody tr th:only-of-type {\n",
       "        vertical-align: middle;\n",
       "    }\n",
       "\n",
       "    .dataframe tbody tr th {\n",
       "        vertical-align: top;\n",
       "    }\n",
       "\n",
       "    .dataframe thead th {\n",
       "        text-align: right;\n",
       "    }\n",
       "</style>\n",
       "<table border=\"1\" class=\"dataframe\">\n",
       "  <thead>\n",
       "    <tr style=\"text-align: right;\">\n",
       "      <th></th>\n",
       "      <th>class</th>\n",
       "      <th>predictions</th>\n",
       "      <th>predicted_class</th>\n",
       "    </tr>\n",
       "  </thead>\n",
       "  <tbody>\n",
       "    <tr>\n",
       "      <th>0</th>\n",
       "      <td>0</td>\n",
       "      <td>[0.975 0.025]</td>\n",
       "      <td>0</td>\n",
       "    </tr>\n",
       "    <tr>\n",
       "      <th>1</th>\n",
       "      <td>0</td>\n",
       "      <td>[0.99 0.01]</td>\n",
       "      <td>0</td>\n",
       "    </tr>\n",
       "    <tr>\n",
       "      <th>2</th>\n",
       "      <td>0</td>\n",
       "      <td>[0.95 0.05]</td>\n",
       "      <td>0</td>\n",
       "    </tr>\n",
       "    <tr>\n",
       "      <th>3</th>\n",
       "      <td>0</td>\n",
       "      <td>[0.995 0.005]</td>\n",
       "      <td>0</td>\n",
       "    </tr>\n",
       "    <tr>\n",
       "      <th>4</th>\n",
       "      <td>1</td>\n",
       "      <td>[0.105 0.895]</td>\n",
       "      <td>1</td>\n",
       "    </tr>\n",
       "  </tbody>\n",
       "</table>\n",
       "</div>"
      ],
      "text/plain": [
       "   class    predictions  predicted_class\n",
       "0      0  [0.975 0.025]                0\n",
       "1      0    [0.99 0.01]                0\n",
       "2      0    [0.95 0.05]                0\n",
       "3      0  [0.995 0.005]                0\n",
       "4      1  [0.105 0.895]                1"
      ]
     },
     "execution_count": 10,
     "metadata": {},
     "output_type": "execute_result"
    }
   ],
   "source": [
    "df_test2 = pd.read_csv(f'{CHEMBL205}/CHEMBL205_predictions_RF_test2.csv')\n",
    "df_test2.head()"
   ]
  },
  {
   "cell_type": "code",
   "execution_count": 11,
   "id": "bd5ccbe1",
   "metadata": {},
   "outputs": [
    {
     "data": {
      "text/html": [
       "<div>\n",
       "<style scoped>\n",
       "    .dataframe tbody tr th:only-of-type {\n",
       "        vertical-align: middle;\n",
       "    }\n",
       "\n",
       "    .dataframe tbody tr th {\n",
       "        vertical-align: top;\n",
       "    }\n",
       "\n",
       "    .dataframe thead th {\n",
       "        text-align: right;\n",
       "    }\n",
       "</style>\n",
       "<table border=\"1\" class=\"dataframe\">\n",
       "  <thead>\n",
       "    <tr style=\"text-align: right;\">\n",
       "      <th></th>\n",
       "      <th>class</th>\n",
       "      <th>predictions</th>\n",
       "      <th>predicted_class</th>\n",
       "      <th>preds</th>\n",
       "      <th>pred_0</th>\n",
       "    </tr>\n",
       "  </thead>\n",
       "  <tbody>\n",
       "    <tr>\n",
       "      <th>0</th>\n",
       "      <td>0</td>\n",
       "      <td>[0.975 0.025]</td>\n",
       "      <td>0</td>\n",
       "      <td>[0.975, 0.025]</td>\n",
       "      <td>0.975</td>\n",
       "    </tr>\n",
       "    <tr>\n",
       "      <th>1</th>\n",
       "      <td>0</td>\n",
       "      <td>[0.99 0.01]</td>\n",
       "      <td>0</td>\n",
       "      <td>[0.99, 0.01]</td>\n",
       "      <td>0.990</td>\n",
       "    </tr>\n",
       "    <tr>\n",
       "      <th>2</th>\n",
       "      <td>0</td>\n",
       "      <td>[0.95 0.05]</td>\n",
       "      <td>0</td>\n",
       "      <td>[0.95, 0.05]</td>\n",
       "      <td>0.950</td>\n",
       "    </tr>\n",
       "    <tr>\n",
       "      <th>3</th>\n",
       "      <td>0</td>\n",
       "      <td>[0.995 0.005]</td>\n",
       "      <td>0</td>\n",
       "      <td>[0.995, 0.005]</td>\n",
       "      <td>0.995</td>\n",
       "    </tr>\n",
       "    <tr>\n",
       "      <th>4</th>\n",
       "      <td>1</td>\n",
       "      <td>[0.105 0.895]</td>\n",
       "      <td>1</td>\n",
       "      <td>[0.105, 0.895]</td>\n",
       "      <td>0.105</td>\n",
       "    </tr>\n",
       "  </tbody>\n",
       "</table>\n",
       "</div>"
      ],
      "text/plain": [
       "   class    predictions  predicted_class           preds  pred_0\n",
       "0      0  [0.975 0.025]                0  [0.975, 0.025]   0.975\n",
       "1      0    [0.99 0.01]                0    [0.99, 0.01]   0.990\n",
       "2      0    [0.95 0.05]                0    [0.95, 0.05]   0.950\n",
       "3      0  [0.995 0.005]                0  [0.995, 0.005]   0.995\n",
       "4      1  [0.105 0.895]                1  [0.105, 0.895]   0.105"
      ]
     },
     "execution_count": 11,
     "metadata": {},
     "output_type": "execute_result"
    }
   ],
   "source": [
    "df_test2['preds'] = [get_substring_list(r['predictions'].split(' '))  for i, r in df_test2.iterrows()] # str to list\n",
    "df_test2['pred_0'] = [r['preds'][0] for i, r in df_test2.iterrows()]\n",
    "df_test2.head()"
   ]
  },
  {
   "cell_type": "code",
   "execution_count": 12,
   "id": "5ef78784",
   "metadata": {},
   "outputs": [
    {
     "data": {
      "text/html": [
       "<div>\n",
       "<style scoped>\n",
       "    .dataframe tbody tr th:only-of-type {\n",
       "        vertical-align: middle;\n",
       "    }\n",
       "\n",
       "    .dataframe tbody tr th {\n",
       "        vertical-align: top;\n",
       "    }\n",
       "\n",
       "    .dataframe thead th {\n",
       "        text-align: right;\n",
       "    }\n",
       "</style>\n",
       "<table border=\"1\" class=\"dataframe\">\n",
       "  <thead>\n",
       "    <tr style=\"text-align: right;\">\n",
       "      <th></th>\n",
       "      <th>class</th>\n",
       "      <th>pred_0</th>\n",
       "    </tr>\n",
       "  </thead>\n",
       "  <tbody>\n",
       "    <tr>\n",
       "      <th>0</th>\n",
       "      <td>0</td>\n",
       "      <td>0.975</td>\n",
       "    </tr>\n",
       "    <tr>\n",
       "      <th>1</th>\n",
       "      <td>0</td>\n",
       "      <td>0.990</td>\n",
       "    </tr>\n",
       "    <tr>\n",
       "      <th>2</th>\n",
       "      <td>0</td>\n",
       "      <td>0.950</td>\n",
       "    </tr>\n",
       "    <tr>\n",
       "      <th>3</th>\n",
       "      <td>0</td>\n",
       "      <td>0.995</td>\n",
       "    </tr>\n",
       "    <tr>\n",
       "      <th>4</th>\n",
       "      <td>1</td>\n",
       "      <td>0.105</td>\n",
       "    </tr>\n",
       "  </tbody>\n",
       "</table>\n",
       "</div>"
      ],
      "text/plain": [
       "   class  pred_0\n",
       "0      0   0.975\n",
       "1      0   0.990\n",
       "2      0   0.950\n",
       "3      0   0.995\n",
       "4      1   0.105"
      ]
     },
     "execution_count": 12,
     "metadata": {},
     "output_type": "execute_result"
    }
   ],
   "source": [
    "df_test2 = df_test2.drop(columns=['predictions', 'preds', 'predicted_class'])\n",
    "df_test2.head()"
   ]
  },
  {
   "cell_type": "code",
   "execution_count": 13,
   "id": "04f4897c",
   "metadata": {},
   "outputs": [],
   "source": [
    "preds = df_test2.pred_0"
   ]
  },
  {
   "cell_type": "code",
   "execution_count": 18,
   "id": "c7775639",
   "metadata": {},
   "outputs": [
    {
     "data": {
      "text/plain": [
       "array([0.99784844, 0.99832858, 0.99593276, ..., 0.99832858, 0.11968487,\n",
       "       0.99784844])"
      ]
     },
     "execution_count": 18,
     "metadata": {},
     "output_type": "execute_result"
    }
   ],
   "source": [
    "probs_0 = get_probs(preds, 0)\n",
    "probs_0"
   ]
  },
  {
   "cell_type": "code",
   "execution_count": 19,
   "id": "9e19b15f",
   "metadata": {},
   "outputs": [
    {
     "data": {
      "text/html": [
       "<div>\n",
       "<style scoped>\n",
       "    .dataframe tbody tr th:only-of-type {\n",
       "        vertical-align: middle;\n",
       "    }\n",
       "\n",
       "    .dataframe tbody tr th {\n",
       "        vertical-align: top;\n",
       "    }\n",
       "\n",
       "    .dataframe thead th {\n",
       "        text-align: right;\n",
       "    }\n",
       "</style>\n",
       "<table border=\"1\" class=\"dataframe\">\n",
       "  <thead>\n",
       "    <tr style=\"text-align: right;\">\n",
       "      <th></th>\n",
       "      <th>class</th>\n",
       "      <th>pred_0</th>\n",
       "      <th>prob_0</th>\n",
       "    </tr>\n",
       "  </thead>\n",
       "  <tbody>\n",
       "    <tr>\n",
       "      <th>0</th>\n",
       "      <td>0</td>\n",
       "      <td>0.975</td>\n",
       "      <td>0.997848</td>\n",
       "    </tr>\n",
       "    <tr>\n",
       "      <th>1</th>\n",
       "      <td>0</td>\n",
       "      <td>0.990</td>\n",
       "      <td>0.998329</td>\n",
       "    </tr>\n",
       "    <tr>\n",
       "      <th>2</th>\n",
       "      <td>0</td>\n",
       "      <td>0.950</td>\n",
       "      <td>0.995933</td>\n",
       "    </tr>\n",
       "    <tr>\n",
       "      <th>3</th>\n",
       "      <td>0</td>\n",
       "      <td>0.995</td>\n",
       "      <td>0.998112</td>\n",
       "    </tr>\n",
       "    <tr>\n",
       "      <th>4</th>\n",
       "      <td>1</td>\n",
       "      <td>0.105</td>\n",
       "      <td>0.092222</td>\n",
       "    </tr>\n",
       "  </tbody>\n",
       "</table>\n",
       "</div>"
      ],
      "text/plain": [
       "   class  pred_0    prob_0\n",
       "0      0   0.975  0.997848\n",
       "1      0   0.990  0.998329\n",
       "2      0   0.950  0.995933\n",
       "3      0   0.995  0.998112\n",
       "4      1   0.105  0.092222"
      ]
     },
     "execution_count": 19,
     "metadata": {},
     "output_type": "execute_result"
    }
   ],
   "source": [
    "df_test2['prob_0'] = probs_0\n",
    "df_test2.head()"
   ]
  },
  {
   "cell_type": "code",
   "execution_count": 20,
   "id": "36a3da42",
   "metadata": {},
   "outputs": [],
   "source": [
    "df_test2.to_csv(DATA/'RF_direct_prob_test2.csv') # save bayesian probabilites as csv"
   ]
  },
  {
   "cell_type": "code",
   "execution_count": null,
   "id": "06bf38e3",
   "metadata": {},
   "outputs": [],
   "source": []
  },
  {
   "cell_type": "code",
   "execution_count": 39,
   "id": "bb569dc1",
   "metadata": {},
   "outputs": [],
   "source": [
    "def choose_class(x, um):\n",
    "    \"\"\"\n",
    "    x = either one number between 0-1, or a (normalized) vector of probabilities\n",
    "        if it's one number then we are in a binary classification case\n",
    "        and x is the probability of CLASS 0\n",
    "    um = utility matrix in the format [[T0,F0],[F1,T1]]\n",
    "    \"\"\"\n",
    "    if type(x) == float or type(x) == np.float64: # x is float and is the probability of class 0\n",
    "        x = np.array([x])\n",
    "        x = np.concatenate((x, 1-x)) # transform into prob. vector\n",
    "    um = np.array(um)\n",
    "    utilities = np.matmul(um, x)\n",
    "    cl = np.argmax(utilities)\n",
    "    return cl"
   ]
  },
  {
   "cell_type": "code",
   "execution_count": 64,
   "id": "bb792062",
   "metadata": {},
   "outputs": [],
   "source": [
    "um = np.array([[1, -1], [0, 1]])"
   ]
  },
  {
   "cell_type": "code",
   "execution_count": 131,
   "id": "9344e2d3",
   "metadata": {},
   "outputs": [
    {
     "data": {
      "text/plain": [
       "1"
      ]
     },
     "execution_count": 131,
     "metadata": {},
     "output_type": "execute_result"
    }
   ],
   "source": [
    "c = choose_class(0.6, um)\n",
    "c"
   ]
  },
  {
   "cell_type": "code",
   "execution_count": 112,
   "id": "3731f205",
   "metadata": {},
   "outputs": [
    {
     "data": {
      "text/plain": [
       "0"
      ]
     },
     "execution_count": 112,
     "metadata": {},
     "output_type": "execute_result"
    }
   ],
   "source": [
    "cl = np.argmax(utilities)\n",
    "cl"
   ]
  },
  {
   "cell_type": "markdown",
   "id": "f0f18979",
   "metadata": {},
   "source": [
    "## Test score for regular probability and bayesian probability from utility matrix"
   ]
  },
  {
   "cell_type": "code",
   "execution_count": 150,
   "id": "2eb9c29a",
   "metadata": {},
   "outputs": [
    {
     "data": {
      "text/html": [
       "<div>\n",
       "<style scoped>\n",
       "    .dataframe tbody tr th:only-of-type {\n",
       "        vertical-align: middle;\n",
       "    }\n",
       "\n",
       "    .dataframe tbody tr th {\n",
       "        vertical-align: top;\n",
       "    }\n",
       "\n",
       "    .dataframe thead th {\n",
       "        text-align: right;\n",
       "    }\n",
       "</style>\n",
       "<table border=\"1\" class=\"dataframe\">\n",
       "  <thead>\n",
       "    <tr style=\"text-align: right;\">\n",
       "      <th></th>\n",
       "      <th>class</th>\n",
       "      <th>pred_0</th>\n",
       "      <th>prob_0</th>\n",
       "    </tr>\n",
       "  </thead>\n",
       "  <tbody>\n",
       "    <tr>\n",
       "      <th>0</th>\n",
       "      <td>0</td>\n",
       "      <td>0.975</td>\n",
       "      <td>0.997848</td>\n",
       "    </tr>\n",
       "    <tr>\n",
       "      <th>1</th>\n",
       "      <td>0</td>\n",
       "      <td>0.990</td>\n",
       "      <td>0.998329</td>\n",
       "    </tr>\n",
       "    <tr>\n",
       "      <th>2</th>\n",
       "      <td>0</td>\n",
       "      <td>0.950</td>\n",
       "      <td>0.995933</td>\n",
       "    </tr>\n",
       "    <tr>\n",
       "      <th>3</th>\n",
       "      <td>0</td>\n",
       "      <td>0.995</td>\n",
       "      <td>0.998112</td>\n",
       "    </tr>\n",
       "    <tr>\n",
       "      <th>4</th>\n",
       "      <td>1</td>\n",
       "      <td>0.105</td>\n",
       "      <td>0.092222</td>\n",
       "    </tr>\n",
       "  </tbody>\n",
       "</table>\n",
       "</div>"
      ],
      "text/plain": [
       "   class  pred_0    prob_0\n",
       "0      0   0.975  0.997848\n",
       "1      0   0.990  0.998329\n",
       "2      0   0.950  0.995933\n",
       "3      0   0.995  0.998112\n",
       "4      1   0.105  0.092222"
      ]
     },
     "execution_count": 150,
     "metadata": {},
     "output_type": "execute_result"
    }
   ],
   "source": [
    "df_test2.head() # actual class, prediction from RF, bayesian corrected probability "
   ]
  },
  {
   "cell_type": "markdown",
   "id": "bf6b5936",
   "metadata": {},
   "source": [
    "### We need to calculate each class chosen with the same utility matrix and then compare"
   ]
  },
  {
   "cell_type": "code",
   "execution_count": 23,
   "id": "7a2eb49b",
   "metadata": {},
   "outputs": [
    {
     "data": {
      "text/html": [
       "\n",
       "        <iframe\n",
       "            width=\"600\"\n",
       "            height=\"300\"\n",
       "            src=\"../dataset/probabilities/comparison_schema.pdf\"\n",
       "            frameborder=\"0\"\n",
       "            allowfullscreen\n",
       "            \n",
       "        ></iframe>\n",
       "        "
      ],
      "text/plain": [
       "<IPython.lib.display.IFrame at 0x7fd3abc0b7d0>"
      ]
     },
     "execution_count": 23,
     "metadata": {},
     "output_type": "execute_result"
    }
   ],
   "source": [
    "from IPython.display import IFrame\n",
    "IFrame(DATA/'comparison_schema.pdf', width=600, height=300)"
   ]
  },
  {
   "cell_type": "code",
   "execution_count": 40,
   "id": "a6de844d",
   "metadata": {},
   "outputs": [],
   "source": [
    "''' \n",
    "Utility matrix format: \n",
    "    [[TN, FN],\n",
    "     [FP, TP]]\n",
    "'''\n",
    "um = np.array([[1, -1], [0, 1]])"
   ]
  },
  {
   "cell_type": "code",
   "execution_count": 61,
   "id": "24c81435",
   "metadata": {},
   "outputs": [
    {
     "data": {
      "text/plain": [
       "array([0.975, 0.99 , 0.95 , ..., 0.99 , 0.3  , 0.975])"
      ]
     },
     "execution_count": 61,
     "metadata": {},
     "output_type": "execute_result"
    }
   ],
   "source": [
    "xs = df_test2['pred_0'].to_numpy()\n",
    "xs"
   ]
  },
  {
   "cell_type": "code",
   "execution_count": 76,
   "id": "35bfe0a2",
   "metadata": {},
   "outputs": [
    {
     "data": {
      "text/html": [
       "<div>\n",
       "<style scoped>\n",
       "    .dataframe tbody tr th:only-of-type {\n",
       "        vertical-align: middle;\n",
       "    }\n",
       "\n",
       "    .dataframe tbody tr th {\n",
       "        vertical-align: top;\n",
       "    }\n",
       "\n",
       "    .dataframe thead th {\n",
       "        text-align: right;\n",
       "    }\n",
       "</style>\n",
       "<table border=\"1\" class=\"dataframe\">\n",
       "  <thead>\n",
       "    <tr style=\"text-align: right;\">\n",
       "      <th></th>\n",
       "      <th>class</th>\n",
       "      <th>pred_0</th>\n",
       "      <th>prob_0</th>\n",
       "      <th>ut_class_prob_0</th>\n",
       "      <th>class_pred_0</th>\n",
       "    </tr>\n",
       "  </thead>\n",
       "  <tbody>\n",
       "    <tr>\n",
       "      <th>0</th>\n",
       "      <td>0</td>\n",
       "      <td>0.975</td>\n",
       "      <td>0.997848</td>\n",
       "      <td>0</td>\n",
       "      <td>0</td>\n",
       "    </tr>\n",
       "    <tr>\n",
       "      <th>1</th>\n",
       "      <td>0</td>\n",
       "      <td>0.990</td>\n",
       "      <td>0.998329</td>\n",
       "      <td>0</td>\n",
       "      <td>0</td>\n",
       "    </tr>\n",
       "    <tr>\n",
       "      <th>2</th>\n",
       "      <td>0</td>\n",
       "      <td>0.950</td>\n",
       "      <td>0.995933</td>\n",
       "      <td>0</td>\n",
       "      <td>0</td>\n",
       "    </tr>\n",
       "    <tr>\n",
       "      <th>3</th>\n",
       "      <td>0</td>\n",
       "      <td>0.995</td>\n",
       "      <td>0.998112</td>\n",
       "      <td>0</td>\n",
       "      <td>0</td>\n",
       "    </tr>\n",
       "    <tr>\n",
       "      <th>4</th>\n",
       "      <td>1</td>\n",
       "      <td>0.105</td>\n",
       "      <td>0.092222</td>\n",
       "      <td>1</td>\n",
       "      <td>1</td>\n",
       "    </tr>\n",
       "  </tbody>\n",
       "</table>\n",
       "</div>"
      ],
      "text/plain": [
       "   class  pred_0    prob_0  ut_class_prob_0  class_pred_0\n",
       "0      0   0.975  0.997848                0             0\n",
       "1      0   0.990  0.998329                0             0\n",
       "2      0   0.950  0.995933                0             0\n",
       "3      0   0.995  0.998112                0             0\n",
       "4      1   0.105  0.092222                1             1"
      ]
     },
     "execution_count": 76,
     "metadata": {},
     "output_type": "execute_result"
    }
   ],
   "source": [
    "df_test2['class_pred_0'] = np.array(df_test2['pred_0'] < 0.5, dtype=int)\n",
    "df_test2.head()"
   ]
  },
  {
   "cell_type": "code",
   "execution_count": 43,
   "id": "0dd58c4c",
   "metadata": {},
   "outputs": [
    {
     "data": {
      "text/html": [
       "<div>\n",
       "<style scoped>\n",
       "    .dataframe tbody tr th:only-of-type {\n",
       "        vertical-align: middle;\n",
       "    }\n",
       "\n",
       "    .dataframe tbody tr th {\n",
       "        vertical-align: top;\n",
       "    }\n",
       "\n",
       "    .dataframe thead th {\n",
       "        text-align: right;\n",
       "    }\n",
       "</style>\n",
       "<table border=\"1\" class=\"dataframe\">\n",
       "  <thead>\n",
       "    <tr style=\"text-align: right;\">\n",
       "      <th></th>\n",
       "      <th>class</th>\n",
       "      <th>pred_0</th>\n",
       "      <th>prob_0</th>\n",
       "      <th>ut_class_pred_0</th>\n",
       "      <th>ut_class_prob_0</th>\n",
       "    </tr>\n",
       "  </thead>\n",
       "  <tbody>\n",
       "    <tr>\n",
       "      <th>0</th>\n",
       "      <td>0</td>\n",
       "      <td>0.975</td>\n",
       "      <td>0.997848</td>\n",
       "      <td>0</td>\n",
       "      <td>0</td>\n",
       "    </tr>\n",
       "    <tr>\n",
       "      <th>1</th>\n",
       "      <td>0</td>\n",
       "      <td>0.990</td>\n",
       "      <td>0.998329</td>\n",
       "      <td>0</td>\n",
       "      <td>0</td>\n",
       "    </tr>\n",
       "    <tr>\n",
       "      <th>2</th>\n",
       "      <td>0</td>\n",
       "      <td>0.950</td>\n",
       "      <td>0.995933</td>\n",
       "      <td>0</td>\n",
       "      <td>0</td>\n",
       "    </tr>\n",
       "    <tr>\n",
       "      <th>3</th>\n",
       "      <td>0</td>\n",
       "      <td>0.995</td>\n",
       "      <td>0.998112</td>\n",
       "      <td>0</td>\n",
       "      <td>0</td>\n",
       "    </tr>\n",
       "    <tr>\n",
       "      <th>4</th>\n",
       "      <td>1</td>\n",
       "      <td>0.105</td>\n",
       "      <td>0.092222</td>\n",
       "      <td>1</td>\n",
       "      <td>1</td>\n",
       "    </tr>\n",
       "  </tbody>\n",
       "</table>\n",
       "</div>"
      ],
      "text/plain": [
       "   class  pred_0    prob_0  ut_class_pred_0  ut_class_prob_0\n",
       "0      0   0.975  0.997848                0                0\n",
       "1      0   0.990  0.998329                0                0\n",
       "2      0   0.950  0.995933                0                0\n",
       "3      0   0.995  0.998112                0                0\n",
       "4      1   0.105  0.092222                1                1"
      ]
     },
     "execution_count": 43,
     "metadata": {},
     "output_type": "execute_result"
    }
   ],
   "source": [
    "df_test2['ut_class_prob_0'] = [choose_class(r['prob_0'], um) for i, r  in df_test2.iterrows()]\n",
    "df_test2.head()"
   ]
  },
  {
   "cell_type": "markdown",
   "id": "462fbd64",
   "metadata": {},
   "source": [
    "### Check confusion matrix for the 2 outputs from the utility matrix"
   ]
  },
  {
   "cell_type": "code",
   "execution_count": 55,
   "id": "afdb4913",
   "metadata": {},
   "outputs": [],
   "source": [
    "def get_total_cost (um, cm):\n",
    "    if um.max() > 1:\n",
    "        if cm.max() > 1:\n",
    "            um /= np.abs(um).max()\n",
    "    s = um * cm\n",
    "    s = s.sum()\n",
    "    return s"
   ]
  },
  {
   "cell_type": "code",
   "execution_count": 88,
   "id": "a60b5da9",
   "metadata": {},
   "outputs": [],
   "source": [
    "''' \n",
    "Utility matrix format: \n",
    "    [[TN, FN],\n",
    "     [FP, TP]]\n",
    "'''\n",
    "um = np.array([[1, 0], [-1, 1]])"
   ]
  },
  {
   "cell_type": "code",
   "execution_count": 84,
   "id": "031b1e1d",
   "metadata": {},
   "outputs": [
    {
     "name": "stdout",
     "output_type": "stream",
     "text": [
      "Confusion matrix for RF output:\n"
     ]
    },
    {
     "data": {
      "image/png": "[encoded data removed]",
      "text/plain": [
       "<Figure size 432x288 with 2 Axes>"
      ]
     },
     "metadata": {
      "needs_background": "light"
     },
     "output_type": "display_data"
    }
   ],
   "source": [
    "# Confusion matrix for RF output\n",
    "y = df_test2['class'].to_numpy()\n",
    "y_pred = df_test2['class_pred_0'].to_numpy()\n",
    "cm = confusion_matrix(y, y_pred)\n",
    "f = sns.heatmap(cm, annot=True, fmt='d')\n",
    "print('Confusion matrix for RF output:')\n",
    "plt.show()"
   ]
  },
  {
   "cell_type": "code",
   "execution_count": 85,
   "id": "ed3b677a",
   "metadata": {},
   "outputs": [
    {
     "name": "stdout",
     "output_type": "stream",
     "text": [
      "Total gains/loss for confusion matrix above: 3384\n"
     ]
    }
   ],
   "source": [
    "cost = get_total_cost(um, cm)\n",
    "print(f'Total gains/loss for confusion matrix above: {cost}')"
   ]
  },
  {
   "cell_type": "code",
   "execution_count": 86,
   "id": "b3e0d6ab",
   "metadata": {
    "scrolled": true
   },
   "outputs": [
    {
     "name": "stdout",
     "output_type": "stream",
     "text": [
      "Confusion matrix for bayesian probability output combined with utility matrix:\n"
     ]
    },
    {
     "data": {
      "image/png": "[encoded data removed]",
      "text/plain": [
       "<Figure size 432x288 with 2 Axes>"
      ]
     },
     "metadata": {
      "needs_background": "light"
     },
     "output_type": "display_data"
    }
   ],
   "source": [
    "# Confusion matrix for bayesian probability output combined with utility matrix\n",
    "y = df_test2['class'].to_numpy()\n",
    "y_pred = df_test2['ut_class_prob_0'].to_numpy()\n",
    "cm = confusion_matrix(y, y_pred)\n",
    "f = sns.heatmap(cm, annot=True, fmt='d')\n",
    "print('Confusion matrix for bayesian probability output combined with utility matrix:')\n",
    "plt.show()"
   ]
  },
  {
   "cell_type": "code",
   "execution_count": 87,
   "id": "eebaa646",
   "metadata": {},
   "outputs": [
    {
     "name": "stdout",
     "output_type": "stream",
     "text": [
      "Total gains/loss for confusion matrix above: 3460\n"
     ]
    }
   ],
   "source": [
    "cost = get_total_cost(um, cm)\n",
    "print(f'Total gains/loss for confusion matrix above: {cost}')"
   ]
  },
  {
   "cell_type": "markdown",
   "id": "b4d2b5cd",
   "metadata": {},
   "source": [
    "# Decision theory"
   ]
  },
  {
   "cell_type": "markdown",
   "id": "4aa73e78",
   "metadata": {},
   "source": [
    "### Test an example with gains/losses"
   ]
  },
  {
   "cell_type": "code",
   "execution_count": 54,
   "id": "c19ef068",
   "metadata": {},
   "outputs": [
    {
     "data": {
      "text/plain": [
       "tensor([[ 15., -80.],\n",
       "        [ -1.,   0.]], dtype=torch.float64)"
      ]
     },
     "execution_count": 54,
     "metadata": {},
     "output_type": "execute_result"
    }
   ],
   "source": [
    "''' \n",
    "Utility matrix format: \n",
    "    [[TN, FN],\n",
    "     [FP, TP]]\n",
    "'''\n",
    "M = np.array([[15,-80],\n",
    "              [-1,0]], dtype=float)\n",
    "#M /= np.abs(M).max()\n",
    "M = torch.from_numpy(M)\n",
    "M = M.to(torch.float64)\n",
    "M"
   ]
  },
  {
   "cell_type": "code",
   "execution_count": 55,
   "id": "a4035eea",
   "metadata": {},
   "outputs": [],
   "source": [
    "test1 = np.array([[0.18, 0.02], [0.32, 0.48]], dtype=np.float64)\n",
    "test2 = np.array([[0.16, 0.04], [0.08, 0.72]], dtype=np.float64)"
   ]
  },
  {
   "cell_type": "code",
   "execution_count": 56,
   "id": "7561396e",
   "metadata": {},
   "outputs": [],
   "source": [
    "res1 = M * test1\n",
    "res2 = M * test2"
   ]
  },
  {
   "cell_type": "code",
   "execution_count": 57,
   "id": "d4515d40",
   "metadata": {},
   "outputs": [
    {
     "name": "stdout",
     "output_type": "stream",
     "text": [
      "Gains from algorithms:\n",
      "#1 0.78, #2 -0.88\n"
     ]
    }
   ],
   "source": [
    "sum1, sum2 = res1.sum(), res2.sum()\n",
    "print('Gains from algorithms:')\n",
    "print(f'#1 {sum1:.2f}, #2 {sum2:.2f}')"
   ]
  },
  {
   "cell_type": "markdown",
   "id": "a181a1a8",
   "metadata": {},
   "source": [
    "### Create a function for a utility matrix with cost for each case (TN, FP, FN, TP)"
   ]
  },
  {
   "cell_type": "code",
   "execution_count": 154,
   "id": "563cfaa2",
   "metadata": {},
   "outputs": [],
   "source": [
    "utility = np.array([[10, -1], [-10, 1]], dtype=np.float64)"
   ]
  },
  {
   "cell_type": "code",
   "execution_count": 139,
   "id": "fd085438",
   "metadata": {},
   "outputs": [],
   "source": [
    "def get_expected_cost (um, m):\n",
    "    if um.max() > 1:\n",
    "        if m.max() > 1:\n",
    "            um /= np.abs(um).max()\n",
    "    s = um * m\n",
    "    s1 = s[0].sum()\n",
    "    s2 = s[1].sum()\n",
    "    return [s1, s2]"
   ]
  },
  {
   "cell_type": "code",
   "execution_count": 7,
   "id": "0b4d573c",
   "metadata": {},
   "outputs": [],
   "source": [
    "def get_expected_cost (um, m):\n",
    "    m = np.array(m)\n",
    "    if um.max() > 1:\n",
    "        if m.max() > 1:\n",
    "            um /= np.abs(um).max()\n",
    "    s1 = um[0] * m\n",
    "    s2 = um[1] * m\n",
    "    s1 = s1.sum()\n",
    "    s2 = s2.sum()\n",
    "    return [s1, s2]"
   ]
  },
  {
   "cell_type": "code",
   "execution_count": 122,
   "id": "5ea85ad2",
   "metadata": {},
   "outputs": [
    {
     "data": {
      "text/plain": [
       "array([[3231,   31],\n",
       "       [  87,  239]])"
      ]
     },
     "execution_count": 122,
     "metadata": {},
     "output_type": "execute_result"
    }
   ],
   "source": [
    "cm = confusion_matrix(y, y_pred)\n",
    "cm"
   ]
  },
  {
   "cell_type": "code",
   "execution_count": 146,
   "id": "deaf9983",
   "metadata": {},
   "outputs": [
    {
     "data": {
      "text/plain": [
       "326.0"
      ]
     },
     "execution_count": 146,
     "metadata": {},
     "output_type": "execute_result"
    }
   ],
   "source": [
    "cost = get_cost(utility, cm[1])\n",
    "cost"
   ]
  },
  {
   "cell_type": "code",
   "execution_count": 141,
   "id": "0254997b",
   "metadata": {},
   "outputs": [
    {
     "data": {
      "text/plain": [
       "[3231.0, 239.0]"
      ]
     },
     "execution_count": 141,
     "metadata": {},
     "output_type": "execute_result"
    }
   ],
   "source": [
    "c = get_expected_cost(utility, cm)\n",
    "c"
   ]
  },
  {
   "cell_type": "code",
   "execution_count": 163,
   "id": "8c9a3cae",
   "metadata": {},
   "outputs": [
    {
     "data": {
      "text/html": [
       "<div>\n",
       "<style scoped>\n",
       "    .dataframe tbody tr th:only-of-type {\n",
       "        vertical-align: middle;\n",
       "    }\n",
       "\n",
       "    .dataframe tbody tr th {\n",
       "        vertical-align: top;\n",
       "    }\n",
       "\n",
       "    .dataframe thead th {\n",
       "        text-align: right;\n",
       "    }\n",
       "</style>\n",
       "<table border=\"1\" class=\"dataframe\">\n",
       "  <thead>\n",
       "    <tr style=\"text-align: right;\">\n",
       "      <th></th>\n",
       "      <th>class</th>\n",
       "      <th>preds</th>\n",
       "      <th>probs_class_0</th>\n",
       "      <th>probs_class_1</th>\n",
       "      <th>prediction</th>\n",
       "      <th>probs</th>\n",
       "    </tr>\n",
       "  </thead>\n",
       "  <tbody>\n",
       "    <tr>\n",
       "      <th>0</th>\n",
       "      <td>0</td>\n",
       "      <td>0.975</td>\n",
       "      <td>0.997848</td>\n",
       "      <td>0.002152</td>\n",
       "      <td>0</td>\n",
       "      <td>[0.9978484371013459, 0.002151562898654075]</td>\n",
       "    </tr>\n",
       "    <tr>\n",
       "      <th>1</th>\n",
       "      <td>0</td>\n",
       "      <td>0.990</td>\n",
       "      <td>0.998329</td>\n",
       "      <td>0.001671</td>\n",
       "      <td>0</td>\n",
       "      <td>[0.998328584124416, 0.0016714158755837688]</td>\n",
       "    </tr>\n",
       "    <tr>\n",
       "      <th>2</th>\n",
       "      <td>0</td>\n",
       "      <td>0.950</td>\n",
       "      <td>0.995933</td>\n",
       "      <td>0.004067</td>\n",
       "      <td>0</td>\n",
       "      <td>[0.9959327602479192, 0.004067239752081032]</td>\n",
       "    </tr>\n",
       "    <tr>\n",
       "      <th>3</th>\n",
       "      <td>0</td>\n",
       "      <td>0.995</td>\n",
       "      <td>0.998112</td>\n",
       "      <td>0.001888</td>\n",
       "      <td>0</td>\n",
       "      <td>[0.9981116284172469, 0.0018883715827530312]</td>\n",
       "    </tr>\n",
       "    <tr>\n",
       "      <th>4</th>\n",
       "      <td>1</td>\n",
       "      <td>0.105</td>\n",
       "      <td>0.092222</td>\n",
       "      <td>0.907778</td>\n",
       "      <td>1</td>\n",
       "      <td>[0.09222187670619506, 0.9077781232938047]</td>\n",
       "    </tr>\n",
       "  </tbody>\n",
       "</table>\n",
       "</div>"
      ],
      "text/plain": [
       "   class  preds  probs_class_0  probs_class_1  prediction  \\\n",
       "0      0  0.975       0.997848       0.002152           0   \n",
       "1      0  0.990       0.998329       0.001671           0   \n",
       "2      0  0.950       0.995933       0.004067           0   \n",
       "3      0  0.995       0.998112       0.001888           0   \n",
       "4      1  0.105       0.092222       0.907778           1   \n",
       "\n",
       "                                         probs  \n",
       "0   [0.9978484371013459, 0.002151562898654075]  \n",
       "1   [0.998328584124416, 0.0016714158755837688]  \n",
       "2   [0.9959327602479192, 0.004067239752081032]  \n",
       "3  [0.9981116284172469, 0.0018883715827530312]  \n",
       "4    [0.09222187670619506, 0.9077781232938047]  "
      ]
     },
     "execution_count": 163,
     "metadata": {},
     "output_type": "execute_result"
    }
   ],
   "source": [
    "df_all['probs'] = [[r['probs_class_0'], r['probs_class_1']] for i, r in df_all.iterrows()]\n",
    "df_all.head()"
   ]
  },
  {
   "cell_type": "code",
   "execution_count": 169,
   "id": "0b304792",
   "metadata": {},
   "outputs": [],
   "source": [
    "''' \n",
    "Utility matrix format: \n",
    "    [[TN, FN],\n",
    "     [FP, TP]]\n",
    "'''\n",
    "utility = np.array([[1, -1], \n",
    "                    [-1, 1]], dtype=np.float64)"
   ]
  },
  {
   "cell_type": "code",
   "execution_count": 134,
   "id": "d8c26b76",
   "metadata": {},
   "outputs": [],
   "source": [
    "def get_expected_utility (um, m):\n",
    "    '''\n",
    "    um = utility matrix in format     [[TN, FN], [FP, TP]]\n",
    "    m = prediction or probability of class [0, 1]\n",
    "    returns expected utility for each class\n",
    "    '''\n",
    "    m = np.array(m)\n",
    "    if um.max() > 1:\n",
    "        if m.max() > 1:\n",
    "            um /= np.abs(um).max()\n",
    "    s1 = um[0] * m\n",
    "    s2 = um[1] * m\n",
    "    s1 = s1.sum()\n",
    "    s2 = s2.sum()\n",
    "    return [s1, s2]"
   ]
  },
  {
   "cell_type": "code",
   "execution_count": 171,
   "id": "8f85f1e3",
   "metadata": {},
   "outputs": [
    {
     "data": {
      "text/html": [
       "<div>\n",
       "<style scoped>\n",
       "    .dataframe tbody tr th:only-of-type {\n",
       "        vertical-align: middle;\n",
       "    }\n",
       "\n",
       "    .dataframe tbody tr th {\n",
       "        vertical-align: top;\n",
       "    }\n",
       "\n",
       "    .dataframe thead th {\n",
       "        text-align: right;\n",
       "    }\n",
       "</style>\n",
       "<table border=\"1\" class=\"dataframe\">\n",
       "  <thead>\n",
       "    <tr style=\"text-align: right;\">\n",
       "      <th></th>\n",
       "      <th>class</th>\n",
       "      <th>probs_class_0</th>\n",
       "      <th>probs_class_1</th>\n",
       "      <th>probs</th>\n",
       "      <th>expected_utility</th>\n",
       "      <th>best_utility_class</th>\n",
       "    </tr>\n",
       "  </thead>\n",
       "  <tbody>\n",
       "    <tr>\n",
       "      <th>0</th>\n",
       "      <td>0</td>\n",
       "      <td>0.997848</td>\n",
       "      <td>0.002152</td>\n",
       "      <td>[0.9978484371013459, 0.002151562898654075]</td>\n",
       "      <td>[0.9956968742026918, -0.9956968742026918]</td>\n",
       "      <td>0</td>\n",
       "    </tr>\n",
       "    <tr>\n",
       "      <th>1</th>\n",
       "      <td>0</td>\n",
       "      <td>0.998329</td>\n",
       "      <td>0.001671</td>\n",
       "      <td>[0.998328584124416, 0.0016714158755837688]</td>\n",
       "      <td>[0.9966571682488323, -0.9966571682488323]</td>\n",
       "      <td>0</td>\n",
       "    </tr>\n",
       "    <tr>\n",
       "      <th>2</th>\n",
       "      <td>0</td>\n",
       "      <td>0.995933</td>\n",
       "      <td>0.004067</td>\n",
       "      <td>[0.9959327602479192, 0.004067239752081032]</td>\n",
       "      <td>[0.9918655204958382, -0.9918655204958382]</td>\n",
       "      <td>0</td>\n",
       "    </tr>\n",
       "    <tr>\n",
       "      <th>3</th>\n",
       "      <td>0</td>\n",
       "      <td>0.998112</td>\n",
       "      <td>0.001888</td>\n",
       "      <td>[0.9981116284172469, 0.0018883715827530312]</td>\n",
       "      <td>[0.9962232568344939, -0.9962232568344939]</td>\n",
       "      <td>0</td>\n",
       "    </tr>\n",
       "    <tr>\n",
       "      <th>4</th>\n",
       "      <td>1</td>\n",
       "      <td>0.092222</td>\n",
       "      <td>0.907778</td>\n",
       "      <td>[0.09222187670619506, 0.9077781232938047]</td>\n",
       "      <td>[-0.8155562465876096, 0.8155562465876096]</td>\n",
       "      <td>1</td>\n",
       "    </tr>\n",
       "  </tbody>\n",
       "</table>\n",
       "</div>"
      ],
      "text/plain": [
       "   class  probs_class_0  probs_class_1  \\\n",
       "0      0       0.997848       0.002152   \n",
       "1      0       0.998329       0.001671   \n",
       "2      0       0.995933       0.004067   \n",
       "3      0       0.998112       0.001888   \n",
       "4      1       0.092222       0.907778   \n",
       "\n",
       "                                         probs  \\\n",
       "0   [0.9978484371013459, 0.002151562898654075]   \n",
       "1   [0.998328584124416, 0.0016714158755837688]   \n",
       "2   [0.9959327602479192, 0.004067239752081032]   \n",
       "3  [0.9981116284172469, 0.0018883715827530312]   \n",
       "4    [0.09222187670619506, 0.9077781232938047]   \n",
       "\n",
       "                            expected_utility  best_utility_class  \n",
       "0  [0.9956968742026918, -0.9956968742026918]                   0  \n",
       "1  [0.9966571682488323, -0.9966571682488323]                   0  \n",
       "2  [0.9918655204958382, -0.9918655204958382]                   0  \n",
       "3  [0.9962232568344939, -0.9962232568344939]                   0  \n",
       "4  [-0.8155562465876096, 0.8155562465876096]                   1  "
      ]
     },
     "execution_count": 171,
     "metadata": {},
     "output_type": "execute_result"
    }
   ],
   "source": [
    "df_all['expected_utility'] = [get_expected_utility(utility, r['probs']) for i, r in df_all.iterrows()]\n",
    "df_all['best_utility_class'] = torch.tensor(df_all['expected_utility']).argmax(axis=1)\n",
    "df_utility = df_all.drop(columns= ['prediction', 'preds'])\n",
    "df_utility.head()"
   ]
  },
  {
   "cell_type": "code",
   "execution_count": null,
   "id": "0a792366",
   "metadata": {},
   "outputs": [],
   "source": [
    "df_utility.to_csv(DATA/'RF_direct_prob_utility.csv')"
   ]
  },
  {
   "cell_type": "code",
   "execution_count": null,
   "id": "777c4aae",
   "metadata": {},
   "outputs": [],
   "source": []
  },
  {
   "cell_type": "code",
   "execution_count": null,
   "id": "30e8428d",
   "metadata": {},
   "outputs": [],
   "source": []
  },
  {
   "cell_type": "markdown",
   "id": "e92a41f2",
   "metadata": {},
   "source": [
    "# Generate correct probabilities for CNN model for test1 and test2"
   ]
  },
  {
   "cell_type": "code",
   "execution_count": 138,
   "id": "b892cd1d",
   "metadata": {},
   "outputs": [
    {
     "name": "stdout",
     "output_type": "stream",
     "text": [
      "<class 'pandas.core.frame.DataFrame'>\n",
      "RangeIndex: 262142 entries, 0 to 262141\n",
      "Data columns (total 6 columns):\n",
      " #   Column  Non-Null Count   Dtype  \n",
      "---  ------  --------------   -----  \n",
      " 0   w       262142 non-null  float64\n",
      " 1   p       262142 non-null  float64\n",
      " 2   mu0     262142 non-null  float64\n",
      " 3   sigma0  262142 non-null  float64\n",
      " 4   mu1     262142 non-null  float64\n",
      " 5   sigma1  262142 non-null  float64\n",
      "dtypes: float64(6)\n",
      "memory usage: 12.0 MB\n"
     ]
    }
   ],
   "source": [
    "df_CNN = pd.read_csv(DATA/'CNN_probabilityfunction_full.csv')\n",
    "df_CNN.info()"
   ]
  },
  {
   "cell_type": "code",
   "execution_count": 139,
   "id": "a9995aba",
   "metadata": {},
   "outputs": [
    {
     "data": {
      "text/html": [
       "<div>\n",
       "<style scoped>\n",
       "    .dataframe tbody tr th:only-of-type {\n",
       "        vertical-align: middle;\n",
       "    }\n",
       "\n",
       "    .dataframe tbody tr th {\n",
       "        vertical-align: top;\n",
       "    }\n",
       "\n",
       "    .dataframe thead th {\n",
       "        text-align: right;\n",
       "    }\n",
       "</style>\n",
       "<table border=\"1\" class=\"dataframe\">\n",
       "  <thead>\n",
       "    <tr style=\"text-align: right;\">\n",
       "      <th></th>\n",
       "      <th>w</th>\n",
       "      <th>p</th>\n",
       "      <th>mu0</th>\n",
       "      <th>sigma0</th>\n",
       "      <th>mu1</th>\n",
       "      <th>sigma1</th>\n",
       "    </tr>\n",
       "  </thead>\n",
       "  <tbody>\n",
       "    <tr>\n",
       "      <th>0</th>\n",
       "      <td>1.112547e-308</td>\n",
       "      <td>0.174027</td>\n",
       "      <td>2.249256</td>\n",
       "      <td>5.060917</td>\n",
       "      <td>-2.448301</td>\n",
       "      <td>0.254581</td>\n",
       "    </tr>\n",
       "    <tr>\n",
       "      <th>1</th>\n",
       "      <td>2.021356e-302</td>\n",
       "      <td>0.465301</td>\n",
       "      <td>1.497763</td>\n",
       "      <td>0.403940</td>\n",
       "      <td>-4.069391</td>\n",
       "      <td>0.219020</td>\n",
       "    </tr>\n",
       "    <tr>\n",
       "      <th>2</th>\n",
       "      <td>2.451473e-297</td>\n",
       "      <td>0.478021</td>\n",
       "      <td>2.776968</td>\n",
       "      <td>2.754942</td>\n",
       "      <td>-1.012342</td>\n",
       "      <td>0.758008</td>\n",
       "    </tr>\n",
       "    <tr>\n",
       "      <th>3</th>\n",
       "      <td>1.542531e-295</td>\n",
       "      <td>0.992075</td>\n",
       "      <td>3.959678</td>\n",
       "      <td>0.091651</td>\n",
       "      <td>-0.177518</td>\n",
       "      <td>0.689752</td>\n",
       "    </tr>\n",
       "    <tr>\n",
       "      <th>4</th>\n",
       "      <td>2.402227e-289</td>\n",
       "      <td>0.332206</td>\n",
       "      <td>2.568715</td>\n",
       "      <td>0.593366</td>\n",
       "      <td>-0.892260</td>\n",
       "      <td>0.143567</td>\n",
       "    </tr>\n",
       "  </tbody>\n",
       "</table>\n",
       "</div>"
      ],
      "text/plain": [
       "               w         p       mu0    sigma0       mu1    sigma1\n",
       "0  1.112547e-308  0.174027  2.249256  5.060917 -2.448301  0.254581\n",
       "1  2.021356e-302  0.465301  1.497763  0.403940 -4.069391  0.219020\n",
       "2  2.451473e-297  0.478021  2.776968  2.754942 -1.012342  0.758008\n",
       "3  1.542531e-295  0.992075  3.959678  0.091651 -0.177518  0.689752\n",
       "4  2.402227e-289  0.332206  2.568715  0.593366 -0.892260  0.143567"
      ]
     },
     "execution_count": 139,
     "metadata": {},
     "output_type": "execute_result"
    }
   ],
   "source": [
    "df_CNN.head()"
   ]
  },
  {
   "cell_type": "code",
   "execution_count": 140,
   "id": "f8bf557d",
   "metadata": {},
   "outputs": [],
   "source": [
    "#function for making a list of strings in df to list of floats\n",
    "def get_substring_list(split):\n",
    "    if len(split) <= 1:\n",
    "        print('nooo')\n",
    "    i = 0\n",
    "    while len(split[i]) <= 1:\n",
    "        i += 1\n",
    "    s1 = split[i]\n",
    "    i += 1\n",
    "    while len(split[i]) <= 1:\n",
    "        i += 1\n",
    "    s2 = split[i]\n",
    "    if s1[0] == '[':\n",
    "        s1 = s1[1:]\n",
    "    if s2[-1] == ']':\n",
    "        s2 = s2[0:-1]\n",
    "    s1 = np.float64(s1)\n",
    "    s2 = np.float64(s2)\n",
    "    return [s1, s2]"
   ]
  },
  {
   "cell_type": "markdown",
   "id": "3ea49b23",
   "metadata": {},
   "source": [
    "### Test1"
   ]
  },
  {
   "cell_type": "code",
   "execution_count": 141,
   "id": "32320fa4",
   "metadata": {},
   "outputs": [
    {
     "data": {
      "text/html": [
       "<div>\n",
       "<style scoped>\n",
       "    .dataframe tbody tr th:only-of-type {\n",
       "        vertical-align: middle;\n",
       "    }\n",
       "\n",
       "    .dataframe tbody tr th {\n",
       "        vertical-align: top;\n",
       "    }\n",
       "\n",
       "    .dataframe thead th {\n",
       "        text-align: right;\n",
       "    }\n",
       "</style>\n",
       "<table border=\"1\" class=\"dataframe\">\n",
       "  <thead>\n",
       "    <tr style=\"text-align: right;\">\n",
       "      <th></th>\n",
       "      <th>class</th>\n",
       "      <th>predictions</th>\n",
       "      <th>predicted_class</th>\n",
       "      <th>preds</th>\n",
       "    </tr>\n",
       "  </thead>\n",
       "  <tbody>\n",
       "    <tr>\n",
       "      <th>0</th>\n",
       "      <td>0</td>\n",
       "      <td>[1.0686324  0.15983486]</td>\n",
       "      <td>1.068632</td>\n",
       "      <td>[1.0686324, 0.15983486]</td>\n",
       "    </tr>\n",
       "    <tr>\n",
       "      <th>1</th>\n",
       "      <td>0</td>\n",
       "      <td>[ 3.294977  -3.2591858]</td>\n",
       "      <td>3.294977</td>\n",
       "      <td>[3.294977, -3.2591858]</td>\n",
       "    </tr>\n",
       "    <tr>\n",
       "      <th>2</th>\n",
       "      <td>0</td>\n",
       "      <td>[ 3.8328545 -3.5713747]</td>\n",
       "      <td>3.832854</td>\n",
       "      <td>[3.8328545, -3.5713747]</td>\n",
       "    </tr>\n",
       "    <tr>\n",
       "      <th>3</th>\n",
       "      <td>0</td>\n",
       "      <td>[ 3.13148   -3.6825964]</td>\n",
       "      <td>3.131480</td>\n",
       "      <td>[3.13148, -3.6825964]</td>\n",
       "    </tr>\n",
       "    <tr>\n",
       "      <th>4</th>\n",
       "      <td>1</td>\n",
       "      <td>[-0.78947127  1.3680041 ]</td>\n",
       "      <td>1.368004</td>\n",
       "      <td>[-0.78947127, 1.3680041]</td>\n",
       "    </tr>\n",
       "  </tbody>\n",
       "</table>\n",
       "</div>"
      ],
      "text/plain": [
       "   class                predictions  predicted_class                     preds\n",
       "0      0    [1.0686324  0.15983486]         1.068632   [1.0686324, 0.15983486]\n",
       "1      0    [ 3.294977  -3.2591858]         3.294977    [3.294977, -3.2591858]\n",
       "2      0    [ 3.8328545 -3.5713747]         3.832854   [3.8328545, -3.5713747]\n",
       "3      0    [ 3.13148   -3.6825964]         3.131480     [3.13148, -3.6825964]\n",
       "4      1  [-0.78947127  1.3680041 ]         1.368004  [-0.78947127, 1.3680041]"
      ]
     },
     "execution_count": 141,
     "metadata": {},
     "output_type": "execute_result"
    }
   ],
   "source": [
    "df_test1 = pd.read_csv(CHEMBL205/'CHEMBL205_predictions_CNN_test1.csv')\n",
    "df_test1['preds'] = [get_substring_list(r['predictions'].split(' '))  for i, r in df_test1.iterrows()]\n",
    "#df_preds['pred_0'] = np.array(df_preds['pred_0'], dtype=np.float64)\n",
    "df_test1.head()"
   ]
  },
  {
   "cell_type": "code",
   "execution_count": 147,
   "id": "456adf8b",
   "metadata": {},
   "outputs": [],
   "source": [
    "def calculate_probs_CNN(df, df_preds):\n",
    "    '''\n",
    "    function for getting bayesian corrected probabilites for CNN\n",
    "    df = DataFrame for CNN parameters for the probability function\n",
    "    df_preds = DataFrame for the predictions\n",
    "    '''\n",
    "    \n",
    "    preds = df_preds['preds']\n",
    "    m0 = df.mu0.to_numpy()\n",
    "    s0 = df.sigma0.to_numpy()\n",
    "    m1 = df.mu1.to_numpy()\n",
    "    s1 = df.sigma1.to_numpy()\n",
    "    p = df.p.to_numpy()\n",
    "    w = df.w.to_numpy()\n",
    "    all_probs_0 = np.array([])\n",
    "    for pred in preds:\n",
    "        prob = CNN_direct_prob(pred, 0, w, p, m0, s0, m1, s1)\n",
    "        all_probs_0 = np.append(all_probs_0, prob)\n",
    "    return all_probs_0"
   ]
  },
  {
   "cell_type": "code",
   "execution_count": 148,
   "id": "c555a3bf",
   "metadata": {},
   "outputs": [
    {
     "ename": "KeyboardInterrupt",
     "evalue": "",
     "output_type": "error",
     "traceback": [
      "\u001b[0;31m---------------------------------------------------------------------------\u001b[0m",
      "\u001b[0;31mKeyboardInterrupt\u001b[0m                         Traceback (most recent call last)",
      "\u001b[0;32m/tmp/ipykernel_4080302/3475095412.py\u001b[0m in \u001b[0;36m<module>\u001b[0;34m\u001b[0m\n\u001b[0;32m----> 1\u001b[0;31m \u001b[0marr\u001b[0m \u001b[0;34m=\u001b[0m \u001b[0mcalculate_probs_CNN\u001b[0m\u001b[0;34m(\u001b[0m\u001b[0mdf_CNN\u001b[0m\u001b[0;34m,\u001b[0m \u001b[0mdf_test1\u001b[0m\u001b[0;34m)\u001b[0m\u001b[0;34m\u001b[0m\u001b[0;34m\u001b[0m\u001b[0m\n\u001b[0m\u001b[1;32m      2\u001b[0m \u001b[0marr\u001b[0m\u001b[0;34m\u001b[0m\u001b[0;34m\u001b[0m\u001b[0m\n",
      "\u001b[0;32m/tmp/ipykernel_4080302/2049465164.py\u001b[0m in \u001b[0;36mcalculate_probs_CNN\u001b[0;34m(df, df_preds)\u001b[0m\n\u001b[1;32m     15\u001b[0m     \u001b[0mall_probs_0\u001b[0m \u001b[0;34m=\u001b[0m \u001b[0mnp\u001b[0m\u001b[0;34m.\u001b[0m\u001b[0marray\u001b[0m\u001b[0;34m(\u001b[0m\u001b[0;34m[\u001b[0m\u001b[0;34m]\u001b[0m\u001b[0;34m)\u001b[0m\u001b[0;34m\u001b[0m\u001b[0;34m\u001b[0m\u001b[0m\n\u001b[1;32m     16\u001b[0m     \u001b[0;32mfor\u001b[0m \u001b[0mpred\u001b[0m \u001b[0;32min\u001b[0m \u001b[0mpreds\u001b[0m\u001b[0;34m:\u001b[0m\u001b[0;34m\u001b[0m\u001b[0;34m\u001b[0m\u001b[0m\n\u001b[0;32m---> 17\u001b[0;31m         \u001b[0mprob\u001b[0m \u001b[0;34m=\u001b[0m \u001b[0mCNN_direct_prob\u001b[0m\u001b[0;34m(\u001b[0m\u001b[0mpred\u001b[0m\u001b[0;34m,\u001b[0m \u001b[0;36m0\u001b[0m\u001b[0;34m,\u001b[0m \u001b[0mw\u001b[0m\u001b[0;34m,\u001b[0m \u001b[0mp\u001b[0m\u001b[0;34m,\u001b[0m \u001b[0mm0\u001b[0m\u001b[0;34m,\u001b[0m \u001b[0ms0\u001b[0m\u001b[0;34m,\u001b[0m \u001b[0mm1\u001b[0m\u001b[0;34m,\u001b[0m \u001b[0ms1\u001b[0m\u001b[0;34m)\u001b[0m\u001b[0;34m\u001b[0m\u001b[0;34m\u001b[0m\u001b[0m\n\u001b[0m\u001b[1;32m     18\u001b[0m         \u001b[0mall_probs_0\u001b[0m \u001b[0;34m=\u001b[0m \u001b[0mnp\u001b[0m\u001b[0;34m.\u001b[0m\u001b[0mappend\u001b[0m\u001b[0;34m(\u001b[0m\u001b[0mall_probs_0\u001b[0m\u001b[0;34m,\u001b[0m \u001b[0mprob\u001b[0m\u001b[0;34m)\u001b[0m\u001b[0;34m\u001b[0m\u001b[0;34m\u001b[0m\u001b[0m\n\u001b[1;32m     19\u001b[0m     \u001b[0;32mreturn\u001b[0m \u001b[0mall_probs_0\u001b[0m\u001b[0;34m\u001b[0m\u001b[0;34m\u001b[0m\u001b[0m\n",
      "\u001b[0;32m~/drug-discovery/Drug-Discovery/notebooks/utils/probs.py\u001b[0m in \u001b[0;36mCNN_direct_prob\u001b[0;34m(x, cl, w, p, m0, s0, m1, s1)\u001b[0m\n\u001b[1;32m     42\u001b[0m     \u001b[0mpc\u001b[0m \u001b[0;34m=\u001b[0m \u001b[0mp\u001b[0m\u001b[0;34m*\u001b[0m\u001b[0mcl\u001b[0m \u001b[0;34m+\u001b[0m \u001b[0;34m(\u001b[0m\u001b[0;36m1\u001b[0m\u001b[0;34m-\u001b[0m\u001b[0mp\u001b[0m\u001b[0;34m)\u001b[0m\u001b[0;34m*\u001b[0m\u001b[0;34m(\u001b[0m\u001b[0;36m1\u001b[0m\u001b[0;34m-\u001b[0m\u001b[0mcl\u001b[0m\u001b[0;34m)\u001b[0m\u001b[0;34m\u001b[0m\u001b[0;34m\u001b[0m\u001b[0m\n\u001b[1;32m     43\u001b[0m     \u001b[0mpjoint\u001b[0m \u001b[0;34m=\u001b[0m \u001b[0mnp\u001b[0m\u001b[0;34m.\u001b[0m\u001b[0msum\u001b[0m\u001b[0;34m(\u001b[0m\u001b[0mw\u001b[0m \u001b[0;34m*\u001b[0m \u001b[0mpc\u001b[0m \u001b[0;34m*\u001b[0m \u001b[0mnorm\u001b[0m\u001b[0;34m.\u001b[0m\u001b[0mpdf\u001b[0m\u001b[0;34m(\u001b[0m\u001b[0mx\u001b[0m\u001b[0;34m[\u001b[0m\u001b[0;36m0\u001b[0m\u001b[0;34m]\u001b[0m\u001b[0;34m,\u001b[0m \u001b[0mloc\u001b[0m\u001b[0;34m=\u001b[0m\u001b[0mm0\u001b[0m\u001b[0;34m,\u001b[0m \u001b[0mscale\u001b[0m\u001b[0;34m=\u001b[0m\u001b[0ms0\u001b[0m\u001b[0;34m)\u001b[0m \u001b[0;34m*\u001b[0m \u001b[0mnorm\u001b[0m\u001b[0;34m.\u001b[0m\u001b[0mpdf\u001b[0m\u001b[0;34m(\u001b[0m\u001b[0mx\u001b[0m\u001b[0;34m[\u001b[0m\u001b[0;36m1\u001b[0m\u001b[0;34m]\u001b[0m\u001b[0;34m,\u001b[0m \u001b[0mloc\u001b[0m\u001b[0;34m=\u001b[0m\u001b[0mm1\u001b[0m\u001b[0;34m,\u001b[0m \u001b[0mscale\u001b[0m\u001b[0;34m=\u001b[0m\u001b[0ms1\u001b[0m\u001b[0;34m)\u001b[0m\u001b[0;34m)\u001b[0m\u001b[0;34m\u001b[0m\u001b[0;34m\u001b[0m\u001b[0m\n\u001b[0;32m---> 44\u001b[0;31m     \u001b[0mpx\u001b[0m \u001b[0;34m=\u001b[0m \u001b[0mnp\u001b[0m\u001b[0;34m.\u001b[0m\u001b[0msum\u001b[0m\u001b[0;34m(\u001b[0m\u001b[0mw\u001b[0m \u001b[0;34m*\u001b[0m \u001b[0mnorm\u001b[0m\u001b[0;34m.\u001b[0m\u001b[0mpdf\u001b[0m\u001b[0;34m(\u001b[0m\u001b[0mx\u001b[0m\u001b[0;34m[\u001b[0m\u001b[0;36m0\u001b[0m\u001b[0;34m]\u001b[0m\u001b[0;34m,\u001b[0m \u001b[0mloc\u001b[0m\u001b[0;34m=\u001b[0m\u001b[0mm0\u001b[0m\u001b[0;34m,\u001b[0m \u001b[0mscale\u001b[0m\u001b[0;34m=\u001b[0m\u001b[0ms0\u001b[0m\u001b[0;34m)\u001b[0m \u001b[0;34m*\u001b[0m \u001b[0mnorm\u001b[0m\u001b[0;34m.\u001b[0m\u001b[0mpdf\u001b[0m\u001b[0;34m(\u001b[0m\u001b[0mx\u001b[0m\u001b[0;34m[\u001b[0m\u001b[0;36m1\u001b[0m\u001b[0;34m]\u001b[0m\u001b[0;34m,\u001b[0m \u001b[0mloc\u001b[0m\u001b[0;34m=\u001b[0m\u001b[0mm1\u001b[0m\u001b[0;34m,\u001b[0m \u001b[0mscale\u001b[0m\u001b[0;34m=\u001b[0m\u001b[0ms1\u001b[0m\u001b[0;34m)\u001b[0m\u001b[0;34m)\u001b[0m\u001b[0;34m\u001b[0m\u001b[0;34m\u001b[0m\u001b[0m\n\u001b[0m\u001b[1;32m     45\u001b[0m     \u001b[0mprob\u001b[0m \u001b[0;34m=\u001b[0m \u001b[0mpjoint\u001b[0m\u001b[0;34m/\u001b[0m\u001b[0mpx\u001b[0m\u001b[0;34m\u001b[0m\u001b[0;34m\u001b[0m\u001b[0m\n\u001b[1;32m     46\u001b[0m     \u001b[0;32mreturn\u001b[0m \u001b[0mprob\u001b[0m\u001b[0;34m\u001b[0m\u001b[0;34m\u001b[0m\u001b[0m\n",
      "\u001b[0;32m~/anaconda3/envs/fastai-drug/lib/python3.7/site-packages/scipy/stats/_distn_infrastructure.py\u001b[0m in \u001b[0;36mpdf\u001b[0;34m(self, x, *args, **kwds)\u001b[0m\n\u001b[1;32m   1877\u001b[0m             \u001b[0mgoodargs\u001b[0m \u001b[0;34m=\u001b[0m \u001b[0margsreduce\u001b[0m\u001b[0;34m(\u001b[0m\u001b[0mcond\u001b[0m\u001b[0;34m,\u001b[0m \u001b[0;34m*\u001b[0m\u001b[0;34m(\u001b[0m\u001b[0;34m(\u001b[0m\u001b[0mx\u001b[0m\u001b[0;34m,\u001b[0m\u001b[0;34m)\u001b[0m\u001b[0;34m+\u001b[0m\u001b[0margs\u001b[0m\u001b[0;34m+\u001b[0m\u001b[0;34m(\u001b[0m\u001b[0mscale\u001b[0m\u001b[0;34m,\u001b[0m\u001b[0;34m)\u001b[0m\u001b[0;34m)\u001b[0m\u001b[0;34m)\u001b[0m\u001b[0;34m\u001b[0m\u001b[0;34m\u001b[0m\u001b[0m\n\u001b[1;32m   1878\u001b[0m             \u001b[0mscale\u001b[0m\u001b[0;34m,\u001b[0m \u001b[0mgoodargs\u001b[0m \u001b[0;34m=\u001b[0m \u001b[0mgoodargs\u001b[0m\u001b[0;34m[\u001b[0m\u001b[0;34m-\u001b[0m\u001b[0;36m1\u001b[0m\u001b[0;34m]\u001b[0m\u001b[0;34m,\u001b[0m \u001b[0mgoodargs\u001b[0m\u001b[0;34m[\u001b[0m\u001b[0;34m:\u001b[0m\u001b[0;34m-\u001b[0m\u001b[0;36m1\u001b[0m\u001b[0;34m]\u001b[0m\u001b[0;34m\u001b[0m\u001b[0;34m\u001b[0m\u001b[0m\n\u001b[0;32m-> 1879\u001b[0;31m             \u001b[0mplace\u001b[0m\u001b[0;34m(\u001b[0m\u001b[0moutput\u001b[0m\u001b[0;34m,\u001b[0m \u001b[0mcond\u001b[0m\u001b[0;34m,\u001b[0m \u001b[0mself\u001b[0m\u001b[0;34m.\u001b[0m\u001b[0m_pdf\u001b[0m\u001b[0;34m(\u001b[0m\u001b[0;34m*\u001b[0m\u001b[0mgoodargs\u001b[0m\u001b[0;34m)\u001b[0m \u001b[0;34m/\u001b[0m \u001b[0mscale\u001b[0m\u001b[0;34m)\u001b[0m\u001b[0;34m\u001b[0m\u001b[0;34m\u001b[0m\u001b[0m\n\u001b[0m\u001b[1;32m   1880\u001b[0m         \u001b[0;32mif\u001b[0m \u001b[0moutput\u001b[0m\u001b[0;34m.\u001b[0m\u001b[0mndim\u001b[0m \u001b[0;34m==\u001b[0m \u001b[0;36m0\u001b[0m\u001b[0;34m:\u001b[0m\u001b[0;34m\u001b[0m\u001b[0;34m\u001b[0m\u001b[0m\n\u001b[1;32m   1881\u001b[0m             \u001b[0;32mreturn\u001b[0m \u001b[0moutput\u001b[0m\u001b[0;34m[\u001b[0m\u001b[0;34m(\u001b[0m\u001b[0;34m)\u001b[0m\u001b[0;34m]\u001b[0m\u001b[0;34m\u001b[0m\u001b[0;34m\u001b[0m\u001b[0m\n",
      "\u001b[0;32m~/anaconda3/envs/fastai-drug/lib/python3.7/site-packages/scipy/stats/_continuous_distns.py\u001b[0m in \u001b[0;36m_pdf\u001b[0;34m(self, x)\u001b[0m\n\u001b[1;32m    307\u001b[0m     \u001b[0;32mdef\u001b[0m \u001b[0m_pdf\u001b[0m\u001b[0;34m(\u001b[0m\u001b[0mself\u001b[0m\u001b[0;34m,\u001b[0m \u001b[0mx\u001b[0m\u001b[0;34m)\u001b[0m\u001b[0;34m:\u001b[0m\u001b[0;34m\u001b[0m\u001b[0;34m\u001b[0m\u001b[0m\n\u001b[1;32m    308\u001b[0m         \u001b[0;31m# norm.pdf(x) = exp(-x**2/2)/sqrt(2*pi)\u001b[0m\u001b[0;34m\u001b[0m\u001b[0;34m\u001b[0m\u001b[0;34m\u001b[0m\u001b[0m\n\u001b[0;32m--> 309\u001b[0;31m         \u001b[0;32mreturn\u001b[0m \u001b[0m_norm_pdf\u001b[0m\u001b[0;34m(\u001b[0m\u001b[0mx\u001b[0m\u001b[0;34m)\u001b[0m\u001b[0;34m\u001b[0m\u001b[0;34m\u001b[0m\u001b[0m\n\u001b[0m\u001b[1;32m    310\u001b[0m \u001b[0;34m\u001b[0m\u001b[0m\n\u001b[1;32m    311\u001b[0m     \u001b[0;32mdef\u001b[0m \u001b[0m_logpdf\u001b[0m\u001b[0;34m(\u001b[0m\u001b[0mself\u001b[0m\u001b[0;34m,\u001b[0m \u001b[0mx\u001b[0m\u001b[0;34m)\u001b[0m\u001b[0;34m:\u001b[0m\u001b[0;34m\u001b[0m\u001b[0;34m\u001b[0m\u001b[0m\n",
      "\u001b[0;32m~/anaconda3/envs/fastai-drug/lib/python3.7/site-packages/scipy/stats/_continuous_distns.py\u001b[0m in \u001b[0;36m_norm_pdf\u001b[0;34m(x)\u001b[0m\n\u001b[1;32m    248\u001b[0m \u001b[0;34m\u001b[0m\u001b[0m\n\u001b[1;32m    249\u001b[0m \u001b[0;32mdef\u001b[0m \u001b[0m_norm_pdf\u001b[0m\u001b[0;34m(\u001b[0m\u001b[0mx\u001b[0m\u001b[0;34m)\u001b[0m\u001b[0;34m:\u001b[0m\u001b[0;34m\u001b[0m\u001b[0;34m\u001b[0m\u001b[0m\n\u001b[0;32m--> 250\u001b[0;31m     \u001b[0;32mreturn\u001b[0m \u001b[0mnp\u001b[0m\u001b[0;34m.\u001b[0m\u001b[0mexp\u001b[0m\u001b[0;34m(\u001b[0m\u001b[0;34m-\u001b[0m\u001b[0mx\u001b[0m\u001b[0;34m**\u001b[0m\u001b[0;36m2\u001b[0m\u001b[0;34m/\u001b[0m\u001b[0;36m2.0\u001b[0m\u001b[0;34m)\u001b[0m \u001b[0;34m/\u001b[0m \u001b[0m_norm_pdf_C\u001b[0m\u001b[0;34m\u001b[0m\u001b[0;34m\u001b[0m\u001b[0m\n\u001b[0m\u001b[1;32m    251\u001b[0m \u001b[0;34m\u001b[0m\u001b[0m\n\u001b[1;32m    252\u001b[0m \u001b[0;34m\u001b[0m\u001b[0m\n",
      "\u001b[0;31mKeyboardInterrupt\u001b[0m: "
     ]
    }
   ],
   "source": [
    "arr = calculate_probs_CNN(df_CNN, df_test1)\n",
    "arr"
   ]
  },
  {
   "cell_type": "code",
   "execution_count": 17,
   "id": "efd4435a",
   "metadata": {},
   "outputs": [
    {
     "data": {
      "text/plain": [
       "3589"
      ]
     },
     "execution_count": 17,
     "metadata": {},
     "output_type": "execute_result"
    }
   ],
   "source": [
    "len(arr)"
   ]
  },
  {
   "cell_type": "code",
   "execution_count": 18,
   "id": "276aec68",
   "metadata": {},
   "outputs": [
    {
     "data": {
      "text/plain": [
       "numpy.ndarray"
      ]
     },
     "execution_count": 18,
     "metadata": {},
     "output_type": "execute_result"
    }
   ],
   "source": [
    "type(arr)"
   ]
  },
  {
   "cell_type": "code",
   "execution_count": 20,
   "id": "fcfcd38a",
   "metadata": {},
   "outputs": [],
   "source": [
    "df_test1['predictions'] = df_test1['preds']\n",
    "df_test1['direct_prob_0'] = arr\n",
    "df_test1 = df_test1.drop(columns=['preds', 'predicted_class'])"
   ]
  },
  {
   "cell_type": "code",
   "execution_count": 21,
   "id": "f5d535da",
   "metadata": {},
   "outputs": [
    {
     "data": {
      "text/html": [
       "<div>\n",
       "<style scoped>\n",
       "    .dataframe tbody tr th:only-of-type {\n",
       "        vertical-align: middle;\n",
       "    }\n",
       "\n",
       "    .dataframe tbody tr th {\n",
       "        vertical-align: top;\n",
       "    }\n",
       "\n",
       "    .dataframe thead th {\n",
       "        text-align: right;\n",
       "    }\n",
       "</style>\n",
       "<table border=\"1\" class=\"dataframe\">\n",
       "  <thead>\n",
       "    <tr style=\"text-align: right;\">\n",
       "      <th></th>\n",
       "      <th>class</th>\n",
       "      <th>predictions</th>\n",
       "      <th>direct_prob_0</th>\n",
       "    </tr>\n",
       "  </thead>\n",
       "  <tbody>\n",
       "    <tr>\n",
       "      <th>0</th>\n",
       "      <td>0</td>\n",
       "      <td>[1.0686324, 0.15983486]</td>\n",
       "      <td>0.812226</td>\n",
       "    </tr>\n",
       "    <tr>\n",
       "      <th>1</th>\n",
       "      <td>0</td>\n",
       "      <td>[3.294977, -3.2591858]</td>\n",
       "      <td>0.997830</td>\n",
       "    </tr>\n",
       "    <tr>\n",
       "      <th>2</th>\n",
       "      <td>0</td>\n",
       "      <td>[3.8328545, -3.5713747]</td>\n",
       "      <td>0.995896</td>\n",
       "    </tr>\n",
       "    <tr>\n",
       "      <th>3</th>\n",
       "      <td>0</td>\n",
       "      <td>[3.13148, -3.6825964]</td>\n",
       "      <td>0.997027</td>\n",
       "    </tr>\n",
       "    <tr>\n",
       "      <th>4</th>\n",
       "      <td>1</td>\n",
       "      <td>[-0.78947127, 1.3680041]</td>\n",
       "      <td>0.230960</td>\n",
       "    </tr>\n",
       "  </tbody>\n",
       "</table>\n",
       "</div>"
      ],
      "text/plain": [
       "   class               predictions  direct_prob_0\n",
       "0      0   [1.0686324, 0.15983486]       0.812226\n",
       "1      0    [3.294977, -3.2591858]       0.997830\n",
       "2      0   [3.8328545, -3.5713747]       0.995896\n",
       "3      0     [3.13148, -3.6825964]       0.997027\n",
       "4      1  [-0.78947127, 1.3680041]       0.230960"
      ]
     },
     "execution_count": 21,
     "metadata": {},
     "output_type": "execute_result"
    }
   ],
   "source": [
    "df_test1.head()"
   ]
  },
  {
   "cell_type": "code",
   "execution_count": 32,
   "id": "1c5e98d1",
   "metadata": {},
   "outputs": [],
   "source": [
    "df_test1.to_csv(DATA/'CNN_bayesian_prob_test1.csv')"
   ]
  },
  {
   "cell_type": "markdown",
   "id": "488cc667",
   "metadata": {},
   "source": [
    "### Do the same for test set 2"
   ]
  },
  {
   "cell_type": "code",
   "execution_count": 23,
   "id": "fb82c02e",
   "metadata": {},
   "outputs": [
    {
     "data": {
      "text/html": [
       "<div>\n",
       "<style scoped>\n",
       "    .dataframe tbody tr th:only-of-type {\n",
       "        vertical-align: middle;\n",
       "    }\n",
       "\n",
       "    .dataframe tbody tr th {\n",
       "        vertical-align: top;\n",
       "    }\n",
       "\n",
       "    .dataframe thead th {\n",
       "        text-align: right;\n",
       "    }\n",
       "</style>\n",
       "<table border=\"1\" class=\"dataframe\">\n",
       "  <thead>\n",
       "    <tr style=\"text-align: right;\">\n",
       "      <th></th>\n",
       "      <th>class</th>\n",
       "      <th>predictions</th>\n",
       "      <th>predicted_class</th>\n",
       "      <th>preds</th>\n",
       "    </tr>\n",
       "  </thead>\n",
       "  <tbody>\n",
       "    <tr>\n",
       "      <th>0</th>\n",
       "      <td>0</td>\n",
       "      <td>[1.0686324  0.15983486]</td>\n",
       "      <td>1.068632</td>\n",
       "      <td>[1.0686324, 0.15983486]</td>\n",
       "    </tr>\n",
       "    <tr>\n",
       "      <th>1</th>\n",
       "      <td>0</td>\n",
       "      <td>[ 3.294977  -3.2591858]</td>\n",
       "      <td>3.294977</td>\n",
       "      <td>[3.294977, -3.2591858]</td>\n",
       "    </tr>\n",
       "    <tr>\n",
       "      <th>2</th>\n",
       "      <td>0</td>\n",
       "      <td>[ 3.8328545 -3.5713747]</td>\n",
       "      <td>3.832854</td>\n",
       "      <td>[3.8328545, -3.5713747]</td>\n",
       "    </tr>\n",
       "    <tr>\n",
       "      <th>3</th>\n",
       "      <td>0</td>\n",
       "      <td>[ 3.13148   -3.6825964]</td>\n",
       "      <td>3.131480</td>\n",
       "      <td>[3.13148, -3.6825964]</td>\n",
       "    </tr>\n",
       "    <tr>\n",
       "      <th>4</th>\n",
       "      <td>1</td>\n",
       "      <td>[-0.78947127  1.3680041 ]</td>\n",
       "      <td>1.368004</td>\n",
       "      <td>[-0.78947127, 1.3680041]</td>\n",
       "    </tr>\n",
       "  </tbody>\n",
       "</table>\n",
       "</div>"
      ],
      "text/plain": [
       "   class                predictions  predicted_class                     preds\n",
       "0      0    [1.0686324  0.15983486]         1.068632   [1.0686324, 0.15983486]\n",
       "1      0    [ 3.294977  -3.2591858]         3.294977    [3.294977, -3.2591858]\n",
       "2      0    [ 3.8328545 -3.5713747]         3.832854   [3.8328545, -3.5713747]\n",
       "3      0    [ 3.13148   -3.6825964]         3.131480     [3.13148, -3.6825964]\n",
       "4      1  [-0.78947127  1.3680041 ]         1.368004  [-0.78947127, 1.3680041]"
      ]
     },
     "execution_count": 23,
     "metadata": {},
     "output_type": "execute_result"
    }
   ],
   "source": [
    "df_test2 = pd.read_csv(CHEMBL205/'CHEMBL205_predictions_CNN_test2.csv')\n",
    "df_test2['preds'] = [get_substring_list(r['predictions'].split(' '))  for i, r in df_test2.iterrows()]\n",
    "#df_preds['pred_0'] = np.array(df_preds['pred_0'], dtype=np.float64)\n",
    "df_test2.head()"
   ]
  },
  {
   "cell_type": "code",
   "execution_count": 26,
   "id": "ae0a099a",
   "metadata": {},
   "outputs": [],
   "source": [
    "probs = calculate_probs_CNN(df_CNN, df_test2)"
   ]
  },
  {
   "cell_type": "code",
   "execution_count": 29,
   "id": "7795e217",
   "metadata": {},
   "outputs": [],
   "source": [
    "df_test2['predictions'] = df_test2['preds']\n",
    "df_test2['direct_prob_0'] = probs\n",
    "df_test2 = df_test2.drop(columns=['preds', 'predicted_class'])"
   ]
  },
  {
   "cell_type": "code",
   "execution_count": 31,
   "id": "10d6d149",
   "metadata": {},
   "outputs": [],
   "source": [
    "df_test2.to_csv(DATA/'CNN_bayesian_prob_test2.csv')"
   ]
  },
  {
   "cell_type": "markdown",
   "id": "ce278fdb",
   "metadata": {},
   "source": [
    "## Test for utility matrix"
   ]
  },
  {
   "cell_type": "code",
   "execution_count": 136,
   "id": "5999225b",
   "metadata": {},
   "outputs": [],
   "source": [
    "''' \n",
    "Utility matrix format: \n",
    "    [[TN, FN],\n",
    "     [FP, TP]]\n",
    "'''\n",
    "utility = np.array([[1, 0], \n",
    "                    [0, 1]], dtype=np.float64)"
   ]
  },
  {
   "cell_type": "code",
   "execution_count": 138,
   "id": "afa435d8",
   "metadata": {},
   "outputs": [],
   "source": [
    "df = df_preds\n",
    "df['expected_utility'] = [get_expected_utility(utility, [r['direct_prob_0'], 1 - r['direct_prob_0']]) \n",
    "                          for i, r in df.iterrows()]\n",
    "df['best_utility_class'] = torch.tensor(df['expected_utility']).argmax(axis=1)"
   ]
  },
  {
   "cell_type": "code",
   "execution_count": 139,
   "id": "5dd3fe2a",
   "metadata": {},
   "outputs": [
    {
     "data": {
      "text/html": [
       "<div>\n",
       "<style scoped>\n",
       "    .dataframe tbody tr th:only-of-type {\n",
       "        vertical-align: middle;\n",
       "    }\n",
       "\n",
       "    .dataframe tbody tr th {\n",
       "        vertical-align: top;\n",
       "    }\n",
       "\n",
       "    .dataframe thead th {\n",
       "        text-align: right;\n",
       "    }\n",
       "</style>\n",
       "<table border=\"1\" class=\"dataframe\">\n",
       "  <thead>\n",
       "    <tr style=\"text-align: right;\">\n",
       "      <th></th>\n",
       "      <th>class</th>\n",
       "      <th>predictions</th>\n",
       "      <th>predicted_class</th>\n",
       "      <th>direct_prob_0</th>\n",
       "      <th>expected_utility</th>\n",
       "      <th>best_utility_class</th>\n",
       "    </tr>\n",
       "  </thead>\n",
       "  <tbody>\n",
       "    <tr>\n",
       "      <th>0</th>\n",
       "      <td>0</td>\n",
       "      <td>[1.0686345, 0.15982893]</td>\n",
       "      <td>0</td>\n",
       "      <td>0.812227</td>\n",
       "      <td>[0.8122267607382875, 0.18777323926171252]</td>\n",
       "      <td>0</td>\n",
       "    </tr>\n",
       "    <tr>\n",
       "      <th>1</th>\n",
       "      <td>0</td>\n",
       "      <td>[3.294972, -3.2591784]</td>\n",
       "      <td>0</td>\n",
       "      <td>0.997830</td>\n",
       "      <td>[0.997829581810393, 0.0021704181896069485]</td>\n",
       "      <td>0</td>\n",
       "    </tr>\n",
       "    <tr>\n",
       "      <th>2</th>\n",
       "      <td>0</td>\n",
       "      <td>[3.8328488, -3.5713756]</td>\n",
       "      <td>0</td>\n",
       "      <td>0.995896</td>\n",
       "      <td>[0.9958956353188672, 0.004104364681132844]</td>\n",
       "      <td>0</td>\n",
       "    </tr>\n",
       "    <tr>\n",
       "      <th>3</th>\n",
       "      <td>0</td>\n",
       "      <td>[3.1314778, -3.682592]</td>\n",
       "      <td>0</td>\n",
       "      <td>0.997027</td>\n",
       "      <td>[0.9970271557275053, 0.002972844272494668]</td>\n",
       "      <td>0</td>\n",
       "    </tr>\n",
       "    <tr>\n",
       "      <th>4</th>\n",
       "      <td>1</td>\n",
       "      <td>[-0.789468, 1.3680037]</td>\n",
       "      <td>1</td>\n",
       "      <td>0.230961</td>\n",
       "      <td>[0.2309608425386519, 0.7690391574613481]</td>\n",
       "      <td>1</td>\n",
       "    </tr>\n",
       "  </tbody>\n",
       "</table>\n",
       "</div>"
      ],
      "text/plain": [
       "   class              predictions  predicted_class  direct_prob_0  \\\n",
       "0      0  [1.0686345, 0.15982893]                0       0.812227   \n",
       "1      0   [3.294972, -3.2591784]                0       0.997830   \n",
       "2      0  [3.8328488, -3.5713756]                0       0.995896   \n",
       "3      0   [3.1314778, -3.682592]                0       0.997027   \n",
       "4      1   [-0.789468, 1.3680037]                1       0.230961   \n",
       "\n",
       "                             expected_utility  best_utility_class  \n",
       "0   [0.8122267607382875, 0.18777323926171252]                   0  \n",
       "1  [0.997829581810393, 0.0021704181896069485]                   0  \n",
       "2  [0.9958956353188672, 0.004104364681132844]                   0  \n",
       "3  [0.9970271557275053, 0.002972844272494668]                   0  \n",
       "4    [0.2309608425386519, 0.7690391574613481]                   1  "
      ]
     },
     "execution_count": 139,
     "metadata": {},
     "output_type": "execute_result"
    }
   ],
   "source": [
    "df.head()"
   ]
  },
  {
   "cell_type": "code",
   "execution_count": 181,
   "id": "d790d2d3",
   "metadata": {},
   "outputs": [
    {
     "data": {
      "text/html": [
       "<div>\n",
       "<style scoped>\n",
       "    .dataframe tbody tr th:only-of-type {\n",
       "        vertical-align: middle;\n",
       "    }\n",
       "\n",
       "    .dataframe tbody tr th {\n",
       "        vertical-align: top;\n",
       "    }\n",
       "\n",
       "    .dataframe thead th {\n",
       "        text-align: right;\n",
       "    }\n",
       "</style>\n",
       "<table border=\"1\" class=\"dataframe\">\n",
       "  <thead>\n",
       "    <tr style=\"text-align: right;\">\n",
       "      <th></th>\n",
       "      <th>class</th>\n",
       "      <th>direct_prob_0</th>\n",
       "      <th>prediction_0</th>\n",
       "    </tr>\n",
       "  </thead>\n",
       "  <tbody>\n",
       "    <tr>\n",
       "      <th>0</th>\n",
       "      <td>0</td>\n",
       "      <td>0.812227</td>\n",
       "      <td>1.068634</td>\n",
       "    </tr>\n",
       "    <tr>\n",
       "      <th>1</th>\n",
       "      <td>0</td>\n",
       "      <td>0.997830</td>\n",
       "      <td>3.294972</td>\n",
       "    </tr>\n",
       "    <tr>\n",
       "      <th>2</th>\n",
       "      <td>0</td>\n",
       "      <td>0.995896</td>\n",
       "      <td>3.832849</td>\n",
       "    </tr>\n",
       "    <tr>\n",
       "      <th>3</th>\n",
       "      <td>0</td>\n",
       "      <td>0.997027</td>\n",
       "      <td>3.131478</td>\n",
       "    </tr>\n",
       "    <tr>\n",
       "      <th>4</th>\n",
       "      <td>1</td>\n",
       "      <td>0.230961</td>\n",
       "      <td>-0.789468</td>\n",
       "    </tr>\n",
       "  </tbody>\n",
       "</table>\n",
       "</div>"
      ],
      "text/plain": [
       "   class  direct_prob_0  prediction_0\n",
       "0      0       0.812227      1.068634\n",
       "1      0       0.997830      3.294972\n",
       "2      0       0.995896      3.832849\n",
       "3      0       0.997027      3.131478\n",
       "4      1       0.230961     -0.789468"
      ]
     },
     "execution_count": 181,
     "metadata": {},
     "output_type": "execute_result"
    }
   ],
   "source": []
  },
  {
   "cell_type": "code",
   "execution_count": 189,
   "id": "c06ca0be",
   "metadata": {},
   "outputs": [],
   "source": [
    "df_save = df_preds\n",
    "df_save.to_csv(DATA/'CNN_direct_prob.csv')"
   ]
  },
  {
   "cell_type": "code",
   "execution_count": null,
   "id": "bc42e80a",
   "metadata": {},
   "outputs": [],
   "source": []
  },
  {
   "cell_type": "code",
   "execution_count": null,
   "id": "b392d9a2",
   "metadata": {},
   "outputs": [],
   "source": []
  },
  {
   "cell_type": "code",
   "execution_count": null,
   "id": "aa7ca3fd",
   "metadata": {},
   "outputs": [],
   "source": []
  },
  {
   "cell_type": "code",
   "execution_count": null,
   "id": "e1304d9c",
   "metadata": {},
   "outputs": [],
   "source": []
  },
  {
   "cell_type": "code",
   "execution_count": null,
   "id": "47400991",
   "metadata": {},
   "outputs": [],
   "source": []
  }
 ],
 "metadata": {
  "kernelspec": {
   "display_name": "Python 3 (ipykernel)",
   "language": "python",
   "name": "python3"
  },
  "language_info": {
   "codemirror_mode": {
    "name": "ipython",
    "version": 3
   },
   "file_extension": ".py",
   "mimetype": "text/x-python",
   "name": "python",
   "nbconvert_exporter": "python",
   "pygments_lexer": "ipython3",
   "version": "3.7.11"
  }
 },
 "nbformat": 4,
 "nbformat_minor": 5
}
