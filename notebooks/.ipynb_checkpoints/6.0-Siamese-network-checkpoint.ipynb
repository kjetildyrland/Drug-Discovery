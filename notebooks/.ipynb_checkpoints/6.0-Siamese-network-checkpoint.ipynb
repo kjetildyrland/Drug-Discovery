{
 "cells": [
  {
   "cell_type": "markdown",
   "id": "02376db5",
   "metadata": {},
   "source": [
    "# Siamese Network on template ligand-docking dataset"
   ]
  },
  {
   "cell_type": "code",
   "execution_count": 1,
   "id": "7ff5d5e3",
   "metadata": {
    "scrolled": true
   },
   "outputs": [
    {
     "name": "stdout",
     "output_type": "stream",
     "text": [
      "Wed Feb  2 17:39:00 2022       \r\n",
      "+-----------------------------------------------------------------------------+\r\n",
      "| NVIDIA-SMI 460.91.03    Driver Version: 460.91.03    CUDA Version: 11.2     |\r\n",
      "|-------------------------------+----------------------+----------------------+\r\n",
      "| GPU  Name        Persistence-M| Bus-Id        Disp.A | Volatile Uncorr. ECC |\r\n",
      "| Fan  Temp  Perf  Pwr:Usage/Cap|         Memory-Usage | GPU-Util  Compute M. |\r\n",
      "|                               |                      |               MIG M. |\r\n",
      "|===============================+======================+======================|\r\n",
      "|   0  GeForce GTX 1080    Off  | 00000000:01:00.0  On |                  N/A |\r\n",
      "| 29%   62C    P0    61W / 240W |    559MiB /  8116MiB |      0%      Default |\r\n",
      "|                               |                      |                  N/A |\r\n",
      "+-------------------------------+----------------------+----------------------+\r\n",
      "                                                                               \r\n",
      "+-----------------------------------------------------------------------------+\r\n",
      "| Processes:                                                                  |\r\n",
      "|  GPU   GI   CI        PID   Type   Process name                  GPU Memory |\r\n",
      "|        ID   ID                                                   Usage      |\r\n",
      "|=============================================================================|\r\n",
      "|    0   N/A  N/A       927      G   /usr/lib/xorg/Xorg                294MiB |\r\n",
      "|    0   N/A  N/A      1224      G   /usr/bin/gnome-shell               58MiB |\r\n",
      "|    0   N/A  N/A      2871      G   /usr/lib/firefox/firefox          202MiB |\r\n",
      "+-----------------------------------------------------------------------------+\r\n"
     ]
    }
   ],
   "source": [
    "!nvidia-smi"
   ]
  },
  {
   "cell_type": "code",
   "execution_count": 2,
   "id": "986e40bd",
   "metadata": {},
   "outputs": [],
   "source": [
    "#%%capture\n",
    "#!wget -c https://repo.continuum.io/miniconda/Miniconda3-latest-Linux-x86_64.sh\n",
    "#!chmod +x Miniconda3-latest-Linux-x86_64.sh\n",
    "#!time bash ./Miniconda3-latest-Linux-x86_64.sh -b -f -p /usr/local\n",
    "#!time conda install -q -y -c conda-forge rdkit"
   ]
  },
  {
   "cell_type": "code",
   "execution_count": 3,
   "id": "fe052ee5",
   "metadata": {},
   "outputs": [],
   "source": [
    "# Import\n",
    "import pandas as pd\n",
    "import numpy as np\n",
    "from pathlib import Path"
   ]
  },
  {
   "cell_type": "code",
   "execution_count": 4,
   "id": "c51e1815",
   "metadata": {},
   "outputs": [],
   "source": [
    "%matplotlib inline\n",
    "import matplotlib.pyplot as plt\n",
    "import matplotlib.image as mpimg\n",
    "import sys\n",
    "import os\n",
    "sys.path.append('/usr/local/lib/python3.7/site-packages/')"
   ]
  },
  {
   "cell_type": "code",
   "execution_count": 5,
   "id": "8112b927",
   "metadata": {},
   "outputs": [],
   "source": [
    "dataset = 'oldsmiledata_id_processed_transformed_shuffled'"
   ]
  },
  {
   "cell_type": "code",
   "execution_count": 6,
   "id": "327fcae1",
   "metadata": {},
   "outputs": [],
   "source": [
    "path = Path('../dataset/oldsmiledata')"
   ]
  },
  {
   "cell_type": "code",
   "execution_count": 7,
   "id": "59ad0e49",
   "metadata": {},
   "outputs": [
    {
     "data": {
      "text/plain": [
       "[PosixPath('../dataset/oldsmiledata/test_oldsmiledata_id_processed_transformed_shuffled.csv'),\n",
       " PosixPath('../dataset/oldsmiledata/train_balanced_oldsmiledata_id_processed_transformed_shuffled.csv'),\n",
       " PosixPath('../dataset/oldsmiledata/oldsmiledata_id_processed_transformed_rescaled_shuffled.csv'),\n",
       " PosixPath('../dataset/oldsmiledata/.ipynb_checkpoints'),\n",
       " PosixPath('../dataset/oldsmiledata/mol_images'),\n",
       " PosixPath('../dataset/oldsmiledata/valid_balanced_oldsmiledata_id_processed_transformed_shuffled.csv'),\n",
       " PosixPath('../dataset/oldsmiledata/train_oldsmiledata_id_processed_transformed_shuffled.csv')]"
      ]
     },
     "execution_count": 7,
     "metadata": {},
     "output_type": "execute_result"
    }
   ],
   "source": [
    "list(path.iterdir())"
   ]
  },
  {
   "cell_type": "code",
   "execution_count": 8,
   "id": "5ab97516",
   "metadata": {},
   "outputs": [],
   "source": [
    "#IMAGES = path/'mol_images'/'all'\n",
    "train = pd.read_csv(path/f'train_balanced_{dataset}.csv')\n",
    "valid = pd.read_csv(path/f'valid_balanced_{dataset}.csv')"
   ]
  },
  {
   "cell_type": "code",
   "execution_count": 9,
   "id": "e5545dfb",
   "metadata": {
    "scrolled": true
   },
   "outputs": [
    {
     "name": "stdout",
     "output_type": "stream",
     "text": [
      "<class 'pandas.core.frame.DataFrame'>\n",
      "RangeIndex: 19625 entries, 0 to 19624\n",
      "Data columns (total 43 columns):\n",
      " #   Column                          Non-Null Count  Dtype  \n",
      "---  ------                          --------------  -----  \n",
      " 0   Unnamed: 0                      19625 non-null  int64  \n",
      " 1   template                        19625 non-null  object \n",
      " 2   docked                          19625 non-null  object \n",
      " 3   rmsd                            19625 non-null  float64\n",
      " 4   uniprot_id                      19625 non-null  object \n",
      " 5   smiles_template                 19625 non-null  object \n",
      " 6   smiles_docked                   19625 non-null  object \n",
      " 7   mcs_smartsString                19625 non-null  object \n",
      " 8   template_HeavyAtomCount         19625 non-null  int64  \n",
      " 9   template_NHOHCount              19625 non-null  int64  \n",
      " 10  template_NOCount                19625 non-null  int64  \n",
      " 11  template_RingCount              19625 non-null  int64  \n",
      " 12  template_NumHAcceptors          19625 non-null  int64  \n",
      " 13  template_NumHDonors             19625 non-null  int64  \n",
      " 14  template_NumHeteroAtoms         19625 non-null  int64  \n",
      " 15  template_NumRotatableBonds      19625 non-null  int64  \n",
      " 16  docked_HeavyAtomCount           19625 non-null  int64  \n",
      " 17  docked_NHOHCount                19625 non-null  int64  \n",
      " 18  docked_NOCount                  19625 non-null  int64  \n",
      " 19  docked_RingCount                19625 non-null  int64  \n",
      " 20  docked_NumHAcceptors            19625 non-null  int64  \n",
      " 21  docked_NumHDonors               19625 non-null  int64  \n",
      " 22  docked_NumHeteroAtoms           19625 non-null  int64  \n",
      " 23  docked_NumRotatableBonds        19625 non-null  int64  \n",
      " 24  mcs_HeavyAtomCount              19625 non-null  int64  \n",
      " 25  mcs_NOCount                     19625 non-null  int64  \n",
      " 26  mcs_RingCount                   19625 non-null  int64  \n",
      " 27  mcs_NumHeteroAtoms              19625 non-null  int64  \n",
      " 28  mcs_template_NHOHCount          19625 non-null  int64  \n",
      " 29  mcs_docked_NHOHCount            19625 non-null  int64  \n",
      " 30  mcs_template_NumHAcceptors      19625 non-null  int64  \n",
      " 31  mcs_docked_NumHAcceptors        19625 non-null  int64  \n",
      " 32  mcs_template_NumHDonors         19625 non-null  int64  \n",
      " 33  mcs_docked_NumHDonors           19625 non-null  int64  \n",
      " 34  mcs_template_NumRotatableBonds  19625 non-null  int64  \n",
      " 35  mcs_docked_NumRotatableBonds    19625 non-null  int64  \n",
      " 36  ec_tanimoto_similarity          19625 non-null  float64\n",
      " 37  fc_tanimoto_similarity          19625 non-null  float64\n",
      " 38  log_RMSD                        19625 non-null  float64\n",
      " 39  bin_RMSD                        19625 non-null  int64  \n",
      " 40  Xtransf_ec_tanimoto_similarity  19625 non-null  float64\n",
      " 41  Xtransf_fc_tanimoto_similarity  19625 non-null  float64\n",
      " 42  is_valid                        19625 non-null  bool   \n",
      "dtypes: bool(1), float64(6), int64(30), object(6)\n",
      "memory usage: 6.3+ MB\n"
     ]
    }
   ],
   "source": [
    "train.info()"
   ]
  },
  {
   "cell_type": "code",
   "execution_count": 10,
   "id": "cae241bb",
   "metadata": {
    "scrolled": true
   },
   "outputs": [
    {
     "name": "stdout",
     "output_type": "stream",
     "text": [
      "<class 'pandas.core.frame.DataFrame'>\n",
      "RangeIndex: 5323 entries, 0 to 5322\n",
      "Data columns (total 43 columns):\n",
      " #   Column                          Non-Null Count  Dtype  \n",
      "---  ------                          --------------  -----  \n",
      " 0   Unnamed: 0                      5323 non-null   int64  \n",
      " 1   template                        5323 non-null   object \n",
      " 2   docked                          5323 non-null   object \n",
      " 3   rmsd                            5323 non-null   float64\n",
      " 4   uniprot_id                      5323 non-null   object \n",
      " 5   smiles_template                 5323 non-null   object \n",
      " 6   smiles_docked                   5323 non-null   object \n",
      " 7   mcs_smartsString                5323 non-null   object \n",
      " 8   template_HeavyAtomCount         5323 non-null   int64  \n",
      " 9   template_NHOHCount              5323 non-null   int64  \n",
      " 10  template_NOCount                5323 non-null   int64  \n",
      " 11  template_RingCount              5323 non-null   int64  \n",
      " 12  template_NumHAcceptors          5323 non-null   int64  \n",
      " 13  template_NumHDonors             5323 non-null   int64  \n",
      " 14  template_NumHeteroAtoms         5323 non-null   int64  \n",
      " 15  template_NumRotatableBonds      5323 non-null   int64  \n",
      " 16  docked_HeavyAtomCount           5323 non-null   int64  \n",
      " 17  docked_NHOHCount                5323 non-null   int64  \n",
      " 18  docked_NOCount                  5323 non-null   int64  \n",
      " 19  docked_RingCount                5323 non-null   int64  \n",
      " 20  docked_NumHAcceptors            5323 non-null   int64  \n",
      " 21  docked_NumHDonors               5323 non-null   int64  \n",
      " 22  docked_NumHeteroAtoms           5323 non-null   int64  \n",
      " 23  docked_NumRotatableBonds        5323 non-null   int64  \n",
      " 24  mcs_HeavyAtomCount              5323 non-null   int64  \n",
      " 25  mcs_NOCount                     5323 non-null   int64  \n",
      " 26  mcs_RingCount                   5323 non-null   int64  \n",
      " 27  mcs_NumHeteroAtoms              5323 non-null   int64  \n",
      " 28  mcs_template_NHOHCount          5323 non-null   int64  \n",
      " 29  mcs_docked_NHOHCount            5323 non-null   int64  \n",
      " 30  mcs_template_NumHAcceptors      5323 non-null   int64  \n",
      " 31  mcs_docked_NumHAcceptors        5323 non-null   int64  \n",
      " 32  mcs_template_NumHDonors         5323 non-null   int64  \n",
      " 33  mcs_docked_NumHDonors           5323 non-null   int64  \n",
      " 34  mcs_template_NumRotatableBonds  5323 non-null   int64  \n",
      " 35  mcs_docked_NumRotatableBonds    5323 non-null   int64  \n",
      " 36  ec_tanimoto_similarity          5323 non-null   float64\n",
      " 37  fc_tanimoto_similarity          5323 non-null   float64\n",
      " 38  log_RMSD                        5323 non-null   float64\n",
      " 39  bin_RMSD                        5323 non-null   int64  \n",
      " 40  Xtransf_ec_tanimoto_similarity  5323 non-null   float64\n",
      " 41  Xtransf_fc_tanimoto_similarity  5323 non-null   float64\n",
      " 42  is_valid                        5323 non-null   bool   \n",
      "dtypes: bool(1), float64(6), int64(30), object(6)\n",
      "memory usage: 1.7+ MB\n"
     ]
    }
   ],
   "source": [
    "valid.info()"
   ]
  },
  {
   "cell_type": "code",
   "execution_count": 11,
   "id": "fb7fc361",
   "metadata": {},
   "outputs": [
    {
     "data": {
      "text/html": [
       "<div>\n",
       "<style scoped>\n",
       "    .dataframe tbody tr th:only-of-type {\n",
       "        vertical-align: middle;\n",
       "    }\n",
       "\n",
       "    .dataframe tbody tr th {\n",
       "        vertical-align: top;\n",
       "    }\n",
       "\n",
       "    .dataframe thead th {\n",
       "        text-align: right;\n",
       "    }\n",
       "</style>\n",
       "<table border=\"1\" class=\"dataframe\">\n",
       "  <thead>\n",
       "    <tr style=\"text-align: right;\">\n",
       "      <th></th>\n",
       "      <th>Unnamed: 0</th>\n",
       "      <th>template</th>\n",
       "      <th>docked</th>\n",
       "      <th>rmsd</th>\n",
       "      <th>uniprot_id</th>\n",
       "      <th>smiles_template</th>\n",
       "      <th>smiles_docked</th>\n",
       "      <th>mcs_smartsString</th>\n",
       "      <th>template_HeavyAtomCount</th>\n",
       "      <th>template_NHOHCount</th>\n",
       "      <th>...</th>\n",
       "      <th>mcs_docked_NumHDonors</th>\n",
       "      <th>mcs_template_NumRotatableBonds</th>\n",
       "      <th>mcs_docked_NumRotatableBonds</th>\n",
       "      <th>ec_tanimoto_similarity</th>\n",
       "      <th>fc_tanimoto_similarity</th>\n",
       "      <th>log_RMSD</th>\n",
       "      <th>bin_RMSD</th>\n",
       "      <th>Xtransf_ec_tanimoto_similarity</th>\n",
       "      <th>Xtransf_fc_tanimoto_similarity</th>\n",
       "      <th>is_valid</th>\n",
       "    </tr>\n",
       "  </thead>\n",
       "  <tbody>\n",
       "    <tr>\n",
       "      <th>0</th>\n",
       "      <td>1</td>\n",
       "      <td>2JH5_895</td>\n",
       "      <td>1C5O_BAM</td>\n",
       "      <td>3.209</td>\n",
       "      <td>P00734</td>\n",
       "      <td>C[C@@H](C(=O)N1CCOCC1)N1CC[C@H](NS(=O)(=O)/C=C...</td>\n",
       "      <td>NC(=[NH2+])c1ccccc1</td>\n",
       "      <td>[#7]-[#6]-[#6]:,-[#6]:,-[#6]</td>\n",
       "      <td>28</td>\n",
       "      <td>1</td>\n",
       "      <td>...</td>\n",
       "      <td>1</td>\n",
       "      <td>0</td>\n",
       "      <td>1</td>\n",
       "      <td>0.050847</td>\n",
       "      <td>0.059829</td>\n",
       "      <td>1.165959</td>\n",
       "      <td>3</td>\n",
       "      <td>-1.491525</td>\n",
       "      <td>-2.401709</td>\n",
       "      <td>False</td>\n",
       "    </tr>\n",
       "    <tr>\n",
       "      <th>1</th>\n",
       "      <td>2</td>\n",
       "      <td>5Y12_8JX</td>\n",
       "      <td>1TOW_CRZ</td>\n",
       "      <td>1.769</td>\n",
       "      <td>P15090</td>\n",
       "      <td>COc1ccc(S(=O)(=O)NCCCCC(=O)O)c2ccccc12</td>\n",
       "      <td>O=C(O)CCCn1c2ccccc2c2ccccc21</td>\n",
       "      <td>[#6]1:[#6]:[#6]:[#6]:[#6]:[#6]:1:[#6]:[#6]:[#6...</td>\n",
       "      <td>23</td>\n",
       "      <td>2</td>\n",
       "      <td>...</td>\n",
       "      <td>0</td>\n",
       "      <td>0</td>\n",
       "      <td>0</td>\n",
       "      <td>0.324561</td>\n",
       "      <td>0.324561</td>\n",
       "      <td>0.570414</td>\n",
       "      <td>1</td>\n",
       "      <td>1.245614</td>\n",
       "      <td>0.245614</td>\n",
       "      <td>False</td>\n",
       "    </tr>\n",
       "    <tr>\n",
       "      <th>2</th>\n",
       "      <td>4</td>\n",
       "      <td>2W26_RIV</td>\n",
       "      <td>2Y80_439</td>\n",
       "      <td>7.217</td>\n",
       "      <td>P00742</td>\n",
       "      <td>O=C(NC[C@H]1CN(c2ccc(N3CCOCC3=O)cc2)C(=O)O1)c1...</td>\n",
       "      <td>CN(C)[C@@H]1CCc2cc(N3CC[C@H](NS(=O)(=O)c4ccc5c...</td>\n",
       "      <td>[#7]-[#6]-[#6]-[#6]-[#7](-[#6]1:[#6]:[#6]:[#6]...</td>\n",
       "      <td>29</td>\n",
       "      <td>1</td>\n",
       "      <td>...</td>\n",
       "      <td>1</td>\n",
       "      <td>3</td>\n",
       "      <td>2</td>\n",
       "      <td>0.187166</td>\n",
       "      <td>0.283237</td>\n",
       "      <td>1.976439</td>\n",
       "      <td>3</td>\n",
       "      <td>-0.128342</td>\n",
       "      <td>-0.167630</td>\n",
       "      <td>False</td>\n",
       "    </tr>\n",
       "    <tr>\n",
       "      <th>3</th>\n",
       "      <td>5</td>\n",
       "      <td>1C1U_BAI</td>\n",
       "      <td>2C8W_C7M</td>\n",
       "      <td>4.928</td>\n",
       "      <td>P00734</td>\n",
       "      <td>N=C(N)c1ccc2[nH]c(Cc3nc4ccccc4[nH]3)nc2c1</td>\n",
       "      <td>COc1ccc(S(=O)(=O)NC[C@@H](O)[C@H](Cc2ccccc2)[N...</td>\n",
       "      <td>[#6]-,:[#6]:[#6]:[#6]:[#6](:,-[#7]:,-[#6]):[#6...</td>\n",
       "      <td>22</td>\n",
       "      <td>5</td>\n",
       "      <td>...</td>\n",
       "      <td>0</td>\n",
       "      <td>1</td>\n",
       "      <td>2</td>\n",
       "      <td>0.139037</td>\n",
       "      <td>0.157609</td>\n",
       "      <td>1.594933</td>\n",
       "      <td>3</td>\n",
       "      <td>-0.609626</td>\n",
       "      <td>-1.423913</td>\n",
       "      <td>False</td>\n",
       "    </tr>\n",
       "    <tr>\n",
       "      <th>4</th>\n",
       "      <td>6</td>\n",
       "      <td>5AFY_WCE</td>\n",
       "      <td>3SV2_P05</td>\n",
       "      <td>7.608</td>\n",
       "      <td>P00734</td>\n",
       "      <td>NC(=O)c1cccc(Cl)c1</td>\n",
       "      <td>N[C@H](Cc1ccccc1)C(=O)N1CCC[C@H]1C(=O)NCc1ccncc1</td>\n",
       "      <td>[#7]-[#6](=[#8])-[#6]:,-[#6]:,-[#6]:[#6]:[#6]:...</td>\n",
       "      <td>10</td>\n",
       "      <td>2</td>\n",
       "      <td>...</td>\n",
       "      <td>0</td>\n",
       "      <td>1</td>\n",
       "      <td>4</td>\n",
       "      <td>0.116071</td>\n",
       "      <td>0.157407</td>\n",
       "      <td>2.029200</td>\n",
       "      <td>3</td>\n",
       "      <td>-0.839286</td>\n",
       "      <td>-1.425926</td>\n",
       "      <td>False</td>\n",
       "    </tr>\n",
       "  </tbody>\n",
       "</table>\n",
       "<p>5 rows × 43 columns</p>\n",
       "</div>"
      ],
      "text/plain": [
       "   Unnamed: 0  template    docked   rmsd uniprot_id  \\\n",
       "0           1  2JH5_895  1C5O_BAM  3.209     P00734   \n",
       "1           2  5Y12_8JX  1TOW_CRZ  1.769     P15090   \n",
       "2           4  2W26_RIV  2Y80_439  7.217     P00742   \n",
       "3           5  1C1U_BAI  2C8W_C7M  4.928     P00734   \n",
       "4           6  5AFY_WCE  3SV2_P05  7.608     P00734   \n",
       "\n",
       "                                     smiles_template  \\\n",
       "0  C[C@@H](C(=O)N1CCOCC1)N1CC[C@H](NS(=O)(=O)/C=C...   \n",
       "1             COc1ccc(S(=O)(=O)NCCCCC(=O)O)c2ccccc12   \n",
       "2  O=C(NC[C@H]1CN(c2ccc(N3CCOCC3=O)cc2)C(=O)O1)c1...   \n",
       "3          N=C(N)c1ccc2[nH]c(Cc3nc4ccccc4[nH]3)nc2c1   \n",
       "4                                 NC(=O)c1cccc(Cl)c1   \n",
       "\n",
       "                                       smiles_docked  \\\n",
       "0                                NC(=[NH2+])c1ccccc1   \n",
       "1                       O=C(O)CCCn1c2ccccc2c2ccccc21   \n",
       "2  CN(C)[C@@H]1CCc2cc(N3CC[C@H](NS(=O)(=O)c4ccc5c...   \n",
       "3  COc1ccc(S(=O)(=O)NC[C@@H](O)[C@H](Cc2ccccc2)[N...   \n",
       "4   N[C@H](Cc1ccccc1)C(=O)N1CCC[C@H]1C(=O)NCc1ccncc1   \n",
       "\n",
       "                                    mcs_smartsString  template_HeavyAtomCount  \\\n",
       "0                       [#7]-[#6]-[#6]:,-[#6]:,-[#6]                       28   \n",
       "1  [#6]1:[#6]:[#6]:[#6]:[#6]:[#6]:1:[#6]:[#6]:[#6...                       23   \n",
       "2  [#7]-[#6]-[#6]-[#6]-[#7](-[#6]1:[#6]:[#6]:[#6]...                       29   \n",
       "3  [#6]-,:[#6]:[#6]:[#6]:[#6](:,-[#7]:,-[#6]):[#6...                       22   \n",
       "4  [#7]-[#6](=[#8])-[#6]:,-[#6]:,-[#6]:[#6]:[#6]:...                       10   \n",
       "\n",
       "   template_NHOHCount  ...  mcs_docked_NumHDonors  \\\n",
       "0                   1  ...                      1   \n",
       "1                   2  ...                      0   \n",
       "2                   1  ...                      1   \n",
       "3                   5  ...                      0   \n",
       "4                   2  ...                      0   \n",
       "\n",
       "   mcs_template_NumRotatableBonds  mcs_docked_NumRotatableBonds  \\\n",
       "0                               0                             1   \n",
       "1                               0                             0   \n",
       "2                               3                             2   \n",
       "3                               1                             2   \n",
       "4                               1                             4   \n",
       "\n",
       "   ec_tanimoto_similarity  fc_tanimoto_similarity  log_RMSD  bin_RMSD  \\\n",
       "0                0.050847                0.059829  1.165959         3   \n",
       "1                0.324561                0.324561  0.570414         1   \n",
       "2                0.187166                0.283237  1.976439         3   \n",
       "3                0.139037                0.157609  1.594933         3   \n",
       "4                0.116071                0.157407  2.029200         3   \n",
       "\n",
       "   Xtransf_ec_tanimoto_similarity  Xtransf_fc_tanimoto_similarity  is_valid  \n",
       "0                       -1.491525                       -2.401709     False  \n",
       "1                        1.245614                        0.245614     False  \n",
       "2                       -0.128342                       -0.167630     False  \n",
       "3                       -0.609626                       -1.423913     False  \n",
       "4                       -0.839286                       -1.425926     False  \n",
       "\n",
       "[5 rows x 43 columns]"
      ]
     },
     "execution_count": 11,
     "metadata": {},
     "output_type": "execute_result"
    }
   ],
   "source": [
    "train.head()"
   ]
  },
  {
   "cell_type": "markdown",
   "id": "4f59daa4",
   "metadata": {},
   "source": [
    "# Preprocessing building ImageDataGenerator"
   ]
  },
  {
   "cell_type": "code",
   "execution_count": 12,
   "id": "809b5437",
   "metadata": {},
   "outputs": [
    {
     "name": "stderr",
     "output_type": "stream",
     "text": [
      "2022-02-02 17:39:01.301272: I tensorflow/stream_executor/platform/default/dso_loader.cc:49] Successfully opened dynamic library libcudart.so.10.1\n"
     ]
    }
   ],
   "source": [
    "import matplotlib.pyplot as plt\n",
    "import numpy as np\n",
    "import os\n",
    "import random\n",
    "import tensorflow as tf\n",
    "from pathlib import Path\n",
    "from tensorflow.keras import applications\n",
    "from tensorflow.keras import layers\n",
    "from tensorflow.keras import losses\n",
    "from tensorflow.keras import optimizers\n",
    "from tensorflow.keras import metrics\n",
    "from tensorflow.keras import Model\n",
    "from tensorflow.keras.applications import resnet"
   ]
  },
  {
   "cell_type": "markdown",
   "id": "664cc219",
   "metadata": {},
   "source": [
    "### Splitting the data into train and validation sets"
   ]
  },
  {
   "cell_type": "code",
   "execution_count": 13,
   "id": "59928f03",
   "metadata": {
    "scrolled": true
   },
   "outputs": [
    {
     "name": "stdout",
     "output_type": "stream",
     "text": [
      "<class 'pandas.core.frame.DataFrame'>\n",
      "RangeIndex: 19625 entries, 0 to 19624\n",
      "Data columns (total 45 columns):\n",
      " #   Column                          Non-Null Count  Dtype  \n",
      "---  ------                          --------------  -----  \n",
      " 0   Unnamed: 0                      19625 non-null  int64  \n",
      " 1   template                        19625 non-null  object \n",
      " 2   docked                          19625 non-null  object \n",
      " 3   rmsd                            19625 non-null  float64\n",
      " 4   uniprot_id                      19625 non-null  object \n",
      " 5   smiles_template                 19625 non-null  object \n",
      " 6   smiles_docked                   19625 non-null  object \n",
      " 7   mcs_smartsString                19625 non-null  object \n",
      " 8   template_HeavyAtomCount         19625 non-null  int64  \n",
      " 9   template_NHOHCount              19625 non-null  int64  \n",
      " 10  template_NOCount                19625 non-null  int64  \n",
      " 11  template_RingCount              19625 non-null  int64  \n",
      " 12  template_NumHAcceptors          19625 non-null  int64  \n",
      " 13  template_NumHDonors             19625 non-null  int64  \n",
      " 14  template_NumHeteroAtoms         19625 non-null  int64  \n",
      " 15  template_NumRotatableBonds      19625 non-null  int64  \n",
      " 16  docked_HeavyAtomCount           19625 non-null  int64  \n",
      " 17  docked_NHOHCount                19625 non-null  int64  \n",
      " 18  docked_NOCount                  19625 non-null  int64  \n",
      " 19  docked_RingCount                19625 non-null  int64  \n",
      " 20  docked_NumHAcceptors            19625 non-null  int64  \n",
      " 21  docked_NumHDonors               19625 non-null  int64  \n",
      " 22  docked_NumHeteroAtoms           19625 non-null  int64  \n",
      " 23  docked_NumRotatableBonds        19625 non-null  int64  \n",
      " 24  mcs_HeavyAtomCount              19625 non-null  int64  \n",
      " 25  mcs_NOCount                     19625 non-null  int64  \n",
      " 26  mcs_RingCount                   19625 non-null  int64  \n",
      " 27  mcs_NumHeteroAtoms              19625 non-null  int64  \n",
      " 28  mcs_template_NHOHCount          19625 non-null  int64  \n",
      " 29  mcs_docked_NHOHCount            19625 non-null  int64  \n",
      " 30  mcs_template_NumHAcceptors      19625 non-null  int64  \n",
      " 31  mcs_docked_NumHAcceptors        19625 non-null  int64  \n",
      " 32  mcs_template_NumHDonors         19625 non-null  int64  \n",
      " 33  mcs_docked_NumHDonors           19625 non-null  int64  \n",
      " 34  mcs_template_NumRotatableBonds  19625 non-null  int64  \n",
      " 35  mcs_docked_NumRotatableBonds    19625 non-null  int64  \n",
      " 36  ec_tanimoto_similarity          19625 non-null  float64\n",
      " 37  fc_tanimoto_similarity          19625 non-null  float64\n",
      " 38  log_RMSD                        19625 non-null  float64\n",
      " 39  bin_RMSD                        19625 non-null  int64  \n",
      " 40  Xtransf_ec_tanimoto_similarity  19625 non-null  float64\n",
      " 41  Xtransf_fc_tanimoto_similarity  19625 non-null  float64\n",
      " 42  is_valid                        19625 non-null  bool   \n",
      " 43  img_temp                        19625 non-null  object \n",
      " 44  img_docked                      19625 non-null  object \n",
      "dtypes: bool(1), float64(6), int64(30), object(8)\n",
      "memory usage: 6.6+ MB\n"
     ]
    }
   ],
   "source": [
    "train['img_temp'] = train['template'] + '.png'\n",
    "train['img_docked'] = train['docked'] + '.png'\n",
    "train['is_valid'] = False\n",
    "train.info()"
   ]
  },
  {
   "cell_type": "code",
   "execution_count": 14,
   "id": "352ed10d",
   "metadata": {
    "scrolled": true
   },
   "outputs": [
    {
     "name": "stdout",
     "output_type": "stream",
     "text": [
      "<class 'pandas.core.frame.DataFrame'>\n",
      "RangeIndex: 5323 entries, 0 to 5322\n",
      "Data columns (total 45 columns):\n",
      " #   Column                          Non-Null Count  Dtype  \n",
      "---  ------                          --------------  -----  \n",
      " 0   Unnamed: 0                      5323 non-null   int64  \n",
      " 1   template                        5323 non-null   object \n",
      " 2   docked                          5323 non-null   object \n",
      " 3   rmsd                            5323 non-null   float64\n",
      " 4   uniprot_id                      5323 non-null   object \n",
      " 5   smiles_template                 5323 non-null   object \n",
      " 6   smiles_docked                   5323 non-null   object \n",
      " 7   mcs_smartsString                5323 non-null   object \n",
      " 8   template_HeavyAtomCount         5323 non-null   int64  \n",
      " 9   template_NHOHCount              5323 non-null   int64  \n",
      " 10  template_NOCount                5323 non-null   int64  \n",
      " 11  template_RingCount              5323 non-null   int64  \n",
      " 12  template_NumHAcceptors          5323 non-null   int64  \n",
      " 13  template_NumHDonors             5323 non-null   int64  \n",
      " 14  template_NumHeteroAtoms         5323 non-null   int64  \n",
      " 15  template_NumRotatableBonds      5323 non-null   int64  \n",
      " 16  docked_HeavyAtomCount           5323 non-null   int64  \n",
      " 17  docked_NHOHCount                5323 non-null   int64  \n",
      " 18  docked_NOCount                  5323 non-null   int64  \n",
      " 19  docked_RingCount                5323 non-null   int64  \n",
      " 20  docked_NumHAcceptors            5323 non-null   int64  \n",
      " 21  docked_NumHDonors               5323 non-null   int64  \n",
      " 22  docked_NumHeteroAtoms           5323 non-null   int64  \n",
      " 23  docked_NumRotatableBonds        5323 non-null   int64  \n",
      " 24  mcs_HeavyAtomCount              5323 non-null   int64  \n",
      " 25  mcs_NOCount                     5323 non-null   int64  \n",
      " 26  mcs_RingCount                   5323 non-null   int64  \n",
      " 27  mcs_NumHeteroAtoms              5323 non-null   int64  \n",
      " 28  mcs_template_NHOHCount          5323 non-null   int64  \n",
      " 29  mcs_docked_NHOHCount            5323 non-null   int64  \n",
      " 30  mcs_template_NumHAcceptors      5323 non-null   int64  \n",
      " 31  mcs_docked_NumHAcceptors        5323 non-null   int64  \n",
      " 32  mcs_template_NumHDonors         5323 non-null   int64  \n",
      " 33  mcs_docked_NumHDonors           5323 non-null   int64  \n",
      " 34  mcs_template_NumRotatableBonds  5323 non-null   int64  \n",
      " 35  mcs_docked_NumRotatableBonds    5323 non-null   int64  \n",
      " 36  ec_tanimoto_similarity          5323 non-null   float64\n",
      " 37  fc_tanimoto_similarity          5323 non-null   float64\n",
      " 38  log_RMSD                        5323 non-null   float64\n",
      " 39  bin_RMSD                        5323 non-null   int64  \n",
      " 40  Xtransf_ec_tanimoto_similarity  5323 non-null   float64\n",
      " 41  Xtransf_fc_tanimoto_similarity  5323 non-null   float64\n",
      " 42  is_valid                        5323 non-null   bool   \n",
      " 43  img_temp                        5323 non-null   object \n",
      " 44  img_docked                      5323 non-null   object \n",
      "dtypes: bool(1), float64(6), int64(30), object(8)\n",
      "memory usage: 1.8+ MB\n"
     ]
    }
   ],
   "source": [
    "valid['img_temp'] = valid['template'] + '.png'\n",
    "valid['img_docked'] = valid['docked'] + '.png'\n",
    "valid['is_valid'] = True\n",
    "valid.info()"
   ]
  },
  {
   "cell_type": "code",
   "execution_count": 15,
   "id": "a313685b",
   "metadata": {
    "scrolled": true
   },
   "outputs": [],
   "source": [
    "# image size 224,224\n",
    "target_shape=(224, 224)"
   ]
  },
  {
   "cell_type": "code",
   "execution_count": 16,
   "id": "bac8df9e",
   "metadata": {},
   "outputs": [],
   "source": [
    "IMAGES = '../dataset/oldsmiledata/mol_images/all/'"
   ]
  },
  {
   "cell_type": "code",
   "execution_count": 17,
   "id": "87693386",
   "metadata": {},
   "outputs": [],
   "source": [
    "def preprocess_image(filename):\n",
    "    img_str = tf.io.read_file(IMAGES + filename)\n",
    "    image = tf.image.decode_png(img_str, channels=3)\n",
    "    image = tf.image.convert_image_dtype(image, tf.float32)\n",
    "    image = tf.image.resize(image, target_shape)\n",
    "    #image = tf.transpose(image)\n",
    "    return image"
   ]
  },
  {
   "cell_type": "code",
   "execution_count": 18,
   "id": "c932c106",
   "metadata": {},
   "outputs": [
    {
     "name": "stderr",
     "output_type": "stream",
     "text": [
      "2022-02-02 17:39:02.075759: I tensorflow/compiler/jit/xla_cpu_device.cc:41] Not creating XLA devices, tf_xla_enable_xla_devices not set\n",
      "2022-02-02 17:39:02.077182: I tensorflow/stream_executor/platform/default/dso_loader.cc:49] Successfully opened dynamic library libcuda.so.1\n",
      "2022-02-02 17:39:02.106480: I tensorflow/stream_executor/cuda/cuda_gpu_executor.cc:941] successful NUMA node read from SysFS had negative value (-1), but there must be at least one NUMA node, so returning NUMA node zero\n",
      "2022-02-02 17:39:02.106759: I tensorflow/core/common_runtime/gpu/gpu_device.cc:1720] Found device 0 with properties: \n",
      "pciBusID: 0000:01:00.0 name: GeForce GTX 1080 computeCapability: 6.1\n",
      "coreClock: 1.8225GHz coreCount: 20 deviceMemorySize: 7.93GiB deviceMemoryBandwidth: 298.32GiB/s\n",
      "2022-02-02 17:39:02.106778: I tensorflow/stream_executor/platform/default/dso_loader.cc:49] Successfully opened dynamic library libcudart.so.10.1\n",
      "2022-02-02 17:39:02.107789: I tensorflow/stream_executor/platform/default/dso_loader.cc:49] Successfully opened dynamic library libcublas.so.10\n",
      "2022-02-02 17:39:02.107817: I tensorflow/stream_executor/platform/default/dso_loader.cc:49] Successfully opened dynamic library libcublasLt.so.10\n",
      "2022-02-02 17:39:02.108899: I tensorflow/stream_executor/platform/default/dso_loader.cc:49] Successfully opened dynamic library libcufft.so.10\n",
      "2022-02-02 17:39:02.109071: I tensorflow/stream_executor/platform/default/dso_loader.cc:49] Successfully opened dynamic library libcurand.so.10\n",
      "2022-02-02 17:39:02.110430: I tensorflow/stream_executor/platform/default/dso_loader.cc:49] Successfully opened dynamic library libcusolver.so.10\n",
      "2022-02-02 17:39:02.111174: I tensorflow/stream_executor/platform/default/dso_loader.cc:49] Successfully opened dynamic library libcusparse.so.10\n",
      "2022-02-02 17:39:02.114288: I tensorflow/stream_executor/platform/default/dso_loader.cc:49] Successfully opened dynamic library libcudnn.so.7\n",
      "2022-02-02 17:39:02.114440: I tensorflow/stream_executor/cuda/cuda_gpu_executor.cc:941] successful NUMA node read from SysFS had negative value (-1), but there must be at least one NUMA node, so returning NUMA node zero\n",
      "2022-02-02 17:39:02.114784: I tensorflow/stream_executor/cuda/cuda_gpu_executor.cc:941] successful NUMA node read from SysFS had negative value (-1), but there must be at least one NUMA node, so returning NUMA node zero\n",
      "2022-02-02 17:39:02.115018: I tensorflow/core/common_runtime/gpu/gpu_device.cc:1862] Adding visible gpu devices: 0\n",
      "2022-02-02 17:39:02.115402: I tensorflow/core/platform/cpu_feature_guard.cc:142] This TensorFlow binary is optimized with oneAPI Deep Neural Network Library (oneDNN) to use the following CPU instructions in performance-critical operations:  SSE4.1 SSE4.2 AVX AVX2 FMA\n",
      "To enable them in other operations, rebuild TensorFlow with the appropriate compiler flags.\n",
      "2022-02-02 17:39:02.115875: I tensorflow/stream_executor/cuda/cuda_gpu_executor.cc:941] successful NUMA node read from SysFS had negative value (-1), but there must be at least one NUMA node, so returning NUMA node zero\n",
      "2022-02-02 17:39:02.116121: I tensorflow/core/common_runtime/gpu/gpu_device.cc:1720] Found device 0 with properties: \n",
      "pciBusID: 0000:01:00.0 name: GeForce GTX 1080 computeCapability: 6.1\n",
      "coreClock: 1.8225GHz coreCount: 20 deviceMemorySize: 7.93GiB deviceMemoryBandwidth: 298.32GiB/s\n",
      "2022-02-02 17:39:02.116146: I tensorflow/stream_executor/platform/default/dso_loader.cc:49] Successfully opened dynamic library libcudart.so.10.1\n",
      "2022-02-02 17:39:02.116161: I tensorflow/stream_executor/platform/default/dso_loader.cc:49] Successfully opened dynamic library libcublas.so.10\n",
      "2022-02-02 17:39:02.116171: I tensorflow/stream_executor/platform/default/dso_loader.cc:49] Successfully opened dynamic library libcublasLt.so.10\n",
      "2022-02-02 17:39:02.116181: I tensorflow/stream_executor/platform/default/dso_loader.cc:49] Successfully opened dynamic library libcufft.so.10\n",
      "2022-02-02 17:39:02.116191: I tensorflow/stream_executor/platform/default/dso_loader.cc:49] Successfully opened dynamic library libcurand.so.10\n",
      "2022-02-02 17:39:02.116201: I tensorflow/stream_executor/platform/default/dso_loader.cc:49] Successfully opened dynamic library libcusolver.so.10\n",
      "2022-02-02 17:39:02.116212: I tensorflow/stream_executor/platform/default/dso_loader.cc:49] Successfully opened dynamic library libcusparse.so.10\n",
      "2022-02-02 17:39:02.116223: I tensorflow/stream_executor/platform/default/dso_loader.cc:49] Successfully opened dynamic library libcudnn.so.7\n",
      "2022-02-02 17:39:02.116262: I tensorflow/stream_executor/cuda/cuda_gpu_executor.cc:941] successful NUMA node read from SysFS had negative value (-1), but there must be at least one NUMA node, so returning NUMA node zero\n",
      "2022-02-02 17:39:02.116524: I tensorflow/stream_executor/cuda/cuda_gpu_executor.cc:941] successful NUMA node read from SysFS had negative value (-1), but there must be at least one NUMA node, so returning NUMA node zero\n",
      "2022-02-02 17:39:02.116750: I tensorflow/core/common_runtime/gpu/gpu_device.cc:1862] Adding visible gpu devices: 0\n",
      "2022-02-02 17:39:02.116782: I tensorflow/stream_executor/platform/default/dso_loader.cc:49] Successfully opened dynamic library libcudart.so.10.1\n",
      "2022-02-02 17:39:02.481994: I tensorflow/core/common_runtime/gpu/gpu_device.cc:1261] Device interconnect StreamExecutor with strength 1 edge matrix:\n",
      "2022-02-02 17:39:02.482015: I tensorflow/core/common_runtime/gpu/gpu_device.cc:1267]      0 \n",
      "2022-02-02 17:39:02.482019: I tensorflow/core/common_runtime/gpu/gpu_device.cc:1280] 0:   N \n",
      "2022-02-02 17:39:02.482180: I tensorflow/stream_executor/cuda/cuda_gpu_executor.cc:941] successful NUMA node read from SysFS had negative value (-1), but there must be at least one NUMA node, so returning NUMA node zero\n",
      "2022-02-02 17:39:02.482495: I tensorflow/stream_executor/cuda/cuda_gpu_executor.cc:941] successful NUMA node read from SysFS had negative value (-1), but there must be at least one NUMA node, so returning NUMA node zero\n",
      "2022-02-02 17:39:02.482761: I tensorflow/stream_executor/cuda/cuda_gpu_executor.cc:941] successful NUMA node read from SysFS had negative value (-1), but there must be at least one NUMA node, so returning NUMA node zero\n",
      "2022-02-02 17:39:02.483005: I tensorflow/core/common_runtime/gpu/gpu_device.cc:1406] Created TensorFlow device (/job:localhost/replica:0/task:0/device:GPU:0 with 6902 MB memory) -> physical GPU (device: 0, name: GeForce GTX 1080, pci bus id: 0000:01:00.0, compute capability: 6.1)\n",
      "2022-02-02 17:39:02.483213: I tensorflow/compiler/jit/xla_gpu_device.cc:99] Not creating XLA devices, tf_xla_enable_xla_devices not set\n"
     ]
    },
    {
     "data": {
      "text/plain": [
       "TensorShape([224, 224, 3])"
      ]
     },
     "execution_count": 18,
     "metadata": {},
     "output_type": "execute_result"
    }
   ],
   "source": [
    "preprocess_image(train.img_temp[0]).shape"
   ]
  },
  {
   "cell_type": "code",
   "execution_count": 19,
   "id": "68ae7d9b",
   "metadata": {},
   "outputs": [],
   "source": [
    "def preprocess_triplets(template, docked, negative):\n",
    "    \"\"\"\n",
    "    Given the filenames corresponding to the three images, load and\n",
    "    preprocess them.\n",
    "    \"\"\"\n",
    "\n",
    "    return (preprocess_image(template), preprocess_image(docked), preprocess_image(negative))\n",
    "    "
   ]
  },
  {
   "cell_type": "code",
   "execution_count": 20,
   "id": "24fccb0c",
   "metadata": {},
   "outputs": [],
   "source": [
    "def preprocess_triplets_2(tup, negative):\n",
    "    \"\"\"\n",
    "    Given the filenames corresponding to the three images, load and\n",
    "    preprocess them.\n",
    "    \"\"\"\n",
    "\n",
    "    return (preprocess_image(tup[0]),\n",
    "        preprocess_image(tup[1]),\n",
    "        preprocess_image(negative))"
   ]
  },
  {
   "cell_type": "code",
   "execution_count": 21,
   "id": "6ac49a9a",
   "metadata": {},
   "outputs": [
    {
     "data": {
      "text/plain": [
       "TensorShape([224, 224, 3])"
      ]
     },
     "execution_count": 21,
     "metadata": {},
     "output_type": "execute_result"
    }
   ],
   "source": [
    "image = preprocess_image('/4A7I_A7I.png')\n",
    "image.shape"
   ]
  },
  {
   "cell_type": "code",
   "execution_count": 22,
   "id": "b6922b90",
   "metadata": {},
   "outputs": [],
   "source": [
    "train_template_images = [r.img_temp for i, r in train.iterrows()]"
   ]
  },
  {
   "cell_type": "code",
   "execution_count": 23,
   "id": "d139b148",
   "metadata": {},
   "outputs": [],
   "source": [
    "train_docked_images = [r.img_docked for i, r in train.iterrows()]"
   ]
  },
  {
   "cell_type": "code",
   "execution_count": 24,
   "id": "aecee4fd",
   "metadata": {},
   "outputs": [
    {
     "data": {
      "text/plain": [
       "(19625, 19625)"
      ]
     },
     "execution_count": 24,
     "metadata": {},
     "output_type": "execute_result"
    }
   ],
   "source": [
    "len(train_template_images), len(train_docked_images)"
   ]
  },
  {
   "cell_type": "code",
   "execution_count": 25,
   "id": "a0386de5",
   "metadata": {},
   "outputs": [],
   "source": [
    "valid_template_images = [r.img_temp for i, r in valid.iterrows()]\n",
    "valid_docked_images = [r.img_docked for i, r in valid.iterrows()]"
   ]
  },
  {
   "cell_type": "code",
   "execution_count": 26,
   "id": "60054fa0",
   "metadata": {},
   "outputs": [],
   "source": [
    "negative_images = train_template_images + train_docked_images\n",
    "np.random.RandomState(seed=32).shuffle(negative_images)\n",
    "\n",
    "negative_dataset = tf.data.Dataset.from_tensor_slices(negative_images)\n",
    "negative_dataset = negative_dataset.shuffle(buffer_size=4096)"
   ]
  },
  {
   "cell_type": "code",
   "execution_count": 27,
   "id": "db90abfd",
   "metadata": {},
   "outputs": [],
   "source": [
    "val_negative_images = valid_template_images + valid_docked_images\n",
    "np.random.RandomState(seed=32).shuffle(negative_images)\n",
    "\n",
    "val_negative_dataset = tf.data.Dataset.from_tensor_slices(negative_images)\n",
    "val_negative_dataset = negative_dataset.shuffle(buffer_size=4096)"
   ]
  },
  {
   "cell_type": "code",
   "execution_count": 28,
   "id": "116b5c32",
   "metadata": {},
   "outputs": [
    {
     "data": {
      "text/plain": [
       "24948"
      ]
     },
     "execution_count": 28,
     "metadata": {},
     "output_type": "execute_result"
    }
   ],
   "source": [
    "image_count = len(train_template_images) + len(valid_template_images)\n",
    "image_count"
   ]
  },
  {
   "cell_type": "code",
   "execution_count": 29,
   "id": "3917c506",
   "metadata": {},
   "outputs": [],
   "source": [
    "template_dataset = tf.data.Dataset.from_tensor_slices(train_template_images)\n",
    "docked_dataset = tf.data.Dataset.from_tensor_slices(train_docked_images)"
   ]
  },
  {
   "cell_type": "code",
   "execution_count": 30,
   "id": "e9fb064e",
   "metadata": {},
   "outputs": [],
   "source": [
    "val_template_dataset = tf.data.Dataset.from_tensor_slices(valid_template_images)\n",
    "val_docked_dataset = tf.data.Dataset.from_tensor_slices(valid_docked_images)"
   ]
  },
  {
   "cell_type": "code",
   "execution_count": 31,
   "id": "c634d16a",
   "metadata": {},
   "outputs": [],
   "source": [
    "y_train = train['log_RMSD']\n",
    "y_train = tf.data.Dataset.from_tensor_slices(list(y_train))\n"
   ]
  },
  {
   "cell_type": "code",
   "execution_count": 32,
   "id": "6ee52781",
   "metadata": {},
   "outputs": [],
   "source": [
    "y_valid = valid['log_RMSD']\n",
    "y_valid = tf.data.Dataset.from_tensor_slices(list(y_train))"
   ]
  },
  {
   "cell_type": "markdown",
   "id": "339e769b",
   "metadata": {},
   "source": [
    "### Create the train and validation datasets"
   ]
  },
  {
   "cell_type": "code",
   "execution_count": 33,
   "id": "6cee0ffa",
   "metadata": {},
   "outputs": [
    {
     "data": {
      "text/plain": [
       "(<ZipDataset shapes: ((), (), ()), types: (tf.string, tf.string, tf.string)>,\n",
       " <ZipDataset shapes: ((), (), ()), types: (tf.string, tf.string, tf.string)>)"
      ]
     },
     "execution_count": 33,
     "metadata": {},
     "output_type": "execute_result"
    }
   ],
   "source": [
    "train_dataset = tf.data.Dataset.zip((docked_dataset, template_dataset,  negative_dataset))\n",
    "#train_dataset = tf.data.Dataset.zip((train_dataset, negative_dataset))\n",
    "valid_dataset = tf.data.Dataset.zip((val_docked_dataset, val_template_dataset, val_negative_dataset))\n",
    "#valid_dataset = tf.data.Dataset.zip((valid_dataset, val_negative_dataset))\n",
    "train_dataset, valid_dataset"
   ]
  },
  {
   "cell_type": "code",
   "execution_count": 34,
   "id": "149d4399",
   "metadata": {},
   "outputs": [
    {
     "data": {
      "text/plain": [
       "<TakeDataset shapes: ((), (), ()), types: (tf.string, tf.string, tf.string)>"
      ]
     },
     "execution_count": 34,
     "metadata": {},
     "output_type": "execute_result"
    }
   ],
   "source": [
    "train_dataset = train_dataset.take(round(image_count * 1))\n",
    "train_dataset"
   ]
  },
  {
   "cell_type": "code",
   "execution_count": 35,
   "id": "c5504d23",
   "metadata": {},
   "outputs": [
    {
     "data": {
      "text/plain": [
       "(<MapDataset shapes: ((224, 224, 3), (224, 224, 3), (224, 224, 3)), types: (tf.float32, tf.float32, tf.float32)>,\n",
       " <MapDataset shapes: ((224, 224, 3), (224, 224, 3), (224, 224, 3)), types: (tf.float32, tf.float32, tf.float32)>)"
      ]
     },
     "execution_count": 35,
     "metadata": {},
     "output_type": "execute_result"
    }
   ],
   "source": [
    "train_dataset = train_dataset.map(preprocess_triplets)\n",
    "val_dataset = valid_dataset.map(preprocess_triplets)\n",
    "train_dataset, val_dataset"
   ]
  },
  {
   "cell_type": "code",
   "execution_count": 36,
   "id": "125c0a00",
   "metadata": {},
   "outputs": [
    {
     "data": {
      "text/plain": [
       "<PrefetchDataset shapes: ((32, 224, 224, 3), (32, 224, 224, 3), (32, 224, 224, 3)), types: (tf.float32, tf.float32, tf.float32)>"
      ]
     },
     "execution_count": 36,
     "metadata": {},
     "output_type": "execute_result"
    }
   ],
   "source": [
    "train_dl = train_dataset.batch(32, drop_remainder=True)\n",
    "train_dl = train_dl.prefetch(8)\n",
    "train_dl"
   ]
  },
  {
   "cell_type": "code",
   "execution_count": 37,
   "id": "57f30d7b",
   "metadata": {
    "scrolled": true
   },
   "outputs": [
    {
     "data": {
      "text/plain": [
       "<PrefetchDataset shapes: ((32, 224, 224, 3), (32, 224, 224, 3), (32, 224, 224, 3)), types: (tf.float32, tf.float32, tf.float32)>"
      ]
     },
     "execution_count": 37,
     "metadata": {},
     "output_type": "execute_result"
    }
   ],
   "source": [
    "val_dl = val_dataset.batch(32, drop_remainder=True)\n",
    "val_dl = val_dl.prefetch(8)\n",
    "val_dl"
   ]
  },
  {
   "cell_type": "markdown",
   "id": "f4f6e468",
   "metadata": {},
   "source": [
    "## Anchor, positive and the distance between them computed by the distance layer"
   ]
  },
  {
   "cell_type": "code",
   "execution_count": 38,
   "id": "6585724f",
   "metadata": {
    "scrolled": true
   },
   "outputs": [
    {
     "name": "stderr",
     "output_type": "stream",
     "text": [
      "2022-02-02 17:39:05.794985: I tensorflow/compiler/mlir/mlir_graph_optimization_pass.cc:116] None of the MLIR optimization passes are enabled (registered 2)\n",
      "2022-02-02 17:39:05.816841: I tensorflow/core/platform/profile_utils/cpu_utils.cc:112] CPU Frequency: 3999980000 Hz\n"
     ]
    },
    {
     "data": {
      "image/png": "[encoded data removed]",
      "text/plain": [
       "<Figure size 648x648 with 12 Axes>"
      ]
     },
     "metadata": {
      "needs_background": "light"
     },
     "output_type": "display_data"
    }
   ],
   "source": [
    "def visualize(anchor, positive, negative):\n",
    "    \"\"\"Visualize a few triplets from the supplied batches.\"\"\"\n",
    "\n",
    "    def show(ax, image):\n",
    "        ax.imshow(image)\n",
    "        ax.get_xaxis().set_visible(False)\n",
    "        ax.get_yaxis().set_visible(False)\n",
    "    \n",
    "\n",
    "    fig = plt.figure(figsize=(9, 9))\n",
    "\n",
    "    axs = fig.subplots(4, 3)\n",
    "    for i in range(0, 4, 2):\n",
    "        show(axs[i, 0], anchor[i])\n",
    "        show(axs[i + 1, 0], anchor[i])\n",
    "        show(axs[i, 1], positive[i])\n",
    "        show(axs[i + 1, 1], negative[i])\n",
    "        ap_distance = tf.reduce_sum(tf.square(anchor[i] - positive[i]), -1)\n",
    "        an_distance = tf.reduce_sum(tf.square(anchor[i] - negative[i]), -1)\n",
    "        show(axs[i, 2], ap_distance)\n",
    "        show(axs[i + 1, 2], an_distance)\n",
    "        loss = ap_distance - an_distance\n",
    "        loss = tf.maximum(loss, 0.0)\n",
    "    \n",
    "\n",
    "\n",
    "visualize(*list(val_dl.take(1).as_numpy_iterator())[0])"
   ]
  },
  {
   "cell_type": "markdown",
   "id": "7cf37acd",
   "metadata": {},
   "source": [
    "## Anchor, positive and the negative image"
   ]
  },
  {
   "cell_type": "code",
   "execution_count": 39,
   "id": "f6f88431",
   "metadata": {},
   "outputs": [
    {
     "data": {
      "image/png": "[encoded data removed]",
      "text/plain": [
       "<Figure size 648x648 with 9 Axes>"
      ]
     },
     "metadata": {
      "needs_background": "light"
     },
     "output_type": "display_data"
    }
   ],
   "source": [
    "def visualize2(anchor, positive, negative):\n",
    "    \"\"\"Visualize a few triplets from the supplied batches.\"\"\"\n",
    "\n",
    "    def show(ax, image):\n",
    "        ax.imshow(image)\n",
    "        ax.get_xaxis().set_visible(False)\n",
    "        ax.get_yaxis().set_visible(False)\n",
    "\n",
    "    fig = plt.figure(figsize=(9, 9))\n",
    "\n",
    "    axs = fig.subplots(3, 3)\n",
    "    for i in range(3):\n",
    "        show(axs[i, 0], anchor[i])\n",
    "        show(axs[i, 1], positive[i])\n",
    "        show(axs[i, 2], negative[i])\n",
    "\n",
    "\n",
    "visualize2(*list(val_dl.take(1).as_numpy_iterator())[0])"
   ]
  },
  {
   "cell_type": "markdown",
   "id": "cbb7e500",
   "metadata": {},
   "source": [
    "# Siamese network with distance layer and triplet loss"
   ]
  },
  {
   "cell_type": "code",
   "execution_count": 40,
   "id": "0f36080c",
   "metadata": {},
   "outputs": [],
   "source": [
    "base_cnn = resnet.ResNet50(\n",
    "    weights=\"imagenet\", input_shape=target_shape +  (3,), include_top=False\n",
    ")\n",
    "\n",
    "flatten = layers.Flatten()(base_cnn.output)\n",
    "dense1 = layers.Dense(512, activation=\"relu\")(flatten)\n",
    "dense1 = layers.BatchNormalization()(dense1)\n",
    "dense2 = layers.Dense(256, activation=\"relu\")(dense1)\n",
    "dense2 = layers.BatchNormalization()(dense2)\n",
    "output = layers.Dense(256)(dense2)\n",
    "\n",
    "embedding = Model(base_cnn.input, output, name=\"Embedding\")\n",
    "\n",
    "trainable = False\n",
    "for layer in base_cnn.layers:\n",
    "    if layer.name == \"conv5_block1_out\":\n",
    "        trainable = True\n",
    "    layer.trainable = trainable\n"
   ]
  },
  {
   "cell_type": "code",
   "execution_count": 41,
   "id": "e04f2720",
   "metadata": {
    "scrolled": false
   },
   "outputs": [
    {
     "name": "stdout",
     "output_type": "stream",
     "text": [
      "Model: \"model\"\n",
      "__________________________________________________________________________________________________\n",
      "Layer (type)                    Output Shape         Param #     Connected to                     \n",
      "==================================================================================================\n",
      "anchor (InputLayer)             [(None, 224, 224, 3) 0                                            \n",
      "__________________________________________________________________________________________________\n",
      "positive (InputLayer)           [(None, 224, 224, 3) 0                                            \n",
      "__________________________________________________________________________________________________\n",
      "negative (InputLayer)           [(None, 224, 224, 3) 0                                            \n",
      "__________________________________________________________________________________________________\n",
      "tf.__operators__.getitem (Slici (None, 224, 224, 3)  0           anchor[0][0]                     \n",
      "__________________________________________________________________________________________________\n",
      "tf.__operators__.getitem_1 (Sli (None, 224, 224, 3)  0           positive[0][0]                   \n",
      "__________________________________________________________________________________________________\n",
      "tf.__operators__.getitem_2 (Sli (None, 224, 224, 3)  0           negative[0][0]                   \n",
      "__________________________________________________________________________________________________\n",
      "tf.nn.bias_add (TFOpLambda)     (None, 224, 224, 3)  0           tf.__operators__.getitem[0][0]   \n",
      "__________________________________________________________________________________________________\n",
      "tf.nn.bias_add_1 (TFOpLambda)   (None, 224, 224, 3)  0           tf.__operators__.getitem_1[0][0] \n",
      "__________________________________________________________________________________________________\n",
      "tf.nn.bias_add_2 (TFOpLambda)   (None, 224, 224, 3)  0           tf.__operators__.getitem_2[0][0] \n",
      "__________________________________________________________________________________________________\n",
      "Embedding (Functional)          (None, 256)          75168640    tf.nn.bias_add[0][0]             \n",
      "                                                                 tf.nn.bias_add_1[0][0]           \n",
      "                                                                 tf.nn.bias_add_2[0][0]           \n",
      "__________________________________________________________________________________________________\n",
      "distance_layer (DistanceLayer)  ((None,), (None,))   0           Embedding[0][0]                  \n",
      "                                                                 Embedding[1][0]                  \n",
      "                                                                 Embedding[2][0]                  \n",
      "==================================================================================================\n",
      "Total params: 75,168,640\n",
      "Trainable params: 60,510,720\n",
      "Non-trainable params: 14,657,920\n",
      "__________________________________________________________________________________________________\n"
     ]
    }
   ],
   "source": [
    "class DistanceLayer(layers.Layer):\n",
    "    \"\"\"\n",
    "    This layer is responsible for computing the distance between the anchor\n",
    "    embedding and the positive embedding, and the anchor embedding and the\n",
    "    negative embedding.\n",
    "    \"\"\"\n",
    "\n",
    "    def __init__(self, **kwargs):\n",
    "        super().__init__(**kwargs)\n",
    "\n",
    "    def call(self, anchor, positive, negative):\n",
    "        ap_distance = tf.reduce_sum(tf.square(anchor - positive), -1)\n",
    "        an_distance = tf.reduce_sum(tf.square(anchor - negative), -1)\n",
    "        return (ap_distance, an_distance)\n",
    "\n",
    "\n",
    "anchor_input = layers.Input(name=\"anchor\", shape=target_shape + (3,))\n",
    "positive_input = layers.Input(name=\"positive\", shape=target_shape + (3,))\n",
    "negative_input = layers.Input(name=\"negative\", shape=target_shape + (3,))\n",
    "\n",
    "distances = DistanceLayer()(\n",
    "    embedding(resnet.preprocess_input(anchor_input)),\n",
    "    embedding(resnet.preprocess_input(positive_input)),\n",
    "    embedding(resnet.preprocess_input(negative_input)),\n",
    ")\n",
    "\n",
    "siamese_network = Model(\n",
    "    inputs=[anchor_input, positive_input, negative_input], outputs=distances\n",
    ")\n",
    "\n",
    "siamese_network.summary()"
   ]
  },
  {
   "cell_type": "markdown",
   "id": "4e5ec250",
   "metadata": {},
   "source": [
    "### Triplet loss defined as: \n",
    "\n",
    "$$\\displaystyle {\\mathcal {L}}\\left(A,P,N\\right)=\\operatorname {max} \\left({\\|\\operatorname {f} \\left(A\\right)-\\operatorname {f} \\left(P\\right)\\|}^{2}-{\\|\\operatorname {f} \\left(A\\right)-\\operatorname {f} \\left(N\\right)\\|}^{2}+\\alpha ,0\\right)$$"
   ]
  },
  {
   "cell_type": "code",
   "execution_count": 42,
   "id": "61943aca",
   "metadata": {},
   "outputs": [],
   "source": [
    "class SiameseModel(Model):\n",
    "    \"\"\"The Siamese Network model with a custom training and testing loops.\n",
    "\n",
    "    Computes the triplet loss using the three embeddings produced by the\n",
    "    Siamese Network.\n",
    "\n",
    "    The triplet loss is defined as:\n",
    "       L(A, P, N) = max(‖f(A) - f(P)‖² - ‖f(A) - f(N)‖² + margin, 0)\n",
    "    \"\"\"\n",
    "\n",
    "    def __init__(self, siamese_network, margin=0.5):\n",
    "        super(SiameseModel, self).__init__()\n",
    "        self.siamese_network = siamese_network\n",
    "        self.margin = margin\n",
    "        self.loss_tracker = metrics.Mean(name=\"loss\")\n",
    "        self.rmse_tracker = metrics.RootMeanSquaredError(name=\"rmse\")\n",
    "\n",
    "    def call(self, inputs):\n",
    "        return self.siamese_network(inputs)\n",
    "\n",
    "    def train_step(self, data):\n",
    "        # GradientTape is a context manager that records every operation that\n",
    "        # you do inside. We are using it here to compute the loss so we can get\n",
    "        # the gradients and apply them using the optimizer specified in\n",
    "        # `compile()`.\n",
    "        with tf.GradientTape() as tape:\n",
    "            loss = self._compute_loss(data)\n",
    "\n",
    "        # Storing the gradients of the loss function with respect to the\n",
    "        # weights/parameters.\n",
    "        gradients = tape.gradient(loss, self.siamese_network.trainable_weights)\n",
    "\n",
    "        # Applying the gradients on the model using the specified optimizer\n",
    "        self.optimizer.apply_gradients(\n",
    "            zip(gradients, self.siamese_network.trainable_weights)\n",
    "        )\n",
    "\n",
    "        # Let's update and return the training loss metric.\n",
    "        self.loss_tracker.update_state(loss)\n",
    "        \n",
    "        return {\"loss\": self.loss_tracker.result()}\n",
    "\n",
    "    def test_step(self, data):\n",
    "        loss = self._compute_loss(data)\n",
    "        ap_distance, an_distance = self.siamese_network(data)\n",
    "        # Let's update and return the loss metric and rmse metric.\n",
    "        self.loss_tracker.update_state(loss)\n",
    "        # RMSE (Euclidean distance) between anchor and positive image\n",
    "        self.rmse_tracker.update_state(0.0, ap_distance)\n",
    "        return {\"loss\": self.loss_tracker.result(), 'rmse': self.rmse_tracker.result()}\n",
    "\n",
    "    def _compute_loss(self, data):\n",
    "        # The output of the network is a tuple containing the distances\n",
    "        # between the anchor and the positive example, and the anchor and\n",
    "        # the negative example.\n",
    "        ap_distance, an_distance = self.siamese_network(data)\n",
    "\n",
    "        # Computing the Triplet Loss by subtracting both distances and\n",
    "        # making sure we don't get a negative value.\n",
    "        loss = ap_distance - an_distance\n",
    "        loss = tf.maximum(loss + self.margin, 0.0)\n",
    "        return loss\n",
    "\n",
    "    @property\n",
    "    def metrics(self):\n",
    "        # We need to list our metrics here so the `reset_states()` can be\n",
    "        # called automatically.\n",
    "        return [self.loss_tracker, self.rmse_tracker]\n"
   ]
  },
  {
   "cell_type": "markdown",
   "id": "c1616071",
   "metadata": {},
   "source": [
    "### Choose optimizer and train model"
   ]
  },
  {
   "cell_type": "code",
   "execution_count": 43,
   "id": "0a8a34d3",
   "metadata": {},
   "outputs": [],
   "source": [
    "siamese_model = SiameseModel(siamese_network)\n",
    "siamese_model.compile(optimizer=optimizers.Adam(0.0001), metrics=[metrics.RootMeanSquaredError(name='rmse')])"
   ]
  },
  {
   "cell_type": "code",
   "execution_count": 44,
   "id": "feedff4e",
   "metadata": {},
   "outputs": [],
   "source": [
    "from tensorflow.python.client import device_lib\n",
    "#print(device_lib.list_local_devices())"
   ]
  },
  {
   "cell_type": "code",
   "execution_count": 45,
   "id": "6bb3456d",
   "metadata": {
    "scrolled": true
   },
   "outputs": [
    {
     "name": "stdout",
     "output_type": "stream",
     "text": [
      "Epoch 1/5\n"
     ]
    },
    {
     "name": "stderr",
     "output_type": "stream",
     "text": [
      "2022-02-02 17:39:13.054777: I tensorflow/stream_executor/platform/default/dso_loader.cc:49] Successfully opened dynamic library libcublas.so.10\n",
      "2022-02-02 17:39:13.265510: I tensorflow/stream_executor/platform/default/dso_loader.cc:49] Successfully opened dynamic library libcudnn.so.7\n",
      "2022-02-02 17:39:13.824849: W tensorflow/stream_executor/gpu/asm_compiler.cc:63] Running ptxas --version returned 256\n",
      "2022-02-02 17:39:13.858991: W tensorflow/stream_executor/gpu/redzone_allocator.cc:314] Internal: ptxas exited with non-zero error code 256, output: \n",
      "Relying on driver to perform ptx compilation. \n",
      "Modify $PATH to customize ptxas location.\n",
      "This message will be only logged once.\n",
      "2022-02-02 17:39:31.950920: W tensorflow/core/common_runtime/bfc_allocator.cc:248] Allocator (GPU_0_bfc) ran out of memory trying to allocate 2.30GiB with freed_by_count=0. The caller indicates that this is not a failure, but may mean that there could be performance gains if more memory were available.\n",
      "2022-02-02 17:39:31.985444: W tensorflow/core/common_runtime/bfc_allocator.cc:248] Allocator (GPU_0_bfc) ran out of memory trying to allocate 2.30GiB with freed_by_count=0. The caller indicates that this is not a failure, but may mean that there could be performance gains if more memory were available.\n",
      "2022-02-02 17:39:32.944494: W tensorflow/core/common_runtime/bfc_allocator.cc:248] Allocator (GPU_0_bfc) ran out of memory trying to allocate 2.41GiB with freed_by_count=0. The caller indicates that this is not a failure, but may mean that there could be performance gains if more memory were available.\n"
     ]
    },
    {
     "name": "stdout",
     "output_type": "stream",
     "text": [
      "613/613 [==============================] - 257s 376ms/step - loss: 0.3374 - val_loss: 0.2251 - val_rmse: 0.8766\n",
      "Epoch 2/5\n",
      "613/613 [==============================] - 228s 372ms/step - loss: 0.1962 - val_loss: 0.1646 - val_rmse: 0.8202\n",
      "Epoch 3/5\n",
      "613/613 [==============================] - 227s 371ms/step - loss: 0.1534 - val_loss: 0.1339 - val_rmse: 0.6936\n",
      "Epoch 4/5\n",
      "613/613 [==============================] - 227s 371ms/step - loss: 0.1332 - val_loss: 0.1338 - val_rmse: 0.8550\n",
      "Epoch 5/5\n",
      "613/613 [==============================] - 228s 372ms/step - loss: 0.1247 - val_loss: 0.1252 - val_rmse: 0.7162\n"
     ]
    }
   ],
   "source": [
    "model = siamese_model.fit(train_dl, validation_data=val_dl, epochs=5)"
   ]
  },
  {
   "cell_type": "code",
   "execution_count": 46,
   "id": "33ef2988",
   "metadata": {},
   "outputs": [
    {
     "name": "stdout",
     "output_type": "stream",
     "text": [
      "Epoch 1/5\n",
      "613/613 [==============================] - 228s 373ms/step - loss: 0.1152 - val_loss: 0.1169 - val_rmse: 0.7650\n",
      "Epoch 2/5\n",
      "613/613 [==============================] - 229s 374ms/step - loss: 0.1117 - val_loss: 0.1185 - val_rmse: 0.9017\n",
      "Epoch 3/5\n",
      " 35/613 [>.............................] - ETA: 2:41 - loss: 0.1223"
     ]
    },
    {
     "ename": "KeyboardInterrupt",
     "evalue": "",
     "output_type": "error",
     "traceback": [
      "\u001b[0;31m---------------------------------------------------------------------------\u001b[0m",
      "\u001b[0;31mKeyboardInterrupt\u001b[0m                         Traceback (most recent call last)",
      "\u001b[0;32m/tmp/ipykernel_21005/2530760391.py\u001b[0m in \u001b[0;36m<module>\u001b[0;34m\u001b[0m\n\u001b[0;32m----> 1\u001b[0;31m \u001b[0mmodel\u001b[0m \u001b[0;34m=\u001b[0m \u001b[0msiamese_model\u001b[0m\u001b[0;34m.\u001b[0m\u001b[0mfit\u001b[0m\u001b[0;34m(\u001b[0m\u001b[0mtrain_dl\u001b[0m\u001b[0;34m,\u001b[0m \u001b[0mvalidation_data\u001b[0m\u001b[0;34m=\u001b[0m\u001b[0mval_dl\u001b[0m\u001b[0;34m,\u001b[0m \u001b[0mepochs\u001b[0m\u001b[0;34m=\u001b[0m\u001b[0;36m5\u001b[0m\u001b[0;34m)\u001b[0m\u001b[0;34m\u001b[0m\u001b[0;34m\u001b[0m\u001b[0m\n\u001b[0m",
      "\u001b[0;32m~/anaconda3/envs/tf_gpu/lib/python3.9/site-packages/tensorflow/python/keras/engine/training.py\u001b[0m in \u001b[0;36mfit\u001b[0;34m(self, x, y, batch_size, epochs, verbose, callbacks, validation_split, validation_data, shuffle, class_weight, sample_weight, initial_epoch, steps_per_epoch, validation_steps, validation_batch_size, validation_freq, max_queue_size, workers, use_multiprocessing)\u001b[0m\n\u001b[1;32m   1098\u001b[0m                 _r=1):\n\u001b[1;32m   1099\u001b[0m               \u001b[0mcallbacks\u001b[0m\u001b[0;34m.\u001b[0m\u001b[0mon_train_batch_begin\u001b[0m\u001b[0;34m(\u001b[0m\u001b[0mstep\u001b[0m\u001b[0;34m)\u001b[0m\u001b[0;34m\u001b[0m\u001b[0;34m\u001b[0m\u001b[0m\n\u001b[0;32m-> 1100\u001b[0;31m               \u001b[0mtmp_logs\u001b[0m \u001b[0;34m=\u001b[0m \u001b[0mself\u001b[0m\u001b[0;34m.\u001b[0m\u001b[0mtrain_function\u001b[0m\u001b[0;34m(\u001b[0m\u001b[0miterator\u001b[0m\u001b[0;34m)\u001b[0m\u001b[0;34m\u001b[0m\u001b[0;34m\u001b[0m\u001b[0m\n\u001b[0m\u001b[1;32m   1101\u001b[0m               \u001b[0;32mif\u001b[0m \u001b[0mdata_handler\u001b[0m\u001b[0;34m.\u001b[0m\u001b[0mshould_sync\u001b[0m\u001b[0;34m:\u001b[0m\u001b[0;34m\u001b[0m\u001b[0;34m\u001b[0m\u001b[0m\n\u001b[1;32m   1102\u001b[0m                 \u001b[0mcontext\u001b[0m\u001b[0;34m.\u001b[0m\u001b[0masync_wait\u001b[0m\u001b[0;34m(\u001b[0m\u001b[0;34m)\u001b[0m\u001b[0;34m\u001b[0m\u001b[0;34m\u001b[0m\u001b[0m\n",
      "\u001b[0;32m~/anaconda3/envs/tf_gpu/lib/python3.9/site-packages/tensorflow/python/eager/def_function.py\u001b[0m in \u001b[0;36m__call__\u001b[0;34m(self, *args, **kwds)\u001b[0m\n\u001b[1;32m    826\u001b[0m     \u001b[0mtracing_count\u001b[0m \u001b[0;34m=\u001b[0m \u001b[0mself\u001b[0m\u001b[0;34m.\u001b[0m\u001b[0mexperimental_get_tracing_count\u001b[0m\u001b[0;34m(\u001b[0m\u001b[0;34m)\u001b[0m\u001b[0;34m\u001b[0m\u001b[0;34m\u001b[0m\u001b[0m\n\u001b[1;32m    827\u001b[0m     \u001b[0;32mwith\u001b[0m \u001b[0mtrace\u001b[0m\u001b[0;34m.\u001b[0m\u001b[0mTrace\u001b[0m\u001b[0;34m(\u001b[0m\u001b[0mself\u001b[0m\u001b[0;34m.\u001b[0m\u001b[0m_name\u001b[0m\u001b[0;34m)\u001b[0m \u001b[0;32mas\u001b[0m \u001b[0mtm\u001b[0m\u001b[0;34m:\u001b[0m\u001b[0;34m\u001b[0m\u001b[0;34m\u001b[0m\u001b[0m\n\u001b[0;32m--> 828\u001b[0;31m       \u001b[0mresult\u001b[0m \u001b[0;34m=\u001b[0m \u001b[0mself\u001b[0m\u001b[0;34m.\u001b[0m\u001b[0m_call\u001b[0m\u001b[0;34m(\u001b[0m\u001b[0;34m*\u001b[0m\u001b[0margs\u001b[0m\u001b[0;34m,\u001b[0m \u001b[0;34m**\u001b[0m\u001b[0mkwds\u001b[0m\u001b[0;34m)\u001b[0m\u001b[0;34m\u001b[0m\u001b[0;34m\u001b[0m\u001b[0m\n\u001b[0m\u001b[1;32m    829\u001b[0m       \u001b[0mcompiler\u001b[0m \u001b[0;34m=\u001b[0m \u001b[0;34m\"xla\"\u001b[0m \u001b[0;32mif\u001b[0m \u001b[0mself\u001b[0m\u001b[0;34m.\u001b[0m\u001b[0m_experimental_compile\u001b[0m \u001b[0;32melse\u001b[0m \u001b[0;34m\"nonXla\"\u001b[0m\u001b[0;34m\u001b[0m\u001b[0;34m\u001b[0m\u001b[0m\n\u001b[1;32m    830\u001b[0m       \u001b[0mnew_tracing_count\u001b[0m \u001b[0;34m=\u001b[0m \u001b[0mself\u001b[0m\u001b[0;34m.\u001b[0m\u001b[0mexperimental_get_tracing_count\u001b[0m\u001b[0;34m(\u001b[0m\u001b[0;34m)\u001b[0m\u001b[0;34m\u001b[0m\u001b[0;34m\u001b[0m\u001b[0m\n",
      "\u001b[0;32m~/anaconda3/envs/tf_gpu/lib/python3.9/site-packages/tensorflow/python/eager/def_function.py\u001b[0m in \u001b[0;36m_call\u001b[0;34m(self, *args, **kwds)\u001b[0m\n\u001b[1;32m    853\u001b[0m       \u001b[0;31m# In this case we have created variables on the first call, so we run the\u001b[0m\u001b[0;34m\u001b[0m\u001b[0;34m\u001b[0m\u001b[0m\n\u001b[1;32m    854\u001b[0m       \u001b[0;31m# defunned version which is guaranteed to never create variables.\u001b[0m\u001b[0;34m\u001b[0m\u001b[0;34m\u001b[0m\u001b[0m\n\u001b[0;32m--> 855\u001b[0;31m       \u001b[0;32mreturn\u001b[0m \u001b[0mself\u001b[0m\u001b[0;34m.\u001b[0m\u001b[0m_stateless_fn\u001b[0m\u001b[0;34m(\u001b[0m\u001b[0;34m*\u001b[0m\u001b[0margs\u001b[0m\u001b[0;34m,\u001b[0m \u001b[0;34m**\u001b[0m\u001b[0mkwds\u001b[0m\u001b[0;34m)\u001b[0m  \u001b[0;31m# pylint: disable=not-callable\u001b[0m\u001b[0;34m\u001b[0m\u001b[0;34m\u001b[0m\u001b[0m\n\u001b[0m\u001b[1;32m    856\u001b[0m     \u001b[0;32melif\u001b[0m \u001b[0mself\u001b[0m\u001b[0;34m.\u001b[0m\u001b[0m_stateful_fn\u001b[0m \u001b[0;32mis\u001b[0m \u001b[0;32mnot\u001b[0m \u001b[0;32mNone\u001b[0m\u001b[0;34m:\u001b[0m\u001b[0;34m\u001b[0m\u001b[0;34m\u001b[0m\u001b[0m\n\u001b[1;32m    857\u001b[0m       \u001b[0;31m# Release the lock early so that multiple threads can perform the call\u001b[0m\u001b[0;34m\u001b[0m\u001b[0;34m\u001b[0m\u001b[0m\n",
      "\u001b[0;32m~/anaconda3/envs/tf_gpu/lib/python3.9/site-packages/tensorflow/python/eager/function.py\u001b[0m in \u001b[0;36m__call__\u001b[0;34m(self, *args, **kwargs)\u001b[0m\n\u001b[1;32m   2940\u001b[0m       (graph_function,\n\u001b[1;32m   2941\u001b[0m        filtered_flat_args) = self._maybe_define_function(args, kwargs)\n\u001b[0;32m-> 2942\u001b[0;31m     return graph_function._call_flat(\n\u001b[0m\u001b[1;32m   2943\u001b[0m         filtered_flat_args, captured_inputs=graph_function.captured_inputs)  # pylint: disable=protected-access\n\u001b[1;32m   2944\u001b[0m \u001b[0;34m\u001b[0m\u001b[0m\n",
      "\u001b[0;32m~/anaconda3/envs/tf_gpu/lib/python3.9/site-packages/tensorflow/python/eager/function.py\u001b[0m in \u001b[0;36m_call_flat\u001b[0;34m(self, args, captured_inputs, cancellation_manager)\u001b[0m\n\u001b[1;32m   1916\u001b[0m         and executing_eagerly):\n\u001b[1;32m   1917\u001b[0m       \u001b[0;31m# No tape is watching; skip to running the function.\u001b[0m\u001b[0;34m\u001b[0m\u001b[0;34m\u001b[0m\u001b[0m\n\u001b[0;32m-> 1918\u001b[0;31m       return self._build_call_outputs(self._inference_function.call(\n\u001b[0m\u001b[1;32m   1919\u001b[0m           ctx, args, cancellation_manager=cancellation_manager))\n\u001b[1;32m   1920\u001b[0m     forward_backward = self._select_forward_and_backward_functions(\n",
      "\u001b[0;32m~/anaconda3/envs/tf_gpu/lib/python3.9/site-packages/tensorflow/python/eager/function.py\u001b[0m in \u001b[0;36mcall\u001b[0;34m(self, ctx, args, cancellation_manager)\u001b[0m\n\u001b[1;32m    553\u001b[0m       \u001b[0;32mwith\u001b[0m \u001b[0m_InterpolateFunctionError\u001b[0m\u001b[0;34m(\u001b[0m\u001b[0mself\u001b[0m\u001b[0;34m)\u001b[0m\u001b[0;34m:\u001b[0m\u001b[0;34m\u001b[0m\u001b[0;34m\u001b[0m\u001b[0m\n\u001b[1;32m    554\u001b[0m         \u001b[0;32mif\u001b[0m \u001b[0mcancellation_manager\u001b[0m \u001b[0;32mis\u001b[0m \u001b[0;32mNone\u001b[0m\u001b[0;34m:\u001b[0m\u001b[0;34m\u001b[0m\u001b[0;34m\u001b[0m\u001b[0m\n\u001b[0;32m--> 555\u001b[0;31m           outputs = execute.execute(\n\u001b[0m\u001b[1;32m    556\u001b[0m               \u001b[0mstr\u001b[0m\u001b[0;34m(\u001b[0m\u001b[0mself\u001b[0m\u001b[0;34m.\u001b[0m\u001b[0msignature\u001b[0m\u001b[0;34m.\u001b[0m\u001b[0mname\u001b[0m\u001b[0;34m)\u001b[0m\u001b[0;34m,\u001b[0m\u001b[0;34m\u001b[0m\u001b[0;34m\u001b[0m\u001b[0m\n\u001b[1;32m    557\u001b[0m               \u001b[0mnum_outputs\u001b[0m\u001b[0;34m=\u001b[0m\u001b[0mself\u001b[0m\u001b[0;34m.\u001b[0m\u001b[0m_num_outputs\u001b[0m\u001b[0;34m,\u001b[0m\u001b[0;34m\u001b[0m\u001b[0;34m\u001b[0m\u001b[0m\n",
      "\u001b[0;32m~/anaconda3/envs/tf_gpu/lib/python3.9/site-packages/tensorflow/python/eager/execute.py\u001b[0m in \u001b[0;36mquick_execute\u001b[0;34m(op_name, num_outputs, inputs, attrs, ctx, name)\u001b[0m\n\u001b[1;32m     57\u001b[0m   \u001b[0;32mtry\u001b[0m\u001b[0;34m:\u001b[0m\u001b[0;34m\u001b[0m\u001b[0;34m\u001b[0m\u001b[0m\n\u001b[1;32m     58\u001b[0m     \u001b[0mctx\u001b[0m\u001b[0;34m.\u001b[0m\u001b[0mensure_initialized\u001b[0m\u001b[0;34m(\u001b[0m\u001b[0;34m)\u001b[0m\u001b[0;34m\u001b[0m\u001b[0;34m\u001b[0m\u001b[0m\n\u001b[0;32m---> 59\u001b[0;31m     tensors = pywrap_tfe.TFE_Py_Execute(ctx._handle, device_name, op_name,\n\u001b[0m\u001b[1;32m     60\u001b[0m                                         inputs, attrs, num_outputs)\n\u001b[1;32m     61\u001b[0m   \u001b[0;32mexcept\u001b[0m \u001b[0mcore\u001b[0m\u001b[0;34m.\u001b[0m\u001b[0m_NotOkStatusException\u001b[0m \u001b[0;32mas\u001b[0m \u001b[0me\u001b[0m\u001b[0;34m:\u001b[0m\u001b[0;34m\u001b[0m\u001b[0;34m\u001b[0m\u001b[0m\n",
      "\u001b[0;31mKeyboardInterrupt\u001b[0m: "
     ]
    }
   ],
   "source": [
    "model = siamese_model.fit(train_dl, validation_data=val_dl, epochs=5)"
   ]
  },
  {
   "cell_type": "code",
   "execution_count": null,
   "id": "64375d38",
   "metadata": {
    "scrolled": true
   },
   "outputs": [],
   "source": [
    "plt.plot(model.history['loss'])\n",
    "plt.plot(model.history['val_loss'])\n",
    "plt.title('model loss')\n",
    "plt.ylabel('loss')\n",
    "plt.xlabel('epoch')\n",
    "plt.legend(['train', 'val'], loc='upper left')\n",
    "plt.show()"
   ]
  },
  {
   "cell_type": "code",
   "execution_count": null,
   "id": "384f2af1",
   "metadata": {},
   "outputs": [],
   "source": [
    "pd.DataFrame(model.history).plot(figsize=(8,5))\n",
    "print(\"Loss, validation loss and RMSE\")\n",
    "plt.show()"
   ]
  },
  {
   "cell_type": "markdown",
   "id": "67d0d071",
   "metadata": {},
   "source": [
    "### Previous results: \n",
    "### loss: 0.315 - val_loss: 0.219 - RMSE: 0.7255 for 1 epoch \n",
    "### loss: 0.115 - val_loss: 0.123 - RMSE: 0.678 for 5 epochs \n",
    "### loss: 0. - val_loss. 0. - RMSE:  for 10 epochs "
   ]
  },
  {
   "cell_type": "markdown",
   "id": "04d07625",
   "metadata": {},
   "source": [
    "## Inspecting what the network has learned"
   ]
  },
  {
   "cell_type": "code",
   "execution_count": null,
   "id": "ea551dd8",
   "metadata": {},
   "outputs": [],
   "source": [
    "sample = next(iter(val_dl))\n",
    "visualize2(*sample)\n",
    "\n",
    "anchor, positive, negative = sample\n",
    "anchor_embedding, positive_embedding, negative_embedding = (\n",
    "    embedding(resnet.preprocess_input(anchor)),\n",
    "    embedding(resnet.preprocess_input(positive)),\n",
    "    embedding(resnet.preprocess_input(negative)),\n",
    ")"
   ]
  },
  {
   "cell_type": "code",
   "execution_count": null,
   "id": "297293de",
   "metadata": {},
   "outputs": [],
   "source": [
    "cosine_similarity = metrics.CosineSimilarity()\n",
    "\n",
    "positive_similarity = cosine_similarity(anchor_embedding, positive_embedding)\n",
    "print(\"Positive similarity:\", positive_similarity.numpy())\n",
    "\n",
    "negative_similarity = cosine_similarity(anchor_embedding, negative_embedding)\n",
    "print(\"Negative similarity\", negative_similarity.numpy())\n"
   ]
  },
  {
   "cell_type": "code",
   "execution_count": null,
   "id": "731f6dd8",
   "metadata": {},
   "outputs": [],
   "source": [
    "from mpl_toolkits.mplot3d import Axes3D\n",
    "import os, sys, cv2, matplotlib.pyplot as plt, numpy as np, pickle\n",
    "#import sklearn, pandas as pd, seaborn as sn\n",
    "from tensorflow.keras.models import Model, load_model, Sequential\n",
    "from tensorflow.keras import backend as K\n",
    "from sklearn.metrics import confusion_matrix\n",
    "\n",
    "import warnings\n",
    "warnings.filterwarnings('ignore')\n",
    "\n",
    "# Load models\n",
    "#model = embedding\n",
    "siamese_model = siamese_model\n",
    "\n",
    "names = next(iter(val_dl))\n",
    "\n",
    "anchor, positive, negative = names\n",
    "anchor_embedding, positive_embedding, negative_embedding = (\n",
    "    embedding(resnet.preprocess_input(anchor)),\n",
    "    embedding(resnet.preprocess_input(positive)),\n",
    "    embedding(resnet.preprocess_input(negative)),\n",
    ")\n",
    "test_im = []\n",
    "test_im = anchor\n",
    "\n",
    "\n",
    "r,c,_ = test_im[0].shape\n",
    "test_im = np.array(test_im)\n",
    "test_im = test_im.reshape((len(test_im), r,c,3))\n",
    "\n",
    "test_im = 1 - test_im/255\n",
    "\n",
    "# Predict\n",
    "pred = anchor_embedding\n",
    "\n",
    "num = int(pred.shape[0]/3)\n",
    "colors = ['red', 'blue', 'green'] # set colors of target labels\n",
    "\n",
    "# Set target labels\n",
    "y = [colors[0] for i in range(num)]\n",
    "y += [colors[1] for i in range(num)]\n",
    "y += [colors[2] for i in range(num)]\n",
    "\n",
    "feat1 = pred[:,0]\n",
    "feat2 = pred[:,1]\n",
    "feat3 = pred[:,2]\n",
    "\n",
    "# Plot 3d scatter plot\n",
    "fig = plt.figure()\n",
    "ax = Axes3D(fig)\n",
    "ax.scatter(feat1, feat2, feat3, c=y, marker='.')\n",
    "plt.show()"
   ]
  },
  {
   "cell_type": "markdown",
   "id": "f54dcd02",
   "metadata": {},
   "source": [
    "# Parameter optimization "
   ]
  },
  {
   "cell_type": "markdown",
   "id": "38d37fef",
   "metadata": {},
   "source": [
    "## Adam vs SGD"
   ]
  },
  {
   "cell_type": "code",
   "execution_count": null,
   "id": "ffc59a15",
   "metadata": {},
   "outputs": [],
   "source": [
    "def create_embedding(dropout = None):\n",
    "    base_cnn = resnet.ResNet50(\n",
    "        weights=\"imagenet\", input_shape=target_shape +  (3,), include_top=False\n",
    "    )\n",
    "\n",
    "    flatten = layers.Flatten()(base_cnn.output)\n",
    "    dense1 = layers.Dense(512, activation=\"relu\")(flatten)\n",
    "    dense1 = layers.BatchNormalization()(dense1)\n",
    "    if dropout != None: \n",
    "        layer = layers.Dropout(dropout)\n",
    "    dense2 = layers.Dense(256, activation=\"relu\")(dense1)\n",
    "    dense2 = layers.BatchNormalization()(dense2)\n",
    "    output = layers.Dense(256)(dense2)\n",
    "\n",
    "    embedding = Model(base_cnn.input, output, name=\"Embedding\")\n",
    "\n",
    "    trainable = False\n",
    "    for layer in base_cnn.layers:\n",
    "        if layer.name == \"conv5_block1_out\":\n",
    "            trainable = True\n",
    "        layer.trainable = trainable\n",
    "    return embedding"
   ]
  },
  {
   "cell_type": "code",
   "execution_count": null,
   "id": "5854fc56",
   "metadata": {},
   "outputs": [],
   "source": [
    "def create_siamese_net(embedding):\n",
    "    anchor_input = layers.Input(name=\"anchor\", shape=target_shape + (3,))\n",
    "    positive_input = layers.Input(name=\"positive\", shape=target_shape + (3,))\n",
    "    negative_input = layers.Input(name=\"negative\", shape=target_shape + (3,))\n",
    "\n",
    "    distances = DistanceLayer()(\n",
    "        embedding(resnet.preprocess_input(anchor_input)),\n",
    "        embedding(resnet.preprocess_input(positive_input)),\n",
    "        embedding(resnet.preprocess_input(negative_input)),\n",
    "    )\n",
    "\n",
    "    siamese_network = Model(\n",
    "        inputs=[anchor_input, positive_input, negative_input], outputs=distances\n",
    "    )\n",
    "\n",
    "    return siamese_network"
   ]
  },
  {
   "cell_type": "code",
   "execution_count": null,
   "id": "af656c0d",
   "metadata": {},
   "outputs": [],
   "source": [
    "dropout = [None, 0.2, 0.5]"
   ]
  },
  {
   "cell_type": "code",
   "execution_count": null,
   "id": "39a12837",
   "metadata": {},
   "outputs": [],
   "source": [
    "for d in dropout:\n",
    "    embedding = create_embedding(dropout=d)\n",
    "    siamese_network = create_siamese_net(embedding)\n",
    "    siamese_model = SiameseModel(siamese_network)\n",
    "    siamese_model.compile(optimizer=optimizers.Adam(learning_rate=0.0002), metrics=[metrics.RootMeanSquaredError(name='rmse')])\n",
    "    model = siamese_model.fit(train_dl, validation_data=val_dl, epochs=5)\n",
    "    plt.plot(model.history['loss'])\n",
    "    plt.plot(model.history['val_loss'])\n",
    "    plt.title('model loss')\n",
    "    plt.ylabel('loss')\n",
    "    plt.xlabel('epoch')\n",
    "    plt.legend(['train', 'val'], loc='upper left')\n",
    "    plt.show()\n",
    "    plt.plot(model.history['val_rmse'])\n",
    "    plt.title('model RMSE')\n",
    "    plt.ylabel('RMSE')\n",
    "    plt.xlabel('epoch')\n",
    "    plt.legend(['rmse'], loc='upper left')\n",
    "    plt.show()"
   ]
  },
  {
   "cell_type": "code",
   "execution_count": null,
   "id": "9e278dc5",
   "metadata": {},
   "outputs": [],
   "source": [
    "lrs = [0.0005, 0.0001, 0.00001]\n"
   ]
  },
  {
   "cell_type": "code",
   "execution_count": null,
   "id": "bfc6934c",
   "metadata": {},
   "outputs": [],
   "source": []
  },
  {
   "cell_type": "code",
   "execution_count": null,
   "id": "d20e1765",
   "metadata": {},
   "outputs": [],
   "source": [
    "for lr in lrs:\n",
    "    embedding = create_embedding(dropout=None)\n",
    "    siamese_network = create_siamese_net(embedding)\n",
    "    siamese_model = SiameseModel(siamese_network)\n",
    "    siamese_model.compile(optimizer=optimizers.Adam(learning_rate=lr), metrics=[metrics.RootMeanSquaredError(name='rmse')])\n",
    "    model = siamese_model.fit(train_dl, validation_data=val_dl, epochs=5)\n",
    "    plt.plot(model.history['loss'])\n",
    "    plt.plot(model.history['val_loss'])\n",
    "    plt.title('model loss')\n",
    "    plt.ylabel('loss')\n",
    "    plt.xlabel('epoch')\n",
    "    plt.legend(['train', 'val'], loc='upper left')\n",
    "    plt.show()\n",
    "    plt.plot(model.history['val_rmse'])\n",
    "    plt.title('model RMSE')\n",
    "    plt.ylabel('RMSE')\n",
    "    plt.xlabel('epoch')\n",
    "    plt.legend(['rmse'], loc='upper left')\n",
    "    plt.show()\n"
   ]
  },
  {
   "cell_type": "code",
   "execution_count": null,
   "id": "b0975233",
   "metadata": {},
   "outputs": [],
   "source": []
  },
  {
   "cell_type": "code",
   "execution_count": null,
   "id": "59d0ff31",
   "metadata": {},
   "outputs": [],
   "source": []
  },
  {
   "cell_type": "code",
   "execution_count": null,
   "id": "adedcf86",
   "metadata": {},
   "outputs": [],
   "source": []
  },
  {
   "cell_type": "code",
   "execution_count": null,
   "id": "22c17baf",
   "metadata": {},
   "outputs": [],
   "source": []
  }
 ],
 "metadata": {
  "kernelspec": {
   "display_name": "Python 3 (ipykernel)",
   "language": "python",
   "name": "python3"
  },
  "language_info": {
   "codemirror_mode": {
    "name": "ipython",
    "version": 3
   },
   "file_extension": ".py",
   "mimetype": "text/x-python",
   "name": "python",
   "nbconvert_exporter": "python",
   "pygments_lexer": "ipython3",
   "version": "3.9.7"
  },
  "toc-autonumbering": false,
  "toc-showcode": true,
  "toc-showmarkdowntxt": true
 },
 "nbformat": 4,
 "nbformat_minor": 5
}
