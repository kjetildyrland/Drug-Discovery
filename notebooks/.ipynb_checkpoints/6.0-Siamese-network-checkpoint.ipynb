{
 "cells": [
  {
   "cell_type": "markdown",
   "id": "02376db5",
   "metadata": {},
   "source": [
    "# Siamese Network on oldsmiledata dataset"
   ]
  },
  {
   "cell_type": "code",
   "execution_count": 1,
   "id": "7ff5d5e3",
   "metadata": {
    "scrolled": true
   },
   "outputs": [
    {
     "name": "stdout",
     "output_type": "stream",
     "text": [
      "Sat Nov 20 12:02:18 2021       \r\n",
      "+-----------------------------------------------------------------------------+\r\n",
      "| NVIDIA-SMI 460.91.03    Driver Version: 460.91.03    CUDA Version: 11.2     |\r\n",
      "|-------------------------------+----------------------+----------------------+\r\n",
      "| GPU  Name        Persistence-M| Bus-Id        Disp.A | Volatile Uncorr. ECC |\r\n",
      "| Fan  Temp  Perf  Pwr:Usage/Cap|         Memory-Usage | GPU-Util  Compute M. |\r\n",
      "|                               |                      |               MIG M. |\r\n",
      "|===============================+======================+======================|\r\n",
      "|   0  GeForce GTX 1080    Off  | 00000000:01:00.0  On |                  N/A |\r\n",
      "|  0%   47C    P8    15W / 240W |    593MiB /  8116MiB |      5%      Default |\r\n",
      "|                               |                      |                  N/A |\r\n",
      "+-------------------------------+----------------------+----------------------+\r\n",
      "                                                                               \r\n",
      "+-----------------------------------------------------------------------------+\r\n",
      "| Processes:                                                                  |\r\n",
      "|  GPU   GI   CI        PID   Type   Process name                  GPU Memory |\r\n",
      "|        ID   ID                                                   Usage      |\r\n",
      "|=============================================================================|\r\n",
      "|    0   N/A  N/A       899      G   /usr/lib/xorg/Xorg                224MiB |\r\n",
      "|    0   N/A  N/A      1209      G   /usr/bin/gnome-shell               90MiB |\r\n",
      "|    0   N/A  N/A      2278      G   /usr/lib/firefox/firefox          270MiB |\r\n",
      "|    0   N/A  N/A      2542      G   /usr/lib/firefox/firefox            1MiB |\r\n",
      "|    0   N/A  N/A      2846      G   /usr/lib/firefox/firefox            1MiB |\r\n",
      "+-----------------------------------------------------------------------------+\r\n"
     ]
    }
   ],
   "source": [
    "!nvidia-smi"
   ]
  },
  {
   "cell_type": "code",
   "execution_count": 2,
   "id": "986e40bd",
   "metadata": {},
   "outputs": [],
   "source": [
    "#%%capture\n",
    "#!wget -c https://repo.continuum.io/miniconda/Miniconda3-latest-Linux-x86_64.sh\n",
    "#!chmod +x Miniconda3-latest-Linux-x86_64.sh\n",
    "#!time bash ./Miniconda3-latest-Linux-x86_64.sh -b -f -p /usr/local\n",
    "#!time conda install -q -y -c conda-forge rdkit"
   ]
  },
  {
   "cell_type": "code",
   "execution_count": 3,
   "id": "fe052ee5",
   "metadata": {},
   "outputs": [],
   "source": [
    "# Import\n",
    "import pandas as pd\n",
    "import numpy as np\n",
    "from pathlib import Path"
   ]
  },
  {
   "cell_type": "code",
   "execution_count": 4,
   "id": "c51e1815",
   "metadata": {},
   "outputs": [
    {
     "name": "stderr",
     "output_type": "stream",
     "text": [
      "RDKit WARNING: [12:02:18] Enabling RDKit 2019.09.3 jupyter extensions\n"
     ]
    }
   ],
   "source": [
    "%matplotlib inline\n",
    "import matplotlib.pyplot as plt\n",
    "import matplotlib.image as mpimg\n",
    "import sys\n",
    "import os\n",
    "sys.path.append('/usr/local/lib/python3.7/site-packages/')\n",
    "from rdkit import Chem\n",
    "from rdkit.Chem import AllChem"
   ]
  },
  {
   "cell_type": "code",
   "execution_count": 5,
   "id": "8112b927",
   "metadata": {},
   "outputs": [],
   "source": [
    "dataset = 'oldsmiledata_id_processed_transformed_shuffled'"
   ]
  },
  {
   "cell_type": "code",
   "execution_count": 6,
   "id": "327fcae1",
   "metadata": {},
   "outputs": [],
   "source": [
    "path = Path('../dataset/oldsmiledata')"
   ]
  },
  {
   "cell_type": "code",
   "execution_count": 7,
   "id": "59ad0e49",
   "metadata": {},
   "outputs": [
    {
     "data": {
      "text/plain": [
       "[PosixPath('../dataset/oldsmiledata/test_oldsmiledata_id_processed_transformed_shuffled.csv'),\n",
       " PosixPath('../dataset/oldsmiledata/oldsmiledata_id_processed_transformed_rescaled_shuffled.csv'),\n",
       " PosixPath('../dataset/oldsmiledata/.ipynb_checkpoints'),\n",
       " PosixPath('../dataset/oldsmiledata/mol_images'),\n",
       " PosixPath('../dataset/oldsmiledata/train_oldsmiledata_id_processed_transformed_shuffled.csv')]"
      ]
     },
     "execution_count": 7,
     "metadata": {},
     "output_type": "execute_result"
    }
   ],
   "source": [
    "list(path.iterdir())"
   ]
  },
  {
   "cell_type": "code",
   "execution_count": 8,
   "id": "5ab97516",
   "metadata": {},
   "outputs": [],
   "source": [
    "#IMAGES = path/'mol_images'/'all'\n",
    "train = pd.read_csv(path/f'train_{dataset}.csv')\n",
    "valid = pd.read_csv(path/f'test_{dataset}.csv')"
   ]
  },
  {
   "cell_type": "code",
   "execution_count": 9,
   "id": "e5545dfb",
   "metadata": {
    "scrolled": true
   },
   "outputs": [
    {
     "name": "stdout",
     "output_type": "stream",
     "text": [
      "<class 'pandas.core.frame.DataFrame'>\n",
      "RangeIndex: 23924 entries, 0 to 23923\n",
      "Data columns (total 41 columns):\n",
      " #   Column                          Non-Null Count  Dtype  \n",
      "---  ------                          --------------  -----  \n",
      " 0   template                        23924 non-null  object \n",
      " 1   docked                          23924 non-null  object \n",
      " 2   rmsd                            23924 non-null  float64\n",
      " 3   uniprot_id                      23924 non-null  object \n",
      " 4   smiles_template                 23924 non-null  object \n",
      " 5   smiles_docked                   23924 non-null  object \n",
      " 6   mcs_smartsString                23924 non-null  object \n",
      " 7   template_HeavyAtomCount         23924 non-null  int64  \n",
      " 8   template_NHOHCount              23924 non-null  int64  \n",
      " 9   template_NOCount                23924 non-null  int64  \n",
      " 10  template_RingCount              23924 non-null  int64  \n",
      " 11  template_NumHAcceptors          23924 non-null  int64  \n",
      " 12  template_NumHDonors             23924 non-null  int64  \n",
      " 13  template_NumHeteroAtoms         23924 non-null  int64  \n",
      " 14  template_NumRotatableBonds      23924 non-null  int64  \n",
      " 15  docked_HeavyAtomCount           23924 non-null  int64  \n",
      " 16  docked_NHOHCount                23924 non-null  int64  \n",
      " 17  docked_NOCount                  23924 non-null  int64  \n",
      " 18  docked_RingCount                23924 non-null  int64  \n",
      " 19  docked_NumHAcceptors            23924 non-null  int64  \n",
      " 20  docked_NumHDonors               23924 non-null  int64  \n",
      " 21  docked_NumHeteroAtoms           23924 non-null  int64  \n",
      " 22  docked_NumRotatableBonds        23924 non-null  int64  \n",
      " 23  mcs_HeavyAtomCount              23924 non-null  int64  \n",
      " 24  mcs_NOCount                     23924 non-null  int64  \n",
      " 25  mcs_RingCount                   23924 non-null  int64  \n",
      " 26  mcs_NumHeteroAtoms              23924 non-null  int64  \n",
      " 27  mcs_template_NHOHCount          23924 non-null  int64  \n",
      " 28  mcs_docked_NHOHCount            23924 non-null  int64  \n",
      " 29  mcs_template_NumHAcceptors      23924 non-null  int64  \n",
      " 30  mcs_docked_NumHAcceptors        23924 non-null  int64  \n",
      " 31  mcs_template_NumHDonors         23924 non-null  int64  \n",
      " 32  mcs_docked_NumHDonors           23924 non-null  int64  \n",
      " 33  mcs_template_NumRotatableBonds  23924 non-null  int64  \n",
      " 34  mcs_docked_NumRotatableBonds    23924 non-null  int64  \n",
      " 35  ec_tanimoto_similarity          23924 non-null  float64\n",
      " 36  fc_tanimoto_similarity          23924 non-null  float64\n",
      " 37  log_RMSD                        23924 non-null  float64\n",
      " 38  bin_RMSD                        23924 non-null  int64  \n",
      " 39  Xtransf_ec_tanimoto_similarity  23924 non-null  float64\n",
      " 40  Xtransf_fc_tanimoto_similarity  23924 non-null  float64\n",
      "dtypes: float64(6), int64(29), object(6)\n",
      "memory usage: 7.5+ MB\n"
     ]
    }
   ],
   "source": [
    "train.info()"
   ]
  },
  {
   "cell_type": "code",
   "execution_count": 10,
   "id": "cae241bb",
   "metadata": {
    "scrolled": true
   },
   "outputs": [
    {
     "name": "stdout",
     "output_type": "stream",
     "text": [
      "<class 'pandas.core.frame.DataFrame'>\n",
      "RangeIndex: 1024 entries, 0 to 1023\n",
      "Data columns (total 41 columns):\n",
      " #   Column                          Non-Null Count  Dtype  \n",
      "---  ------                          --------------  -----  \n",
      " 0   template                        1024 non-null   object \n",
      " 1   docked                          1024 non-null   object \n",
      " 2   rmsd                            1024 non-null   float64\n",
      " 3   uniprot_id                      1024 non-null   object \n",
      " 4   smiles_template                 1024 non-null   object \n",
      " 5   smiles_docked                   1024 non-null   object \n",
      " 6   mcs_smartsString                1024 non-null   object \n",
      " 7   template_HeavyAtomCount         1024 non-null   int64  \n",
      " 8   template_NHOHCount              1024 non-null   int64  \n",
      " 9   template_NOCount                1024 non-null   int64  \n",
      " 10  template_RingCount              1024 non-null   int64  \n",
      " 11  template_NumHAcceptors          1024 non-null   int64  \n",
      " 12  template_NumHDonors             1024 non-null   int64  \n",
      " 13  template_NumHeteroAtoms         1024 non-null   int64  \n",
      " 14  template_NumRotatableBonds      1024 non-null   int64  \n",
      " 15  docked_HeavyAtomCount           1024 non-null   int64  \n",
      " 16  docked_NHOHCount                1024 non-null   int64  \n",
      " 17  docked_NOCount                  1024 non-null   int64  \n",
      " 18  docked_RingCount                1024 non-null   int64  \n",
      " 19  docked_NumHAcceptors            1024 non-null   int64  \n",
      " 20  docked_NumHDonors               1024 non-null   int64  \n",
      " 21  docked_NumHeteroAtoms           1024 non-null   int64  \n",
      " 22  docked_NumRotatableBonds        1024 non-null   int64  \n",
      " 23  mcs_HeavyAtomCount              1024 non-null   int64  \n",
      " 24  mcs_NOCount                     1024 non-null   int64  \n",
      " 25  mcs_RingCount                   1024 non-null   int64  \n",
      " 26  mcs_NumHeteroAtoms              1024 non-null   int64  \n",
      " 27  mcs_template_NHOHCount          1024 non-null   int64  \n",
      " 28  mcs_docked_NHOHCount            1024 non-null   int64  \n",
      " 29  mcs_template_NumHAcceptors      1024 non-null   int64  \n",
      " 30  mcs_docked_NumHAcceptors        1024 non-null   int64  \n",
      " 31  mcs_template_NumHDonors         1024 non-null   int64  \n",
      " 32  mcs_docked_NumHDonors           1024 non-null   int64  \n",
      " 33  mcs_template_NumRotatableBonds  1024 non-null   int64  \n",
      " 34  mcs_docked_NumRotatableBonds    1024 non-null   int64  \n",
      " 35  ec_tanimoto_similarity          1024 non-null   float64\n",
      " 36  fc_tanimoto_similarity          1024 non-null   float64\n",
      " 37  log_RMSD                        1024 non-null   float64\n",
      " 38  bin_RMSD                        1024 non-null   int64  \n",
      " 39  Xtransf_ec_tanimoto_similarity  1024 non-null   float64\n",
      " 40  Xtransf_fc_tanimoto_similarity  1024 non-null   float64\n",
      "dtypes: float64(6), int64(29), object(6)\n",
      "memory usage: 328.1+ KB\n"
     ]
    }
   ],
   "source": [
    "valid.info()"
   ]
  },
  {
   "cell_type": "code",
   "execution_count": 11,
   "id": "fb7fc361",
   "metadata": {},
   "outputs": [
    {
     "data": {
      "text/html": [
       "<div>\n",
       "<style scoped>\n",
       "    .dataframe tbody tr th:only-of-type {\n",
       "        vertical-align: middle;\n",
       "    }\n",
       "\n",
       "    .dataframe tbody tr th {\n",
       "        vertical-align: top;\n",
       "    }\n",
       "\n",
       "    .dataframe thead th {\n",
       "        text-align: right;\n",
       "    }\n",
       "</style>\n",
       "<table border=\"1\" class=\"dataframe\">\n",
       "  <thead>\n",
       "    <tr style=\"text-align: right;\">\n",
       "      <th></th>\n",
       "      <th>template</th>\n",
       "      <th>docked</th>\n",
       "      <th>rmsd</th>\n",
       "      <th>uniprot_id</th>\n",
       "      <th>smiles_template</th>\n",
       "      <th>smiles_docked</th>\n",
       "      <th>mcs_smartsString</th>\n",
       "      <th>template_HeavyAtomCount</th>\n",
       "      <th>template_NHOHCount</th>\n",
       "      <th>template_NOCount</th>\n",
       "      <th>...</th>\n",
       "      <th>mcs_template_NumHDonors</th>\n",
       "      <th>mcs_docked_NumHDonors</th>\n",
       "      <th>mcs_template_NumRotatableBonds</th>\n",
       "      <th>mcs_docked_NumRotatableBonds</th>\n",
       "      <th>ec_tanimoto_similarity</th>\n",
       "      <th>fc_tanimoto_similarity</th>\n",
       "      <th>log_RMSD</th>\n",
       "      <th>bin_RMSD</th>\n",
       "      <th>Xtransf_ec_tanimoto_similarity</th>\n",
       "      <th>Xtransf_fc_tanimoto_similarity</th>\n",
       "    </tr>\n",
       "  </thead>\n",
       "  <tbody>\n",
       "    <tr>\n",
       "      <th>0</th>\n",
       "      <td>1YPJ_UIB</td>\n",
       "      <td>1K22_MEL</td>\n",
       "      <td>4.643</td>\n",
       "      <td>P00734</td>\n",
       "      <td>CC[C@@H]1[C@@H]2[C@H](C(=O)N1Cc1ccc3c(c1)OCO3)...</td>\n",
       "      <td>N=C(N)c1ccc(CNC(=O)[C@@H]2CCN2C(=O)[C@H](NCC(=...</td>\n",
       "      <td>[#7]=[#6](-[#7])-[#6]1:[#6]:[#6]:[#6](:[#6]:[#...</td>\n",
       "      <td>33</td>\n",
       "      <td>3</td>\n",
       "      <td>7</td>\n",
       "      <td>...</td>\n",
       "      <td>2</td>\n",
       "      <td>3</td>\n",
       "      <td>4</td>\n",
       "      <td>7</td>\n",
       "      <td>0.165775</td>\n",
       "      <td>0.289941</td>\n",
       "      <td>1.535361</td>\n",
       "      <td>3</td>\n",
       "      <td>-0.342246</td>\n",
       "      <td>-0.100592</td>\n",
       "    </tr>\n",
       "    <tr>\n",
       "      <th>1</th>\n",
       "      <td>2JH5_895</td>\n",
       "      <td>1C5O_BAM</td>\n",
       "      <td>3.209</td>\n",
       "      <td>P00734</td>\n",
       "      <td>C[C@@H](C(=O)N1CCOCC1)N1CC[C@H](NS(=O)(=O)/C=C...</td>\n",
       "      <td>NC(=[NH2+])c1ccccc1</td>\n",
       "      <td>[#7]-[#6]-[#6]:,-[#6]:,-[#6]</td>\n",
       "      <td>28</td>\n",
       "      <td>1</td>\n",
       "      <td>8</td>\n",
       "      <td>...</td>\n",
       "      <td>0</td>\n",
       "      <td>1</td>\n",
       "      <td>0</td>\n",
       "      <td>1</td>\n",
       "      <td>0.050847</td>\n",
       "      <td>0.059829</td>\n",
       "      <td>1.165959</td>\n",
       "      <td>3</td>\n",
       "      <td>-1.491525</td>\n",
       "      <td>-2.401709</td>\n",
       "    </tr>\n",
       "    <tr>\n",
       "      <th>2</th>\n",
       "      <td>5Y12_8JX</td>\n",
       "      <td>1TOW_CRZ</td>\n",
       "      <td>1.769</td>\n",
       "      <td>P15090</td>\n",
       "      <td>COc1ccc(S(=O)(=O)NCCCCC(=O)O)c2ccccc12</td>\n",
       "      <td>O=C(O)CCCn1c2ccccc2c2ccccc21</td>\n",
       "      <td>[#6]1:[#6]:[#6]:[#6]:[#6]:[#6]:1:[#6]:[#6]:[#6...</td>\n",
       "      <td>23</td>\n",
       "      <td>2</td>\n",
       "      <td>6</td>\n",
       "      <td>...</td>\n",
       "      <td>0</td>\n",
       "      <td>0</td>\n",
       "      <td>0</td>\n",
       "      <td>0</td>\n",
       "      <td>0.324561</td>\n",
       "      <td>0.324561</td>\n",
       "      <td>0.570414</td>\n",
       "      <td>1</td>\n",
       "      <td>1.245614</td>\n",
       "      <td>0.245614</td>\n",
       "    </tr>\n",
       "    <tr>\n",
       "      <th>3</th>\n",
       "      <td>1C1U_BAI</td>\n",
       "      <td>5AHG_Y4L</td>\n",
       "      <td>3.943</td>\n",
       "      <td>P00734</td>\n",
       "      <td>N=C(N)c1ccc2[nH]c(Cc3nc4ccccc4[nH]3)nc2c1</td>\n",
       "      <td>CN(C)S(=O)(=O)Nc1ccc(Cl)cc1</td>\n",
       "      <td>[#7]-,:[#6]1:[#6]:[#6]:[#6]:[#6]:[#6]:1</td>\n",
       "      <td>22</td>\n",
       "      <td>5</td>\n",
       "      <td>6</td>\n",
       "      <td>...</td>\n",
       "      <td>1</td>\n",
       "      <td>1</td>\n",
       "      <td>0</td>\n",
       "      <td>1</td>\n",
       "      <td>0.086957</td>\n",
       "      <td>0.106195</td>\n",
       "      <td>1.371942</td>\n",
       "      <td>3</td>\n",
       "      <td>-1.130435</td>\n",
       "      <td>-1.938053</td>\n",
       "    </tr>\n",
       "    <tr>\n",
       "      <th>4</th>\n",
       "      <td>2W26_RIV</td>\n",
       "      <td>2Y80_439</td>\n",
       "      <td>7.217</td>\n",
       "      <td>P00742</td>\n",
       "      <td>O=C(NC[C@H]1CN(c2ccc(N3CCOCC3=O)cc2)C(=O)O1)c1...</td>\n",
       "      <td>CN(C)[C@@H]1CCc2cc(N3CC[C@H](NS(=O)(=O)c4ccc5c...</td>\n",
       "      <td>[#7]-[#6]-[#6]-[#6]-[#7](-[#6]1:[#6]:[#6]:[#6]...</td>\n",
       "      <td>29</td>\n",
       "      <td>1</td>\n",
       "      <td>8</td>\n",
       "      <td>...</td>\n",
       "      <td>1</td>\n",
       "      <td>1</td>\n",
       "      <td>3</td>\n",
       "      <td>2</td>\n",
       "      <td>0.187166</td>\n",
       "      <td>0.283237</td>\n",
       "      <td>1.976439</td>\n",
       "      <td>3</td>\n",
       "      <td>-0.128342</td>\n",
       "      <td>-0.167630</td>\n",
       "    </tr>\n",
       "  </tbody>\n",
       "</table>\n",
       "<p>5 rows × 41 columns</p>\n",
       "</div>"
      ],
      "text/plain": [
       "   template    docked   rmsd uniprot_id  \\\n",
       "0  1YPJ_UIB  1K22_MEL  4.643     P00734   \n",
       "1  2JH5_895  1C5O_BAM  3.209     P00734   \n",
       "2  5Y12_8JX  1TOW_CRZ  1.769     P15090   \n",
       "3  1C1U_BAI  5AHG_Y4L  3.943     P00734   \n",
       "4  2W26_RIV  2Y80_439  7.217     P00742   \n",
       "\n",
       "                                     smiles_template  \\\n",
       "0  CC[C@@H]1[C@@H]2[C@H](C(=O)N1Cc1ccc3c(c1)OCO3)...   \n",
       "1  C[C@@H](C(=O)N1CCOCC1)N1CC[C@H](NS(=O)(=O)/C=C...   \n",
       "2             COc1ccc(S(=O)(=O)NCCCCC(=O)O)c2ccccc12   \n",
       "3          N=C(N)c1ccc2[nH]c(Cc3nc4ccccc4[nH]3)nc2c1   \n",
       "4  O=C(NC[C@H]1CN(c2ccc(N3CCOCC3=O)cc2)C(=O)O1)c1...   \n",
       "\n",
       "                                       smiles_docked  \\\n",
       "0  N=C(N)c1ccc(CNC(=O)[C@@H]2CCN2C(=O)[C@H](NCC(=...   \n",
       "1                                NC(=[NH2+])c1ccccc1   \n",
       "2                       O=C(O)CCCn1c2ccccc2c2ccccc21   \n",
       "3                        CN(C)S(=O)(=O)Nc1ccc(Cl)cc1   \n",
       "4  CN(C)[C@@H]1CCc2cc(N3CC[C@H](NS(=O)(=O)c4ccc5c...   \n",
       "\n",
       "                                    mcs_smartsString  template_HeavyAtomCount  \\\n",
       "0  [#7]=[#6](-[#7])-[#6]1:[#6]:[#6]:[#6](:[#6]:[#...                       33   \n",
       "1                       [#7]-[#6]-[#6]:,-[#6]:,-[#6]                       28   \n",
       "2  [#6]1:[#6]:[#6]:[#6]:[#6]:[#6]:1:[#6]:[#6]:[#6...                       23   \n",
       "3            [#7]-,:[#6]1:[#6]:[#6]:[#6]:[#6]:[#6]:1                       22   \n",
       "4  [#7]-[#6]-[#6]-[#6]-[#7](-[#6]1:[#6]:[#6]:[#6]...                       29   \n",
       "\n",
       "   template_NHOHCount  template_NOCount  ...  mcs_template_NumHDonors  \\\n",
       "0                   3                 7  ...                        2   \n",
       "1                   1                 8  ...                        0   \n",
       "2                   2                 6  ...                        0   \n",
       "3                   5                 6  ...                        1   \n",
       "4                   1                 8  ...                        1   \n",
       "\n",
       "   mcs_docked_NumHDonors  mcs_template_NumRotatableBonds  \\\n",
       "0                      3                               4   \n",
       "1                      1                               0   \n",
       "2                      0                               0   \n",
       "3                      1                               0   \n",
       "4                      1                               3   \n",
       "\n",
       "   mcs_docked_NumRotatableBonds  ec_tanimoto_similarity  \\\n",
       "0                             7                0.165775   \n",
       "1                             1                0.050847   \n",
       "2                             0                0.324561   \n",
       "3                             1                0.086957   \n",
       "4                             2                0.187166   \n",
       "\n",
       "   fc_tanimoto_similarity  log_RMSD  bin_RMSD  Xtransf_ec_tanimoto_similarity  \\\n",
       "0                0.289941  1.535361         3                       -0.342246   \n",
       "1                0.059829  1.165959         3                       -1.491525   \n",
       "2                0.324561  0.570414         1                        1.245614   \n",
       "3                0.106195  1.371942         3                       -1.130435   \n",
       "4                0.283237  1.976439         3                       -0.128342   \n",
       "\n",
       "   Xtransf_fc_tanimoto_similarity  \n",
       "0                       -0.100592  \n",
       "1                       -2.401709  \n",
       "2                        0.245614  \n",
       "3                       -1.938053  \n",
       "4                       -0.167630  \n",
       "\n",
       "[5 rows x 41 columns]"
      ]
     },
     "execution_count": 11,
     "metadata": {},
     "output_type": "execute_result"
    }
   ],
   "source": [
    "train.head()"
   ]
  },
  {
   "cell_type": "markdown",
   "id": "4f59daa4",
   "metadata": {},
   "source": [
    "# Preprocessing building ImageDataGenerator"
   ]
  },
  {
   "cell_type": "code",
   "execution_count": 12,
   "id": "809b5437",
   "metadata": {},
   "outputs": [],
   "source": [
    "import matplotlib.pyplot as plt\n",
    "import numpy as np\n",
    "import os\n",
    "import random\n",
    "import tensorflow as tf\n",
    "from pathlib import Path\n",
    "from tensorflow.keras import applications\n",
    "from tensorflow.keras import layers\n",
    "from tensorflow.keras import losses\n",
    "from tensorflow.keras import optimizers\n",
    "from tensorflow.keras import metrics\n",
    "from tensorflow.keras import Model\n",
    "from tensorflow.keras.applications import resnet"
   ]
  },
  {
   "cell_type": "code",
   "execution_count": 13,
   "id": "59928f03",
   "metadata": {
    "scrolled": true
   },
   "outputs": [
    {
     "name": "stdout",
     "output_type": "stream",
     "text": [
      "<class 'pandas.core.frame.DataFrame'>\n",
      "RangeIndex: 23924 entries, 0 to 23923\n",
      "Data columns (total 44 columns):\n",
      " #   Column                          Non-Null Count  Dtype  \n",
      "---  ------                          --------------  -----  \n",
      " 0   template                        23924 non-null  object \n",
      " 1   docked                          23924 non-null  object \n",
      " 2   rmsd                            23924 non-null  float64\n",
      " 3   uniprot_id                      23924 non-null  object \n",
      " 4   smiles_template                 23924 non-null  object \n",
      " 5   smiles_docked                   23924 non-null  object \n",
      " 6   mcs_smartsString                23924 non-null  object \n",
      " 7   template_HeavyAtomCount         23924 non-null  int64  \n",
      " 8   template_NHOHCount              23924 non-null  int64  \n",
      " 9   template_NOCount                23924 non-null  int64  \n",
      " 10  template_RingCount              23924 non-null  int64  \n",
      " 11  template_NumHAcceptors          23924 non-null  int64  \n",
      " 12  template_NumHDonors             23924 non-null  int64  \n",
      " 13  template_NumHeteroAtoms         23924 non-null  int64  \n",
      " 14  template_NumRotatableBonds      23924 non-null  int64  \n",
      " 15  docked_HeavyAtomCount           23924 non-null  int64  \n",
      " 16  docked_NHOHCount                23924 non-null  int64  \n",
      " 17  docked_NOCount                  23924 non-null  int64  \n",
      " 18  docked_RingCount                23924 non-null  int64  \n",
      " 19  docked_NumHAcceptors            23924 non-null  int64  \n",
      " 20  docked_NumHDonors               23924 non-null  int64  \n",
      " 21  docked_NumHeteroAtoms           23924 non-null  int64  \n",
      " 22  docked_NumRotatableBonds        23924 non-null  int64  \n",
      " 23  mcs_HeavyAtomCount              23924 non-null  int64  \n",
      " 24  mcs_NOCount                     23924 non-null  int64  \n",
      " 25  mcs_RingCount                   23924 non-null  int64  \n",
      " 26  mcs_NumHeteroAtoms              23924 non-null  int64  \n",
      " 27  mcs_template_NHOHCount          23924 non-null  int64  \n",
      " 28  mcs_docked_NHOHCount            23924 non-null  int64  \n",
      " 29  mcs_template_NumHAcceptors      23924 non-null  int64  \n",
      " 30  mcs_docked_NumHAcceptors        23924 non-null  int64  \n",
      " 31  mcs_template_NumHDonors         23924 non-null  int64  \n",
      " 32  mcs_docked_NumHDonors           23924 non-null  int64  \n",
      " 33  mcs_template_NumRotatableBonds  23924 non-null  int64  \n",
      " 34  mcs_docked_NumRotatableBonds    23924 non-null  int64  \n",
      " 35  ec_tanimoto_similarity          23924 non-null  float64\n",
      " 36  fc_tanimoto_similarity          23924 non-null  float64\n",
      " 37  log_RMSD                        23924 non-null  float64\n",
      " 38  bin_RMSD                        23924 non-null  int64  \n",
      " 39  Xtransf_ec_tanimoto_similarity  23924 non-null  float64\n",
      " 40  Xtransf_fc_tanimoto_similarity  23924 non-null  float64\n",
      " 41  img_temp                        23924 non-null  object \n",
      " 42  img_docked                      23924 non-null  object \n",
      " 43  is_valid                        23924 non-null  bool   \n",
      "dtypes: bool(1), float64(6), int64(29), object(8)\n",
      "memory usage: 7.9+ MB\n"
     ]
    }
   ],
   "source": [
    "train['img_temp'] = train['template'] + '.png'\n",
    "train['img_docked'] = train['docked'] + '.png'\n",
    "train['is_valid'] = False\n",
    "train.info()"
   ]
  },
  {
   "cell_type": "code",
   "execution_count": 14,
   "id": "352ed10d",
   "metadata": {
    "scrolled": true
   },
   "outputs": [
    {
     "data": {
      "text/html": [
       "<div>\n",
       "<style scoped>\n",
       "    .dataframe tbody tr th:only-of-type {\n",
       "        vertical-align: middle;\n",
       "    }\n",
       "\n",
       "    .dataframe tbody tr th {\n",
       "        vertical-align: top;\n",
       "    }\n",
       "\n",
       "    .dataframe thead th {\n",
       "        text-align: right;\n",
       "    }\n",
       "</style>\n",
       "<table border=\"1\" class=\"dataframe\">\n",
       "  <thead>\n",
       "    <tr style=\"text-align: right;\">\n",
       "      <th></th>\n",
       "      <th>template</th>\n",
       "      <th>docked</th>\n",
       "      <th>rmsd</th>\n",
       "      <th>uniprot_id</th>\n",
       "      <th>smiles_template</th>\n",
       "      <th>smiles_docked</th>\n",
       "      <th>mcs_smartsString</th>\n",
       "      <th>template_HeavyAtomCount</th>\n",
       "      <th>template_NHOHCount</th>\n",
       "      <th>template_NOCount</th>\n",
       "      <th>...</th>\n",
       "      <th>mcs_docked_NumRotatableBonds</th>\n",
       "      <th>ec_tanimoto_similarity</th>\n",
       "      <th>fc_tanimoto_similarity</th>\n",
       "      <th>log_RMSD</th>\n",
       "      <th>bin_RMSD</th>\n",
       "      <th>Xtransf_ec_tanimoto_similarity</th>\n",
       "      <th>Xtransf_fc_tanimoto_similarity</th>\n",
       "      <th>img_temp</th>\n",
       "      <th>img_docked</th>\n",
       "      <th>is_valid</th>\n",
       "    </tr>\n",
       "  </thead>\n",
       "  <tbody>\n",
       "    <tr>\n",
       "      <th>0</th>\n",
       "      <td>2C8Y_C3M</td>\n",
       "      <td>3SHC_B01</td>\n",
       "      <td>6.732</td>\n",
       "      <td>P00734</td>\n",
       "      <td>N[C@@H](Cc1ccccc1)[C@H](O)CNS(=O)(=O)c1ccc2ccc...</td>\n",
       "      <td>N[C@H](Cc1ccccc1)C(=O)N1CCC[C@H]1C(=O)NCc1cc(C...</td>\n",
       "      <td>[#7]-[#6](-[#6]-[#6]1:[#6]:[#6]:[#6]:[#6]:[#6]...</td>\n",
       "      <td>26</td>\n",
       "      <td>4</td>\n",
       "      <td>5</td>\n",
       "      <td>...</td>\n",
       "      <td>3</td>\n",
       "      <td>0.240260</td>\n",
       "      <td>0.308219</td>\n",
       "      <td>1.906872</td>\n",
       "      <td>3</td>\n",
       "      <td>0.402597</td>\n",
       "      <td>0.082192</td>\n",
       "      <td>2C8Y_C3M.png</td>\n",
       "      <td>3SHC_B01.png</td>\n",
       "      <td>True</td>\n",
       "    </tr>\n",
       "    <tr>\n",
       "      <th>1</th>\n",
       "      <td>2D1J_D01</td>\n",
       "      <td>1LPZ_CMB</td>\n",
       "      <td>7.109</td>\n",
       "      <td>P00742</td>\n",
       "      <td>O=C(c1cc2c(ccc[n+]2[O-])s1)N1CCN(S(=O)(=O)c2cc...</td>\n",
       "      <td>Cc1cccc2c1cc(C(=O)NCc1cc(Cl)cc(Cl)c1)n2Cc1cccc...</td>\n",
       "      <td>[#6](:[#6]:[#6]:[#6]:,-[#6]:,-[#7](:,-[#6]-[#6...</td>\n",
       "      <td>31</td>\n",
       "      <td>1</td>\n",
       "      <td>8</td>\n",
       "      <td>...</td>\n",
       "      <td>3</td>\n",
       "      <td>0.147959</td>\n",
       "      <td>0.203209</td>\n",
       "      <td>1.961362</td>\n",
       "      <td>3</td>\n",
       "      <td>-0.520408</td>\n",
       "      <td>-0.967914</td>\n",
       "      <td>2D1J_D01.png</td>\n",
       "      <td>1LPZ_CMB.png</td>\n",
       "      <td>True</td>\n",
       "    </tr>\n",
       "    <tr>\n",
       "      <th>2</th>\n",
       "      <td>4A7I_A7I</td>\n",
       "      <td>1NFX_RDR</td>\n",
       "      <td>7.520</td>\n",
       "      <td>P00742</td>\n",
       "      <td>CC(C)N1CCC(NS(=O)(=O)CCNC(=O)c2ccc(Cl)s2)CC1</td>\n",
       "      <td>O=C1CN(S(=O)(=O)c2cc3ccc(Cl)cc3s2)CCN1Cc1cc2cn...</td>\n",
       "      <td>[#6]-[#6](-,:[#6])-,:[#7](-,:[#6]-,:[#6]-,:[#6...</td>\n",
       "      <td>24</td>\n",
       "      <td>2</td>\n",
       "      <td>6</td>\n",
       "      <td>...</td>\n",
       "      <td>3</td>\n",
       "      <td>0.137143</td>\n",
       "      <td>0.177515</td>\n",
       "      <td>2.017566</td>\n",
       "      <td>3</td>\n",
       "      <td>-0.628571</td>\n",
       "      <td>-1.224852</td>\n",
       "      <td>4A7I_A7I.png</td>\n",
       "      <td>1NFX_RDR.png</td>\n",
       "      <td>True</td>\n",
       "    </tr>\n",
       "    <tr>\n",
       "      <th>3</th>\n",
       "      <td>1ZGV_501</td>\n",
       "      <td>1C5O_BAM</td>\n",
       "      <td>3.197</td>\n",
       "      <td>P00734</td>\n",
       "      <td>CCCCNc1cc(C)nc2nc(Nc3cc(Cl)ccc3C)nn12</td>\n",
       "      <td>NC(=[NH2+])c1ccccc1</td>\n",
       "      <td>[#7]-[#6]-,:[#6](:[#6]:[#6]:[#6]:[#6]):,-[#6]</td>\n",
       "      <td>24</td>\n",
       "      <td>2</td>\n",
       "      <td>6</td>\n",
       "      <td>...</td>\n",
       "      <td>1</td>\n",
       "      <td>0.064815</td>\n",
       "      <td>0.127451</td>\n",
       "      <td>1.162213</td>\n",
       "      <td>3</td>\n",
       "      <td>-1.351852</td>\n",
       "      <td>-1.725490</td>\n",
       "      <td>1ZGV_501.png</td>\n",
       "      <td>1C5O_BAM.png</td>\n",
       "      <td>True</td>\n",
       "    </tr>\n",
       "    <tr>\n",
       "      <th>4</th>\n",
       "      <td>3DA6_BZ9</td>\n",
       "      <td>4W4V_3H8</td>\n",
       "      <td>11.188</td>\n",
       "      <td>P53779</td>\n",
       "      <td>CNc1nccc(-c2cccnc2Oc2c(C)cc(Nc3nc4ccccc4[nH]3)...</td>\n",
       "      <td>Cc1cc(NC(=O)c2cccc(-n3cc(NC(=O)Nc4ccccc4Cl)cn3...</td>\n",
       "      <td>[#7]:[#6]:[#6](-,:[#7]-,:[#6]-[#7]-[#6]1:[#6]:...</td>\n",
       "      <td>36</td>\n",
       "      <td>3</td>\n",
       "      <td>8</td>\n",
       "      <td>...</td>\n",
       "      <td>2</td>\n",
       "      <td>0.190698</td>\n",
       "      <td>0.213270</td>\n",
       "      <td>2.414842</td>\n",
       "      <td>3</td>\n",
       "      <td>-0.093023</td>\n",
       "      <td>-0.867299</td>\n",
       "      <td>3DA6_BZ9.png</td>\n",
       "      <td>4W4V_3H8.png</td>\n",
       "      <td>True</td>\n",
       "    </tr>\n",
       "  </tbody>\n",
       "</table>\n",
       "<p>5 rows × 44 columns</p>\n",
       "</div>"
      ],
      "text/plain": [
       "   template    docked    rmsd uniprot_id  \\\n",
       "0  2C8Y_C3M  3SHC_B01   6.732     P00734   \n",
       "1  2D1J_D01  1LPZ_CMB   7.109     P00742   \n",
       "2  4A7I_A7I  1NFX_RDR   7.520     P00742   \n",
       "3  1ZGV_501  1C5O_BAM   3.197     P00734   \n",
       "4  3DA6_BZ9  4W4V_3H8  11.188     P53779   \n",
       "\n",
       "                                     smiles_template  \\\n",
       "0  N[C@@H](Cc1ccccc1)[C@H](O)CNS(=O)(=O)c1ccc2ccc...   \n",
       "1  O=C(c1cc2c(ccc[n+]2[O-])s1)N1CCN(S(=O)(=O)c2cc...   \n",
       "2       CC(C)N1CCC(NS(=O)(=O)CCNC(=O)c2ccc(Cl)s2)CC1   \n",
       "3              CCCCNc1cc(C)nc2nc(Nc3cc(Cl)ccc3C)nn12   \n",
       "4  CNc1nccc(-c2cccnc2Oc2c(C)cc(Nc3nc4ccccc4[nH]3)...   \n",
       "\n",
       "                                       smiles_docked  \\\n",
       "0  N[C@H](Cc1ccccc1)C(=O)N1CCC[C@H]1C(=O)NCc1cc(C...   \n",
       "1  Cc1cccc2c1cc(C(=O)NCc1cc(Cl)cc(Cl)c1)n2Cc1cccc...   \n",
       "2  O=C1CN(S(=O)(=O)c2cc3ccc(Cl)cc3s2)CCN1Cc1cc2cn...   \n",
       "3                                NC(=[NH2+])c1ccccc1   \n",
       "4  Cc1cc(NC(=O)c2cccc(-n3cc(NC(=O)Nc4ccccc4Cl)cn3...   \n",
       "\n",
       "                                    mcs_smartsString  template_HeavyAtomCount  \\\n",
       "0  [#7]-[#6](-[#6]-[#6]1:[#6]:[#6]:[#6]:[#6]:[#6]...                       26   \n",
       "1  [#6](:[#6]:[#6]:[#6]:,-[#6]:,-[#7](:,-[#6]-[#6...                       31   \n",
       "2  [#6]-[#6](-,:[#6])-,:[#7](-,:[#6]-,:[#6]-,:[#6...                       24   \n",
       "3      [#7]-[#6]-,:[#6](:[#6]:[#6]:[#6]:[#6]):,-[#6]                       24   \n",
       "4  [#7]:[#6]:[#6](-,:[#7]-,:[#6]-[#7]-[#6]1:[#6]:...                       36   \n",
       "\n",
       "   template_NHOHCount  template_NOCount  ...  mcs_docked_NumRotatableBonds  \\\n",
       "0                   4                 5  ...                             3   \n",
       "1                   1                 8  ...                             3   \n",
       "2                   2                 6  ...                             3   \n",
       "3                   2                 6  ...                             1   \n",
       "4                   3                 8  ...                             2   \n",
       "\n",
       "   ec_tanimoto_similarity  fc_tanimoto_similarity  log_RMSD  bin_RMSD  \\\n",
       "0                0.240260                0.308219  1.906872         3   \n",
       "1                0.147959                0.203209  1.961362         3   \n",
       "2                0.137143                0.177515  2.017566         3   \n",
       "3                0.064815                0.127451  1.162213         3   \n",
       "4                0.190698                0.213270  2.414842         3   \n",
       "\n",
       "   Xtransf_ec_tanimoto_similarity  Xtransf_fc_tanimoto_similarity  \\\n",
       "0                        0.402597                        0.082192   \n",
       "1                       -0.520408                       -0.967914   \n",
       "2                       -0.628571                       -1.224852   \n",
       "3                       -1.351852                       -1.725490   \n",
       "4                       -0.093023                       -0.867299   \n",
       "\n",
       "       img_temp    img_docked  is_valid  \n",
       "0  2C8Y_C3M.png  3SHC_B01.png      True  \n",
       "1  2D1J_D01.png  1LPZ_CMB.png      True  \n",
       "2  4A7I_A7I.png  1NFX_RDR.png      True  \n",
       "3  1ZGV_501.png  1C5O_BAM.png      True  \n",
       "4  3DA6_BZ9.png  4W4V_3H8.png      True  \n",
       "\n",
       "[5 rows x 44 columns]"
      ]
     },
     "execution_count": 14,
     "metadata": {},
     "output_type": "execute_result"
    }
   ],
   "source": [
    "valid['img_temp'] = valid['template'] + '.png'\n",
    "valid['img_docked'] = valid['docked'] + '.png'\n",
    "valid['is_valid'] = True\n",
    "valid.head()"
   ]
  },
  {
   "cell_type": "code",
   "execution_count": 15,
   "id": "a313685b",
   "metadata": {
    "scrolled": true
   },
   "outputs": [],
   "source": [
    "target_shape=(224, 224)"
   ]
  },
  {
   "cell_type": "code",
   "execution_count": 16,
   "id": "bac8df9e",
   "metadata": {},
   "outputs": [],
   "source": [
    "IMAGES = '../dataset/oldsmiledata/mol_images/all/'"
   ]
  },
  {
   "cell_type": "code",
   "execution_count": 17,
   "id": "87693386",
   "metadata": {},
   "outputs": [],
   "source": [
    "def preprocess_image(filename):\n",
    "    img_str = tf.io.read_file(IMAGES + filename)\n",
    "    image = tf.image.decode_jpeg(img_str, channels=3)\n",
    "    image = tf.image.convert_image_dtype(image, tf.float32)\n",
    "    image = tf.image.resize(image, target_shape)\n",
    "    return image"
   ]
  },
  {
   "cell_type": "code",
   "execution_count": 71,
   "id": "24fccb0c",
   "metadata": {},
   "outputs": [],
   "source": [
    "def preprocess_triplets(tup, negative):\n",
    "    \"\"\"\n",
    "    Given the filenames corresponding to the three images, load and\n",
    "    preprocess them.\n",
    "    \"\"\"\n",
    "\n",
    "    return (\n",
    "        preprocess_image(tup[0]),\n",
    "        preprocess_image(tup[1]),\n",
    "        preprocess_image(negative),\n",
    "    )"
   ]
  },
  {
   "cell_type": "code",
   "execution_count": 20,
   "id": "6ac49a9a",
   "metadata": {},
   "outputs": [
    {
     "data": {
      "text/plain": [
       "<tf.Tensor: shape=(224, 224, 3), dtype=float32, numpy=\n",
       "array([[[1., 1., 1.],\n",
       "        [1., 1., 1.],\n",
       "        [1., 1., 1.],\n",
       "        ...,\n",
       "        [1., 1., 1.],\n",
       "        [1., 1., 1.],\n",
       "        [1., 1., 1.]],\n",
       "\n",
       "       [[1., 1., 1.],\n",
       "        [1., 1., 1.],\n",
       "        [1., 1., 1.],\n",
       "        ...,\n",
       "        [1., 1., 1.],\n",
       "        [1., 1., 1.],\n",
       "        [1., 1., 1.]],\n",
       "\n",
       "       [[1., 1., 1.],\n",
       "        [1., 1., 1.],\n",
       "        [1., 1., 1.],\n",
       "        ...,\n",
       "        [1., 1., 1.],\n",
       "        [1., 1., 1.],\n",
       "        [1., 1., 1.]],\n",
       "\n",
       "       ...,\n",
       "\n",
       "       [[1., 1., 1.],\n",
       "        [1., 1., 1.],\n",
       "        [1., 1., 1.],\n",
       "        ...,\n",
       "        [1., 1., 1.],\n",
       "        [1., 1., 1.],\n",
       "        [1., 1., 1.]],\n",
       "\n",
       "       [[1., 1., 1.],\n",
       "        [1., 1., 1.],\n",
       "        [1., 1., 1.],\n",
       "        ...,\n",
       "        [1., 1., 1.],\n",
       "        [1., 1., 1.],\n",
       "        [1., 1., 1.]],\n",
       "\n",
       "       [[1., 1., 1.],\n",
       "        [1., 1., 1.],\n",
       "        [1., 1., 1.],\n",
       "        ...,\n",
       "        [1., 1., 1.],\n",
       "        [1., 1., 1.],\n",
       "        [1., 1., 1.]]], dtype=float32)>"
      ]
     },
     "execution_count": 20,
     "metadata": {},
     "output_type": "execute_result"
    }
   ],
   "source": [
    "image = preprocess_image('/4A7I_A7I.png')\n",
    "image"
   ]
  },
  {
   "cell_type": "code",
   "execution_count": 21,
   "id": "b6922b90",
   "metadata": {},
   "outputs": [],
   "source": [
    "train_template_images = [r.img_temp for i, r in train.iterrows()]"
   ]
  },
  {
   "cell_type": "code",
   "execution_count": 22,
   "id": "d139b148",
   "metadata": {},
   "outputs": [],
   "source": [
    "train_docked_images = [r.img_docked for i, r in train.iterrows()]"
   ]
  },
  {
   "cell_type": "code",
   "execution_count": 23,
   "id": "aecee4fd",
   "metadata": {},
   "outputs": [
    {
     "data": {
      "text/plain": [
       "(23924, 23924)"
      ]
     },
     "execution_count": 23,
     "metadata": {},
     "output_type": "execute_result"
    }
   ],
   "source": [
    "len(train_template_images), len(train_docked_images)"
   ]
  },
  {
   "cell_type": "code",
   "execution_count": 35,
   "id": "a0386de5",
   "metadata": {},
   "outputs": [],
   "source": [
    "valid_template_images = [r.img_temp for i, r in valid.iterrows()]\n",
    "valid_docked_images = [r.img_docked for i, r in valid.iterrows()]"
   ]
  },
  {
   "cell_type": "code",
   "execution_count": 25,
   "id": "60054fa0",
   "metadata": {},
   "outputs": [],
   "source": [
    "negative_images = train_template_images + train_docked_images\n",
    "np.random.RandomState(seed=32).shuffle(negative_images)\n",
    "\n",
    "negative_dataset = tf.data.Dataset.from_tensor_slices(negative_images)\n",
    "negative_dataset = negative_dataset.shuffle(buffer_size=4096)"
   ]
  },
  {
   "cell_type": "code",
   "execution_count": 36,
   "id": "db90abfd",
   "metadata": {},
   "outputs": [],
   "source": [
    "val_negative_images = valid_template_images + valid_docked_images\n",
    "np.random.RandomState(seed=32).shuffle(negative_images)\n",
    "\n",
    "val_negative_dataset = tf.data.Dataset.from_tensor_slices(negative_images)\n",
    "val_negative_dataset = negative_dataset.shuffle(buffer_size=4096)"
   ]
  },
  {
   "cell_type": "code",
   "execution_count": 37,
   "id": "116b5c32",
   "metadata": {},
   "outputs": [
    {
     "data": {
      "text/plain": [
       "24948"
      ]
     },
     "execution_count": 37,
     "metadata": {},
     "output_type": "execute_result"
    }
   ],
   "source": [
    "image_count = len(train_template_images) + len(valid_template_images)\n",
    "image_count"
   ]
  },
  {
   "cell_type": "code",
   "execution_count": 38,
   "id": "3917c506",
   "metadata": {},
   "outputs": [],
   "source": [
    "template_dataset = tf.data.Dataset.from_tensor_slices(train_template_images)\n",
    "docked_dataset = tf.data.Dataset.from_tensor_slices(train_docked_images)"
   ]
  },
  {
   "cell_type": "code",
   "execution_count": 39,
   "id": "e9fb064e",
   "metadata": {},
   "outputs": [],
   "source": [
    "val_template_dataset = tf.data.Dataset.from_tensor_slices(valid_template_images)\n",
    "val_docked_dataset = tf.data.Dataset.from_tensor_slices(valid_docked_images)"
   ]
  },
  {
   "cell_type": "code",
   "execution_count": 40,
   "id": "c634d16a",
   "metadata": {},
   "outputs": [],
   "source": [
    "y_train = train['log_RMSD']\n",
    "y_train = tf.data.Dataset.from_tensor_slices(list(y_train))\n"
   ]
  },
  {
   "cell_type": "code",
   "execution_count": 41,
   "id": "6ee52781",
   "metadata": {},
   "outputs": [],
   "source": [
    "y_valid = valid['log_RMSD']\n",
    "y_valid = tf.data.Dataset.from_tensor_slices(list(y_train))"
   ]
  },
  {
   "cell_type": "code",
   "execution_count": 67,
   "id": "6cee0ffa",
   "metadata": {},
   "outputs": [
    {
     "data": {
      "text/plain": [
       "(<ZipDataset shapes: (((), ()), ()), types: ((tf.string, tf.string), tf.string)>,\n",
       " <ZipDataset shapes: (((), ()), ()), types: ((tf.string, tf.string), tf.string)>)"
      ]
     },
     "execution_count": 67,
     "metadata": {},
     "output_type": "execute_result"
    }
   ],
   "source": [
    "train_dataset = tf.data.Dataset.zip((template_dataset, docked_dataset))\n",
    "train_dataset = tf.data.Dataset.zip((train_dataset, negative_dataset))\n",
    "valid_dataset = tf.data.Dataset.zip((val_template_dataset, val_docked_dataset))\n",
    "valid_dataset = tf.data.Dataset.zip((valid_dataset, val_negative_dataset))\n",
    "train_dataset, valid_dataset"
   ]
  },
  {
   "cell_type": "code",
   "execution_count": 72,
   "id": "c5504d23",
   "metadata": {},
   "outputs": [
    {
     "data": {
      "text/plain": [
       "(<MapDataset shapes: ((224, 224, 3), (224, 224, 3), (224, 224, 3)), types: (tf.float32, tf.float32, tf.float32)>,\n",
       " <MapDataset shapes: ((224, 224, 3), (224, 224, 3), (224, 224, 3)), types: (tf.float32, tf.float32, tf.float32)>)"
      ]
     },
     "execution_count": 72,
     "metadata": {},
     "output_type": "execute_result"
    }
   ],
   "source": [
    "train_dataset = train_dataset.map(preprocess_triplets)\n",
    "val_dataset = valid_dataset.map(preprocess_triplets)\n",
    "train_dataset, val_dataset"
   ]
  },
  {
   "cell_type": "code",
   "execution_count": 73,
   "id": "125c0a00",
   "metadata": {},
   "outputs": [
    {
     "data": {
      "text/plain": [
       "<PrefetchDataset shapes: ((None, 224, 224, 3), (None, 224, 224, 3), (None, 224, 224, 3)), types: (tf.float32, tf.float32, tf.float32)>"
      ]
     },
     "execution_count": 73,
     "metadata": {},
     "output_type": "execute_result"
    }
   ],
   "source": [
    "train_dataset = train_dataset.batch(32)\n",
    "train_dataset = train_dataset.prefetch(8)\n",
    "train_dataset"
   ]
  },
  {
   "cell_type": "code",
   "execution_count": 74,
   "id": "57f30d7b",
   "metadata": {},
   "outputs": [
    {
     "data": {
      "text/plain": [
       "<PrefetchDataset shapes: ((None, 224, 224, 3), (None, 224, 224, 3), (None, 224, 224, 3)), types: (tf.float32, tf.float32, tf.float32)>"
      ]
     },
     "execution_count": 74,
     "metadata": {},
     "output_type": "execute_result"
    }
   ],
   "source": [
    "val_dataset = val_dataset.batch(32, drop_remainder=False)\n",
    "val_dataset = val_dataset.prefetch(8)\n",
    "val_dataset"
   ]
  },
  {
   "cell_type": "code",
   "execution_count": 75,
   "id": "6585724f",
   "metadata": {},
   "outputs": [
    {
     "data": {
      "image/png": "[encoded data removed]",
      "text/plain": [
       "<Figure size 648x648 with 9 Axes>"
      ]
     },
     "metadata": {
      "needs_background": "light"
     },
     "output_type": "display_data"
    }
   ],
   "source": [
    "def visualize(anchor, positive, negative):\n",
    "    \"\"\"Visualize a few triplets from the supplied batches.\"\"\"\n",
    "\n",
    "    def show(ax, image):\n",
    "        ax.imshow(image)\n",
    "        ax.get_xaxis().set_visible(False)\n",
    "        ax.get_yaxis().set_visible(False)\n",
    "\n",
    "    fig = plt.figure(figsize=(9, 9))\n",
    "\n",
    "    axs = fig.subplots(3, 3)\n",
    "    for i in range(3):\n",
    "        show(axs[i, 0], anchor[i])\n",
    "        show(axs[i, 1], positive[i])\n",
    "        show(axs[i, 2], negative[i])\n",
    "\n",
    "\n",
    "visualize(*list(val_dataset.take(1).as_numpy_iterator())[0])\n"
   ]
  },
  {
   "cell_type": "markdown",
   "id": "cbb7e500",
   "metadata": {},
   "source": [
    "# Create Siamese net with keras"
   ]
  },
  {
   "cell_type": "code",
   "execution_count": 80,
   "id": "0f36080c",
   "metadata": {},
   "outputs": [],
   "source": [
    "base_cnn = resnet.ResNet50(\n",
    "    weights=\"imagenet\", input_shape=target_shape +  (3,), include_top=False\n",
    ")\n",
    "\n",
    "flatten = layers.Flatten()(base_cnn.output)\n",
    "dense1 = layers.Dense(512, activation=\"relu\")(flatten)\n",
    "dense1 = layers.BatchNormalization()(dense1)\n",
    "dense2 = layers.Dense(256, activation=\"relu\")(dense1)\n",
    "dense2 = layers.BatchNormalization()(dense2)\n",
    "output = layers.Dense(256)(dense2)\n",
    "\n",
    "embedding = Model(base_cnn.input, output, name=\"Embedding\")\n",
    "\n",
    "trainable = False\n",
    "for layer in base_cnn.layers:\n",
    "    if layer.name == \"conv5_block1_out\":\n",
    "        trainable = True\n",
    "    layer.trainable = trainable\n"
   ]
  },
  {
   "cell_type": "code",
   "execution_count": 81,
   "id": "e04f2720",
   "metadata": {},
   "outputs": [],
   "source": [
    "class DistanceLayer(layers.Layer):\n",
    "    \"\"\"\n",
    "    This layer is responsible for computing the distance between the anchor\n",
    "    embedding and the positive embedding, and the anchor embedding and the\n",
    "    negative embedding.\n",
    "    \"\"\"\n",
    "\n",
    "    def __init__(self, **kwargs):\n",
    "        super().__init__(**kwargs)\n",
    "\n",
    "    def call(self, anchor, positive, negative):\n",
    "        ap_distance = tf.reduce_sum(tf.square(anchor - positive), -1)\n",
    "        an_distance = tf.reduce_sum(tf.square(anchor - negative), -1)\n",
    "        return (ap_distance, an_distance)\n",
    "\n",
    "\n",
    "anchor_input = layers.Input(name=\"anchor\", shape=target_shape + (3,))\n",
    "positive_input = layers.Input(name=\"positive\", shape=target_shape + (3,))\n",
    "negative_input = layers.Input(name=\"negative\", shape=target_shape + (3,))\n",
    "\n",
    "distances = DistanceLayer()(\n",
    "    embedding(resnet.preprocess_input(anchor_input)),\n",
    "    embedding(resnet.preprocess_input(positive_input)),\n",
    "    embedding(resnet.preprocess_input(negative_input)),\n",
    ")\n",
    "\n",
    "siamese_network = Model(\n",
    "    inputs=[anchor_input, positive_input, negative_input], outputs=distances\n",
    ")\n"
   ]
  },
  {
   "cell_type": "code",
   "execution_count": 82,
   "id": "61943aca",
   "metadata": {},
   "outputs": [],
   "source": [
    "class SiameseModel(Model):\n",
    "    \"\"\"The Siamese Network model with a custom training and testing loops.\n",
    "\n",
    "    Computes the triplet loss using the three embeddings produced by the\n",
    "    Siamese Network.\n",
    "\n",
    "    The triplet loss is defined as:\n",
    "       L(A, P, N) = max(‖f(A) - f(P)‖² - ‖f(A) - f(N)‖² + margin, 0)\n",
    "    \"\"\"\n",
    "\n",
    "    def __init__(self, siamese_network, margin=0.5):\n",
    "        super(SiameseModel, self).__init__()\n",
    "        self.siamese_network = siamese_network\n",
    "        self.margin = margin\n",
    "        self.loss_tracker = metrics.Mean(name=\"loss\")\n",
    "\n",
    "    def call(self, inputs):\n",
    "        return self.siamese_network(inputs)\n",
    "\n",
    "    def train_step(self, data):\n",
    "        # GradientTape is a context manager that records every operation that\n",
    "        # you do inside. We are using it here to compute the loss so we can get\n",
    "        # the gradients and apply them using the optimizer specified in\n",
    "        # `compile()`.\n",
    "        with tf.GradientTape() as tape:\n",
    "            loss = self._compute_loss(data)\n",
    "\n",
    "        # Storing the gradients of the loss function with respect to the\n",
    "        # weights/parameters.\n",
    "        gradients = tape.gradient(loss, self.siamese_network.trainable_weights)\n",
    "\n",
    "        # Applying the gradients on the model using the specified optimizer\n",
    "        self.optimizer.apply_gradients(\n",
    "            zip(gradients, self.siamese_network.trainable_weights)\n",
    "        )\n",
    "\n",
    "        # Let's update and return the training loss metric.\n",
    "        self.loss_tracker.update_state(loss)\n",
    "        return {\"loss\": self.loss_tracker.result()}\n",
    "\n",
    "    def test_step(self, data):\n",
    "        loss = self._compute_loss(data)\n",
    "\n",
    "        # Let's update and return the loss metric.\n",
    "        self.loss_tracker.update_state(loss)\n",
    "        return {\"loss\": self.loss_tracker.result()}\n",
    "\n",
    "    def _compute_loss(self, data):\n",
    "        # The output of the network is a tuple containing the distances\n",
    "        # between the anchor and the positive example, and the anchor and\n",
    "        # the negative example.\n",
    "        ap_distance, an_distance = self.siamese_network(data)\n",
    "\n",
    "        # Computing the Triplet Loss by subtracting both distances and\n",
    "        # making sure we don't get a negative value.\n",
    "        loss = ap_distance - an_distance\n",
    "        loss = tf.maximum(loss + self.margin, 0.0)\n",
    "        return loss\n",
    "\n",
    "    @property\n",
    "    def metrics(self):\n",
    "        # We need to list our metrics here so the `reset_states()` can be\n",
    "        # called automatically.\n",
    "        return [self.loss_tracker]\n"
   ]
  },
  {
   "cell_type": "code",
   "execution_count": 83,
   "id": "6bb3456d",
   "metadata": {},
   "outputs": [
    {
     "ename": "ValueError",
     "evalue": "in converted code:\n\n    <ipython-input-78-6581cf0f6e0b>:18 call  *\n        return self.siamese_network(inputs)\n    /home/kjetil/anaconda3/envs/dat255-drug/lib/python3.6/site-packages/tensorflow_core/python/keras/engine/base_layer.py:737 __call__\n        self.name)\n    /home/kjetil/anaconda3/envs/dat255-drug/lib/python3.6/site-packages/tensorflow_core/python/keras/engine/input_spec.py:155 assert_input_compatibility\n        ' input tensors. Inputs received: ' + str(inputs))\n\n    ValueError: Layer model_3 expects 3 inputs, but it received 1 input tensors. Inputs received: [<tf.Tensor 'input_1_4:0' shape=(None, 224, 224, 3) dtype=float32>]\n",
     "output_type": "error",
     "traceback": [
      "\u001b[0;31m---------------------------------------------------------------------------\u001b[0m",
      "\u001b[0;31mValueError\u001b[0m                                Traceback (most recent call last)",
      "\u001b[0;32m<ipython-input-83-cb5d26dca408>\u001b[0m in \u001b[0;36m<module>\u001b[0;34m\u001b[0m\n\u001b[1;32m      1\u001b[0m \u001b[0msiamese_model\u001b[0m \u001b[0;34m=\u001b[0m \u001b[0mSiameseModel\u001b[0m\u001b[0;34m(\u001b[0m\u001b[0msiamese_network\u001b[0m\u001b[0;34m)\u001b[0m\u001b[0;34m\u001b[0m\u001b[0;34m\u001b[0m\u001b[0m\n\u001b[1;32m      2\u001b[0m \u001b[0msiamese_model\u001b[0m\u001b[0;34m.\u001b[0m\u001b[0mcompile\u001b[0m\u001b[0;34m(\u001b[0m\u001b[0moptimizer\u001b[0m\u001b[0;34m=\u001b[0m\u001b[0moptimizers\u001b[0m\u001b[0;34m.\u001b[0m\u001b[0mAdam\u001b[0m\u001b[0;34m(\u001b[0m\u001b[0;36m0.0001\u001b[0m\u001b[0;34m)\u001b[0m\u001b[0;34m)\u001b[0m\u001b[0;34m\u001b[0m\u001b[0;34m\u001b[0m\u001b[0m\n\u001b[0;32m----> 3\u001b[0;31m \u001b[0msiamese_model\u001b[0m\u001b[0;34m.\u001b[0m\u001b[0mfit\u001b[0m\u001b[0;34m(\u001b[0m\u001b[0mtrain_dataset\u001b[0m\u001b[0;34m,\u001b[0m \u001b[0mepochs\u001b[0m\u001b[0;34m=\u001b[0m\u001b[0;36m10\u001b[0m\u001b[0;34m,\u001b[0m \u001b[0mvalidation_data\u001b[0m\u001b[0;34m=\u001b[0m\u001b[0mval_dataset\u001b[0m\u001b[0;34m)\u001b[0m\u001b[0;34m\u001b[0m\u001b[0;34m\u001b[0m\u001b[0m\n\u001b[0m",
      "\u001b[0;32m~/anaconda3/envs/dat255-drug/lib/python3.6/site-packages/tensorflow_core/python/keras/engine/training.py\u001b[0m in \u001b[0;36mfit\u001b[0;34m(self, x, y, batch_size, epochs, verbose, callbacks, validation_split, validation_data, shuffle, class_weight, sample_weight, initial_epoch, steps_per_epoch, validation_steps, validation_freq, max_queue_size, workers, use_multiprocessing, **kwargs)\u001b[0m\n\u001b[1;32m    817\u001b[0m         \u001b[0mmax_queue_size\u001b[0m\u001b[0;34m=\u001b[0m\u001b[0mmax_queue_size\u001b[0m\u001b[0;34m,\u001b[0m\u001b[0;34m\u001b[0m\u001b[0;34m\u001b[0m\u001b[0m\n\u001b[1;32m    818\u001b[0m         \u001b[0mworkers\u001b[0m\u001b[0;34m=\u001b[0m\u001b[0mworkers\u001b[0m\u001b[0;34m,\u001b[0m\u001b[0;34m\u001b[0m\u001b[0;34m\u001b[0m\u001b[0m\n\u001b[0;32m--> 819\u001b[0;31m         use_multiprocessing=use_multiprocessing)\n\u001b[0m\u001b[1;32m    820\u001b[0m \u001b[0;34m\u001b[0m\u001b[0m\n\u001b[1;32m    821\u001b[0m   def evaluate(self,\n",
      "\u001b[0;32m~/anaconda3/envs/dat255-drug/lib/python3.6/site-packages/tensorflow_core/python/keras/engine/training_v2.py\u001b[0m in \u001b[0;36mfit\u001b[0;34m(self, model, x, y, batch_size, epochs, verbose, callbacks, validation_split, validation_data, shuffle, class_weight, sample_weight, initial_epoch, steps_per_epoch, validation_steps, validation_freq, max_queue_size, workers, use_multiprocessing, **kwargs)\u001b[0m\n\u001b[1;32m    233\u001b[0m           \u001b[0mmax_queue_size\u001b[0m\u001b[0;34m=\u001b[0m\u001b[0mmax_queue_size\u001b[0m\u001b[0;34m,\u001b[0m\u001b[0;34m\u001b[0m\u001b[0;34m\u001b[0m\u001b[0m\n\u001b[1;32m    234\u001b[0m           \u001b[0mworkers\u001b[0m\u001b[0;34m=\u001b[0m\u001b[0mworkers\u001b[0m\u001b[0;34m,\u001b[0m\u001b[0;34m\u001b[0m\u001b[0;34m\u001b[0m\u001b[0m\n\u001b[0;32m--> 235\u001b[0;31m           use_multiprocessing=use_multiprocessing)\n\u001b[0m\u001b[1;32m    236\u001b[0m \u001b[0;34m\u001b[0m\u001b[0m\n\u001b[1;32m    237\u001b[0m       \u001b[0mtotal_samples\u001b[0m \u001b[0;34m=\u001b[0m \u001b[0m_get_total_number_of_samples\u001b[0m\u001b[0;34m(\u001b[0m\u001b[0mtraining_data_adapter\u001b[0m\u001b[0;34m)\u001b[0m\u001b[0;34m\u001b[0m\u001b[0;34m\u001b[0m\u001b[0m\n",
      "\u001b[0;32m~/anaconda3/envs/dat255-drug/lib/python3.6/site-packages/tensorflow_core/python/keras/engine/training_v2.py\u001b[0m in \u001b[0;36m_process_training_inputs\u001b[0;34m(model, x, y, batch_size, epochs, sample_weights, class_weights, steps_per_epoch, validation_split, validation_data, validation_steps, shuffle, distribution_strategy, max_queue_size, workers, use_multiprocessing)\u001b[0m\n\u001b[1;32m    591\u001b[0m         \u001b[0mmax_queue_size\u001b[0m\u001b[0;34m=\u001b[0m\u001b[0mmax_queue_size\u001b[0m\u001b[0;34m,\u001b[0m\u001b[0;34m\u001b[0m\u001b[0;34m\u001b[0m\u001b[0m\n\u001b[1;32m    592\u001b[0m         \u001b[0mworkers\u001b[0m\u001b[0;34m=\u001b[0m\u001b[0mworkers\u001b[0m\u001b[0;34m,\u001b[0m\u001b[0;34m\u001b[0m\u001b[0;34m\u001b[0m\u001b[0m\n\u001b[0;32m--> 593\u001b[0;31m         use_multiprocessing=use_multiprocessing)\n\u001b[0m\u001b[1;32m    594\u001b[0m     \u001b[0mval_adapter\u001b[0m \u001b[0;34m=\u001b[0m \u001b[0;32mNone\u001b[0m\u001b[0;34m\u001b[0m\u001b[0;34m\u001b[0m\u001b[0m\n\u001b[1;32m    595\u001b[0m     \u001b[0;32mif\u001b[0m \u001b[0mvalidation_data\u001b[0m\u001b[0;34m:\u001b[0m\u001b[0;34m\u001b[0m\u001b[0;34m\u001b[0m\u001b[0m\n",
      "\u001b[0;32m~/anaconda3/envs/dat255-drug/lib/python3.6/site-packages/tensorflow_core/python/keras/engine/training_v2.py\u001b[0m in \u001b[0;36m_process_inputs\u001b[0;34m(model, mode, x, y, batch_size, epochs, sample_weights, class_weights, shuffle, steps, distribution_strategy, max_queue_size, workers, use_multiprocessing)\u001b[0m\n\u001b[1;32m    704\u001b[0m       \u001b[0mmax_queue_size\u001b[0m\u001b[0;34m=\u001b[0m\u001b[0mmax_queue_size\u001b[0m\u001b[0;34m,\u001b[0m\u001b[0;34m\u001b[0m\u001b[0;34m\u001b[0m\u001b[0m\n\u001b[1;32m    705\u001b[0m       \u001b[0mworkers\u001b[0m\u001b[0;34m=\u001b[0m\u001b[0mworkers\u001b[0m\u001b[0;34m,\u001b[0m\u001b[0;34m\u001b[0m\u001b[0;34m\u001b[0m\u001b[0m\n\u001b[0;32m--> 706\u001b[0;31m       use_multiprocessing=use_multiprocessing)\n\u001b[0m\u001b[1;32m    707\u001b[0m \u001b[0;34m\u001b[0m\u001b[0m\n\u001b[1;32m    708\u001b[0m   \u001b[0;32mreturn\u001b[0m \u001b[0madapter\u001b[0m\u001b[0;34m\u001b[0m\u001b[0;34m\u001b[0m\u001b[0m\n",
      "\u001b[0;32m~/anaconda3/envs/dat255-drug/lib/python3.6/site-packages/tensorflow_core/python/keras/engine/data_adapter.py\u001b[0m in \u001b[0;36m__init__\u001b[0;34m(self, x, y, sample_weights, standardize_function, **kwargs)\u001b[0m\n\u001b[1;32m    700\u001b[0m \u001b[0;34m\u001b[0m\u001b[0m\n\u001b[1;32m    701\u001b[0m     \u001b[0;32mif\u001b[0m \u001b[0mstandardize_function\u001b[0m \u001b[0;32mis\u001b[0m \u001b[0;32mnot\u001b[0m \u001b[0;32mNone\u001b[0m\u001b[0;34m:\u001b[0m\u001b[0;34m\u001b[0m\u001b[0;34m\u001b[0m\u001b[0m\n\u001b[0;32m--> 702\u001b[0;31m       \u001b[0mx\u001b[0m \u001b[0;34m=\u001b[0m \u001b[0mstandardize_function\u001b[0m\u001b[0;34m(\u001b[0m\u001b[0mx\u001b[0m\u001b[0;34m)\u001b[0m\u001b[0;34m\u001b[0m\u001b[0;34m\u001b[0m\u001b[0m\n\u001b[0m\u001b[1;32m    703\u001b[0m \u001b[0;34m\u001b[0m\u001b[0m\n\u001b[1;32m    704\u001b[0m     \u001b[0;31m# Note that the dataset instance is immutable, its fine to reusing the user\u001b[0m\u001b[0;34m\u001b[0m\u001b[0;34m\u001b[0m\u001b[0;34m\u001b[0m\u001b[0m\n",
      "\u001b[0;32m~/anaconda3/envs/dat255-drug/lib/python3.6/site-packages/tensorflow_core/python/keras/engine/training_v2.py\u001b[0m in \u001b[0;36mstandardize_function\u001b[0;34m(dataset)\u001b[0m\n\u001b[1;32m    658\u001b[0m         \u001b[0mmodel\u001b[0m\u001b[0;34m.\u001b[0m\u001b[0msample_weight_mode\u001b[0m \u001b[0;34m=\u001b[0m \u001b[0mgetattr\u001b[0m\u001b[0;34m(\u001b[0m\u001b[0mmodel\u001b[0m\u001b[0;34m,\u001b[0m \u001b[0;34m'sample_weight_mode'\u001b[0m\u001b[0;34m,\u001b[0m \u001b[0;32mNone\u001b[0m\u001b[0;34m)\u001b[0m\u001b[0;34m\u001b[0m\u001b[0;34m\u001b[0m\u001b[0m\n\u001b[1;32m    659\u001b[0m \u001b[0;34m\u001b[0m\u001b[0m\n\u001b[0;32m--> 660\u001b[0;31m       \u001b[0mstandardize\u001b[0m\u001b[0;34m(\u001b[0m\u001b[0mdataset\u001b[0m\u001b[0;34m,\u001b[0m \u001b[0mextract_tensors_from_dataset\u001b[0m\u001b[0;34m=\u001b[0m\u001b[0;32mFalse\u001b[0m\u001b[0;34m)\u001b[0m\u001b[0;34m\u001b[0m\u001b[0;34m\u001b[0m\u001b[0m\n\u001b[0m\u001b[1;32m    661\u001b[0m \u001b[0;34m\u001b[0m\u001b[0m\n\u001b[1;32m    662\u001b[0m       \u001b[0;31m# Then we map using only the tensor standardization portion.\u001b[0m\u001b[0;34m\u001b[0m\u001b[0;34m\u001b[0m\u001b[0;34m\u001b[0m\u001b[0m\n",
      "\u001b[0;32m~/anaconda3/envs/dat255-drug/lib/python3.6/site-packages/tensorflow_core/python/keras/engine/training.py\u001b[0m in \u001b[0;36m_standardize_user_data\u001b[0;34m(self, x, y, sample_weight, class_weight, batch_size, check_steps, steps_name, steps, validation_split, shuffle, extract_tensors_from_dataset)\u001b[0m\n\u001b[1;32m   2344\u001b[0m     \u001b[0;31m# First, we build the model on the fly if necessary.\u001b[0m\u001b[0;34m\u001b[0m\u001b[0;34m\u001b[0m\u001b[0;34m\u001b[0m\u001b[0m\n\u001b[1;32m   2345\u001b[0m     \u001b[0;32mif\u001b[0m \u001b[0;32mnot\u001b[0m \u001b[0mself\u001b[0m\u001b[0;34m.\u001b[0m\u001b[0minputs\u001b[0m\u001b[0;34m:\u001b[0m\u001b[0;34m\u001b[0m\u001b[0;34m\u001b[0m\u001b[0m\n\u001b[0;32m-> 2346\u001b[0;31m       \u001b[0mall_inputs\u001b[0m\u001b[0;34m,\u001b[0m \u001b[0my_input\u001b[0m\u001b[0;34m,\u001b[0m \u001b[0mdict_inputs\u001b[0m \u001b[0;34m=\u001b[0m \u001b[0mself\u001b[0m\u001b[0;34m.\u001b[0m\u001b[0m_build_model_with_inputs\u001b[0m\u001b[0;34m(\u001b[0m\u001b[0mx\u001b[0m\u001b[0;34m,\u001b[0m \u001b[0my\u001b[0m\u001b[0;34m)\u001b[0m\u001b[0;34m\u001b[0m\u001b[0;34m\u001b[0m\u001b[0m\n\u001b[0m\u001b[1;32m   2347\u001b[0m       \u001b[0mis_build_called\u001b[0m \u001b[0;34m=\u001b[0m \u001b[0;32mTrue\u001b[0m\u001b[0;34m\u001b[0m\u001b[0;34m\u001b[0m\u001b[0m\n\u001b[1;32m   2348\u001b[0m     \u001b[0;32melse\u001b[0m\u001b[0;34m:\u001b[0m\u001b[0;34m\u001b[0m\u001b[0;34m\u001b[0m\u001b[0m\n",
      "\u001b[0;32m~/anaconda3/envs/dat255-drug/lib/python3.6/site-packages/tensorflow_core/python/keras/engine/training.py\u001b[0m in \u001b[0;36m_build_model_with_inputs\u001b[0;34m(self, inputs, targets)\u001b[0m\n\u001b[1;32m   2570\u001b[0m     \u001b[0;32melse\u001b[0m\u001b[0;34m:\u001b[0m\u001b[0;34m\u001b[0m\u001b[0;34m\u001b[0m\u001b[0m\n\u001b[1;32m   2571\u001b[0m       \u001b[0mcast_inputs\u001b[0m \u001b[0;34m=\u001b[0m \u001b[0minputs\u001b[0m\u001b[0;34m\u001b[0m\u001b[0;34m\u001b[0m\u001b[0m\n\u001b[0;32m-> 2572\u001b[0;31m     \u001b[0mself\u001b[0m\u001b[0;34m.\u001b[0m\u001b[0m_set_inputs\u001b[0m\u001b[0;34m(\u001b[0m\u001b[0mcast_inputs\u001b[0m\u001b[0;34m)\u001b[0m\u001b[0;34m\u001b[0m\u001b[0;34m\u001b[0m\u001b[0m\n\u001b[0m\u001b[1;32m   2573\u001b[0m     \u001b[0;32mreturn\u001b[0m \u001b[0mprocessed_inputs\u001b[0m\u001b[0;34m,\u001b[0m \u001b[0mtargets\u001b[0m\u001b[0;34m,\u001b[0m \u001b[0mis_dict_inputs\u001b[0m\u001b[0;34m\u001b[0m\u001b[0;34m\u001b[0m\u001b[0m\n\u001b[1;32m   2574\u001b[0m \u001b[0;34m\u001b[0m\u001b[0m\n",
      "\u001b[0;32m~/anaconda3/envs/dat255-drug/lib/python3.6/site-packages/tensorflow_core/python/keras/engine/training.py\u001b[0m in \u001b[0;36m_set_inputs\u001b[0;34m(self, inputs, outputs, training)\u001b[0m\n\u001b[1;32m   2657\u001b[0m           \u001b[0mkwargs\u001b[0m\u001b[0;34m[\u001b[0m\u001b[0;34m'training'\u001b[0m\u001b[0;34m]\u001b[0m \u001b[0;34m=\u001b[0m \u001b[0mtraining\u001b[0m\u001b[0;34m\u001b[0m\u001b[0;34m\u001b[0m\u001b[0m\n\u001b[1;32m   2658\u001b[0m       \u001b[0;32mtry\u001b[0m\u001b[0;34m:\u001b[0m\u001b[0;34m\u001b[0m\u001b[0;34m\u001b[0m\u001b[0m\n\u001b[0;32m-> 2659\u001b[0;31m         \u001b[0moutputs\u001b[0m \u001b[0;34m=\u001b[0m \u001b[0mself\u001b[0m\u001b[0;34m(\u001b[0m\u001b[0minputs\u001b[0m\u001b[0;34m,\u001b[0m \u001b[0;34m**\u001b[0m\u001b[0mkwargs\u001b[0m\u001b[0;34m)\u001b[0m\u001b[0;34m\u001b[0m\u001b[0;34m\u001b[0m\u001b[0m\n\u001b[0m\u001b[1;32m   2660\u001b[0m       \u001b[0;32mexcept\u001b[0m \u001b[0mNotImplementedError\u001b[0m\u001b[0;34m:\u001b[0m\u001b[0;34m\u001b[0m\u001b[0;34m\u001b[0m\u001b[0m\n\u001b[1;32m   2661\u001b[0m         \u001b[0;31m# This Model or a submodel is dynamic and hasn't overridden\u001b[0m\u001b[0;34m\u001b[0m\u001b[0;34m\u001b[0m\u001b[0;34m\u001b[0m\u001b[0m\n",
      "\u001b[0;32m~/anaconda3/envs/dat255-drug/lib/python3.6/site-packages/tensorflow_core/python/keras/engine/base_layer.py\u001b[0m in \u001b[0;36m__call__\u001b[0;34m(self, inputs, *args, **kwargs)\u001b[0m\n\u001b[1;32m    771\u001b[0m                     not base_layer_utils.is_in_eager_or_tf_function()):\n\u001b[1;32m    772\u001b[0m                   \u001b[0;32mwith\u001b[0m \u001b[0mauto_control_deps\u001b[0m\u001b[0;34m.\u001b[0m\u001b[0mAutomaticControlDependencies\u001b[0m\u001b[0;34m(\u001b[0m\u001b[0;34m)\u001b[0m \u001b[0;32mas\u001b[0m \u001b[0macd\u001b[0m\u001b[0;34m:\u001b[0m\u001b[0;34m\u001b[0m\u001b[0;34m\u001b[0m\u001b[0m\n\u001b[0;32m--> 773\u001b[0;31m                     \u001b[0moutputs\u001b[0m \u001b[0;34m=\u001b[0m \u001b[0mcall_fn\u001b[0m\u001b[0;34m(\u001b[0m\u001b[0mcast_inputs\u001b[0m\u001b[0;34m,\u001b[0m \u001b[0;34m*\u001b[0m\u001b[0margs\u001b[0m\u001b[0;34m,\u001b[0m \u001b[0;34m**\u001b[0m\u001b[0mkwargs\u001b[0m\u001b[0;34m)\u001b[0m\u001b[0;34m\u001b[0m\u001b[0;34m\u001b[0m\u001b[0m\n\u001b[0m\u001b[1;32m    774\u001b[0m                     \u001b[0;31m# Wrap Tensors in `outputs` in `tf.identity` to avoid\u001b[0m\u001b[0;34m\u001b[0m\u001b[0;34m\u001b[0m\u001b[0;34m\u001b[0m\u001b[0m\n\u001b[1;32m    775\u001b[0m                     \u001b[0;31m# circular dependencies.\u001b[0m\u001b[0;34m\u001b[0m\u001b[0;34m\u001b[0m\u001b[0;34m\u001b[0m\u001b[0m\n",
      "\u001b[0;32m~/anaconda3/envs/dat255-drug/lib/python3.6/site-packages/tensorflow_core/python/autograph/impl/api.py\u001b[0m in \u001b[0;36mwrapper\u001b[0;34m(*args, **kwargs)\u001b[0m\n\u001b[1;32m    235\u001b[0m       \u001b[0;32mexcept\u001b[0m \u001b[0mException\u001b[0m \u001b[0;32mas\u001b[0m \u001b[0me\u001b[0m\u001b[0;34m:\u001b[0m  \u001b[0;31m# pylint:disable=broad-except\u001b[0m\u001b[0;34m\u001b[0m\u001b[0;34m\u001b[0m\u001b[0m\n\u001b[1;32m    236\u001b[0m         \u001b[0;32mif\u001b[0m \u001b[0mhasattr\u001b[0m\u001b[0;34m(\u001b[0m\u001b[0me\u001b[0m\u001b[0;34m,\u001b[0m \u001b[0;34m'ag_error_metadata'\u001b[0m\u001b[0;34m)\u001b[0m\u001b[0;34m:\u001b[0m\u001b[0;34m\u001b[0m\u001b[0;34m\u001b[0m\u001b[0m\n\u001b[0;32m--> 237\u001b[0;31m           \u001b[0;32mraise\u001b[0m \u001b[0me\u001b[0m\u001b[0;34m.\u001b[0m\u001b[0mag_error_metadata\u001b[0m\u001b[0;34m.\u001b[0m\u001b[0mto_exception\u001b[0m\u001b[0;34m(\u001b[0m\u001b[0me\u001b[0m\u001b[0;34m)\u001b[0m\u001b[0;34m\u001b[0m\u001b[0;34m\u001b[0m\u001b[0m\n\u001b[0m\u001b[1;32m    238\u001b[0m         \u001b[0;32melse\u001b[0m\u001b[0;34m:\u001b[0m\u001b[0;34m\u001b[0m\u001b[0;34m\u001b[0m\u001b[0m\n\u001b[1;32m    239\u001b[0m           \u001b[0;32mraise\u001b[0m\u001b[0;34m\u001b[0m\u001b[0;34m\u001b[0m\u001b[0m\n",
      "\u001b[0;31mValueError\u001b[0m: in converted code:\n\n    <ipython-input-78-6581cf0f6e0b>:18 call  *\n        return self.siamese_network(inputs)\n    /home/kjetil/anaconda3/envs/dat255-drug/lib/python3.6/site-packages/tensorflow_core/python/keras/engine/base_layer.py:737 __call__\n        self.name)\n    /home/kjetil/anaconda3/envs/dat255-drug/lib/python3.6/site-packages/tensorflow_core/python/keras/engine/input_spec.py:155 assert_input_compatibility\n        ' input tensors. Inputs received: ' + str(inputs))\n\n    ValueError: Layer model_3 expects 3 inputs, but it received 1 input tensors. Inputs received: [<tf.Tensor 'input_1_4:0' shape=(None, 224, 224, 3) dtype=float32>]\n"
     ]
    }
   ],
   "source": [
    "siamese_model = SiameseModel(siamese_network)\n",
    "siamese_model.compile(optimizer=optimizers.Adam(0.0001))\n",
    "siamese_model.fit(train_dataset, epochs=10, validation_data=val_dataset)\n"
   ]
  },
  {
   "cell_type": "code",
   "execution_count": null,
   "id": "77247877",
   "metadata": {},
   "outputs": [],
   "source": []
  },
  {
   "cell_type": "code",
   "execution_count": null,
   "id": "50f181df",
   "metadata": {},
   "outputs": [],
   "source": []
  }
 ],
 "metadata": {
  "kernelspec": {
   "display_name": "Python 3",
   "language": "python",
   "name": "python3"
  },
  "language_info": {
   "codemirror_mode": {
    "name": "ipython",
    "version": 3
   },
   "file_extension": ".py",
   "mimetype": "text/x-python",
   "name": "python",
   "nbconvert_exporter": "python",
   "pygments_lexer": "ipython3",
   "version": "3.6.13"
  },
  "toc-autonumbering": false,
  "toc-showcode": true,
  "toc-showmarkdowntxt": true
 },
 "nbformat": 4,
 "nbformat_minor": 5
}
