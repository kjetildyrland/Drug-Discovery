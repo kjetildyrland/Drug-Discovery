{
 "cells": [
  {
   "cell_type": "markdown",
   "metadata": {},
   "source": [
    "# Random Forest models"
   ]
  },
  {
   "cell_type": "markdown",
   "metadata": {},
   "source": [
    "## DATASETS:\n",
    "(a) Carbonic Anhydrase II (ChEMBL205), a protein lyase,  \n",
    "(b) Cyclin-dependent kinase 2 (CHEMBL301), a protein kinase,  \n",
    "(c) ether-a-go-go-related gene potassium channel 1 (HERG) (CHEMBL240), a voltage-gated ion channel,  \n",
    "(d) Dopamine D4 receptor (CHEMBL219), a monoamine GPCR,  \n",
    "(e) Coagulation factor X (CHEMBL244), a serine protease,  \n",
    "(f) Cannabinoid CB1 receptor (CHEMBL218), a lipid-like GPCR and  \n",
    "(g) Cytochrome P450 19A1 (CHEMBL1978), a cytochrome P450.  \n",
    "The activity classes were selected based on data availability and as representatives of therapeutically important target classes or as anti-targets."
   ]
  },
  {
   "cell_type": "code",
   "execution_count": 1,
   "metadata": {},
   "outputs": [
    {
     "name": "stdout",
     "output_type": "stream",
     "text": [
      "Tue Apr 26 11:44:11 2022       \n",
      "+-----------------------------------------------------------------------------+\n",
      "| NVIDIA-SMI 450.172.01   Driver Version: 450.172.01   CUDA Version: 11.0     |\n",
      "|-------------------------------+----------------------+----------------------+\n",
      "| GPU  Name        Persistence-M| Bus-Id        Disp.A | Volatile Uncorr. ECC |\n",
      "| Fan  Temp  Perf  Pwr:Usage/Cap|         Memory-Usage | GPU-Util  Compute M. |\n",
      "|                               |                      |               MIG M. |\n",
      "|===============================+======================+======================|\n",
      "|   0  Tesla V100-DGXS...  On   | 00000000:07:00.0 Off |                    0 |\n",
      "| N/A   42C    P0   229W / 300W |   4091MiB / 32505MiB |     12%      Default |\n",
      "|                               |                      |                  N/A |\n",
      "+-------------------------------+----------------------+----------------------+\n",
      "|   1  Tesla V100-DGXS...  On   | 00000000:08:00.0 Off |                    0 |\n",
      "| N/A   41C    P0    39W / 300W |      9MiB / 32508MiB |      0%      Default |\n",
      "|                               |                      |                  N/A |\n",
      "+-------------------------------+----------------------+----------------------+\n",
      "|   2  Tesla V100-DGXS...  On   | 00000000:0E:00.0 Off |                    0 |\n",
      "| N/A   41C    P0    38W / 300W |      9MiB / 32508MiB |      0%      Default |\n",
      "|                               |                      |                  N/A |\n",
      "+-------------------------------+----------------------+----------------------+\n",
      "|   3  Tesla V100-DGXS...  On   | 00000000:0F:00.0 Off |                    0 |\n",
      "| N/A   42C    P0    38W / 300W |      9MiB / 32508MiB |      0%      Default |\n",
      "|                               |                      |                  N/A |\n",
      "+-------------------------------+----------------------+----------------------+\n",
      "                                                                               \n",
      "+-----------------------------------------------------------------------------+\n",
      "| Processes:                                                                  |\n",
      "|  GPU   GI   CI        PID   Type   Process name                  GPU Memory |\n",
      "|        ID   ID                                                   Usage      |\n",
      "|=============================================================================|\n",
      "|    0   N/A  N/A      2917      G   /usr/lib/xorg/Xorg                 86MiB |\n",
      "|    0   N/A  N/A      3284      G   /usr/bin/gnome-shell               16MiB |\n",
      "|    0   N/A  N/A    201800      C   ...vs/fastai-drug/bin/python     3983MiB |\n",
      "|    1   N/A  N/A      2917      G   /usr/lib/xorg/Xorg                  4MiB |\n",
      "|    2   N/A  N/A      2917      G   /usr/lib/xorg/Xorg                  4MiB |\n",
      "|    3   N/A  N/A      2917      G   /usr/lib/xorg/Xorg                  4MiB |\n",
      "+-----------------------------------------------------------------------------+\n"
     ]
    }
   ],
   "source": [
    "!nvidia-smi"
   ]
  },
  {
   "cell_type": "code",
   "execution_count": 2,
   "metadata": {},
   "outputs": [],
   "source": [
    "# Import\n",
    "import pandas as pd\n",
    "import numpy as np\n",
    "from pathlib import Path"
   ]
  },
  {
   "cell_type": "code",
   "execution_count": 3,
   "metadata": {},
   "outputs": [
    {
     "name": "stderr",
     "output_type": "stream",
     "text": [
      "RDKit WARNING: [11:44:15] Enabling RDKit 2019.09.3 jupyter extensions\n",
      "[11:44:15] Enabling RDKit 2019.09.3 jupyter extensions\n"
     ]
    }
   ],
   "source": [
    "from rdkit import Chem\n",
    "from rdkit.Chem import AllChem"
   ]
  },
  {
   "cell_type": "code",
   "execution_count": 4,
   "metadata": {},
   "outputs": [],
   "source": [
    "path = Path('../dataset/13321_2017_226_MOESM1_ESM/')\n",
    "#df = pd.read_csv('../dataset/13321_2017_226_MOESM1_ESM/CHEMBL205_cl.csv', index_col=0)"
   ]
  },
  {
   "cell_type": "code",
   "execution_count": 5,
   "metadata": {
    "scrolled": true
   },
   "outputs": [
    {
     "data": {
      "text/plain": [
       "[PosixPath('../dataset/13321_2017_226_MOESM1_ESM/mol_images'),\n",
       " PosixPath('../dataset/13321_2017_226_MOESM1_ESM/CHEMBL218'),\n",
       " PosixPath('../dataset/13321_2017_226_MOESM1_ESM/CHEMBL219'),\n",
       " PosixPath('../dataset/13321_2017_226_MOESM1_ESM/CHEMBL240'),\n",
       " PosixPath('../dataset/13321_2017_226_MOESM1_ESM/CHEMBL244'),\n",
       " PosixPath('../dataset/13321_2017_226_MOESM1_ESM/CHEMBL301'),\n",
       " PosixPath('../dataset/13321_2017_226_MOESM1_ESM/CHEMBL205'),\n",
       " PosixPath('../dataset/13321_2017_226_MOESM1_ESM/CHEMBL1978')]"
      ]
     },
     "execution_count": 5,
     "metadata": {},
     "output_type": "execute_result"
    }
   ],
   "source": [
    "#df.head()\n",
    "list(path.iterdir())"
   ]
  },
  {
   "cell_type": "markdown",
   "metadata": {},
   "source": [
    "# Run the functions on a file from dataset and store the results"
   ]
  },
  {
   "cell_type": "code",
   "execution_count": 6,
   "metadata": {},
   "outputs": [],
   "source": [
    "dataset='CHEMBL205'"
   ]
  },
  {
   "cell_type": "code",
   "execution_count": 11,
   "metadata": {},
   "outputs": [],
   "source": [
    "df = pd.read_csv(path/f'{dataset}/{dataset}_ecfp_1024_train_valid.csv')"
   ]
  },
  {
   "cell_type": "code",
   "execution_count": 59,
   "metadata": {},
   "outputs": [
    {
     "data": {
      "text/html": [
       "<div>\n",
       "<style scoped>\n",
       "    .dataframe tbody tr th:only-of-type {\n",
       "        vertical-align: middle;\n",
       "    }\n",
       "\n",
       "    .dataframe tbody tr th {\n",
       "        vertical-align: top;\n",
       "    }\n",
       "\n",
       "    .dataframe thead th {\n",
       "        text-align: right;\n",
       "    }\n",
       "</style>\n",
       "<table border=\"1\" class=\"dataframe\">\n",
       "  <thead>\n",
       "    <tr style=\"text-align: right;\">\n",
       "      <th></th>\n",
       "      <th>CID</th>\n",
       "      <th>SMILES</th>\n",
       "      <th>ECFP4_1</th>\n",
       "      <th>ECFP4_2</th>\n",
       "      <th>ECFP4_3</th>\n",
       "      <th>ECFP4_4</th>\n",
       "      <th>ECFP4_5</th>\n",
       "      <th>ECFP4_6</th>\n",
       "      <th>ECFP4_7</th>\n",
       "      <th>ECFP4_8</th>\n",
       "      <th>...</th>\n",
       "      <th>ECFP4_1017</th>\n",
       "      <th>ECFP4_1018</th>\n",
       "      <th>ECFP4_1019</th>\n",
       "      <th>ECFP4_1020</th>\n",
       "      <th>ECFP4_1021</th>\n",
       "      <th>ECFP4_1022</th>\n",
       "      <th>ECFP4_1023</th>\n",
       "      <th>ECFP4_1024</th>\n",
       "      <th>Activity</th>\n",
       "      <th>is_valid</th>\n",
       "    </tr>\n",
       "  </thead>\n",
       "  <tbody>\n",
       "    <tr>\n",
       "      <th>0</th>\n",
       "      <td>CHEMBL1589687</td>\n",
       "      <td>S1c2n(ncn2)C(O)=C1C([NH+]1CCc2c(C1)cccc2)c1ccc...</td>\n",
       "      <td>0</td>\n",
       "      <td>1</td>\n",
       "      <td>0</td>\n",
       "      <td>0</td>\n",
       "      <td>0</td>\n",
       "      <td>0</td>\n",
       "      <td>0</td>\n",
       "      <td>0</td>\n",
       "      <td>...</td>\n",
       "      <td>0</td>\n",
       "      <td>0</td>\n",
       "      <td>0</td>\n",
       "      <td>0</td>\n",
       "      <td>0</td>\n",
       "      <td>0</td>\n",
       "      <td>0</td>\n",
       "      <td>0</td>\n",
       "      <td>0</td>\n",
       "      <td>False</td>\n",
       "    </tr>\n",
       "    <tr>\n",
       "      <th>1</th>\n",
       "      <td>CHEMBL3092937</td>\n",
       "      <td>S(=O)(=O)(N)c1cc(ccc1)-c1nnn(c1)C1OC(COC(=O)C)...</td>\n",
       "      <td>0</td>\n",
       "      <td>0</td>\n",
       "      <td>0</td>\n",
       "      <td>0</td>\n",
       "      <td>0</td>\n",
       "      <td>0</td>\n",
       "      <td>0</td>\n",
       "      <td>0</td>\n",
       "      <td>...</td>\n",
       "      <td>0</td>\n",
       "      <td>1</td>\n",
       "      <td>0</td>\n",
       "      <td>1</td>\n",
       "      <td>0</td>\n",
       "      <td>0</td>\n",
       "      <td>0</td>\n",
       "      <td>0</td>\n",
       "      <td>1</td>\n",
       "      <td>False</td>\n",
       "    </tr>\n",
       "    <tr>\n",
       "      <th>2</th>\n",
       "      <td>CHEMBL325684</td>\n",
       "      <td>O=C1N(Cc2ccc(cc2)-c2ccccc2C(=O)[O-])C(=NC12CC2...</td>\n",
       "      <td>0</td>\n",
       "      <td>0</td>\n",
       "      <td>0</td>\n",
       "      <td>0</td>\n",
       "      <td>0</td>\n",
       "      <td>0</td>\n",
       "      <td>0</td>\n",
       "      <td>0</td>\n",
       "      <td>...</td>\n",
       "      <td>0</td>\n",
       "      <td>0</td>\n",
       "      <td>0</td>\n",
       "      <td>0</td>\n",
       "      <td>0</td>\n",
       "      <td>0</td>\n",
       "      <td>0</td>\n",
       "      <td>0</td>\n",
       "      <td>0</td>\n",
       "      <td>False</td>\n",
       "    </tr>\n",
       "    <tr>\n",
       "      <th>3</th>\n",
       "      <td>CHEMBL488713</td>\n",
       "      <td>Fc1cc(F)c(F)cc1CC([NH3+])CC(=O)N1N=CCC1C(=O)Nc...</td>\n",
       "      <td>0</td>\n",
       "      <td>1</td>\n",
       "      <td>0</td>\n",
       "      <td>0</td>\n",
       "      <td>0</td>\n",
       "      <td>0</td>\n",
       "      <td>0</td>\n",
       "      <td>0</td>\n",
       "      <td>...</td>\n",
       "      <td>0</td>\n",
       "      <td>0</td>\n",
       "      <td>0</td>\n",
       "      <td>1</td>\n",
       "      <td>0</td>\n",
       "      <td>0</td>\n",
       "      <td>0</td>\n",
       "      <td>0</td>\n",
       "      <td>0</td>\n",
       "      <td>False</td>\n",
       "    </tr>\n",
       "    <tr>\n",
       "      <th>4</th>\n",
       "      <td>CHEMBL2069846</td>\n",
       "      <td>Fc1cc(F)c(F)cc1CC([NH3+])CC(=O)N1CCN(CC1)C(=O)...</td>\n",
       "      <td>0</td>\n",
       "      <td>1</td>\n",
       "      <td>0</td>\n",
       "      <td>0</td>\n",
       "      <td>0</td>\n",
       "      <td>0</td>\n",
       "      <td>0</td>\n",
       "      <td>0</td>\n",
       "      <td>...</td>\n",
       "      <td>0</td>\n",
       "      <td>0</td>\n",
       "      <td>0</td>\n",
       "      <td>0</td>\n",
       "      <td>0</td>\n",
       "      <td>0</td>\n",
       "      <td>0</td>\n",
       "      <td>0</td>\n",
       "      <td>0</td>\n",
       "      <td>False</td>\n",
       "    </tr>\n",
       "  </tbody>\n",
       "</table>\n",
       "<p>5 rows × 1028 columns</p>\n",
       "</div>"
      ],
      "text/plain": [
       "             CID                                             SMILES  ECFP4_1  \\\n",
       "0  CHEMBL1589687  S1c2n(ncn2)C(O)=C1C([NH+]1CCc2c(C1)cccc2)c1ccc...        0   \n",
       "1  CHEMBL3092937  S(=O)(=O)(N)c1cc(ccc1)-c1nnn(c1)C1OC(COC(=O)C)...        0   \n",
       "2   CHEMBL325684  O=C1N(Cc2ccc(cc2)-c2ccccc2C(=O)[O-])C(=NC12CC2...        0   \n",
       "3   CHEMBL488713  Fc1cc(F)c(F)cc1CC([NH3+])CC(=O)N1N=CCC1C(=O)Nc...        0   \n",
       "4  CHEMBL2069846  Fc1cc(F)c(F)cc1CC([NH3+])CC(=O)N1CCN(CC1)C(=O)...        0   \n",
       "\n",
       "   ECFP4_2  ECFP4_3  ECFP4_4  ECFP4_5  ECFP4_6  ECFP4_7  ECFP4_8  ...  \\\n",
       "0        1        0        0        0        0        0        0  ...   \n",
       "1        0        0        0        0        0        0        0  ...   \n",
       "2        0        0        0        0        0        0        0  ...   \n",
       "3        1        0        0        0        0        0        0  ...   \n",
       "4        1        0        0        0        0        0        0  ...   \n",
       "\n",
       "   ECFP4_1017  ECFP4_1018  ECFP4_1019  ECFP4_1020  ECFP4_1021  ECFP4_1022  \\\n",
       "0           0           0           0           0           0           0   \n",
       "1           0           1           0           1           0           0   \n",
       "2           0           0           0           0           0           0   \n",
       "3           0           0           0           1           0           0   \n",
       "4           0           0           0           0           0           0   \n",
       "\n",
       "   ECFP4_1023  ECFP4_1024  Activity  is_valid  \n",
       "0           0           0         0     False  \n",
       "1           0           0         1     False  \n",
       "2           0           0         0     False  \n",
       "3           0           0         0     False  \n",
       "4           0           0         0     False  \n",
       "\n",
       "[5 rows x 1028 columns]"
      ]
     },
     "execution_count": 59,
     "metadata": {},
     "output_type": "execute_result"
    }
   ],
   "source": [
    "df.head()"
   ]
  },
  {
   "cell_type": "markdown",
   "metadata": {},
   "source": [
    "# Split data"
   ]
  },
  {
   "cell_type": "code",
   "execution_count": 40,
   "metadata": {},
   "outputs": [],
   "source": [
    "# Split into X,y\n",
    "X, y = df.drop([\"CID\", \"SMILES\", \"Activity\", 'is_valid'], axis=1), df[\"Activity\"]"
   ]
  },
  {
   "cell_type": "code",
   "execution_count": 41,
   "metadata": {},
   "outputs": [
    {
     "name": "stdout",
     "output_type": "stream",
     "text": [
      "<class 'pandas.core.frame.DataFrame'>\n",
      "RangeIndex: 10764 entries, 0 to 10763\n",
      "Columns: 1024 entries, ECFP4_1 to ECFP4_1024\n",
      "dtypes: int64(1024)\n",
      "memory usage: 84.1 MB\n"
     ]
    }
   ],
   "source": [
    "# check info of dataframe\n",
    "X.info()"
   ]
  },
  {
   "cell_type": "code",
   "execution_count": 60,
   "metadata": {},
   "outputs": [
    {
     "data": {
      "text/html": [
       "<div>\n",
       "<style scoped>\n",
       "    .dataframe tbody tr th:only-of-type {\n",
       "        vertical-align: middle;\n",
       "    }\n",
       "\n",
       "    .dataframe tbody tr th {\n",
       "        vertical-align: top;\n",
       "    }\n",
       "\n",
       "    .dataframe thead th {\n",
       "        text-align: right;\n",
       "    }\n",
       "</style>\n",
       "<table border=\"1\" class=\"dataframe\">\n",
       "  <thead>\n",
       "    <tr style=\"text-align: right;\">\n",
       "      <th></th>\n",
       "      <th>ECFP4_1</th>\n",
       "      <th>ECFP4_2</th>\n",
       "      <th>ECFP4_3</th>\n",
       "      <th>ECFP4_4</th>\n",
       "      <th>ECFP4_5</th>\n",
       "      <th>ECFP4_6</th>\n",
       "      <th>ECFP4_7</th>\n",
       "      <th>ECFP4_8</th>\n",
       "      <th>ECFP4_9</th>\n",
       "      <th>ECFP4_10</th>\n",
       "      <th>...</th>\n",
       "      <th>ECFP4_1015</th>\n",
       "      <th>ECFP4_1016</th>\n",
       "      <th>ECFP4_1017</th>\n",
       "      <th>ECFP4_1018</th>\n",
       "      <th>ECFP4_1019</th>\n",
       "      <th>ECFP4_1020</th>\n",
       "      <th>ECFP4_1021</th>\n",
       "      <th>ECFP4_1022</th>\n",
       "      <th>ECFP4_1023</th>\n",
       "      <th>ECFP4_1024</th>\n",
       "    </tr>\n",
       "  </thead>\n",
       "  <tbody>\n",
       "    <tr>\n",
       "      <th>0</th>\n",
       "      <td>0</td>\n",
       "      <td>1</td>\n",
       "      <td>0</td>\n",
       "      <td>0</td>\n",
       "      <td>0</td>\n",
       "      <td>0</td>\n",
       "      <td>0</td>\n",
       "      <td>0</td>\n",
       "      <td>1</td>\n",
       "      <td>0</td>\n",
       "      <td>...</td>\n",
       "      <td>0</td>\n",
       "      <td>0</td>\n",
       "      <td>0</td>\n",
       "      <td>0</td>\n",
       "      <td>0</td>\n",
       "      <td>0</td>\n",
       "      <td>0</td>\n",
       "      <td>0</td>\n",
       "      <td>0</td>\n",
       "      <td>0</td>\n",
       "    </tr>\n",
       "    <tr>\n",
       "      <th>1</th>\n",
       "      <td>0</td>\n",
       "      <td>0</td>\n",
       "      <td>1</td>\n",
       "      <td>0</td>\n",
       "      <td>1</td>\n",
       "      <td>0</td>\n",
       "      <td>0</td>\n",
       "      <td>0</td>\n",
       "      <td>1</td>\n",
       "      <td>0</td>\n",
       "      <td>...</td>\n",
       "      <td>0</td>\n",
       "      <td>0</td>\n",
       "      <td>0</td>\n",
       "      <td>0</td>\n",
       "      <td>0</td>\n",
       "      <td>0</td>\n",
       "      <td>0</td>\n",
       "      <td>0</td>\n",
       "      <td>0</td>\n",
       "      <td>0</td>\n",
       "    </tr>\n",
       "    <tr>\n",
       "      <th>2</th>\n",
       "      <td>0</td>\n",
       "      <td>1</td>\n",
       "      <td>0</td>\n",
       "      <td>0</td>\n",
       "      <td>0</td>\n",
       "      <td>0</td>\n",
       "      <td>0</td>\n",
       "      <td>0</td>\n",
       "      <td>0</td>\n",
       "      <td>0</td>\n",
       "      <td>...</td>\n",
       "      <td>0</td>\n",
       "      <td>0</td>\n",
       "      <td>0</td>\n",
       "      <td>0</td>\n",
       "      <td>0</td>\n",
       "      <td>0</td>\n",
       "      <td>0</td>\n",
       "      <td>0</td>\n",
       "      <td>0</td>\n",
       "      <td>0</td>\n",
       "    </tr>\n",
       "    <tr>\n",
       "      <th>3</th>\n",
       "      <td>0</td>\n",
       "      <td>0</td>\n",
       "      <td>0</td>\n",
       "      <td>1</td>\n",
       "      <td>0</td>\n",
       "      <td>0</td>\n",
       "      <td>0</td>\n",
       "      <td>0</td>\n",
       "      <td>0</td>\n",
       "      <td>0</td>\n",
       "      <td>...</td>\n",
       "      <td>0</td>\n",
       "      <td>0</td>\n",
       "      <td>0</td>\n",
       "      <td>1</td>\n",
       "      <td>0</td>\n",
       "      <td>1</td>\n",
       "      <td>0</td>\n",
       "      <td>0</td>\n",
       "      <td>0</td>\n",
       "      <td>0</td>\n",
       "    </tr>\n",
       "    <tr>\n",
       "      <th>4</th>\n",
       "      <td>0</td>\n",
       "      <td>1</td>\n",
       "      <td>0</td>\n",
       "      <td>0</td>\n",
       "      <td>0</td>\n",
       "      <td>0</td>\n",
       "      <td>1</td>\n",
       "      <td>0</td>\n",
       "      <td>0</td>\n",
       "      <td>0</td>\n",
       "      <td>...</td>\n",
       "      <td>0</td>\n",
       "      <td>0</td>\n",
       "      <td>0</td>\n",
       "      <td>0</td>\n",
       "      <td>0</td>\n",
       "      <td>0</td>\n",
       "      <td>0</td>\n",
       "      <td>0</td>\n",
       "      <td>0</td>\n",
       "      <td>0</td>\n",
       "    </tr>\n",
       "  </tbody>\n",
       "</table>\n",
       "<p>5 rows × 1024 columns</p>\n",
       "</div>"
      ],
      "text/plain": [
       "   ECFP4_1  ECFP4_2  ECFP4_3  ECFP4_4  ECFP4_5  ECFP4_6  ECFP4_7  ECFP4_8  \\\n",
       "0        0        1        0        0        0        0        0        0   \n",
       "1        0        0        1        0        1        0        0        0   \n",
       "2        0        1        0        0        0        0        0        0   \n",
       "3        0        0        0        1        0        0        0        0   \n",
       "4        0        1        0        0        0        0        1        0   \n",
       "\n",
       "   ECFP4_9  ECFP4_10  ...  ECFP4_1015  ECFP4_1016  ECFP4_1017  ECFP4_1018  \\\n",
       "0        1         0  ...           0           0           0           0   \n",
       "1        1         0  ...           0           0           0           0   \n",
       "2        0         0  ...           0           0           0           0   \n",
       "3        0         0  ...           0           0           0           1   \n",
       "4        0         0  ...           0           0           0           0   \n",
       "\n",
       "   ECFP4_1019  ECFP4_1020  ECFP4_1021  ECFP4_1022  ECFP4_1023  ECFP4_1024  \n",
       "0           0           0           0           0           0           0  \n",
       "1           0           0           0           0           0           0  \n",
       "2           0           0           0           0           0           0  \n",
       "3           0           1           0           0           0           0  \n",
       "4           0           0           0           0           0           0  \n",
       "\n",
       "[5 rows x 1024 columns]"
      ]
     },
     "execution_count": 60,
     "metadata": {},
     "output_type": "execute_result"
    }
   ],
   "source": [
    "X.head()"
   ]
  },
  {
   "cell_type": "code",
   "execution_count": 61,
   "metadata": {},
   "outputs": [
    {
     "data": {
      "text/plain": [
       "(0    0\n",
       " 1    0\n",
       " 2    0\n",
       " 3    0\n",
       " 4    1\n",
       " Name: Activity, dtype: int64,\n",
       " 3589,\n",
       " pandas.core.series.Series)"
      ]
     },
     "execution_count": 61,
     "metadata": {},
     "output_type": "execute_result"
    }
   ],
   "source": [
    "# y is a pandas series\n",
    "y.head(), y.size, type(y)"
   ]
  },
  {
   "cell_type": "markdown",
   "metadata": {},
   "source": [
    "# Train test split"
   ]
  },
  {
   "cell_type": "code",
   "execution_count": 62,
   "metadata": {},
   "outputs": [],
   "source": [
    "from sklearn.model_selection import train_test_split, KFold"
   ]
  },
  {
   "cell_type": "code",
   "execution_count": 63,
   "metadata": {},
   "outputs": [],
   "source": [
    "# regular train/test split\n",
    "X_train, X_test, y_train, y_test = train_test_split(X, y, test_size=0.2, random_state=666)"
   ]
  },
  {
   "cell_type": "markdown",
   "metadata": {},
   "source": [
    "# 5-Fold Cross Validation"
   ]
  },
  {
   "cell_type": "code",
   "execution_count": 64,
   "metadata": {},
   "outputs": [],
   "source": [
    "#5-fold\n",
    "kf = KFold(n_splits=5, shuffle=True, random_state=999)"
   ]
  },
  {
   "cell_type": "code",
   "execution_count": 65,
   "metadata": {},
   "outputs": [],
   "source": [
    "# append to a list / could write to csv file to keep integrity\n",
    "X_train_list, X_valid_list, y_train_list, y_valid_list = [], [], [], []\n",
    "\n",
    "for train_index, valid_index in kf.split(X_train):\n",
    "    X_train_list.append(X_train.iloc[train_index])\n",
    "    X_valid_list.append(X_train.iloc[valid_index])\n",
    "    y_train_list.append(y_train.iloc[train_index])\n",
    "    y_valid_list.append(y_train.iloc[valid_index]) "
   ]
  },
  {
   "cell_type": "code",
   "execution_count": 66,
   "metadata": {},
   "outputs": [
    {
     "data": {
      "text/plain": [
       "1129    0\n",
       "157     0\n",
       "2975    0\n",
       "1981    0\n",
       "2916    1\n",
       "Name: Activity, dtype: int64"
      ]
     },
     "execution_count": 66,
     "metadata": {},
     "output_type": "execute_result"
    }
   ],
   "source": [
    "y_train_list[0].head()"
   ]
  },
  {
   "cell_type": "code",
   "execution_count": 67,
   "metadata": {},
   "outputs": [
    {
     "name": "stdout",
     "output_type": "stream",
     "text": [
      "<class 'pandas.core.frame.DataFrame'>\n",
      "Int64Index: 2297 entries, 1129 to 2284\n",
      "Columns: 1024 entries, ECFP4_1 to ECFP4_1024\n",
      "dtypes: int64(1024)\n",
      "memory usage: 18.0 MB\n"
     ]
    }
   ],
   "source": [
    "X_train_list[1].info()"
   ]
  },
  {
   "cell_type": "code",
   "execution_count": 68,
   "metadata": {},
   "outputs": [],
   "source": [
    "# TODO: add splits to csv file"
   ]
  },
  {
   "cell_type": "markdown",
   "metadata": {},
   "source": [
    "# Random Forest"
   ]
  },
  {
   "cell_type": "code",
   "execution_count": 69,
   "metadata": {},
   "outputs": [],
   "source": [
    "from sklearn.ensemble import RandomForestClassifier"
   ]
  },
  {
   "cell_type": "code",
   "execution_count": 70,
   "metadata": {},
   "outputs": [],
   "source": [
    "from sklearn.metrics import auc,roc_auc_score,recall_score,precision_score,f1_score\n",
    "from  sklearn.metrics import matthews_corrcoef\n",
    "from sklearn.metrics import accuracy_score"
   ]
  },
  {
   "cell_type": "code",
   "execution_count": 71,
   "metadata": {},
   "outputs": [],
   "source": [
    "# train method for Random Forest\n",
    "def train_rf(X_train, X_test, y_train, y_test, n_estimators=200, criterion='entropy', max_features='sqrt'):\n",
    "\n",
    "    \n",
    "    rf = RandomForestClassifier(n_estimators=n_estimators, criterion=criterion, min_samples_split=2, max_features=max_features, \n",
    "                               max_leaf_nodes=None,bootstrap=False,oob_score=False, n_jobs=-1, random_state=69)\n",
    "    \n",
    "    rf.fit(X_train,y_train)\n",
    "    y_pred= rf.predict(X_test)\n",
    "    y_pred_prob=rf.predict_proba(X_test)\n",
    "    \n",
    "    temp=[]\n",
    "    for j in range(len(y_pred_prob)):\n",
    "        temp.append(y_pred_prob[j][1])\n",
    "    auc=roc_auc_score(np.array(y_test),np.array(temp))\n",
    "    acc2=accuracy_score(y_test,y_pred)\n",
    "    mcc=matthews_corrcoef(y_test,y_pred)\n",
    "    Recall=recall_score(y_test, y_pred,pos_label=1)\n",
    "    Precision=precision_score(y_test, y_pred,pos_label=1)\n",
    "    F1_score=f1_score(y_test, y_pred,pos_label=1)\n",
    "\n",
    "    return auc,acc2,mcc,Recall,Precision,F1_score, rf"
   ]
  },
  {
   "cell_type": "code",
   "execution_count": 74,
   "metadata": {},
   "outputs": [],
   "source": [
    "def train_on_dataset(dataset, bits=1024, n_estimators=200, criterion='entropy', max_features='log2'):\n",
    "    \n",
    "    print(f'Training on dataset: {dataset} with {bits} bits fingerprint features')\n",
    "    \n",
    "    df = pd.read_csv(path/f'{dataset}/{dataset}_ecfp_{bits}_train_valid.csv')\n",
    "    X, y = df.drop([\"CID\", \"SMILES\", \"Activity\", 'is_valid'], axis=1), df[\"Activity\"]\n",
    "    X_train, X_test, y_train, y_test = train_test_split(X, y, test_size=0.4, random_state=666)\n",
    "    kf = KFold(n_splits=5, shuffle=True, random_state=999)\n",
    "    X_train_list, X_valid_list, y_train_list, y_valid_list = [], [], [], []\n",
    "\n",
    "    for train_index, valid_index in kf.split(X_train):\n",
    "        X_train_list.append(X_train.iloc[train_index])\n",
    "        X_valid_list.append(X_train.iloc[valid_index])\n",
    "        y_train_list.append(y_train.iloc[train_index])\n",
    "        y_valid_list.append(y_train.iloc[valid_index]) \n",
    "    aucs, accs, mccs, recalls, precs, f1_scores = [], [], [], [], [], []\n",
    "    for i in range(0,5):\n",
    "        X_train = X_train_list[i]\n",
    "        X_valid = X_valid_list[i]\n",
    "        y_train = y_train_list[i]\n",
    "        y_valid = y_valid_list[i]\n",
    "        auc,acc2,mcc,Recall,Precision,F1_score, rf = train_rf(X_train, X_valid, y_train, y_valid, \n",
    "                                                      n_estimators=n_estimators, criterion=criterion, \n",
    "                                                              max_features=max_features)\n",
    "        mccs.append(mcc)\n",
    "        aucs.append(auc)\n",
    "        accs.append(acc2)\n",
    "        mccs.append(mcc)\n",
    "        recalls.append(Recall)\n",
    "        precs.append(Precision)\n",
    "        f1_scores.append(F1_score)\n",
    "        \n",
    "    print(f\"Average ROCAUC of the folds: {np.mean(aucs)}\")\n",
    "    print(f\"Average accuracy of the folds: {np.mean(accs)}\")\n",
    "    print(f\"Average Matthews correlation of the folds: {np.mean(mccs)}\")\n",
    "    print(f\"Average recall of the folds: {np.mean(recalls)}\")\n",
    "    print(f\"Average precision of the folds: {np.mean(precs)}\")\n",
    "    print(f\"Average f1 score of the folds: {np.mean(f1_scores)}\")\n",
    "    print()\n",
    "    score = []\n",
    "    score.append(np.mean(aucs))\n",
    "    score.append(np.mean(accs))\n",
    "    score.append(np.mean(mccs))\n",
    "    score.append(np.mean(recalls))\n",
    "    score.append(np.mean(precs))\n",
    "    score.append(np.mean(f1_scores))\n",
    "    score = np.mean(score)\n",
    "    mean_mcc = np.mean(mccs)\n",
    "    return score, mean_mcc, rf"
   ]
  },
  {
   "cell_type": "code",
   "execution_count": 75,
   "metadata": {},
   "outputs": [
    {
     "name": "stdout",
     "output_type": "stream",
     "text": [
      "Training on dataset: CHEMBL205 with 1024 bits fingerprint features\n",
      "Average ROCAUC of the folds: 0.9847830504372403\n",
      "Average accuracy of the folds: 0.9698056082476205\n",
      "Average Matthews correlation of the folds: 0.8080068522303454\n",
      "Average recall of the folds: 0.75614996941153\n",
      "Average precision of the folds: 0.8993212681002388\n",
      "Average f1 score of the folds: 0.8195126946582214\n",
      "\n"
     ]
    }
   ],
   "source": [
    "_, _, rf = train_on_dataset(dataset)"
   ]
  },
  {
   "cell_type": "markdown",
   "metadata": {},
   "source": [
    "# Test"
   ]
  },
  {
   "cell_type": "code",
   "execution_count": 76,
   "metadata": {},
   "outputs": [
    {
     "name": "stdout",
     "output_type": "stream",
     "text": [
      "<class 'pandas.core.frame.DataFrame'>\n",
      "RangeIndex: 3589 entries, 0 to 3588\n",
      "Columns: 1027 entries, CID to Activity\n",
      "dtypes: int64(1025), object(2)\n",
      "memory usage: 28.1+ MB\n"
     ]
    }
   ],
   "source": [
    "df_test = pd.read_csv(path/f'{dataset}/{dataset}_ecfp_1024_test1.csv')\n",
    "df_test.info()"
   ]
  },
  {
   "cell_type": "code",
   "execution_count": 77,
   "metadata": {},
   "outputs": [],
   "source": [
    "# Split into X,y\n",
    "X, y = df_test.drop([\"CID\", \"SMILES\", \"Activity\"], axis=1), df_test[\"Activity\"]"
   ]
  },
  {
   "cell_type": "code",
   "execution_count": 83,
   "metadata": {},
   "outputs": [
    {
     "data": {
      "text/plain": [
       "3589"
      ]
     },
     "execution_count": 83,
     "metadata": {},
     "output_type": "execute_result"
    }
   ],
   "source": [
    "y_pred= rf.predict(X)\n",
    "len(y_pred)"
   ]
  },
  {
   "cell_type": "code",
   "execution_count": 85,
   "metadata": {},
   "outputs": [
    {
     "data": {
      "text/plain": [
       "array([[0.975, 0.025],\n",
       "       [0.99 , 0.01 ],\n",
       "       [0.95 , 0.05 ],\n",
       "       ...,\n",
       "       [0.99 , 0.01 ],\n",
       "       [0.3  , 0.7  ],\n",
       "       [0.975, 0.025]])"
      ]
     },
     "execution_count": 85,
     "metadata": {},
     "output_type": "execute_result"
    }
   ],
   "source": [
    "y_pred_prob=rf.predict_proba(X)\n",
    "y_pred_prob"
   ]
  },
  {
   "cell_type": "code",
   "execution_count": 90,
   "metadata": {},
   "outputs": [
    {
     "data": {
      "text/html": [
       "<div>\n",
       "<style scoped>\n",
       "    .dataframe tbody tr th:only-of-type {\n",
       "        vertical-align: middle;\n",
       "    }\n",
       "\n",
       "    .dataframe tbody tr th {\n",
       "        vertical-align: top;\n",
       "    }\n",
       "\n",
       "    .dataframe thead th {\n",
       "        text-align: right;\n",
       "    }\n",
       "</style>\n",
       "<table border=\"1\" class=\"dataframe\">\n",
       "  <thead>\n",
       "    <tr style=\"text-align: right;\">\n",
       "      <th></th>\n",
       "      <th>class</th>\n",
       "      <th>predictions</th>\n",
       "    </tr>\n",
       "  </thead>\n",
       "  <tbody>\n",
       "    <tr>\n",
       "      <th>0</th>\n",
       "      <td>0</td>\n",
       "      <td>[0.975, 0.025]</td>\n",
       "    </tr>\n",
       "    <tr>\n",
       "      <th>1</th>\n",
       "      <td>0</td>\n",
       "      <td>[0.99, 0.01]</td>\n",
       "    </tr>\n",
       "    <tr>\n",
       "      <th>2</th>\n",
       "      <td>0</td>\n",
       "      <td>[0.95, 0.05]</td>\n",
       "    </tr>\n",
       "    <tr>\n",
       "      <th>3</th>\n",
       "      <td>0</td>\n",
       "      <td>[0.995, 0.005]</td>\n",
       "    </tr>\n",
       "    <tr>\n",
       "      <th>4</th>\n",
       "      <td>1</td>\n",
       "      <td>[0.105, 0.895]</td>\n",
       "    </tr>\n",
       "  </tbody>\n",
       "</table>\n",
       "</div>"
      ],
      "text/plain": [
       "   class     predictions\n",
       "0      0  [0.975, 0.025]\n",
       "1      0    [0.99, 0.01]\n",
       "2      0    [0.95, 0.05]\n",
       "3      0  [0.995, 0.005]\n",
       "4      1  [0.105, 0.895]"
      ]
     },
     "execution_count": 90,
     "metadata": {},
     "output_type": "execute_result"
    }
   ],
   "source": [
    "preds = pd.DataFrame()\n",
    "preds['class'] = y\n",
    "preds['predictions'] = list(y_pred_prob)\n",
    "preds.head()"
   ]
  },
  {
   "cell_type": "code",
   "execution_count": 91,
   "metadata": {},
   "outputs": [
    {
     "name": "stdout",
     "output_type": "stream",
     "text": [
      "<class 'pandas.core.frame.DataFrame'>\n",
      "RangeIndex: 3589 entries, 0 to 3588\n",
      "Data columns (total 2 columns):\n",
      " #   Column       Non-Null Count  Dtype \n",
      "---  ------       --------------  ----- \n",
      " 0   class        3589 non-null   int64 \n",
      " 1   predictions  3589 non-null   object\n",
      "dtypes: int64(1), object(1)\n",
      "memory usage: 56.2+ KB\n"
     ]
    }
   ],
   "source": [
    "preds.info()"
   ]
  },
  {
   "cell_type": "code",
   "execution_count": 92,
   "metadata": {},
   "outputs": [
    {
     "name": "stdout",
     "output_type": "stream",
     "text": [
      "<class 'pandas.core.frame.DataFrame'>\n",
      "RangeIndex: 3588 entries, 0 to 3587\n",
      "Data columns (total 2 columns):\n",
      " #   Column       Non-Null Count  Dtype \n",
      "---  ------       --------------  ----- \n",
      " 0   class        3588 non-null   int64 \n",
      " 1   predictions  3588 non-null   object\n",
      "dtypes: int64(1), object(1)\n",
      "memory usage: 56.2+ KB\n"
     ]
    }
   ],
   "source": [
    "preds = preds[0:-1]\n",
    "preds.info()"
   ]
  },
  {
   "cell_type": "code",
   "execution_count": 93,
   "metadata": {},
   "outputs": [],
   "source": [
    "preds.to_csv(path/f'{dataset}/{dataset}_predictions_RF.csv', index=False)"
   ]
  },
  {
   "cell_type": "markdown",
   "metadata": {},
   "source": [
    "# Test for different parameters"
   ]
  },
  {
   "cell_type": "markdown",
   "metadata": {},
   "source": [
    "**Results:** The best results on dataset CHEMBL205 was from n_estimators=200, criterion=entropy, max_features=log2 \\\n",
    "**Note:** This could depend on the dataset"
   ]
  },
  {
   "cell_type": "code",
   "execution_count": 12,
   "metadata": {},
   "outputs": [],
   "source": [
    "from sklearn.model_selection import ParameterGrid"
   ]
  },
  {
   "cell_type": "code",
   "execution_count": 79,
   "metadata": {},
   "outputs": [],
   "source": [
    "dataset = 'CHEMBL218'"
   ]
  },
  {
   "cell_type": "code",
   "execution_count": 80,
   "metadata": {},
   "outputs": [],
   "source": [
    "param_grid = {\n",
    "    'n_estimators': [100,200,300,700, 1000], \n",
    "    'criterion': ['gini', 'entropy'],\n",
    "    'max_features': ['log2', 'sqrt']\n",
    "             }\n",
    "\n",
    "param_grid = ParameterGrid(param_grid)"
   ]
  },
  {
   "cell_type": "code",
   "execution_count": 81,
   "metadata": {},
   "outputs": [
    {
     "name": "stdout",
     "output_type": "stream",
     "text": [
      "Testing combination: {'criterion': 'gini', 'max_features': 'log2', 'n_estimators': 100}\n",
      "Training on dataset: CHEMBL218 with 1024 bits fingerprint features\n",
      "Average ROCAUC of the folds: 0.9906456212905432\n",
      "Average accuracy of the folds: 0.985263470213134\n",
      "Average Matthews correlation of the folds: 0.9068313007508195\n",
      "Average recall of the folds: 0.862871754615148\n",
      "Average precision of the folds: 0.9695692834443944\n",
      "Average f1 score of the folds: 0.9128635591089667\n",
      "\n",
      "Testing combination: {'criterion': 'gini', 'max_features': 'log2', 'n_estimators': 200}\n",
      "Training on dataset: CHEMBL218 with 1024 bits fingerprint features\n",
      "Average ROCAUC of the folds: 0.9923972977752629\n",
      "Average accuracy of the folds: 0.9857414626638805\n",
      "Average Matthews correlation of the folds: 0.9097014786781694\n",
      "Average recall of the folds: 0.8642661642814689\n",
      "Average precision of the folds: 0.9734985331742154\n",
      "Average f1 score of the folds: 0.9153962726162158\n",
      "\n",
      "Testing combination: {'criterion': 'gini', 'max_features': 'log2', 'n_estimators': 300}\n",
      "Training on dataset: CHEMBL218 with 1024 bits fingerprint features\n",
      "Average ROCAUC of the folds: 0.9924586401341522\n",
      "Average accuracy of the folds: 0.9855821635798503\n",
      "Average Matthews correlation of the folds: 0.9086144097825006\n",
      "Average recall of the folds: 0.8623052467249306\n",
      "Average precision of the folds: 0.9734750461795144\n",
      "Average f1 score of the folds: 0.914382575793352\n",
      "\n",
      "Testing combination: {'criterion': 'gini', 'max_features': 'log2', 'n_estimators': 700}\n",
      "Training on dataset: CHEMBL218 with 1024 bits fingerprint features\n",
      "Average ROCAUC of the folds: 0.9927709814865651\n",
      "Average accuracy of the folds: 0.9856618131218653\n",
      "Average Matthews correlation of the folds: 0.9091280300792315\n",
      "Average recall of the folds: 0.8649668078654045\n",
      "Average precision of the folds: 0.9715555915662121\n",
      "Average f1 score of the folds: 0.915004246452507\n",
      "\n",
      "Testing combination: {'criterion': 'gini', 'max_features': 'log2', 'n_estimators': 1000}\n",
      "Training on dataset: CHEMBL218 with 1024 bits fingerprint features\n",
      "Average ROCAUC of the folds: 0.9930413962517977\n",
      "Average accuracy of the folds: 0.9858211122058957\n",
      "Average Matthews correlation of the folds: 0.9102684225688955\n",
      "Average recall of the folds: 0.8659668078654045\n",
      "Average precision of the folds: 0.9726667026773231\n",
      "Average f1 score of the folds: 0.9160568780314543\n",
      "\n",
      "Testing combination: {'criterion': 'gini', 'max_features': 'sqrt', 'n_estimators': 100}\n",
      "Training on dataset: CHEMBL218 with 1024 bits fingerprint features\n",
      "Average ROCAUC of the folds: 0.9903554530456711\n",
      "Average accuracy of the folds: 0.9849448085793029\n",
      "Average Matthews correlation of the folds: 0.9052961362936799\n",
      "Average recall of the folds: 0.8662067547238991\n",
      "Average precision of the folds: 0.9631456334596727\n",
      "Average f1 score of the folds: 0.9117864143646361\n",
      "\n",
      "Testing combination: {'criterion': 'gini', 'max_features': 'sqrt', 'n_estimators': 200}\n",
      "Training on dataset: CHEMBL218 with 1024 bits fingerprint features\n",
      "Average ROCAUC of the folds: 0.9905099408353282\n",
      "Average accuracy of the folds: 0.9851041393962184\n",
      "Average Matthews correlation of the folds: 0.906411591249538\n",
      "Average recall of the folds: 0.8696402468336816\n",
      "Average precision of the folds: 0.9615711991950754\n",
      "Average f1 score of the folds: 0.9129741985203419\n",
      "\n",
      "Testing combination: {'criterion': 'gini', 'max_features': 'sqrt', 'n_estimators': 300}\n",
      "Training on dataset: CHEMBL218 with 1024 bits fingerprint features\n",
      "Average ROCAUC of the folds: 0.990865042886076\n",
      "Average accuracy of the folds: 0.9855820049154239\n",
      "Average Matthews correlation of the folds: 0.9094997820612271\n",
      "Average recall of the folds: 0.8731317307431954\n",
      "Average precision of the folds: 0.9635913109098011\n",
      "Average f1 score of the folds: 0.9159091302765132\n",
      "\n",
      "Testing combination: {'criterion': 'gini', 'max_features': 'sqrt', 'n_estimators': 700}\n",
      "Training on dataset: CHEMBL218 with 1024 bits fingerprint features\n",
      "Average ROCAUC of the folds: 0.9909261640079567\n",
      "Average accuracy of the folds: 0.9855023553734089\n",
      "Average Matthews correlation of the folds: 0.9090282244547687\n",
      "Average recall of the folds: 0.8723443291683923\n",
      "Average precision of the folds: 0.9635630315093244\n",
      "Average f1 score of the folds: 0.9154493237123781\n",
      "\n",
      "Testing combination: {'criterion': 'gini', 'max_features': 'sqrt', 'n_estimators': 1000}\n",
      "Training on dataset: CHEMBL218 with 1024 bits fingerprint features\n",
      "Average ROCAUC of the folds: 0.9912920999910909\n",
      "Average accuracy of the folds: 0.9855023553734089\n",
      "Average Matthews correlation of the folds: 0.909099154625328\n",
      "Average recall of the folds: 0.8724701696027214\n",
      "Average precision of the folds: 0.9635726724519419\n",
      "Average f1 score of the folds: 0.9155240477991399\n",
      "\n",
      "Testing combination: {'criterion': 'entropy', 'max_features': 'log2', 'n_estimators': 100}\n",
      "Training on dataset: CHEMBL218 with 1024 bits fingerprint features\n",
      "Average ROCAUC of the folds: 0.9906499647625182\n",
      "Average accuracy of the folds: 0.9851041393962184\n",
      "Average Matthews correlation of the folds: 0.9059321799442183\n",
      "Average recall of the folds: 0.8588278156630725\n",
      "Average precision of the folds: 0.9723175984956314\n",
      "Average f1 score of the folds: 0.9117950419828469\n",
      "\n",
      "Testing combination: {'criterion': 'entropy', 'max_features': 'log2', 'n_estimators': 200}\n",
      "Training on dataset: CHEMBL218 with 1024 bits fingerprint features\n",
      "Average ROCAUC of the folds: 0.9921571684004796\n",
      "Average accuracy of the folds: 0.985183820671119\n",
      "Average Matthews correlation of the folds: 0.9063641026430164\n",
      "Average recall of the folds: 0.8603480657637228\n",
      "Average precision of the folds: 0.9714253981207344\n",
      "Average f1 score of the folds: 0.9123000645686332\n",
      "\n",
      "Testing combination: {'criterion': 'entropy', 'max_features': 'log2', 'n_estimators': 300}\n",
      "Training on dataset: CHEMBL218 with 1024 bits fingerprint features\n",
      "Average ROCAUC of the folds: 0.9920630391999588\n",
      "Average accuracy of the folds: 0.9852635019460191\n",
      "Average Matthews correlation of the folds: 0.9066105163819129\n",
      "Average recall of the folds: 0.8615723981990836\n",
      "Average precision of the folds: 0.9704262882437511\n",
      "Average f1 score of the folds: 0.9126403588988066\n",
      "\n",
      "Testing combination: {'criterion': 'entropy', 'max_features': 'log2', 'n_estimators': 700}\n",
      "Training on dataset: CHEMBL218 with 1024 bits fingerprint features\n",
      "Average ROCAUC of the folds: 0.9926358174114576\n",
      "Average accuracy of the folds: 0.9853431832209196\n",
      "Average Matthews correlation of the folds: 0.9071206757882246\n",
      "Average recall of the folds: 0.8607459141808187\n",
      "Average precision of the folds: 0.9723503625184972\n",
      "Average f1 score of the folds: 0.9129832500358817\n",
      "\n",
      "Testing combination: {'criterion': 'entropy', 'max_features': 'log2', 'n_estimators': 1000}\n",
      "Training on dataset: CHEMBL218 with 1024 bits fingerprint features\n",
      "Average ROCAUC of the folds: 0.993002864002604\n",
      "Average accuracy of the folds: 0.9856617813889802\n",
      "Average Matthews correlation of the folds: 0.9092546349068839\n",
      "Average recall of the folds: 0.8643597997738868\n",
      "Average precision of the folds: 0.9724781936692114\n",
      "Average f1 score of the folds: 0.9150793614441348\n",
      "\n",
      "Testing combination: {'criterion': 'entropy', 'max_features': 'sqrt', 'n_estimators': 100}\n",
      "Training on dataset: CHEMBL218 with 1024 bits fingerprint features\n",
      "Average ROCAUC of the folds: 0.9910259479011756\n",
      "Average accuracy of the folds: 0.9852634067473633\n",
      "Average Matthews correlation of the folds: 0.9076155911539157\n",
      "Average recall of the folds: 0.8690688824348504\n",
      "Average precision of the folds: 0.9644795620740156\n",
      "Average f1 score of the folds: 0.9140094769611746\n",
      "\n",
      "Testing combination: {'criterion': 'entropy', 'max_features': 'sqrt', 'n_estimators': 200}\n",
      "Training on dataset: CHEMBL218 with 1024 bits fingerprint features\n",
      "Average ROCAUC of the folds: 0.9919628166971819\n",
      "Average accuracy of the folds: 0.9857412722665689\n",
      "Average Matthews correlation of the folds: 0.9109375467409876\n",
      "Average recall of the folds: 0.874772964769561\n",
      "Average precision of the folds: 0.9646777489264338\n",
      "Average f1 score of the folds: 0.9172390186613013\n",
      "\n",
      "Testing combination: {'criterion': 'entropy', 'max_features': 'sqrt', 'n_estimators': 300}\n",
      "Training on dataset: CHEMBL218 with 1024 bits fingerprint features\n",
      "Average ROCAUC of the folds: 0.9920654326866882\n",
      "Average accuracy of the folds: 0.9855820049154239\n",
      "Average Matthews correlation of the folds: 0.9098150612783964\n",
      "Average recall of the folds: 0.8728086084622475\n",
      "Average precision of the folds: 0.9646322250466207\n",
      "Average f1 score of the folds: 0.9161561990107211\n",
      "\n",
      "Testing combination: {'criterion': 'entropy', 'max_features': 'sqrt', 'n_estimators': 700}\n",
      "Training on dataset: CHEMBL218 with 1024 bits fingerprint features\n"
     ]
    },
    {
     "name": "stdout",
     "output_type": "stream",
     "text": [
      "Average ROCAUC of the folds: 0.9923290322458165\n",
      "Average accuracy of the folds: 0.9856616861903242\n",
      "Average Matthews correlation of the folds: 0.9102269705190531\n",
      "Average recall of the folds: 0.8736827680279184\n",
      "Average precision of the folds: 0.9644779414620579\n",
      "Average f1 score of the folds: 0.9165346876256922\n",
      "\n",
      "Testing combination: {'criterion': 'entropy', 'max_features': 'sqrt', 'n_estimators': 1000}\n",
      "Training on dataset: CHEMBL218 with 1024 bits fingerprint features\n",
      "Average ROCAUC of the folds: 0.9922815098635283\n",
      "Average accuracy of the folds: 0.9856617179232096\n",
      "Average Matthews correlation of the folds: 0.910092985618809\n",
      "Average recall of the folds: 0.8726793292771433\n",
      "Average precision of the folds: 0.96532688238535\n",
      "Average f1 score of the folds: 0.916312250419676\n",
      "\n",
      "Mean mcc for {'criterion': 'gini', 'max_features': 'log2', 'n_estimators': 100} is 0.9068313007508195\n",
      "Mean mcc for {'criterion': 'gini', 'max_features': 'log2', 'n_estimators': 200} is 0.9097014786781694\n",
      "Mean mcc for {'criterion': 'gini', 'max_features': 'log2', 'n_estimators': 300} is 0.9086144097825006\n",
      "Mean mcc for {'criterion': 'gini', 'max_features': 'log2', 'n_estimators': 700} is 0.9091280300792315\n",
      "Mean mcc for {'criterion': 'gini', 'max_features': 'log2', 'n_estimators': 1000} is 0.9102684225688955\n",
      "Mean mcc for {'criterion': 'gini', 'max_features': 'sqrt', 'n_estimators': 100} is 0.9052961362936799\n",
      "Mean mcc for {'criterion': 'gini', 'max_features': 'sqrt', 'n_estimators': 200} is 0.906411591249538\n",
      "Mean mcc for {'criterion': 'gini', 'max_features': 'sqrt', 'n_estimators': 300} is 0.9094997820612271\n",
      "Mean mcc for {'criterion': 'gini', 'max_features': 'sqrt', 'n_estimators': 700} is 0.9090282244547687\n",
      "Mean mcc for {'criterion': 'gini', 'max_features': 'sqrt', 'n_estimators': 1000} is 0.909099154625328\n",
      "Mean mcc for {'criterion': 'entropy', 'max_features': 'log2', 'n_estimators': 100} is 0.9059321799442183\n",
      "Mean mcc for {'criterion': 'entropy', 'max_features': 'log2', 'n_estimators': 200} is 0.9063641026430164\n",
      "Mean mcc for {'criterion': 'entropy', 'max_features': 'log2', 'n_estimators': 300} is 0.9066105163819129\n",
      "Mean mcc for {'criterion': 'entropy', 'max_features': 'log2', 'n_estimators': 700} is 0.9071206757882246\n",
      "Mean mcc for {'criterion': 'entropy', 'max_features': 'log2', 'n_estimators': 1000} is 0.9092546349068839\n",
      "Mean mcc for {'criterion': 'entropy', 'max_features': 'sqrt', 'n_estimators': 100} is 0.9076155911539157\n",
      "Mean mcc for {'criterion': 'entropy', 'max_features': 'sqrt', 'n_estimators': 200} is 0.9109375467409876\n",
      "Mean mcc for {'criterion': 'entropy', 'max_features': 'sqrt', 'n_estimators': 300} is 0.9098150612783964\n",
      "Mean mcc for {'criterion': 'entropy', 'max_features': 'sqrt', 'n_estimators': 700} is 0.9102269705190531\n",
      "Mean mcc for {'criterion': 'entropy', 'max_features': 'sqrt', 'n_estimators': 1000} is 0.910092985618809\n"
     ]
    }
   ],
   "source": [
    "mean_scores = []\n",
    "mean_mccs = []\n",
    "for setting in param_grid:\n",
    "    print(f\"Testing combination: {setting}\")\n",
    "    score, mccs = train_on_dataset(dataset, \n",
    "                     bits=1024, \n",
    "                     n_estimators=setting['n_estimators'],\n",
    "                     criterion=setting['criterion'],\n",
    "                     max_features=setting['max_features']\n",
    "                    )\n",
    "    mean_scores.append(score)\n",
    "    mean_mccs.append(mccs)\n",
    "i = 0\n",
    "for setting in param_grid:\n",
    "    #print(f'Mean score for {setting} is {mean_scores[i]}')\n",
    "    print(f'Mean mcc for {setting} is {mean_mccs[i]}')\n",
    "    i += 1\n"
   ]
  },
  {
   "cell_type": "code",
   "execution_count": 82,
   "metadata": {},
   "outputs": [
    {
     "name": "stdout",
     "output_type": "stream",
     "text": [
      "Highest score is: 0.9109375467409876 from: {'criterion': 'entropy', 'max_features': 'sqrt', 'n_estimators': 200}\n"
     ]
    }
   ],
   "source": [
    "i = 0\n",
    "for setting in param_grid:\n",
    "    if mean_mccs[i] == np.amax(mean_mccs):\n",
    "        print(f'Highest score is: {mean_mccs[i]} from: {setting}')\n",
    "    i += 1"
   ]
  },
  {
   "cell_type": "markdown",
   "metadata": {},
   "source": [
    "# 1024 vs 512 bit fingerprint"
   ]
  },
  {
   "cell_type": "markdown",
   "metadata": {},
   "source": [
    "**Results:** 1024 is better on all parts but takes longer to train usually"
   ]
  },
  {
   "cell_type": "code",
   "execution_count": 71,
   "metadata": {},
   "outputs": [],
   "source": [
    "dataset = 'CHEMBL205'"
   ]
  },
  {
   "cell_type": "code",
   "execution_count": 72,
   "metadata": {},
   "outputs": [
    {
     "name": "stdout",
     "output_type": "stream",
     "text": [
      "Training on dataset: CHEMBL205 with 512 bits fingerprint features\n",
      "Average ROCAUC of the folds: 0.986635283838058\n",
      "Average accuracy of the folds: 0.9729657070535278\n",
      "Average Matthews correlation of the folds: 0.8328577809532958\n",
      "Average recall of the folds: 0.8205780032982327\n",
      "Average precision of the folds: 0.8757370373103303\n",
      "Average f1 score of the folds: 0.846947314852844\n",
      "\n",
      "Training on dataset: CHEMBL205 with 1024 bits fingerprint features\n",
      "Average ROCAUC of the folds: 0.9874170906586827\n",
      "Average accuracy of the folds: 0.9731515374932875\n",
      "Average Matthews correlation of the folds: 0.8347839190949525\n",
      "Average recall of the folds: 0.8277251965140863\n",
      "Average precision of the folds: 0.8719397932002083\n",
      "Average f1 score of the folds: 0.8490316339410597\n",
      "\n"
     ]
    },
    {
     "data": {
      "text/plain": [
       "0.8906748618170462"
      ]
     },
     "execution_count": 72,
     "metadata": {},
     "output_type": "execute_result"
    }
   ],
   "source": [
    "train_on_dataset(dataset, bits=512)\n",
    "train_on_dataset(dataset, bits=1024)"
   ]
  },
  {
   "cell_type": "markdown",
   "metadata": {},
   "source": [
    "# Train on all datasets"
   ]
  },
  {
   "cell_type": "code",
   "execution_count": 13,
   "metadata": {},
   "outputs": [],
   "source": [
    "datasets = ['CHEMBL205', 'CHEMBL301', \n",
    "            'CHEMBL240', 'CHEMBL219', \n",
    "            'CHEMBL244', 'CHEMBL218', \n",
    "            'CHEMBL1978']"
   ]
  },
  {
   "cell_type": "code",
   "execution_count": 14,
   "metadata": {},
   "outputs": [],
   "source": [
    "top_mcc_scores = {\n",
    "    \n",
    "    'CHEMBL205': 0.862,\n",
    "    'CHEMBL301': 0.926,\n",
    "    'CHEMBL240': 0.884,\n",
    "    'CHEMBL219': 0.887,\n",
    "    'CHEMBL244': 0.983,\n",
    "    'CHEMBL218': 0.941,\n",
    "    'CHEMBL1978': 0.904}\n"
   ]
  },
  {
   "cell_type": "code",
   "execution_count": 101,
   "metadata": {},
   "outputs": [],
   "source": [
    "mccs = []"
   ]
  },
  {
   "cell_type": "code",
   "execution_count": 102,
   "metadata": {},
   "outputs": [
    {
     "name": "stdout",
     "output_type": "stream",
     "text": [
      "Training on dataset: CHEMBL205 with 512 bits fingerprint features\n",
      "Average ROCAUC of the folds: 0.9876839623265227\n",
      "Average accuracy of the folds: 0.9721297506548311\n",
      "Average Matthews correlation of the folds: 0.8252921642404335\n",
      "Average recall of the folds: 0.7932998688175008\n",
      "Average precision of the folds: 0.8901113017236748\n",
      "Average f1 score of the folds: 0.8387525257174839\n",
      "\n",
      "Training on dataset: CHEMBL301 with 512 bits fingerprint features\n",
      "Average ROCAUC of the folds: 0.9871230843054807\n",
      "Average accuracy of the folds: 0.9825910398115102\n",
      "Average Matthews correlation of the folds: 0.8894002637213945\n",
      "Average recall of the folds: 0.8159172403162784\n",
      "Average precision of the folds: 0.9888888888888889\n",
      "Average f1 score of the folds: 0.8936870469862273\n",
      "\n",
      "Training on dataset: CHEMBL240 with 512 bits fingerprint features\n",
      "Average ROCAUC of the folds: 0.9759656896211462\n",
      "Average accuracy of the folds: 0.9686147186147187\n",
      "Average Matthews correlation of the folds: 0.7869141940048865\n",
      "Average recall of the folds: 0.6670744535377015\n",
      "Average precision of the folds: 0.9644169347395154\n",
      "Average f1 score of the folds: 0.7872017899430952\n",
      "\n",
      "Training on dataset: CHEMBL219 with 512 bits fingerprint features\n",
      "Average ROCAUC of the folds: 0.9836630205655533\n",
      "Average accuracy of the folds: 0.9736455125730549\n",
      "Average Matthews correlation of the folds: 0.8344093259654839\n",
      "Average recall of the folds: 0.7625418090681249\n",
      "Average precision of the folds: 0.9434345861955956\n",
      "Average f1 score of the folds: 0.8423983780498233\n",
      "\n",
      "Training on dataset: CHEMBL244 with 512 bits fingerprint features\n",
      "Average ROCAUC of the folds: 0.9980934859918875\n",
      "Average accuracy of the folds: 0.9943046357615895\n",
      "Average Matthews correlation of the folds: 0.965523623931033\n",
      "Average recall of the folds: 0.9451307634024847\n",
      "Average precision of the folds: 0.9926511612045152\n",
      "Average f1 score of the folds: 0.9682920817836672\n",
      "\n",
      "Training on dataset: CHEMBL218 with 512 bits fingerprint features\n",
      "Average ROCAUC of the folds: 0.991032395543072\n",
      "Average accuracy of the folds: 0.9837500337161906\n",
      "Average Matthews correlation of the folds: 0.8965708763552348\n",
      "Average recall of the folds: 0.8410797943762865\n",
      "Average precision of the folds: 0.9737661311087751\n",
      "Average f1 score of the folds: 0.9024560182261332\n",
      "\n",
      "Training on dataset: CHEMBL1978 with 512 bits fingerprint features\n",
      "Average ROCAUC of the folds: 0.992404138615664\n",
      "Average accuracy of the folds: 0.9787721492599541\n",
      "Average Matthews correlation of the folds: 0.8652880515329053\n",
      "Average recall of the folds: 0.8007878787878788\n",
      "Average precision of the folds: 0.9604614092717201\n",
      "Average f1 score of the folds: 0.8713112553388104\n",
      "\n"
     ]
    }
   ],
   "source": [
    "for dataset in datasets:\n",
    "    _, mcc = train_on_dataset(dataset, bits=512)\n",
    "    mccs.append(mcc)"
   ]
  },
  {
   "cell_type": "code",
   "execution_count": 103,
   "metadata": {},
   "outputs": [
    {
     "data": {
      "text/plain": [
       "{'CHEMBL205': 0.825,\n",
       " 'CHEMBL301': 0.889,\n",
       " 'CHEMBL240': 0.787,\n",
       " 'CHEMBL219': 0.834,\n",
       " 'CHEMBL244': 0.966,\n",
       " 'CHEMBL218': 0.897,\n",
       " 'CHEMBL1978': 0.865}"
      ]
     },
     "execution_count": 103,
     "metadata": {},
     "output_type": "execute_result"
    }
   ],
   "source": [
    "mccs = [round(num, 3) for num in mccs]\n",
    "mcc_scores = dict(zip(datasets, mccs))\n",
    "mcc_scores"
   ]
  },
  {
   "cell_type": "code",
   "execution_count": 104,
   "metadata": {},
   "outputs": [
    {
     "data": {
      "text/plain": [
       "{'CHEMBL205': 0.862,\n",
       " 'CHEMBL301': 0.926,\n",
       " 'CHEMBL240': 0.884,\n",
       " 'CHEMBL219': 0.887,\n",
       " 'CHEMBL244': 0.983,\n",
       " 'CHEMBL218': 0.941,\n",
       " 'CHEMBL1978': 0.904}"
      ]
     },
     "execution_count": 104,
     "metadata": {},
     "output_type": "execute_result"
    }
   ],
   "source": [
    "top_mcc_scores"
   ]
  },
  {
   "cell_type": "markdown",
   "metadata": {},
   "source": [
    "# RF with clustering"
   ]
  },
  {
   "cell_type": "code",
   "execution_count": 32,
   "metadata": {},
   "outputs": [],
   "source": [
    "dataset = 'CHEMBL205'"
   ]
  },
  {
   "cell_type": "code",
   "execution_count": 58,
   "metadata": {},
   "outputs": [],
   "source": [
    "df = pd.read_csv(path/f'{dataset}_cl_ECFP_1024_with_100_clusters.csv')"
   ]
  },
  {
   "cell_type": "code",
   "execution_count": 59,
   "metadata": {},
   "outputs": [
    {
     "data": {
      "text/html": [
       "<div>\n",
       "<style scoped>\n",
       "    .dataframe tbody tr th:only-of-type {\n",
       "        vertical-align: middle;\n",
       "    }\n",
       "\n",
       "    .dataframe tbody tr th {\n",
       "        vertical-align: top;\n",
       "    }\n",
       "\n",
       "    .dataframe thead th {\n",
       "        text-align: right;\n",
       "    }\n",
       "</style>\n",
       "<table border=\"1\" class=\"dataframe\">\n",
       "  <thead>\n",
       "    <tr style=\"text-align: right;\">\n",
       "      <th></th>\n",
       "      <th>Name</th>\n",
       "      <th>SMILES</th>\n",
       "      <th>Cluster</th>\n",
       "      <th>ECFP4_1</th>\n",
       "      <th>ECFP4_2</th>\n",
       "      <th>ECFP4_3</th>\n",
       "      <th>ECFP4_4</th>\n",
       "      <th>ECFP4_5</th>\n",
       "      <th>ECFP4_6</th>\n",
       "      <th>ECFP4_7</th>\n",
       "      <th>...</th>\n",
       "      <th>ECFP4_1016</th>\n",
       "      <th>ECFP4_1017</th>\n",
       "      <th>ECFP4_1018</th>\n",
       "      <th>ECFP4_1019</th>\n",
       "      <th>ECFP4_1020</th>\n",
       "      <th>ECFP4_1021</th>\n",
       "      <th>ECFP4_1022</th>\n",
       "      <th>ECFP4_1023</th>\n",
       "      <th>ECFP4_1024</th>\n",
       "      <th>Activity</th>\n",
       "    </tr>\n",
       "  </thead>\n",
       "  <tbody>\n",
       "    <tr>\n",
       "      <th>0</th>\n",
       "      <td>CHEMBL188002</td>\n",
       "      <td>S(=O)(=O)(N)c1cc(N/C(/S)=N\\c2cc(C(=O)[O-])c(cc...</td>\n",
       "      <td>28</td>\n",
       "      <td>0</td>\n",
       "      <td>0</td>\n",
       "      <td>0</td>\n",
       "      <td>0</td>\n",
       "      <td>0</td>\n",
       "      <td>0</td>\n",
       "      <td>0</td>\n",
       "      <td>...</td>\n",
       "      <td>0</td>\n",
       "      <td>0</td>\n",
       "      <td>0</td>\n",
       "      <td>0</td>\n",
       "      <td>0</td>\n",
       "      <td>0</td>\n",
       "      <td>0</td>\n",
       "      <td>0</td>\n",
       "      <td>0</td>\n",
       "      <td>1</td>\n",
       "    </tr>\n",
       "    <tr>\n",
       "      <th>1</th>\n",
       "      <td>CHEMBL364127</td>\n",
       "      <td>Clc1ccc(cc1)C(=O)NC1Cc2cc(S(=O)(=O)N)ccc2C1</td>\n",
       "      <td>28</td>\n",
       "      <td>0</td>\n",
       "      <td>0</td>\n",
       "      <td>0</td>\n",
       "      <td>0</td>\n",
       "      <td>0</td>\n",
       "      <td>0</td>\n",
       "      <td>0</td>\n",
       "      <td>...</td>\n",
       "      <td>0</td>\n",
       "      <td>0</td>\n",
       "      <td>0</td>\n",
       "      <td>0</td>\n",
       "      <td>1</td>\n",
       "      <td>0</td>\n",
       "      <td>0</td>\n",
       "      <td>0</td>\n",
       "      <td>0</td>\n",
       "      <td>1</td>\n",
       "    </tr>\n",
       "    <tr>\n",
       "      <th>2</th>\n",
       "      <td>CHEMBL1683469</td>\n",
       "      <td>S(=O)(=O)(N)c1ccc(cc1)CNS(=O)(=O)CC12CCC(CC1=O...</td>\n",
       "      <td>93</td>\n",
       "      <td>0</td>\n",
       "      <td>0</td>\n",
       "      <td>0</td>\n",
       "      <td>0</td>\n",
       "      <td>0</td>\n",
       "      <td>0</td>\n",
       "      <td>0</td>\n",
       "      <td>...</td>\n",
       "      <td>0</td>\n",
       "      <td>0</td>\n",
       "      <td>0</td>\n",
       "      <td>0</td>\n",
       "      <td>1</td>\n",
       "      <td>0</td>\n",
       "      <td>0</td>\n",
       "      <td>0</td>\n",
       "      <td>0</td>\n",
       "      <td>1</td>\n",
       "    </tr>\n",
       "    <tr>\n",
       "      <th>3</th>\n",
       "      <td>CHEMBL52564</td>\n",
       "      <td>Oc1ccccc1\\C=C\\C(=O)[O-]</td>\n",
       "      <td>14</td>\n",
       "      <td>0</td>\n",
       "      <td>0</td>\n",
       "      <td>0</td>\n",
       "      <td>0</td>\n",
       "      <td>0</td>\n",
       "      <td>0</td>\n",
       "      <td>0</td>\n",
       "      <td>...</td>\n",
       "      <td>0</td>\n",
       "      <td>0</td>\n",
       "      <td>0</td>\n",
       "      <td>0</td>\n",
       "      <td>0</td>\n",
       "      <td>0</td>\n",
       "      <td>0</td>\n",
       "      <td>0</td>\n",
       "      <td>0</td>\n",
       "      <td>1</td>\n",
       "    </tr>\n",
       "    <tr>\n",
       "      <th>4</th>\n",
       "      <td>CHEMBL21427</td>\n",
       "      <td>OB(O)c1ccc(OC)cc1</td>\n",
       "      <td>32</td>\n",
       "      <td>0</td>\n",
       "      <td>0</td>\n",
       "      <td>0</td>\n",
       "      <td>0</td>\n",
       "      <td>0</td>\n",
       "      <td>0</td>\n",
       "      <td>0</td>\n",
       "      <td>...</td>\n",
       "      <td>0</td>\n",
       "      <td>0</td>\n",
       "      <td>0</td>\n",
       "      <td>0</td>\n",
       "      <td>0</td>\n",
       "      <td>0</td>\n",
       "      <td>0</td>\n",
       "      <td>0</td>\n",
       "      <td>0</td>\n",
       "      <td>1</td>\n",
       "    </tr>\n",
       "  </tbody>\n",
       "</table>\n",
       "<p>5 rows × 1028 columns</p>\n",
       "</div>"
      ],
      "text/plain": [
       "            Name                                             SMILES  Cluster  \\\n",
       "0   CHEMBL188002  S(=O)(=O)(N)c1cc(N/C(/S)=N\\c2cc(C(=O)[O-])c(cc...       28   \n",
       "1   CHEMBL364127        Clc1ccc(cc1)C(=O)NC1Cc2cc(S(=O)(=O)N)ccc2C1       28   \n",
       "2  CHEMBL1683469  S(=O)(=O)(N)c1ccc(cc1)CNS(=O)(=O)CC12CCC(CC1=O...       93   \n",
       "3    CHEMBL52564                            Oc1ccccc1\\C=C\\C(=O)[O-]       14   \n",
       "4    CHEMBL21427                                  OB(O)c1ccc(OC)cc1       32   \n",
       "\n",
       "   ECFP4_1  ECFP4_2  ECFP4_3  ECFP4_4  ECFP4_5  ECFP4_6  ECFP4_7  ...  \\\n",
       "0        0        0        0        0        0        0        0  ...   \n",
       "1        0        0        0        0        0        0        0  ...   \n",
       "2        0        0        0        0        0        0        0  ...   \n",
       "3        0        0        0        0        0        0        0  ...   \n",
       "4        0        0        0        0        0        0        0  ...   \n",
       "\n",
       "   ECFP4_1016  ECFP4_1017  ECFP4_1018  ECFP4_1019  ECFP4_1020  ECFP4_1021  \\\n",
       "0           0           0           0           0           0           0   \n",
       "1           0           0           0           0           1           0   \n",
       "2           0           0           0           0           1           0   \n",
       "3           0           0           0           0           0           0   \n",
       "4           0           0           0           0           0           0   \n",
       "\n",
       "   ECFP4_1022  ECFP4_1023  ECFP4_1024  Activity  \n",
       "0           0           0           0         1  \n",
       "1           0           0           0         1  \n",
       "2           0           0           0         1  \n",
       "3           0           0           0         1  \n",
       "4           0           0           0         1  \n",
       "\n",
       "[5 rows x 1028 columns]"
      ]
     },
     "execution_count": 59,
     "metadata": {},
     "output_type": "execute_result"
    }
   ],
   "source": [
    "df.head()"
   ]
  },
  {
   "cell_type": "code",
   "execution_count": 60,
   "metadata": {},
   "outputs": [
    {
     "data": {
      "text/plain": [
       "array([28, 93, 14, 32, 69, 24, 95, 11, 77, 72, 75, 31, 23, 84, 34, 92, 47,\n",
       "        1, 20, 13, 37, 15,  4, 65, 18, 16, 81, 94,  5, 12, 39, 62, 71, 43,\n",
       "       44, 46,  7,  2, 86, 35, 73, 38, 48, 33, 64, 41, 22, 27, 50, 89, 61,\n",
       "       80, 19, 67, 10, 91, 99, 26,  6, 53, 21, 68, 78, 74, 57, 63, 17, 55,\n",
       "       98, 79, 58, 25,  3, 85, 88, 82,  8, 36, 83,  9, 97, 45, 56, 29, 90,\n",
       "       66, 70, 51, 42, 49, 52, 40, 96, 60, 30, 87, 59, 76,  0, 54])"
      ]
     },
     "execution_count": 60,
     "metadata": {},
     "output_type": "execute_result"
    }
   ],
   "source": [
    "df.Cluster.unique()"
   ]
  },
  {
   "cell_type": "code",
   "execution_count": 61,
   "metadata": {
    "scrolled": true
   },
   "outputs": [],
   "source": [
    "values = df.Cluster.value_counts(ascending=True)"
   ]
  },
  {
   "cell_type": "code",
   "execution_count": 62,
   "metadata": {},
   "outputs": [],
   "source": [
    "values = values[values < 2].index"
   ]
  },
  {
   "cell_type": "code",
   "execution_count": 63,
   "metadata": {},
   "outputs": [
    {
     "data": {
      "text/plain": [
       "[0, 66, 83, 87, 90, 97, 59, 65, 49, 76, 29, 45, 3]"
      ]
     },
     "execution_count": 63,
     "metadata": {},
     "output_type": "execute_result"
    }
   ],
   "source": [
    "list(values)"
   ]
  },
  {
   "cell_type": "code",
   "execution_count": 64,
   "metadata": {},
   "outputs": [
    {
     "name": "stdout",
     "output_type": "stream",
     "text": [
      "<class 'pandas.core.frame.DataFrame'>\n",
      "RangeIndex: 17941 entries, 0 to 17940\n",
      "Columns: 1028 entries, Name to Activity\n",
      "dtypes: int64(1026), object(2)\n",
      "memory usage: 140.7+ MB\n"
     ]
    }
   ],
   "source": [
    "df.info()"
   ]
  },
  {
   "cell_type": "code",
   "execution_count": 65,
   "metadata": {},
   "outputs": [],
   "source": [
    "for i in list(values):\n",
    "    \n",
    "    df = pd.concat([*[df.loc[df.Cluster == i]]*2, \n",
    "                    *[df.loc[df.Cluster != i]]], \n",
    "                    ignore_index=True)\n"
   ]
  },
  {
   "cell_type": "code",
   "execution_count": 66,
   "metadata": {},
   "outputs": [
    {
     "name": "stdout",
     "output_type": "stream",
     "text": [
      "<class 'pandas.core.frame.DataFrame'>\n",
      "RangeIndex: 17954 entries, 0 to 17953\n",
      "Columns: 1028 entries, Name to Activity\n",
      "dtypes: int64(1026), object(2)\n",
      "memory usage: 140.8+ MB\n"
     ]
    }
   ],
   "source": [
    "df.info()"
   ]
  },
  {
   "cell_type": "code",
   "execution_count": 67,
   "metadata": {},
   "outputs": [],
   "source": [
    "df.reset_index(drop=True, inplace=True)"
   ]
  },
  {
   "cell_type": "code",
   "execution_count": 68,
   "metadata": {},
   "outputs": [
    {
     "data": {
      "text/plain": [
       "77    1138\n",
       "13    1018\n",
       "32     957\n",
       "71     947\n",
       "5      827\n",
       "      ... \n",
       "83       2\n",
       "9        2\n",
       "66       2\n",
       "51       2\n",
       "0        2\n",
       "Name: Cluster, Length: 100, dtype: int64"
      ]
     },
     "execution_count": 68,
     "metadata": {},
     "output_type": "execute_result"
    }
   ],
   "source": [
    "df.Cluster.value_counts()"
   ]
  },
  {
   "cell_type": "code",
   "execution_count": 69,
   "metadata": {},
   "outputs": [],
   "source": [
    "X, y = df.drop(['Name', 'SMILES', 'Activity'], axis=1), df['Activity']"
   ]
  },
  {
   "cell_type": "code",
   "execution_count": 70,
   "metadata": {},
   "outputs": [],
   "source": [
    "X_train, X_test, y_train, y_test = train_test_split(X, y, test_size=0.33, stratify=df['Cluster'], random_state=42)"
   ]
  },
  {
   "cell_type": "code",
   "execution_count": 71,
   "metadata": {},
   "outputs": [
    {
     "data": {
      "text/html": [
       "<div>\n",
       "<style scoped>\n",
       "    .dataframe tbody tr th:only-of-type {\n",
       "        vertical-align: middle;\n",
       "    }\n",
       "\n",
       "    .dataframe tbody tr th {\n",
       "        vertical-align: top;\n",
       "    }\n",
       "\n",
       "    .dataframe thead th {\n",
       "        text-align: right;\n",
       "    }\n",
       "</style>\n",
       "<table border=\"1\" class=\"dataframe\">\n",
       "  <thead>\n",
       "    <tr style=\"text-align: right;\">\n",
       "      <th></th>\n",
       "      <th>Cluster</th>\n",
       "      <th>ECFP4_1</th>\n",
       "      <th>ECFP4_2</th>\n",
       "      <th>ECFP4_3</th>\n",
       "      <th>ECFP4_4</th>\n",
       "      <th>ECFP4_5</th>\n",
       "      <th>ECFP4_6</th>\n",
       "      <th>ECFP4_7</th>\n",
       "      <th>ECFP4_8</th>\n",
       "      <th>ECFP4_9</th>\n",
       "      <th>...</th>\n",
       "      <th>ECFP4_1015</th>\n",
       "      <th>ECFP4_1016</th>\n",
       "      <th>ECFP4_1017</th>\n",
       "      <th>ECFP4_1018</th>\n",
       "      <th>ECFP4_1019</th>\n",
       "      <th>ECFP4_1020</th>\n",
       "      <th>ECFP4_1021</th>\n",
       "      <th>ECFP4_1022</th>\n",
       "      <th>ECFP4_1023</th>\n",
       "      <th>ECFP4_1024</th>\n",
       "    </tr>\n",
       "  </thead>\n",
       "  <tbody>\n",
       "    <tr>\n",
       "      <th>14473</th>\n",
       "      <td>69</td>\n",
       "      <td>0</td>\n",
       "      <td>0</td>\n",
       "      <td>0</td>\n",
       "      <td>0</td>\n",
       "      <td>0</td>\n",
       "      <td>0</td>\n",
       "      <td>0</td>\n",
       "      <td>0</td>\n",
       "      <td>0</td>\n",
       "      <td>...</td>\n",
       "      <td>0</td>\n",
       "      <td>0</td>\n",
       "      <td>0</td>\n",
       "      <td>0</td>\n",
       "      <td>1</td>\n",
       "      <td>0</td>\n",
       "      <td>0</td>\n",
       "      <td>0</td>\n",
       "      <td>0</td>\n",
       "      <td>0</td>\n",
       "    </tr>\n",
       "    <tr>\n",
       "      <th>1802</th>\n",
       "      <td>5</td>\n",
       "      <td>0</td>\n",
       "      <td>0</td>\n",
       "      <td>0</td>\n",
       "      <td>0</td>\n",
       "      <td>0</td>\n",
       "      <td>0</td>\n",
       "      <td>0</td>\n",
       "      <td>0</td>\n",
       "      <td>0</td>\n",
       "      <td>...</td>\n",
       "      <td>1</td>\n",
       "      <td>0</td>\n",
       "      <td>0</td>\n",
       "      <td>0</td>\n",
       "      <td>0</td>\n",
       "      <td>0</td>\n",
       "      <td>0</td>\n",
       "      <td>0</td>\n",
       "      <td>0</td>\n",
       "      <td>0</td>\n",
       "    </tr>\n",
       "    <tr>\n",
       "      <th>3429</th>\n",
       "      <td>61</td>\n",
       "      <td>0</td>\n",
       "      <td>0</td>\n",
       "      <td>0</td>\n",
       "      <td>0</td>\n",
       "      <td>0</td>\n",
       "      <td>0</td>\n",
       "      <td>0</td>\n",
       "      <td>0</td>\n",
       "      <td>1</td>\n",
       "      <td>...</td>\n",
       "      <td>0</td>\n",
       "      <td>0</td>\n",
       "      <td>0</td>\n",
       "      <td>0</td>\n",
       "      <td>0</td>\n",
       "      <td>1</td>\n",
       "      <td>0</td>\n",
       "      <td>0</td>\n",
       "      <td>0</td>\n",
       "      <td>0</td>\n",
       "    </tr>\n",
       "    <tr>\n",
       "      <th>2527</th>\n",
       "      <td>53</td>\n",
       "      <td>0</td>\n",
       "      <td>0</td>\n",
       "      <td>0</td>\n",
       "      <td>0</td>\n",
       "      <td>0</td>\n",
       "      <td>0</td>\n",
       "      <td>0</td>\n",
       "      <td>0</td>\n",
       "      <td>0</td>\n",
       "      <td>...</td>\n",
       "      <td>0</td>\n",
       "      <td>0</td>\n",
       "      <td>0</td>\n",
       "      <td>0</td>\n",
       "      <td>0</td>\n",
       "      <td>0</td>\n",
       "      <td>0</td>\n",
       "      <td>0</td>\n",
       "      <td>0</td>\n",
       "      <td>0</td>\n",
       "    </tr>\n",
       "    <tr>\n",
       "      <th>1040</th>\n",
       "      <td>28</td>\n",
       "      <td>0</td>\n",
       "      <td>0</td>\n",
       "      <td>1</td>\n",
       "      <td>0</td>\n",
       "      <td>1</td>\n",
       "      <td>0</td>\n",
       "      <td>0</td>\n",
       "      <td>0</td>\n",
       "      <td>0</td>\n",
       "      <td>...</td>\n",
       "      <td>0</td>\n",
       "      <td>0</td>\n",
       "      <td>0</td>\n",
       "      <td>1</td>\n",
       "      <td>0</td>\n",
       "      <td>0</td>\n",
       "      <td>0</td>\n",
       "      <td>0</td>\n",
       "      <td>0</td>\n",
       "      <td>0</td>\n",
       "    </tr>\n",
       "  </tbody>\n",
       "</table>\n",
       "<p>5 rows × 1025 columns</p>\n",
       "</div>"
      ],
      "text/plain": [
       "       Cluster  ECFP4_1  ECFP4_2  ECFP4_3  ECFP4_4  ECFP4_5  ECFP4_6  ECFP4_7  \\\n",
       "14473       69        0        0        0        0        0        0        0   \n",
       "1802         5        0        0        0        0        0        0        0   \n",
       "3429        61        0        0        0        0        0        0        0   \n",
       "2527        53        0        0        0        0        0        0        0   \n",
       "1040        28        0        0        1        0        1        0        0   \n",
       "\n",
       "       ECFP4_8  ECFP4_9  ...  ECFP4_1015  ECFP4_1016  ECFP4_1017  ECFP4_1018  \\\n",
       "14473        0        0  ...           0           0           0           0   \n",
       "1802         0        0  ...           1           0           0           0   \n",
       "3429         0        1  ...           0           0           0           0   \n",
       "2527         0        0  ...           0           0           0           0   \n",
       "1040         0        0  ...           0           0           0           1   \n",
       "\n",
       "       ECFP4_1019  ECFP4_1020  ECFP4_1021  ECFP4_1022  ECFP4_1023  ECFP4_1024  \n",
       "14473           1           0           0           0           0           0  \n",
       "1802            0           0           0           0           0           0  \n",
       "3429            0           1           0           0           0           0  \n",
       "2527            0           0           0           0           0           0  \n",
       "1040            0           0           0           0           0           0  \n",
       "\n",
       "[5 rows x 1025 columns]"
      ]
     },
     "execution_count": 71,
     "metadata": {},
     "output_type": "execute_result"
    }
   ],
   "source": [
    "X_train.head()"
   ]
  },
  {
   "cell_type": "code",
   "execution_count": 72,
   "metadata": {},
   "outputs": [
    {
     "data": {
      "text/plain": [
       "(77    0.063430\n",
       " 13    0.056696\n",
       " 32    0.053288\n",
       " 71    0.052789\n",
       " 5     0.046055\n",
       "         ...   \n",
       " 45    0.000083\n",
       " 54    0.000083\n",
       " 78    0.000083\n",
       " 86    0.000083\n",
       " 0     0.000083\n",
       " Name: Cluster, Length: 100, dtype: float64,\n",
       " 77    0.063291\n",
       " 13    0.056709\n",
       " 32    0.053333\n",
       " 71    0.052658\n",
       " 5     0.046076\n",
       "         ...   \n",
       " 65    0.000169\n",
       " 49    0.000169\n",
       " 45    0.000169\n",
       " 29    0.000169\n",
       " 0     0.000169\n",
       " Name: Cluster, Length: 100, dtype: float64)"
      ]
     },
     "execution_count": 72,
     "metadata": {},
     "output_type": "execute_result"
    }
   ],
   "source": [
    "X_train.Cluster.value_counts() / len(X_train), X_test.Cluster.value_counts() / len(X_test)"
   ]
  },
  {
   "cell_type": "code",
   "execution_count": 73,
   "metadata": {},
   "outputs": [
    {
     "data": {
      "text/plain": [
       "(0    0.908305\n",
       " 1    0.091695\n",
       " Name: Activity, dtype: float64,\n",
       " 0    0.910717\n",
       " 1    0.089283\n",
       " Name: Activity, dtype: float64)"
      ]
     },
     "execution_count": 73,
     "metadata": {},
     "output_type": "execute_result"
    }
   ],
   "source": [
    "y_train.value_counts() / len(y_train), y_test.value_counts() / len(y_test)"
   ]
  },
  {
   "cell_type": "code",
   "execution_count": 74,
   "metadata": {},
   "outputs": [],
   "source": [
    "%%capture\n",
    "X_train, X_test = X_train.drop(['Cluster'], axis=1), X_test.drop(['Cluster'], axis=1)"
   ]
  },
  {
   "cell_type": "code",
   "execution_count": 75,
   "metadata": {},
   "outputs": [
    {
     "data": {
      "text/html": [
       "<div>\n",
       "<style scoped>\n",
       "    .dataframe tbody tr th:only-of-type {\n",
       "        vertical-align: middle;\n",
       "    }\n",
       "\n",
       "    .dataframe tbody tr th {\n",
       "        vertical-align: top;\n",
       "    }\n",
       "\n",
       "    .dataframe thead th {\n",
       "        text-align: right;\n",
       "    }\n",
       "</style>\n",
       "<table border=\"1\" class=\"dataframe\">\n",
       "  <thead>\n",
       "    <tr style=\"text-align: right;\">\n",
       "      <th></th>\n",
       "      <th>ECFP4_1</th>\n",
       "      <th>ECFP4_2</th>\n",
       "      <th>ECFP4_3</th>\n",
       "      <th>ECFP4_4</th>\n",
       "      <th>ECFP4_5</th>\n",
       "      <th>ECFP4_6</th>\n",
       "      <th>ECFP4_7</th>\n",
       "      <th>ECFP4_8</th>\n",
       "      <th>ECFP4_9</th>\n",
       "      <th>ECFP4_10</th>\n",
       "      <th>...</th>\n",
       "      <th>ECFP4_1015</th>\n",
       "      <th>ECFP4_1016</th>\n",
       "      <th>ECFP4_1017</th>\n",
       "      <th>ECFP4_1018</th>\n",
       "      <th>ECFP4_1019</th>\n",
       "      <th>ECFP4_1020</th>\n",
       "      <th>ECFP4_1021</th>\n",
       "      <th>ECFP4_1022</th>\n",
       "      <th>ECFP4_1023</th>\n",
       "      <th>ECFP4_1024</th>\n",
       "    </tr>\n",
       "  </thead>\n",
       "  <tbody>\n",
       "    <tr>\n",
       "      <th>14473</th>\n",
       "      <td>0</td>\n",
       "      <td>0</td>\n",
       "      <td>0</td>\n",
       "      <td>0</td>\n",
       "      <td>0</td>\n",
       "      <td>0</td>\n",
       "      <td>0</td>\n",
       "      <td>0</td>\n",
       "      <td>0</td>\n",
       "      <td>0</td>\n",
       "      <td>...</td>\n",
       "      <td>0</td>\n",
       "      <td>0</td>\n",
       "      <td>0</td>\n",
       "      <td>0</td>\n",
       "      <td>1</td>\n",
       "      <td>0</td>\n",
       "      <td>0</td>\n",
       "      <td>0</td>\n",
       "      <td>0</td>\n",
       "      <td>0</td>\n",
       "    </tr>\n",
       "    <tr>\n",
       "      <th>1802</th>\n",
       "      <td>0</td>\n",
       "      <td>0</td>\n",
       "      <td>0</td>\n",
       "      <td>0</td>\n",
       "      <td>0</td>\n",
       "      <td>0</td>\n",
       "      <td>0</td>\n",
       "      <td>0</td>\n",
       "      <td>0</td>\n",
       "      <td>0</td>\n",
       "      <td>...</td>\n",
       "      <td>1</td>\n",
       "      <td>0</td>\n",
       "      <td>0</td>\n",
       "      <td>0</td>\n",
       "      <td>0</td>\n",
       "      <td>0</td>\n",
       "      <td>0</td>\n",
       "      <td>0</td>\n",
       "      <td>0</td>\n",
       "      <td>0</td>\n",
       "    </tr>\n",
       "    <tr>\n",
       "      <th>3429</th>\n",
       "      <td>0</td>\n",
       "      <td>0</td>\n",
       "      <td>0</td>\n",
       "      <td>0</td>\n",
       "      <td>0</td>\n",
       "      <td>0</td>\n",
       "      <td>0</td>\n",
       "      <td>0</td>\n",
       "      <td>1</td>\n",
       "      <td>0</td>\n",
       "      <td>...</td>\n",
       "      <td>0</td>\n",
       "      <td>0</td>\n",
       "      <td>0</td>\n",
       "      <td>0</td>\n",
       "      <td>0</td>\n",
       "      <td>1</td>\n",
       "      <td>0</td>\n",
       "      <td>0</td>\n",
       "      <td>0</td>\n",
       "      <td>0</td>\n",
       "    </tr>\n",
       "    <tr>\n",
       "      <th>2527</th>\n",
       "      <td>0</td>\n",
       "      <td>0</td>\n",
       "      <td>0</td>\n",
       "      <td>0</td>\n",
       "      <td>0</td>\n",
       "      <td>0</td>\n",
       "      <td>0</td>\n",
       "      <td>0</td>\n",
       "      <td>0</td>\n",
       "      <td>0</td>\n",
       "      <td>...</td>\n",
       "      <td>0</td>\n",
       "      <td>0</td>\n",
       "      <td>0</td>\n",
       "      <td>0</td>\n",
       "      <td>0</td>\n",
       "      <td>0</td>\n",
       "      <td>0</td>\n",
       "      <td>0</td>\n",
       "      <td>0</td>\n",
       "      <td>0</td>\n",
       "    </tr>\n",
       "    <tr>\n",
       "      <th>1040</th>\n",
       "      <td>0</td>\n",
       "      <td>0</td>\n",
       "      <td>1</td>\n",
       "      <td>0</td>\n",
       "      <td>1</td>\n",
       "      <td>0</td>\n",
       "      <td>0</td>\n",
       "      <td>0</td>\n",
       "      <td>0</td>\n",
       "      <td>0</td>\n",
       "      <td>...</td>\n",
       "      <td>0</td>\n",
       "      <td>0</td>\n",
       "      <td>0</td>\n",
       "      <td>1</td>\n",
       "      <td>0</td>\n",
       "      <td>0</td>\n",
       "      <td>0</td>\n",
       "      <td>0</td>\n",
       "      <td>0</td>\n",
       "      <td>0</td>\n",
       "    </tr>\n",
       "  </tbody>\n",
       "</table>\n",
       "<p>5 rows × 1024 columns</p>\n",
       "</div>"
      ],
      "text/plain": [
       "       ECFP4_1  ECFP4_2  ECFP4_3  ECFP4_4  ECFP4_5  ECFP4_6  ECFP4_7  ECFP4_8  \\\n",
       "14473        0        0        0        0        0        0        0        0   \n",
       "1802         0        0        0        0        0        0        0        0   \n",
       "3429         0        0        0        0        0        0        0        0   \n",
       "2527         0        0        0        0        0        0        0        0   \n",
       "1040         0        0        1        0        1        0        0        0   \n",
       "\n",
       "       ECFP4_9  ECFP4_10  ...  ECFP4_1015  ECFP4_1016  ECFP4_1017  ECFP4_1018  \\\n",
       "14473        0         0  ...           0           0           0           0   \n",
       "1802         0         0  ...           1           0           0           0   \n",
       "3429         1         0  ...           0           0           0           0   \n",
       "2527         0         0  ...           0           0           0           0   \n",
       "1040         0         0  ...           0           0           0           1   \n",
       "\n",
       "       ECFP4_1019  ECFP4_1020  ECFP4_1021  ECFP4_1022  ECFP4_1023  ECFP4_1024  \n",
       "14473           1           0           0           0           0           0  \n",
       "1802            0           0           0           0           0           0  \n",
       "3429            0           1           0           0           0           0  \n",
       "2527            0           0           0           0           0           0  \n",
       "1040            0           0           0           0           0           0  \n",
       "\n",
       "[5 rows x 1024 columns]"
      ]
     },
     "execution_count": 75,
     "metadata": {},
     "output_type": "execute_result"
    }
   ],
   "source": [
    "X_train.head()"
   ]
  },
  {
   "cell_type": "code",
   "execution_count": 76,
   "metadata": {},
   "outputs": [
    {
     "data": {
      "text/plain": [
       "(0.9900108040542529,\n",
       " 0.9738396624472574,\n",
       " 0.837667473170147,\n",
       " 0.8431001890359168,\n",
       " 0.861003861003861,\n",
       " 0.8519579751671442,\n",
       " RandomForestClassifier(bootstrap=False, criterion='entropy',\n",
       "                        max_features='sqrt', n_estimators=200, n_jobs=-1,\n",
       "                        random_state=69))"
      ]
     },
     "execution_count": 76,
     "metadata": {},
     "output_type": "execute_result"
    }
   ],
   "source": [
    "train_rf(X_train, X_test, y_train, y_test)"
   ]
  },
  {
   "cell_type": "code",
   "execution_count": 77,
   "metadata": {},
   "outputs": [],
   "source": [
    "def train_on_dataset_with_cluster(dataset, n_clusters = 10, bits=1024, n_estimators=200, criterion='entropy', max_features='log2'):\n",
    "    \n",
    "    print(f'Training on dataset: {dataset} with {bits} bits fingerprint features')\n",
    "    \n",
    "    df = pd.read_csv(path/f'{dataset}_cl_ECFP_1024_with_{n_clusters}_clusters.csv')\n",
    "    values = df.Cluster.value_counts(ascending=True)\n",
    "    values = values[values < 2].index\n",
    "    for i in list(values):\n",
    "        df = pd.concat([*[df.loc[df.Cluster == i]]*2, \n",
    "                        *[df.loc[df.Cluster != i]]], \n",
    "                        ignore_index=True)\n",
    "    df.reset_index(drop=True, inplace=True)\n",
    "    X, y = df.drop([\"Name\", \"SMILES\",\"Cluster\", \"Activity\"], axis=1), df[\"Activity\"]\n",
    "    X_train, X_test, y_train, y_test = train_test_split(X, y, test_size=0.2, stratify=df['Cluster'], random_state=42)\n",
    "    kf = KFold(n_splits=5, shuffle=True, random_state=42)\n",
    "    X_train_list, X_valid_list, y_train_list, y_valid_list = [], [], [], []\n",
    "\n",
    "    for train_index, valid_index in kf.split(X_train):\n",
    "        X_train_list.append(X_train.iloc[train_index])\n",
    "        X_valid_list.append(X_train.iloc[valid_index])\n",
    "        y_train_list.append(y_train.iloc[train_index])\n",
    "        y_valid_list.append(y_train.iloc[valid_index]) \n",
    "    aucs, accs, mccs, recalls, precs, f1_scores = [], [], [], [], [], []\n",
    "    for i in range(0,5):\n",
    "        X_train = X_train_list[i]\n",
    "        X_valid = X_valid_list[i]\n",
    "        y_train = y_train_list[i]\n",
    "        y_valid = y_valid_list[i]\n",
    "        auc,acc2,mcc,Recall,Precision,F1_score, rf = train_rf(X_train, X_valid, y_train, y_valid, \n",
    "                                                      n_estimators=n_estimators, criterion=criterion, \n",
    "                                                              max_features=max_features)\n",
    "        mccs.append(mcc)\n",
    "        aucs.append(auc)\n",
    "        accs.append(acc2)\n",
    "        mccs.append(mcc)\n",
    "        recalls.append(Recall)\n",
    "        precs.append(Precision)\n",
    "        f1_scores.append(F1_score)\n",
    "        \n",
    "    print(f\"Average ROCAUC of the folds: {np.mean(aucs)}\")\n",
    "    print(f\"Average accuracy of the folds: {np.mean(accs)}\")\n",
    "    print(f\"Average Matthews correlation of the folds: {np.mean(mccs)}\")\n",
    "    print(f\"Average recall of the folds: {np.mean(recalls)}\")\n",
    "    print(f\"Average precision of the folds: {np.mean(precs)}\")\n",
    "    print(f\"Average f1 score of the folds: {np.mean(f1_scores)}\")\n",
    "    print()\n",
    "    score = []\n",
    "    score.append(np.mean(aucs))\n",
    "    score.append(np.mean(accs))\n",
    "    score.append(np.mean(mccs))\n",
    "    score.append(np.mean(recalls))\n",
    "    score.append(np.mean(precs))\n",
    "    score.append(np.mean(f1_scores))\n",
    "    score = np.mean(score)\n",
    "    mean_mcc = np.mean(mccs)\n",
    "    return score, mean_mcc, rf"
   ]
  },
  {
   "cell_type": "code",
   "execution_count": 78,
   "metadata": {
    "scrolled": true
   },
   "outputs": [
    {
     "name": "stdout",
     "output_type": "stream",
     "text": [
      "Training on dataset: CHEMBL205 with 1024 bits fingerprint features\n",
      "Average ROCAUC of the folds: 0.9909652500963002\n",
      "Average accuracy of the folds: 0.9745715475067872\n",
      "Average Matthews correlation of the folds: 0.841955183890321\n",
      "Average recall of the folds: 0.821246401487674\n",
      "Average precision of the folds: 0.8918098488822744\n",
      "Average f1 score of the folds: 0.8548926004352506\n",
      "\n"
     ]
    },
    {
     "data": {
      "text/plain": [
       "(0.8959068053831012,\n",
       " 0.841955183890321,\n",
       " RandomForestClassifier(bootstrap=False, criterion='entropy',\n",
       "                        max_features='log2', n_estimators=200, n_jobs=-1,\n",
       "                        random_state=69))"
      ]
     },
     "execution_count": 78,
     "metadata": {},
     "output_type": "execute_result"
    }
   ],
   "source": [
    "train_on_dataset_with_cluster(dataset)"
   ]
  },
  {
   "cell_type": "code",
   "execution_count": 79,
   "metadata": {},
   "outputs": [
    {
     "name": "stdout",
     "output_type": "stream",
     "text": [
      "Training on dataset: CHEMBL205 with 1024 bits fingerprint features\n",
      "Average ROCAUC of the folds: 0.9881450356172132\n",
      "Average accuracy of the folds: 0.9743593706024445\n",
      "Average Matthews correlation of the folds: 0.8401407786107054\n",
      "Average recall of the folds: 0.8135409249099645\n",
      "Average precision of the folds: 0.8965677168370252\n",
      "Average f1 score of the folds: 0.8528434688090117\n",
      "\n"
     ]
    },
    {
     "data": {
      "text/plain": [
       "(0.8942662158977276,\n",
       " 0.8401407786107054,\n",
       " RandomForestClassifier(bootstrap=False, criterion='entropy',\n",
       "                        max_features='log2', n_estimators=200, n_jobs=-1,\n",
       "                        random_state=69))"
      ]
     },
     "execution_count": 79,
     "metadata": {},
     "output_type": "execute_result"
    }
   ],
   "source": [
    "train_on_dataset(dataset)"
   ]
  },
  {
   "cell_type": "markdown",
   "metadata": {},
   "source": [
    "# Try different number of clusters"
   ]
  },
  {
   "cell_type": "markdown",
   "metadata": {},
   "source": [
    "### 100 gives the best results, but 10 is also good"
   ]
  },
  {
   "cell_type": "code",
   "execution_count": 30,
   "metadata": {},
   "outputs": [],
   "source": [
    "cluster = [10, 100]"
   ]
  },
  {
   "cell_type": "code",
   "execution_count": 31,
   "metadata": {},
   "outputs": [
    {
     "name": "stdout",
     "output_type": "stream",
     "text": [
      "Training on dataset: CHEMBL205 with 1024 bits fingerprint features\n",
      "Average ROCAUC of the folds: 0.9899136094648535\n",
      "Average accuracy of the folds: 0.9765869192950773\n",
      "Average Matthews correlation of the folds: 0.8540500272395473\n",
      "Average recall of the folds: 0.8350271171323802\n",
      "Average precision of the folds: 0.8997390862172718\n",
      "Average f1 score of the folds: 0.8661018444427098\n",
      "\n",
      "Training on dataset: CHEMBL205 with 1024 bits fingerprint features\n",
      "Average ROCAUC of the folds: 0.9913091353314061\n",
      "Average accuracy of the folds: 0.9766416894295926\n",
      "Average Matthews correlation of the folds: 0.8572071579443641\n",
      "Average recall of the folds: 0.8429947747880597\n",
      "Average precision of the folds: 0.8979989887512426\n",
      "Average f1 score of the folds: 0.869321805116645\n",
      "\n"
     ]
    }
   ],
   "source": [
    "for c in cluster: \n",
    "    train_on_dataset_with_cluster(dataset, n_clusters=c)"
   ]
  },
  {
   "cell_type": "code",
   "execution_count": null,
   "metadata": {},
   "outputs": [],
   "source": []
  },
  {
   "cell_type": "code",
   "execution_count": null,
   "metadata": {},
   "outputs": [],
   "source": []
  }
 ],
 "metadata": {
  "kernelspec": {
   "display_name": "Python 3 (ipykernel)",
   "language": "python",
   "name": "python3"
  },
  "language_info": {
   "codemirror_mode": {
    "name": "ipython",
    "version": 3
   },
   "file_extension": ".py",
   "mimetype": "text/x-python",
   "name": "python",
   "nbconvert_exporter": "python",
   "pygments_lexer": "ipython3",
   "version": "3.7.11"
  }
 },
 "nbformat": 4,
 "nbformat_minor": 4
}
