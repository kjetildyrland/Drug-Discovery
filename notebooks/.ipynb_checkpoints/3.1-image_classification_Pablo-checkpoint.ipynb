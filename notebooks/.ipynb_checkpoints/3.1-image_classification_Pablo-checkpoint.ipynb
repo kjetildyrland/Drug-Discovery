{
 "cells": [
  {
   "cell_type": "markdown",
   "id": "02376db5",
   "metadata": {},
   "source": [
    "# Image Classification with DNN"
   ]
  },
  {
   "cell_type": "code",
   "execution_count": null,
   "id": "730c74ff",
   "metadata": {},
   "outputs": [],
   "source": []
  },
  {
   "cell_type": "code",
   "execution_count": 1,
   "id": "7ff5d5e3",
   "metadata": {
    "scrolled": true
   },
   "outputs": [
    {
     "name": "stdout",
     "output_type": "stream",
     "text": [
      "Mon Nov  1 11:33:07 2021       \r\n",
      "+-----------------------------------------------------------------------------+\r\n",
      "| NVIDIA-SMI 460.91.03    Driver Version: 460.91.03    CUDA Version: 11.2     |\r\n",
      "|-------------------------------+----------------------+----------------------+\r\n",
      "| GPU  Name        Persistence-M| Bus-Id        Disp.A | Volatile Uncorr. ECC |\r\n",
      "| Fan  Temp  Perf  Pwr:Usage/Cap|         Memory-Usage | GPU-Util  Compute M. |\r\n",
      "|                               |                      |               MIG M. |\r\n",
      "|===============================+======================+======================|\r\n",
      "|   0  GeForce GTX 1080    Off  | 00000000:01:00.0  On |                  N/A |\r\n",
      "|  0%   34C    P8    14W / 240W |   1328MiB /  8116MiB |      0%      Default |\r\n",
      "|                               |                      |                  N/A |\r\n",
      "+-------------------------------+----------------------+----------------------+\r\n",
      "                                                                               \r\n",
      "+-----------------------------------------------------------------------------+\r\n",
      "| Processes:                                                                  |\r\n",
      "|  GPU   GI   CI        PID   Type   Process name                  GPU Memory |\r\n",
      "|        ID   ID                                                   Usage      |\r\n",
      "|=============================================================================|\r\n",
      "|    0   N/A  N/A       923      G   /usr/lib/xorg/Xorg                207MiB |\r\n",
      "|    0   N/A  N/A      1235      G   /usr/bin/gnome-shell              113MiB |\r\n",
      "|    0   N/A  N/A      2348      G   /usr/lib/firefox/firefox          128MiB |\r\n",
      "|    0   N/A  N/A      2794      C   ...vs/dat255-drug/bin/python      873MiB |\r\n",
      "+-----------------------------------------------------------------------------+\r\n"
     ]
    }
   ],
   "source": [
    "!nvidia-smi"
   ]
  },
  {
   "cell_type": "code",
   "execution_count": 2,
   "id": "986e40bd",
   "metadata": {},
   "outputs": [],
   "source": [
    "#%%capture\n",
    "#!wget -c https://repo.continuum.io/miniconda/Miniconda3-latest-Linux-x86_64.sh\n",
    "#!chmod +x Miniconda3-latest-Linux-x86_64.sh\n",
    "#!time bash ./Miniconda3-latest-Linux-x86_64.sh -b -f -p /usr/local\n",
    "#!time conda install -q -y -c conda-forge rdkit"
   ]
  },
  {
   "cell_type": "code",
   "execution_count": 3,
   "id": "fe052ee5",
   "metadata": {},
   "outputs": [],
   "source": [
    "# Import\n",
    "import pandas as pd\n",
    "import numpy as np\n",
    "from pathlib import Path"
   ]
  },
  {
   "cell_type": "code",
   "execution_count": 4,
   "id": "c51e1815",
   "metadata": {},
   "outputs": [
    {
     "name": "stderr",
     "output_type": "stream",
     "text": [
      "RDKit WARNING: [11:33:08] Enabling RDKit 2019.09.3 jupyter extensions\n"
     ]
    }
   ],
   "source": [
    "%matplotlib inline\n",
    "import matplotlib.pyplot as plt\n",
    "import matplotlib.image as mpimg\n",
    "import sys\n",
    "import os\n",
    "sys.path.append('/usr/local/lib/python3.7/site-packages/')\n",
    "from rdkit import Chem\n",
    "from rdkit.Chem import AllChem"
   ]
  },
  {
   "cell_type": "code",
   "execution_count": 5,
   "id": "8112b927",
   "metadata": {},
   "outputs": [],
   "source": [
    "dataset = 'oldsmiledata_id_processed_transformed_shuffled'"
   ]
  },
  {
   "cell_type": "code",
   "execution_count": 6,
   "id": "327fcae1",
   "metadata": {},
   "outputs": [],
   "source": [
    "path = Path('../dataset/oldsmiledata')"
   ]
  },
  {
   "cell_type": "code",
   "execution_count": 7,
   "id": "59ad0e49",
   "metadata": {},
   "outputs": [
    {
     "data": {
      "text/plain": [
       "[PosixPath('../dataset/oldsmiledata/test_oldsmiledata_id_processed_transformed_shuffled.csv'),\n",
       " PosixPath('../dataset/oldsmiledata/oldsmiledata_id_processed_transformed_rescaled_shuffled.csv'),\n",
       " PosixPath('../dataset/oldsmiledata/.ipynb_checkpoints'),\n",
       " PosixPath('../dataset/oldsmiledata/mol_images'),\n",
       " PosixPath('../dataset/oldsmiledata/train_oldsmiledata_id_processed_transformed_shuffled.csv')]"
      ]
     },
     "execution_count": 7,
     "metadata": {},
     "output_type": "execute_result"
    }
   ],
   "source": [
    "list(path.iterdir())"
   ]
  },
  {
   "cell_type": "code",
   "execution_count": 8,
   "id": "5ab97516",
   "metadata": {},
   "outputs": [],
   "source": [
    "IMAGES = path/'mol_images'/'con'\n",
    "train = pd.read_csv(path/f'train_{dataset}.csv')\n",
    "valid = pd.read_csv(path/f'test_{dataset}.csv')"
   ]
  },
  {
   "cell_type": "code",
   "execution_count": 9,
   "id": "e5545dfb",
   "metadata": {
    "scrolled": true
   },
   "outputs": [
    {
     "name": "stdout",
     "output_type": "stream",
     "text": [
      "<class 'pandas.core.frame.DataFrame'>\n",
      "RangeIndex: 23924 entries, 0 to 23923\n",
      "Data columns (total 41 columns):\n",
      " #   Column                          Non-Null Count  Dtype  \n",
      "---  ------                          --------------  -----  \n",
      " 0   template                        23924 non-null  object \n",
      " 1   docked                          23924 non-null  object \n",
      " 2   rmsd                            23924 non-null  float64\n",
      " 3   uniprot_id                      23924 non-null  object \n",
      " 4   smiles_template                 23924 non-null  object \n",
      " 5   smiles_docked                   23924 non-null  object \n",
      " 6   mcs_smartsString                23924 non-null  object \n",
      " 7   template_HeavyAtomCount         23924 non-null  int64  \n",
      " 8   template_NHOHCount              23924 non-null  int64  \n",
      " 9   template_NOCount                23924 non-null  int64  \n",
      " 10  template_RingCount              23924 non-null  int64  \n",
      " 11  template_NumHAcceptors          23924 non-null  int64  \n",
      " 12  template_NumHDonors             23924 non-null  int64  \n",
      " 13  template_NumHeteroAtoms         23924 non-null  int64  \n",
      " 14  template_NumRotatableBonds      23924 non-null  int64  \n",
      " 15  docked_HeavyAtomCount           23924 non-null  int64  \n",
      " 16  docked_NHOHCount                23924 non-null  int64  \n",
      " 17  docked_NOCount                  23924 non-null  int64  \n",
      " 18  docked_RingCount                23924 non-null  int64  \n",
      " 19  docked_NumHAcceptors            23924 non-null  int64  \n",
      " 20  docked_NumHDonors               23924 non-null  int64  \n",
      " 21  docked_NumHeteroAtoms           23924 non-null  int64  \n",
      " 22  docked_NumRotatableBonds        23924 non-null  int64  \n",
      " 23  mcs_HeavyAtomCount              23924 non-null  int64  \n",
      " 24  mcs_NOCount                     23924 non-null  int64  \n",
      " 25  mcs_RingCount                   23924 non-null  int64  \n",
      " 26  mcs_NumHeteroAtoms              23924 non-null  int64  \n",
      " 27  mcs_template_NHOHCount          23924 non-null  int64  \n",
      " 28  mcs_docked_NHOHCount            23924 non-null  int64  \n",
      " 29  mcs_template_NumHAcceptors      23924 non-null  int64  \n",
      " 30  mcs_docked_NumHAcceptors        23924 non-null  int64  \n",
      " 31  mcs_template_NumHDonors         23924 non-null  int64  \n",
      " 32  mcs_docked_NumHDonors           23924 non-null  int64  \n",
      " 33  mcs_template_NumRotatableBonds  23924 non-null  int64  \n",
      " 34  mcs_docked_NumRotatableBonds    23924 non-null  int64  \n",
      " 35  ec_tanimoto_similarity          23924 non-null  float64\n",
      " 36  fc_tanimoto_similarity          23924 non-null  float64\n",
      " 37  log_RMSD                        23924 non-null  float64\n",
      " 38  bin_RMSD                        23924 non-null  int64  \n",
      " 39  Xtransf_ec_tanimoto_similarity  23924 non-null  float64\n",
      " 40  Xtransf_fc_tanimoto_similarity  23924 non-null  float64\n",
      "dtypes: float64(6), int64(29), object(6)\n",
      "memory usage: 7.5+ MB\n"
     ]
    }
   ],
   "source": [
    "train.info()"
   ]
  },
  {
   "cell_type": "code",
   "execution_count": 10,
   "id": "cae241bb",
   "metadata": {
    "scrolled": true
   },
   "outputs": [
    {
     "name": "stdout",
     "output_type": "stream",
     "text": [
      "<class 'pandas.core.frame.DataFrame'>\n",
      "RangeIndex: 1024 entries, 0 to 1023\n",
      "Data columns (total 41 columns):\n",
      " #   Column                          Non-Null Count  Dtype  \n",
      "---  ------                          --------------  -----  \n",
      " 0   template                        1024 non-null   object \n",
      " 1   docked                          1024 non-null   object \n",
      " 2   rmsd                            1024 non-null   float64\n",
      " 3   uniprot_id                      1024 non-null   object \n",
      " 4   smiles_template                 1024 non-null   object \n",
      " 5   smiles_docked                   1024 non-null   object \n",
      " 6   mcs_smartsString                1024 non-null   object \n",
      " 7   template_HeavyAtomCount         1024 non-null   int64  \n",
      " 8   template_NHOHCount              1024 non-null   int64  \n",
      " 9   template_NOCount                1024 non-null   int64  \n",
      " 10  template_RingCount              1024 non-null   int64  \n",
      " 11  template_NumHAcceptors          1024 non-null   int64  \n",
      " 12  template_NumHDonors             1024 non-null   int64  \n",
      " 13  template_NumHeteroAtoms         1024 non-null   int64  \n",
      " 14  template_NumRotatableBonds      1024 non-null   int64  \n",
      " 15  docked_HeavyAtomCount           1024 non-null   int64  \n",
      " 16  docked_NHOHCount                1024 non-null   int64  \n",
      " 17  docked_NOCount                  1024 non-null   int64  \n",
      " 18  docked_RingCount                1024 non-null   int64  \n",
      " 19  docked_NumHAcceptors            1024 non-null   int64  \n",
      " 20  docked_NumHDonors               1024 non-null   int64  \n",
      " 21  docked_NumHeteroAtoms           1024 non-null   int64  \n",
      " 22  docked_NumRotatableBonds        1024 non-null   int64  \n",
      " 23  mcs_HeavyAtomCount              1024 non-null   int64  \n",
      " 24  mcs_NOCount                     1024 non-null   int64  \n",
      " 25  mcs_RingCount                   1024 non-null   int64  \n",
      " 26  mcs_NumHeteroAtoms              1024 non-null   int64  \n",
      " 27  mcs_template_NHOHCount          1024 non-null   int64  \n",
      " 28  mcs_docked_NHOHCount            1024 non-null   int64  \n",
      " 29  mcs_template_NumHAcceptors      1024 non-null   int64  \n",
      " 30  mcs_docked_NumHAcceptors        1024 non-null   int64  \n",
      " 31  mcs_template_NumHDonors         1024 non-null   int64  \n",
      " 32  mcs_docked_NumHDonors           1024 non-null   int64  \n",
      " 33  mcs_template_NumRotatableBonds  1024 non-null   int64  \n",
      " 34  mcs_docked_NumRotatableBonds    1024 non-null   int64  \n",
      " 35  ec_tanimoto_similarity          1024 non-null   float64\n",
      " 36  fc_tanimoto_similarity          1024 non-null   float64\n",
      " 37  log_RMSD                        1024 non-null   float64\n",
      " 38  bin_RMSD                        1024 non-null   int64  \n",
      " 39  Xtransf_ec_tanimoto_similarity  1024 non-null   float64\n",
      " 40  Xtransf_fc_tanimoto_similarity  1024 non-null   float64\n",
      "dtypes: float64(6), int64(29), object(6)\n",
      "memory usage: 328.1+ KB\n"
     ]
    }
   ],
   "source": [
    "valid.info()"
   ]
  },
  {
   "cell_type": "markdown",
   "id": "4f59daa4",
   "metadata": {},
   "source": [
    "# Create dataloader"
   ]
  },
  {
   "cell_type": "code",
   "execution_count": 11,
   "id": "7092a50a",
   "metadata": {},
   "outputs": [],
   "source": [
    "from fastai.vision.all import *"
   ]
  },
  {
   "cell_type": "code",
   "execution_count": 12,
   "id": "59928f03",
   "metadata": {
    "scrolled": true
   },
   "outputs": [
    {
     "name": "stdout",
     "output_type": "stream",
     "text": [
      "<class 'pandas.core.frame.DataFrame'>\n",
      "RangeIndex: 23924 entries, 0 to 23923\n",
      "Data columns (total 45 columns):\n",
      " #   Column                          Non-Null Count  Dtype  \n",
      "---  ------                          --------------  -----  \n",
      " 0   template                        23924 non-null  object \n",
      " 1   docked                          23924 non-null  object \n",
      " 2   rmsd                            23924 non-null  float64\n",
      " 3   uniprot_id                      23924 non-null  object \n",
      " 4   smiles_template                 23924 non-null  object \n",
      " 5   smiles_docked                   23924 non-null  object \n",
      " 6   mcs_smartsString                23924 non-null  object \n",
      " 7   template_HeavyAtomCount         23924 non-null  int64  \n",
      " 8   template_NHOHCount              23924 non-null  int64  \n",
      " 9   template_NOCount                23924 non-null  int64  \n",
      " 10  template_RingCount              23924 non-null  int64  \n",
      " 11  template_NumHAcceptors          23924 non-null  int64  \n",
      " 12  template_NumHDonors             23924 non-null  int64  \n",
      " 13  template_NumHeteroAtoms         23924 non-null  int64  \n",
      " 14  template_NumRotatableBonds      23924 non-null  int64  \n",
      " 15  docked_HeavyAtomCount           23924 non-null  int64  \n",
      " 16  docked_NHOHCount                23924 non-null  int64  \n",
      " 17  docked_NOCount                  23924 non-null  int64  \n",
      " 18  docked_RingCount                23924 non-null  int64  \n",
      " 19  docked_NumHAcceptors            23924 non-null  int64  \n",
      " 20  docked_NumHDonors               23924 non-null  int64  \n",
      " 21  docked_NumHeteroAtoms           23924 non-null  int64  \n",
      " 22  docked_NumRotatableBonds        23924 non-null  int64  \n",
      " 23  mcs_HeavyAtomCount              23924 non-null  int64  \n",
      " 24  mcs_NOCount                     23924 non-null  int64  \n",
      " 25  mcs_RingCount                   23924 non-null  int64  \n",
      " 26  mcs_NumHeteroAtoms              23924 non-null  int64  \n",
      " 27  mcs_template_NHOHCount          23924 non-null  int64  \n",
      " 28  mcs_docked_NHOHCount            23924 non-null  int64  \n",
      " 29  mcs_template_NumHAcceptors      23924 non-null  int64  \n",
      " 30  mcs_docked_NumHAcceptors        23924 non-null  int64  \n",
      " 31  mcs_template_NumHDonors         23924 non-null  int64  \n",
      " 32  mcs_docked_NumHDonors           23924 non-null  int64  \n",
      " 33  mcs_template_NumRotatableBonds  23924 non-null  int64  \n",
      " 34  mcs_docked_NumRotatableBonds    23924 non-null  int64  \n",
      " 35  ec_tanimoto_similarity          23924 non-null  float64\n",
      " 36  fc_tanimoto_similarity          23924 non-null  float64\n",
      " 37  log_RMSD                        23924 non-null  float64\n",
      " 38  bin_RMSD                        23924 non-null  int64  \n",
      " 39  Xtransf_ec_tanimoto_similarity  23924 non-null  float64\n",
      " 40  Xtransf_fc_tanimoto_similarity  23924 non-null  float64\n",
      " 41  img_temp                        23924 non-null  object \n",
      " 42  img_docked                      23924 non-null  object \n",
      " 43  image                           23924 non-null  object \n",
      " 44  is_valid                        23924 non-null  bool   \n",
      "dtypes: bool(1), float64(6), int64(29), object(9)\n",
      "memory usage: 8.1+ MB\n"
     ]
    }
   ],
   "source": [
    "train['img_temp'] = train['template'] + '.png'\n",
    "train['img_docked'] = train['docked'] + '.png'\n",
    "train['image'] = train['template'] + train['docked'] + '.png'\n",
    "train['is_valid'] = False\n",
    "train.info()"
   ]
  },
  {
   "cell_type": "code",
   "execution_count": 13,
   "id": "352ed10d",
   "metadata": {
    "scrolled": true
   },
   "outputs": [
    {
     "data": {
      "text/html": [
       "<div>\n",
       "<style scoped>\n",
       "    .dataframe tbody tr th:only-of-type {\n",
       "        vertical-align: middle;\n",
       "    }\n",
       "\n",
       "    .dataframe tbody tr th {\n",
       "        vertical-align: top;\n",
       "    }\n",
       "\n",
       "    .dataframe thead th {\n",
       "        text-align: right;\n",
       "    }\n",
       "</style>\n",
       "<table border=\"1\" class=\"dataframe\">\n",
       "  <thead>\n",
       "    <tr style=\"text-align: right;\">\n",
       "      <th></th>\n",
       "      <th>template</th>\n",
       "      <th>docked</th>\n",
       "      <th>rmsd</th>\n",
       "      <th>uniprot_id</th>\n",
       "      <th>smiles_template</th>\n",
       "      <th>smiles_docked</th>\n",
       "      <th>mcs_smartsString</th>\n",
       "      <th>template_HeavyAtomCount</th>\n",
       "      <th>template_NHOHCount</th>\n",
       "      <th>template_NOCount</th>\n",
       "      <th>...</th>\n",
       "      <th>ec_tanimoto_similarity</th>\n",
       "      <th>fc_tanimoto_similarity</th>\n",
       "      <th>log_RMSD</th>\n",
       "      <th>bin_RMSD</th>\n",
       "      <th>Xtransf_ec_tanimoto_similarity</th>\n",
       "      <th>Xtransf_fc_tanimoto_similarity</th>\n",
       "      <th>img_temp</th>\n",
       "      <th>img_docked</th>\n",
       "      <th>image</th>\n",
       "      <th>is_valid</th>\n",
       "    </tr>\n",
       "  </thead>\n",
       "  <tbody>\n",
       "    <tr>\n",
       "      <th>0</th>\n",
       "      <td>2C8Y_C3M</td>\n",
       "      <td>3SHC_B01</td>\n",
       "      <td>6.732</td>\n",
       "      <td>P00734</td>\n",
       "      <td>N[C@@H](Cc1ccccc1)[C@H](O)CNS(=O)(=O)c1ccc2ccccc2c1</td>\n",
       "      <td>N[C@H](Cc1ccccc1)C(=O)N1CCC[C@H]1C(=O)NCc1cc(Cl)ccn1</td>\n",
       "      <td>[#7]-[#6](-[#6]-[#6]1:[#6]:[#6]:[#6]:[#6]:[#6]:1)-[#6]</td>\n",
       "      <td>26</td>\n",
       "      <td>4</td>\n",
       "      <td>5</td>\n",
       "      <td>...</td>\n",
       "      <td>0.240260</td>\n",
       "      <td>0.308219</td>\n",
       "      <td>1.906872</td>\n",
       "      <td>3</td>\n",
       "      <td>0.402597</td>\n",
       "      <td>0.082192</td>\n",
       "      <td>2C8Y_C3M.png</td>\n",
       "      <td>3SHC_B01.png</td>\n",
       "      <td>2C8Y_C3M3SHC_B01.png</td>\n",
       "      <td>True</td>\n",
       "    </tr>\n",
       "    <tr>\n",
       "      <th>1</th>\n",
       "      <td>2D1J_D01</td>\n",
       "      <td>1LPZ_CMB</td>\n",
       "      <td>7.109</td>\n",
       "      <td>P00742</td>\n",
       "      <td>O=C(c1cc2c(ccc[n+]2[O-])s1)N1CCN(S(=O)(=O)c2cc3cc(Cl)ccc3[nH]2)CC1</td>\n",
       "      <td>Cc1cccc2c1cc(C(=O)NCc1cc(Cl)cc(Cl)c1)n2Cc1cccc(C(=N)N)c1</td>\n",
       "      <td>[#6](:[#6]:[#6]:[#6]:,-[#6]:,-[#7](:,-[#6]-[#6]-[#7])-[#6]-[#6]):[#6]:[#6]</td>\n",
       "      <td>31</td>\n",
       "      <td>1</td>\n",
       "      <td>8</td>\n",
       "      <td>...</td>\n",
       "      <td>0.147959</td>\n",
       "      <td>0.203209</td>\n",
       "      <td>1.961362</td>\n",
       "      <td>3</td>\n",
       "      <td>-0.520408</td>\n",
       "      <td>-0.967914</td>\n",
       "      <td>2D1J_D01.png</td>\n",
       "      <td>1LPZ_CMB.png</td>\n",
       "      <td>2D1J_D011LPZ_CMB.png</td>\n",
       "      <td>True</td>\n",
       "    </tr>\n",
       "    <tr>\n",
       "      <th>2</th>\n",
       "      <td>4A7I_A7I</td>\n",
       "      <td>1NFX_RDR</td>\n",
       "      <td>7.520</td>\n",
       "      <td>P00742</td>\n",
       "      <td>CC(C)N1CCC(NS(=O)(=O)CCNC(=O)c2ccc(Cl)s2)CC1</td>\n",
       "      <td>O=C1CN(S(=O)(=O)c2cc3ccc(Cl)cc3s2)CCN1Cc1cc2cnccc2n1CCO</td>\n",
       "      <td>[#6]-[#6](-,:[#6])-,:[#7](-,:[#6]-,:[#6]-,:[#6]-,:[#7])-[#6]-[#6]</td>\n",
       "      <td>24</td>\n",
       "      <td>2</td>\n",
       "      <td>6</td>\n",
       "      <td>...</td>\n",
       "      <td>0.137143</td>\n",
       "      <td>0.177515</td>\n",
       "      <td>2.017566</td>\n",
       "      <td>3</td>\n",
       "      <td>-0.628571</td>\n",
       "      <td>-1.224852</td>\n",
       "      <td>4A7I_A7I.png</td>\n",
       "      <td>1NFX_RDR.png</td>\n",
       "      <td>4A7I_A7I1NFX_RDR.png</td>\n",
       "      <td>True</td>\n",
       "    </tr>\n",
       "    <tr>\n",
       "      <th>3</th>\n",
       "      <td>1ZGV_501</td>\n",
       "      <td>1C5O_BAM</td>\n",
       "      <td>3.197</td>\n",
       "      <td>P00734</td>\n",
       "      <td>CCCCNc1cc(C)nc2nc(Nc3cc(Cl)ccc3C)nn12</td>\n",
       "      <td>NC(=[NH2+])c1ccccc1</td>\n",
       "      <td>[#7]-[#6]-,:[#6](:[#6]:[#6]:[#6]:[#6]):,-[#6]</td>\n",
       "      <td>24</td>\n",
       "      <td>2</td>\n",
       "      <td>6</td>\n",
       "      <td>...</td>\n",
       "      <td>0.064815</td>\n",
       "      <td>0.127451</td>\n",
       "      <td>1.162213</td>\n",
       "      <td>3</td>\n",
       "      <td>-1.351852</td>\n",
       "      <td>-1.725490</td>\n",
       "      <td>1ZGV_501.png</td>\n",
       "      <td>1C5O_BAM.png</td>\n",
       "      <td>1ZGV_5011C5O_BAM.png</td>\n",
       "      <td>True</td>\n",
       "    </tr>\n",
       "    <tr>\n",
       "      <th>4</th>\n",
       "      <td>3DA6_BZ9</td>\n",
       "      <td>4W4V_3H8</td>\n",
       "      <td>11.188</td>\n",
       "      <td>P53779</td>\n",
       "      <td>CNc1nccc(-c2cccnc2Oc2c(C)cc(Nc3nc4ccccc4[nH]3)c3ccccc23)n1</td>\n",
       "      <td>Cc1cc(NC(=O)c2cccc(-n3cc(NC(=O)Nc4ccccc4Cl)cn3)c2)ccn1</td>\n",
       "      <td>[#7]:[#6]:[#6](-,:[#7]-,:[#6]-[#7]-[#6]1:[#6]:[#6]:[#6]:[#6]:[#6]:1):[#6]</td>\n",
       "      <td>36</td>\n",
       "      <td>3</td>\n",
       "      <td>8</td>\n",
       "      <td>...</td>\n",
       "      <td>0.190698</td>\n",
       "      <td>0.213270</td>\n",
       "      <td>2.414842</td>\n",
       "      <td>3</td>\n",
       "      <td>-0.093023</td>\n",
       "      <td>-0.867299</td>\n",
       "      <td>3DA6_BZ9.png</td>\n",
       "      <td>4W4V_3H8.png</td>\n",
       "      <td>3DA6_BZ94W4V_3H8.png</td>\n",
       "      <td>True</td>\n",
       "    </tr>\n",
       "  </tbody>\n",
       "</table>\n",
       "<p>5 rows × 45 columns</p>\n",
       "</div>"
      ],
      "text/plain": [
       "   template    docked    rmsd uniprot_id  \\\n",
       "0  2C8Y_C3M  3SHC_B01   6.732     P00734   \n",
       "1  2D1J_D01  1LPZ_CMB   7.109     P00742   \n",
       "2  4A7I_A7I  1NFX_RDR   7.520     P00742   \n",
       "3  1ZGV_501  1C5O_BAM   3.197     P00734   \n",
       "4  3DA6_BZ9  4W4V_3H8  11.188     P53779   \n",
       "\n",
       "                                                      smiles_template  \\\n",
       "0                 N[C@@H](Cc1ccccc1)[C@H](O)CNS(=O)(=O)c1ccc2ccccc2c1   \n",
       "1  O=C(c1cc2c(ccc[n+]2[O-])s1)N1CCN(S(=O)(=O)c2cc3cc(Cl)ccc3[nH]2)CC1   \n",
       "2                        CC(C)N1CCC(NS(=O)(=O)CCNC(=O)c2ccc(Cl)s2)CC1   \n",
       "3                               CCCCNc1cc(C)nc2nc(Nc3cc(Cl)ccc3C)nn12   \n",
       "4          CNc1nccc(-c2cccnc2Oc2c(C)cc(Nc3nc4ccccc4[nH]3)c3ccccc23)n1   \n",
       "\n",
       "                                              smiles_docked  \\\n",
       "0      N[C@H](Cc1ccccc1)C(=O)N1CCC[C@H]1C(=O)NCc1cc(Cl)ccn1   \n",
       "1  Cc1cccc2c1cc(C(=O)NCc1cc(Cl)cc(Cl)c1)n2Cc1cccc(C(=N)N)c1   \n",
       "2   O=C1CN(S(=O)(=O)c2cc3ccc(Cl)cc3s2)CCN1Cc1cc2cnccc2n1CCO   \n",
       "3                                       NC(=[NH2+])c1ccccc1   \n",
       "4    Cc1cc(NC(=O)c2cccc(-n3cc(NC(=O)Nc4ccccc4Cl)cn3)c2)ccn1   \n",
       "\n",
       "                                                             mcs_smartsString  \\\n",
       "0                      [#7]-[#6](-[#6]-[#6]1:[#6]:[#6]:[#6]:[#6]:[#6]:1)-[#6]   \n",
       "1  [#6](:[#6]:[#6]:[#6]:,-[#6]:,-[#7](:,-[#6]-[#6]-[#7])-[#6]-[#6]):[#6]:[#6]   \n",
       "2           [#6]-[#6](-,:[#6])-,:[#7](-,:[#6]-,:[#6]-,:[#6]-,:[#7])-[#6]-[#6]   \n",
       "3                               [#7]-[#6]-,:[#6](:[#6]:[#6]:[#6]:[#6]):,-[#6]   \n",
       "4   [#7]:[#6]:[#6](-,:[#7]-,:[#6]-[#7]-[#6]1:[#6]:[#6]:[#6]:[#6]:[#6]:1):[#6]   \n",
       "\n",
       "   template_HeavyAtomCount  template_NHOHCount  template_NOCount  ...  \\\n",
       "0                       26                   4                 5  ...   \n",
       "1                       31                   1                 8  ...   \n",
       "2                       24                   2                 6  ...   \n",
       "3                       24                   2                 6  ...   \n",
       "4                       36                   3                 8  ...   \n",
       "\n",
       "   ec_tanimoto_similarity  fc_tanimoto_similarity  log_RMSD  bin_RMSD  \\\n",
       "0                0.240260                0.308219  1.906872         3   \n",
       "1                0.147959                0.203209  1.961362         3   \n",
       "2                0.137143                0.177515  2.017566         3   \n",
       "3                0.064815                0.127451  1.162213         3   \n",
       "4                0.190698                0.213270  2.414842         3   \n",
       "\n",
       "   Xtransf_ec_tanimoto_similarity  Xtransf_fc_tanimoto_similarity  \\\n",
       "0                        0.402597                        0.082192   \n",
       "1                       -0.520408                       -0.967914   \n",
       "2                       -0.628571                       -1.224852   \n",
       "3                       -1.351852                       -1.725490   \n",
       "4                       -0.093023                       -0.867299   \n",
       "\n",
       "       img_temp    img_docked                 image  is_valid  \n",
       "0  2C8Y_C3M.png  3SHC_B01.png  2C8Y_C3M3SHC_B01.png      True  \n",
       "1  2D1J_D01.png  1LPZ_CMB.png  2D1J_D011LPZ_CMB.png      True  \n",
       "2  4A7I_A7I.png  1NFX_RDR.png  4A7I_A7I1NFX_RDR.png      True  \n",
       "3  1ZGV_501.png  1C5O_BAM.png  1ZGV_5011C5O_BAM.png      True  \n",
       "4  3DA6_BZ9.png  4W4V_3H8.png  3DA6_BZ94W4V_3H8.png      True  \n",
       "\n",
       "[5 rows x 45 columns]"
      ]
     },
     "execution_count": 13,
     "metadata": {},
     "output_type": "execute_result"
    }
   ],
   "source": [
    "valid['img_temp'] = valid['template'] + '.png'\n",
    "valid['img_docked'] = valid['docked'] + '.png'\n",
    "valid['image'] = valid['template'] + valid['docked'] + '.png'\n",
    "valid['is_valid'] = True\n",
    "valid.head()"
   ]
  },
  {
   "cell_type": "code",
   "execution_count": 14,
   "id": "60c33714",
   "metadata": {},
   "outputs": [],
   "source": [
    "getters = [ColReader('img_temp', pref=IMAGES), ColReader('img_docked', pref=IMAGES), ColReader('rmsd')]"
   ]
  },
  {
   "cell_type": "code",
   "execution_count": 15,
   "id": "d29d3d3d",
   "metadata": {},
   "outputs": [],
   "source": [
    "db = DataBlock(\n",
    "    blocks = (ImageBlock(), RegressionBlock()), \n",
    "    getters = [ColReader('image', pref=IMAGES), ColReader('rmsd')],\n",
    "    splitter=ColSplitter('is_valid'),\n",
    "    item_tfms=None,\n",
    "    )"
   ]
  },
  {
   "cell_type": "code",
   "execution_count": 16,
   "id": "4a8fe271",
   "metadata": {},
   "outputs": [],
   "source": [
    "df = pd.concat([train, valid], ignore_index=True)"
   ]
  },
  {
   "cell_type": "code",
   "execution_count": 17,
   "id": "5445689c",
   "metadata": {},
   "outputs": [
    {
     "data": {
      "text/plain": [
       "False    23924\n",
       "True      1024\n",
       "Name: is_valid, dtype: int64"
      ]
     },
     "execution_count": 17,
     "metadata": {},
     "output_type": "execute_result"
    }
   ],
   "source": [
    "df.is_valid.value_counts()"
   ]
  },
  {
   "cell_type": "code",
   "execution_count": 18,
   "id": "09c8c6f2",
   "metadata": {},
   "outputs": [
    {
     "data": {
      "text/plain": [
       "1030"
      ]
     },
     "execution_count": 18,
     "metadata": {},
     "output_type": "execute_result"
    }
   ],
   "source": [
    "df.smiles_template.nunique()"
   ]
  },
  {
   "cell_type": "code",
   "execution_count": 19,
   "id": "a313685b",
   "metadata": {
    "scrolled": true
   },
   "outputs": [
    {
     "name": "stdout",
     "output_type": "stream",
     "text": [
      "<class 'pandas.core.frame.DataFrame'>\n",
      "RangeIndex: 24948 entries, 0 to 24947\n",
      "Data columns (total 45 columns):\n",
      " #   Column                          Non-Null Count  Dtype  \n",
      "---  ------                          --------------  -----  \n",
      " 0   template                        24948 non-null  object \n",
      " 1   docked                          24948 non-null  object \n",
      " 2   rmsd                            24948 non-null  float64\n",
      " 3   uniprot_id                      24948 non-null  object \n",
      " 4   smiles_template                 24948 non-null  object \n",
      " 5   smiles_docked                   24948 non-null  object \n",
      " 6   mcs_smartsString                24948 non-null  object \n",
      " 7   template_HeavyAtomCount         24948 non-null  int64  \n",
      " 8   template_NHOHCount              24948 non-null  int64  \n",
      " 9   template_NOCount                24948 non-null  int64  \n",
      " 10  template_RingCount              24948 non-null  int64  \n",
      " 11  template_NumHAcceptors          24948 non-null  int64  \n",
      " 12  template_NumHDonors             24948 non-null  int64  \n",
      " 13  template_NumHeteroAtoms         24948 non-null  int64  \n",
      " 14  template_NumRotatableBonds      24948 non-null  int64  \n",
      " 15  docked_HeavyAtomCount           24948 non-null  int64  \n",
      " 16  docked_NHOHCount                24948 non-null  int64  \n",
      " 17  docked_NOCount                  24948 non-null  int64  \n",
      " 18  docked_RingCount                24948 non-null  int64  \n",
      " 19  docked_NumHAcceptors            24948 non-null  int64  \n",
      " 20  docked_NumHDonors               24948 non-null  int64  \n",
      " 21  docked_NumHeteroAtoms           24948 non-null  int64  \n",
      " 22  docked_NumRotatableBonds        24948 non-null  int64  \n",
      " 23  mcs_HeavyAtomCount              24948 non-null  int64  \n",
      " 24  mcs_NOCount                     24948 non-null  int64  \n",
      " 25  mcs_RingCount                   24948 non-null  int64  \n",
      " 26  mcs_NumHeteroAtoms              24948 non-null  int64  \n",
      " 27  mcs_template_NHOHCount          24948 non-null  int64  \n",
      " 28  mcs_docked_NHOHCount            24948 non-null  int64  \n",
      " 29  mcs_template_NumHAcceptors      24948 non-null  int64  \n",
      " 30  mcs_docked_NumHAcceptors        24948 non-null  int64  \n",
      " 31  mcs_template_NumHDonors         24948 non-null  int64  \n",
      " 32  mcs_docked_NumHDonors           24948 non-null  int64  \n",
      " 33  mcs_template_NumRotatableBonds  24948 non-null  int64  \n",
      " 34  mcs_docked_NumRotatableBonds    24948 non-null  int64  \n",
      " 35  ec_tanimoto_similarity          24948 non-null  float64\n",
      " 36  fc_tanimoto_similarity          24948 non-null  float64\n",
      " 37  log_RMSD                        24948 non-null  float64\n",
      " 38  bin_RMSD                        24948 non-null  int64  \n",
      " 39  Xtransf_ec_tanimoto_similarity  24948 non-null  float64\n",
      " 40  Xtransf_fc_tanimoto_similarity  24948 non-null  float64\n",
      " 41  img_temp                        24948 non-null  object \n",
      " 42  img_docked                      24948 non-null  object \n",
      " 43  image                           24948 non-null  object \n",
      " 44  is_valid                        24948 non-null  bool   \n",
      "dtypes: bool(1), float64(6), int64(29), object(9)\n",
      "memory usage: 8.4+ MB\n"
     ]
    }
   ],
   "source": [
    "df.info()"
   ]
  },
  {
   "cell_type": "code",
   "execution_count": 20,
   "id": "16504135",
   "metadata": {},
   "outputs": [],
   "source": [
    "dls = db.dataloaders(df, bs=64, shuffle_train=True)"
   ]
  },
  {
   "cell_type": "code",
   "execution_count": 21,
   "id": "28d073f7",
   "metadata": {
    "scrolled": true
   },
   "outputs": [
    {
     "data": {
      "image/png": "[encoded data removed]",
      "text/plain": [
       "<Figure size 648x216 with 3 Axes>"
      ]
     },
     "metadata": {
      "needs_background": "light"
     },
     "output_type": "display_data"
    }
   ],
   "source": [
    "dls.show_batch(max_n=3)"
   ]
  },
  {
   "cell_type": "code",
   "execution_count": 22,
   "id": "b00b5c08",
   "metadata": {},
   "outputs": [
    {
     "data": {
      "image/png": "[encoded data removed]",
      "text/plain": [
       "<Figure size 648x432 with 6 Axes>"
      ]
     },
     "metadata": {
      "needs_background": "light"
     },
     "output_type": "display_data"
    }
   ],
   "source": [
    "dls.show_batch(max_n=5, unique=True)"
   ]
  },
  {
   "cell_type": "markdown",
   "id": "cbb7e500",
   "metadata": {},
   "source": [
    "# Train CNN model"
   ]
  },
  {
   "cell_type": "code",
   "execution_count": 23,
   "id": "6bffdbac",
   "metadata": {},
   "outputs": [],
   "source": [
    "learn = cnn_learner(dls, arch=resnet18, pretrained=True, \n",
    "                            loss_func=None,\n",
    "                            wd=None, metrics = rmse)"
   ]
  },
  {
   "cell_type": "code",
   "execution_count": 24,
   "id": "6214b551",
   "metadata": {},
   "outputs": [
    {
     "data": {
      "text/html": [
       "<table border=\"1\" class=\"dataframe\">\n",
       "  <thead>\n",
       "    <tr style=\"text-align: left;\">\n",
       "      <th>epoch</th>\n",
       "      <th>train_loss</th>\n",
       "      <th>valid_loss</th>\n",
       "      <th>_rmse</th>\n",
       "      <th>time</th>\n",
       "    </tr>\n",
       "  </thead>\n",
       "  <tbody>\n",
       "    <tr>\n",
       "      <td>0</td>\n",
       "      <td>12.216988</td>\n",
       "      <td>8.658535</td>\n",
       "      <td>2.942539</td>\n",
       "      <td>00:48</td>\n",
       "    </tr>\n",
       "  </tbody>\n",
       "</table>"
      ],
      "text/plain": [
       "<IPython.core.display.HTML object>"
      ]
     },
     "metadata": {},
     "output_type": "display_data"
    },
    {
     "data": {
      "text/html": [
       "<table border=\"1\" class=\"dataframe\">\n",
       "  <thead>\n",
       "    <tr style=\"text-align: left;\">\n",
       "      <th>epoch</th>\n",
       "      <th>train_loss</th>\n",
       "      <th>valid_loss</th>\n",
       "      <th>_rmse</th>\n",
       "      <th>time</th>\n",
       "    </tr>\n",
       "  </thead>\n",
       "  <tbody>\n",
       "    <tr>\n",
       "      <td>0</td>\n",
       "      <td>8.270851</td>\n",
       "      <td>6.724263</td>\n",
       "      <td>2.593118</td>\n",
       "      <td>01:01</td>\n",
       "    </tr>\n",
       "    <tr>\n",
       "      <td>1</td>\n",
       "      <td>7.139974</td>\n",
       "      <td>7.089988</td>\n",
       "      <td>2.662703</td>\n",
       "      <td>01:01</td>\n",
       "    </tr>\n",
       "    <tr>\n",
       "      <td>2</td>\n",
       "      <td>6.702125</td>\n",
       "      <td>6.839597</td>\n",
       "      <td>2.615262</td>\n",
       "      <td>01:01</td>\n",
       "    </tr>\n",
       "    <tr>\n",
       "      <td>3</td>\n",
       "      <td>6.158930</td>\n",
       "      <td>6.558024</td>\n",
       "      <td>2.560864</td>\n",
       "      <td>01:01</td>\n",
       "    </tr>\n",
       "    <tr>\n",
       "      <td>4</td>\n",
       "      <td>5.791999</td>\n",
       "      <td>7.206010</td>\n",
       "      <td>2.684401</td>\n",
       "      <td>01:01</td>\n",
       "    </tr>\n",
       "    <tr>\n",
       "      <td>5</td>\n",
       "      <td>5.223924</td>\n",
       "      <td>6.956879</td>\n",
       "      <td>2.637589</td>\n",
       "      <td>01:02</td>\n",
       "    </tr>\n",
       "    <tr>\n",
       "      <td>6</td>\n",
       "      <td>4.749184</td>\n",
       "      <td>6.219912</td>\n",
       "      <td>2.493975</td>\n",
       "      <td>01:01</td>\n",
       "    </tr>\n",
       "    <tr>\n",
       "      <td>7</td>\n",
       "      <td>4.409694</td>\n",
       "      <td>6.391944</td>\n",
       "      <td>2.528229</td>\n",
       "      <td>01:02</td>\n",
       "    </tr>\n",
       "    <tr>\n",
       "      <td>8</td>\n",
       "      <td>4.023902</td>\n",
       "      <td>6.662869</td>\n",
       "      <td>2.581253</td>\n",
       "      <td>01:01</td>\n",
       "    </tr>\n",
       "    <tr>\n",
       "      <td>9</td>\n",
       "      <td>3.519863</td>\n",
       "      <td>6.822326</td>\n",
       "      <td>2.611958</td>\n",
       "      <td>01:01</td>\n",
       "    </tr>\n",
       "    <tr>\n",
       "      <td>10</td>\n",
       "      <td>3.255851</td>\n",
       "      <td>6.518756</td>\n",
       "      <td>2.553186</td>\n",
       "      <td>01:02</td>\n",
       "    </tr>\n",
       "    <tr>\n",
       "      <td>11</td>\n",
       "      <td>2.991306</td>\n",
       "      <td>6.688435</td>\n",
       "      <td>2.586201</td>\n",
       "      <td>01:02</td>\n",
       "    </tr>\n",
       "    <tr>\n",
       "      <td>12</td>\n",
       "      <td>2.785440</td>\n",
       "      <td>6.870422</td>\n",
       "      <td>2.621149</td>\n",
       "      <td>01:02</td>\n",
       "    </tr>\n",
       "    <tr>\n",
       "      <td>13</td>\n",
       "      <td>2.569606</td>\n",
       "      <td>6.949881</td>\n",
       "      <td>2.636263</td>\n",
       "      <td>01:01</td>\n",
       "    </tr>\n",
       "    <tr>\n",
       "      <td>14</td>\n",
       "      <td>2.360348</td>\n",
       "      <td>6.930862</td>\n",
       "      <td>2.632653</td>\n",
       "      <td>01:02</td>\n",
       "    </tr>\n",
       "    <tr>\n",
       "      <td>15</td>\n",
       "      <td>2.322697</td>\n",
       "      <td>7.098358</td>\n",
       "      <td>2.664274</td>\n",
       "      <td>01:03</td>\n",
       "    </tr>\n",
       "  </tbody>\n",
       "</table>"
      ],
      "text/plain": [
       "<IPython.core.display.HTML object>"
      ]
     },
     "metadata": {},
     "output_type": "display_data"
    }
   ],
   "source": [
    "learn.fine_tune(16, 3e-3)"
   ]
  },
  {
   "cell_type": "code",
   "execution_count": 26,
   "id": "c73f24dc",
   "metadata": {},
   "outputs": [],
   "source": [
    "def train_model(dls, arch=resnet18, loss_func=None, epochs=16, wd=None, lr=None):\n",
    "    \n",
    "    \n",
    "    print(f'Architechture: {arch}')\n",
    "    #print(f'Untrained epochs: freeze_epochs={freeze_epochs}')\n",
    "    print(f'Trained epochs: epochs={epochs}')\n",
    "    print(f'Weight decay: wd={wd}')\n",
    "    learn = cnn_learner(dls, arch=arch, pretrained=True, \n",
    "                            wd=wd,\n",
    "                            metrics=[rmse])\n",
    "    \n",
    "    if lr == None: \n",
    "        print(f'Finding learning rate...')\n",
    "        lr_min, lr_steep = learn.lr_find(suggestions=True, show_plot=False)\n",
    "        print(f'Training model with learning rate: {lr_min}')\n",
    "        lr = lr_min\n",
    "    else: \n",
    "        print(f'Training model with learning rate: {lr}')\n",
    "    learn.fine_tune(epochs, lr)\n",
    "    \n",
    "    return learn"
   ]
  },
  {
   "cell_type": "code",
   "execution_count": 28,
   "id": "a24d70db",
   "metadata": {},
   "outputs": [
    {
     "name": "stdout",
     "output_type": "stream",
     "text": [
      "Architechture: <function resnet18 at 0x7f81e1afa840>\n",
      "Trained epochs: epochs=16\n",
      "Weight decay: wd=0.001\n",
      "Finding learning rate...\n"
     ]
    },
    {
     "data": {
      "text/html": [],
      "text/plain": [
       "<IPython.core.display.HTML object>"
      ]
     },
     "metadata": {},
     "output_type": "display_data"
    },
    {
     "name": "stdout",
     "output_type": "stream",
     "text": [
      "Training model with learning rate: 0.02089296132326126\n"
     ]
    },
    {
     "data": {
      "text/html": [
       "<table border=\"1\" class=\"dataframe\">\n",
       "  <thead>\n",
       "    <tr style=\"text-align: left;\">\n",
       "      <th>epoch</th>\n",
       "      <th>train_loss</th>\n",
       "      <th>valid_loss</th>\n",
       "      <th>_rmse</th>\n",
       "      <th>time</th>\n",
       "    </tr>\n",
       "  </thead>\n",
       "  <tbody>\n",
       "    <tr>\n",
       "      <td>0</td>\n",
       "      <td>10.952333</td>\n",
       "      <td>8.752215</td>\n",
       "      <td>2.958414</td>\n",
       "      <td>00:49</td>\n",
       "    </tr>\n",
       "  </tbody>\n",
       "</table>"
      ],
      "text/plain": [
       "<IPython.core.display.HTML object>"
      ]
     },
     "metadata": {},
     "output_type": "display_data"
    },
    {
     "data": {
      "text/html": [
       "<table border=\"1\" class=\"dataframe\">\n",
       "  <thead>\n",
       "    <tr style=\"text-align: left;\">\n",
       "      <th>epoch</th>\n",
       "      <th>train_loss</th>\n",
       "      <th>valid_loss</th>\n",
       "      <th>_rmse</th>\n",
       "      <th>time</th>\n",
       "    </tr>\n",
       "  </thead>\n",
       "  <tbody>\n",
       "    <tr>\n",
       "      <td>0</td>\n",
       "      <td>7.566496</td>\n",
       "      <td>6.830247</td>\n",
       "      <td>2.613474</td>\n",
       "      <td>01:04</td>\n",
       "    </tr>\n",
       "    <tr>\n",
       "      <td>1</td>\n",
       "      <td>6.770403</td>\n",
       "      <td>7.403960</td>\n",
       "      <td>2.721022</td>\n",
       "      <td>01:03</td>\n",
       "    </tr>\n",
       "    <tr>\n",
       "      <td>2</td>\n",
       "      <td>6.626364</td>\n",
       "      <td>7.423737</td>\n",
       "      <td>2.724653</td>\n",
       "      <td>01:03</td>\n",
       "    </tr>\n",
       "    <tr>\n",
       "      <td>3</td>\n",
       "      <td>6.443217</td>\n",
       "      <td>6.867569</td>\n",
       "      <td>2.620605</td>\n",
       "      <td>01:03</td>\n",
       "    </tr>\n",
       "    <tr>\n",
       "      <td>4</td>\n",
       "      <td>5.829222</td>\n",
       "      <td>7.234183</td>\n",
       "      <td>2.689644</td>\n",
       "      <td>01:06</td>\n",
       "    </tr>\n",
       "    <tr>\n",
       "      <td>5</td>\n",
       "      <td>5.233492</td>\n",
       "      <td>7.334298</td>\n",
       "      <td>2.708191</td>\n",
       "      <td>01:03</td>\n",
       "    </tr>\n",
       "    <tr>\n",
       "      <td>6</td>\n",
       "      <td>4.668522</td>\n",
       "      <td>6.507671</td>\n",
       "      <td>2.551014</td>\n",
       "      <td>01:03</td>\n",
       "    </tr>\n",
       "    <tr>\n",
       "      <td>7</td>\n",
       "      <td>4.450925</td>\n",
       "      <td>6.217379</td>\n",
       "      <td>2.493467</td>\n",
       "      <td>01:03</td>\n",
       "    </tr>\n",
       "    <tr>\n",
       "      <td>8</td>\n",
       "      <td>3.877521</td>\n",
       "      <td>6.244463</td>\n",
       "      <td>2.498893</td>\n",
       "      <td>01:03</td>\n",
       "    </tr>\n",
       "    <tr>\n",
       "      <td>9</td>\n",
       "      <td>3.612540</td>\n",
       "      <td>6.213864</td>\n",
       "      <td>2.492762</td>\n",
       "      <td>01:04</td>\n",
       "    </tr>\n",
       "    <tr>\n",
       "      <td>10</td>\n",
       "      <td>3.361207</td>\n",
       "      <td>6.167924</td>\n",
       "      <td>2.483531</td>\n",
       "      <td>01:02</td>\n",
       "    </tr>\n",
       "    <tr>\n",
       "      <td>11</td>\n",
       "      <td>3.130903</td>\n",
       "      <td>6.717440</td>\n",
       "      <td>2.591802</td>\n",
       "      <td>01:03</td>\n",
       "    </tr>\n",
       "    <tr>\n",
       "      <td>12</td>\n",
       "      <td>2.670096</td>\n",
       "      <td>6.644290</td>\n",
       "      <td>2.577652</td>\n",
       "      <td>01:03</td>\n",
       "    </tr>\n",
       "    <tr>\n",
       "      <td>13</td>\n",
       "      <td>2.623183</td>\n",
       "      <td>6.797155</td>\n",
       "      <td>2.607136</td>\n",
       "      <td>01:03</td>\n",
       "    </tr>\n",
       "    <tr>\n",
       "      <td>14</td>\n",
       "      <td>2.534470</td>\n",
       "      <td>6.966115</td>\n",
       "      <td>2.639340</td>\n",
       "      <td>01:03</td>\n",
       "    </tr>\n",
       "    <tr>\n",
       "      <td>15</td>\n",
       "      <td>2.351160</td>\n",
       "      <td>6.800719</td>\n",
       "      <td>2.607819</td>\n",
       "      <td>01:03</td>\n",
       "    </tr>\n",
       "  </tbody>\n",
       "</table>"
      ],
      "text/plain": [
       "<IPython.core.display.HTML object>"
      ]
     },
     "metadata": {},
     "output_type": "display_data"
    }
   ],
   "source": [
    "learn = train_model(dls, epochs=16, wd=0.001)"
   ]
  },
  {
   "cell_type": "markdown",
   "id": "8af65aa5",
   "metadata": {},
   "source": [
    "# Test different regularizations"
   ]
  },
  {
   "cell_type": "markdown",
   "id": "99a59ea6",
   "metadata": {},
   "source": [
    "## Results:\n",
    "### wd = 0.002 is good for around 15-20 epochs before overfitting\n",
    "### lr = 3e-3 is good for most CNNs and also in this case\n",
    "### dropout = 0.5 is a usually sustainable"
   ]
  },
  {
   "cell_type": "code",
   "execution_count": null,
   "id": "3ff2d346",
   "metadata": {},
   "outputs": [],
   "source": [
    "from sklearn.model_selection import ParameterGrid"
   ]
  },
  {
   "cell_type": "code",
   "execution_count": null,
   "id": "84645937",
   "metadata": {},
   "outputs": [],
   "source": [
    "# wd = 0.002 works for around 15-20 epochs\n",
    "# lr = 3e-3 is good most CNN and in this case\n",
    "# dropout = 0.5 is a usually sustainable\n",
    "# batch_size = 64\n",
    "param_grid={\n",
    "    \"bs\" : [128, 252, 512],\n",
    "}\n",
    "param_grid = ParameterGrid(param_grid)\n",
    "\n",
    "for p in param_grid:\n",
    "    dls = get_dls(dataset, bs=p['bs'])\n",
    "    learn = train_model(dls, loss_func=loss_func, epochs=15, wd=0.002, lr=3e-3)"
   ]
  },
  {
   "cell_type": "markdown",
   "id": "5c479fe8",
   "metadata": {},
   "source": [
    "# Compare architechtures"
   ]
  },
  {
   "cell_type": "markdown",
   "id": "4d3a1997",
   "metadata": {},
   "source": [
    "**Results:** Not much difference between **Resnet18, Resnet34 and Resnet50** on (224, 224) size images. \\\n",
    "**Alexnet** got worse results then **resnet**. \\\n",
    "Reason could be that the extra layers is not much of a use in this case (i.e. The images does not contain a lot of details) \\\n",
    "**Resnet18** takes less time to train due to less layers and therefore should be used in this case. "
   ]
  },
  {
   "cell_type": "code",
   "execution_count": null,
   "id": "1589ebc7",
   "metadata": {},
   "outputs": [],
   "source": [
    "archs =  [resnet18, resnet50, alexnet]"
   ]
  },
  {
   "cell_type": "code",
   "execution_count": null,
   "id": "8ee6c768",
   "metadata": {},
   "outputs": [],
   "source": [
    "for arch in archs:\n",
    "    train_model(dls, arch=arch, epochs=15, lr=3e-3)"
   ]
  }
 ],
 "metadata": {
  "kernelspec": {
   "display_name": "Python 3",
   "language": "python",
   "name": "python3"
  },
  "language_info": {
   "codemirror_mode": {
    "name": "ipython",
    "version": 3
   },
   "file_extension": ".py",
   "mimetype": "text/x-python",
   "name": "python",
   "nbconvert_exporter": "python",
   "pygments_lexer": "ipython3",
   "version": "3.6.13"
  }
 },
 "nbformat": 4,
 "nbformat_minor": 5
}
