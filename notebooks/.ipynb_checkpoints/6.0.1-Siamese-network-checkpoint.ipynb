{
 "cells": [
  {
   "cell_type": "markdown",
   "id": "02376db5",
   "metadata": {},
   "source": [
    "# Siamese Network on oldsmiledata dataset"
   ]
  },
  {
   "cell_type": "code",
   "execution_count": 1,
   "id": "7ff5d5e3",
   "metadata": {
    "scrolled": true
   },
   "outputs": [
    {
     "name": "stdout",
     "output_type": "stream",
     "text": [
      "Mon Nov 29 15:01:46 2021       \r\n",
      "+-----------------------------------------------------------------------------+\r\n",
      "| NVIDIA-SMI 460.91.03    Driver Version: 460.91.03    CUDA Version: 11.2     |\r\n",
      "|-------------------------------+----------------------+----------------------+\r\n",
      "| GPU  Name        Persistence-M| Bus-Id        Disp.A | Volatile Uncorr. ECC |\r\n",
      "| Fan  Temp  Perf  Pwr:Usage/Cap|         Memory-Usage | GPU-Util  Compute M. |\r\n",
      "|                               |                      |               MIG M. |\r\n",
      "|===============================+======================+======================|\r\n",
      "|   0  GeForce GTX 1080    Off  | 00000000:01:00.0  On |                  N/A |\r\n",
      "|  0%   58C    P0    59W / 240W |    558MiB /  8116MiB |      0%      Default |\r\n",
      "|                               |                      |                  N/A |\r\n",
      "+-------------------------------+----------------------+----------------------+\r\n",
      "                                                                               \r\n",
      "+-----------------------------------------------------------------------------+\r\n",
      "| Processes:                                                                  |\r\n",
      "|  GPU   GI   CI        PID   Type   Process name                  GPU Memory |\r\n",
      "|        ID   ID                                                   Usage      |\r\n",
      "|=============================================================================|\r\n",
      "|    0   N/A  N/A       926      G   /usr/lib/xorg/Xorg                301MiB |\r\n",
      "|    0   N/A  N/A      1247      G   /usr/bin/gnome-shell               55MiB |\r\n",
      "|    0   N/A  N/A      2894      G   /usr/lib/firefox/firefox          196MiB |\r\n",
      "|    0   N/A  N/A     17251      G   /usr/lib/firefox/firefox            1MiB |\r\n",
      "+-----------------------------------------------------------------------------+\r\n"
     ]
    }
   ],
   "source": [
    "!nvidia-smi"
   ]
  },
  {
   "cell_type": "code",
   "execution_count": 2,
   "id": "986e40bd",
   "metadata": {},
   "outputs": [],
   "source": [
    "#%%capture\n",
    "#!wget -c https://repo.continuum.io/miniconda/Miniconda3-latest-Linux-x86_64.sh\n",
    "#!chmod +x Miniconda3-latest-Linux-x86_64.sh\n",
    "#!time bash ./Miniconda3-latest-Linux-x86_64.sh -b -f -p /usr/local\n",
    "#!time conda install -q -y -c conda-forge rdkit"
   ]
  },
  {
   "cell_type": "code",
   "execution_count": 3,
   "id": "fe052ee5",
   "metadata": {},
   "outputs": [],
   "source": [
    "# Import\n",
    "import pandas as pd\n",
    "import numpy as np\n",
    "from pathlib import Path"
   ]
  },
  {
   "cell_type": "code",
   "execution_count": 4,
   "id": "c51e1815",
   "metadata": {},
   "outputs": [],
   "source": [
    "%matplotlib inline\n",
    "import matplotlib.pyplot as plt\n",
    "import matplotlib.image as mpimg\n",
    "import sys\n",
    "import os\n",
    "sys.path.append('/usr/local/lib/python3.7/site-packages/')"
   ]
  },
  {
   "cell_type": "code",
   "execution_count": 5,
   "id": "8112b927",
   "metadata": {},
   "outputs": [],
   "source": [
    "dataset = 'oldsmiledata_id_processed_transformed_shuffled'"
   ]
  },
  {
   "cell_type": "code",
   "execution_count": 6,
   "id": "327fcae1",
   "metadata": {},
   "outputs": [],
   "source": [
    "path = Path('../dataset/oldsmiledata')"
   ]
  },
  {
   "cell_type": "code",
   "execution_count": 7,
   "id": "59ad0e49",
   "metadata": {},
   "outputs": [
    {
     "data": {
      "text/plain": [
       "[PosixPath('../dataset/oldsmiledata/test_oldsmiledata_id_processed_transformed_shuffled.csv'),\n",
       " PosixPath('../dataset/oldsmiledata/oldsmiledata_id_processed_transformed_rescaled_shuffled.csv'),\n",
       " PosixPath('../dataset/oldsmiledata/.ipynb_checkpoints'),\n",
       " PosixPath('../dataset/oldsmiledata/mol_images'),\n",
       " PosixPath('../dataset/oldsmiledata/train_oldsmiledata_id_processed_transformed_shuffled.csv')]"
      ]
     },
     "execution_count": 7,
     "metadata": {},
     "output_type": "execute_result"
    }
   ],
   "source": [
    "list(path.iterdir())"
   ]
  },
  {
   "cell_type": "code",
   "execution_count": 8,
   "id": "5ab97516",
   "metadata": {},
   "outputs": [],
   "source": [
    "#IMAGES = path/'mol_images'/'all'\n",
    "train = pd.read_csv(path/f'train_{dataset}.csv')\n",
    "valid = pd.read_csv(path/f'test_{dataset}.csv')\n",
    "#df = pd.read_csv(path/f'{dataset}.csv')"
   ]
  },
  {
   "cell_type": "code",
   "execution_count": 9,
   "id": "34d1d8a2",
   "metadata": {},
   "outputs": [
    {
     "name": "stdout",
     "output_type": "stream",
     "text": [
      "<class 'pandas.core.frame.DataFrame'>\n",
      "RangeIndex: 23924 entries, 0 to 23923\n",
      "Data columns (total 41 columns):\n",
      " #   Column                          Non-Null Count  Dtype  \n",
      "---  ------                          --------------  -----  \n",
      " 0   template                        23924 non-null  object \n",
      " 1   docked                          23924 non-null  object \n",
      " 2   rmsd                            23924 non-null  float64\n",
      " 3   uniprot_id                      23924 non-null  object \n",
      " 4   smiles_template                 23924 non-null  object \n",
      " 5   smiles_docked                   23924 non-null  object \n",
      " 6   mcs_smartsString                23924 non-null  object \n",
      " 7   template_HeavyAtomCount         23924 non-null  int64  \n",
      " 8   template_NHOHCount              23924 non-null  int64  \n",
      " 9   template_NOCount                23924 non-null  int64  \n",
      " 10  template_RingCount              23924 non-null  int64  \n",
      " 11  template_NumHAcceptors          23924 non-null  int64  \n",
      " 12  template_NumHDonors             23924 non-null  int64  \n",
      " 13  template_NumHeteroAtoms         23924 non-null  int64  \n",
      " 14  template_NumRotatableBonds      23924 non-null  int64  \n",
      " 15  docked_HeavyAtomCount           23924 non-null  int64  \n",
      " 16  docked_NHOHCount                23924 non-null  int64  \n",
      " 17  docked_NOCount                  23924 non-null  int64  \n",
      " 18  docked_RingCount                23924 non-null  int64  \n",
      " 19  docked_NumHAcceptors            23924 non-null  int64  \n",
      " 20  docked_NumHDonors               23924 non-null  int64  \n",
      " 21  docked_NumHeteroAtoms           23924 non-null  int64  \n",
      " 22  docked_NumRotatableBonds        23924 non-null  int64  \n",
      " 23  mcs_HeavyAtomCount              23924 non-null  int64  \n",
      " 24  mcs_NOCount                     23924 non-null  int64  \n",
      " 25  mcs_RingCount                   23924 non-null  int64  \n",
      " 26  mcs_NumHeteroAtoms              23924 non-null  int64  \n",
      " 27  mcs_template_NHOHCount          23924 non-null  int64  \n",
      " 28  mcs_docked_NHOHCount            23924 non-null  int64  \n",
      " 29  mcs_template_NumHAcceptors      23924 non-null  int64  \n",
      " 30  mcs_docked_NumHAcceptors        23924 non-null  int64  \n",
      " 31  mcs_template_NumHDonors         23924 non-null  int64  \n",
      " 32  mcs_docked_NumHDonors           23924 non-null  int64  \n",
      " 33  mcs_template_NumRotatableBonds  23924 non-null  int64  \n",
      " 34  mcs_docked_NumRotatableBonds    23924 non-null  int64  \n",
      " 35  ec_tanimoto_similarity          23924 non-null  float64\n",
      " 36  fc_tanimoto_similarity          23924 non-null  float64\n",
      " 37  log_RMSD                        23924 non-null  float64\n",
      " 38  bin_RMSD                        23924 non-null  int64  \n",
      " 39  Xtransf_ec_tanimoto_similarity  23924 non-null  float64\n",
      " 40  Xtransf_fc_tanimoto_similarity  23924 non-null  float64\n",
      "dtypes: float64(6), int64(29), object(6)\n",
      "memory usage: 7.5+ MB\n"
     ]
    }
   ],
   "source": [
    "train.info()"
   ]
  },
  {
   "cell_type": "code",
   "execution_count": 10,
   "id": "cae241bb",
   "metadata": {
    "scrolled": true
   },
   "outputs": [
    {
     "name": "stdout",
     "output_type": "stream",
     "text": [
      "<class 'pandas.core.frame.DataFrame'>\n",
      "RangeIndex: 1024 entries, 0 to 1023\n",
      "Data columns (total 41 columns):\n",
      " #   Column                          Non-Null Count  Dtype  \n",
      "---  ------                          --------------  -----  \n",
      " 0   template                        1024 non-null   object \n",
      " 1   docked                          1024 non-null   object \n",
      " 2   rmsd                            1024 non-null   float64\n",
      " 3   uniprot_id                      1024 non-null   object \n",
      " 4   smiles_template                 1024 non-null   object \n",
      " 5   smiles_docked                   1024 non-null   object \n",
      " 6   mcs_smartsString                1024 non-null   object \n",
      " 7   template_HeavyAtomCount         1024 non-null   int64  \n",
      " 8   template_NHOHCount              1024 non-null   int64  \n",
      " 9   template_NOCount                1024 non-null   int64  \n",
      " 10  template_RingCount              1024 non-null   int64  \n",
      " 11  template_NumHAcceptors          1024 non-null   int64  \n",
      " 12  template_NumHDonors             1024 non-null   int64  \n",
      " 13  template_NumHeteroAtoms         1024 non-null   int64  \n",
      " 14  template_NumRotatableBonds      1024 non-null   int64  \n",
      " 15  docked_HeavyAtomCount           1024 non-null   int64  \n",
      " 16  docked_NHOHCount                1024 non-null   int64  \n",
      " 17  docked_NOCount                  1024 non-null   int64  \n",
      " 18  docked_RingCount                1024 non-null   int64  \n",
      " 19  docked_NumHAcceptors            1024 non-null   int64  \n",
      " 20  docked_NumHDonors               1024 non-null   int64  \n",
      " 21  docked_NumHeteroAtoms           1024 non-null   int64  \n",
      " 22  docked_NumRotatableBonds        1024 non-null   int64  \n",
      " 23  mcs_HeavyAtomCount              1024 non-null   int64  \n",
      " 24  mcs_NOCount                     1024 non-null   int64  \n",
      " 25  mcs_RingCount                   1024 non-null   int64  \n",
      " 26  mcs_NumHeteroAtoms              1024 non-null   int64  \n",
      " 27  mcs_template_NHOHCount          1024 non-null   int64  \n",
      " 28  mcs_docked_NHOHCount            1024 non-null   int64  \n",
      " 29  mcs_template_NumHAcceptors      1024 non-null   int64  \n",
      " 30  mcs_docked_NumHAcceptors        1024 non-null   int64  \n",
      " 31  mcs_template_NumHDonors         1024 non-null   int64  \n",
      " 32  mcs_docked_NumHDonors           1024 non-null   int64  \n",
      " 33  mcs_template_NumRotatableBonds  1024 non-null   int64  \n",
      " 34  mcs_docked_NumRotatableBonds    1024 non-null   int64  \n",
      " 35  ec_tanimoto_similarity          1024 non-null   float64\n",
      " 36  fc_tanimoto_similarity          1024 non-null   float64\n",
      " 37  log_RMSD                        1024 non-null   float64\n",
      " 38  bin_RMSD                        1024 non-null   int64  \n",
      " 39  Xtransf_ec_tanimoto_similarity  1024 non-null   float64\n",
      " 40  Xtransf_fc_tanimoto_similarity  1024 non-null   float64\n",
      "dtypes: float64(6), int64(29), object(6)\n",
      "memory usage: 328.1+ KB\n"
     ]
    }
   ],
   "source": [
    "valid.info()"
   ]
  },
  {
   "cell_type": "code",
   "execution_count": 11,
   "id": "fb7fc361",
   "metadata": {},
   "outputs": [
    {
     "data": {
      "text/html": [
       "<div>\n",
       "<style scoped>\n",
       "    .dataframe tbody tr th:only-of-type {\n",
       "        vertical-align: middle;\n",
       "    }\n",
       "\n",
       "    .dataframe tbody tr th {\n",
       "        vertical-align: top;\n",
       "    }\n",
       "\n",
       "    .dataframe thead th {\n",
       "        text-align: right;\n",
       "    }\n",
       "</style>\n",
       "<table border=\"1\" class=\"dataframe\">\n",
       "  <thead>\n",
       "    <tr style=\"text-align: right;\">\n",
       "      <th></th>\n",
       "      <th>template</th>\n",
       "      <th>docked</th>\n",
       "      <th>rmsd</th>\n",
       "      <th>uniprot_id</th>\n",
       "      <th>smiles_template</th>\n",
       "      <th>smiles_docked</th>\n",
       "      <th>mcs_smartsString</th>\n",
       "      <th>template_HeavyAtomCount</th>\n",
       "      <th>template_NHOHCount</th>\n",
       "      <th>template_NOCount</th>\n",
       "      <th>...</th>\n",
       "      <th>mcs_template_NumHDonors</th>\n",
       "      <th>mcs_docked_NumHDonors</th>\n",
       "      <th>mcs_template_NumRotatableBonds</th>\n",
       "      <th>mcs_docked_NumRotatableBonds</th>\n",
       "      <th>ec_tanimoto_similarity</th>\n",
       "      <th>fc_tanimoto_similarity</th>\n",
       "      <th>log_RMSD</th>\n",
       "      <th>bin_RMSD</th>\n",
       "      <th>Xtransf_ec_tanimoto_similarity</th>\n",
       "      <th>Xtransf_fc_tanimoto_similarity</th>\n",
       "    </tr>\n",
       "  </thead>\n",
       "  <tbody>\n",
       "    <tr>\n",
       "      <th>0</th>\n",
       "      <td>1YPJ_UIB</td>\n",
       "      <td>1K22_MEL</td>\n",
       "      <td>4.643</td>\n",
       "      <td>P00734</td>\n",
       "      <td>CC[C@@H]1[C@@H]2[C@H](C(=O)N1Cc1ccc3c(c1)OCO3)...</td>\n",
       "      <td>N=C(N)c1ccc(CNC(=O)[C@@H]2CCN2C(=O)[C@H](NCC(=...</td>\n",
       "      <td>[#7]=[#6](-[#7])-[#6]1:[#6]:[#6]:[#6](:[#6]:[#...</td>\n",
       "      <td>33</td>\n",
       "      <td>3</td>\n",
       "      <td>7</td>\n",
       "      <td>...</td>\n",
       "      <td>2</td>\n",
       "      <td>3</td>\n",
       "      <td>4</td>\n",
       "      <td>7</td>\n",
       "      <td>0.165775</td>\n",
       "      <td>0.289941</td>\n",
       "      <td>1.535361</td>\n",
       "      <td>3</td>\n",
       "      <td>-0.342246</td>\n",
       "      <td>-0.100592</td>\n",
       "    </tr>\n",
       "    <tr>\n",
       "      <th>1</th>\n",
       "      <td>2JH5_895</td>\n",
       "      <td>1C5O_BAM</td>\n",
       "      <td>3.209</td>\n",
       "      <td>P00734</td>\n",
       "      <td>C[C@@H](C(=O)N1CCOCC1)N1CC[C@H](NS(=O)(=O)/C=C...</td>\n",
       "      <td>NC(=[NH2+])c1ccccc1</td>\n",
       "      <td>[#7]-[#6]-[#6]:,-[#6]:,-[#6]</td>\n",
       "      <td>28</td>\n",
       "      <td>1</td>\n",
       "      <td>8</td>\n",
       "      <td>...</td>\n",
       "      <td>0</td>\n",
       "      <td>1</td>\n",
       "      <td>0</td>\n",
       "      <td>1</td>\n",
       "      <td>0.050847</td>\n",
       "      <td>0.059829</td>\n",
       "      <td>1.165959</td>\n",
       "      <td>3</td>\n",
       "      <td>-1.491525</td>\n",
       "      <td>-2.401709</td>\n",
       "    </tr>\n",
       "    <tr>\n",
       "      <th>2</th>\n",
       "      <td>5Y12_8JX</td>\n",
       "      <td>1TOW_CRZ</td>\n",
       "      <td>1.769</td>\n",
       "      <td>P15090</td>\n",
       "      <td>COc1ccc(S(=O)(=O)NCCCCC(=O)O)c2ccccc12</td>\n",
       "      <td>O=C(O)CCCn1c2ccccc2c2ccccc21</td>\n",
       "      <td>[#6]1:[#6]:[#6]:[#6]:[#6]:[#6]:1:[#6]:[#6]:[#6...</td>\n",
       "      <td>23</td>\n",
       "      <td>2</td>\n",
       "      <td>6</td>\n",
       "      <td>...</td>\n",
       "      <td>0</td>\n",
       "      <td>0</td>\n",
       "      <td>0</td>\n",
       "      <td>0</td>\n",
       "      <td>0.324561</td>\n",
       "      <td>0.324561</td>\n",
       "      <td>0.570414</td>\n",
       "      <td>1</td>\n",
       "      <td>1.245614</td>\n",
       "      <td>0.245614</td>\n",
       "    </tr>\n",
       "    <tr>\n",
       "      <th>3</th>\n",
       "      <td>1C1U_BAI</td>\n",
       "      <td>5AHG_Y4L</td>\n",
       "      <td>3.943</td>\n",
       "      <td>P00734</td>\n",
       "      <td>N=C(N)c1ccc2[nH]c(Cc3nc4ccccc4[nH]3)nc2c1</td>\n",
       "      <td>CN(C)S(=O)(=O)Nc1ccc(Cl)cc1</td>\n",
       "      <td>[#7]-,:[#6]1:[#6]:[#6]:[#6]:[#6]:[#6]:1</td>\n",
       "      <td>22</td>\n",
       "      <td>5</td>\n",
       "      <td>6</td>\n",
       "      <td>...</td>\n",
       "      <td>1</td>\n",
       "      <td>1</td>\n",
       "      <td>0</td>\n",
       "      <td>1</td>\n",
       "      <td>0.086957</td>\n",
       "      <td>0.106195</td>\n",
       "      <td>1.371942</td>\n",
       "      <td>3</td>\n",
       "      <td>-1.130435</td>\n",
       "      <td>-1.938053</td>\n",
       "    </tr>\n",
       "    <tr>\n",
       "      <th>4</th>\n",
       "      <td>2W26_RIV</td>\n",
       "      <td>2Y80_439</td>\n",
       "      <td>7.217</td>\n",
       "      <td>P00742</td>\n",
       "      <td>O=C(NC[C@H]1CN(c2ccc(N3CCOCC3=O)cc2)C(=O)O1)c1...</td>\n",
       "      <td>CN(C)[C@@H]1CCc2cc(N3CC[C@H](NS(=O)(=O)c4ccc5c...</td>\n",
       "      <td>[#7]-[#6]-[#6]-[#6]-[#7](-[#6]1:[#6]:[#6]:[#6]...</td>\n",
       "      <td>29</td>\n",
       "      <td>1</td>\n",
       "      <td>8</td>\n",
       "      <td>...</td>\n",
       "      <td>1</td>\n",
       "      <td>1</td>\n",
       "      <td>3</td>\n",
       "      <td>2</td>\n",
       "      <td>0.187166</td>\n",
       "      <td>0.283237</td>\n",
       "      <td>1.976439</td>\n",
       "      <td>3</td>\n",
       "      <td>-0.128342</td>\n",
       "      <td>-0.167630</td>\n",
       "    </tr>\n",
       "  </tbody>\n",
       "</table>\n",
       "<p>5 rows × 41 columns</p>\n",
       "</div>"
      ],
      "text/plain": [
       "   template    docked   rmsd uniprot_id  \\\n",
       "0  1YPJ_UIB  1K22_MEL  4.643     P00734   \n",
       "1  2JH5_895  1C5O_BAM  3.209     P00734   \n",
       "2  5Y12_8JX  1TOW_CRZ  1.769     P15090   \n",
       "3  1C1U_BAI  5AHG_Y4L  3.943     P00734   \n",
       "4  2W26_RIV  2Y80_439  7.217     P00742   \n",
       "\n",
       "                                     smiles_template  \\\n",
       "0  CC[C@@H]1[C@@H]2[C@H](C(=O)N1Cc1ccc3c(c1)OCO3)...   \n",
       "1  C[C@@H](C(=O)N1CCOCC1)N1CC[C@H](NS(=O)(=O)/C=C...   \n",
       "2             COc1ccc(S(=O)(=O)NCCCCC(=O)O)c2ccccc12   \n",
       "3          N=C(N)c1ccc2[nH]c(Cc3nc4ccccc4[nH]3)nc2c1   \n",
       "4  O=C(NC[C@H]1CN(c2ccc(N3CCOCC3=O)cc2)C(=O)O1)c1...   \n",
       "\n",
       "                                       smiles_docked  \\\n",
       "0  N=C(N)c1ccc(CNC(=O)[C@@H]2CCN2C(=O)[C@H](NCC(=...   \n",
       "1                                NC(=[NH2+])c1ccccc1   \n",
       "2                       O=C(O)CCCn1c2ccccc2c2ccccc21   \n",
       "3                        CN(C)S(=O)(=O)Nc1ccc(Cl)cc1   \n",
       "4  CN(C)[C@@H]1CCc2cc(N3CC[C@H](NS(=O)(=O)c4ccc5c...   \n",
       "\n",
       "                                    mcs_smartsString  template_HeavyAtomCount  \\\n",
       "0  [#7]=[#6](-[#7])-[#6]1:[#6]:[#6]:[#6](:[#6]:[#...                       33   \n",
       "1                       [#7]-[#6]-[#6]:,-[#6]:,-[#6]                       28   \n",
       "2  [#6]1:[#6]:[#6]:[#6]:[#6]:[#6]:1:[#6]:[#6]:[#6...                       23   \n",
       "3            [#7]-,:[#6]1:[#6]:[#6]:[#6]:[#6]:[#6]:1                       22   \n",
       "4  [#7]-[#6]-[#6]-[#6]-[#7](-[#6]1:[#6]:[#6]:[#6]...                       29   \n",
       "\n",
       "   template_NHOHCount  template_NOCount  ...  mcs_template_NumHDonors  \\\n",
       "0                   3                 7  ...                        2   \n",
       "1                   1                 8  ...                        0   \n",
       "2                   2                 6  ...                        0   \n",
       "3                   5                 6  ...                        1   \n",
       "4                   1                 8  ...                        1   \n",
       "\n",
       "   mcs_docked_NumHDonors  mcs_template_NumRotatableBonds  \\\n",
       "0                      3                               4   \n",
       "1                      1                               0   \n",
       "2                      0                               0   \n",
       "3                      1                               0   \n",
       "4                      1                               3   \n",
       "\n",
       "   mcs_docked_NumRotatableBonds  ec_tanimoto_similarity  \\\n",
       "0                             7                0.165775   \n",
       "1                             1                0.050847   \n",
       "2                             0                0.324561   \n",
       "3                             1                0.086957   \n",
       "4                             2                0.187166   \n",
       "\n",
       "   fc_tanimoto_similarity  log_RMSD  bin_RMSD  Xtransf_ec_tanimoto_similarity  \\\n",
       "0                0.289941  1.535361         3                       -0.342246   \n",
       "1                0.059829  1.165959         3                       -1.491525   \n",
       "2                0.324561  0.570414         1                        1.245614   \n",
       "3                0.106195  1.371942         3                       -1.130435   \n",
       "4                0.283237  1.976439         3                       -0.128342   \n",
       "\n",
       "   Xtransf_fc_tanimoto_similarity  \n",
       "0                       -0.100592  \n",
       "1                       -2.401709  \n",
       "2                        0.245614  \n",
       "3                       -1.938053  \n",
       "4                       -0.167630  \n",
       "\n",
       "[5 rows x 41 columns]"
      ]
     },
     "execution_count": 11,
     "metadata": {},
     "output_type": "execute_result"
    }
   ],
   "source": [
    "train.head()"
   ]
  },
  {
   "cell_type": "markdown",
   "id": "4f59daa4",
   "metadata": {},
   "source": [
    "# Preprocessing building ImageDataGenerator"
   ]
  },
  {
   "cell_type": "code",
   "execution_count": 12,
   "id": "809b5437",
   "metadata": {},
   "outputs": [
    {
     "name": "stderr",
     "output_type": "stream",
     "text": [
      "2021-11-29 15:01:49.933279: I tensorflow/stream_executor/platform/default/dso_loader.cc:49] Successfully opened dynamic library libcudart.so.10.1\n"
     ]
    }
   ],
   "source": [
    "import matplotlib.pyplot as plt\n",
    "import numpy as np\n",
    "import os\n",
    "import random\n",
    "import tensorflow as tf\n",
    "from pathlib import Path\n",
    "from tensorflow.keras import applications\n",
    "from tensorflow.keras import layers\n",
    "from tensorflow.keras import losses\n",
    "from tensorflow.keras import optimizers\n",
    "from tensorflow.keras import metrics\n",
    "from tensorflow.keras import Model\n",
    "from tensorflow.keras.applications import resnet"
   ]
  },
  {
   "cell_type": "code",
   "execution_count": 13,
   "id": "59928f03",
   "metadata": {
    "scrolled": true
   },
   "outputs": [
    {
     "name": "stdout",
     "output_type": "stream",
     "text": [
      "<class 'pandas.core.frame.DataFrame'>\n",
      "RangeIndex: 23924 entries, 0 to 23923\n",
      "Data columns (total 44 columns):\n",
      " #   Column                          Non-Null Count  Dtype  \n",
      "---  ------                          --------------  -----  \n",
      " 0   template                        23924 non-null  object \n",
      " 1   docked                          23924 non-null  object \n",
      " 2   rmsd                            23924 non-null  float64\n",
      " 3   uniprot_id                      23924 non-null  object \n",
      " 4   smiles_template                 23924 non-null  object \n",
      " 5   smiles_docked                   23924 non-null  object \n",
      " 6   mcs_smartsString                23924 non-null  object \n",
      " 7   template_HeavyAtomCount         23924 non-null  int64  \n",
      " 8   template_NHOHCount              23924 non-null  int64  \n",
      " 9   template_NOCount                23924 non-null  int64  \n",
      " 10  template_RingCount              23924 non-null  int64  \n",
      " 11  template_NumHAcceptors          23924 non-null  int64  \n",
      " 12  template_NumHDonors             23924 non-null  int64  \n",
      " 13  template_NumHeteroAtoms         23924 non-null  int64  \n",
      " 14  template_NumRotatableBonds      23924 non-null  int64  \n",
      " 15  docked_HeavyAtomCount           23924 non-null  int64  \n",
      " 16  docked_NHOHCount                23924 non-null  int64  \n",
      " 17  docked_NOCount                  23924 non-null  int64  \n",
      " 18  docked_RingCount                23924 non-null  int64  \n",
      " 19  docked_NumHAcceptors            23924 non-null  int64  \n",
      " 20  docked_NumHDonors               23924 non-null  int64  \n",
      " 21  docked_NumHeteroAtoms           23924 non-null  int64  \n",
      " 22  docked_NumRotatableBonds        23924 non-null  int64  \n",
      " 23  mcs_HeavyAtomCount              23924 non-null  int64  \n",
      " 24  mcs_NOCount                     23924 non-null  int64  \n",
      " 25  mcs_RingCount                   23924 non-null  int64  \n",
      " 26  mcs_NumHeteroAtoms              23924 non-null  int64  \n",
      " 27  mcs_template_NHOHCount          23924 non-null  int64  \n",
      " 28  mcs_docked_NHOHCount            23924 non-null  int64  \n",
      " 29  mcs_template_NumHAcceptors      23924 non-null  int64  \n",
      " 30  mcs_docked_NumHAcceptors        23924 non-null  int64  \n",
      " 31  mcs_template_NumHDonors         23924 non-null  int64  \n",
      " 32  mcs_docked_NumHDonors           23924 non-null  int64  \n",
      " 33  mcs_template_NumRotatableBonds  23924 non-null  int64  \n",
      " 34  mcs_docked_NumRotatableBonds    23924 non-null  int64  \n",
      " 35  ec_tanimoto_similarity          23924 non-null  float64\n",
      " 36  fc_tanimoto_similarity          23924 non-null  float64\n",
      " 37  log_RMSD                        23924 non-null  float64\n",
      " 38  bin_RMSD                        23924 non-null  int64  \n",
      " 39  Xtransf_ec_tanimoto_similarity  23924 non-null  float64\n",
      " 40  Xtransf_fc_tanimoto_similarity  23924 non-null  float64\n",
      " 41  img_temp                        23924 non-null  object \n",
      " 42  img_docked                      23924 non-null  object \n",
      " 43  is_valid                        23924 non-null  bool   \n",
      "dtypes: bool(1), float64(6), int64(29), object(8)\n",
      "memory usage: 7.9+ MB\n"
     ]
    }
   ],
   "source": [
    "train['img_temp'] = train['template'] + '.png'\n",
    "train['img_docked'] = train['docked'] + '.png'\n",
    "train['is_valid'] = False\n",
    "train.info()"
   ]
  },
  {
   "cell_type": "code",
   "execution_count": 14,
   "id": "352ed10d",
   "metadata": {
    "scrolled": true
   },
   "outputs": [
    {
     "data": {
      "text/html": [
       "<div>\n",
       "<style scoped>\n",
       "    .dataframe tbody tr th:only-of-type {\n",
       "        vertical-align: middle;\n",
       "    }\n",
       "\n",
       "    .dataframe tbody tr th {\n",
       "        vertical-align: top;\n",
       "    }\n",
       "\n",
       "    .dataframe thead th {\n",
       "        text-align: right;\n",
       "    }\n",
       "</style>\n",
       "<table border=\"1\" class=\"dataframe\">\n",
       "  <thead>\n",
       "    <tr style=\"text-align: right;\">\n",
       "      <th></th>\n",
       "      <th>template</th>\n",
       "      <th>docked</th>\n",
       "      <th>rmsd</th>\n",
       "      <th>uniprot_id</th>\n",
       "      <th>smiles_template</th>\n",
       "      <th>smiles_docked</th>\n",
       "      <th>mcs_smartsString</th>\n",
       "      <th>template_HeavyAtomCount</th>\n",
       "      <th>template_NHOHCount</th>\n",
       "      <th>template_NOCount</th>\n",
       "      <th>...</th>\n",
       "      <th>mcs_docked_NumRotatableBonds</th>\n",
       "      <th>ec_tanimoto_similarity</th>\n",
       "      <th>fc_tanimoto_similarity</th>\n",
       "      <th>log_RMSD</th>\n",
       "      <th>bin_RMSD</th>\n",
       "      <th>Xtransf_ec_tanimoto_similarity</th>\n",
       "      <th>Xtransf_fc_tanimoto_similarity</th>\n",
       "      <th>img_temp</th>\n",
       "      <th>img_docked</th>\n",
       "      <th>is_valid</th>\n",
       "    </tr>\n",
       "  </thead>\n",
       "  <tbody>\n",
       "    <tr>\n",
       "      <th>0</th>\n",
       "      <td>2C8Y_C3M</td>\n",
       "      <td>3SHC_B01</td>\n",
       "      <td>6.732</td>\n",
       "      <td>P00734</td>\n",
       "      <td>N[C@@H](Cc1ccccc1)[C@H](O)CNS(=O)(=O)c1ccc2ccc...</td>\n",
       "      <td>N[C@H](Cc1ccccc1)C(=O)N1CCC[C@H]1C(=O)NCc1cc(C...</td>\n",
       "      <td>[#7]-[#6](-[#6]-[#6]1:[#6]:[#6]:[#6]:[#6]:[#6]...</td>\n",
       "      <td>26</td>\n",
       "      <td>4</td>\n",
       "      <td>5</td>\n",
       "      <td>...</td>\n",
       "      <td>3</td>\n",
       "      <td>0.240260</td>\n",
       "      <td>0.308219</td>\n",
       "      <td>1.906872</td>\n",
       "      <td>3</td>\n",
       "      <td>0.402597</td>\n",
       "      <td>0.082192</td>\n",
       "      <td>2C8Y_C3M.png</td>\n",
       "      <td>3SHC_B01.png</td>\n",
       "      <td>True</td>\n",
       "    </tr>\n",
       "    <tr>\n",
       "      <th>1</th>\n",
       "      <td>2D1J_D01</td>\n",
       "      <td>1LPZ_CMB</td>\n",
       "      <td>7.109</td>\n",
       "      <td>P00742</td>\n",
       "      <td>O=C(c1cc2c(ccc[n+]2[O-])s1)N1CCN(S(=O)(=O)c2cc...</td>\n",
       "      <td>Cc1cccc2c1cc(C(=O)NCc1cc(Cl)cc(Cl)c1)n2Cc1cccc...</td>\n",
       "      <td>[#6](:[#6]:[#6]:[#6]:,-[#6]:,-[#7](:,-[#6]-[#6...</td>\n",
       "      <td>31</td>\n",
       "      <td>1</td>\n",
       "      <td>8</td>\n",
       "      <td>...</td>\n",
       "      <td>3</td>\n",
       "      <td>0.147959</td>\n",
       "      <td>0.203209</td>\n",
       "      <td>1.961362</td>\n",
       "      <td>3</td>\n",
       "      <td>-0.520408</td>\n",
       "      <td>-0.967914</td>\n",
       "      <td>2D1J_D01.png</td>\n",
       "      <td>1LPZ_CMB.png</td>\n",
       "      <td>True</td>\n",
       "    </tr>\n",
       "    <tr>\n",
       "      <th>2</th>\n",
       "      <td>4A7I_A7I</td>\n",
       "      <td>1NFX_RDR</td>\n",
       "      <td>7.520</td>\n",
       "      <td>P00742</td>\n",
       "      <td>CC(C)N1CCC(NS(=O)(=O)CCNC(=O)c2ccc(Cl)s2)CC1</td>\n",
       "      <td>O=C1CN(S(=O)(=O)c2cc3ccc(Cl)cc3s2)CCN1Cc1cc2cn...</td>\n",
       "      <td>[#6]-[#6](-,:[#6])-,:[#7](-,:[#6]-,:[#6]-,:[#6...</td>\n",
       "      <td>24</td>\n",
       "      <td>2</td>\n",
       "      <td>6</td>\n",
       "      <td>...</td>\n",
       "      <td>3</td>\n",
       "      <td>0.137143</td>\n",
       "      <td>0.177515</td>\n",
       "      <td>2.017566</td>\n",
       "      <td>3</td>\n",
       "      <td>-0.628571</td>\n",
       "      <td>-1.224852</td>\n",
       "      <td>4A7I_A7I.png</td>\n",
       "      <td>1NFX_RDR.png</td>\n",
       "      <td>True</td>\n",
       "    </tr>\n",
       "    <tr>\n",
       "      <th>3</th>\n",
       "      <td>1ZGV_501</td>\n",
       "      <td>1C5O_BAM</td>\n",
       "      <td>3.197</td>\n",
       "      <td>P00734</td>\n",
       "      <td>CCCCNc1cc(C)nc2nc(Nc3cc(Cl)ccc3C)nn12</td>\n",
       "      <td>NC(=[NH2+])c1ccccc1</td>\n",
       "      <td>[#7]-[#6]-,:[#6](:[#6]:[#6]:[#6]:[#6]):,-[#6]</td>\n",
       "      <td>24</td>\n",
       "      <td>2</td>\n",
       "      <td>6</td>\n",
       "      <td>...</td>\n",
       "      <td>1</td>\n",
       "      <td>0.064815</td>\n",
       "      <td>0.127451</td>\n",
       "      <td>1.162213</td>\n",
       "      <td>3</td>\n",
       "      <td>-1.351852</td>\n",
       "      <td>-1.725490</td>\n",
       "      <td>1ZGV_501.png</td>\n",
       "      <td>1C5O_BAM.png</td>\n",
       "      <td>True</td>\n",
       "    </tr>\n",
       "    <tr>\n",
       "      <th>4</th>\n",
       "      <td>3DA6_BZ9</td>\n",
       "      <td>4W4V_3H8</td>\n",
       "      <td>11.188</td>\n",
       "      <td>P53779</td>\n",
       "      <td>CNc1nccc(-c2cccnc2Oc2c(C)cc(Nc3nc4ccccc4[nH]3)...</td>\n",
       "      <td>Cc1cc(NC(=O)c2cccc(-n3cc(NC(=O)Nc4ccccc4Cl)cn3...</td>\n",
       "      <td>[#7]:[#6]:[#6](-,:[#7]-,:[#6]-[#7]-[#6]1:[#6]:...</td>\n",
       "      <td>36</td>\n",
       "      <td>3</td>\n",
       "      <td>8</td>\n",
       "      <td>...</td>\n",
       "      <td>2</td>\n",
       "      <td>0.190698</td>\n",
       "      <td>0.213270</td>\n",
       "      <td>2.414842</td>\n",
       "      <td>3</td>\n",
       "      <td>-0.093023</td>\n",
       "      <td>-0.867299</td>\n",
       "      <td>3DA6_BZ9.png</td>\n",
       "      <td>4W4V_3H8.png</td>\n",
       "      <td>True</td>\n",
       "    </tr>\n",
       "  </tbody>\n",
       "</table>\n",
       "<p>5 rows × 44 columns</p>\n",
       "</div>"
      ],
      "text/plain": [
       "   template    docked    rmsd uniprot_id  \\\n",
       "0  2C8Y_C3M  3SHC_B01   6.732     P00734   \n",
       "1  2D1J_D01  1LPZ_CMB   7.109     P00742   \n",
       "2  4A7I_A7I  1NFX_RDR   7.520     P00742   \n",
       "3  1ZGV_501  1C5O_BAM   3.197     P00734   \n",
       "4  3DA6_BZ9  4W4V_3H8  11.188     P53779   \n",
       "\n",
       "                                     smiles_template  \\\n",
       "0  N[C@@H](Cc1ccccc1)[C@H](O)CNS(=O)(=O)c1ccc2ccc...   \n",
       "1  O=C(c1cc2c(ccc[n+]2[O-])s1)N1CCN(S(=O)(=O)c2cc...   \n",
       "2       CC(C)N1CCC(NS(=O)(=O)CCNC(=O)c2ccc(Cl)s2)CC1   \n",
       "3              CCCCNc1cc(C)nc2nc(Nc3cc(Cl)ccc3C)nn12   \n",
       "4  CNc1nccc(-c2cccnc2Oc2c(C)cc(Nc3nc4ccccc4[nH]3)...   \n",
       "\n",
       "                                       smiles_docked  \\\n",
       "0  N[C@H](Cc1ccccc1)C(=O)N1CCC[C@H]1C(=O)NCc1cc(C...   \n",
       "1  Cc1cccc2c1cc(C(=O)NCc1cc(Cl)cc(Cl)c1)n2Cc1cccc...   \n",
       "2  O=C1CN(S(=O)(=O)c2cc3ccc(Cl)cc3s2)CCN1Cc1cc2cn...   \n",
       "3                                NC(=[NH2+])c1ccccc1   \n",
       "4  Cc1cc(NC(=O)c2cccc(-n3cc(NC(=O)Nc4ccccc4Cl)cn3...   \n",
       "\n",
       "                                    mcs_smartsString  template_HeavyAtomCount  \\\n",
       "0  [#7]-[#6](-[#6]-[#6]1:[#6]:[#6]:[#6]:[#6]:[#6]...                       26   \n",
       "1  [#6](:[#6]:[#6]:[#6]:,-[#6]:,-[#7](:,-[#6]-[#6...                       31   \n",
       "2  [#6]-[#6](-,:[#6])-,:[#7](-,:[#6]-,:[#6]-,:[#6...                       24   \n",
       "3      [#7]-[#6]-,:[#6](:[#6]:[#6]:[#6]:[#6]):,-[#6]                       24   \n",
       "4  [#7]:[#6]:[#6](-,:[#7]-,:[#6]-[#7]-[#6]1:[#6]:...                       36   \n",
       "\n",
       "   template_NHOHCount  template_NOCount  ...  mcs_docked_NumRotatableBonds  \\\n",
       "0                   4                 5  ...                             3   \n",
       "1                   1                 8  ...                             3   \n",
       "2                   2                 6  ...                             3   \n",
       "3                   2                 6  ...                             1   \n",
       "4                   3                 8  ...                             2   \n",
       "\n",
       "   ec_tanimoto_similarity  fc_tanimoto_similarity  log_RMSD  bin_RMSD  \\\n",
       "0                0.240260                0.308219  1.906872         3   \n",
       "1                0.147959                0.203209  1.961362         3   \n",
       "2                0.137143                0.177515  2.017566         3   \n",
       "3                0.064815                0.127451  1.162213         3   \n",
       "4                0.190698                0.213270  2.414842         3   \n",
       "\n",
       "   Xtransf_ec_tanimoto_similarity  Xtransf_fc_tanimoto_similarity  \\\n",
       "0                        0.402597                        0.082192   \n",
       "1                       -0.520408                       -0.967914   \n",
       "2                       -0.628571                       -1.224852   \n",
       "3                       -1.351852                       -1.725490   \n",
       "4                       -0.093023                       -0.867299   \n",
       "\n",
       "       img_temp    img_docked  is_valid  \n",
       "0  2C8Y_C3M.png  3SHC_B01.png      True  \n",
       "1  2D1J_D01.png  1LPZ_CMB.png      True  \n",
       "2  4A7I_A7I.png  1NFX_RDR.png      True  \n",
       "3  1ZGV_501.png  1C5O_BAM.png      True  \n",
       "4  3DA6_BZ9.png  4W4V_3H8.png      True  \n",
       "\n",
       "[5 rows x 44 columns]"
      ]
     },
     "execution_count": 14,
     "metadata": {},
     "output_type": "execute_result"
    }
   ],
   "source": [
    "valid['img_temp'] = valid['template'] + '.png'\n",
    "valid['img_docked'] = valid['docked'] + '.png'\n",
    "valid['is_valid'] = True\n",
    "valid.head()"
   ]
  },
  {
   "cell_type": "code",
   "execution_count": 15,
   "id": "a313685b",
   "metadata": {
    "scrolled": true
   },
   "outputs": [],
   "source": [
    "target_shape=(224, 224)"
   ]
  },
  {
   "cell_type": "code",
   "execution_count": 16,
   "id": "bac8df9e",
   "metadata": {},
   "outputs": [],
   "source": [
    "IMAGES = '../dataset/oldsmiledata/mol_images/all/'"
   ]
  },
  {
   "cell_type": "code",
   "execution_count": 17,
   "id": "87693386",
   "metadata": {},
   "outputs": [],
   "source": [
    "def preprocess_image(filename):\n",
    "    img_str = tf.io.read_file(IMAGES + filename)\n",
    "    image = tf.image.decode_png(img_str, channels=3)\n",
    "    image = tf.image.convert_image_dtype(image, tf.float32)\n",
    "    image = tf.image.resize(image, target_shape)\n",
    "    #image = tf.transpose(image)\n",
    "    return image"
   ]
  },
  {
   "cell_type": "code",
   "execution_count": 18,
   "id": "c932c106",
   "metadata": {},
   "outputs": [
    {
     "name": "stderr",
     "output_type": "stream",
     "text": [
      "2021-11-29 15:01:53.945070: I tensorflow/compiler/jit/xla_cpu_device.cc:41] Not creating XLA devices, tf_xla_enable_xla_devices not set\n",
      "2021-11-29 15:01:53.945629: I tensorflow/stream_executor/platform/default/dso_loader.cc:49] Successfully opened dynamic library libcuda.so.1\n",
      "2021-11-29 15:01:53.992448: I tensorflow/stream_executor/cuda/cuda_gpu_executor.cc:941] successful NUMA node read from SysFS had negative value (-1), but there must be at least one NUMA node, so returning NUMA node zero\n",
      "2021-11-29 15:01:53.992724: I tensorflow/core/common_runtime/gpu/gpu_device.cc:1720] Found device 0 with properties: \n",
      "pciBusID: 0000:01:00.0 name: GeForce GTX 1080 computeCapability: 6.1\n",
      "coreClock: 1.8225GHz coreCount: 20 deviceMemorySize: 7.93GiB deviceMemoryBandwidth: 298.32GiB/s\n",
      "2021-11-29 15:01:53.992751: I tensorflow/stream_executor/platform/default/dso_loader.cc:49] Successfully opened dynamic library libcudart.so.10.1\n",
      "2021-11-29 15:01:53.993730: I tensorflow/stream_executor/platform/default/dso_loader.cc:49] Successfully opened dynamic library libcublas.so.10\n",
      "2021-11-29 15:01:53.993759: I tensorflow/stream_executor/platform/default/dso_loader.cc:49] Successfully opened dynamic library libcublasLt.so.10\n",
      "2021-11-29 15:01:53.994698: I tensorflow/stream_executor/platform/default/dso_loader.cc:49] Successfully opened dynamic library libcufft.so.10\n",
      "2021-11-29 15:01:53.994859: I tensorflow/stream_executor/platform/default/dso_loader.cc:49] Successfully opened dynamic library libcurand.so.10\n",
      "2021-11-29 15:01:53.996001: I tensorflow/stream_executor/platform/default/dso_loader.cc:49] Successfully opened dynamic library libcusolver.so.10\n",
      "2021-11-29 15:01:53.996656: I tensorflow/stream_executor/platform/default/dso_loader.cc:49] Successfully opened dynamic library libcusparse.so.10\n",
      "2021-11-29 15:01:53.999107: I tensorflow/stream_executor/platform/default/dso_loader.cc:49] Successfully opened dynamic library libcudnn.so.7\n",
      "2021-11-29 15:01:53.999199: I tensorflow/stream_executor/cuda/cuda_gpu_executor.cc:941] successful NUMA node read from SysFS had negative value (-1), but there must be at least one NUMA node, so returning NUMA node zero\n",
      "2021-11-29 15:01:53.999512: I tensorflow/stream_executor/cuda/cuda_gpu_executor.cc:941] successful NUMA node read from SysFS had negative value (-1), but there must be at least one NUMA node, so returning NUMA node zero\n",
      "2021-11-29 15:01:53.999744: I tensorflow/core/common_runtime/gpu/gpu_device.cc:1862] Adding visible gpu devices: 0\n",
      "2021-11-29 15:01:54.000210: I tensorflow/core/platform/cpu_feature_guard.cc:142] This TensorFlow binary is optimized with oneAPI Deep Neural Network Library (oneDNN) to use the following CPU instructions in performance-critical operations:  SSE4.1 SSE4.2 AVX AVX2 FMA\n",
      "To enable them in other operations, rebuild TensorFlow with the appropriate compiler flags.\n",
      "2021-11-29 15:01:54.000661: I tensorflow/stream_executor/cuda/cuda_gpu_executor.cc:941] successful NUMA node read from SysFS had negative value (-1), but there must be at least one NUMA node, so returning NUMA node zero\n",
      "2021-11-29 15:01:54.000910: I tensorflow/core/common_runtime/gpu/gpu_device.cc:1720] Found device 0 with properties: \n",
      "pciBusID: 0000:01:00.0 name: GeForce GTX 1080 computeCapability: 6.1\n",
      "coreClock: 1.8225GHz coreCount: 20 deviceMemorySize: 7.93GiB deviceMemoryBandwidth: 298.32GiB/s\n",
      "2021-11-29 15:01:54.000930: I tensorflow/stream_executor/platform/default/dso_loader.cc:49] Successfully opened dynamic library libcudart.so.10.1\n",
      "2021-11-29 15:01:54.000942: I tensorflow/stream_executor/platform/default/dso_loader.cc:49] Successfully opened dynamic library libcublas.so.10\n",
      "2021-11-29 15:01:54.000952: I tensorflow/stream_executor/platform/default/dso_loader.cc:49] Successfully opened dynamic library libcublasLt.so.10\n",
      "2021-11-29 15:01:54.000961: I tensorflow/stream_executor/platform/default/dso_loader.cc:49] Successfully opened dynamic library libcufft.so.10\n",
      "2021-11-29 15:01:54.000971: I tensorflow/stream_executor/platform/default/dso_loader.cc:49] Successfully opened dynamic library libcurand.so.10\n",
      "2021-11-29 15:01:54.000980: I tensorflow/stream_executor/platform/default/dso_loader.cc:49] Successfully opened dynamic library libcusolver.so.10\n",
      "2021-11-29 15:01:54.000989: I tensorflow/stream_executor/platform/default/dso_loader.cc:49] Successfully opened dynamic library libcusparse.so.10\n",
      "2021-11-29 15:01:54.001000: I tensorflow/stream_executor/platform/default/dso_loader.cc:49] Successfully opened dynamic library libcudnn.so.7\n",
      "2021-11-29 15:01:54.001037: I tensorflow/stream_executor/cuda/cuda_gpu_executor.cc:941] successful NUMA node read from SysFS had negative value (-1), but there must be at least one NUMA node, so returning NUMA node zero\n",
      "2021-11-29 15:01:54.001297: I tensorflow/stream_executor/cuda/cuda_gpu_executor.cc:941] successful NUMA node read from SysFS had negative value (-1), but there must be at least one NUMA node, so returning NUMA node zero\n",
      "2021-11-29 15:01:54.001523: I tensorflow/core/common_runtime/gpu/gpu_device.cc:1862] Adding visible gpu devices: 0\n",
      "2021-11-29 15:01:54.001547: I tensorflow/stream_executor/platform/default/dso_loader.cc:49] Successfully opened dynamic library libcudart.so.10.1\n",
      "2021-11-29 15:01:54.346415: I tensorflow/core/common_runtime/gpu/gpu_device.cc:1261] Device interconnect StreamExecutor with strength 1 edge matrix:\n",
      "2021-11-29 15:01:54.346438: I tensorflow/core/common_runtime/gpu/gpu_device.cc:1267]      0 \n",
      "2021-11-29 15:01:54.346443: I tensorflow/core/common_runtime/gpu/gpu_device.cc:1280] 0:   N \n",
      "2021-11-29 15:01:54.346589: I tensorflow/stream_executor/cuda/cuda_gpu_executor.cc:941] successful NUMA node read from SysFS had negative value (-1), but there must be at least one NUMA node, so returning NUMA node zero\n",
      "2021-11-29 15:01:54.346892: I tensorflow/stream_executor/cuda/cuda_gpu_executor.cc:941] successful NUMA node read from SysFS had negative value (-1), but there must be at least one NUMA node, so returning NUMA node zero\n",
      "2021-11-29 15:01:54.347173: I tensorflow/stream_executor/cuda/cuda_gpu_executor.cc:941] successful NUMA node read from SysFS had negative value (-1), but there must be at least one NUMA node, so returning NUMA node zero\n",
      "2021-11-29 15:01:54.347428: I tensorflow/core/common_runtime/gpu/gpu_device.cc:1406] Created TensorFlow device (/job:localhost/replica:0/task:0/device:GPU:0 with 6892 MB memory) -> physical GPU (device: 0, name: GeForce GTX 1080, pci bus id: 0000:01:00.0, compute capability: 6.1)\n",
      "2021-11-29 15:01:54.347617: I tensorflow/compiler/jit/xla_gpu_device.cc:99] Not creating XLA devices, tf_xla_enable_xla_devices not set\n"
     ]
    },
    {
     "data": {
      "text/plain": [
       "TensorShape([224, 224, 3])"
      ]
     },
     "execution_count": 18,
     "metadata": {},
     "output_type": "execute_result"
    }
   ],
   "source": [
    "preprocess_image(train.img_temp[0]).shape"
   ]
  },
  {
   "cell_type": "code",
   "execution_count": 19,
   "id": "68ae7d9b",
   "metadata": {},
   "outputs": [],
   "source": [
    "def preprocess_triplets(template, docked, negative):\n",
    "    \"\"\"\n",
    "    Given the filenames corresponding to the three images, load and\n",
    "    preprocess them.\n",
    "    \"\"\"\n",
    "\n",
    "    return (preprocess_image(template), preprocess_image(docked), preprocess_image(negative))\n",
    "    "
   ]
  },
  {
   "cell_type": "code",
   "execution_count": 20,
   "id": "24fccb0c",
   "metadata": {},
   "outputs": [],
   "source": [
    "def preprocess_triplets_2(tup, negative):\n",
    "    \"\"\"\n",
    "    Given the filenames corresponding to the three images, load and\n",
    "    preprocess them.\n",
    "    \"\"\"\n",
    "\n",
    "    return (preprocess_image(tup[0]),\n",
    "        preprocess_image(tup[1]),\n",
    "        preprocess_image(negative))"
   ]
  },
  {
   "cell_type": "code",
   "execution_count": 21,
   "id": "6ac49a9a",
   "metadata": {},
   "outputs": [
    {
     "data": {
      "text/plain": [
       "TensorShape([224, 224, 3])"
      ]
     },
     "execution_count": 21,
     "metadata": {},
     "output_type": "execute_result"
    }
   ],
   "source": [
    "image = preprocess_image('/4A7I_A7I.png')\n",
    "image.shape"
   ]
  },
  {
   "cell_type": "code",
   "execution_count": 22,
   "id": "8aecdd76",
   "metadata": {},
   "outputs": [
    {
     "name": "stdout",
     "output_type": "stream",
     "text": [
      "<class 'pandas.core.frame.DataFrame'>\n",
      "RangeIndex: 24948 entries, 0 to 24947\n",
      "Data columns (total 44 columns):\n",
      " #   Column                          Non-Null Count  Dtype  \n",
      "---  ------                          --------------  -----  \n",
      " 0   template                        24948 non-null  object \n",
      " 1   docked                          24948 non-null  object \n",
      " 2   rmsd                            24948 non-null  float64\n",
      " 3   uniprot_id                      24948 non-null  object \n",
      " 4   smiles_template                 24948 non-null  object \n",
      " 5   smiles_docked                   24948 non-null  object \n",
      " 6   mcs_smartsString                24948 non-null  object \n",
      " 7   template_HeavyAtomCount         24948 non-null  int64  \n",
      " 8   template_NHOHCount              24948 non-null  int64  \n",
      " 9   template_NOCount                24948 non-null  int64  \n",
      " 10  template_RingCount              24948 non-null  int64  \n",
      " 11  template_NumHAcceptors          24948 non-null  int64  \n",
      " 12  template_NumHDonors             24948 non-null  int64  \n",
      " 13  template_NumHeteroAtoms         24948 non-null  int64  \n",
      " 14  template_NumRotatableBonds      24948 non-null  int64  \n",
      " 15  docked_HeavyAtomCount           24948 non-null  int64  \n",
      " 16  docked_NHOHCount                24948 non-null  int64  \n",
      " 17  docked_NOCount                  24948 non-null  int64  \n",
      " 18  docked_RingCount                24948 non-null  int64  \n",
      " 19  docked_NumHAcceptors            24948 non-null  int64  \n",
      " 20  docked_NumHDonors               24948 non-null  int64  \n",
      " 21  docked_NumHeteroAtoms           24948 non-null  int64  \n",
      " 22  docked_NumRotatableBonds        24948 non-null  int64  \n",
      " 23  mcs_HeavyAtomCount              24948 non-null  int64  \n",
      " 24  mcs_NOCount                     24948 non-null  int64  \n",
      " 25  mcs_RingCount                   24948 non-null  int64  \n",
      " 26  mcs_NumHeteroAtoms              24948 non-null  int64  \n",
      " 27  mcs_template_NHOHCount          24948 non-null  int64  \n",
      " 28  mcs_docked_NHOHCount            24948 non-null  int64  \n",
      " 29  mcs_template_NumHAcceptors      24948 non-null  int64  \n",
      " 30  mcs_docked_NumHAcceptors        24948 non-null  int64  \n",
      " 31  mcs_template_NumHDonors         24948 non-null  int64  \n",
      " 32  mcs_docked_NumHDonors           24948 non-null  int64  \n",
      " 33  mcs_template_NumRotatableBonds  24948 non-null  int64  \n",
      " 34  mcs_docked_NumRotatableBonds    24948 non-null  int64  \n",
      " 35  ec_tanimoto_similarity          24948 non-null  float64\n",
      " 36  fc_tanimoto_similarity          24948 non-null  float64\n",
      " 37  log_RMSD                        24948 non-null  float64\n",
      " 38  bin_RMSD                        24948 non-null  int64  \n",
      " 39  Xtransf_ec_tanimoto_similarity  24948 non-null  float64\n",
      " 40  Xtransf_fc_tanimoto_similarity  24948 non-null  float64\n",
      " 41  img_temp                        24948 non-null  object \n",
      " 42  img_docked                      24948 non-null  object \n",
      " 43  is_valid                        24948 non-null  bool   \n",
      "dtypes: bool(1), float64(6), int64(29), object(8)\n",
      "memory usage: 8.2+ MB\n"
     ]
    }
   ],
   "source": [
    "df = pd.concat([train,valid], ignore_index=True)\n",
    "df.info()"
   ]
  },
  {
   "cell_type": "code",
   "execution_count": 23,
   "id": "0558a6b5",
   "metadata": {},
   "outputs": [
    {
     "name": "stdout",
     "output_type": "stream",
     "text": [
      "<class 'pandas.core.frame.DataFrame'>\n",
      "RangeIndex: 9451 entries, 0 to 9450\n",
      "Data columns (total 45 columns):\n",
      " #   Column                          Non-Null Count  Dtype  \n",
      "---  ------                          --------------  -----  \n",
      " 0   index                           9451 non-null   int64  \n",
      " 1   template                        9451 non-null   object \n",
      " 2   docked                          9451 non-null   object \n",
      " 3   rmsd                            9451 non-null   float64\n",
      " 4   uniprot_id                      9451 non-null   object \n",
      " 5   smiles_template                 9451 non-null   object \n",
      " 6   smiles_docked                   9451 non-null   object \n",
      " 7   mcs_smartsString                9451 non-null   object \n",
      " 8   template_HeavyAtomCount         9451 non-null   int64  \n",
      " 9   template_NHOHCount              9451 non-null   int64  \n",
      " 10  template_NOCount                9451 non-null   int64  \n",
      " 11  template_RingCount              9451 non-null   int64  \n",
      " 12  template_NumHAcceptors          9451 non-null   int64  \n",
      " 13  template_NumHDonors             9451 non-null   int64  \n",
      " 14  template_NumHeteroAtoms         9451 non-null   int64  \n",
      " 15  template_NumRotatableBonds      9451 non-null   int64  \n",
      " 16  docked_HeavyAtomCount           9451 non-null   int64  \n",
      " 17  docked_NHOHCount                9451 non-null   int64  \n",
      " 18  docked_NOCount                  9451 non-null   int64  \n",
      " 19  docked_RingCount                9451 non-null   int64  \n",
      " 20  docked_NumHAcceptors            9451 non-null   int64  \n",
      " 21  docked_NumHDonors               9451 non-null   int64  \n",
      " 22  docked_NumHeteroAtoms           9451 non-null   int64  \n",
      " 23  docked_NumRotatableBonds        9451 non-null   int64  \n",
      " 24  mcs_HeavyAtomCount              9451 non-null   int64  \n",
      " 25  mcs_NOCount                     9451 non-null   int64  \n",
      " 26  mcs_RingCount                   9451 non-null   int64  \n",
      " 27  mcs_NumHeteroAtoms              9451 non-null   int64  \n",
      " 28  mcs_template_NHOHCount          9451 non-null   int64  \n",
      " 29  mcs_docked_NHOHCount            9451 non-null   int64  \n",
      " 30  mcs_template_NumHAcceptors      9451 non-null   int64  \n",
      " 31  mcs_docked_NumHAcceptors        9451 non-null   int64  \n",
      " 32  mcs_template_NumHDonors         9451 non-null   int64  \n",
      " 33  mcs_docked_NumHDonors           9451 non-null   int64  \n",
      " 34  mcs_template_NumRotatableBonds  9451 non-null   int64  \n",
      " 35  mcs_docked_NumRotatableBonds    9451 non-null   int64  \n",
      " 36  ec_tanimoto_similarity          9451 non-null   float64\n",
      " 37  fc_tanimoto_similarity          9451 non-null   float64\n",
      " 38  log_RMSD                        9451 non-null   float64\n",
      " 39  bin_RMSD                        9451 non-null   int64  \n",
      " 40  Xtransf_ec_tanimoto_similarity  9451 non-null   float64\n",
      " 41  Xtransf_fc_tanimoto_similarity  9451 non-null   float64\n",
      " 42  img_temp                        9451 non-null   object \n",
      " 43  img_docked                      9451 non-null   object \n",
      " 44  is_valid                        9451 non-null   bool   \n",
      "dtypes: bool(1), float64(6), int64(30), object(8)\n",
      "memory usage: 3.2+ MB\n"
     ]
    }
   ],
   "source": [
    "df_positive = df[df['rmsd'] < 4].reset_index()\n",
    "df_positive.info()"
   ]
  },
  {
   "cell_type": "code",
   "execution_count": 24,
   "id": "f6e55d01",
   "metadata": {},
   "outputs": [
    {
     "data": {
      "text/plain": [
       "990"
      ]
     },
     "execution_count": 24,
     "metadata": {},
     "output_type": "execute_result"
    }
   ],
   "source": [
    "df_positive['template'].nunique()"
   ]
  },
  {
   "cell_type": "code",
   "execution_count": 25,
   "id": "2fd9c38b",
   "metadata": {},
   "outputs": [
    {
     "name": "stdout",
     "output_type": "stream",
     "text": [
      "<class 'pandas.core.frame.DataFrame'>\n",
      "RangeIndex: 15497 entries, 0 to 15496\n",
      "Data columns (total 45 columns):\n",
      " #   Column                          Non-Null Count  Dtype  \n",
      "---  ------                          --------------  -----  \n",
      " 0   index                           15497 non-null  int64  \n",
      " 1   template                        15497 non-null  object \n",
      " 2   docked                          15497 non-null  object \n",
      " 3   rmsd                            15497 non-null  float64\n",
      " 4   uniprot_id                      15497 non-null  object \n",
      " 5   smiles_template                 15497 non-null  object \n",
      " 6   smiles_docked                   15497 non-null  object \n",
      " 7   mcs_smartsString                15497 non-null  object \n",
      " 8   template_HeavyAtomCount         15497 non-null  int64  \n",
      " 9   template_NHOHCount              15497 non-null  int64  \n",
      " 10  template_NOCount                15497 non-null  int64  \n",
      " 11  template_RingCount              15497 non-null  int64  \n",
      " 12  template_NumHAcceptors          15497 non-null  int64  \n",
      " 13  template_NumHDonors             15497 non-null  int64  \n",
      " 14  template_NumHeteroAtoms         15497 non-null  int64  \n",
      " 15  template_NumRotatableBonds      15497 non-null  int64  \n",
      " 16  docked_HeavyAtomCount           15497 non-null  int64  \n",
      " 17  docked_NHOHCount                15497 non-null  int64  \n",
      " 18  docked_NOCount                  15497 non-null  int64  \n",
      " 19  docked_RingCount                15497 non-null  int64  \n",
      " 20  docked_NumHAcceptors            15497 non-null  int64  \n",
      " 21  docked_NumHDonors               15497 non-null  int64  \n",
      " 22  docked_NumHeteroAtoms           15497 non-null  int64  \n",
      " 23  docked_NumRotatableBonds        15497 non-null  int64  \n",
      " 24  mcs_HeavyAtomCount              15497 non-null  int64  \n",
      " 25  mcs_NOCount                     15497 non-null  int64  \n",
      " 26  mcs_RingCount                   15497 non-null  int64  \n",
      " 27  mcs_NumHeteroAtoms              15497 non-null  int64  \n",
      " 28  mcs_template_NHOHCount          15497 non-null  int64  \n",
      " 29  mcs_docked_NHOHCount            15497 non-null  int64  \n",
      " 30  mcs_template_NumHAcceptors      15497 non-null  int64  \n",
      " 31  mcs_docked_NumHAcceptors        15497 non-null  int64  \n",
      " 32  mcs_template_NumHDonors         15497 non-null  int64  \n",
      " 33  mcs_docked_NumHDonors           15497 non-null  int64  \n",
      " 34  mcs_template_NumRotatableBonds  15497 non-null  int64  \n",
      " 35  mcs_docked_NumRotatableBonds    15497 non-null  int64  \n",
      " 36  ec_tanimoto_similarity          15497 non-null  float64\n",
      " 37  fc_tanimoto_similarity          15497 non-null  float64\n",
      " 38  log_RMSD                        15497 non-null  float64\n",
      " 39  bin_RMSD                        15497 non-null  int64  \n",
      " 40  Xtransf_ec_tanimoto_similarity  15497 non-null  float64\n",
      " 41  Xtransf_fc_tanimoto_similarity  15497 non-null  float64\n",
      " 42  img_temp                        15497 non-null  object \n",
      " 43  img_docked                      15497 non-null  object \n",
      " 44  is_valid                        15497 non-null  bool   \n",
      "dtypes: bool(1), float64(6), int64(30), object(8)\n",
      "memory usage: 5.2+ MB\n"
     ]
    }
   ],
   "source": [
    "df_negative = df[df['rmsd'] >= 4].reset_index()\n",
    "df_negative.info()"
   ]
  },
  {
   "cell_type": "code",
   "execution_count": 26,
   "id": "1ad56606",
   "metadata": {
    "scrolled": true
   },
   "outputs": [
    {
     "data": {
      "text/plain": [
       "879"
      ]
     },
     "execution_count": 26,
     "metadata": {},
     "output_type": "execute_result"
    }
   ],
   "source": [
    "df_negative['template'].nunique()"
   ]
  },
  {
   "cell_type": "code",
   "execution_count": 27,
   "id": "4c761725",
   "metadata": {},
   "outputs": [],
   "source": [
    "import random"
   ]
  },
  {
   "cell_type": "code",
   "execution_count": 84,
   "id": "48cb903a",
   "metadata": {},
   "outputs": [],
   "source": [
    "def find_negative(row, df_positive=df_positive,  df_negative = df_negative):\n",
    "    '''\n",
    "    finds a row where rmsd between template and docked is higher than in the given row, \n",
    "    otherwise return a random row\n",
    "    '''\n",
    "    negatives = df_negative[df_negative['template'] == row.template].reset_index()\n",
    "    if len(negatives) > 0:\n",
    "        r = random.randint(0, len(negatives) - 1)\n",
    "        negative = negatives.iloc[r]\n",
    "    else:\n",
    "        negatives = df_positive[df_positive['template'] == row.template].reset_index()\n",
    "        negatives = negatives[negatives['rmsd'] > row.rmsd]\n",
    "        if len(negatives) > 0:\n",
    "            r = random.randint(0, len(negatives) - 1)\n",
    "            negative = negatives.iloc[r]\n",
    "        else:\n",
    "            r = random.randint(0, len(df_negative) - 1)\n",
    "            negative = df_negative.iloc[r]\n",
    "    return negative"
   ]
  },
  {
   "cell_type": "code",
   "execution_count": 74,
   "id": "397c761c",
   "metadata": {},
   "outputs": [
    {
     "data": {
      "text/plain": [
       "'1TOU_B1V'"
      ]
     },
     "execution_count": 74,
     "metadata": {},
     "output_type": "execute_result"
    }
   ],
   "source": [
    "neg = find_negative(df_positive.iloc[1])\n",
    "neg.docked"
   ]
  },
  {
   "cell_type": "code",
   "execution_count": 89,
   "id": "e92fd04a",
   "metadata": {},
   "outputs": [
    {
     "data": {
      "text/plain": [
       "index         0\n",
       "template    ddf\n",
       "rmsd        0.1\n",
       "Name: 0, dtype: object"
      ]
     },
     "execution_count": 89,
     "metadata": {},
     "output_type": "execute_result"
    }
   ],
   "source": [
    "test = pd.DataFrame({'template': ['ddf', 'rdsf'], 'rmsd': [0.2, 2]})\n",
    "test2 = pd.DataFrame({'template': ['ddf', 'rdsf'], 'rmsd': [0.1, 2.2]})\n",
    "test_random = find_negative(test.iloc[0], df_positive=test2, df_negative=test2)\n",
    "test_random"
   ]
  },
  {
   "cell_type": "markdown",
   "id": "73b315f2",
   "metadata": {},
   "source": [
    "### Finds a negative input where rmsd between template and docked is higher than in the positive input, now ready to create train and validation sets"
   ]
  },
  {
   "cell_type": "code",
   "execution_count": 30,
   "id": "3ff4e4a5",
   "metadata": {},
   "outputs": [
    {
     "data": {
      "text/html": [
       "<div>\n",
       "<style scoped>\n",
       "    .dataframe tbody tr th:only-of-type {\n",
       "        vertical-align: middle;\n",
       "    }\n",
       "\n",
       "    .dataframe tbody tr th {\n",
       "        vertical-align: top;\n",
       "    }\n",
       "\n",
       "    .dataframe thead th {\n",
       "        text-align: right;\n",
       "    }\n",
       "</style>\n",
       "<table border=\"1\" class=\"dataframe\">\n",
       "  <thead>\n",
       "    <tr style=\"text-align: right;\">\n",
       "      <th></th>\n",
       "      <th>index</th>\n",
       "      <th>template</th>\n",
       "      <th>docked</th>\n",
       "      <th>rmsd</th>\n",
       "      <th>uniprot_id</th>\n",
       "      <th>smiles_template</th>\n",
       "      <th>smiles_docked</th>\n",
       "      <th>mcs_smartsString</th>\n",
       "      <th>template_HeavyAtomCount</th>\n",
       "      <th>template_NHOHCount</th>\n",
       "      <th>...</th>\n",
       "      <th>ec_tanimoto_similarity</th>\n",
       "      <th>fc_tanimoto_similarity</th>\n",
       "      <th>log_RMSD</th>\n",
       "      <th>bin_RMSD</th>\n",
       "      <th>Xtransf_ec_tanimoto_similarity</th>\n",
       "      <th>Xtransf_fc_tanimoto_similarity</th>\n",
       "      <th>img_temp</th>\n",
       "      <th>img_docked</th>\n",
       "      <th>is_valid</th>\n",
       "      <th>negative</th>\n",
       "    </tr>\n",
       "  </thead>\n",
       "  <tbody>\n",
       "    <tr>\n",
       "      <th>0</th>\n",
       "      <td>1</td>\n",
       "      <td>2JH5_895</td>\n",
       "      <td>1C5O_BAM</td>\n",
       "      <td>3.209</td>\n",
       "      <td>P00734</td>\n",
       "      <td>C[C@@H](C(=O)N1CCOCC1)N1CC[C@H](NS(=O)(=O)/C=C...</td>\n",
       "      <td>NC(=[NH2+])c1ccccc1</td>\n",
       "      <td>[#7]-[#6]-[#6]:,-[#6]:,-[#6]</td>\n",
       "      <td>28</td>\n",
       "      <td>1</td>\n",
       "      <td>...</td>\n",
       "      <td>0.050847</td>\n",
       "      <td>0.059829</td>\n",
       "      <td>1.165959</td>\n",
       "      <td>3</td>\n",
       "      <td>-1.491525</td>\n",
       "      <td>-2.401709</td>\n",
       "      <td>2JH5_895.png</td>\n",
       "      <td>1C5O_BAM.png</td>\n",
       "      <td>False</td>\n",
       "      <td>3SI3_B03</td>\n",
       "    </tr>\n",
       "    <tr>\n",
       "      <th>1</th>\n",
       "      <td>2</td>\n",
       "      <td>5Y12_8JX</td>\n",
       "      <td>1TOW_CRZ</td>\n",
       "      <td>1.769</td>\n",
       "      <td>P15090</td>\n",
       "      <td>COc1ccc(S(=O)(=O)NCCCCC(=O)O)c2ccccc12</td>\n",
       "      <td>O=C(O)CCCn1c2ccccc2c2ccccc21</td>\n",
       "      <td>[#6]1:[#6]:[#6]:[#6]:[#6]:[#6]:1:[#6]:[#6]:[#6...</td>\n",
       "      <td>23</td>\n",
       "      <td>2</td>\n",
       "      <td>...</td>\n",
       "      <td>0.324561</td>\n",
       "      <td>0.324561</td>\n",
       "      <td>0.570414</td>\n",
       "      <td>1</td>\n",
       "      <td>1.245614</td>\n",
       "      <td>0.245614</td>\n",
       "      <td>5Y12_8JX.png</td>\n",
       "      <td>1TOW_CRZ.png</td>\n",
       "      <td>False</td>\n",
       "      <td>1TOU_B1V</td>\n",
       "    </tr>\n",
       "    <tr>\n",
       "      <th>2</th>\n",
       "      <td>3</td>\n",
       "      <td>1C1U_BAI</td>\n",
       "      <td>5AHG_Y4L</td>\n",
       "      <td>3.943</td>\n",
       "      <td>P00734</td>\n",
       "      <td>N=C(N)c1ccc2[nH]c(Cc3nc4ccccc4[nH]3)nc2c1</td>\n",
       "      <td>CN(C)S(=O)(=O)Nc1ccc(Cl)cc1</td>\n",
       "      <td>[#7]-,:[#6]1:[#6]:[#6]:[#6]:[#6]:[#6]:1</td>\n",
       "      <td>22</td>\n",
       "      <td>5</td>\n",
       "      <td>...</td>\n",
       "      <td>0.086957</td>\n",
       "      <td>0.106195</td>\n",
       "      <td>1.371942</td>\n",
       "      <td>3</td>\n",
       "      <td>-1.130435</td>\n",
       "      <td>-1.938053</td>\n",
       "      <td>1C1U_BAI.png</td>\n",
       "      <td>5AHG_Y4L.png</td>\n",
       "      <td>False</td>\n",
       "      <td>2C8Z_C2A</td>\n",
       "    </tr>\n",
       "    <tr>\n",
       "      <th>3</th>\n",
       "      <td>12</td>\n",
       "      <td>1IEI_ZES</td>\n",
       "      <td>4LAZ_1WW</td>\n",
       "      <td>1.538</td>\n",
       "      <td>P15121</td>\n",
       "      <td>O=C(O)Cn1c(=O)n(Cc2ccc(Br)cc2F)c(=O)c2ccc(Cl)cc21</td>\n",
       "      <td>O=C(O)COc1cc(Cl)ccc1C(=O)NCc1ccc(I)cc1</td>\n",
       "      <td>[#6]1:[#6]:[#6](-[#17]):[#6]:[#6]:[#6]:1-,:[#6...</td>\n",
       "      <td>26</td>\n",
       "      <td>1</td>\n",
       "      <td>...</td>\n",
       "      <td>0.218978</td>\n",
       "      <td>0.325397</td>\n",
       "      <td>0.430483</td>\n",
       "      <td>1</td>\n",
       "      <td>0.189781</td>\n",
       "      <td>0.253968</td>\n",
       "      <td>1IEI_ZES.png</td>\n",
       "      <td>4LAZ_1WW.png</td>\n",
       "      <td>False</td>\n",
       "      <td>1EL3_I84</td>\n",
       "    </tr>\n",
       "    <tr>\n",
       "      <th>4</th>\n",
       "      <td>13</td>\n",
       "      <td>5HZ6_65Y</td>\n",
       "      <td>5Y12_8JX</td>\n",
       "      <td>3.686</td>\n",
       "      <td>P15090</td>\n",
       "      <td>CC(C)c1cccc(-c2c(C(=O)O)c(C(C)C)nc3ccc(Cl)cc23)c1</td>\n",
       "      <td>COc1ccc(S(=O)(=O)NCCCCC(=O)O)c2ccccc12</td>\n",
       "      <td>[#8]-[#6]:,-[#6]:[#6]:,-[#6]:[#6]:[#6]:[#6]:[#...</td>\n",
       "      <td>26</td>\n",
       "      <td>1</td>\n",
       "      <td>...</td>\n",
       "      <td>0.151724</td>\n",
       "      <td>0.227941</td>\n",
       "      <td>1.304542</td>\n",
       "      <td>3</td>\n",
       "      <td>-0.482759</td>\n",
       "      <td>-0.720588</td>\n",
       "      <td>5HZ6_65Y.png</td>\n",
       "      <td>5Y12_8JX.png</td>\n",
       "      <td>False</td>\n",
       "      <td>5Y0X_8JR</td>\n",
       "    </tr>\n",
       "  </tbody>\n",
       "</table>\n",
       "<p>5 rows × 46 columns</p>\n",
       "</div>"
      ],
      "text/plain": [
       "   index  template    docked   rmsd uniprot_id  \\\n",
       "0      1  2JH5_895  1C5O_BAM  3.209     P00734   \n",
       "1      2  5Y12_8JX  1TOW_CRZ  1.769     P15090   \n",
       "2      3  1C1U_BAI  5AHG_Y4L  3.943     P00734   \n",
       "3     12  1IEI_ZES  4LAZ_1WW  1.538     P15121   \n",
       "4     13  5HZ6_65Y  5Y12_8JX  3.686     P15090   \n",
       "\n",
       "                                     smiles_template  \\\n",
       "0  C[C@@H](C(=O)N1CCOCC1)N1CC[C@H](NS(=O)(=O)/C=C...   \n",
       "1             COc1ccc(S(=O)(=O)NCCCCC(=O)O)c2ccccc12   \n",
       "2          N=C(N)c1ccc2[nH]c(Cc3nc4ccccc4[nH]3)nc2c1   \n",
       "3  O=C(O)Cn1c(=O)n(Cc2ccc(Br)cc2F)c(=O)c2ccc(Cl)cc21   \n",
       "4  CC(C)c1cccc(-c2c(C(=O)O)c(C(C)C)nc3ccc(Cl)cc23)c1   \n",
       "\n",
       "                            smiles_docked  \\\n",
       "0                     NC(=[NH2+])c1ccccc1   \n",
       "1            O=C(O)CCCn1c2ccccc2c2ccccc21   \n",
       "2             CN(C)S(=O)(=O)Nc1ccc(Cl)cc1   \n",
       "3  O=C(O)COc1cc(Cl)ccc1C(=O)NCc1ccc(I)cc1   \n",
       "4  COc1ccc(S(=O)(=O)NCCCCC(=O)O)c2ccccc12   \n",
       "\n",
       "                                    mcs_smartsString  template_HeavyAtomCount  \\\n",
       "0                       [#7]-[#6]-[#6]:,-[#6]:,-[#6]                       28   \n",
       "1  [#6]1:[#6]:[#6]:[#6]:[#6]:[#6]:1:[#6]:[#6]:[#6...                       23   \n",
       "2            [#7]-,:[#6]1:[#6]:[#6]:[#6]:[#6]:[#6]:1                       22   \n",
       "3  [#6]1:[#6]:[#6](-[#17]):[#6]:[#6]:[#6]:1-,:[#6...                       26   \n",
       "4  [#8]-[#6]:,-[#6]:[#6]:,-[#6]:[#6]:[#6]:[#6]:[#...                       26   \n",
       "\n",
       "   template_NHOHCount  ...  ec_tanimoto_similarity  fc_tanimoto_similarity  \\\n",
       "0                   1  ...                0.050847                0.059829   \n",
       "1                   2  ...                0.324561                0.324561   \n",
       "2                   5  ...                0.086957                0.106195   \n",
       "3                   1  ...                0.218978                0.325397   \n",
       "4                   1  ...                0.151724                0.227941   \n",
       "\n",
       "   log_RMSD  bin_RMSD  Xtransf_ec_tanimoto_similarity  \\\n",
       "0  1.165959         3                       -1.491525   \n",
       "1  0.570414         1                        1.245614   \n",
       "2  1.371942         3                       -1.130435   \n",
       "3  0.430483         1                        0.189781   \n",
       "4  1.304542         3                       -0.482759   \n",
       "\n",
       "   Xtransf_fc_tanimoto_similarity      img_temp    img_docked  is_valid  \\\n",
       "0                       -2.401709  2JH5_895.png  1C5O_BAM.png     False   \n",
       "1                        0.245614  5Y12_8JX.png  1TOW_CRZ.png     False   \n",
       "2                       -1.938053  1C1U_BAI.png  5AHG_Y4L.png     False   \n",
       "3                        0.253968  1IEI_ZES.png  4LAZ_1WW.png     False   \n",
       "4                       -0.720588  5HZ6_65Y.png  5Y12_8JX.png     False   \n",
       "\n",
       "   negative  \n",
       "0  3SI3_B03  \n",
       "1  1TOU_B1V  \n",
       "2  2C8Z_C2A  \n",
       "3  1EL3_I84  \n",
       "4  5Y0X_8JR  \n",
       "\n",
       "[5 rows x 46 columns]"
      ]
     },
     "execution_count": 30,
     "metadata": {},
     "output_type": "execute_result"
    }
   ],
   "source": [
    "df_positive['negative'] = [find_negative(r).docked for i, r in df_positive.iterrows()]\n",
    "df_positive.head()"
   ]
  },
  {
   "cell_type": "code",
   "execution_count": 31,
   "id": "3d31c0f4",
   "metadata": {},
   "outputs": [
    {
     "data": {
      "text/plain": [
       "788"
      ]
     },
     "execution_count": 31,
     "metadata": {},
     "output_type": "execute_result"
    }
   ],
   "source": [
    "df_positive['negative'].nunique()"
   ]
  },
  {
   "cell_type": "code",
   "execution_count": 32,
   "id": "522f7073",
   "metadata": {},
   "outputs": [],
   "source": [
    "df_positive['img_negative'] = df_positive['negative'] + '.png'"
   ]
  },
  {
   "cell_type": "code",
   "execution_count": 33,
   "id": "7e0f674e",
   "metadata": {},
   "outputs": [],
   "source": [
    "df = df_positive"
   ]
  },
  {
   "cell_type": "code",
   "execution_count": 34,
   "id": "b44cd536",
   "metadata": {},
   "outputs": [
    {
     "data": {
      "text/plain": [
       "9451"
      ]
     },
     "execution_count": 34,
     "metadata": {},
     "output_type": "execute_result"
    }
   ],
   "source": [
    "len(df)"
   ]
  },
  {
   "cell_type": "code",
   "execution_count": 35,
   "id": "b6922b90",
   "metadata": {},
   "outputs": [],
   "source": [
    "anchor_images = [r.img_temp for i, r in df.iterrows()]"
   ]
  },
  {
   "cell_type": "code",
   "execution_count": 36,
   "id": "d139b148",
   "metadata": {},
   "outputs": [],
   "source": [
    "positive_images = [r.img_docked for i, r in df.iterrows()]"
   ]
  },
  {
   "cell_type": "code",
   "execution_count": 37,
   "id": "ed822ad6",
   "metadata": {},
   "outputs": [],
   "source": [
    "negative_images = [r.img_negative for i, r in df.iterrows()]"
   ]
  },
  {
   "cell_type": "code",
   "execution_count": 38,
   "id": "aecee4fd",
   "metadata": {},
   "outputs": [
    {
     "data": {
      "text/plain": [
       "(9451, 9451, 9451)"
      ]
     },
     "execution_count": 38,
     "metadata": {},
     "output_type": "execute_result"
    }
   ],
   "source": [
    "len(anchor_images), len(positive_images), len(negative_images)"
   ]
  },
  {
   "cell_type": "code",
   "execution_count": 39,
   "id": "116b5c32",
   "metadata": {},
   "outputs": [
    {
     "data": {
      "text/plain": [
       "9451"
      ]
     },
     "execution_count": 39,
     "metadata": {},
     "output_type": "execute_result"
    }
   ],
   "source": [
    "image_count = len(anchor_images)\n",
    "image_count"
   ]
  },
  {
   "cell_type": "code",
   "execution_count": 40,
   "id": "3917c506",
   "metadata": {},
   "outputs": [],
   "source": [
    "anchor_dataset = tf.data.Dataset.from_tensor_slices(anchor_images)\n",
    "positive_dataset = tf.data.Dataset.from_tensor_slices(positive_images)\n",
    "negative_dataset = tf.data.Dataset.from_tensor_slices(negative_images)"
   ]
  },
  {
   "cell_type": "code",
   "execution_count": 42,
   "id": "6cee0ffa",
   "metadata": {},
   "outputs": [
    {
     "data": {
      "text/plain": [
       "<ZipDataset shapes: ((), (), ()), types: (tf.string, tf.string, tf.string)>"
      ]
     },
     "execution_count": 42,
     "metadata": {},
     "output_type": "execute_result"
    }
   ],
   "source": [
    "dataset = tf.data.Dataset.zip((anchor_dataset, positive_dataset, negative_dataset))\n",
    "#train_dataset = tf.data.Dataset.zip((train_dataset, negative_dataset))\n",
    "#valid_dataset = tf.data.Dataset.zip((val_anchor_dataset, val_positive_dataset, val_negative_dataset))\n",
    "#valid_dataset = tf.data.Dataset.zip((valid_dataset, val_negative_dataset))\n",
    "dataset"
   ]
  },
  {
   "cell_type": "code",
   "execution_count": 43,
   "id": "c5504d23",
   "metadata": {},
   "outputs": [
    {
     "data": {
      "text/plain": [
       "<MapDataset shapes: ((224, 224, 3), (224, 224, 3), (224, 224, 3)), types: (tf.float32, tf.float32, tf.float32)>"
      ]
     },
     "execution_count": 43,
     "metadata": {},
     "output_type": "execute_result"
    }
   ],
   "source": [
    "dataset = dataset.map(preprocess_triplets)\n",
    "dataset"
   ]
  },
  {
   "cell_type": "code",
   "execution_count": 44,
   "id": "de7ebcb3",
   "metadata": {},
   "outputs": [],
   "source": [
    "# Let's now split our dataset in train and validation.\n",
    "train_dataset = dataset.take(round(image_count * 0.8))\n",
    "val_dataset = dataset.skip(round(image_count * 0.8))"
   ]
  },
  {
   "cell_type": "code",
   "execution_count": 45,
   "id": "125c0a00",
   "metadata": {},
   "outputs": [
    {
     "data": {
      "text/plain": [
       "<PrefetchDataset shapes: ((32, 224, 224, 3), (32, 224, 224, 3), (32, 224, 224, 3)), types: (tf.float32, tf.float32, tf.float32)>"
      ]
     },
     "execution_count": 45,
     "metadata": {},
     "output_type": "execute_result"
    }
   ],
   "source": [
    "train_dl = train_dataset.batch(32, drop_remainder=True)\n",
    "train_dl = train_dl.prefetch(8)\n",
    "train_dl"
   ]
  },
  {
   "cell_type": "code",
   "execution_count": 46,
   "id": "57f30d7b",
   "metadata": {},
   "outputs": [
    {
     "data": {
      "text/plain": [
       "<PrefetchDataset shapes: ((32, 224, 224, 3), (32, 224, 224, 3), (32, 224, 224, 3)), types: (tf.float32, tf.float32, tf.float32)>"
      ]
     },
     "execution_count": 46,
     "metadata": {},
     "output_type": "execute_result"
    }
   ],
   "source": [
    "val_dl = val_dataset.batch(32, drop_remainder=True)\n",
    "val_dl = val_dl.prefetch(8)\n",
    "val_dl"
   ]
  },
  {
   "cell_type": "code",
   "execution_count": 47,
   "id": "6585724f",
   "metadata": {},
   "outputs": [
    {
     "name": "stderr",
     "output_type": "stream",
     "text": [
      "2021-11-29 15:05:16.302215: I tensorflow/compiler/mlir/mlir_graph_optimization_pass.cc:116] None of the MLIR optimization passes are enabled (registered 2)\n",
      "2021-11-29 15:05:16.324507: I tensorflow/core/platform/profile_utils/cpu_utils.cc:112] CPU Frequency: 3999980000 Hz\n"
     ]
    },
    {
     "data": {
      "image/png": "[encoded data removed]",
      "text/plain": [
       "<Figure size 648x648 with 12 Axes>"
      ]
     },
     "metadata": {
      "needs_background": "light"
     },
     "output_type": "display_data"
    }
   ],
   "source": [
    "def visualize(anchor, positive, negative):\n",
    "    \"\"\"Visualize a few triplets from the supplied batches.\"\"\"\n",
    "\n",
    "    def show(ax, image):\n",
    "        ax.imshow(image)\n",
    "        ax.get_xaxis().set_visible(False)\n",
    "        ax.get_yaxis().set_visible(False)\n",
    "    \n",
    "\n",
    "    fig = plt.figure(figsize=(9, 9))\n",
    "\n",
    "    axs = fig.subplots(4, 3)\n",
    "    for i in range(0, 4, 2):\n",
    "        show(axs[i, 0], anchor[i])\n",
    "        show(axs[i + 1, 0], anchor[i])\n",
    "        show(axs[i, 1], positive[i])\n",
    "        show(axs[i + 1, 1], negative[i])\n",
    "        ap_distance = tf.reduce_sum(tf.square(anchor[i] - positive[i]), -1)\n",
    "        an_distance = tf.reduce_sum(tf.square(anchor[i] - negative[i]), -1)\n",
    "        show(axs[i, 2], ap_distance)\n",
    "        show(axs[i + 1, 2], an_distance)\n",
    "        loss = ap_distance - an_distance\n",
    "        loss = tf.maximum(loss, 0.0)\n",
    "    \n",
    "\n",
    "\n",
    "visualize(*list(val_dl.take(1).as_numpy_iterator())[0])"
   ]
  },
  {
   "cell_type": "markdown",
   "id": "cbb7e500",
   "metadata": {},
   "source": [
    "# Create Siamese net with keras"
   ]
  },
  {
   "cell_type": "code",
   "execution_count": 48,
   "id": "0f36080c",
   "metadata": {},
   "outputs": [],
   "source": [
    "base_cnn = resnet.ResNet50(\n",
    "    weights=\"imagenet\", input_shape=target_shape +  (3,), include_top=False\n",
    ")\n",
    "\n",
    "flatten = layers.Flatten()(base_cnn.output)\n",
    "dense1 = layers.Dense(512, activation=\"relu\")(flatten)\n",
    "dense1 = layers.BatchNormalization()(dense1)\n",
    "dense2 = layers.Dense(256, activation=\"relu\")(dense1)\n",
    "dense2 = layers.BatchNormalization()(dense2)\n",
    "output = layers.Dense(256)(dense2)\n",
    "\n",
    "embedding = Model(base_cnn.input, output, name=\"Embedding\")\n",
    "\n",
    "trainable = False\n",
    "for layer in base_cnn.layers:\n",
    "    if layer.name == \"conv5_block1_out\":\n",
    "        trainable = True\n",
    "    layer.trainable = trainable\n"
   ]
  },
  {
   "cell_type": "code",
   "execution_count": 49,
   "id": "e04f2720",
   "metadata": {},
   "outputs": [
    {
     "name": "stdout",
     "output_type": "stream",
     "text": [
      "Model: \"model\"\n",
      "__________________________________________________________________________________________________\n",
      "Layer (type)                    Output Shape         Param #     Connected to                     \n",
      "==================================================================================================\n",
      "anchor (InputLayer)             [(None, 224, 224, 3) 0                                            \n",
      "__________________________________________________________________________________________________\n",
      "positive (InputLayer)           [(None, 224, 224, 3) 0                                            \n",
      "__________________________________________________________________________________________________\n",
      "negative (InputLayer)           [(None, 224, 224, 3) 0                                            \n",
      "__________________________________________________________________________________________________\n",
      "tf.__operators__.getitem (Slici (None, 224, 224, 3)  0           anchor[0][0]                     \n",
      "__________________________________________________________________________________________________\n",
      "tf.__operators__.getitem_1 (Sli (None, 224, 224, 3)  0           positive[0][0]                   \n",
      "__________________________________________________________________________________________________\n",
      "tf.__operators__.getitem_2 (Sli (None, 224, 224, 3)  0           negative[0][0]                   \n",
      "__________________________________________________________________________________________________\n",
      "tf.nn.bias_add (TFOpLambda)     (None, 224, 224, 3)  0           tf.__operators__.getitem[0][0]   \n",
      "__________________________________________________________________________________________________\n",
      "tf.nn.bias_add_1 (TFOpLambda)   (None, 224, 224, 3)  0           tf.__operators__.getitem_1[0][0] \n",
      "__________________________________________________________________________________________________\n",
      "tf.nn.bias_add_2 (TFOpLambda)   (None, 224, 224, 3)  0           tf.__operators__.getitem_2[0][0] \n",
      "__________________________________________________________________________________________________\n",
      "Embedding (Functional)          (None, 256)          75168640    tf.nn.bias_add[0][0]             \n",
      "                                                                 tf.nn.bias_add_1[0][0]           \n",
      "                                                                 tf.nn.bias_add_2[0][0]           \n",
      "__________________________________________________________________________________________________\n",
      "distance_layer (DistanceLayer)  ((None,), (None,))   0           Embedding[0][0]                  \n",
      "                                                                 Embedding[1][0]                  \n",
      "                                                                 Embedding[2][0]                  \n",
      "==================================================================================================\n",
      "Total params: 75,168,640\n",
      "Trainable params: 60,510,720\n",
      "Non-trainable params: 14,657,920\n",
      "__________________________________________________________________________________________________\n"
     ]
    }
   ],
   "source": [
    "class DistanceLayer(layers.Layer):\n",
    "    \"\"\"\n",
    "    This layer is responsible for computing the distance between the anchor\n",
    "    embedding and the positive embedding, and the anchor embedding and the\n",
    "    negative embedding.\n",
    "    \"\"\"\n",
    "\n",
    "    def __init__(self, **kwargs):\n",
    "        super().__init__(**kwargs)\n",
    "\n",
    "    def call(self, anchor, positive, negative):\n",
    "        ap_distance = tf.reduce_sum(tf.square(anchor - positive), -1)\n",
    "        an_distance = tf.reduce_sum(tf.square(anchor - negative), -1)\n",
    "        return (ap_distance, an_distance)\n",
    "\n",
    "\n",
    "anchor_input = layers.Input(name=\"anchor\", shape=target_shape + (3,))\n",
    "positive_input = layers.Input(name=\"positive\", shape=target_shape + (3,))\n",
    "negative_input = layers.Input(name=\"negative\", shape=target_shape + (3,))\n",
    "\n",
    "distances = DistanceLayer()(\n",
    "    embedding(resnet.preprocess_input(anchor_input)),\n",
    "    embedding(resnet.preprocess_input(positive_input)),\n",
    "    embedding(resnet.preprocess_input(negative_input)),\n",
    ")\n",
    "\n",
    "siamese_network = Model(\n",
    "    inputs=[anchor_input, positive_input, negative_input], outputs=distances\n",
    ")\n",
    "\n",
    "siamese_network.summary()"
   ]
  },
  {
   "cell_type": "code",
   "execution_count": 50,
   "id": "61943aca",
   "metadata": {},
   "outputs": [],
   "source": [
    "class SiameseModel(Model):\n",
    "    \"\"\"The Siamese Network model with a custom training and testing loops.\n",
    "\n",
    "    Computes the triplet loss using the three embeddings produced by the\n",
    "    Siamese Network.\n",
    "\n",
    "    The triplet loss is defined as:\n",
    "       L(A, P, N) = max(‖f(A) - f(P)‖² - ‖f(A) - f(N)‖² + margin, 0)\n",
    "    \"\"\"\n",
    "\n",
    "    def __init__(self, siamese_network, margin=0.5):\n",
    "        super(SiameseModel, self).__init__()\n",
    "        self.siamese_network = siamese_network\n",
    "        self.margin = margin\n",
    "        self.loss_tracker = metrics.Mean(name=\"loss\")\n",
    "\n",
    "    def call(self, inputs):\n",
    "        return self.siamese_network(inputs)\n",
    "\n",
    "    def train_step(self, data):\n",
    "        # GradientTape is a context manager that records every operation that\n",
    "        # you do inside. We are using it here to compute the loss so we can get\n",
    "        # the gradients and apply them using the optimizer specified in\n",
    "        # `compile()`.\n",
    "        with tf.GradientTape() as tape:\n",
    "            loss = self._compute_loss(data)\n",
    "\n",
    "        # Storing the gradients of the loss function with respect to the\n",
    "        # weights/parameters.\n",
    "        gradients = tape.gradient(loss, self.siamese_network.trainable_weights)\n",
    "\n",
    "        # Applying the gradients on the model using the specified optimizer\n",
    "        self.optimizer.apply_gradients(\n",
    "            zip(gradients, self.siamese_network.trainable_weights)\n",
    "        )\n",
    "\n",
    "        # Let's update and return the training loss metric.\n",
    "        self.loss_tracker.update_state(loss)\n",
    "        return {\"loss\": self.loss_tracker.result()}\n",
    "\n",
    "    def test_step(self, data):\n",
    "        loss = self._compute_loss(data)\n",
    "\n",
    "        # Let's update and return the loss metric.\n",
    "        self.loss_tracker.update_state(loss)\n",
    "        return {\"loss\": self.loss_tracker.result()}\n",
    "\n",
    "    def _compute_loss(self, data):\n",
    "        # The output of the network is a tuple containing the distances\n",
    "        # between the anchor and the positive example, and the anchor and\n",
    "        # the negative example.\n",
    "        ap_distance, an_distance = self.siamese_network(data)\n",
    "\n",
    "        # Computing the Triplet Loss by subtracting both distances and\n",
    "        # making sure we don't get a negative value.\n",
    "        loss = ap_distance - an_distance\n",
    "        loss = tf.maximum(loss + self.margin, 0.0)\n",
    "        return loss\n",
    "\n",
    "    @property\n",
    "    def metrics(self):\n",
    "        # We need to list our metrics here so the `reset_states()` can be\n",
    "        # called automatically.\n",
    "        return [self.loss_tracker]\n"
   ]
  },
  {
   "cell_type": "code",
   "execution_count": 51,
   "id": "0a8a34d3",
   "metadata": {},
   "outputs": [],
   "source": [
    "siamese_model = SiameseModel(siamese_network)\n",
    "siamese_model.compile(optimizer=optimizers.Adam(0.0001))"
   ]
  },
  {
   "cell_type": "code",
   "execution_count": 52,
   "id": "feedff4e",
   "metadata": {},
   "outputs": [
    {
     "name": "stdout",
     "output_type": "stream",
     "text": [
      "[name: \"/device:CPU:0\"\n",
      "device_type: \"CPU\"\n",
      "memory_limit: 268435456\n",
      "locality {\n",
      "}\n",
      "incarnation: 6047628328865610886\n",
      ", name: \"/device:GPU:0\"\n",
      "device_type: \"GPU\"\n",
      "memory_limit: 7227608928\n",
      "locality {\n",
      "  bus_id: 1\n",
      "  links {\n",
      "  }\n",
      "}\n",
      "incarnation: 7222965245211249591\n",
      "physical_device_desc: \"device: 0, name: GeForce GTX 1080, pci bus id: 0000:01:00.0, compute capability: 6.1\"\n",
      "]\n"
     ]
    },
    {
     "name": "stderr",
     "output_type": "stream",
     "text": [
      "2021-11-29 15:05:33.715856: I tensorflow/stream_executor/cuda/cuda_gpu_executor.cc:941] successful NUMA node read from SysFS had negative value (-1), but there must be at least one NUMA node, so returning NUMA node zero\n",
      "2021-11-29 15:05:33.716044: I tensorflow/core/common_runtime/gpu/gpu_device.cc:1720] Found device 0 with properties: \n",
      "pciBusID: 0000:01:00.0 name: GeForce GTX 1080 computeCapability: 6.1\n",
      "coreClock: 1.8225GHz coreCount: 20 deviceMemorySize: 7.93GiB deviceMemoryBandwidth: 298.32GiB/s\n",
      "2021-11-29 15:05:33.716079: I tensorflow/stream_executor/platform/default/dso_loader.cc:49] Successfully opened dynamic library libcudart.so.10.1\n",
      "2021-11-29 15:05:33.716097: I tensorflow/stream_executor/platform/default/dso_loader.cc:49] Successfully opened dynamic library libcublas.so.10\n",
      "2021-11-29 15:05:33.716108: I tensorflow/stream_executor/platform/default/dso_loader.cc:49] Successfully opened dynamic library libcublasLt.so.10\n",
      "2021-11-29 15:05:33.716118: I tensorflow/stream_executor/platform/default/dso_loader.cc:49] Successfully opened dynamic library libcufft.so.10\n",
      "2021-11-29 15:05:33.716128: I tensorflow/stream_executor/platform/default/dso_loader.cc:49] Successfully opened dynamic library libcurand.so.10\n",
      "2021-11-29 15:05:33.716137: I tensorflow/stream_executor/platform/default/dso_loader.cc:49] Successfully opened dynamic library libcusolver.so.10\n",
      "2021-11-29 15:05:33.716147: I tensorflow/stream_executor/platform/default/dso_loader.cc:49] Successfully opened dynamic library libcusparse.so.10\n",
      "2021-11-29 15:05:33.716157: I tensorflow/stream_executor/platform/default/dso_loader.cc:49] Successfully opened dynamic library libcudnn.so.7\n",
      "2021-11-29 15:05:33.716211: I tensorflow/stream_executor/cuda/cuda_gpu_executor.cc:941] successful NUMA node read from SysFS had negative value (-1), but there must be at least one NUMA node, so returning NUMA node zero\n",
      "2021-11-29 15:05:33.716387: I tensorflow/stream_executor/cuda/cuda_gpu_executor.cc:941] successful NUMA node read from SysFS had negative value (-1), but there must be at least one NUMA node, so returning NUMA node zero\n",
      "2021-11-29 15:05:33.716555: I tensorflow/core/common_runtime/gpu/gpu_device.cc:1862] Adding visible gpu devices: 0\n",
      "2021-11-29 15:05:33.716578: I tensorflow/core/common_runtime/gpu/gpu_device.cc:1261] Device interconnect StreamExecutor with strength 1 edge matrix:\n",
      "2021-11-29 15:05:33.716582: I tensorflow/core/common_runtime/gpu/gpu_device.cc:1267]      0 \n",
      "2021-11-29 15:05:33.716586: I tensorflow/core/common_runtime/gpu/gpu_device.cc:1280] 0:   N \n",
      "2021-11-29 15:05:33.716647: I tensorflow/stream_executor/cuda/cuda_gpu_executor.cc:941] successful NUMA node read from SysFS had negative value (-1), but there must be at least one NUMA node, so returning NUMA node zero\n",
      "2021-11-29 15:05:33.716809: I tensorflow/stream_executor/cuda/cuda_gpu_executor.cc:941] successful NUMA node read from SysFS had negative value (-1), but there must be at least one NUMA node, so returning NUMA node zero\n",
      "2021-11-29 15:05:33.716942: I tensorflow/core/common_runtime/gpu/gpu_device.cc:1406] Created TensorFlow device (/device:GPU:0 with 6892 MB memory) -> physical GPU (device: 0, name: GeForce GTX 1080, pci bus id: 0000:01:00.0, compute capability: 6.1)\n",
      "2021-11-29 15:05:33.716955: I tensorflow/compiler/jit/xla_gpu_device.cc:99] Not creating XLA devices, tf_xla_enable_xla_devices not set\n"
     ]
    }
   ],
   "source": [
    "from tensorflow.python.client import device_lib\n",
    "print(device_lib.list_local_devices())"
   ]
  },
  {
   "cell_type": "code",
   "execution_count": 53,
   "id": "6bb3456d",
   "metadata": {
    "scrolled": true
   },
   "outputs": [
    {
     "name": "stdout",
     "output_type": "stream",
     "text": [
      "Epoch 1/10\n"
     ]
    },
    {
     "name": "stderr",
     "output_type": "stream",
     "text": [
      "2021-11-29 15:05:38.043197: I tensorflow/stream_executor/platform/default/dso_loader.cc:49] Successfully opened dynamic library libcublas.so.10\n",
      "2021-11-29 15:05:38.187702: I tensorflow/stream_executor/platform/default/dso_loader.cc:49] Successfully opened dynamic library libcudnn.so.7\n",
      "2021-11-29 15:05:38.652492: W tensorflow/stream_executor/gpu/asm_compiler.cc:63] Running ptxas --version returned 256\n",
      "2021-11-29 15:05:38.696626: W tensorflow/stream_executor/gpu/redzone_allocator.cc:314] Internal: ptxas exited with non-zero error code 256, output: \n",
      "Relying on driver to perform ptx compilation. \n",
      "Modify $PATH to customize ptxas location.\n",
      "This message will be only logged once.\n",
      "2021-11-29 15:06:02.029050: W tensorflow/core/common_runtime/bfc_allocator.cc:248] Allocator (GPU_0_bfc) ran out of memory trying to allocate 2.30GiB with freed_by_count=0. The caller indicates that this is not a failure, but may mean that there could be performance gains if more memory were available.\n",
      "2021-11-29 15:06:03.311960: W tensorflow/core/common_runtime/bfc_allocator.cc:248] Allocator (GPU_0_bfc) ran out of memory trying to allocate 2.41GiB with freed_by_count=0. The caller indicates that this is not a failure, but may mean that there could be performance gains if more memory were available.\n"
     ]
    },
    {
     "name": "stdout",
     "output_type": "stream",
     "text": [
      "236/236 [==============================] - 116s 357ms/step - loss: 0.3605 - val_loss: 0.2922\n",
      "Epoch 2/10\n",
      "236/236 [==============================] - 83s 354ms/step - loss: 0.2505 - val_loss: 0.2623\n",
      "Epoch 3/10\n",
      "236/236 [==============================] - 84s 354ms/step - loss: 0.2118 - val_loss: 0.2551\n",
      "Epoch 4/10\n",
      "236/236 [==============================] - 83s 354ms/step - loss: 0.1784 - val_loss: 0.2466\n",
      "Epoch 5/10\n",
      "236/236 [==============================] - 84s 354ms/step - loss: 0.1501 - val_loss: 0.2505\n",
      "Epoch 6/10\n",
      "236/236 [==============================] - 84s 355ms/step - loss: 0.1402 - val_loss: 0.2391\n",
      "Epoch 7/10\n",
      "236/236 [==============================] - 84s 357ms/step - loss: 0.1250 - val_loss: 0.2279\n",
      "Epoch 8/10\n",
      "236/236 [==============================] - 85s 359ms/step - loss: 0.1115 - val_loss: 0.2208\n",
      "Epoch 9/10\n",
      "236/236 [==============================] - 84s 357ms/step - loss: 0.1049 - val_loss: 0.2349\n",
      "Epoch 10/10\n",
      "236/236 [==============================] - 84s 358ms/step - loss: 0.1030 - val_loss: 0.2487\n"
     ]
    }
   ],
   "source": [
    "model = siamese_model.fit(train_dl, validation_data=val_dl, epochs=10)"
   ]
  },
  {
   "cell_type": "code",
   "execution_count": 54,
   "id": "dd2a0520",
   "metadata": {},
   "outputs": [
    {
     "data": {
      "image/png": "[encoded data removed]",
      "text/plain": [
       "<Figure size 432x288 with 1 Axes>"
      ]
     },
     "metadata": {
      "needs_background": "light"
     },
     "output_type": "display_data"
    }
   ],
   "source": [
    "plt.plot(model.history['loss'])\n",
    "plt.plot(model.history['val_loss'])\n",
    "plt.title('model loss')\n",
    "plt.ylabel('loss')\n",
    "plt.xlabel('epoch')\n",
    "plt.legend(['train', 'val'], loc='upper left')\n",
    "plt.show()"
   ]
  },
  {
   "cell_type": "markdown",
   "id": "af5b35f6",
   "metadata": {},
   "source": [
    "### loss: 0.3275 - val_loss: 0.2190 for 1 epoch\n",
    "### loss: 0.1093 - val_loss: 0.1233 6 epochs"
   ]
  }
 ],
 "metadata": {
  "kernelspec": {
   "display_name": "Python 3 (ipykernel)",
   "language": "python",
   "name": "python3"
  },
  "language_info": {
   "codemirror_mode": {
    "name": "ipython",
    "version": 3
   },
   "file_extension": ".py",
   "mimetype": "text/x-python",
   "name": "python",
   "nbconvert_exporter": "python",
   "pygments_lexer": "ipython3",
   "version": "3.9.7"
  },
  "toc-autonumbering": false,
  "toc-showcode": true,
  "toc-showmarkdowntxt": true
 },
 "nbformat": 4,
 "nbformat_minor": 5
}
