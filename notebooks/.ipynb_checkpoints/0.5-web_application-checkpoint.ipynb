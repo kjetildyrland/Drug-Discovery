{
 "cells": [
  {
   "cell_type": "markdown",
   "id": "ac209af9",
   "metadata": {},
   "source": [
    "# Predict activation for a molecule"
   ]
  },
  {
   "cell_type": "code",
   "execution_count": 1,
   "id": "8bed2682",
   "metadata": {},
   "outputs": [],
   "source": [
    "from fastai.vision.widgets import *\n",
    "from fastai.vision.all import *\n",
    "from pathlib import Path"
   ]
  },
  {
   "cell_type": "code",
   "execution_count": 2,
   "id": "4474937e",
   "metadata": {},
   "outputs": [
    {
     "name": "stderr",
     "output_type": "stream",
     "text": [
      "RDKit WARNING: [18:29:02] Enabling RDKit 2019.09.3 jupyter extensions\n"
     ]
    }
   ],
   "source": [
    "%matplotlib inline\n",
    "import matplotlib.pyplot as plt\n",
    "import matplotlib.image as mpimg\n",
    "import sys\n",
    "import os\n",
    "sys.path.append('/usr/local/lib/python3.7/site-packages/')\n",
    "from rdkit import Chem\n",
    "from rdkit.Chem import AllChem"
   ]
  },
  {
   "cell_type": "code",
   "execution_count": 3,
   "id": "f781112b",
   "metadata": {},
   "outputs": [],
   "source": [
    "%%capture\n",
    "!pip install voila\n",
    "!jupyter serverextension enable --sys-prefix voila"
   ]
  },
  {
   "cell_type": "code",
   "execution_count": 4,
   "id": "c0df15cb",
   "metadata": {},
   "outputs": [],
   "source": [
    "datasets = ['CHEMBL205',  'CHEMBL301',  \n",
    "            'CHEMBL240', 'CHEMBL219', \n",
    "            'CHEMBL244', 'CHEMBL218',\n",
    "           'CHEMBL1978',]"
   ]
  },
  {
   "cell_type": "code",
   "execution_count": 5,
   "id": "0123f586",
   "metadata": {},
   "outputs": [],
   "source": [
    "chembl_to_dataset = {\n",
    "    \n",
    "    'CAII' : 'CHEMBL205',\n",
    "    'CDK2' : 'CHEMBL301',\n",
    "    'HERG' : 'CHEMBL240',\n",
    "    'DRD4' : 'CHEMBL219',\n",
    "    'CogX' : 'CHEMBL244',\n",
    "    'CB1' : 'CHEMBL218',\n",
    "    'CYP_19A1' : 'CHEMBL1978'}"
   ]
  },
  {
   "cell_type": "code",
   "execution_count": 6,
   "id": "fc130025",
   "metadata": {},
   "outputs": [],
   "source": [
    "models_path = Path('models/')\n",
    "btn_upload = widgets.FileUpload()\n",
    "dropdown = widgets.Dropdown(\n",
    "    options=chembl_to_dataset,\n",
    "    value=chembl_to_dataset['CAII'],\n",
    "    description='Protein:',\n",
    "    disabled=False,\n",
    ")\n",
    "out_pl = widgets.Output()\n",
    "lbl_pred = widgets.Label()\n",
    "btn_run = widgets.Button(description='Classify')"
   ]
  },
  {
   "cell_type": "code",
   "execution_count": 7,
   "id": "8c3cd545",
   "metadata": {},
   "outputs": [],
   "source": [
    "def on_click_classify(change):\n",
    "    mol = Chem.MolFromSmiles('S(=O)(=O)(N)c1cc(N/C(/S)=N\\\\c2cc(C(=O)[O-])c(cc2)C=2c3c(OC4=CC(=O)C=CC=24)cc(O)cc3)ccc1')\n",
    "    img = Chem.Draw.MolsToGridImage([mol], molsPerRow=1,subImgSize=(224,224))\n",
    "    out_pl.clear_output()\n",
    "    with out_pl: display(img.to_thumb(224,224))\n",
    "    pred,probs = 1, 0.99\n",
    "    lbl_pred.value = f'Prediction: {pred}; Probability: {probs}'\n",
    "\n",
    "btn_run.on_click(on_click_classify)"
   ]
  },
  {
   "cell_type": "code",
   "execution_count": 8,
   "id": "16a501dc",
   "metadata": {},
   "outputs": [],
   "source": [
    "def on_click_classify2(change):\n",
    "    learn_inf = load_learner(models_path/f'{dropdown.value}_cl.pkl')\n",
    "    img = PILImage.create(btn_upload.data[-1])\n",
    "    out_pl.clear_output()\n",
    "    with out_pl: display(img.to_thumb(224,224))\n",
    "    pred,pred_idx,probs = learn_inf.predict(img)\n",
    "    lbl_pred.value = f'Prediction: {pred}; Probability: {probs[pred_idx]:.04f}'\n",
    "\n",
    "#btn_run.on_click(on_click_classify)"
   ]
  },
  {
   "cell_type": "code",
   "execution_count": 9,
   "id": "4188659d",
   "metadata": {
    "scrolled": true
   },
   "outputs": [],
   "source": [
    "box_upload = VBox([widgets.Label('Select your molecule to predict!'), dropdown,\n",
    "      btn_upload, btn_run, out_pl, lbl_pred])"
   ]
  },
  {
   "cell_type": "code",
   "execution_count": 10,
   "id": "fbdf2e59",
   "metadata": {},
   "outputs": [],
   "source": [
    "from rdkit.Chem.PyMol import MolViewer\n",
    "import time"
   ]
  },
  {
   "cell_type": "code",
   "execution_count": 11,
   "id": "29b639c0",
   "metadata": {},
   "outputs": [],
   "source": [
    "out_img = widgets.Output()\n",
    "btn_run_coll = widgets.Button(description='Show collision')"
   ]
  },
  {
   "cell_type": "code",
   "execution_count": 12,
   "id": "5d67e1de",
   "metadata": {},
   "outputs": [],
   "source": [
    "s = MolViewer()\n",
    "s.LoadFile(os.path.join(os.getcwd(),'1h9n.pdb'),'1h9n')\n",
    "s.Zoom('1h9n')\n",
    "s.SetDisplayStyle('1h9n','cartoon')"
   ]
  },
  {
   "cell_type": "code",
   "execution_count": 13,
   "id": "11488624",
   "metadata": {},
   "outputs": [],
   "source": [
    "def on_click_collision(change):\n",
    "    mol = Chem.MolFromSmiles('S(=O)(=O)(N)c1cc(N/C(/S)=N\\\\c2cc(C(=O)[O-])c(cc2)C=2c3c(OC4=CC(=O)C=CC=24)cc(O)cc3)ccc1')\n",
    "    #s.LoadFile(os.path.join(os.getcwd(),'1h9n.pdb'),'1h9n')\n",
    "    #s.Zoom('1h9n')\n",
    "    #s.SetDisplayStyle('1h9n','cartoon')\n",
    "    s.ShowMol(mol, name='mol', showOnly=False)\n",
    "    s.Zoom('mol')\n",
    "    s.SetDisplayStyle('mol','sticks')\n",
    "    s.SelectProteinNeighborhood('mol','1h9n',showSurface=True)\n",
    "    s.DisplayCollisions('bumps','mol','1h9n')\n",
    "    img = s.GetPNG(h=400, preDelay=7)\n",
    "    out_img.clear_output()\n",
    "    with out_img: display(img)\n",
    "\n",
    "btn_run_coll.on_click(on_click_collision)"
   ]
  },
  {
   "cell_type": "code",
   "execution_count": 14,
   "id": "4bce6f89",
   "metadata": {},
   "outputs": [],
   "source": [
    "box_collision = VBox([btn_run_coll, out_img])"
   ]
  },
  {
   "cell_type": "code",
   "execution_count": 15,
   "id": "8bfaacbd",
   "metadata": {},
   "outputs": [],
   "source": [
    "out_img_protein = widgets.Output()\n",
    "btn_show_protein = widgets.Button(description = 'Show protein')\n",
    "def on_click_protein(change):\n",
    "    s.HideAll()\n",
    "    s.LoadFile(os.path.join(os.getcwd(),'1h9n.pdb'),'1h9n')\n",
    "    s.Zoom('1h9n')\n",
    "    s.SetDisplayStyle('1h9n','cartoon')\n",
    "    img = s.GetPNG(h=400, preDelay=7)\n",
    "    out_img_protein.clear_output()\n",
    "    with out_img_protein: display(img)\n",
    "\n",
    "btn_show_protein.on_click(on_click_protein)"
   ]
  },
  {
   "cell_type": "code",
   "execution_count": 16,
   "id": "bdd8d6b1",
   "metadata": {},
   "outputs": [],
   "source": [
    "box_protein = VBox([btn_show_protein, out_img_protein])"
   ]
  },
  {
   "cell_type": "code",
   "execution_count": 17,
   "id": "12dfd8dd",
   "metadata": {},
   "outputs": [
    {
     "data": {
      "application/vnd.jupyter.widget-view+json": {
       "model_id": "d58a897d47954015aba88ed0ee765a78",
       "version_major": 2,
       "version_minor": 0
      },
      "text/plain": [
       "HBox(children=(VBox(children=(Label(value='Select your molecule to predict!'), Dropdown(description='Protein:'…"
      ]
     },
     "metadata": {},
     "output_type": "display_data"
    }
   ],
   "source": [
    "HBox([box_upload, box_protein, box_collision])"
   ]
  },
  {
   "cell_type": "code",
   "execution_count": null,
   "id": "06f38591",
   "metadata": {},
   "outputs": [],
   "source": []
  }
 ],
 "metadata": {
  "kernelspec": {
   "display_name": "Python 3",
   "language": "python",
   "name": "python3"
  },
  "language_info": {
   "codemirror_mode": {
    "name": "ipython",
    "version": 3
   },
   "file_extension": ".py",
   "mimetype": "text/x-python",
   "name": "python",
   "nbconvert_exporter": "python",
   "pygments_lexer": "ipython3",
   "version": "3.6.13"
  }
 },
 "nbformat": 4,
 "nbformat_minor": 5
}
