{
 "cells": [
  {
   "cell_type": "markdown",
   "id": "02376db5",
   "metadata": {},
   "source": [
    "# Image Classification with DNN"
   ]
  },
  {
   "cell_type": "markdown",
   "id": "28204ada",
   "metadata": {},
   "source": [
    "## DATASETS:\n",
    "(a) Carbonic Anhydrase II (ChEMBL205), a protein lyase,  \n",
    "(b) Cyclin-dependent kinase 2 (CHEMBL301), a protein kinase,  \n",
    "(c) ether-a-go-go-related gene potassium channel 1 (HERG) (CHEMBL240), a voltage-gated ion channel,  \n",
    "(d) Dopamine D4 receptor (CHEMBL219), a monoamine GPCR,  \n",
    "(e) Coagulation factor X (CHEMBL244), a serine protease,  \n",
    "(f) Cannabinoid CB1 receptor (CHEMBL218), a lipid-like GPCR and  \n",
    "(g) Cytochrome P450 19A1 (CHEMBL1978), a cytochrome P450.  \n",
    "The activity classes were selected based on data availability and as representatives of therapeutically important target classes or as anti-targets."
   ]
  },
  {
   "cell_type": "code",
   "execution_count": 1,
   "id": "7ff5d5e3",
   "metadata": {
    "scrolled": true
   },
   "outputs": [
    {
     "name": "stdout",
     "output_type": "stream",
     "text": [
      "Wed Apr  6 14:02:49 2022       \r\n",
      "+-----------------------------------------------------------------------------+\r\n",
      "| NVIDIA-SMI 470.103.01   Driver Version: 470.103.01   CUDA Version: 11.4     |\r\n",
      "|-------------------------------+----------------------+----------------------+\r\n",
      "| GPU  Name        Persistence-M| Bus-Id        Disp.A | Volatile Uncorr. ECC |\r\n",
      "| Fan  Temp  Perf  Pwr:Usage/Cap|         Memory-Usage | GPU-Util  Compute M. |\r\n",
      "|                               |                      |               MIG M. |\r\n",
      "|===============================+======================+======================|\r\n",
      "|   0  NVIDIA GeForce ...  Off  | 00000000:01:00.0  On |                  N/A |\r\n",
      "|  0%   59C    P0    59W / 240W |    494MiB /  8116MiB |      1%      Default |\r\n",
      "|                               |                      |                  N/A |\r\n",
      "+-------------------------------+----------------------+----------------------+\r\n",
      "                                                                               \r\n",
      "+-----------------------------------------------------------------------------+\r\n",
      "| Processes:                                                                  |\r\n",
      "|  GPU   GI   CI        PID   Type   Process name                  GPU Memory |\r\n",
      "|        ID   ID                                                   Usage      |\r\n",
      "|=============================================================================|\r\n",
      "|    0   N/A  N/A       933      G   /usr/lib/xorg/Xorg                278MiB |\r\n",
      "|    0   N/A  N/A      1220      G   /usr/bin/gnome-shell               59MiB |\r\n",
      "|    0   N/A  N/A    279193      G   /usr/lib/firefox/firefox          149MiB |\r\n",
      "|    0   N/A  N/A    283756      G   /usr/lib/firefox/firefox            1MiB |\r\n",
      "|    0   N/A  N/A    409718      G   /usr/lib/firefox/firefox            1MiB |\r\n",
      "+-----------------------------------------------------------------------------+\r\n"
     ]
    }
   ],
   "source": [
    "!nvidia-smi"
   ]
  },
  {
   "cell_type": "code",
   "execution_count": 2,
   "id": "fe052ee5",
   "metadata": {},
   "outputs": [],
   "source": [
    "# Import\n",
    "import pandas as pd\n",
    "import numpy as np\n",
    "from pathlib import Path"
   ]
  },
  {
   "cell_type": "code",
   "execution_count": 3,
   "id": "c51e1815",
   "metadata": {},
   "outputs": [],
   "source": [
    "%matplotlib inline\n",
    "import matplotlib.pyplot as plt\n",
    "import sys\n",
    "import os\n",
    "sys.path.append('/usr/local/lib/python3.7/site-packages/')\n",
    "#from rdkit import Chem\n",
    "#from rdkit.Chem import AllChem"
   ]
  },
  {
   "cell_type": "code",
   "execution_count": 4,
   "id": "8112b927",
   "metadata": {},
   "outputs": [],
   "source": [
    "dataset = 'CHEMBL205'"
   ]
  },
  {
   "cell_type": "code",
   "execution_count": 5,
   "id": "327fcae1",
   "metadata": {},
   "outputs": [],
   "source": [
    "path = Path('../dataset/13321_2017_226_MOESM1_ESM/')\n",
    "df = pd.read_csv(path/dataset/f'{dataset}_train_valid.csv')"
   ]
  },
  {
   "cell_type": "code",
   "execution_count": 6,
   "id": "59ad0e49",
   "metadata": {},
   "outputs": [
    {
     "data": {
      "text/plain": [
       "[PosixPath('../dataset/13321_2017_226_MOESM1_ESM/CHEMBL205'),\n",
       " PosixPath('../dataset/13321_2017_226_MOESM1_ESM/.ipynb_checkpoints'),\n",
       " PosixPath('../dataset/13321_2017_226_MOESM1_ESM/CHEMBL301'),\n",
       " PosixPath('../dataset/13321_2017_226_MOESM1_ESM/CHEMBL218'),\n",
       " PosixPath('../dataset/13321_2017_226_MOESM1_ESM/CHEMBL219'),\n",
       " PosixPath('../dataset/13321_2017_226_MOESM1_ESM/CHEMBL244'),\n",
       " PosixPath('../dataset/13321_2017_226_MOESM1_ESM/mol_images'),\n",
       " PosixPath('../dataset/13321_2017_226_MOESM1_ESM/CHEMBL1978'),\n",
       " PosixPath('../dataset/13321_2017_226_MOESM1_ESM/CHEMBL240')]"
      ]
     },
     "execution_count": 6,
     "metadata": {},
     "output_type": "execute_result"
    }
   ],
   "source": [
    "list(path.iterdir())"
   ]
  },
  {
   "cell_type": "code",
   "execution_count": 7,
   "id": "6b267cf5",
   "metadata": {},
   "outputs": [],
   "source": [
    "DATA = path/'mol_images'"
   ]
  },
  {
   "cell_type": "code",
   "execution_count": 8,
   "id": "5ab97516",
   "metadata": {},
   "outputs": [],
   "source": [
    "IMAGES = DATA/dataset"
   ]
  },
  {
   "cell_type": "markdown",
   "id": "7bda9eb2",
   "metadata": {},
   "source": [
    "# Create train validation split"
   ]
  },
  {
   "cell_type": "code",
   "execution_count": 9,
   "id": "0ccf60f8",
   "metadata": {},
   "outputs": [],
   "source": [
    "from sklearn.model_selection import train_test_split"
   ]
  },
  {
   "cell_type": "code",
   "execution_count": 10,
   "id": "6bce3ad6",
   "metadata": {},
   "outputs": [
    {
     "data": {
      "text/plain": [
       "False    14352\n",
       "True      3589\n",
       "Name: is_valid, dtype: int64"
      ]
     },
     "execution_count": 10,
     "metadata": {},
     "output_type": "execute_result"
    }
   ],
   "source": [
    "df.is_valid.value_counts()"
   ]
  },
  {
   "cell_type": "code",
   "execution_count": 11,
   "id": "6dbf28de",
   "metadata": {},
   "outputs": [
    {
     "data": {
      "text/plain": [
       "0.2500696767001115"
      ]
     },
     "execution_count": 11,
     "metadata": {},
     "output_type": "execute_result"
    }
   ],
   "source": [
    "len(df[df.is_valid == True]) / len(df[df.is_valid == False])"
   ]
  },
  {
   "cell_type": "markdown",
   "id": "4f59daa4",
   "metadata": {},
   "source": [
    "# Create dataloader"
   ]
  },
  {
   "cell_type": "code",
   "execution_count": 12,
   "id": "7092a50a",
   "metadata": {},
   "outputs": [],
   "source": [
    "from fastai.vision.all import *"
   ]
  },
  {
   "cell_type": "code",
   "execution_count": 13,
   "id": "59928f03",
   "metadata": {},
   "outputs": [
    {
     "data": {
      "text/html": [
       "<div>\n",
       "<style scoped>\n",
       "    .dataframe tbody tr th:only-of-type {\n",
       "        vertical-align: middle;\n",
       "    }\n",
       "\n",
       "    .dataframe tbody tr th {\n",
       "        vertical-align: top;\n",
       "    }\n",
       "\n",
       "    .dataframe thead th {\n",
       "        text-align: right;\n",
       "    }\n",
       "</style>\n",
       "<table border=\"1\" class=\"dataframe\">\n",
       "  <thead>\n",
       "    <tr style=\"text-align: right;\">\n",
       "      <th></th>\n",
       "      <th>CID</th>\n",
       "      <th>SMILES</th>\n",
       "      <th>Activity</th>\n",
       "      <th>is_valid</th>\n",
       "      <th>Image</th>\n",
       "    </tr>\n",
       "  </thead>\n",
       "  <tbody>\n",
       "    <tr>\n",
       "      <th>0</th>\n",
       "      <td>CHEMBL188002</td>\n",
       "      <td>S(=O)(=O)(N)c1cc(N/C(/S)=N\\c2cc(C(=O)[O-])c(cc2)C=2c3c(OC4=CC(=O)C=CC=24)cc(O)cc3)ccc1</td>\n",
       "      <td>1</td>\n",
       "      <td>False</td>\n",
       "      <td>CHEMBL188002.png</td>\n",
       "    </tr>\n",
       "    <tr>\n",
       "      <th>1</th>\n",
       "      <td>CHEMBL364127</td>\n",
       "      <td>Clc1ccc(cc1)C(=O)NC1Cc2cc(S(=O)(=O)N)ccc2C1</td>\n",
       "      <td>1</td>\n",
       "      <td>False</td>\n",
       "      <td>CHEMBL364127.png</td>\n",
       "    </tr>\n",
       "    <tr>\n",
       "      <th>2</th>\n",
       "      <td>CHEMBL1683469</td>\n",
       "      <td>S(=O)(=O)(N)c1ccc(cc1)CNS(=O)(=O)CC12CCC(CC1=O)C2(C)C</td>\n",
       "      <td>1</td>\n",
       "      <td>False</td>\n",
       "      <td>CHEMBL1683469.png</td>\n",
       "    </tr>\n",
       "    <tr>\n",
       "      <th>3</th>\n",
       "      <td>CHEMBL52564</td>\n",
       "      <td>Oc1ccccc1\\C=C\\C(=O)[O-]</td>\n",
       "      <td>1</td>\n",
       "      <td>False</td>\n",
       "      <td>CHEMBL52564.png</td>\n",
       "    </tr>\n",
       "    <tr>\n",
       "      <th>4</th>\n",
       "      <td>CHEMBL21427</td>\n",
       "      <td>OB(O)c1ccc(OC)cc1</td>\n",
       "      <td>1</td>\n",
       "      <td>False</td>\n",
       "      <td>CHEMBL21427.png</td>\n",
       "    </tr>\n",
       "  </tbody>\n",
       "</table>\n",
       "</div>"
      ],
      "text/plain": [
       "             CID  \\\n",
       "0   CHEMBL188002   \n",
       "1   CHEMBL364127   \n",
       "2  CHEMBL1683469   \n",
       "3    CHEMBL52564   \n",
       "4    CHEMBL21427   \n",
       "\n",
       "                                                                                   SMILES  \\\n",
       "0  S(=O)(=O)(N)c1cc(N/C(/S)=N\\c2cc(C(=O)[O-])c(cc2)C=2c3c(OC4=CC(=O)C=CC=24)cc(O)cc3)ccc1   \n",
       "1                                             Clc1ccc(cc1)C(=O)NC1Cc2cc(S(=O)(=O)N)ccc2C1   \n",
       "2                                   S(=O)(=O)(N)c1ccc(cc1)CNS(=O)(=O)CC12CCC(CC1=O)C2(C)C   \n",
       "3                                                                 Oc1ccccc1\\C=C\\C(=O)[O-]   \n",
       "4                                                                       OB(O)c1ccc(OC)cc1   \n",
       "\n",
       "   Activity  is_valid              Image  \n",
       "0         1     False   CHEMBL188002.png  \n",
       "1         1     False   CHEMBL364127.png  \n",
       "2         1     False  CHEMBL1683469.png  \n",
       "3         1     False    CHEMBL52564.png  \n",
       "4         1     False    CHEMBL21427.png  "
      ]
     },
     "execution_count": 13,
     "metadata": {},
     "output_type": "execute_result"
    }
   ],
   "source": [
    "df['Image'] = df['CID'] + '.png'\n",
    "df.head()"
   ]
  },
  {
   "cell_type": "code",
   "execution_count": 14,
   "id": "849975ae",
   "metadata": {},
   "outputs": [
    {
     "data": {
      "text/plain": [
       "0     CHEMBL188002.png\n",
       "1     CHEMBL364127.png\n",
       "2    CHEMBL1683469.png\n",
       "3      CHEMBL52564.png\n",
       "4      CHEMBL21427.png\n",
       "Name: CID, dtype: object"
      ]
     },
     "execution_count": 14,
     "metadata": {},
     "output_type": "execute_result"
    }
   ],
   "source": [
    "images = df['CID'] + \".png\"\n",
    "images.head()"
   ]
  },
  {
   "cell_type": "code",
   "execution_count": 15,
   "id": "24ead7b8",
   "metadata": {},
   "outputs": [],
   "source": [
    "# No flips, some rotation and zoom. Normalize to imagenet_stats as\n",
    "# we're using pretrained models.\n",
    "batch_tfms = [*aug_transforms(mult=1.0, do_flip=False, flip_vert=False, \n",
    "               max_rotate=20.0, min_zoom=1.0, max_zoom=1.1, max_lighting=0., \n",
    "               max_warp=0., p_affine=0.75, p_lighting=0.75, xtra_tfms=None, \n",
    "               size=224, mode='bilinear', \n",
    "               pad_mode='border', align_corners=True, \n",
    "               batch=False, min_scale=1.0), \n",
    "              Normalize.from_stats(*imagenet_stats)]"
   ]
  },
  {
   "cell_type": "code",
   "execution_count": 16,
   "id": "d29d3d3d",
   "metadata": {},
   "outputs": [],
   "source": [
    "db = DataBlock(\n",
    "    blocks = (ImageBlock(), CategoryBlock()), \n",
    "    get_x=ColReader('Image', pref=IMAGES),\n",
    "    get_y=ColReader('Activity'), \n",
    "    splitter=ColSplitter('is_valid'),\n",
    "    item_tfms=None, \n",
    "    batch_tfms=None,\n",
    "    )"
   ]
  },
  {
   "cell_type": "markdown",
   "id": "7f66b1a6",
   "metadata": {},
   "source": [
    "Oversmaple instead of using class weights to test custom loss function"
   ]
  },
  {
   "cell_type": "code",
   "execution_count": 17,
   "id": "8e41ab0b",
   "metadata": {},
   "outputs": [],
   "source": [
    "def val_cols_and_oversample(df, test_size=0.25, random_state=42, oversample=True):\n",
    "    x_train,x_val = train_test_split(df.index, test_size=test_size, stratify=df['Activity'], \n",
    "                                     random_state=random_state)\n",
    "    \n",
    "    df.loc[x_train, 'is_valid']=False\n",
    "    df.loc[x_val, 'is_valid']=True\n",
    "    # Oversample is_valid=False columns\n",
    "    if oversample:\n",
    "        df = pd.concat([*[df.loc[(df.is_valid==False) & (df.Activity==1)]]*10, \n",
    "                        *[df.loc[(df.is_valid==False) & (df.Activity==0)]], \n",
    "                        df.loc[df.is_valid==True]], \n",
    "                       ignore_index=True)\n",
    "    return df\n"
   ]
  },
  {
   "cell_type": "code",
   "execution_count": 18,
   "id": "4a8fe271",
   "metadata": {},
   "outputs": [],
   "source": [
    "def get_df(dataset, random_state=42, test_size=0.25, oversample=True):\n",
    "    df = pd.read_csv(path/dataset/f'{dataset}_cl.csv')\n",
    "    df = val_cols_and_oversample(df, test_size=test_size, random_state=random_state, oversample=oversample)\n",
    "    df['Image'] = df['CID'] + '.png'\n",
    "    return df"
   ]
  },
  {
   "cell_type": "code",
   "execution_count": 19,
   "id": "e60a0d15",
   "metadata": {},
   "outputs": [],
   "source": [
    "def get_df_with_clusters(dataset, n_clusters=100, random_state=42, test_size=0.25):\n",
    "    df = pd.read_csv(path/dataset/f'{dataset}_cl_ECFP_1024_with_{n_clusters}_clusters.csv')\n",
    "    values = df.Cluster.value_counts(ascending=True)\n",
    "    values = values[values < 2].index\n",
    "    for i in list(values):\n",
    "        df = df.drop(df[df.Cluster == i].index)\n",
    "    df.reset_index(drop=True, inplace=True)\n",
    "    x_train, x_valid = train_test_split(df.index, test_size=test_size, random_state=random_state, stratify=df['Cluster'])\n",
    "    df.loc[x_train, 'is_valid']=False\n",
    "    df.loc[x_valid, 'is_valid']=True\n",
    "    df['Image'] = df['Name'] + '.png'\n",
    "    return df"
   ]
  },
  {
   "cell_type": "code",
   "execution_count": 20,
   "id": "505b16e0",
   "metadata": {},
   "outputs": [
    {
     "data": {
      "text/html": [
       "<div>\n",
       "<style scoped>\n",
       "    .dataframe tbody tr th:only-of-type {\n",
       "        vertical-align: middle;\n",
       "    }\n",
       "\n",
       "    .dataframe tbody tr th {\n",
       "        vertical-align: top;\n",
       "    }\n",
       "\n",
       "    .dataframe thead th {\n",
       "        text-align: right;\n",
       "    }\n",
       "</style>\n",
       "<table border=\"1\" class=\"dataframe\">\n",
       "  <thead>\n",
       "    <tr style=\"text-align: right;\">\n",
       "      <th></th>\n",
       "      <th>CID</th>\n",
       "      <th>SMILES</th>\n",
       "      <th>Activity</th>\n",
       "      <th>is_valid</th>\n",
       "      <th>Image</th>\n",
       "    </tr>\n",
       "  </thead>\n",
       "  <tbody>\n",
       "    <tr>\n",
       "      <th>0</th>\n",
       "      <td>CHEMBL364127</td>\n",
       "      <td>Clc1ccc(cc1)C(=O)NC1Cc2cc(S(=O)(=O)N)ccc2C1</td>\n",
       "      <td>1</td>\n",
       "      <td>False</td>\n",
       "      <td>CHEMBL364127.png</td>\n",
       "    </tr>\n",
       "    <tr>\n",
       "      <th>1</th>\n",
       "      <td>CHEMBL1683469</td>\n",
       "      <td>S(=O)(=O)(N)c1ccc(cc1)CNS(=O)(=O)CC12CCC(CC1=O)C2(C)C</td>\n",
       "      <td>1</td>\n",
       "      <td>False</td>\n",
       "      <td>CHEMBL1683469.png</td>\n",
       "    </tr>\n",
       "    <tr>\n",
       "      <th>2</th>\n",
       "      <td>CHEMBL52564</td>\n",
       "      <td>Oc1ccccc1\\C=C\\C(=O)[O-]</td>\n",
       "      <td>1</td>\n",
       "      <td>False</td>\n",
       "      <td>CHEMBL52564.png</td>\n",
       "    </tr>\n",
       "    <tr>\n",
       "      <th>3</th>\n",
       "      <td>CHEMBL21427</td>\n",
       "      <td>OB(O)c1ccc(OC)cc1</td>\n",
       "      <td>1</td>\n",
       "      <td>False</td>\n",
       "      <td>CHEMBL21427.png</td>\n",
       "    </tr>\n",
       "    <tr>\n",
       "      <th>4</th>\n",
       "      <td>CHEMBL1414</td>\n",
       "      <td>O(C)c1cc(cc(OC)c1O)C(=O)[O-]</td>\n",
       "      <td>1</td>\n",
       "      <td>False</td>\n",
       "      <td>CHEMBL1414.png</td>\n",
       "    </tr>\n",
       "  </tbody>\n",
       "</table>\n",
       "</div>"
      ],
      "text/plain": [
       "             CID                                                 SMILES  \\\n",
       "0   CHEMBL364127            Clc1ccc(cc1)C(=O)NC1Cc2cc(S(=O)(=O)N)ccc2C1   \n",
       "1  CHEMBL1683469  S(=O)(=O)(N)c1ccc(cc1)CNS(=O)(=O)CC12CCC(CC1=O)C2(C)C   \n",
       "2    CHEMBL52564                                Oc1ccccc1\\C=C\\C(=O)[O-]   \n",
       "3    CHEMBL21427                                      OB(O)c1ccc(OC)cc1   \n",
       "4     CHEMBL1414                           O(C)c1cc(cc(OC)c1O)C(=O)[O-]   \n",
       "\n",
       "   Activity is_valid              Image  \n",
       "0         1    False   CHEMBL364127.png  \n",
       "1         1    False  CHEMBL1683469.png  \n",
       "2         1    False    CHEMBL52564.png  \n",
       "3         1    False    CHEMBL21427.png  \n",
       "4         1    False     CHEMBL1414.png  "
      ]
     },
     "execution_count": 20,
     "metadata": {},
     "output_type": "execute_result"
    }
   ],
   "source": [
    "df = get_df(dataset)\n",
    "df.head()"
   ]
  },
  {
   "cell_type": "code",
   "execution_count": 21,
   "id": "05d66a63",
   "metadata": {},
   "outputs": [
    {
     "data": {
      "text/plain": [
       "Path('../dataset/13321_2017_226_MOESM1_ESM/mol_images/CHEMBL205')"
      ]
     },
     "execution_count": 21,
     "metadata": {},
     "output_type": "execute_result"
    }
   ],
   "source": [
    "IMAGES = DATA/f'{dataset}'\n",
    "IMAGES"
   ]
  },
  {
   "cell_type": "code",
   "execution_count": 22,
   "id": "2f8b4df2",
   "metadata": {},
   "outputs": [],
   "source": [
    "def get_dls(dataset, bs=64, clustering=False, random_state=42):\n",
    "    IMAGES = DATA/f'{dataset}'\n",
    "    if clustering:\n",
    "        df = get_df_with_clusters(dataset, n_clusters=100)\n",
    "    else: \n",
    "        df = get_df(dataset, oversample=True)\n",
    "    db = DataBlock(\n",
    "        blocks = (ImageBlock(), CategoryBlock()), \n",
    "        get_x=ColReader('Image', pref=IMAGES),\n",
    "        get_y=ColReader('Activity'), \n",
    "        splitter=ColSplitter('is_valid'),\n",
    "        item_tfms=None, \n",
    "        batch_tfms=None,\n",
    "        )\n",
    "    dls = db.dataloaders(df, bs=bs, shuffle_train=True, random_state=42, num_workers=0)\n",
    "    return dls, df"
   ]
  },
  {
   "cell_type": "code",
   "execution_count": 23,
   "id": "0a53af05",
   "metadata": {},
   "outputs": [],
   "source": [
    "dls, df = get_dls(dataset, bs=32, clustering=False)"
   ]
  },
  {
   "cell_type": "code",
   "execution_count": 24,
   "id": "28d073f7",
   "metadata": {
    "scrolled": true
   },
   "outputs": [
    {
     "data": {
      "image/png": "[encoded data removed]",
      "text/plain": [
       "<Figure size 648x648 with 9 Axes>"
      ]
     },
     "metadata": {
      "needs_background": "light"
     },
     "output_type": "display_data"
    }
   ],
   "source": [
    "dls.show_batch()"
   ]
  },
  {
   "cell_type": "code",
   "execution_count": 25,
   "id": "56dfbfac",
   "metadata": {},
   "outputs": [
    {
     "data": {
      "image/png": "[encoded data removed]",
      "text/plain": [
       "<Figure size 648x648 with 9 Axes>"
      ]
     },
     "metadata": {
      "needs_background": "light"
     },
     "output_type": "display_data"
    }
   ],
   "source": [
    "dls.show_batch(unique=True)"
   ]
  },
  {
   "cell_type": "markdown",
   "id": "209d745b",
   "metadata": {},
   "source": [
    "# Train a cnn model in pytorch"
   ]
  },
  {
   "cell_type": "code",
   "execution_count": 26,
   "id": "1789bea0",
   "metadata": {},
   "outputs": [],
   "source": [
    "# importing the libraries\n",
    "import pandas as pd\n",
    "import numpy as np\n",
    "\n",
    "# for reading and displaying images\n",
    "from skimage.io import imread\n",
    "import matplotlib.pyplot as plt\n",
    "%matplotlib inline\n",
    "\n",
    "# for creating validation set\n",
    "from sklearn.model_selection import train_test_split\n",
    "\n",
    "# for evaluating the model\n",
    "from sklearn.metrics import accuracy_score\n",
    "from tqdm import tqdm\n",
    "\n",
    "# PyTorch libraries and modules\n",
    "import torch\n",
    "from torch.autograd import Variable\n",
    "from torch.nn import Linear, ReLU, CrossEntropyLoss, Sequential, Conv2d, MaxPool2d, Module, Softmax, BatchNorm2d, Dropout\n",
    "from torch.optim import Adam, SGD"
   ]
  },
  {
   "cell_type": "code",
   "execution_count": 27,
   "id": "79de22ce",
   "metadata": {},
   "outputs": [
    {
     "data": {
      "text/plain": [
       "<AxesSubplot:>"
      ]
     },
     "execution_count": 27,
     "metadata": {},
     "output_type": "execute_result"
    },
    {
     "data": {
      "image/png": "[encoded data removed]",
      "text/plain": [
       "<Figure size 360x360 with 1 Axes>"
      ]
     },
     "metadata": {
      "needs_background": "light"
     },
     "output_type": "display_data"
    }
   ],
   "source": [
    "train_x, y = dls.one_batch()\n",
    "show_image(train_x[0])"
   ]
  },
  {
   "cell_type": "code",
   "execution_count": 28,
   "id": "f9a71003",
   "metadata": {},
   "outputs": [],
   "source": [
    "import torchvision.models as models\n",
    "from torchsummary import summary\n",
    "import torch.optim as optim\n",
    "from torchvision import datasets, models, transforms\n",
    "from torch.optim import lr_scheduler\n",
    "import copy"
   ]
  },
  {
   "cell_type": "code",
   "execution_count": 29,
   "id": "3a95c16b",
   "metadata": {},
   "outputs": [],
   "source": [
    "from sklearn.metrics import auc,roc_auc_score,recall_score,precision_score,f1_score\n",
    "from sklearn.metrics import matthews_corrcoef\n",
    "from sklearn.metrics import accuracy_score\n",
    "from sklearn.metrics import confusion_matrix\n",
    "import seaborn as sns"
   ]
  },
  {
   "cell_type": "code",
   "execution_count": 30,
   "id": "441f771d",
   "metadata": {},
   "outputs": [],
   "source": [
    "def train_model(model, criterion, optimizer, scheduler, num_epochs=25):\n",
    "    since = time.time()\n",
    "\n",
    "    best_model_wts = copy.deepcopy(model.state_dict())\n",
    "    best_acc = 0.0\n",
    "    \n",
    "    history = []\n",
    "\n",
    "    for epoch in range(num_epochs):\n",
    "        print('Epoch {}/{}'.format(epoch, num_epochs - 1))\n",
    "        print('-' * 10)\n",
    "        result = {}\n",
    "        # Each epoch has a training and validation phase\n",
    "        for phase in ['train', 'val']:\n",
    "            if phase == 'train':\n",
    "                model.train()  # Set model to training mode\n",
    "            else:\n",
    "                model.eval()   # Set model to evaluate mode\n",
    "\n",
    "            running_loss = 0.0\n",
    "            running_corrects = 0\n",
    "            p = 0.0\n",
    "            all_preds = torch.Tensor().to(device)\n",
    "            all_labels = torch.Tensor().to(device)\n",
    "            \n",
    "            if phase == 'train':\n",
    "                dataloaders = dls.train\n",
    "            else:\n",
    "                dataloaders = dls.valid\n",
    "            # Iterate over data.\n",
    "            for inputs, labels in dataloaders:\n",
    "                inputs = inputs.to(device)\n",
    "                labels = labels.to(device)\n",
    "\n",
    "                # zero the parameter gradients\n",
    "                optimizer.zero_grad()\n",
    "\n",
    "                # forward\n",
    "                # track history if only in train\n",
    "                with torch.set_grad_enabled(phase == 'train'):\n",
    "                    outputs = model(inputs)\n",
    "                    _, preds = torch.max(outputs, 1)\n",
    "                    loss = criterion(outputs, labels)\n",
    "                    \n",
    "                    all_preds = torch.cat([all_preds, preds])\n",
    "                    all_labels = torch.cat([all_labels, labels])\n",
    "\n",
    "                    # backward + optimize only if in training phase\n",
    "                    if phase == 'train':\n",
    "                        loss.backward()\n",
    "                        optimizer.step()\n",
    "\n",
    "                # statistics\n",
    "                running_loss += loss.item() * inputs.size(0)\n",
    "                running_corrects += torch.sum(preds == labels.data)\n",
    "                \n",
    "            if phase == 'train':\n",
    "                scheduler.step()\n",
    "\n",
    "            epoch_loss = running_loss / len(dataloaders.dataset) \n",
    "            result[f'{phase}_loss'] = epoch_loss\n",
    "            epoch_acc = running_corrects.double() / len(dataloaders.dataset)\n",
    "            result[f'{phase}_acc'] = epoch_acc\n",
    "            if phase == 'val':\n",
    "                precision = precision_score(all_labels.cpu(), all_preds.cpu())\n",
    "                recall = recall_score(all_labels.cpu(), all_preds.cpu())\n",
    "                f_score = f1_score(all_labels.cpu(), all_preds.cpu())\n",
    "                #auc_score = auc(all_labels.cpu(), all_preds.cpu())\n",
    "                roc_auc = roc_auc_score(all_labels.cpu(), all_preds.cpu())\n",
    "                result[f'{phase}_precision'] = precision\n",
    "                result[f'{phase}_recall'] = recall\n",
    "                result[f'{phase}_f1_score'] = f_score\n",
    "                #result[f'{phase}_auc'] = auc_score\n",
    "                result[f'{phase}_roc_auc'] = roc_auc\n",
    "                print('{} Loss: {:.4f} Acc: {:.4f} Precision: {:.4f} Recall: {:.4f} F1 score: {:.4f} ROC AUC: {:.4f}'\n",
    "                      .format(phase, epoch_loss, epoch_acc, precision, recall, f_score, roc_auc))\n",
    "            else:\n",
    "                print('{} Loss: {:.4f} Acc: {:.4f}'.format(phase, epoch_loss, epoch_acc))\n",
    "\n",
    "            # deep copy the model\n",
    "            if phase == 'val' and epoch_acc > best_acc:\n",
    "                best_acc = epoch_acc\n",
    "                best_model_wts = copy.deepcopy(model.state_dict())\n",
    "                \n",
    "        history.append(result)\n",
    "        print()\n",
    "\n",
    "    time_elapsed = time.time() - since\n",
    "    print('Training complete in {:.0f}m {:.0f}s'.format(\n",
    "        time_elapsed // 60, time_elapsed % 60))\n",
    "    print('Best val Acc: {:4f}'.format(best_acc))\n",
    "\n",
    "    # load best model weights\n",
    "    model.load_state_dict(best_model_wts)\n",
    "    return model, history"
   ]
  },
  {
   "cell_type": "code",
   "execution_count": 31,
   "id": "f0156013",
   "metadata": {},
   "outputs": [],
   "source": [
    "def show_confusion_matrix(model, dl):\n",
    "    \n",
    "    out = torch.Tensor().to(device)\n",
    "    labels = torch.Tensor().to(device)\n",
    "    for inputs, y in dl:\n",
    "        inputs = inputs.to(device)\n",
    "        y = y.to(device)\n",
    "        labels = torch.cat([labels, y])\n",
    "        preds = model(inputs)\n",
    "        pred = preds.argmax(axis=1)\n",
    "        out = torch.cat([out, pred])\n",
    "    out = out.cpu()\n",
    "    labels = labels.cpu()\n",
    "    cm = confusion_matrix(labels, out)\n",
    "    f = sns.heatmap(cm, annot=True, fmt='d')\n",
    "    plt.show()\n",
    "    return f"
   ]
  },
  {
   "cell_type": "code",
   "execution_count": 100,
   "id": "f2e38ae9",
   "metadata": {},
   "outputs": [],
   "source": [
    "def show_confusion_matrix_cost(model, dl, cost=[0.5,0.5]):\n",
    "    \n",
    "    out = torch.Tensor().to(device)\n",
    "    labels = torch.Tensor().to(device)\n",
    "    for inputs, y in dl:\n",
    "        inputs = inputs.to(device)\n",
    "        y = y.to(device)\n",
    "        labels = torch.cat([labels, y])\n",
    "        preds = model(inputs)\n",
    "        preds = torch.sigmoid(preds)\n",
    "        costs = torch.Tensor(cost).to(device)\n",
    "        preds = preds * costs\n",
    "        pred = preds.argmax(axis=1)\n",
    "        out = torch.cat([out, pred])\n",
    "    out = out.cpu()\n",
    "    labels = labels.cpu()\n",
    "    cm = confusion_matrix(labels, out)\n",
    "    f = sns.heatmap(cm, annot=True, fmt='d')\n",
    "    plt.show()\n",
    "    return f"
   ]
  },
  {
   "cell_type": "code",
   "execution_count": 33,
   "id": "6c61570a",
   "metadata": {},
   "outputs": [],
   "source": [
    "def plot_accuracies(history):\n",
    "    \"\"\" Plot the history of accuracies\"\"\"\n",
    "    accuracies = [x['val_acc'].cpu() for x in history]\n",
    "    plt.plot(accuracies, '-x')\n",
    "    plt.xlabel('epoch')\n",
    "    plt.ylabel('accuracy')\n",
    "    plt.title('Accuracy vs. No. of epochs');\n",
    "    \n",
    "\n",
    "#plot_accuracies(history)\n",
    "\n",
    "def plot_losses(history):\n",
    "    \"\"\" Plot the losses in each epoch\"\"\"\n",
    "    train_losses = [x['train_loss'] for x in history]\n",
    "    val_losses = [x['val_loss'] for x in history]\n",
    "    train_losses\n",
    "    plt.plot(train_losses, '-bx')\n",
    "    plt.plot(val_losses, '-rx')\n",
    "    plt.xlabel('epoch')\n",
    "    plt.ylabel('loss')\n",
    "    plt.legend(['Training', 'Validation'])\n",
    "    plt.title('Loss vs. No. of epochs');\n",
    "\n",
    "#plot_losses(history)"
   ]
  },
  {
   "cell_type": "code",
   "execution_count": 34,
   "id": "e1de54b6",
   "metadata": {},
   "outputs": [],
   "source": [
    "model_ft = models.resnet18(pretrained=True)\n",
    "num_ftrs = model_ft.fc.in_features\n",
    "# Here the size of each output sample is set to 2.\n",
    "# Alternatively, it can be generalized to nn.Linear(num_ftrs, len(class_names)).\n",
    "model_ft.fc = nn.Linear(num_ftrs, 2)\n",
    "\n",
    "model_ft = model_ft.cuda()\n",
    "\n",
    "criterion = nn.CrossEntropyLoss()\n",
    "\n",
    "# Observe that all parameters are being optimized\n",
    "optimizer_ft = optim.SGD(model_ft.parameters(), lr=0.0003, momentum=0.9)\n",
    "\n",
    "# Decay LR by a factor of 0.1 every 7 epochs\n",
    "exp_lr_scheduler = lr_scheduler.StepLR(optimizer_ft, step_size=3, gamma=0.1)"
   ]
  },
  {
   "cell_type": "code",
   "execution_count": 35,
   "id": "aa9620a0",
   "metadata": {},
   "outputs": [],
   "source": [
    "def set_parameter_requires_grad(model, feature_extracting):\n",
    "    if feature_extracting:\n",
    "        for param in model.parameters():\n",
    "            param.requires_grad = False"
   ]
  },
  {
   "cell_type": "code",
   "execution_count": 36,
   "id": "63bc1aed",
   "metadata": {},
   "outputs": [],
   "source": [
    "def create_model(feature_extract = False):\n",
    "    model_ft = models.resnet18(pretrained=True)\n",
    "    \n",
    "    set_parameter_requires_grad(model_ft, feature_extract)\n",
    "    \n",
    "    num_ftrs = model_ft.fc.in_features\n",
    "\n",
    "    # Here the size of each output sample is set to 2.\n",
    "    # Alternatively, it can be generalized to nn.Linear(num_ftrs, len(class_names)).\n",
    "    model_ft.fc = nn.Linear(num_ftrs, 2)\n",
    "\n",
    "    model_ft = model_ft.cuda()\n",
    "    \n",
    "    return model_ft"
   ]
  },
  {
   "cell_type": "code",
   "execution_count": 37,
   "id": "bbf68efa",
   "metadata": {},
   "outputs": [],
   "source": [
    "device = torch.device(\"cuda:0\" if torch.cuda.is_available() else \"cpu\")"
   ]
  },
  {
   "cell_type": "code",
   "execution_count": 38,
   "id": "ac99b019",
   "metadata": {},
   "outputs": [
    {
     "name": "stdout",
     "output_type": "stream",
     "text": [
      "Epoch 0/0\n",
      "----------\n",
      "train Loss: 0.2065 Acc: 0.9231\n",
      "val Loss: 0.1396 Acc: 0.9597 Precision: 0.7146 Recall: 0.9265 F1 score: 0.8068 ROC AUC: 0.9447\n",
      "\n",
      "Training complete in 1m 38s\n",
      "Best val Acc: 0.959652\n"
     ]
    }
   ],
   "source": [
    "model, history = train_model(model_ft, criterion, optimizer_ft, exp_lr_scheduler,\n",
    "                       num_epochs=1)"
   ]
  },
  {
   "cell_type": "code",
   "execution_count": 105,
   "id": "3a9fc7e4",
   "metadata": {
    "scrolled": true
   },
   "outputs": [
    {
     "data": {
      "image/png": "[encoded data removed]",
      "text/plain": [
       "<Figure size 432x288 with 2 Axes>"
      ]
     },
     "metadata": {
      "needs_background": "light"
     },
     "output_type": "display_data"
    },
    {
     "data": {
      "text/plain": [
       "<AxesSubplot:>"
      ]
     },
     "execution_count": 105,
     "metadata": {},
     "output_type": "execute_result"
    }
   ],
   "source": [
    "show_confusion_matrix(model, dls.valid)"
   ]
  },
  {
   "cell_type": "code",
   "execution_count": 113,
   "id": "2bef6293",
   "metadata": {},
   "outputs": [
    {
     "data": {
      "image/png": "[encoded data removed]",
      "text/plain": [
       "<Figure size 432x288 with 2 Axes>"
      ]
     },
     "metadata": {
      "needs_background": "light"
     },
     "output_type": "display_data"
    },
    {
     "data": {
      "text/plain": [
       "<AxesSubplot:>"
      ]
     },
     "execution_count": 113,
     "metadata": {},
     "output_type": "execute_result"
    }
   ],
   "source": [
    "show_confusion_matrix_cost(model, dls.valid, cost=[1, 1])"
   ]
  },
  {
   "cell_type": "code",
   "execution_count": 108,
   "id": "93c8ae58",
   "metadata": {},
   "outputs": [
    {
     "data": {
      "text/plain": [
       "(32, 32)"
      ]
     },
     "execution_count": 108,
     "metadata": {},
     "output_type": "execute_result"
    }
   ],
   "source": [
    "out = torch.Tensor().to(device)\n",
    "labels = torch.Tensor().to(device)\n",
    "inputs, y = dls.one_batch()\n",
    "len(inputs), len(y)"
   ]
  },
  {
   "cell_type": "code",
   "execution_count": 109,
   "id": "17fdb40e",
   "metadata": {
    "scrolled": true
   },
   "outputs": [
    {
     "data": {
      "text/plain": [
       "tensor([[-5.3201e-01, -2.0814e-01],\n",
       "        [-3.6644e+00,  3.3091e+00],\n",
       "        [-2.3539e+00,  2.0990e+00],\n",
       "        [ 6.8473e-01, -5.4936e-01],\n",
       "        [-2.7005e+00,  1.4432e+00],\n",
       "        [-3.5958e+00,  2.8403e+00],\n",
       "        [ 4.3432e+00, -3.8073e+00],\n",
       "        [ 1.8785e+00, -1.8415e+00],\n",
       "        [-1.9488e+00,  1.7864e+00],\n",
       "        [-8.2030e-01,  1.8078e+00],\n",
       "        [-1.9243e+00,  1.0356e+00],\n",
       "        [-1.2355e+00,  1.6947e+00],\n",
       "        [-2.7907e+00,  2.5523e+00],\n",
       "        [ 3.3929e+00, -2.9193e+00],\n",
       "        [ 2.1188e+00, -2.1906e+00],\n",
       "        [-3.6273e+00,  2.4826e+00],\n",
       "        [-2.7125e+00,  3.1350e+00],\n",
       "        [ 3.6264e+00, -3.1198e+00],\n",
       "        [ 3.7982e+00, -2.9909e+00],\n",
       "        [ 9.2362e-01, -7.4514e-01],\n",
       "        [ 2.3935e+00, -2.1947e+00],\n",
       "        [-3.2101e+00,  1.7678e+00],\n",
       "        [-2.2023e+00,  1.5312e+00],\n",
       "        [-2.5160e+00,  2.3534e+00],\n",
       "        [-3.4753e+00,  1.6765e+00],\n",
       "        [-1.2738e+00,  5.5392e-01],\n",
       "        [-3.0363e+00,  3.1248e+00],\n",
       "        [ 3.7142e-03, -5.2020e-01],\n",
       "        [ 4.9046e+00, -4.3345e+00],\n",
       "        [ 3.8365e+00, -2.8999e+00],\n",
       "        [-2.5113e+00,  2.6346e+00],\n",
       "        [ 2.8694e+00, -2.3414e+00]])"
      ]
     },
     "execution_count": 109,
     "metadata": {},
     "output_type": "execute_result"
    }
   ],
   "source": [
    "inputs = inputs.to(device)\n",
    "y = y.cpu()\n",
    "labels = y\n",
    "preds = model(inputs)\n",
    "preds = preds.cpu().detach()\n",
    "preds"
   ]
  },
  {
   "cell_type": "code",
   "execution_count": 110,
   "id": "e7681754",
   "metadata": {},
   "outputs": [
    {
     "data": {
      "text/plain": [
       "tensor([[0.3700, 0.4482],\n",
       "        [0.0250, 0.9647],\n",
       "        [0.0868, 0.8908],\n",
       "        [0.6648, 0.3660],\n",
       "        [0.0629, 0.8089],\n",
       "        [0.0267, 0.9448],\n",
       "        [0.9872, 0.0217],\n",
       "        [0.8674, 0.1369],\n",
       "        [0.1247, 0.8565],\n",
       "        [0.3057, 0.8591],\n",
       "        [0.1274, 0.7380],\n",
       "        [0.2252, 0.8448],\n",
       "        [0.0578, 0.9277],\n",
       "        [0.9675, 0.0512],\n",
       "        [0.8927, 0.1006],\n",
       "        [0.0259, 0.9229],\n",
       "        [0.0622, 0.9583],\n",
       "        [0.9741, 0.0423],\n",
       "        [0.9781, 0.0478],\n",
       "        [0.7158, 0.3219],\n",
       "        [0.9163, 0.1002],\n",
       "        [0.0388, 0.8542],\n",
       "        [0.0995, 0.8222],\n",
       "        [0.0747, 0.9132],\n",
       "        [0.0300, 0.8424],\n",
       "        [0.2186, 0.6350],\n",
       "        [0.0458, 0.9579],\n",
       "        [0.5009, 0.3728],\n",
       "        [0.9926, 0.0129],\n",
       "        [0.9789, 0.0522],\n",
       "        [0.0751, 0.9331],\n",
       "        [0.9463, 0.0878]])"
      ]
     },
     "execution_count": 110,
     "metadata": {},
     "output_type": "execute_result"
    }
   ],
   "source": [
    "preds = torch.sigmoid(preds)\n",
    "preds"
   ]
  },
  {
   "cell_type": "code",
   "execution_count": 112,
   "id": "8eede500",
   "metadata": {},
   "outputs": [
    {
     "data": {
      "text/plain": [
       "tensor([1.0000, 0.1000])"
      ]
     },
     "execution_count": 112,
     "metadata": {},
     "output_type": "execute_result"
    }
   ],
   "source": [
    "M = np.array([[0,10],\n",
    "              [1,0]], dtype=float)\n",
    "M /= M.max()\n",
    "M = torch.from_numpy(M)\n",
    "M = M.to(torch.float32)\n",
    "M = torch.sum(M, dim=1)\n",
    "M"
   ]
  },
  {
   "cell_type": "code",
   "execution_count": 46,
   "id": "d4eaac60",
   "metadata": {},
   "outputs": [
    {
     "data": {
      "image/png": "[encoded data removed]",
      "text/plain": [
       "<Figure size 432x288 with 2 Axes>"
      ]
     },
     "metadata": {
      "needs_background": "light"
     },
     "output_type": "display_data"
    }
   ],
   "source": [
    "pred = preds.argmax(axis=1)\n",
    "out = torch.cat([out, pred])\n",
    "out = out.cpu()\n",
    "labels = labels.cpu()\n",
    "cm = confusion_matrix(labels, out)\n",
    "f = sns.heatmap(cm, annot=True, fmt='d')\n",
    "plt.show()"
   ]
  },
  {
   "cell_type": "code",
   "execution_count": 47,
   "id": "950375e1",
   "metadata": {},
   "outputs": [
    {
     "data": {
      "image/png": "[encoded data removed]",
      "text/plain": [
       "<Figure size 432x288 with 1 Axes>"
      ]
     },
     "metadata": {
      "needs_background": "light"
     },
     "output_type": "display_data"
    }
   ],
   "source": [
    "plot_losses(history)"
   ]
  },
  {
   "cell_type": "code",
   "execution_count": 48,
   "id": "24e24b56",
   "metadata": {
    "scrolled": true
   },
   "outputs": [
    {
     "data": {
      "image/png": "[encoded data removed]",
      "text/plain": [
       "<Figure size 432x288 with 1 Axes>"
      ]
     },
     "metadata": {
      "needs_background": "light"
     },
     "output_type": "display_data"
    }
   ],
   "source": [
    "plot_accuracies(history)"
   ]
  },
  {
   "cell_type": "code",
   "execution_count": 49,
   "id": "378c6c4d",
   "metadata": {},
   "outputs": [],
   "source": [
    "def train_and_eval(num_epochs = 5, dls = dls, lr=0.001, criterion=nn.CrossEntropyLoss()):\n",
    "    history = []\n",
    "    model = create_model(feature_extract=True)\n",
    "    params_to_update = []\n",
    "    for name,param in model.named_parameters():\n",
    "        if param.requires_grad == True:\n",
    "            params_to_update.append(param)\n",
    "    optimizer_ft = optim.SGD(params_to_update, lr=lr, momentum=0.9)\n",
    "    exp_lr_scheduler = lr_scheduler.StepLR(optimizer_ft, step_size=3, gamma=0.1)\n",
    "    model, history_ft = train_model(model, criterion, optimizer_ft, exp_lr_scheduler,\n",
    "                       num_epochs=1)\n",
    "    history.append(history_ft[0])\n",
    "    for param in model.parameters():\n",
    "        param.requires_grad = True\n",
    "    optimizer = optim.SGD(model.parameters(), lr=lr, momentum=0.9)\n",
    "    exp_lr_scheduler = lr_scheduler.StepLR(optimizer, step_size=3, gamma=0.1)\n",
    "    model, history_ft = train_model(model, criterion, optimizer, exp_lr_scheduler,\n",
    "                       num_epochs=num_epochs)\n",
    "    for h in history_ft:\n",
    "        history.append(h)\n",
    "    cm = show_confusion_matrix(model, dls.valid)\n",
    "    plot_losses(history)\n",
    "    plot_accuracies(history)\n",
    "    \n",
    "    return model, history"
   ]
  },
  {
   "cell_type": "code",
   "execution_count": 50,
   "id": "fcb1e731",
   "metadata": {},
   "outputs": [
    {
     "name": "stdout",
     "output_type": "stream",
     "text": [
      "Epoch 0/0\n",
      "----------\n"
     ]
    },
    {
     "ename": "KeyboardInterrupt",
     "evalue": "",
     "output_type": "error",
     "traceback": [
      "\u001b[0;31m---------------------------------------------------------------------------\u001b[0m",
      "\u001b[0;31mKeyboardInterrupt\u001b[0m                         Traceback (most recent call last)",
      "\u001b[0;32m/tmp/ipykernel_409954/507692620.py\u001b[0m in \u001b[0;36m<module>\u001b[0;34m\u001b[0m\n\u001b[0;32m----> 1\u001b[0;31m \u001b[0mmodel\u001b[0m\u001b[0;34m,\u001b[0m \u001b[0mhistory\u001b[0m \u001b[0;34m=\u001b[0m \u001b[0mtrain_and_eval\u001b[0m\u001b[0;34m(\u001b[0m\u001b[0mnum_epochs\u001b[0m\u001b[0;34m=\u001b[0m\u001b[0;36m2\u001b[0m\u001b[0;34m)\u001b[0m\u001b[0;34m\u001b[0m\u001b[0;34m\u001b[0m\u001b[0m\n\u001b[0m",
      "\u001b[0;32m/tmp/ipykernel_409954/1873127890.py\u001b[0m in \u001b[0;36mtrain_and_eval\u001b[0;34m(num_epochs, dls, lr, criterion)\u001b[0m\n\u001b[1;32m      9\u001b[0m     \u001b[0mexp_lr_scheduler\u001b[0m \u001b[0;34m=\u001b[0m \u001b[0mlr_scheduler\u001b[0m\u001b[0;34m.\u001b[0m\u001b[0mStepLR\u001b[0m\u001b[0;34m(\u001b[0m\u001b[0moptimizer_ft\u001b[0m\u001b[0;34m,\u001b[0m \u001b[0mstep_size\u001b[0m\u001b[0;34m=\u001b[0m\u001b[0;36m3\u001b[0m\u001b[0;34m,\u001b[0m \u001b[0mgamma\u001b[0m\u001b[0;34m=\u001b[0m\u001b[0;36m0.1\u001b[0m\u001b[0;34m)\u001b[0m\u001b[0;34m\u001b[0m\u001b[0;34m\u001b[0m\u001b[0m\n\u001b[1;32m     10\u001b[0m     model, history_ft = train_model(model, criterion, optimizer_ft, exp_lr_scheduler,\n\u001b[0;32m---> 11\u001b[0;31m                        num_epochs=1)\n\u001b[0m\u001b[1;32m     12\u001b[0m     \u001b[0mhistory\u001b[0m\u001b[0;34m.\u001b[0m\u001b[0mappend\u001b[0m\u001b[0;34m(\u001b[0m\u001b[0mhistory_ft\u001b[0m\u001b[0;34m[\u001b[0m\u001b[0;36m0\u001b[0m\u001b[0;34m]\u001b[0m\u001b[0;34m)\u001b[0m\u001b[0;34m\u001b[0m\u001b[0;34m\u001b[0m\u001b[0m\n\u001b[1;32m     13\u001b[0m     \u001b[0;32mfor\u001b[0m \u001b[0mparam\u001b[0m \u001b[0;32min\u001b[0m \u001b[0mmodel\u001b[0m\u001b[0;34m.\u001b[0m\u001b[0mparameters\u001b[0m\u001b[0;34m(\u001b[0m\u001b[0;34m)\u001b[0m\u001b[0;34m:\u001b[0m\u001b[0;34m\u001b[0m\u001b[0;34m\u001b[0m\u001b[0m\n",
      "\u001b[0;32m/tmp/ipykernel_409954/2683260668.py\u001b[0m in \u001b[0;36mtrain_model\u001b[0;34m(model, criterion, optimizer, scheduler, num_epochs)\u001b[0m\n\u001b[1;32m     52\u001b[0m \u001b[0;34m\u001b[0m\u001b[0m\n\u001b[1;32m     53\u001b[0m                 \u001b[0;31m# statistics\u001b[0m\u001b[0;34m\u001b[0m\u001b[0;34m\u001b[0m\u001b[0;34m\u001b[0m\u001b[0m\n\u001b[0;32m---> 54\u001b[0;31m                 \u001b[0mrunning_loss\u001b[0m \u001b[0;34m+=\u001b[0m \u001b[0mloss\u001b[0m\u001b[0;34m.\u001b[0m\u001b[0mitem\u001b[0m\u001b[0;34m(\u001b[0m\u001b[0;34m)\u001b[0m \u001b[0;34m*\u001b[0m \u001b[0minputs\u001b[0m\u001b[0;34m.\u001b[0m\u001b[0msize\u001b[0m\u001b[0;34m(\u001b[0m\u001b[0;36m0\u001b[0m\u001b[0;34m)\u001b[0m\u001b[0;34m\u001b[0m\u001b[0;34m\u001b[0m\u001b[0m\n\u001b[0m\u001b[1;32m     55\u001b[0m                 \u001b[0mrunning_corrects\u001b[0m \u001b[0;34m+=\u001b[0m \u001b[0mtorch\u001b[0m\u001b[0;34m.\u001b[0m\u001b[0msum\u001b[0m\u001b[0;34m(\u001b[0m\u001b[0mpreds\u001b[0m \u001b[0;34m==\u001b[0m \u001b[0mlabels\u001b[0m\u001b[0;34m.\u001b[0m\u001b[0mdata\u001b[0m\u001b[0;34m)\u001b[0m\u001b[0;34m\u001b[0m\u001b[0;34m\u001b[0m\u001b[0m\n\u001b[1;32m     56\u001b[0m \u001b[0;34m\u001b[0m\u001b[0m\n",
      "\u001b[0;32m~/anaconda3/envs/fastai-drug/lib/python3.7/site-packages/fastai/torch_core.py\u001b[0m in \u001b[0;36m__torch_function__\u001b[0;34m(self, func, types, args, kwargs)\u001b[0m\n\u001b[1;32m    317\u001b[0m \u001b[0;31m#         if func.__name__[0]!='_': print(func, types, args, kwargs)\u001b[0m\u001b[0;34m\u001b[0m\u001b[0;34m\u001b[0m\u001b[0;34m\u001b[0m\u001b[0m\n\u001b[1;32m    318\u001b[0m \u001b[0;31m#         with torch._C.DisableTorchFunction(): ret = _convert(func(*args, **(kwargs or {})), self.__class__)\u001b[0m\u001b[0;34m\u001b[0m\u001b[0;34m\u001b[0m\u001b[0;34m\u001b[0m\u001b[0m\n\u001b[0;32m--> 319\u001b[0;31m         \u001b[0mret\u001b[0m \u001b[0;34m=\u001b[0m \u001b[0msuper\u001b[0m\u001b[0;34m(\u001b[0m\u001b[0;34m)\u001b[0m\u001b[0;34m.\u001b[0m\u001b[0m__torch_function__\u001b[0m\u001b[0;34m(\u001b[0m\u001b[0mfunc\u001b[0m\u001b[0;34m,\u001b[0m \u001b[0mtypes\u001b[0m\u001b[0;34m,\u001b[0m \u001b[0margs\u001b[0m\u001b[0;34m=\u001b[0m\u001b[0margs\u001b[0m\u001b[0;34m,\u001b[0m \u001b[0mkwargs\u001b[0m\u001b[0;34m=\u001b[0m\u001b[0mkwargs\u001b[0m\u001b[0;34m)\u001b[0m\u001b[0;34m\u001b[0m\u001b[0;34m\u001b[0m\u001b[0m\n\u001b[0m\u001b[1;32m    320\u001b[0m         \u001b[0;32mif\u001b[0m \u001b[0misinstance\u001b[0m\u001b[0;34m(\u001b[0m\u001b[0mret\u001b[0m\u001b[0;34m,\u001b[0m \u001b[0mTensorBase\u001b[0m\u001b[0;34m)\u001b[0m\u001b[0;34m:\u001b[0m \u001b[0mret\u001b[0m\u001b[0;34m.\u001b[0m\u001b[0mset_meta\u001b[0m\u001b[0;34m(\u001b[0m\u001b[0mself\u001b[0m\u001b[0;34m,\u001b[0m \u001b[0mas_copy\u001b[0m\u001b[0;34m=\u001b[0m\u001b[0;32mTrue\u001b[0m\u001b[0;34m)\u001b[0m\u001b[0;34m\u001b[0m\u001b[0;34m\u001b[0m\u001b[0m\n\u001b[1;32m    321\u001b[0m         \u001b[0;32mreturn\u001b[0m \u001b[0mret\u001b[0m\u001b[0;34m\u001b[0m\u001b[0;34m\u001b[0m\u001b[0m\n",
      "\u001b[0;32m~/anaconda3/envs/fastai-drug/lib/python3.7/site-packages/torch/_tensor.py\u001b[0m in \u001b[0;36m__torch_function__\u001b[0;34m(cls, func, types, args, kwargs)\u001b[0m\n\u001b[1;32m   1021\u001b[0m \u001b[0;34m\u001b[0m\u001b[0m\n\u001b[1;32m   1022\u001b[0m         \u001b[0;32mwith\u001b[0m \u001b[0m_C\u001b[0m\u001b[0;34m.\u001b[0m\u001b[0mDisableTorchFunction\u001b[0m\u001b[0;34m(\u001b[0m\u001b[0;34m)\u001b[0m\u001b[0;34m:\u001b[0m\u001b[0;34m\u001b[0m\u001b[0;34m\u001b[0m\u001b[0m\n\u001b[0;32m-> 1023\u001b[0;31m             \u001b[0mret\u001b[0m \u001b[0;34m=\u001b[0m \u001b[0mfunc\u001b[0m\u001b[0;34m(\u001b[0m\u001b[0;34m*\u001b[0m\u001b[0margs\u001b[0m\u001b[0;34m,\u001b[0m \u001b[0;34m**\u001b[0m\u001b[0mkwargs\u001b[0m\u001b[0;34m)\u001b[0m\u001b[0;34m\u001b[0m\u001b[0;34m\u001b[0m\u001b[0m\n\u001b[0m\u001b[1;32m   1024\u001b[0m             \u001b[0;32mreturn\u001b[0m \u001b[0m_convert\u001b[0m\u001b[0;34m(\u001b[0m\u001b[0mret\u001b[0m\u001b[0;34m,\u001b[0m \u001b[0mcls\u001b[0m\u001b[0;34m)\u001b[0m\u001b[0;34m\u001b[0m\u001b[0;34m\u001b[0m\u001b[0m\n\u001b[1;32m   1025\u001b[0m \u001b[0;34m\u001b[0m\u001b[0m\n",
      "\u001b[0;31mKeyboardInterrupt\u001b[0m: "
     ]
    }
   ],
   "source": [
    "model, history = train_and_eval(num_epochs=2)"
   ]
  },
  {
   "cell_type": "markdown",
   "id": "2afe9f03",
   "metadata": {},
   "source": [
    "# Cost Regularized Loss function"
   ]
  },
  {
   "cell_type": "code",
   "execution_count": null,
   "id": "2b48f27f",
   "metadata": {},
   "outputs": [],
   "source": [
    "n_classes = 2 \n",
    "base_loss = 'ce'\n",
    "lambd = 10\n",
    "criterion = CostSensitiveRegularizedLoss(n_classes=n_classes, base_loss=base_loss, lambd=lambd)"
   ]
  },
  {
   "cell_type": "code",
   "execution_count": null,
   "id": "b7ecbdef",
   "metadata": {},
   "outputs": [],
   "source": [
    "M = np.array([[0,10],\n",
    "              [1,0]], dtype=float)\n",
    "M /= M.max()\n",
    "M = torch.from_numpy(M)\n",
    "M = M.to(torch.float32)\n",
    "criterion.M = M"
   ]
  },
  {
   "cell_type": "code",
   "execution_count": null,
   "id": "8ac4b4aa",
   "metadata": {},
   "outputs": [],
   "source": [
    "model_cs = create_model()"
   ]
  },
  {
   "cell_type": "code",
   "execution_count": null,
   "id": "7313a1e6",
   "metadata": {},
   "outputs": [],
   "source": [
    "lr = 0.0003"
   ]
  },
  {
   "cell_type": "code",
   "execution_count": null,
   "id": "cbe0b7e7",
   "metadata": {},
   "outputs": [],
   "source": [
    "# Observe that all parameters are being optimized\n",
    "optimizer_cs = optim.SGD(model_cs.parameters(), lr=lr, momentum=0.9)\n",
    "\n",
    "# Decay LR by a factor of 0.1 every 7 epochs\n",
    "exp_lr_scheduler = lr_scheduler.StepLR(optimizer_cs, step_size=3, gamma=0.1)"
   ]
  },
  {
   "cell_type": "code",
   "execution_count": null,
   "id": "9520ba28",
   "metadata": {},
   "outputs": [],
   "source": [
    "model_cs, history_cs = train_model(model_cs, criterion, optimizer_cs, exp_lr_scheduler,\n",
    "                       num_epochs=5)"
   ]
  },
  {
   "cell_type": "code",
   "execution_count": null,
   "id": "30911ba1",
   "metadata": {},
   "outputs": [],
   "source": [
    "plot_accuracies(history_cs)"
   ]
  },
  {
   "cell_type": "code",
   "execution_count": null,
   "id": "9a6c2bf7",
   "metadata": {},
   "outputs": [],
   "source": [
    "plot_losses(history_cs)"
   ]
  },
  {
   "cell_type": "code",
   "execution_count": null,
   "id": "e92fa2df",
   "metadata": {},
   "outputs": [],
   "source": [
    "show_confusion_matrix(model_cs, dls.valid)"
   ]
  },
  {
   "cell_type": "code",
   "execution_count": null,
   "id": "482376c2",
   "metadata": {},
   "outputs": [],
   "source": [
    "show_confusion_matrix(model_ft, dls.valid)"
   ]
  },
  {
   "cell_type": "markdown",
   "id": "cccb421e",
   "metadata": {},
   "source": [
    "# Cost Sensitive loss vs CE loss"
   ]
  },
  {
   "cell_type": "code",
   "execution_count": null,
   "id": "481ecb19",
   "metadata": {},
   "outputs": [],
   "source": [
    "feature_extract = True\n",
    "lr = 0.0003"
   ]
  },
  {
   "cell_type": "code",
   "execution_count": null,
   "id": "b492262f",
   "metadata": {},
   "outputs": [],
   "source": [
    "model_ft = create_model(feature_extract=feature_extract)"
   ]
  },
  {
   "cell_type": "code",
   "execution_count": null,
   "id": "fba270a8",
   "metadata": {},
   "outputs": [],
   "source": [
    "params_to_update = model_ft.parameters()\n",
    "print(\"Params to learn:\")\n",
    "if feature_extract:\n",
    "    params_to_update = []\n",
    "    for name,param in model_ft.named_parameters():\n",
    "        if param.requires_grad == True:\n",
    "            params_to_update.append(param)\n",
    "            print(\"\\t\",name)\n",
    "else:\n",
    "    for name,param in model_ft.named_parameters():\n",
    "        if param.requires_grad == True:\n",
    "            print(\"\\t\",name)"
   ]
  },
  {
   "cell_type": "code",
   "execution_count": null,
   "id": "2fdedf39",
   "metadata": {},
   "outputs": [],
   "source": [
    "# Observe that all parameters are being optimized\n",
    "optimizer_ft = optim.SGD(params_to_update, lr=lr, momentum=0.9)\n",
    "# Decay LR by a factor of 0.1 every 7 epochs\n",
    "exp_lr_scheduler = lr_scheduler.StepLR(optimizer_ft, step_size=3, gamma=0.1)"
   ]
  },
  {
   "cell_type": "code",
   "execution_count": null,
   "id": "6f425008",
   "metadata": {},
   "outputs": [],
   "source": [
    "# Setup the loss fxn\n",
    "criterion = nn.CrossEntropyLoss()"
   ]
  },
  {
   "cell_type": "code",
   "execution_count": null,
   "id": "7fb499e0",
   "metadata": {},
   "outputs": [],
   "source": [
    "model_ft, history_ft = train_model(model_ft, criterion, optimizer_ft, exp_lr_scheduler,\n",
    "                       num_epochs=1)"
   ]
  },
  {
   "cell_type": "code",
   "execution_count": null,
   "id": "26ac7761",
   "metadata": {},
   "outputs": [],
   "source": [
    "for param in model_ft.parameters():\n",
    "    param.requires_grad = True"
   ]
  },
  {
   "cell_type": "code",
   "execution_count": null,
   "id": "a013d64d",
   "metadata": {},
   "outputs": [],
   "source": [
    "# Observe that all parameters are being optimized\n",
    "optimizer_ft = optim.SGD(model_ft.parameters(), lr=lr, momentum=0.9)\n",
    "# Decay LR by a factor of 0.1 every 7 epochs\n",
    "exp_lr_scheduler = lr_scheduler.StepLR(optimizer_ft, step_size=3, gamma=0.1)"
   ]
  },
  {
   "cell_type": "code",
   "execution_count": null,
   "id": "bf0e70d6",
   "metadata": {},
   "outputs": [],
   "source": [
    "model_ft, history_ft = train_model(model_ft, criterion, optimizer_ft, exp_lr_scheduler,\n",
    "                       num_epochs=5)"
   ]
  },
  {
   "cell_type": "code",
   "execution_count": null,
   "id": "3c251995",
   "metadata": {
    "scrolled": true
   },
   "outputs": [],
   "source": [
    "show_confusion_matrix(model_ft, dls.valid)"
   ]
  },
  {
   "cell_type": "markdown",
   "id": "6b48b2ae",
   "metadata": {},
   "source": [
    "### Cost Sensitive loss model"
   ]
  },
  {
   "cell_type": "code",
   "execution_count": null,
   "id": "1f600fbe",
   "metadata": {},
   "outputs": [],
   "source": [
    "feature_extract = True\n",
    "lr = 0.0003"
   ]
  },
  {
   "cell_type": "code",
   "execution_count": null,
   "id": "c10cc64c",
   "metadata": {},
   "outputs": [],
   "source": [
    "model_cs = create_model(feature_extract=feature_extract)"
   ]
  },
  {
   "cell_type": "code",
   "execution_count": null,
   "id": "a9e5a71d",
   "metadata": {},
   "outputs": [],
   "source": [
    "params_to_update = model_cs.parameters()\n",
    "print(\"Params to learn:\")\n",
    "if feature_extract:\n",
    "    params_to_update = []\n",
    "    for name,param in model_cs.named_parameters():\n",
    "        if param.requires_grad == True:\n",
    "            params_to_update.append(param)\n",
    "            print(\"\\t\",name)\n",
    "else:\n",
    "    for name,param in model_cs.named_parameters():\n",
    "        if param.requires_grad == True:\n",
    "            print(\"\\t\",name)"
   ]
  },
  {
   "cell_type": "code",
   "execution_count": null,
   "id": "6ff2ff25",
   "metadata": {},
   "outputs": [],
   "source": [
    "# Observe that all parameters are being optimized\n",
    "optimizer_cs = optim.SGD(params_to_update, lr=lr, momentum=0.9)\n",
    "# Decay LR by a factor of 0.1 every 7 epochs\n",
    "exp_lr_scheduler = lr_scheduler.StepLR(optimizer_cs, step_size=3, gamma=0.1)"
   ]
  },
  {
   "cell_type": "code",
   "execution_count": null,
   "id": "ef7a4e4d",
   "metadata": {},
   "outputs": [],
   "source": [
    "n_classes = 2 \n",
    "base_loss = 'ce'\n",
    "lambd = 10\n",
    "criterion = CostSensitiveRegularizedLoss(n_classes=n_classes, base_loss=base_loss, lambd=lambd)"
   ]
  },
  {
   "cell_type": "code",
   "execution_count": null,
   "id": "101656fe",
   "metadata": {},
   "outputs": [],
   "source": [
    "M = np.array([[0,10],\n",
    "              [1,0]], dtype=float)\n",
    "M /= M.max()\n",
    "M = torch.from_numpy(M)\n",
    "M = M.to(torch.float32)\n",
    "criterion.M = M"
   ]
  },
  {
   "cell_type": "code",
   "execution_count": null,
   "id": "06dac169",
   "metadata": {},
   "outputs": [],
   "source": [
    "model_cs, history_cs = train_model(model_cs, criterion, optimizer_cs, exp_lr_scheduler,\n",
    "                       num_epochs=1)"
   ]
  },
  {
   "cell_type": "code",
   "execution_count": null,
   "id": "e833903c",
   "metadata": {},
   "outputs": [],
   "source": [
    "for param in model_cs.parameters():\n",
    "    param.requires_grad = True"
   ]
  },
  {
   "cell_type": "code",
   "execution_count": null,
   "id": "293e5a1c",
   "metadata": {},
   "outputs": [],
   "source": [
    "# Observe that all parameters are being optimized\n",
    "optimizer_cs = optim.SGD(model_cs.parameters(), lr=lr, momentum=0.9)\n",
    "# Decay LR by a factor of 0.1 every 7 epochs\n",
    "exp_lr_scheduler = lr_scheduler.StepLR(optimizer_cs, step_size=3, gamma=0.1)"
   ]
  },
  {
   "cell_type": "code",
   "execution_count": null,
   "id": "a4f05048",
   "metadata": {},
   "outputs": [],
   "source": [
    "model_cs, history_cs = train_model(model_cs, criterion, optimizer_cs, exp_lr_scheduler,\n",
    "                       num_epochs=5)"
   ]
  },
  {
   "cell_type": "code",
   "execution_count": null,
   "id": "b153cc39",
   "metadata": {},
   "outputs": [],
   "source": [
    "show_confusion_matrix(model_cs, dls.valid)"
   ]
  },
  {
   "cell_type": "code",
   "execution_count": null,
   "id": "35f2ceed",
   "metadata": {},
   "outputs": [],
   "source": [
    "num_epochs = min(len(history_ft), len(history_cs))\n",
    "# Plot the training curves of validation accuracy vs. number\n",
    "#  of training epochs for the transfer learning method and\n",
    "#  the model trained from scratch\n",
    "ohist = []\n",
    "shist = []\n",
    "\n",
    "ohist = [history_cs[i]['val_acc'].cpu().numpy() for i in range(0, num_epochs)]\n",
    "shist = [history_ft[i]['val_acc'].cpu().numpy() for i in range(0, num_epochs)]\n",
    "\n",
    "plt.title(\"Validation Accuracy vs. Number of Training Epochs\")\n",
    "plt.xlabel(\"Training Epochs\")\n",
    "plt.ylabel(\"Validation Accuracy\")\n",
    "plt.plot(range(1,num_epochs+1),ohist,label=\"CE loss\")\n",
    "plt.plot(range(1,num_epochs+1),shist,label='CS loss')\n",
    "plt.ylim((0.95,1.))\n",
    "plt.xticks(np.arange(1, num_epochs+1, 1.0))\n",
    "plt.legend()\n",
    "plt.show()"
   ]
  },
  {
   "cell_type": "code",
   "execution_count": null,
   "id": "870a92d1",
   "metadata": {},
   "outputs": [],
   "source": []
  }
 ],
 "metadata": {
  "kernelspec": {
   "display_name": "Python 3 (ipykernel)",
   "language": "python",
   "name": "python3"
  },
  "language_info": {
   "codemirror_mode": {
    "name": "ipython",
    "version": 3
   },
   "file_extension": ".py",
   "mimetype": "text/x-python",
   "name": "python",
   "nbconvert_exporter": "python",
   "pygments_lexer": "ipython3",
   "version": "3.7.11"
  }
 },
 "nbformat": 4,
 "nbformat_minor": 5
}
