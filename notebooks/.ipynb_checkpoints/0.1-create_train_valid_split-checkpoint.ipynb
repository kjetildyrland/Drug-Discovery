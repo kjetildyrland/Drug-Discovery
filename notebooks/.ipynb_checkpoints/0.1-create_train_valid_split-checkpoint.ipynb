{
 "cells": [
  {
   "cell_type": "markdown",
   "id": "5e4ccdfe",
   "metadata": {},
   "source": [
    "# Image Classification with DNN"
   ]
  },
  {
   "cell_type": "markdown",
   "id": "f2f9da94",
   "metadata": {},
   "source": [
    "## DATASETS:\n",
    "(a) Carbonic Anhydrase II (ChEMBL205), a protein lyase,  \n",
    "(b) Cyclin-dependent kinase 2 (CHEMBL301), a protein kinase,  \n",
    "(c) ether-a-go-go-related gene potassium channel 1 (HERG) (CHEMBL240), a voltage-gated ion channel,  \n",
    "(d) Dopamine D4 receptor (CHEMBL219), a monoamine GPCR,  \n",
    "(e) Coagulation factor X (CHEMBL244), a serine protease,  \n",
    "(f) Cannabinoid CB1 receptor (CHEMBL218), a lipid-like GPCR and  \n",
    "(g) Cytochrome P450 19A1 (CHEMBL1978), a cytochrome P450.  \n",
    "The activity classes were selected based on data availability and as representatives of therapeutically important target classes or as anti-targets."
   ]
  },
  {
   "cell_type": "code",
   "execution_count": 1,
   "id": "fcf71ac3",
   "metadata": {},
   "outputs": [],
   "source": [
    "# Import\n",
    "import pandas as pd\n",
    "import numpy as np\n",
    "from pathlib import Path"
   ]
  },
  {
   "cell_type": "code",
   "execution_count": 2,
   "id": "dc71a6bb",
   "metadata": {},
   "outputs": [],
   "source": [
    "path = Path('../dataset/13321_2017_226_MOESM1_ESM/')"
   ]
  },
  {
   "cell_type": "code",
   "execution_count": 3,
   "id": "85a552c6",
   "metadata": {},
   "outputs": [
    {
     "data": {
      "text/plain": [
       "[PosixPath('../dataset/13321_2017_226_MOESM1_ESM/CHEMBL205'),\n",
       " PosixPath('../dataset/13321_2017_226_MOESM1_ESM/.ipynb_checkpoints'),\n",
       " PosixPath('../dataset/13321_2017_226_MOESM1_ESM/CHEMBL301'),\n",
       " PosixPath('../dataset/13321_2017_226_MOESM1_ESM/CHEMBL218'),\n",
       " PosixPath('../dataset/13321_2017_226_MOESM1_ESM/CHEMBL219'),\n",
       " PosixPath('../dataset/13321_2017_226_MOESM1_ESM/CHEMBL244'),\n",
       " PosixPath('../dataset/13321_2017_226_MOESM1_ESM/mol_images'),\n",
       " PosixPath('../dataset/13321_2017_226_MOESM1_ESM/CHEMBL1978'),\n",
       " PosixPath('../dataset/13321_2017_226_MOESM1_ESM/CHEMBL240')]"
      ]
     },
     "execution_count": 3,
     "metadata": {},
     "output_type": "execute_result"
    }
   ],
   "source": [
    "list(path.iterdir())"
   ]
  },
  {
   "cell_type": "markdown",
   "id": "424b4c1b",
   "metadata": {},
   "source": [
    "# Create train validation splits"
   ]
  },
  {
   "cell_type": "code",
   "execution_count": 4,
   "id": "7ef7fde9",
   "metadata": {},
   "outputs": [],
   "source": [
    "from sklearn.model_selection import train_test_split"
   ]
  },
  {
   "cell_type": "code",
   "execution_count": 5,
   "id": "4f25919f",
   "metadata": {},
   "outputs": [],
   "source": [
    "datasets = ['CHEMBL205','CHEMBL1978', 'CHEMBL301', 'CHEMBL218', \n",
    "            'CHEMBL240', 'CHEMBL219', \n",
    "            'CHEMBL244']"
   ]
  },
  {
   "cell_type": "code",
   "execution_count": 6,
   "id": "dc30be45",
   "metadata": {},
   "outputs": [
    {
     "data": {
      "text/plain": [
       "4"
      ]
     },
     "execution_count": 6,
     "metadata": {},
     "output_type": "execute_result"
    }
   ],
   "source": [
    "DATA = path\n",
    "DATA.mkdir(exist_ok=True)\n",
    "PATH = DATA/datasets[2]\n",
    "len(list(PATH.iterdir()))"
   ]
  },
  {
   "cell_type": "code",
   "execution_count": 9,
   "id": "2626fdfa",
   "metadata": {},
   "outputs": [],
   "source": [
    "for dataset in datasets:\n",
    "    \n",
    "    DATASET = DATA/dataset\n",
    "    df = pd.read_csv(DATASET/f'{dataset}_cl.csv')\n",
    "    x_train, x_valid = train_test_split(df.index, test_size=0.2, random_state=666, stratify=df['Activity'])\n",
    "    df.loc[x_train, 'is_valid']=False\n",
    "    df.loc[x_valid, 'is_valid']=True\n",
    "    df = df.reset_index(drop=True)\n",
    "    df.to_csv(DATASET/f'{dataset}_train_valid.csv', index=False)\n",
    "    df.head()"
   ]
  },
  {
   "cell_type": "code",
   "execution_count": 10,
   "id": "523b6b28",
   "metadata": {},
   "outputs": [],
   "source": [
    "dataset = datasets[2]"
   ]
  },
  {
   "cell_type": "code",
   "execution_count": 11,
   "id": "350f1d1d",
   "metadata": {
    "scrolled": true
   },
   "outputs": [
    {
     "name": "stdout",
     "output_type": "stream",
     "text": [
      "<class 'pandas.core.frame.DataFrame'>\n",
      "RangeIndex: 7755 entries, 0 to 7754\n",
      "Data columns (total 4 columns):\n",
      " #   Column    Non-Null Count  Dtype \n",
      "---  ------    --------------  ----- \n",
      " 0   CID       7755 non-null   object\n",
      " 1   SMILES    7755 non-null   object\n",
      " 2   Activity  7755 non-null   int64 \n",
      " 3   is_valid  7755 non-null   bool  \n",
      "dtypes: bool(1), int64(1), object(2)\n",
      "memory usage: 189.5+ KB\n"
     ]
    }
   ],
   "source": [
    "df = pd.read_csv(DATA/dataset/f'{datasets[2]}_train_valid.csv')\n",
    "df.info()"
   ]
  },
  {
   "cell_type": "code",
   "execution_count": 12,
   "id": "174e5def",
   "metadata": {},
   "outputs": [
    {
     "name": "stdout",
     "output_type": "stream",
     "text": [
      "<class 'pandas.core.frame.DataFrame'>\n",
      "RangeIndex: 7755 entries, 0 to 7754\n",
      "Data columns (total 3 columns):\n",
      " #   Column    Non-Null Count  Dtype \n",
      "---  ------    --------------  ----- \n",
      " 0   CID       7755 non-null   object\n",
      " 1   SMILES    7755 non-null   object\n",
      " 2   Activity  7755 non-null   int64 \n",
      "dtypes: int64(1), object(2)\n",
      "memory usage: 181.9+ KB\n"
     ]
    }
   ],
   "source": [
    "df = pd.read_csv(DATA/dataset/f'{datasets[2]}_cl.csv')\n",
    "df.info()"
   ]
  },
  {
   "cell_type": "code",
   "execution_count": null,
   "id": "a6e51fe0",
   "metadata": {},
   "outputs": [],
   "source": []
  },
  {
   "cell_type": "code",
   "execution_count": null,
   "id": "6e079da5",
   "metadata": {},
   "outputs": [],
   "source": []
  }
 ],
 "metadata": {
  "kernelspec": {
   "display_name": "Python 3 (ipykernel)",
   "language": "python",
   "name": "python3"
  },
  "language_info": {
   "codemirror_mode": {
    "name": "ipython",
    "version": 3
   },
   "file_extension": ".py",
   "mimetype": "text/x-python",
   "name": "python",
   "nbconvert_exporter": "python",
   "pygments_lexer": "ipython3",
   "version": "3.7.11"
  }
 },
 "nbformat": 4,
 "nbformat_minor": 5
}
