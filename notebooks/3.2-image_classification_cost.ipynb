{
 "cells": [
  {
   "cell_type": "markdown",
   "id": "02376db5",
   "metadata": {},
   "source": [
    "# Image Classification with DNN"
   ]
  },
  {
   "cell_type": "markdown",
   "id": "28204ada",
   "metadata": {},
   "source": [
    "## DATASETS:\n",
    "(a) Carbonic Anhydrase II (ChEMBL205), a protein lyase,  \n",
    "(b) Cyclin-dependent kinase 2 (CHEMBL301), a protein kinase,  \n",
    "(c) ether-a-go-go-related gene potassium channel 1 (HERG) (CHEMBL240), a voltage-gated ion channel,  \n",
    "(d) Dopamine D4 receptor (CHEMBL219), a monoamine GPCR,  \n",
    "(e) Coagulation factor X (CHEMBL244), a serine protease,  \n",
    "(f) Cannabinoid CB1 receptor (CHEMBL218), a lipid-like GPCR and  \n",
    "(g) Cytochrome P450 19A1 (CHEMBL1978), a cytochrome P450.  \n",
    "The activity classes were selected based on data availability and as representatives of therapeutically important target classes or as anti-targets."
   ]
  },
  {
   "cell_type": "code",
   "execution_count": 1,
   "id": "7ff5d5e3",
   "metadata": {
    "scrolled": true
   },
   "outputs": [
    {
     "name": "stdout",
     "output_type": "stream",
     "text": [
      "Fri Mar 18 11:34:37 2022       \r\n",
      "+-----------------------------------------------------------------------------+\r\n",
      "| NVIDIA-SMI 470.103.01   Driver Version: 470.103.01   CUDA Version: 11.4     |\r\n",
      "|-------------------------------+----------------------+----------------------+\r\n",
      "| GPU  Name        Persistence-M| Bus-Id        Disp.A | Volatile Uncorr. ECC |\r\n",
      "| Fan  Temp  Perf  Pwr:Usage/Cap|         Memory-Usage | GPU-Util  Compute M. |\r\n",
      "|                               |                      |               MIG M. |\r\n",
      "|===============================+======================+======================|\r\n",
      "|   0  NVIDIA GeForce ...  Off  | 00000000:01:00.0  On |                  N/A |\r\n",
      "|  0%   53C    P5    22W / 240W |    396MiB /  8116MiB |      0%      Default |\r\n",
      "|                               |                      |                  N/A |\r\n",
      "+-------------------------------+----------------------+----------------------+\r\n",
      "                                                                               \r\n",
      "+-----------------------------------------------------------------------------+\r\n",
      "| Processes:                                                                  |\r\n",
      "|  GPU   GI   CI        PID   Type   Process name                  GPU Memory |\r\n",
      "|        ID   ID                                                   Usage      |\r\n",
      "|=============================================================================|\r\n",
      "|    0   N/A  N/A      1003      G   /usr/lib/xorg/Xorg                139MiB |\r\n",
      "|    0   N/A  N/A      1371      G   /usr/bin/gnome-shell              113MiB |\r\n",
      "|    0   N/A  N/A      3319      G   /usr/lib/firefox/firefox          141MiB |\r\n",
      "+-----------------------------------------------------------------------------+\r\n"
     ]
    }
   ],
   "source": [
    "!nvidia-smi"
   ]
  },
  {
   "cell_type": "code",
   "execution_count": 2,
   "id": "fe052ee5",
   "metadata": {},
   "outputs": [],
   "source": [
    "# Import\n",
    "import pandas as pd\n",
    "import numpy as np\n",
    "from pathlib import Path"
   ]
  },
  {
   "cell_type": "code",
   "execution_count": 3,
   "id": "c51e1815",
   "metadata": {},
   "outputs": [],
   "source": [
    "%matplotlib inline\n",
    "import matplotlib.pyplot as plt\n",
    "import sys\n",
    "import os\n",
    "sys.path.append('/usr/local/lib/python3.7/site-packages/')\n",
    "#from rdkit import Chem\n",
    "#from rdkit.Chem import AllChem"
   ]
  },
  {
   "cell_type": "code",
   "execution_count": 4,
   "id": "8112b927",
   "metadata": {},
   "outputs": [],
   "source": [
    "dataset = 'CHEMBL205'"
   ]
  },
  {
   "cell_type": "code",
   "execution_count": 5,
   "id": "327fcae1",
   "metadata": {},
   "outputs": [],
   "source": [
    "path = Path('../dataset/13321_2017_226_MOESM1_ESM/')\n",
    "df = pd.read_csv(path/dataset/f'{dataset}_train_valid.csv')"
   ]
  },
  {
   "cell_type": "code",
   "execution_count": 6,
   "id": "59ad0e49",
   "metadata": {},
   "outputs": [
    {
     "data": {
      "text/plain": [
       "[PosixPath('../dataset/13321_2017_226_MOESM1_ESM/CHEMBL205'),\n",
       " PosixPath('../dataset/13321_2017_226_MOESM1_ESM/.ipynb_checkpoints'),\n",
       " PosixPath('../dataset/13321_2017_226_MOESM1_ESM/CHEMBL301'),\n",
       " PosixPath('../dataset/13321_2017_226_MOESM1_ESM/CHEMBL218'),\n",
       " PosixPath('../dataset/13321_2017_226_MOESM1_ESM/CHEMBL219'),\n",
       " PosixPath('../dataset/13321_2017_226_MOESM1_ESM/CHEMBL244'),\n",
       " PosixPath('../dataset/13321_2017_226_MOESM1_ESM/mol_images'),\n",
       " PosixPath('../dataset/13321_2017_226_MOESM1_ESM/CHEMBL1978'),\n",
       " PosixPath('../dataset/13321_2017_226_MOESM1_ESM/CHEMBL240')]"
      ]
     },
     "execution_count": 6,
     "metadata": {},
     "output_type": "execute_result"
    }
   ],
   "source": [
    "list(path.iterdir())"
   ]
  },
  {
   "cell_type": "code",
   "execution_count": 7,
   "id": "6b267cf5",
   "metadata": {},
   "outputs": [],
   "source": [
    "DATA = path/'mol_images'"
   ]
  },
  {
   "cell_type": "code",
   "execution_count": 8,
   "id": "5ab97516",
   "metadata": {},
   "outputs": [],
   "source": [
    "IMAGES = DATA/dataset"
   ]
  },
  {
   "cell_type": "markdown",
   "id": "7bda9eb2",
   "metadata": {},
   "source": [
    "# Create train validation split"
   ]
  },
  {
   "cell_type": "code",
   "execution_count": 9,
   "id": "0ccf60f8",
   "metadata": {},
   "outputs": [],
   "source": [
    "from sklearn.model_selection import train_test_split"
   ]
  },
  {
   "cell_type": "code",
   "execution_count": 10,
   "id": "6bce3ad6",
   "metadata": {},
   "outputs": [
    {
     "data": {
      "text/plain": [
       "False    14352\n",
       "True      3589\n",
       "Name: is_valid, dtype: int64"
      ]
     },
     "execution_count": 10,
     "metadata": {},
     "output_type": "execute_result"
    }
   ],
   "source": [
    "df.is_valid.value_counts()"
   ]
  },
  {
   "cell_type": "code",
   "execution_count": 11,
   "id": "6dbf28de",
   "metadata": {},
   "outputs": [
    {
     "data": {
      "text/plain": [
       "0.2500696767001115"
      ]
     },
     "execution_count": 11,
     "metadata": {},
     "output_type": "execute_result"
    }
   ],
   "source": [
    "len(df[df.is_valid == True]) / len(df[df.is_valid == False])"
   ]
  },
  {
   "cell_type": "markdown",
   "id": "4f59daa4",
   "metadata": {},
   "source": [
    "# Create dataloader"
   ]
  },
  {
   "cell_type": "code",
   "execution_count": 12,
   "id": "7092a50a",
   "metadata": {},
   "outputs": [],
   "source": [
    "from fastai.vision.all import *"
   ]
  },
  {
   "cell_type": "code",
   "execution_count": 13,
   "id": "59928f03",
   "metadata": {},
   "outputs": [
    {
     "data": {
      "text/html": [
       "<div>\n",
       "<style scoped>\n",
       "    .dataframe tbody tr th:only-of-type {\n",
       "        vertical-align: middle;\n",
       "    }\n",
       "\n",
       "    .dataframe tbody tr th {\n",
       "        vertical-align: top;\n",
       "    }\n",
       "\n",
       "    .dataframe thead th {\n",
       "        text-align: right;\n",
       "    }\n",
       "</style>\n",
       "<table border=\"1\" class=\"dataframe\">\n",
       "  <thead>\n",
       "    <tr style=\"text-align: right;\">\n",
       "      <th></th>\n",
       "      <th>CID</th>\n",
       "      <th>SMILES</th>\n",
       "      <th>Activity</th>\n",
       "      <th>is_valid</th>\n",
       "      <th>Image</th>\n",
       "    </tr>\n",
       "  </thead>\n",
       "  <tbody>\n",
       "    <tr>\n",
       "      <th>0</th>\n",
       "      <td>CHEMBL188002</td>\n",
       "      <td>S(=O)(=O)(N)c1cc(N/C(/S)=N\\c2cc(C(=O)[O-])c(cc2)C=2c3c(OC4=CC(=O)C=CC=24)cc(O)cc3)ccc1</td>\n",
       "      <td>1</td>\n",
       "      <td>False</td>\n",
       "      <td>CHEMBL188002.png</td>\n",
       "    </tr>\n",
       "    <tr>\n",
       "      <th>1</th>\n",
       "      <td>CHEMBL364127</td>\n",
       "      <td>Clc1ccc(cc1)C(=O)NC1Cc2cc(S(=O)(=O)N)ccc2C1</td>\n",
       "      <td>1</td>\n",
       "      <td>False</td>\n",
       "      <td>CHEMBL364127.png</td>\n",
       "    </tr>\n",
       "    <tr>\n",
       "      <th>2</th>\n",
       "      <td>CHEMBL1683469</td>\n",
       "      <td>S(=O)(=O)(N)c1ccc(cc1)CNS(=O)(=O)CC12CCC(CC1=O)C2(C)C</td>\n",
       "      <td>1</td>\n",
       "      <td>False</td>\n",
       "      <td>CHEMBL1683469.png</td>\n",
       "    </tr>\n",
       "    <tr>\n",
       "      <th>3</th>\n",
       "      <td>CHEMBL52564</td>\n",
       "      <td>Oc1ccccc1\\C=C\\C(=O)[O-]</td>\n",
       "      <td>1</td>\n",
       "      <td>False</td>\n",
       "      <td>CHEMBL52564.png</td>\n",
       "    </tr>\n",
       "    <tr>\n",
       "      <th>4</th>\n",
       "      <td>CHEMBL21427</td>\n",
       "      <td>OB(O)c1ccc(OC)cc1</td>\n",
       "      <td>1</td>\n",
       "      <td>False</td>\n",
       "      <td>CHEMBL21427.png</td>\n",
       "    </tr>\n",
       "  </tbody>\n",
       "</table>\n",
       "</div>"
      ],
      "text/plain": [
       "             CID  \\\n",
       "0   CHEMBL188002   \n",
       "1   CHEMBL364127   \n",
       "2  CHEMBL1683469   \n",
       "3    CHEMBL52564   \n",
       "4    CHEMBL21427   \n",
       "\n",
       "                                                                                   SMILES  \\\n",
       "0  S(=O)(=O)(N)c1cc(N/C(/S)=N\\c2cc(C(=O)[O-])c(cc2)C=2c3c(OC4=CC(=O)C=CC=24)cc(O)cc3)ccc1   \n",
       "1                                             Clc1ccc(cc1)C(=O)NC1Cc2cc(S(=O)(=O)N)ccc2C1   \n",
       "2                                   S(=O)(=O)(N)c1ccc(cc1)CNS(=O)(=O)CC12CCC(CC1=O)C2(C)C   \n",
       "3                                                                 Oc1ccccc1\\C=C\\C(=O)[O-]   \n",
       "4                                                                       OB(O)c1ccc(OC)cc1   \n",
       "\n",
       "   Activity  is_valid              Image  \n",
       "0         1     False   CHEMBL188002.png  \n",
       "1         1     False   CHEMBL364127.png  \n",
       "2         1     False  CHEMBL1683469.png  \n",
       "3         1     False    CHEMBL52564.png  \n",
       "4         1     False    CHEMBL21427.png  "
      ]
     },
     "execution_count": 13,
     "metadata": {},
     "output_type": "execute_result"
    }
   ],
   "source": [
    "df['Image'] = df['CID'] + '.png'\n",
    "df.head()"
   ]
  },
  {
   "cell_type": "code",
   "execution_count": 14,
   "id": "849975ae",
   "metadata": {},
   "outputs": [
    {
     "data": {
      "text/plain": [
       "0     CHEMBL188002.png\n",
       "1     CHEMBL364127.png\n",
       "2    CHEMBL1683469.png\n",
       "3      CHEMBL52564.png\n",
       "4      CHEMBL21427.png\n",
       "Name: CID, dtype: object"
      ]
     },
     "execution_count": 14,
     "metadata": {},
     "output_type": "execute_result"
    }
   ],
   "source": [
    "images = df['CID'] + \".png\"\n",
    "images.head()"
   ]
  },
  {
   "cell_type": "code",
   "execution_count": 15,
   "id": "24ead7b8",
   "metadata": {},
   "outputs": [],
   "source": [
    "# No flips, some rotation and zoom. Normalize to imagenet_stats as\n",
    "# we're using pretrained models.\n",
    "batch_tfms = [*aug_transforms(mult=1.0, do_flip=False, flip_vert=False, \n",
    "               max_rotate=20.0, min_zoom=1.0, max_zoom=1.1, max_lighting=0., \n",
    "               max_warp=0., p_affine=0.75, p_lighting=0.75, xtra_tfms=None, \n",
    "               size=224, mode='bilinear', \n",
    "               pad_mode='border', align_corners=True, \n",
    "               batch=False, min_scale=1.0), \n",
    "              Normalize.from_stats(*imagenet_stats)]"
   ]
  },
  {
   "cell_type": "code",
   "execution_count": 16,
   "id": "d29d3d3d",
   "metadata": {},
   "outputs": [],
   "source": [
    "db = DataBlock(\n",
    "    blocks = (ImageBlock(), CategoryBlock()), \n",
    "    get_x=ColReader('Image', pref=IMAGES),\n",
    "    get_y=ColReader('Activity'), \n",
    "    splitter=ColSplitter('is_valid'),\n",
    "    item_tfms=None, \n",
    "    batch_tfms=None,\n",
    "    )"
   ]
  },
  {
   "cell_type": "markdown",
   "id": "7f66b1a6",
   "metadata": {},
   "source": [
    "Oversmaple instead of using class weights to test custom loss function"
   ]
  },
  {
   "cell_type": "code",
   "execution_count": 17,
   "id": "8e41ab0b",
   "metadata": {},
   "outputs": [],
   "source": [
    "def val_cols_and_oversample(df, test_size=0.25, random_state=42, oversample=True):\n",
    "    x_train,x_val = train_test_split(df.index, test_size=test_size, stratify=df['Activity'], \n",
    "                                     random_state=random_state)\n",
    "    \n",
    "    df.loc[x_train, 'is_valid']=False\n",
    "    df.loc[x_val, 'is_valid']=True\n",
    "    # Oversample is_valid=False columns\n",
    "    if oversample:\n",
    "        df = pd.concat([*[df.loc[(df.is_valid==False) & (df.Activity==1)]]*10, \n",
    "                        *[df.loc[(df.is_valid==False) & (df.Activity==0)]], \n",
    "                        df.loc[df.is_valid==True]], \n",
    "                       ignore_index=True)\n",
    "    return df\n"
   ]
  },
  {
   "cell_type": "code",
   "execution_count": 18,
   "id": "4a8fe271",
   "metadata": {},
   "outputs": [],
   "source": [
    "def get_df(dataset, random_state=42, test_size=0.25, oversample=True):\n",
    "    df = pd.read_csv(path/dataset/f'{dataset}_cl.csv')\n",
    "    df = val_cols_and_oversample(df, test_size=test_size, random_state=random_state, oversample=oversample)\n",
    "    df['Image'] = df['CID'] + '.png'\n",
    "    return df"
   ]
  },
  {
   "cell_type": "code",
   "execution_count": 19,
   "id": "e60a0d15",
   "metadata": {},
   "outputs": [],
   "source": [
    "def get_df_with_clusters(dataset, n_clusters=100, random_state=42, test_size=0.25):\n",
    "    df = pd.read_csv(path/dataset/f'{dataset}_cl_ECFP_1024_with_{n_clusters}_clusters.csv')\n",
    "    values = df.Cluster.value_counts(ascending=True)\n",
    "    values = values[values < 2].index\n",
    "    for i in list(values):\n",
    "        df = df.drop(df[df.Cluster == i].index)\n",
    "    df.reset_index(drop=True, inplace=True)\n",
    "    x_train, x_valid = train_test_split(df.index, test_size=test_size, random_state=random_state, stratify=df['Cluster'])\n",
    "    df.loc[x_train, 'is_valid']=False\n",
    "    df.loc[x_valid, 'is_valid']=True\n",
    "    df['Image'] = df['Name'] + '.png'\n",
    "    return df"
   ]
  },
  {
   "cell_type": "code",
   "execution_count": 20,
   "id": "505b16e0",
   "metadata": {},
   "outputs": [
    {
     "data": {
      "text/html": [
       "<div>\n",
       "<style scoped>\n",
       "    .dataframe tbody tr th:only-of-type {\n",
       "        vertical-align: middle;\n",
       "    }\n",
       "\n",
       "    .dataframe tbody tr th {\n",
       "        vertical-align: top;\n",
       "    }\n",
       "\n",
       "    .dataframe thead th {\n",
       "        text-align: right;\n",
       "    }\n",
       "</style>\n",
       "<table border=\"1\" class=\"dataframe\">\n",
       "  <thead>\n",
       "    <tr style=\"text-align: right;\">\n",
       "      <th></th>\n",
       "      <th>CID</th>\n",
       "      <th>SMILES</th>\n",
       "      <th>Activity</th>\n",
       "      <th>is_valid</th>\n",
       "      <th>Image</th>\n",
       "    </tr>\n",
       "  </thead>\n",
       "  <tbody>\n",
       "    <tr>\n",
       "      <th>0</th>\n",
       "      <td>CHEMBL364127</td>\n",
       "      <td>Clc1ccc(cc1)C(=O)NC1Cc2cc(S(=O)(=O)N)ccc2C1</td>\n",
       "      <td>1</td>\n",
       "      <td>False</td>\n",
       "      <td>CHEMBL364127.png</td>\n",
       "    </tr>\n",
       "    <tr>\n",
       "      <th>1</th>\n",
       "      <td>CHEMBL1683469</td>\n",
       "      <td>S(=O)(=O)(N)c1ccc(cc1)CNS(=O)(=O)CC12CCC(CC1=O)C2(C)C</td>\n",
       "      <td>1</td>\n",
       "      <td>False</td>\n",
       "      <td>CHEMBL1683469.png</td>\n",
       "    </tr>\n",
       "    <tr>\n",
       "      <th>2</th>\n",
       "      <td>CHEMBL52564</td>\n",
       "      <td>Oc1ccccc1\\C=C\\C(=O)[O-]</td>\n",
       "      <td>1</td>\n",
       "      <td>False</td>\n",
       "      <td>CHEMBL52564.png</td>\n",
       "    </tr>\n",
       "    <tr>\n",
       "      <th>3</th>\n",
       "      <td>CHEMBL21427</td>\n",
       "      <td>OB(O)c1ccc(OC)cc1</td>\n",
       "      <td>1</td>\n",
       "      <td>False</td>\n",
       "      <td>CHEMBL21427.png</td>\n",
       "    </tr>\n",
       "    <tr>\n",
       "      <th>4</th>\n",
       "      <td>CHEMBL1414</td>\n",
       "      <td>O(C)c1cc(cc(OC)c1O)C(=O)[O-]</td>\n",
       "      <td>1</td>\n",
       "      <td>False</td>\n",
       "      <td>CHEMBL1414.png</td>\n",
       "    </tr>\n",
       "  </tbody>\n",
       "</table>\n",
       "</div>"
      ],
      "text/plain": [
       "             CID                                                 SMILES  \\\n",
       "0   CHEMBL364127            Clc1ccc(cc1)C(=O)NC1Cc2cc(S(=O)(=O)N)ccc2C1   \n",
       "1  CHEMBL1683469  S(=O)(=O)(N)c1ccc(cc1)CNS(=O)(=O)CC12CCC(CC1=O)C2(C)C   \n",
       "2    CHEMBL52564                                Oc1ccccc1\\C=C\\C(=O)[O-]   \n",
       "3    CHEMBL21427                                      OB(O)c1ccc(OC)cc1   \n",
       "4     CHEMBL1414                           O(C)c1cc(cc(OC)c1O)C(=O)[O-]   \n",
       "\n",
       "   Activity is_valid              Image  \n",
       "0         1    False   CHEMBL364127.png  \n",
       "1         1    False  CHEMBL1683469.png  \n",
       "2         1    False    CHEMBL52564.png  \n",
       "3         1    False    CHEMBL21427.png  \n",
       "4         1    False     CHEMBL1414.png  "
      ]
     },
     "execution_count": 20,
     "metadata": {},
     "output_type": "execute_result"
    }
   ],
   "source": [
    "df = get_df(dataset)\n",
    "df.head()"
   ]
  },
  {
   "cell_type": "code",
   "execution_count": 21,
   "id": "a313685b",
   "metadata": {},
   "outputs": [
    {
     "name": "stdout",
     "output_type": "stream",
     "text": [
      "<class 'pandas.core.frame.DataFrame'>\n",
      "RangeIndex: 28948 entries, 0 to 28947\n",
      "Data columns (total 5 columns):\n",
      " #   Column    Non-Null Count  Dtype \n",
      "---  ------    --------------  ----- \n",
      " 0   CID       28948 non-null  object\n",
      " 1   SMILES    28948 non-null  object\n",
      " 2   Activity  28948 non-null  int64 \n",
      " 3   is_valid  28948 non-null  object\n",
      " 4   Image     28948 non-null  object\n",
      "dtypes: int64(1), object(4)\n",
      "memory usage: 1.1+ MB\n"
     ]
    }
   ],
   "source": [
    "df.info()"
   ]
  },
  {
   "cell_type": "code",
   "execution_count": 22,
   "id": "05d66a63",
   "metadata": {},
   "outputs": [
    {
     "data": {
      "text/plain": [
       "Path('../dataset/13321_2017_226_MOESM1_ESM/mol_images/CHEMBL205_cl')"
      ]
     },
     "execution_count": 22,
     "metadata": {},
     "output_type": "execute_result"
    }
   ],
   "source": [
    "IMAGES = DATA/f'{dataset}_cl'\n",
    "IMAGES"
   ]
  },
  {
   "cell_type": "code",
   "execution_count": 23,
   "id": "2f8b4df2",
   "metadata": {},
   "outputs": [],
   "source": [
    "def get_dls(dataset, bs=64, clustering=False, random_state=42):\n",
    "    IMAGES = DATA/f'{dataset}_cl'\n",
    "    if clustering:\n",
    "        df = get_df_with_clusters(dataset, n_clusters=100)\n",
    "    else: \n",
    "        df = get_df(dataset, oversample=True)\n",
    "    db = DataBlock(\n",
    "        blocks = (ImageBlock(), CategoryBlock()), \n",
    "        get_x=ColReader('Image', pref=IMAGES),\n",
    "        get_y=ColReader('Activity'), \n",
    "        splitter=ColSplitter('is_valid'),\n",
    "        item_tfms=None, \n",
    "        batch_tfms=None,\n",
    "        )\n",
    "    dls = db.dataloaders(df, bs=bs, shuffle_train=True, random_state=42, num_workers=0)\n",
    "    return dls, df"
   ]
  },
  {
   "cell_type": "code",
   "execution_count": 24,
   "id": "0a53af05",
   "metadata": {},
   "outputs": [],
   "source": [
    "dls, df = get_dls(dataset, clustering=False)"
   ]
  },
  {
   "cell_type": "code",
   "execution_count": 25,
   "id": "28d073f7",
   "metadata": {
    "scrolled": true
   },
   "outputs": [
    {
     "data": {
      "image/png": "[encoded data removed]",
      "text/plain": [
       "<Figure size 648x648 with 9 Axes>"
      ]
     },
     "metadata": {
      "needs_background": "light"
     },
     "output_type": "display_data"
    }
   ],
   "source": [
    "dls.show_batch()"
   ]
  },
  {
   "cell_type": "code",
   "execution_count": 26,
   "id": "56dfbfac",
   "metadata": {},
   "outputs": [
    {
     "data": {
      "image/png": "[encoded data removed]",
      "text/plain": [
       "<Figure size 648x648 with 9 Axes>"
      ]
     },
     "metadata": {
      "needs_background": "light"
     },
     "output_type": "display_data"
    }
   ],
   "source": [
    "dls.show_batch(unique=True)"
   ]
  },
  {
   "cell_type": "markdown",
   "id": "53259dc2",
   "metadata": {},
   "source": [
    "# Create class weights"
   ]
  },
  {
   "cell_type": "code",
   "execution_count": 27,
   "id": "de09e2a8",
   "metadata": {},
   "outputs": [],
   "source": [
    "TARGET = 'Activity'"
   ]
  },
  {
   "cell_type": "code",
   "execution_count": 28,
   "id": "0c733ffe",
   "metadata": {},
   "outputs": [],
   "source": [
    "train_df = df[df.is_valid == False]"
   ]
  },
  {
   "cell_type": "code",
   "execution_count": 29,
   "id": "384f7c4a",
   "metadata": {},
   "outputs": [
    {
     "data": {
      "text/html": [
       "<div>\n",
       "<style scoped>\n",
       "    .dataframe tbody tr th:only-of-type {\n",
       "        vertical-align: middle;\n",
       "    }\n",
       "\n",
       "    .dataframe tbody tr th {\n",
       "        vertical-align: top;\n",
       "    }\n",
       "\n",
       "    .dataframe thead th {\n",
       "        text-align: right;\n",
       "    }\n",
       "</style>\n",
       "<table border=\"1\" class=\"dataframe\">\n",
       "  <thead>\n",
       "    <tr style=\"text-align: right;\">\n",
       "      <th></th>\n",
       "      <th>CID</th>\n",
       "      <th>SMILES</th>\n",
       "      <th>is_valid</th>\n",
       "      <th>Image</th>\n",
       "    </tr>\n",
       "    <tr>\n",
       "      <th>Activity</th>\n",
       "      <th></th>\n",
       "      <th></th>\n",
       "      <th></th>\n",
       "      <th></th>\n",
       "    </tr>\n",
       "  </thead>\n",
       "  <tbody>\n",
       "    <tr>\n",
       "      <th>0</th>\n",
       "      <td>12232</td>\n",
       "      <td>12232</td>\n",
       "      <td>12232</td>\n",
       "      <td>12232</td>\n",
       "    </tr>\n",
       "    <tr>\n",
       "      <th>1</th>\n",
       "      <td>12230</td>\n",
       "      <td>12230</td>\n",
       "      <td>12230</td>\n",
       "      <td>12230</td>\n",
       "    </tr>\n",
       "  </tbody>\n",
       "</table>\n",
       "</div>"
      ],
      "text/plain": [
       "            CID  SMILES  is_valid  Image\n",
       "Activity                                \n",
       "0         12232   12232     12232  12232\n",
       "1         12230   12230     12230  12230"
      ]
     },
     "execution_count": 29,
     "metadata": {},
     "output_type": "execute_result"
    }
   ],
   "source": [
    "class_count_df = train_df.groupby(TARGET).count()\n",
    "class_count_df"
   ]
  },
  {
   "cell_type": "code",
   "execution_count": 30,
   "id": "4439ecd3",
   "metadata": {},
   "outputs": [],
   "source": [
    "n_0, n_1 = class_count_df.iloc[0, 0], class_count_df.iloc[1, 0]"
   ]
  },
  {
   "cell_type": "code",
   "execution_count": 31,
   "id": "32ef24e3",
   "metadata": {},
   "outputs": [
    {
     "data": {
      "text/plain": [
       "(0.9999182472204055, 1.0000817661488144)"
      ]
     },
     "execution_count": 31,
     "metadata": {},
     "output_type": "execute_result"
    }
   ],
   "source": [
    "w_0 = (n_0 + n_1) / (2.0 * n_0)\n",
    "w_1 = (n_0 + n_1) / (2.0 * n_1)\n",
    "w_0, w_1"
   ]
  },
  {
   "cell_type": "code",
   "execution_count": 32,
   "id": "728d1bc1",
   "metadata": {},
   "outputs": [],
   "source": [
    "class_weights=torch.FloatTensor([w_0, w_1]).cuda()"
   ]
  },
  {
   "cell_type": "code",
   "execution_count": 33,
   "id": "aeb48ce1",
   "metadata": {},
   "outputs": [],
   "source": [
    "loss_func = CrossEntropyLossFlat(weight=class_weights)"
   ]
  },
  {
   "cell_type": "code",
   "execution_count": 34,
   "id": "afbee92f",
   "metadata": {},
   "outputs": [],
   "source": [
    "def get_loss_func(df):\n",
    "    TARGET = 'Activity'\n",
    "    class_count_df = df.groupby(TARGET).count()\n",
    "    n_0, n_1 = class_count_df.iloc[0, 0], class_count_df.iloc[1, 0]\n",
    "    w_0 = (n_0 + n_1) / (2.0 * n_0)\n",
    "    w_1 = (n_0 + n_1) / (2.0 * n_1)\n",
    "    class_weights=torch.FloatTensor([w_0, w_1]).cuda()\n",
    "    loss_func = CrossEntropyLossFlat(weight=class_weights)\n",
    "    return loss_func"
   ]
  },
  {
   "cell_type": "code",
   "execution_count": 35,
   "id": "913c1b07",
   "metadata": {},
   "outputs": [],
   "source": [
    "loss_func=get_loss_func(df)"
   ]
  },
  {
   "cell_type": "markdown",
   "id": "cbb7e500",
   "metadata": {},
   "source": [
    "# Train CNN model"
   ]
  },
  {
   "cell_type": "code",
   "execution_count": 39,
   "id": "67fa1432",
   "metadata": {},
   "outputs": [],
   "source": [
    "from sklearn.metrics import auc,roc_auc_score,recall_score,precision_score,f1_score\n",
    "from sklearn.metrics import matthews_corrcoef\n",
    "from sklearn.metrics import accuracy_score\n",
    "from sklearn.metrics import confusion_matrix, plot_confusion_matrix\n",
    "import seaborn as sns\n",
    "from utils.losses import * "
   ]
  },
  {
   "cell_type": "code",
   "execution_count": 40,
   "id": "ec951c1c",
   "metadata": {},
   "outputs": [],
   "source": [
    "from fastai.callback.hook import *"
   ]
  },
  {
   "cell_type": "code",
   "execution_count": 41,
   "id": "c73f24dc",
   "metadata": {},
   "outputs": [],
   "source": [
    "def train_model(dls, arch=resnet18, loss_func=None, metric = None, epochs=16, wd=None, lr=None):\n",
    "    \n",
    "    \n",
    "    print(f'Architechture: {arch}')\n",
    "    #print(f'Untrained epochs: freeze_epochs={freeze_epochs}')\n",
    "    print(f'Trained epochs: epochs={epochs}')\n",
    "    print(f'Weight decay: wd={wd}')\n",
    "    if metric == None: \n",
    "        learn = cnn_learner(dls, arch=arch, pretrained=True, \n",
    "                            wd=wd,\n",
    "                            loss_func=loss_func,\n",
    "                            metrics=[accuracy, \n",
    "                            F1Score(), \n",
    "                            Precision(), \n",
    "                            Recall(), \n",
    "                            RocAucBinary(), \n",
    "                            MatthewsCorrCoef()]).to_fp16()\n",
    "    else: \n",
    "        learn = cnn_learner(dls, arch=arch, pretrained=True, \n",
    "                                wd=wd,\n",
    "                                loss_func=loss_func,\n",
    "                                metrics=[accuracy, \n",
    "                                F1Score(), \n",
    "                                Precision(), \n",
    "                                Recall(), \n",
    "                                RocAucBinary(), \n",
    "                                MatthewsCorrCoef(), \n",
    "                                metric]).to_fp16()\n",
    "    \n",
    "    if lr == None: \n",
    "        print(f'Finding learning rate...')\n",
    "        lr_min, lr_steep = learn.lr_find(suggestions=True, show_plot=False)\n",
    "        print(f'Training model with learning rate: {lr_min}')\n",
    "        lr = lr_min\n",
    "    else: \n",
    "        print(f'Training model with learning rate: {lr}')\n",
    "    learn.fine_tune(epochs, lr)\n",
    "    \n",
    "    return learn"
   ]
  },
  {
   "cell_type": "code",
   "execution_count": null,
   "id": "4a98ff85",
   "metadata": {
    "scrolled": true
   },
   "outputs": [],
   "source": [
    "# Train model on resnet18\n",
    "learn = train_model(dls,loss_func=None, epochs=5, lr=3e-3, wd=0.002)"
   ]
  },
  {
   "cell_type": "code",
   "execution_count": null,
   "id": "38c4a951",
   "metadata": {},
   "outputs": [],
   "source": [
    "interp = ClassificationInterpretation.from_learner(learn)"
   ]
  },
  {
   "cell_type": "code",
   "execution_count": 41,
   "id": "9b0b2889",
   "metadata": {},
   "outputs": [
    {
     "data": {
      "image/png": "[encoded data removed]",
      "text/plain": [
       "<Figure size 432x288 with 1 Axes>"
      ]
     },
     "metadata": {
      "needs_background": "light"
     },
     "output_type": "display_data"
    }
   ],
   "source": [
    "interp.plot_confusion_matrix()"
   ]
  },
  {
   "cell_type": "code",
   "execution_count": 42,
   "id": "3bf3fc99",
   "metadata": {
    "scrolled": true
   },
   "outputs": [
    {
     "data": {
      "image/png": "[encoded data removed]",
      "text/plain": [
       "<Figure size 1728x1512 with 56 Axes>"
      ]
     },
     "metadata": {
      "needs_background": "light"
     },
     "output_type": "display_data"
    }
   ],
   "source": [
    "interp.plot_top_losses(k=50)"
   ]
  },
  {
   "cell_type": "markdown",
   "id": "90fac371",
   "metadata": {},
   "source": [
    "# Test for metric with cost"
   ]
  },
  {
   "cell_type": "code",
   "execution_count": 43,
   "id": "645a7d48",
   "metadata": {},
   "outputs": [],
   "source": [
    "cost = [100, 1]"
   ]
  },
  {
   "cell_type": "code",
   "execution_count": 44,
   "id": "250b7d3d",
   "metadata": {},
   "outputs": [],
   "source": [
    "n_0, n_1 = class_count_df.iloc[0, 0], class_count_df.iloc[1, 0]"
   ]
  },
  {
   "cell_type": "code",
   "execution_count": 45,
   "id": "be922655",
   "metadata": {},
   "outputs": [
    {
     "data": {
      "text/plain": [
       "(99.99182472204055, 1.0000817661488144)"
      ]
     },
     "execution_count": 45,
     "metadata": {},
     "output_type": "execute_result"
    }
   ],
   "source": [
    "w_0 = (n_0 + n_1) / (2.0 * n_0)\n",
    "w_1 = (n_0 + n_1) / (2.0 * n_1)\n",
    "w_0 = w_0 * cost[0]\n",
    "w_1 = w_1 * cost[1]\n",
    "w_0, w_1"
   ]
  },
  {
   "cell_type": "code",
   "execution_count": 46,
   "id": "62cccc60",
   "metadata": {},
   "outputs": [],
   "source": [
    "class_weights=torch.FloatTensor([w_0, w_1]).cuda()"
   ]
  },
  {
   "cell_type": "code",
   "execution_count": 47,
   "id": "d03926cc",
   "metadata": {},
   "outputs": [
    {
     "data": {
      "text/plain": [
       "torch.nn.modules.loss.CrossEntropyLoss"
      ]
     },
     "execution_count": 47,
     "metadata": {},
     "output_type": "execute_result"
    }
   ],
   "source": [
    "decision_loss = nn.CrossEntropyLoss(weight=class_weights)\n",
    "type(decision_loss)"
   ]
  },
  {
   "cell_type": "code",
   "execution_count": 48,
   "id": "89545569",
   "metadata": {},
   "outputs": [
    {
     "data": {
      "text/plain": [
       "fastai.metrics.AccumMetric"
      ]
     },
     "execution_count": 48,
     "metadata": {},
     "output_type": "execute_result"
    }
   ],
   "source": [
    "type(F1Score())"
   ]
  },
  {
   "cell_type": "code",
   "execution_count": 49,
   "id": "c4f8ea81",
   "metadata": {},
   "outputs": [
    {
     "name": "stdout",
     "output_type": "stream",
     "text": [
      "Architechture: <function resnet18 at 0x7fe4c44b0560>\n",
      "Trained epochs: epochs=1\n",
      "Weight decay: wd=0.002\n",
      "Training model with learning rate: 0.003\n"
     ]
    },
    {
     "data": {
      "text/html": [
       "\n",
       "<style>\n",
       "    /* Turns off some styling */\n",
       "    progress {\n",
       "        /* gets rid of default border in Firefox and Opera. */\n",
       "        border: none;\n",
       "        /* Needs to be in here for Safari polyfill so background images work as expected. */\n",
       "        background-size: auto;\n",
       "    }\n",
       "    .progress-bar-interrupted, .progress-bar-interrupted::-webkit-progress-bar {\n",
       "        background: #F44336;\n",
       "    }\n",
       "</style>\n"
      ],
      "text/plain": [
       "<IPython.core.display.HTML object>"
      ]
     },
     "metadata": {},
     "output_type": "display_data"
    },
    {
     "data": {
      "text/html": [
       "<table border=\"1\" class=\"dataframe\">\n",
       "  <thead>\n",
       "    <tr style=\"text-align: left;\">\n",
       "      <th>epoch</th>\n",
       "      <th>train_loss</th>\n",
       "      <th>valid_loss</th>\n",
       "      <th>accuracy</th>\n",
       "      <th>f1_score</th>\n",
       "      <th>precision_score</th>\n",
       "      <th>recall_score</th>\n",
       "      <th>roc_auc_score</th>\n",
       "      <th>matthews_corrcoef</th>\n",
       "      <th>None</th>\n",
       "      <th>time</th>\n",
       "    </tr>\n",
       "  </thead>\n",
       "  <tbody>\n",
       "    <tr>\n",
       "      <td>0</td>\n",
       "      <td>0.229574</td>\n",
       "      <td>0.321096</td>\n",
       "      <td>0.897013</td>\n",
       "      <td>0.616279</td>\n",
       "      <td>0.466080</td>\n",
       "      <td>0.909314</td>\n",
       "      <td>0.961278</td>\n",
       "      <td>0.605943</td>\n",
       "      <td>0.322096</td>\n",
       "      <td>01:24</td>\n",
       "    </tr>\n",
       "  </tbody>\n",
       "</table>"
      ],
      "text/plain": [
       "<IPython.core.display.HTML object>"
      ]
     },
     "metadata": {},
     "output_type": "display_data"
    },
    {
     "data": {
      "text/html": [
       "\n",
       "<style>\n",
       "    /* Turns off some styling */\n",
       "    progress {\n",
       "        /* gets rid of default border in Firefox and Opera. */\n",
       "        border: none;\n",
       "        /* Needs to be in here for Safari polyfill so background images work as expected. */\n",
       "        background-size: auto;\n",
       "    }\n",
       "    .progress-bar-interrupted, .progress-bar-interrupted::-webkit-progress-bar {\n",
       "        background: #F44336;\n",
       "    }\n",
       "</style>\n"
      ],
      "text/plain": [
       "<IPython.core.display.HTML object>"
      ]
     },
     "metadata": {},
     "output_type": "display_data"
    },
    {
     "data": {
      "text/html": [
       "<table border=\"1\" class=\"dataframe\">\n",
       "  <thead>\n",
       "    <tr style=\"text-align: left;\">\n",
       "      <th>epoch</th>\n",
       "      <th>train_loss</th>\n",
       "      <th>valid_loss</th>\n",
       "      <th>accuracy</th>\n",
       "      <th>f1_score</th>\n",
       "      <th>precision_score</th>\n",
       "      <th>recall_score</th>\n",
       "      <th>roc_auc_score</th>\n",
       "      <th>matthews_corrcoef</th>\n",
       "      <th>None</th>\n",
       "      <th>time</th>\n",
       "    </tr>\n",
       "  </thead>\n",
       "  <tbody>\n",
       "    <tr>\n",
       "      <td>0</td>\n",
       "      <td>0.070795</td>\n",
       "      <td>0.122036</td>\n",
       "      <td>0.967900</td>\n",
       "      <td>0.837472</td>\n",
       "      <td>0.776151</td>\n",
       "      <td>0.909314</td>\n",
       "      <td>0.982980</td>\n",
       "      <td>0.822950</td>\n",
       "      <td>0.122370</td>\n",
       "      <td>01:40</td>\n",
       "    </tr>\n",
       "  </tbody>\n",
       "</table>"
      ],
      "text/plain": [
       "<IPython.core.display.HTML object>"
      ]
     },
     "metadata": {},
     "output_type": "display_data"
    }
   ],
   "source": [
    "# Train model on resnet18\n",
    "learn = train_model(dls,loss_func=loss_func, metric=decision_loss, epochs=1, lr=3e-3, wd=0.002)"
   ]
  },
  {
   "cell_type": "code",
   "execution_count": 50,
   "id": "0baeafa7",
   "metadata": {},
   "outputs": [
    {
     "data": {
      "text/html": [
       "\n",
       "<style>\n",
       "    /* Turns off some styling */\n",
       "    progress {\n",
       "        /* gets rid of default border in Firefox and Opera. */\n",
       "        border: none;\n",
       "        /* Needs to be in here for Safari polyfill so background images work as expected. */\n",
       "        background-size: auto;\n",
       "    }\n",
       "    .progress-bar-interrupted, .progress-bar-interrupted::-webkit-progress-bar {\n",
       "        background: #F44336;\n",
       "    }\n",
       "</style>\n"
      ],
      "text/plain": [
       "<IPython.core.display.HTML object>"
      ]
     },
     "metadata": {},
     "output_type": "display_data"
    },
    {
     "data": {
      "text/html": [],
      "text/plain": [
       "<IPython.core.display.HTML object>"
      ]
     },
     "metadata": {},
     "output_type": "display_data"
    }
   ],
   "source": [
    "interp = ClassificationInterpretation.from_learner(learn)"
   ]
  },
  {
   "cell_type": "code",
   "execution_count": 51,
   "id": "95937a00",
   "metadata": {},
   "outputs": [
    {
     "data": {
      "image/png": "[encoded data removed]",
      "text/plain": [
       "<Figure size 432x288 with 1 Axes>"
      ]
     },
     "metadata": {
      "needs_background": "light"
     },
     "output_type": "display_data"
    }
   ],
   "source": [
    "interp.plot_confusion_matrix()"
   ]
  },
  {
   "cell_type": "code",
   "execution_count": 52,
   "id": "23045947",
   "metadata": {},
   "outputs": [
    {
     "data": {
      "image/png": "[encoded data removed]",
      "text/plain": [
       "<Figure size 648x432 with 6 Axes>"
      ]
     },
     "metadata": {
      "needs_background": "light"
     },
     "output_type": "display_data"
    }
   ],
   "source": [
    "interp.plot_top_losses(k=5)"
   ]
  },
  {
   "cell_type": "code",
   "execution_count": 61,
   "id": "5d9517ae",
   "metadata": {},
   "outputs": [],
   "source": [
    "def show_confusion_matrix(learn, dl):\n",
    "    preds, y = learn.get_preds(dl=dl)\n",
    "    pred = preds.argmax(axis=1)\n",
    "    cm = confusion_matrix(y, pred)\n",
    "    f = sns.heatmap(cm, annot=True, fmt='d')\n",
    "    plt.show()\n",
    "    return f"
   ]
  },
  {
   "cell_type": "markdown",
   "id": "abd48fe9",
   "metadata": {},
   "source": [
    "# Cost-sensitive loss function"
   ]
  },
  {
   "cell_type": "markdown",
   "id": "b7d08599",
   "metadata": {},
   "source": [
    "\n",
    "\n",
    "There's a simple idea behind a Cost-Sensitive Loss: we impose a different penalty to different kind of errors. For illustration purposes, imagine you have a three-class classification problem and you wish to impose a greater penalty to errors in misclassifying class 2 as class 0, but you don't care about the other errors.*"
   ]
  },
  {
   "cell_type": "code",
   "execution_count": 53,
   "id": "9ebdcd29",
   "metadata": {},
   "outputs": [],
   "source": [
    "import torch\n",
    "from torch import nn\n",
    "import torch.nn.functional as F"
   ]
  },
  {
   "cell_type": "code",
   "execution_count": 54,
   "id": "1790f9b0",
   "metadata": {},
   "outputs": [],
   "source": [
    "n_classes = 2"
   ]
  },
  {
   "cell_type": "code",
   "execution_count": 55,
   "id": "d1added5",
   "metadata": {},
   "outputs": [],
   "source": [
    "cs_loss = CostSensitiveLoss(n_classes, normalization='sigmoid')"
   ]
  },
  {
   "cell_type": "code",
   "execution_count": 56,
   "id": "090e3de9",
   "metadata": {},
   "outputs": [
    {
     "name": "stdout",
     "output_type": "stream",
     "text": [
      "tensor([[0., 1.],\n",
      "        [1., 0.]])\n"
     ]
    }
   ],
   "source": [
    "print(cs_loss.M)"
   ]
  },
  {
   "cell_type": "code",
   "execution_count": 57,
   "id": "4eb77d46",
   "metadata": {},
   "outputs": [],
   "source": [
    "M = np.array([[0,10],\n",
    "              [1,0]], dtype=float)\n",
    "M /= M.max()\n",
    "M = torch.from_numpy(M)\n",
    "M = M.to(torch.float32)\n",
    "cs_loss.M = M\n"
   ]
  },
  {
   "cell_type": "code",
   "execution_count": 58,
   "id": "36a733c2",
   "metadata": {},
   "outputs": [
    {
     "name": "stdout",
     "output_type": "stream",
     "text": [
      "tensor([[0.0000, 1.0000],\n",
      "        [0.1000, 0.0000]])\n"
     ]
    }
   ],
   "source": [
    "print(cs_loss.M)"
   ]
  },
  {
   "cell_type": "code",
   "execution_count": 59,
   "id": "ab4133ed",
   "metadata": {},
   "outputs": [
    {
     "name": "stdout",
     "output_type": "stream",
     "text": [
      "Architechture: <function resnet18 at 0x7fe4c44b0560>\n",
      "Trained epochs: epochs=1\n",
      "Weight decay: wd=0.002\n",
      "Training model with learning rate: 0.003\n"
     ]
    },
    {
     "data": {
      "text/html": [
       "\n",
       "<style>\n",
       "    /* Turns off some styling */\n",
       "    progress {\n",
       "        /* gets rid of default border in Firefox and Opera. */\n",
       "        border: none;\n",
       "        /* Needs to be in here for Safari polyfill so background images work as expected. */\n",
       "        background-size: auto;\n",
       "    }\n",
       "    .progress-bar-interrupted, .progress-bar-interrupted::-webkit-progress-bar {\n",
       "        background: #F44336;\n",
       "    }\n",
       "</style>\n"
      ],
      "text/plain": [
       "<IPython.core.display.HTML object>"
      ]
     },
     "metadata": {},
     "output_type": "display_data"
    },
    {
     "data": {
      "text/html": [
       "<table border=\"1\" class=\"dataframe\">\n",
       "  <thead>\n",
       "    <tr style=\"text-align: left;\">\n",
       "      <th>epoch</th>\n",
       "      <th>train_loss</th>\n",
       "      <th>valid_loss</th>\n",
       "      <th>accuracy</th>\n",
       "      <th>f1_score</th>\n",
       "      <th>precision_score</th>\n",
       "      <th>recall_score</th>\n",
       "      <th>roc_auc_score</th>\n",
       "      <th>matthews_corrcoef</th>\n",
       "      <th>None</th>\n",
       "      <th>time</th>\n",
       "    </tr>\n",
       "  </thead>\n",
       "  <tbody>\n",
       "    <tr>\n",
       "      <td>0</td>\n",
       "      <td>0.008239</td>\n",
       "      <td>0.006241</td>\n",
       "      <td>0.929336</td>\n",
       "      <td>0.636884</td>\n",
       "      <td>0.597849</td>\n",
       "      <td>0.681373</td>\n",
       "      <td>0.940932</td>\n",
       "      <td>0.599497</td>\n",
       "      <td>0.006241</td>\n",
       "      <td>01:25</td>\n",
       "    </tr>\n",
       "  </tbody>\n",
       "</table>"
      ],
      "text/plain": [
       "<IPython.core.display.HTML object>"
      ]
     },
     "metadata": {},
     "output_type": "display_data"
    },
    {
     "data": {
      "text/html": [
       "\n",
       "<style>\n",
       "    /* Turns off some styling */\n",
       "    progress {\n",
       "        /* gets rid of default border in Firefox and Opera. */\n",
       "        border: none;\n",
       "        /* Needs to be in here for Safari polyfill so background images work as expected. */\n",
       "        background-size: auto;\n",
       "    }\n",
       "    .progress-bar-interrupted, .progress-bar-interrupted::-webkit-progress-bar {\n",
       "        background: #F44336;\n",
       "    }\n",
       "</style>\n"
      ],
      "text/plain": [
       "<IPython.core.display.HTML object>"
      ]
     },
     "metadata": {},
     "output_type": "display_data"
    },
    {
     "data": {
      "text/html": [
       "<table border=\"1\" class=\"dataframe\">\n",
       "  <thead>\n",
       "    <tr style=\"text-align: left;\">\n",
       "      <th>epoch</th>\n",
       "      <th>train_loss</th>\n",
       "      <th>valid_loss</th>\n",
       "      <th>accuracy</th>\n",
       "      <th>f1_score</th>\n",
       "      <th>precision_score</th>\n",
       "      <th>recall_score</th>\n",
       "      <th>roc_auc_score</th>\n",
       "      <th>matthews_corrcoef</th>\n",
       "      <th>None</th>\n",
       "      <th>time</th>\n",
       "    </tr>\n",
       "  </thead>\n",
       "  <tbody>\n",
       "    <tr>\n",
       "      <td>0</td>\n",
       "      <td>0.002227</td>\n",
       "      <td>0.001439</td>\n",
       "      <td>0.933125</td>\n",
       "      <td>0.592391</td>\n",
       "      <td>0.664634</td>\n",
       "      <td>0.534314</td>\n",
       "      <td>0.929524</td>\n",
       "      <td>0.560368</td>\n",
       "      <td>0.001439</td>\n",
       "      <td>01:41</td>\n",
       "    </tr>\n",
       "  </tbody>\n",
       "</table>"
      ],
      "text/plain": [
       "<IPython.core.display.HTML object>"
      ]
     },
     "metadata": {},
     "output_type": "display_data"
    }
   ],
   "source": [
    "# Train model on resnet18\n",
    "learn = train_model(dls,loss_func=cs_loss, metric=cs_loss, epochs=1, lr=3e-3, wd=0.002)"
   ]
  },
  {
   "cell_type": "code",
   "execution_count": 63,
   "id": "fc63d018",
   "metadata": {},
   "outputs": [
    {
     "data": {
      "text/html": [
       "\n",
       "<style>\n",
       "    /* Turns off some styling */\n",
       "    progress {\n",
       "        /* gets rid of default border in Firefox and Opera. */\n",
       "        border: none;\n",
       "        /* Needs to be in here for Safari polyfill so background images work as expected. */\n",
       "        background-size: auto;\n",
       "    }\n",
       "    .progress-bar-interrupted, .progress-bar-interrupted::-webkit-progress-bar {\n",
       "        background: #F44336;\n",
       "    }\n",
       "</style>\n"
      ],
      "text/plain": [
       "<IPython.core.display.HTML object>"
      ]
     },
     "metadata": {},
     "output_type": "display_data"
    },
    {
     "data": {
      "text/html": [],
      "text/plain": [
       "<IPython.core.display.HTML object>"
      ]
     },
     "metadata": {},
     "output_type": "display_data"
    },
    {
     "data": {
      "image/png": "[encoded data removed]",
      "text/plain": [
       "<Figure size 432x288 with 2 Axes>"
      ]
     },
     "metadata": {
      "needs_background": "light"
     },
     "output_type": "display_data"
    },
    {
     "data": {
      "text/plain": [
       "<AxesSubplot:>"
      ]
     },
     "execution_count": 63,
     "metadata": {},
     "output_type": "execute_result"
    }
   ],
   "source": [
    "show_confusion_matrix(learn, dls.valid)"
   ]
  },
  {
   "cell_type": "markdown",
   "id": "f0d5d20d",
   "metadata": {},
   "source": [
    "**Results**: Just training for 1 epoch, number of False Positives went down, number of False Negatives went up (as expected), but number of True positives also went down which is bad. "
   ]
  },
  {
   "cell_type": "markdown",
   "id": "57cdfaa2",
   "metadata": {},
   "source": [
    "# Regularized cost-sensitive loss function"
   ]
  },
  {
   "cell_type": "markdown",
   "id": "69f2efd5",
   "metadata": {},
   "source": [
    "In our experiments (and elsewhere) we found out that simply using a CS loss leads to lots of trouble in terms of CNNs staying at local minima where they will predict a trivial configuration (all the time the same category), which seems to be very satisfying for this kind of losses. For this reason, we recommend using this as a regularizer for other standard classification losses (just a weighted sum of both, with a weighing parameter `lambd`). \\\n",
    "In our implementation we provide a wrapper for doing this, where you specify a `base_loss` and the regularization parameter `lambd`:\n"
   ]
  },
  {
   "cell_type": "code",
   "execution_count": 64,
   "id": "d6910a3f",
   "metadata": {},
   "outputs": [],
   "source": [
    "n_classes = 2 \n",
    "base_loss = 'ce'\n",
    "lambd = 10\n",
    "cs_regularized_loss = CostSensitiveRegularizedLoss(n_classes=n_classes, base_loss=base_loss, lambd=lambd)"
   ]
  },
  {
   "cell_type": "code",
   "execution_count": 65,
   "id": "8009bcd7",
   "metadata": {},
   "outputs": [
    {
     "name": "stdout",
     "output_type": "stream",
     "text": [
      "tensor([[0., 1.],\n",
      "        [1., 0.]])\n"
     ]
    }
   ],
   "source": [
    "print(cs_regularized_loss.M)"
   ]
  },
  {
   "cell_type": "code",
   "execution_count": 66,
   "id": "c5752e19",
   "metadata": {},
   "outputs": [],
   "source": [
    "M = np.array([[0,10],\n",
    "              [1,0]], dtype=float)\n",
    "M /= M.max()\n",
    "M = torch.from_numpy(M)\n",
    "M = M.to(torch.float32)\n",
    "cs_regularized_loss.M = M"
   ]
  },
  {
   "cell_type": "code",
   "execution_count": 67,
   "id": "9e94a56c",
   "metadata": {},
   "outputs": [
    {
     "name": "stdout",
     "output_type": "stream",
     "text": [
      "tensor([[0.0000, 1.0000],\n",
      "        [0.1000, 0.0000]])\n"
     ]
    }
   ],
   "source": [
    "print(cs_regularized_loss.M)"
   ]
  },
  {
   "cell_type": "code",
   "execution_count": null,
   "id": "ec60ab22",
   "metadata": {},
   "outputs": [],
   "source": [
    "# Train model on resnet18\n",
    "learn = train_model(dls,loss_func=cs_regularized_loss, metric=cs_regularized_criterion, epochs=1, lr=3e-3, wd=0.002)"
   ]
  },
  {
   "cell_type": "code",
   "execution_count": null,
   "id": "5ee211ee",
   "metadata": {
    "scrolled": true
   },
   "outputs": [],
   "source": [
    "preds, y = learn.get_preds(dl=dls.valid)"
   ]
  },
  {
   "cell_type": "code",
   "execution_count": null,
   "id": "daf073f0",
   "metadata": {},
   "outputs": [],
   "source": [
    "preds"
   ]
  },
  {
   "cell_type": "code",
   "execution_count": 50,
   "id": "bcd41a74",
   "metadata": {},
   "outputs": [],
   "source": [
    "def show_confusion_matrix(learn, dl):\n",
    "    preds, y = learn.get_preds(dl=dl)\n",
    "    pred = preds.argmax(axis=1)\n",
    "    cm = confusion_matrix(y, pred)\n",
    "    f = sns.heatmap(cm, annot=True, fmt='d')\n",
    "    plt.show()\n",
    "    return f"
   ]
  },
  {
   "cell_type": "code",
   "execution_count": null,
   "id": "714dbfa3",
   "metadata": {
    "scrolled": true
   },
   "outputs": [],
   "source": [
    "show_confusion_matrix(learn, dls.valid)"
   ]
  },
  {
   "cell_type": "markdown",
   "id": "129f8352",
   "metadata": {},
   "source": [
    "**Results**:  False positives went drastically down, and true positives up compared to just using cost-sensitive loss, precision is higher then using regular cross entropy loss so could be a bit random. "
   ]
  },
  {
   "cell_type": "markdown",
   "id": "ba4f61f1",
   "metadata": {},
   "source": [
    "### Train for 10 epochs: "
   ]
  },
  {
   "cell_type": "code",
   "execution_count": null,
   "id": "f76ea58a",
   "metadata": {},
   "outputs": [],
   "source": [
    "learn = train_model(dls,loss_func=cs_regularized_loss, metric=cs_regularized_criterion, epochs=10, lr=3e-3, wd=0.002)"
   ]
  },
  {
   "cell_type": "code",
   "execution_count": null,
   "id": "53df757f",
   "metadata": {},
   "outputs": [],
   "source": [
    "show_confusion_matrix (learn, dls)"
   ]
  },
  {
   "cell_type": "markdown",
   "id": "da1d46b8",
   "metadata": {},
   "source": [
    "# Compare regularized cost-sensitive loss functions"
   ]
  },
  {
   "cell_type": "code",
   "execution_count": 44,
   "id": "13ba3f30",
   "metadata": {},
   "outputs": [],
   "source": [
    "from utils.losses import *"
   ]
  },
  {
   "cell_type": "markdown",
   "id": "e47d9434",
   "metadata": {},
   "source": [
    "Compare: Cross entropy (CE), CE with Label Smoothing (LS), CE with Gaussian LS"
   ]
  },
  {
   "cell_type": "code",
   "execution_count": 74,
   "id": "b569a749",
   "metadata": {},
   "outputs": [],
   "source": [
    "losses = ['ce']"
   ]
  },
  {
   "cell_type": "code",
   "execution_count": 76,
   "id": "e92e0ce9",
   "metadata": {},
   "outputs": [],
   "source": [
    "M = np.array([[0,20],\n",
    "            [1,0]], dtype=float)\n",
    "M /= M.max()\n",
    "M = torch.from_numpy(M)\n",
    "M = M.to(torch.float32)"
   ]
  },
  {
   "cell_type": "code",
   "execution_count": 49,
   "id": "a72d8b0c",
   "metadata": {},
   "outputs": [],
   "source": [
    "def train_model_with_loss(base_loss='ce', n_classes = 2, lambd = 10):\n",
    "    loss = CostSensitiveRegularizedLoss(n_classes=n_classes, base_loss=base_loss, lambd=lambd)\n",
    "    loss.M = M\n",
    "    learn = train_model(dls,loss_func=loss, epochs=5, lr=3e-3, wd=0.002)\n",
    "    cm = show_confusion_matrix(learn, dls.valid)\n",
    "    return learn, cm"
   ]
  },
  {
   "cell_type": "code",
   "execution_count": 112,
   "id": "e207e087",
   "metadata": {},
   "outputs": [],
   "source": [
    "recorders = []"
   ]
  },
  {
   "cell_type": "code",
   "execution_count": 113,
   "id": "9ecaf2d3",
   "metadata": {},
   "outputs": [],
   "source": [
    "logs = []"
   ]
  },
  {
   "cell_type": "code",
   "execution_count": 116,
   "id": "b7e2993f",
   "metadata": {
    "scrolled": true
   },
   "outputs": [
    {
     "name": "stdout",
     "output_type": "stream",
     "text": [
      "Training model with base loss function ce and lambd: 10\n",
      "Architechture: <function resnet18 at 0x7fe4c44b0560>\n",
      "Trained epochs: epochs=3\n",
      "Weight decay: wd=0.002\n",
      "Training model with learning rate: 0.003\n"
     ]
    },
    {
     "data": {
      "text/html": [
       "\n",
       "<style>\n",
       "    /* Turns off some styling */\n",
       "    progress {\n",
       "        /* gets rid of default border in Firefox and Opera. */\n",
       "        border: none;\n",
       "        /* Needs to be in here for Safari polyfill so background images work as expected. */\n",
       "        background-size: auto;\n",
       "    }\n",
       "    .progress-bar-interrupted, .progress-bar-interrupted::-webkit-progress-bar {\n",
       "        background: #F44336;\n",
       "    }\n",
       "</style>\n"
      ],
      "text/plain": [
       "<IPython.core.display.HTML object>"
      ]
     },
     "metadata": {},
     "output_type": "display_data"
    },
    {
     "data": {
      "text/html": [
       "<table border=\"1\" class=\"dataframe\">\n",
       "  <thead>\n",
       "    <tr style=\"text-align: left;\">\n",
       "      <th>epoch</th>\n",
       "      <th>train_loss</th>\n",
       "      <th>valid_loss</th>\n",
       "      <th>accuracy</th>\n",
       "      <th>f1_score</th>\n",
       "      <th>precision_score</th>\n",
       "      <th>recall_score</th>\n",
       "      <th>roc_auc_score</th>\n",
       "      <th>matthews_corrcoef</th>\n",
       "      <th>time</th>\n",
       "    </tr>\n",
       "  </thead>\n",
       "  <tbody>\n",
       "    <tr>\n",
       "      <td>0</td>\n",
       "      <td>0.724984</td>\n",
       "      <td>0.671954</td>\n",
       "      <td>0.946723</td>\n",
       "      <td>0.741622</td>\n",
       "      <td>0.663443</td>\n",
       "      <td>0.840686</td>\n",
       "      <td>0.965766</td>\n",
       "      <td>0.718589</td>\n",
       "      <td>01:14</td>\n",
       "    </tr>\n",
       "  </tbody>\n",
       "</table>"
      ],
      "text/plain": [
       "<IPython.core.display.HTML object>"
      ]
     },
     "metadata": {},
     "output_type": "display_data"
    },
    {
     "data": {
      "text/html": [
       "\n",
       "<style>\n",
       "    /* Turns off some styling */\n",
       "    progress {\n",
       "        /* gets rid of default border in Firefox and Opera. */\n",
       "        border: none;\n",
       "        /* Needs to be in here for Safari polyfill so background images work as expected. */\n",
       "        background-size: auto;\n",
       "    }\n",
       "    .progress-bar-interrupted, .progress-bar-interrupted::-webkit-progress-bar {\n",
       "        background: #F44336;\n",
       "    }\n",
       "</style>\n"
      ],
      "text/plain": [
       "<IPython.core.display.HTML object>"
      ]
     },
     "metadata": {},
     "output_type": "display_data"
    },
    {
     "data": {
      "text/html": [
       "<table border=\"1\" class=\"dataframe\">\n",
       "  <thead>\n",
       "    <tr style=\"text-align: left;\">\n",
       "      <th>epoch</th>\n",
       "      <th>train_loss</th>\n",
       "      <th>valid_loss</th>\n",
       "      <th>accuracy</th>\n",
       "      <th>f1_score</th>\n",
       "      <th>precision_score</th>\n",
       "      <th>recall_score</th>\n",
       "      <th>roc_auc_score</th>\n",
       "      <th>matthews_corrcoef</th>\n",
       "      <th>time</th>\n",
       "    </tr>\n",
       "  </thead>\n",
       "  <tbody>\n",
       "    <tr>\n",
       "      <td>0</td>\n",
       "      <td>0.296038</td>\n",
       "      <td>0.346091</td>\n",
       "      <td>0.964111</td>\n",
       "      <td>0.800000</td>\n",
       "      <td>0.811083</td>\n",
       "      <td>0.789216</td>\n",
       "      <td>0.974846</td>\n",
       "      <td>0.780378</td>\n",
       "      <td>01:28</td>\n",
       "    </tr>\n",
       "    <tr>\n",
       "      <td>1</td>\n",
       "      <td>0.147529</td>\n",
       "      <td>0.333376</td>\n",
       "      <td>0.970352</td>\n",
       "      <td>0.838002</td>\n",
       "      <td>0.832930</td>\n",
       "      <td>0.843137</td>\n",
       "      <td>0.980438</td>\n",
       "      <td>0.821705</td>\n",
       "      <td>01:28</td>\n",
       "    </tr>\n",
       "    <tr>\n",
       "      <td>2</td>\n",
       "      <td>0.047226</td>\n",
       "      <td>0.279823</td>\n",
       "      <td>0.971690</td>\n",
       "      <td>0.838628</td>\n",
       "      <td>0.870712</td>\n",
       "      <td>0.808824</td>\n",
       "      <td>0.983105</td>\n",
       "      <td>0.823807</td>\n",
       "      <td>01:28</td>\n",
       "    </tr>\n",
       "  </tbody>\n",
       "</table>"
      ],
      "text/plain": [
       "<IPython.core.display.HTML object>"
      ]
     },
     "metadata": {},
     "output_type": "display_data"
    },
    {
     "data": {
      "text/html": [
       "\n",
       "<style>\n",
       "    /* Turns off some styling */\n",
       "    progress {\n",
       "        /* gets rid of default border in Firefox and Opera. */\n",
       "        border: none;\n",
       "        /* Needs to be in here for Safari polyfill so background images work as expected. */\n",
       "        background-size: auto;\n",
       "    }\n",
       "    .progress-bar-interrupted, .progress-bar-interrupted::-webkit-progress-bar {\n",
       "        background: #F44336;\n",
       "    }\n",
       "</style>\n"
      ],
      "text/plain": [
       "<IPython.core.display.HTML object>"
      ]
     },
     "metadata": {},
     "output_type": "display_data"
    },
    {
     "data": {
      "text/html": [],
      "text/plain": [
       "<IPython.core.display.HTML object>"
      ]
     },
     "metadata": {},
     "output_type": "display_data"
    },
    {
     "data": {
      "image/png": "[encoded data removed]",
      "text/plain": [
       "<Figure size 432x288 with 2 Axes>"
      ]
     },
     "metadata": {
      "needs_background": "light"
     },
     "output_type": "display_data"
    }
   ],
   "source": [
    "lambd = 10\n",
    "for l in losses:\n",
    "    if l == 'gls':\n",
    "        lambd = 2\n",
    "    print(f'Training model with base loss function {l} and lambd: {lambd}')\n",
    "    base_loss = l\n",
    "    model, _ = train_model_with_loss(base_loss=base_loss, lambd=lambd)\n",
    "    recorders.append(model)"
   ]
  },
  {
   "cell_type": "code",
   "execution_count": 117,
   "id": "9c9196eb",
   "metadata": {},
   "outputs": [
    {
     "name": "stdout",
     "output_type": "stream",
     "text": [
      "[0, 0.27982261776924133, 0.9716897010803223, 0.8386277001270648, 0.8707124010554089, 0.8088235294117647, 0.9831051842021753, 0.8238067231495001, '00:07', '00:43']\n"
     ]
    }
   ],
   "source": [
    "log = recorders[0].recorder.after_epoch()\n",
    "log"
   ]
  },
  {
   "cell_type": "code",
   "execution_count": 118,
   "id": "3fffee36",
   "metadata": {},
   "outputs": [
    {
     "data": {
      "text/html": [
       "\n",
       "<style>\n",
       "    /* Turns off some styling */\n",
       "    progress {\n",
       "        /* gets rid of default border in Firefox and Opera. */\n",
       "        border: none;\n",
       "        /* Needs to be in here for Safari polyfill so background images work as expected. */\n",
       "        background-size: auto;\n",
       "    }\n",
       "    .progress-bar-interrupted, .progress-bar-interrupted::-webkit-progress-bar {\n",
       "        background: #F44336;\n",
       "    }\n",
       "</style>\n"
      ],
      "text/plain": [
       "<IPython.core.display.HTML object>"
      ]
     },
     "metadata": {},
     "output_type": "display_data"
    },
    {
     "data": {
      "text/html": [],
      "text/plain": [
       "<IPython.core.display.HTML object>"
      ]
     },
     "metadata": {},
     "output_type": "display_data"
    }
   ],
   "source": [
    "interp = ClassificationInterpretation.from_learner(recorders[0])"
   ]
  },
  {
   "cell_type": "code",
   "execution_count": 119,
   "id": "cb498bfb",
   "metadata": {},
   "outputs": [
    {
     "ename": "TypeError",
     "evalue": "no implementation found for 'torch.Tensor.__getitem__' on types that implement __torch_function__: [TensorImage, TensorCategory]",
     "output_type": "error",
     "traceback": [
      "\u001b[0;31m---------------------------------------------------------------------------\u001b[0m",
      "\u001b[0;31mTypeError\u001b[0m                                 Traceback (most recent call last)",
      "\u001b[0;32m/tmp/ipykernel_30445/388623588.py\u001b[0m in \u001b[0;36m<module>\u001b[0;34m\u001b[0m\n\u001b[0;32m----> 1\u001b[0;31m \u001b[0minterp\u001b[0m\u001b[0;34m.\u001b[0m\u001b[0mplot_top_losses\u001b[0m\u001b[0;34m(\u001b[0m\u001b[0mk\u001b[0m\u001b[0;34m=\u001b[0m\u001b[0;36m5\u001b[0m\u001b[0;34m)\u001b[0m\u001b[0;34m\u001b[0m\u001b[0;34m\u001b[0m\u001b[0m\n\u001b[0m",
      "\u001b[0;32m~/anaconda3/envs/fastai-drug/lib/python3.7/site-packages/fastai/interpret.py\u001b[0m in \u001b[0;36mplot_top_losses\u001b[0;34m(self, k, largest, **kwargs)\u001b[0m\n\u001b[1;32m     36\u001b[0m         \u001b[0mlosses\u001b[0m\u001b[0;34m,\u001b[0m\u001b[0midx\u001b[0m \u001b[0;34m=\u001b[0m \u001b[0mself\u001b[0m\u001b[0;34m.\u001b[0m\u001b[0mtop_losses\u001b[0m\u001b[0;34m(\u001b[0m\u001b[0mk\u001b[0m\u001b[0;34m,\u001b[0m \u001b[0mlargest\u001b[0m\u001b[0;34m)\u001b[0m\u001b[0;34m\u001b[0m\u001b[0;34m\u001b[0m\u001b[0m\n\u001b[1;32m     37\u001b[0m         \u001b[0;32mif\u001b[0m \u001b[0;32mnot\u001b[0m \u001b[0misinstance\u001b[0m\u001b[0;34m(\u001b[0m\u001b[0mself\u001b[0m\u001b[0;34m.\u001b[0m\u001b[0minputs\u001b[0m\u001b[0;34m,\u001b[0m \u001b[0mtuple\u001b[0m\u001b[0;34m)\u001b[0m\u001b[0;34m:\u001b[0m \u001b[0mself\u001b[0m\u001b[0;34m.\u001b[0m\u001b[0minputs\u001b[0m \u001b[0;34m=\u001b[0m \u001b[0;34m(\u001b[0m\u001b[0mself\u001b[0m\u001b[0;34m.\u001b[0m\u001b[0minputs\u001b[0m\u001b[0;34m,\u001b[0m\u001b[0;34m)\u001b[0m\u001b[0;34m\u001b[0m\u001b[0;34m\u001b[0m\u001b[0m\n\u001b[0;32m---> 38\u001b[0;31m         \u001b[0;32mif\u001b[0m \u001b[0misinstance\u001b[0m\u001b[0;34m(\u001b[0m\u001b[0mself\u001b[0m\u001b[0;34m.\u001b[0m\u001b[0minputs\u001b[0m\u001b[0;34m[\u001b[0m\u001b[0;36m0\u001b[0m\u001b[0;34m]\u001b[0m\u001b[0;34m,\u001b[0m \u001b[0mTensor\u001b[0m\u001b[0;34m)\u001b[0m\u001b[0;34m:\u001b[0m \u001b[0minps\u001b[0m \u001b[0;34m=\u001b[0m \u001b[0mtuple\u001b[0m\u001b[0;34m(\u001b[0m\u001b[0mo\u001b[0m\u001b[0;34m[\u001b[0m\u001b[0midx\u001b[0m\u001b[0;34m]\u001b[0m \u001b[0;32mfor\u001b[0m \u001b[0mo\u001b[0m \u001b[0;32min\u001b[0m \u001b[0mself\u001b[0m\u001b[0;34m.\u001b[0m\u001b[0minputs\u001b[0m\u001b[0;34m)\u001b[0m\u001b[0;34m\u001b[0m\u001b[0;34m\u001b[0m\u001b[0m\n\u001b[0m\u001b[1;32m     39\u001b[0m         \u001b[0;32melse\u001b[0m\u001b[0;34m:\u001b[0m \u001b[0minps\u001b[0m \u001b[0;34m=\u001b[0m \u001b[0mself\u001b[0m\u001b[0;34m.\u001b[0m\u001b[0mdl\u001b[0m\u001b[0;34m.\u001b[0m\u001b[0mcreate_batch\u001b[0m\u001b[0;34m(\u001b[0m\u001b[0mself\u001b[0m\u001b[0;34m.\u001b[0m\u001b[0mdl\u001b[0m\u001b[0;34m.\u001b[0m\u001b[0mbefore_batch\u001b[0m\u001b[0;34m(\u001b[0m\u001b[0;34m[\u001b[0m\u001b[0mtuple\u001b[0m\u001b[0;34m(\u001b[0m\u001b[0mo\u001b[0m\u001b[0;34m[\u001b[0m\u001b[0mi\u001b[0m\u001b[0;34m]\u001b[0m \u001b[0;32mfor\u001b[0m \u001b[0mo\u001b[0m \u001b[0;32min\u001b[0m \u001b[0mself\u001b[0m\u001b[0;34m.\u001b[0m\u001b[0minputs\u001b[0m\u001b[0;34m)\u001b[0m \u001b[0;32mfor\u001b[0m \u001b[0mi\u001b[0m \u001b[0;32min\u001b[0m \u001b[0midx\u001b[0m\u001b[0;34m]\u001b[0m\u001b[0;34m)\u001b[0m\u001b[0;34m)\u001b[0m\u001b[0;34m\u001b[0m\u001b[0;34m\u001b[0m\u001b[0m\n\u001b[1;32m     40\u001b[0m         \u001b[0mb\u001b[0m \u001b[0;34m=\u001b[0m \u001b[0minps\u001b[0m \u001b[0;34m+\u001b[0m \u001b[0mtuple\u001b[0m\u001b[0;34m(\u001b[0m\u001b[0mo\u001b[0m\u001b[0;34m[\u001b[0m\u001b[0midx\u001b[0m\u001b[0;34m]\u001b[0m \u001b[0;32mfor\u001b[0m \u001b[0mo\u001b[0m \u001b[0;32min\u001b[0m \u001b[0;34m(\u001b[0m\u001b[0mself\u001b[0m\u001b[0;34m.\u001b[0m\u001b[0mtargs\u001b[0m \u001b[0;32mif\u001b[0m \u001b[0mis_listy\u001b[0m\u001b[0;34m(\u001b[0m\u001b[0mself\u001b[0m\u001b[0;34m.\u001b[0m\u001b[0mtargs\u001b[0m\u001b[0;34m)\u001b[0m \u001b[0;32melse\u001b[0m \u001b[0;34m(\u001b[0m\u001b[0mself\u001b[0m\u001b[0;34m.\u001b[0m\u001b[0mtargs\u001b[0m\u001b[0;34m,\u001b[0m\u001b[0;34m)\u001b[0m\u001b[0;34m)\u001b[0m\u001b[0;34m)\u001b[0m\u001b[0;34m\u001b[0m\u001b[0;34m\u001b[0m\u001b[0m\n",
      "\u001b[0;32m~/anaconda3/envs/fastai-drug/lib/python3.7/site-packages/fastai/interpret.py\u001b[0m in \u001b[0;36m<genexpr>\u001b[0;34m(.0)\u001b[0m\n\u001b[1;32m     36\u001b[0m         \u001b[0mlosses\u001b[0m\u001b[0;34m,\u001b[0m\u001b[0midx\u001b[0m \u001b[0;34m=\u001b[0m \u001b[0mself\u001b[0m\u001b[0;34m.\u001b[0m\u001b[0mtop_losses\u001b[0m\u001b[0;34m(\u001b[0m\u001b[0mk\u001b[0m\u001b[0;34m,\u001b[0m \u001b[0mlargest\u001b[0m\u001b[0;34m)\u001b[0m\u001b[0;34m\u001b[0m\u001b[0;34m\u001b[0m\u001b[0m\n\u001b[1;32m     37\u001b[0m         \u001b[0;32mif\u001b[0m \u001b[0;32mnot\u001b[0m \u001b[0misinstance\u001b[0m\u001b[0;34m(\u001b[0m\u001b[0mself\u001b[0m\u001b[0;34m.\u001b[0m\u001b[0minputs\u001b[0m\u001b[0;34m,\u001b[0m \u001b[0mtuple\u001b[0m\u001b[0;34m)\u001b[0m\u001b[0;34m:\u001b[0m \u001b[0mself\u001b[0m\u001b[0;34m.\u001b[0m\u001b[0minputs\u001b[0m \u001b[0;34m=\u001b[0m \u001b[0;34m(\u001b[0m\u001b[0mself\u001b[0m\u001b[0;34m.\u001b[0m\u001b[0minputs\u001b[0m\u001b[0;34m,\u001b[0m\u001b[0;34m)\u001b[0m\u001b[0;34m\u001b[0m\u001b[0;34m\u001b[0m\u001b[0m\n\u001b[0;32m---> 38\u001b[0;31m         \u001b[0;32mif\u001b[0m \u001b[0misinstance\u001b[0m\u001b[0;34m(\u001b[0m\u001b[0mself\u001b[0m\u001b[0;34m.\u001b[0m\u001b[0minputs\u001b[0m\u001b[0;34m[\u001b[0m\u001b[0;36m0\u001b[0m\u001b[0;34m]\u001b[0m\u001b[0;34m,\u001b[0m \u001b[0mTensor\u001b[0m\u001b[0;34m)\u001b[0m\u001b[0;34m:\u001b[0m \u001b[0minps\u001b[0m \u001b[0;34m=\u001b[0m \u001b[0mtuple\u001b[0m\u001b[0;34m(\u001b[0m\u001b[0mo\u001b[0m\u001b[0;34m[\u001b[0m\u001b[0midx\u001b[0m\u001b[0;34m]\u001b[0m \u001b[0;32mfor\u001b[0m \u001b[0mo\u001b[0m \u001b[0;32min\u001b[0m \u001b[0mself\u001b[0m\u001b[0;34m.\u001b[0m\u001b[0minputs\u001b[0m\u001b[0;34m)\u001b[0m\u001b[0;34m\u001b[0m\u001b[0;34m\u001b[0m\u001b[0m\n\u001b[0m\u001b[1;32m     39\u001b[0m         \u001b[0;32melse\u001b[0m\u001b[0;34m:\u001b[0m \u001b[0minps\u001b[0m \u001b[0;34m=\u001b[0m \u001b[0mself\u001b[0m\u001b[0;34m.\u001b[0m\u001b[0mdl\u001b[0m\u001b[0;34m.\u001b[0m\u001b[0mcreate_batch\u001b[0m\u001b[0;34m(\u001b[0m\u001b[0mself\u001b[0m\u001b[0;34m.\u001b[0m\u001b[0mdl\u001b[0m\u001b[0;34m.\u001b[0m\u001b[0mbefore_batch\u001b[0m\u001b[0;34m(\u001b[0m\u001b[0;34m[\u001b[0m\u001b[0mtuple\u001b[0m\u001b[0;34m(\u001b[0m\u001b[0mo\u001b[0m\u001b[0;34m[\u001b[0m\u001b[0mi\u001b[0m\u001b[0;34m]\u001b[0m \u001b[0;32mfor\u001b[0m \u001b[0mo\u001b[0m \u001b[0;32min\u001b[0m \u001b[0mself\u001b[0m\u001b[0;34m.\u001b[0m\u001b[0minputs\u001b[0m\u001b[0;34m)\u001b[0m \u001b[0;32mfor\u001b[0m \u001b[0mi\u001b[0m \u001b[0;32min\u001b[0m \u001b[0midx\u001b[0m\u001b[0;34m]\u001b[0m\u001b[0;34m)\u001b[0m\u001b[0;34m)\u001b[0m\u001b[0;34m\u001b[0m\u001b[0;34m\u001b[0m\u001b[0m\n\u001b[1;32m     40\u001b[0m         \u001b[0mb\u001b[0m \u001b[0;34m=\u001b[0m \u001b[0minps\u001b[0m \u001b[0;34m+\u001b[0m \u001b[0mtuple\u001b[0m\u001b[0;34m(\u001b[0m\u001b[0mo\u001b[0m\u001b[0;34m[\u001b[0m\u001b[0midx\u001b[0m\u001b[0;34m]\u001b[0m \u001b[0;32mfor\u001b[0m \u001b[0mo\u001b[0m \u001b[0;32min\u001b[0m \u001b[0;34m(\u001b[0m\u001b[0mself\u001b[0m\u001b[0;34m.\u001b[0m\u001b[0mtargs\u001b[0m \u001b[0;32mif\u001b[0m \u001b[0mis_listy\u001b[0m\u001b[0;34m(\u001b[0m\u001b[0mself\u001b[0m\u001b[0;34m.\u001b[0m\u001b[0mtargs\u001b[0m\u001b[0;34m)\u001b[0m \u001b[0;32melse\u001b[0m \u001b[0;34m(\u001b[0m\u001b[0mself\u001b[0m\u001b[0;34m.\u001b[0m\u001b[0mtargs\u001b[0m\u001b[0;34m,\u001b[0m\u001b[0;34m)\u001b[0m\u001b[0;34m)\u001b[0m\u001b[0;34m)\u001b[0m\u001b[0;34m\u001b[0m\u001b[0;34m\u001b[0m\u001b[0m\n",
      "\u001b[0;31mTypeError\u001b[0m: no implementation found for 'torch.Tensor.__getitem__' on types that implement __torch_function__: [TensorImage, TensorCategory]"
     ]
    }
   ],
   "source": [
    "interp.plot_top_losses(k=5)"
   ]
  },
  {
   "cell_type": "markdown",
   "id": "1dd462c3",
   "metadata": {},
   "source": [
    "# Test different lambdas"
   ]
  },
  {
   "cell_type": "markdown",
   "id": "43f441a4",
   "metadata": {},
   "source": [
    "Lamdas is used to choose how much you will weight the cost-sensitive loss functions vs cross-entropy"
   ]
  },
  {
   "cell_type": "code",
   "execution_count": 61,
   "id": "df3350f4",
   "metadata": {},
   "outputs": [
    {
     "data": {
      "text/plain": [
       "[0, 0.1, 1, 10]"
      ]
     },
     "execution_count": 61,
     "metadata": {},
     "output_type": "execute_result"
    }
   ],
   "source": [
    "lambdas = [0, 0.1, 1, 10]\n",
    "lambdas"
   ]
  },
  {
   "cell_type": "code",
   "execution_count": 67,
   "id": "a9193e98",
   "metadata": {},
   "outputs": [],
   "source": [
    "learners = []"
   ]
  },
  {
   "cell_type": "code",
   "execution_count": 122,
   "id": "6062bbc1",
   "metadata": {},
   "outputs": [
    {
     "name": "stdout",
     "output_type": "stream",
     "text": [
      "Training model with base loss function ce and lambda: 0\n",
      "Architechture: <function resnet18 at 0x7fe4c44b0560>\n",
      "Trained epochs: epochs=3\n",
      "Weight decay: wd=0.002\n",
      "Training model with learning rate: 0.003\n"
     ]
    },
    {
     "data": {
      "text/html": [
       "\n",
       "<style>\n",
       "    /* Turns off some styling */\n",
       "    progress {\n",
       "        /* gets rid of default border in Firefox and Opera. */\n",
       "        border: none;\n",
       "        /* Needs to be in here for Safari polyfill so background images work as expected. */\n",
       "        background-size: auto;\n",
       "    }\n",
       "    .progress-bar-interrupted, .progress-bar-interrupted::-webkit-progress-bar {\n",
       "        background: #F44336;\n",
       "    }\n",
       "</style>\n"
      ],
      "text/plain": [
       "<IPython.core.display.HTML object>"
      ]
     },
     "metadata": {},
     "output_type": "display_data"
    },
    {
     "data": {
      "text/html": [
       "<table border=\"1\" class=\"dataframe\">\n",
       "  <thead>\n",
       "    <tr style=\"text-align: left;\">\n",
       "      <th>epoch</th>\n",
       "      <th>train_loss</th>\n",
       "      <th>valid_loss</th>\n",
       "      <th>accuracy</th>\n",
       "      <th>f1_score</th>\n",
       "      <th>precision_score</th>\n",
       "      <th>recall_score</th>\n",
       "      <th>roc_auc_score</th>\n",
       "      <th>matthews_corrcoef</th>\n",
       "      <th>time</th>\n",
       "    </tr>\n",
       "  </thead>\n",
       "  <tbody>\n",
       "    <tr>\n",
       "      <td>0</td>\n",
       "      <td>0.248337</td>\n",
       "      <td>0.248303</td>\n",
       "      <td>0.915961</td>\n",
       "      <td>0.666076</td>\n",
       "      <td>0.521498</td>\n",
       "      <td>0.921569</td>\n",
       "      <td>0.968122</td>\n",
       "      <td>0.655258</td>\n",
       "      <td>01:14</td>\n",
       "    </tr>\n",
       "  </tbody>\n",
       "</table>"
      ],
      "text/plain": [
       "<IPython.core.display.HTML object>"
      ]
     },
     "metadata": {},
     "output_type": "display_data"
    },
    {
     "data": {
      "text/html": [
       "\n",
       "<style>\n",
       "    /* Turns off some styling */\n",
       "    progress {\n",
       "        /* gets rid of default border in Firefox and Opera. */\n",
       "        border: none;\n",
       "        /* Needs to be in here for Safari polyfill so background images work as expected. */\n",
       "        background-size: auto;\n",
       "    }\n",
       "    .progress-bar-interrupted, .progress-bar-interrupted::-webkit-progress-bar {\n",
       "        background: #F44336;\n",
       "    }\n",
       "</style>\n"
      ],
      "text/plain": [
       "<IPython.core.display.HTML object>"
      ]
     },
     "metadata": {},
     "output_type": "display_data"
    },
    {
     "data": {
      "text/html": [
       "<table border=\"1\" class=\"dataframe\">\n",
       "  <thead>\n",
       "    <tr style=\"text-align: left;\">\n",
       "      <th>epoch</th>\n",
       "      <th>train_loss</th>\n",
       "      <th>valid_loss</th>\n",
       "      <th>accuracy</th>\n",
       "      <th>f1_score</th>\n",
       "      <th>precision_score</th>\n",
       "      <th>recall_score</th>\n",
       "      <th>roc_auc_score</th>\n",
       "      <th>matthews_corrcoef</th>\n",
       "      <th>time</th>\n",
       "    </tr>\n",
       "  </thead>\n",
       "  <tbody>\n",
       "    <tr>\n",
       "      <td>0</td>\n",
       "      <td>0.102976</td>\n",
       "      <td>0.173708</td>\n",
       "      <td>0.954079</td>\n",
       "      <td>0.785417</td>\n",
       "      <td>0.682971</td>\n",
       "      <td>0.924020</td>\n",
       "      <td>0.978593</td>\n",
       "      <td>0.771250</td>\n",
       "      <td>01:28</td>\n",
       "    </tr>\n",
       "    <tr>\n",
       "      <td>1</td>\n",
       "      <td>0.047397</td>\n",
       "      <td>0.124903</td>\n",
       "      <td>0.968346</td>\n",
       "      <td>0.832547</td>\n",
       "      <td>0.802273</td>\n",
       "      <td>0.865196</td>\n",
       "      <td>0.979754</td>\n",
       "      <td>0.815804</td>\n",
       "      <td>01:27</td>\n",
       "    </tr>\n",
       "    <tr>\n",
       "      <td>2</td>\n",
       "      <td>0.006592</td>\n",
       "      <td>0.128534</td>\n",
       "      <td>0.972358</td>\n",
       "      <td>0.850602</td>\n",
       "      <td>0.836493</td>\n",
       "      <td>0.865196</td>\n",
       "      <td>0.980407</td>\n",
       "      <td>0.835522</td>\n",
       "      <td>01:27</td>\n",
       "    </tr>\n",
       "  </tbody>\n",
       "</table>"
      ],
      "text/plain": [
       "<IPython.core.display.HTML object>"
      ]
     },
     "metadata": {},
     "output_type": "display_data"
    },
    {
     "data": {
      "text/html": [
       "\n",
       "<style>\n",
       "    /* Turns off some styling */\n",
       "    progress {\n",
       "        /* gets rid of default border in Firefox and Opera. */\n",
       "        border: none;\n",
       "        /* Needs to be in here for Safari polyfill so background images work as expected. */\n",
       "        background-size: auto;\n",
       "    }\n",
       "    .progress-bar-interrupted, .progress-bar-interrupted::-webkit-progress-bar {\n",
       "        background: #F44336;\n",
       "    }\n",
       "</style>\n"
      ],
      "text/plain": [
       "<IPython.core.display.HTML object>"
      ]
     },
     "metadata": {},
     "output_type": "display_data"
    },
    {
     "data": {
      "text/html": [],
      "text/plain": [
       "<IPython.core.display.HTML object>"
      ]
     },
     "metadata": {},
     "output_type": "display_data"
    },
    {
     "data": {
      "image/png": "[encoded data removed]",
      "text/plain": [
       "<Figure size 432x288 with 2 Axes>"
      ]
     },
     "metadata": {
      "needs_background": "light"
     },
     "output_type": "display_data"
    },
    {
     "name": "stdout",
     "output_type": "stream",
     "text": [
      "Training model with base loss function ce and lambda: 0.1\n",
      "Architechture: <function resnet18 at 0x7fe4c44b0560>\n",
      "Trained epochs: epochs=3\n",
      "Weight decay: wd=0.002\n",
      "Training model with learning rate: 0.003\n"
     ]
    },
    {
     "data": {
      "text/html": [
       "\n",
       "<style>\n",
       "    /* Turns off some styling */\n",
       "    progress {\n",
       "        /* gets rid of default border in Firefox and Opera. */\n",
       "        border: none;\n",
       "        /* Needs to be in here for Safari polyfill so background images work as expected. */\n",
       "        background-size: auto;\n",
       "    }\n",
       "    .progress-bar-interrupted, .progress-bar-interrupted::-webkit-progress-bar {\n",
       "        background: #F44336;\n",
       "    }\n",
       "</style>\n"
      ],
      "text/plain": [
       "<IPython.core.display.HTML object>"
      ]
     },
     "metadata": {},
     "output_type": "display_data"
    },
    {
     "data": {
      "text/html": [
       "<table border=\"1\" class=\"dataframe\">\n",
       "  <thead>\n",
       "    <tr style=\"text-align: left;\">\n",
       "      <th>epoch</th>\n",
       "      <th>train_loss</th>\n",
       "      <th>valid_loss</th>\n",
       "      <th>accuracy</th>\n",
       "      <th>f1_score</th>\n",
       "      <th>precision_score</th>\n",
       "      <th>recall_score</th>\n",
       "      <th>roc_auc_score</th>\n",
       "      <th>matthews_corrcoef</th>\n",
       "      <th>time</th>\n",
       "    </tr>\n",
       "  </thead>\n",
       "  <tbody>\n",
       "    <tr>\n",
       "      <td>0</td>\n",
       "      <td>0.251786</td>\n",
       "      <td>0.211173</td>\n",
       "      <td>0.934240</td>\n",
       "      <td>0.707631</td>\n",
       "      <td>0.594010</td>\n",
       "      <td>0.875000</td>\n",
       "      <td>0.968206</td>\n",
       "      <td>0.688125</td>\n",
       "      <td>01:14</td>\n",
       "    </tr>\n",
       "  </tbody>\n",
       "</table>"
      ],
      "text/plain": [
       "<IPython.core.display.HTML object>"
      ]
     },
     "metadata": {},
     "output_type": "display_data"
    },
    {
     "data": {
      "text/html": [
       "\n",
       "<style>\n",
       "    /* Turns off some styling */\n",
       "    progress {\n",
       "        /* gets rid of default border in Firefox and Opera. */\n",
       "        border: none;\n",
       "        /* Needs to be in here for Safari polyfill so background images work as expected. */\n",
       "        background-size: auto;\n",
       "    }\n",
       "    .progress-bar-interrupted, .progress-bar-interrupted::-webkit-progress-bar {\n",
       "        background: #F44336;\n",
       "    }\n",
       "</style>\n"
      ],
      "text/plain": [
       "<IPython.core.display.HTML object>"
      ]
     },
     "metadata": {},
     "output_type": "display_data"
    },
    {
     "data": {
      "text/html": [
       "<table border=\"1\" class=\"dataframe\">\n",
       "  <thead>\n",
       "    <tr style=\"text-align: left;\">\n",
       "      <th>epoch</th>\n",
       "      <th>train_loss</th>\n",
       "      <th>valid_loss</th>\n",
       "      <th>accuracy</th>\n",
       "      <th>f1_score</th>\n",
       "      <th>precision_score</th>\n",
       "      <th>recall_score</th>\n",
       "      <th>roc_auc_score</th>\n",
       "      <th>matthews_corrcoef</th>\n",
       "      <th>time</th>\n",
       "    </tr>\n",
       "  </thead>\n",
       "  <tbody>\n",
       "    <tr>\n",
       "      <td>0</td>\n",
       "      <td>0.098996</td>\n",
       "      <td>0.171999</td>\n",
       "      <td>0.958092</td>\n",
       "      <td>0.801268</td>\n",
       "      <td>0.704461</td>\n",
       "      <td>0.928922</td>\n",
       "      <td>0.978924</td>\n",
       "      <td>0.787645</td>\n",
       "      <td>01:28</td>\n",
       "    </tr>\n",
       "    <tr>\n",
       "      <td>1</td>\n",
       "      <td>0.041126</td>\n",
       "      <td>0.129994</td>\n",
       "      <td>0.970352</td>\n",
       "      <td>0.839952</td>\n",
       "      <td>0.825059</td>\n",
       "      <td>0.855392</td>\n",
       "      <td>0.981117</td>\n",
       "      <td>0.823784</td>\n",
       "      <td>01:28</td>\n",
       "    </tr>\n",
       "    <tr>\n",
       "      <td>2</td>\n",
       "      <td>0.009406</td>\n",
       "      <td>0.135220</td>\n",
       "      <td>0.972358</td>\n",
       "      <td>0.853774</td>\n",
       "      <td>0.822727</td>\n",
       "      <td>0.887255</td>\n",
       "      <td>0.984359</td>\n",
       "      <td>0.839263</td>\n",
       "      <td>01:28</td>\n",
       "    </tr>\n",
       "  </tbody>\n",
       "</table>"
      ],
      "text/plain": [
       "<IPython.core.display.HTML object>"
      ]
     },
     "metadata": {},
     "output_type": "display_data"
    },
    {
     "data": {
      "text/html": [
       "\n",
       "<style>\n",
       "    /* Turns off some styling */\n",
       "    progress {\n",
       "        /* gets rid of default border in Firefox and Opera. */\n",
       "        border: none;\n",
       "        /* Needs to be in here for Safari polyfill so background images work as expected. */\n",
       "        background-size: auto;\n",
       "    }\n",
       "    .progress-bar-interrupted, .progress-bar-interrupted::-webkit-progress-bar {\n",
       "        background: #F44336;\n",
       "    }\n",
       "</style>\n"
      ],
      "text/plain": [
       "<IPython.core.display.HTML object>"
      ]
     },
     "metadata": {},
     "output_type": "display_data"
    },
    {
     "data": {
      "text/html": [],
      "text/plain": [
       "<IPython.core.display.HTML object>"
      ]
     },
     "metadata": {},
     "output_type": "display_data"
    },
    {
     "data": {
      "image/png": "[encoded data removed]",
      "text/plain": [
       "<Figure size 432x288 with 2 Axes>"
      ]
     },
     "metadata": {
      "needs_background": "light"
     },
     "output_type": "display_data"
    },
    {
     "name": "stdout",
     "output_type": "stream",
     "text": [
      "Training model with base loss function ce and lambda: 1\n",
      "Architechture: <function resnet18 at 0x7fe4c44b0560>\n",
      "Trained epochs: epochs=3\n",
      "Weight decay: wd=0.002\n",
      "Training model with learning rate: 0.003\n"
     ]
    },
    {
     "data": {
      "text/html": [
       "\n",
       "<style>\n",
       "    /* Turns off some styling */\n",
       "    progress {\n",
       "        /* gets rid of default border in Firefox and Opera. */\n",
       "        border: none;\n",
       "        /* Needs to be in here for Safari polyfill so background images work as expected. */\n",
       "        background-size: auto;\n",
       "    }\n",
       "    .progress-bar-interrupted, .progress-bar-interrupted::-webkit-progress-bar {\n",
       "        background: #F44336;\n",
       "    }\n",
       "</style>\n"
      ],
      "text/plain": [
       "<IPython.core.display.HTML object>"
      ]
     },
     "metadata": {},
     "output_type": "display_data"
    },
    {
     "data": {
      "text/html": [
       "<table border=\"1\" class=\"dataframe\">\n",
       "  <thead>\n",
       "    <tr style=\"text-align: left;\">\n",
       "      <th>epoch</th>\n",
       "      <th>train_loss</th>\n",
       "      <th>valid_loss</th>\n",
       "      <th>accuracy</th>\n",
       "      <th>f1_score</th>\n",
       "      <th>precision_score</th>\n",
       "      <th>recall_score</th>\n",
       "      <th>roc_auc_score</th>\n",
       "      <th>matthews_corrcoef</th>\n",
       "      <th>time</th>\n",
       "    </tr>\n",
       "  </thead>\n",
       "  <tbody>\n",
       "    <tr>\n",
       "      <td>0</td>\n",
       "      <td>0.319560</td>\n",
       "      <td>0.253932</td>\n",
       "      <td>0.940259</td>\n",
       "      <td>0.724280</td>\n",
       "      <td>0.624113</td>\n",
       "      <td>0.862745</td>\n",
       "      <td>0.968502</td>\n",
       "      <td>0.703157</td>\n",
       "      <td>01:14</td>\n",
       "    </tr>\n",
       "  </tbody>\n",
       "</table>"
      ],
      "text/plain": [
       "<IPython.core.display.HTML object>"
      ]
     },
     "metadata": {},
     "output_type": "display_data"
    },
    {
     "data": {
      "text/html": [
       "\n",
       "<style>\n",
       "    /* Turns off some styling */\n",
       "    progress {\n",
       "        /* gets rid of default border in Firefox and Opera. */\n",
       "        border: none;\n",
       "        /* Needs to be in here for Safari polyfill so background images work as expected. */\n",
       "        background-size: auto;\n",
       "    }\n",
       "    .progress-bar-interrupted, .progress-bar-interrupted::-webkit-progress-bar {\n",
       "        background: #F44336;\n",
       "    }\n",
       "</style>\n"
      ],
      "text/plain": [
       "<IPython.core.display.HTML object>"
      ]
     },
     "metadata": {},
     "output_type": "display_data"
    },
    {
     "data": {
      "text/html": [
       "<table border=\"1\" class=\"dataframe\">\n",
       "  <thead>\n",
       "    <tr style=\"text-align: left;\">\n",
       "      <th>epoch</th>\n",
       "      <th>train_loss</th>\n",
       "      <th>valid_loss</th>\n",
       "      <th>accuracy</th>\n",
       "      <th>f1_score</th>\n",
       "      <th>precision_score</th>\n",
       "      <th>recall_score</th>\n",
       "      <th>roc_auc_score</th>\n",
       "      <th>matthews_corrcoef</th>\n",
       "      <th>time</th>\n",
       "    </tr>\n",
       "  </thead>\n",
       "  <tbody>\n",
       "    <tr>\n",
       "      <td>0</td>\n",
       "      <td>0.119226</td>\n",
       "      <td>0.246676</td>\n",
       "      <td>0.955417</td>\n",
       "      <td>0.790356</td>\n",
       "      <td>0.690476</td>\n",
       "      <td>0.924020</td>\n",
       "      <td>0.979953</td>\n",
       "      <td>0.776180</td>\n",
       "      <td>01:28</td>\n",
       "    </tr>\n",
       "    <tr>\n",
       "      <td>1</td>\n",
       "      <td>0.051399</td>\n",
       "      <td>0.169713</td>\n",
       "      <td>0.968792</td>\n",
       "      <td>0.830508</td>\n",
       "      <td>0.820574</td>\n",
       "      <td>0.840686</td>\n",
       "      <td>0.977612</td>\n",
       "      <td>0.813397</td>\n",
       "      <td>01:28</td>\n",
       "    </tr>\n",
       "    <tr>\n",
       "      <td>2</td>\n",
       "      <td>0.011433</td>\n",
       "      <td>0.163821</td>\n",
       "      <td>0.972136</td>\n",
       "      <td>0.848851</td>\n",
       "      <td>0.837709</td>\n",
       "      <td>0.860294</td>\n",
       "      <td>0.981127</td>\n",
       "      <td>0.833597</td>\n",
       "      <td>01:28</td>\n",
       "    </tr>\n",
       "  </tbody>\n",
       "</table>"
      ],
      "text/plain": [
       "<IPython.core.display.HTML object>"
      ]
     },
     "metadata": {},
     "output_type": "display_data"
    },
    {
     "data": {
      "text/html": [
       "\n",
       "<style>\n",
       "    /* Turns off some styling */\n",
       "    progress {\n",
       "        /* gets rid of default border in Firefox and Opera. */\n",
       "        border: none;\n",
       "        /* Needs to be in here for Safari polyfill so background images work as expected. */\n",
       "        background-size: auto;\n",
       "    }\n",
       "    .progress-bar-interrupted, .progress-bar-interrupted::-webkit-progress-bar {\n",
       "        background: #F44336;\n",
       "    }\n",
       "</style>\n"
      ],
      "text/plain": [
       "<IPython.core.display.HTML object>"
      ]
     },
     "metadata": {},
     "output_type": "display_data"
    },
    {
     "data": {
      "text/html": [],
      "text/plain": [
       "<IPython.core.display.HTML object>"
      ]
     },
     "metadata": {},
     "output_type": "display_data"
    },
    {
     "data": {
      "image/png": "[encoded data removed]",
      "text/plain": [
       "<Figure size 432x288 with 2 Axes>"
      ]
     },
     "metadata": {
      "needs_background": "light"
     },
     "output_type": "display_data"
    },
    {
     "name": "stdout",
     "output_type": "stream",
     "text": [
      "Training model with base loss function ce and lambda: 10\n",
      "Architechture: <function resnet18 at 0x7fe4c44b0560>\n",
      "Trained epochs: epochs=3\n",
      "Weight decay: wd=0.002\n",
      "Training model with learning rate: 0.003\n"
     ]
    },
    {
     "data": {
      "text/html": [
       "\n",
       "<style>\n",
       "    /* Turns off some styling */\n",
       "    progress {\n",
       "        /* gets rid of default border in Firefox and Opera. */\n",
       "        border: none;\n",
       "        /* Needs to be in here for Safari polyfill so background images work as expected. */\n",
       "        background-size: auto;\n",
       "    }\n",
       "    .progress-bar-interrupted, .progress-bar-interrupted::-webkit-progress-bar {\n",
       "        background: #F44336;\n",
       "    }\n",
       "</style>\n"
      ],
      "text/plain": [
       "<IPython.core.display.HTML object>"
      ]
     },
     "metadata": {},
     "output_type": "display_data"
    },
    {
     "data": {
      "text/html": [
       "<table border=\"1\" class=\"dataframe\">\n",
       "  <thead>\n",
       "    <tr style=\"text-align: left;\">\n",
       "      <th>epoch</th>\n",
       "      <th>train_loss</th>\n",
       "      <th>valid_loss</th>\n",
       "      <th>accuracy</th>\n",
       "      <th>f1_score</th>\n",
       "      <th>precision_score</th>\n",
       "      <th>recall_score</th>\n",
       "      <th>roc_auc_score</th>\n",
       "      <th>matthews_corrcoef</th>\n",
       "      <th>time</th>\n",
       "    </tr>\n",
       "  </thead>\n",
       "  <tbody>\n",
       "    <tr>\n",
       "      <td>0</td>\n",
       "      <td>0.711179</td>\n",
       "      <td>0.597568</td>\n",
       "      <td>0.950513</td>\n",
       "      <td>0.747153</td>\n",
       "      <td>0.697872</td>\n",
       "      <td>0.803922</td>\n",
       "      <td>0.964164</td>\n",
       "      <td>0.722090</td>\n",
       "      <td>01:13</td>\n",
       "    </tr>\n",
       "  </tbody>\n",
       "</table>"
      ],
      "text/plain": [
       "<IPython.core.display.HTML object>"
      ]
     },
     "metadata": {},
     "output_type": "display_data"
    },
    {
     "data": {
      "text/html": [
       "\n",
       "<style>\n",
       "    /* Turns off some styling */\n",
       "    progress {\n",
       "        /* gets rid of default border in Firefox and Opera. */\n",
       "        border: none;\n",
       "        /* Needs to be in here for Safari polyfill so background images work as expected. */\n",
       "        background-size: auto;\n",
       "    }\n",
       "    .progress-bar-interrupted, .progress-bar-interrupted::-webkit-progress-bar {\n",
       "        background: #F44336;\n",
       "    }\n",
       "</style>\n"
      ],
      "text/plain": [
       "<IPython.core.display.HTML object>"
      ]
     },
     "metadata": {},
     "output_type": "display_data"
    },
    {
     "data": {
      "text/html": [
       "<table border=\"1\" class=\"dataframe\">\n",
       "  <thead>\n",
       "    <tr style=\"text-align: left;\">\n",
       "      <th>epoch</th>\n",
       "      <th>train_loss</th>\n",
       "      <th>valid_loss</th>\n",
       "      <th>accuracy</th>\n",
       "      <th>f1_score</th>\n",
       "      <th>precision_score</th>\n",
       "      <th>recall_score</th>\n",
       "      <th>roc_auc_score</th>\n",
       "      <th>matthews_corrcoef</th>\n",
       "      <th>time</th>\n",
       "    </tr>\n",
       "  </thead>\n",
       "  <tbody>\n",
       "    <tr>\n",
       "      <td>0</td>\n",
       "      <td>0.294818</td>\n",
       "      <td>0.439490</td>\n",
       "      <td>0.967900</td>\n",
       "      <td>0.833718</td>\n",
       "      <td>0.788210</td>\n",
       "      <td>0.884804</td>\n",
       "      <td>0.976622</td>\n",
       "      <td>0.817689</td>\n",
       "      <td>01:27</td>\n",
       "    </tr>\n",
       "    <tr>\n",
       "      <td>1</td>\n",
       "      <td>0.122806</td>\n",
       "      <td>0.274572</td>\n",
       "      <td>0.969906</td>\n",
       "      <td>0.826255</td>\n",
       "      <td>0.869919</td>\n",
       "      <td>0.786765</td>\n",
       "      <td>0.976388</td>\n",
       "      <td>0.811052</td>\n",
       "      <td>01:27</td>\n",
       "    </tr>\n",
       "    <tr>\n",
       "      <td>2</td>\n",
       "      <td>0.034187</td>\n",
       "      <td>0.291948</td>\n",
       "      <td>0.971021</td>\n",
       "      <td>0.835859</td>\n",
       "      <td>0.861979</td>\n",
       "      <td>0.811275</td>\n",
       "      <td>0.980205</td>\n",
       "      <td>0.820435</td>\n",
       "      <td>01:27</td>\n",
       "    </tr>\n",
       "  </tbody>\n",
       "</table>"
      ],
      "text/plain": [
       "<IPython.core.display.HTML object>"
      ]
     },
     "metadata": {},
     "output_type": "display_data"
    },
    {
     "data": {
      "text/html": [
       "\n",
       "<style>\n",
       "    /* Turns off some styling */\n",
       "    progress {\n",
       "        /* gets rid of default border in Firefox and Opera. */\n",
       "        border: none;\n",
       "        /* Needs to be in here for Safari polyfill so background images work as expected. */\n",
       "        background-size: auto;\n",
       "    }\n",
       "    .progress-bar-interrupted, .progress-bar-interrupted::-webkit-progress-bar {\n",
       "        background: #F44336;\n",
       "    }\n",
       "</style>\n"
      ],
      "text/plain": [
       "<IPython.core.display.HTML object>"
      ]
     },
     "metadata": {},
     "output_type": "display_data"
    },
    {
     "data": {
      "text/html": [],
      "text/plain": [
       "<IPython.core.display.HTML object>"
      ]
     },
     "metadata": {},
     "output_type": "display_data"
    },
    {
     "data": {
      "image/png": "[encoded data removed]",
      "text/plain": [
       "<Figure size 432x288 with 2 Axes>"
      ]
     },
     "metadata": {
      "needs_background": "light"
     },
     "output_type": "display_data"
    }
   ],
   "source": [
    "n_classes = 2\n",
    "base_loss = 'ce'\n",
    "for l in lambdas:\n",
    "    print(f'Training model with base loss function {base_loss} and lambda: {l}')\n",
    "    learn, _ = train_model_with_loss(base_loss=base_loss, lambd=l)\n",
    "    learners.append(learn)"
   ]
  },
  {
   "cell_type": "code",
   "execution_count": null,
   "id": "8b59811d",
   "metadata": {},
   "outputs": [
    {
     "name": "stdout",
     "output_type": "stream",
     "text": [
      "Training model with base loss function focal_loss and lambda: 0\n",
      "Architechture: <function resnet18 at 0x7f276ed998c0>\n",
      "Trained epochs: epochs=5\n",
      "Weight decay: wd=0.002\n",
      "Training model with learning rate: 0.003\n"
     ]
    },
    {
     "data": {
      "text/html": [
       "\n",
       "<style>\n",
       "    /* Turns off some styling */\n",
       "    progress {\n",
       "        /* gets rid of default border in Firefox and Opera. */\n",
       "        border: none;\n",
       "        /* Needs to be in here for Safari polyfill so background images work as expected. */\n",
       "        background-size: auto;\n",
       "    }\n",
       "    .progress-bar-interrupted, .progress-bar-interrupted::-webkit-progress-bar {\n",
       "        background: #F44336;\n",
       "    }\n",
       "</style>\n"
      ],
      "text/plain": [
       "<IPython.core.display.HTML object>"
      ]
     },
     "metadata": {},
     "output_type": "display_data"
    },
    {
     "data": {
      "text/html": [
       "<table border=\"1\" class=\"dataframe\">\n",
       "  <thead>\n",
       "    <tr style=\"text-align: left;\">\n",
       "      <th>epoch</th>\n",
       "      <th>train_loss</th>\n",
       "      <th>valid_loss</th>\n",
       "      <th>accuracy</th>\n",
       "      <th>f1_score</th>\n",
       "      <th>precision_score</th>\n",
       "      <th>recall_score</th>\n",
       "      <th>roc_auc_score</th>\n",
       "      <th>matthews_corrcoef</th>\n",
       "      <th>time</th>\n",
       "    </tr>\n",
       "  </thead>\n",
       "  <tbody>\n",
       "    <tr>\n",
       "      <td>0</td>\n",
       "      <td>0.051926</td>\n",
       "      <td>0.043659</td>\n",
       "      <td>0.897236</td>\n",
       "      <td>0.611626</td>\n",
       "      <td>0.465982</td>\n",
       "      <td>0.889706</td>\n",
       "      <td>0.946889</td>\n",
       "      <td>0.597904</td>\n",
       "      <td>01:13</td>\n",
       "    </tr>\n",
       "  </tbody>\n",
       "</table>"
      ],
      "text/plain": [
       "<IPython.core.display.HTML object>"
      ]
     },
     "metadata": {},
     "output_type": "display_data"
    },
    {
     "data": {
      "text/html": [
       "\n",
       "<style>\n",
       "    /* Turns off some styling */\n",
       "    progress {\n",
       "        /* gets rid of default border in Firefox and Opera. */\n",
       "        border: none;\n",
       "        /* Needs to be in here for Safari polyfill so background images work as expected. */\n",
       "        background-size: auto;\n",
       "    }\n",
       "    .progress-bar-interrupted, .progress-bar-interrupted::-webkit-progress-bar {\n",
       "        background: #F44336;\n",
       "    }\n",
       "</style>\n"
      ],
      "text/plain": [
       "<IPython.core.display.HTML object>"
      ]
     },
     "metadata": {},
     "output_type": "display_data"
    },
    {
     "data": {
      "text/html": [
       "<table border=\"1\" class=\"dataframe\">\n",
       "  <thead>\n",
       "    <tr style=\"text-align: left;\">\n",
       "      <th>epoch</th>\n",
       "      <th>train_loss</th>\n",
       "      <th>valid_loss</th>\n",
       "      <th>accuracy</th>\n",
       "      <th>f1_score</th>\n",
       "      <th>precision_score</th>\n",
       "      <th>recall_score</th>\n",
       "      <th>roc_auc_score</th>\n",
       "      <th>matthews_corrcoef</th>\n",
       "      <th>time</th>\n",
       "    </tr>\n",
       "  </thead>\n",
       "  <tbody>\n",
       "    <tr>\n",
       "      <td>0</td>\n",
       "      <td>0.018104</td>\n",
       "      <td>0.018760</td>\n",
       "      <td>0.958538</td>\n",
       "      <td>0.795604</td>\n",
       "      <td>0.721116</td>\n",
       "      <td>0.887255</td>\n",
       "      <td>0.981561</td>\n",
       "      <td>0.777952</td>\n",
       "      <td>01:25</td>\n",
       "    </tr>\n",
       "    <tr>\n",
       "      <td>1</td>\n",
       "      <td>0.010570</td>\n",
       "      <td>0.023790</td>\n",
       "      <td>0.963442</td>\n",
       "      <td>0.810624</td>\n",
       "      <td>0.766376</td>\n",
       "      <td>0.860294</td>\n",
       "      <td>0.970447</td>\n",
       "      <td>0.792084</td>\n",
       "      <td>01:25</td>\n",
       "    </tr>\n",
       "    <tr>\n",
       "      <td>2</td>\n",
       "      <td>0.005971</td>\n",
       "      <td>0.017391</td>\n",
       "      <td>0.968123</td>\n",
       "      <td>0.824108</td>\n",
       "      <td>0.827160</td>\n",
       "      <td>0.821078</td>\n",
       "      <td>0.978872</td>\n",
       "      <td>0.806588</td>\n",
       "      <td>01:27</td>\n",
       "    </tr>\n",
       "    <tr>\n",
       "      <td>3</td>\n",
       "      <td>0.002116</td>\n",
       "      <td>0.023751</td>\n",
       "      <td>0.971467</td>\n",
       "      <td>0.841975</td>\n",
       "      <td>0.848259</td>\n",
       "      <td>0.835784</td>\n",
       "      <td>0.981665</td>\n",
       "      <td>0.826321</td>\n",
       "      <td>01:26</td>\n",
       "    </tr>\n",
       "    <tr>\n",
       "      <td>4</td>\n",
       "      <td>0.000442</td>\n",
       "      <td>0.026949</td>\n",
       "      <td>0.972581</td>\n",
       "      <td>0.850547</td>\n",
       "      <td>0.843373</td>\n",
       "      <td>0.857843</td>\n",
       "      <td>0.981919</td>\n",
       "      <td>0.835491</td>\n",
       "      <td>01:26</td>\n",
       "    </tr>\n",
       "  </tbody>\n",
       "</table>"
      ],
      "text/plain": [
       "<IPython.core.display.HTML object>"
      ]
     },
     "metadata": {},
     "output_type": "display_data"
    },
    {
     "data": {
      "text/html": [
       "\n",
       "<style>\n",
       "    /* Turns off some styling */\n",
       "    progress {\n",
       "        /* gets rid of default border in Firefox and Opera. */\n",
       "        border: none;\n",
       "        /* Needs to be in here for Safari polyfill so background images work as expected. */\n",
       "        background-size: auto;\n",
       "    }\n",
       "    .progress-bar-interrupted, .progress-bar-interrupted::-webkit-progress-bar {\n",
       "        background: #F44336;\n",
       "    }\n",
       "</style>\n"
      ],
      "text/plain": [
       "<IPython.core.display.HTML object>"
      ]
     },
     "metadata": {},
     "output_type": "display_data"
    },
    {
     "data": {
      "text/html": [],
      "text/plain": [
       "<IPython.core.display.HTML object>"
      ]
     },
     "metadata": {},
     "output_type": "display_data"
    },
    {
     "data": {
      "image/png": "[encoded data removed]",
      "text/plain": [
       "<Figure size 432x288 with 2 Axes>"
      ]
     },
     "metadata": {
      "needs_background": "light"
     },
     "output_type": "display_data"
    },
    {
     "name": "stdout",
     "output_type": "stream",
     "text": [
      "Training model with base loss function focal_loss and lambda: 0.1\n",
      "Architechture: <function resnet18 at 0x7f276ed998c0>\n",
      "Trained epochs: epochs=5\n",
      "Weight decay: wd=0.002\n",
      "Training model with learning rate: 0.003\n"
     ]
    },
    {
     "data": {
      "text/html": [
       "\n",
       "<style>\n",
       "    /* Turns off some styling */\n",
       "    progress {\n",
       "        /* gets rid of default border in Firefox and Opera. */\n",
       "        border: none;\n",
       "        /* Needs to be in here for Safari polyfill so background images work as expected. */\n",
       "        background-size: auto;\n",
       "    }\n",
       "    .progress-bar-interrupted, .progress-bar-interrupted::-webkit-progress-bar {\n",
       "        background: #F44336;\n",
       "    }\n",
       "</style>\n"
      ],
      "text/plain": [
       "<IPython.core.display.HTML object>"
      ]
     },
     "metadata": {},
     "output_type": "display_data"
    },
    {
     "data": {
      "text/html": [
       "<table border=\"1\" class=\"dataframe\">\n",
       "  <thead>\n",
       "    <tr style=\"text-align: left;\">\n",
       "      <th>epoch</th>\n",
       "      <th>train_loss</th>\n",
       "      <th>valid_loss</th>\n",
       "      <th>accuracy</th>\n",
       "      <th>f1_score</th>\n",
       "      <th>precision_score</th>\n",
       "      <th>recall_score</th>\n",
       "      <th>roc_auc_score</th>\n",
       "      <th>matthews_corrcoef</th>\n",
       "      <th>time</th>\n",
       "    </tr>\n",
       "  </thead>\n",
       "  <tbody>\n",
       "    <tr>\n",
       "      <td>0</td>\n",
       "      <td>0.068379</td>\n",
       "      <td>0.046536</td>\n",
       "      <td>0.925546</td>\n",
       "      <td>0.679463</td>\n",
       "      <td>0.558360</td>\n",
       "      <td>0.867647</td>\n",
       "      <td>0.962426</td>\n",
       "      <td>0.659485</td>\n",
       "      <td>01:13</td>\n",
       "    </tr>\n",
       "  </tbody>\n",
       "</table>"
      ],
      "text/plain": [
       "<IPython.core.display.HTML object>"
      ]
     },
     "metadata": {},
     "output_type": "display_data"
    },
    {
     "data": {
      "text/html": [
       "\n",
       "<style>\n",
       "    /* Turns off some styling */\n",
       "    progress {\n",
       "        /* gets rid of default border in Firefox and Opera. */\n",
       "        border: none;\n",
       "        /* Needs to be in here for Safari polyfill so background images work as expected. */\n",
       "        background-size: auto;\n",
       "    }\n",
       "    .progress-bar-interrupted, .progress-bar-interrupted::-webkit-progress-bar {\n",
       "        background: #F44336;\n",
       "    }\n",
       "</style>\n"
      ],
      "text/plain": [
       "<IPython.core.display.HTML object>"
      ]
     },
     "metadata": {},
     "output_type": "display_data"
    },
    {
     "data": {
      "text/html": [
       "<table border=\"1\" class=\"dataframe\">\n",
       "  <thead>\n",
       "    <tr style=\"text-align: left;\">\n",
       "      <th>epoch</th>\n",
       "      <th>train_loss</th>\n",
       "      <th>valid_loss</th>\n",
       "      <th>accuracy</th>\n",
       "      <th>f1_score</th>\n",
       "      <th>precision_score</th>\n",
       "      <th>recall_score</th>\n",
       "      <th>roc_auc_score</th>\n",
       "      <th>matthews_corrcoef</th>\n",
       "      <th>time</th>\n",
       "    </tr>\n",
       "  </thead>\n",
       "  <tbody>\n",
       "    <tr>\n",
       "      <td>0</td>\n",
       "      <td>0.025245</td>\n",
       "      <td>0.035954</td>\n",
       "      <td>0.954525</td>\n",
       "      <td>0.784355</td>\n",
       "      <td>0.689591</td>\n",
       "      <td>0.909314</td>\n",
       "      <td>0.975604</td>\n",
       "      <td>0.768555</td>\n",
       "      <td>01:27</td>\n",
       "    </tr>\n",
       "    <tr>\n",
       "      <td>1</td>\n",
       "      <td>0.017739</td>\n",
       "      <td>0.030146</td>\n",
       "      <td>0.970575</td>\n",
       "      <td>0.846868</td>\n",
       "      <td>0.803965</td>\n",
       "      <td>0.894608</td>\n",
       "      <td>0.982035</td>\n",
       "      <td>0.832093</td>\n",
       "      <td>01:27</td>\n",
       "    </tr>\n",
       "    <tr>\n",
       "      <td>2</td>\n",
       "      <td>0.008289</td>\n",
       "      <td>0.032693</td>\n",
       "      <td>0.969015</td>\n",
       "      <td>0.836663</td>\n",
       "      <td>0.803612</td>\n",
       "      <td>0.872549</td>\n",
       "      <td>0.982500</td>\n",
       "      <td>0.820426</td>\n",
       "      <td>01:28</td>\n",
       "    </tr>\n",
       "    <tr>\n",
       "      <td>3</td>\n",
       "      <td>0.002576</td>\n",
       "      <td>0.039443</td>\n",
       "      <td>0.972804</td>\n",
       "      <td>0.854067</td>\n",
       "      <td>0.834112</td>\n",
       "      <td>0.875000</td>\n",
       "      <td>0.983602</td>\n",
       "      <td>0.839373</td>\n",
       "      <td>01:28</td>\n",
       "    </tr>\n",
       "    <tr>\n",
       "      <td>4</td>\n",
       "      <td>0.001002</td>\n",
       "      <td>0.040861</td>\n",
       "      <td>0.973027</td>\n",
       "      <td>0.855090</td>\n",
       "      <td>0.836066</td>\n",
       "      <td>0.875000</td>\n",
       "      <td>0.982612</td>\n",
       "      <td>0.840493</td>\n",
       "      <td>01:28</td>\n",
       "    </tr>\n",
       "  </tbody>\n",
       "</table>"
      ],
      "text/plain": [
       "<IPython.core.display.HTML object>"
      ]
     },
     "metadata": {},
     "output_type": "display_data"
    },
    {
     "data": {
      "text/html": [
       "\n",
       "<style>\n",
       "    /* Turns off some styling */\n",
       "    progress {\n",
       "        /* gets rid of default border in Firefox and Opera. */\n",
       "        border: none;\n",
       "        /* Needs to be in here for Safari polyfill so background images work as expected. */\n",
       "        background-size: auto;\n",
       "    }\n",
       "    .progress-bar-interrupted, .progress-bar-interrupted::-webkit-progress-bar {\n",
       "        background: #F44336;\n",
       "    }\n",
       "</style>\n"
      ],
      "text/plain": [
       "<IPython.core.display.HTML object>"
      ]
     },
     "metadata": {},
     "output_type": "display_data"
    },
    {
     "data": {
      "text/html": [],
      "text/plain": [
       "<IPython.core.display.HTML object>"
      ]
     },
     "metadata": {},
     "output_type": "display_data"
    },
    {
     "data": {
      "image/png": "[encoded data removed]",
      "text/plain": [
       "<Figure size 432x288 with 2 Axes>"
      ]
     },
     "metadata": {
      "needs_background": "light"
     },
     "output_type": "display_data"
    },
    {
     "name": "stdout",
     "output_type": "stream",
     "text": [
      "Training model with base loss function focal_loss and lambda: 1\n",
      "Architechture: <function resnet18 at 0x7f276ed998c0>\n",
      "Trained epochs: epochs=5\n",
      "Weight decay: wd=0.002\n",
      "Training model with learning rate: 0.003\n"
     ]
    },
    {
     "data": {
      "text/html": [
       "\n",
       "<style>\n",
       "    /* Turns off some styling */\n",
       "    progress {\n",
       "        /* gets rid of default border in Firefox and Opera. */\n",
       "        border: none;\n",
       "        /* Needs to be in here for Safari polyfill so background images work as expected. */\n",
       "        background-size: auto;\n",
       "    }\n",
       "    .progress-bar-interrupted, .progress-bar-interrupted::-webkit-progress-bar {\n",
       "        background: #F44336;\n",
       "    }\n",
       "</style>\n"
      ],
      "text/plain": [
       "<IPython.core.display.HTML object>"
      ]
     },
     "metadata": {},
     "output_type": "display_data"
    },
    {
     "data": {
      "text/html": [
       "<table border=\"1\" class=\"dataframe\">\n",
       "  <thead>\n",
       "    <tr style=\"text-align: left;\">\n",
       "      <th>epoch</th>\n",
       "      <th>train_loss</th>\n",
       "      <th>valid_loss</th>\n",
       "      <th>accuracy</th>\n",
       "      <th>f1_score</th>\n",
       "      <th>precision_score</th>\n",
       "      <th>recall_score</th>\n",
       "      <th>roc_auc_score</th>\n",
       "      <th>matthews_corrcoef</th>\n",
       "      <th>time</th>\n",
       "    </tr>\n",
       "  </thead>\n",
       "  <tbody>\n",
       "    <tr>\n",
       "      <td>0</td>\n",
       "      <td>0.115090</td>\n",
       "      <td>0.112421</td>\n",
       "      <td>0.944494</td>\n",
       "      <td>0.733119</td>\n",
       "      <td>0.651429</td>\n",
       "      <td>0.838235</td>\n",
       "      <td>0.967018</td>\n",
       "      <td>0.709647</td>\n",
       "      <td>01:14</td>\n",
       "    </tr>\n",
       "  </tbody>\n",
       "</table>"
      ],
      "text/plain": [
       "<IPython.core.display.HTML object>"
      ]
     },
     "metadata": {},
     "output_type": "display_data"
    },
    {
     "data": {
      "text/html": [
       "\n",
       "<style>\n",
       "    /* Turns off some styling */\n",
       "    progress {\n",
       "        /* gets rid of default border in Firefox and Opera. */\n",
       "        border: none;\n",
       "        /* Needs to be in here for Safari polyfill so background images work as expected. */\n",
       "        background-size: auto;\n",
       "    }\n",
       "    .progress-bar-interrupted, .progress-bar-interrupted::-webkit-progress-bar {\n",
       "        background: #F44336;\n",
       "    }\n",
       "</style>\n"
      ],
      "text/plain": [
       "<IPython.core.display.HTML object>"
      ]
     },
     "metadata": {},
     "output_type": "display_data"
    },
    {
     "data": {
      "text/html": [
       "\n",
       "    <div>\n",
       "      <progress value='4' class='' max='5' style='width:300px; height:20px; vertical-align: middle;'></progress>\n",
       "      80.00% [4/5 05:54<01:28]\n",
       "    </div>\n",
       "    \n",
       "<table border=\"1\" class=\"dataframe\">\n",
       "  <thead>\n",
       "    <tr style=\"text-align: left;\">\n",
       "      <th>epoch</th>\n",
       "      <th>train_loss</th>\n",
       "      <th>valid_loss</th>\n",
       "      <th>accuracy</th>\n",
       "      <th>f1_score</th>\n",
       "      <th>precision_score</th>\n",
       "      <th>recall_score</th>\n",
       "      <th>roc_auc_score</th>\n",
       "      <th>matthews_corrcoef</th>\n",
       "      <th>time</th>\n",
       "    </tr>\n",
       "  </thead>\n",
       "  <tbody>\n",
       "    <tr>\n",
       "      <td>0</td>\n",
       "      <td>0.048780</td>\n",
       "      <td>0.086238</td>\n",
       "      <td>0.958538</td>\n",
       "      <td>0.787671</td>\n",
       "      <td>0.737179</td>\n",
       "      <td>0.845588</td>\n",
       "      <td>0.973911</td>\n",
       "      <td>0.767027</td>\n",
       "      <td>01:28</td>\n",
       "    </tr>\n",
       "    <tr>\n",
       "      <td>1</td>\n",
       "      <td>0.040359</td>\n",
       "      <td>0.058120</td>\n",
       "      <td>0.966117</td>\n",
       "      <td>0.817746</td>\n",
       "      <td>0.800469</td>\n",
       "      <td>0.835784</td>\n",
       "      <td>0.981493</td>\n",
       "      <td>0.799304</td>\n",
       "      <td>01:28</td>\n",
       "    </tr>\n",
       "    <tr>\n",
       "      <td>2</td>\n",
       "      <td>0.022513</td>\n",
       "      <td>0.065449</td>\n",
       "      <td>0.968123</td>\n",
       "      <td>0.835821</td>\n",
       "      <td>0.786177</td>\n",
       "      <td>0.892157</td>\n",
       "      <td>0.982964</td>\n",
       "      <td>0.820253</td>\n",
       "      <td>01:28</td>\n",
       "    </tr>\n",
       "    <tr>\n",
       "      <td>3</td>\n",
       "      <td>0.004387</td>\n",
       "      <td>0.071922</td>\n",
       "      <td>0.969683</td>\n",
       "      <td>0.827411</td>\n",
       "      <td>0.857895</td>\n",
       "      <td>0.799020</td>\n",
       "      <td>0.982811</td>\n",
       "      <td>0.811432</td>\n",
       "      <td>01:28</td>\n",
       "    </tr>\n",
       "  </tbody>\n",
       "</table><p>\n",
       "\n",
       "    <div>\n",
       "      <progress value='149' class='' max='382' style='width:300px; height:20px; vertical-align: middle;'></progress>\n",
       "      39.01% [149/382 00:31<00:49 0.0018]\n",
       "    </div>\n",
       "    "
      ],
      "text/plain": [
       "<IPython.core.display.HTML object>"
      ]
     },
     "metadata": {},
     "output_type": "display_data"
    }
   ],
   "source": [
    "n_classes = 2\n",
    "base_loss = 'focal_loss'\n",
    "for l in lambdas:\n",
    "    print(f'Training model with base loss function {base_loss} and lambda: {l}')\n",
    "    learn, _ = train_model_with_loss(base_loss=base_loss, lambd=l)\n",
    "    learners.append(learn)"
   ]
  },
  {
   "cell_type": "code",
   "execution_count": null,
   "id": "53026bbf",
   "metadata": {},
   "outputs": [],
   "source": [
    "n_classes = 2\n",
    "base_loss = 'ls'\n",
    "for l in lambdas:\n",
    "    print(f'Training model with base loss function {base_loss} and lambda: {l}')\n",
    "    learn, _ = train_model_with_loss(base_loss=base_loss, lambd=l)\n",
    "    learners.append(learn)"
   ]
  },
  {
   "cell_type": "code",
   "execution_count": null,
   "id": "f483a610",
   "metadata": {},
   "outputs": [],
   "source": [
    "n_classes = 2\n",
    "base_loss = 'gls'\n",
    "for l in lambdas:\n",
    "    print(f'Training model with base loss function {base_loss} and lambda: {l}')\n",
    "    train_model_with_loss(base_loss=base_loss, lambd=l)\n",
    "    learners.append(learn)"
   ]
  },
  {
   "cell_type": "markdown",
   "id": "5837612c",
   "metadata": {},
   "source": [
    "## Test for different Cost Matrices"
   ]
  },
  {
   "cell_type": "code",
   "execution_count": 45,
   "id": "813654f2",
   "metadata": {},
   "outputs": [],
   "source": [
    "M = np.array([[0,1],\n",
    "            [1,0]], dtype=float)\n",
    "M /= M.max()\n",
    "M = torch.from_numpy(M)\n",
    "M = M.to(torch.float32)"
   ]
  },
  {
   "cell_type": "code",
   "execution_count": 51,
   "id": "0af785a4",
   "metadata": {},
   "outputs": [
    {
     "name": "stdout",
     "output_type": "stream",
     "text": [
      "Training model with base loss function ce and lambda: 10\n",
      "Architechture: <function resnet18 at 0x7f276ed998c0>\n",
      "Trained epochs: epochs=5\n",
      "Weight decay: wd=0.002\n",
      "Training model with learning rate: 0.003\n"
     ]
    },
    {
     "data": {
      "text/html": [
       "\n",
       "<style>\n",
       "    /* Turns off some styling */\n",
       "    progress {\n",
       "        /* gets rid of default border in Firefox and Opera. */\n",
       "        border: none;\n",
       "        /* Needs to be in here for Safari polyfill so background images work as expected. */\n",
       "        background-size: auto;\n",
       "    }\n",
       "    .progress-bar-interrupted, .progress-bar-interrupted::-webkit-progress-bar {\n",
       "        background: #F44336;\n",
       "    }\n",
       "</style>\n"
      ],
      "text/plain": [
       "<IPython.core.display.HTML object>"
      ]
     },
     "metadata": {},
     "output_type": "display_data"
    },
    {
     "data": {
      "text/html": [
       "<table border=\"1\" class=\"dataframe\">\n",
       "  <thead>\n",
       "    <tr style=\"text-align: left;\">\n",
       "      <th>epoch</th>\n",
       "      <th>train_loss</th>\n",
       "      <th>valid_loss</th>\n",
       "      <th>accuracy</th>\n",
       "      <th>f1_score</th>\n",
       "      <th>precision_score</th>\n",
       "      <th>recall_score</th>\n",
       "      <th>roc_auc_score</th>\n",
       "      <th>matthews_corrcoef</th>\n",
       "      <th>time</th>\n",
       "    </tr>\n",
       "  </thead>\n",
       "  <tbody>\n",
       "    <tr>\n",
       "      <td>0</td>\n",
       "      <td>1.259602</td>\n",
       "      <td>1.194937</td>\n",
       "      <td>0.926661</td>\n",
       "      <td>0.692236</td>\n",
       "      <td>0.559758</td>\n",
       "      <td>0.906863</td>\n",
       "      <td>0.968938</td>\n",
       "      <td>0.677776</td>\n",
       "      <td>01:14</td>\n",
       "    </tr>\n",
       "  </tbody>\n",
       "</table>"
      ],
      "text/plain": [
       "<IPython.core.display.HTML object>"
      ]
     },
     "metadata": {},
     "output_type": "display_data"
    },
    {
     "data": {
      "text/html": [
       "\n",
       "<style>\n",
       "    /* Turns off some styling */\n",
       "    progress {\n",
       "        /* gets rid of default border in Firefox and Opera. */\n",
       "        border: none;\n",
       "        /* Needs to be in here for Safari polyfill so background images work as expected. */\n",
       "        background-size: auto;\n",
       "    }\n",
       "    .progress-bar-interrupted, .progress-bar-interrupted::-webkit-progress-bar {\n",
       "        background: #F44336;\n",
       "    }\n",
       "</style>\n"
      ],
      "text/plain": [
       "<IPython.core.display.HTML object>"
      ]
     },
     "metadata": {},
     "output_type": "display_data"
    },
    {
     "data": {
      "text/html": [
       "<table border=\"1\" class=\"dataframe\">\n",
       "  <thead>\n",
       "    <tr style=\"text-align: left;\">\n",
       "      <th>epoch</th>\n",
       "      <th>train_loss</th>\n",
       "      <th>valid_loss</th>\n",
       "      <th>accuracy</th>\n",
       "      <th>f1_score</th>\n",
       "      <th>precision_score</th>\n",
       "      <th>recall_score</th>\n",
       "      <th>roc_auc_score</th>\n",
       "      <th>matthews_corrcoef</th>\n",
       "      <th>time</th>\n",
       "    </tr>\n",
       "  </thead>\n",
       "  <tbody>\n",
       "    <tr>\n",
       "      <td>0</td>\n",
       "      <td>0.486771</td>\n",
       "      <td>0.651485</td>\n",
       "      <td>0.964111</td>\n",
       "      <td>0.821310</td>\n",
       "      <td>0.750507</td>\n",
       "      <td>0.906863</td>\n",
       "      <td>0.979613</td>\n",
       "      <td>0.805994</td>\n",
       "      <td>01:27</td>\n",
       "    </tr>\n",
       "    <tr>\n",
       "      <td>1</td>\n",
       "      <td>0.376458</td>\n",
       "      <td>0.758381</td>\n",
       "      <td>0.958761</td>\n",
       "      <td>0.801289</td>\n",
       "      <td>0.713193</td>\n",
       "      <td>0.914216</td>\n",
       "      <td>0.972310</td>\n",
       "      <td>0.786149</td>\n",
       "      <td>01:27</td>\n",
       "    </tr>\n",
       "    <tr>\n",
       "      <td>2</td>\n",
       "      <td>0.204269</td>\n",
       "      <td>0.490568</td>\n",
       "      <td>0.970798</td>\n",
       "      <td>0.847851</td>\n",
       "      <td>0.805740</td>\n",
       "      <td>0.894608</td>\n",
       "      <td>0.978106</td>\n",
       "      <td>0.833142</td>\n",
       "      <td>01:28</td>\n",
       "    </tr>\n",
       "    <tr>\n",
       "      <td>3</td>\n",
       "      <td>0.091801</td>\n",
       "      <td>0.484341</td>\n",
       "      <td>0.971690</td>\n",
       "      <td>0.851809</td>\n",
       "      <td>0.812918</td>\n",
       "      <td>0.894608</td>\n",
       "      <td>0.981636</td>\n",
       "      <td>0.837370</td>\n",
       "      <td>01:26</td>\n",
       "    </tr>\n",
       "    <tr>\n",
       "      <td>4</td>\n",
       "      <td>0.046832</td>\n",
       "      <td>0.457778</td>\n",
       "      <td>0.972804</td>\n",
       "      <td>0.853012</td>\n",
       "      <td>0.838863</td>\n",
       "      <td>0.867647</td>\n",
       "      <td>0.979606</td>\n",
       "      <td>0.838178</td>\n",
       "      <td>01:26</td>\n",
       "    </tr>\n",
       "  </tbody>\n",
       "</table>"
      ],
      "text/plain": [
       "<IPython.core.display.HTML object>"
      ]
     },
     "metadata": {},
     "output_type": "display_data"
    },
    {
     "data": {
      "text/html": [
       "\n",
       "<style>\n",
       "    /* Turns off some styling */\n",
       "    progress {\n",
       "        /* gets rid of default border in Firefox and Opera. */\n",
       "        border: none;\n",
       "        /* Needs to be in here for Safari polyfill so background images work as expected. */\n",
       "        background-size: auto;\n",
       "    }\n",
       "    .progress-bar-interrupted, .progress-bar-interrupted::-webkit-progress-bar {\n",
       "        background: #F44336;\n",
       "    }\n",
       "</style>\n"
      ],
      "text/plain": [
       "<IPython.core.display.HTML object>"
      ]
     },
     "metadata": {},
     "output_type": "display_data"
    },
    {
     "data": {
      "text/html": [],
      "text/plain": [
       "<IPython.core.display.HTML object>"
      ]
     },
     "metadata": {},
     "output_type": "display_data"
    },
    {
     "data": {
      "image/png": "[encoded data removed]",
      "text/plain": [
       "<Figure size 432x288 with 2 Axes>"
      ]
     },
     "metadata": {
      "needs_background": "light"
     },
     "output_type": "display_data"
    },
    {
     "ename": "NameError",
     "evalue": "name 'logs' is not defined",
     "output_type": "error",
     "traceback": [
      "\u001b[0;31m---------------------------------------------------------------------------\u001b[0m",
      "\u001b[0;31mNameError\u001b[0m                                 Traceback (most recent call last)",
      "\u001b[0;32m/tmp/ipykernel_3846/428004123.py\u001b[0m in \u001b[0;36m<module>\u001b[0;34m\u001b[0m\n\u001b[1;32m      3\u001b[0m \u001b[0mprint\u001b[0m\u001b[0;34m(\u001b[0m\u001b[0;34mf'Training model with base loss function {base_loss} and lambda: 10'\u001b[0m\u001b[0;34m)\u001b[0m\u001b[0;34m\u001b[0m\u001b[0;34m\u001b[0m\u001b[0m\n\u001b[1;32m      4\u001b[0m \u001b[0mlearn\u001b[0m\u001b[0;34m,\u001b[0m \u001b[0m_\u001b[0m \u001b[0;34m=\u001b[0m \u001b[0mtrain_model_with_loss\u001b[0m\u001b[0;34m(\u001b[0m\u001b[0mbase_loss\u001b[0m\u001b[0;34m=\u001b[0m\u001b[0mbase_loss\u001b[0m\u001b[0;34m,\u001b[0m \u001b[0mlambd\u001b[0m\u001b[0;34m=\u001b[0m\u001b[0;36m10\u001b[0m\u001b[0;34m)\u001b[0m\u001b[0;34m\u001b[0m\u001b[0;34m\u001b[0m\u001b[0m\n\u001b[0;32m----> 5\u001b[0;31m \u001b[0mlogs\u001b[0m\u001b[0;34m.\u001b[0m\u001b[0mappend\u001b[0m\u001b[0;34m(\u001b[0m\u001b[0mlearn\u001b[0m\u001b[0;34m)\u001b[0m\u001b[0;34m\u001b[0m\u001b[0;34m\u001b[0m\u001b[0m\n\u001b[0m",
      "\u001b[0;31mNameError\u001b[0m: name 'logs' is not defined"
     ]
    }
   ],
   "source": [
    "n_classes = 2\n",
    "base_loss = 'ce'\n",
    "print(f'Training model with base loss function {base_loss} and lambda: 10')\n",
    "learn, _ = train_model_with_loss(base_loss=base_loss, lambd=10)\n",
    "logs.append(learn)"
   ]
  },
  {
   "cell_type": "code",
   "execution_count": 53,
   "id": "8126c721",
   "metadata": {},
   "outputs": [],
   "source": [
    "M = np.array([[0,10],\n",
    "            [1,0]], dtype=float)\n",
    "M /= M.max()\n",
    "M = torch.from_numpy(M)\n",
    "M = M.to(torch.float32)"
   ]
  },
  {
   "cell_type": "code",
   "execution_count": 56,
   "id": "84025928",
   "metadata": {},
   "outputs": [
    {
     "name": "stdout",
     "output_type": "stream",
     "text": [
      "Training model with base loss function ce and lambda: 10\n",
      "Architechture: <function resnet18 at 0x7f276ed998c0>\n",
      "Trained epochs: epochs=5\n",
      "Weight decay: wd=0.002\n",
      "Training model with learning rate: 0.003\n"
     ]
    },
    {
     "data": {
      "text/html": [
       "\n",
       "<style>\n",
       "    /* Turns off some styling */\n",
       "    progress {\n",
       "        /* gets rid of default border in Firefox and Opera. */\n",
       "        border: none;\n",
       "        /* Needs to be in here for Safari polyfill so background images work as expected. */\n",
       "        background-size: auto;\n",
       "    }\n",
       "    .progress-bar-interrupted, .progress-bar-interrupted::-webkit-progress-bar {\n",
       "        background: #F44336;\n",
       "    }\n",
       "</style>\n"
      ],
      "text/plain": [
       "<IPython.core.display.HTML object>"
      ]
     },
     "metadata": {},
     "output_type": "display_data"
    },
    {
     "data": {
      "text/html": [
       "<table border=\"1\" class=\"dataframe\">\n",
       "  <thead>\n",
       "    <tr style=\"text-align: left;\">\n",
       "      <th>epoch</th>\n",
       "      <th>train_loss</th>\n",
       "      <th>valid_loss</th>\n",
       "      <th>accuracy</th>\n",
       "      <th>f1_score</th>\n",
       "      <th>precision_score</th>\n",
       "      <th>recall_score</th>\n",
       "      <th>roc_auc_score</th>\n",
       "      <th>matthews_corrcoef</th>\n",
       "      <th>time</th>\n",
       "    </tr>\n",
       "  </thead>\n",
       "  <tbody>\n",
       "    <tr>\n",
       "      <td>0</td>\n",
       "      <td>0.705779</td>\n",
       "      <td>0.568676</td>\n",
       "      <td>0.954971</td>\n",
       "      <td>0.767281</td>\n",
       "      <td>0.723913</td>\n",
       "      <td>0.816176</td>\n",
       "      <td>0.963026</td>\n",
       "      <td>0.744091</td>\n",
       "      <td>01:14</td>\n",
       "    </tr>\n",
       "  </tbody>\n",
       "</table>"
      ],
      "text/plain": [
       "<IPython.core.display.HTML object>"
      ]
     },
     "metadata": {},
     "output_type": "display_data"
    },
    {
     "data": {
      "text/html": [
       "\n",
       "<style>\n",
       "    /* Turns off some styling */\n",
       "    progress {\n",
       "        /* gets rid of default border in Firefox and Opera. */\n",
       "        border: none;\n",
       "        /* Needs to be in here for Safari polyfill so background images work as expected. */\n",
       "        background-size: auto;\n",
       "    }\n",
       "    .progress-bar-interrupted, .progress-bar-interrupted::-webkit-progress-bar {\n",
       "        background: #F44336;\n",
       "    }\n",
       "</style>\n"
      ],
      "text/plain": [
       "<IPython.core.display.HTML object>"
      ]
     },
     "metadata": {},
     "output_type": "display_data"
    },
    {
     "data": {
      "text/html": [
       "<table border=\"1\" class=\"dataframe\">\n",
       "  <thead>\n",
       "    <tr style=\"text-align: left;\">\n",
       "      <th>epoch</th>\n",
       "      <th>train_loss</th>\n",
       "      <th>valid_loss</th>\n",
       "      <th>accuracy</th>\n",
       "      <th>f1_score</th>\n",
       "      <th>precision_score</th>\n",
       "      <th>recall_score</th>\n",
       "      <th>roc_auc_score</th>\n",
       "      <th>matthews_corrcoef</th>\n",
       "      <th>time</th>\n",
       "    </tr>\n",
       "  </thead>\n",
       "  <tbody>\n",
       "    <tr>\n",
       "      <td>0</td>\n",
       "      <td>0.250514</td>\n",
       "      <td>0.578741</td>\n",
       "      <td>0.956754</td>\n",
       "      <td>0.785398</td>\n",
       "      <td>0.715726</td>\n",
       "      <td>0.870098</td>\n",
       "      <td>0.970340</td>\n",
       "      <td>0.766098</td>\n",
       "      <td>01:28</td>\n",
       "    </tr>\n",
       "    <tr>\n",
       "      <td>1</td>\n",
       "      <td>0.245765</td>\n",
       "      <td>0.339994</td>\n",
       "      <td>0.971467</td>\n",
       "      <td>0.844660</td>\n",
       "      <td>0.836538</td>\n",
       "      <td>0.852941</td>\n",
       "      <td>0.982504</td>\n",
       "      <td>0.829000</td>\n",
       "      <td>01:27</td>\n",
       "    </tr>\n",
       "    <tr>\n",
       "      <td>2</td>\n",
       "      <td>0.135807</td>\n",
       "      <td>0.367004</td>\n",
       "      <td>0.968792</td>\n",
       "      <td>0.832134</td>\n",
       "      <td>0.814554</td>\n",
       "      <td>0.850490</td>\n",
       "      <td>0.975940</td>\n",
       "      <td>0.815171</td>\n",
       "      <td>01:27</td>\n",
       "    </tr>\n",
       "    <tr>\n",
       "      <td>3</td>\n",
       "      <td>0.055004</td>\n",
       "      <td>0.314210</td>\n",
       "      <td>0.971467</td>\n",
       "      <td>0.840796</td>\n",
       "      <td>0.853535</td>\n",
       "      <td>0.828431</td>\n",
       "      <td>0.978084</td>\n",
       "      <td>0.825240</td>\n",
       "      <td>01:28</td>\n",
       "    </tr>\n",
       "    <tr>\n",
       "      <td>4</td>\n",
       "      <td>0.008117</td>\n",
       "      <td>0.317318</td>\n",
       "      <td>0.970575</td>\n",
       "      <td>0.834171</td>\n",
       "      <td>0.855670</td>\n",
       "      <td>0.813725</td>\n",
       "      <td>0.981498</td>\n",
       "      <td>0.818348</td>\n",
       "      <td>01:28</td>\n",
       "    </tr>\n",
       "  </tbody>\n",
       "</table>"
      ],
      "text/plain": [
       "<IPython.core.display.HTML object>"
      ]
     },
     "metadata": {},
     "output_type": "display_data"
    },
    {
     "data": {
      "text/html": [
       "\n",
       "<style>\n",
       "    /* Turns off some styling */\n",
       "    progress {\n",
       "        /* gets rid of default border in Firefox and Opera. */\n",
       "        border: none;\n",
       "        /* Needs to be in here for Safari polyfill so background images work as expected. */\n",
       "        background-size: auto;\n",
       "    }\n",
       "    .progress-bar-interrupted, .progress-bar-interrupted::-webkit-progress-bar {\n",
       "        background: #F44336;\n",
       "    }\n",
       "</style>\n"
      ],
      "text/plain": [
       "<IPython.core.display.HTML object>"
      ]
     },
     "metadata": {},
     "output_type": "display_data"
    },
    {
     "data": {
      "text/html": [],
      "text/plain": [
       "<IPython.core.display.HTML object>"
      ]
     },
     "metadata": {},
     "output_type": "display_data"
    },
    {
     "data": {
      "image/png": "[encoded data removed]",
      "text/plain": [
       "<Figure size 432x288 with 2 Axes>"
      ]
     },
     "metadata": {
      "needs_background": "light"
     },
     "output_type": "display_data"
    }
   ],
   "source": [
    "n_classes = 2\n",
    "base_loss = 'ce'\n",
    "l=10\n",
    "print(f'Training model with base loss function {base_loss} and lambda: {l}')\n",
    "learn, _ = train_model_with_loss(base_loss=base_loss, lambd=l)\n",
    "logs.append(learn)"
   ]
  },
  {
   "cell_type": "code",
   "execution_count": 58,
   "id": "52c56f0c",
   "metadata": {},
   "outputs": [],
   "source": [
    "M = np.array([[0,20],\n",
    "            [1,0]], dtype=float)\n",
    "M /= M.max()\n",
    "M = torch.from_numpy(M)\n",
    "M = M.to(torch.float32)"
   ]
  },
  {
   "cell_type": "code",
   "execution_count": 59,
   "id": "b077627a",
   "metadata": {},
   "outputs": [
    {
     "name": "stdout",
     "output_type": "stream",
     "text": [
      "Training model with base loss function ce and lambda: 10\n",
      "Architechture: <function resnet18 at 0x7f276ed998c0>\n",
      "Trained epochs: epochs=5\n",
      "Weight decay: wd=0.002\n",
      "Training model with learning rate: 0.003\n"
     ]
    },
    {
     "data": {
      "text/html": [
       "\n",
       "<style>\n",
       "    /* Turns off some styling */\n",
       "    progress {\n",
       "        /* gets rid of default border in Firefox and Opera. */\n",
       "        border: none;\n",
       "        /* Needs to be in here for Safari polyfill so background images work as expected. */\n",
       "        background-size: auto;\n",
       "    }\n",
       "    .progress-bar-interrupted, .progress-bar-interrupted::-webkit-progress-bar {\n",
       "        background: #F44336;\n",
       "    }\n",
       "</style>\n"
      ],
      "text/plain": [
       "<IPython.core.display.HTML object>"
      ]
     },
     "metadata": {},
     "output_type": "display_data"
    },
    {
     "data": {
      "text/html": [
       "<table border=\"1\" class=\"dataframe\">\n",
       "  <thead>\n",
       "    <tr style=\"text-align: left;\">\n",
       "      <th>epoch</th>\n",
       "      <th>train_loss</th>\n",
       "      <th>valid_loss</th>\n",
       "      <th>accuracy</th>\n",
       "      <th>f1_score</th>\n",
       "      <th>precision_score</th>\n",
       "      <th>recall_score</th>\n",
       "      <th>roc_auc_score</th>\n",
       "      <th>matthews_corrcoef</th>\n",
       "      <th>time</th>\n",
       "    </tr>\n",
       "  </thead>\n",
       "  <tbody>\n",
       "    <tr>\n",
       "      <td>0</td>\n",
       "      <td>0.666436</td>\n",
       "      <td>0.568632</td>\n",
       "      <td>0.951850</td>\n",
       "      <td>0.750000</td>\n",
       "      <td>0.710526</td>\n",
       "      <td>0.794118</td>\n",
       "      <td>0.966053</td>\n",
       "      <td>0.724821</td>\n",
       "      <td>01:14</td>\n",
       "    </tr>\n",
       "  </tbody>\n",
       "</table>"
      ],
      "text/plain": [
       "<IPython.core.display.HTML object>"
      ]
     },
     "metadata": {},
     "output_type": "display_data"
    },
    {
     "data": {
      "text/html": [
       "\n",
       "<style>\n",
       "    /* Turns off some styling */\n",
       "    progress {\n",
       "        /* gets rid of default border in Firefox and Opera. */\n",
       "        border: none;\n",
       "        /* Needs to be in here for Safari polyfill so background images work as expected. */\n",
       "        background-size: auto;\n",
       "    }\n",
       "    .progress-bar-interrupted, .progress-bar-interrupted::-webkit-progress-bar {\n",
       "        background: #F44336;\n",
       "    }\n",
       "</style>\n"
      ],
      "text/plain": [
       "<IPython.core.display.HTML object>"
      ]
     },
     "metadata": {},
     "output_type": "display_data"
    },
    {
     "data": {
      "text/html": [
       "<table border=\"1\" class=\"dataframe\">\n",
       "  <thead>\n",
       "    <tr style=\"text-align: left;\">\n",
       "      <th>epoch</th>\n",
       "      <th>train_loss</th>\n",
       "      <th>valid_loss</th>\n",
       "      <th>accuracy</th>\n",
       "      <th>f1_score</th>\n",
       "      <th>precision_score</th>\n",
       "      <th>recall_score</th>\n",
       "      <th>roc_auc_score</th>\n",
       "      <th>matthews_corrcoef</th>\n",
       "      <th>time</th>\n",
       "    </tr>\n",
       "  </thead>\n",
       "  <tbody>\n",
       "    <tr>\n",
       "      <td>0</td>\n",
       "      <td>0.273403</td>\n",
       "      <td>0.427738</td>\n",
       "      <td>0.967231</td>\n",
       "      <td>0.824791</td>\n",
       "      <td>0.802784</td>\n",
       "      <td>0.848039</td>\n",
       "      <td>0.976440</td>\n",
       "      <td>0.807101</td>\n",
       "      <td>01:28</td>\n",
       "    </tr>\n",
       "    <tr>\n",
       "      <td>1</td>\n",
       "      <td>0.221856</td>\n",
       "      <td>0.359380</td>\n",
       "      <td>0.970129</td>\n",
       "      <td>0.838942</td>\n",
       "      <td>0.823113</td>\n",
       "      <td>0.855392</td>\n",
       "      <td>0.976827</td>\n",
       "      <td>0.822672</td>\n",
       "      <td>01:28</td>\n",
       "    </tr>\n",
       "    <tr>\n",
       "      <td>2</td>\n",
       "      <td>0.123698</td>\n",
       "      <td>0.306251</td>\n",
       "      <td>0.971021</td>\n",
       "      <td>0.837500</td>\n",
       "      <td>0.854592</td>\n",
       "      <td>0.821078</td>\n",
       "      <td>0.977450</td>\n",
       "      <td>0.821797</td>\n",
       "      <td>01:28</td>\n",
       "    </tr>\n",
       "    <tr>\n",
       "      <td>3</td>\n",
       "      <td>0.033591</td>\n",
       "      <td>0.329164</td>\n",
       "      <td>0.968569</td>\n",
       "      <td>0.818533</td>\n",
       "      <td>0.861789</td>\n",
       "      <td>0.779412</td>\n",
       "      <td>0.977815</td>\n",
       "      <td>0.802587</td>\n",
       "      <td>01:28</td>\n",
       "    </tr>\n",
       "    <tr>\n",
       "      <td>4</td>\n",
       "      <td>0.007698</td>\n",
       "      <td>0.332226</td>\n",
       "      <td>0.970798</td>\n",
       "      <td>0.833967</td>\n",
       "      <td>0.863517</td>\n",
       "      <td>0.806373</td>\n",
       "      <td>0.978696</td>\n",
       "      <td>0.818555</td>\n",
       "      <td>01:28</td>\n",
       "    </tr>\n",
       "  </tbody>\n",
       "</table>"
      ],
      "text/plain": [
       "<IPython.core.display.HTML object>"
      ]
     },
     "metadata": {},
     "output_type": "display_data"
    },
    {
     "data": {
      "text/html": [
       "\n",
       "<style>\n",
       "    /* Turns off some styling */\n",
       "    progress {\n",
       "        /* gets rid of default border in Firefox and Opera. */\n",
       "        border: none;\n",
       "        /* Needs to be in here for Safari polyfill so background images work as expected. */\n",
       "        background-size: auto;\n",
       "    }\n",
       "    .progress-bar-interrupted, .progress-bar-interrupted::-webkit-progress-bar {\n",
       "        background: #F44336;\n",
       "    }\n",
       "</style>\n"
      ],
      "text/plain": [
       "<IPython.core.display.HTML object>"
      ]
     },
     "metadata": {},
     "output_type": "display_data"
    },
    {
     "data": {
      "text/html": [],
      "text/plain": [
       "<IPython.core.display.HTML object>"
      ]
     },
     "metadata": {},
     "output_type": "display_data"
    },
    {
     "data": {
      "image/png": "[encoded data removed]",
      "text/plain": [
       "<Figure size 432x288 with 2 Axes>"
      ]
     },
     "metadata": {
      "needs_background": "light"
     },
     "output_type": "display_data"
    }
   ],
   "source": [
    "n_classes = 2\n",
    "base_loss = 'ce'\n",
    "l=10\n",
    "print(f'Training model with base loss function {base_loss} and lambda: {l}')\n",
    "learn, _ = train_model_with_loss(base_loss=base_loss, lambd=l)\n",
    "logs.append(learn)"
   ]
  },
  {
   "cell_type": "code",
   "execution_count": null,
   "id": "b9b8212d",
   "metadata": {},
   "outputs": [],
   "source": [
    "for l in logs:\n",
    "    l"
   ]
  },
  {
   "cell_type": "code",
   "execution_count": 66,
   "id": "b978b03e",
   "metadata": {},
   "outputs": [
    {
     "ename": "AttributeError",
     "evalue": "'Learner' object has no attribute 'after_epoch'",
     "output_type": "error",
     "traceback": [
      "\u001b[0;31m---------------------------------------------------------------------------\u001b[0m",
      "\u001b[0;31mAttributeError\u001b[0m                            Traceback (most recent call last)",
      "\u001b[0;32m/tmp/ipykernel_3846/1960804034.py\u001b[0m in \u001b[0;36m<module>\u001b[0;34m\u001b[0m\n\u001b[0;32m----> 1\u001b[0;31m \u001b[0mvalid_loss\u001b[0m \u001b[0;34m=\u001b[0m \u001b[0mlogs\u001b[0m\u001b[0;34m[\u001b[0m\u001b[0;36m0\u001b[0m\u001b[0;34m]\u001b[0m\u001b[0;34m.\u001b[0m\u001b[0mafter_epoch\u001b[0m\u001b[0;34m(\u001b[0m\u001b[0;34m)\u001b[0m\u001b[0;34m\u001b[0m\u001b[0;34m\u001b[0m\u001b[0m\n\u001b[0m\u001b[1;32m      2\u001b[0m \u001b[0mvalid_loss\u001b[0m\u001b[0;34m\u001b[0m\u001b[0;34m\u001b[0m\u001b[0m\n",
      "\u001b[0;31mAttributeError\u001b[0m: 'Learner' object has no attribute 'after_epoch'"
     ]
    }
   ],
   "source": [
    "valid_loss = logs[0].recorder.losses\n",
    "valid_loss"
   ]
  },
  {
   "cell_type": "code",
   "execution_count": null,
   "id": "62b4eea7",
   "metadata": {},
   "outputs": [],
   "source": []
  }
 ],
 "metadata": {
  "kernelspec": {
   "display_name": "Python 3 (ipykernel)",
   "language": "python",
   "name": "python3"
  },
  "language_info": {
   "codemirror_mode": {
    "name": "ipython",
    "version": 3
   },
   "file_extension": ".py",
   "mimetype": "text/x-python",
   "name": "python",
   "nbconvert_exporter": "python",
   "pygments_lexer": "ipython3",
   "version": "3.7.11"
  }
 },
 "nbformat": 4,
 "nbformat_minor": 5
}
