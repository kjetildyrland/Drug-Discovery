{
 "cells": [
  {
   "cell_type": "markdown",
   "id": "02376db5",
   "metadata": {},
   "source": [
    "# Dual CNN on protein-ligand template docking"
   ]
  },
  {
   "cell_type": "code",
   "execution_count": 1,
   "id": "7ff5d5e3",
   "metadata": {
    "scrolled": false
   },
   "outputs": [
    {
     "name": "stdout",
     "output_type": "stream",
     "text": [
      "Fri Mar 25 15:40:51 2022       \r\n",
      "+-----------------------------------------------------------------------------+\r\n",
      "| NVIDIA-SMI 470.103.01   Driver Version: 470.103.01   CUDA Version: 11.4     |\r\n",
      "|-------------------------------+----------------------+----------------------+\r\n",
      "| GPU  Name        Persistence-M| Bus-Id        Disp.A | Volatile Uncorr. ECC |\r\n",
      "| Fan  Temp  Perf  Pwr:Usage/Cap|         Memory-Usage | GPU-Util  Compute M. |\r\n",
      "|                               |                      |               MIG M. |\r\n",
      "|===============================+======================+======================|\r\n",
      "|   0  NVIDIA GeForce ...  Off  | 00000000:01:00.0  On |                  N/A |\r\n",
      "|  0%   55C    P0    58W / 240W |    433MiB /  8116MiB |      0%      Default |\r\n",
      "|                               |                      |                  N/A |\r\n",
      "+-------------------------------+----------------------+----------------------+\r\n",
      "                                                                               \r\n",
      "+-----------------------------------------------------------------------------+\r\n",
      "| Processes:                                                                  |\r\n",
      "|  GPU   GI   CI        PID   Type   Process name                  GPU Memory |\r\n",
      "|        ID   ID                                                   Usage      |\r\n",
      "|=============================================================================|\r\n",
      "|    0   N/A  N/A       933      G   /usr/lib/xorg/Xorg                173MiB |\r\n",
      "|    0   N/A  N/A      1220      G   /usr/bin/gnome-shell               51MiB |\r\n",
      "|    0   N/A  N/A      3449      G   /usr/lib/firefox/firefox          203MiB |\r\n",
      "|    0   N/A  N/A      4103      G   /usr/lib/firefox/firefox            1MiB |\r\n",
      "+-----------------------------------------------------------------------------+\r\n"
     ]
    }
   ],
   "source": [
    "!nvidia-smi"
   ]
  },
  {
   "cell_type": "code",
   "execution_count": 2,
   "id": "fe052ee5",
   "metadata": {},
   "outputs": [],
   "source": [
    "# Import\n",
    "import pandas as pd\n",
    "import numpy as np\n",
    "from pathlib import Path"
   ]
  },
  {
   "cell_type": "code",
   "execution_count": 3,
   "id": "c51e1815",
   "metadata": {},
   "outputs": [],
   "source": [
    "%matplotlib inline\n",
    "import matplotlib.pyplot as plt\n",
    "import matplotlib.image as mpimg\n",
    "import sys\n",
    "import os\n",
    "sys.path.append('/usr/local/lib/python3.7/site-packages/')"
   ]
  },
  {
   "cell_type": "code",
   "execution_count": 4,
   "id": "9f4666a4",
   "metadata": {},
   "outputs": [],
   "source": [
    "os.environ['TF_XLA_FLAGS'] = '--tf_xla_enable_xla_devices'"
   ]
  },
  {
   "cell_type": "code",
   "execution_count": 5,
   "id": "8112b927",
   "metadata": {},
   "outputs": [],
   "source": [
    "dataset = 'oldsmiledata_id_processed_transformed_shuffled'"
   ]
  },
  {
   "cell_type": "code",
   "execution_count": 6,
   "id": "327fcae1",
   "metadata": {},
   "outputs": [],
   "source": [
    "path = Path('../dataset/oldsmiledata')"
   ]
  },
  {
   "cell_type": "code",
   "execution_count": 7,
   "id": "59ad0e49",
   "metadata": {},
   "outputs": [
    {
     "data": {
      "text/plain": [
       "[PosixPath('../dataset/oldsmiledata/test_oldsmiledata_id_processed_transformed_shuffled.csv'),\n",
       " PosixPath('../dataset/oldsmiledata/train_balanced_oldsmiledata_id_processed_transformed_shuffled.csv'),\n",
       " PosixPath('../dataset/oldsmiledata/oldsmiledata_id_processed_transformed_rescaled_shuffled.csv'),\n",
       " PosixPath('../dataset/oldsmiledata/.ipynb_checkpoints'),\n",
       " PosixPath('../dataset/oldsmiledata/mol_images'),\n",
       " PosixPath('../dataset/oldsmiledata/train_balanced_oldsmiledata.csv'),\n",
       " PosixPath('../dataset/oldsmiledata/valid_balanced_oldsmiledata_id_processed_transformed_shuffled.csv'),\n",
       " PosixPath('../dataset/oldsmiledata/train_oldsmiledata_id_processed_transformed_shuffled.csv')]"
      ]
     },
     "execution_count": 7,
     "metadata": {},
     "output_type": "execute_result"
    }
   ],
   "source": [
    "list(path.iterdir())"
   ]
  },
  {
   "cell_type": "code",
   "execution_count": 8,
   "id": "5ab97516",
   "metadata": {},
   "outputs": [],
   "source": [
    "#IMAGES = path/'mol_images'/'all'\n",
    "train = pd.read_csv(path/f'train_balanced_{dataset}.csv')\n",
    "valid = pd.read_csv(path/f'valid_balanced_{dataset}.csv')"
   ]
  },
  {
   "cell_type": "code",
   "execution_count": 9,
   "id": "e5545dfb",
   "metadata": {
    "scrolled": true
   },
   "outputs": [
    {
     "name": "stdout",
     "output_type": "stream",
     "text": [
      "<class 'pandas.core.frame.DataFrame'>\n",
      "RangeIndex: 19139 entries, 0 to 19138\n",
      "Data columns (total 43 columns):\n",
      " #   Column                          Non-Null Count  Dtype  \n",
      "---  ------                          --------------  -----  \n",
      " 0   Unnamed: 0                      19139 non-null  int64  \n",
      " 1   template                        19139 non-null  object \n",
      " 2   docked                          19139 non-null  object \n",
      " 3   rmsd                            19139 non-null  float64\n",
      " 4   uniprot_id                      19139 non-null  object \n",
      " 5   smiles_template                 19139 non-null  object \n",
      " 6   smiles_docked                   19139 non-null  object \n",
      " 7   mcs_smartsString                19139 non-null  object \n",
      " 8   template_HeavyAtomCount         19139 non-null  int64  \n",
      " 9   template_NHOHCount              19139 non-null  int64  \n",
      " 10  template_NOCount                19139 non-null  int64  \n",
      " 11  template_RingCount              19139 non-null  int64  \n",
      " 12  template_NumHAcceptors          19139 non-null  int64  \n",
      " 13  template_NumHDonors             19139 non-null  int64  \n",
      " 14  template_NumHeteroAtoms         19139 non-null  int64  \n",
      " 15  template_NumRotatableBonds      19139 non-null  int64  \n",
      " 16  docked_HeavyAtomCount           19139 non-null  int64  \n",
      " 17  docked_NHOHCount                19139 non-null  int64  \n",
      " 18  docked_NOCount                  19139 non-null  int64  \n",
      " 19  docked_RingCount                19139 non-null  int64  \n",
      " 20  docked_NumHAcceptors            19139 non-null  int64  \n",
      " 21  docked_NumHDonors               19139 non-null  int64  \n",
      " 22  docked_NumHeteroAtoms           19139 non-null  int64  \n",
      " 23  docked_NumRotatableBonds        19139 non-null  int64  \n",
      " 24  mcs_HeavyAtomCount              19139 non-null  int64  \n",
      " 25  mcs_NOCount                     19139 non-null  int64  \n",
      " 26  mcs_RingCount                   19139 non-null  int64  \n",
      " 27  mcs_NumHeteroAtoms              19139 non-null  int64  \n",
      " 28  mcs_template_NHOHCount          19139 non-null  int64  \n",
      " 29  mcs_docked_NHOHCount            19139 non-null  int64  \n",
      " 30  mcs_template_NumHAcceptors      19139 non-null  int64  \n",
      " 31  mcs_docked_NumHAcceptors        19139 non-null  int64  \n",
      " 32  mcs_template_NumHDonors         19139 non-null  int64  \n",
      " 33  mcs_docked_NumHDonors           19139 non-null  int64  \n",
      " 34  mcs_template_NumRotatableBonds  19139 non-null  int64  \n",
      " 35  mcs_docked_NumRotatableBonds    19139 non-null  int64  \n",
      " 36  ec_tanimoto_similarity          19139 non-null  float64\n",
      " 37  fc_tanimoto_similarity          19139 non-null  float64\n",
      " 38  log_RMSD                        19139 non-null  float64\n",
      " 39  bin_RMSD                        19139 non-null  int64  \n",
      " 40  Xtransf_ec_tanimoto_similarity  19139 non-null  float64\n",
      " 41  Xtransf_fc_tanimoto_similarity  19139 non-null  float64\n",
      " 42  is_valid                        19139 non-null  bool   \n",
      "dtypes: bool(1), float64(6), int64(30), object(6)\n",
      "memory usage: 6.2+ MB\n"
     ]
    }
   ],
   "source": [
    "train.info()"
   ]
  },
  {
   "cell_type": "code",
   "execution_count": 10,
   "id": "cae241bb",
   "metadata": {
    "scrolled": true
   },
   "outputs": [
    {
     "name": "stdout",
     "output_type": "stream",
     "text": [
      "<class 'pandas.core.frame.DataFrame'>\n",
      "RangeIndex: 4785 entries, 0 to 4784\n",
      "Data columns (total 43 columns):\n",
      " #   Column                          Non-Null Count  Dtype  \n",
      "---  ------                          --------------  -----  \n",
      " 0   Unnamed: 0                      4785 non-null   int64  \n",
      " 1   template                        4785 non-null   object \n",
      " 2   docked                          4785 non-null   object \n",
      " 3   rmsd                            4785 non-null   float64\n",
      " 4   uniprot_id                      4785 non-null   object \n",
      " 5   smiles_template                 4785 non-null   object \n",
      " 6   smiles_docked                   4785 non-null   object \n",
      " 7   mcs_smartsString                4785 non-null   object \n",
      " 8   template_HeavyAtomCount         4785 non-null   int64  \n",
      " 9   template_NHOHCount              4785 non-null   int64  \n",
      " 10  template_NOCount                4785 non-null   int64  \n",
      " 11  template_RingCount              4785 non-null   int64  \n",
      " 12  template_NumHAcceptors          4785 non-null   int64  \n",
      " 13  template_NumHDonors             4785 non-null   int64  \n",
      " 14  template_NumHeteroAtoms         4785 non-null   int64  \n",
      " 15  template_NumRotatableBonds      4785 non-null   int64  \n",
      " 16  docked_HeavyAtomCount           4785 non-null   int64  \n",
      " 17  docked_NHOHCount                4785 non-null   int64  \n",
      " 18  docked_NOCount                  4785 non-null   int64  \n",
      " 19  docked_RingCount                4785 non-null   int64  \n",
      " 20  docked_NumHAcceptors            4785 non-null   int64  \n",
      " 21  docked_NumHDonors               4785 non-null   int64  \n",
      " 22  docked_NumHeteroAtoms           4785 non-null   int64  \n",
      " 23  docked_NumRotatableBonds        4785 non-null   int64  \n",
      " 24  mcs_HeavyAtomCount              4785 non-null   int64  \n",
      " 25  mcs_NOCount                     4785 non-null   int64  \n",
      " 26  mcs_RingCount                   4785 non-null   int64  \n",
      " 27  mcs_NumHeteroAtoms              4785 non-null   int64  \n",
      " 28  mcs_template_NHOHCount          4785 non-null   int64  \n",
      " 29  mcs_docked_NHOHCount            4785 non-null   int64  \n",
      " 30  mcs_template_NumHAcceptors      4785 non-null   int64  \n",
      " 31  mcs_docked_NumHAcceptors        4785 non-null   int64  \n",
      " 32  mcs_template_NumHDonors         4785 non-null   int64  \n",
      " 33  mcs_docked_NumHDonors           4785 non-null   int64  \n",
      " 34  mcs_template_NumRotatableBonds  4785 non-null   int64  \n",
      " 35  mcs_docked_NumRotatableBonds    4785 non-null   int64  \n",
      " 36  ec_tanimoto_similarity          4785 non-null   float64\n",
      " 37  fc_tanimoto_similarity          4785 non-null   float64\n",
      " 38  log_RMSD                        4785 non-null   float64\n",
      " 39  bin_RMSD                        4785 non-null   int64  \n",
      " 40  Xtransf_ec_tanimoto_similarity  4785 non-null   float64\n",
      " 41  Xtransf_fc_tanimoto_similarity  4785 non-null   float64\n",
      " 42  is_valid                        4785 non-null   bool   \n",
      "dtypes: bool(1), float64(6), int64(30), object(6)\n",
      "memory usage: 1.5+ MB\n"
     ]
    }
   ],
   "source": [
    "valid.info()"
   ]
  },
  {
   "cell_type": "code",
   "execution_count": 11,
   "id": "fb7fc361",
   "metadata": {},
   "outputs": [
    {
     "data": {
      "text/html": [
       "<div>\n",
       "<style scoped>\n",
       "    .dataframe tbody tr th:only-of-type {\n",
       "        vertical-align: middle;\n",
       "    }\n",
       "\n",
       "    .dataframe tbody tr th {\n",
       "        vertical-align: top;\n",
       "    }\n",
       "\n",
       "    .dataframe thead th {\n",
       "        text-align: right;\n",
       "    }\n",
       "</style>\n",
       "<table border=\"1\" class=\"dataframe\">\n",
       "  <thead>\n",
       "    <tr style=\"text-align: right;\">\n",
       "      <th></th>\n",
       "      <th>Unnamed: 0</th>\n",
       "      <th>template</th>\n",
       "      <th>docked</th>\n",
       "      <th>rmsd</th>\n",
       "      <th>uniprot_id</th>\n",
       "      <th>smiles_template</th>\n",
       "      <th>smiles_docked</th>\n",
       "      <th>mcs_smartsString</th>\n",
       "      <th>template_HeavyAtomCount</th>\n",
       "      <th>template_NHOHCount</th>\n",
       "      <th>...</th>\n",
       "      <th>mcs_docked_NumHDonors</th>\n",
       "      <th>mcs_template_NumRotatableBonds</th>\n",
       "      <th>mcs_docked_NumRotatableBonds</th>\n",
       "      <th>ec_tanimoto_similarity</th>\n",
       "      <th>fc_tanimoto_similarity</th>\n",
       "      <th>log_RMSD</th>\n",
       "      <th>bin_RMSD</th>\n",
       "      <th>Xtransf_ec_tanimoto_similarity</th>\n",
       "      <th>Xtransf_fc_tanimoto_similarity</th>\n",
       "      <th>is_valid</th>\n",
       "    </tr>\n",
       "  </thead>\n",
       "  <tbody>\n",
       "    <tr>\n",
       "      <th>0</th>\n",
       "      <td>0</td>\n",
       "      <td>1YPJ_UIB</td>\n",
       "      <td>1K22_MEL</td>\n",
       "      <td>4.643</td>\n",
       "      <td>P00734</td>\n",
       "      <td>CC[C@@H]1[C@@H]2[C@H](C(=O)N1Cc1ccc3c(c1)OCO3)...</td>\n",
       "      <td>N=C(N)c1ccc(CNC(=O)[C@@H]2CCN2C(=O)[C@H](NCC(=...</td>\n",
       "      <td>[#7]=[#6](-[#7])-[#6]1:[#6]:[#6]:[#6](:[#6]:[#...</td>\n",
       "      <td>33</td>\n",
       "      <td>3</td>\n",
       "      <td>...</td>\n",
       "      <td>3</td>\n",
       "      <td>4</td>\n",
       "      <td>7</td>\n",
       "      <td>0.165775</td>\n",
       "      <td>0.289941</td>\n",
       "      <td>1.535361</td>\n",
       "      <td>3</td>\n",
       "      <td>-0.342246</td>\n",
       "      <td>-0.100592</td>\n",
       "      <td>False</td>\n",
       "    </tr>\n",
       "    <tr>\n",
       "      <th>1</th>\n",
       "      <td>1</td>\n",
       "      <td>2JH5_895</td>\n",
       "      <td>1C5O_BAM</td>\n",
       "      <td>3.209</td>\n",
       "      <td>P00734</td>\n",
       "      <td>C[C@@H](C(=O)N1CCOCC1)N1CC[C@H](NS(=O)(=O)/C=C...</td>\n",
       "      <td>NC(=[NH2+])c1ccccc1</td>\n",
       "      <td>[#7]-[#6]-[#6]:,-[#6]:,-[#6]</td>\n",
       "      <td>28</td>\n",
       "      <td>1</td>\n",
       "      <td>...</td>\n",
       "      <td>1</td>\n",
       "      <td>0</td>\n",
       "      <td>1</td>\n",
       "      <td>0.050847</td>\n",
       "      <td>0.059829</td>\n",
       "      <td>1.165959</td>\n",
       "      <td>3</td>\n",
       "      <td>-1.491525</td>\n",
       "      <td>-2.401709</td>\n",
       "      <td>False</td>\n",
       "    </tr>\n",
       "    <tr>\n",
       "      <th>2</th>\n",
       "      <td>2</td>\n",
       "      <td>5Y12_8JX</td>\n",
       "      <td>1TOW_CRZ</td>\n",
       "      <td>1.769</td>\n",
       "      <td>P15090</td>\n",
       "      <td>COc1ccc(S(=O)(=O)NCCCCC(=O)O)c2ccccc12</td>\n",
       "      <td>O=C(O)CCCn1c2ccccc2c2ccccc21</td>\n",
       "      <td>[#6]1:[#6]:[#6]:[#6]:[#6]:[#6]:1:[#6]:[#6]:[#6...</td>\n",
       "      <td>23</td>\n",
       "      <td>2</td>\n",
       "      <td>...</td>\n",
       "      <td>0</td>\n",
       "      <td>0</td>\n",
       "      <td>0</td>\n",
       "      <td>0.324561</td>\n",
       "      <td>0.324561</td>\n",
       "      <td>0.570414</td>\n",
       "      <td>1</td>\n",
       "      <td>1.245614</td>\n",
       "      <td>0.245614</td>\n",
       "      <td>False</td>\n",
       "    </tr>\n",
       "    <tr>\n",
       "      <th>3</th>\n",
       "      <td>3</td>\n",
       "      <td>1C1U_BAI</td>\n",
       "      <td>5AHG_Y4L</td>\n",
       "      <td>3.943</td>\n",
       "      <td>P00734</td>\n",
       "      <td>N=C(N)c1ccc2[nH]c(Cc3nc4ccccc4[nH]3)nc2c1</td>\n",
       "      <td>CN(C)S(=O)(=O)Nc1ccc(Cl)cc1</td>\n",
       "      <td>[#7]-,:[#6]1:[#6]:[#6]:[#6]:[#6]:[#6]:1</td>\n",
       "      <td>22</td>\n",
       "      <td>5</td>\n",
       "      <td>...</td>\n",
       "      <td>1</td>\n",
       "      <td>0</td>\n",
       "      <td>1</td>\n",
       "      <td>0.086957</td>\n",
       "      <td>0.106195</td>\n",
       "      <td>1.371942</td>\n",
       "      <td>3</td>\n",
       "      <td>-1.130435</td>\n",
       "      <td>-1.938053</td>\n",
       "      <td>False</td>\n",
       "    </tr>\n",
       "    <tr>\n",
       "      <th>4</th>\n",
       "      <td>4</td>\n",
       "      <td>2W26_RIV</td>\n",
       "      <td>2Y80_439</td>\n",
       "      <td>7.217</td>\n",
       "      <td>P00742</td>\n",
       "      <td>O=C(NC[C@H]1CN(c2ccc(N3CCOCC3=O)cc2)C(=O)O1)c1...</td>\n",
       "      <td>CN(C)[C@@H]1CCc2cc(N3CC[C@H](NS(=O)(=O)c4ccc5c...</td>\n",
       "      <td>[#7]-[#6]-[#6]-[#6]-[#7](-[#6]1:[#6]:[#6]:[#6]...</td>\n",
       "      <td>29</td>\n",
       "      <td>1</td>\n",
       "      <td>...</td>\n",
       "      <td>1</td>\n",
       "      <td>3</td>\n",
       "      <td>2</td>\n",
       "      <td>0.187166</td>\n",
       "      <td>0.283237</td>\n",
       "      <td>1.976439</td>\n",
       "      <td>3</td>\n",
       "      <td>-0.128342</td>\n",
       "      <td>-0.167630</td>\n",
       "      <td>False</td>\n",
       "    </tr>\n",
       "  </tbody>\n",
       "</table>\n",
       "<p>5 rows × 43 columns</p>\n",
       "</div>"
      ],
      "text/plain": [
       "   Unnamed: 0  template    docked   rmsd uniprot_id  \\\n",
       "0           0  1YPJ_UIB  1K22_MEL  4.643     P00734   \n",
       "1           1  2JH5_895  1C5O_BAM  3.209     P00734   \n",
       "2           2  5Y12_8JX  1TOW_CRZ  1.769     P15090   \n",
       "3           3  1C1U_BAI  5AHG_Y4L  3.943     P00734   \n",
       "4           4  2W26_RIV  2Y80_439  7.217     P00742   \n",
       "\n",
       "                                     smiles_template  \\\n",
       "0  CC[C@@H]1[C@@H]2[C@H](C(=O)N1Cc1ccc3c(c1)OCO3)...   \n",
       "1  C[C@@H](C(=O)N1CCOCC1)N1CC[C@H](NS(=O)(=O)/C=C...   \n",
       "2             COc1ccc(S(=O)(=O)NCCCCC(=O)O)c2ccccc12   \n",
       "3          N=C(N)c1ccc2[nH]c(Cc3nc4ccccc4[nH]3)nc2c1   \n",
       "4  O=C(NC[C@H]1CN(c2ccc(N3CCOCC3=O)cc2)C(=O)O1)c1...   \n",
       "\n",
       "                                       smiles_docked  \\\n",
       "0  N=C(N)c1ccc(CNC(=O)[C@@H]2CCN2C(=O)[C@H](NCC(=...   \n",
       "1                                NC(=[NH2+])c1ccccc1   \n",
       "2                       O=C(O)CCCn1c2ccccc2c2ccccc21   \n",
       "3                        CN(C)S(=O)(=O)Nc1ccc(Cl)cc1   \n",
       "4  CN(C)[C@@H]1CCc2cc(N3CC[C@H](NS(=O)(=O)c4ccc5c...   \n",
       "\n",
       "                                    mcs_smartsString  template_HeavyAtomCount  \\\n",
       "0  [#7]=[#6](-[#7])-[#6]1:[#6]:[#6]:[#6](:[#6]:[#...                       33   \n",
       "1                       [#7]-[#6]-[#6]:,-[#6]:,-[#6]                       28   \n",
       "2  [#6]1:[#6]:[#6]:[#6]:[#6]:[#6]:1:[#6]:[#6]:[#6...                       23   \n",
       "3            [#7]-,:[#6]1:[#6]:[#6]:[#6]:[#6]:[#6]:1                       22   \n",
       "4  [#7]-[#6]-[#6]-[#6]-[#7](-[#6]1:[#6]:[#6]:[#6]...                       29   \n",
       "\n",
       "   template_NHOHCount  ...  mcs_docked_NumHDonors  \\\n",
       "0                   3  ...                      3   \n",
       "1                   1  ...                      1   \n",
       "2                   2  ...                      0   \n",
       "3                   5  ...                      1   \n",
       "4                   1  ...                      1   \n",
       "\n",
       "   mcs_template_NumRotatableBonds  mcs_docked_NumRotatableBonds  \\\n",
       "0                               4                             7   \n",
       "1                               0                             1   \n",
       "2                               0                             0   \n",
       "3                               0                             1   \n",
       "4                               3                             2   \n",
       "\n",
       "   ec_tanimoto_similarity  fc_tanimoto_similarity  log_RMSD  bin_RMSD  \\\n",
       "0                0.165775                0.289941  1.535361         3   \n",
       "1                0.050847                0.059829  1.165959         3   \n",
       "2                0.324561                0.324561  0.570414         1   \n",
       "3                0.086957                0.106195  1.371942         3   \n",
       "4                0.187166                0.283237  1.976439         3   \n",
       "\n",
       "   Xtransf_ec_tanimoto_similarity  Xtransf_fc_tanimoto_similarity  is_valid  \n",
       "0                       -0.342246                       -0.100592     False  \n",
       "1                       -1.491525                       -2.401709     False  \n",
       "2                        1.245614                        0.245614     False  \n",
       "3                       -1.130435                       -1.938053     False  \n",
       "4                       -0.128342                       -0.167630     False  \n",
       "\n",
       "[5 rows x 43 columns]"
      ]
     },
     "execution_count": 11,
     "metadata": {},
     "output_type": "execute_result"
    }
   ],
   "source": [
    "train.head()"
   ]
  },
  {
   "cell_type": "markdown",
   "id": "4f59daa4",
   "metadata": {},
   "source": [
    "# Preprocessing building ImageDataGenerator"
   ]
  },
  {
   "cell_type": "code",
   "execution_count": 12,
   "id": "809b5437",
   "metadata": {},
   "outputs": [
    {
     "name": "stderr",
     "output_type": "stream",
     "text": [
      "2022-03-25 15:40:52.605340: I tensorflow/stream_executor/platform/default/dso_loader.cc:49] Successfully opened dynamic library libcudart.so.10.1\n"
     ]
    }
   ],
   "source": [
    "import matplotlib.pyplot as plt\n",
    "import numpy as np\n",
    "import os\n",
    "import random\n",
    "import tensorflow as tf\n",
    "from pathlib import Path\n",
    "from tensorflow import keras\n",
    "from tensorflow.keras import losses\n",
    "from tensorflow.keras import optimizers\n",
    "from tensorflow.keras import metrics\n",
    "from tensorflow.keras import Model\n",
    "from tensorflow.keras.applications import resnet\n",
    "from tensorflow.keras.utils import to_categorical\n",
    "from tensorflow.keras.layers import Input, Dense, Flatten, Dropout, Conv2D, MaxPooling2D, Activation, concatenate\n",
    "from tensorflow.keras.layers import LeakyReLU\n",
    "from tensorflow.keras.callbacks import ModelCheckpoint"
   ]
  },
  {
   "cell_type": "markdown",
   "id": "664cc219",
   "metadata": {},
   "source": [
    "### Splitting the data into train and validation sets"
   ]
  },
  {
   "cell_type": "code",
   "execution_count": 13,
   "id": "59928f03",
   "metadata": {
    "scrolled": true
   },
   "outputs": [
    {
     "name": "stdout",
     "output_type": "stream",
     "text": [
      "<class 'pandas.core.frame.DataFrame'>\n",
      "RangeIndex: 19139 entries, 0 to 19138\n",
      "Data columns (total 45 columns):\n",
      " #   Column                          Non-Null Count  Dtype  \n",
      "---  ------                          --------------  -----  \n",
      " 0   Unnamed: 0                      19139 non-null  int64  \n",
      " 1   template                        19139 non-null  object \n",
      " 2   docked                          19139 non-null  object \n",
      " 3   rmsd                            19139 non-null  float64\n",
      " 4   uniprot_id                      19139 non-null  object \n",
      " 5   smiles_template                 19139 non-null  object \n",
      " 6   smiles_docked                   19139 non-null  object \n",
      " 7   mcs_smartsString                19139 non-null  object \n",
      " 8   template_HeavyAtomCount         19139 non-null  int64  \n",
      " 9   template_NHOHCount              19139 non-null  int64  \n",
      " 10  template_NOCount                19139 non-null  int64  \n",
      " 11  template_RingCount              19139 non-null  int64  \n",
      " 12  template_NumHAcceptors          19139 non-null  int64  \n",
      " 13  template_NumHDonors             19139 non-null  int64  \n",
      " 14  template_NumHeteroAtoms         19139 non-null  int64  \n",
      " 15  template_NumRotatableBonds      19139 non-null  int64  \n",
      " 16  docked_HeavyAtomCount           19139 non-null  int64  \n",
      " 17  docked_NHOHCount                19139 non-null  int64  \n",
      " 18  docked_NOCount                  19139 non-null  int64  \n",
      " 19  docked_RingCount                19139 non-null  int64  \n",
      " 20  docked_NumHAcceptors            19139 non-null  int64  \n",
      " 21  docked_NumHDonors               19139 non-null  int64  \n",
      " 22  docked_NumHeteroAtoms           19139 non-null  int64  \n",
      " 23  docked_NumRotatableBonds        19139 non-null  int64  \n",
      " 24  mcs_HeavyAtomCount              19139 non-null  int64  \n",
      " 25  mcs_NOCount                     19139 non-null  int64  \n",
      " 26  mcs_RingCount                   19139 non-null  int64  \n",
      " 27  mcs_NumHeteroAtoms              19139 non-null  int64  \n",
      " 28  mcs_template_NHOHCount          19139 non-null  int64  \n",
      " 29  mcs_docked_NHOHCount            19139 non-null  int64  \n",
      " 30  mcs_template_NumHAcceptors      19139 non-null  int64  \n",
      " 31  mcs_docked_NumHAcceptors        19139 non-null  int64  \n",
      " 32  mcs_template_NumHDonors         19139 non-null  int64  \n",
      " 33  mcs_docked_NumHDonors           19139 non-null  int64  \n",
      " 34  mcs_template_NumRotatableBonds  19139 non-null  int64  \n",
      " 35  mcs_docked_NumRotatableBonds    19139 non-null  int64  \n",
      " 36  ec_tanimoto_similarity          19139 non-null  float64\n",
      " 37  fc_tanimoto_similarity          19139 non-null  float64\n",
      " 38  log_RMSD                        19139 non-null  float64\n",
      " 39  bin_RMSD                        19139 non-null  int64  \n",
      " 40  Xtransf_ec_tanimoto_similarity  19139 non-null  float64\n",
      " 41  Xtransf_fc_tanimoto_similarity  19139 non-null  float64\n",
      " 42  is_valid                        19139 non-null  bool   \n",
      " 43  img_temp                        19139 non-null  object \n",
      " 44  img_docked                      19139 non-null  object \n",
      "dtypes: bool(1), float64(6), int64(30), object(8)\n",
      "memory usage: 6.4+ MB\n"
     ]
    }
   ],
   "source": [
    "train['img_temp'] = train['template'] + '.png'\n",
    "train['img_docked'] = train['docked'] + '.png'\n",
    "train['is_valid'] = False\n",
    "train.info()"
   ]
  },
  {
   "cell_type": "code",
   "execution_count": 14,
   "id": "352ed10d",
   "metadata": {
    "scrolled": true
   },
   "outputs": [
    {
     "name": "stdout",
     "output_type": "stream",
     "text": [
      "<class 'pandas.core.frame.DataFrame'>\n",
      "RangeIndex: 4785 entries, 0 to 4784\n",
      "Data columns (total 45 columns):\n",
      " #   Column                          Non-Null Count  Dtype  \n",
      "---  ------                          --------------  -----  \n",
      " 0   Unnamed: 0                      4785 non-null   int64  \n",
      " 1   template                        4785 non-null   object \n",
      " 2   docked                          4785 non-null   object \n",
      " 3   rmsd                            4785 non-null   float64\n",
      " 4   uniprot_id                      4785 non-null   object \n",
      " 5   smiles_template                 4785 non-null   object \n",
      " 6   smiles_docked                   4785 non-null   object \n",
      " 7   mcs_smartsString                4785 non-null   object \n",
      " 8   template_HeavyAtomCount         4785 non-null   int64  \n",
      " 9   template_NHOHCount              4785 non-null   int64  \n",
      " 10  template_NOCount                4785 non-null   int64  \n",
      " 11  template_RingCount              4785 non-null   int64  \n",
      " 12  template_NumHAcceptors          4785 non-null   int64  \n",
      " 13  template_NumHDonors             4785 non-null   int64  \n",
      " 14  template_NumHeteroAtoms         4785 non-null   int64  \n",
      " 15  template_NumRotatableBonds      4785 non-null   int64  \n",
      " 16  docked_HeavyAtomCount           4785 non-null   int64  \n",
      " 17  docked_NHOHCount                4785 non-null   int64  \n",
      " 18  docked_NOCount                  4785 non-null   int64  \n",
      " 19  docked_RingCount                4785 non-null   int64  \n",
      " 20  docked_NumHAcceptors            4785 non-null   int64  \n",
      " 21  docked_NumHDonors               4785 non-null   int64  \n",
      " 22  docked_NumHeteroAtoms           4785 non-null   int64  \n",
      " 23  docked_NumRotatableBonds        4785 non-null   int64  \n",
      " 24  mcs_HeavyAtomCount              4785 non-null   int64  \n",
      " 25  mcs_NOCount                     4785 non-null   int64  \n",
      " 26  mcs_RingCount                   4785 non-null   int64  \n",
      " 27  mcs_NumHeteroAtoms              4785 non-null   int64  \n",
      " 28  mcs_template_NHOHCount          4785 non-null   int64  \n",
      " 29  mcs_docked_NHOHCount            4785 non-null   int64  \n",
      " 30  mcs_template_NumHAcceptors      4785 non-null   int64  \n",
      " 31  mcs_docked_NumHAcceptors        4785 non-null   int64  \n",
      " 32  mcs_template_NumHDonors         4785 non-null   int64  \n",
      " 33  mcs_docked_NumHDonors           4785 non-null   int64  \n",
      " 34  mcs_template_NumRotatableBonds  4785 non-null   int64  \n",
      " 35  mcs_docked_NumRotatableBonds    4785 non-null   int64  \n",
      " 36  ec_tanimoto_similarity          4785 non-null   float64\n",
      " 37  fc_tanimoto_similarity          4785 non-null   float64\n",
      " 38  log_RMSD                        4785 non-null   float64\n",
      " 39  bin_RMSD                        4785 non-null   int64  \n",
      " 40  Xtransf_ec_tanimoto_similarity  4785 non-null   float64\n",
      " 41  Xtransf_fc_tanimoto_similarity  4785 non-null   float64\n",
      " 42  is_valid                        4785 non-null   bool   \n",
      " 43  img_temp                        4785 non-null   object \n",
      " 44  img_docked                      4785 non-null   object \n",
      "dtypes: bool(1), float64(6), int64(30), object(8)\n",
      "memory usage: 1.6+ MB\n"
     ]
    }
   ],
   "source": [
    "valid['img_temp'] = valid['template'] + '.png'\n",
    "valid['img_docked'] = valid['docked'] + '.png'\n",
    "valid['is_valid'] = True\n",
    "valid.info()"
   ]
  },
  {
   "cell_type": "code",
   "execution_count": 15,
   "id": "a313685b",
   "metadata": {
    "scrolled": true
   },
   "outputs": [],
   "source": [
    "# image size 224,224\n",
    "target_shape=(224, 224)"
   ]
  },
  {
   "cell_type": "code",
   "execution_count": 16,
   "id": "bac8df9e",
   "metadata": {},
   "outputs": [],
   "source": [
    "IMAGES = '../dataset/oldsmiledata/mol_images/all/'"
   ]
  },
  {
   "cell_type": "code",
   "execution_count": 17,
   "id": "87693386",
   "metadata": {},
   "outputs": [],
   "source": [
    "def preprocess_image(filename):\n",
    "    img_str = tf.io.read_file(IMAGES + filename)\n",
    "    image = tf.image.decode_png(img_str, channels=3)\n",
    "    image = tf.image.convert_image_dtype(image, tf.float32)\n",
    "    image = tf.image.resize(image, target_shape)\n",
    "    #image = tf.transpose(image)\n",
    "    return image"
   ]
  },
  {
   "cell_type": "code",
   "execution_count": 18,
   "id": "c932c106",
   "metadata": {},
   "outputs": [
    {
     "name": "stderr",
     "output_type": "stream",
     "text": [
      "2022-03-25 15:40:53.362972: I tensorflow/stream_executor/platform/default/dso_loader.cc:49] Successfully opened dynamic library libcuda.so.1\n",
      "2022-03-25 15:40:53.419060: I tensorflow/stream_executor/cuda/cuda_gpu_executor.cc:941] successful NUMA node read from SysFS had negative value (-1), but there must be at least one NUMA node, so returning NUMA node zero\n",
      "2022-03-25 15:40:53.419393: I tensorflow/core/common_runtime/gpu/gpu_device.cc:1720] Found device 0 with properties: \n",
      "pciBusID: 0000:01:00.0 name: NVIDIA GeForce GTX 1080 computeCapability: 6.1\n",
      "coreClock: 1.8225GHz coreCount: 20 deviceMemorySize: 7.93GiB deviceMemoryBandwidth: 298.32GiB/s\n",
      "2022-03-25 15:40:53.419413: I tensorflow/stream_executor/platform/default/dso_loader.cc:49] Successfully opened dynamic library libcudart.so.10.1\n",
      "2022-03-25 15:40:53.420648: I tensorflow/stream_executor/platform/default/dso_loader.cc:49] Successfully opened dynamic library libcublas.so.10\n",
      "2022-03-25 15:40:53.420684: I tensorflow/stream_executor/platform/default/dso_loader.cc:49] Successfully opened dynamic library libcublasLt.so.10\n",
      "2022-03-25 15:40:53.422092: I tensorflow/stream_executor/platform/default/dso_loader.cc:49] Successfully opened dynamic library libcufft.so.10\n",
      "2022-03-25 15:40:53.422358: I tensorflow/stream_executor/platform/default/dso_loader.cc:49] Successfully opened dynamic library libcurand.so.10\n",
      "2022-03-25 15:40:53.423882: I tensorflow/stream_executor/platform/default/dso_loader.cc:49] Successfully opened dynamic library libcusolver.so.10\n",
      "2022-03-25 15:40:53.424722: I tensorflow/stream_executor/platform/default/dso_loader.cc:49] Successfully opened dynamic library libcusparse.so.10\n",
      "2022-03-25 15:40:53.427962: I tensorflow/stream_executor/platform/default/dso_loader.cc:49] Successfully opened dynamic library libcudnn.so.7\n",
      "2022-03-25 15:40:53.428074: I tensorflow/stream_executor/cuda/cuda_gpu_executor.cc:941] successful NUMA node read from SysFS had negative value (-1), but there must be at least one NUMA node, so returning NUMA node zero\n",
      "2022-03-25 15:40:53.428476: I tensorflow/stream_executor/cuda/cuda_gpu_executor.cc:941] successful NUMA node read from SysFS had negative value (-1), but there must be at least one NUMA node, so returning NUMA node zero\n",
      "2022-03-25 15:40:53.428784: I tensorflow/core/common_runtime/gpu/gpu_device.cc:1862] Adding visible gpu devices: 0\n",
      "2022-03-25 15:40:53.429535: I tensorflow/core/platform/cpu_feature_guard.cc:142] This TensorFlow binary is optimized with oneAPI Deep Neural Network Library (oneDNN) to use the following CPU instructions in performance-critical operations:  SSE4.1 SSE4.2 AVX AVX2 FMA\n",
      "To enable them in other operations, rebuild TensorFlow with the appropriate compiler flags.\n",
      "2022-03-25 15:40:53.458894: I tensorflow/core/platform/profile_utils/cpu_utils.cc:112] CPU Frequency: 3999980000 Hz\n",
      "2022-03-25 15:40:53.459406: I tensorflow/compiler/xla/service/service.cc:168] XLA service 0x5626d9200560 initialized for platform Host (this does not guarantee that XLA will be used). Devices:\n",
      "2022-03-25 15:40:53.459425: I tensorflow/compiler/xla/service/service.cc:176]   StreamExecutor device (0): Host, Default Version\n",
      "2022-03-25 15:40:53.459631: I tensorflow/stream_executor/cuda/cuda_gpu_executor.cc:941] successful NUMA node read from SysFS had negative value (-1), but there must be at least one NUMA node, so returning NUMA node zero\n",
      "2022-03-25 15:40:53.460012: I tensorflow/core/common_runtime/gpu/gpu_device.cc:1720] Found device 0 with properties: \n",
      "pciBusID: 0000:01:00.0 name: NVIDIA GeForce GTX 1080 computeCapability: 6.1\n",
      "coreClock: 1.8225GHz coreCount: 20 deviceMemorySize: 7.93GiB deviceMemoryBandwidth: 298.32GiB/s\n",
      "2022-03-25 15:40:53.460047: I tensorflow/stream_executor/platform/default/dso_loader.cc:49] Successfully opened dynamic library libcudart.so.10.1\n",
      "2022-03-25 15:40:53.460067: I tensorflow/stream_executor/platform/default/dso_loader.cc:49] Successfully opened dynamic library libcublas.so.10\n",
      "2022-03-25 15:40:53.460083: I tensorflow/stream_executor/platform/default/dso_loader.cc:49] Successfully opened dynamic library libcublasLt.so.10\n",
      "2022-03-25 15:40:53.460098: I tensorflow/stream_executor/platform/default/dso_loader.cc:49] Successfully opened dynamic library libcufft.so.10\n",
      "2022-03-25 15:40:53.460115: I tensorflow/stream_executor/platform/default/dso_loader.cc:49] Successfully opened dynamic library libcurand.so.10\n",
      "2022-03-25 15:40:53.460130: I tensorflow/stream_executor/platform/default/dso_loader.cc:49] Successfully opened dynamic library libcusolver.so.10\n",
      "2022-03-25 15:40:53.460145: I tensorflow/stream_executor/platform/default/dso_loader.cc:49] Successfully opened dynamic library libcusparse.so.10\n",
      "2022-03-25 15:40:53.460160: I tensorflow/stream_executor/platform/default/dso_loader.cc:49] Successfully opened dynamic library libcudnn.so.7\n",
      "2022-03-25 15:40:53.460241: I tensorflow/stream_executor/cuda/cuda_gpu_executor.cc:941] successful NUMA node read from SysFS had negative value (-1), but there must be at least one NUMA node, so returning NUMA node zero\n",
      "2022-03-25 15:40:53.460679: I tensorflow/stream_executor/cuda/cuda_gpu_executor.cc:941] successful NUMA node read from SysFS had negative value (-1), but there must be at least one NUMA node, so returning NUMA node zero\n",
      "2022-03-25 15:40:53.461056: I tensorflow/core/common_runtime/gpu/gpu_device.cc:1862] Adding visible gpu devices: 0\n",
      "2022-03-25 15:40:53.461094: I tensorflow/stream_executor/platform/default/dso_loader.cc:49] Successfully opened dynamic library libcudart.so.10.1\n",
      "2022-03-25 15:40:53.805433: I tensorflow/core/common_runtime/gpu/gpu_device.cc:1261] Device interconnect StreamExecutor with strength 1 edge matrix:\n",
      "2022-03-25 15:40:53.805455: I tensorflow/core/common_runtime/gpu/gpu_device.cc:1267]      0 \n",
      "2022-03-25 15:40:53.805460: I tensorflow/core/common_runtime/gpu/gpu_device.cc:1280] 0:   N \n",
      "2022-03-25 15:40:53.805602: I tensorflow/stream_executor/cuda/cuda_gpu_executor.cc:941] successful NUMA node read from SysFS had negative value (-1), but there must be at least one NUMA node, so returning NUMA node zero\n",
      "2022-03-25 15:40:53.805894: I tensorflow/stream_executor/cuda/cuda_gpu_executor.cc:941] successful NUMA node read from SysFS had negative value (-1), but there must be at least one NUMA node, so returning NUMA node zero\n",
      "2022-03-25 15:40:53.806176: I tensorflow/stream_executor/cuda/cuda_gpu_executor.cc:941] successful NUMA node read from SysFS had negative value (-1), but there must be at least one NUMA node, so returning NUMA node zero\n",
      "2022-03-25 15:40:53.806416: I tensorflow/core/common_runtime/gpu/gpu_device.cc:1406] Created TensorFlow device (/job:localhost/replica:0/task:0/device:GPU:0 with 7015 MB memory) -> physical GPU (device: 0, name: NVIDIA GeForce GTX 1080, pci bus id: 0000:01:00.0, compute capability: 6.1)\n",
      "2022-03-25 15:40:53.807725: I tensorflow/compiler/xla/service/service.cc:168] XLA service 0x5626eebdf910 initialized for platform CUDA (this does not guarantee that XLA will be used). Devices:\n",
      "2022-03-25 15:40:53.807736: I tensorflow/compiler/xla/service/service.cc:176]   StreamExecutor device (0): NVIDIA GeForce GTX 1080, Compute Capability 6.1\n"
     ]
    }
   ],
   "source": [
    "%%capture\n",
    "img_shape = preprocess_image(train.img_temp[0]).shape"
   ]
  },
  {
   "cell_type": "code",
   "execution_count": 19,
   "id": "f736c9c6",
   "metadata": {},
   "outputs": [
    {
     "data": {
      "text/plain": [
       "TensorShape([224, 224, 3])"
      ]
     },
     "execution_count": 19,
     "metadata": {},
     "output_type": "execute_result"
    }
   ],
   "source": [
    "img_shape"
   ]
  },
  {
   "cell_type": "code",
   "execution_count": 62,
   "id": "68ae7d9b",
   "metadata": {},
   "outputs": [],
   "source": [
    "def preprocess_doubles(template, docked):\n",
    "    \"\"\"\n",
    "    Given the filenames corresponding to the three images, load and\n",
    "    preprocess them.\n",
    "    \"\"\"\n",
    "\n",
    "    return preprocess_image(template), preprocess_image(docked)\n",
    "    "
   ]
  },
  {
   "cell_type": "code",
   "execution_count": 63,
   "id": "6ac49a9a",
   "metadata": {},
   "outputs": [
    {
     "data": {
      "text/plain": [
       "TensorShape([224, 224, 3])"
      ]
     },
     "execution_count": 63,
     "metadata": {},
     "output_type": "execute_result"
    }
   ],
   "source": [
    "image = preprocess_image('/4A7I_A7I.png')\n",
    "image.shape"
   ]
  },
  {
   "cell_type": "code",
   "execution_count": 64,
   "id": "b6922b90",
   "metadata": {},
   "outputs": [],
   "source": [
    "train_template_images = [r.img_temp for i, r in train.iterrows()]"
   ]
  },
  {
   "cell_type": "code",
   "execution_count": 65,
   "id": "d139b148",
   "metadata": {},
   "outputs": [],
   "source": [
    "train_docked_images = [r.img_docked for i, r in train.iterrows()]"
   ]
  },
  {
   "cell_type": "code",
   "execution_count": 66,
   "id": "aecee4fd",
   "metadata": {},
   "outputs": [
    {
     "data": {
      "text/plain": [
       "(19139, 19139)"
      ]
     },
     "execution_count": 66,
     "metadata": {},
     "output_type": "execute_result"
    }
   ],
   "source": [
    "len(train_template_images), len(train_docked_images)"
   ]
  },
  {
   "cell_type": "code",
   "execution_count": 67,
   "id": "a0386de5",
   "metadata": {},
   "outputs": [],
   "source": [
    "valid_template_images = [r.img_temp for i, r in valid.iterrows()]\n",
    "valid_docked_images = [r.img_docked for i, r in valid.iterrows()]"
   ]
  },
  {
   "cell_type": "code",
   "execution_count": 68,
   "id": "116b5c32",
   "metadata": {},
   "outputs": [
    {
     "data": {
      "text/plain": [
       "23924"
      ]
     },
     "execution_count": 68,
     "metadata": {},
     "output_type": "execute_result"
    }
   ],
   "source": [
    "image_count = len(train_template_images) + len(valid_template_images)\n",
    "image_count"
   ]
  },
  {
   "cell_type": "code",
   "execution_count": 69,
   "id": "3917c506",
   "metadata": {},
   "outputs": [],
   "source": [
    "template_dataset = tf.data.Dataset.from_tensor_slices(train_template_images)\n",
    "docked_dataset = tf.data.Dataset.from_tensor_slices(train_docked_images)"
   ]
  },
  {
   "cell_type": "code",
   "execution_count": 70,
   "id": "e9fb064e",
   "metadata": {},
   "outputs": [],
   "source": [
    "val_template_dataset = tf.data.Dataset.from_tensor_slices(valid_template_images)\n",
    "val_docked_dataset = tf.data.Dataset.from_tensor_slices(valid_docked_images)"
   ]
  },
  {
   "cell_type": "code",
   "execution_count": 71,
   "id": "c634d16a",
   "metadata": {},
   "outputs": [],
   "source": [
    "y_train = train['log_RMSD']\n",
    "y_train = tf.data.Dataset.from_tensor_slices(list(y_train))"
   ]
  },
  {
   "cell_type": "code",
   "execution_count": 72,
   "id": "6ee52781",
   "metadata": {},
   "outputs": [],
   "source": [
    "y_valid = valid['log_RMSD']\n",
    "y_valid = tf.data.Dataset.from_tensor_slices(list(y_train))"
   ]
  },
  {
   "cell_type": "markdown",
   "id": "339e769b",
   "metadata": {},
   "source": [
    "### Create the train and validation datasets"
   ]
  },
  {
   "cell_type": "code",
   "execution_count": 73,
   "id": "b981e531",
   "metadata": {},
   "outputs": [
    {
     "data": {
      "text/plain": [
       "(<ZipDataset shapes: ((), ()), types: (tf.string, tf.string)>,\n",
       " <ZipDataset shapes: ((), ()), types: (tf.string, tf.string)>)"
      ]
     },
     "execution_count": 73,
     "metadata": {},
     "output_type": "execute_result"
    }
   ],
   "source": [
    "train_dataset = tf.data.Dataset.zip((template_dataset, docked_dataset)) # template as anchor\n",
    "#train_dataset = tf.data.Dataset.zip((docked_dataset, template_dataset,  negative_dataset)) # docked as anchor\n",
    "#train_dataset = tf.data.Dataset.zip((train_dataset, negative_dataset))\n",
    "valid_dataset = tf.data.Dataset.zip((val_template_dataset, val_docked_dataset)) # template as anchor\n",
    "#valid_dataset = tf.data.Dataset.zip((val_docked_dataset, val_template_dataset, val_negative_dataset)) # docked as anchor\n",
    "#valid_dataset = tf.data.Dataset.zip((valid_dataset, val_negative_dataset))\n",
    "train_dataset, valid_dataset"
   ]
  },
  {
   "cell_type": "code",
   "execution_count": 74,
   "id": "58142129",
   "metadata": {},
   "outputs": [],
   "source": [
    "def to_dict(lst):\n",
    "    return {'a':lst[0], 'b':lst[1]}"
   ]
  },
  {
   "cell_type": "code",
   "execution_count": 75,
   "id": "3dc937b5",
   "metadata": {},
   "outputs": [],
   "source": [
    "#train_dataset = train_dataset.map(to_dict)\n",
    "#train_dataset"
   ]
  },
  {
   "cell_type": "code",
   "execution_count": null,
   "id": "47797dd8",
   "metadata": {},
   "outputs": [],
   "source": []
  },
  {
   "cell_type": "code",
   "execution_count": 76,
   "id": "149d4399",
   "metadata": {},
   "outputs": [],
   "source": [
    "#train_dataset = train_dataset.take(round(image_count * 1))\n",
    "#train_dataset"
   ]
  },
  {
   "cell_type": "code",
   "execution_count": 77,
   "id": "c5504d23",
   "metadata": {},
   "outputs": [
    {
     "data": {
      "text/plain": [
       "(<MapDataset shapes: ((224, 224, 3), (224, 224, 3)), types: (tf.float32, tf.float32)>,\n",
       " <MapDataset shapes: ((224, 224, 3), (224, 224, 3)), types: (tf.float32, tf.float32)>)"
      ]
     },
     "execution_count": 77,
     "metadata": {},
     "output_type": "execute_result"
    }
   ],
   "source": [
    "train_dataset = train_dataset.map(preprocess_doubles)\n",
    "val_dataset = valid_dataset.map(preprocess_doubles)\n",
    "train_dataset, val_dataset"
   ]
  },
  {
   "cell_type": "code",
   "execution_count": 104,
   "id": "125c0a00",
   "metadata": {},
   "outputs": [
    {
     "data": {
      "text/plain": [
       "<BatchDataset shapes: ((2, 224, 224, 3), (2, 224, 224, 3)), types: (tf.float32, tf.float32)>"
      ]
     },
     "execution_count": 104,
     "metadata": {},
     "output_type": "execute_result"
    }
   ],
   "source": [
    "train_dl = train_dataset.batch(2, drop_remainder=True)\n",
    "train_fetch = train_dl.prefetch(8)\n",
    "train_dl"
   ]
  },
  {
   "cell_type": "code",
   "execution_count": 105,
   "id": "57f30d7b",
   "metadata": {
    "scrolled": true
   },
   "outputs": [
    {
     "data": {
      "text/plain": [
       "<PrefetchDataset shapes: ((2, 224, 224, 3), (2, 224, 224, 3)), types: (tf.float32, tf.float32)>"
      ]
     },
     "execution_count": 105,
     "metadata": {},
     "output_type": "execute_result"
    }
   ],
   "source": [
    "val_dl = val_dataset.batch(2, drop_remainder=True)\n",
    "val_pre = val_dl.prefetch(8)\n",
    "val_pre"
   ]
  },
  {
   "cell_type": "code",
   "execution_count": 106,
   "id": "cf9b290d",
   "metadata": {},
   "outputs": [],
   "source": [
    "#train_data_iter = tf.compat.v1.data.make_one_shot_iterator(train_dl)\n",
    "#train_data_iter"
   ]
  },
  {
   "cell_type": "code",
   "execution_count": 107,
   "id": "21aabd35",
   "metadata": {},
   "outputs": [
    {
     "data": {
      "text/plain": [
       "<tensorflow.python.data.ops.iterator_ops.OwnedIterator at 0x7f52c8365460>"
      ]
     },
     "execution_count": 107,
     "metadata": {},
     "output_type": "execute_result"
    }
   ],
   "source": [
    "val_data_iter = iter(train_dl)\n",
    "val_data_iter"
   ]
  },
  {
   "cell_type": "markdown",
   "id": "f4f6e468",
   "metadata": {},
   "source": [
    "## Anchor, positive and the distance between them computed by the distance layer"
   ]
  },
  {
   "cell_type": "code",
   "execution_count": 108,
   "id": "6585724f",
   "metadata": {
    "scrolled": true
   },
   "outputs": [
    {
     "data": {
      "image/png": "[encoded data removed]",
      "text/plain": [
       "<Figure size 432x432 with 4 Axes>"
      ]
     },
     "metadata": {
      "needs_background": "light"
     },
     "output_type": "display_data"
    }
   ],
   "source": [
    "def visualize(anchor, positive):\n",
    "    \"\"\"Visualize a few triplets from the supplied batches.\"\"\"\n",
    "\n",
    "    def show(ax, image):\n",
    "        ax.imshow(image)\n",
    "        ax.get_xaxis().set_visible(False)\n",
    "        ax.get_yaxis().set_visible(False)\n",
    "    \n",
    "\n",
    "    fig = plt.figure(figsize=(6, 6))\n",
    "\n",
    "    axs = fig.subplots(2, 2)\n",
    "    for i in range(0, 2):\n",
    "        show(axs[i, 0], anchor[i])\n",
    "        show(axs[i, 1], positive[i])\n",
    "    \n",
    "\n",
    "visualize(*list(val_dl.take(1).as_numpy_iterator())[0])"
   ]
  },
  {
   "cell_type": "markdown",
   "id": "cbb7e500",
   "metadata": {},
   "source": [
    "# Dual CNN with concatenated layer"
   ]
  },
  {
   "cell_type": "code",
   "execution_count": 109,
   "id": "e04f2720",
   "metadata": {
    "scrolled": false
   },
   "outputs": [],
   "source": [
    "def create_convolution_layers(input_img):\n",
    "    model = Conv2D(32, (3, 3), padding='same', input_shape=input_shape)(input_img)\n",
    "    model = LeakyReLU(alpha=0.1)(model)\n",
    "    model = MaxPooling2D((2, 2),padding='same')(model)\n",
    "    model = Dropout(0.25)(model)\n",
    "  \n",
    "    model = Conv2D(64, (3, 3), padding='same')(model)\n",
    "    model = LeakyReLU(alpha=0.1)(model)\n",
    "    model = MaxPooling2D(pool_size=(2, 2),padding='same')(model)\n",
    "    model = Dropout(0.25)(model)\n",
    "    \n",
    "    model = Conv2D(128, (3, 3), padding='same')(model)\n",
    "    model = LeakyReLU(alpha=0.1)(model)\n",
    "    model = MaxPooling2D(pool_size=(2, 2),padding='same')(model)\n",
    "    model = Dropout(0.4)(model)\n",
    "    \n",
    "    return model"
   ]
  },
  {
   "cell_type": "code",
   "execution_count": 110,
   "id": "aa40b45c",
   "metadata": {},
   "outputs": [],
   "source": [
    "input_shape=(224, 224, 3)\n",
    "num_classes = 2"
   ]
  },
  {
   "cell_type": "code",
   "execution_count": 121,
   "id": "907211d8",
   "metadata": {},
   "outputs": [],
   "source": [
    "template_input = Input(shape=input_shape)\n",
    "template_model = create_convolution_layers(template_input)\n",
    "\n",
    "docked_input = Input(shape=input_shape)\n",
    "docked_model = create_convolution_layers(docked_input)\n",
    "\n",
    "#template_input = Input(name=\"template\", shape=target_shape + (3,))\n",
    "#template_model = create_convolution_layers(template_input)\n",
    "\n",
    "#docked_input = Input(name=\"docked\", shape=target_shape + (3,))\n",
    "#docked_model = create_convolution_layers(docked_input)\n",
    "\n",
    "conv = concatenate((template_model, docked_model))\n",
    "\n",
    "conv = Flatten()(conv)\n",
    "\n",
    "dense = Dense(512)(conv)\n",
    "dense = LeakyReLU(alpha=0.1)(dense)\n",
    "dense = Dropout(0.5)(dense)\n",
    "\n",
    "output = Dense(num_classes, activation='softmax')(dense)\n",
    "\n",
    "model = Model(inputs=[template_input, docked_input], outputs=[output])\n",
    "\n",
    "opt = optimizers.Adam()\n",
    "\n",
    "model.compile(loss='categorical_crossentropy',\n",
    "              optimizer=opt,\n",
    "              metrics=['accuracy'])"
   ]
  },
  {
   "cell_type": "code",
   "execution_count": 122,
   "id": "4fdfcdc2",
   "metadata": {},
   "outputs": [
    {
     "name": "stdout",
     "output_type": "stream",
     "text": [
      "Model: \"model_8\"\n",
      "__________________________________________________________________________________________________\n",
      "Layer (type)                    Output Shape         Param #     Connected to                     \n",
      "==================================================================================================\n",
      "input_16 (InputLayer)           [(None, 224, 224, 3) 0                                            \n",
      "__________________________________________________________________________________________________\n",
      "input_17 (InputLayer)           [(None, 224, 224, 3) 0                                            \n",
      "__________________________________________________________________________________________________\n",
      "conv2d_55 (Conv2D)              (None, 224, 224, 32) 896         input_16[0][0]                   \n",
      "__________________________________________________________________________________________________\n",
      "conv2d_58 (Conv2D)              (None, 224, 224, 32) 896         input_17[0][0]                   \n",
      "__________________________________________________________________________________________________\n",
      "leaky_re_lu_64 (LeakyReLU)      (None, 224, 224, 32) 0           conv2d_55[0][0]                  \n",
      "__________________________________________________________________________________________________\n",
      "leaky_re_lu_67 (LeakyReLU)      (None, 224, 224, 32) 0           conv2d_58[0][0]                  \n",
      "__________________________________________________________________________________________________\n",
      "max_pooling2d_55 (MaxPooling2D) (None, 112, 112, 32) 0           leaky_re_lu_64[0][0]             \n",
      "__________________________________________________________________________________________________\n",
      "max_pooling2d_58 (MaxPooling2D) (None, 112, 112, 32) 0           leaky_re_lu_67[0][0]             \n",
      "__________________________________________________________________________________________________\n",
      "dropout_63 (Dropout)            (None, 112, 112, 32) 0           max_pooling2d_55[0][0]           \n",
      "__________________________________________________________________________________________________\n",
      "dropout_66 (Dropout)            (None, 112, 112, 32) 0           max_pooling2d_58[0][0]           \n",
      "__________________________________________________________________________________________________\n",
      "conv2d_56 (Conv2D)              (None, 112, 112, 64) 18496       dropout_63[0][0]                 \n",
      "__________________________________________________________________________________________________\n",
      "conv2d_59 (Conv2D)              (None, 112, 112, 64) 18496       dropout_66[0][0]                 \n",
      "__________________________________________________________________________________________________\n",
      "leaky_re_lu_65 (LeakyReLU)      (None, 112, 112, 64) 0           conv2d_56[0][0]                  \n",
      "__________________________________________________________________________________________________\n",
      "leaky_re_lu_68 (LeakyReLU)      (None, 112, 112, 64) 0           conv2d_59[0][0]                  \n",
      "__________________________________________________________________________________________________\n",
      "max_pooling2d_56 (MaxPooling2D) (None, 56, 56, 64)   0           leaky_re_lu_65[0][0]             \n",
      "__________________________________________________________________________________________________\n",
      "max_pooling2d_59 (MaxPooling2D) (None, 56, 56, 64)   0           leaky_re_lu_68[0][0]             \n",
      "__________________________________________________________________________________________________\n",
      "dropout_64 (Dropout)            (None, 56, 56, 64)   0           max_pooling2d_56[0][0]           \n",
      "__________________________________________________________________________________________________\n",
      "dropout_67 (Dropout)            (None, 56, 56, 64)   0           max_pooling2d_59[0][0]           \n",
      "__________________________________________________________________________________________________\n",
      "conv2d_57 (Conv2D)              (None, 56, 56, 128)  73856       dropout_64[0][0]                 \n",
      "__________________________________________________________________________________________________\n",
      "conv2d_60 (Conv2D)              (None, 56, 56, 128)  73856       dropout_67[0][0]                 \n",
      "__________________________________________________________________________________________________\n",
      "leaky_re_lu_66 (LeakyReLU)      (None, 56, 56, 128)  0           conv2d_57[0][0]                  \n",
      "__________________________________________________________________________________________________\n",
      "leaky_re_lu_69 (LeakyReLU)      (None, 56, 56, 128)  0           conv2d_60[0][0]                  \n",
      "__________________________________________________________________________________________________\n",
      "max_pooling2d_57 (MaxPooling2D) (None, 28, 28, 128)  0           leaky_re_lu_66[0][0]             \n",
      "__________________________________________________________________________________________________\n",
      "max_pooling2d_60 (MaxPooling2D) (None, 28, 28, 128)  0           leaky_re_lu_69[0][0]             \n",
      "__________________________________________________________________________________________________\n",
      "dropout_65 (Dropout)            (None, 28, 28, 128)  0           max_pooling2d_57[0][0]           \n",
      "__________________________________________________________________________________________________\n",
      "dropout_68 (Dropout)            (None, 28, 28, 128)  0           max_pooling2d_60[0][0]           \n",
      "__________________________________________________________________________________________________\n",
      "concatenate_9 (Concatenate)     (None, 28, 28, 256)  0           dropout_65[0][0]                 \n",
      "                                                                 dropout_68[0][0]                 \n",
      "__________________________________________________________________________________________________\n",
      "flatten_9 (Flatten)             (None, 200704)       0           concatenate_9[0][0]              \n",
      "__________________________________________________________________________________________________\n",
      "dense_18 (Dense)                (None, 512)          102760960   flatten_9[0][0]                  \n",
      "__________________________________________________________________________________________________\n",
      "leaky_re_lu_70 (LeakyReLU)      (None, 512)          0           dense_18[0][0]                   \n",
      "__________________________________________________________________________________________________\n",
      "dropout_69 (Dropout)            (None, 512)          0           leaky_re_lu_70[0][0]             \n",
      "__________________________________________________________________________________________________\n",
      "dense_19 (Dense)                (None, 2)            1026        dropout_69[0][0]                 \n",
      "==================================================================================================\n",
      "Total params: 102,948,482\n",
      "Trainable params: 102,948,482\n",
      "Non-trainable params: 0\n",
      "__________________________________________________________________________________________________\n"
     ]
    }
   ],
   "source": [
    "model.summary()"
   ]
  },
  {
   "cell_type": "code",
   "execution_count": 123,
   "id": "cc52f632",
   "metadata": {},
   "outputs": [
    {
     "name": "stdout",
     "output_type": "stream",
     "text": [
      "Epoch 1/2\n"
     ]
    },
    {
     "ename": "ValueError",
     "evalue": "in user code:\n\n    /home/kjetil/anaconda3/envs/tf_gpu/lib/python3.9/site-packages/tensorflow/python/keras/engine/training.py:805 train_function  *\n        return step_function(self, iterator)\n    /home/kjetil/anaconda3/envs/tf_gpu/lib/python3.9/site-packages/tensorflow/python/keras/engine/training.py:795 step_function  **\n        outputs = model.distribute_strategy.run(run_step, args=(data,))\n    /home/kjetil/anaconda3/envs/tf_gpu/lib/python3.9/site-packages/tensorflow/python/distribute/distribute_lib.py:1259 run\n        return self._extended.call_for_each_replica(fn, args=args, kwargs=kwargs)\n    /home/kjetil/anaconda3/envs/tf_gpu/lib/python3.9/site-packages/tensorflow/python/distribute/distribute_lib.py:2730 call_for_each_replica\n        return self._call_for_each_replica(fn, args, kwargs)\n    /home/kjetil/anaconda3/envs/tf_gpu/lib/python3.9/site-packages/tensorflow/python/distribute/distribute_lib.py:3417 _call_for_each_replica\n        return fn(*args, **kwargs)\n    /home/kjetil/anaconda3/envs/tf_gpu/lib/python3.9/site-packages/tensorflow/python/keras/engine/training.py:788 run_step  **\n        outputs = model.train_step(data)\n    /home/kjetil/anaconda3/envs/tf_gpu/lib/python3.9/site-packages/tensorflow/python/keras/engine/training.py:754 train_step\n        y_pred = self(x, training=True)\n    /home/kjetil/anaconda3/envs/tf_gpu/lib/python3.9/site-packages/tensorflow/python/keras/engine/base_layer.py:998 __call__\n        input_spec.assert_input_compatibility(self.input_spec, inputs, self.name)\n    /home/kjetil/anaconda3/envs/tf_gpu/lib/python3.9/site-packages/tensorflow/python/keras/engine/input_spec.py:204 assert_input_compatibility\n        raise ValueError('Layer ' + layer_name + ' expects ' +\n\n    ValueError: Layer model_8 expects 2 input(s), but it received 1 input tensors. Inputs received: [<tf.Tensor 'IteratorGetNext:0' shape=(2, 224, 224, 3) dtype=float32>]\n",
     "output_type": "error",
     "traceback": [
      "\u001b[0;31m---------------------------------------------------------------------------\u001b[0m",
      "\u001b[0;31mValueError\u001b[0m                                Traceback (most recent call last)",
      "\u001b[0;32m/tmp/ipykernel_9406/1310957491.py\u001b[0m in \u001b[0;36m<module>\u001b[0;34m\u001b[0m\n\u001b[1;32m      2\u001b[0m \u001b[0mcheckpoint\u001b[0m \u001b[0;34m=\u001b[0m \u001b[0mModelCheckpoint\u001b[0m\u001b[0;34m(\u001b[0m\u001b[0mbest_weights_file\u001b[0m\u001b[0;34m,\u001b[0m \u001b[0mmonitor\u001b[0m\u001b[0;34m=\u001b[0m\u001b[0;34m'val_acc'\u001b[0m\u001b[0;34m,\u001b[0m \u001b[0mverbose\u001b[0m\u001b[0;34m=\u001b[0m\u001b[0;36m1\u001b[0m\u001b[0;34m,\u001b[0m \u001b[0msave_best_only\u001b[0m\u001b[0;34m=\u001b[0m\u001b[0;32mTrue\u001b[0m\u001b[0;34m,\u001b[0m \u001b[0mmode\u001b[0m\u001b[0;34m=\u001b[0m\u001b[0;34m'max'\u001b[0m\u001b[0;34m)\u001b[0m\u001b[0;34m\u001b[0m\u001b[0;34m\u001b[0m\u001b[0m\n\u001b[1;32m      3\u001b[0m \u001b[0;34m\u001b[0m\u001b[0m\n\u001b[0;32m----> 4\u001b[0;31m \u001b[0mmodel\u001b[0m\u001b[0;34m.\u001b[0m\u001b[0mfit\u001b[0m\u001b[0;34m(\u001b[0m\u001b[0mtrain_dl\u001b[0m\u001b[0;34m,\u001b[0m \u001b[0mvalidation_data\u001b[0m\u001b[0;34m=\u001b[0m\u001b[0mval_dl\u001b[0m\u001b[0;34m,\u001b[0m \u001b[0mepochs\u001b[0m\u001b[0;34m=\u001b[0m\u001b[0;36m2\u001b[0m\u001b[0;34m,\u001b[0m \u001b[0mverbose\u001b[0m\u001b[0;34m=\u001b[0m\u001b[0;36m1\u001b[0m\u001b[0;34m)\u001b[0m\u001b[0;34m\u001b[0m\u001b[0;34m\u001b[0m\u001b[0m\n\u001b[0m",
      "\u001b[0;32m~/anaconda3/envs/tf_gpu/lib/python3.9/site-packages/tensorflow/python/keras/engine/training.py\u001b[0m in \u001b[0;36mfit\u001b[0;34m(self, x, y, batch_size, epochs, verbose, callbacks, validation_split, validation_data, shuffle, class_weight, sample_weight, initial_epoch, steps_per_epoch, validation_steps, validation_batch_size, validation_freq, max_queue_size, workers, use_multiprocessing)\u001b[0m\n\u001b[1;32m   1098\u001b[0m                 _r=1):\n\u001b[1;32m   1099\u001b[0m               \u001b[0mcallbacks\u001b[0m\u001b[0;34m.\u001b[0m\u001b[0mon_train_batch_begin\u001b[0m\u001b[0;34m(\u001b[0m\u001b[0mstep\u001b[0m\u001b[0;34m)\u001b[0m\u001b[0;34m\u001b[0m\u001b[0;34m\u001b[0m\u001b[0m\n\u001b[0;32m-> 1100\u001b[0;31m               \u001b[0mtmp_logs\u001b[0m \u001b[0;34m=\u001b[0m \u001b[0mself\u001b[0m\u001b[0;34m.\u001b[0m\u001b[0mtrain_function\u001b[0m\u001b[0;34m(\u001b[0m\u001b[0miterator\u001b[0m\u001b[0;34m)\u001b[0m\u001b[0;34m\u001b[0m\u001b[0;34m\u001b[0m\u001b[0m\n\u001b[0m\u001b[1;32m   1101\u001b[0m               \u001b[0;32mif\u001b[0m \u001b[0mdata_handler\u001b[0m\u001b[0;34m.\u001b[0m\u001b[0mshould_sync\u001b[0m\u001b[0;34m:\u001b[0m\u001b[0;34m\u001b[0m\u001b[0;34m\u001b[0m\u001b[0m\n\u001b[1;32m   1102\u001b[0m                 \u001b[0mcontext\u001b[0m\u001b[0;34m.\u001b[0m\u001b[0masync_wait\u001b[0m\u001b[0;34m(\u001b[0m\u001b[0;34m)\u001b[0m\u001b[0;34m\u001b[0m\u001b[0;34m\u001b[0m\u001b[0m\n",
      "\u001b[0;32m~/anaconda3/envs/tf_gpu/lib/python3.9/site-packages/tensorflow/python/eager/def_function.py\u001b[0m in \u001b[0;36m__call__\u001b[0;34m(self, *args, **kwds)\u001b[0m\n\u001b[1;32m    826\u001b[0m     \u001b[0mtracing_count\u001b[0m \u001b[0;34m=\u001b[0m \u001b[0mself\u001b[0m\u001b[0;34m.\u001b[0m\u001b[0mexperimental_get_tracing_count\u001b[0m\u001b[0;34m(\u001b[0m\u001b[0;34m)\u001b[0m\u001b[0;34m\u001b[0m\u001b[0;34m\u001b[0m\u001b[0m\n\u001b[1;32m    827\u001b[0m     \u001b[0;32mwith\u001b[0m \u001b[0mtrace\u001b[0m\u001b[0;34m.\u001b[0m\u001b[0mTrace\u001b[0m\u001b[0;34m(\u001b[0m\u001b[0mself\u001b[0m\u001b[0;34m.\u001b[0m\u001b[0m_name\u001b[0m\u001b[0;34m)\u001b[0m \u001b[0;32mas\u001b[0m \u001b[0mtm\u001b[0m\u001b[0;34m:\u001b[0m\u001b[0;34m\u001b[0m\u001b[0;34m\u001b[0m\u001b[0m\n\u001b[0;32m--> 828\u001b[0;31m       \u001b[0mresult\u001b[0m \u001b[0;34m=\u001b[0m \u001b[0mself\u001b[0m\u001b[0;34m.\u001b[0m\u001b[0m_call\u001b[0m\u001b[0;34m(\u001b[0m\u001b[0;34m*\u001b[0m\u001b[0margs\u001b[0m\u001b[0;34m,\u001b[0m \u001b[0;34m**\u001b[0m\u001b[0mkwds\u001b[0m\u001b[0;34m)\u001b[0m\u001b[0;34m\u001b[0m\u001b[0;34m\u001b[0m\u001b[0m\n\u001b[0m\u001b[1;32m    829\u001b[0m       \u001b[0mcompiler\u001b[0m \u001b[0;34m=\u001b[0m \u001b[0;34m\"xla\"\u001b[0m \u001b[0;32mif\u001b[0m \u001b[0mself\u001b[0m\u001b[0;34m.\u001b[0m\u001b[0m_experimental_compile\u001b[0m \u001b[0;32melse\u001b[0m \u001b[0;34m\"nonXla\"\u001b[0m\u001b[0;34m\u001b[0m\u001b[0;34m\u001b[0m\u001b[0m\n\u001b[1;32m    830\u001b[0m       \u001b[0mnew_tracing_count\u001b[0m \u001b[0;34m=\u001b[0m \u001b[0mself\u001b[0m\u001b[0;34m.\u001b[0m\u001b[0mexperimental_get_tracing_count\u001b[0m\u001b[0;34m(\u001b[0m\u001b[0;34m)\u001b[0m\u001b[0;34m\u001b[0m\u001b[0;34m\u001b[0m\u001b[0m\n",
      "\u001b[0;32m~/anaconda3/envs/tf_gpu/lib/python3.9/site-packages/tensorflow/python/eager/def_function.py\u001b[0m in \u001b[0;36m_call\u001b[0;34m(self, *args, **kwds)\u001b[0m\n\u001b[1;32m    869\u001b[0m       \u001b[0;31m# This is the first call of __call__, so we have to initialize.\u001b[0m\u001b[0;34m\u001b[0m\u001b[0;34m\u001b[0m\u001b[0m\n\u001b[1;32m    870\u001b[0m       \u001b[0minitializers\u001b[0m \u001b[0;34m=\u001b[0m \u001b[0;34m[\u001b[0m\u001b[0;34m]\u001b[0m\u001b[0;34m\u001b[0m\u001b[0;34m\u001b[0m\u001b[0m\n\u001b[0;32m--> 871\u001b[0;31m       \u001b[0mself\u001b[0m\u001b[0;34m.\u001b[0m\u001b[0m_initialize\u001b[0m\u001b[0;34m(\u001b[0m\u001b[0margs\u001b[0m\u001b[0;34m,\u001b[0m \u001b[0mkwds\u001b[0m\u001b[0;34m,\u001b[0m \u001b[0madd_initializers_to\u001b[0m\u001b[0;34m=\u001b[0m\u001b[0minitializers\u001b[0m\u001b[0;34m)\u001b[0m\u001b[0;34m\u001b[0m\u001b[0;34m\u001b[0m\u001b[0m\n\u001b[0m\u001b[1;32m    872\u001b[0m     \u001b[0;32mfinally\u001b[0m\u001b[0;34m:\u001b[0m\u001b[0;34m\u001b[0m\u001b[0;34m\u001b[0m\u001b[0m\n\u001b[1;32m    873\u001b[0m       \u001b[0;31m# At this point we know that the initialization is complete (or less\u001b[0m\u001b[0;34m\u001b[0m\u001b[0;34m\u001b[0m\u001b[0m\n",
      "\u001b[0;32m~/anaconda3/envs/tf_gpu/lib/python3.9/site-packages/tensorflow/python/eager/def_function.py\u001b[0m in \u001b[0;36m_initialize\u001b[0;34m(self, args, kwds, add_initializers_to)\u001b[0m\n\u001b[1;32m    723\u001b[0m     \u001b[0mself\u001b[0m\u001b[0;34m.\u001b[0m\u001b[0m_graph_deleter\u001b[0m \u001b[0;34m=\u001b[0m \u001b[0mFunctionDeleter\u001b[0m\u001b[0;34m(\u001b[0m\u001b[0mself\u001b[0m\u001b[0;34m.\u001b[0m\u001b[0m_lifted_initializer_graph\u001b[0m\u001b[0;34m)\u001b[0m\u001b[0;34m\u001b[0m\u001b[0;34m\u001b[0m\u001b[0m\n\u001b[1;32m    724\u001b[0m     self._concrete_stateful_fn = (\n\u001b[0;32m--> 725\u001b[0;31m         self._stateful_fn._get_concrete_function_internal_garbage_collected(  # pylint: disable=protected-access\n\u001b[0m\u001b[1;32m    726\u001b[0m             *args, **kwds))\n\u001b[1;32m    727\u001b[0m \u001b[0;34m\u001b[0m\u001b[0m\n",
      "\u001b[0;32m~/anaconda3/envs/tf_gpu/lib/python3.9/site-packages/tensorflow/python/eager/function.py\u001b[0m in \u001b[0;36m_get_concrete_function_internal_garbage_collected\u001b[0;34m(self, *args, **kwargs)\u001b[0m\n\u001b[1;32m   2967\u001b[0m       \u001b[0margs\u001b[0m\u001b[0;34m,\u001b[0m \u001b[0mkwargs\u001b[0m \u001b[0;34m=\u001b[0m \u001b[0;32mNone\u001b[0m\u001b[0;34m,\u001b[0m \u001b[0;32mNone\u001b[0m\u001b[0;34m\u001b[0m\u001b[0;34m\u001b[0m\u001b[0m\n\u001b[1;32m   2968\u001b[0m     \u001b[0;32mwith\u001b[0m \u001b[0mself\u001b[0m\u001b[0;34m.\u001b[0m\u001b[0m_lock\u001b[0m\u001b[0;34m:\u001b[0m\u001b[0;34m\u001b[0m\u001b[0;34m\u001b[0m\u001b[0m\n\u001b[0;32m-> 2969\u001b[0;31m       \u001b[0mgraph_function\u001b[0m\u001b[0;34m,\u001b[0m \u001b[0m_\u001b[0m \u001b[0;34m=\u001b[0m \u001b[0mself\u001b[0m\u001b[0;34m.\u001b[0m\u001b[0m_maybe_define_function\u001b[0m\u001b[0;34m(\u001b[0m\u001b[0margs\u001b[0m\u001b[0;34m,\u001b[0m \u001b[0mkwargs\u001b[0m\u001b[0;34m)\u001b[0m\u001b[0;34m\u001b[0m\u001b[0;34m\u001b[0m\u001b[0m\n\u001b[0m\u001b[1;32m   2970\u001b[0m     \u001b[0;32mreturn\u001b[0m \u001b[0mgraph_function\u001b[0m\u001b[0;34m\u001b[0m\u001b[0;34m\u001b[0m\u001b[0m\n\u001b[1;32m   2971\u001b[0m \u001b[0;34m\u001b[0m\u001b[0m\n",
      "\u001b[0;32m~/anaconda3/envs/tf_gpu/lib/python3.9/site-packages/tensorflow/python/eager/function.py\u001b[0m in \u001b[0;36m_maybe_define_function\u001b[0;34m(self, args, kwargs)\u001b[0m\n\u001b[1;32m   3359\u001b[0m \u001b[0;34m\u001b[0m\u001b[0m\n\u001b[1;32m   3360\u001b[0m           \u001b[0mself\u001b[0m\u001b[0;34m.\u001b[0m\u001b[0m_function_cache\u001b[0m\u001b[0;34m.\u001b[0m\u001b[0mmissed\u001b[0m\u001b[0;34m.\u001b[0m\u001b[0madd\u001b[0m\u001b[0;34m(\u001b[0m\u001b[0mcall_context_key\u001b[0m\u001b[0;34m)\u001b[0m\u001b[0;34m\u001b[0m\u001b[0;34m\u001b[0m\u001b[0m\n\u001b[0;32m-> 3361\u001b[0;31m           \u001b[0mgraph_function\u001b[0m \u001b[0;34m=\u001b[0m \u001b[0mself\u001b[0m\u001b[0;34m.\u001b[0m\u001b[0m_create_graph_function\u001b[0m\u001b[0;34m(\u001b[0m\u001b[0margs\u001b[0m\u001b[0;34m,\u001b[0m \u001b[0mkwargs\u001b[0m\u001b[0;34m)\u001b[0m\u001b[0;34m\u001b[0m\u001b[0;34m\u001b[0m\u001b[0m\n\u001b[0m\u001b[1;32m   3362\u001b[0m           \u001b[0mself\u001b[0m\u001b[0;34m.\u001b[0m\u001b[0m_function_cache\u001b[0m\u001b[0;34m.\u001b[0m\u001b[0mprimary\u001b[0m\u001b[0;34m[\u001b[0m\u001b[0mcache_key\u001b[0m\u001b[0;34m]\u001b[0m \u001b[0;34m=\u001b[0m \u001b[0mgraph_function\u001b[0m\u001b[0;34m\u001b[0m\u001b[0;34m\u001b[0m\u001b[0m\n\u001b[1;32m   3363\u001b[0m \u001b[0;34m\u001b[0m\u001b[0m\n",
      "\u001b[0;32m~/anaconda3/envs/tf_gpu/lib/python3.9/site-packages/tensorflow/python/eager/function.py\u001b[0m in \u001b[0;36m_create_graph_function\u001b[0;34m(self, args, kwargs, override_flat_arg_shapes)\u001b[0m\n\u001b[1;32m   3194\u001b[0m     \u001b[0marg_names\u001b[0m \u001b[0;34m=\u001b[0m \u001b[0mbase_arg_names\u001b[0m \u001b[0;34m+\u001b[0m \u001b[0mmissing_arg_names\u001b[0m\u001b[0;34m\u001b[0m\u001b[0;34m\u001b[0m\u001b[0m\n\u001b[1;32m   3195\u001b[0m     graph_function = ConcreteFunction(\n\u001b[0;32m-> 3196\u001b[0;31m         func_graph_module.func_graph_from_py_func(\n\u001b[0m\u001b[1;32m   3197\u001b[0m             \u001b[0mself\u001b[0m\u001b[0;34m.\u001b[0m\u001b[0m_name\u001b[0m\u001b[0;34m,\u001b[0m\u001b[0;34m\u001b[0m\u001b[0;34m\u001b[0m\u001b[0m\n\u001b[1;32m   3198\u001b[0m             \u001b[0mself\u001b[0m\u001b[0;34m.\u001b[0m\u001b[0m_python_function\u001b[0m\u001b[0;34m,\u001b[0m\u001b[0;34m\u001b[0m\u001b[0;34m\u001b[0m\u001b[0m\n",
      "\u001b[0;32m~/anaconda3/envs/tf_gpu/lib/python3.9/site-packages/tensorflow/python/framework/func_graph.py\u001b[0m in \u001b[0;36mfunc_graph_from_py_func\u001b[0;34m(name, python_func, args, kwargs, signature, func_graph, autograph, autograph_options, add_control_dependencies, arg_names, op_return_value, collections, capture_by_value, override_flat_arg_shapes)\u001b[0m\n\u001b[1;32m    988\u001b[0m         \u001b[0m_\u001b[0m\u001b[0;34m,\u001b[0m \u001b[0moriginal_func\u001b[0m \u001b[0;34m=\u001b[0m \u001b[0mtf_decorator\u001b[0m\u001b[0;34m.\u001b[0m\u001b[0munwrap\u001b[0m\u001b[0;34m(\u001b[0m\u001b[0mpython_func\u001b[0m\u001b[0;34m)\u001b[0m\u001b[0;34m\u001b[0m\u001b[0;34m\u001b[0m\u001b[0m\n\u001b[1;32m    989\u001b[0m \u001b[0;34m\u001b[0m\u001b[0m\n\u001b[0;32m--> 990\u001b[0;31m       \u001b[0mfunc_outputs\u001b[0m \u001b[0;34m=\u001b[0m \u001b[0mpython_func\u001b[0m\u001b[0;34m(\u001b[0m\u001b[0;34m*\u001b[0m\u001b[0mfunc_args\u001b[0m\u001b[0;34m,\u001b[0m \u001b[0;34m**\u001b[0m\u001b[0mfunc_kwargs\u001b[0m\u001b[0;34m)\u001b[0m\u001b[0;34m\u001b[0m\u001b[0;34m\u001b[0m\u001b[0m\n\u001b[0m\u001b[1;32m    991\u001b[0m \u001b[0;34m\u001b[0m\u001b[0m\n\u001b[1;32m    992\u001b[0m       \u001b[0;31m# invariant: `func_outputs` contains only Tensors, CompositeTensors,\u001b[0m\u001b[0;34m\u001b[0m\u001b[0;34m\u001b[0m\u001b[0m\n",
      "\u001b[0;32m~/anaconda3/envs/tf_gpu/lib/python3.9/site-packages/tensorflow/python/eager/def_function.py\u001b[0m in \u001b[0;36mwrapped_fn\u001b[0;34m(*args, **kwds)\u001b[0m\n\u001b[1;32m    632\u001b[0m             \u001b[0mxla_context\u001b[0m\u001b[0;34m.\u001b[0m\u001b[0mExit\u001b[0m\u001b[0;34m(\u001b[0m\u001b[0;34m)\u001b[0m\u001b[0;34m\u001b[0m\u001b[0;34m\u001b[0m\u001b[0m\n\u001b[1;32m    633\u001b[0m         \u001b[0;32melse\u001b[0m\u001b[0;34m:\u001b[0m\u001b[0;34m\u001b[0m\u001b[0;34m\u001b[0m\u001b[0m\n\u001b[0;32m--> 634\u001b[0;31m           \u001b[0mout\u001b[0m \u001b[0;34m=\u001b[0m \u001b[0mweak_wrapped_fn\u001b[0m\u001b[0;34m(\u001b[0m\u001b[0;34m)\u001b[0m\u001b[0;34m.\u001b[0m\u001b[0m__wrapped__\u001b[0m\u001b[0;34m(\u001b[0m\u001b[0;34m*\u001b[0m\u001b[0margs\u001b[0m\u001b[0;34m,\u001b[0m \u001b[0;34m**\u001b[0m\u001b[0mkwds\u001b[0m\u001b[0;34m)\u001b[0m\u001b[0;34m\u001b[0m\u001b[0;34m\u001b[0m\u001b[0m\n\u001b[0m\u001b[1;32m    635\u001b[0m         \u001b[0;32mreturn\u001b[0m \u001b[0mout\u001b[0m\u001b[0;34m\u001b[0m\u001b[0;34m\u001b[0m\u001b[0m\n\u001b[1;32m    636\u001b[0m \u001b[0;34m\u001b[0m\u001b[0m\n",
      "\u001b[0;32m~/anaconda3/envs/tf_gpu/lib/python3.9/site-packages/tensorflow/python/framework/func_graph.py\u001b[0m in \u001b[0;36mwrapper\u001b[0;34m(*args, **kwargs)\u001b[0m\n\u001b[1;32m    975\u001b[0m           \u001b[0;32mexcept\u001b[0m \u001b[0mException\u001b[0m \u001b[0;32mas\u001b[0m \u001b[0me\u001b[0m\u001b[0;34m:\u001b[0m  \u001b[0;31m# pylint:disable=broad-except\u001b[0m\u001b[0;34m\u001b[0m\u001b[0;34m\u001b[0m\u001b[0m\n\u001b[1;32m    976\u001b[0m             \u001b[0;32mif\u001b[0m \u001b[0mhasattr\u001b[0m\u001b[0;34m(\u001b[0m\u001b[0me\u001b[0m\u001b[0;34m,\u001b[0m \u001b[0;34m\"ag_error_metadata\"\u001b[0m\u001b[0;34m)\u001b[0m\u001b[0;34m:\u001b[0m\u001b[0;34m\u001b[0m\u001b[0;34m\u001b[0m\u001b[0m\n\u001b[0;32m--> 977\u001b[0;31m               \u001b[0;32mraise\u001b[0m \u001b[0me\u001b[0m\u001b[0;34m.\u001b[0m\u001b[0mag_error_metadata\u001b[0m\u001b[0;34m.\u001b[0m\u001b[0mto_exception\u001b[0m\u001b[0;34m(\u001b[0m\u001b[0me\u001b[0m\u001b[0;34m)\u001b[0m\u001b[0;34m\u001b[0m\u001b[0;34m\u001b[0m\u001b[0m\n\u001b[0m\u001b[1;32m    978\u001b[0m             \u001b[0;32melse\u001b[0m\u001b[0;34m:\u001b[0m\u001b[0;34m\u001b[0m\u001b[0;34m\u001b[0m\u001b[0m\n\u001b[1;32m    979\u001b[0m               \u001b[0;32mraise\u001b[0m\u001b[0;34m\u001b[0m\u001b[0;34m\u001b[0m\u001b[0m\n",
      "\u001b[0;31mValueError\u001b[0m: in user code:\n\n    /home/kjetil/anaconda3/envs/tf_gpu/lib/python3.9/site-packages/tensorflow/python/keras/engine/training.py:805 train_function  *\n        return step_function(self, iterator)\n    /home/kjetil/anaconda3/envs/tf_gpu/lib/python3.9/site-packages/tensorflow/python/keras/engine/training.py:795 step_function  **\n        outputs = model.distribute_strategy.run(run_step, args=(data,))\n    /home/kjetil/anaconda3/envs/tf_gpu/lib/python3.9/site-packages/tensorflow/python/distribute/distribute_lib.py:1259 run\n        return self._extended.call_for_each_replica(fn, args=args, kwargs=kwargs)\n    /home/kjetil/anaconda3/envs/tf_gpu/lib/python3.9/site-packages/tensorflow/python/distribute/distribute_lib.py:2730 call_for_each_replica\n        return self._call_for_each_replica(fn, args, kwargs)\n    /home/kjetil/anaconda3/envs/tf_gpu/lib/python3.9/site-packages/tensorflow/python/distribute/distribute_lib.py:3417 _call_for_each_replica\n        return fn(*args, **kwargs)\n    /home/kjetil/anaconda3/envs/tf_gpu/lib/python3.9/site-packages/tensorflow/python/keras/engine/training.py:788 run_step  **\n        outputs = model.train_step(data)\n    /home/kjetil/anaconda3/envs/tf_gpu/lib/python3.9/site-packages/tensorflow/python/keras/engine/training.py:754 train_step\n        y_pred = self(x, training=True)\n    /home/kjetil/anaconda3/envs/tf_gpu/lib/python3.9/site-packages/tensorflow/python/keras/engine/base_layer.py:998 __call__\n        input_spec.assert_input_compatibility(self.input_spec, inputs, self.name)\n    /home/kjetil/anaconda3/envs/tf_gpu/lib/python3.9/site-packages/tensorflow/python/keras/engine/input_spec.py:204 assert_input_compatibility\n        raise ValueError('Layer ' + layer_name + ' expects ' +\n\n    ValueError: Layer model_8 expects 2 input(s), but it received 1 input tensors. Inputs received: [<tf.Tensor 'IteratorGetNext:0' shape=(2, 224, 224, 3) dtype=float32>]\n"
     ]
    }
   ],
   "source": [
    "best_weights_file=\"weights.best.hdf5\"\n",
    "checkpoint = ModelCheckpoint(best_weights_file, monitor='val_acc', verbose=1, save_best_only=True, mode='max')\n",
    "\n",
    "model.fit(train_dl, validation_data=val_dl, epochs=2, verbose=1)"
   ]
  },
  {
   "cell_type": "code",
   "execution_count": 124,
   "id": "9298f18a",
   "metadata": {},
   "outputs": [
    {
     "data": {
      "text/plain": [
       "tuple"
      ]
     },
     "execution_count": 124,
     "metadata": {},
     "output_type": "execute_result"
    }
   ],
   "source": [
    "samples = next(iter(train_dl))\n",
    "type(samples)"
   ]
  },
  {
   "cell_type": "code",
   "execution_count": 125,
   "id": "7d2f98c1",
   "metadata": {},
   "outputs": [
    {
     "data": {
      "text/plain": [
       "2"
      ]
     },
     "execution_count": 125,
     "metadata": {},
     "output_type": "execute_result"
    }
   ],
   "source": [
    "template, docked = samples\n",
    "len(template)"
   ]
  },
  {
   "cell_type": "code",
   "execution_count": 116,
   "id": "14647dd6",
   "metadata": {},
   "outputs": [],
   "source": [
    "preds = model([template, docked])"
   ]
  },
  {
   "cell_type": "code",
   "execution_count": 89,
   "id": "1405ea32",
   "metadata": {},
   "outputs": [
    {
     "ename": "NameError",
     "evalue": "name 'preds' is not defined",
     "output_type": "error",
     "traceback": [
      "\u001b[0;31m---------------------------------------------------------------------------\u001b[0m",
      "\u001b[0;31mNameError\u001b[0m                                 Traceback (most recent call last)",
      "\u001b[0;32m/tmp/ipykernel_9406/222146027.py\u001b[0m in \u001b[0;36m<module>\u001b[0;34m\u001b[0m\n\u001b[0;32m----> 1\u001b[0;31m \u001b[0mpreds\u001b[0m\u001b[0;34m\u001b[0m\u001b[0;34m\u001b[0m\u001b[0m\n\u001b[0m",
      "\u001b[0;31mNameError\u001b[0m: name 'preds' is not defined"
     ]
    }
   ],
   "source": [
    "preds"
   ]
  },
  {
   "cell_type": "code",
   "execution_count": null,
   "id": "a8cd5c13",
   "metadata": {},
   "outputs": [],
   "source": []
  },
  {
   "cell_type": "code",
   "execution_count": null,
   "id": "3a9b40e4",
   "metadata": {},
   "outputs": [],
   "source": []
  },
  {
   "cell_type": "code",
   "execution_count": null,
   "id": "c69e7214",
   "metadata": {},
   "outputs": [],
   "source": []
  },
  {
   "cell_type": "markdown",
   "id": "c1616071",
   "metadata": {},
   "source": [
    "### Choose optimizer and train model"
   ]
  },
  {
   "cell_type": "code",
   "execution_count": null,
   "id": "0a8a34d3",
   "metadata": {},
   "outputs": [],
   "source": [
    "siamese_model = SiameseModel(siamese_network)\n",
    "siamese_model.compile(optimizer=optimizers.Adam(0.0001), metrics=[metrics.RootMeanSquaredError(name='rmse')])"
   ]
  },
  {
   "cell_type": "code",
   "execution_count": null,
   "id": "feedff4e",
   "metadata": {},
   "outputs": [],
   "source": [
    "from tensorflow.python.client import device_lib\n",
    "#print(device_lib.list_local_devices())"
   ]
  },
  {
   "cell_type": "code",
   "execution_count": null,
   "id": "6bb3456d",
   "metadata": {
    "scrolled": true
   },
   "outputs": [],
   "source": [
    "model = siamese_model.fit(train_dl, validation_data=val_dl, epochs=5)"
   ]
  },
  {
   "cell_type": "code",
   "execution_count": null,
   "id": "33ef2988",
   "metadata": {},
   "outputs": [],
   "source": [
    "model = siamese_model.fit(train_dl, validation_data=val_dl, epochs=5)"
   ]
  },
  {
   "cell_type": "code",
   "execution_count": null,
   "id": "64375d38",
   "metadata": {
    "scrolled": true
   },
   "outputs": [],
   "source": [
    "plt.plot(model.history['loss'])\n",
    "plt.plot(model.history['val_loss'])\n",
    "plt.title('model loss')\n",
    "plt.ylabel('loss')\n",
    "plt.xlabel('epoch')\n",
    "plt.legend(['train', 'val'], loc='upper left')\n",
    "plt.show()"
   ]
  },
  {
   "cell_type": "code",
   "execution_count": null,
   "id": "384f2af1",
   "metadata": {},
   "outputs": [],
   "source": [
    "pd.DataFrame(model.history).plot(figsize=(8,5))\n",
    "print(\"Loss, validation loss and RMSE\")\n",
    "plt.show()"
   ]
  },
  {
   "cell_type": "markdown",
   "id": "67d0d071",
   "metadata": {},
   "source": [
    "### Previous results: \n",
    "### loss: 0.315 - val_loss: 0.219 - RMSE: 0.7255 for 1 epoch \n",
    "### loss: 0.115 - val_loss: 0.123 - RMSE: 0.678 for 5 epochs \n",
    "### loss: 0. - val_loss. 0. - RMSE:  for 10 epochs "
   ]
  },
  {
   "cell_type": "markdown",
   "id": "04d07625",
   "metadata": {},
   "source": [
    "## Inspecting what the network has learned"
   ]
  },
  {
   "cell_type": "code",
   "execution_count": null,
   "id": "ea551dd8",
   "metadata": {},
   "outputs": [],
   "source": [
    "sample = next(iter(val_dl))\n",
    "visualize2(*sample)\n",
    "\n",
    "anchor, positive, negative = sample\n",
    "anchor_embedding, positive_embedding, negative_embedding = (\n",
    "    embedding(resnet.preprocess_input(anchor)),\n",
    "    embedding(resnet.preprocess_input(positive)),\n",
    "    embedding(resnet.preprocess_input(negative)),\n",
    ")"
   ]
  },
  {
   "cell_type": "code",
   "execution_count": null,
   "id": "297293de",
   "metadata": {},
   "outputs": [],
   "source": [
    "cosine_similarity = metrics.CosineSimilarity()\n",
    "\n",
    "positive_similarity = cosine_similarity(anchor_embedding, positive_embedding)\n",
    "print(\"Positive similarity:\", positive_similarity.numpy())\n",
    "\n",
    "negative_similarity = cosine_similarity(anchor_embedding, negative_embedding)\n",
    "print(\"Negative similarity\", negative_similarity.numpy())\n"
   ]
  },
  {
   "cell_type": "code",
   "execution_count": null,
   "id": "731f6dd8",
   "metadata": {},
   "outputs": [],
   "source": [
    "from mpl_toolkits.mplot3d import Axes3D\n",
    "import os, sys, cv2, matplotlib.pyplot as plt, numpy as np, pickle\n",
    "#import sklearn, pandas as pd, seaborn as sn\n",
    "from tensorflow.keras.models import Model, load_model, Sequential\n",
    "from tensorflow.keras import backend as K\n",
    "from sklearn.metrics import confusion_matrix\n",
    "\n",
    "import warnings\n",
    "warnings.filterwarnings('ignore')\n",
    "\n",
    "# Load models\n",
    "#model = embedding\n",
    "siamese_model = siamese_model\n",
    "\n",
    "names = next(iter(val_dl))\n",
    "\n",
    "anchor, positive, negative = names\n",
    "anchor = tf.reshape(anchor[0], (1, 224, 224, 3))\n",
    "positive = tf.reshape(positive[0], (1, 224, 224, 3))\n",
    "negative = tf.reshape(negative[0], (1, 224, 224, 3))\n",
    "\n",
    "\n",
    "test_im = []\n",
    "test_im.append(anchor)\n",
    "test_im.append(positive)\n",
    "test_im.append(negative)\n",
    "\n",
    "print(test_im[0].shape)\n",
    "_, r,c,_ = test_im[0].shape\n",
    "print(test_im[0].shape)\n",
    "test_im = np.array(test_im)\n",
    "test_im = test_im.reshape((len(test_im), r,c,3))\n",
    "\n",
    "test_im = 1 - test_im/255\n",
    "\n",
    "# Predict\n",
    "pred = model.predict([anchor, positive, negative])\n",
    "\n",
    "print(pred)\n",
    "\n",
    "num = int(pred.shape[0]/3)\n",
    "colors = ['red', 'blue', 'green'] # set colors of target labels\n",
    "\n",
    "# Set target labels\n",
    "y = [colors[0] for i in range(num)]\n",
    "y += [colors[1] for i in range(num)]\n",
    "y += [colors[2] for i in range(num)]\n",
    "\n",
    "feat1 = pred[:,0]\n",
    "feat2 = pred[:,1]\n",
    "feat3 = pred[:,2]\n",
    "\n",
    "# Plot 3d scatter plot\n",
    "fig = plt.figure()\n",
    "ax = Axes3D(fig)\n",
    "ax.scatter(feat1, feat2, feat3, c=y, marker='.')\n",
    "plt.show()"
   ]
  },
  {
   "cell_type": "markdown",
   "id": "f54dcd02",
   "metadata": {},
   "source": [
    "# Parameter optimization "
   ]
  },
  {
   "cell_type": "markdown",
   "id": "38d37fef",
   "metadata": {},
   "source": [
    "## Adam vs SGD"
   ]
  },
  {
   "cell_type": "code",
   "execution_count": null,
   "id": "ffc59a15",
   "metadata": {},
   "outputs": [],
   "source": [
    "def create_embedding(dropout = None):\n",
    "    base_cnn = resnet.ResNet50(\n",
    "        weights=\"imagenet\", input_shape=target_shape +  (3,), include_top=False\n",
    "    )\n",
    "\n",
    "    flatten = layers.Flatten()(base_cnn.output)\n",
    "    dense1 = layers.Dense(512, activation=\"relu\")(flatten)\n",
    "    dense1 = layers.BatchNormalization()(dense1)\n",
    "    if dropout != None: \n",
    "        layer = layers.Dropout(dropout)\n",
    "    dense2 = layers.Dense(256, activation=\"relu\")(dense1)\n",
    "    dense2 = layers.BatchNormalization()(dense2)\n",
    "    output = layers.Dense(256)(dense2)\n",
    "\n",
    "    embedding = Model(base_cnn.input, output, name=\"Embedding\")\n",
    "\n",
    "    trainable = False\n",
    "    for layer in base_cnn.layers:\n",
    "        if layer.name == \"conv5_block1_out\":\n",
    "            trainable = True\n",
    "        layer.trainable = trainable\n",
    "    return embedding"
   ]
  },
  {
   "cell_type": "code",
   "execution_count": null,
   "id": "5854fc56",
   "metadata": {},
   "outputs": [],
   "source": [
    "def create_siamese_net(embedding):\n",
    "    anchor_input = layers.Input(name=\"anchor\", shape=target_shape + (3,))\n",
    "    positive_input = layers.Input(name=\"positive\", shape=target_shape + (3,))\n",
    "    negative_input = layers.Input(name=\"negative\", shape=target_shape + (3,))\n",
    "\n",
    "    distances = DistanceLayer()(\n",
    "        embedding(resnet.preprocess_input(anchor_input)),\n",
    "        embedding(resnet.preprocess_input(positive_input)),\n",
    "        embedding(resnet.preprocess_input(negative_input)),\n",
    "    )\n",
    "\n",
    "    siamese_network = Model(\n",
    "        inputs=[anchor_input, positive_input, negative_input], outputs=distances\n",
    "    )\n",
    "\n",
    "    return siamese_network"
   ]
  },
  {
   "cell_type": "code",
   "execution_count": null,
   "id": "93b685bd",
   "metadata": {},
   "outputs": [],
   "source": [
    "def train_model(epochs = 5, lr=0.0001, dropout=None, verbose=False):\n",
    "    embedding = create_embedding(dropout=dropout)\n",
    "    siamese_network = create_siamese_net(embedding)\n",
    "    siamese_model = SiameseModel(siamese_network)\n",
    "    siamese_model.compile(optimizer=optimizers.Adam(learning_rate=lr), metrics=[metrics.RootMeanSquaredError(name='rmse')])\n",
    "    model = siamese_model.fit(train_dl, validation_data=val_dl, epochs=epochs)\n",
    "    if verbose:\n",
    "        plt.plot(model.history['loss'])\n",
    "        plt.plot(model.history['val_loss'])\n",
    "        plt.title('model loss')\n",
    "        plt.ylabel('loss')\n",
    "        plt.xlabel('epoch')\n",
    "        plt.legend(['train', 'val'], loc='upper left')\n",
    "        plt.show()\n",
    "        plt.plot(model.history['val_rmse'])\n",
    "        plt.title('model RMSE')\n",
    "        plt.ylabel('RMSE')\n",
    "        plt.xlabel('epoch')\n",
    "        plt.legend(['rmse'], loc='upper left')\n",
    "        plt.show()\n",
    "    return siamese_model\n",
    "        \n",
    "    "
   ]
  },
  {
   "cell_type": "code",
   "execution_count": null,
   "id": "af656c0d",
   "metadata": {},
   "outputs": [],
   "source": [
    "dropout = [None, 0.2, 0.5]"
   ]
  },
  {
   "cell_type": "code",
   "execution_count": null,
   "id": "39a12837",
   "metadata": {},
   "outputs": [],
   "source": [
    "for d in dropout:\n",
    "    model = train_model(dropout=d)"
   ]
  },
  {
   "cell_type": "code",
   "execution_count": null,
   "id": "9e278dc5",
   "metadata": {},
   "outputs": [],
   "source": [
    "lrs = [0.0005, 0.0001, 0.00001]\n"
   ]
  },
  {
   "cell_type": "code",
   "execution_count": null,
   "id": "d20e1765",
   "metadata": {},
   "outputs": [],
   "source": [
    "for lr in lrs:\n",
    "    model = train_model(lr=lr, verbose = True)\n"
   ]
  },
  {
   "cell_type": "markdown",
   "id": "7e78d8f1",
   "metadata": {},
   "source": [
    "# Test the model performance on instances"
   ]
  },
  {
   "cell_type": "code",
   "execution_count": null,
   "id": "a7d760c2",
   "metadata": {},
   "outputs": [],
   "source": [
    "model = train_model(lr=0.0001, epochs = 10)"
   ]
  },
  {
   "cell_type": "code",
   "execution_count": null,
   "id": "4de90cfa",
   "metadata": {},
   "outputs": [],
   "source": [
    "from tensorflow.keras import models\n",
    "model.compute_output_shape(input_shape= [(None, 224, 224, 3), (None, 224, 224, 3), (None, 224, 224, 3)])                        "
   ]
  },
  {
   "cell_type": "code",
   "execution_count": null,
   "id": "027b3dd0",
   "metadata": {},
   "outputs": [],
   "source": [
    "model.save('models/siamese_model')"
   ]
  },
  {
   "cell_type": "code",
   "execution_count": null,
   "id": "c7d48154",
   "metadata": {},
   "outputs": [],
   "source": [
    "model = models.load_model('models/siamese_model')"
   ]
  },
  {
   "cell_type": "code",
   "execution_count": null,
   "id": "59d0ff31",
   "metadata": {},
   "outputs": [],
   "source": [
    "sample = next(iter(val_dl))"
   ]
  },
  {
   "cell_type": "code",
   "execution_count": null,
   "id": "adedcf86",
   "metadata": {},
   "outputs": [],
   "source": [
    "docked_sample = valid.iloc[0]\n",
    "docked_sample.docked"
   ]
  },
  {
   "cell_type": "code",
   "execution_count": null,
   "id": "22c17baf",
   "metadata": {},
   "outputs": [],
   "source": [
    "docked_image = preprocess_image(docked_sample.img_docked)"
   ]
  },
  {
   "cell_type": "code",
   "execution_count": null,
   "id": "48701528",
   "metadata": {},
   "outputs": [],
   "source": []
  },
  {
   "cell_type": "code",
   "execution_count": null,
   "id": "28036b0a",
   "metadata": {
    "scrolled": true
   },
   "outputs": [],
   "source": [
    "templates = valid[valid.docked == docked_sample.docked]\n",
    "templates = templates.reset_index()\n",
    "templates = templates.sort_values(by=['rmsd'], ignore_index=True)\n",
    "templates"
   ]
  },
  {
   "cell_type": "code",
   "execution_count": null,
   "id": "44059c9b",
   "metadata": {},
   "outputs": [],
   "source": [
    "template_image = preprocess_image(templates.iloc[0].img_temp)"
   ]
  },
  {
   "cell_type": "code",
   "execution_count": null,
   "id": "3b922d75",
   "metadata": {},
   "outputs": [],
   "source": [
    "plt.imshow(docked_image)"
   ]
  },
  {
   "cell_type": "code",
   "execution_count": null,
   "id": "47728910",
   "metadata": {},
   "outputs": [],
   "source": [
    "plt.imshow(template_image)"
   ]
  },
  {
   "cell_type": "code",
   "execution_count": null,
   "id": "5850063a",
   "metadata": {},
   "outputs": [],
   "source": [
    "rmse = metrics.CosineSimilarity()"
   ]
  },
  {
   "cell_type": "code",
   "execution_count": null,
   "id": "f01be193",
   "metadata": {},
   "outputs": [],
   "source": [
    "template_image = tf.reshape(template_image, (1,224,224,3))"
   ]
  },
  {
   "cell_type": "code",
   "execution_count": null,
   "id": "27861049",
   "metadata": {},
   "outputs": [],
   "source": [
    "docked_image = tf.reshape(docked_image, (1,224,224,3))"
   ]
  },
  {
   "cell_type": "code",
   "execution_count": null,
   "id": "60477de6",
   "metadata": {},
   "outputs": [],
   "source": [
    "template_embedding, docked_embedding = (\n",
    "    embedding(resnet.preprocess_input(template_image)),\n",
    "    embedding(resnet.preprocess_input(docked_image)),\n",
    ")"
   ]
  },
  {
   "cell_type": "code",
   "execution_count": null,
   "id": "23799323",
   "metadata": {},
   "outputs": [],
   "source": [
    "rmse_positive = rmse(template_embedding, docked_embedding)\n",
    "rmse_positive.numpy(), templates.iloc[0].log_RMSD"
   ]
  },
  {
   "cell_type": "code",
   "execution_count": null,
   "id": "97722935",
   "metadata": {},
   "outputs": [],
   "source": [
    "type(rmse_positive.numpy())"
   ]
  },
  {
   "cell_type": "code",
   "execution_count": null,
   "id": "05328a63",
   "metadata": {},
   "outputs": [],
   "source": [
    "def get_rmse(row):\n",
    "    docked_image = preprocess_image(row.img_docked)\n",
    "    template_image = preprocess_image(row.img_temp)\n",
    "    template_image = tf.reshape(template_image, (1,224,224,3))\n",
    "    docked_image = tf.reshape(docked_image, (1,224,224,3))\n",
    "    template_embedding, docked_embedding = (\n",
    "        embedding(resnet.preprocess_input(template_image)),\n",
    "        embedding(resnet.preprocess_input(docked_image)),\n",
    "    )\n",
    "    rmse_positive = rmse(template_embedding, docked_embedding)\n",
    "    return rmse_positive.numpy()"
   ]
  },
  {
   "cell_type": "code",
   "execution_count": null,
   "id": "86465a8e",
   "metadata": {},
   "outputs": [],
   "source": [
    "rmses = {}\n",
    "for i, r in templates.iterrows(): \n",
    "    rm = get_rmse(r)\n",
    "    rmses[i] = rm\n",
    "rmses"
   ]
  },
  {
   "cell_type": "code",
   "execution_count": null,
   "id": "4b9d35a8",
   "metadata": {},
   "outputs": [],
   "source": [
    "rmses_sorted = sorted(rmses, key=rmses.get)\n",
    "rmses_sorted"
   ]
  },
  {
   "cell_type": "code",
   "execution_count": null,
   "id": "d6ef6c31",
   "metadata": {},
   "outputs": [],
   "source": [
    "rmses.index(min(rmses))"
   ]
  },
  {
   "cell_type": "code",
   "execution_count": null,
   "id": "49b58309",
   "metadata": {},
   "outputs": [],
   "source": [
    "templates.iloc[4].template"
   ]
  },
  {
   "cell_type": "code",
   "execution_count": null,
   "id": "3690906c",
   "metadata": {},
   "outputs": [],
   "source": [
    "for i, r in templates.iterrows():\n",
    "    print(r)"
   ]
  },
  {
   "cell_type": "code",
   "execution_count": null,
   "id": "21b5bf93",
   "metadata": {},
   "outputs": [],
   "source": []
  }
 ],
 "metadata": {
  "kernelspec": {
   "display_name": "Python 3 (ipykernel)",
   "language": "python",
   "name": "python3"
  },
  "language_info": {
   "codemirror_mode": {
    "name": "ipython",
    "version": 3
   },
   "file_extension": ".py",
   "mimetype": "text/x-python",
   "name": "python",
   "nbconvert_exporter": "python",
   "pygments_lexer": "ipython3",
   "version": "3.9.7"
  },
  "toc-autonumbering": false,
  "toc-showcode": true,
  "toc-showmarkdowntxt": true
 },
 "nbformat": 4,
 "nbformat_minor": 5
}
