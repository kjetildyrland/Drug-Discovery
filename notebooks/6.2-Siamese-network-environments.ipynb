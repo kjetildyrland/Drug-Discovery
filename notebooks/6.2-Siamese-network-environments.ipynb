{
 "cells": [
  {
   "cell_type": "markdown",
   "id": "02376db5",
   "metadata": {},
   "source": [
    "# Siamese Network on template ligand-docking dataset"
   ]
  },
  {
   "cell_type": "code",
   "execution_count": 1,
   "id": "7ff5d5e3",
   "metadata": {
    "scrolled": true
   },
   "outputs": [
    {
     "name": "stdout",
     "output_type": "stream",
     "text": [
      "Thu Feb 24 14:17:30 2022       \r\n",
      "+-----------------------------------------------------------------------------+\r\n",
      "| NVIDIA-SMI 470.103.01   Driver Version: 470.103.01   CUDA Version: 11.4     |\r\n",
      "|-------------------------------+----------------------+----------------------+\r\n",
      "| GPU  Name        Persistence-M| Bus-Id        Disp.A | Volatile Uncorr. ECC |\r\n",
      "| Fan  Temp  Perf  Pwr:Usage/Cap|         Memory-Usage | GPU-Util  Compute M. |\r\n",
      "|                               |                      |               MIG M. |\r\n",
      "|===============================+======================+======================|\r\n",
      "|   0  NVIDIA GeForce ...  Off  | 00000000:01:00.0  On |                  N/A |\r\n",
      "|  0%   58C    P2    54W / 240W |    694MiB /  8116MiB |      0%      Default |\r\n",
      "|                               |                      |                  N/A |\r\n",
      "+-------------------------------+----------------------+----------------------+\r\n",
      "                                                                               \r\n",
      "+-----------------------------------------------------------------------------+\r\n",
      "| Processes:                                                                  |\r\n",
      "|  GPU   GI   CI        PID   Type   Process name                  GPU Memory |\r\n",
      "|        ID   ID                                                   Usage      |\r\n",
      "|=============================================================================|\r\n",
      "|    0   N/A  N/A      1009      G   /usr/lib/xorg/Xorg                256MiB |\r\n",
      "|    0   N/A  N/A      1314      G   /usr/bin/gnome-shell               50MiB |\r\n",
      "|    0   N/A  N/A      3413      G   /usr/lib/firefox/firefox          132MiB |\r\n",
      "|    0   N/A  N/A     15134      C   ...a3/envs/tf_gpu/bin/python      247MiB |\r\n",
      "+-----------------------------------------------------------------------------+\r\n"
     ]
    }
   ],
   "source": [
    "!nvidia-smi"
   ]
  },
  {
   "cell_type": "code",
   "execution_count": 2,
   "id": "986e40bd",
   "metadata": {},
   "outputs": [],
   "source": [
    "#%%capture\n",
    "#!wget -c https://repo.continuum.io/miniconda/Miniconda3-latest-Linux-x86_64.sh\n",
    "#!chmod +x Miniconda3-latest-Linux-x86_64.sh\n",
    "#!time bash ./Miniconda3-latest-Linux-x86_64.sh -b -f -p /usr/local\n",
    "#!time conda install -q -y -c conda-forge rdkit"
   ]
  },
  {
   "cell_type": "code",
   "execution_count": 3,
   "id": "bb5752c9",
   "metadata": {},
   "outputs": [],
   "source": [
    "import os\n",
    "os.environ['TF_CPP_MIN_LOG_LEVEL'] = '2'"
   ]
  },
  {
   "cell_type": "code",
   "execution_count": 4,
   "id": "fe052ee5",
   "metadata": {},
   "outputs": [],
   "source": [
    "# Import\n",
    "import pandas as pd\n",
    "import numpy as np\n",
    "from pathlib import Path"
   ]
  },
  {
   "cell_type": "code",
   "execution_count": 5,
   "id": "c51e1815",
   "metadata": {},
   "outputs": [],
   "source": [
    "%matplotlib inline\n",
    "import matplotlib.pyplot as plt\n",
    "import matplotlib.image as mpimg\n",
    "import sys\n",
    "import os\n",
    "sys.path.append('/usr/local/lib/python3.7/site-packages/')"
   ]
  },
  {
   "cell_type": "code",
   "execution_count": 6,
   "id": "8112b927",
   "metadata": {},
   "outputs": [],
   "source": [
    "dataset = 'oldsmiledata_id_processed_transformed_shuffled'"
   ]
  },
  {
   "cell_type": "code",
   "execution_count": 7,
   "id": "327fcae1",
   "metadata": {},
   "outputs": [],
   "source": [
    "path = Path('../dataset/oldsmiledata')"
   ]
  },
  {
   "cell_type": "code",
   "execution_count": 8,
   "id": "59ad0e49",
   "metadata": {},
   "outputs": [
    {
     "data": {
      "text/plain": [
       "[PosixPath('../dataset/oldsmiledata/test_oldsmiledata_id_processed_transformed_shuffled.csv'),\n",
       " PosixPath('../dataset/oldsmiledata/train_balanced_oldsmiledata_id_processed_transformed_shuffled.csv'),\n",
       " PosixPath('../dataset/oldsmiledata/oldsmiledata_id_processed_transformed_rescaled_shuffled.csv'),\n",
       " PosixPath('../dataset/oldsmiledata/.ipynb_checkpoints'),\n",
       " PosixPath('../dataset/oldsmiledata/mol_images'),\n",
       " PosixPath('../dataset/oldsmiledata/valid_balanced_oldsmiledata_id_processed_transformed_shuffled.csv'),\n",
       " PosixPath('../dataset/oldsmiledata/train_oldsmiledata_id_processed_transformed_shuffled.csv')]"
      ]
     },
     "execution_count": 8,
     "metadata": {},
     "output_type": "execute_result"
    }
   ],
   "source": [
    "list(path.iterdir())"
   ]
  },
  {
   "cell_type": "code",
   "execution_count": 9,
   "id": "5ab97516",
   "metadata": {},
   "outputs": [],
   "source": [
    "#IMAGES = path/'mol_images'/'all'\n",
    "train = pd.read_csv(path/f'train_balanced_{dataset}.csv', index_col=0)\n",
    "valid = pd.read_csv(path/f'valid_balanced_{dataset}.csv', index_col=0)"
   ]
  },
  {
   "cell_type": "code",
   "execution_count": 10,
   "id": "e5545dfb",
   "metadata": {
    "scrolled": true
   },
   "outputs": [
    {
     "name": "stdout",
     "output_type": "stream",
     "text": [
      "<class 'pandas.core.frame.DataFrame'>\n",
      "Int64Index: 19625 entries, 0 to 19624\n",
      "Data columns (total 42 columns):\n",
      " #   Column                          Non-Null Count  Dtype  \n",
      "---  ------                          --------------  -----  \n",
      " 0   template                        19625 non-null  object \n",
      " 1   docked                          19625 non-null  object \n",
      " 2   rmsd                            19625 non-null  float64\n",
      " 3   uniprot_id                      19625 non-null  object \n",
      " 4   smiles_template                 19625 non-null  object \n",
      " 5   smiles_docked                   19625 non-null  object \n",
      " 6   mcs_smartsString                19625 non-null  object \n",
      " 7   template_HeavyAtomCount         19625 non-null  int64  \n",
      " 8   template_NHOHCount              19625 non-null  int64  \n",
      " 9   template_NOCount                19625 non-null  int64  \n",
      " 10  template_RingCount              19625 non-null  int64  \n",
      " 11  template_NumHAcceptors          19625 non-null  int64  \n",
      " 12  template_NumHDonors             19625 non-null  int64  \n",
      " 13  template_NumHeteroAtoms         19625 non-null  int64  \n",
      " 14  template_NumRotatableBonds      19625 non-null  int64  \n",
      " 15  docked_HeavyAtomCount           19625 non-null  int64  \n",
      " 16  docked_NHOHCount                19625 non-null  int64  \n",
      " 17  docked_NOCount                  19625 non-null  int64  \n",
      " 18  docked_RingCount                19625 non-null  int64  \n",
      " 19  docked_NumHAcceptors            19625 non-null  int64  \n",
      " 20  docked_NumHDonors               19625 non-null  int64  \n",
      " 21  docked_NumHeteroAtoms           19625 non-null  int64  \n",
      " 22  docked_NumRotatableBonds        19625 non-null  int64  \n",
      " 23  mcs_HeavyAtomCount              19625 non-null  int64  \n",
      " 24  mcs_NOCount                     19625 non-null  int64  \n",
      " 25  mcs_RingCount                   19625 non-null  int64  \n",
      " 26  mcs_NumHeteroAtoms              19625 non-null  int64  \n",
      " 27  mcs_template_NHOHCount          19625 non-null  int64  \n",
      " 28  mcs_docked_NHOHCount            19625 non-null  int64  \n",
      " 29  mcs_template_NumHAcceptors      19625 non-null  int64  \n",
      " 30  mcs_docked_NumHAcceptors        19625 non-null  int64  \n",
      " 31  mcs_template_NumHDonors         19625 non-null  int64  \n",
      " 32  mcs_docked_NumHDonors           19625 non-null  int64  \n",
      " 33  mcs_template_NumRotatableBonds  19625 non-null  int64  \n",
      " 34  mcs_docked_NumRotatableBonds    19625 non-null  int64  \n",
      " 35  ec_tanimoto_similarity          19625 non-null  float64\n",
      " 36  fc_tanimoto_similarity          19625 non-null  float64\n",
      " 37  log_RMSD                        19625 non-null  float64\n",
      " 38  bin_RMSD                        19625 non-null  int64  \n",
      " 39  Xtransf_ec_tanimoto_similarity  19625 non-null  float64\n",
      " 40  Xtransf_fc_tanimoto_similarity  19625 non-null  float64\n",
      " 41  is_valid                        19625 non-null  bool   \n",
      "dtypes: bool(1), float64(6), int64(29), object(6)\n",
      "memory usage: 6.3+ MB\n"
     ]
    }
   ],
   "source": [
    "train.info()"
   ]
  },
  {
   "cell_type": "code",
   "execution_count": 11,
   "id": "cae241bb",
   "metadata": {
    "scrolled": true
   },
   "outputs": [
    {
     "name": "stdout",
     "output_type": "stream",
     "text": [
      "<class 'pandas.core.frame.DataFrame'>\n",
      "Int64Index: 5323 entries, 0 to 5322\n",
      "Data columns (total 42 columns):\n",
      " #   Column                          Non-Null Count  Dtype  \n",
      "---  ------                          --------------  -----  \n",
      " 0   template                        5323 non-null   object \n",
      " 1   docked                          5323 non-null   object \n",
      " 2   rmsd                            5323 non-null   float64\n",
      " 3   uniprot_id                      5323 non-null   object \n",
      " 4   smiles_template                 5323 non-null   object \n",
      " 5   smiles_docked                   5323 non-null   object \n",
      " 6   mcs_smartsString                5323 non-null   object \n",
      " 7   template_HeavyAtomCount         5323 non-null   int64  \n",
      " 8   template_NHOHCount              5323 non-null   int64  \n",
      " 9   template_NOCount                5323 non-null   int64  \n",
      " 10  template_RingCount              5323 non-null   int64  \n",
      " 11  template_NumHAcceptors          5323 non-null   int64  \n",
      " 12  template_NumHDonors             5323 non-null   int64  \n",
      " 13  template_NumHeteroAtoms         5323 non-null   int64  \n",
      " 14  template_NumRotatableBonds      5323 non-null   int64  \n",
      " 15  docked_HeavyAtomCount           5323 non-null   int64  \n",
      " 16  docked_NHOHCount                5323 non-null   int64  \n",
      " 17  docked_NOCount                  5323 non-null   int64  \n",
      " 18  docked_RingCount                5323 non-null   int64  \n",
      " 19  docked_NumHAcceptors            5323 non-null   int64  \n",
      " 20  docked_NumHDonors               5323 non-null   int64  \n",
      " 21  docked_NumHeteroAtoms           5323 non-null   int64  \n",
      " 22  docked_NumRotatableBonds        5323 non-null   int64  \n",
      " 23  mcs_HeavyAtomCount              5323 non-null   int64  \n",
      " 24  mcs_NOCount                     5323 non-null   int64  \n",
      " 25  mcs_RingCount                   5323 non-null   int64  \n",
      " 26  mcs_NumHeteroAtoms              5323 non-null   int64  \n",
      " 27  mcs_template_NHOHCount          5323 non-null   int64  \n",
      " 28  mcs_docked_NHOHCount            5323 non-null   int64  \n",
      " 29  mcs_template_NumHAcceptors      5323 non-null   int64  \n",
      " 30  mcs_docked_NumHAcceptors        5323 non-null   int64  \n",
      " 31  mcs_template_NumHDonors         5323 non-null   int64  \n",
      " 32  mcs_docked_NumHDonors           5323 non-null   int64  \n",
      " 33  mcs_template_NumRotatableBonds  5323 non-null   int64  \n",
      " 34  mcs_docked_NumRotatableBonds    5323 non-null   int64  \n",
      " 35  ec_tanimoto_similarity          5323 non-null   float64\n",
      " 36  fc_tanimoto_similarity          5323 non-null   float64\n",
      " 37  log_RMSD                        5323 non-null   float64\n",
      " 38  bin_RMSD                        5323 non-null   int64  \n",
      " 39  Xtransf_ec_tanimoto_similarity  5323 non-null   float64\n",
      " 40  Xtransf_fc_tanimoto_similarity  5323 non-null   float64\n",
      " 41  is_valid                        5323 non-null   bool   \n",
      "dtypes: bool(1), float64(6), int64(29), object(6)\n",
      "memory usage: 1.7+ MB\n"
     ]
    }
   ],
   "source": [
    "valid.info()"
   ]
  },
  {
   "cell_type": "code",
   "execution_count": 12,
   "id": "fb7fc361",
   "metadata": {},
   "outputs": [
    {
     "data": {
      "text/html": [
       "<div>\n",
       "<style scoped>\n",
       "    .dataframe tbody tr th:only-of-type {\n",
       "        vertical-align: middle;\n",
       "    }\n",
       "\n",
       "    .dataframe tbody tr th {\n",
       "        vertical-align: top;\n",
       "    }\n",
       "\n",
       "    .dataframe thead th {\n",
       "        text-align: right;\n",
       "    }\n",
       "</style>\n",
       "<table border=\"1\" class=\"dataframe\">\n",
       "  <thead>\n",
       "    <tr style=\"text-align: right;\">\n",
       "      <th></th>\n",
       "      <th>template</th>\n",
       "      <th>docked</th>\n",
       "      <th>rmsd</th>\n",
       "      <th>uniprot_id</th>\n",
       "      <th>smiles_template</th>\n",
       "      <th>smiles_docked</th>\n",
       "      <th>mcs_smartsString</th>\n",
       "      <th>template_HeavyAtomCount</th>\n",
       "      <th>template_NHOHCount</th>\n",
       "      <th>template_NOCount</th>\n",
       "      <th>...</th>\n",
       "      <th>mcs_docked_NumHDonors</th>\n",
       "      <th>mcs_template_NumRotatableBonds</th>\n",
       "      <th>mcs_docked_NumRotatableBonds</th>\n",
       "      <th>ec_tanimoto_similarity</th>\n",
       "      <th>fc_tanimoto_similarity</th>\n",
       "      <th>log_RMSD</th>\n",
       "      <th>bin_RMSD</th>\n",
       "      <th>Xtransf_ec_tanimoto_similarity</th>\n",
       "      <th>Xtransf_fc_tanimoto_similarity</th>\n",
       "      <th>is_valid</th>\n",
       "    </tr>\n",
       "  </thead>\n",
       "  <tbody>\n",
       "    <tr>\n",
       "      <th>0</th>\n",
       "      <td>2JH5_895</td>\n",
       "      <td>1C5O_BAM</td>\n",
       "      <td>3.209</td>\n",
       "      <td>P00734</td>\n",
       "      <td>C[C@@H](C(=O)N1CCOCC1)N1CC[C@H](NS(=O)(=O)/C=C...</td>\n",
       "      <td>NC(=[NH2+])c1ccccc1</td>\n",
       "      <td>[#7]-[#6]-[#6]:,-[#6]:,-[#6]</td>\n",
       "      <td>28</td>\n",
       "      <td>1</td>\n",
       "      <td>8</td>\n",
       "      <td>...</td>\n",
       "      <td>1</td>\n",
       "      <td>0</td>\n",
       "      <td>1</td>\n",
       "      <td>0.050847</td>\n",
       "      <td>0.059829</td>\n",
       "      <td>1.165959</td>\n",
       "      <td>3</td>\n",
       "      <td>-1.491525</td>\n",
       "      <td>-2.401709</td>\n",
       "      <td>False</td>\n",
       "    </tr>\n",
       "    <tr>\n",
       "      <th>1</th>\n",
       "      <td>5Y12_8JX</td>\n",
       "      <td>1TOW_CRZ</td>\n",
       "      <td>1.769</td>\n",
       "      <td>P15090</td>\n",
       "      <td>COc1ccc(S(=O)(=O)NCCCCC(=O)O)c2ccccc12</td>\n",
       "      <td>O=C(O)CCCn1c2ccccc2c2ccccc21</td>\n",
       "      <td>[#6]1:[#6]:[#6]:[#6]:[#6]:[#6]:1:[#6]:[#6]:[#6...</td>\n",
       "      <td>23</td>\n",
       "      <td>2</td>\n",
       "      <td>6</td>\n",
       "      <td>...</td>\n",
       "      <td>0</td>\n",
       "      <td>0</td>\n",
       "      <td>0</td>\n",
       "      <td>0.324561</td>\n",
       "      <td>0.324561</td>\n",
       "      <td>0.570414</td>\n",
       "      <td>1</td>\n",
       "      <td>1.245614</td>\n",
       "      <td>0.245614</td>\n",
       "      <td>False</td>\n",
       "    </tr>\n",
       "    <tr>\n",
       "      <th>2</th>\n",
       "      <td>2W26_RIV</td>\n",
       "      <td>2Y80_439</td>\n",
       "      <td>7.217</td>\n",
       "      <td>P00742</td>\n",
       "      <td>O=C(NC[C@H]1CN(c2ccc(N3CCOCC3=O)cc2)C(=O)O1)c1...</td>\n",
       "      <td>CN(C)[C@@H]1CCc2cc(N3CC[C@H](NS(=O)(=O)c4ccc5c...</td>\n",
       "      <td>[#7]-[#6]-[#6]-[#6]-[#7](-[#6]1:[#6]:[#6]:[#6]...</td>\n",
       "      <td>29</td>\n",
       "      <td>1</td>\n",
       "      <td>8</td>\n",
       "      <td>...</td>\n",
       "      <td>1</td>\n",
       "      <td>3</td>\n",
       "      <td>2</td>\n",
       "      <td>0.187166</td>\n",
       "      <td>0.283237</td>\n",
       "      <td>1.976439</td>\n",
       "      <td>3</td>\n",
       "      <td>-0.128342</td>\n",
       "      <td>-0.167630</td>\n",
       "      <td>False</td>\n",
       "    </tr>\n",
       "    <tr>\n",
       "      <th>3</th>\n",
       "      <td>1C1U_BAI</td>\n",
       "      <td>2C8W_C7M</td>\n",
       "      <td>4.928</td>\n",
       "      <td>P00734</td>\n",
       "      <td>N=C(N)c1ccc2[nH]c(Cc3nc4ccccc4[nH]3)nc2c1</td>\n",
       "      <td>COc1ccc(S(=O)(=O)NC[C@@H](O)[C@H](Cc2ccccc2)[N...</td>\n",
       "      <td>[#6]-,:[#6]:[#6]:[#6]:[#6](:,-[#7]:,-[#6]):[#6...</td>\n",
       "      <td>22</td>\n",
       "      <td>5</td>\n",
       "      <td>6</td>\n",
       "      <td>...</td>\n",
       "      <td>0</td>\n",
       "      <td>1</td>\n",
       "      <td>2</td>\n",
       "      <td>0.139037</td>\n",
       "      <td>0.157609</td>\n",
       "      <td>1.594933</td>\n",
       "      <td>3</td>\n",
       "      <td>-0.609626</td>\n",
       "      <td>-1.423913</td>\n",
       "      <td>False</td>\n",
       "    </tr>\n",
       "    <tr>\n",
       "      <th>4</th>\n",
       "      <td>5AFY_WCE</td>\n",
       "      <td>3SV2_P05</td>\n",
       "      <td>7.608</td>\n",
       "      <td>P00734</td>\n",
       "      <td>NC(=O)c1cccc(Cl)c1</td>\n",
       "      <td>N[C@H](Cc1ccccc1)C(=O)N1CCC[C@H]1C(=O)NCc1ccncc1</td>\n",
       "      <td>[#7]-[#6](=[#8])-[#6]:,-[#6]:,-[#6]:[#6]:[#6]:...</td>\n",
       "      <td>10</td>\n",
       "      <td>2</td>\n",
       "      <td>2</td>\n",
       "      <td>...</td>\n",
       "      <td>0</td>\n",
       "      <td>1</td>\n",
       "      <td>4</td>\n",
       "      <td>0.116071</td>\n",
       "      <td>0.157407</td>\n",
       "      <td>2.029200</td>\n",
       "      <td>3</td>\n",
       "      <td>-0.839286</td>\n",
       "      <td>-1.425926</td>\n",
       "      <td>False</td>\n",
       "    </tr>\n",
       "  </tbody>\n",
       "</table>\n",
       "<p>5 rows × 42 columns</p>\n",
       "</div>"
      ],
      "text/plain": [
       "   template    docked   rmsd uniprot_id  \\\n",
       "0  2JH5_895  1C5O_BAM  3.209     P00734   \n",
       "1  5Y12_8JX  1TOW_CRZ  1.769     P15090   \n",
       "2  2W26_RIV  2Y80_439  7.217     P00742   \n",
       "3  1C1U_BAI  2C8W_C7M  4.928     P00734   \n",
       "4  5AFY_WCE  3SV2_P05  7.608     P00734   \n",
       "\n",
       "                                     smiles_template  \\\n",
       "0  C[C@@H](C(=O)N1CCOCC1)N1CC[C@H](NS(=O)(=O)/C=C...   \n",
       "1             COc1ccc(S(=O)(=O)NCCCCC(=O)O)c2ccccc12   \n",
       "2  O=C(NC[C@H]1CN(c2ccc(N3CCOCC3=O)cc2)C(=O)O1)c1...   \n",
       "3          N=C(N)c1ccc2[nH]c(Cc3nc4ccccc4[nH]3)nc2c1   \n",
       "4                                 NC(=O)c1cccc(Cl)c1   \n",
       "\n",
       "                                       smiles_docked  \\\n",
       "0                                NC(=[NH2+])c1ccccc1   \n",
       "1                       O=C(O)CCCn1c2ccccc2c2ccccc21   \n",
       "2  CN(C)[C@@H]1CCc2cc(N3CC[C@H](NS(=O)(=O)c4ccc5c...   \n",
       "3  COc1ccc(S(=O)(=O)NC[C@@H](O)[C@H](Cc2ccccc2)[N...   \n",
       "4   N[C@H](Cc1ccccc1)C(=O)N1CCC[C@H]1C(=O)NCc1ccncc1   \n",
       "\n",
       "                                    mcs_smartsString  template_HeavyAtomCount  \\\n",
       "0                       [#7]-[#6]-[#6]:,-[#6]:,-[#6]                       28   \n",
       "1  [#6]1:[#6]:[#6]:[#6]:[#6]:[#6]:1:[#6]:[#6]:[#6...                       23   \n",
       "2  [#7]-[#6]-[#6]-[#6]-[#7](-[#6]1:[#6]:[#6]:[#6]...                       29   \n",
       "3  [#6]-,:[#6]:[#6]:[#6]:[#6](:,-[#7]:,-[#6]):[#6...                       22   \n",
       "4  [#7]-[#6](=[#8])-[#6]:,-[#6]:,-[#6]:[#6]:[#6]:...                       10   \n",
       "\n",
       "   template_NHOHCount  template_NOCount  ...  mcs_docked_NumHDonors  \\\n",
       "0                   1                 8  ...                      1   \n",
       "1                   2                 6  ...                      0   \n",
       "2                   1                 8  ...                      1   \n",
       "3                   5                 6  ...                      0   \n",
       "4                   2                 2  ...                      0   \n",
       "\n",
       "   mcs_template_NumRotatableBonds  mcs_docked_NumRotatableBonds  \\\n",
       "0                               0                             1   \n",
       "1                               0                             0   \n",
       "2                               3                             2   \n",
       "3                               1                             2   \n",
       "4                               1                             4   \n",
       "\n",
       "   ec_tanimoto_similarity  fc_tanimoto_similarity  log_RMSD  bin_RMSD  \\\n",
       "0                0.050847                0.059829  1.165959         3   \n",
       "1                0.324561                0.324561  0.570414         1   \n",
       "2                0.187166                0.283237  1.976439         3   \n",
       "3                0.139037                0.157609  1.594933         3   \n",
       "4                0.116071                0.157407  2.029200         3   \n",
       "\n",
       "   Xtransf_ec_tanimoto_similarity  Xtransf_fc_tanimoto_similarity  is_valid  \n",
       "0                       -1.491525                       -2.401709     False  \n",
       "1                        1.245614                        0.245614     False  \n",
       "2                       -0.128342                       -0.167630     False  \n",
       "3                       -0.609626                       -1.423913     False  \n",
       "4                       -0.839286                       -1.425926     False  \n",
       "\n",
       "[5 rows x 42 columns]"
      ]
     },
     "execution_count": 12,
     "metadata": {},
     "output_type": "execute_result"
    }
   ],
   "source": [
    "train.head()"
   ]
  },
  {
   "cell_type": "markdown",
   "id": "4f59daa4",
   "metadata": {},
   "source": [
    "# Preprocessing"
   ]
  },
  {
   "cell_type": "code",
   "execution_count": 13,
   "id": "809b5437",
   "metadata": {},
   "outputs": [],
   "source": [
    "import matplotlib.pyplot as plt\n",
    "import numpy as np\n",
    "import os\n",
    "import random\n",
    "import tensorflow as tf\n",
    "from pathlib import Path\n",
    "from tensorflow.keras import applications\n",
    "from tensorflow.keras import layers\n",
    "from tensorflow.keras import losses\n",
    "from tensorflow.keras import optimizers\n",
    "from tensorflow.keras import metrics\n",
    "from tensorflow.keras import Model\n",
    "from tensorflow.keras.applications import resnet"
   ]
  },
  {
   "cell_type": "markdown",
   "id": "664cc219",
   "metadata": {},
   "source": [
    "### Splitting the data into train and validation sets"
   ]
  },
  {
   "cell_type": "code",
   "execution_count": 14,
   "id": "59928f03",
   "metadata": {
    "scrolled": true
   },
   "outputs": [
    {
     "name": "stdout",
     "output_type": "stream",
     "text": [
      "<class 'pandas.core.frame.DataFrame'>\n",
      "Int64Index: 19625 entries, 0 to 19624\n",
      "Data columns (total 44 columns):\n",
      " #   Column                          Non-Null Count  Dtype  \n",
      "---  ------                          --------------  -----  \n",
      " 0   template                        19625 non-null  object \n",
      " 1   docked                          19625 non-null  object \n",
      " 2   rmsd                            19625 non-null  float64\n",
      " 3   uniprot_id                      19625 non-null  object \n",
      " 4   smiles_template                 19625 non-null  object \n",
      " 5   smiles_docked                   19625 non-null  object \n",
      " 6   mcs_smartsString                19625 non-null  object \n",
      " 7   template_HeavyAtomCount         19625 non-null  int64  \n",
      " 8   template_NHOHCount              19625 non-null  int64  \n",
      " 9   template_NOCount                19625 non-null  int64  \n",
      " 10  template_RingCount              19625 non-null  int64  \n",
      " 11  template_NumHAcceptors          19625 non-null  int64  \n",
      " 12  template_NumHDonors             19625 non-null  int64  \n",
      " 13  template_NumHeteroAtoms         19625 non-null  int64  \n",
      " 14  template_NumRotatableBonds      19625 non-null  int64  \n",
      " 15  docked_HeavyAtomCount           19625 non-null  int64  \n",
      " 16  docked_NHOHCount                19625 non-null  int64  \n",
      " 17  docked_NOCount                  19625 non-null  int64  \n",
      " 18  docked_RingCount                19625 non-null  int64  \n",
      " 19  docked_NumHAcceptors            19625 non-null  int64  \n",
      " 20  docked_NumHDonors               19625 non-null  int64  \n",
      " 21  docked_NumHeteroAtoms           19625 non-null  int64  \n",
      " 22  docked_NumRotatableBonds        19625 non-null  int64  \n",
      " 23  mcs_HeavyAtomCount              19625 non-null  int64  \n",
      " 24  mcs_NOCount                     19625 non-null  int64  \n",
      " 25  mcs_RingCount                   19625 non-null  int64  \n",
      " 26  mcs_NumHeteroAtoms              19625 non-null  int64  \n",
      " 27  mcs_template_NHOHCount          19625 non-null  int64  \n",
      " 28  mcs_docked_NHOHCount            19625 non-null  int64  \n",
      " 29  mcs_template_NumHAcceptors      19625 non-null  int64  \n",
      " 30  mcs_docked_NumHAcceptors        19625 non-null  int64  \n",
      " 31  mcs_template_NumHDonors         19625 non-null  int64  \n",
      " 32  mcs_docked_NumHDonors           19625 non-null  int64  \n",
      " 33  mcs_template_NumRotatableBonds  19625 non-null  int64  \n",
      " 34  mcs_docked_NumRotatableBonds    19625 non-null  int64  \n",
      " 35  ec_tanimoto_similarity          19625 non-null  float64\n",
      " 36  fc_tanimoto_similarity          19625 non-null  float64\n",
      " 37  log_RMSD                        19625 non-null  float64\n",
      " 38  bin_RMSD                        19625 non-null  int64  \n",
      " 39  Xtransf_ec_tanimoto_similarity  19625 non-null  float64\n",
      " 40  Xtransf_fc_tanimoto_similarity  19625 non-null  float64\n",
      " 41  is_valid                        19625 non-null  bool   \n",
      " 42  img_temp                        19625 non-null  object \n",
      " 43  img_docked                      19625 non-null  object \n",
      "dtypes: bool(1), float64(6), int64(29), object(8)\n",
      "memory usage: 6.6+ MB\n"
     ]
    }
   ],
   "source": [
    "train['img_temp'] = train['template'] + '.png'\n",
    "train['img_docked'] = train['docked'] + '.png'\n",
    "train['is_valid'] = False\n",
    "train.info()"
   ]
  },
  {
   "cell_type": "code",
   "execution_count": 15,
   "id": "352ed10d",
   "metadata": {
    "scrolled": true
   },
   "outputs": [
    {
     "name": "stdout",
     "output_type": "stream",
     "text": [
      "<class 'pandas.core.frame.DataFrame'>\n",
      "Int64Index: 5323 entries, 0 to 5322\n",
      "Data columns (total 44 columns):\n",
      " #   Column                          Non-Null Count  Dtype  \n",
      "---  ------                          --------------  -----  \n",
      " 0   template                        5323 non-null   object \n",
      " 1   docked                          5323 non-null   object \n",
      " 2   rmsd                            5323 non-null   float64\n",
      " 3   uniprot_id                      5323 non-null   object \n",
      " 4   smiles_template                 5323 non-null   object \n",
      " 5   smiles_docked                   5323 non-null   object \n",
      " 6   mcs_smartsString                5323 non-null   object \n",
      " 7   template_HeavyAtomCount         5323 non-null   int64  \n",
      " 8   template_NHOHCount              5323 non-null   int64  \n",
      " 9   template_NOCount                5323 non-null   int64  \n",
      " 10  template_RingCount              5323 non-null   int64  \n",
      " 11  template_NumHAcceptors          5323 non-null   int64  \n",
      " 12  template_NumHDonors             5323 non-null   int64  \n",
      " 13  template_NumHeteroAtoms         5323 non-null   int64  \n",
      " 14  template_NumRotatableBonds      5323 non-null   int64  \n",
      " 15  docked_HeavyAtomCount           5323 non-null   int64  \n",
      " 16  docked_NHOHCount                5323 non-null   int64  \n",
      " 17  docked_NOCount                  5323 non-null   int64  \n",
      " 18  docked_RingCount                5323 non-null   int64  \n",
      " 19  docked_NumHAcceptors            5323 non-null   int64  \n",
      " 20  docked_NumHDonors               5323 non-null   int64  \n",
      " 21  docked_NumHeteroAtoms           5323 non-null   int64  \n",
      " 22  docked_NumRotatableBonds        5323 non-null   int64  \n",
      " 23  mcs_HeavyAtomCount              5323 non-null   int64  \n",
      " 24  mcs_NOCount                     5323 non-null   int64  \n",
      " 25  mcs_RingCount                   5323 non-null   int64  \n",
      " 26  mcs_NumHeteroAtoms              5323 non-null   int64  \n",
      " 27  mcs_template_NHOHCount          5323 non-null   int64  \n",
      " 28  mcs_docked_NHOHCount            5323 non-null   int64  \n",
      " 29  mcs_template_NumHAcceptors      5323 non-null   int64  \n",
      " 30  mcs_docked_NumHAcceptors        5323 non-null   int64  \n",
      " 31  mcs_template_NumHDonors         5323 non-null   int64  \n",
      " 32  mcs_docked_NumHDonors           5323 non-null   int64  \n",
      " 33  mcs_template_NumRotatableBonds  5323 non-null   int64  \n",
      " 34  mcs_docked_NumRotatableBonds    5323 non-null   int64  \n",
      " 35  ec_tanimoto_similarity          5323 non-null   float64\n",
      " 36  fc_tanimoto_similarity          5323 non-null   float64\n",
      " 37  log_RMSD                        5323 non-null   float64\n",
      " 38  bin_RMSD                        5323 non-null   int64  \n",
      " 39  Xtransf_ec_tanimoto_similarity  5323 non-null   float64\n",
      " 40  Xtransf_fc_tanimoto_similarity  5323 non-null   float64\n",
      " 41  is_valid                        5323 non-null   bool   \n",
      " 42  img_temp                        5323 non-null   object \n",
      " 43  img_docked                      5323 non-null   object \n",
      "dtypes: bool(1), float64(6), int64(29), object(8)\n",
      "memory usage: 1.8+ MB\n"
     ]
    }
   ],
   "source": [
    "valid['img_temp'] = valid['template'] + '.png'\n",
    "valid['img_docked'] = valid['docked'] + '.png'\n",
    "valid['is_valid'] = True\n",
    "valid.info()"
   ]
  },
  {
   "cell_type": "code",
   "execution_count": 16,
   "id": "a313685b",
   "metadata": {
    "scrolled": true
   },
   "outputs": [],
   "source": [
    "# image size 600,600\n",
    "target_shape=(600, 600)"
   ]
  },
  {
   "cell_type": "markdown",
   "id": "7eaa15f3",
   "metadata": {},
   "source": [
    "## Creating postive and negative datasets "
   ]
  },
  {
   "cell_type": "code",
   "execution_count": 17,
   "id": "2a706e42",
   "metadata": {},
   "outputs": [
    {
     "name": "stdout",
     "output_type": "stream",
     "text": [
      "<class 'pandas.core.frame.DataFrame'>\n",
      "RangeIndex: 8165 entries, 0 to 8164\n",
      "Data columns (total 44 columns):\n",
      " #   Column                          Non-Null Count  Dtype  \n",
      "---  ------                          --------------  -----  \n",
      " 0   template                        8165 non-null   object \n",
      " 1   docked                          8165 non-null   object \n",
      " 2   rmsd                            8165 non-null   float64\n",
      " 3   uniprot_id                      8165 non-null   object \n",
      " 4   smiles_template                 8165 non-null   object \n",
      " 5   smiles_docked                   8165 non-null   object \n",
      " 6   mcs_smartsString                8165 non-null   object \n",
      " 7   template_HeavyAtomCount         8165 non-null   int64  \n",
      " 8   template_NHOHCount              8165 non-null   int64  \n",
      " 9   template_NOCount                8165 non-null   int64  \n",
      " 10  template_RingCount              8165 non-null   int64  \n",
      " 11  template_NumHAcceptors          8165 non-null   int64  \n",
      " 12  template_NumHDonors             8165 non-null   int64  \n",
      " 13  template_NumHeteroAtoms         8165 non-null   int64  \n",
      " 14  template_NumRotatableBonds      8165 non-null   int64  \n",
      " 15  docked_HeavyAtomCount           8165 non-null   int64  \n",
      " 16  docked_NHOHCount                8165 non-null   int64  \n",
      " 17  docked_NOCount                  8165 non-null   int64  \n",
      " 18  docked_RingCount                8165 non-null   int64  \n",
      " 19  docked_NumHAcceptors            8165 non-null   int64  \n",
      " 20  docked_NumHDonors               8165 non-null   int64  \n",
      " 21  docked_NumHeteroAtoms           8165 non-null   int64  \n",
      " 22  docked_NumRotatableBonds        8165 non-null   int64  \n",
      " 23  mcs_HeavyAtomCount              8165 non-null   int64  \n",
      " 24  mcs_NOCount                     8165 non-null   int64  \n",
      " 25  mcs_RingCount                   8165 non-null   int64  \n",
      " 26  mcs_NumHeteroAtoms              8165 non-null   int64  \n",
      " 27  mcs_template_NHOHCount          8165 non-null   int64  \n",
      " 28  mcs_docked_NHOHCount            8165 non-null   int64  \n",
      " 29  mcs_template_NumHAcceptors      8165 non-null   int64  \n",
      " 30  mcs_docked_NumHAcceptors        8165 non-null   int64  \n",
      " 31  mcs_template_NumHDonors         8165 non-null   int64  \n",
      " 32  mcs_docked_NumHDonors           8165 non-null   int64  \n",
      " 33  mcs_template_NumRotatableBonds  8165 non-null   int64  \n",
      " 34  mcs_docked_NumRotatableBonds    8165 non-null   int64  \n",
      " 35  ec_tanimoto_similarity          8165 non-null   float64\n",
      " 36  fc_tanimoto_similarity          8165 non-null   float64\n",
      " 37  log_RMSD                        8165 non-null   float64\n",
      " 38  bin_RMSD                        8165 non-null   int64  \n",
      " 39  Xtransf_ec_tanimoto_similarity  8165 non-null   float64\n",
      " 40  Xtransf_fc_tanimoto_similarity  8165 non-null   float64\n",
      " 41  is_valid                        8165 non-null   bool   \n",
      " 42  img_temp                        8165 non-null   object \n",
      " 43  img_docked                      8165 non-null   object \n",
      "dtypes: bool(1), float64(6), int64(29), object(8)\n",
      "memory usage: 2.7+ MB\n"
     ]
    }
   ],
   "source": [
    "train_good = train[train.log_RMSD <= 1.5]\n",
    "train_good = train_good.reset_index(drop=True)\n",
    "train_good.info()"
   ]
  },
  {
   "cell_type": "code",
   "execution_count": 18,
   "id": "3b9b64dc",
   "metadata": {},
   "outputs": [
    {
     "data": {
      "text/plain": [
       "4994"
      ]
     },
     "execution_count": 18,
     "metadata": {},
     "output_type": "execute_result"
    }
   ],
   "source": [
    "negative = train[train.log_RMSD > 2.1]\n",
    "negative = negative.reset_index(drop=True)\n",
    "len(negative)"
   ]
  },
  {
   "cell_type": "code",
   "execution_count": 19,
   "id": "6c8af27b",
   "metadata": {},
   "outputs": [
    {
     "data": {
      "text/plain": [
       "2230"
      ]
     },
     "execution_count": 19,
     "metadata": {},
     "output_type": "execute_result"
    }
   ],
   "source": [
    "valid_good = valid[valid.log_RMSD <= 1.5]\n",
    "valid_good = valid_good.reset_index(drop=True)\n",
    "len(valid_good)"
   ]
  },
  {
   "cell_type": "code",
   "execution_count": 20,
   "id": "9f4cba7e",
   "metadata": {},
   "outputs": [
    {
     "data": {
      "text/plain": [
       "1770"
      ]
     },
     "execution_count": 20,
     "metadata": {},
     "output_type": "execute_result"
    }
   ],
   "source": [
    "val_negative = valid[valid.log_RMSD > 2]\n",
    "val_negative = val_negative.reset_index(drop=True)\n",
    "len(val_negative)"
   ]
  },
  {
   "cell_type": "code",
   "execution_count": 21,
   "id": "bac8df9e",
   "metadata": {},
   "outputs": [],
   "source": [
    "IMAGES = '../dataset/oldsmiledata/mol_images/poseview_envs/'"
   ]
  },
  {
   "cell_type": "code",
   "execution_count": 22,
   "id": "87693386",
   "metadata": {},
   "outputs": [],
   "source": [
    "def preprocess_image(filename):\n",
    "    img_str = tf.io.read_file(IMAGES + filename)\n",
    "    image = tf.image.decode_png(img_str, channels=3)\n",
    "    image = tf.image.convert_image_dtype(image, tf.float32)\n",
    "    image = tf.image.resize(image, target_shape)\n",
    "    #image = tf.transpose(image)\n",
    "    return image"
   ]
  },
  {
   "cell_type": "code",
   "execution_count": 23,
   "id": "c932c106",
   "metadata": {},
   "outputs": [],
   "source": [
    "%%capture\n",
    "#img_shape = preprocess_image(train.img_temp[0]).shape"
   ]
  },
  {
   "cell_type": "code",
   "execution_count": 24,
   "id": "c24a095f",
   "metadata": {},
   "outputs": [],
   "source": [
    "#img_shape"
   ]
  },
  {
   "cell_type": "code",
   "execution_count": 25,
   "id": "5de656f7",
   "metadata": {},
   "outputs": [
    {
     "name": "stdout",
     "output_type": "stream",
     "text": [
      "Thu Feb 24 14:17:31 2022       \r\n",
      "+-----------------------------------------------------------------------------+\r\n",
      "| NVIDIA-SMI 470.103.01   Driver Version: 470.103.01   CUDA Version: 11.4     |\r\n",
      "|-------------------------------+----------------------+----------------------+\r\n",
      "| GPU  Name        Persistence-M| Bus-Id        Disp.A | Volatile Uncorr. ECC |\r\n",
      "| Fan  Temp  Perf  Pwr:Usage/Cap|         Memory-Usage | GPU-Util  Compute M. |\r\n",
      "|                               |                      |               MIG M. |\r\n",
      "|===============================+======================+======================|\r\n",
      "|   0  NVIDIA GeForce ...  Off  | 00000000:01:00.0  On |                  N/A |\r\n",
      "|  0%   58C    P2    55W / 240W |    694MiB /  8116MiB |      0%      Default |\r\n",
      "|                               |                      |                  N/A |\r\n",
      "+-------------------------------+----------------------+----------------------+\r\n",
      "                                                                               \r\n",
      "+-----------------------------------------------------------------------------+\r\n",
      "| Processes:                                                                  |\r\n",
      "|  GPU   GI   CI        PID   Type   Process name                  GPU Memory |\r\n",
      "|        ID   ID                                                   Usage      |\r\n",
      "|=============================================================================|\r\n",
      "|    0   N/A  N/A      1009      G   /usr/lib/xorg/Xorg                256MiB |\r\n",
      "|    0   N/A  N/A      1314      G   /usr/bin/gnome-shell               50MiB |\r\n",
      "|    0   N/A  N/A      3413      G   /usr/lib/firefox/firefox          131MiB |\r\n",
      "|    0   N/A  N/A     15134      C   ...a3/envs/tf_gpu/bin/python      247MiB |\r\n",
      "+-----------------------------------------------------------------------------+\r\n"
     ]
    }
   ],
   "source": [
    "!nvidia-smi"
   ]
  },
  {
   "cell_type": "code",
   "execution_count": 26,
   "id": "b97b9302",
   "metadata": {},
   "outputs": [],
   "source": [
    "physical_device = tf.config.list_physical_devices('GPU')\n",
    "tf.config.experimental.set_memory_growth(physical_device[0], True)"
   ]
  },
  {
   "cell_type": "code",
   "execution_count": 27,
   "id": "68ae7d9b",
   "metadata": {},
   "outputs": [],
   "source": [
    "def preprocess_triplets(template, docked, negative, rmsd):\n",
    "    \"\"\"\n",
    "    Given the filenames corresponding to the three images, load and\n",
    "    preprocess them.\n",
    "    \"\"\"\n",
    "\n",
    "    return (preprocess_image(template), preprocess_image(docked), preprocess_image(negative), rmsd)\n",
    "    "
   ]
  },
  {
   "cell_type": "code",
   "execution_count": 28,
   "id": "24fccb0c",
   "metadata": {},
   "outputs": [],
   "source": [
    "def preprocess_triplets_2(tup, negative):\n",
    "    \"\"\"\n",
    "    Given the filenames corresponding to the three images, load and\n",
    "    preprocess them.\n",
    "    \"\"\"\n",
    "\n",
    "    return (preprocess_image(tup[0]),\n",
    "        preprocess_image(tup[1]),\n",
    "        preprocess_image(negative))"
   ]
  },
  {
   "cell_type": "code",
   "execution_count": 29,
   "id": "6ac49a9a",
   "metadata": {},
   "outputs": [],
   "source": [
    "#image = preprocess_image('/4A7I_A7I.png')\n",
    "#image.shape"
   ]
  },
  {
   "cell_type": "code",
   "execution_count": 30,
   "id": "b6922b90",
   "metadata": {},
   "outputs": [],
   "source": [
    "train_template_images = [r.img_temp for i, r in train_good.iterrows()]"
   ]
  },
  {
   "cell_type": "code",
   "execution_count": 31,
   "id": "d139b148",
   "metadata": {},
   "outputs": [],
   "source": [
    "train_docked_images = [r.img_docked for i, r in train_good.iterrows()]"
   ]
  },
  {
   "cell_type": "code",
   "execution_count": 32,
   "id": "aecee4fd",
   "metadata": {},
   "outputs": [
    {
     "data": {
      "text/plain": [
       "(8165, 8165)"
      ]
     },
     "execution_count": 32,
     "metadata": {},
     "output_type": "execute_result"
    }
   ],
   "source": [
    "len(train_template_images), len(train_docked_images)"
   ]
  },
  {
   "cell_type": "code",
   "execution_count": 33,
   "id": "9c323942",
   "metadata": {},
   "outputs": [],
   "source": [
    "def find_negative_train(docked):\n",
    "    negs = negative[negative.docked == docked]\n",
    "    negs = negs.reset_index(drop=True)\n",
    "    if len(negs) > 0:\n",
    "        i = random.randint(0,len(negs) - 1)\n",
    "        neg = negs.iloc[i]\n",
    "    else:\n",
    "        i = random.randint(0,len(negative) - 1)\n",
    "        neg = negative.iloc[i]\n",
    "    return neg.img_docked"
   ]
  },
  {
   "cell_type": "code",
   "execution_count": 34,
   "id": "a7eda261",
   "metadata": {},
   "outputs": [],
   "source": [
    "def find_negative_val(docked):\n",
    "    negs = val_negative[val_negative.docked == docked]\n",
    "    negs = negs.reset_index(drop=True)\n",
    "    if len(negs) > 0:\n",
    "        i = random.randint(0,len(negs) - 1)\n",
    "        neg = negs.iloc[i]\n",
    "    else:\n",
    "        i = random.randint(0,len(val_negative) - 1)\n",
    "        neg = val_negative.iloc[i]\n",
    "    return neg.img_docked"
   ]
  },
  {
   "cell_type": "code",
   "execution_count": 35,
   "id": "f7cfeb87",
   "metadata": {},
   "outputs": [
    {
     "data": {
      "text/plain": [
       "'1C5O_BAM.png'"
      ]
     },
     "execution_count": 35,
     "metadata": {},
     "output_type": "execute_result"
    }
   ],
   "source": [
    "n = find_negative_train(train.iloc[0].docked)\n",
    "n"
   ]
  },
  {
   "cell_type": "code",
   "execution_count": 36,
   "id": "a0386de5",
   "metadata": {},
   "outputs": [],
   "source": [
    "valid_template_images = [r.img_temp for i, r in valid_good.iterrows()]\n",
    "valid_docked_images = [r.img_docked for i, r in valid_good.iterrows()]"
   ]
  },
  {
   "cell_type": "code",
   "execution_count": 37,
   "id": "5ed57a19",
   "metadata": {
    "scrolled": true
   },
   "outputs": [
    {
     "name": "stdout",
     "output_type": "stream",
     "text": [
      "Num GPus avalable:  1\n"
     ]
    }
   ],
   "source": [
    "import tensorflow as tf\n",
    "print('Num GPus avalable: ', len(tf.config.experimental.list_physical_devices('GPU')))"
   ]
  },
  {
   "cell_type": "code",
   "execution_count": 38,
   "id": "60054fa0",
   "metadata": {},
   "outputs": [],
   "source": [
    "negative_images = [find_negative_train(r.docked) for i, r in train_good.iterrows()]\n",
    "#np.random.RandomState(seed=32).shuffle(negative_images)\n",
    "\n",
    "negative_dataset = tf.data.Dataset.from_tensor_slices(negative_images)\n",
    "#negative_dataset = negative_dataset.shuffle(buffer_size=4096)"
   ]
  },
  {
   "cell_type": "code",
   "execution_count": 39,
   "id": "db90abfd",
   "metadata": {},
   "outputs": [],
   "source": [
    "val_negative_images = [find_negative_val(r.docked) for i, r in valid_good.iterrows()]\n",
    "#np.random.RandomState(seed=32).shuffle(negative_images)\n",
    "\n",
    "val_negative_dataset = tf.data.Dataset.from_tensor_slices(val_negative_images)\n",
    "#val_negative_dataset = val_negative_dataset.shuffle(buffer_size=4096)"
   ]
  },
  {
   "cell_type": "code",
   "execution_count": 40,
   "id": "116b5c32",
   "metadata": {},
   "outputs": [
    {
     "data": {
      "text/plain": [
       "10395"
      ]
     },
     "execution_count": 40,
     "metadata": {},
     "output_type": "execute_result"
    }
   ],
   "source": [
    "image_count = len(train_template_images) + len(valid_template_images)\n",
    "image_count"
   ]
  },
  {
   "cell_type": "code",
   "execution_count": 41,
   "id": "66d054c3",
   "metadata": {},
   "outputs": [
    {
     "data": {
      "text/plain": [
       "10395"
      ]
     },
     "execution_count": 41,
     "metadata": {},
     "output_type": "execute_result"
    }
   ],
   "source": [
    "neg_image_count = len(negative_images) + len(val_negative_images)\n",
    "neg_image_count"
   ]
  },
  {
   "cell_type": "code",
   "execution_count": 42,
   "id": "3917c506",
   "metadata": {},
   "outputs": [],
   "source": [
    "template_dataset = tf.data.Dataset.from_tensor_slices(train_template_images)\n",
    "docked_dataset = tf.data.Dataset.from_tensor_slices(train_docked_images)"
   ]
  },
  {
   "cell_type": "code",
   "execution_count": 43,
   "id": "e9fb064e",
   "metadata": {},
   "outputs": [],
   "source": [
    "val_template_dataset = tf.data.Dataset.from_tensor_slices(valid_template_images)\n",
    "val_docked_dataset = tf.data.Dataset.from_tensor_slices(valid_docked_images)"
   ]
  },
  {
   "cell_type": "code",
   "execution_count": 44,
   "id": "c634d16a",
   "metadata": {},
   "outputs": [],
   "source": [
    "y_train = train_good['log_RMSD']\n",
    "y_train = tf.data.Dataset.from_tensor_slices(list(y_train))\n"
   ]
  },
  {
   "cell_type": "code",
   "execution_count": 45,
   "id": "6ee52781",
   "metadata": {},
   "outputs": [],
   "source": [
    "y_valid = valid_good['log_RMSD']\n",
    "y_valid = tf.data.Dataset.from_tensor_slices(list(y_train))"
   ]
  },
  {
   "cell_type": "code",
   "execution_count": 46,
   "id": "6b5e4d4e",
   "metadata": {},
   "outputs": [],
   "source": [
    "log_rmsd = [r.log_RMSD for i, r in train_good.iterrows()]\n",
    "val_log_rmsd = [r.log_RMSD for i, r in valid_good.iterrows()]"
   ]
  },
  {
   "cell_type": "code",
   "execution_count": 47,
   "id": "7b08ec95",
   "metadata": {},
   "outputs": [],
   "source": [
    "log_rmsd_dataset = tf.data.Dataset.from_tensor_slices(log_rmsd)\n",
    "val_log_rmsd_dataset = tf.data.Dataset.from_tensor_slices(val_log_rmsd)"
   ]
  },
  {
   "cell_type": "code",
   "execution_count": 48,
   "id": "5c1733bd",
   "metadata": {},
   "outputs": [
    {
     "name": "stdout",
     "output_type": "stream",
     "text": [
      "Thu Feb 24 14:17:40 2022       \r\n",
      "+-----------------------------------------------------------------------------+\r\n",
      "| NVIDIA-SMI 470.103.01   Driver Version: 470.103.01   CUDA Version: 11.4     |\r\n",
      "|-------------------------------+----------------------+----------------------+\r\n",
      "| GPU  Name        Persistence-M| Bus-Id        Disp.A | Volatile Uncorr. ECC |\r\n",
      "| Fan  Temp  Perf  Pwr:Usage/Cap|         Memory-Usage | GPU-Util  Compute M. |\r\n",
      "|                               |                      |               MIG M. |\r\n",
      "|===============================+======================+======================|\r\n",
      "|   0  NVIDIA GeForce ...  Off  | 00000000:01:00.0  On |                  N/A |\r\n",
      "|  0%   59C    P2    55W / 240W |    914MiB /  8116MiB |      0%      Default |\r\n",
      "|                               |                      |                  N/A |\r\n",
      "+-------------------------------+----------------------+----------------------+\r\n",
      "                                                                               \r\n",
      "+-----------------------------------------------------------------------------+\r\n",
      "| Processes:                                                                  |\r\n",
      "|  GPU   GI   CI        PID   Type   Process name                  GPU Memory |\r\n",
      "|        ID   ID                                                   Usage      |\r\n",
      "|=============================================================================|\r\n",
      "|    0   N/A  N/A      1009      G   /usr/lib/xorg/Xorg                256MiB |\r\n",
      "|    0   N/A  N/A      1314      G   /usr/bin/gnome-shell               50MiB |\r\n",
      "|    0   N/A  N/A      3413      G   /usr/lib/firefox/firefox          130MiB |\r\n",
      "|    0   N/A  N/A     15134      C   ...a3/envs/tf_gpu/bin/python      247MiB |\r\n",
      "|    0   N/A  N/A     19010      C   ...a3/envs/tf_gpu/bin/python      221MiB |\r\n",
      "+-----------------------------------------------------------------------------+\r\n"
     ]
    }
   ],
   "source": [
    "!nvidia-smi"
   ]
  },
  {
   "cell_type": "markdown",
   "id": "339e769b",
   "metadata": {},
   "source": [
    "### Create the train and validation datasets"
   ]
  },
  {
   "cell_type": "code",
   "execution_count": 49,
   "id": "17fdadb0",
   "metadata": {},
   "outputs": [
    {
     "data": {
      "text/plain": [
       "(<ZipDataset shapes: ((), (), (), ()), types: (tf.string, tf.string, tf.string, tf.float32)>,\n",
       " <ZipDataset shapes: ((), (), (), ()), types: (tf.string, tf.string, tf.string, tf.float32)>)"
      ]
     },
     "execution_count": 49,
     "metadata": {},
     "output_type": "execute_result"
    }
   ],
   "source": [
    "train_dataset = tf.data.Dataset.zip((docked_dataset, template_dataset, negative_dataset, log_rmsd_dataset)) # template as anchor\n",
    "#train_dataset = tf.data.Dataset.zip((template_dataset, docked_dataset, negative_dataset)) # template as anchor\n",
    "valid_dataset = tf.data.Dataset.zip((val_docked_dataset, val_template_dataset, val_negative_dataset, val_log_rmsd_dataset)) # template as anchor\n",
    "#valid_dataset = tf.data.Dataset.zip((val_template_dataset, val_docked_dataset, val_negative_dataset)) # template as anchor\n",
    "train_dataset, valid_dataset"
   ]
  },
  {
   "cell_type": "code",
   "execution_count": 50,
   "id": "149d4399",
   "metadata": {},
   "outputs": [
    {
     "data": {
      "text/plain": [
       "<TakeDataset shapes: ((), (), (), ()), types: (tf.string, tf.string, tf.string, tf.float32)>"
      ]
     },
     "execution_count": 50,
     "metadata": {},
     "output_type": "execute_result"
    }
   ],
   "source": [
    "train_dataset = train_dataset.take(round(image_count * 1))\n",
    "train_dataset"
   ]
  },
  {
   "cell_type": "code",
   "execution_count": 1,
   "id": "c5504d23",
   "metadata": {},
   "outputs": [
    {
     "ename": "NameError",
     "evalue": "name 'train_dataset' is not defined",
     "output_type": "error",
     "traceback": [
      "\u001b[0;31m---------------------------------------------------------------------------\u001b[0m",
      "\u001b[0;31mNameError\u001b[0m                                 Traceback (most recent call last)",
      "\u001b[0;32m/tmp/ipykernel_33330/596460815.py\u001b[0m in \u001b[0;36m<module>\u001b[0;34m\u001b[0m\n\u001b[0;32m----> 1\u001b[0;31m \u001b[0mtrain_dataset\u001b[0m \u001b[0;34m=\u001b[0m \u001b[0mtrain_dataset\u001b[0m\u001b[0;34m.\u001b[0m\u001b[0mmap\u001b[0m\u001b[0;34m(\u001b[0m\u001b[0mpreprocess_triplets\u001b[0m\u001b[0;34m)\u001b[0m\u001b[0;34m\u001b[0m\u001b[0;34m\u001b[0m\u001b[0m\n\u001b[0m\u001b[1;32m      2\u001b[0m \u001b[0mval_dataset\u001b[0m \u001b[0;34m=\u001b[0m \u001b[0mvalid_dataset\u001b[0m\u001b[0;34m.\u001b[0m\u001b[0mmap\u001b[0m\u001b[0;34m(\u001b[0m\u001b[0mpreprocess_triplets\u001b[0m\u001b[0;34m)\u001b[0m\u001b[0;34m\u001b[0m\u001b[0;34m\u001b[0m\u001b[0m\n\u001b[1;32m      3\u001b[0m \u001b[0mtrain_dataset\u001b[0m\u001b[0;34m,\u001b[0m \u001b[0mval_dataset\u001b[0m\u001b[0;34m\u001b[0m\u001b[0;34m\u001b[0m\u001b[0m\n",
      "\u001b[0;31mNameError\u001b[0m: name 'train_dataset' is not defined"
     ]
    }
   ],
   "source": [
    "train_dataset = train_dataset.map(preprocess_triplets)\n",
    "val_dataset = valid_dataset.map(preprocess_triplets)\n",
    "train_dataset, val_dataset"
   ]
  },
  {
   "cell_type": "code",
   "execution_count": 2,
   "id": "125c0a00",
   "metadata": {},
   "outputs": [
    {
     "ename": "NameError",
     "evalue": "name 'train_dataset' is not defined",
     "output_type": "error",
     "traceback": [
      "\u001b[0;31m---------------------------------------------------------------------------\u001b[0m",
      "\u001b[0;31mNameError\u001b[0m                                 Traceback (most recent call last)",
      "\u001b[0;32m/tmp/ipykernel_33330/725423538.py\u001b[0m in \u001b[0;36m<module>\u001b[0;34m\u001b[0m\n\u001b[0;32m----> 1\u001b[0;31m \u001b[0mtrain_dl\u001b[0m \u001b[0;34m=\u001b[0m \u001b[0mtrain_dataset\u001b[0m\u001b[0;34m.\u001b[0m\u001b[0mbatch\u001b[0m\u001b[0;34m(\u001b[0m\u001b[0;36m8\u001b[0m\u001b[0;34m,\u001b[0m \u001b[0mdrop_remainder\u001b[0m\u001b[0;34m=\u001b[0m\u001b[0;32mTrue\u001b[0m\u001b[0;34m)\u001b[0m\u001b[0;34m\u001b[0m\u001b[0;34m\u001b[0m\u001b[0m\n\u001b[0m\u001b[1;32m      2\u001b[0m \u001b[0mtrain_dl\u001b[0m \u001b[0;34m=\u001b[0m \u001b[0mtrain_dl\u001b[0m\u001b[0;34m.\u001b[0m\u001b[0mprefetch\u001b[0m\u001b[0;34m(\u001b[0m\u001b[0;36m8\u001b[0m\u001b[0;34m)\u001b[0m\u001b[0;34m\u001b[0m\u001b[0;34m\u001b[0m\u001b[0m\n\u001b[1;32m      3\u001b[0m \u001b[0mtrain_dl\u001b[0m\u001b[0;34m\u001b[0m\u001b[0;34m\u001b[0m\u001b[0m\n",
      "\u001b[0;31mNameError\u001b[0m: name 'train_dataset' is not defined"
     ]
    }
   ],
   "source": [
    "train_dl = train_dataset.batch(8, drop_remainder=True)\n",
    "train_dl = train_dl.prefetch(8)\n",
    "train_dl"
   ]
  },
  {
   "cell_type": "code",
   "execution_count": 53,
   "id": "57f30d7b",
   "metadata": {
    "scrolled": true
   },
   "outputs": [
    {
     "data": {
      "text/plain": [
       "<PrefetchDataset shapes: ((8, 600, 600, 3), (8, 600, 600, 3), (8, 600, 600, 3), (8,)), types: (tf.float32, tf.float32, tf.float32, tf.float32)>"
      ]
     },
     "execution_count": 53,
     "metadata": {},
     "output_type": "execute_result"
    }
   ],
   "source": [
    "val_dl = val_dataset.batch(8, drop_remainder=True)\n",
    "val_dl = val_dl.prefetch(8)\n",
    "val_dl"
   ]
  },
  {
   "cell_type": "markdown",
   "id": "f4f6e468",
   "metadata": {},
   "source": [
    "## Anchor, positive and the distance between them computed by the distance layer"
   ]
  },
  {
   "cell_type": "code",
   "execution_count": 54,
   "id": "6585724f",
   "metadata": {
    "scrolled": true
   },
   "outputs": [
    {
     "data": {
      "image/png": "[encoded data removed]",
      "text/plain": [
       "<Figure size 648x648 with 12 Axes>"
      ]
     },
     "metadata": {
      "needs_background": "light"
     },
     "output_type": "display_data"
    }
   ],
   "source": [
    "def visualize(anchor, positive, negative, rmsd):\n",
    "    \"\"\"Visualize a few triplets from the supplied batches.\"\"\"\n",
    "\n",
    "    def show(ax, image):\n",
    "        ax.imshow(image)\n",
    "        ax.get_xaxis().set_visible(False)\n",
    "        ax.get_yaxis().set_visible(False)\n",
    "    \n",
    "\n",
    "    fig = plt.figure(figsize=(9, 9))\n",
    "\n",
    "    axs = fig.subplots(4, 3)\n",
    "    for i in range(0, 4, 2):\n",
    "        show(axs[i, 0], anchor[i])\n",
    "        show(axs[i + 1, 0], anchor[i])\n",
    "        show(axs[i, 1], positive[i])\n",
    "        show(axs[i + 1, 1], negative[i])\n",
    "        ap_distance = tf.reduce_sum(tf.square(anchor[i] - positive[i]), -1)\n",
    "        an_distance = tf.reduce_sum(tf.square(anchor[i] - negative[i]), -1)\n",
    "        show(axs[i, 2], ap_distance)\n",
    "        show(axs[i + 1, 2], an_distance)\n",
    "        loss = ap_distance - an_distance\n",
    "        loss = tf.maximum(loss, 0.0)\n",
    "    \n",
    "\n",
    "\n",
    "visualize(*list(val_dl.take(1).as_numpy_iterator())[0])"
   ]
  },
  {
   "cell_type": "markdown",
   "id": "7cf37acd",
   "metadata": {},
   "source": [
    "## Visualization of Anchor, Positive and the Negative image"
   ]
  },
  {
   "cell_type": "code",
   "execution_count": 55,
   "id": "f6f88431",
   "metadata": {},
   "outputs": [
    {
     "name": "stdout",
     "output_type": "stream",
     "text": [
      "1.3719418\n",
      "1.3045418\n",
      "1.3134549\n"
     ]
    },
    {
     "data": {
      "image/png": "[encoded data removed]",
      "text/plain": [
       "<Figure size 648x648 with 9 Axes>"
      ]
     },
     "metadata": {
      "needs_background": "light"
     },
     "output_type": "display_data"
    }
   ],
   "source": [
    "def visualize2(anchor, positive, negative, rmsd):\n",
    "    \"\"\"Visualize a few triplets from the supplied batches.\"\"\"\n",
    "\n",
    "    def show(ax, image):\n",
    "        ax.imshow(image)\n",
    "        ax.get_xaxis().set_visible(False)\n",
    "        ax.get_yaxis().set_visible(False)\n",
    "\n",
    "    fig = plt.figure(figsize=(9, 9))\n",
    "\n",
    "    axs = fig.subplots(3, 3)\n",
    "    for i in range(3):\n",
    "        print(rmsd[i])\n",
    "        show(axs[i, 0], anchor[i])\n",
    "        show(axs[i, 1], positive[i])\n",
    "        show(axs[i, 2], negative[i])\n",
    "\n",
    "\n",
    "visualize2(*list(val_dl.take(1).as_numpy_iterator())[0])"
   ]
  },
  {
   "cell_type": "code",
   "execution_count": 56,
   "id": "7c2bc408",
   "metadata": {},
   "outputs": [],
   "source": [
    "def visualize_positive(anchor, positive):\n",
    "    \"\"\"Visualize a few triplets from the supplied batches.\"\"\"\n",
    "\n",
    "    def show(ax, image):\n",
    "        ax.imshow(image)\n",
    "        ax.get_xaxis().set_visible(False)\n",
    "        ax.get_yaxis().set_visible(False)\n",
    "\n",
    "    fig = plt.figure(figsize=(1, 2))\n",
    "\n",
    "    axs = fig.subplots(1, 2)\n",
    "    show(axs[0, 0], anchor)\n",
    "    show(axs[0, 1], positive)"
   ]
  },
  {
   "cell_type": "markdown",
   "id": "cbb7e500",
   "metadata": {},
   "source": [
    "# Siamese network with distance layer and RMSD as adaptive margin in loss function"
   ]
  },
  {
   "cell_type": "markdown",
   "id": "dc83f252",
   "metadata": {},
   "source": [
    "### Use RMSD as an adaptive margin in loss function"
   ]
  },
  {
   "cell_type": "code",
   "execution_count": 57,
   "id": "0f36080c",
   "metadata": {},
   "outputs": [],
   "source": [
    "base_cnn = resnet.ResNet50(\n",
    "    weights=\"imagenet\", input_shape=target_shape +  (3,), include_top=False\n",
    ")\n",
    "\n",
    "flatten = layers.Flatten()(base_cnn.output)\n",
    "dense1 = layers.Dense(512, activation=\"relu\")(flatten)\n",
    "dense1 = layers.BatchNormalization()(dense1)\n",
    "dense2 = layers.Dense(256, activation=\"relu\")(dense1)\n",
    "dense2 = layers.BatchNormalization()(dense2)\n",
    "output = layers.Dense(128)(dense2)\n",
    "\n",
    "embedding = Model(base_cnn.input, output, name=\"Embedding\")\n",
    "\n",
    "trainable = False\n",
    "for layer in base_cnn.layers:\n",
    "    if layer.name == \"conv5_block1_out\":\n",
    "        trainable = True\n",
    "    layer.trainable = trainable\n"
   ]
  },
  {
   "cell_type": "code",
   "execution_count": 58,
   "id": "64817f1e",
   "metadata": {},
   "outputs": [
    {
     "name": "stdout",
     "output_type": "stream",
     "text": [
      "Thu Feb 24 14:17:43 2022       \r\n",
      "+-----------------------------------------------------------------------------+\r\n",
      "| NVIDIA-SMI 470.103.01   Driver Version: 470.103.01   CUDA Version: 11.4     |\r\n",
      "|-------------------------------+----------------------+----------------------+\r\n",
      "| GPU  Name        Persistence-M| Bus-Id        Disp.A | Volatile Uncorr. ECC |\r\n",
      "| Fan  Temp  Perf  Pwr:Usage/Cap|         Memory-Usage | GPU-Util  Compute M. |\r\n",
      "|                               |                      |               MIG M. |\r\n",
      "|===============================+======================+======================|\r\n",
      "|   0  NVIDIA GeForce ...  Off  | 00000000:01:00.0  On |                  N/A |\r\n",
      "|  0%   60C    P2    54W / 240W |   5139MiB /  8116MiB |     14%      Default |\r\n",
      "|                               |                      |                  N/A |\r\n",
      "+-------------------------------+----------------------+----------------------+\r\n",
      "                                                                               \r\n",
      "+-----------------------------------------------------------------------------+\r\n",
      "| Processes:                                                                  |\r\n",
      "|  GPU   GI   CI        PID   Type   Process name                  GPU Memory |\r\n",
      "|        ID   ID                                                   Usage      |\r\n",
      "|=============================================================================|\r\n",
      "|    0   N/A  N/A      1009      G   /usr/lib/xorg/Xorg                256MiB |\r\n",
      "|    0   N/A  N/A      1314      G   /usr/bin/gnome-shell               50MiB |\r\n",
      "|    0   N/A  N/A      3413      G   /usr/lib/firefox/firefox          131MiB |\r\n",
      "|    0   N/A  N/A     15134      C   ...a3/envs/tf_gpu/bin/python      247MiB |\r\n",
      "|    0   N/A  N/A     19010      C   ...a3/envs/tf_gpu/bin/python     4445MiB |\r\n",
      "+-----------------------------------------------------------------------------+\r\n"
     ]
    }
   ],
   "source": [
    "!nvidia-smi"
   ]
  },
  {
   "cell_type": "code",
   "execution_count": 59,
   "id": "e04f2720",
   "metadata": {
    "scrolled": false
   },
   "outputs": [
    {
     "name": "stdout",
     "output_type": "stream",
     "text": [
      "Model: \"model\"\n",
      "__________________________________________________________________________________________________\n",
      "Layer (type)                    Output Shape         Param #     Connected to                     \n",
      "==================================================================================================\n",
      "anchor (InputLayer)             [(None, 600, 600, 3) 0                                            \n",
      "__________________________________________________________________________________________________\n",
      "positive (InputLayer)           [(None, 600, 600, 3) 0                                            \n",
      "__________________________________________________________________________________________________\n",
      "negative (InputLayer)           [(None, 600, 600, 3) 0                                            \n",
      "__________________________________________________________________________________________________\n",
      "tf.__operators__.getitem (Slici (None, 600, 600, 3)  0           anchor[0][0]                     \n",
      "__________________________________________________________________________________________________\n",
      "tf.__operators__.getitem_1 (Sli (None, 600, 600, 3)  0           positive[0][0]                   \n",
      "__________________________________________________________________________________________________\n",
      "tf.__operators__.getitem_2 (Sli (None, 600, 600, 3)  0           negative[0][0]                   \n",
      "__________________________________________________________________________________________________\n",
      "tf.nn.bias_add (TFOpLambda)     (None, 600, 600, 3)  0           tf.__operators__.getitem[0][0]   \n",
      "__________________________________________________________________________________________________\n",
      "tf.nn.bias_add_1 (TFOpLambda)   (None, 600, 600, 3)  0           tf.__operators__.getitem_1[0][0] \n",
      "__________________________________________________________________________________________________\n",
      "tf.nn.bias_add_2 (TFOpLambda)   (None, 600, 600, 3)  0           tf.__operators__.getitem_2[0][0] \n",
      "__________________________________________________________________________________________________\n",
      "Embedding (Functional)          (None, 128)          212906880   tf.nn.bias_add[0][0]             \n",
      "                                                                 tf.nn.bias_add_1[0][0]           \n",
      "                                                                 tf.nn.bias_add_2[0][0]           \n",
      "__________________________________________________________________________________________________\n",
      "rmsd (InputLayer)               [(None, 1)]          0                                            \n",
      "__________________________________________________________________________________________________\n",
      "distance_layer (DistanceLayer)  ((None,), (None,), ( 0           Embedding[0][0]                  \n",
      "                                                                 Embedding[1][0]                  \n",
      "                                                                 Embedding[2][0]                  \n",
      "                                                                 rmsd[0][0]                       \n",
      "==================================================================================================\n",
      "Total params: 212,906,880\n",
      "Trainable params: 198,249,728\n",
      "Non-trainable params: 14,657,152\n",
      "__________________________________________________________________________________________________\n"
     ]
    }
   ],
   "source": [
    "class DistanceLayer(layers.Layer):\n",
    "    \"\"\"\n",
    "    This layer is responsible for computing the distance between the anchor\n",
    "    embedding and the positive embedding, and the anchor embedding and the\n",
    "    negative embedding.\n",
    "    \"\"\"\n",
    "\n",
    "    def __init__(self, **kwargs):\n",
    "        super().__init__(**kwargs)\n",
    "\n",
    "    def call(self, anchor, positive, negative, rmsd):\n",
    "        ap_distance = tf.reduce_sum(tf.square(anchor - positive), -1)\n",
    "        an_distance = tf.reduce_sum(tf.square(anchor - negative), -1)\n",
    "        return (ap_distance, an_distance, rmsd)\n",
    "\n",
    "\n",
    "anchor_input = layers.Input(name=\"anchor\", shape=target_shape + (3,))\n",
    "positive_input = layers.Input(name=\"positive\", shape=target_shape + (3,))\n",
    "negative_input = layers.Input(name=\"negative\", shape=target_shape + (3,))\n",
    "rmsd_input = layers.Input(name='rmsd', shape=(1))\n",
    "\n",
    "distances = DistanceLayer()(\n",
    "    embedding(resnet.preprocess_input(anchor_input)),\n",
    "    embedding(resnet.preprocess_input(positive_input)),\n",
    "    embedding(resnet.preprocess_input(negative_input)),\n",
    "    rmsd_input,\n",
    ")\n",
    "\n",
    "siamese_network = Model(\n",
    "    inputs=[anchor_input, positive_input, negative_input, rmsd_input], outputs=distances\n",
    ")\n",
    "\n",
    "siamese_network.summary()"
   ]
  },
  {
   "cell_type": "markdown",
   "id": "4e5ec250",
   "metadata": {},
   "source": [
    "### Triplet loss defined as: \n",
    "\n",
    "$$\\displaystyle {\\mathcal {L}}\\left(A,P,N\\right)=\\operatorname {max} \\left({\\|\\operatorname {f} \\left(A\\right)-\\operatorname {f} \\left(P\\right)\\|}^{2}-{\\|\\operatorname {f} \\left(A\\right)-\\operatorname {f} \\left(N\\right)\\|}^{2}+\\alpha ,0\\right)$$"
   ]
  },
  {
   "cell_type": "code",
   "execution_count": 60,
   "id": "61943aca",
   "metadata": {},
   "outputs": [],
   "source": [
    "class SiameseModel(Model):\n",
    "    \"\"\"The Siamese Network model with a custom training and testing loops.\n",
    "\n",
    "    Computes the triplet loss using the three embeddings produced by the\n",
    "    Siamese Network.\n",
    "\n",
    "    The triplet loss is defined as:\n",
    "       L(A, P, N) = max(‖f(A) - f(P)‖² - ‖f(A) - f(N)‖² + margin, 0)\n",
    "    \"\"\"\n",
    "\n",
    "    def __init__(self, siamese_network, margin=2):\n",
    "        super(SiameseModel, self).__init__()\n",
    "        self.siamese_network = siamese_network\n",
    "        self.margin = margin\n",
    "        self.loss_tracker = metrics.Mean(name=\"loss\")\n",
    "        self.rmse_tracker = metrics.RootMeanSquaredError(name=\"rmse\")\n",
    "\n",
    "    def call(self, inputs):\n",
    "        return self.siamese_network(inputs)\n",
    "\n",
    "    def train_step(self, data):\n",
    "        # GradientTape is a context manager that records every operation that\n",
    "        # you do inside. We are using it here to compute the loss so we can get\n",
    "        # the gradients and apply them using the optimizer specified in\n",
    "        # `compile()`.\n",
    "        with tf.GradientTape() as tape:\n",
    "            loss = self._compute_loss(data)\n",
    "\n",
    "        # Storing the gradients of the loss function with respect to the\n",
    "        # weights/parameters.\n",
    "        gradients = tape.gradient(loss, self.siamese_network.trainable_weights)\n",
    "\n",
    "        # Applying the gradients on the model using the specified optimizer\n",
    "        self.optimizer.apply_gradients(\n",
    "            zip(gradients, self.siamese_network.trainable_weights)\n",
    "        )\n",
    "\n",
    "        # Let's update and return the training loss metric.\n",
    "        self.loss_tracker.update_state(loss)\n",
    "        \n",
    "        return {\"loss\": self.loss_tracker.result()}\n",
    "\n",
    "    def test_step(self, data):\n",
    "        loss = self._compute_loss(data)\n",
    "        ap_distance, an_distance, rmsd = self.siamese_network(data)\n",
    "        # Let's update and return the loss metric and rmse metric.\n",
    "        self.loss_tracker.update_state(loss)\n",
    "        distance = ap_distance - an_distance\n",
    "        # RMSE (Euclidean distance) between anchor and positive image minus RMSD\n",
    "        rmse = tf.maximum(distance, 0.0)\n",
    "        self.rmse_tracker.update_state(0.0, rmse)\n",
    "        return {\"loss\": self.loss_tracker.result(), 'rmse': self.rmse_tracker.result()}\n",
    "\n",
    "    def _compute_loss(self, data):\n",
    "        # The output of the network is a tuple containing the distances\n",
    "        # between the anchor and the positive example, and the anchor and\n",
    "        # the negative example.\n",
    "        ap_distance, an_distance, rmsd = self.siamese_network(data)\n",
    "\n",
    "        # Computing the Triplet Loss by subtracting both distances and\n",
    "        # making sure we don't get a negative value.\n",
    "        loss = ap_distance - an_distance\n",
    "        loss = tf.maximum(loss + self.margin - rmsd, 0.0)\n",
    "        return loss\n",
    "\n",
    "    @property\n",
    "    def metrics(self):\n",
    "        # We need to list our metrics here so the `reset_states()` can be\n",
    "        # called automatically.\n",
    "        return [self.loss_tracker, self.rmse_tracker]\n"
   ]
  },
  {
   "cell_type": "markdown",
   "id": "c1616071",
   "metadata": {},
   "source": [
    "### Choose optimizer and train model"
   ]
  },
  {
   "cell_type": "code",
   "execution_count": 61,
   "id": "1f45a8f2",
   "metadata": {},
   "outputs": [
    {
     "name": "stdout",
     "output_type": "stream",
     "text": [
      "GPUS available 1\n"
     ]
    }
   ],
   "source": [
    "physical_device = tf.config.list_physical_devices('GPU')\n",
    "tf.config.experimental.set_memory_growth(physical_device[0], True)\n",
    "print(\"GPUS available\", len(physical_device))"
   ]
  },
  {
   "cell_type": "code",
   "execution_count": 62,
   "id": "e40f0b56",
   "metadata": {},
   "outputs": [],
   "source": [
    "siamese_model = SiameseModel(siamese_network)\n",
    "siamese_model.compile(optimizer=optimizers.Adam(0.0001), metrics=metrics.RootMeanSquaredError(name='rmse'))"
   ]
  },
  {
   "cell_type": "code",
   "execution_count": 63,
   "id": "587dcbde",
   "metadata": {},
   "outputs": [
    {
     "name": "stdout",
     "output_type": "stream",
     "text": [
      "Thu Feb 24 14:17:44 2022       \r\n",
      "+-----------------------------------------------------------------------------+\r\n",
      "| NVIDIA-SMI 470.103.01   Driver Version: 470.103.01   CUDA Version: 11.4     |\r\n",
      "|-------------------------------+----------------------+----------------------+\r\n",
      "| GPU  Name        Persistence-M| Bus-Id        Disp.A | Volatile Uncorr. ECC |\r\n",
      "| Fan  Temp  Perf  Pwr:Usage/Cap|         Memory-Usage | GPU-Util  Compute M. |\r\n",
      "|                               |                      |               MIG M. |\r\n",
      "|===============================+======================+======================|\r\n",
      "|   0  NVIDIA GeForce ...  Off  | 00000000:01:00.0  On |                  N/A |\r\n",
      "|  0%   60C    P2    54W / 240W |   5139MiB /  8116MiB |      3%      Default |\r\n",
      "|                               |                      |                  N/A |\r\n",
      "+-------------------------------+----------------------+----------------------+\r\n",
      "                                                                               \r\n",
      "+-----------------------------------------------------------------------------+\r\n",
      "| Processes:                                                                  |\r\n",
      "|  GPU   GI   CI        PID   Type   Process name                  GPU Memory |\r\n",
      "|        ID   ID                                                   Usage      |\r\n",
      "|=============================================================================|\r\n",
      "|    0   N/A  N/A      1009      G   /usr/lib/xorg/Xorg                256MiB |\r\n",
      "|    0   N/A  N/A      1314      G   /usr/bin/gnome-shell               50MiB |\r\n",
      "|    0   N/A  N/A      3413      G   /usr/lib/firefox/firefox          131MiB |\r\n",
      "|    0   N/A  N/A     15134      C   ...a3/envs/tf_gpu/bin/python      247MiB |\r\n",
      "|    0   N/A  N/A     19010      C   ...a3/envs/tf_gpu/bin/python     4445MiB |\r\n",
      "+-----------------------------------------------------------------------------+\r\n"
     ]
    }
   ],
   "source": [
    "!nvidia-smi"
   ]
  },
  {
   "cell_type": "code",
   "execution_count": 64,
   "id": "d1ed18a4",
   "metadata": {},
   "outputs": [
    {
     "name": "stdout",
     "output_type": "stream",
     "text": [
      "Epoch 1/5\n",
      "1020/1020 [==============================] - 784s 747ms/step - loss: 1.5535 - val_loss: 1.1342 - val_rmse: 0.2330\n",
      "Epoch 2/5\n",
      "1020/1020 [==============================] - 765s 751ms/step - loss: 1.1093 - val_loss: 1.0581 - val_rmse: 0.2016\n",
      "Epoch 3/5\n",
      "1020/1020 [==============================] - 766s 752ms/step - loss: 1.0606 - val_loss: 1.0225 - val_rmse: 0.2066\n",
      "Epoch 4/5\n",
      "1020/1020 [==============================] - 767s 752ms/step - loss: 1.0204 - val_loss: 1.0094 - val_rmse: 0.1940\n",
      "Epoch 5/5\n",
      "1020/1020 [==============================] - 767s 752ms/step - loss: 1.0071 - val_loss: 0.9764 - val_rmse: 0.2131\n"
     ]
    }
   ],
   "source": [
    "model_history = siamese_model.fit(train_dl, validation_data=val_dl, epochs=5) # save"
   ]
  },
  {
   "cell_type": "markdown",
   "id": "e8e6f774",
   "metadata": {},
   "source": [
    "### RMSE as difference between rmsd and ap - an distances"
   ]
  },
  {
   "cell_type": "code",
   "execution_count": 102,
   "id": "1d8c23de",
   "metadata": {},
   "outputs": [
    {
     "name": "stdout",
     "output_type": "stream",
     "text": [
      "Epoch 1/2\n"
     ]
    },
    {
     "ename": "ResourceExhaustedError",
     "evalue": " OOM when allocating tensor with shape[739328,256] and type float on /job:localhost/replica:0/task:0/device:GPU:0 by allocator GPU_0_bfc\n\t [[node gradient_tape/model/Embedding/dense/MatMul_5 (defined at tmp/ipykernel_19010/2638604254.py:31) ]]\nHint: If you want to see a list of allocated tensors when OOM happens, add report_tensor_allocations_upon_oom to RunOptions for current allocation info.\n [Op:__inference_train_function_28509]\n\nErrors may have originated from an input operation.\nInput Source operations connected to node gradient_tape/model/Embedding/dense/MatMul_5:\n model/Embedding/flatten/Reshape_2 (defined at tmp/ipykernel_19010/2638604254.py:58)\n\nFunction call stack:\ntrain_function\n",
     "output_type": "error",
     "traceback": [
      "\u001b[0;31m---------------------------------------------------------------------------\u001b[0m",
      "\u001b[0;31mResourceExhaustedError\u001b[0m                    Traceback (most recent call last)",
      "\u001b[0;32m/tmp/ipykernel_19010/641854760.py\u001b[0m in \u001b[0;36m<module>\u001b[0;34m\u001b[0m\n\u001b[0;32m----> 1\u001b[0;31m \u001b[0mmodel_history\u001b[0m \u001b[0;34m=\u001b[0m \u001b[0msiamese_model\u001b[0m\u001b[0;34m.\u001b[0m\u001b[0mfit\u001b[0m\u001b[0;34m(\u001b[0m\u001b[0mtrain_dl\u001b[0m\u001b[0;34m,\u001b[0m \u001b[0mvalidation_data\u001b[0m\u001b[0;34m=\u001b[0m\u001b[0mval_dl\u001b[0m\u001b[0;34m,\u001b[0m \u001b[0mepochs\u001b[0m\u001b[0;34m=\u001b[0m\u001b[0;36m2\u001b[0m\u001b[0;34m)\u001b[0m\u001b[0;34m\u001b[0m\u001b[0;34m\u001b[0m\u001b[0m\n\u001b[0m",
      "\u001b[0;32m~/anaconda3/envs/tf_gpu/lib/python3.9/site-packages/tensorflow/python/keras/engine/training.py\u001b[0m in \u001b[0;36mfit\u001b[0;34m(self, x, y, batch_size, epochs, verbose, callbacks, validation_split, validation_data, shuffle, class_weight, sample_weight, initial_epoch, steps_per_epoch, validation_steps, validation_batch_size, validation_freq, max_queue_size, workers, use_multiprocessing)\u001b[0m\n\u001b[1;32m   1098\u001b[0m                 _r=1):\n\u001b[1;32m   1099\u001b[0m               \u001b[0mcallbacks\u001b[0m\u001b[0;34m.\u001b[0m\u001b[0mon_train_batch_begin\u001b[0m\u001b[0;34m(\u001b[0m\u001b[0mstep\u001b[0m\u001b[0;34m)\u001b[0m\u001b[0;34m\u001b[0m\u001b[0;34m\u001b[0m\u001b[0m\n\u001b[0;32m-> 1100\u001b[0;31m               \u001b[0mtmp_logs\u001b[0m \u001b[0;34m=\u001b[0m \u001b[0mself\u001b[0m\u001b[0;34m.\u001b[0m\u001b[0mtrain_function\u001b[0m\u001b[0;34m(\u001b[0m\u001b[0miterator\u001b[0m\u001b[0;34m)\u001b[0m\u001b[0;34m\u001b[0m\u001b[0;34m\u001b[0m\u001b[0m\n\u001b[0m\u001b[1;32m   1101\u001b[0m               \u001b[0;32mif\u001b[0m \u001b[0mdata_handler\u001b[0m\u001b[0;34m.\u001b[0m\u001b[0mshould_sync\u001b[0m\u001b[0;34m:\u001b[0m\u001b[0;34m\u001b[0m\u001b[0;34m\u001b[0m\u001b[0m\n\u001b[1;32m   1102\u001b[0m                 \u001b[0mcontext\u001b[0m\u001b[0;34m.\u001b[0m\u001b[0masync_wait\u001b[0m\u001b[0;34m(\u001b[0m\u001b[0;34m)\u001b[0m\u001b[0;34m\u001b[0m\u001b[0;34m\u001b[0m\u001b[0m\n",
      "\u001b[0;32m~/anaconda3/envs/tf_gpu/lib/python3.9/site-packages/tensorflow/python/eager/def_function.py\u001b[0m in \u001b[0;36m__call__\u001b[0;34m(self, *args, **kwds)\u001b[0m\n\u001b[1;32m    826\u001b[0m     \u001b[0mtracing_count\u001b[0m \u001b[0;34m=\u001b[0m \u001b[0mself\u001b[0m\u001b[0;34m.\u001b[0m\u001b[0mexperimental_get_tracing_count\u001b[0m\u001b[0;34m(\u001b[0m\u001b[0;34m)\u001b[0m\u001b[0;34m\u001b[0m\u001b[0;34m\u001b[0m\u001b[0m\n\u001b[1;32m    827\u001b[0m     \u001b[0;32mwith\u001b[0m \u001b[0mtrace\u001b[0m\u001b[0;34m.\u001b[0m\u001b[0mTrace\u001b[0m\u001b[0;34m(\u001b[0m\u001b[0mself\u001b[0m\u001b[0;34m.\u001b[0m\u001b[0m_name\u001b[0m\u001b[0;34m)\u001b[0m \u001b[0;32mas\u001b[0m \u001b[0mtm\u001b[0m\u001b[0;34m:\u001b[0m\u001b[0;34m\u001b[0m\u001b[0;34m\u001b[0m\u001b[0m\n\u001b[0;32m--> 828\u001b[0;31m       \u001b[0mresult\u001b[0m \u001b[0;34m=\u001b[0m \u001b[0mself\u001b[0m\u001b[0;34m.\u001b[0m\u001b[0m_call\u001b[0m\u001b[0;34m(\u001b[0m\u001b[0;34m*\u001b[0m\u001b[0margs\u001b[0m\u001b[0;34m,\u001b[0m \u001b[0;34m**\u001b[0m\u001b[0mkwds\u001b[0m\u001b[0;34m)\u001b[0m\u001b[0;34m\u001b[0m\u001b[0;34m\u001b[0m\u001b[0m\n\u001b[0m\u001b[1;32m    829\u001b[0m       \u001b[0mcompiler\u001b[0m \u001b[0;34m=\u001b[0m \u001b[0;34m\"xla\"\u001b[0m \u001b[0;32mif\u001b[0m \u001b[0mself\u001b[0m\u001b[0;34m.\u001b[0m\u001b[0m_experimental_compile\u001b[0m \u001b[0;32melse\u001b[0m \u001b[0;34m\"nonXla\"\u001b[0m\u001b[0;34m\u001b[0m\u001b[0;34m\u001b[0m\u001b[0m\n\u001b[1;32m    830\u001b[0m       \u001b[0mnew_tracing_count\u001b[0m \u001b[0;34m=\u001b[0m \u001b[0mself\u001b[0m\u001b[0;34m.\u001b[0m\u001b[0mexperimental_get_tracing_count\u001b[0m\u001b[0;34m(\u001b[0m\u001b[0;34m)\u001b[0m\u001b[0;34m\u001b[0m\u001b[0;34m\u001b[0m\u001b[0m\n",
      "\u001b[0;32m~/anaconda3/envs/tf_gpu/lib/python3.9/site-packages/tensorflow/python/eager/def_function.py\u001b[0m in \u001b[0;36m_call\u001b[0;34m(self, *args, **kwds)\u001b[0m\n\u001b[1;32m    853\u001b[0m       \u001b[0;31m# In this case we have created variables on the first call, so we run the\u001b[0m\u001b[0;34m\u001b[0m\u001b[0;34m\u001b[0m\u001b[0m\n\u001b[1;32m    854\u001b[0m       \u001b[0;31m# defunned version which is guaranteed to never create variables.\u001b[0m\u001b[0;34m\u001b[0m\u001b[0;34m\u001b[0m\u001b[0m\n\u001b[0;32m--> 855\u001b[0;31m       \u001b[0;32mreturn\u001b[0m \u001b[0mself\u001b[0m\u001b[0;34m.\u001b[0m\u001b[0m_stateless_fn\u001b[0m\u001b[0;34m(\u001b[0m\u001b[0;34m*\u001b[0m\u001b[0margs\u001b[0m\u001b[0;34m,\u001b[0m \u001b[0;34m**\u001b[0m\u001b[0mkwds\u001b[0m\u001b[0;34m)\u001b[0m  \u001b[0;31m# pylint: disable=not-callable\u001b[0m\u001b[0;34m\u001b[0m\u001b[0;34m\u001b[0m\u001b[0m\n\u001b[0m\u001b[1;32m    856\u001b[0m     \u001b[0;32melif\u001b[0m \u001b[0mself\u001b[0m\u001b[0;34m.\u001b[0m\u001b[0m_stateful_fn\u001b[0m \u001b[0;32mis\u001b[0m \u001b[0;32mnot\u001b[0m \u001b[0;32mNone\u001b[0m\u001b[0;34m:\u001b[0m\u001b[0;34m\u001b[0m\u001b[0;34m\u001b[0m\u001b[0m\n\u001b[1;32m    857\u001b[0m       \u001b[0;31m# Release the lock early so that multiple threads can perform the call\u001b[0m\u001b[0;34m\u001b[0m\u001b[0;34m\u001b[0m\u001b[0m\n",
      "\u001b[0;32m~/anaconda3/envs/tf_gpu/lib/python3.9/site-packages/tensorflow/python/eager/function.py\u001b[0m in \u001b[0;36m__call__\u001b[0;34m(self, *args, **kwargs)\u001b[0m\n\u001b[1;32m   2940\u001b[0m       (graph_function,\n\u001b[1;32m   2941\u001b[0m        filtered_flat_args) = self._maybe_define_function(args, kwargs)\n\u001b[0;32m-> 2942\u001b[0;31m     return graph_function._call_flat(\n\u001b[0m\u001b[1;32m   2943\u001b[0m         filtered_flat_args, captured_inputs=graph_function.captured_inputs)  # pylint: disable=protected-access\n\u001b[1;32m   2944\u001b[0m \u001b[0;34m\u001b[0m\u001b[0m\n",
      "\u001b[0;32m~/anaconda3/envs/tf_gpu/lib/python3.9/site-packages/tensorflow/python/eager/function.py\u001b[0m in \u001b[0;36m_call_flat\u001b[0;34m(self, args, captured_inputs, cancellation_manager)\u001b[0m\n\u001b[1;32m   1916\u001b[0m         and executing_eagerly):\n\u001b[1;32m   1917\u001b[0m       \u001b[0;31m# No tape is watching; skip to running the function.\u001b[0m\u001b[0;34m\u001b[0m\u001b[0;34m\u001b[0m\u001b[0m\n\u001b[0;32m-> 1918\u001b[0;31m       return self._build_call_outputs(self._inference_function.call(\n\u001b[0m\u001b[1;32m   1919\u001b[0m           ctx, args, cancellation_manager=cancellation_manager))\n\u001b[1;32m   1920\u001b[0m     forward_backward = self._select_forward_and_backward_functions(\n",
      "\u001b[0;32m~/anaconda3/envs/tf_gpu/lib/python3.9/site-packages/tensorflow/python/eager/function.py\u001b[0m in \u001b[0;36mcall\u001b[0;34m(self, ctx, args, cancellation_manager)\u001b[0m\n\u001b[1;32m    553\u001b[0m       \u001b[0;32mwith\u001b[0m \u001b[0m_InterpolateFunctionError\u001b[0m\u001b[0;34m(\u001b[0m\u001b[0mself\u001b[0m\u001b[0;34m)\u001b[0m\u001b[0;34m:\u001b[0m\u001b[0;34m\u001b[0m\u001b[0;34m\u001b[0m\u001b[0m\n\u001b[1;32m    554\u001b[0m         \u001b[0;32mif\u001b[0m \u001b[0mcancellation_manager\u001b[0m \u001b[0;32mis\u001b[0m \u001b[0;32mNone\u001b[0m\u001b[0;34m:\u001b[0m\u001b[0;34m\u001b[0m\u001b[0;34m\u001b[0m\u001b[0m\n\u001b[0;32m--> 555\u001b[0;31m           outputs = execute.execute(\n\u001b[0m\u001b[1;32m    556\u001b[0m               \u001b[0mstr\u001b[0m\u001b[0;34m(\u001b[0m\u001b[0mself\u001b[0m\u001b[0;34m.\u001b[0m\u001b[0msignature\u001b[0m\u001b[0;34m.\u001b[0m\u001b[0mname\u001b[0m\u001b[0;34m)\u001b[0m\u001b[0;34m,\u001b[0m\u001b[0;34m\u001b[0m\u001b[0;34m\u001b[0m\u001b[0m\n\u001b[1;32m    557\u001b[0m               \u001b[0mnum_outputs\u001b[0m\u001b[0;34m=\u001b[0m\u001b[0mself\u001b[0m\u001b[0;34m.\u001b[0m\u001b[0m_num_outputs\u001b[0m\u001b[0;34m,\u001b[0m\u001b[0;34m\u001b[0m\u001b[0;34m\u001b[0m\u001b[0m\n",
      "\u001b[0;32m~/anaconda3/envs/tf_gpu/lib/python3.9/site-packages/tensorflow/python/eager/execute.py\u001b[0m in \u001b[0;36mquick_execute\u001b[0;34m(op_name, num_outputs, inputs, attrs, ctx, name)\u001b[0m\n\u001b[1;32m     57\u001b[0m   \u001b[0;32mtry\u001b[0m\u001b[0;34m:\u001b[0m\u001b[0;34m\u001b[0m\u001b[0;34m\u001b[0m\u001b[0m\n\u001b[1;32m     58\u001b[0m     \u001b[0mctx\u001b[0m\u001b[0;34m.\u001b[0m\u001b[0mensure_initialized\u001b[0m\u001b[0;34m(\u001b[0m\u001b[0;34m)\u001b[0m\u001b[0;34m\u001b[0m\u001b[0;34m\u001b[0m\u001b[0m\n\u001b[0;32m---> 59\u001b[0;31m     tensors = pywrap_tfe.TFE_Py_Execute(ctx._handle, device_name, op_name,\n\u001b[0m\u001b[1;32m     60\u001b[0m                                         inputs, attrs, num_outputs)\n\u001b[1;32m     61\u001b[0m   \u001b[0;32mexcept\u001b[0m \u001b[0mcore\u001b[0m\u001b[0;34m.\u001b[0m\u001b[0m_NotOkStatusException\u001b[0m \u001b[0;32mas\u001b[0m \u001b[0me\u001b[0m\u001b[0;34m:\u001b[0m\u001b[0;34m\u001b[0m\u001b[0;34m\u001b[0m\u001b[0m\n",
      "\u001b[0;31mResourceExhaustedError\u001b[0m:  OOM when allocating tensor with shape[739328,256] and type float on /job:localhost/replica:0/task:0/device:GPU:0 by allocator GPU_0_bfc\n\t [[node gradient_tape/model/Embedding/dense/MatMul_5 (defined at tmp/ipykernel_19010/2638604254.py:31) ]]\nHint: If you want to see a list of allocated tensors when OOM happens, add report_tensor_allocations_upon_oom to RunOptions for current allocation info.\n [Op:__inference_train_function_28509]\n\nErrors may have originated from an input operation.\nInput Source operations connected to node gradient_tape/model/Embedding/dense/MatMul_5:\n model/Embedding/flatten/Reshape_2 (defined at tmp/ipykernel_19010/2638604254.py:58)\n\nFunction call stack:\ntrain_function\n"
     ]
    }
   ],
   "source": [
    "model_history = siamese_model.fit(train_dl, validation_data=val_dl, epochs=2)"
   ]
  },
  {
   "cell_type": "code",
   "execution_count": 66,
   "id": "16da6be3",
   "metadata": {},
   "outputs": [
    {
     "data": {
      "image/png": "[encoded data removed]",
      "text/plain": [
       "<Figure size 432x288 with 1 Axes>"
      ]
     },
     "metadata": {
      "needs_background": "light"
     },
     "output_type": "display_data"
    }
   ],
   "source": [
    "plt.plot(model_history.history['loss'])\n",
    "plt.plot(model_history.history['val_loss'])\n",
    "plt.title('model loss')\n",
    "plt.ylabel('loss')\n",
    "plt.xlabel('epoch')\n",
    "plt.legend(['train', 'val'], loc='upper left')\n",
    "plt.show()"
   ]
  },
  {
   "cell_type": "code",
   "execution_count": null,
   "id": "1fcae9dc",
   "metadata": {},
   "outputs": [],
   "source": []
  },
  {
   "cell_type": "markdown",
   "id": "04d07625",
   "metadata": {},
   "source": [
    "## Inspecting what the network has learned"
   ]
  },
  {
   "cell_type": "code",
   "execution_count": 67,
   "id": "ea551dd8",
   "metadata": {},
   "outputs": [
    {
     "name": "stdout",
     "output_type": "stream",
     "text": [
      "tf.Tensor(1.3719418, shape=(), dtype=float32)\n",
      "tf.Tensor(1.3045418, shape=(), dtype=float32)\n",
      "tf.Tensor(1.3134549, shape=(), dtype=float32)\n"
     ]
    },
    {
     "data": {
      "image/png": "[encoded data removed]",
      "text/plain": [
       "<Figure size 648x648 with 9 Axes>"
      ]
     },
     "metadata": {
      "needs_background": "light"
     },
     "output_type": "display_data"
    }
   ],
   "source": [
    "sample = next(iter(val_dl))\n",
    "visualize2(*sample)\n",
    "\n",
    "anchor, positive, negative, _ = sample\n",
    "anchor_embedding, positive_embedding, negative_embedding = (\n",
    "    embedding(resnet.preprocess_input(anchor)),\n",
    "    embedding(resnet.preprocess_input(positive)),\n",
    "    embedding(resnet.preprocess_input(negative)),\n",
    ")"
   ]
  },
  {
   "cell_type": "code",
   "execution_count": 68,
   "id": "297293de",
   "metadata": {},
   "outputs": [
    {
     "name": "stdout",
     "output_type": "stream",
     "text": [
      "Positive similarity: 0.99965394\n",
      "Negative similarity 0.9971218\n"
     ]
    }
   ],
   "source": [
    "cosine_similarity = metrics.CosineSimilarity()\n",
    "\n",
    "positive_similarity = cosine_similarity(anchor_embedding, positive_embedding)\n",
    "print(\"Positive similarity:\", positive_similarity.numpy())\n",
    "\n",
    "negative_similarity = cosine_similarity(anchor_embedding, negative_embedding)\n",
    "print(\"Negative similarity\", negative_similarity.numpy())\n"
   ]
  },
  {
   "cell_type": "code",
   "execution_count": null,
   "id": "731f6dd8",
   "metadata": {},
   "outputs": [],
   "source": [
    "from mpl_toolkits.mplot3d import Axes3D\n",
    "import os, sys, cv2, matplotlib.pyplot as plt, numpy as np, pickle\n",
    "#import sklearn, pandas as pd, seaborn as sn\n",
    "from tensorflow.keras.models import Model, load_model, Sequential\n",
    "from tensorflow.keras import backend as K\n",
    "from sklearn.metrics import confusion_matrix\n",
    "\n",
    "import warnings\n",
    "warnings.filterwarnings('ignore')\n",
    "\n",
    "# Load models\n",
    "#model = embedding\n",
    "model = siamese_model\n",
    "\n",
    "names = next(iter(val_dl))\n",
    "\n",
    "anchor, positive, negative, rmsd = names\n",
    "anchor = tf.reshape(anchor[0], (1, 224, 224, 3))\n",
    "positive = tf.reshape(positive[0], (1, 224, 224, 3))\n",
    "negative = tf.reshape(negative[0], (1, 224, 224, 3))\n",
    "rmsd = tf.reshape(rmsd[0], (1, 1))\n",
    "\n",
    "\n",
    "test_im = []\n",
    "test_im.append(anchor)\n",
    "test_im.append(positive)\n",
    "test_im.append(negative)\n",
    "\n",
    "print(test_im[0].shape)\n",
    "_, r,c,_ = test_im[0].shape\n",
    "print(test_im[0].shape)\n",
    "test_im = np.array(test_im)\n",
    "test_im = test_im.reshape((len(test_im), r,c,3))\n",
    "\n",
    "test_im = 1 - test_im/255\n",
    "\n",
    "# Predict\n",
    "pred = model.predict([anchor, positive, negative, rmsd])\n",
    "\n",
    "print(pred)\n",
    "\n",
    "num = int(pred.shape[0]/3)\n",
    "colors = ['red', 'blue', 'green'] # set colors of target labels\n",
    "\n",
    "# Set target labels\n",
    "y = [colors[0] for i in range(num)]\n",
    "y += [colors[1] for i in range(num)]\n",
    "y += [colors[2] for i in range(num)]\n",
    "\n",
    "feat1 = pred[:,0]\n",
    "feat2 = pred[:,1]\n",
    "feat3 = pred[:,2]\n",
    "\n",
    "# Plot 3d scatter plot\n",
    "fig = plt.figure()\n",
    "ax = Axes3D(fig)\n",
    "ax.scatter(feat1, feat2, feat3, c=y, marker='.')\n",
    "plt.show()"
   ]
  },
  {
   "cell_type": "markdown",
   "id": "f54dcd02",
   "metadata": {},
   "source": [
    "# Parameter optimization "
   ]
  },
  {
   "cell_type": "code",
   "execution_count": null,
   "id": "ffc59a15",
   "metadata": {},
   "outputs": [],
   "source": [
    "def create_embedding(dropout = None):\n",
    "    base_cnn = resnet.ResNet50(\n",
    "        weights=\"imagenet\", input_shape=target_shape +  (3,), include_top=False\n",
    "    )\n",
    "\n",
    "    flatten = layers.Flatten()(base_cnn.output)\n",
    "    dense1 = layers.Dense(512, activation=\"relu\")(flatten)\n",
    "    dense1 = layers.BatchNormalization()(dense1)\n",
    "    if dropout != None: \n",
    "        layer = layers.Dropout(dropout)\n",
    "    dense2 = layers.Dense(256, activation=\"relu\")(dense1)\n",
    "    dense2 = layers.BatchNormalization()(dense2)\n",
    "    output = layers.Dense(256)(dense2)\n",
    "\n",
    "    embedding = Model(base_cnn.input, output, name=\"Embedding\")\n",
    "\n",
    "    trainable = False\n",
    "    for layer in base_cnn.layers:\n",
    "        if layer.name == \"conv5_block1_out\":\n",
    "            trainable = True\n",
    "        layer.trainable = trainable\n",
    "    return embedding"
   ]
  },
  {
   "cell_type": "code",
   "execution_count": null,
   "id": "5854fc56",
   "metadata": {},
   "outputs": [],
   "source": [
    "def create_siamese_net(embedding):\n",
    "    anchor_input = layers.Input(name=\"anchor\", shape=target_shape + (3,))\n",
    "    positive_input = layers.Input(name=\"positive\", shape=target_shape + (3,))\n",
    "    negative_input = layers.Input(name=\"negative\", shape=target_shape + (3,))\n",
    "\n",
    "    distances = DistanceLayer()(\n",
    "        embedding(resnet.preprocess_input(anchor_input)),\n",
    "        embedding(resnet.preprocess_input(positive_input)),\n",
    "        embedding(resnet.preprocess_input(negative_input)),\n",
    "    )\n",
    "\n",
    "    siamese_network = Model(\n",
    "        inputs=[anchor_input, positive_input, negative_input], outputs=distances\n",
    "    )\n",
    "\n",
    "    return siamese_network"
   ]
  },
  {
   "cell_type": "code",
   "execution_count": null,
   "id": "a5bb9634",
   "metadata": {},
   "outputs": [],
   "source": [
    "def train_model(epochs = 5, lr=0.0001, dropout=None, verbose=False):\n",
    "    embedding = create_embedding(dropout=dropout)\n",
    "    siamese_network = create_siamese_net(embedding)\n",
    "    siamese_model = SiameseModel(siamese_network)\n",
    "    siamese_model.compile(optimizer=optimizers.Adam(learning_rate=lr), metrics=[metrics.RootMeanSquaredError(name='rmse')])\n",
    "    model = siamese_model.fit(train_dl, validation_data=val_dl, epochs=epochs)\n",
    "    if verbose:\n",
    "        plt.plot(model.history['loss'])\n",
    "        plt.plot(model.history['val_loss'])\n",
    "        plt.title('model loss')\n",
    "        plt.ylabel('loss')\n",
    "        plt.xlabel('epoch')\n",
    "        plt.legend(['train', 'val'], loc='upper left')\n",
    "        plt.show()\n",
    "        plt.plot(model.history['val_rmse'])\n",
    "        plt.title('model RMSE')\n",
    "        plt.ylabel('RMSE')\n",
    "        plt.xlabel('epoch')\n",
    "        plt.legend(['rmse'], loc='upper left')\n",
    "        plt.show()\n",
    "    return siamese_model\n",
    "        \n",
    "    "
   ]
  },
  {
   "cell_type": "markdown",
   "id": "e4ad8258",
   "metadata": {},
   "source": [
    "# Save the model"
   ]
  },
  {
   "cell_type": "code",
   "execution_count": 69,
   "id": "0851c70f",
   "metadata": {},
   "outputs": [],
   "source": [
    "from tensorflow.keras import models"
   ]
  },
  {
   "cell_type": "code",
   "execution_count": 70,
   "id": "9e6f1398",
   "metadata": {},
   "outputs": [
    {
     "data": {
      "text/plain": [
       "(TensorShape([None]), TensorShape([None]), TensorShape([None, 1]))"
      ]
     },
     "execution_count": 70,
     "metadata": {},
     "output_type": "execute_result"
    }
   ],
   "source": [
    "siamese_model.compute_output_shape(input_shape= [(None, 600, 600, 3), (None, 600, 600, 3), (None, 600, 600, 3), (None, 1)])                        "
   ]
  },
  {
   "cell_type": "code",
   "execution_count": 71,
   "id": "7444ab7f",
   "metadata": {},
   "outputs": [
    {
     "name": "stdout",
     "output_type": "stream",
     "text": [
      "INFO:tensorflow:Assets written to: models/siamese_model_envs/assets\n"
     ]
    }
   ],
   "source": [
    "siamese_model.save('models/siamese_model_envs')"
   ]
  },
  {
   "cell_type": "code",
   "execution_count": 72,
   "id": "4b814891",
   "metadata": {},
   "outputs": [],
   "source": [
    "model = models.load_model('models/siamese_model_envs')"
   ]
  },
  {
   "cell_type": "markdown",
   "id": "ba4f22e8",
   "metadata": {},
   "source": [
    "# Test the model performance on instances"
   ]
  },
  {
   "cell_type": "code",
   "execution_count": 73,
   "id": "59d0ff31",
   "metadata": {},
   "outputs": [],
   "source": [
    "sample = next(iter(val_dl))"
   ]
  },
  {
   "cell_type": "code",
   "execution_count": 74,
   "id": "adedcf86",
   "metadata": {},
   "outputs": [
    {
     "data": {
      "text/plain": [
       "'5AHG_Y4L'"
      ]
     },
     "execution_count": 74,
     "metadata": {},
     "output_type": "execute_result"
    }
   ],
   "source": [
    "docked_sample = valid_good.iloc[0]\n",
    "docked_sample.docked"
   ]
  },
  {
   "cell_type": "code",
   "execution_count": 75,
   "id": "22c17baf",
   "metadata": {},
   "outputs": [],
   "source": [
    "docked_image = preprocess_image(docked_sample.img_docked)"
   ]
  },
  {
   "cell_type": "markdown",
   "id": "847adea9",
   "metadata": {},
   "source": [
    "### Sort the templates for one docked molecule by order of lowest rmsd"
   ]
  },
  {
   "cell_type": "code",
   "execution_count": 76,
   "id": "5d6bbc2a",
   "metadata": {
    "scrolled": true
   },
   "outputs": [
    {
     "data": {
      "text/html": [
       "<div>\n",
       "<style scoped>\n",
       "    .dataframe tbody tr th:only-of-type {\n",
       "        vertical-align: middle;\n",
       "    }\n",
       "\n",
       "    .dataframe tbody tr th {\n",
       "        vertical-align: top;\n",
       "    }\n",
       "\n",
       "    .dataframe thead th {\n",
       "        text-align: right;\n",
       "    }\n",
       "</style>\n",
       "<table border=\"1\" class=\"dataframe\">\n",
       "  <thead>\n",
       "    <tr style=\"text-align: right;\">\n",
       "      <th></th>\n",
       "      <th>template</th>\n",
       "      <th>docked</th>\n",
       "      <th>rmsd</th>\n",
       "      <th>uniprot_id</th>\n",
       "      <th>smiles_template</th>\n",
       "      <th>smiles_docked</th>\n",
       "      <th>mcs_smartsString</th>\n",
       "      <th>template_HeavyAtomCount</th>\n",
       "      <th>template_NHOHCount</th>\n",
       "      <th>template_NOCount</th>\n",
       "      <th>...</th>\n",
       "      <th>mcs_docked_NumRotatableBonds</th>\n",
       "      <th>ec_tanimoto_similarity</th>\n",
       "      <th>fc_tanimoto_similarity</th>\n",
       "      <th>log_RMSD</th>\n",
       "      <th>bin_RMSD</th>\n",
       "      <th>Xtransf_ec_tanimoto_similarity</th>\n",
       "      <th>Xtransf_fc_tanimoto_similarity</th>\n",
       "      <th>is_valid</th>\n",
       "      <th>img_temp</th>\n",
       "      <th>img_docked</th>\n",
       "    </tr>\n",
       "  </thead>\n",
       "  <tbody>\n",
       "    <tr>\n",
       "      <th>0</th>\n",
       "      <td>4YES_45S</td>\n",
       "      <td>5AHG_Y4L</td>\n",
       "      <td>0.656</td>\n",
       "      <td>P00734</td>\n",
       "      <td>Cc1ccc(C(=O)N2CCC[C@H]2C(=O)NCc2cc(Cl)ccc2CN)[...</td>\n",
       "      <td>CN(C)S(=O)(=O)Nc1ccc(Cl)cc1</td>\n",
       "      <td>[#7]-[#6]:,-[#6]:[#6]:[#6](-[#17]):[#6]:[#6]</td>\n",
       "      <td>26</td>\n",
       "      <td>4</td>\n",
       "      <td>6</td>\n",
       "      <td>...</td>\n",
       "      <td>1</td>\n",
       "      <td>0.155172</td>\n",
       "      <td>0.229358</td>\n",
       "      <td>-0.421594</td>\n",
       "      <td>1</td>\n",
       "      <td>-0.448276</td>\n",
       "      <td>-0.706422</td>\n",
       "      <td>True</td>\n",
       "      <td>4YES_45S.png</td>\n",
       "      <td>5AHG_Y4L.png</td>\n",
       "    </tr>\n",
       "    <tr>\n",
       "      <th>1</th>\n",
       "      <td>1ZGI_382</td>\n",
       "      <td>5AHG_Y4L</td>\n",
       "      <td>1.017</td>\n",
       "      <td>P00734</td>\n",
       "      <td>FC(F)(CNc1nccc2oc(Cc3ccccc3-n3cncn3)nc12)[C@H]...</td>\n",
       "      <td>CN(C)S(=O)(=O)Nc1ccc(Cl)cc1</td>\n",
       "      <td>[#7]-[#6]1:[#6]:[#6]:[#6]:[#6]:[#6]:1</td>\n",
       "      <td>32</td>\n",
       "      <td>2</td>\n",
       "      <td>8</td>\n",
       "      <td>...</td>\n",
       "      <td>1</td>\n",
       "      <td>0.065359</td>\n",
       "      <td>0.101351</td>\n",
       "      <td>0.016857</td>\n",
       "      <td>1</td>\n",
       "      <td>-1.346405</td>\n",
       "      <td>-1.986486</td>\n",
       "      <td>True</td>\n",
       "      <td>1ZGI_382.png</td>\n",
       "      <td>5AHG_Y4L.png</td>\n",
       "    </tr>\n",
       "    <tr>\n",
       "      <th>2</th>\n",
       "      <td>1WBG_L03</td>\n",
       "      <td>5AHG_Y4L</td>\n",
       "      <td>1.682</td>\n",
       "      <td>P00734</td>\n",
       "      <td>CSc1nnc(-c2ccc(Cl)cc2)[nH]1</td>\n",
       "      <td>CN(C)S(=O)(=O)Nc1ccc(Cl)cc1</td>\n",
       "      <td>[#6]1:[#6]:[#6]:[#6](:[#6]:[#6]:1)-[#17]</td>\n",
       "      <td>14</td>\n",
       "      <td>1</td>\n",
       "      <td>3</td>\n",
       "      <td>...</td>\n",
       "      <td>0</td>\n",
       "      <td>0.246575</td>\n",
       "      <td>0.263889</td>\n",
       "      <td>0.519984</td>\n",
       "      <td>1</td>\n",
       "      <td>0.465753</td>\n",
       "      <td>-0.361111</td>\n",
       "      <td>True</td>\n",
       "      <td>1WBG_L03.png</td>\n",
       "      <td>5AHG_Y4L.png</td>\n",
       "    </tr>\n",
       "    <tr>\n",
       "      <th>3</th>\n",
       "      <td>1SL3_170</td>\n",
       "      <td>5AHG_Y4L</td>\n",
       "      <td>1.771</td>\n",
       "      <td>P00734</td>\n",
       "      <td>O=C(Cn1c(Cl)cnc(NCC(F)(F)c2cccc[n+]2[O-])c1=O)...</td>\n",
       "      <td>CN(C)S(=O)(=O)Nc1ccc(Cl)cc1</td>\n",
       "      <td>[#7]-[#6]1:[#6]:[#6]:[#6](:[#6]:[#6]:1)-[#17]</td>\n",
       "      <td>37</td>\n",
       "      <td>2</td>\n",
       "      <td>12</td>\n",
       "      <td>...</td>\n",
       "      <td>1</td>\n",
       "      <td>0.101266</td>\n",
       "      <td>0.152318</td>\n",
       "      <td>0.571544</td>\n",
       "      <td>1</td>\n",
       "      <td>-0.987342</td>\n",
       "      <td>-1.476821</td>\n",
       "      <td>True</td>\n",
       "      <td>1SL3_170.png</td>\n",
       "      <td>5AHG_Y4L.png</td>\n",
       "    </tr>\n",
       "    <tr>\n",
       "      <th>4</th>\n",
       "      <td>1D3D_BZT</td>\n",
       "      <td>5AHG_Y4L</td>\n",
       "      <td>1.812</td>\n",
       "      <td>P00734</td>\n",
       "      <td>Oc1ccc2c(Cc3ccc(CN4CCCC4)c(Br)c3)c(-c3ccc(OCCN...</td>\n",
       "      <td>CN(C)S(=O)(=O)Nc1ccc(Cl)cc1</td>\n",
       "      <td>[#7]-[#6]:,-[#6]:[#6]:[#6]:[#6]:,-[#6]</td>\n",
       "      <td>38</td>\n",
       "      <td>1</td>\n",
       "      <td>4</td>\n",
       "      <td>...</td>\n",
       "      <td>1</td>\n",
       "      <td>0.057471</td>\n",
       "      <td>0.108434</td>\n",
       "      <td>0.594431</td>\n",
       "      <td>1</td>\n",
       "      <td>-1.425287</td>\n",
       "      <td>-1.915663</td>\n",
       "      <td>True</td>\n",
       "      <td>1D3D_BZT.png</td>\n",
       "      <td>5AHG_Y4L.png</td>\n",
       "    </tr>\n",
       "    <tr>\n",
       "      <th>5</th>\n",
       "      <td>1TA2_176</td>\n",
       "      <td>5AHG_Y4L</td>\n",
       "      <td>2.410</td>\n",
       "      <td>P00734</td>\n",
       "      <td>N[C@@H](C(=O)N1CCC[C@H]1C(=O)NCc1cc(Cl)ccc1Cl)...</td>\n",
       "      <td>CN(C)S(=O)(=O)Nc1ccc(Cl)cc1</td>\n",
       "      <td>[#7]-[#6]:,-[#6]:[#6]:[#6](-[#17]):[#6]:[#6]</td>\n",
       "      <td>34</td>\n",
       "      <td>3</td>\n",
       "      <td>5</td>\n",
       "      <td>...</td>\n",
       "      <td>1</td>\n",
       "      <td>0.114865</td>\n",
       "      <td>0.187050</td>\n",
       "      <td>0.879627</td>\n",
       "      <td>2</td>\n",
       "      <td>-0.851351</td>\n",
       "      <td>-1.129496</td>\n",
       "      <td>True</td>\n",
       "      <td>1TA2_176.png</td>\n",
       "      <td>5AHG_Y4L.png</td>\n",
       "    </tr>\n",
       "    <tr>\n",
       "      <th>6</th>\n",
       "      <td>1BCU_PRL</td>\n",
       "      <td>5AHG_Y4L</td>\n",
       "      <td>2.636</td>\n",
       "      <td>P00734</td>\n",
       "      <td>Nc1ccc2cc3ccc(N)cc3nc2c1</td>\n",
       "      <td>CN(C)S(=O)(=O)Nc1ccc(Cl)cc1</td>\n",
       "      <td>[#7]-[#6]1:[#6]:[#6]:[#6]:[#6]:[#6]:1</td>\n",
       "      <td>16</td>\n",
       "      <td>4</td>\n",
       "      <td>3</td>\n",
       "      <td>...</td>\n",
       "      <td>1</td>\n",
       "      <td>0.107527</td>\n",
       "      <td>0.107527</td>\n",
       "      <td>0.969263</td>\n",
       "      <td>2</td>\n",
       "      <td>-0.924731</td>\n",
       "      <td>-1.924731</td>\n",
       "      <td>True</td>\n",
       "      <td>1BCU_PRL.png</td>\n",
       "      <td>5AHG_Y4L.png</td>\n",
       "    </tr>\n",
       "    <tr>\n",
       "      <th>7</th>\n",
       "      <td>1GHV_120</td>\n",
       "      <td>5AHG_Y4L</td>\n",
       "      <td>3.707</td>\n",
       "      <td>P00734</td>\n",
       "      <td>NC(=[NH2+])c1ccc2[nH]c(-c3ccc[nH]c3=O)nc2c1</td>\n",
       "      <td>CN(C)S(=O)(=O)Nc1ccc(Cl)cc1</td>\n",
       "      <td>[#7]-,:[#6]1:[#6]:[#6]:[#6]:[#6]:[#6]:1</td>\n",
       "      <td>19</td>\n",
       "      <td>6</td>\n",
       "      <td>6</td>\n",
       "      <td>...</td>\n",
       "      <td>1</td>\n",
       "      <td>0.099010</td>\n",
       "      <td>0.121212</td>\n",
       "      <td>1.310223</td>\n",
       "      <td>3</td>\n",
       "      <td>-1.009901</td>\n",
       "      <td>-1.787879</td>\n",
       "      <td>True</td>\n",
       "      <td>1GHV_120.png</td>\n",
       "      <td>5AHG_Y4L.png</td>\n",
       "    </tr>\n",
       "    <tr>\n",
       "      <th>8</th>\n",
       "      <td>1C1V_BAB</td>\n",
       "      <td>5AHG_Y4L</td>\n",
       "      <td>3.765</td>\n",
       "      <td>P00734</td>\n",
       "      <td>NC(=[NH2+])c1ccc2nc(Cc3[nH]c4cc(C(N)=[NH2+])cc...</td>\n",
       "      <td>CN(C)S(=O)(=O)Nc1ccc(Cl)cc1</td>\n",
       "      <td>[#7]-,:[#6]1:[#6]:[#6]:[#6]:[#6]:[#6]:1</td>\n",
       "      <td>25</td>\n",
       "      <td>11</td>\n",
       "      <td>8</td>\n",
       "      <td>...</td>\n",
       "      <td>1</td>\n",
       "      <td>0.081301</td>\n",
       "      <td>0.108333</td>\n",
       "      <td>1.325748</td>\n",
       "      <td>3</td>\n",
       "      <td>-1.186992</td>\n",
       "      <td>-1.916667</td>\n",
       "      <td>True</td>\n",
       "      <td>1C1V_BAB.png</td>\n",
       "      <td>5AHG_Y4L.png</td>\n",
       "    </tr>\n",
       "    <tr>\n",
       "      <th>9</th>\n",
       "      <td>1C1U_BAI</td>\n",
       "      <td>5AHG_Y4L</td>\n",
       "      <td>3.943</td>\n",
       "      <td>P00734</td>\n",
       "      <td>N=C(N)c1ccc2[nH]c(Cc3nc4ccccc4[nH]3)nc2c1</td>\n",
       "      <td>CN(C)S(=O)(=O)Nc1ccc(Cl)cc1</td>\n",
       "      <td>[#7]-,:[#6]1:[#6]:[#6]:[#6]:[#6]:[#6]:1</td>\n",
       "      <td>22</td>\n",
       "      <td>5</td>\n",
       "      <td>6</td>\n",
       "      <td>...</td>\n",
       "      <td>1</td>\n",
       "      <td>0.086957</td>\n",
       "      <td>0.106195</td>\n",
       "      <td>1.371942</td>\n",
       "      <td>3</td>\n",
       "      <td>-1.130435</td>\n",
       "      <td>-1.938053</td>\n",
       "      <td>True</td>\n",
       "      <td>1C1U_BAI.png</td>\n",
       "      <td>5AHG_Y4L.png</td>\n",
       "    </tr>\n",
       "    <tr>\n",
       "      <th>10</th>\n",
       "      <td>1YPG_UIR</td>\n",
       "      <td>5AHG_Y4L</td>\n",
       "      <td>4.533</td>\n",
       "      <td>P00734</td>\n",
       "      <td>N=C(N)c1ccc([C@H]2[C@H]3C(=O)N(Cc4ccc5c(c4)OCO...</td>\n",
       "      <td>CN(C)S(=O)(=O)Nc1ccc(Cl)cc1</td>\n",
       "      <td>[#7]-[#6](:,-[#6]:,-[#6]:,-[#6]):,-[#6]:,-[#6]</td>\n",
       "      <td>34</td>\n",
       "      <td>3</td>\n",
       "      <td>7</td>\n",
       "      <td>...</td>\n",
       "      <td>1</td>\n",
       "      <td>0.070513</td>\n",
       "      <td>0.120805</td>\n",
       "      <td>1.511384</td>\n",
       "      <td>3</td>\n",
       "      <td>-1.294872</td>\n",
       "      <td>-1.791946</td>\n",
       "      <td>True</td>\n",
       "      <td>1YPG_UIR.png</td>\n",
       "      <td>5AHG_Y4L.png</td>\n",
       "    </tr>\n",
       "    <tr>\n",
       "      <th>11</th>\n",
       "      <td>1YPE_UIP</td>\n",
       "      <td>5AHG_Y4L</td>\n",
       "      <td>5.018</td>\n",
       "      <td>P00734</td>\n",
       "      <td>CC[C@@H]1[C@@H]2[C@H](C(=O)N1Cc1ccc3c(c1)OCO3)...</td>\n",
       "      <td>CN(C)S(=O)(=O)Nc1ccc(Cl)cc1</td>\n",
       "      <td>[#7]-[#6](:,-[#6]:,-[#6]:,-[#6]):,-[#6]:,-[#6]</td>\n",
       "      <td>33</td>\n",
       "      <td>3</td>\n",
       "      <td>7</td>\n",
       "      <td>...</td>\n",
       "      <td>1</td>\n",
       "      <td>0.079470</td>\n",
       "      <td>0.131944</td>\n",
       "      <td>1.613031</td>\n",
       "      <td>3</td>\n",
       "      <td>-1.205298</td>\n",
       "      <td>-1.680556</td>\n",
       "      <td>True</td>\n",
       "      <td>1YPE_UIP.png</td>\n",
       "      <td>5AHG_Y4L.png</td>\n",
       "    </tr>\n",
       "    <tr>\n",
       "      <th>12</th>\n",
       "      <td>1C5N_ESI</td>\n",
       "      <td>5AHG_Y4L</td>\n",
       "      <td>5.508</td>\n",
       "      <td>P00734</td>\n",
       "      <td>NC(=[NH2+])c1cc2c(I)cccc2s1</td>\n",
       "      <td>CN(C)S(=O)(=O)Nc1ccc(Cl)cc1</td>\n",
       "      <td>[#7]-[#6]:,-[#6]:[#6]:[#6]:[#6]:[#6]</td>\n",
       "      <td>13</td>\n",
       "      <td>4</td>\n",
       "      <td>2</td>\n",
       "      <td>...</td>\n",
       "      <td>1</td>\n",
       "      <td>0.101266</td>\n",
       "      <td>0.208333</td>\n",
       "      <td>1.706202</td>\n",
       "      <td>3</td>\n",
       "      <td>-0.987342</td>\n",
       "      <td>-0.916667</td>\n",
       "      <td>True</td>\n",
       "      <td>1C5N_ESI.png</td>\n",
       "      <td>5AHG_Y4L.png</td>\n",
       "    </tr>\n",
       "    <tr>\n",
       "      <th>13</th>\n",
       "      <td>1T4V_14A</td>\n",
       "      <td>5AHG_Y4L</td>\n",
       "      <td>6.055</td>\n",
       "      <td>P00734</td>\n",
       "      <td>C=CCN(C(=O)c1cc(Cl)cc(OCCCONC(=N)N)c1)C1CCCC1</td>\n",
       "      <td>CN(C)S(=O)(=O)Nc1ccc(Cl)cc1</td>\n",
       "      <td>[#7]-[#6]:,-[#6]:[#6]:[#6](-[#17]):[#6]:[#6]</td>\n",
       "      <td>27</td>\n",
       "      <td>4</td>\n",
       "      <td>7</td>\n",
       "      <td>...</td>\n",
       "      <td>1</td>\n",
       "      <td>0.087302</td>\n",
       "      <td>0.191304</td>\n",
       "      <td>1.800884</td>\n",
       "      <td>3</td>\n",
       "      <td>-1.126984</td>\n",
       "      <td>-1.086957</td>\n",
       "      <td>True</td>\n",
       "      <td>1T4V_14A.png</td>\n",
       "      <td>5AHG_Y4L.png</td>\n",
       "    </tr>\n",
       "    <tr>\n",
       "      <th>14</th>\n",
       "      <td>1A4W_QWE</td>\n",
       "      <td>5AHG_Y4L</td>\n",
       "      <td>6.808</td>\n",
       "      <td>P00734</td>\n",
       "      <td>CN(C)c1cccc2c(S(=O)(=O)N[C@@H](CCCNC(N)=[NH2+]...</td>\n",
       "      <td>CN(C)S(=O)(=O)Nc1ccc(Cl)cc1</td>\n",
       "      <td>[#16](=[#8])(=[#8])-[#7]-[#6](:,-[#6]:,-[#6]:,...</td>\n",
       "      <td>42</td>\n",
       "      <td>6</td>\n",
       "      <td>11</td>\n",
       "      <td>...</td>\n",
       "      <td>2</td>\n",
       "      <td>0.123529</td>\n",
       "      <td>0.116959</td>\n",
       "      <td>1.918098</td>\n",
       "      <td>3</td>\n",
       "      <td>-0.764706</td>\n",
       "      <td>-1.830409</td>\n",
       "      <td>True</td>\n",
       "      <td>1A4W_QWE.png</td>\n",
       "      <td>5AHG_Y4L.png</td>\n",
       "    </tr>\n",
       "    <tr>\n",
       "      <th>15</th>\n",
       "      <td>3SV2_P05</td>\n",
       "      <td>5AHG_Y4L</td>\n",
       "      <td>7.856</td>\n",
       "      <td>P00734</td>\n",
       "      <td>N[C@H](Cc1ccccc1)C(=O)N1CCC[C@H]1C(=O)NCc1ccncc1</td>\n",
       "      <td>CN(C)S(=O)(=O)Nc1ccc(Cl)cc1</td>\n",
       "      <td>[#7]-[#6](:,-[#6]:,-[#6]:[#6]:[#6]):,-[#6]</td>\n",
       "      <td>26</td>\n",
       "      <td>3</td>\n",
       "      <td>6</td>\n",
       "      <td>...</td>\n",
       "      <td>1</td>\n",
       "      <td>0.104839</td>\n",
       "      <td>0.170940</td>\n",
       "      <td>2.061278</td>\n",
       "      <td>3</td>\n",
       "      <td>-0.951613</td>\n",
       "      <td>-1.290598</td>\n",
       "      <td>True</td>\n",
       "      <td>3SV2_P05.png</td>\n",
       "      <td>5AHG_Y4L.png</td>\n",
       "    </tr>\n",
       "    <tr>\n",
       "      <th>16</th>\n",
       "      <td>1AE8_AZL</td>\n",
       "      <td>5AHG_Y4L</td>\n",
       "      <td>7.867</td>\n",
       "      <td>P00734</td>\n",
       "      <td>CCOC(=O)N[C@H](Cc1ccccc1)C(=O)N1CCC[C@H]1C(=O)...</td>\n",
       "      <td>CN(C)S(=O)(=O)Nc1ccc(Cl)cc1</td>\n",
       "      <td>[#7]-[#6](:,-[#6]:,-[#6]:[#6]:[#6]):,-[#6]</td>\n",
       "      <td>30</td>\n",
       "      <td>5</td>\n",
       "      <td>9</td>\n",
       "      <td>...</td>\n",
       "      <td>1</td>\n",
       "      <td>0.079710</td>\n",
       "      <td>0.164062</td>\n",
       "      <td>2.062677</td>\n",
       "      <td>3</td>\n",
       "      <td>-1.202899</td>\n",
       "      <td>-1.359375</td>\n",
       "      <td>True</td>\n",
       "      <td>1AE8_AZL.png</td>\n",
       "      <td>5AHG_Y4L.png</td>\n",
       "    </tr>\n",
       "    <tr>\n",
       "      <th>17</th>\n",
       "      <td>1AFE_ALZ</td>\n",
       "      <td>5AHG_Y4L</td>\n",
       "      <td>7.989</td>\n",
       "      <td>P00734</td>\n",
       "      <td>NCCCCNNC(=O)[C@@H]1CCCN1C(=O)OCc1ccccc1</td>\n",
       "      <td>CN(C)S(=O)(=O)Nc1ccc(Cl)cc1</td>\n",
       "      <td>[#6]1:[#6]:[#6]:[#6]:[#6]:[#6]:1</td>\n",
       "      <td>24</td>\n",
       "      <td>4</td>\n",
       "      <td>7</td>\n",
       "      <td>...</td>\n",
       "      <td>0</td>\n",
       "      <td>0.083333</td>\n",
       "      <td>0.181818</td>\n",
       "      <td>2.078066</td>\n",
       "      <td>3</td>\n",
       "      <td>-1.166667</td>\n",
       "      <td>-1.181818</td>\n",
       "      <td>True</td>\n",
       "      <td>1AFE_ALZ.png</td>\n",
       "      <td>5AHG_Y4L.png</td>\n",
       "    </tr>\n",
       "    <tr>\n",
       "      <th>18</th>\n",
       "      <td>3QTV_06P</td>\n",
       "      <td>5AHG_Y4L</td>\n",
       "      <td>8.300</td>\n",
       "      <td>P00734</td>\n",
       "      <td>C[n+]1ccc(CNC(=O)[C@@H]2CCCN2C(=O)[C@H](N)Cc2c...</td>\n",
       "      <td>CN(C)S(=O)(=O)Nc1ccc(Cl)cc1</td>\n",
       "      <td>[#7]-[#6](:,-[#6]:,-[#6]:[#6]:[#6]):,-[#6]</td>\n",
       "      <td>27</td>\n",
       "      <td>3</td>\n",
       "      <td>6</td>\n",
       "      <td>...</td>\n",
       "      <td>1</td>\n",
       "      <td>0.112000</td>\n",
       "      <td>0.168067</td>\n",
       "      <td>2.116256</td>\n",
       "      <td>3</td>\n",
       "      <td>-0.880000</td>\n",
       "      <td>-1.319328</td>\n",
       "      <td>True</td>\n",
       "      <td>3QTV_06P.png</td>\n",
       "      <td>5AHG_Y4L.png</td>\n",
       "    </tr>\n",
       "    <tr>\n",
       "      <th>19</th>\n",
       "      <td>3SI3_B03</td>\n",
       "      <td>5AHG_Y4L</td>\n",
       "      <td>8.404</td>\n",
       "      <td>P00734</td>\n",
       "      <td>N[C@H](Cc1ccccc1)C(=O)N1CCC[C@H]1C(=O)NCc1ccccn1</td>\n",
       "      <td>CN(C)S(=O)(=O)Nc1ccc(Cl)cc1</td>\n",
       "      <td>[#7]-[#6](:,-[#6]:,-[#6]:[#6]:[#6]):,-[#6]</td>\n",
       "      <td>26</td>\n",
       "      <td>3</td>\n",
       "      <td>6</td>\n",
       "      <td>...</td>\n",
       "      <td>1</td>\n",
       "      <td>0.096000</td>\n",
       "      <td>0.170940</td>\n",
       "      <td>2.128708</td>\n",
       "      <td>3</td>\n",
       "      <td>-1.040000</td>\n",
       "      <td>-1.290598</td>\n",
       "      <td>True</td>\n",
       "      <td>3SI3_B03.png</td>\n",
       "      <td>5AHG_Y4L.png</td>\n",
       "    </tr>\n",
       "    <tr>\n",
       "      <th>20</th>\n",
       "      <td>3QX5_02P</td>\n",
       "      <td>5AHG_Y4L</td>\n",
       "      <td>8.489</td>\n",
       "      <td>P00734</td>\n",
       "      <td>C[n+]1ccc(Cl)cc1CNC(=O)[C@@H]1CCCN1C(=O)[C@H](...</td>\n",
       "      <td>CN(C)S(=O)(=O)Nc1ccc(Cl)cc1</td>\n",
       "      <td>[#7]-[#6]:,-[#6]:[#6]:[#6](-[#17]):[#6]:[#6]</td>\n",
       "      <td>28</td>\n",
       "      <td>3</td>\n",
       "      <td>6</td>\n",
       "      <td>...</td>\n",
       "      <td>1</td>\n",
       "      <td>0.125984</td>\n",
       "      <td>0.201681</td>\n",
       "      <td>2.138771</td>\n",
       "      <td>3</td>\n",
       "      <td>-0.740157</td>\n",
       "      <td>-0.983193</td>\n",
       "      <td>True</td>\n",
       "      <td>3QX5_02P.png</td>\n",
       "      <td>5AHG_Y4L.png</td>\n",
       "    </tr>\n",
       "    <tr>\n",
       "      <th>21</th>\n",
       "      <td>3SHC_B01</td>\n",
       "      <td>5AHG_Y4L</td>\n",
       "      <td>8.492</td>\n",
       "      <td>P00734</td>\n",
       "      <td>N[C@H](Cc1ccccc1)C(=O)N1CCC[C@H]1C(=O)NCc1cc(C...</td>\n",
       "      <td>CN(C)S(=O)(=O)Nc1ccc(Cl)cc1</td>\n",
       "      <td>[#7]-[#6]:,-[#6]:[#6]:[#6](-[#17]):[#6]:[#6]</td>\n",
       "      <td>27</td>\n",
       "      <td>3</td>\n",
       "      <td>6</td>\n",
       "      <td>...</td>\n",
       "      <td>1</td>\n",
       "      <td>0.120000</td>\n",
       "      <td>0.206897</td>\n",
       "      <td>2.139125</td>\n",
       "      <td>3</td>\n",
       "      <td>-0.800000</td>\n",
       "      <td>-0.931034</td>\n",
       "      <td>True</td>\n",
       "      <td>3SHC_B01.png</td>\n",
       "      <td>5AHG_Y4L.png</td>\n",
       "    </tr>\n",
       "    <tr>\n",
       "      <th>22</th>\n",
       "      <td>1KTT_C02</td>\n",
       "      <td>5AHG_Y4L</td>\n",
       "      <td>8.640</td>\n",
       "      <td>P00734</td>\n",
       "      <td>Cn1c(Cc2ccc(C(=N)N)cc2)nc2cc(NS(=O)(=O)c3ccccc...</td>\n",
       "      <td>CN(C)S(=O)(=O)Nc1ccc(Cl)cc1</td>\n",
       "      <td>[#16](=[#8])(=[#8])-[#7]-[#6]1:[#6]:[#6]:[#6]:...</td>\n",
       "      <td>30</td>\n",
       "      <td>4</td>\n",
       "      <td>7</td>\n",
       "      <td>...</td>\n",
       "      <td>2</td>\n",
       "      <td>0.156250</td>\n",
       "      <td>0.184000</td>\n",
       "      <td>2.156403</td>\n",
       "      <td>3</td>\n",
       "      <td>-0.437500</td>\n",
       "      <td>-1.160000</td>\n",
       "      <td>True</td>\n",
       "      <td>1KTT_C02.png</td>\n",
       "      <td>5AHG_Y4L.png</td>\n",
       "    </tr>\n",
       "  </tbody>\n",
       "</table>\n",
       "<p>23 rows × 44 columns</p>\n",
       "</div>"
      ],
      "text/plain": [
       "    template    docked   rmsd uniprot_id  \\\n",
       "0   4YES_45S  5AHG_Y4L  0.656     P00734   \n",
       "1   1ZGI_382  5AHG_Y4L  1.017     P00734   \n",
       "2   1WBG_L03  5AHG_Y4L  1.682     P00734   \n",
       "3   1SL3_170  5AHG_Y4L  1.771     P00734   \n",
       "4   1D3D_BZT  5AHG_Y4L  1.812     P00734   \n",
       "5   1TA2_176  5AHG_Y4L  2.410     P00734   \n",
       "6   1BCU_PRL  5AHG_Y4L  2.636     P00734   \n",
       "7   1GHV_120  5AHG_Y4L  3.707     P00734   \n",
       "8   1C1V_BAB  5AHG_Y4L  3.765     P00734   \n",
       "9   1C1U_BAI  5AHG_Y4L  3.943     P00734   \n",
       "10  1YPG_UIR  5AHG_Y4L  4.533     P00734   \n",
       "11  1YPE_UIP  5AHG_Y4L  5.018     P00734   \n",
       "12  1C5N_ESI  5AHG_Y4L  5.508     P00734   \n",
       "13  1T4V_14A  5AHG_Y4L  6.055     P00734   \n",
       "14  1A4W_QWE  5AHG_Y4L  6.808     P00734   \n",
       "15  3SV2_P05  5AHG_Y4L  7.856     P00734   \n",
       "16  1AE8_AZL  5AHG_Y4L  7.867     P00734   \n",
       "17  1AFE_ALZ  5AHG_Y4L  7.989     P00734   \n",
       "18  3QTV_06P  5AHG_Y4L  8.300     P00734   \n",
       "19  3SI3_B03  5AHG_Y4L  8.404     P00734   \n",
       "20  3QX5_02P  5AHG_Y4L  8.489     P00734   \n",
       "21  3SHC_B01  5AHG_Y4L  8.492     P00734   \n",
       "22  1KTT_C02  5AHG_Y4L  8.640     P00734   \n",
       "\n",
       "                                      smiles_template  \\\n",
       "0   Cc1ccc(C(=O)N2CCC[C@H]2C(=O)NCc2cc(Cl)ccc2CN)[...   \n",
       "1   FC(F)(CNc1nccc2oc(Cc3ccccc3-n3cncn3)nc12)[C@H]...   \n",
       "2                         CSc1nnc(-c2ccc(Cl)cc2)[nH]1   \n",
       "3   O=C(Cn1c(Cl)cnc(NCC(F)(F)c2cccc[n+]2[O-])c1=O)...   \n",
       "4   Oc1ccc2c(Cc3ccc(CN4CCCC4)c(Br)c3)c(-c3ccc(OCCN...   \n",
       "5   N[C@@H](C(=O)N1CCC[C@H]1C(=O)NCc1cc(Cl)ccc1Cl)...   \n",
       "6                            Nc1ccc2cc3ccc(N)cc3nc2c1   \n",
       "7         NC(=[NH2+])c1ccc2[nH]c(-c3ccc[nH]c3=O)nc2c1   \n",
       "8   NC(=[NH2+])c1ccc2nc(Cc3[nH]c4cc(C(N)=[NH2+])cc...   \n",
       "9           N=C(N)c1ccc2[nH]c(Cc3nc4ccccc4[nH]3)nc2c1   \n",
       "10  N=C(N)c1ccc([C@H]2[C@H]3C(=O)N(Cc4ccc5c(c4)OCO...   \n",
       "11  CC[C@@H]1[C@@H]2[C@H](C(=O)N1Cc1ccc3c(c1)OCO3)...   \n",
       "12                        NC(=[NH2+])c1cc2c(I)cccc2s1   \n",
       "13      C=CCN(C(=O)c1cc(Cl)cc(OCCCONC(=N)N)c1)C1CCCC1   \n",
       "14  CN(C)c1cccc2c(S(=O)(=O)N[C@@H](CCCNC(N)=[NH2+]...   \n",
       "15   N[C@H](Cc1ccccc1)C(=O)N1CCC[C@H]1C(=O)NCc1ccncc1   \n",
       "16  CCOC(=O)N[C@H](Cc1ccccc1)C(=O)N1CCC[C@H]1C(=O)...   \n",
       "17            NCCCCNNC(=O)[C@@H]1CCCN1C(=O)OCc1ccccc1   \n",
       "18  C[n+]1ccc(CNC(=O)[C@@H]2CCCN2C(=O)[C@H](N)Cc2c...   \n",
       "19   N[C@H](Cc1ccccc1)C(=O)N1CCC[C@H]1C(=O)NCc1ccccn1   \n",
       "20  C[n+]1ccc(Cl)cc1CNC(=O)[C@@H]1CCCN1C(=O)[C@H](...   \n",
       "21  N[C@H](Cc1ccccc1)C(=O)N1CCC[C@H]1C(=O)NCc1cc(C...   \n",
       "22  Cn1c(Cc2ccc(C(=N)N)cc2)nc2cc(NS(=O)(=O)c3ccccc...   \n",
       "\n",
       "                  smiles_docked  \\\n",
       "0   CN(C)S(=O)(=O)Nc1ccc(Cl)cc1   \n",
       "1   CN(C)S(=O)(=O)Nc1ccc(Cl)cc1   \n",
       "2   CN(C)S(=O)(=O)Nc1ccc(Cl)cc1   \n",
       "3   CN(C)S(=O)(=O)Nc1ccc(Cl)cc1   \n",
       "4   CN(C)S(=O)(=O)Nc1ccc(Cl)cc1   \n",
       "5   CN(C)S(=O)(=O)Nc1ccc(Cl)cc1   \n",
       "6   CN(C)S(=O)(=O)Nc1ccc(Cl)cc1   \n",
       "7   CN(C)S(=O)(=O)Nc1ccc(Cl)cc1   \n",
       "8   CN(C)S(=O)(=O)Nc1ccc(Cl)cc1   \n",
       "9   CN(C)S(=O)(=O)Nc1ccc(Cl)cc1   \n",
       "10  CN(C)S(=O)(=O)Nc1ccc(Cl)cc1   \n",
       "11  CN(C)S(=O)(=O)Nc1ccc(Cl)cc1   \n",
       "12  CN(C)S(=O)(=O)Nc1ccc(Cl)cc1   \n",
       "13  CN(C)S(=O)(=O)Nc1ccc(Cl)cc1   \n",
       "14  CN(C)S(=O)(=O)Nc1ccc(Cl)cc1   \n",
       "15  CN(C)S(=O)(=O)Nc1ccc(Cl)cc1   \n",
       "16  CN(C)S(=O)(=O)Nc1ccc(Cl)cc1   \n",
       "17  CN(C)S(=O)(=O)Nc1ccc(Cl)cc1   \n",
       "18  CN(C)S(=O)(=O)Nc1ccc(Cl)cc1   \n",
       "19  CN(C)S(=O)(=O)Nc1ccc(Cl)cc1   \n",
       "20  CN(C)S(=O)(=O)Nc1ccc(Cl)cc1   \n",
       "21  CN(C)S(=O)(=O)Nc1ccc(Cl)cc1   \n",
       "22  CN(C)S(=O)(=O)Nc1ccc(Cl)cc1   \n",
       "\n",
       "                                     mcs_smartsString  \\\n",
       "0        [#7]-[#6]:,-[#6]:[#6]:[#6](-[#17]):[#6]:[#6]   \n",
       "1               [#7]-[#6]1:[#6]:[#6]:[#6]:[#6]:[#6]:1   \n",
       "2            [#6]1:[#6]:[#6]:[#6](:[#6]:[#6]:1)-[#17]   \n",
       "3       [#7]-[#6]1:[#6]:[#6]:[#6](:[#6]:[#6]:1)-[#17]   \n",
       "4              [#7]-[#6]:,-[#6]:[#6]:[#6]:[#6]:,-[#6]   \n",
       "5        [#7]-[#6]:,-[#6]:[#6]:[#6](-[#17]):[#6]:[#6]   \n",
       "6               [#7]-[#6]1:[#6]:[#6]:[#6]:[#6]:[#6]:1   \n",
       "7             [#7]-,:[#6]1:[#6]:[#6]:[#6]:[#6]:[#6]:1   \n",
       "8             [#7]-,:[#6]1:[#6]:[#6]:[#6]:[#6]:[#6]:1   \n",
       "9             [#7]-,:[#6]1:[#6]:[#6]:[#6]:[#6]:[#6]:1   \n",
       "10     [#7]-[#6](:,-[#6]:,-[#6]:,-[#6]):,-[#6]:,-[#6]   \n",
       "11     [#7]-[#6](:,-[#6]:,-[#6]:,-[#6]):,-[#6]:,-[#6]   \n",
       "12               [#7]-[#6]:,-[#6]:[#6]:[#6]:[#6]:[#6]   \n",
       "13       [#7]-[#6]:,-[#6]:[#6]:[#6](-[#17]):[#6]:[#6]   \n",
       "14  [#16](=[#8])(=[#8])-[#7]-[#6](:,-[#6]:,-[#6]:,...   \n",
       "15         [#7]-[#6](:,-[#6]:,-[#6]:[#6]:[#6]):,-[#6]   \n",
       "16         [#7]-[#6](:,-[#6]:,-[#6]:[#6]:[#6]):,-[#6]   \n",
       "17                   [#6]1:[#6]:[#6]:[#6]:[#6]:[#6]:1   \n",
       "18         [#7]-[#6](:,-[#6]:,-[#6]:[#6]:[#6]):,-[#6]   \n",
       "19         [#7]-[#6](:,-[#6]:,-[#6]:[#6]:[#6]):,-[#6]   \n",
       "20       [#7]-[#6]:,-[#6]:[#6]:[#6](-[#17]):[#6]:[#6]   \n",
       "21       [#7]-[#6]:,-[#6]:[#6]:[#6](-[#17]):[#6]:[#6]   \n",
       "22  [#16](=[#8])(=[#8])-[#7]-[#6]1:[#6]:[#6]:[#6]:...   \n",
       "\n",
       "    template_HeavyAtomCount  template_NHOHCount  template_NOCount  ...  \\\n",
       "0                        26                   4                 6  ...   \n",
       "1                        32                   2                 8  ...   \n",
       "2                        14                   1                 3  ...   \n",
       "3                        37                   2                12  ...   \n",
       "4                        38                   1                 4  ...   \n",
       "5                        34                   3                 5  ...   \n",
       "6                        16                   4                 3  ...   \n",
       "7                        19                   6                 6  ...   \n",
       "8                        25                  11                 8  ...   \n",
       "9                        22                   5                 6  ...   \n",
       "10                       34                   3                 7  ...   \n",
       "11                       33                   3                 7  ...   \n",
       "12                       13                   4                 2  ...   \n",
       "13                       27                   4                 7  ...   \n",
       "14                       42                   6                11  ...   \n",
       "15                       26                   3                 6  ...   \n",
       "16                       30                   5                 9  ...   \n",
       "17                       24                   4                 7  ...   \n",
       "18                       27                   3                 6  ...   \n",
       "19                       26                   3                 6  ...   \n",
       "20                       28                   3                 6  ...   \n",
       "21                       27                   3                 6  ...   \n",
       "22                       30                   4                 7  ...   \n",
       "\n",
       "    mcs_docked_NumRotatableBonds  ec_tanimoto_similarity  \\\n",
       "0                              1                0.155172   \n",
       "1                              1                0.065359   \n",
       "2                              0                0.246575   \n",
       "3                              1                0.101266   \n",
       "4                              1                0.057471   \n",
       "5                              1                0.114865   \n",
       "6                              1                0.107527   \n",
       "7                              1                0.099010   \n",
       "8                              1                0.081301   \n",
       "9                              1                0.086957   \n",
       "10                             1                0.070513   \n",
       "11                             1                0.079470   \n",
       "12                             1                0.101266   \n",
       "13                             1                0.087302   \n",
       "14                             2                0.123529   \n",
       "15                             1                0.104839   \n",
       "16                             1                0.079710   \n",
       "17                             0                0.083333   \n",
       "18                             1                0.112000   \n",
       "19                             1                0.096000   \n",
       "20                             1                0.125984   \n",
       "21                             1                0.120000   \n",
       "22                             2                0.156250   \n",
       "\n",
       "    fc_tanimoto_similarity  log_RMSD  bin_RMSD  \\\n",
       "0                 0.229358 -0.421594         1   \n",
       "1                 0.101351  0.016857         1   \n",
       "2                 0.263889  0.519984         1   \n",
       "3                 0.152318  0.571544         1   \n",
       "4                 0.108434  0.594431         1   \n",
       "5                 0.187050  0.879627         2   \n",
       "6                 0.107527  0.969263         2   \n",
       "7                 0.121212  1.310223         3   \n",
       "8                 0.108333  1.325748         3   \n",
       "9                 0.106195  1.371942         3   \n",
       "10                0.120805  1.511384         3   \n",
       "11                0.131944  1.613031         3   \n",
       "12                0.208333  1.706202         3   \n",
       "13                0.191304  1.800884         3   \n",
       "14                0.116959  1.918098         3   \n",
       "15                0.170940  2.061278         3   \n",
       "16                0.164062  2.062677         3   \n",
       "17                0.181818  2.078066         3   \n",
       "18                0.168067  2.116256         3   \n",
       "19                0.170940  2.128708         3   \n",
       "20                0.201681  2.138771         3   \n",
       "21                0.206897  2.139125         3   \n",
       "22                0.184000  2.156403         3   \n",
       "\n",
       "    Xtransf_ec_tanimoto_similarity  Xtransf_fc_tanimoto_similarity  is_valid  \\\n",
       "0                        -0.448276                       -0.706422      True   \n",
       "1                        -1.346405                       -1.986486      True   \n",
       "2                         0.465753                       -0.361111      True   \n",
       "3                        -0.987342                       -1.476821      True   \n",
       "4                        -1.425287                       -1.915663      True   \n",
       "5                        -0.851351                       -1.129496      True   \n",
       "6                        -0.924731                       -1.924731      True   \n",
       "7                        -1.009901                       -1.787879      True   \n",
       "8                        -1.186992                       -1.916667      True   \n",
       "9                        -1.130435                       -1.938053      True   \n",
       "10                       -1.294872                       -1.791946      True   \n",
       "11                       -1.205298                       -1.680556      True   \n",
       "12                       -0.987342                       -0.916667      True   \n",
       "13                       -1.126984                       -1.086957      True   \n",
       "14                       -0.764706                       -1.830409      True   \n",
       "15                       -0.951613                       -1.290598      True   \n",
       "16                       -1.202899                       -1.359375      True   \n",
       "17                       -1.166667                       -1.181818      True   \n",
       "18                       -0.880000                       -1.319328      True   \n",
       "19                       -1.040000                       -1.290598      True   \n",
       "20                       -0.740157                       -0.983193      True   \n",
       "21                       -0.800000                       -0.931034      True   \n",
       "22                       -0.437500                       -1.160000      True   \n",
       "\n",
       "        img_temp    img_docked  \n",
       "0   4YES_45S.png  5AHG_Y4L.png  \n",
       "1   1ZGI_382.png  5AHG_Y4L.png  \n",
       "2   1WBG_L03.png  5AHG_Y4L.png  \n",
       "3   1SL3_170.png  5AHG_Y4L.png  \n",
       "4   1D3D_BZT.png  5AHG_Y4L.png  \n",
       "5   1TA2_176.png  5AHG_Y4L.png  \n",
       "6   1BCU_PRL.png  5AHG_Y4L.png  \n",
       "7   1GHV_120.png  5AHG_Y4L.png  \n",
       "8   1C1V_BAB.png  5AHG_Y4L.png  \n",
       "9   1C1U_BAI.png  5AHG_Y4L.png  \n",
       "10  1YPG_UIR.png  5AHG_Y4L.png  \n",
       "11  1YPE_UIP.png  5AHG_Y4L.png  \n",
       "12  1C5N_ESI.png  5AHG_Y4L.png  \n",
       "13  1T4V_14A.png  5AHG_Y4L.png  \n",
       "14  1A4W_QWE.png  5AHG_Y4L.png  \n",
       "15  3SV2_P05.png  5AHG_Y4L.png  \n",
       "16  1AE8_AZL.png  5AHG_Y4L.png  \n",
       "17  1AFE_ALZ.png  5AHG_Y4L.png  \n",
       "18  3QTV_06P.png  5AHG_Y4L.png  \n",
       "19  3SI3_B03.png  5AHG_Y4L.png  \n",
       "20  3QX5_02P.png  5AHG_Y4L.png  \n",
       "21  3SHC_B01.png  5AHG_Y4L.png  \n",
       "22  1KTT_C02.png  5AHG_Y4L.png  \n",
       "\n",
       "[23 rows x 44 columns]"
      ]
     },
     "execution_count": 76,
     "metadata": {},
     "output_type": "execute_result"
    }
   ],
   "source": [
    "templates = valid[valid.docked == docked_sample.docked]\n",
    "templates = templates.reset_index(drop=True)\n",
    "templates = templates.sort_values(by=['rmsd'], ignore_index=True)\n",
    "templates"
   ]
  },
  {
   "cell_type": "code",
   "execution_count": 77,
   "id": "1f2cb69c",
   "metadata": {},
   "outputs": [],
   "source": [
    "template_image = preprocess_image(templates.iloc[0].img_temp)"
   ]
  },
  {
   "cell_type": "code",
   "execution_count": 78,
   "id": "1cd4f7fc",
   "metadata": {},
   "outputs": [
    {
     "name": "stdout",
     "output_type": "stream",
     "text": [
      "Show docked molecule\n"
     ]
    },
    {
     "data": {
      "text/plain": [
       "<matplotlib.image.AxesImage at 0x7f0d5e33ae80>"
      ]
     },
     "execution_count": 78,
     "metadata": {},
     "output_type": "execute_result"
    },
    {
     "data": {
      "image/png": "[encoded data removed]",
      "text/plain": [
       "<Figure size 432x288 with 1 Axes>"
      ]
     },
     "metadata": {
      "needs_background": "light"
     },
     "output_type": "display_data"
    }
   ],
   "source": [
    "print('Show docked molecule')\n",
    "plt.imshow(docked_image)"
   ]
  },
  {
   "cell_type": "code",
   "execution_count": 79,
   "id": "e87c3fb0",
   "metadata": {},
   "outputs": [
    {
     "name": "stdout",
     "output_type": "stream",
     "text": [
      "Show lowest rmsd template molecule\n"
     ]
    },
    {
     "data": {
      "text/plain": [
       "<matplotlib.image.AxesImage at 0x7f0d90a9ed60>"
      ]
     },
     "execution_count": 79,
     "metadata": {},
     "output_type": "execute_result"
    },
    {
     "data": {
      "image/png": "[encoded data removed]",
      "text/plain": [
       "<Figure size 432x288 with 1 Axes>"
      ]
     },
     "metadata": {
      "needs_background": "light"
     },
     "output_type": "display_data"
    }
   ],
   "source": [
    "print('Show lowest rmsd template molecule')\n",
    "plt.imshow(template_image)"
   ]
  },
  {
   "cell_type": "code",
   "execution_count": 80,
   "id": "e5ab7356",
   "metadata": {},
   "outputs": [
    {
     "data": {
      "text/plain": [
       "0    -0.421594\n",
       "1     0.016857\n",
       "2     0.519984\n",
       "3     0.571544\n",
       "4     0.594431\n",
       "5     0.879627\n",
       "6     0.969263\n",
       "7     1.310223\n",
       "8     1.325748\n",
       "9     1.371942\n",
       "10    1.511384\n",
       "11    1.613031\n",
       "12    1.706202\n",
       "13    1.800884\n",
       "14    1.918098\n",
       "15    2.061278\n",
       "16    2.062677\n",
       "17    2.078066\n",
       "18    2.116256\n",
       "19    2.128708\n",
       "20    2.138771\n",
       "21    2.139125\n",
       "22    2.156403\n",
       "Name: log_RMSD, dtype: float64"
      ]
     },
     "execution_count": 80,
     "metadata": {},
     "output_type": "execute_result"
    }
   ],
   "source": [
    "rmsds = templates.log_RMSD\n",
    "rmsds"
   ]
  },
  {
   "cell_type": "code",
   "execution_count": 81,
   "id": "b3bf8639",
   "metadata": {},
   "outputs": [],
   "source": [
    "# Root Mean Squared Error\n",
    "rmse = metrics.RootMeanSquaredError()"
   ]
  },
  {
   "cell_type": "code",
   "execution_count": 82,
   "id": "446b35af",
   "metadata": {},
   "outputs": [],
   "source": [
    "# Similarity search\n",
    "similarity = metrics.CosineSimilarity()"
   ]
  },
  {
   "cell_type": "code",
   "execution_count": 83,
   "id": "f7ec2ab4",
   "metadata": {},
   "outputs": [],
   "source": [
    "tf_template = tf.reshape(template_image, (1,600,600,3))"
   ]
  },
  {
   "cell_type": "code",
   "execution_count": 84,
   "id": "cfb19602",
   "metadata": {},
   "outputs": [],
   "source": [
    "tf_docked = tf.reshape(docked_image, (1,600,600,3))"
   ]
  },
  {
   "cell_type": "code",
   "execution_count": 85,
   "id": "b7b0399f",
   "metadata": {},
   "outputs": [],
   "source": [
    "template_embedding, docked_embedding = (\n",
    "    embedding(resnet.preprocess_input(tf_template)),\n",
    "    embedding(resnet.preprocess_input(tf_docked)),\n",
    ")"
   ]
  },
  {
   "cell_type": "code",
   "execution_count": 86,
   "id": "46e93760",
   "metadata": {},
   "outputs": [
    {
     "data": {
      "text/plain": [
       "(0.009867942, -0.421594490038048)"
      ]
     },
     "execution_count": 86,
     "metadata": {},
     "output_type": "execute_result"
    }
   ],
   "source": [
    "rmse_positive = rmse(template_embedding, docked_embedding)\n",
    "rmse_positive.numpy(), templates.iloc[0].log_RMSD"
   ]
  },
  {
   "cell_type": "code",
   "execution_count": 87,
   "id": "b1793d38",
   "metadata": {},
   "outputs": [
    {
     "data": {
      "text/plain": [
       "numpy.float32"
      ]
     },
     "execution_count": 87,
     "metadata": {},
     "output_type": "execute_result"
    }
   ],
   "source": [
    "type(rmse_positive.numpy())"
   ]
  },
  {
   "cell_type": "code",
   "execution_count": 88,
   "id": "ce8de2ec",
   "metadata": {},
   "outputs": [],
   "source": [
    "def get_rmse(row):\n",
    "    # Checks the embedding space for two inputs and return the rmse\n",
    "    docked_image = preprocess_image(row.img_docked)\n",
    "    template_image = preprocess_image(row.img_temp)\n",
    "    template_image = tf.reshape(template_image, (1,600,600,3))\n",
    "    docked_image = tf.reshape(docked_image, (1,600,600,3))\n",
    "    template_embedding, docked_embedding = (\n",
    "        embedding(resnet.preprocess_input(template_image)),\n",
    "        embedding(resnet.preprocess_input(docked_image)),\n",
    "    )\n",
    "    rmse_positive = rmse(template_embedding, docked_embedding)\n",
    "    return rmse_positive.numpy()"
   ]
  },
  {
   "cell_type": "code",
   "execution_count": 98,
   "id": "f463367a",
   "metadata": {},
   "outputs": [],
   "source": [
    "def get_similarity(row):\n",
    "    # Checks the embedding space for two inputs and return the rmse\n",
    "    docked_image = preprocess_image(row.img_docked)\n",
    "    template_image = preprocess_image(row.img_temp)\n",
    "    template_image = tf.reshape(template_image, (1,600,600,3))\n",
    "    docked_image = tf.reshape(docked_image, (1,600,600,3))\n",
    "    template_embedding, docked_embedding = (\n",
    "        embedding(resnet.preprocess_input(template_image)),\n",
    "        embedding(resnet.preprocess_input(docked_image)),\n",
    "    )\n",
    "    similarity_positive = similarity(template_embedding, docked_embedding)\n",
    "    return similarity_positive.numpy()"
   ]
  },
  {
   "cell_type": "markdown",
   "id": "710806da",
   "metadata": {},
   "source": [
    "### Order ranked by rmse"
   ]
  },
  {
   "cell_type": "code",
   "execution_count": 89,
   "id": "7fb3218d",
   "metadata": {
    "scrolled": true
   },
   "outputs": [
    {
     "data": {
      "text/plain": [
       "{0: 0.009867942,\n",
       " 1: 0.021429947,\n",
       " 2: 0.025301697,\n",
       " 3: 0.022814669,\n",
       " 4: 0.021727491,\n",
       " 5: 0.021721926,\n",
       " 6: 0.020671869,\n",
       " 7: 0.020986972,\n",
       " 8: 0.020351809,\n",
       " 9: 0.019814232,\n",
       " 10: 0.019506287,\n",
       " 11: 0.019039799,\n",
       " 12: 0.025974993,\n",
       " 13: 0.025254402,\n",
       " 14: 0.02479433,\n",
       " 15: 0.02415297,\n",
       " 16: 0.02363597,\n",
       " 17: 0.023074273,\n",
       " 18: 0.022723557,\n",
       " 19: 0.022241091,\n",
       " 20: 0.021813652,\n",
       " 21: 0.021491436,\n",
       " 22: 0.021383822}"
      ]
     },
     "execution_count": 89,
     "metadata": {},
     "output_type": "execute_result"
    }
   ],
   "source": [
    "rmses = {}\n",
    "for i, r in templates.iterrows(): \n",
    "    rm = get_rmse(r)\n",
    "    rmses[i] = rm\n",
    "rmses"
   ]
  },
  {
   "cell_type": "code",
   "execution_count": 99,
   "id": "003d8802",
   "metadata": {},
   "outputs": [
    {
     "data": {
      "text/plain": [
       "{0: 0.99996793,\n",
       " 1: 0.9997853,\n",
       " 2: 0.9997244,\n",
       " 3: 0.9997901,\n",
       " 4: 0.99981624,\n",
       " 5: 0.99981993,\n",
       " 6: 0.9998399,\n",
       " 7: 0.99983644,\n",
       " 8: 0.99984807,\n",
       " 9: 0.9998571,\n",
       " 10: 0.9998644,\n",
       " 11: 0.99987143,\n",
       " 12: 0.9997567,\n",
       " 13: 0.99977124,\n",
       " 14: 0.99978024,\n",
       " 15: 0.9997922,\n",
       " 16: 0.9998015,\n",
       " 17: 0.9998114,\n",
       " 18: 0.9998176,\n",
       " 19: 0.99982566,\n",
       " 20: 0.9998328,\n",
       " 21: 0.99983793,\n",
       " 22: 0.9998397}"
      ]
     },
     "execution_count": 99,
     "metadata": {},
     "output_type": "execute_result"
    }
   ],
   "source": [
    "similarities = {}\n",
    "for i, r in templates.iterrows(): \n",
    "    sim = get_similarity(r)\n",
    "    similarities[i] = sim\n",
    "similarities"
   ]
  },
  {
   "cell_type": "markdown",
   "id": "10d0028a",
   "metadata": {},
   "source": [
    "### Order according to the model"
   ]
  },
  {
   "cell_type": "code",
   "execution_count": 101,
   "id": "8147aa4f",
   "metadata": {},
   "outputs": [
    {
     "data": {
      "text/plain": [
       "[0,\n",
       " 11,\n",
       " 10,\n",
       " 9,\n",
       " 8,\n",
       " 6,\n",
       " 22,\n",
       " 21,\n",
       " 7,\n",
       " 20,\n",
       " 19,\n",
       " 5,\n",
       " 18,\n",
       " 4,\n",
       " 17,\n",
       " 16,\n",
       " 15,\n",
       " 3,\n",
       " 1,\n",
       " 14,\n",
       " 13,\n",
       " 12,\n",
       " 2]"
      ]
     },
     "execution_count": 101,
     "metadata": {},
     "output_type": "execute_result"
    }
   ],
   "source": [
    "sim_sorted = sorted(similarities, key=similarities.get, reverse=True)\n",
    "sim_sorted"
   ]
  },
  {
   "cell_type": "code",
   "execution_count": 90,
   "id": "3aa84f82",
   "metadata": {},
   "outputs": [
    {
     "data": {
      "text/plain": [
       "[0,\n",
       " 11,\n",
       " 10,\n",
       " 9,\n",
       " 8,\n",
       " 6,\n",
       " 7,\n",
       " 22,\n",
       " 1,\n",
       " 21,\n",
       " 5,\n",
       " 4,\n",
       " 20,\n",
       " 19,\n",
       " 18,\n",
       " 3,\n",
       " 17,\n",
       " 16,\n",
       " 15,\n",
       " 14,\n",
       " 13,\n",
       " 2,\n",
       " 12]"
      ]
     },
     "execution_count": 90,
     "metadata": {},
     "output_type": "execute_result"
    }
   ],
   "source": [
    "rmses_sorted = sorted(rmses, key=rmses.get)\n",
    "rmses_sorted"
   ]
  },
  {
   "cell_type": "code",
   "execution_count": 91,
   "id": "35a4c176",
   "metadata": {
    "scrolled": true
   },
   "outputs": [
    {
     "data": {
      "text/plain": [
       "0.009867942"
      ]
     },
     "execution_count": 91,
     "metadata": {},
     "output_type": "execute_result"
    }
   ],
   "source": [
    "min(rmses.values())"
   ]
  },
  {
   "cell_type": "code",
   "execution_count": 92,
   "id": "2a63d1ed",
   "metadata": {},
   "outputs": [],
   "source": [
    "from scipy.stats import pearsonr"
   ]
  },
  {
   "cell_type": "code",
   "execution_count": 93,
   "id": "c700b554",
   "metadata": {},
   "outputs": [
    {
     "data": {
      "text/html": [
       "<div>\n",
       "<style scoped>\n",
       "    .dataframe tbody tr th:only-of-type {\n",
       "        vertical-align: middle;\n",
       "    }\n",
       "\n",
       "    .dataframe tbody tr th {\n",
       "        vertical-align: top;\n",
       "    }\n",
       "\n",
       "    .dataframe thead th {\n",
       "        text-align: right;\n",
       "    }\n",
       "</style>\n",
       "<table border=\"1\" class=\"dataframe\">\n",
       "  <thead>\n",
       "    <tr style=\"text-align: right;\">\n",
       "      <th></th>\n",
       "      <th>log_RMSD</th>\n",
       "    </tr>\n",
       "  </thead>\n",
       "  <tbody>\n",
       "    <tr>\n",
       "      <th>0</th>\n",
       "      <td>-0.421594</td>\n",
       "    </tr>\n",
       "    <tr>\n",
       "      <th>1</th>\n",
       "      <td>0.016857</td>\n",
       "    </tr>\n",
       "    <tr>\n",
       "      <th>2</th>\n",
       "      <td>0.519984</td>\n",
       "    </tr>\n",
       "    <tr>\n",
       "      <th>3</th>\n",
       "      <td>0.571544</td>\n",
       "    </tr>\n",
       "    <tr>\n",
       "      <th>4</th>\n",
       "      <td>0.594431</td>\n",
       "    </tr>\n",
       "    <tr>\n",
       "      <th>5</th>\n",
       "      <td>0.879627</td>\n",
       "    </tr>\n",
       "    <tr>\n",
       "      <th>6</th>\n",
       "      <td>0.969263</td>\n",
       "    </tr>\n",
       "    <tr>\n",
       "      <th>7</th>\n",
       "      <td>1.310223</td>\n",
       "    </tr>\n",
       "    <tr>\n",
       "      <th>8</th>\n",
       "      <td>1.325748</td>\n",
       "    </tr>\n",
       "    <tr>\n",
       "      <th>9</th>\n",
       "      <td>1.371942</td>\n",
       "    </tr>\n",
       "    <tr>\n",
       "      <th>10</th>\n",
       "      <td>1.511384</td>\n",
       "    </tr>\n",
       "    <tr>\n",
       "      <th>11</th>\n",
       "      <td>1.613031</td>\n",
       "    </tr>\n",
       "    <tr>\n",
       "      <th>12</th>\n",
       "      <td>1.706202</td>\n",
       "    </tr>\n",
       "    <tr>\n",
       "      <th>13</th>\n",
       "      <td>1.800884</td>\n",
       "    </tr>\n",
       "    <tr>\n",
       "      <th>14</th>\n",
       "      <td>1.918098</td>\n",
       "    </tr>\n",
       "    <tr>\n",
       "      <th>15</th>\n",
       "      <td>2.061278</td>\n",
       "    </tr>\n",
       "    <tr>\n",
       "      <th>16</th>\n",
       "      <td>2.062677</td>\n",
       "    </tr>\n",
       "    <tr>\n",
       "      <th>17</th>\n",
       "      <td>2.078066</td>\n",
       "    </tr>\n",
       "    <tr>\n",
       "      <th>18</th>\n",
       "      <td>2.116256</td>\n",
       "    </tr>\n",
       "    <tr>\n",
       "      <th>19</th>\n",
       "      <td>2.128708</td>\n",
       "    </tr>\n",
       "    <tr>\n",
       "      <th>20</th>\n",
       "      <td>2.138771</td>\n",
       "    </tr>\n",
       "    <tr>\n",
       "      <th>21</th>\n",
       "      <td>2.139125</td>\n",
       "    </tr>\n",
       "    <tr>\n",
       "      <th>22</th>\n",
       "      <td>2.156403</td>\n",
       "    </tr>\n",
       "  </tbody>\n",
       "</table>\n",
       "</div>"
      ],
      "text/plain": [
       "    log_RMSD\n",
       "0  -0.421594\n",
       "1   0.016857\n",
       "2   0.519984\n",
       "3   0.571544\n",
       "4   0.594431\n",
       "5   0.879627\n",
       "6   0.969263\n",
       "7   1.310223\n",
       "8   1.325748\n",
       "9   1.371942\n",
       "10  1.511384\n",
       "11  1.613031\n",
       "12  1.706202\n",
       "13  1.800884\n",
       "14  1.918098\n",
       "15  2.061278\n",
       "16  2.062677\n",
       "17  2.078066\n",
       "18  2.116256\n",
       "19  2.128708\n",
       "20  2.138771\n",
       "21  2.139125\n",
       "22  2.156403"
      ]
     },
     "execution_count": 93,
     "metadata": {},
     "output_type": "execute_result"
    }
   ],
   "source": [
    "df1 = pd.DataFrame(rmsds)\n",
    "df1"
   ]
  },
  {
   "cell_type": "code",
   "execution_count": 94,
   "id": "c18981e0",
   "metadata": {},
   "outputs": [
    {
     "data": {
      "text/html": [
       "<div>\n",
       "<style scoped>\n",
       "    .dataframe tbody tr th:only-of-type {\n",
       "        vertical-align: middle;\n",
       "    }\n",
       "\n",
       "    .dataframe tbody tr th {\n",
       "        vertical-align: top;\n",
       "    }\n",
       "\n",
       "    .dataframe thead th {\n",
       "        text-align: right;\n",
       "    }\n",
       "</style>\n",
       "<table border=\"1\" class=\"dataframe\">\n",
       "  <thead>\n",
       "    <tr style=\"text-align: right;\">\n",
       "      <th></th>\n",
       "      <th>rmse</th>\n",
       "    </tr>\n",
       "  </thead>\n",
       "  <tbody>\n",
       "    <tr>\n",
       "      <th>0</th>\n",
       "      <td>0.009868</td>\n",
       "    </tr>\n",
       "    <tr>\n",
       "      <th>1</th>\n",
       "      <td>0.021430</td>\n",
       "    </tr>\n",
       "    <tr>\n",
       "      <th>2</th>\n",
       "      <td>0.025302</td>\n",
       "    </tr>\n",
       "    <tr>\n",
       "      <th>3</th>\n",
       "      <td>0.022815</td>\n",
       "    </tr>\n",
       "    <tr>\n",
       "      <th>4</th>\n",
       "      <td>0.021727</td>\n",
       "    </tr>\n",
       "    <tr>\n",
       "      <th>5</th>\n",
       "      <td>0.021722</td>\n",
       "    </tr>\n",
       "    <tr>\n",
       "      <th>6</th>\n",
       "      <td>0.020672</td>\n",
       "    </tr>\n",
       "    <tr>\n",
       "      <th>7</th>\n",
       "      <td>0.020987</td>\n",
       "    </tr>\n",
       "    <tr>\n",
       "      <th>8</th>\n",
       "      <td>0.020352</td>\n",
       "    </tr>\n",
       "    <tr>\n",
       "      <th>9</th>\n",
       "      <td>0.019814</td>\n",
       "    </tr>\n",
       "    <tr>\n",
       "      <th>10</th>\n",
       "      <td>0.019506</td>\n",
       "    </tr>\n",
       "    <tr>\n",
       "      <th>11</th>\n",
       "      <td>0.019040</td>\n",
       "    </tr>\n",
       "    <tr>\n",
       "      <th>12</th>\n",
       "      <td>0.025975</td>\n",
       "    </tr>\n",
       "    <tr>\n",
       "      <th>13</th>\n",
       "      <td>0.025254</td>\n",
       "    </tr>\n",
       "    <tr>\n",
       "      <th>14</th>\n",
       "      <td>0.024794</td>\n",
       "    </tr>\n",
       "    <tr>\n",
       "      <th>15</th>\n",
       "      <td>0.024153</td>\n",
       "    </tr>\n",
       "    <tr>\n",
       "      <th>16</th>\n",
       "      <td>0.023636</td>\n",
       "    </tr>\n",
       "    <tr>\n",
       "      <th>17</th>\n",
       "      <td>0.023074</td>\n",
       "    </tr>\n",
       "    <tr>\n",
       "      <th>18</th>\n",
       "      <td>0.022724</td>\n",
       "    </tr>\n",
       "    <tr>\n",
       "      <th>19</th>\n",
       "      <td>0.022241</td>\n",
       "    </tr>\n",
       "    <tr>\n",
       "      <th>20</th>\n",
       "      <td>0.021814</td>\n",
       "    </tr>\n",
       "    <tr>\n",
       "      <th>21</th>\n",
       "      <td>0.021491</td>\n",
       "    </tr>\n",
       "    <tr>\n",
       "      <th>22</th>\n",
       "      <td>0.021384</td>\n",
       "    </tr>\n",
       "  </tbody>\n",
       "</table>\n",
       "</div>"
      ],
      "text/plain": [
       "        rmse\n",
       "0   0.009868\n",
       "1   0.021430\n",
       "2   0.025302\n",
       "3   0.022815\n",
       "4   0.021727\n",
       "5   0.021722\n",
       "6   0.020672\n",
       "7   0.020987\n",
       "8   0.020352\n",
       "9   0.019814\n",
       "10  0.019506\n",
       "11  0.019040\n",
       "12  0.025975\n",
       "13  0.025254\n",
       "14  0.024794\n",
       "15  0.024153\n",
       "16  0.023636\n",
       "17  0.023074\n",
       "18  0.022724\n",
       "19  0.022241\n",
       "20  0.021814\n",
       "21  0.021491\n",
       "22  0.021384"
      ]
     },
     "execution_count": 94,
     "metadata": {},
     "output_type": "execute_result"
    }
   ],
   "source": [
    "df2 = pd.DataFrame.from_dict(rmses, orient='index')\n",
    "df2 = df2.rename(columns={0:'rmse'})\n",
    "df2"
   ]
  },
  {
   "cell_type": "code",
   "execution_count": 95,
   "id": "7fc3208e",
   "metadata": {
    "scrolled": true
   },
   "outputs": [
    {
     "data": {
      "text/html": [
       "<div>\n",
       "<style scoped>\n",
       "    .dataframe tbody tr th:only-of-type {\n",
       "        vertical-align: middle;\n",
       "    }\n",
       "\n",
       "    .dataframe tbody tr th {\n",
       "        vertical-align: top;\n",
       "    }\n",
       "\n",
       "    .dataframe thead th {\n",
       "        text-align: right;\n",
       "    }\n",
       "</style>\n",
       "<table border=\"1\" class=\"dataframe\">\n",
       "  <thead>\n",
       "    <tr style=\"text-align: right;\">\n",
       "      <th></th>\n",
       "      <th>log_RMSD</th>\n",
       "      <th>rmse</th>\n",
       "    </tr>\n",
       "  </thead>\n",
       "  <tbody>\n",
       "    <tr>\n",
       "      <th>0</th>\n",
       "      <td>-0.421594</td>\n",
       "      <td>0.009868</td>\n",
       "    </tr>\n",
       "    <tr>\n",
       "      <th>1</th>\n",
       "      <td>0.016857</td>\n",
       "      <td>0.021430</td>\n",
       "    </tr>\n",
       "    <tr>\n",
       "      <th>2</th>\n",
       "      <td>0.519984</td>\n",
       "      <td>0.025302</td>\n",
       "    </tr>\n",
       "    <tr>\n",
       "      <th>3</th>\n",
       "      <td>0.571544</td>\n",
       "      <td>0.022815</td>\n",
       "    </tr>\n",
       "    <tr>\n",
       "      <th>4</th>\n",
       "      <td>0.594431</td>\n",
       "      <td>0.021727</td>\n",
       "    </tr>\n",
       "    <tr>\n",
       "      <th>5</th>\n",
       "      <td>0.879627</td>\n",
       "      <td>0.021722</td>\n",
       "    </tr>\n",
       "    <tr>\n",
       "      <th>6</th>\n",
       "      <td>0.969263</td>\n",
       "      <td>0.020672</td>\n",
       "    </tr>\n",
       "    <tr>\n",
       "      <th>7</th>\n",
       "      <td>1.310223</td>\n",
       "      <td>0.020987</td>\n",
       "    </tr>\n",
       "    <tr>\n",
       "      <th>8</th>\n",
       "      <td>1.325748</td>\n",
       "      <td>0.020352</td>\n",
       "    </tr>\n",
       "    <tr>\n",
       "      <th>9</th>\n",
       "      <td>1.371942</td>\n",
       "      <td>0.019814</td>\n",
       "    </tr>\n",
       "    <tr>\n",
       "      <th>10</th>\n",
       "      <td>1.511384</td>\n",
       "      <td>0.019506</td>\n",
       "    </tr>\n",
       "    <tr>\n",
       "      <th>11</th>\n",
       "      <td>1.613031</td>\n",
       "      <td>0.019040</td>\n",
       "    </tr>\n",
       "    <tr>\n",
       "      <th>12</th>\n",
       "      <td>1.706202</td>\n",
       "      <td>0.025975</td>\n",
       "    </tr>\n",
       "    <tr>\n",
       "      <th>13</th>\n",
       "      <td>1.800884</td>\n",
       "      <td>0.025254</td>\n",
       "    </tr>\n",
       "    <tr>\n",
       "      <th>14</th>\n",
       "      <td>1.918098</td>\n",
       "      <td>0.024794</td>\n",
       "    </tr>\n",
       "    <tr>\n",
       "      <th>15</th>\n",
       "      <td>2.061278</td>\n",
       "      <td>0.024153</td>\n",
       "    </tr>\n",
       "    <tr>\n",
       "      <th>16</th>\n",
       "      <td>2.062677</td>\n",
       "      <td>0.023636</td>\n",
       "    </tr>\n",
       "    <tr>\n",
       "      <th>17</th>\n",
       "      <td>2.078066</td>\n",
       "      <td>0.023074</td>\n",
       "    </tr>\n",
       "    <tr>\n",
       "      <th>18</th>\n",
       "      <td>2.116256</td>\n",
       "      <td>0.022724</td>\n",
       "    </tr>\n",
       "    <tr>\n",
       "      <th>19</th>\n",
       "      <td>2.128708</td>\n",
       "      <td>0.022241</td>\n",
       "    </tr>\n",
       "    <tr>\n",
       "      <th>20</th>\n",
       "      <td>2.138771</td>\n",
       "      <td>0.021814</td>\n",
       "    </tr>\n",
       "    <tr>\n",
       "      <th>21</th>\n",
       "      <td>2.139125</td>\n",
       "      <td>0.021491</td>\n",
       "    </tr>\n",
       "    <tr>\n",
       "      <th>22</th>\n",
       "      <td>2.156403</td>\n",
       "      <td>0.021384</td>\n",
       "    </tr>\n",
       "  </tbody>\n",
       "</table>\n",
       "</div>"
      ],
      "text/plain": [
       "    log_RMSD      rmse\n",
       "0  -0.421594  0.009868\n",
       "1   0.016857  0.021430\n",
       "2   0.519984  0.025302\n",
       "3   0.571544  0.022815\n",
       "4   0.594431  0.021727\n",
       "5   0.879627  0.021722\n",
       "6   0.969263  0.020672\n",
       "7   1.310223  0.020987\n",
       "8   1.325748  0.020352\n",
       "9   1.371942  0.019814\n",
       "10  1.511384  0.019506\n",
       "11  1.613031  0.019040\n",
       "12  1.706202  0.025975\n",
       "13  1.800884  0.025254\n",
       "14  1.918098  0.024794\n",
       "15  2.061278  0.024153\n",
       "16  2.062677  0.023636\n",
       "17  2.078066  0.023074\n",
       "18  2.116256  0.022724\n",
       "19  2.128708  0.022241\n",
       "20  2.138771  0.021814\n",
       "21  2.139125  0.021491\n",
       "22  2.156403  0.021384"
      ]
     },
     "execution_count": 95,
     "metadata": {},
     "output_type": "execute_result"
    }
   ],
   "source": [
    "df_full = pd.concat([df1, df2], axis=1 , ignore_index=False)\n",
    "df_full"
   ]
  },
  {
   "cell_type": "markdown",
   "id": "5c84029c",
   "metadata": {},
   "source": [
    "### Correlation values"
   ]
  },
  {
   "cell_type": "code",
   "execution_count": 96,
   "id": "d227983c",
   "metadata": {},
   "outputs": [
    {
     "name": "stdout",
     "output_type": "stream",
     "text": [
      "Correlation coeffiecient 0.5016128568333664\n",
      "P-value:  0.014742837473791136\n"
     ]
    }
   ],
   "source": [
    "full_correlation = pearsonr(df_full['rmse'], df_full['log_RMSD'])\n",
    "print('Correlation coeffiecient', full_correlation[0])\n",
    "print('P-value: ', full_correlation[1])"
   ]
  },
  {
   "cell_type": "markdown",
   "id": "5bb62a40",
   "metadata": {},
   "source": [
    "### Scatter plot"
   ]
  },
  {
   "cell_type": "code",
   "execution_count": 97,
   "id": "1f5f3672",
   "metadata": {},
   "outputs": [
    {
     "data": {
      "image/png": "[encoded data removed]",
      "text/plain": [
       "<Figure size 432x288 with 1 Axes>"
      ]
     },
     "metadata": {
      "needs_background": "light"
     },
     "output_type": "display_data"
    }
   ],
   "source": [
    "plt.scatter(df_full['rmse'], df_full['log_RMSD'])\n",
    "plt.xlabel('RMSE')\n",
    "plt.ylabel('Log RMSD')\n",
    "plt.show()"
   ]
  },
  {
   "cell_type": "code",
   "execution_count": null,
   "id": "ad2535b5",
   "metadata": {},
   "outputs": [],
   "source": []
  }
 ],
 "metadata": {
  "kernelspec": {
   "display_name": "Python 3 (ipykernel)",
   "language": "python",
   "name": "python3"
  },
  "language_info": {
   "codemirror_mode": {
    "name": "ipython",
    "version": 3
   },
   "file_extension": ".py",
   "mimetype": "text/x-python",
   "name": "python",
   "nbconvert_exporter": "python",
   "pygments_lexer": "ipython3",
   "version": "3.9.7"
  },
  "toc-autonumbering": false,
  "toc-showcode": true,
  "toc-showmarkdowntxt": true
 },
 "nbformat": 4,
 "nbformat_minor": 5
}
