{
 "cells": [
  {
   "cell_type": "markdown",
   "id": "02376db5",
   "metadata": {},
   "source": [
    "# Siamese Network on template ligand-docking dataset"
   ]
  },
  {
   "cell_type": "code",
   "execution_count": 1,
   "id": "7ff5d5e3",
   "metadata": {
    "scrolled": true
   },
   "outputs": [
    {
     "name": "stdout",
     "output_type": "stream",
     "text": [
      "Wed Feb 23 17:08:05 2022       \r\n",
      "+-----------------------------------------------------------------------------+\r\n",
      "| NVIDIA-SMI 470.103.01   Driver Version: 470.103.01   CUDA Version: 11.4     |\r\n",
      "|-------------------------------+----------------------+----------------------+\r\n",
      "| GPU  Name        Persistence-M| Bus-Id        Disp.A | Volatile Uncorr. ECC |\r\n",
      "| Fan  Temp  Perf  Pwr:Usage/Cap|         Memory-Usage | GPU-Util  Compute M. |\r\n",
      "|                               |                      |               MIG M. |\r\n",
      "|===============================+======================+======================|\r\n",
      "|   0  NVIDIA GeForce ...  Off  | 00000000:01:00.0  On |                  N/A |\r\n",
      "|  0%   54C    P8    18W / 240W |    457MiB /  8116MiB |      0%      Default |\r\n",
      "|                               |                      |                  N/A |\r\n",
      "+-------------------------------+----------------------+----------------------+\r\n",
      "                                                                               \r\n",
      "+-----------------------------------------------------------------------------+\r\n",
      "| Processes:                                                                  |\r\n",
      "|  GPU   GI   CI        PID   Type   Process name                  GPU Memory |\r\n",
      "|        ID   ID                                                   Usage      |\r\n",
      "|=============================================================================|\r\n",
      "|    0   N/A  N/A      1009      G   /usr/lib/xorg/Xorg                188MiB |\r\n",
      "|    0   N/A  N/A      1314      G   /usr/bin/gnome-shell              113MiB |\r\n",
      "|    0   N/A  N/A      3413      G   /usr/lib/firefox/firefox          151MiB |\r\n",
      "+-----------------------------------------------------------------------------+\r\n"
     ]
    }
   ],
   "source": [
    "!nvidia-smi"
   ]
  },
  {
   "cell_type": "code",
   "execution_count": 2,
   "id": "986e40bd",
   "metadata": {},
   "outputs": [],
   "source": [
    "#%%capture\n",
    "#!wget -c https://repo.continuum.io/miniconda/Miniconda3-latest-Linux-x86_64.sh\n",
    "#!chmod +x Miniconda3-latest-Linux-x86_64.sh\n",
    "#!time bash ./Miniconda3-latest-Linux-x86_64.sh -b -f -p /usr/local\n",
    "#!time conda install -q -y -c conda-forge rdkit"
   ]
  },
  {
   "cell_type": "code",
   "execution_count": 3,
   "id": "bb5752c9",
   "metadata": {},
   "outputs": [],
   "source": [
    "import os\n",
    "os.environ['TF_CPP_MIN_LOG_LEVEL'] = '2'"
   ]
  },
  {
   "cell_type": "code",
   "execution_count": 4,
   "id": "fe052ee5",
   "metadata": {},
   "outputs": [],
   "source": [
    "# Import\n",
    "import pandas as pd\n",
    "import numpy as np\n",
    "from pathlib import Path"
   ]
  },
  {
   "cell_type": "code",
   "execution_count": 5,
   "id": "c51e1815",
   "metadata": {},
   "outputs": [],
   "source": [
    "%matplotlib inline\n",
    "import matplotlib.pyplot as plt\n",
    "import matplotlib.image as mpimg\n",
    "import sys\n",
    "import os\n",
    "sys.path.append('/usr/local/lib/python3.7/site-packages/')"
   ]
  },
  {
   "cell_type": "code",
   "execution_count": 6,
   "id": "8112b927",
   "metadata": {},
   "outputs": [],
   "source": [
    "dataset = 'oldsmiledata_id_processed_transformed_shuffled'"
   ]
  },
  {
   "cell_type": "code",
   "execution_count": 7,
   "id": "327fcae1",
   "metadata": {},
   "outputs": [],
   "source": [
    "path = Path('../dataset/oldsmiledata')"
   ]
  },
  {
   "cell_type": "code",
   "execution_count": 8,
   "id": "59ad0e49",
   "metadata": {},
   "outputs": [
    {
     "data": {
      "text/plain": [
       "[PosixPath('../dataset/oldsmiledata/test_oldsmiledata_id_processed_transformed_shuffled.csv'),\n",
       " PosixPath('../dataset/oldsmiledata/train_balanced_oldsmiledata_id_processed_transformed_shuffled.csv'),\n",
       " PosixPath('../dataset/oldsmiledata/oldsmiledata_id_processed_transformed_rescaled_shuffled.csv'),\n",
       " PosixPath('../dataset/oldsmiledata/.ipynb_checkpoints'),\n",
       " PosixPath('../dataset/oldsmiledata/mol_images'),\n",
       " PosixPath('../dataset/oldsmiledata/valid_balanced_oldsmiledata_id_processed_transformed_shuffled.csv'),\n",
       " PosixPath('../dataset/oldsmiledata/train_oldsmiledata_id_processed_transformed_shuffled.csv')]"
      ]
     },
     "execution_count": 8,
     "metadata": {},
     "output_type": "execute_result"
    }
   ],
   "source": [
    "list(path.iterdir())"
   ]
  },
  {
   "cell_type": "code",
   "execution_count": 9,
   "id": "5ab97516",
   "metadata": {},
   "outputs": [],
   "source": [
    "#IMAGES = path/'mol_images'/'all'\n",
    "train = pd.read_csv(path/f'train_balanced_{dataset}.csv', index_col=0)\n",
    "valid = pd.read_csv(path/f'valid_balanced_{dataset}.csv', index_col=0)"
   ]
  },
  {
   "cell_type": "code",
   "execution_count": 10,
   "id": "e5545dfb",
   "metadata": {
    "scrolled": true
   },
   "outputs": [
    {
     "name": "stdout",
     "output_type": "stream",
     "text": [
      "<class 'pandas.core.frame.DataFrame'>\n",
      "Int64Index: 19625 entries, 0 to 19624\n",
      "Data columns (total 42 columns):\n",
      " #   Column                          Non-Null Count  Dtype  \n",
      "---  ------                          --------------  -----  \n",
      " 0   template                        19625 non-null  object \n",
      " 1   docked                          19625 non-null  object \n",
      " 2   rmsd                            19625 non-null  float64\n",
      " 3   uniprot_id                      19625 non-null  object \n",
      " 4   smiles_template                 19625 non-null  object \n",
      " 5   smiles_docked                   19625 non-null  object \n",
      " 6   mcs_smartsString                19625 non-null  object \n",
      " 7   template_HeavyAtomCount         19625 non-null  int64  \n",
      " 8   template_NHOHCount              19625 non-null  int64  \n",
      " 9   template_NOCount                19625 non-null  int64  \n",
      " 10  template_RingCount              19625 non-null  int64  \n",
      " 11  template_NumHAcceptors          19625 non-null  int64  \n",
      " 12  template_NumHDonors             19625 non-null  int64  \n",
      " 13  template_NumHeteroAtoms         19625 non-null  int64  \n",
      " 14  template_NumRotatableBonds      19625 non-null  int64  \n",
      " 15  docked_HeavyAtomCount           19625 non-null  int64  \n",
      " 16  docked_NHOHCount                19625 non-null  int64  \n",
      " 17  docked_NOCount                  19625 non-null  int64  \n",
      " 18  docked_RingCount                19625 non-null  int64  \n",
      " 19  docked_NumHAcceptors            19625 non-null  int64  \n",
      " 20  docked_NumHDonors               19625 non-null  int64  \n",
      " 21  docked_NumHeteroAtoms           19625 non-null  int64  \n",
      " 22  docked_NumRotatableBonds        19625 non-null  int64  \n",
      " 23  mcs_HeavyAtomCount              19625 non-null  int64  \n",
      " 24  mcs_NOCount                     19625 non-null  int64  \n",
      " 25  mcs_RingCount                   19625 non-null  int64  \n",
      " 26  mcs_NumHeteroAtoms              19625 non-null  int64  \n",
      " 27  mcs_template_NHOHCount          19625 non-null  int64  \n",
      " 28  mcs_docked_NHOHCount            19625 non-null  int64  \n",
      " 29  mcs_template_NumHAcceptors      19625 non-null  int64  \n",
      " 30  mcs_docked_NumHAcceptors        19625 non-null  int64  \n",
      " 31  mcs_template_NumHDonors         19625 non-null  int64  \n",
      " 32  mcs_docked_NumHDonors           19625 non-null  int64  \n",
      " 33  mcs_template_NumRotatableBonds  19625 non-null  int64  \n",
      " 34  mcs_docked_NumRotatableBonds    19625 non-null  int64  \n",
      " 35  ec_tanimoto_similarity          19625 non-null  float64\n",
      " 36  fc_tanimoto_similarity          19625 non-null  float64\n",
      " 37  log_RMSD                        19625 non-null  float64\n",
      " 38  bin_RMSD                        19625 non-null  int64  \n",
      " 39  Xtransf_ec_tanimoto_similarity  19625 non-null  float64\n",
      " 40  Xtransf_fc_tanimoto_similarity  19625 non-null  float64\n",
      " 41  is_valid                        19625 non-null  bool   \n",
      "dtypes: bool(1), float64(6), int64(29), object(6)\n",
      "memory usage: 6.3+ MB\n"
     ]
    }
   ],
   "source": [
    "train.info()"
   ]
  },
  {
   "cell_type": "code",
   "execution_count": 11,
   "id": "cae241bb",
   "metadata": {
    "scrolled": true
   },
   "outputs": [
    {
     "name": "stdout",
     "output_type": "stream",
     "text": [
      "<class 'pandas.core.frame.DataFrame'>\n",
      "Int64Index: 5323 entries, 0 to 5322\n",
      "Data columns (total 42 columns):\n",
      " #   Column                          Non-Null Count  Dtype  \n",
      "---  ------                          --------------  -----  \n",
      " 0   template                        5323 non-null   object \n",
      " 1   docked                          5323 non-null   object \n",
      " 2   rmsd                            5323 non-null   float64\n",
      " 3   uniprot_id                      5323 non-null   object \n",
      " 4   smiles_template                 5323 non-null   object \n",
      " 5   smiles_docked                   5323 non-null   object \n",
      " 6   mcs_smartsString                5323 non-null   object \n",
      " 7   template_HeavyAtomCount         5323 non-null   int64  \n",
      " 8   template_NHOHCount              5323 non-null   int64  \n",
      " 9   template_NOCount                5323 non-null   int64  \n",
      " 10  template_RingCount              5323 non-null   int64  \n",
      " 11  template_NumHAcceptors          5323 non-null   int64  \n",
      " 12  template_NumHDonors             5323 non-null   int64  \n",
      " 13  template_NumHeteroAtoms         5323 non-null   int64  \n",
      " 14  template_NumRotatableBonds      5323 non-null   int64  \n",
      " 15  docked_HeavyAtomCount           5323 non-null   int64  \n",
      " 16  docked_NHOHCount                5323 non-null   int64  \n",
      " 17  docked_NOCount                  5323 non-null   int64  \n",
      " 18  docked_RingCount                5323 non-null   int64  \n",
      " 19  docked_NumHAcceptors            5323 non-null   int64  \n",
      " 20  docked_NumHDonors               5323 non-null   int64  \n",
      " 21  docked_NumHeteroAtoms           5323 non-null   int64  \n",
      " 22  docked_NumRotatableBonds        5323 non-null   int64  \n",
      " 23  mcs_HeavyAtomCount              5323 non-null   int64  \n",
      " 24  mcs_NOCount                     5323 non-null   int64  \n",
      " 25  mcs_RingCount                   5323 non-null   int64  \n",
      " 26  mcs_NumHeteroAtoms              5323 non-null   int64  \n",
      " 27  mcs_template_NHOHCount          5323 non-null   int64  \n",
      " 28  mcs_docked_NHOHCount            5323 non-null   int64  \n",
      " 29  mcs_template_NumHAcceptors      5323 non-null   int64  \n",
      " 30  mcs_docked_NumHAcceptors        5323 non-null   int64  \n",
      " 31  mcs_template_NumHDonors         5323 non-null   int64  \n",
      " 32  mcs_docked_NumHDonors           5323 non-null   int64  \n",
      " 33  mcs_template_NumRotatableBonds  5323 non-null   int64  \n",
      " 34  mcs_docked_NumRotatableBonds    5323 non-null   int64  \n",
      " 35  ec_tanimoto_similarity          5323 non-null   float64\n",
      " 36  fc_tanimoto_similarity          5323 non-null   float64\n",
      " 37  log_RMSD                        5323 non-null   float64\n",
      " 38  bin_RMSD                        5323 non-null   int64  \n",
      " 39  Xtransf_ec_tanimoto_similarity  5323 non-null   float64\n",
      " 40  Xtransf_fc_tanimoto_similarity  5323 non-null   float64\n",
      " 41  is_valid                        5323 non-null   bool   \n",
      "dtypes: bool(1), float64(6), int64(29), object(6)\n",
      "memory usage: 1.7+ MB\n"
     ]
    }
   ],
   "source": [
    "valid.info()"
   ]
  },
  {
   "cell_type": "code",
   "execution_count": 12,
   "id": "fb7fc361",
   "metadata": {},
   "outputs": [
    {
     "data": {
      "text/html": [
       "<div>\n",
       "<style scoped>\n",
       "    .dataframe tbody tr th:only-of-type {\n",
       "        vertical-align: middle;\n",
       "    }\n",
       "\n",
       "    .dataframe tbody tr th {\n",
       "        vertical-align: top;\n",
       "    }\n",
       "\n",
       "    .dataframe thead th {\n",
       "        text-align: right;\n",
       "    }\n",
       "</style>\n",
       "<table border=\"1\" class=\"dataframe\">\n",
       "  <thead>\n",
       "    <tr style=\"text-align: right;\">\n",
       "      <th></th>\n",
       "      <th>template</th>\n",
       "      <th>docked</th>\n",
       "      <th>rmsd</th>\n",
       "      <th>uniprot_id</th>\n",
       "      <th>smiles_template</th>\n",
       "      <th>smiles_docked</th>\n",
       "      <th>mcs_smartsString</th>\n",
       "      <th>template_HeavyAtomCount</th>\n",
       "      <th>template_NHOHCount</th>\n",
       "      <th>template_NOCount</th>\n",
       "      <th>...</th>\n",
       "      <th>mcs_docked_NumHDonors</th>\n",
       "      <th>mcs_template_NumRotatableBonds</th>\n",
       "      <th>mcs_docked_NumRotatableBonds</th>\n",
       "      <th>ec_tanimoto_similarity</th>\n",
       "      <th>fc_tanimoto_similarity</th>\n",
       "      <th>log_RMSD</th>\n",
       "      <th>bin_RMSD</th>\n",
       "      <th>Xtransf_ec_tanimoto_similarity</th>\n",
       "      <th>Xtransf_fc_tanimoto_similarity</th>\n",
       "      <th>is_valid</th>\n",
       "    </tr>\n",
       "  </thead>\n",
       "  <tbody>\n",
       "    <tr>\n",
       "      <th>0</th>\n",
       "      <td>2JH5_895</td>\n",
       "      <td>1C5O_BAM</td>\n",
       "      <td>3.209</td>\n",
       "      <td>P00734</td>\n",
       "      <td>C[C@@H](C(=O)N1CCOCC1)N1CC[C@H](NS(=O)(=O)/C=C...</td>\n",
       "      <td>NC(=[NH2+])c1ccccc1</td>\n",
       "      <td>[#7]-[#6]-[#6]:,-[#6]:,-[#6]</td>\n",
       "      <td>28</td>\n",
       "      <td>1</td>\n",
       "      <td>8</td>\n",
       "      <td>...</td>\n",
       "      <td>1</td>\n",
       "      <td>0</td>\n",
       "      <td>1</td>\n",
       "      <td>0.050847</td>\n",
       "      <td>0.059829</td>\n",
       "      <td>1.165959</td>\n",
       "      <td>3</td>\n",
       "      <td>-1.491525</td>\n",
       "      <td>-2.401709</td>\n",
       "      <td>False</td>\n",
       "    </tr>\n",
       "    <tr>\n",
       "      <th>1</th>\n",
       "      <td>5Y12_8JX</td>\n",
       "      <td>1TOW_CRZ</td>\n",
       "      <td>1.769</td>\n",
       "      <td>P15090</td>\n",
       "      <td>COc1ccc(S(=O)(=O)NCCCCC(=O)O)c2ccccc12</td>\n",
       "      <td>O=C(O)CCCn1c2ccccc2c2ccccc21</td>\n",
       "      <td>[#6]1:[#6]:[#6]:[#6]:[#6]:[#6]:1:[#6]:[#6]:[#6...</td>\n",
       "      <td>23</td>\n",
       "      <td>2</td>\n",
       "      <td>6</td>\n",
       "      <td>...</td>\n",
       "      <td>0</td>\n",
       "      <td>0</td>\n",
       "      <td>0</td>\n",
       "      <td>0.324561</td>\n",
       "      <td>0.324561</td>\n",
       "      <td>0.570414</td>\n",
       "      <td>1</td>\n",
       "      <td>1.245614</td>\n",
       "      <td>0.245614</td>\n",
       "      <td>False</td>\n",
       "    </tr>\n",
       "    <tr>\n",
       "      <th>2</th>\n",
       "      <td>2W26_RIV</td>\n",
       "      <td>2Y80_439</td>\n",
       "      <td>7.217</td>\n",
       "      <td>P00742</td>\n",
       "      <td>O=C(NC[C@H]1CN(c2ccc(N3CCOCC3=O)cc2)C(=O)O1)c1...</td>\n",
       "      <td>CN(C)[C@@H]1CCc2cc(N3CC[C@H](NS(=O)(=O)c4ccc5c...</td>\n",
       "      <td>[#7]-[#6]-[#6]-[#6]-[#7](-[#6]1:[#6]:[#6]:[#6]...</td>\n",
       "      <td>29</td>\n",
       "      <td>1</td>\n",
       "      <td>8</td>\n",
       "      <td>...</td>\n",
       "      <td>1</td>\n",
       "      <td>3</td>\n",
       "      <td>2</td>\n",
       "      <td>0.187166</td>\n",
       "      <td>0.283237</td>\n",
       "      <td>1.976439</td>\n",
       "      <td>3</td>\n",
       "      <td>-0.128342</td>\n",
       "      <td>-0.167630</td>\n",
       "      <td>False</td>\n",
       "    </tr>\n",
       "    <tr>\n",
       "      <th>3</th>\n",
       "      <td>1C1U_BAI</td>\n",
       "      <td>2C8W_C7M</td>\n",
       "      <td>4.928</td>\n",
       "      <td>P00734</td>\n",
       "      <td>N=C(N)c1ccc2[nH]c(Cc3nc4ccccc4[nH]3)nc2c1</td>\n",
       "      <td>COc1ccc(S(=O)(=O)NC[C@@H](O)[C@H](Cc2ccccc2)[N...</td>\n",
       "      <td>[#6]-,:[#6]:[#6]:[#6]:[#6](:,-[#7]:,-[#6]):[#6...</td>\n",
       "      <td>22</td>\n",
       "      <td>5</td>\n",
       "      <td>6</td>\n",
       "      <td>...</td>\n",
       "      <td>0</td>\n",
       "      <td>1</td>\n",
       "      <td>2</td>\n",
       "      <td>0.139037</td>\n",
       "      <td>0.157609</td>\n",
       "      <td>1.594933</td>\n",
       "      <td>3</td>\n",
       "      <td>-0.609626</td>\n",
       "      <td>-1.423913</td>\n",
       "      <td>False</td>\n",
       "    </tr>\n",
       "    <tr>\n",
       "      <th>4</th>\n",
       "      <td>5AFY_WCE</td>\n",
       "      <td>3SV2_P05</td>\n",
       "      <td>7.608</td>\n",
       "      <td>P00734</td>\n",
       "      <td>NC(=O)c1cccc(Cl)c1</td>\n",
       "      <td>N[C@H](Cc1ccccc1)C(=O)N1CCC[C@H]1C(=O)NCc1ccncc1</td>\n",
       "      <td>[#7]-[#6](=[#8])-[#6]:,-[#6]:,-[#6]:[#6]:[#6]:...</td>\n",
       "      <td>10</td>\n",
       "      <td>2</td>\n",
       "      <td>2</td>\n",
       "      <td>...</td>\n",
       "      <td>0</td>\n",
       "      <td>1</td>\n",
       "      <td>4</td>\n",
       "      <td>0.116071</td>\n",
       "      <td>0.157407</td>\n",
       "      <td>2.029200</td>\n",
       "      <td>3</td>\n",
       "      <td>-0.839286</td>\n",
       "      <td>-1.425926</td>\n",
       "      <td>False</td>\n",
       "    </tr>\n",
       "  </tbody>\n",
       "</table>\n",
       "<p>5 rows × 42 columns</p>\n",
       "</div>"
      ],
      "text/plain": [
       "   template    docked   rmsd uniprot_id  \\\n",
       "0  2JH5_895  1C5O_BAM  3.209     P00734   \n",
       "1  5Y12_8JX  1TOW_CRZ  1.769     P15090   \n",
       "2  2W26_RIV  2Y80_439  7.217     P00742   \n",
       "3  1C1U_BAI  2C8W_C7M  4.928     P00734   \n",
       "4  5AFY_WCE  3SV2_P05  7.608     P00734   \n",
       "\n",
       "                                     smiles_template  \\\n",
       "0  C[C@@H](C(=O)N1CCOCC1)N1CC[C@H](NS(=O)(=O)/C=C...   \n",
       "1             COc1ccc(S(=O)(=O)NCCCCC(=O)O)c2ccccc12   \n",
       "2  O=C(NC[C@H]1CN(c2ccc(N3CCOCC3=O)cc2)C(=O)O1)c1...   \n",
       "3          N=C(N)c1ccc2[nH]c(Cc3nc4ccccc4[nH]3)nc2c1   \n",
       "4                                 NC(=O)c1cccc(Cl)c1   \n",
       "\n",
       "                                       smiles_docked  \\\n",
       "0                                NC(=[NH2+])c1ccccc1   \n",
       "1                       O=C(O)CCCn1c2ccccc2c2ccccc21   \n",
       "2  CN(C)[C@@H]1CCc2cc(N3CC[C@H](NS(=O)(=O)c4ccc5c...   \n",
       "3  COc1ccc(S(=O)(=O)NC[C@@H](O)[C@H](Cc2ccccc2)[N...   \n",
       "4   N[C@H](Cc1ccccc1)C(=O)N1CCC[C@H]1C(=O)NCc1ccncc1   \n",
       "\n",
       "                                    mcs_smartsString  template_HeavyAtomCount  \\\n",
       "0                       [#7]-[#6]-[#6]:,-[#6]:,-[#6]                       28   \n",
       "1  [#6]1:[#6]:[#6]:[#6]:[#6]:[#6]:1:[#6]:[#6]:[#6...                       23   \n",
       "2  [#7]-[#6]-[#6]-[#6]-[#7](-[#6]1:[#6]:[#6]:[#6]...                       29   \n",
       "3  [#6]-,:[#6]:[#6]:[#6]:[#6](:,-[#7]:,-[#6]):[#6...                       22   \n",
       "4  [#7]-[#6](=[#8])-[#6]:,-[#6]:,-[#6]:[#6]:[#6]:...                       10   \n",
       "\n",
       "   template_NHOHCount  template_NOCount  ...  mcs_docked_NumHDonors  \\\n",
       "0                   1                 8  ...                      1   \n",
       "1                   2                 6  ...                      0   \n",
       "2                   1                 8  ...                      1   \n",
       "3                   5                 6  ...                      0   \n",
       "4                   2                 2  ...                      0   \n",
       "\n",
       "   mcs_template_NumRotatableBonds  mcs_docked_NumRotatableBonds  \\\n",
       "0                               0                             1   \n",
       "1                               0                             0   \n",
       "2                               3                             2   \n",
       "3                               1                             2   \n",
       "4                               1                             4   \n",
       "\n",
       "   ec_tanimoto_similarity  fc_tanimoto_similarity  log_RMSD  bin_RMSD  \\\n",
       "0                0.050847                0.059829  1.165959         3   \n",
       "1                0.324561                0.324561  0.570414         1   \n",
       "2                0.187166                0.283237  1.976439         3   \n",
       "3                0.139037                0.157609  1.594933         3   \n",
       "4                0.116071                0.157407  2.029200         3   \n",
       "\n",
       "   Xtransf_ec_tanimoto_similarity  Xtransf_fc_tanimoto_similarity  is_valid  \n",
       "0                       -1.491525                       -2.401709     False  \n",
       "1                        1.245614                        0.245614     False  \n",
       "2                       -0.128342                       -0.167630     False  \n",
       "3                       -0.609626                       -1.423913     False  \n",
       "4                       -0.839286                       -1.425926     False  \n",
       "\n",
       "[5 rows x 42 columns]"
      ]
     },
     "execution_count": 12,
     "metadata": {},
     "output_type": "execute_result"
    }
   ],
   "source": [
    "train.head()"
   ]
  },
  {
   "cell_type": "markdown",
   "id": "4f59daa4",
   "metadata": {},
   "source": [
    "# Preprocessing building ImageDataGenerator"
   ]
  },
  {
   "cell_type": "code",
   "execution_count": 13,
   "id": "809b5437",
   "metadata": {},
   "outputs": [],
   "source": [
    "import matplotlib.pyplot as plt\n",
    "import numpy as np\n",
    "import os\n",
    "import random\n",
    "import tensorflow as tf\n",
    "from pathlib import Path\n",
    "from tensorflow.keras import applications\n",
    "from tensorflow.keras import layers\n",
    "from tensorflow.keras import losses\n",
    "from tensorflow.keras import optimizers\n",
    "from tensorflow.keras import metrics\n",
    "from tensorflow.keras import Model\n",
    "from tensorflow.keras.applications import resnet"
   ]
  },
  {
   "cell_type": "markdown",
   "id": "664cc219",
   "metadata": {},
   "source": [
    "### Splitting the data into train and validation sets"
   ]
  },
  {
   "cell_type": "code",
   "execution_count": 14,
   "id": "59928f03",
   "metadata": {
    "scrolled": true
   },
   "outputs": [
    {
     "name": "stdout",
     "output_type": "stream",
     "text": [
      "<class 'pandas.core.frame.DataFrame'>\n",
      "Int64Index: 19625 entries, 0 to 19624\n",
      "Data columns (total 44 columns):\n",
      " #   Column                          Non-Null Count  Dtype  \n",
      "---  ------                          --------------  -----  \n",
      " 0   template                        19625 non-null  object \n",
      " 1   docked                          19625 non-null  object \n",
      " 2   rmsd                            19625 non-null  float64\n",
      " 3   uniprot_id                      19625 non-null  object \n",
      " 4   smiles_template                 19625 non-null  object \n",
      " 5   smiles_docked                   19625 non-null  object \n",
      " 6   mcs_smartsString                19625 non-null  object \n",
      " 7   template_HeavyAtomCount         19625 non-null  int64  \n",
      " 8   template_NHOHCount              19625 non-null  int64  \n",
      " 9   template_NOCount                19625 non-null  int64  \n",
      " 10  template_RingCount              19625 non-null  int64  \n",
      " 11  template_NumHAcceptors          19625 non-null  int64  \n",
      " 12  template_NumHDonors             19625 non-null  int64  \n",
      " 13  template_NumHeteroAtoms         19625 non-null  int64  \n",
      " 14  template_NumRotatableBonds      19625 non-null  int64  \n",
      " 15  docked_HeavyAtomCount           19625 non-null  int64  \n",
      " 16  docked_NHOHCount                19625 non-null  int64  \n",
      " 17  docked_NOCount                  19625 non-null  int64  \n",
      " 18  docked_RingCount                19625 non-null  int64  \n",
      " 19  docked_NumHAcceptors            19625 non-null  int64  \n",
      " 20  docked_NumHDonors               19625 non-null  int64  \n",
      " 21  docked_NumHeteroAtoms           19625 non-null  int64  \n",
      " 22  docked_NumRotatableBonds        19625 non-null  int64  \n",
      " 23  mcs_HeavyAtomCount              19625 non-null  int64  \n",
      " 24  mcs_NOCount                     19625 non-null  int64  \n",
      " 25  mcs_RingCount                   19625 non-null  int64  \n",
      " 26  mcs_NumHeteroAtoms              19625 non-null  int64  \n",
      " 27  mcs_template_NHOHCount          19625 non-null  int64  \n",
      " 28  mcs_docked_NHOHCount            19625 non-null  int64  \n",
      " 29  mcs_template_NumHAcceptors      19625 non-null  int64  \n",
      " 30  mcs_docked_NumHAcceptors        19625 non-null  int64  \n",
      " 31  mcs_template_NumHDonors         19625 non-null  int64  \n",
      " 32  mcs_docked_NumHDonors           19625 non-null  int64  \n",
      " 33  mcs_template_NumRotatableBonds  19625 non-null  int64  \n",
      " 34  mcs_docked_NumRotatableBonds    19625 non-null  int64  \n",
      " 35  ec_tanimoto_similarity          19625 non-null  float64\n",
      " 36  fc_tanimoto_similarity          19625 non-null  float64\n",
      " 37  log_RMSD                        19625 non-null  float64\n",
      " 38  bin_RMSD                        19625 non-null  int64  \n",
      " 39  Xtransf_ec_tanimoto_similarity  19625 non-null  float64\n",
      " 40  Xtransf_fc_tanimoto_similarity  19625 non-null  float64\n",
      " 41  is_valid                        19625 non-null  bool   \n",
      " 42  img_temp                        19625 non-null  object \n",
      " 43  img_docked                      19625 non-null  object \n",
      "dtypes: bool(1), float64(6), int64(29), object(8)\n",
      "memory usage: 6.6+ MB\n"
     ]
    }
   ],
   "source": [
    "train['img_temp'] = train['template'] + '.png'\n",
    "train['img_docked'] = train['docked'] + '.png'\n",
    "train['is_valid'] = False\n",
    "train.info()"
   ]
  },
  {
   "cell_type": "code",
   "execution_count": 15,
   "id": "352ed10d",
   "metadata": {
    "scrolled": true
   },
   "outputs": [
    {
     "name": "stdout",
     "output_type": "stream",
     "text": [
      "<class 'pandas.core.frame.DataFrame'>\n",
      "Int64Index: 5323 entries, 0 to 5322\n",
      "Data columns (total 44 columns):\n",
      " #   Column                          Non-Null Count  Dtype  \n",
      "---  ------                          --------------  -----  \n",
      " 0   template                        5323 non-null   object \n",
      " 1   docked                          5323 non-null   object \n",
      " 2   rmsd                            5323 non-null   float64\n",
      " 3   uniprot_id                      5323 non-null   object \n",
      " 4   smiles_template                 5323 non-null   object \n",
      " 5   smiles_docked                   5323 non-null   object \n",
      " 6   mcs_smartsString                5323 non-null   object \n",
      " 7   template_HeavyAtomCount         5323 non-null   int64  \n",
      " 8   template_NHOHCount              5323 non-null   int64  \n",
      " 9   template_NOCount                5323 non-null   int64  \n",
      " 10  template_RingCount              5323 non-null   int64  \n",
      " 11  template_NumHAcceptors          5323 non-null   int64  \n",
      " 12  template_NumHDonors             5323 non-null   int64  \n",
      " 13  template_NumHeteroAtoms         5323 non-null   int64  \n",
      " 14  template_NumRotatableBonds      5323 non-null   int64  \n",
      " 15  docked_HeavyAtomCount           5323 non-null   int64  \n",
      " 16  docked_NHOHCount                5323 non-null   int64  \n",
      " 17  docked_NOCount                  5323 non-null   int64  \n",
      " 18  docked_RingCount                5323 non-null   int64  \n",
      " 19  docked_NumHAcceptors            5323 non-null   int64  \n",
      " 20  docked_NumHDonors               5323 non-null   int64  \n",
      " 21  docked_NumHeteroAtoms           5323 non-null   int64  \n",
      " 22  docked_NumRotatableBonds        5323 non-null   int64  \n",
      " 23  mcs_HeavyAtomCount              5323 non-null   int64  \n",
      " 24  mcs_NOCount                     5323 non-null   int64  \n",
      " 25  mcs_RingCount                   5323 non-null   int64  \n",
      " 26  mcs_NumHeteroAtoms              5323 non-null   int64  \n",
      " 27  mcs_template_NHOHCount          5323 non-null   int64  \n",
      " 28  mcs_docked_NHOHCount            5323 non-null   int64  \n",
      " 29  mcs_template_NumHAcceptors      5323 non-null   int64  \n",
      " 30  mcs_docked_NumHAcceptors        5323 non-null   int64  \n",
      " 31  mcs_template_NumHDonors         5323 non-null   int64  \n",
      " 32  mcs_docked_NumHDonors           5323 non-null   int64  \n",
      " 33  mcs_template_NumRotatableBonds  5323 non-null   int64  \n",
      " 34  mcs_docked_NumRotatableBonds    5323 non-null   int64  \n",
      " 35  ec_tanimoto_similarity          5323 non-null   float64\n",
      " 36  fc_tanimoto_similarity          5323 non-null   float64\n",
      " 37  log_RMSD                        5323 non-null   float64\n",
      " 38  bin_RMSD                        5323 non-null   int64  \n",
      " 39  Xtransf_ec_tanimoto_similarity  5323 non-null   float64\n",
      " 40  Xtransf_fc_tanimoto_similarity  5323 non-null   float64\n",
      " 41  is_valid                        5323 non-null   bool   \n",
      " 42  img_temp                        5323 non-null   object \n",
      " 43  img_docked                      5323 non-null   object \n",
      "dtypes: bool(1), float64(6), int64(29), object(8)\n",
      "memory usage: 1.8+ MB\n"
     ]
    }
   ],
   "source": [
    "valid['img_temp'] = valid['template'] + '.png'\n",
    "valid['img_docked'] = valid['docked'] + '.png'\n",
    "valid['is_valid'] = True\n",
    "valid.info()"
   ]
  },
  {
   "cell_type": "code",
   "execution_count": 16,
   "id": "a313685b",
   "metadata": {
    "scrolled": true
   },
   "outputs": [],
   "source": [
    "# image size 600,600\n",
    "target_shape=(600, 600)"
   ]
  },
  {
   "cell_type": "markdown",
   "id": "7eaa15f3",
   "metadata": {},
   "source": [
    "## Creating postive and negative datasets "
   ]
  },
  {
   "cell_type": "code",
   "execution_count": 17,
   "id": "2a706e42",
   "metadata": {},
   "outputs": [
    {
     "name": "stdout",
     "output_type": "stream",
     "text": [
      "<class 'pandas.core.frame.DataFrame'>\n",
      "RangeIndex: 8165 entries, 0 to 8164\n",
      "Data columns (total 44 columns):\n",
      " #   Column                          Non-Null Count  Dtype  \n",
      "---  ------                          --------------  -----  \n",
      " 0   template                        8165 non-null   object \n",
      " 1   docked                          8165 non-null   object \n",
      " 2   rmsd                            8165 non-null   float64\n",
      " 3   uniprot_id                      8165 non-null   object \n",
      " 4   smiles_template                 8165 non-null   object \n",
      " 5   smiles_docked                   8165 non-null   object \n",
      " 6   mcs_smartsString                8165 non-null   object \n",
      " 7   template_HeavyAtomCount         8165 non-null   int64  \n",
      " 8   template_NHOHCount              8165 non-null   int64  \n",
      " 9   template_NOCount                8165 non-null   int64  \n",
      " 10  template_RingCount              8165 non-null   int64  \n",
      " 11  template_NumHAcceptors          8165 non-null   int64  \n",
      " 12  template_NumHDonors             8165 non-null   int64  \n",
      " 13  template_NumHeteroAtoms         8165 non-null   int64  \n",
      " 14  template_NumRotatableBonds      8165 non-null   int64  \n",
      " 15  docked_HeavyAtomCount           8165 non-null   int64  \n",
      " 16  docked_NHOHCount                8165 non-null   int64  \n",
      " 17  docked_NOCount                  8165 non-null   int64  \n",
      " 18  docked_RingCount                8165 non-null   int64  \n",
      " 19  docked_NumHAcceptors            8165 non-null   int64  \n",
      " 20  docked_NumHDonors               8165 non-null   int64  \n",
      " 21  docked_NumHeteroAtoms           8165 non-null   int64  \n",
      " 22  docked_NumRotatableBonds        8165 non-null   int64  \n",
      " 23  mcs_HeavyAtomCount              8165 non-null   int64  \n",
      " 24  mcs_NOCount                     8165 non-null   int64  \n",
      " 25  mcs_RingCount                   8165 non-null   int64  \n",
      " 26  mcs_NumHeteroAtoms              8165 non-null   int64  \n",
      " 27  mcs_template_NHOHCount          8165 non-null   int64  \n",
      " 28  mcs_docked_NHOHCount            8165 non-null   int64  \n",
      " 29  mcs_template_NumHAcceptors      8165 non-null   int64  \n",
      " 30  mcs_docked_NumHAcceptors        8165 non-null   int64  \n",
      " 31  mcs_template_NumHDonors         8165 non-null   int64  \n",
      " 32  mcs_docked_NumHDonors           8165 non-null   int64  \n",
      " 33  mcs_template_NumRotatableBonds  8165 non-null   int64  \n",
      " 34  mcs_docked_NumRotatableBonds    8165 non-null   int64  \n",
      " 35  ec_tanimoto_similarity          8165 non-null   float64\n",
      " 36  fc_tanimoto_similarity          8165 non-null   float64\n",
      " 37  log_RMSD                        8165 non-null   float64\n",
      " 38  bin_RMSD                        8165 non-null   int64  \n",
      " 39  Xtransf_ec_tanimoto_similarity  8165 non-null   float64\n",
      " 40  Xtransf_fc_tanimoto_similarity  8165 non-null   float64\n",
      " 41  is_valid                        8165 non-null   bool   \n",
      " 42  img_temp                        8165 non-null   object \n",
      " 43  img_docked                      8165 non-null   object \n",
      "dtypes: bool(1), float64(6), int64(29), object(8)\n",
      "memory usage: 2.7+ MB\n"
     ]
    }
   ],
   "source": [
    "train_good = train[train.log_RMSD <= 1.5]\n",
    "train_good = train_good.reset_index(drop=True)\n",
    "train_good.info()"
   ]
  },
  {
   "cell_type": "code",
   "execution_count": 18,
   "id": "3b9b64dc",
   "metadata": {},
   "outputs": [
    {
     "name": "stdout",
     "output_type": "stream",
     "text": [
      "<class 'pandas.core.frame.DataFrame'>\n",
      "RangeIndex: 11460 entries, 0 to 11459\n",
      "Data columns (total 44 columns):\n",
      " #   Column                          Non-Null Count  Dtype  \n",
      "---  ------                          --------------  -----  \n",
      " 0   template                        11460 non-null  object \n",
      " 1   docked                          11460 non-null  object \n",
      " 2   rmsd                            11460 non-null  float64\n",
      " 3   uniprot_id                      11460 non-null  object \n",
      " 4   smiles_template                 11460 non-null  object \n",
      " 5   smiles_docked                   11460 non-null  object \n",
      " 6   mcs_smartsString                11460 non-null  object \n",
      " 7   template_HeavyAtomCount         11460 non-null  int64  \n",
      " 8   template_NHOHCount              11460 non-null  int64  \n",
      " 9   template_NOCount                11460 non-null  int64  \n",
      " 10  template_RingCount              11460 non-null  int64  \n",
      " 11  template_NumHAcceptors          11460 non-null  int64  \n",
      " 12  template_NumHDonors             11460 non-null  int64  \n",
      " 13  template_NumHeteroAtoms         11460 non-null  int64  \n",
      " 14  template_NumRotatableBonds      11460 non-null  int64  \n",
      " 15  docked_HeavyAtomCount           11460 non-null  int64  \n",
      " 16  docked_NHOHCount                11460 non-null  int64  \n",
      " 17  docked_NOCount                  11460 non-null  int64  \n",
      " 18  docked_RingCount                11460 non-null  int64  \n",
      " 19  docked_NumHAcceptors            11460 non-null  int64  \n",
      " 20  docked_NumHDonors               11460 non-null  int64  \n",
      " 21  docked_NumHeteroAtoms           11460 non-null  int64  \n",
      " 22  docked_NumRotatableBonds        11460 non-null  int64  \n",
      " 23  mcs_HeavyAtomCount              11460 non-null  int64  \n",
      " 24  mcs_NOCount                     11460 non-null  int64  \n",
      " 25  mcs_RingCount                   11460 non-null  int64  \n",
      " 26  mcs_NumHeteroAtoms              11460 non-null  int64  \n",
      " 27  mcs_template_NHOHCount          11460 non-null  int64  \n",
      " 28  mcs_docked_NHOHCount            11460 non-null  int64  \n",
      " 29  mcs_template_NumHAcceptors      11460 non-null  int64  \n",
      " 30  mcs_docked_NumHAcceptors        11460 non-null  int64  \n",
      " 31  mcs_template_NumHDonors         11460 non-null  int64  \n",
      " 32  mcs_docked_NumHDonors           11460 non-null  int64  \n",
      " 33  mcs_template_NumRotatableBonds  11460 non-null  int64  \n",
      " 34  mcs_docked_NumRotatableBonds    11460 non-null  int64  \n",
      " 35  ec_tanimoto_similarity          11460 non-null  float64\n",
      " 36  fc_tanimoto_similarity          11460 non-null  float64\n",
      " 37  log_RMSD                        11460 non-null  float64\n",
      " 38  bin_RMSD                        11460 non-null  int64  \n",
      " 39  Xtransf_ec_tanimoto_similarity  11460 non-null  float64\n",
      " 40  Xtransf_fc_tanimoto_similarity  11460 non-null  float64\n",
      " 41  is_valid                        11460 non-null  bool   \n",
      " 42  img_temp                        11460 non-null  object \n",
      " 43  img_docked                      11460 non-null  object \n",
      "dtypes: bool(1), float64(6), int64(29), object(8)\n",
      "memory usage: 3.8+ MB\n"
     ]
    }
   ],
   "source": [
    "negative = train[train.log_RMSD > 1.5]\n",
    "negative = negative.reset_index(drop=True)\n",
    "negative.info()"
   ]
  },
  {
   "cell_type": "code",
   "execution_count": 19,
   "id": "6c8af27b",
   "metadata": {},
   "outputs": [
    {
     "name": "stdout",
     "output_type": "stream",
     "text": [
      "<class 'pandas.core.frame.DataFrame'>\n",
      "RangeIndex: 2230 entries, 0 to 2229\n",
      "Data columns (total 44 columns):\n",
      " #   Column                          Non-Null Count  Dtype  \n",
      "---  ------                          --------------  -----  \n",
      " 0   template                        2230 non-null   object \n",
      " 1   docked                          2230 non-null   object \n",
      " 2   rmsd                            2230 non-null   float64\n",
      " 3   uniprot_id                      2230 non-null   object \n",
      " 4   smiles_template                 2230 non-null   object \n",
      " 5   smiles_docked                   2230 non-null   object \n",
      " 6   mcs_smartsString                2230 non-null   object \n",
      " 7   template_HeavyAtomCount         2230 non-null   int64  \n",
      " 8   template_NHOHCount              2230 non-null   int64  \n",
      " 9   template_NOCount                2230 non-null   int64  \n",
      " 10  template_RingCount              2230 non-null   int64  \n",
      " 11  template_NumHAcceptors          2230 non-null   int64  \n",
      " 12  template_NumHDonors             2230 non-null   int64  \n",
      " 13  template_NumHeteroAtoms         2230 non-null   int64  \n",
      " 14  template_NumRotatableBonds      2230 non-null   int64  \n",
      " 15  docked_HeavyAtomCount           2230 non-null   int64  \n",
      " 16  docked_NHOHCount                2230 non-null   int64  \n",
      " 17  docked_NOCount                  2230 non-null   int64  \n",
      " 18  docked_RingCount                2230 non-null   int64  \n",
      " 19  docked_NumHAcceptors            2230 non-null   int64  \n",
      " 20  docked_NumHDonors               2230 non-null   int64  \n",
      " 21  docked_NumHeteroAtoms           2230 non-null   int64  \n",
      " 22  docked_NumRotatableBonds        2230 non-null   int64  \n",
      " 23  mcs_HeavyAtomCount              2230 non-null   int64  \n",
      " 24  mcs_NOCount                     2230 non-null   int64  \n",
      " 25  mcs_RingCount                   2230 non-null   int64  \n",
      " 26  mcs_NumHeteroAtoms              2230 non-null   int64  \n",
      " 27  mcs_template_NHOHCount          2230 non-null   int64  \n",
      " 28  mcs_docked_NHOHCount            2230 non-null   int64  \n",
      " 29  mcs_template_NumHAcceptors      2230 non-null   int64  \n",
      " 30  mcs_docked_NumHAcceptors        2230 non-null   int64  \n",
      " 31  mcs_template_NumHDonors         2230 non-null   int64  \n",
      " 32  mcs_docked_NumHDonors           2230 non-null   int64  \n",
      " 33  mcs_template_NumRotatableBonds  2230 non-null   int64  \n",
      " 34  mcs_docked_NumRotatableBonds    2230 non-null   int64  \n",
      " 35  ec_tanimoto_similarity          2230 non-null   float64\n",
      " 36  fc_tanimoto_similarity          2230 non-null   float64\n",
      " 37  log_RMSD                        2230 non-null   float64\n",
      " 38  bin_RMSD                        2230 non-null   int64  \n",
      " 39  Xtransf_ec_tanimoto_similarity  2230 non-null   float64\n",
      " 40  Xtransf_fc_tanimoto_similarity  2230 non-null   float64\n",
      " 41  is_valid                        2230 non-null   bool   \n",
      " 42  img_temp                        2230 non-null   object \n",
      " 43  img_docked                      2230 non-null   object \n",
      "dtypes: bool(1), float64(6), int64(29), object(8)\n",
      "memory usage: 751.4+ KB\n"
     ]
    }
   ],
   "source": [
    "valid_good = valid[valid.log_RMSD <= 1.5]\n",
    "valid_good = valid_good.reset_index(drop=True)\n",
    "valid_good.info()"
   ]
  },
  {
   "cell_type": "code",
   "execution_count": 20,
   "id": "9f4cba7e",
   "metadata": {},
   "outputs": [
    {
     "name": "stdout",
     "output_type": "stream",
     "text": [
      "<class 'pandas.core.frame.DataFrame'>\n",
      "RangeIndex: 3093 entries, 0 to 3092\n",
      "Data columns (total 44 columns):\n",
      " #   Column                          Non-Null Count  Dtype  \n",
      "---  ------                          --------------  -----  \n",
      " 0   template                        3093 non-null   object \n",
      " 1   docked                          3093 non-null   object \n",
      " 2   rmsd                            3093 non-null   float64\n",
      " 3   uniprot_id                      3093 non-null   object \n",
      " 4   smiles_template                 3093 non-null   object \n",
      " 5   smiles_docked                   3093 non-null   object \n",
      " 6   mcs_smartsString                3093 non-null   object \n",
      " 7   template_HeavyAtomCount         3093 non-null   int64  \n",
      " 8   template_NHOHCount              3093 non-null   int64  \n",
      " 9   template_NOCount                3093 non-null   int64  \n",
      " 10  template_RingCount              3093 non-null   int64  \n",
      " 11  template_NumHAcceptors          3093 non-null   int64  \n",
      " 12  template_NumHDonors             3093 non-null   int64  \n",
      " 13  template_NumHeteroAtoms         3093 non-null   int64  \n",
      " 14  template_NumRotatableBonds      3093 non-null   int64  \n",
      " 15  docked_HeavyAtomCount           3093 non-null   int64  \n",
      " 16  docked_NHOHCount                3093 non-null   int64  \n",
      " 17  docked_NOCount                  3093 non-null   int64  \n",
      " 18  docked_RingCount                3093 non-null   int64  \n",
      " 19  docked_NumHAcceptors            3093 non-null   int64  \n",
      " 20  docked_NumHDonors               3093 non-null   int64  \n",
      " 21  docked_NumHeteroAtoms           3093 non-null   int64  \n",
      " 22  docked_NumRotatableBonds        3093 non-null   int64  \n",
      " 23  mcs_HeavyAtomCount              3093 non-null   int64  \n",
      " 24  mcs_NOCount                     3093 non-null   int64  \n",
      " 25  mcs_RingCount                   3093 non-null   int64  \n",
      " 26  mcs_NumHeteroAtoms              3093 non-null   int64  \n",
      " 27  mcs_template_NHOHCount          3093 non-null   int64  \n",
      " 28  mcs_docked_NHOHCount            3093 non-null   int64  \n",
      " 29  mcs_template_NumHAcceptors      3093 non-null   int64  \n",
      " 30  mcs_docked_NumHAcceptors        3093 non-null   int64  \n",
      " 31  mcs_template_NumHDonors         3093 non-null   int64  \n",
      " 32  mcs_docked_NumHDonors           3093 non-null   int64  \n",
      " 33  mcs_template_NumRotatableBonds  3093 non-null   int64  \n",
      " 34  mcs_docked_NumRotatableBonds    3093 non-null   int64  \n",
      " 35  ec_tanimoto_similarity          3093 non-null   float64\n",
      " 36  fc_tanimoto_similarity          3093 non-null   float64\n",
      " 37  log_RMSD                        3093 non-null   float64\n",
      " 38  bin_RMSD                        3093 non-null   int64  \n",
      " 39  Xtransf_ec_tanimoto_similarity  3093 non-null   float64\n",
      " 40  Xtransf_fc_tanimoto_similarity  3093 non-null   float64\n",
      " 41  is_valid                        3093 non-null   bool   \n",
      " 42  img_temp                        3093 non-null   object \n",
      " 43  img_docked                      3093 non-null   object \n",
      "dtypes: bool(1), float64(6), int64(29), object(8)\n",
      "memory usage: 1.0+ MB\n"
     ]
    }
   ],
   "source": [
    "val_negative = valid[valid.log_RMSD > 1.5]\n",
    "val_negative = val_negative.reset_index(drop=True)\n",
    "val_negative.info()"
   ]
  },
  {
   "cell_type": "code",
   "execution_count": 21,
   "id": "7a50b4ed",
   "metadata": {},
   "outputs": [
    {
     "name": "stdout",
     "output_type": "stream",
     "text": [
      "<class 'pandas.core.frame.DataFrame'>\n",
      "RangeIndex: 14553 entries, 0 to 14552\n",
      "Data columns (total 44 columns):\n",
      " #   Column                          Non-Null Count  Dtype  \n",
      "---  ------                          --------------  -----  \n",
      " 0   template                        14553 non-null  object \n",
      " 1   docked                          14553 non-null  object \n",
      " 2   rmsd                            14553 non-null  float64\n",
      " 3   uniprot_id                      14553 non-null  object \n",
      " 4   smiles_template                 14553 non-null  object \n",
      " 5   smiles_docked                   14553 non-null  object \n",
      " 6   mcs_smartsString                14553 non-null  object \n",
      " 7   template_HeavyAtomCount         14553 non-null  int64  \n",
      " 8   template_NHOHCount              14553 non-null  int64  \n",
      " 9   template_NOCount                14553 non-null  int64  \n",
      " 10  template_RingCount              14553 non-null  int64  \n",
      " 11  template_NumHAcceptors          14553 non-null  int64  \n",
      " 12  template_NumHDonors             14553 non-null  int64  \n",
      " 13  template_NumHeteroAtoms         14553 non-null  int64  \n",
      " 14  template_NumRotatableBonds      14553 non-null  int64  \n",
      " 15  docked_HeavyAtomCount           14553 non-null  int64  \n",
      " 16  docked_NHOHCount                14553 non-null  int64  \n",
      " 17  docked_NOCount                  14553 non-null  int64  \n",
      " 18  docked_RingCount                14553 non-null  int64  \n",
      " 19  docked_NumHAcceptors            14553 non-null  int64  \n",
      " 20  docked_NumHDonors               14553 non-null  int64  \n",
      " 21  docked_NumHeteroAtoms           14553 non-null  int64  \n",
      " 22  docked_NumRotatableBonds        14553 non-null  int64  \n",
      " 23  mcs_HeavyAtomCount              14553 non-null  int64  \n",
      " 24  mcs_NOCount                     14553 non-null  int64  \n",
      " 25  mcs_RingCount                   14553 non-null  int64  \n",
      " 26  mcs_NumHeteroAtoms              14553 non-null  int64  \n",
      " 27  mcs_template_NHOHCount          14553 non-null  int64  \n",
      " 28  mcs_docked_NHOHCount            14553 non-null  int64  \n",
      " 29  mcs_template_NumHAcceptors      14553 non-null  int64  \n",
      " 30  mcs_docked_NumHAcceptors        14553 non-null  int64  \n",
      " 31  mcs_template_NumHDonors         14553 non-null  int64  \n",
      " 32  mcs_docked_NumHDonors           14553 non-null  int64  \n",
      " 33  mcs_template_NumRotatableBonds  14553 non-null  int64  \n",
      " 34  mcs_docked_NumRotatableBonds    14553 non-null  int64  \n",
      " 35  ec_tanimoto_similarity          14553 non-null  float64\n",
      " 36  fc_tanimoto_similarity          14553 non-null  float64\n",
      " 37  log_RMSD                        14553 non-null  float64\n",
      " 38  bin_RMSD                        14553 non-null  int64  \n",
      " 39  Xtransf_ec_tanimoto_similarity  14553 non-null  float64\n",
      " 40  Xtransf_fc_tanimoto_similarity  14553 non-null  float64\n",
      " 41  is_valid                        14553 non-null  bool   \n",
      " 42  img_temp                        14553 non-null  object \n",
      " 43  img_docked                      14553 non-null  object \n",
      "dtypes: bool(1), float64(6), int64(29), object(8)\n",
      "memory usage: 4.8+ MB\n"
     ]
    }
   ],
   "source": [
    "negatives = pd.concat((negative ,val_negative), ignore_index=True)\n",
    "negatives.info()"
   ]
  },
  {
   "cell_type": "code",
   "execution_count": 22,
   "id": "bac8df9e",
   "metadata": {},
   "outputs": [],
   "source": [
    "IMAGES = '../dataset/oldsmiledata/mol_images/poseview_envs/'"
   ]
  },
  {
   "cell_type": "code",
   "execution_count": 23,
   "id": "87693386",
   "metadata": {},
   "outputs": [],
   "source": [
    "def preprocess_image(filename):\n",
    "    img_str = tf.io.read_file(IMAGES + filename)\n",
    "    image = tf.image.decode_png(img_str, channels=3)\n",
    "    image = tf.image.convert_image_dtype(image, tf.float32)\n",
    "    image = tf.image.resize(image, target_shape)\n",
    "    #image = tf.transpose(image)\n",
    "    return image"
   ]
  },
  {
   "cell_type": "code",
   "execution_count": 24,
   "id": "c932c106",
   "metadata": {},
   "outputs": [],
   "source": [
    "%%capture\n",
    "#img_shape = preprocess_image(train.img_temp[0]).shape"
   ]
  },
  {
   "cell_type": "code",
   "execution_count": 25,
   "id": "c24a095f",
   "metadata": {},
   "outputs": [],
   "source": [
    "#img_shape"
   ]
  },
  {
   "cell_type": "code",
   "execution_count": 26,
   "id": "5de656f7",
   "metadata": {},
   "outputs": [
    {
     "name": "stdout",
     "output_type": "stream",
     "text": [
      "Wed Feb 23 17:08:09 2022       \r\n",
      "+-----------------------------------------------------------------------------+\r\n",
      "| NVIDIA-SMI 470.103.01   Driver Version: 470.103.01   CUDA Version: 11.4     |\r\n",
      "|-------------------------------+----------------------+----------------------+\r\n",
      "| GPU  Name        Persistence-M| Bus-Id        Disp.A | Volatile Uncorr. ECC |\r\n",
      "| Fan  Temp  Perf  Pwr:Usage/Cap|         Memory-Usage | GPU-Util  Compute M. |\r\n",
      "|                               |                      |               MIG M. |\r\n",
      "|===============================+======================+======================|\r\n",
      "|   0  NVIDIA GeForce ...  Off  | 00000000:01:00.0  On |                  N/A |\r\n",
      "|  0%   54C    P8    19W / 240W |    457MiB /  8116MiB |      3%      Default |\r\n",
      "|                               |                      |                  N/A |\r\n",
      "+-------------------------------+----------------------+----------------------+\r\n",
      "                                                                               \r\n",
      "+-----------------------------------------------------------------------------+\r\n",
      "| Processes:                                                                  |\r\n",
      "|  GPU   GI   CI        PID   Type   Process name                  GPU Memory |\r\n",
      "|        ID   ID                                                   Usage      |\r\n",
      "|=============================================================================|\r\n",
      "|    0   N/A  N/A      1009      G   /usr/lib/xorg/Xorg                188MiB |\r\n",
      "|    0   N/A  N/A      1314      G   /usr/bin/gnome-shell              113MiB |\r\n",
      "|    0   N/A  N/A      3413      G   /usr/lib/firefox/firefox          151MiB |\r\n",
      "+-----------------------------------------------------------------------------+\r\n"
     ]
    }
   ],
   "source": [
    "!nvidia-smi"
   ]
  },
  {
   "cell_type": "code",
   "execution_count": 27,
   "id": "b97b9302",
   "metadata": {},
   "outputs": [],
   "source": [
    "physical_device = tf.config.list_physical_devices('GPU')\n",
    "tf.config.experimental.set_memory_growth(physical_device[0], True)"
   ]
  },
  {
   "cell_type": "code",
   "execution_count": 28,
   "id": "68ae7d9b",
   "metadata": {},
   "outputs": [],
   "source": [
    "def preprocess_triplets(template, docked, negative, rmsd):\n",
    "    \"\"\"\n",
    "    Given the filenames corresponding to the three images, load and\n",
    "    preprocess them.\n",
    "    \"\"\"\n",
    "\n",
    "    return (preprocess_image(template), preprocess_image(docked), preprocess_image(negative), rmsd)\n",
    "    "
   ]
  },
  {
   "cell_type": "code",
   "execution_count": 29,
   "id": "24fccb0c",
   "metadata": {},
   "outputs": [],
   "source": [
    "def preprocess_triplets_2(tup, negative):\n",
    "    \"\"\"\n",
    "    Given the filenames corresponding to the three images, load and\n",
    "    preprocess them.\n",
    "    \"\"\"\n",
    "\n",
    "    return (preprocess_image(tup[0]),\n",
    "        preprocess_image(tup[1]),\n",
    "        preprocess_image(negative))"
   ]
  },
  {
   "cell_type": "code",
   "execution_count": 30,
   "id": "6ac49a9a",
   "metadata": {},
   "outputs": [],
   "source": [
    "#image = preprocess_image('/4A7I_A7I.png')\n",
    "#image.shape"
   ]
  },
  {
   "cell_type": "code",
   "execution_count": 31,
   "id": "b6922b90",
   "metadata": {},
   "outputs": [],
   "source": [
    "train_template_images = [r.img_temp for i, r in train_good.iterrows()]"
   ]
  },
  {
   "cell_type": "code",
   "execution_count": 32,
   "id": "d139b148",
   "metadata": {},
   "outputs": [],
   "source": [
    "train_docked_images = [r.img_docked for i, r in train_good.iterrows()]"
   ]
  },
  {
   "cell_type": "code",
   "execution_count": 33,
   "id": "aecee4fd",
   "metadata": {},
   "outputs": [
    {
     "data": {
      "text/plain": [
       "(8165, 8165)"
      ]
     },
     "execution_count": 33,
     "metadata": {},
     "output_type": "execute_result"
    }
   ],
   "source": [
    "len(train_template_images), len(train_docked_images)"
   ]
  },
  {
   "cell_type": "code",
   "execution_count": 34,
   "id": "9c323942",
   "metadata": {},
   "outputs": [],
   "source": [
    "def find_negative(docked):\n",
    "    negs = negatives[negatives.docked == docked]\n",
    "    negs = negs.reset_index(drop=True)\n",
    "    if len(negs) > 0:\n",
    "        i = random.randint(0,len(negs) - 1)\n",
    "        neg = negs.iloc[i]\n",
    "    else:\n",
    "        i = random.randint(0,len(negative) - 1)\n",
    "        neg = negatives.iloc[i]\n",
    "    return neg.img_docked"
   ]
  },
  {
   "cell_type": "code",
   "execution_count": 35,
   "id": "f7cfeb87",
   "metadata": {},
   "outputs": [
    {
     "data": {
      "text/plain": [
       "'1C5O_BAM.png'"
      ]
     },
     "execution_count": 35,
     "metadata": {},
     "output_type": "execute_result"
    }
   ],
   "source": [
    "n = find_negative(train.iloc[0].docked)\n",
    "n"
   ]
  },
  {
   "cell_type": "code",
   "execution_count": 36,
   "id": "a0386de5",
   "metadata": {},
   "outputs": [],
   "source": [
    "valid_template_images = [r.img_temp for i, r in valid_good.iterrows()]\n",
    "valid_docked_images = [r.img_docked for i, r in valid_good.iterrows()]"
   ]
  },
  {
   "cell_type": "code",
   "execution_count": 37,
   "id": "5ed57a19",
   "metadata": {
    "scrolled": true
   },
   "outputs": [
    {
     "name": "stdout",
     "output_type": "stream",
     "text": [
      "Num GPus avalable:  1\n"
     ]
    }
   ],
   "source": [
    "import tensorflow as tf\n",
    "print('Num GPus avalable: ', len(tf.config.experimental.list_physical_devices('GPU')))"
   ]
  },
  {
   "cell_type": "code",
   "execution_count": 38,
   "id": "60054fa0",
   "metadata": {},
   "outputs": [],
   "source": [
    "negative_images = [find_negative(r.docked) for i, r in train_good.iterrows()]\n",
    "np.random.RandomState(seed=32).shuffle(negative_images)\n",
    "\n",
    "negative_dataset = tf.data.Dataset.from_tensor_slices(negative_images)\n",
    "negative_dataset = negative_dataset.shuffle(buffer_size=4096)"
   ]
  },
  {
   "cell_type": "code",
   "execution_count": 39,
   "id": "db90abfd",
   "metadata": {},
   "outputs": [],
   "source": [
    "val_negative_images = [find_negative(r.docked) for i, r in valid_good.iterrows()]\n",
    "np.random.RandomState(seed=32).shuffle(negative_images)\n",
    "\n",
    "val_negative_dataset = tf.data.Dataset.from_tensor_slices(negative_images)\n",
    "val_negative_dataset = negative_dataset.shuffle(buffer_size=4096)"
   ]
  },
  {
   "cell_type": "code",
   "execution_count": 40,
   "id": "116b5c32",
   "metadata": {},
   "outputs": [
    {
     "data": {
      "text/plain": [
       "10395"
      ]
     },
     "execution_count": 40,
     "metadata": {},
     "output_type": "execute_result"
    }
   ],
   "source": [
    "image_count = len(train_template_images) + len(valid_template_images)\n",
    "image_count"
   ]
  },
  {
   "cell_type": "code",
   "execution_count": 41,
   "id": "3917c506",
   "metadata": {},
   "outputs": [],
   "source": [
    "template_dataset = tf.data.Dataset.from_tensor_slices(train_template_images)\n",
    "docked_dataset = tf.data.Dataset.from_tensor_slices(train_docked_images)"
   ]
  },
  {
   "cell_type": "code",
   "execution_count": 42,
   "id": "e9fb064e",
   "metadata": {},
   "outputs": [],
   "source": [
    "val_template_dataset = tf.data.Dataset.from_tensor_slices(valid_template_images)\n",
    "val_docked_dataset = tf.data.Dataset.from_tensor_slices(valid_docked_images)"
   ]
  },
  {
   "cell_type": "code",
   "execution_count": 43,
   "id": "c634d16a",
   "metadata": {},
   "outputs": [],
   "source": [
    "y_train = train_good['log_RMSD']\n",
    "y_train = tf.data.Dataset.from_tensor_slices(list(y_train))\n"
   ]
  },
  {
   "cell_type": "code",
   "execution_count": 44,
   "id": "6ee52781",
   "metadata": {},
   "outputs": [],
   "source": [
    "y_valid = valid_good['log_RMSD']\n",
    "y_valid = tf.data.Dataset.from_tensor_slices(list(y_train))"
   ]
  },
  {
   "cell_type": "code",
   "execution_count": 45,
   "id": "6b5e4d4e",
   "metadata": {},
   "outputs": [],
   "source": [
    "log_rmsd = [r.log_RMSD for i, r in train_good.iterrows()]\n",
    "val_log_rmsd = [r.log_RMSD for i, r in valid_good.iterrows()]"
   ]
  },
  {
   "cell_type": "code",
   "execution_count": 46,
   "id": "7b08ec95",
   "metadata": {},
   "outputs": [],
   "source": [
    "log_rmsd_dataset = tf.data.Dataset.from_tensor_slices(log_rmsd)\n",
    "val_log_rmsd_dataset = tf.data.Dataset.from_tensor_slices(val_log_rmsd)"
   ]
  },
  {
   "cell_type": "code",
   "execution_count": 47,
   "id": "5c1733bd",
   "metadata": {},
   "outputs": [
    {
     "name": "stdout",
     "output_type": "stream",
     "text": [
      "Wed Feb 23 17:08:23 2022       \r\n",
      "+-----------------------------------------------------------------------------+\r\n",
      "| NVIDIA-SMI 470.103.01   Driver Version: 470.103.01   CUDA Version: 11.4     |\r\n",
      "|-------------------------------+----------------------+----------------------+\r\n",
      "| GPU  Name        Persistence-M| Bus-Id        Disp.A | Volatile Uncorr. ECC |\r\n",
      "| Fan  Temp  Perf  Pwr:Usage/Cap|         Memory-Usage | GPU-Util  Compute M. |\r\n",
      "|                               |                      |               MIG M. |\r\n",
      "|===============================+======================+======================|\r\n",
      "|   0  NVIDIA GeForce ...  Off  | 00000000:01:00.0  On |                  N/A |\r\n",
      "|  0%   57C    P2    52W / 240W |    680MiB /  8116MiB |      0%      Default |\r\n",
      "|                               |                      |                  N/A |\r\n",
      "+-------------------------------+----------------------+----------------------+\r\n",
      "                                                                               \r\n",
      "+-----------------------------------------------------------------------------+\r\n",
      "| Processes:                                                                  |\r\n",
      "|  GPU   GI   CI        PID   Type   Process name                  GPU Memory |\r\n",
      "|        ID   ID                                                   Usage      |\r\n",
      "|=============================================================================|\r\n",
      "|    0   N/A  N/A      1009      G   /usr/lib/xorg/Xorg                188MiB |\r\n",
      "|    0   N/A  N/A      1314      G   /usr/bin/gnome-shell              113MiB |\r\n",
      "|    0   N/A  N/A      3413      G   /usr/lib/firefox/firefox          151MiB |\r\n",
      "|    0   N/A  N/A      4635      C   ...a3/envs/tf_gpu/bin/python      221MiB |\r\n",
      "+-----------------------------------------------------------------------------+\r\n"
     ]
    }
   ],
   "source": [
    "!nvidia-smi"
   ]
  },
  {
   "cell_type": "markdown",
   "id": "339e769b",
   "metadata": {},
   "source": [
    "### Create the train and validation datasets"
   ]
  },
  {
   "cell_type": "code",
   "execution_count": 48,
   "id": "17fdadb0",
   "metadata": {},
   "outputs": [
    {
     "data": {
      "text/plain": [
       "(<ZipDataset shapes: ((), (), (), ()), types: (tf.string, tf.string, tf.string, tf.float32)>,\n",
       " <ZipDataset shapes: ((), (), (), ()), types: (tf.string, tf.string, tf.string, tf.float32)>)"
      ]
     },
     "execution_count": 48,
     "metadata": {},
     "output_type": "execute_result"
    }
   ],
   "source": [
    "train_dataset = tf.data.Dataset.zip((template_dataset, docked_dataset, negative_dataset, log_rmsd_dataset)) # template as anchor\n",
    "#train_dataset = tf.data.Dataset.zip((template_dataset, docked_dataset, negative_dataset)) # template as anchor\n",
    "valid_dataset = tf.data.Dataset.zip((val_template_dataset, val_docked_dataset, val_negative_dataset, val_log_rmsd_dataset)) # template as anchor\n",
    "#valid_dataset = tf.data.Dataset.zip((val_template_dataset, val_docked_dataset, val_negative_dataset)) # template as anchor\n",
    "train_dataset, valid_dataset"
   ]
  },
  {
   "cell_type": "code",
   "execution_count": 49,
   "id": "149d4399",
   "metadata": {},
   "outputs": [
    {
     "data": {
      "text/plain": [
       "<TakeDataset shapes: ((), (), (), ()), types: (tf.string, tf.string, tf.string, tf.float32)>"
      ]
     },
     "execution_count": 49,
     "metadata": {},
     "output_type": "execute_result"
    }
   ],
   "source": [
    "train_dataset = train_dataset.take(round(image_count * 1))\n",
    "train_dataset"
   ]
  },
  {
   "cell_type": "code",
   "execution_count": 50,
   "id": "c5504d23",
   "metadata": {},
   "outputs": [
    {
     "data": {
      "text/plain": [
       "(<MapDataset shapes: ((600, 600, 3), (600, 600, 3), (600, 600, 3), ()), types: (tf.float32, tf.float32, tf.float32, tf.float32)>,\n",
       " <MapDataset shapes: ((600, 600, 3), (600, 600, 3), (600, 600, 3), ()), types: (tf.float32, tf.float32, tf.float32, tf.float32)>)"
      ]
     },
     "execution_count": 50,
     "metadata": {},
     "output_type": "execute_result"
    }
   ],
   "source": [
    "train_dataset = train_dataset.map(preprocess_triplets)\n",
    "val_dataset = valid_dataset.map(preprocess_triplets)\n",
    "train_dataset, val_dataset"
   ]
  },
  {
   "cell_type": "code",
   "execution_count": 51,
   "id": "125c0a00",
   "metadata": {},
   "outputs": [
    {
     "data": {
      "text/plain": [
       "<PrefetchDataset shapes: ((8, 600, 600, 3), (8, 600, 600, 3), (8, 600, 600, 3), (8,)), types: (tf.float32, tf.float32, tf.float32, tf.float32)>"
      ]
     },
     "execution_count": 51,
     "metadata": {},
     "output_type": "execute_result"
    }
   ],
   "source": [
    "train_dl = train_dataset.batch(8, drop_remainder=True)\n",
    "train_dl = train_dl.prefetch(8)\n",
    "train_dl"
   ]
  },
  {
   "cell_type": "code",
   "execution_count": 52,
   "id": "57f30d7b",
   "metadata": {
    "scrolled": true
   },
   "outputs": [
    {
     "data": {
      "text/plain": [
       "<PrefetchDataset shapes: ((8, 600, 600, 3), (8, 600, 600, 3), (8, 600, 600, 3), (8,)), types: (tf.float32, tf.float32, tf.float32, tf.float32)>"
      ]
     },
     "execution_count": 52,
     "metadata": {},
     "output_type": "execute_result"
    }
   ],
   "source": [
    "val_dl = val_dataset.batch(8, drop_remainder=True)\n",
    "val_dl = val_dl.prefetch(8)\n",
    "val_dl"
   ]
  },
  {
   "cell_type": "markdown",
   "id": "f4f6e468",
   "metadata": {},
   "source": [
    "## Anchor, positive and the distance between them computed by the distance layer"
   ]
  },
  {
   "cell_type": "code",
   "execution_count": 53,
   "id": "6585724f",
   "metadata": {
    "scrolled": true
   },
   "outputs": [
    {
     "data": {
      "image/png": "[encoded data removed]",
      "text/plain": [
       "<Figure size 648x648 with 12 Axes>"
      ]
     },
     "metadata": {
      "needs_background": "light"
     },
     "output_type": "display_data"
    }
   ],
   "source": [
    "def visualize(anchor, positive, negative, rmsd):\n",
    "    \"\"\"Visualize a few triplets from the supplied batches.\"\"\"\n",
    "\n",
    "    def show(ax, image):\n",
    "        ax.imshow(image)\n",
    "        ax.get_xaxis().set_visible(False)\n",
    "        ax.get_yaxis().set_visible(False)\n",
    "    \n",
    "\n",
    "    fig = plt.figure(figsize=(9, 9))\n",
    "\n",
    "    axs = fig.subplots(4, 3)\n",
    "    for i in range(0, 4, 2):\n",
    "        show(axs[i, 0], anchor[i])\n",
    "        show(axs[i + 1, 0], anchor[i])\n",
    "        show(axs[i, 1], positive[i])\n",
    "        show(axs[i + 1, 1], negative[i])\n",
    "        ap_distance = tf.reduce_sum(tf.square(anchor[i] - positive[i]), -1)\n",
    "        an_distance = tf.reduce_sum(tf.square(anchor[i] - negative[i]), -1)\n",
    "        show(axs[i, 2], ap_distance)\n",
    "        show(axs[i + 1, 2], an_distance)\n",
    "        loss = ap_distance - an_distance\n",
    "        loss = tf.maximum(loss, 0.0)\n",
    "    \n",
    "\n",
    "\n",
    "visualize(*list(val_dl.take(1).as_numpy_iterator())[0])"
   ]
  },
  {
   "cell_type": "markdown",
   "id": "7cf37acd",
   "metadata": {},
   "source": [
    "## Visualization of Anchor, Positive and the Negative image"
   ]
  },
  {
   "cell_type": "code",
   "execution_count": 54,
   "id": "f6f88431",
   "metadata": {},
   "outputs": [
    {
     "name": "stdout",
     "output_type": "stream",
     "text": [
      "1.3719418\n",
      "1.3045418\n",
      "1.3134549\n"
     ]
    },
    {
     "data": {
      "image/png": "[encoded data removed]",
      "text/plain": [
       "<Figure size 648x648 with 9 Axes>"
      ]
     },
     "metadata": {
      "needs_background": "light"
     },
     "output_type": "display_data"
    }
   ],
   "source": [
    "def visualize2(anchor, positive, negative, rmsd):\n",
    "    \"\"\"Visualize a few triplets from the supplied batches.\"\"\"\n",
    "\n",
    "    def show(ax, image):\n",
    "        ax.imshow(image)\n",
    "        ax.get_xaxis().set_visible(False)\n",
    "        ax.get_yaxis().set_visible(False)\n",
    "\n",
    "    fig = plt.figure(figsize=(9, 9))\n",
    "\n",
    "    axs = fig.subplots(3, 3)\n",
    "    for i in range(3):\n",
    "        print(rmsd[i])\n",
    "        show(axs[i, 0], anchor[i])\n",
    "        show(axs[i, 1], positive[i])\n",
    "        show(axs[i, 2], negative[i])\n",
    "\n",
    "\n",
    "visualize2(*list(val_dl.take(1).as_numpy_iterator())[0])"
   ]
  },
  {
   "cell_type": "code",
   "execution_count": 55,
   "id": "7c2bc408",
   "metadata": {},
   "outputs": [],
   "source": [
    "def visualize_positive(anchor, positive):\n",
    "    \"\"\"Visualize a few triplets from the supplied batches.\"\"\"\n",
    "\n",
    "    def show(ax, image):\n",
    "        ax.imshow(image)\n",
    "        ax.get_xaxis().set_visible(False)\n",
    "        ax.get_yaxis().set_visible(False)\n",
    "\n",
    "    fig = plt.figure(figsize=(1, 2))\n",
    "\n",
    "    axs = fig.subplots(1, 2)\n",
    "    show(axs[0, 0], anchor)\n",
    "    show(axs[0, 1], positive)"
   ]
  },
  {
   "cell_type": "markdown",
   "id": "cbb7e500",
   "metadata": {},
   "source": [
    "# Siamese network with distance layer and RMSD as adaptive margin in loss function"
   ]
  },
  {
   "cell_type": "markdown",
   "id": "dc83f252",
   "metadata": {},
   "source": [
    "### Use RMSD as an adaptive margin in loss function"
   ]
  },
  {
   "cell_type": "code",
   "execution_count": 56,
   "id": "0f36080c",
   "metadata": {},
   "outputs": [],
   "source": [
    "base_cnn = resnet.ResNet50(\n",
    "    weights=\"imagenet\", input_shape=target_shape +  (3,), include_top=False\n",
    ")\n",
    "\n",
    "flatten = layers.Flatten()(base_cnn.output)\n",
    "dense1 = layers.Dense(256, activation=\"relu\")(flatten)\n",
    "dense1 = layers.BatchNormalization()(dense1)\n",
    "dense2 = layers.Dense(128, activation=\"relu\")(dense1)\n",
    "dense2 = layers.BatchNormalization()(dense2)\n",
    "output = layers.Dense(128)(dense2)\n",
    "\n",
    "embedding = Model(base_cnn.input, output, name=\"Embedding\")\n",
    "\n",
    "trainable = False\n",
    "for layer in base_cnn.layers:\n",
    "    if layer.name == \"conv5_block1_out\":\n",
    "        trainable = True\n",
    "    layer.trainable = trainable\n"
   ]
  },
  {
   "cell_type": "code",
   "execution_count": 57,
   "id": "64817f1e",
   "metadata": {},
   "outputs": [
    {
     "name": "stdout",
     "output_type": "stream",
     "text": [
      "Wed Feb 23 17:08:27 2022       \r\n",
      "+-----------------------------------------------------------------------------+\r\n",
      "| NVIDIA-SMI 470.103.01   Driver Version: 470.103.01   CUDA Version: 11.4     |\r\n",
      "|-------------------------------+----------------------+----------------------+\r\n",
      "| GPU  Name        Persistence-M| Bus-Id        Disp.A | Volatile Uncorr. ECC |\r\n",
      "| Fan  Temp  Perf  Pwr:Usage/Cap|         Memory-Usage | GPU-Util  Compute M. |\r\n",
      "|                               |                      |               MIG M. |\r\n",
      "|===============================+======================+======================|\r\n",
      "|   0  NVIDIA GeForce ...  Off  | 00000000:01:00.0  On |                  N/A |\r\n",
      "|  0%   58C    P2    52W / 240W |   4904MiB /  8116MiB |     20%      Default |\r\n",
      "|                               |                      |                  N/A |\r\n",
      "+-------------------------------+----------------------+----------------------+\r\n",
      "                                                                               \r\n",
      "+-----------------------------------------------------------------------------+\r\n",
      "| Processes:                                                                  |\r\n",
      "|  GPU   GI   CI        PID   Type   Process name                  GPU Memory |\r\n",
      "|        ID   ID                                                   Usage      |\r\n",
      "|=============================================================================|\r\n",
      "|    0   N/A  N/A      1009      G   /usr/lib/xorg/Xorg                188MiB |\r\n",
      "|    0   N/A  N/A      1314      G   /usr/bin/gnome-shell              113MiB |\r\n",
      "|    0   N/A  N/A      3413      G   /usr/lib/firefox/firefox          151MiB |\r\n",
      "|    0   N/A  N/A      4635      C   ...a3/envs/tf_gpu/bin/python     4445MiB |\r\n",
      "+-----------------------------------------------------------------------------+\r\n"
     ]
    }
   ],
   "source": [
    "!nvidia-smi"
   ]
  },
  {
   "cell_type": "code",
   "execution_count": 58,
   "id": "e04f2720",
   "metadata": {
    "scrolled": false
   },
   "outputs": [
    {
     "name": "stdout",
     "output_type": "stream",
     "text": [
      "Model: \"model\"\n",
      "__________________________________________________________________________________________________\n",
      "Layer (type)                    Output Shape         Param #     Connected to                     \n",
      "==================================================================================================\n",
      "anchor (InputLayer)             [(None, 600, 600, 3) 0                                            \n",
      "__________________________________________________________________________________________________\n",
      "positive (InputLayer)           [(None, 600, 600, 3) 0                                            \n",
      "__________________________________________________________________________________________________\n",
      "negative (InputLayer)           [(None, 600, 600, 3) 0                                            \n",
      "__________________________________________________________________________________________________\n",
      "tf.__operators__.getitem (Slici (None, 600, 600, 3)  0           anchor[0][0]                     \n",
      "__________________________________________________________________________________________________\n",
      "tf.__operators__.getitem_1 (Sli (None, 600, 600, 3)  0           positive[0][0]                   \n",
      "__________________________________________________________________________________________________\n",
      "tf.__operators__.getitem_2 (Sli (None, 600, 600, 3)  0           negative[0][0]                   \n",
      "__________________________________________________________________________________________________\n",
      "tf.nn.bias_add (TFOpLambda)     (None, 600, 600, 3)  0           tf.__operators__.getitem[0][0]   \n",
      "__________________________________________________________________________________________________\n",
      "tf.nn.bias_add_1 (TFOpLambda)   (None, 600, 600, 3)  0           tf.__operators__.getitem_1[0][0] \n",
      "__________________________________________________________________________________________________\n",
      "tf.nn.bias_add_2 (TFOpLambda)   (None, 600, 600, 3)  0           tf.__operators__.getitem_2[0][0] \n",
      "__________________________________________________________________________________________________\n",
      "Embedding (Functional)          (None, 128)          212906880   tf.nn.bias_add[0][0]             \n",
      "                                                                 tf.nn.bias_add_1[0][0]           \n",
      "                                                                 tf.nn.bias_add_2[0][0]           \n",
      "__________________________________________________________________________________________________\n",
      "rmsd (InputLayer)               [(None, 1)]          0                                            \n",
      "__________________________________________________________________________________________________\n",
      "distance_layer (DistanceLayer)  ((None,), (None,), ( 0           Embedding[0][0]                  \n",
      "                                                                 Embedding[1][0]                  \n",
      "                                                                 Embedding[2][0]                  \n",
      "                                                                 rmsd[0][0]                       \n",
      "==================================================================================================\n",
      "Total params: 212,906,880\n",
      "Trainable params: 198,249,728\n",
      "Non-trainable params: 14,657,152\n",
      "__________________________________________________________________________________________________\n"
     ]
    }
   ],
   "source": [
    "class DistanceLayer(layers.Layer):\n",
    "    \"\"\"\n",
    "    This layer is responsible for computing the distance between the anchor\n",
    "    embedding and the positive embedding, and the anchor embedding and the\n",
    "    negative embedding.\n",
    "    \"\"\"\n",
    "\n",
    "    def __init__(self, **kwargs):\n",
    "        super().__init__(**kwargs)\n",
    "\n",
    "    def call(self, anchor, positive, negative, rmsd):\n",
    "        ap_distance = tf.reduce_sum(tf.square(anchor - positive), -1)\n",
    "        an_distance = tf.reduce_sum(tf.square(anchor - negative), -1)\n",
    "        return (ap_distance, an_distance, rmsd)\n",
    "\n",
    "\n",
    "anchor_input = layers.Input(name=\"anchor\", shape=target_shape + (3,))\n",
    "positive_input = layers.Input(name=\"positive\", shape=target_shape + (3,))\n",
    "negative_input = layers.Input(name=\"negative\", shape=target_shape + (3,))\n",
    "rmsd_input = layers.Input(name='rmsd', shape=(1))\n",
    "\n",
    "distances = DistanceLayer()(\n",
    "    embedding(resnet.preprocess_input(anchor_input)),\n",
    "    embedding(resnet.preprocess_input(positive_input)),\n",
    "    embedding(resnet.preprocess_input(negative_input)),\n",
    "    rmsd_input,\n",
    ")\n",
    "\n",
    "siamese_network = Model(\n",
    "    inputs=[anchor_input, positive_input, negative_input, rmsd_input], outputs=distances\n",
    ")\n",
    "\n",
    "siamese_network.summary()"
   ]
  },
  {
   "cell_type": "markdown",
   "id": "4e5ec250",
   "metadata": {},
   "source": [
    "### Triplet loss defined as: \n",
    "\n",
    "$$\\displaystyle {\\mathcal {L}}\\left(A,P,N\\right)=\\operatorname {max} \\left({\\|\\operatorname {f} \\left(A\\right)-\\operatorname {f} \\left(P\\right)\\|}^{2}-{\\|\\operatorname {f} \\left(A\\right)-\\operatorname {f} \\left(N\\right)\\|}^{2}+\\alpha ,0\\right)$$"
   ]
  },
  {
   "cell_type": "code",
   "execution_count": 59,
   "id": "61943aca",
   "metadata": {},
   "outputs": [],
   "source": [
    "class SiameseModel(Model):\n",
    "    \"\"\"The Siamese Network model with a custom training and testing loops.\n",
    "\n",
    "    Computes the triplet loss using the three embeddings produced by the\n",
    "    Siamese Network.\n",
    "\n",
    "    The triplet loss is defined as:\n",
    "       L(A, P, N) = max(‖f(A) - f(P)‖² - ‖f(A) - f(N)‖² + margin, 0)\n",
    "    \"\"\"\n",
    "\n",
    "    def __init__(self, siamese_network, margin=2):\n",
    "        super(SiameseModel, self).__init__()\n",
    "        self.siamese_network = siamese_network\n",
    "        self.margin = margin\n",
    "        self.loss_tracker = metrics.Mean(name=\"loss\")\n",
    "        self.rmse_tracker = metrics.RootMeanSquaredError(name=\"rmse\")\n",
    "\n",
    "    def call(self, inputs):\n",
    "        return self.siamese_network(inputs)\n",
    "\n",
    "    def train_step(self, data):\n",
    "        # GradientTape is a context manager that records every operation that\n",
    "        # you do inside. We are using it here to compute the loss so we can get\n",
    "        # the gradients and apply them using the optimizer specified in\n",
    "        # `compile()`.\n",
    "        with tf.GradientTape() as tape:\n",
    "            loss = self._compute_loss(data)\n",
    "\n",
    "        # Storing the gradients of the loss function with respect to the\n",
    "        # weights/parameters.\n",
    "        gradients = tape.gradient(loss, self.siamese_network.trainable_weights)\n",
    "\n",
    "        # Applying the gradients on the model using the specified optimizer\n",
    "        self.optimizer.apply_gradients(\n",
    "            zip(gradients, self.siamese_network.trainable_weights)\n",
    "        )\n",
    "\n",
    "        # Let's update and return the training loss metric.\n",
    "        self.loss_tracker.update_state(loss)\n",
    "        \n",
    "        return {\"loss\": self.loss_tracker.result()}\n",
    "\n",
    "    def test_step(self, data):\n",
    "        loss = self._compute_loss(data)\n",
    "        ap_distance, an_distance, rmsd = self.siamese_network(data)\n",
    "        # Let's update and return the loss metric and rmse metric.\n",
    "        self.loss_tracker.update_state(loss)\n",
    "        distance = ap_distance - an_distance\n",
    "        # RMSE (Euclidean distance) between anchor and positive image minus RMSD\n",
    "        rmse = tf.maximum(distance, 0.0)\n",
    "        self.rmse_tracker.update_state(0.0, rmse)\n",
    "        return {\"loss\": self.loss_tracker.result(), 'rmse': self.rmse_tracker.result()}\n",
    "\n",
    "    def _compute_loss(self, data):\n",
    "        # The output of the network is a tuple containing the distances\n",
    "        # between the anchor and the positive example, and the anchor and\n",
    "        # the negative example.\n",
    "        ap_distance, an_distance, rmsd = self.siamese_network(data)\n",
    "\n",
    "        # Computing the Triplet Loss by subtracting both distances and\n",
    "        # making sure we don't get a negative value.\n",
    "        loss = ap_distance - an_distance\n",
    "        loss = tf.maximum(loss + self.margin - rmsd, 0.0)\n",
    "        return loss\n",
    "\n",
    "    @property\n",
    "    def metrics(self):\n",
    "        # We need to list our metrics here so the `reset_states()` can be\n",
    "        # called automatically.\n",
    "        return [self.loss_tracker, self.rmse_tracker]\n"
   ]
  },
  {
   "cell_type": "markdown",
   "id": "c1616071",
   "metadata": {},
   "source": [
    "### Choose optimizer and train model"
   ]
  },
  {
   "cell_type": "code",
   "execution_count": 60,
   "id": "1f45a8f2",
   "metadata": {},
   "outputs": [
    {
     "name": "stdout",
     "output_type": "stream",
     "text": [
      "GPUS available 1\n"
     ]
    }
   ],
   "source": [
    "physical_device = tf.config.list_physical_devices('GPU')\n",
    "tf.config.experimental.set_memory_growth(physical_device[0], True)\n",
    "print(\"GPUS available\", len(physical_device))"
   ]
  },
  {
   "cell_type": "code",
   "execution_count": 61,
   "id": "e40f0b56",
   "metadata": {},
   "outputs": [],
   "source": [
    "siamese_model = SiameseModel(siamese_network)\n",
    "siamese_model.compile(optimizer=optimizers.Adam(0.0001), metrics=metrics.RootMeanSquaredError(name='rmse'))"
   ]
  },
  {
   "cell_type": "code",
   "execution_count": 62,
   "id": "587dcbde",
   "metadata": {},
   "outputs": [
    {
     "name": "stdout",
     "output_type": "stream",
     "text": [
      "Wed Feb 23 17:08:28 2022       \r\n",
      "+-----------------------------------------------------------------------------+\r\n",
      "| NVIDIA-SMI 470.103.01   Driver Version: 470.103.01   CUDA Version: 11.4     |\r\n",
      "|-------------------------------+----------------------+----------------------+\r\n",
      "| GPU  Name        Persistence-M| Bus-Id        Disp.A | Volatile Uncorr. ECC |\r\n",
      "| Fan  Temp  Perf  Pwr:Usage/Cap|         Memory-Usage | GPU-Util  Compute M. |\r\n",
      "|                               |                      |               MIG M. |\r\n",
      "|===============================+======================+======================|\r\n",
      "|   0  NVIDIA GeForce ...  Off  | 00000000:01:00.0  On |                  N/A |\r\n",
      "|  0%   58C    P2    52W / 240W |   4908MiB /  8116MiB |      1%      Default |\r\n",
      "|                               |                      |                  N/A |\r\n",
      "+-------------------------------+----------------------+----------------------+\r\n",
      "                                                                               \r\n",
      "+-----------------------------------------------------------------------------+\r\n",
      "| Processes:                                                                  |\r\n",
      "|  GPU   GI   CI        PID   Type   Process name                  GPU Memory |\r\n",
      "|        ID   ID                                                   Usage      |\r\n",
      "|=============================================================================|\r\n",
      "|    0   N/A  N/A      1009      G   /usr/lib/xorg/Xorg                188MiB |\r\n",
      "|    0   N/A  N/A      1314      G   /usr/bin/gnome-shell              113MiB |\r\n",
      "|    0   N/A  N/A      3413      G   /usr/lib/firefox/firefox          155MiB |\r\n",
      "|    0   N/A  N/A      4635      C   ...a3/envs/tf_gpu/bin/python     4445MiB |\r\n",
      "+-----------------------------------------------------------------------------+\r\n"
     ]
    }
   ],
   "source": [
    "!nvidia-smi"
   ]
  },
  {
   "cell_type": "code",
   "execution_count": null,
   "id": "d1ed18a4",
   "metadata": {},
   "outputs": [
    {
     "name": "stdout",
     "output_type": "stream",
     "text": [
      "Epoch 1/10\n"
     ]
    }
   ],
   "source": [
    "model = siamese_model.fit(train_dl, validation_data=val_dl, epochs=10) # save"
   ]
  },
  {
   "cell_type": "markdown",
   "id": "e8e6f774",
   "metadata": {},
   "source": [
    "### RMSE as difference between rmsd and ap - an distances"
   ]
  },
  {
   "cell_type": "code",
   "execution_count": null,
   "id": "1d8c23de",
   "metadata": {},
   "outputs": [],
   "source": [
    "model = siamese_model.fit(train_dl, validation_data=val_dl, epochs=10)"
   ]
  },
  {
   "cell_type": "code",
   "execution_count": null,
   "id": "16da6be3",
   "metadata": {},
   "outputs": [],
   "source": [
    "plt.plot(model.history['loss'])\n",
    "plt.plot(model.history['val_loss'])\n",
    "plt.title('model loss')\n",
    "plt.ylabel('loss')\n",
    "plt.xlabel('epoch')\n",
    "plt.legend(['train', 'val'], loc='upper left')\n",
    "plt.show()"
   ]
  },
  {
   "cell_type": "code",
   "execution_count": null,
   "id": "1fcae9dc",
   "metadata": {},
   "outputs": [],
   "source": []
  },
  {
   "cell_type": "markdown",
   "id": "04d07625",
   "metadata": {},
   "source": [
    "## Inspecting what the network has learned"
   ]
  },
  {
   "cell_type": "code",
   "execution_count": null,
   "id": "ea551dd8",
   "metadata": {},
   "outputs": [],
   "source": [
    "sample = next(iter(val_dl))\n",
    "visualize2(*sample)\n",
    "\n",
    "anchor, positive, negative, _ = sample\n",
    "anchor_embedding, positive_embedding, negative_embedding = (\n",
    "    embedding(resnet.preprocess_input(anchor)),\n",
    "    embedding(resnet.preprocess_input(positive)),\n",
    "    embedding(resnet.preprocess_input(negative)),\n",
    ")"
   ]
  },
  {
   "cell_type": "code",
   "execution_count": null,
   "id": "297293de",
   "metadata": {},
   "outputs": [],
   "source": [
    "cosine_similarity = metrics.CosineSimilarity()\n",
    "\n",
    "positive_similarity = cosine_similarity(anchor_embedding, positive_embedding)\n",
    "print(\"Positive similarity:\", positive_similarity.numpy())\n",
    "\n",
    "negative_similarity = cosine_similarity(anchor_embedding, negative_embedding)\n",
    "print(\"Negative similarity\", negative_similarity.numpy())\n"
   ]
  },
  {
   "cell_type": "code",
   "execution_count": null,
   "id": "731f6dd8",
   "metadata": {},
   "outputs": [],
   "source": [
    "from mpl_toolkits.mplot3d import Axes3D\n",
    "import os, sys, cv2, matplotlib.pyplot as plt, numpy as np, pickle\n",
    "#import sklearn, pandas as pd, seaborn as sn\n",
    "from tensorflow.keras.models import Model, load_model, Sequential\n",
    "from tensorflow.keras import backend as K\n",
    "from sklearn.metrics import confusion_matrix\n",
    "\n",
    "import warnings\n",
    "warnings.filterwarnings('ignore')\n",
    "\n",
    "# Load models\n",
    "#model = embedding\n",
    "model = siamese_model\n",
    "\n",
    "names = next(iter(val_dl))\n",
    "\n",
    "anchor, positive, negative, rmsd = names\n",
    "anchor = tf.reshape(anchor[0], (1, 224, 224, 3))\n",
    "positive = tf.reshape(positive[0], (1, 224, 224, 3))\n",
    "negative = tf.reshape(negative[0], (1, 224, 224, 3))\n",
    "rmsd = tf.reshape(rmsd[0], (1, 1))\n",
    "\n",
    "\n",
    "test_im = []\n",
    "test_im.append(anchor)\n",
    "test_im.append(positive)\n",
    "test_im.append(negative)\n",
    "\n",
    "print(test_im[0].shape)\n",
    "_, r,c,_ = test_im[0].shape\n",
    "print(test_im[0].shape)\n",
    "test_im = np.array(test_im)\n",
    "test_im = test_im.reshape((len(test_im), r,c,3))\n",
    "\n",
    "test_im = 1 - test_im/255\n",
    "\n",
    "# Predict\n",
    "pred = model.predict([anchor, positive, negative, rmsd])\n",
    "\n",
    "print(pred)\n",
    "\n",
    "num = int(pred.shape[0]/3)\n",
    "colors = ['red', 'blue', 'green'] # set colors of target labels\n",
    "\n",
    "# Set target labels\n",
    "y = [colors[0] for i in range(num)]\n",
    "y += [colors[1] for i in range(num)]\n",
    "y += [colors[2] for i in range(num)]\n",
    "\n",
    "feat1 = pred[:,0]\n",
    "feat2 = pred[:,1]\n",
    "feat3 = pred[:,2]\n",
    "\n",
    "# Plot 3d scatter plot\n",
    "fig = plt.figure()\n",
    "ax = Axes3D(fig)\n",
    "ax.scatter(feat1, feat2, feat3, c=y, marker='.')\n",
    "plt.show()"
   ]
  },
  {
   "cell_type": "markdown",
   "id": "f54dcd02",
   "metadata": {},
   "source": [
    "# Parameter optimization "
   ]
  },
  {
   "cell_type": "code",
   "execution_count": null,
   "id": "ffc59a15",
   "metadata": {},
   "outputs": [],
   "source": [
    "def create_embedding(dropout = None):\n",
    "    base_cnn = resnet.ResNet50(\n",
    "        weights=\"imagenet\", input_shape=target_shape +  (3,), include_top=False\n",
    "    )\n",
    "\n",
    "    flatten = layers.Flatten()(base_cnn.output)\n",
    "    dense1 = layers.Dense(512, activation=\"relu\")(flatten)\n",
    "    dense1 = layers.BatchNormalization()(dense1)\n",
    "    if dropout != None: \n",
    "        layer = layers.Dropout(dropout)\n",
    "    dense2 = layers.Dense(256, activation=\"relu\")(dense1)\n",
    "    dense2 = layers.BatchNormalization()(dense2)\n",
    "    output = layers.Dense(256)(dense2)\n",
    "\n",
    "    embedding = Model(base_cnn.input, output, name=\"Embedding\")\n",
    "\n",
    "    trainable = False\n",
    "    for layer in base_cnn.layers:\n",
    "        if layer.name == \"conv5_block1_out\":\n",
    "            trainable = True\n",
    "        layer.trainable = trainable\n",
    "    return embedding"
   ]
  },
  {
   "cell_type": "code",
   "execution_count": null,
   "id": "5854fc56",
   "metadata": {},
   "outputs": [],
   "source": [
    "def create_siamese_net(embedding):\n",
    "    anchor_input = layers.Input(name=\"anchor\", shape=target_shape + (3,))\n",
    "    positive_input = layers.Input(name=\"positive\", shape=target_shape + (3,))\n",
    "    negative_input = layers.Input(name=\"negative\", shape=target_shape + (3,))\n",
    "\n",
    "    distances = DistanceLayer()(\n",
    "        embedding(resnet.preprocess_input(anchor_input)),\n",
    "        embedding(resnet.preprocess_input(positive_input)),\n",
    "        embedding(resnet.preprocess_input(negative_input)),\n",
    "    )\n",
    "\n",
    "    siamese_network = Model(\n",
    "        inputs=[anchor_input, positive_input, negative_input], outputs=distances\n",
    "    )\n",
    "\n",
    "    return siamese_network"
   ]
  },
  {
   "cell_type": "code",
   "execution_count": null,
   "id": "a5bb9634",
   "metadata": {},
   "outputs": [],
   "source": [
    "def train_model(epochs = 5, lr=0.0001, dropout=None, verbose=False):\n",
    "    embedding = create_embedding(dropout=dropout)\n",
    "    siamese_network = create_siamese_net(embedding)\n",
    "    siamese_model = SiameseModel(siamese_network)\n",
    "    siamese_model.compile(optimizer=optimizers.Adam(learning_rate=lr), metrics=[metrics.RootMeanSquaredError(name='rmse')])\n",
    "    model = siamese_model.fit(train_dl, validation_data=val_dl, epochs=epochs)\n",
    "    if verbose:\n",
    "        plt.plot(model.history['loss'])\n",
    "        plt.plot(model.history['val_loss'])\n",
    "        plt.title('model loss')\n",
    "        plt.ylabel('loss')\n",
    "        plt.xlabel('epoch')\n",
    "        plt.legend(['train', 'val'], loc='upper left')\n",
    "        plt.show()\n",
    "        plt.plot(model.history['val_rmse'])\n",
    "        plt.title('model RMSE')\n",
    "        plt.ylabel('RMSE')\n",
    "        plt.xlabel('epoch')\n",
    "        plt.legend(['rmse'], loc='upper left')\n",
    "        plt.show()\n",
    "    return siamese_model\n",
    "        \n",
    "    "
   ]
  },
  {
   "cell_type": "markdown",
   "id": "e4ad8258",
   "metadata": {},
   "source": [
    "# Save the model"
   ]
  },
  {
   "cell_type": "code",
   "execution_count": null,
   "id": "0851c70f",
   "metadata": {},
   "outputs": [],
   "source": [
    "from tensorflow.keras import models"
   ]
  },
  {
   "cell_type": "code",
   "execution_count": null,
   "id": "9e6f1398",
   "metadata": {},
   "outputs": [],
   "source": [
    "model.compute_output_shape(input_shape= [(None, 600, 600, 3), (None, 600, 600, 3), (None, 600, 600, 3), (None, 1)])                        "
   ]
  },
  {
   "cell_type": "code",
   "execution_count": null,
   "id": "7444ab7f",
   "metadata": {},
   "outputs": [],
   "source": [
    "model.save('models/siamese_model_envs.h5')"
   ]
  },
  {
   "cell_type": "code",
   "execution_count": null,
   "id": "4b814891",
   "metadata": {},
   "outputs": [],
   "source": [
    "model = models.load_model('models/siamese_model')"
   ]
  },
  {
   "cell_type": "markdown",
   "id": "ba4f22e8",
   "metadata": {},
   "source": [
    "# Test the model performance on instances"
   ]
  },
  {
   "cell_type": "code",
   "execution_count": null,
   "id": "59d0ff31",
   "metadata": {},
   "outputs": [],
   "source": [
    "sample = next(iter(val_dl))"
   ]
  },
  {
   "cell_type": "code",
   "execution_count": null,
   "id": "adedcf86",
   "metadata": {},
   "outputs": [],
   "source": [
    "docked_sample = valid.iloc[0]\n",
    "docked_sample.docked"
   ]
  },
  {
   "cell_type": "code",
   "execution_count": null,
   "id": "22c17baf",
   "metadata": {},
   "outputs": [],
   "source": [
    "docked_image = preprocess_image(docked_sample.img_docked)"
   ]
  },
  {
   "cell_type": "markdown",
   "id": "847adea9",
   "metadata": {},
   "source": [
    "### Sort the templates for one docked molecule by order of lowest rmsd"
   ]
  },
  {
   "cell_type": "code",
   "execution_count": null,
   "id": "5d6bbc2a",
   "metadata": {
    "scrolled": true
   },
   "outputs": [],
   "source": [
    "templates = valid[valid.docked == docked_sample.docked]\n",
    "templates = templates.reset_index()\n",
    "templates = templates.sort_values(by=['rmsd'], ignore_index=True)\n",
    "templates"
   ]
  },
  {
   "cell_type": "code",
   "execution_count": null,
   "id": "1f2cb69c",
   "metadata": {},
   "outputs": [],
   "source": [
    "template_image = preprocess_image(templates.iloc[0].img_temp)"
   ]
  },
  {
   "cell_type": "code",
   "execution_count": null,
   "id": "1cd4f7fc",
   "metadata": {},
   "outputs": [],
   "source": [
    "print('Show docked molecule')\n",
    "plt.imshow(docked_image)"
   ]
  },
  {
   "cell_type": "code",
   "execution_count": null,
   "id": "e87c3fb0",
   "metadata": {},
   "outputs": [],
   "source": [
    "print('Show lowest rmsd template molecule')\n",
    "plt.imshow(template_image)"
   ]
  },
  {
   "cell_type": "code",
   "execution_count": null,
   "id": "e5ab7356",
   "metadata": {},
   "outputs": [],
   "source": [
    "rmsds = templates.log_RMSD\n",
    "rmsds"
   ]
  },
  {
   "cell_type": "code",
   "execution_count": null,
   "id": "b3bf8639",
   "metadata": {},
   "outputs": [],
   "source": [
    "# Root Mean Squared Error\n",
    "rmse = metrics.RootMeanSquaredError()"
   ]
  },
  {
   "cell_type": "code",
   "execution_count": null,
   "id": "446b35af",
   "metadata": {},
   "outputs": [],
   "source": [
    "# Similarity search\n",
    "similarity = metrics.CosineSimilarity()"
   ]
  },
  {
   "cell_type": "code",
   "execution_count": null,
   "id": "f7ec2ab4",
   "metadata": {},
   "outputs": [],
   "source": [
    "tf_template = tf.reshape(template_image, (1,600,600,3))"
   ]
  },
  {
   "cell_type": "code",
   "execution_count": null,
   "id": "cfb19602",
   "metadata": {},
   "outputs": [],
   "source": [
    "tf_docked = tf.reshape(docked_image, (1,600,600,3))"
   ]
  },
  {
   "cell_type": "code",
   "execution_count": null,
   "id": "b7b0399f",
   "metadata": {},
   "outputs": [],
   "source": [
    "template_embedding, docked_embedding = (\n",
    "    embedding(resnet.preprocess_input(tf_template)),\n",
    "    embedding(resnet.preprocess_input(tf_docked)),\n",
    ")"
   ]
  },
  {
   "cell_type": "code",
   "execution_count": null,
   "id": "46e93760",
   "metadata": {},
   "outputs": [],
   "source": [
    "rmse_positive = rmse(template_embedding, docked_embedding)\n",
    "rmse_positive.numpy(), templates.iloc[0].log_RMSD"
   ]
  },
  {
   "cell_type": "code",
   "execution_count": null,
   "id": "b1793d38",
   "metadata": {},
   "outputs": [],
   "source": [
    "type(rmse_positive.numpy())"
   ]
  },
  {
   "cell_type": "code",
   "execution_count": null,
   "id": "ce8de2ec",
   "metadata": {},
   "outputs": [],
   "source": [
    "def get_rmse(row):\n",
    "    # Checks the embedding space for two inputs and return the rmse\n",
    "    docked_image = preprocess_image(row.img_docked)\n",
    "    template_image = preprocess_image(row.img_temp)\n",
    "    template_image = tf.reshape(template_image, (1,600,600,3))\n",
    "    docked_image = tf.reshape(docked_image, (1,600,600,3))\n",
    "    template_embedding, docked_embedding = (\n",
    "        embedding(resnet.preprocess_input(template_image)),\n",
    "        embedding(resnet.preprocess_input(docked_image)),\n",
    "    )\n",
    "    rmse_positive = rmse(template_embedding, docked_embedding)\n",
    "    return rmse_positive.numpy()"
   ]
  },
  {
   "cell_type": "markdown",
   "id": "710806da",
   "metadata": {},
   "source": [
    "### Order ranked by rmse"
   ]
  },
  {
   "cell_type": "code",
   "execution_count": null,
   "id": "7fb3218d",
   "metadata": {
    "scrolled": true
   },
   "outputs": [],
   "source": [
    "rmses = {}\n",
    "for i, r in templates.iterrows(): \n",
    "    rm = get_rmse(r)\n",
    "    rmses[i] = rm\n",
    "rmses"
   ]
  },
  {
   "cell_type": "markdown",
   "id": "10d0028a",
   "metadata": {},
   "source": [
    "### Order according to the model"
   ]
  },
  {
   "cell_type": "code",
   "execution_count": null,
   "id": "3aa84f82",
   "metadata": {},
   "outputs": [],
   "source": [
    "rmses_sorted = sorted(rmses, key=rmses.get)\n",
    "rmses_sorted"
   ]
  },
  {
   "cell_type": "code",
   "execution_count": null,
   "id": "35a4c176",
   "metadata": {
    "scrolled": true
   },
   "outputs": [],
   "source": [
    "min(rmses.values())"
   ]
  },
  {
   "cell_type": "code",
   "execution_count": null,
   "id": "2a63d1ed",
   "metadata": {},
   "outputs": [],
   "source": [
    "from scipy.stats import pearsonr"
   ]
  },
  {
   "cell_type": "code",
   "execution_count": null,
   "id": "c700b554",
   "metadata": {},
   "outputs": [],
   "source": [
    "df1 = pd.DataFrame(rmsds)\n",
    "df1"
   ]
  },
  {
   "cell_type": "code",
   "execution_count": null,
   "id": "c18981e0",
   "metadata": {},
   "outputs": [],
   "source": [
    "df2 = pd.DataFrame.from_dict(rmses, orient='index')\n",
    "df2 = df2.rename(columns={0:'rmse'})\n",
    "df2"
   ]
  },
  {
   "cell_type": "code",
   "execution_count": null,
   "id": "7fc3208e",
   "metadata": {
    "scrolled": true
   },
   "outputs": [],
   "source": [
    "df_full = pd.concat([df1, df2], axis=1 , ignore_index=False)\n",
    "df_full"
   ]
  },
  {
   "cell_type": "markdown",
   "id": "5c84029c",
   "metadata": {},
   "source": [
    "### Correlation values"
   ]
  },
  {
   "cell_type": "code",
   "execution_count": null,
   "id": "d227983c",
   "metadata": {},
   "outputs": [],
   "source": [
    "full_correlation = pearsonr(df_full['rmse'], df_full['log_RMSD'])\n",
    "print('Correlation coeffiecient', full_correlation[0])\n",
    "print('P-value: ', full_correlation[1])"
   ]
  },
  {
   "cell_type": "markdown",
   "id": "5bb62a40",
   "metadata": {},
   "source": [
    "### Scatter plot"
   ]
  },
  {
   "cell_type": "code",
   "execution_count": null,
   "id": "1f5f3672",
   "metadata": {},
   "outputs": [],
   "source": []
  }
 ],
 "metadata": {
  "kernelspec": {
   "display_name": "Python 3 (ipykernel)",
   "language": "python",
   "name": "python3"
  },
  "language_info": {
   "codemirror_mode": {
    "name": "ipython",
    "version": 3
   },
   "file_extension": ".py",
   "mimetype": "text/x-python",
   "name": "python",
   "nbconvert_exporter": "python",
   "pygments_lexer": "ipython3",
   "version": "3.9.7"
  },
  "toc-autonumbering": false,
  "toc-showcode": true,
  "toc-showmarkdowntxt": true
 },
 "nbformat": 4,
 "nbformat_minor": 5
}
