{
 "cells": [
  {
   "cell_type": "markdown",
   "metadata": {},
   "source": [
    "# Random Forest models"
   ]
  },
  {
   "cell_type": "markdown",
   "metadata": {},
   "source": [
    "## DATASETS:\n",
    "(a) Carbonic Anhydrase II (ChEMBL205), a protein lyase,  \n",
    "(b) Cyclin-dependent kinase 2 (CHEMBL301), a protein kinase,  \n",
    "(c) ether-a-go-go-related gene potassium channel 1 (HERG) (CHEMBL240), a voltage-gated ion channel,  \n",
    "(d) Dopamine D4 receptor (CHEMBL219), a monoamine GPCR,  \n",
    "(e) Coagulation factor X (CHEMBL244), a serine protease,  \n",
    "(f) Cannabinoid CB1 receptor (CHEMBL218), a lipid-like GPCR and  \n",
    "(g) Cytochrome P450 19A1 (CHEMBL1978), a cytochrome P450.  \n",
    "The activity classes were selected based on data availability and as representatives of therapeutically important target classes or as anti-targets."
   ]
  },
  {
   "cell_type": "code",
   "execution_count": 4,
   "metadata": {},
   "outputs": [
    {
     "name": "stdout",
     "output_type": "stream",
     "text": [
      "Tue Apr 26 14:25:51 2022       \n",
      "+-----------------------------------------------------------------------------+\n",
      "| NVIDIA-SMI 450.172.01   Driver Version: 450.172.01   CUDA Version: 11.0     |\n",
      "|-------------------------------+----------------------+----------------------+\n",
      "| GPU  Name        Persistence-M| Bus-Id        Disp.A | Volatile Uncorr. ECC |\n",
      "| Fan  Temp  Perf  Pwr:Usage/Cap|         Memory-Usage | GPU-Util  Compute M. |\n",
      "|                               |                      |               MIG M. |\n",
      "|===============================+======================+======================|\n",
      "|   0  Tesla V100-DGXS...  On   | 00000000:07:00.0 Off |                    0 |\n",
      "| N/A   36C    P0    53W / 300W |   2449MiB / 32505MiB |      0%      Default |\n",
      "|                               |                      |                  N/A |\n",
      "+-------------------------------+----------------------+----------------------+\n",
      "|   1  Tesla V100-DGXS...  On   | 00000000:08:00.0 Off |                    0 |\n",
      "| N/A   37C    P0    38W / 300W |      9MiB / 32508MiB |      0%      Default |\n",
      "|                               |                      |                  N/A |\n",
      "+-------------------------------+----------------------+----------------------+\n",
      "|   2  Tesla V100-DGXS...  On   | 00000000:0E:00.0 Off |                    0 |\n",
      "| N/A   37C    P0    37W / 300W |      9MiB / 32508MiB |      0%      Default |\n",
      "|                               |                      |                  N/A |\n",
      "+-------------------------------+----------------------+----------------------+\n",
      "|   3  Tesla V100-DGXS...  On   | 00000000:0F:00.0 Off |                    0 |\n",
      "| N/A   38C    P0    37W / 300W |      9MiB / 32508MiB |      0%      Default |\n",
      "|                               |                      |                  N/A |\n",
      "+-------------------------------+----------------------+----------------------+\n",
      "                                                                               \n",
      "+-----------------------------------------------------------------------------+\n",
      "| Processes:                                                                  |\n",
      "|  GPU   GI   CI        PID   Type   Process name                  GPU Memory |\n",
      "|        ID   ID                                                   Usage      |\n",
      "|=============================================================================|\n",
      "|    0   N/A  N/A      2917      G   /usr/lib/xorg/Xorg                 86MiB |\n",
      "|    0   N/A  N/A      3284      G   /usr/bin/gnome-shell               16MiB |\n",
      "|    0   N/A  N/A    201800      C   ...vs/fastai-drug/bin/python     2341MiB |\n",
      "|    1   N/A  N/A      2917      G   /usr/lib/xorg/Xorg                  4MiB |\n",
      "|    2   N/A  N/A      2917      G   /usr/lib/xorg/Xorg                  4MiB |\n",
      "|    3   N/A  N/A      2917      G   /usr/lib/xorg/Xorg                  4MiB |\n",
      "+-----------------------------------------------------------------------------+\n"
     ]
    }
   ],
   "source": [
    "!nvidia-smi"
   ]
  },
  {
   "cell_type": "code",
   "execution_count": 5,
   "metadata": {},
   "outputs": [],
   "source": [
    "# Import\n",
    "import pandas as pd\n",
    "import numpy as np\n",
    "from pathlib import Path"
   ]
  },
  {
   "cell_type": "code",
   "execution_count": 6,
   "metadata": {},
   "outputs": [
    {
     "name": "stderr",
     "output_type": "stream",
     "text": [
      "RDKit WARNING: [14:25:52] Enabling RDKit 2019.09.3 jupyter extensions\n",
      "[14:25:52] Enabling RDKit 2019.09.3 jupyter extensions\n"
     ]
    }
   ],
   "source": [
    "from rdkit import Chem\n",
    "from rdkit.Chem import AllChem"
   ]
  },
  {
   "cell_type": "code",
   "execution_count": 7,
   "metadata": {},
   "outputs": [],
   "source": [
    "path = Path('../dataset/13321_2017_226_MOESM1_ESM/')\n",
    "#df = pd.read_csv('../dataset/13321_2017_226_MOESM1_ESM/CHEMBL205_cl.csv', index_col=0)"
   ]
  },
  {
   "cell_type": "code",
   "execution_count": 8,
   "metadata": {
    "scrolled": true
   },
   "outputs": [
    {
     "data": {
      "text/plain": [
       "[PosixPath('../dataset/13321_2017_226_MOESM1_ESM/mol_images'),\n",
       " PosixPath('../dataset/13321_2017_226_MOESM1_ESM/CHEMBL218'),\n",
       " PosixPath('../dataset/13321_2017_226_MOESM1_ESM/CHEMBL219'),\n",
       " PosixPath('../dataset/13321_2017_226_MOESM1_ESM/CHEMBL240'),\n",
       " PosixPath('../dataset/13321_2017_226_MOESM1_ESM/CHEMBL244'),\n",
       " PosixPath('../dataset/13321_2017_226_MOESM1_ESM/CHEMBL301'),\n",
       " PosixPath('../dataset/13321_2017_226_MOESM1_ESM/CHEMBL205'),\n",
       " PosixPath('../dataset/13321_2017_226_MOESM1_ESM/CHEMBL1978')]"
      ]
     },
     "execution_count": 8,
     "metadata": {},
     "output_type": "execute_result"
    }
   ],
   "source": [
    "#df.head()\n",
    "list(path.iterdir())"
   ]
  },
  {
   "cell_type": "markdown",
   "metadata": {},
   "source": [
    "# Run the functions on a file from dataset and store the results"
   ]
  },
  {
   "cell_type": "code",
   "execution_count": 9,
   "metadata": {},
   "outputs": [],
   "source": [
    "dataset='CHEMBL205'"
   ]
  },
  {
   "cell_type": "code",
   "execution_count": 10,
   "metadata": {},
   "outputs": [],
   "source": [
    "df = pd.read_csv(path/f'{dataset}/{dataset}_ecfp_1024_train_valid.csv')"
   ]
  },
  {
   "cell_type": "code",
   "execution_count": 11,
   "metadata": {},
   "outputs": [
    {
     "data": {
      "text/html": [
       "<div>\n",
       "<style scoped>\n",
       "    .dataframe tbody tr th:only-of-type {\n",
       "        vertical-align: middle;\n",
       "    }\n",
       "\n",
       "    .dataframe tbody tr th {\n",
       "        vertical-align: top;\n",
       "    }\n",
       "\n",
       "    .dataframe thead th {\n",
       "        text-align: right;\n",
       "    }\n",
       "</style>\n",
       "<table border=\"1\" class=\"dataframe\">\n",
       "  <thead>\n",
       "    <tr style=\"text-align: right;\">\n",
       "      <th></th>\n",
       "      <th>CID</th>\n",
       "      <th>SMILES</th>\n",
       "      <th>ECFP4_1</th>\n",
       "      <th>ECFP4_2</th>\n",
       "      <th>ECFP4_3</th>\n",
       "      <th>ECFP4_4</th>\n",
       "      <th>ECFP4_5</th>\n",
       "      <th>ECFP4_6</th>\n",
       "      <th>ECFP4_7</th>\n",
       "      <th>ECFP4_8</th>\n",
       "      <th>...</th>\n",
       "      <th>ECFP4_1017</th>\n",
       "      <th>ECFP4_1018</th>\n",
       "      <th>ECFP4_1019</th>\n",
       "      <th>ECFP4_1020</th>\n",
       "      <th>ECFP4_1021</th>\n",
       "      <th>ECFP4_1022</th>\n",
       "      <th>ECFP4_1023</th>\n",
       "      <th>ECFP4_1024</th>\n",
       "      <th>Activity</th>\n",
       "      <th>is_valid</th>\n",
       "    </tr>\n",
       "  </thead>\n",
       "  <tbody>\n",
       "    <tr>\n",
       "      <th>0</th>\n",
       "      <td>CHEMBL1589687</td>\n",
       "      <td>S1c2n(ncn2)C(O)=C1C([NH+]1CCc2c(C1)cccc2)c1ccc...</td>\n",
       "      <td>0</td>\n",
       "      <td>1</td>\n",
       "      <td>0</td>\n",
       "      <td>0</td>\n",
       "      <td>0</td>\n",
       "      <td>0</td>\n",
       "      <td>0</td>\n",
       "      <td>0</td>\n",
       "      <td>...</td>\n",
       "      <td>0</td>\n",
       "      <td>0</td>\n",
       "      <td>0</td>\n",
       "      <td>0</td>\n",
       "      <td>0</td>\n",
       "      <td>0</td>\n",
       "      <td>0</td>\n",
       "      <td>0</td>\n",
       "      <td>0</td>\n",
       "      <td>False</td>\n",
       "    </tr>\n",
       "    <tr>\n",
       "      <th>1</th>\n",
       "      <td>CHEMBL3092937</td>\n",
       "      <td>S(=O)(=O)(N)c1cc(ccc1)-c1nnn(c1)C1OC(COC(=O)C)...</td>\n",
       "      <td>0</td>\n",
       "      <td>0</td>\n",
       "      <td>0</td>\n",
       "      <td>0</td>\n",
       "      <td>0</td>\n",
       "      <td>0</td>\n",
       "      <td>0</td>\n",
       "      <td>0</td>\n",
       "      <td>...</td>\n",
       "      <td>0</td>\n",
       "      <td>1</td>\n",
       "      <td>0</td>\n",
       "      <td>1</td>\n",
       "      <td>0</td>\n",
       "      <td>0</td>\n",
       "      <td>0</td>\n",
       "      <td>0</td>\n",
       "      <td>1</td>\n",
       "      <td>False</td>\n",
       "    </tr>\n",
       "    <tr>\n",
       "      <th>2</th>\n",
       "      <td>CHEMBL325684</td>\n",
       "      <td>O=C1N(Cc2ccc(cc2)-c2ccccc2C(=O)[O-])C(=NC12CC2...</td>\n",
       "      <td>0</td>\n",
       "      <td>0</td>\n",
       "      <td>0</td>\n",
       "      <td>0</td>\n",
       "      <td>0</td>\n",
       "      <td>0</td>\n",
       "      <td>0</td>\n",
       "      <td>0</td>\n",
       "      <td>...</td>\n",
       "      <td>0</td>\n",
       "      <td>0</td>\n",
       "      <td>0</td>\n",
       "      <td>0</td>\n",
       "      <td>0</td>\n",
       "      <td>0</td>\n",
       "      <td>0</td>\n",
       "      <td>0</td>\n",
       "      <td>0</td>\n",
       "      <td>False</td>\n",
       "    </tr>\n",
       "    <tr>\n",
       "      <th>3</th>\n",
       "      <td>CHEMBL488713</td>\n",
       "      <td>Fc1cc(F)c(F)cc1CC([NH3+])CC(=O)N1N=CCC1C(=O)Nc...</td>\n",
       "      <td>0</td>\n",
       "      <td>1</td>\n",
       "      <td>0</td>\n",
       "      <td>0</td>\n",
       "      <td>0</td>\n",
       "      <td>0</td>\n",
       "      <td>0</td>\n",
       "      <td>0</td>\n",
       "      <td>...</td>\n",
       "      <td>0</td>\n",
       "      <td>0</td>\n",
       "      <td>0</td>\n",
       "      <td>1</td>\n",
       "      <td>0</td>\n",
       "      <td>0</td>\n",
       "      <td>0</td>\n",
       "      <td>0</td>\n",
       "      <td>0</td>\n",
       "      <td>False</td>\n",
       "    </tr>\n",
       "    <tr>\n",
       "      <th>4</th>\n",
       "      <td>CHEMBL2069846</td>\n",
       "      <td>Fc1cc(F)c(F)cc1CC([NH3+])CC(=O)N1CCN(CC1)C(=O)...</td>\n",
       "      <td>0</td>\n",
       "      <td>1</td>\n",
       "      <td>0</td>\n",
       "      <td>0</td>\n",
       "      <td>0</td>\n",
       "      <td>0</td>\n",
       "      <td>0</td>\n",
       "      <td>0</td>\n",
       "      <td>...</td>\n",
       "      <td>0</td>\n",
       "      <td>0</td>\n",
       "      <td>0</td>\n",
       "      <td>0</td>\n",
       "      <td>0</td>\n",
       "      <td>0</td>\n",
       "      <td>0</td>\n",
       "      <td>0</td>\n",
       "      <td>0</td>\n",
       "      <td>False</td>\n",
       "    </tr>\n",
       "  </tbody>\n",
       "</table>\n",
       "<p>5 rows × 1028 columns</p>\n",
       "</div>"
      ],
      "text/plain": [
       "             CID                                             SMILES  ECFP4_1  \\\n",
       "0  CHEMBL1589687  S1c2n(ncn2)C(O)=C1C([NH+]1CCc2c(C1)cccc2)c1ccc...        0   \n",
       "1  CHEMBL3092937  S(=O)(=O)(N)c1cc(ccc1)-c1nnn(c1)C1OC(COC(=O)C)...        0   \n",
       "2   CHEMBL325684  O=C1N(Cc2ccc(cc2)-c2ccccc2C(=O)[O-])C(=NC12CC2...        0   \n",
       "3   CHEMBL488713  Fc1cc(F)c(F)cc1CC([NH3+])CC(=O)N1N=CCC1C(=O)Nc...        0   \n",
       "4  CHEMBL2069846  Fc1cc(F)c(F)cc1CC([NH3+])CC(=O)N1CCN(CC1)C(=O)...        0   \n",
       "\n",
       "   ECFP4_2  ECFP4_3  ECFP4_4  ECFP4_5  ECFP4_6  ECFP4_7  ECFP4_8  ...  \\\n",
       "0        1        0        0        0        0        0        0  ...   \n",
       "1        0        0        0        0        0        0        0  ...   \n",
       "2        0        0        0        0        0        0        0  ...   \n",
       "3        1        0        0        0        0        0        0  ...   \n",
       "4        1        0        0        0        0        0        0  ...   \n",
       "\n",
       "   ECFP4_1017  ECFP4_1018  ECFP4_1019  ECFP4_1020  ECFP4_1021  ECFP4_1022  \\\n",
       "0           0           0           0           0           0           0   \n",
       "1           0           1           0           1           0           0   \n",
       "2           0           0           0           0           0           0   \n",
       "3           0           0           0           1           0           0   \n",
       "4           0           0           0           0           0           0   \n",
       "\n",
       "   ECFP4_1023  ECFP4_1024  Activity  is_valid  \n",
       "0           0           0         0     False  \n",
       "1           0           0         1     False  \n",
       "2           0           0         0     False  \n",
       "3           0           0         0     False  \n",
       "4           0           0         0     False  \n",
       "\n",
       "[5 rows x 1028 columns]"
      ]
     },
     "execution_count": 11,
     "metadata": {},
     "output_type": "execute_result"
    }
   ],
   "source": [
    "df.head()"
   ]
  },
  {
   "cell_type": "markdown",
   "metadata": {},
   "source": [
    "# Split data"
   ]
  },
  {
   "cell_type": "code",
   "execution_count": 12,
   "metadata": {},
   "outputs": [],
   "source": [
    "# Split into X,y\n",
    "X, y = df.drop([\"CID\", \"SMILES\", \"Activity\", 'is_valid'], axis=1), df[\"Activity\"]"
   ]
  },
  {
   "cell_type": "code",
   "execution_count": 13,
   "metadata": {},
   "outputs": [
    {
     "name": "stdout",
     "output_type": "stream",
     "text": [
      "<class 'pandas.core.frame.DataFrame'>\n",
      "RangeIndex: 10764 entries, 0 to 10763\n",
      "Columns: 1024 entries, ECFP4_1 to ECFP4_1024\n",
      "dtypes: int64(1024)\n",
      "memory usage: 84.1 MB\n"
     ]
    }
   ],
   "source": [
    "# check info of dataframe\n",
    "X.info()"
   ]
  },
  {
   "cell_type": "code",
   "execution_count": 14,
   "metadata": {},
   "outputs": [
    {
     "data": {
      "text/html": [
       "<div>\n",
       "<style scoped>\n",
       "    .dataframe tbody tr th:only-of-type {\n",
       "        vertical-align: middle;\n",
       "    }\n",
       "\n",
       "    .dataframe tbody tr th {\n",
       "        vertical-align: top;\n",
       "    }\n",
       "\n",
       "    .dataframe thead th {\n",
       "        text-align: right;\n",
       "    }\n",
       "</style>\n",
       "<table border=\"1\" class=\"dataframe\">\n",
       "  <thead>\n",
       "    <tr style=\"text-align: right;\">\n",
       "      <th></th>\n",
       "      <th>ECFP4_1</th>\n",
       "      <th>ECFP4_2</th>\n",
       "      <th>ECFP4_3</th>\n",
       "      <th>ECFP4_4</th>\n",
       "      <th>ECFP4_5</th>\n",
       "      <th>ECFP4_6</th>\n",
       "      <th>ECFP4_7</th>\n",
       "      <th>ECFP4_8</th>\n",
       "      <th>ECFP4_9</th>\n",
       "      <th>ECFP4_10</th>\n",
       "      <th>...</th>\n",
       "      <th>ECFP4_1015</th>\n",
       "      <th>ECFP4_1016</th>\n",
       "      <th>ECFP4_1017</th>\n",
       "      <th>ECFP4_1018</th>\n",
       "      <th>ECFP4_1019</th>\n",
       "      <th>ECFP4_1020</th>\n",
       "      <th>ECFP4_1021</th>\n",
       "      <th>ECFP4_1022</th>\n",
       "      <th>ECFP4_1023</th>\n",
       "      <th>ECFP4_1024</th>\n",
       "    </tr>\n",
       "  </thead>\n",
       "  <tbody>\n",
       "    <tr>\n",
       "      <th>0</th>\n",
       "      <td>0</td>\n",
       "      <td>1</td>\n",
       "      <td>0</td>\n",
       "      <td>0</td>\n",
       "      <td>0</td>\n",
       "      <td>0</td>\n",
       "      <td>0</td>\n",
       "      <td>0</td>\n",
       "      <td>0</td>\n",
       "      <td>0</td>\n",
       "      <td>...</td>\n",
       "      <td>1</td>\n",
       "      <td>0</td>\n",
       "      <td>0</td>\n",
       "      <td>0</td>\n",
       "      <td>0</td>\n",
       "      <td>0</td>\n",
       "      <td>0</td>\n",
       "      <td>0</td>\n",
       "      <td>0</td>\n",
       "      <td>0</td>\n",
       "    </tr>\n",
       "    <tr>\n",
       "      <th>1</th>\n",
       "      <td>0</td>\n",
       "      <td>0</td>\n",
       "      <td>0</td>\n",
       "      <td>0</td>\n",
       "      <td>0</td>\n",
       "      <td>0</td>\n",
       "      <td>0</td>\n",
       "      <td>0</td>\n",
       "      <td>0</td>\n",
       "      <td>0</td>\n",
       "      <td>...</td>\n",
       "      <td>0</td>\n",
       "      <td>0</td>\n",
       "      <td>0</td>\n",
       "      <td>1</td>\n",
       "      <td>0</td>\n",
       "      <td>1</td>\n",
       "      <td>0</td>\n",
       "      <td>0</td>\n",
       "      <td>0</td>\n",
       "      <td>0</td>\n",
       "    </tr>\n",
       "    <tr>\n",
       "      <th>2</th>\n",
       "      <td>0</td>\n",
       "      <td>0</td>\n",
       "      <td>0</td>\n",
       "      <td>0</td>\n",
       "      <td>0</td>\n",
       "      <td>0</td>\n",
       "      <td>0</td>\n",
       "      <td>0</td>\n",
       "      <td>0</td>\n",
       "      <td>0</td>\n",
       "      <td>...</td>\n",
       "      <td>0</td>\n",
       "      <td>0</td>\n",
       "      <td>0</td>\n",
       "      <td>0</td>\n",
       "      <td>0</td>\n",
       "      <td>0</td>\n",
       "      <td>0</td>\n",
       "      <td>0</td>\n",
       "      <td>0</td>\n",
       "      <td>0</td>\n",
       "    </tr>\n",
       "    <tr>\n",
       "      <th>3</th>\n",
       "      <td>0</td>\n",
       "      <td>1</td>\n",
       "      <td>0</td>\n",
       "      <td>0</td>\n",
       "      <td>0</td>\n",
       "      <td>0</td>\n",
       "      <td>0</td>\n",
       "      <td>0</td>\n",
       "      <td>0</td>\n",
       "      <td>0</td>\n",
       "      <td>...</td>\n",
       "      <td>0</td>\n",
       "      <td>0</td>\n",
       "      <td>0</td>\n",
       "      <td>0</td>\n",
       "      <td>0</td>\n",
       "      <td>1</td>\n",
       "      <td>0</td>\n",
       "      <td>0</td>\n",
       "      <td>0</td>\n",
       "      <td>0</td>\n",
       "    </tr>\n",
       "    <tr>\n",
       "      <th>4</th>\n",
       "      <td>0</td>\n",
       "      <td>1</td>\n",
       "      <td>0</td>\n",
       "      <td>0</td>\n",
       "      <td>0</td>\n",
       "      <td>0</td>\n",
       "      <td>0</td>\n",
       "      <td>0</td>\n",
       "      <td>0</td>\n",
       "      <td>0</td>\n",
       "      <td>...</td>\n",
       "      <td>0</td>\n",
       "      <td>0</td>\n",
       "      <td>0</td>\n",
       "      <td>0</td>\n",
       "      <td>0</td>\n",
       "      <td>0</td>\n",
       "      <td>0</td>\n",
       "      <td>0</td>\n",
       "      <td>0</td>\n",
       "      <td>0</td>\n",
       "    </tr>\n",
       "  </tbody>\n",
       "</table>\n",
       "<p>5 rows × 1024 columns</p>\n",
       "</div>"
      ],
      "text/plain": [
       "   ECFP4_1  ECFP4_2  ECFP4_3  ECFP4_4  ECFP4_5  ECFP4_6  ECFP4_7  ECFP4_8  \\\n",
       "0        0        1        0        0        0        0        0        0   \n",
       "1        0        0        0        0        0        0        0        0   \n",
       "2        0        0        0        0        0        0        0        0   \n",
       "3        0        1        0        0        0        0        0        0   \n",
       "4        0        1        0        0        0        0        0        0   \n",
       "\n",
       "   ECFP4_9  ECFP4_10  ...  ECFP4_1015  ECFP4_1016  ECFP4_1017  ECFP4_1018  \\\n",
       "0        0         0  ...           1           0           0           0   \n",
       "1        0         0  ...           0           0           0           1   \n",
       "2        0         0  ...           0           0           0           0   \n",
       "3        0         0  ...           0           0           0           0   \n",
       "4        0         0  ...           0           0           0           0   \n",
       "\n",
       "   ECFP4_1019  ECFP4_1020  ECFP4_1021  ECFP4_1022  ECFP4_1023  ECFP4_1024  \n",
       "0           0           0           0           0           0           0  \n",
       "1           0           1           0           0           0           0  \n",
       "2           0           0           0           0           0           0  \n",
       "3           0           1           0           0           0           0  \n",
       "4           0           0           0           0           0           0  \n",
       "\n",
       "[5 rows x 1024 columns]"
      ]
     },
     "execution_count": 14,
     "metadata": {},
     "output_type": "execute_result"
    }
   ],
   "source": [
    "X.head()"
   ]
  },
  {
   "cell_type": "code",
   "execution_count": 15,
   "metadata": {},
   "outputs": [
    {
     "data": {
      "text/plain": [
       "(0    0\n",
       " 1    1\n",
       " 2    0\n",
       " 3    0\n",
       " 4    0\n",
       " Name: Activity, dtype: int64,\n",
       " 10764,\n",
       " pandas.core.series.Series)"
      ]
     },
     "execution_count": 15,
     "metadata": {},
     "output_type": "execute_result"
    }
   ],
   "source": [
    "# y is a pandas series\n",
    "y.head(), y.size, type(y)"
   ]
  },
  {
   "cell_type": "markdown",
   "metadata": {},
   "source": [
    "# Train test split"
   ]
  },
  {
   "cell_type": "code",
   "execution_count": 16,
   "metadata": {},
   "outputs": [],
   "source": [
    "from sklearn.model_selection import train_test_split, KFold"
   ]
  },
  {
   "cell_type": "code",
   "execution_count": 17,
   "metadata": {},
   "outputs": [],
   "source": [
    "# regular train/test split\n",
    "X_train, X_test, y_train, y_test = train_test_split(X, y, test_size=0.2, random_state=666)"
   ]
  },
  {
   "cell_type": "markdown",
   "metadata": {},
   "source": [
    "# 5-Fold Cross Validation"
   ]
  },
  {
   "cell_type": "code",
   "execution_count": 18,
   "metadata": {},
   "outputs": [],
   "source": [
    "#5-fold\n",
    "kf = KFold(n_splits=5, shuffle=True, random_state=999)"
   ]
  },
  {
   "cell_type": "code",
   "execution_count": 19,
   "metadata": {},
   "outputs": [],
   "source": [
    "# append to a list / could write to csv file to keep integrity\n",
    "X_train_list, X_valid_list, y_train_list, y_valid_list = [], [], [], []\n",
    "\n",
    "for train_index, valid_index in kf.split(X_train):\n",
    "    X_train_list.append(X_train.iloc[train_index])\n",
    "    X_valid_list.append(X_train.iloc[valid_index])\n",
    "    y_train_list.append(y_train.iloc[train_index])\n",
    "    y_valid_list.append(y_train.iloc[valid_index]) "
   ]
  },
  {
   "cell_type": "code",
   "execution_count": 20,
   "metadata": {},
   "outputs": [
    {
     "data": {
      "text/plain": [
       "8760    0\n",
       "18      1\n",
       "2813    0\n",
       "6590    0\n",
       "969     0\n",
       "Name: Activity, dtype: int64"
      ]
     },
     "execution_count": 20,
     "metadata": {},
     "output_type": "execute_result"
    }
   ],
   "source": [
    "y_train_list[0].head()"
   ]
  },
  {
   "cell_type": "code",
   "execution_count": 21,
   "metadata": {},
   "outputs": [
    {
     "name": "stdout",
     "output_type": "stream",
     "text": [
      "<class 'pandas.core.frame.DataFrame'>\n",
      "Int64Index: 6889 entries, 8760 to 6380\n",
      "Columns: 1024 entries, ECFP4_1 to ECFP4_1024\n",
      "dtypes: int64(1024)\n",
      "memory usage: 53.9 MB\n"
     ]
    }
   ],
   "source": [
    "X_train_list[1].info()"
   ]
  },
  {
   "cell_type": "code",
   "execution_count": 22,
   "metadata": {},
   "outputs": [],
   "source": [
    "# TODO: add splits to csv file"
   ]
  },
  {
   "cell_type": "markdown",
   "metadata": {},
   "source": [
    "# SVC"
   ]
  },
  {
   "cell_type": "code",
   "execution_count": 24,
   "metadata": {},
   "outputs": [],
   "source": [
    "from sklearn.svm import SVC"
   ]
  },
  {
   "cell_type": "code",
   "execution_count": 25,
   "metadata": {},
   "outputs": [],
   "source": [
    "from sklearn.metrics import auc,roc_auc_score,recall_score,precision_score,f1_score\n",
    "from  sklearn.metrics import matthews_corrcoef\n",
    "from sklearn.metrics import accuracy_score"
   ]
  },
  {
   "cell_type": "code",
   "execution_count": 34,
   "metadata": {},
   "outputs": [],
   "source": [
    "# train method for Random Forest\n",
    "def train_svm(X_train, X_test, y_train, y_test, cost=1, kern='linear'):\n",
    "\n",
    "    \n",
    "    svm = SVC(C=cost, kernel=kern, degree=3, shrinking=True, probability=True, tol=0.001, \n",
    "              cache_size=200, verbose=True, max_iter=-1, random_state=None)\n",
    "    \n",
    "    svm.fit(X_train,y_train)\n",
    "    y_pred= svm.predict(X_test)\n",
    "    y_pred_prob=svm.predict_proba(X_test)\n",
    "    \n",
    "    temp=[]\n",
    "    for j in range(len(y_pred_prob)):\n",
    "        temp.append(y_pred_prob[j][1])\n",
    "    auc=roc_auc_score(np.array(y_test),np.array(temp))\n",
    "    acc2=accuracy_score(y_test,y_pred)\n",
    "    mcc=matthews_corrcoef(y_test,y_pred)\n",
    "    Recall=recall_score(y_test, y_pred,pos_label=1)\n",
    "    Precision=precision_score(y_test, y_pred,pos_label=1)\n",
    "    F1_score=f1_score(y_test, y_pred,pos_label=1)\n",
    "\n",
    "    return auc,acc2,mcc,Recall,Precision,F1_score, svm"
   ]
  },
  {
   "cell_type": "code",
   "execution_count": 35,
   "metadata": {},
   "outputs": [],
   "source": [
    "def train_on_dataset(dataset):\n",
    "    \n",
    "    print(f'Training on dataset: {dataset}')\n",
    "    \n",
    "    df = pd.read_csv(path/f'{dataset}/{dataset}_ecfp_1024_train_valid.csv')\n",
    "    X, y = df.drop([\"CID\", \"SMILES\", \"Activity\", 'is_valid'], axis=1), df[\"Activity\"]\n",
    "    X_train, X_test, y_train, y_test = train_test_split(X, y, test_size=0.4, random_state=666)\n",
    "    kf = KFold(n_splits=5, shuffle=True, random_state=999)\n",
    "    X_train_list, X_valid_list, y_train_list, y_valid_list = [], [], [], []\n",
    "\n",
    "    for train_index, valid_index in kf.split(X_train):\n",
    "        X_train_list.append(X_train.iloc[train_index])\n",
    "        X_valid_list.append(X_train.iloc[valid_index])\n",
    "        y_train_list.append(y_train.iloc[train_index])\n",
    "        y_valid_list.append(y_train.iloc[valid_index]) \n",
    "    aucs, accs, mccs, recalls, precs, f1_scores = [], [], [], [], [], []\n",
    "    for i in range(0,5):\n",
    "        X_train = X_train_list[i]\n",
    "        X_valid = X_valid_list[i]\n",
    "        y_train = y_train_list[i]\n",
    "        y_valid = y_valid_list[i]\n",
    "        auc,acc2,mcc,Recall,Precision,F1_score, svm = train_svm(X_train, X_valid, y_train, y_valid)\n",
    "          \n",
    "        mccs.append(mcc)\n",
    "        aucs.append(auc)\n",
    "        accs.append(acc2)\n",
    "        mccs.append(mcc)\n",
    "        recalls.append(Recall)\n",
    "        precs.append(Precision)\n",
    "        f1_scores.append(F1_score)\n",
    "        \n",
    "    print(f\"Average ROCAUC of the folds: {np.mean(aucs)}\")\n",
    "    print(f\"Average accuracy of the folds: {np.mean(accs)}\")\n",
    "    print(f\"Average Matthews correlation of the folds: {np.mean(mccs)}\")\n",
    "    print(f\"Average recall of the folds: {np.mean(recalls)}\")\n",
    "    print(f\"Average precision of the folds: {np.mean(precs)}\")\n",
    "    print(f\"Average f1 score of the folds: {np.mean(f1_scores)}\")\n",
    "    print()\n",
    "    score = []\n",
    "    score.append(np.mean(aucs))\n",
    "    score.append(np.mean(accs))\n",
    "    score.append(np.mean(mccs))\n",
    "    score.append(np.mean(recalls))\n",
    "    score.append(np.mean(precs))\n",
    "    score.append(np.mean(f1_scores))\n",
    "    score = np.mean(score)\n",
    "    mean_mcc = np.mean(mccs)\n",
    "    return score, mean_mcc, svm"
   ]
  },
  {
   "cell_type": "code",
   "execution_count": 36,
   "metadata": {},
   "outputs": [
    {
     "name": "stdout",
     "output_type": "stream",
     "text": [
      "Training on dataset: CHEMBL205\n",
      "[LibSVM].....*....*\n",
      "optimization finished, #iter = 9315\n",
      "obj = -62.854469, rho = -0.457068\n",
      "nSV = 524, nBSV = 15\n",
      "Total nSV = 524\n",
      "......*...*\n",
      "optimization finished, #iter = 9688\n",
      "obj = -62.109719, rho = -0.655050\n",
      "nSV = 528, nBSV = 12\n",
      "Total nSV = 528\n",
      ".....*....*.*\n",
      "optimization finished, #iter = 9347\n",
      "obj = -58.162893, rho = -0.687911\n",
      "nSV = 506, nBSV = 16\n",
      "Total nSV = 506\n",
      ".....*...*\n",
      "optimization finished, #iter = 8572\n",
      "obj = -52.703721, rho = -0.972076\n",
      "nSV = 516, nBSV = 13\n",
      "Total nSV = 516\n",
      ".....*...*\n",
      "optimization finished, #iter = 8505\n",
      "obj = -49.960418, rho = -0.353565\n",
      "nSV = 485, nBSV = 9\n",
      "Total nSV = 485\n",
      "........*.....*\n",
      "optimization finished, #iter = 13353\n",
      "obj = -85.505738, rho = 0.612364\n",
      "nSV = 574, nBSV = 30\n",
      "Total nSV = 574\n",
      "[LibSVM]....*...*\n",
      "optimization finished, #iter = 7770\n",
      "obj = -50.321161, rho = -0.323727\n",
      "nSV = 480, nBSV = 14\n",
      "Total nSV = 480\n",
      "....*...*\n",
      "optimization finished, #iter = 7574\n",
      "obj = -50.938960, rho = -0.601549\n",
      "nSV = 487, nBSV = 14\n",
      "Total nSV = 487\n",
      "....*...*\n",
      "optimization finished, #iter = 7662\n",
      "obj = -52.165532, rho = -0.187256\n",
      "nSV = 495, nBSV = 13\n",
      "Total nSV = 495\n",
      ".....*...*\n",
      "optimization finished, #iter = 8479\n",
      "obj = -55.103414, rho = 0.248313\n",
      "nSV = 494, nBSV = 12\n",
      "Total nSV = 494\n",
      "......*...*\n",
      "optimization finished, #iter = 9470\n",
      "obj = -57.229679, rho = -0.249959\n",
      "nSV = 506, nBSV = 16\n",
      "Total nSV = 506\n",
      ".......*....*\n",
      "optimization finished, #iter = 11746\n",
      "obj = -80.232511, rho = -0.027326\n",
      "nSV = 560, nBSV = 27\n",
      "Total nSV = 560\n",
      "[LibSVM].....*....*\n",
      "optimization finished, #iter = 9293\n",
      "obj = -65.243671, rho = -0.210857\n",
      "nSV = 515, nBSV = 19\n",
      "Total nSV = 515\n",
      "......*....*\n",
      "optimization finished, #iter = 10036\n",
      "obj = -56.850978, rho = -0.738401\n",
      "nSV = 526, nBSV = 14\n",
      "Total nSV = 526\n",
      ".....*...*\n",
      "optimization finished, #iter = 8264\n",
      "obj = -52.565711, rho = -0.639055\n",
      "nSV = 499, nBSV = 15\n",
      "Total nSV = 499\n",
      ".....*....*\n",
      "optimization finished, #iter = 9618\n",
      "obj = -56.941986, rho = -0.319977\n",
      "nSV = 533, nBSV = 16\n",
      "Total nSV = 533\n",
      ".....*....*\n",
      "optimization finished, #iter = 9709\n",
      "obj = -53.460951, rho = -0.568521\n",
      "nSV = 524, nBSV = 12\n",
      "Total nSV = 524\n",
      "........*......*\n",
      "optimization finished, #iter = 14141\n",
      "obj = -84.784039, rho = 0.419868\n",
      "nSV = 601, nBSV = 27\n",
      "Total nSV = 601\n",
      "[LibSVM].....*....*\n",
      "optimization finished, #iter = 9716\n",
      "obj = -59.879896, rho = -0.459545\n",
      "nSV = 544, nBSV = 14\n",
      "Total nSV = 544\n",
      "......*....*\n",
      "optimization finished, #iter = 10988\n",
      "obj = -62.243720, rho = -0.562933\n",
      "nSV = 543, nBSV = 20\n",
      "Total nSV = 543\n",
      ".....*....*\n",
      "optimization finished, #iter = 9387\n",
      "obj = -55.655686, rho = -0.250031\n",
      "nSV = 519, nBSV = 18\n",
      "Total nSV = 519\n",
      "......*....*\n",
      "optimization finished, #iter = 10623\n",
      "obj = -56.744874, rho = -0.334543\n",
      "nSV = 536, nBSV = 15\n",
      "Total nSV = 536\n",
      "....*....*.*\n",
      "optimization finished, #iter = 8543\n",
      "obj = -46.793543, rho = -0.563518\n",
      "nSV = 490, nBSV = 11\n",
      "Total nSV = 490\n",
      ".........*.......*\n",
      "optimization finished, #iter = 16783\n",
      "obj = -83.298862, rho = 0.560487\n",
      "nSV = 616, nBSV = 27\n",
      "Total nSV = 616\n",
      "[LibSVM]......*....*\n",
      "optimization finished, #iter = 10637\n",
      "obj = -58.186119, rho = -0.320641\n",
      "nSV = 524, nBSV = 10\n",
      "Total nSV = 524\n",
      ".....*...*\n",
      "optimization finished, #iter = 8310\n",
      "obj = -50.996600, rho = -0.442127\n",
      "nSV = 509, nBSV = 7\n",
      "Total nSV = 509\n",
      ".....*....*\n",
      "optimization finished, #iter = 9260\n",
      "obj = -51.699977, rho = -0.045011\n",
      "nSV = 507, nBSV = 7\n",
      "Total nSV = 507\n",
      "......*....*\n",
      "optimization finished, #iter = 10349\n",
      "obj = -51.854170, rho = -0.522768\n",
      "nSV = 513, nBSV = 7\n",
      "Total nSV = 513\n",
      ".....*....*\n",
      "optimization finished, #iter = 9874\n",
      "obj = -53.886449, rho = 0.112303\n",
      "nSV = 516, nBSV = 10\n",
      "Total nSV = 516\n",
      "........*......*\n",
      "optimization finished, #iter = 14770\n",
      "obj = -79.380355, rho = 0.178724\n",
      "nSV = 597, nBSV = 22\n",
      "Total nSV = 597\n",
      "Average ROCAUC of the folds: 0.9667083353548964\n",
      "Average accuracy of the folds: 0.9512257999534764\n",
      "Average Matthews correlation of the folds: 0.7201425019350717\n",
      "Average recall of the folds: 0.780655102275998\n",
      "Average precision of the folds: 0.7162153101136152\n",
      "Average f1 score of the folds: 0.7448809115650394\n",
      "\n"
     ]
    }
   ],
   "source": [
    "_, _, svm = train_on_dataset(dataset)"
   ]
  },
  {
   "cell_type": "markdown",
   "metadata": {},
   "source": [
    "# Test"
   ]
  },
  {
   "cell_type": "code",
   "execution_count": 37,
   "metadata": {},
   "outputs": [
    {
     "name": "stdout",
     "output_type": "stream",
     "text": [
      "<class 'pandas.core.frame.DataFrame'>\n",
      "RangeIndex: 3589 entries, 0 to 3588\n",
      "Columns: 1027 entries, CID to Activity\n",
      "dtypes: int64(1025), object(2)\n",
      "memory usage: 28.1+ MB\n"
     ]
    }
   ],
   "source": [
    "df_test = pd.read_csv(path/f'{dataset}/{dataset}_ecfp_1024_test1.csv')\n",
    "df_test.info()"
   ]
  },
  {
   "cell_type": "code",
   "execution_count": 38,
   "metadata": {},
   "outputs": [],
   "source": [
    "# Split into X,y\n",
    "X, y = df_test.drop([\"CID\", \"SMILES\", \"Activity\"], axis=1), df_test[\"Activity\"]"
   ]
  },
  {
   "cell_type": "code",
   "execution_count": 40,
   "metadata": {},
   "outputs": [
    {
     "data": {
      "text/plain": [
       "3589"
      ]
     },
     "execution_count": 40,
     "metadata": {},
     "output_type": "execute_result"
    }
   ],
   "source": [
    "y_pred= svm.predict(X)\n",
    "len(y_pred)"
   ]
  },
  {
   "cell_type": "code",
   "execution_count": 41,
   "metadata": {},
   "outputs": [
    {
     "data": {
      "text/plain": [
       "array([[9.99975146e-01, 2.48538045e-05],\n",
       "       [9.90211842e-01, 9.78815796e-03],\n",
       "       [9.45116426e-01, 5.48835735e-02],\n",
       "       ...,\n",
       "       [9.99494813e-01, 5.05187016e-04],\n",
       "       [2.02364386e-02, 9.79763561e-01],\n",
       "       [9.90595261e-01, 9.40473924e-03]])"
      ]
     },
     "execution_count": 41,
     "metadata": {},
     "output_type": "execute_result"
    }
   ],
   "source": [
    "y_pred_prob=svm.predict_proba(X)\n",
    "y_pred_prob"
   ]
  },
  {
   "cell_type": "code",
   "execution_count": 42,
   "metadata": {},
   "outputs": [
    {
     "data": {
      "text/html": [
       "<div>\n",
       "<style scoped>\n",
       "    .dataframe tbody tr th:only-of-type {\n",
       "        vertical-align: middle;\n",
       "    }\n",
       "\n",
       "    .dataframe tbody tr th {\n",
       "        vertical-align: top;\n",
       "    }\n",
       "\n",
       "    .dataframe thead th {\n",
       "        text-align: right;\n",
       "    }\n",
       "</style>\n",
       "<table border=\"1\" class=\"dataframe\">\n",
       "  <thead>\n",
       "    <tr style=\"text-align: right;\">\n",
       "      <th></th>\n",
       "      <th>class</th>\n",
       "      <th>predictions</th>\n",
       "    </tr>\n",
       "  </thead>\n",
       "  <tbody>\n",
       "    <tr>\n",
       "      <th>0</th>\n",
       "      <td>0</td>\n",
       "      <td>[0.9999751461955029, 2.485380449699628e-05]</td>\n",
       "    </tr>\n",
       "    <tr>\n",
       "      <th>1</th>\n",
       "      <td>0</td>\n",
       "      <td>[0.9902118420358993, 0.009788157964100711]</td>\n",
       "    </tr>\n",
       "    <tr>\n",
       "      <th>2</th>\n",
       "      <td>0</td>\n",
       "      <td>[0.945116426485229, 0.05488357351477098]</td>\n",
       "    </tr>\n",
       "    <tr>\n",
       "      <th>3</th>\n",
       "      <td>0</td>\n",
       "      <td>[0.999606827121969, 0.00039317287803097145]</td>\n",
       "    </tr>\n",
       "    <tr>\n",
       "      <th>4</th>\n",
       "      <td>1</td>\n",
       "      <td>[0.004347499404470977, 0.995652500595529]</td>\n",
       "    </tr>\n",
       "  </tbody>\n",
       "</table>\n",
       "</div>"
      ],
      "text/plain": [
       "   class                                  predictions\n",
       "0      0  [0.9999751461955029, 2.485380449699628e-05]\n",
       "1      0   [0.9902118420358993, 0.009788157964100711]\n",
       "2      0     [0.945116426485229, 0.05488357351477098]\n",
       "3      0  [0.999606827121969, 0.00039317287803097145]\n",
       "4      1    [0.004347499404470977, 0.995652500595529]"
      ]
     },
     "execution_count": 42,
     "metadata": {},
     "output_type": "execute_result"
    }
   ],
   "source": [
    "preds = pd.DataFrame()\n",
    "preds['class'] = y\n",
    "preds['predictions'] = list(y_pred_prob)\n",
    "preds\n",
    "preds.head()"
   ]
  },
  {
   "cell_type": "code",
   "execution_count": 43,
   "metadata": {},
   "outputs": [
    {
     "name": "stdout",
     "output_type": "stream",
     "text": [
      "<class 'pandas.core.frame.DataFrame'>\n",
      "RangeIndex: 3589 entries, 0 to 3588\n",
      "Data columns (total 2 columns):\n",
      " #   Column       Non-Null Count  Dtype \n",
      "---  ------       --------------  ----- \n",
      " 0   class        3589 non-null   int64 \n",
      " 1   predictions  3589 non-null   object\n",
      "dtypes: int64(1), object(1)\n",
      "memory usage: 56.2+ KB\n"
     ]
    }
   ],
   "source": [
    "preds.info()"
   ]
  },
  {
   "cell_type": "code",
   "execution_count": 44,
   "metadata": {},
   "outputs": [
    {
     "name": "stdout",
     "output_type": "stream",
     "text": [
      "<class 'pandas.core.frame.DataFrame'>\n",
      "RangeIndex: 3588 entries, 0 to 3587\n",
      "Data columns (total 2 columns):\n",
      " #   Column       Non-Null Count  Dtype \n",
      "---  ------       --------------  ----- \n",
      " 0   class        3588 non-null   int64 \n",
      " 1   predictions  3588 non-null   object\n",
      "dtypes: int64(1), object(1)\n",
      "memory usage: 56.2+ KB\n"
     ]
    }
   ],
   "source": [
    "preds = preds[0:-1]\n",
    "preds.info()"
   ]
  },
  {
   "cell_type": "code",
   "execution_count": 45,
   "metadata": {},
   "outputs": [],
   "source": [
    "preds.to_csv(path/f'{dataset}/{dataset}_predictions_SVM.csv', index=False)"
   ]
  },
  {
   "cell_type": "code",
   "execution_count": null,
   "metadata": {},
   "outputs": [],
   "source": []
  }
 ],
 "metadata": {
  "kernelspec": {
   "display_name": "Python 3 (ipykernel)",
   "language": "python",
   "name": "python3"
  },
  "language_info": {
   "codemirror_mode": {
    "name": "ipython",
    "version": 3
   },
   "file_extension": ".py",
   "mimetype": "text/x-python",
   "name": "python",
   "nbconvert_exporter": "python",
   "pygments_lexer": "ipython3",
   "version": "3.7.11"
  }
 },
 "nbformat": 4,
 "nbformat_minor": 4
}
